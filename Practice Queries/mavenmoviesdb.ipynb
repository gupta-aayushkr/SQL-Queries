{
    "metadata": {
        "kernelspec": {
            "name": "SQL",
            "display_name": "SQL",
            "language": "sql"
        },
        "language_info": {
            "name": "sql",
            "version": ""
        }
    },
    "nbformat_minor": 2,
    "nbformat": 4,
    "cells": [
        {
            "cell_type": "code",
            "source": [
                "use mavenmovies"
            ],
            "metadata": {
                "azdata_cell_guid": "3dc067f7-5e38-4c54-9351-265d2a02f22d",
                "language": "sql"
            },
            "outputs": [
                {
                    "output_type": "display_data",
                    "data": {
                        "text/html": "Commands completed successfully"
                    },
                    "metadata": {}
                },
                {
                    "output_type": "display_data",
                    "data": {
                        "text/html": "Total execution time: 00:00:00.001"
                    },
                    "metadata": {}
                }
            ],
            "execution_count": 1
        },
        {
            "cell_type": "code",
            "source": [
                "show tables"
            ],
            "metadata": {
                "azdata_cell_guid": "59bb27ac-bd1b-4afa-bbc2-c6e0a9ea5675",
                "language": "sql"
            },
            "outputs": [
                {
                    "output_type": "display_data",
                    "data": {
                        "text/html": "(26 row(s) affected)"
                    },
                    "metadata": {}
                },
                {
                    "output_type": "display_data",
                    "data": {
                        "text/html": "Total execution time: 00:00:01.012"
                    },
                    "metadata": {}
                },
                {
                    "output_type": "execute_result",
                    "metadata": {},
                    "execution_count": 2,
                    "data": {
                        "application/vnd.dataresource+json": {
                            "schema": {
                                "fields": [
                                    {
                                        "name": "Tables_in_mavenmovies"
                                    }
                                ]
                            },
                            "data": [
                                {
                                    "Tables_in_mavenmovies": "actor"
                                },
                                {
                                    "Tables_in_mavenmovies": "actor_award"
                                },
                                {
                                    "Tables_in_mavenmovies": "actor_info"
                                },
                                {
                                    "Tables_in_mavenmovies": "address"
                                },
                                {
                                    "Tables_in_mavenmovies": "advisor"
                                },
                                {
                                    "Tables_in_mavenmovies": "category"
                                },
                                {
                                    "Tables_in_mavenmovies": "city"
                                },
                                {
                                    "Tables_in_mavenmovies": "country"
                                },
                                {
                                    "Tables_in_mavenmovies": "customer"
                                },
                                {
                                    "Tables_in_mavenmovies": "customer_list"
                                },
                                {
                                    "Tables_in_mavenmovies": "film"
                                },
                                {
                                    "Tables_in_mavenmovies": "film_actor"
                                },
                                {
                                    "Tables_in_mavenmovies": "film_category"
                                },
                                {
                                    "Tables_in_mavenmovies": "film_list"
                                },
                                {
                                    "Tables_in_mavenmovies": "film_text"
                                },
                                {
                                    "Tables_in_mavenmovies": "inventory"
                                },
                                {
                                    "Tables_in_mavenmovies": "investor"
                                },
                                {
                                    "Tables_in_mavenmovies": "language"
                                },
                                {
                                    "Tables_in_mavenmovies": "nicer_but_slower_film_list"
                                },
                                {
                                    "Tables_in_mavenmovies": "payment"
                                },
                                {
                                    "Tables_in_mavenmovies": "rental"
                                },
                                {
                                    "Tables_in_mavenmovies": "sales_by_film_category"
                                },
                                {
                                    "Tables_in_mavenmovies": "sales_by_store"
                                },
                                {
                                    "Tables_in_mavenmovies": "staff"
                                },
                                {
                                    "Tables_in_mavenmovies": "staff_list"
                                },
                                {
                                    "Tables_in_mavenmovies": "store"
                                }
                            ]
                        },
                        "text/html": [
                            "<table>",
                            "<tr><th>Tables_in_mavenmovies</th></tr>",
                            "<tr><td>actor</td></tr>",
                            "<tr><td>actor_award</td></tr>",
                            "<tr><td>actor_info</td></tr>",
                            "<tr><td>address</td></tr>",
                            "<tr><td>advisor</td></tr>",
                            "<tr><td>category</td></tr>",
                            "<tr><td>city</td></tr>",
                            "<tr><td>country</td></tr>",
                            "<tr><td>customer</td></tr>",
                            "<tr><td>customer_list</td></tr>",
                            "<tr><td>film</td></tr>",
                            "<tr><td>film_actor</td></tr>",
                            "<tr><td>film_category</td></tr>",
                            "<tr><td>film_list</td></tr>",
                            "<tr><td>film_text</td></tr>",
                            "<tr><td>inventory</td></tr>",
                            "<tr><td>investor</td></tr>",
                            "<tr><td>language</td></tr>",
                            "<tr><td>nicer_but_slower_film_list</td></tr>",
                            "<tr><td>payment</td></tr>",
                            "<tr><td>rental</td></tr>",
                            "<tr><td>sales_by_film_category</td></tr>",
                            "<tr><td>sales_by_store</td></tr>",
                            "<tr><td>staff</td></tr>",
                            "<tr><td>staff_list</td></tr>",
                            "<tr><td>store</td></tr>",
                            "</table>"
                        ]
                    }
                }
            ],
            "execution_count": 2
        },
        {
            "cell_type": "code",
            "source": [
                "-- first name and city\n",
                "select first_name, city from customer\n",
                "join address on customer.address_id = address.address_id\n",
                "join city on address.city_id = city.city_id\n",
                "limit 10"
            ],
            "metadata": {
                "azdata_cell_guid": "07835d34-f35f-4e89-846c-0cb490f82da7",
                "language": "sql",
                "tags": []
            },
            "outputs": [
                {
                    "output_type": "display_data",
                    "data": {
                        "text/html": "(10 row(s) affected)"
                    },
                    "metadata": {}
                },
                {
                    "output_type": "display_data",
                    "data": {
                        "text/html": "Total execution time: 00:00:01.004"
                    },
                    "metadata": {}
                },
                {
                    "output_type": "execute_result",
                    "metadata": {},
                    "execution_count": 10,
                    "data": {
                        "application/vnd.dataresource+json": {
                            "schema": {
                                "fields": [
                                    {
                                        "name": "first_name"
                                    },
                                    {
                                        "name": "city"
                                    }
                                ]
                            },
                            "data": [
                                {
                                    "first_name": "JULIE",
                                    "city": "A Corua (La Corua)"
                                },
                                {
                                    "first_name": "PEGGY",
                                    "city": "Abha"
                                },
                                {
                                    "first_name": "TOM",
                                    "city": "Abu Dhabi"
                                },
                                {
                                    "first_name": "GLEN",
                                    "city": "Acua"
                                },
                                {
                                    "first_name": "LARRY",
                                    "city": "Adana"
                                },
                                {
                                    "first_name": "SEAN",
                                    "city": "Addis Abeba"
                                },
                                {
                                    "first_name": "ELLA",
                                    "city": "Aden"
                                },
                                {
                                    "first_name": "ADAM",
                                    "city": "Adoni"
                                },
                                {
                                    "first_name": "SHERRI",
                                    "city": "Ahmadnagar"
                                },
                                {
                                    "first_name": "JULIAN",
                                    "city": "Akishima"
                                }
                            ]
                        },
                        "text/html": [
                            "<table>",
                            "<tr><th>first_name</th><th>city</th></tr>",
                            "<tr><td>JULIE</td><td>A Corua (La Corua)</td></tr>",
                            "<tr><td>PEGGY</td><td>Abha</td></tr>",
                            "<tr><td>TOM</td><td>Abu Dhabi</td></tr>",
                            "<tr><td>GLEN</td><td>Acua</td></tr>",
                            "<tr><td>LARRY</td><td>Adana</td></tr>",
                            "<tr><td>SEAN</td><td>Addis Abeba</td></tr>",
                            "<tr><td>ELLA</td><td>Aden</td></tr>",
                            "<tr><td>ADAM</td><td>Adoni</td></tr>",
                            "<tr><td>SHERRI</td><td>Ahmadnagar</td></tr>",
                            "<tr><td>JULIAN</td><td>Akishima</td></tr>",
                            "</table>"
                        ]
                    }
                }
            ],
            "execution_count": 10
        },
        {
            "cell_type": "code",
            "source": [
                "-- list of customers first names and their city names whose name starts with a\n",
                "select first_name, city from customer\n",
                "join address on customer.address_id = address.address_id\n",
                "join city on address.city_id = city.city_id\n",
                "where first_name like 'a%'\n",
                "limit 10"
            ],
            "metadata": {
                "azdata_cell_guid": "65361d1b-4181-4f3b-9117-3b4b08af30b8",
                "language": "sql"
            },
            "outputs": [
{
    "output_type": "display_data",
    "data": {
        "text/html": "(10 row(s) affected)"
    },
    "metadata": {}
}, {
    "output_type": "display_data",
    "data": {
        "text/html": "Total execution time: 00:00:01.006"
    },
    "metadata": {}
}, {
    "output_type": "execute_result",
    "metadata": {},
    "execution_count": 34,
    "data": {
        "application/vnd.dataresource+json": {
            "schema": {
                "fields": [
                    {
                        "name": "first_name"
                    },
                    {
                        "name": "city"
                    }
                ]
            },
            "data": [
                {
                    "first_name": "ANGELA",
                    "city": "Shimonoseki"
                },
                {
                    "first_name": "AMY",
                    "city": "Jhansi"
                },
                {
                    "first_name": "ANNA",
                    "city": "Alessandria"
                },
                {
                    "first_name": "AMANDA",
                    "city": "Nador"
                },
                {
                    "first_name": "ANN",
                    "city": "Niznekamsk"
                },
                {
                    "first_name": "ALICE",
                    "city": "Fontana"
                },
                {
                    "first_name": "ASHLEY",
                    "city": "Lincoln"
                },
                {
                    "first_name": "ANDREA",
                    "city": "Mahajanga"
                },
                {
                    "first_name": "ANNE",
                    "city": "Bradford"
                },
                {
                    "first_name": "ANNIE",
                    "city": "Tete"
                }
            ]
        },
        "text/html": [
            "<table>",
            "<tr><th>first_name</th><th>city</th></tr>",
            "<tr><td>ANGELA</td><td>Shimonoseki</td></tr>",
            "<tr><td>AMY</td><td>Jhansi</td></tr>",
            "<tr><td>ANNA</td><td>Alessandria</td></tr>",
            "<tr><td>AMANDA</td><td>Nador</td></tr>",
            "<tr><td>ANN</td><td>Niznekamsk</td></tr>",
            "<tr><td>ALICE</td><td>Fontana</td></tr>",
            "<tr><td>ASHLEY</td><td>Lincoln</td></tr>",
            "<tr><td>ANDREA</td><td>Mahajanga</td></tr>",
            "<tr><td>ANNE</td><td>Bradford</td></tr>",
            "<tr><td>ANNIE</td><td>Tete</td></tr>",
            "</table>"
        ]
    }
}
],
            "execution_count": 34
        }
    ]
}