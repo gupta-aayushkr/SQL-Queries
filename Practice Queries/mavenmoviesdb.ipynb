{
    "metadata": {
        "kernelspec": {
            "name": "SQL",
            "display_name": "SQL",
            "language": "sql"
        },
        "language_info": {
            "name": "sql",
            "version": ""
        }
    },
    "nbformat_minor": 2,
    "nbformat": 4,
    "cells": [
        {
            "cell_type": "code",
            "source": [
                "use mavenmovies"
            ],
            "metadata": {
                "azdata_cell_guid": "3dc067f7-5e38-4c54-9351-265d2a02f22d",
                "language": "sql"
            },
            "outputs": [
                {
                    "output_type": "display_data",
                    "data": {
                        "text/html": "Commands completed successfully"
                    },
                    "metadata": {}
                },
                {
                    "output_type": "display_data",
                    "data": {
                        "text/html": "Total execution time: 00:00:00.001"
                    },
                    "metadata": {}
                }
            ],
            "execution_count": 1
        },
        {
            "cell_type": "code",
            "source": [
                "show tables"
            ],
            "metadata": {
                "azdata_cell_guid": "59bb27ac-bd1b-4afa-bbc2-c6e0a9ea5675",
                "language": "sql"
            },
            "outputs": [
                {
                    "output_type": "display_data",
                    "data": {
                        "text/html": "(26 row(s) affected)"
                    },
                    "metadata": {}
                },
                {
                    "output_type": "display_data",
                    "data": {
                        "text/html": "Total execution time: 00:00:01.011"
                    },
                    "metadata": {}
                },
                {
                    "output_type": "execute_result",
                    "metadata": {},
                    "execution_count": 2,
                    "data": {
                        "application/vnd.dataresource+json": {
                            "schema": {
                                "fields": [
                                    {
                                        "name": "Tables_in_mavenmovies"
                                    }
                                ]
                            },
                            "data": [
                                {
                                    "Tables_in_mavenmovies": "actor"
                                },
                                {
                                    "Tables_in_mavenmovies": "actor_award"
                                },
                                {
                                    "Tables_in_mavenmovies": "actor_info"
                                },
                                {
                                    "Tables_in_mavenmovies": "address"
                                },
                                {
                                    "Tables_in_mavenmovies": "advisor"
                                },
                                {
                                    "Tables_in_mavenmovies": "category"
                                },
                                {
                                    "Tables_in_mavenmovies": "city"
                                },
                                {
                                    "Tables_in_mavenmovies": "country"
                                },
                                {
                                    "Tables_in_mavenmovies": "customer"
                                },
                                {
                                    "Tables_in_mavenmovies": "customer_list"
                                },
                                {
                                    "Tables_in_mavenmovies": "film"
                                },
                                {
                                    "Tables_in_mavenmovies": "film_actor"
                                },
                                {
                                    "Tables_in_mavenmovies": "film_category"
                                },
                                {
                                    "Tables_in_mavenmovies": "film_list"
                                },
                                {
                                    "Tables_in_mavenmovies": "film_text"
                                },
                                {
                                    "Tables_in_mavenmovies": "inventory"
                                },
                                {
                                    "Tables_in_mavenmovies": "investor"
                                },
                                {
                                    "Tables_in_mavenmovies": "language"
                                },
                                {
                                    "Tables_in_mavenmovies": "nicer_but_slower_film_list"
                                },
                                {
                                    "Tables_in_mavenmovies": "payment"
                                },
                                {
                                    "Tables_in_mavenmovies": "rental"
                                },
                                {
                                    "Tables_in_mavenmovies": "sales_by_film_category"
                                },
                                {
                                    "Tables_in_mavenmovies": "sales_by_store"
                                },
                                {
                                    "Tables_in_mavenmovies": "staff"
                                },
                                {
                                    "Tables_in_mavenmovies": "staff_list"
                                },
                                {
                                    "Tables_in_mavenmovies": "store"
                                }
                            ]
                        },
                        "text/html": [
                            "<table>",
                            "<tr><th>Tables_in_mavenmovies</th></tr>",
                            "<tr><td>actor</td></tr>",
                            "<tr><td>actor_award</td></tr>",
                            "<tr><td>actor_info</td></tr>",
                            "<tr><td>address</td></tr>",
                            "<tr><td>advisor</td></tr>",
                            "<tr><td>category</td></tr>",
                            "<tr><td>city</td></tr>",
                            "<tr><td>country</td></tr>",
                            "<tr><td>customer</td></tr>",
                            "<tr><td>customer_list</td></tr>",
                            "<tr><td>film</td></tr>",
                            "<tr><td>film_actor</td></tr>",
                            "<tr><td>film_category</td></tr>",
                            "<tr><td>film_list</td></tr>",
                            "<tr><td>film_text</td></tr>",
                            "<tr><td>inventory</td></tr>",
                            "<tr><td>investor</td></tr>",
                            "<tr><td>language</td></tr>",
                            "<tr><td>nicer_but_slower_film_list</td></tr>",
                            "<tr><td>payment</td></tr>",
                            "<tr><td>rental</td></tr>",
                            "<tr><td>sales_by_film_category</td></tr>",
                            "<tr><td>sales_by_store</td></tr>",
                            "<tr><td>staff</td></tr>",
                            "<tr><td>staff_list</td></tr>",
                            "<tr><td>store</td></tr>",
                            "</table>"
                        ]
                    }
                }
            ],
            "execution_count": 2
        },
        {
            "cell_type": "code",
            "source": [
                "-- first name and city\n",
                "select first_name, city from customer\n",
                "join address on customer.address_id = address.address_id\n",
                "join city on address.city_id = city.city_id\n",
                "limit 10"
            ],
            "metadata": {
                "azdata_cell_guid": "07835d34-f35f-4e89-846c-0cb490f82da7",
                "language": "sql",
                "tags": []
            },
            "outputs": [
                {
                    "output_type": "display_data",
                    "data": {
                        "text/html": "(10 row(s) affected)"
                    },
                    "metadata": {}
                },
                {
                    "output_type": "display_data",
                    "data": {
                        "text/html": "Total execution time: 00:00:01.050"
                    },
                    "metadata": {}
                },
                {
                    "output_type": "execute_result",
                    "metadata": {},
                    "execution_count": 3,
                    "data": {
                        "application/vnd.dataresource+json": {
                            "schema": {
                                "fields": [
                                    {
                                        "name": "first_name"
                                    },
                                    {
                                        "name": "city"
                                    }
                                ]
                            },
                            "data": [
                                {
                                    "first_name": "JULIE",
                                    "city": "A Corua (La Corua)"
                                },
                                {
                                    "first_name": "PEGGY",
                                    "city": "Abha"
                                },
                                {
                                    "first_name": "TOM",
                                    "city": "Abu Dhabi"
                                },
                                {
                                    "first_name": "GLEN",
                                    "city": "Acua"
                                },
                                {
                                    "first_name": "LARRY",
                                    "city": "Adana"
                                },
                                {
                                    "first_name": "SEAN",
                                    "city": "Addis Abeba"
                                },
                                {
                                    "first_name": "ELLA",
                                    "city": "Aden"
                                },
                                {
                                    "first_name": "ADAM",
                                    "city": "Adoni"
                                },
                                {
                                    "first_name": "SHERRI",
                                    "city": "Ahmadnagar"
                                },
                                {
                                    "first_name": "JULIAN",
                                    "city": "Akishima"
                                }
                            ]
                        },
                        "text/html": [
                            "<table>",
                            "<tr><th>first_name</th><th>city</th></tr>",
                            "<tr><td>JULIE</td><td>A Corua (La Corua)</td></tr>",
                            "<tr><td>PEGGY</td><td>Abha</td></tr>",
                            "<tr><td>TOM</td><td>Abu Dhabi</td></tr>",
                            "<tr><td>GLEN</td><td>Acua</td></tr>",
                            "<tr><td>LARRY</td><td>Adana</td></tr>",
                            "<tr><td>SEAN</td><td>Addis Abeba</td></tr>",
                            "<tr><td>ELLA</td><td>Aden</td></tr>",
                            "<tr><td>ADAM</td><td>Adoni</td></tr>",
                            "<tr><td>SHERRI</td><td>Ahmadnagar</td></tr>",
                            "<tr><td>JULIAN</td><td>Akishima</td></tr>",
                            "</table>"
                        ]
                    }
                }
            ],
            "execution_count": 3
        },
        {
            "cell_type": "code",
            "source": [
                "-- list of customers first names and their city names whose name starts with a\n",
                "select first_name, city from customer\n",
                "join address on customer.address_id = address.address_id\n",
                "join city on address.city_id = city.city_id\n",
                "where first_name like 'a%'\n",
                "limit 10"
            ],
            "metadata": {
                "azdata_cell_guid": "65361d1b-4181-4f3b-9117-3b4b08af30b8",
                "language": "sql"
            },
            "outputs": [
                {
                    "output_type": "display_data",
                    "data": {
                        "text/html": "(10 row(s) affected)"
                    },
                    "metadata": {}
                },
                {
                    "output_type": "display_data",
                    "data": {
                        "text/html": "Total execution time: 00:00:01.007"
                    },
                    "metadata": {}
                },
                {
                    "output_type": "execute_result",
                    "metadata": {},
                    "execution_count": 4,
                    "data": {
                        "application/vnd.dataresource+json": {
                            "schema": {
                                "fields": [
                                    {
                                        "name": "first_name"
                                    },
                                    {
                                        "name": "city"
                                    }
                                ]
                            },
                            "data": [
                                {
                                    "first_name": "ANGELA",
                                    "city": "Shimonoseki"
                                },
                                {
                                    "first_name": "AMY",
                                    "city": "Jhansi"
                                },
                                {
                                    "first_name": "ANNA",
                                    "city": "Alessandria"
                                },
                                {
                                    "first_name": "AMANDA",
                                    "city": "Nador"
                                },
                                {
                                    "first_name": "ANN",
                                    "city": "Niznekamsk"
                                },
                                {
                                    "first_name": "ALICE",
                                    "city": "Fontana"
                                },
                                {
                                    "first_name": "ASHLEY",
                                    "city": "Lincoln"
                                },
                                {
                                    "first_name": "ANDREA",
                                    "city": "Mahajanga"
                                },
                                {
                                    "first_name": "ANNE",
                                    "city": "Bradford"
                                },
                                {
                                    "first_name": "ANNIE",
                                    "city": "Tete"
                                }
                            ]
                        },
                        "text/html": [
                            "<table>",
                            "<tr><th>first_name</th><th>city</th></tr>",
                            "<tr><td>ANGELA</td><td>Shimonoseki</td></tr>",
                            "<tr><td>AMY</td><td>Jhansi</td></tr>",
                            "<tr><td>ANNA</td><td>Alessandria</td></tr>",
                            "<tr><td>AMANDA</td><td>Nador</td></tr>",
                            "<tr><td>ANN</td><td>Niznekamsk</td></tr>",
                            "<tr><td>ALICE</td><td>Fontana</td></tr>",
                            "<tr><td>ASHLEY</td><td>Lincoln</td></tr>",
                            "<tr><td>ANDREA</td><td>Mahajanga</td></tr>",
                            "<tr><td>ANNE</td><td>Bradford</td></tr>",
                            "<tr><td>ANNIE</td><td>Tete</td></tr>",
                            "</table>"
                        ]
                    }
                }
            ],
            "execution_count": 4
        },
        {
            "cell_type": "code",
            "source": [
                "select title, length(title) as length\n",
                "from film\n",
                "ORDER by length"
            ],
            "metadata": {
                "azdata_cell_guid": "eb71e49b-44a5-417c-96b5-95ea035b6ddc",
                "language": "sql"
            },
            "outputs": [
                {
                    "output_type": "display_data",
                    "data": {
                        "text/html": "(1000 row(s) affected)"
                    },
                    "metadata": {}
                },
                {
                    "output_type": "display_data",
                    "data": {
                        "text/html": "Total execution time: 00:00:01.007"
                    },
                    "metadata": {}
                },
                {
                    "output_type": "execute_result",
                    "metadata": {},
                    "execution_count": 11,
                    "data": {
                        "application/vnd.dataresource+json": {
                            "schema": {
                                "fields": [
                                    {
                                        "name": "title"
                                    },
                                    {
                                        "name": "length"
                                    }
                                ]
                            },
                            "data": [
                                {
                                    "title": "EGG IGBY",
                                    "length": "8"
                                },
                                {
                                    "title": "INCH JET",
                                    "length": "8"
                                },
                                {
                                    "title": "OPUS ICE",
                                    "length": "8"
                                },
                                {
                                    "title": "SIDE ARK",
                                    "length": "8"
                                },
                                {
                                    "title": "SPY MILE",
                                    "length": "8"
                                },
                                {
                                    "title": "TOWN ARK",
                                    "length": "8"
                                },
                                {
                                    "title": "BABY HALL",
                                    "length": "9"
                                },
                                {
                                    "title": "BANG KWAI",
                                    "length": "9"
                                },
                                {
                                    "title": "COMA HEAD",
                                    "length": "9"
                                },
                                {
                                    "title": "CORE SUIT",
                                    "length": "9"
                                },
                                {
                                    "title": "DAWN POND",
                                    "length": "9"
                                },
                                {
                                    "title": "DIRTY ACE",
                                    "length": "9"
                                },
                                {
                                    "title": "FISH OPUS",
                                    "length": "9"
                                },
                                {
                                    "title": "GO PURPLE",
                                    "length": "9"
                                },
                                {
                                    "title": "GUMP DATE",
                                    "length": "9"
                                },
                                {
                                    "title": "HOME PITY",
                                    "length": "9"
                                },
                                {
                                    "title": "IRON MOON",
                                    "length": "9"
                                },
                                {
                                    "title": "LOCK REAR",
                                    "length": "9"
                                },
                                {
                                    "title": "LOSE INCH",
                                    "length": "9"
                                },
                                {
                                    "title": "LOST BIRD",
                                    "length": "9"
                                },
                                {
                                    "title": "LUCK OPUS",
                                    "length": "9"
                                },
                                {
                                    "title": "LUST LOCK",
                                    "length": "9"
                                },
                                {
                                    "title": "MAUDE MOD",
                                    "length": "9"
                                },
                                {
                                    "title": "NOON PAPI",
                                    "length": "9"
                                },
                                {
                                    "title": "NUTS TIES",
                                    "length": "9"
                                },
                                {
                                    "title": "RACER EGG",
                                    "length": "9"
                                },
                                {
                                    "title": "RANDOM GO",
                                    "length": "9"
                                },
                                {
                                    "title": "ROCKY WAR",
                                    "length": "9"
                                },
                                {
                                    "title": "SHOW LORD",
                                    "length": "9"
                                },
                                {
                                    "title": "TAXI KICK",
                                    "length": "9"
                                },
                                {
                                    "title": "TRAP GUYS",
                                    "length": "9"
                                },
                                {
                                    "title": "TURN STAR",
                                    "length": "9"
                                },
                                {
                                    "title": "WAKE JAWS",
                                    "length": "9"
                                },
                                {
                                    "title": "WEST LION",
                                    "length": "9"
                                },
                                {
                                    "title": "WIFE TURN",
                                    "length": "9"
                                },
                                {
                                    "title": "WON DARES",
                                    "length": "9"
                                },
                                {
                                    "title": "WONKA SEA",
                                    "length": "9"
                                },
                                {
                                    "title": "ZORRO ARK",
                                    "length": "9"
                                },
                                {
                                    "title": "ALONE TRIP",
                                    "length": "10"
                                },
                                {
                                    "title": "BASIC EASY",
                                    "length": "10"
                                },
                                {
                                    "title": "BUGSY SONG",
                                    "length": "10"
                                },
                                {
                                    "title": "CAUSE DATE",
                                    "length": "10"
                                },
                                {
                                    "title": "CHILL LUCK",
                                    "length": "10"
                                },
                                {
                                    "title": "CLUE GRAIL",
                                    "length": "10"
                                },
                                {
                                    "title": "CRAZY HOME",
                                    "length": "10"
                                },
                                {
                                    "title": "DATE SPEED",
                                    "length": "10"
                                },
                                {
                                    "title": "DAZED PUNK",
                                    "length": "10"
                                },
                                {
                                    "title": "DOLLS RAGE",
                                    "length": "10"
                                },
                                {
                                    "title": "DOZEN LION",
                                    "length": "10"
                                },
                                {
                                    "title": "DUCK RACER",
                                    "length": "10"
                                },
                                {
                                    "title": "DUMBO LUST",
                                    "length": "10"
                                },
                                {
                                    "title": "EARLY HOME",
                                    "length": "10"
                                },
                                {
                                    "title": "ELF MURDER",
                                    "length": "10"
                                },
                                {
                                    "title": "ENCINO ELF",
                                    "length": "10"
                                },
                                {
                                    "title": "ENEMY ODDS",
                                    "length": "10"
                                },
                                {
                                    "title": "FLASH WARS",
                                    "length": "10"
                                },
                                {
                                    "title": "FROST HEAD",
                                    "length": "10"
                                },
                                {
                                    "title": "GOLD RIVER",
                                    "length": "10"
                                },
                                {
                                    "title": "GUN BONNIE",
                                    "length": "10"
                                },
                                {
                                    "title": "HAWK CHILL",
                                    "length": "10"
                                },
                                {
                                    "title": "HONEY TIES",
                                    "length": "10"
                                },
                                {
                                    "title": "HOURS RAGE",
                                    "length": "10"
                                },
                                {
                                    "title": "IDAHO LOVE",
                                    "length": "10"
                                },
                                {
                                    "title": "IGBY MAKER",
                                    "length": "10"
                                },
                                {
                                    "title": "JADE BUNCH",
                                    "length": "10"
                                },
                                {
                                    "title": "JASON TRAP",
                                    "length": "10"
                                },
                                {
                                    "title": "JAWS HARRY",
                                    "length": "10"
                                },
                                {
                                    "title": "KISS GLORY",
                                    "length": "10"
                                },
                                {
                                    "title": "LADY STAGE",
                                    "length": "10"
                                },
                                {
                                    "title": "LION UNCUT",
                                    "length": "10"
                                },
                                {
                                    "title": "LOLA AGENT",
                                    "length": "10"
                                },
                                {
                                    "title": "LUKE MUMMY",
                                    "length": "10"
                                },
                                {
                                    "title": "MARRIED GO",
                                    "length": "10"
                                },
                                {
                                    "title": "MARS ROMAN",
                                    "length": "10"
                                },
                                {
                                    "title": "MASK PEACH",
                                    "length": "10"
                                },
                                {
                                    "title": "MILE MULAN",
                                    "length": "10"
                                },
                                {
                                    "title": "MOB DUFFEL",
                                    "length": "10"
                                },
                                {
                                    "title": "MODEL FISH",
                                    "length": "10"
                                },
                                {
                                    "title": "MOON BUNCH",
                                    "length": "10"
                                },
                                {
                                    "title": "MULAN MOON",
                                    "length": "10"
                                },
                                {
                                    "title": "OSCAR GOLD",
                                    "length": "10"
                                },
                                {
                                    "title": "PANIC CLUB",
                                    "length": "10"
                                },
                                {
                                    "title": "PITY BOUND",
                                    "length": "10"
                                },
                                {
                                    "title": "POCUS PULP",
                                    "length": "10"
                                },
                                {
                                    "title": "QUEEN LUKE",
                                    "length": "10"
                                },
                                {
                                    "title": "RAGE GAMES",
                                    "length": "10"
                                },
                                {
                                    "title": "REDS POCUS",
                                    "length": "10"
                                },
                                {
                                    "title": "ROMAN PUNK",
                                    "length": "10"
                                },
                                {
                                    "title": "ROOM ROMAN",
                                    "length": "10"
                                },
                                {
                                    "title": "SEA VIRGIN",
                                    "length": "10"
                                },
                                {
                                    "title": "SLING LUKE",
                                    "length": "10"
                                },
                                {
                                    "title": "SLUMS DUCK",
                                    "length": "10"
                                },
                                {
                                    "title": "SOUTH WAIT",
                                    "length": "10"
                                },
                                {
                                    "title": "SPEED SUIT",
                                    "length": "10"
                                },
                                {
                                    "title": "SQUAD FISH",
                                    "length": "10"
                                },
                                {
                                    "title": "STONE FIRE",
                                    "length": "10"
                                },
                                {
                                    "title": "STORY SIDE",
                                    "length": "10"
                                },
                                {
                                    "title": "SUIT WALLS",
                                    "length": "10"
                                },
                                {
                                    "title": "SWARM GOLD",
                                    "length": "10"
                                },
                                {
                                    "title": "WAGON JAWS",
                                    "length": "10"
                                },
                                {
                                    "title": "WAIT CIDER",
                                    "length": "10"
                                },
                                {
                                    "title": "WARS PLUTO",
                                    "length": "10"
                                },
                                {
                                    "title": "WRATH MILE",
                                    "length": "10"
                                },
                                {
                                    "title": "YOUTH KICK",
                                    "length": "10"
                                },
                                {
                                    "title": "AFRICAN EGG",
                                    "length": "11"
                                },
                                {
                                    "title": "ALI FOREVER",
                                    "length": "11"
                                },
                                {
                                    "title": "ANGELS LIFE",
                                    "length": "11"
                                },
                                {
                                    "title": "ANTHEM LUKE",
                                    "length": "11"
                                },
                                {
                                    "title": "APOLLO TEEN",
                                    "length": "11"
                                },
                                {
                                    "title": "AUTUMN CROW",
                                    "length": "11"
                                },
                                {
                                    "title": "BADMAN DAWN",
                                    "length": "11"
                                },
                                {
                                    "title": "BILL OTHERS",
                                    "length": "11"
                                },
                                {
                                    "title": "BORN SPINAL",
                                    "length": "11"
                                },
                                {
                                    "title": "BUNCH MINDS",
                                    "length": "11"
                                },
                                {
                                    "title": "CABIN FLASH",
                                    "length": "11"
                                },
                                {
                                    "title": "CAROL TEXAS",
                                    "length": "11"
                                },
                                {
                                    "title": "CHITTY LOCK",
                                    "length": "11"
                                },
                                {
                                    "title": "CLOSER BANG",
                                    "length": "11"
                                },
                                {
                                    "title": "COWBOY DOOM",
                                    "length": "11"
                                },
                                {
                                    "title": "CROW GREASE",
                                    "length": "11"
                                },
                                {
                                    "title": "DANCES NONE",
                                    "length": "11"
                                },
                                {
                                    "title": "DARES PLUTO",
                                    "length": "11"
                                },
                                {
                                    "title": "DIARY PANIC",
                                    "length": "11"
                                },
                                {
                                    "title": "DYING MAKER",
                                    "length": "11"
                                },
                                {
                                    "title": "FIRE WOLVES",
                                    "length": "11"
                                },
                                {
                                    "title": "FLIGHT LIES",
                                    "length": "11"
                                },
                                {
                                    "title": "FLYING HOOK",
                                    "length": "11"
                                },
                                {
                                    "title": "FURY MURDER",
                                    "length": "11"
                                },
                                {
                                    "title": "GANDHI KWAI",
                                    "length": "11"
                                },
                                {
                                    "title": "GANGS PRIDE",
                                    "length": "11"
                                },
                                {
                                    "title": "GLASS DYING",
                                    "length": "11"
                                },
                                {
                                    "title": "GLORY TRACY",
                                    "length": "11"
                                },
                                {
                                    "title": "GRAPES FURY",
                                    "length": "11"
                                },
                                {
                                    "title": "GUYS FALCON",
                                    "length": "11"
                                },
                                {
                                    "title": "HARRY IDAHO",
                                    "length": "11"
                                },
                                {
                                    "title": "HIGH ENCINO",
                                    "length": "11"
                                },
                                {
                                    "title": "HOCUS FRIDA",
                                    "length": "11"
                                },
                                {
                                    "title": "HUNGER ROOF",
                                    "length": "11"
                                },
                                {
                                    "title": "HYDE DOCTOR",
                                    "length": "11"
                                },
                                {
                                    "title": "INDIAN LOVE",
                                    "length": "11"
                                },
                                {
                                    "title": "KARATE MOON",
                                    "length": "11"
                                },
                                {
                                    "title": "LEGEND JEDI",
                                    "length": "11"
                                },
                                {
                                    "title": "LIGHTS DEER",
                                    "length": "11"
                                },
                                {
                                    "title": "MAIDEN HOME",
                                    "length": "11"
                                },
                                {
                                    "title": "MIGHTY LUCK",
                                    "length": "11"
                                },
                                {
                                    "title": "MILLION ACE",
                                    "length": "11"
                                },
                                {
                                    "title": "MINE TITANS",
                                    "length": "11"
                                },
                                {
                                    "title": "MIXED DOORS",
                                    "length": "11"
                                },
                                {
                                    "title": "MOULIN WAKE",
                                    "length": "11"
                                },
                                {
                                    "title": "MUPPET MILE",
                                    "length": "11"
                                },
                                {
                                    "title": "NEMO CAMPUS",
                                    "length": "11"
                                },
                                {
                                    "title": "ODDS BOOGIE",
                                    "length": "11"
                                },
                                {
                                    "title": "OTHERS SOUP",
                                    "length": "11"
                                },
                                {
                                    "title": "OZ LIAISONS",
                                    "length": "11"
                                },
                                {
                                    "title": "PARTY KNOCK",
                                    "length": "11"
                                },
                                {
                                    "title": "PRIDE ALAMO",
                                    "length": "11"
                                },
                                {
                                    "title": "PURE RUNNER",
                                    "length": "11"
                                },
                                {
                                    "title": "QUILLS BULL",
                                    "length": "11"
                                },
                                {
                                    "title": "REEF SALUTE",
                                    "length": "11"
                                },
                                {
                                    "title": "ROUGE SQUAD",
                                    "length": "11"
                                },
                                {
                                    "title": "RULES HUMAN",
                                    "length": "11"
                                },
                                {
                                    "title": "RUN PACIFIC",
                                    "length": "11"
                                },
                                {
                                    "title": "SANTA PARIS",
                                    "length": "11"
                                },
                                {
                                    "title": "SATURN NAME",
                                    "length": "11"
                                },
                                {
                                    "title": "SENSE GREEK",
                                    "length": "11"
                                },
                                {
                                    "title": "SEVEN SWARM",
                                    "length": "11"
                                },
                                {
                                    "title": "SHOCK CABIN",
                                    "length": "11"
                                },
                                {
                                    "title": "SIEGE MADRE",
                                    "length": "11"
                                },
                                {
                                    "title": "SIMON NORTH",
                                    "length": "11"
                                },
                                {
                                    "title": "SKY MIRACLE",
                                    "length": "11"
                                },
                                {
                                    "title": "SONG HEDWIG",
                                    "length": "11"
                                },
                                {
                                    "title": "SOUP WISDOM",
                                    "length": "11"
                                },
                                {
                                    "title": "SPLASH GUMP",
                                    "length": "11"
                                },
                                {
                                    "title": "STAGE WORLD",
                                    "length": "11"
                                },
                                {
                                    "title": "STEEL SANTA",
                                    "length": "11"
                                },
                                {
                                    "title": "STOCK GLASS",
                                    "length": "11"
                                },
                                {
                                    "title": "SUGAR WONKA",
                                    "length": "11"
                                },
                                {
                                    "title": "TEEN APOLLO",
                                    "length": "11"
                                },
                                {
                                    "title": "TEXAS WATCH",
                                    "length": "11"
                                },
                                {
                                    "title": "TIES HUNGER",
                                    "length": "11"
                                },
                                {
                                    "title": "TIGHTS DAWN",
                                    "length": "11"
                                },
                                {
                                    "title": "TITANS JERK",
                                    "length": "11"
                                },
                                {
                                    "title": "TRACY CIDER",
                                    "length": "11"
                                },
                                {
                                    "title": "TRAIN BUNCH",
                                    "length": "11"
                                },
                                {
                                    "title": "TRIP NEWTON",
                                    "length": "11"
                                },
                                {
                                    "title": "TUXEDO MILE",
                                    "length": "11"
                                },
                                {
                                    "title": "VANILLA DAY",
                                    "length": "11"
                                },
                                {
                                    "title": "VOICE PEACH",
                                    "length": "11"
                                },
                                {
                                    "title": "WAR NOTTING",
                                    "length": "11"
                                },
                                {
                                    "title": "WATCH TRACY",
                                    "length": "11"
                                },
                                {
                                    "title": "WILD APOLLO",
                                    "length": "11"
                                },
                                {
                                    "title": "WINDOW SIDE",
                                    "length": "11"
                                },
                                {
                                    "title": "YENTL IDAHO",
                                    "length": "11"
                                },
                                {
                                    "title": "AGENT TRUMAN",
                                    "length": "12"
                                },
                                {
                                    "title": "ALIEN CENTER",
                                    "length": "12"
                                },
                                {
                                    "title": "AMADEUS HOLY",
                                    "length": "12"
                                },
                                {
                                    "title": "ARABIA DOGMA",
                                    "length": "12"
                                },
                                {
                                    "title": "ARIZONA BANG",
                                    "length": "12"
                                },
                                {
                                    "title": "ATTACKS HATE",
                                    "length": "12"
                                },
                                {
                                    "title": "BED HIGHBALL",
                                    "length": "12"
                                },
                                {
                                    "title": "BENEATH RUSH",
                                    "length": "12"
                                },
                                {
                                    "title": "BERETS AGENT",
                                    "length": "12"
                                },
                                {
                                    "title": "BLADE POLISH",
                                    "length": "12"
                                },
                                {
                                    "title": "BOILED DARES",
                                    "length": "12"
                                },
                                {
                                    "title": "CANYON STOCK",
                                    "length": "12"
                                },
                                {
                                    "title": "CARRIE BUNCH",
                                    "length": "12"
                                },
                                {
                                    "title": "CIDER DESIRE",
                                    "length": "12"
                                },
                                {
                                    "title": "CIRCUS YOUTH",
                                    "length": "12"
                                },
                                {
                                    "title": "CLASH FREDDY",
                                    "length": "12"
                                },
                                {
                                    "title": "CLYDE THEORY",
                                    "length": "12"
                                },
                                {
                                    "title": "DARKNESS WAR",
                                    "length": "12"
                                },
                                {
                                    "title": "DARKO DORADO",
                                    "length": "12"
                                },
                                {
                                    "title": "DEEP CRUSADE",
                                    "length": "12"
                                },
                                {
                                    "title": "DESIRE ALIEN",
                                    "length": "12"
                                },
                                {
                                    "title": "DEVIL DESIRE",
                                    "length": "12"
                                },
                                {
                                    "title": "DOCTOR GRAIL",
                                    "length": "12"
                                },
                                {
                                    "title": "DOGMA FAMILY",
                                    "length": "12"
                                },
                                {
                                    "title": "DONNIE ALLEY",
                                    "length": "12"
                                },
                                {
                                    "title": "DOOM DANCING",
                                    "length": "12"
                                },
                                {
                                    "title": "DOUBLE WRATH",
                                    "length": "12"
                                },
                                {
                                    "title": "DRAGON SQUAD",
                                    "length": "12"
                                },
                                {
                                    "title": "DREAM PICKUP",
                                    "length": "12"
                                },
                                {
                                    "title": "DRIVER ANNIE",
                                    "length": "12"
                                },
                                {
                                    "title": "DURHAM PANKY",
                                    "length": "12"
                                },
                                {
                                    "title": "DWARFS ALTER",
                                    "length": "12"
                                },
                                {
                                    "title": "EAGLES PANKY",
                                    "length": "12"
                                },
                                {
                                    "title": "EARTH VISION",
                                    "length": "12"
                                },
                                {
                                    "title": "EDGE KISSING",
                                    "length": "12"
                                },
                                {
                                    "title": "EYES DRIVING",
                                    "length": "12"
                                },
                                {
                                    "title": "FAMILY SWEET",
                                    "length": "12"
                                },
                                {
                                    "title": "FARGO GANDHI",
                                    "length": "12"
                                },
                                {
                                    "title": "FEUD FROGMEN",
                                    "length": "12"
                                },
                                {
                                    "title": "FEVER EMPIRE",
                                    "length": "12"
                                },
                                {
                                    "title": "FIDDLER LOST",
                                    "length": "12"
                                },
                                {
                                    "title": "FORREST SONS",
                                    "length": "12"
                                },
                                {
                                    "title": "FREAKY POCUS",
                                    "length": "12"
                                },
                                {
                                    "title": "FREDDY STORM",
                                    "length": "12"
                                },
                                {
                                    "title": "GONE TROUBLE",
                                    "length": "12"
                                },
                                {
                                    "title": "GREASE YOUTH",
                                    "length": "12"
                                },
                                {
                                    "title": "GREEDY ROOTS",
                                    "length": "12"
                                },
                                {
                                    "title": "HALL CASSIDY",
                                    "length": "12"
                                },
                                {
                                    "title": "HANGING DEEP",
                                    "length": "12"
                                },
                                {
                                    "title": "HARPER DYING",
                                    "length": "12"
                                },
                                {
                                    "title": "HEAVENLY GUN",
                                    "length": "12"
                                },
                                {
                                    "title": "HEDWIG ALTER",
                                    "length": "12"
                                },
                                {
                                    "title": "HOBBIT ALIEN",
                                    "length": "12"
                                },
                                {
                                    "title": "HOLY TADPOLE",
                                    "length": "12"
                                },
                                {
                                    "title": "HOPE TOOTSIE",
                                    "length": "12"
                                },
                                {
                                    "title": "HORN WORKING",
                                    "length": "12"
                                },
                                {
                                    "title": "HORROR REIGN",
                                    "length": "12"
                                },
                                {
                                    "title": "HUNTER ALTER",
                                    "length": "12"
                                },
                                {
                                    "title": "ICE CROSSING",
                                    "length": "12"
                                },
                                {
                                    "title": "JAPANESE RUN",
                                    "length": "12"
                                },
                                {
                                    "title": "JEDI BENEATH",
                                    "length": "12"
                                },
                                {
                                    "title": "JERSEY SASSY",
                                    "length": "12"
                                },
                                {
                                    "title": "LIFE TWISTED",
                                    "length": "12"
                                },
                                {
                                    "title": "LOLITA WORLD",
                                    "length": "12"
                                },
                                {
                                    "title": "LORD ARIZONA",
                                    "length": "12"
                                },
                                {
                                    "title": "LOVER TRUMAN",
                                    "length": "12"
                                },
                                {
                                    "title": "LUCKY FLYING",
                                    "length": "12"
                                },
                                {
                                    "title": "MADISON TRAP",
                                    "length": "12"
                                },
                                {
                                    "title": "MADRE GABLES",
                                    "length": "12"
                                },
                                {
                                    "title": "MAKER GABLES",
                                    "length": "12"
                                },
                                {
                                    "title": "MALTESE HOPE",
                                    "length": "12"
                                },
                                {
                                    "title": "MINDS TRUMAN",
                                    "length": "12"
                                },
                                {
                                    "title": "MONEY HAROLD",
                                    "length": "12"
                                },
                                {
                                    "title": "NETWORK PEAK",
                                    "length": "12"
                                },
                                {
                                    "title": "NONE SPIKING",
                                    "length": "12"
                                },
                                {
                                    "title": "OPEN AFRICAN",
                                    "length": "12"
                                },
                                {
                                    "title": "OUTLAW HANKY",
                                    "length": "12"
                                },
                                {
                                    "title": "PANTHER REDS",
                                    "length": "12"
                                },
                                {
                                    "title": "PARK CITIZEN",
                                    "length": "12"
                                },
                                {
                                    "title": "PEAK FOREVER",
                                    "length": "12"
                                },
                                {
                                    "title": "PET HAUNTING",
                                    "length": "12"
                                },
                                {
                                    "title": "POND SEATTLE",
                                    "length": "12"
                                },
                                {
                                    "title": "PRIVATE DROP",
                                    "length": "12"
                                },
                                {
                                    "title": "PULP BEVERLY",
                                    "length": "12"
                                },
                                {
                                    "title": "PUNK DIVORCE",
                                    "length": "12"
                                },
                                {
                                    "title": "PURPLE MOVIE",
                                    "length": "12"
                                },
                                {
                                    "title": "REAR TRADING",
                                    "length": "12"
                                },
                                {
                                    "title": "RIGHT CRANES",
                                    "length": "12"
                                },
                                {
                                    "title": "RIVER OUTLAW",
                                    "length": "12"
                                },
                                {
                                    "title": "ROAD ROXANNE",
                                    "length": "12"
                                },
                                {
                                    "title": "ROBBERS JOON",
                                    "length": "12"
                                },
                                {
                                    "title": "SAINTS BRIDE",
                                    "length": "12"
                                },
                                {
                                    "title": "SAMURAI LION",
                                    "length": "12"
                                },
                                {
                                    "title": "SASSY PACKER",
                                    "length": "12"
                                },
                                {
                                    "title": "SILENCE KANE",
                                    "length": "12"
                                },
                                {
                                    "title": "SPINAL ROCKY",
                                    "length": "12"
                                },
                                {
                                    "title": "SUNSET RACER",
                                    "length": "12"
                                },
                                {
                                    "title": "TADPOLE PARK",
                                    "length": "12"
                                },
                                {
                                    "title": "TEQUILA PAST",
                                    "length": "12"
                                },
                                {
                                    "title": "TORQUE BOUND",
                                    "length": "12"
                                },
                                {
                                    "title": "TRAMP OTHERS",
                                    "length": "12"
                                },
                                {
                                    "title": "TROUBLE DATE",
                                    "length": "12"
                                },
                                {
                                    "title": "TRUMAN CRAZY",
                                    "length": "12"
                                },
                                {
                                    "title": "UNITED PILOT",
                                    "length": "12"
                                },
                                {
                                    "title": "UPTOWN YOUNG",
                                    "length": "12"
                                },
                                {
                                    "title": "VARSITY TRIP",
                                    "length": "12"
                                },
                                {
                                    "title": "VIRGIN DAISY",
                                    "length": "12"
                                },
                                {
                                    "title": "VOLUME HOUSE",
                                    "length": "12"
                                },
                                {
                                    "title": "WALLS ARTIST",
                                    "length": "12"
                                },
                                {
                                    "title": "WHALE BIKINI",
                                    "length": "12"
                                },
                                {
                                    "title": "WILLOW TRACY",
                                    "length": "12"
                                },
                                {
                                    "title": "WIND PHANTOM",
                                    "length": "12"
                                },
                                {
                                    "title": "WOMEN DORADO",
                                    "length": "12"
                                },
                                {
                                    "title": "WORDS HUNTER",
                                    "length": "12"
                                },
                                {
                                    "title": "WORST BANGER",
                                    "length": "12"
                                },
                                {
                                    "title": "ZHIVAGO CORE",
                                    "length": "12"
                                },
                                {
                                    "title": "ALABAMA DEVIL",
                                    "length": "13"
                                },
                                {
                                    "title": "ALTER VICTORY",
                                    "length": "13"
                                },
                                {
                                    "title": "APACHE DIVINE",
                                    "length": "13"
                                },
                                {
                                    "title": "ARK RIDGEMONT",
                                    "length": "13"
                                },
                                {
                                    "title": "BEAUTY GREASE",
                                    "length": "13"
                                },
                                {
                                    "title": "BETRAYED REAR",
                                    "length": "13"
                                },
                                {
                                    "title": "BLINDNESS GUN",
                                    "length": "13"
                                },
                                {
                                    "title": "BOOGIE AMELIE",
                                    "length": "13"
                                },
                                {
                                    "title": "BOULEVARD MOB",
                                    "length": "13"
                                },
                                {
                                    "title": "BOUND CHEAPER",
                                    "length": "13"
                                },
                                {
                                    "title": "BREAKING HOME",
                                    "length": "13"
                                },
                                {
                                    "title": "BUBBLE GROSSE",
                                    "length": "13"
                                },
                                {
                                    "title": "BUTCH PANTHER",
                                    "length": "13"
                                },
                                {
                                    "title": "CAPER MOTIONS",
                                    "length": "13"
                                },
                                {
                                    "title": "CAT CONEHEADS",
                                    "length": "13"
                                },
                                {
                                    "title": "CATCH AMISTAD",
                                    "length": "13"
                                },
                                {
                                    "title": "CHASING FIGHT",
                                    "length": "13"
                                },
                                {
                                    "title": "CHEAPER CLYDE",
                                    "length": "13"
                                },
                                {
                                    "title": "CHICAGO NORTH",
                                    "length": "13"
                                },
                                {
                                    "title": "CITIZEN SHREK",
                                    "length": "13"
                                },
                                {
                                    "title": "CLERKS ANGELS",
                                    "length": "13"
                                },
                                {
                                    "title": "CLUB GRAFFITI",
                                    "length": "13"
                                },
                                {
                                    "title": "COAST RAINBOW",
                                    "length": "13"
                                },
                                {
                                    "title": "COMFORTS RUSH",
                                    "length": "13"
                                },
                                {
                                    "title": "CREEPERS KANE",
                                    "length": "13"
                                },
                                {
                                    "title": "CRUSADE HONEY",
                                    "length": "13"
                                },
                                {
                                    "title": "DANCING FEVER",
                                    "length": "13"
                                },
                                {
                                    "title": "ENDING CROWDS",
                                    "length": "13"
                                },
                                {
                                    "title": "ENOUGH RAGING",
                                    "length": "13"
                                },
                                {
                                    "title": "FALCON VOLUME",
                                    "length": "13"
                                },
                                {
                                    "title": "FANTASIA PARK",
                                    "length": "13"
                                },
                                {
                                    "title": "FATAL HAUNTED",
                                    "length": "13"
                                },
                                {
                                    "title": "FERRIS MOTHER",
                                    "length": "13"
                                },
                                {
                                    "title": "FLOATS GARDEN",
                                    "length": "13"
                                },
                                {
                                    "title": "FRIDA SLIPPER",
                                    "length": "13"
                                },
                                {
                                    "title": "GARDEN ISLAND",
                                    "length": "13"
                                },
                                {
                                    "title": "GRADUATE LORD",
                                    "length": "13"
                                },
                                {
                                    "title": "GRAFFITI LOVE",
                                    "length": "13"
                                },
                                {
                                    "title": "GUNFIGHT MOON",
                                    "length": "13"
                                },
                                {
                                    "title": "HALF OUTFIELD",
                                    "length": "13"
                                },
                                {
                                    "title": "HAMLET WISDOM",
                                    "length": "13"
                                },
                                {
                                    "title": "HANKY OCTOBER",
                                    "length": "13"
                                },
                                {
                                    "title": "HAROLD FRENCH",
                                    "length": "13"
                                },
                                {
                                    "title": "HATE HANDICAP",
                                    "length": "13"
                                },
                                {
                                    "title": "HEAD STRANGER",
                                    "length": "13"
                                },
                                {
                                    "title": "HOLIDAY GAMES",
                                    "length": "13"
                                },
                                {
                                    "title": "HOOK CHARIOTS",
                                    "length": "13"
                                },
                                {
                                    "title": "HUSTLER PARTY",
                                    "length": "13"
                                },
                                {
                                    "title": "INSECTS STONE",
                                    "length": "13"
                                },
                                {
                                    "title": "JACKET FRISCO",
                                    "length": "13"
                                },
                                {
                                    "title": "JERICHO MULAN",
                                    "length": "13"
                                },
                                {
                                    "title": "JERK PAYCHECK",
                                    "length": "13"
                                },
                                {
                                    "title": "JET NEIGHBORS",
                                    "length": "13"
                                },
                                {
                                    "title": "JUMANJI BLADE",
                                    "length": "13"
                                },
                                {
                                    "title": "JUMPING WRATH",
                                    "length": "13"
                                },
                                {
                                    "title": "JUNGLE CLOSER",
                                    "length": "13"
                                },
                                {
                                    "title": "KANE EXORCIST",
                                    "length": "13"
                                },
                                {
                                    "title": "KICK SAVANNAH",
                                    "length": "13"
                                },
                                {
                                    "title": "KISSING DOLLS",
                                    "length": "13"
                                },
                                {
                                    "title": "KNOCK WARLOCK",
                                    "length": "13"
                                },
                                {
                                    "title": "KWAI HOMEWARD",
                                    "length": "13"
                                },
                                {
                                    "title": "LAWRENCE LOVE",
                                    "length": "13"
                                },
                                {
                                    "title": "LOSER HUSTLER",
                                    "length": "13"
                                },
                                {
                                    "title": "LOVE SUICIDES",
                                    "length": "13"
                                },
                                {
                                    "title": "LOVELY JINGLE",
                                    "length": "13"
                                },
                                {
                                    "title": "MALKOVICH PET",
                                    "length": "13"
                                },
                                {
                                    "title": "MASKED BUBBLE",
                                    "length": "13"
                                },
                                {
                                    "title": "MASSAGE IMAGE",
                                    "length": "13"
                                },
                                {
                                    "title": "MINORITY KISS",
                                    "length": "13"
                                },
                                {
                                    "title": "MOD SECRETARY",
                                    "length": "13"
                                },
                                {
                                    "title": "MODERN DORADO",
                                    "length": "13"
                                },
                                {
                                    "title": "MONSOON CAUSE",
                                    "length": "13"
                                },
                                {
                                    "title": "MUSCLE BRIGHT",
                                    "length": "13"
                                },
                                {
                                    "title": "MYSTIC TRUMAN",
                                    "length": "13"
                                },
                                {
                                    "title": "NASH CHOCOLAT",
                                    "length": "13"
                                },
                                {
                                    "title": "NATURAL STOCK",
                                    "length": "13"
                                },
                                {
                                    "title": "NEWSIES STORY",
                                    "length": "13"
                                },
                                {
                                    "title": "NORTH TEQUILA",
                                    "length": "13"
                                },
                                {
                                    "title": "OLEANDER CLUE",
                                    "length": "13"
                                },
                                {
                                    "title": "ORANGE GRAPES",
                                    "length": "13"
                                },
                                {
                                    "title": "ORIENT CLOSER",
                                    "length": "13"
                                },
                                {
                                    "title": "PAPI NECKLACE",
                                    "length": "13"
                                },
                                {
                                    "title": "PARIS WEEKEND",
                                    "length": "13"
                                },
                                {
                                    "title": "PAST SUICIDES",
                                    "length": "13"
                                },
                                {
                                    "title": "PATHS CONTROL",
                                    "length": "13"
                                },
                                {
                                    "title": "PATRIOT ROMAN",
                                    "length": "13"
                                },
                                {
                                    "title": "PAYCHECK WAIT",
                                    "length": "13"
                                },
                                {
                                    "title": "PEARL DESTINY",
                                    "length": "13"
                                },
                                {
                                    "title": "PHANTOM GLORY",
                                    "length": "13"
                                },
                                {
                                    "title": "PIZZA JUMANJI",
                                    "length": "13"
                                },
                                {
                                    "title": "POTLUCK MIXED",
                                    "length": "13"
                                },
                                {
                                    "title": "PRIMARY GLASS",
                                    "length": "13"
                                },
                                {
                                    "title": "PSYCHO SHRUNK",
                                    "length": "13"
                                },
                                {
                                    "title": "RAINBOW SHOCK",
                                    "length": "13"
                                },
                                {
                                    "title": "REBEL AIRPORT",
                                    "length": "13"
                                },
                                {
                                    "title": "RECORDS ZORRO",
                                    "length": "13"
                                },
                                {
                                    "title": "ROCK INSTINCT",
                                    "length": "13"
                                },
                                {
                                    "title": "ROOF CHAMPION",
                                    "length": "13"
                                },
                                {
                                    "title": "ROXANNE REBEL",
                                    "length": "13"
                                },
                                {
                                    "title": "SALUTE APOLLO",
                                    "length": "13"
                                },
                                {
                                    "title": "SAVANNAH TOWN",
                                    "length": "13"
                                },
                                {
                                    "title": "SCALAWAG DUCK",
                                    "length": "13"
                                },
                                {
                                    "title": "SCARFACE BANG",
                                    "length": "13"
                                },
                                {
                                    "title": "SCHOOL JACKET",
                                    "length": "13"
                                },
                                {
                                    "title": "SHINING ROSES",
                                    "length": "13"
                                },
                                {
                                    "title": "SHREK LICENSE",
                                    "length": "13"
                                },
                                {
                                    "title": "SHRUNK DIVINE",
                                    "length": "13"
                                },
                                {
                                    "title": "SIERRA DIVIDE",
                                    "length": "13"
                                },
                                {
                                    "title": "SISTER FREDDY",
                                    "length": "13"
                                },
                                {
                                    "title": "SLEUTH ORIENT",
                                    "length": "13"
                                },
                                {
                                    "title": "SMILE EARRING",
                                    "length": "13"
                                },
                                {
                                    "title": "STEPMOM DREAM",
                                    "length": "13"
                                },
                                {
                                    "title": "SUBMARINE BED",
                                    "length": "13"
                                },
                                {
                                    "title": "SUPER WYOMING",
                                    "length": "13"
                                },
                                {
                                    "title": "SUPERFLY TRIP",
                                    "length": "13"
                                },
                                {
                                    "title": "THIEF PELICAN",
                                    "length": "13"
                                },
                                {
                                    "title": "TOOTSIE PILOT",
                                    "length": "13"
                                },
                                {
                                    "title": "VALLEY PACKER",
                                    "length": "13"
                                },
                                {
                                    "title": "VAMPIRE WHALE",
                                    "length": "13"
                                },
                                {
                                    "title": "VISION TORQUE",
                                    "length": "13"
                                },
                                {
                                    "title": "VOLCANO TEXAS",
                                    "length": "13"
                                },
                                {
                                    "title": "WANDA CHAMBER",
                                    "length": "13"
                                },
                                {
                                    "title": "WASH HEAVENLY",
                                    "length": "13"
                                },
                                {
                                    "title": "WEREWOLF LOLA",
                                    "length": "13"
                                },
                                {
                                    "title": "WISDOM WORKER",
                                    "length": "13"
                                },
                                {
                                    "title": "WITCHES PANIC",
                                    "length": "13"
                                },
                                {
                                    "title": "WOLVES DESIRE",
                                    "length": "13"
                                },
                                {
                                    "title": "WORKER TARZAN",
                                    "length": "13"
                                },
                                {
                                    "title": "WYOMING STORM",
                                    "length": "13"
                                },
                                {
                                    "title": "ACE GOLDFINGER",
                                    "length": "14"
                                },
                                {
                                    "title": "ALASKA PHANTOM",
                                    "length": "14"
                                },
                                {
                                    "title": "ALICE FANTASIA",
                                    "length": "14"
                                },
                                {
                                    "title": "ANNIE IDENTITY",
                                    "length": "14"
                                },
                                {
                                    "title": "ARGONAUTS TOWN",
                                    "length": "14"
                                },
                                {
                                    "title": "ATLANTIS CAUSE",
                                    "length": "14"
                                },
                                {
                                    "title": "BEAR GRACELAND",
                                    "length": "14"
                                },
                                {
                                    "title": "BEVERLY OUTLAW",
                                    "length": "14"
                                },
                                {
                                    "title": "BINGO TALENTED",
                                    "length": "14"
                                },
                                {
                                    "title": "BLUES INSTINCT",
                                    "length": "14"
                                },
                                {
                                    "title": "BRIDE INTRIGUE",
                                    "length": "14"
                                },
                                {
                                    "title": "BULL SHAWSHANK",
                                    "length": "14"
                                },
                                {
                                    "title": "CANDLES GRAPES",
                                    "length": "14"
                                },
                                {
                                    "title": "CELEBRITY HORN",
                                    "length": "14"
                                },
                                {
                                    "title": "CHARADE DUFFEL",
                                    "length": "14"
                                },
                                {
                                    "title": "CHOCOLAT HARRY",
                                    "length": "14"
                                },
                                {
                                    "title": "CHOCOLATE DUCK",
                                    "length": "14"
                                },
                                {
                                    "title": "CONQUERER NUTS",
                                    "length": "14"
                                },
                                {
                                    "title": "CONTROL ANTHEM",
                                    "length": "14"
                                },
                                {
                                    "title": "CRAFT OUTFIELD",
                                    "length": "14"
                                },
                                {
                                    "title": "CYCLONE FAMILY",
                                    "length": "14"
                                },
                                {
                                    "title": "DARN FORRESTER",
                                    "length": "14"
                                },
                                {
                                    "title": "DAY UNFAITHFUL",
                                    "length": "14"
                                },
                                {
                                    "title": "DEER VIRGINIAN",
                                    "length": "14"
                                },
                                {
                                    "title": "DETAILS PACKER",
                                    "length": "14"
                                },
                                {
                                    "title": "DIVIDE MONSTER",
                                    "length": "14"
                                },
                                {
                                    "title": "DORADO NOTTING",
                                    "length": "14"
                                },
                                {
                                    "title": "DRIVING POLISH",
                                    "length": "14"
                                },
                                {
                                    "title": "DRUMS DYNAMITE",
                                    "length": "14"
                                },
                                {
                                    "title": "DUDE BLINDNESS",
                                    "length": "14"
                                },
                                {
                                    "title": "EASY GLADIATOR",
                                    "length": "14"
                                },
                                {
                                    "title": "ELEMENT FREDDY",
                                    "length": "14"
                                },
                                {
                                    "title": "EVERYONE CRAFT",
                                    "length": "14"
                                },
                                {
                                    "title": "EXCITEMENT EVE",
                                    "length": "14"
                                },
                                {
                                    "title": "EXORCIST STING",
                                    "length": "14"
                                },
                                {
                                    "title": "EXPRESS LONELY",
                                    "length": "14"
                                },
                                {
                                    "title": "FACTORY DRAGON",
                                    "length": "14"
                                },
                                {
                                    "title": "FEATHERS METAL",
                                    "length": "14"
                                },
                                {
                                    "title": "FIDELITY DEVIL",
                                    "length": "14"
                                },
                                {
                                    "title": "FORWARD TEMPLE",
                                    "length": "14"
                                },
                                {
                                    "title": "FRENCH HOLIDAY",
                                    "length": "14"
                                },
                                {
                                    "title": "FRISCO FORREST",
                                    "length": "14"
                                },
                                {
                                    "title": "FRONTIER CABIN",
                                    "length": "14"
                                },
                                {
                                    "title": "GIANT TROOPERS",
                                    "length": "14"
                                },
                                {
                                    "title": "GILMORE BOILED",
                                    "length": "14"
                                },
                                {
                                    "title": "GORGEOUS BINGO",
                                    "length": "14"
                                },
                                {
                                    "title": "GOSFORD DONNIE",
                                    "length": "14"
                                },
                                {
                                    "title": "GREATEST NORTH",
                                    "length": "14"
                                },
                                {
                                    "title": "GREEK EVERYONE",
                                    "length": "14"
                                },
                                {
                                    "title": "GRINCH MASSAGE",
                                    "length": "14"
                                },
                                {
                                    "title": "GRIT CLOCKWORK",
                                    "length": "14"
                                },
                                {
                                    "title": "GROOVE FICTION",
                                    "length": "14"
                                },
                                {
                                    "title": "HALLOWEEN NUTS",
                                    "length": "14"
                                },
                                {
                                    "title": "HANOVER GALAXY",
                                    "length": "14"
                                },
                                {
                                    "title": "HARDLY ROBBERS",
                                    "length": "14"
                                },
                                {
                                    "title": "HEAVEN FREEDOM",
                                    "length": "14"
                                },
                                {
                                    "title": "HOMEWARD CIDER",
                                    "length": "14"
                                },
                                {
                                    "title": "HOMICIDE PEACH",
                                    "length": "14"
                                },
                                {
                                    "title": "HOUSE DYNAMITE",
                                    "length": "14"
                                },
                                {
                                    "title": "HUMAN GRAFFITI",
                                    "length": "14"
                                },
                                {
                                    "title": "IDENTITY LOVER",
                                    "length": "14"
                                },
                                {
                                    "title": "IMAGE PRINCESS",
                                    "length": "14"
                                },
                                {
                                    "title": "IMPACT ALADDIN",
                                    "length": "14"
                                },
                                {
                                    "title": "INNOCENT USUAL",
                                    "length": "14"
                                },
                                {
                                    "title": "INTRIGUE WORST",
                                    "length": "14"
                                },
                                {
                                    "title": "JEKYLL FROGMEN",
                                    "length": "14"
                                },
                                {
                                    "title": "JOON NORTHWEST",
                                    "length": "14"
                                },
                                {
                                    "title": "JUGGLER HARDLY",
                                    "length": "14"
                                },
                                {
                                    "title": "KING EVOLUTION",
                                    "length": "14"
                                },
                                {
                                    "title": "LAWLESS VISION",
                                    "length": "14"
                                },
                                {
                                    "title": "LIAISONS SWEET",
                                    "length": "14"
                                },
                                {
                                    "title": "LIES TREATMENT",
                                    "length": "14"
                                },
                                {
                                    "title": "MADIGAN DORADO",
                                    "length": "14"
                                },
                                {
                                    "title": "MAGIC MALLRATS",
                                    "length": "14"
                                },
                                {
                                    "title": "MAGUIRE APACHE",
                                    "length": "14"
                                },
                                {
                                    "title": "MASSACRE USUAL",
                                    "length": "14"
                                },
                                {
                                    "title": "MATRIX SNOWMAN",
                                    "length": "14"
                                },
                                {
                                    "title": "MEET CHOCOLATE",
                                    "length": "14"
                                },
                                {
                                    "title": "MUSIC BOONDOCK",
                                    "length": "14"
                                },
                                {
                                    "title": "NAME DETECTIVE",
                                    "length": "14"
                                },
                                {
                                    "title": "NATIONAL STORY",
                                    "length": "14"
                                },
                                {
                                    "title": "ORDER BETRAYED",
                                    "length": "14"
                                },
                                {
                                    "title": "PACKER MADIGAN",
                                    "length": "14"
                                },
                                {
                                    "title": "PATIENT SISTER",
                                    "length": "14"
                                },
                                {
                                    "title": "PEACH INNOCENT",
                                    "length": "14"
                                },
                                {
                                    "title": "PERFECT GROOVE",
                                    "length": "14"
                                },
                                {
                                    "title": "PICKUP DRIVING",
                                    "length": "14"
                                },
                                {
                                    "title": "PILOT HOOSIERS",
                                    "length": "14"
                                },
                                {
                                    "title": "PLUTO OLEANDER",
                                    "length": "14"
                                },
                                {
                                    "title": "PRESIDENT BANG",
                                    "length": "14"
                                },
                                {
                                    "title": "PRINCESS GIANT",
                                    "length": "14"
                                },
                                {
                                    "title": "REMEMBER DIARY",
                                    "length": "14"
                                },
                                {
                                    "title": "REQUIEM TYCOON",
                                    "length": "14"
                                },
                                {
                                    "title": "ROBBERY BRIGHT",
                                    "length": "14"
                                },
                                {
                                    "title": "ROOTS REMEMBER",
                                    "length": "14"
                                },
                                {
                                    "title": "ROSES TREASURE",
                                    "length": "14"
                                },
                                {
                                    "title": "RUNNER MADIGAN",
                                    "length": "14"
                                },
                                {
                                    "title": "SATURDAY LAMBS",
                                    "length": "14"
                                },
                                {
                                    "title": "SEARCHERS WAIT",
                                    "length": "14"
                                },
                                {
                                    "title": "SHANE DARKNESS",
                                    "length": "14"
                                },
                                {
                                    "title": "SNATCH SLIPPER",
                                    "length": "14"
                                },
                                {
                                    "title": "SOMETHING DUCK",
                                    "length": "14"
                                },
                                {
                                    "title": "SONS INTERVIEW",
                                    "length": "14"
                                },
                                {
                                    "title": "SORORITY QUEEN",
                                    "length": "14"
                                },
                                {
                                    "title": "SPEAKEASY DATE",
                                    "length": "14"
                                },
                                {
                                    "title": "SPICE SORORITY",
                                    "length": "14"
                                },
                                {
                                    "title": "STAR OPERATION",
                                    "length": "14"
                                },
                                {
                                    "title": "STING PERSONAL",
                                    "length": "14"
                                },
                                {
                                    "title": "STRAIGHT HOURS",
                                    "length": "14"
                                },
                                {
                                    "title": "SUNRISE LEAGUE",
                                    "length": "14"
                                },
                                {
                                    "title": "SWEDEN SHINING",
                                    "length": "14"
                                },
                                {
                                    "title": "THEORY MERMAID",
                                    "length": "14"
                                },
                                {
                                    "title": "THIN SAGEBRUSH",
                                    "length": "14"
                                },
                                {
                                    "title": "TIMBERLAND SKY",
                                    "length": "14"
                                },
                                {
                                    "title": "TRAFFIC HOBBIT",
                                    "length": "14"
                                },
                                {
                                    "title": "TROOPERS METAL",
                                    "length": "14"
                                },
                                {
                                    "title": "UNCUT SUICIDES",
                                    "length": "14"
                                },
                                {
                                    "title": "VOYAGE LEGALLY",
                                    "length": "14"
                                },
                                {
                                    "title": "WEDDING APOLLO",
                                    "length": "14"
                                },
                                {
                                    "title": "WONDERFUL DROP",
                                    "length": "14"
                                },
                                {
                                    "title": "WRONG BEHAVIOR",
                                    "length": "14"
                                },
                                {
                                    "title": "YOUNG LANGUAGE",
                                    "length": "14"
                                },
                                {
                                    "title": "AIRPLANE SIERRA",
                                    "length": "15"
                                },
                                {
                                    "title": "AIRPORT POLLOCK",
                                    "length": "15"
                                },
                                {
                                    "title": "ALAMO VIDEOTAPE",
                                    "length": "15"
                                },
                                {
                                    "title": "ALLEY EVOLUTION",
                                    "length": "15"
                                },
                                {
                                    "title": "AMERICAN CIRCUS",
                                    "length": "15"
                                },
                                {
                                    "title": "ANONYMOUS HUMAN",
                                    "length": "15"
                                },
                                {
                                    "title": "ARMAGEDDON LOST",
                                    "length": "15"
                                },
                                {
                                    "title": "BAKED CLEOPATRA",
                                    "length": "15"
                                },
                                {
                                    "title": "BEAST HUNCHBACK",
                                    "length": "15"
                                },
                                {
                                    "title": "BILKO ANONYMOUS",
                                    "length": "15"
                                },
                                {
                                    "title": "BIRCH ANTITRUST",
                                    "length": "15"
                                },
                                {
                                    "title": "BIRDCAGE CASPER",
                                    "length": "15"
                                },
                                {
                                    "title": "BIRDS PERDITION",
                                    "length": "15"
                                },
                                {
                                    "title": "BLANKET BEVERLY",
                                    "length": "15"
                                },
                                {
                                    "title": "BLOOD ARGONAUTS",
                                    "length": "15"
                                },
                                {
                                    "title": "BROOKLYN DESERT",
                                    "length": "15"
                                },
                                {
                                    "title": "CADDYSHACK JEDI",
                                    "length": "15"
                                },
                                {
                                    "title": "CAMPUS REMEMBER",
                                    "length": "15"
                                },
                                {
                                    "title": "CASSIDY WYOMING",
                                    "length": "15"
                                },
                                {
                                    "title": "CENTER DINOSAUR",
                                    "length": "15"
                                },
                                {
                                    "title": "CHAINSAW UPTOWN",
                                    "length": "15"
                                },
                                {
                                    "title": "CHAMBER ITALIAN",
                                    "length": "15"
                                },
                                {
                                    "title": "CHAPLIN LICENSE",
                                    "length": "15"
                                },
                                {
                                    "title": "CHISUM BEHAVIOR",
                                    "length": "15"
                                },
                                {
                                    "title": "CLEOPATRA DEVIL",
                                    "length": "15"
                                },
                                {
                                    "title": "CLUELESS BUCKET",
                                    "length": "15"
                                },
                                {
                                    "title": "COMMAND DARLING",
                                    "length": "15"
                                },
                                {
                                    "title": "CROOKED FROGMEN",
                                    "length": "15"
                                },
                                {
                                    "title": "CROWDS TELEMARK",
                                    "length": "15"
                                },
                                {
                                    "title": "DAISY MENAGERIE",
                                    "length": "15"
                                },
                                {
                                    "title": "DESERT POSEIDON",
                                    "length": "15"
                                },
                                {
                                    "title": "DISCIPLE MOTHER",
                                    "length": "15"
                                },
                                {
                                    "title": "DIVORCE SHINING",
                                    "length": "15"
                                },
                                {
                                    "title": "DOORS PRESIDENT",
                                    "length": "15"
                                },
                                {
                                    "title": "DOWNHILL ENOUGH",
                                    "length": "15"
                                },
                                {
                                    "title": "DRACULA CRYSTAL",
                                    "length": "15"
                                },
                                {
                                    "title": "DROP WATERFRONT",
                                    "length": "15"
                                },
                                {
                                    "title": "DYNAMITE TARZAN",
                                    "length": "15"
                                },
                                {
                                    "title": "ELEPHANT TROJAN",
                                    "length": "15"
                                },
                                {
                                    "title": "ELIZABETH SHANE",
                                    "length": "15"
                                },
                                {
                                    "title": "EVOLUTION ALTER",
                                    "length": "15"
                                },
                                {
                                    "title": "FULL FLATLINERS",
                                    "length": "15"
                                },
                                {
                                    "title": "GAMES BOWFINGER",
                                    "length": "15"
                                },
                                {
                                    "title": "GENTLEMEN STAGE",
                                    "length": "15"
                                },
                                {
                                    "title": "GHOST GROUNDHOG",
                                    "length": "15"
                                },
                                {
                                    "title": "GILBERT PELICAN",
                                    "length": "15"
                                },
                                {
                                    "title": "GODFATHER DIARY",
                                    "length": "15"
                                },
                                {
                                    "title": "GOLDMINE TYCOON",
                                    "length": "15"
                                },
                                {
                                    "title": "GROUNDHOG UNCUT",
                                    "length": "15"
                                },
                                {
                                    "title": "HIGHBALL POTTER",
                                    "length": "15"
                                },
                                {
                                    "title": "HILLS NEIGHBORS",
                                    "length": "15"
                                },
                                {
                                    "title": "HOLES BRANNIGAN",
                                    "length": "15"
                                },
                                {
                                    "title": "HOLLOW JEOPARDY",
                                    "length": "15"
                                },
                                {
                                    "title": "HOTEL HAPPINESS",
                                    "length": "15"
                                },
                                {
                                    "title": "IDOLS SNATCHERS",
                                    "length": "15"
                                },
                                {
                                    "title": "ILLUSION AMELIE",
                                    "length": "15"
                                },
                                {
                                    "title": "INFORMER DOUBLE",
                                    "length": "15"
                                },
                                {
                                    "title": "INSIDER ARIZONA",
                                    "length": "15"
                                },
                                {
                                    "title": "ISLAND EXORCIST",
                                    "length": "15"
                                },
                                {
                                    "title": "ITALIAN AFRICAN",
                                    "length": "15"
                                },
                                {
                                    "title": "JEEPERS WEDDING",
                                    "length": "15"
                                },
                                {
                                    "title": "JEOPARDY ENCINO",
                                    "length": "15"
                                },
                                {
                                    "title": "KILLER INNOCENT",
                                    "length": "15"
                                },
                                {
                                    "title": "LANGUAGE COWBOY",
                                    "length": "15"
                                },
                                {
                                    "title": "LICENSE WEEKEND",
                                    "length": "15"
                                },
                                {
                                    "title": "LONELY ELEPHANT",
                                    "length": "15"
                                },
                                {
                                    "title": "LOUISIANA HARRY",
                                    "length": "15"
                                },
                                {
                                    "title": "MADNESS ATTACKS",
                                    "length": "15"
                                },
                                {
                                    "title": "MAJESTIC FLOATS",
                                    "length": "15"
                                },
                                {
                                    "title": "MALLRATS UNITED",
                                    "length": "15"
                                },
                                {
                                    "title": "MANNEQUIN WORST",
                                    "length": "15"
                                },
                                {
                                    "title": "MERMAID INSECTS",
                                    "length": "15"
                                },
                                {
                                    "title": "METROPOLIS COMA",
                                    "length": "15"
                                },
                                {
                                    "title": "MIRACLE VIRTUAL",
                                    "length": "15"
                                },
                                {
                                    "title": "MOONSHINE CABIN",
                                    "length": "15"
                                },
                                {
                                    "title": "MOONWALKER FOOL",
                                    "length": "15"
                                },
                                {
                                    "title": "MOTHER OLEANDER",
                                    "length": "15"
                                },
                                {
                                    "title": "MOTIONS DETAILS",
                                    "length": "15"
                                },
                                {
                                    "title": "MOURNING PURPLE",
                                    "length": "15"
                                },
                                {
                                    "title": "MUMMY CREATURES",
                                    "length": "15"
                                },
                                {
                                    "title": "MUSKETEERS WAIT",
                                    "length": "15"
                                },
                                {
                                    "title": "NIGHTMARE CHILL",
                                    "length": "15"
                                },
                                {
                                    "title": "OUTBREAK DIVINE",
                                    "length": "15"
                                },
                                {
                                    "title": "PACIFIC AMISTAD",
                                    "length": "15"
                                },
                                {
                                    "title": "PANKY SUBMARINE",
                                    "length": "15"
                                },
                                {
                                    "title": "PERDITION FARGO",
                                    "length": "15"
                                },
                                {
                                    "title": "PINOCCHIO SIMON",
                                    "length": "15"
                                },
                                {
                                    "title": "PIRATES ROXANNE",
                                    "length": "15"
                                },
                                {
                                    "title": "POLISH BROOKLYN",
                                    "length": "15"
                                },
                                {
                                    "title": "PRIX UNDEFEATED",
                                    "length": "15"
                                },
                                {
                                    "title": "QUEST MUSSOLINI",
                                    "length": "15"
                                },
                                {
                                    "title": "RAGING AIRPLANE",
                                    "length": "15"
                                },
                                {
                                    "title": "REAP UNFAITHFUL",
                                    "length": "15"
                                },
                                {
                                    "title": "REIGN GENTLEMEN",
                                    "length": "15"
                                },
                                {
                                    "title": "REUNION WITCHES",
                                    "length": "15"
                                },
                                {
                                    "title": "RUSH GOODFELLAS",
                                    "length": "15"
                                },
                                {
                                    "title": "SCORPION APOLLO",
                                    "length": "15"
                                },
                                {
                                    "title": "SEABISCUIT PUNK",
                                    "length": "15"
                                },
                                {
                                    "title": "SECRETARY ROUGE",
                                    "length": "15"
                                },
                                {
                                    "title": "SHANGHAI TYCOON",
                                    "length": "15"
                                },
                                {
                                    "title": "SHIP WONDERLAND",
                                    "length": "15"
                                },
                                {
                                    "title": "SLEEPY JAPANESE",
                                    "length": "15"
                                },
                                {
                                    "title": "SMOOCHY CONTROL",
                                    "length": "15"
                                },
                                {
                                    "title": "SPIKING ELEMENT",
                                    "length": "15"
                                },
                                {
                                    "title": "SPLENDOR PATTON",
                                    "length": "15"
                                },
                                {
                                    "title": "STATE WASTELAND",
                                    "length": "15"
                                },
                                {
                                    "title": "STORM HAPPINESS",
                                    "length": "15"
                                },
                                {
                                    "title": "SUMMER SCARFACE",
                                    "length": "15"
                                },
                                {
                                    "title": "SUN CONFESSIONS",
                                    "length": "15"
                                },
                                {
                                    "title": "SUSPECTS QUILLS",
                                    "length": "15"
                                },
                                {
                                    "title": "TERMINATOR CLUB",
                                    "length": "15"
                                },
                                {
                                    "title": "TOURIST PELICAN",
                                    "length": "15"
                                },
                                {
                                    "title": "TROJAN TOMORROW",
                                    "length": "15"
                                },
                                {
                                    "title": "TWISTED PIRATES",
                                    "length": "15"
                                },
                                {
                                    "title": "UNFAITHFUL KILL",
                                    "length": "15"
                                },
                                {
                                    "title": "UPRISING UPTOWN",
                                    "length": "15"
                                },
                                {
                                    "title": "VANISHED GARDEN",
                                    "length": "15"
                                },
                                {
                                    "title": "VANISHING ROCKY",
                                    "length": "15"
                                },
                                {
                                    "title": "VICTORY ACADEMY",
                                    "length": "15"
                                },
                                {
                                    "title": "VIETNAM SMOOCHY",
                                    "length": "15"
                                },
                                {
                                    "title": "VIRGINIAN PLUTO",
                                    "length": "15"
                                },
                                {
                                    "title": "WHISPERER GIANT",
                                    "length": "15"
                                },
                                {
                                    "title": "ACADEMY DINOSAUR",
                                    "length": "16"
                                },
                                {
                                    "title": "ADAPTATION HOLES",
                                    "length": "16"
                                },
                                {
                                    "title": "AFFAIR PREJUDICE",
                                    "length": "16"
                                },
                                {
                                    "title": "ALADDIN CALENDAR",
                                    "length": "16"
                                },
                                {
                                    "title": "ANALYZE HOOSIERS",
                                    "length": "16"
                                },
                                {
                                    "title": "ARMY FLINTSTONES",
                                    "length": "16"
                                },
                                {
                                    "title": "BALLOON HOMEWARD",
                                    "length": "16"
                                },
                                {
                                    "title": "BANGER PINOCCHIO",
                                    "length": "16"
                                },
                                {
                                    "title": "BEHAVIOR RUNAWAY",
                                    "length": "16"
                                },
                                {
                                    "title": "BIKINI BORROWERS",
                                    "length": "16"
                                },
                                {
                                    "title": "BLACKOUT PRIVATE",
                                    "length": "16"
                                },
                                {
                                    "title": "BONNIE HOLOCAUST",
                                    "length": "16"
                                },
                                {
                                    "title": "BOWFINGER GABLES",
                                    "length": "16"
                                },
                                {
                                    "title": "BRAVEHEART HUMAN",
                                    "length": "16"
                                },
                                {
                                    "title": "CALIFORNIA BIRDS",
                                    "length": "16"
                                },
                                {
                                    "title": "CAMELOT VACATION",
                                    "length": "16"
                                },
                                {
                                    "title": "CASABLANCA SUPER",
                                    "length": "16"
                                },
                                {
                                    "title": "CASPER DRAGONFLY",
                                    "length": "16"
                                },
                                {
                                    "title": "CLONES PINOCCHIO",
                                    "length": "16"
                                },
                                {
                                    "title": "CONFUSED CANDLES",
                                    "length": "16"
                                },
                                {
                                    "title": "CRANES RESERVOIR",
                                    "length": "16"
                                },
                                {
                                    "title": "CROSSING DIVORCE",
                                    "length": "16"
                                },
                                {
                                    "title": "CRYSTAL BREAKING",
                                    "length": "16"
                                },
                                {
                                    "title": "CUPBOARD SINNERS",
                                    "length": "16"
                                },
                                {
                                    "title": "DADDY PITTSBURGH",
                                    "length": "16"
                                },
                                {
                                    "title": "DANGEROUS UPTOWN",
                                    "length": "16"
                                },
                                {
                                    "title": "DARLING BREAKING",
                                    "length": "16"
                                },
                                {
                                    "title": "DAUGHTER MADIGAN",
                                    "length": "16"
                                },
                                {
                                    "title": "DESTINATION JERK",
                                    "length": "16"
                                },
                                {
                                    "title": "DESTINY SATURDAY",
                                    "length": "16"
                                },
                                {
                                    "title": "DETECTIVE VISION",
                                    "length": "16"
                                },
                                {
                                    "title": "DRUMLINE CYCLONE",
                                    "length": "16"
                                },
                                {
                                    "title": "EARRING INSTINCT",
                                    "length": "16"
                                },
                                {
                                    "title": "EFFECT GLADIATOR",
                                    "length": "16"
                                },
                                {
                                    "title": "EGYPT TENENBAUMS",
                                    "length": "16"
                                },
                                {
                                    "title": "EMPIRE MALKOVICH",
                                    "length": "16"
                                },
                                {
                                    "title": "ENGLISH BULWORTH",
                                    "length": "16"
                                },
                                {
                                    "title": "EVE RESURRECTION",
                                    "length": "16"
                                },
                                {
                                    "title": "FANTASY TROOPERS",
                                    "length": "16"
                                },
                                {
                                    "title": "FIGHT JAWBREAKER",
                                    "length": "16"
                                },
                                {
                                    "title": "FINDING ANACONDA",
                                    "length": "16"
                                },
                                {
                                    "title": "FOOL MOCKINGBIRD",
                                    "length": "16"
                                },
                                {
                                    "title": "FROGMEN BREAKING",
                                    "length": "16"
                                },
                                {
                                    "title": "FUGITIVE MAGUIRE",
                                    "length": "16"
                                },
                                {
                                    "title": "GASLIGHT CRUSADE",
                                    "length": "16"
                                },
                                {
                                    "title": "GHOSTBUSTERS ELF",
                                    "length": "16"
                                },
                                {
                                    "title": "GROSSE WONDERFUL",
                                    "length": "16"
                                },
                                {
                                    "title": "HAPPINESS UNITED",
                                    "length": "16"
                                },
                                {
                                    "title": "HAUNTING PIANIST",
                                    "length": "16"
                                },
                                {
                                    "title": "HURRICANE AFFAIR",
                                    "length": "16"
                                },
                                {
                                    "title": "HYSTERICAL GRAIL",
                                    "length": "16"
                                },
                                {
                                    "title": "INSTINCT AIRPORT",
                                    "length": "16"
                                },
                                {
                                    "title": "INVASION CYCLONE",
                                    "length": "16"
                                },
                                {
                                    "title": "ISHTAR ROCKETEER",
                                    "length": "16"
                                },
                                {
                                    "title": "JINGLE SAGEBRUSH",
                                    "length": "16"
                                },
                                {
                                    "title": "KENTUCKIAN GIANT",
                                    "length": "16"
                                },
                                {
                                    "title": "KILL BROTHERHOOD",
                                    "length": "16"
                                },
                                {
                                    "title": "KRAMER CHOCOLATE",
                                    "length": "16"
                                },
                                {
                                    "title": "LABYRINTH LEAGUE",
                                    "length": "16"
                                },
                                {
                                    "title": "LAMBS CINCINATTI",
                                    "length": "16"
                                },
                                {
                                    "title": "LESSON CLEOPATRA",
                                    "length": "16"
                                },
                                {
                                    "title": "LOATHING LEGALLY",
                                    "length": "16"
                                },
                                {
                                    "title": "LOVERBOY ATTACKS",
                                    "length": "16"
                                },
                                {
                                    "title": "METAL ARMAGEDDON",
                                    "length": "16"
                                },
                                {
                                    "title": "MULHOLLAND BEAST",
                                    "length": "16"
                                },
                                {
                                    "title": "MURDER ANTITRUST",
                                    "length": "16"
                                },
                                {
                                    "title": "NEWTON LABYRINTH",
                                    "length": "16"
                                },
                                {
                                    "title": "NORTHWEST POLISH",
                                    "length": "16"
                                },
                                {
                                    "title": "NOVOCAINE FLIGHT",
                                    "length": "16"
                                },
                                {
                                    "title": "OKLAHOMA JUMANJI",
                                    "length": "16"
                                },
                                {
                                    "title": "PARADISE SABRINA",
                                    "length": "16"
                                },
                                {
                                    "title": "PATTON INTERVIEW",
                                    "length": "16"
                                },
                                {
                                    "title": "PELICAN COMFORTS",
                                    "length": "16"
                                },
                                {
                                    "title": "PIANIST OUTFIELD",
                                    "length": "16"
                                },
                                {
                                    "title": "PLATOON INSTINCT",
                                    "length": "16"
                                },
                                {
                                    "title": "POSEIDON FOREVER",
                                    "length": "16"
                                },
                                {
                                    "title": "RANGE MOONWALKER",
                                    "length": "16"
                                },
                                {
                                    "title": "RIDER CADDYSHACK",
                                    "length": "16"
                                },
                                {
                                    "title": "ROCKETEER MOTHER",
                                    "length": "16"
                                },
                                {
                                    "title": "RUSHMORE MERMAID",
                                    "length": "16"
                                },
                                {
                                    "title": "SABRINA MIDNIGHT",
                                    "length": "16"
                                },
                                {
                                    "title": "SADDLE ANTITRUST",
                                    "length": "16"
                                },
                                {
                                    "title": "SECRET GROUNDHOG",
                                    "length": "16"
                                },
                                {
                                    "title": "SECRETS PARADISE",
                                    "length": "16"
                                },
                                {
                                    "title": "SENSIBILITY REAR",
                                    "length": "16"
                                },
                                {
                                    "title": "SHAWSHANK BUBBLE",
                                    "length": "16"
                                },
                                {
                                    "title": "SINNERS ATLANTIS",
                                    "length": "16"
                                },
                                {
                                    "title": "SLACKER LIAISONS",
                                    "length": "16"
                                },
                                {
                                    "title": "SLIPPER FIDELITY",
                                    "length": "16"
                                },
                                {
                                    "title": "STREAK RIDGEMONT",
                                    "length": "16"
                                },
                                {
                                    "title": "SUICIDES SILENCE",
                                    "length": "16"
                                },
                                {
                                    "title": "TARZAN VIDEOTAPE",
                                    "length": "16"
                                },
                                {
                                    "title": "TELEGRAPH VOYAGE",
                                    "length": "16"
                                },
                                {
                                    "title": "TITANIC BOONDOCK",
                                    "length": "16"
                                },
                                {
                                    "title": "TOMORROW HUSTLER",
                                    "length": "16"
                                },
                                {
                                    "title": "TOWERS HURRICANE",
                                    "length": "16"
                                },
                                {
                                    "title": "TREASURE COMMAND",
                                    "length": "16"
                                },
                                {
                                    "title": "TREATMENT JEKYLL",
                                    "length": "16"
                                },
                                {
                                    "title": "TYCOON GATHERING",
                                    "length": "16"
                                },
                                {
                                    "title": "VIRTUAL SPOILERS",
                                    "length": "16"
                                },
                                {
                                    "title": "WARDROBE PHANTOM",
                                    "length": "16"
                                },
                                {
                                    "title": "WARLOCK WEREWOLF",
                                    "length": "16"
                                },
                                {
                                    "title": "WASTELAND DIVINE",
                                    "length": "16"
                                },
                                {
                                    "title": "WEEKEND PERSONAL",
                                    "length": "16"
                                },
                                {
                                    "title": "AMISTAD MIDSUMMER",
                                    "length": "17"
                                },
                                {
                                    "title": "ANYTHING SAVANNAH",
                                    "length": "17"
                                },
                                {
                                    "title": "ATTRACTION NEWTON",
                                    "length": "17"
                                },
                                {
                                    "title": "BEDAZZLED MARRIED",
                                    "length": "17"
                                },
                                {
                                    "title": "BIRD INDEPENDENCE",
                                    "length": "17"
                                },
                                {
                                    "title": "BOONDOCK BALLROOM",
                                    "length": "17"
                                },
                                {
                                    "title": "BRANNIGAN SUNRISE",
                                    "length": "17"
                                },
                                {
                                    "title": "BRIGHT ENCOUNTERS",
                                    "length": "17"
                                },
                                {
                                    "title": "CALENDAR GUNFIGHT",
                                    "length": "17"
                                },
                                {
                                    "title": "CARIBBEAN LIBERTY",
                                    "length": "17"
                                },
                                {
                                    "title": "CASUALTIES ENCINO",
                                    "length": "17"
                                },
                                {
                                    "title": "COMANCHEROS ENEMY",
                                    "length": "17"
                                },
                                {
                                    "title": "CONEHEADS SMOOCHY",
                                    "length": "17"
                                },
                                {
                                    "title": "CONNECTICUT TRAMP",
                                    "length": "17"
                                },
                                {
                                    "title": "CONSPIRACY SPIRIT",
                                    "length": "17"
                                },
                                {
                                    "title": "CONTACT ANONYMOUS",
                                    "length": "17"
                                },
                                {
                                    "title": "CURTAIN VIDEOTAPE",
                                    "length": "17"
                                },
                                {
                                    "title": "DALMATIONS SWEDEN",
                                    "length": "17"
                                },
                                {
                                    "title": "DECEIVER BETRAYED",
                                    "length": "17"
                                },
                                {
                                    "title": "DUFFEL APOCALYPSE",
                                    "length": "17"
                                },
                                {
                                    "title": "ESCAPE METROPOLIS",
                                    "length": "17"
                                },
                                {
                                    "title": "FELLOWSHIP AUTUMN",
                                    "length": "17"
                                },
                                {
                                    "title": "FICTION CHRISTMAS",
                                    "length": "17"
                                },
                                {
                                    "title": "FIREHOUSE VIETNAM",
                                    "length": "17"
                                },
                                {
                                    "title": "FLATLINERS KILLER",
                                    "length": "17"
                                },
                                {
                                    "title": "FOREVER CANDIDATE",
                                    "length": "17"
                                },
                                {
                                    "title": "FREEDOM CLEOPATRA",
                                    "length": "17"
                                },
                                {
                                    "title": "GABLES METROPOLIS",
                                    "length": "17"
                                },
                                {
                                    "title": "GOODFELLAS SALUTE",
                                    "length": "17"
                                },
                                {
                                    "title": "HANDICAP BOONDOCK",
                                    "length": "17"
                                },
                                {
                                    "title": "HAUNTED ANTITRUST",
                                    "length": "17"
                                },
                                {
                                    "title": "HOOSIERS BIRDCAGE",
                                    "length": "17"
                                },
                                {
                                    "title": "INTENTIONS EMPIRE",
                                    "length": "17"
                                },
                                {
                                    "title": "LEBOWSKI SOLDIERS",
                                    "length": "17"
                                },
                                {
                                    "title": "LEGALLY SECRETARY",
                                    "length": "17"
                                },
                                {
                                    "title": "MEMENTO ZOOLANDER",
                                    "length": "17"
                                },
                                {
                                    "title": "MIDNIGHT WESTWARD",
                                    "length": "17"
                                },
                                {
                                    "title": "MISSION ZOOLANDER",
                                    "length": "17"
                                },
                                {
                                    "title": "MONSTER SPARTACUS",
                                    "length": "17"
                                },
                                {
                                    "title": "MONTEZUMA COMMAND",
                                    "length": "17"
                                },
                                {
                                    "title": "MOVIE SHAKESPEARE",
                                    "length": "17"
                                },
                                {
                                    "title": "NECKLACE OUTBREAK",
                                    "length": "17"
                                },
                                {
                                    "title": "NEIGHBORS CHARADE",
                                    "length": "17"
                                },
                                {
                                    "title": "NOTORIOUS REUNION",
                                    "length": "17"
                                },
                                {
                                    "title": "NOTTING SPEAKEASY",
                                    "length": "17"
                                },
                                {
                                    "title": "OCTOBER SUBMARINE",
                                    "length": "17"
                                },
                                {
                                    "title": "OPPOSITE NECKLACE",
                                    "length": "17"
                                },
                                {
                                    "title": "OUTFIELD MASSACRE",
                                    "length": "17"
                                },
                                {
                                    "title": "PAJAMA JAWBREAKER",
                                    "length": "17"
                                },
                                {
                                    "title": "PERSONAL LADYBUGS",
                                    "length": "17"
                                },
                                {
                                    "title": "PHILADELPHIA WIFE",
                                    "length": "17"
                                },
                                {
                                    "title": "RAIDERS ANTITRUST",
                                    "length": "17"
                                },
                                {
                                    "title": "SHOOTIST SUPERFLY",
                                    "length": "17"
                                },
                                {
                                    "title": "SLEEPING SUSPECTS",
                                    "length": "17"
                                },
                                {
                                    "title": "SLEEPLESS MONSOON",
                                    "length": "17"
                                },
                                {
                                    "title": "SPARTACUS CHEAPER",
                                    "length": "17"
                                },
                                {
                                    "title": "STALLION SUNDANCE",
                                    "length": "17"
                                },
                                {
                                    "title": "STEERS ARMAGEDDON",
                                    "length": "17"
                                },
                                {
                                    "title": "STRICTLY SCARFACE",
                                    "length": "17"
                                },
                                {
                                    "title": "SUNDANCE INVASION",
                                    "length": "17"
                                },
                                {
                                    "title": "SWEET BROTHERHOOD",
                                    "length": "17"
                                },
                                {
                                    "title": "TALENTED HOMICIDE",
                                    "length": "17"
                                },
                                {
                                    "title": "TEMPLE ATTRACTION",
                                    "length": "17"
                                },
                                {
                                    "title": "TRADING PINOCCHIO",
                                    "length": "17"
                                },
                                {
                                    "title": "VACATION BOONDOCK",
                                    "length": "17"
                                },
                                {
                                    "title": "VELVET TERMINATOR",
                                    "length": "17"
                                },
                                {
                                    "title": "VERTIGO NORTHWEST",
                                    "length": "17"
                                },
                                {
                                    "title": "VIDEOTAPE ARSENIC",
                                    "length": "17"
                                },
                                {
                                    "title": "VILLAIN DESPERATE",
                                    "length": "17"
                                },
                                {
                                    "title": "ZOOLANDER FICTION",
                                    "length": "17"
                                },
                                {
                                    "title": "ANTITRUST TOMATOES",
                                    "length": "18"
                                },
                                {
                                    "title": "ARTIST COLDBLOODED",
                                    "length": "18"
                                },
                                {
                                    "title": "BEETHOVEN EXORCIST",
                                    "length": "18"
                                },
                                {
                                    "title": "BUCKET BROTHERHOOD",
                                    "length": "18"
                                },
                                {
                                    "title": "BUTTERFLY CHOCOLAT",
                                    "length": "18"
                                },
                                {
                                    "title": "CLOCKWORK PARADISE",
                                    "length": "18"
                                },
                                {
                                    "title": "COLOR PHILADELPHIA",
                                    "length": "18"
                                },
                                {
                                    "title": "CONGENIALITY QUEST",
                                    "length": "18"
                                },
                                {
                                    "title": "CRUELTY UNFORGIVEN",
                                    "length": "18"
                                },
                                {
                                    "title": "DINOSAUR SECRETARY",
                                    "length": "18"
                                },
                                {
                                    "title": "ENCOUNTERS CURTAIN",
                                    "length": "18"
                                },
                                {
                                    "title": "GALAXY SWEETHEARTS",
                                    "length": "18"
                                },
                                {
                                    "title": "GATHERING CALENDAR",
                                    "length": "18"
                                },
                                {
                                    "title": "GLADIATOR WESTWARD",
                                    "length": "18"
                                },
                                {
                                    "title": "GRACELAND DYNAMITE",
                                    "length": "18"
                                },
                                {
                                    "title": "GRAIL FRANKENSTEIN",
                                    "length": "18"
                                },
                                {
                                    "title": "HEAVYWEIGHTS BEAST",
                                    "length": "18"
                                },
                                {
                                    "title": "HOLOCAUST HIGHBALL",
                                    "length": "18"
                                },
                                {
                                    "title": "HUNTING MUSKETEERS",
                                    "length": "18"
                                },
                                {
                                    "title": "INDEPENDENCE HOTEL",
                                    "length": "18"
                                },
                                {
                                    "title": "INTERVIEW LIAISONS",
                                    "length": "18"
                                },
                                {
                                    "title": "MAGNIFICENT CHITTY",
                                    "length": "18"
                                },
                                {
                                    "title": "MAGNOLIA FORRESTER",
                                    "length": "18"
                                },
                                {
                                    "title": "MANCHURIAN CURTAIN",
                                    "length": "18"
                                },
                                {
                                    "title": "MENAGERIE RUSHMORE",
                                    "length": "18"
                                },
                                {
                                    "title": "MONTEREY LABYRINTH",
                                    "length": "18"
                                },
                                {
                                    "title": "MUSSOLINI SPOILERS",
                                    "length": "18"
                                },
                                {
                                    "title": "POTTER CONNECTICUT",
                                    "length": "18"
                                },
                                {
                                    "title": "PREJUDICE OLEANDER",
                                    "length": "18"
                                },
                                {
                                    "title": "RUNAWAY TENENBAUMS",
                                    "length": "18"
                                },
                                {
                                    "title": "SAGEBRUSH CLUELESS",
                                    "length": "18"
                                },
                                {
                                    "title": "SCISSORHANDS SLUMS",
                                    "length": "18"
                                },
                                {
                                    "title": "SHAKESPEARE SADDLE",
                                    "length": "18"
                                },
                                {
                                    "title": "SHEPHERD MIDSUMMER",
                                    "length": "18"
                                },
                                {
                                    "title": "SMOKING BARBARELLA",
                                    "length": "18"
                                },
                                {
                                    "title": "SOLDIERS EVOLUTION",
                                    "length": "18"
                                },
                                {
                                    "title": "SPIRIT FLINTSTONES",
                                    "length": "18"
                                },
                                {
                                    "title": "STRANGELOVE DESIRE",
                                    "length": "18"
                                },
                                {
                                    "title": "STRANGER STRANGERS",
                                    "length": "18"
                                },
                                {
                                    "title": "STRANGERS GRAFFITI",
                                    "length": "18"
                                },
                                {
                                    "title": "TENENBAUMS COMMAND",
                                    "length": "18"
                                },
                                {
                                    "title": "TRANSLATION SUMMER",
                                    "length": "18"
                                },
                                {
                                    "title": "UNBREAKABLE KARATE",
                                    "length": "18"
                                },
                                {
                                    "title": "USUAL UNTOUCHABLES",
                                    "length": "18"
                                },
                                {
                                    "title": "WATERSHIP FRONTIER",
                                    "length": "18"
                                },
                                {
                                    "title": "WIZARD COLDBLOODED",
                                    "length": "18"
                                },
                                {
                                    "title": "WORLD LEATHERNECKS",
                                    "length": "18"
                                },
                                {
                                    "title": "AMELIE HELLFIGHTERS",
                                    "length": "19"
                                },
                                {
                                    "title": "BACKLASH UNDEFEATED",
                                    "length": "19"
                                },
                                {
                                    "title": "BAREFOOT MANCHURIAN",
                                    "length": "19"
                                },
                                {
                                    "title": "BEACH HEARTBREAKERS",
                                    "length": "19"
                                },
                                {
                                    "title": "BORROWERS BEDAZZLED",
                                    "length": "19"
                                },
                                {
                                    "title": "BRINGING HYSTERICAL",
                                    "length": "19"
                                },
                                {
                                    "title": "BROTHERHOOD BLANKET",
                                    "length": "19"
                                },
                                {
                                    "title": "CANDIDATE PERDITION",
                                    "length": "19"
                                },
                                {
                                    "title": "CHAMPION FLATLINERS",
                                    "length": "19"
                                },
                                {
                                    "title": "CHANCE RESURRECTION",
                                    "length": "19"
                                },
                                {
                                    "title": "CHARIOTS CONSPIRACY",
                                    "length": "19"
                                },
                                {
                                    "title": "CHINATOWN GLADIATOR",
                                    "length": "19"
                                },
                                {
                                    "title": "CHRISTMAS MOONSHINE",
                                    "length": "19"
                                },
                                {
                                    "title": "COLDBLOODED DARLING",
                                    "length": "19"
                                },
                                {
                                    "title": "CONFESSIONS MAGUIRE",
                                    "length": "19"
                                },
                                {
                                    "title": "DISTURBING SCARFACE",
                                    "length": "19"
                                },
                                {
                                    "title": "DIVINE RESURRECTION",
                                    "length": "19"
                                },
                                {
                                    "title": "DOUBTFIRE LABYRINTH",
                                    "length": "19"
                                },
                                {
                                    "title": "DRAGONFLY STRANGERS",
                                    "length": "19"
                                },
                                {
                                    "title": "EXPECATIONS NATURAL",
                                    "length": "19"
                                },
                                {
                                    "title": "EXPENDABLE STALLION",
                                    "length": "19"
                                },
                                {
                                    "title": "GLEAMING JAWBREAKER",
                                    "length": "19"
                                },
                                {
                                    "title": "HELLFIGHTERS SIERRA",
                                    "length": "19"
                                },
                                {
                                    "title": "HOLLYWOOD ANONYMOUS",
                                    "length": "19"
                                },
                                {
                                    "title": "JAWBREAKER BROOKLYN",
                                    "length": "19"
                                },
                                {
                                    "title": "LADYBUGS ARMAGEDDON",
                                    "length": "19"
                                },
                                {
                                    "title": "LEAGUE HELLFIGHTERS",
                                    "length": "19"
                                },
                                {
                                    "title": "LEATHERNECKS DWARFS",
                                    "length": "19"
                                },
                                {
                                    "title": "LIBERTY MAGNIFICENT",
                                    "length": "19"
                                },
                                {
                                    "title": "MIDSUMMER GROUNDHOG",
                                    "length": "19"
                                },
                                {
                                    "title": "MOSQUITO ARMAGEDDON",
                                    "length": "19"
                                },
                                {
                                    "title": "OPERATION OPERATION",
                                    "length": "19"
                                },
                                {
                                    "title": "POLLOCK DELIVERANCE",
                                    "length": "19"
                                },
                                {
                                    "title": "REDEMPTION COMFORTS",
                                    "length": "19"
                                },
                                {
                                    "title": "RIDGEMONT SUBMARINE",
                                    "length": "19"
                                },
                                {
                                    "title": "RINGS HEARTBREAKERS",
                                    "length": "19"
                                },
                                {
                                    "title": "RUGRATS SHAKESPEARE",
                                    "length": "19"
                                },
                                {
                                    "title": "SEATTLE EXPECATIONS",
                                    "length": "19"
                                },
                                {
                                    "title": "SNATCHERS MONTEZUMA",
                                    "length": "19"
                                },
                                {
                                    "title": "SPIRITED CASUALTIES",
                                    "length": "19"
                                },
                                {
                                    "title": "STAMPEDE DISTURBING",
                                    "length": "19"
                                },
                                {
                                    "title": "VALENTINE VANISHING",
                                    "length": "19"
                                },
                                {
                                    "title": "WESTWARD SEABISCUIT",
                                    "length": "19"
                                },
                                {
                                    "title": "WORKING MICROCOSMOS",
                                    "length": "19"
                                },
                                {
                                    "title": "ANACONDA CONFESSIONS",
                                    "length": "20"
                                },
                                {
                                    "title": "APOCALYPSE FLAMINGOS",
                                    "length": "20"
                                },
                                {
                                    "title": "ARSENIC INDEPENDENCE",
                                    "length": "20"
                                },
                                {
                                    "title": "BALLROOM MOCKINGBIRD",
                                    "length": "20"
                                },
                                {
                                    "title": "BARBARELLA STREETCAR",
                                    "length": "20"
                                },
                                {
                                    "title": "BREAKFAST GOLDFINGER",
                                    "length": "20"
                                },
                                {
                                    "title": "CHICKEN HELLFIGHTERS",
                                    "length": "20"
                                },
                                {
                                    "title": "CINCINATTI WHISPERER",
                                    "length": "20"
                                },
                                {
                                    "title": "COMMANDMENTS EXPRESS",
                                    "length": "20"
                                },
                                {
                                    "title": "DRIFTER COMMANDMENTS",
                                    "length": "20"
                                },
                                {
                                    "title": "GUNFIGHTER MUSSOLINI",
                                    "length": "20"
                                },
                                {
                                    "title": "HEARTBREAKERS BRIGHT",
                                    "length": "20"
                                },
                                {
                                    "title": "HUNCHBACK IMPOSSIBLE",
                                    "length": "20"
                                },
                                {
                                    "title": "IMPOSSIBLE PREJUDICE",
                                    "length": "20"
                                },
                                {
                                    "title": "MICROCOSMOS PARADISE",
                                    "length": "20"
                                },
                                {
                                    "title": "PITTSBURGH HUNCHBACK",
                                    "length": "20"
                                },
                                {
                                    "title": "RESERVOIR ADAPTATION",
                                    "length": "20"
                                },
                                {
                                    "title": "SILVERADO GOLDFINGER",
                                    "length": "20"
                                },
                                {
                                    "title": "STREETCAR INTENTIONS",
                                    "length": "20"
                                },
                                {
                                    "title": "SWEETHEARTS SUSPECTS",
                                    "length": "20"
                                },
                                {
                                    "title": "UNFORGIVEN ZOOLANDER",
                                    "length": "20"
                                },
                                {
                                    "title": "UNTOUCHABLES SUNRISE",
                                    "length": "20"
                                },
                                {
                                    "title": "WONDERLAND CHRISTMAS",
                                    "length": "20"
                                },
                                {
                                    "title": "BULWORTH COMMANDMENTS",
                                    "length": "21"
                                },
                                {
                                    "title": "CONVERSATION DOWNHILL",
                                    "length": "21"
                                },
                                {
                                    "title": "CREATURES SHAKESPEARE",
                                    "length": "21"
                                },
                                {
                                    "title": "CROSSROADS CASUALTIES",
                                    "length": "21"
                                },
                                {
                                    "title": "FIREBALL PHILADELPHIA",
                                    "length": "21"
                                },
                                {
                                    "title": "FLAMINGOS CONNECTICUT",
                                    "length": "21"
                                },
                                {
                                    "title": "FLINTSTONES HAPPINESS",
                                    "length": "21"
                                },
                                {
                                    "title": "FORRESTER COMANCHEROS",
                                    "length": "21"
                                },
                                {
                                    "title": "FRANKENSTEIN STRANGER",
                                    "length": "21"
                                },
                                {
                                    "title": "MOCKINGBIRD HOLLYWOOD",
                                    "length": "21"
                                },
                                {
                                    "title": "SNOWMAN ROLLERCOASTER",
                                    "length": "21"
                                },
                                {
                                    "title": "SPOILERS HELLFIGHTERS",
                                    "length": "21"
                                },
                                {
                                    "title": "STAGECOACH ARMAGEDDON",
                                    "length": "21"
                                },
                                {
                                    "title": "TOMATOES HELLFIGHTERS",
                                    "length": "21"
                                },
                                {
                                    "title": "UNDEFEATED DALMATIONS",
                                    "length": "21"
                                },
                                {
                                    "title": "CONFIDENTIAL INTERVIEW",
                                    "length": "22"
                                },
                                {
                                    "title": "CONNECTION MICROCOSMOS",
                                    "length": "22"
                                },
                                {
                                    "title": "DELIVERANCE MULHOLLAND",
                                    "length": "22"
                                },
                                {
                                    "title": "GOLDFINGER SENSIBILITY",
                                    "length": "22"
                                },
                                {
                                    "title": "INTOLERABLE INTENTIONS",
                                    "length": "22"
                                },
                                {
                                    "title": "RESURRECTION SILVERADO",
                                    "length": "22"
                                },
                                {
                                    "title": "ROLLERCOASTER BRINGING",
                                    "length": "22"
                                },
                                {
                                    "title": "TELEMARK HEARTBREAKERS",
                                    "length": "22"
                                },
                                {
                                    "title": "WATERFRONT DELIVERANCE",
                                    "length": "22"
                                },
                                {
                                    "title": "DESPERATE TRAINSPOTTING",
                                    "length": "23"
                                },
                                {
                                    "title": "ENTRAPMENT SATISFACTION",
                                    "length": "23"
                                },
                                {
                                    "title": "EXTRAORDINARY CONQUERER",
                                    "length": "23"
                                },
                                {
                                    "title": "TRAINSPOTTING STRANGERS",
                                    "length": "23"
                                },
                                {
                                    "title": "SATISFACTION CONFIDENTIAL",
                                    "length": "25"
                                },
                                {
                                    "title": "ARACHNOPHOBIA ROLLERCOASTER",
                                    "length": "27"
                                }
                            ]
                        },
                        "text/html": [
                            "<table>",
                            "<tr><th>title</th><th>length</th></tr>",
                            "<tr><td>EGG IGBY</td><td>8</td></tr>",
                            "<tr><td>INCH JET</td><td>8</td></tr>",
                            "<tr><td>OPUS ICE</td><td>8</td></tr>",
                            "<tr><td>SIDE ARK</td><td>8</td></tr>",
                            "<tr><td>SPY MILE</td><td>8</td></tr>",
                            "<tr><td>TOWN ARK</td><td>8</td></tr>",
                            "<tr><td>BABY HALL</td><td>9</td></tr>",
                            "<tr><td>BANG KWAI</td><td>9</td></tr>",
                            "<tr><td>COMA HEAD</td><td>9</td></tr>",
                            "<tr><td>CORE SUIT</td><td>9</td></tr>",
                            "<tr><td>DAWN POND</td><td>9</td></tr>",
                            "<tr><td>DIRTY ACE</td><td>9</td></tr>",
                            "<tr><td>FISH OPUS</td><td>9</td></tr>",
                            "<tr><td>GO PURPLE</td><td>9</td></tr>",
                            "<tr><td>GUMP DATE</td><td>9</td></tr>",
                            "<tr><td>HOME PITY</td><td>9</td></tr>",
                            "<tr><td>IRON MOON</td><td>9</td></tr>",
                            "<tr><td>LOCK REAR</td><td>9</td></tr>",
                            "<tr><td>LOSE INCH</td><td>9</td></tr>",
                            "<tr><td>LOST BIRD</td><td>9</td></tr>",
                            "<tr><td>LUCK OPUS</td><td>9</td></tr>",
                            "<tr><td>LUST LOCK</td><td>9</td></tr>",
                            "<tr><td>MAUDE MOD</td><td>9</td></tr>",
                            "<tr><td>NOON PAPI</td><td>9</td></tr>",
                            "<tr><td>NUTS TIES</td><td>9</td></tr>",
                            "<tr><td>RACER EGG</td><td>9</td></tr>",
                            "<tr><td>RANDOM GO</td><td>9</td></tr>",
                            "<tr><td>ROCKY WAR</td><td>9</td></tr>",
                            "<tr><td>SHOW LORD</td><td>9</td></tr>",
                            "<tr><td>TAXI KICK</td><td>9</td></tr>",
                            "<tr><td>TRAP GUYS</td><td>9</td></tr>",
                            "<tr><td>TURN STAR</td><td>9</td></tr>",
                            "<tr><td>WAKE JAWS</td><td>9</td></tr>",
                            "<tr><td>WEST LION</td><td>9</td></tr>",
                            "<tr><td>WIFE TURN</td><td>9</td></tr>",
                            "<tr><td>WON DARES</td><td>9</td></tr>",
                            "<tr><td>WONKA SEA</td><td>9</td></tr>",
                            "<tr><td>ZORRO ARK</td><td>9</td></tr>",
                            "<tr><td>ALONE TRIP</td><td>10</td></tr>",
                            "<tr><td>BASIC EASY</td><td>10</td></tr>",
                            "<tr><td>BUGSY SONG</td><td>10</td></tr>",
                            "<tr><td>CAUSE DATE</td><td>10</td></tr>",
                            "<tr><td>CHILL LUCK</td><td>10</td></tr>",
                            "<tr><td>CLUE GRAIL</td><td>10</td></tr>",
                            "<tr><td>CRAZY HOME</td><td>10</td></tr>",
                            "<tr><td>DATE SPEED</td><td>10</td></tr>",
                            "<tr><td>DAZED PUNK</td><td>10</td></tr>",
                            "<tr><td>DOLLS RAGE</td><td>10</td></tr>",
                            "<tr><td>DOZEN LION</td><td>10</td></tr>",
                            "<tr><td>DUCK RACER</td><td>10</td></tr>",
                            "<tr><td>DUMBO LUST</td><td>10</td></tr>",
                            "<tr><td>EARLY HOME</td><td>10</td></tr>",
                            "<tr><td>ELF MURDER</td><td>10</td></tr>",
                            "<tr><td>ENCINO ELF</td><td>10</td></tr>",
                            "<tr><td>ENEMY ODDS</td><td>10</td></tr>",
                            "<tr><td>FLASH WARS</td><td>10</td></tr>",
                            "<tr><td>FROST HEAD</td><td>10</td></tr>",
                            "<tr><td>GOLD RIVER</td><td>10</td></tr>",
                            "<tr><td>GUN BONNIE</td><td>10</td></tr>",
                            "<tr><td>HAWK CHILL</td><td>10</td></tr>",
                            "<tr><td>HONEY TIES</td><td>10</td></tr>",
                            "<tr><td>HOURS RAGE</td><td>10</td></tr>",
                            "<tr><td>IDAHO LOVE</td><td>10</td></tr>",
                            "<tr><td>IGBY MAKER</td><td>10</td></tr>",
                            "<tr><td>JADE BUNCH</td><td>10</td></tr>",
                            "<tr><td>JASON TRAP</td><td>10</td></tr>",
                            "<tr><td>JAWS HARRY</td><td>10</td></tr>",
                            "<tr><td>KISS GLORY</td><td>10</td></tr>",
                            "<tr><td>LADY STAGE</td><td>10</td></tr>",
                            "<tr><td>LION UNCUT</td><td>10</td></tr>",
                            "<tr><td>LOLA AGENT</td><td>10</td></tr>",
                            "<tr><td>LUKE MUMMY</td><td>10</td></tr>",
                            "<tr><td>MARRIED GO</td><td>10</td></tr>",
                            "<tr><td>MARS ROMAN</td><td>10</td></tr>",
                            "<tr><td>MASK PEACH</td><td>10</td></tr>",
                            "<tr><td>MILE MULAN</td><td>10</td></tr>",
                            "<tr><td>MOB DUFFEL</td><td>10</td></tr>",
                            "<tr><td>MODEL FISH</td><td>10</td></tr>",
                            "<tr><td>MOON BUNCH</td><td>10</td></tr>",
                            "<tr><td>MULAN MOON</td><td>10</td></tr>",
                            "<tr><td>OSCAR GOLD</td><td>10</td></tr>",
                            "<tr><td>PANIC CLUB</td><td>10</td></tr>",
                            "<tr><td>PITY BOUND</td><td>10</td></tr>",
                            "<tr><td>POCUS PULP</td><td>10</td></tr>",
                            "<tr><td>QUEEN LUKE</td><td>10</td></tr>",
                            "<tr><td>RAGE GAMES</td><td>10</td></tr>",
                            "<tr><td>REDS POCUS</td><td>10</td></tr>",
                            "<tr><td>ROMAN PUNK</td><td>10</td></tr>",
                            "<tr><td>ROOM ROMAN</td><td>10</td></tr>",
                            "<tr><td>SEA VIRGIN</td><td>10</td></tr>",
                            "<tr><td>SLING LUKE</td><td>10</td></tr>",
                            "<tr><td>SLUMS DUCK</td><td>10</td></tr>",
                            "<tr><td>SOUTH WAIT</td><td>10</td></tr>",
                            "<tr><td>SPEED SUIT</td><td>10</td></tr>",
                            "<tr><td>SQUAD FISH</td><td>10</td></tr>",
                            "<tr><td>STONE FIRE</td><td>10</td></tr>",
                            "<tr><td>STORY SIDE</td><td>10</td></tr>",
                            "<tr><td>SUIT WALLS</td><td>10</td></tr>",
                            "<tr><td>SWARM GOLD</td><td>10</td></tr>",
                            "<tr><td>WAGON JAWS</td><td>10</td></tr>",
                            "<tr><td>WAIT CIDER</td><td>10</td></tr>",
                            "<tr><td>WARS PLUTO</td><td>10</td></tr>",
                            "<tr><td>WRATH MILE</td><td>10</td></tr>",
                            "<tr><td>YOUTH KICK</td><td>10</td></tr>",
                            "<tr><td>AFRICAN EGG</td><td>11</td></tr>",
                            "<tr><td>ALI FOREVER</td><td>11</td></tr>",
                            "<tr><td>ANGELS LIFE</td><td>11</td></tr>",
                            "<tr><td>ANTHEM LUKE</td><td>11</td></tr>",
                            "<tr><td>APOLLO TEEN</td><td>11</td></tr>",
                            "<tr><td>AUTUMN CROW</td><td>11</td></tr>",
                            "<tr><td>BADMAN DAWN</td><td>11</td></tr>",
                            "<tr><td>BILL OTHERS</td><td>11</td></tr>",
                            "<tr><td>BORN SPINAL</td><td>11</td></tr>",
                            "<tr><td>BUNCH MINDS</td><td>11</td></tr>",
                            "<tr><td>CABIN FLASH</td><td>11</td></tr>",
                            "<tr><td>CAROL TEXAS</td><td>11</td></tr>",
                            "<tr><td>CHITTY LOCK</td><td>11</td></tr>",
                            "<tr><td>CLOSER BANG</td><td>11</td></tr>",
                            "<tr><td>COWBOY DOOM</td><td>11</td></tr>",
                            "<tr><td>CROW GREASE</td><td>11</td></tr>",
                            "<tr><td>DANCES NONE</td><td>11</td></tr>",
                            "<tr><td>DARES PLUTO</td><td>11</td></tr>",
                            "<tr><td>DIARY PANIC</td><td>11</td></tr>",
                            "<tr><td>DYING MAKER</td><td>11</td></tr>",
                            "<tr><td>FIRE WOLVES</td><td>11</td></tr>",
                            "<tr><td>FLIGHT LIES</td><td>11</td></tr>",
                            "<tr><td>FLYING HOOK</td><td>11</td></tr>",
                            "<tr><td>FURY MURDER</td><td>11</td></tr>",
                            "<tr><td>GANDHI KWAI</td><td>11</td></tr>",
                            "<tr><td>GANGS PRIDE</td><td>11</td></tr>",
                            "<tr><td>GLASS DYING</td><td>11</td></tr>",
                            "<tr><td>GLORY TRACY</td><td>11</td></tr>",
                            "<tr><td>GRAPES FURY</td><td>11</td></tr>",
                            "<tr><td>GUYS FALCON</td><td>11</td></tr>",
                            "<tr><td>HARRY IDAHO</td><td>11</td></tr>",
                            "<tr><td>HIGH ENCINO</td><td>11</td></tr>",
                            "<tr><td>HOCUS FRIDA</td><td>11</td></tr>",
                            "<tr><td>HUNGER ROOF</td><td>11</td></tr>",
                            "<tr><td>HYDE DOCTOR</td><td>11</td></tr>",
                            "<tr><td>INDIAN LOVE</td><td>11</td></tr>",
                            "<tr><td>KARATE MOON</td><td>11</td></tr>",
                            "<tr><td>LEGEND JEDI</td><td>11</td></tr>",
                            "<tr><td>LIGHTS DEER</td><td>11</td></tr>",
                            "<tr><td>MAIDEN HOME</td><td>11</td></tr>",
                            "<tr><td>MIGHTY LUCK</td><td>11</td></tr>",
                            "<tr><td>MILLION ACE</td><td>11</td></tr>",
                            "<tr><td>MINE TITANS</td><td>11</td></tr>",
                            "<tr><td>MIXED DOORS</td><td>11</td></tr>",
                            "<tr><td>MOULIN WAKE</td><td>11</td></tr>",
                            "<tr><td>MUPPET MILE</td><td>11</td></tr>",
                            "<tr><td>NEMO CAMPUS</td><td>11</td></tr>",
                            "<tr><td>ODDS BOOGIE</td><td>11</td></tr>",
                            "<tr><td>OTHERS SOUP</td><td>11</td></tr>",
                            "<tr><td>OZ LIAISONS</td><td>11</td></tr>",
                            "<tr><td>PARTY KNOCK</td><td>11</td></tr>",
                            "<tr><td>PRIDE ALAMO</td><td>11</td></tr>",
                            "<tr><td>PURE RUNNER</td><td>11</td></tr>",
                            "<tr><td>QUILLS BULL</td><td>11</td></tr>",
                            "<tr><td>REEF SALUTE</td><td>11</td></tr>",
                            "<tr><td>ROUGE SQUAD</td><td>11</td></tr>",
                            "<tr><td>RULES HUMAN</td><td>11</td></tr>",
                            "<tr><td>RUN PACIFIC</td><td>11</td></tr>",
                            "<tr><td>SANTA PARIS</td><td>11</td></tr>",
                            "<tr><td>SATURN NAME</td><td>11</td></tr>",
                            "<tr><td>SENSE GREEK</td><td>11</td></tr>",
                            "<tr><td>SEVEN SWARM</td><td>11</td></tr>",
                            "<tr><td>SHOCK CABIN</td><td>11</td></tr>",
                            "<tr><td>SIEGE MADRE</td><td>11</td></tr>",
                            "<tr><td>SIMON NORTH</td><td>11</td></tr>",
                            "<tr><td>SKY MIRACLE</td><td>11</td></tr>",
                            "<tr><td>SONG HEDWIG</td><td>11</td></tr>",
                            "<tr><td>SOUP WISDOM</td><td>11</td></tr>",
                            "<tr><td>SPLASH GUMP</td><td>11</td></tr>",
                            "<tr><td>STAGE WORLD</td><td>11</td></tr>",
                            "<tr><td>STEEL SANTA</td><td>11</td></tr>",
                            "<tr><td>STOCK GLASS</td><td>11</td></tr>",
                            "<tr><td>SUGAR WONKA</td><td>11</td></tr>",
                            "<tr><td>TEEN APOLLO</td><td>11</td></tr>",
                            "<tr><td>TEXAS WATCH</td><td>11</td></tr>",
                            "<tr><td>TIES HUNGER</td><td>11</td></tr>",
                            "<tr><td>TIGHTS DAWN</td><td>11</td></tr>",
                            "<tr><td>TITANS JERK</td><td>11</td></tr>",
                            "<tr><td>TRACY CIDER</td><td>11</td></tr>",
                            "<tr><td>TRAIN BUNCH</td><td>11</td></tr>",
                            "<tr><td>TRIP NEWTON</td><td>11</td></tr>",
                            "<tr><td>TUXEDO MILE</td><td>11</td></tr>",
                            "<tr><td>VANILLA DAY</td><td>11</td></tr>",
                            "<tr><td>VOICE PEACH</td><td>11</td></tr>",
                            "<tr><td>WAR NOTTING</td><td>11</td></tr>",
                            "<tr><td>WATCH TRACY</td><td>11</td></tr>",
                            "<tr><td>WILD APOLLO</td><td>11</td></tr>",
                            "<tr><td>WINDOW SIDE</td><td>11</td></tr>",
                            "<tr><td>YENTL IDAHO</td><td>11</td></tr>",
                            "<tr><td>AGENT TRUMAN</td><td>12</td></tr>",
                            "<tr><td>ALIEN CENTER</td><td>12</td></tr>",
                            "<tr><td>AMADEUS HOLY</td><td>12</td></tr>",
                            "<tr><td>ARABIA DOGMA</td><td>12</td></tr>",
                            "<tr><td>ARIZONA BANG</td><td>12</td></tr>",
                            "<tr><td>ATTACKS HATE</td><td>12</td></tr>",
                            "<tr><td>BED HIGHBALL</td><td>12</td></tr>",
                            "<tr><td>BENEATH RUSH</td><td>12</td></tr>",
                            "<tr><td>BERETS AGENT</td><td>12</td></tr>",
                            "<tr><td>BLADE POLISH</td><td>12</td></tr>",
                            "<tr><td>BOILED DARES</td><td>12</td></tr>",
                            "<tr><td>CANYON STOCK</td><td>12</td></tr>",
                            "<tr><td>CARRIE BUNCH</td><td>12</td></tr>",
                            "<tr><td>CIDER DESIRE</td><td>12</td></tr>",
                            "<tr><td>CIRCUS YOUTH</td><td>12</td></tr>",
                            "<tr><td>CLASH FREDDY</td><td>12</td></tr>",
                            "<tr><td>CLYDE THEORY</td><td>12</td></tr>",
                            "<tr><td>DARKNESS WAR</td><td>12</td></tr>",
                            "<tr><td>DARKO DORADO</td><td>12</td></tr>",
                            "<tr><td>DEEP CRUSADE</td><td>12</td></tr>",
                            "<tr><td>DESIRE ALIEN</td><td>12</td></tr>",
                            "<tr><td>DEVIL DESIRE</td><td>12</td></tr>",
                            "<tr><td>DOCTOR GRAIL</td><td>12</td></tr>",
                            "<tr><td>DOGMA FAMILY</td><td>12</td></tr>",
                            "<tr><td>DONNIE ALLEY</td><td>12</td></tr>",
                            "<tr><td>DOOM DANCING</td><td>12</td></tr>",
                            "<tr><td>DOUBLE WRATH</td><td>12</td></tr>",
                            "<tr><td>DRAGON SQUAD</td><td>12</td></tr>",
                            "<tr><td>DREAM PICKUP</td><td>12</td></tr>",
                            "<tr><td>DRIVER ANNIE</td><td>12</td></tr>",
                            "<tr><td>DURHAM PANKY</td><td>12</td></tr>",
                            "<tr><td>DWARFS ALTER</td><td>12</td></tr>",
                            "<tr><td>EAGLES PANKY</td><td>12</td></tr>",
                            "<tr><td>EARTH VISION</td><td>12</td></tr>",
                            "<tr><td>EDGE KISSING</td><td>12</td></tr>",
                            "<tr><td>EYES DRIVING</td><td>12</td></tr>",
                            "<tr><td>FAMILY SWEET</td><td>12</td></tr>",
                            "<tr><td>FARGO GANDHI</td><td>12</td></tr>",
                            "<tr><td>FEUD FROGMEN</td><td>12</td></tr>",
                            "<tr><td>FEVER EMPIRE</td><td>12</td></tr>",
                            "<tr><td>FIDDLER LOST</td><td>12</td></tr>",
                            "<tr><td>FORREST SONS</td><td>12</td></tr>",
                            "<tr><td>FREAKY POCUS</td><td>12</td></tr>",
                            "<tr><td>FREDDY STORM</td><td>12</td></tr>",
                            "<tr><td>GONE TROUBLE</td><td>12</td></tr>",
                            "<tr><td>GREASE YOUTH</td><td>12</td></tr>",
                            "<tr><td>GREEDY ROOTS</td><td>12</td></tr>",
                            "<tr><td>HALL CASSIDY</td><td>12</td></tr>",
                            "<tr><td>HANGING DEEP</td><td>12</td></tr>",
                            "<tr><td>HARPER DYING</td><td>12</td></tr>",
                            "<tr><td>HEAVENLY GUN</td><td>12</td></tr>",
                            "<tr><td>HEDWIG ALTER</td><td>12</td></tr>",
                            "<tr><td>HOBBIT ALIEN</td><td>12</td></tr>",
                            "<tr><td>HOLY TADPOLE</td><td>12</td></tr>",
                            "<tr><td>HOPE TOOTSIE</td><td>12</td></tr>",
                            "<tr><td>HORN WORKING</td><td>12</td></tr>",
                            "<tr><td>HORROR REIGN</td><td>12</td></tr>",
                            "<tr><td>HUNTER ALTER</td><td>12</td></tr>",
                            "<tr><td>ICE CROSSING</td><td>12</td></tr>",
                            "<tr><td>JAPANESE RUN</td><td>12</td></tr>",
                            "<tr><td>JEDI BENEATH</td><td>12</td></tr>",
                            "<tr><td>JERSEY SASSY</td><td>12</td></tr>",
                            "<tr><td>LIFE TWISTED</td><td>12</td></tr>",
                            "<tr><td>LOLITA WORLD</td><td>12</td></tr>",
                            "<tr><td>LORD ARIZONA</td><td>12</td></tr>",
                            "<tr><td>LOVER TRUMAN</td><td>12</td></tr>",
                            "<tr><td>LUCKY FLYING</td><td>12</td></tr>",
                            "<tr><td>MADISON TRAP</td><td>12</td></tr>",
                            "<tr><td>MADRE GABLES</td><td>12</td></tr>",
                            "<tr><td>MAKER GABLES</td><td>12</td></tr>",
                            "<tr><td>MALTESE HOPE</td><td>12</td></tr>",
                            "<tr><td>MINDS TRUMAN</td><td>12</td></tr>",
                            "<tr><td>MONEY HAROLD</td><td>12</td></tr>",
                            "<tr><td>NETWORK PEAK</td><td>12</td></tr>",
                            "<tr><td>NONE SPIKING</td><td>12</td></tr>",
                            "<tr><td>OPEN AFRICAN</td><td>12</td></tr>",
                            "<tr><td>OUTLAW HANKY</td><td>12</td></tr>",
                            "<tr><td>PANTHER REDS</td><td>12</td></tr>",
                            "<tr><td>PARK CITIZEN</td><td>12</td></tr>",
                            "<tr><td>PEAK FOREVER</td><td>12</td></tr>",
                            "<tr><td>PET HAUNTING</td><td>12</td></tr>",
                            "<tr><td>POND SEATTLE</td><td>12</td></tr>",
                            "<tr><td>PRIVATE DROP</td><td>12</td></tr>",
                            "<tr><td>PULP BEVERLY</td><td>12</td></tr>",
                            "<tr><td>PUNK DIVORCE</td><td>12</td></tr>",
                            "<tr><td>PURPLE MOVIE</td><td>12</td></tr>",
                            "<tr><td>REAR TRADING</td><td>12</td></tr>",
                            "<tr><td>RIGHT CRANES</td><td>12</td></tr>",
                            "<tr><td>RIVER OUTLAW</td><td>12</td></tr>",
                            "<tr><td>ROAD ROXANNE</td><td>12</td></tr>",
                            "<tr><td>ROBBERS JOON</td><td>12</td></tr>",
                            "<tr><td>SAINTS BRIDE</td><td>12</td></tr>",
                            "<tr><td>SAMURAI LION</td><td>12</td></tr>",
                            "<tr><td>SASSY PACKER</td><td>12</td></tr>",
                            "<tr><td>SILENCE KANE</td><td>12</td></tr>",
                            "<tr><td>SPINAL ROCKY</td><td>12</td></tr>",
                            "<tr><td>SUNSET RACER</td><td>12</td></tr>",
                            "<tr><td>TADPOLE PARK</td><td>12</td></tr>",
                            "<tr><td>TEQUILA PAST</td><td>12</td></tr>",
                            "<tr><td>TORQUE BOUND</td><td>12</td></tr>",
                            "<tr><td>TRAMP OTHERS</td><td>12</td></tr>",
                            "<tr><td>TROUBLE DATE</td><td>12</td></tr>",
                            "<tr><td>TRUMAN CRAZY</td><td>12</td></tr>",
                            "<tr><td>UNITED PILOT</td><td>12</td></tr>",
                            "<tr><td>UPTOWN YOUNG</td><td>12</td></tr>",
                            "<tr><td>VARSITY TRIP</td><td>12</td></tr>",
                            "<tr><td>VIRGIN DAISY</td><td>12</td></tr>",
                            "<tr><td>VOLUME HOUSE</td><td>12</td></tr>",
                            "<tr><td>WALLS ARTIST</td><td>12</td></tr>",
                            "<tr><td>WHALE BIKINI</td><td>12</td></tr>",
                            "<tr><td>WILLOW TRACY</td><td>12</td></tr>",
                            "<tr><td>WIND PHANTOM</td><td>12</td></tr>",
                            "<tr><td>WOMEN DORADO</td><td>12</td></tr>",
                            "<tr><td>WORDS HUNTER</td><td>12</td></tr>",
                            "<tr><td>WORST BANGER</td><td>12</td></tr>",
                            "<tr><td>ZHIVAGO CORE</td><td>12</td></tr>",
                            "<tr><td>ALABAMA DEVIL</td><td>13</td></tr>",
                            "<tr><td>ALTER VICTORY</td><td>13</td></tr>",
                            "<tr><td>APACHE DIVINE</td><td>13</td></tr>",
                            "<tr><td>ARK RIDGEMONT</td><td>13</td></tr>",
                            "<tr><td>BEAUTY GREASE</td><td>13</td></tr>",
                            "<tr><td>BETRAYED REAR</td><td>13</td></tr>",
                            "<tr><td>BLINDNESS GUN</td><td>13</td></tr>",
                            "<tr><td>BOOGIE AMELIE</td><td>13</td></tr>",
                            "<tr><td>BOULEVARD MOB</td><td>13</td></tr>",
                            "<tr><td>BOUND CHEAPER</td><td>13</td></tr>",
                            "<tr><td>BREAKING HOME</td><td>13</td></tr>",
                            "<tr><td>BUBBLE GROSSE</td><td>13</td></tr>",
                            "<tr><td>BUTCH PANTHER</td><td>13</td></tr>",
                            "<tr><td>CAPER MOTIONS</td><td>13</td></tr>",
                            "<tr><td>CAT CONEHEADS</td><td>13</td></tr>",
                            "<tr><td>CATCH AMISTAD</td><td>13</td></tr>",
                            "<tr><td>CHASING FIGHT</td><td>13</td></tr>",
                            "<tr><td>CHEAPER CLYDE</td><td>13</td></tr>",
                            "<tr><td>CHICAGO NORTH</td><td>13</td></tr>",
                            "<tr><td>CITIZEN SHREK</td><td>13</td></tr>",
                            "<tr><td>CLERKS ANGELS</td><td>13</td></tr>",
                            "<tr><td>CLUB GRAFFITI</td><td>13</td></tr>",
                            "<tr><td>COAST RAINBOW</td><td>13</td></tr>",
                            "<tr><td>COMFORTS RUSH</td><td>13</td></tr>",
                            "<tr><td>CREEPERS KANE</td><td>13</td></tr>",
                            "<tr><td>CRUSADE HONEY</td><td>13</td></tr>",
                            "<tr><td>DANCING FEVER</td><td>13</td></tr>",
                            "<tr><td>ENDING CROWDS</td><td>13</td></tr>",
                            "<tr><td>ENOUGH RAGING</td><td>13</td></tr>",
                            "<tr><td>FALCON VOLUME</td><td>13</td></tr>",
                            "<tr><td>FANTASIA PARK</td><td>13</td></tr>",
                            "<tr><td>FATAL HAUNTED</td><td>13</td></tr>",
                            "<tr><td>FERRIS MOTHER</td><td>13</td></tr>",
                            "<tr><td>FLOATS GARDEN</td><td>13</td></tr>",
                            "<tr><td>FRIDA SLIPPER</td><td>13</td></tr>",
                            "<tr><td>GARDEN ISLAND</td><td>13</td></tr>",
                            "<tr><td>GRADUATE LORD</td><td>13</td></tr>",
                            "<tr><td>GRAFFITI LOVE</td><td>13</td></tr>",
                            "<tr><td>GUNFIGHT MOON</td><td>13</td></tr>",
                            "<tr><td>HALF OUTFIELD</td><td>13</td></tr>",
                            "<tr><td>HAMLET WISDOM</td><td>13</td></tr>",
                            "<tr><td>HANKY OCTOBER</td><td>13</td></tr>",
                            "<tr><td>HAROLD FRENCH</td><td>13</td></tr>",
                            "<tr><td>HATE HANDICAP</td><td>13</td></tr>",
                            "<tr><td>HEAD STRANGER</td><td>13</td></tr>",
                            "<tr><td>HOLIDAY GAMES</td><td>13</td></tr>",
                            "<tr><td>HOOK CHARIOTS</td><td>13</td></tr>",
                            "<tr><td>HUSTLER PARTY</td><td>13</td></tr>",
                            "<tr><td>INSECTS STONE</td><td>13</td></tr>",
                            "<tr><td>JACKET FRISCO</td><td>13</td></tr>",
                            "<tr><td>JERICHO MULAN</td><td>13</td></tr>",
                            "<tr><td>JERK PAYCHECK</td><td>13</td></tr>",
                            "<tr><td>JET NEIGHBORS</td><td>13</td></tr>",
                            "<tr><td>JUMANJI BLADE</td><td>13</td></tr>",
                            "<tr><td>JUMPING WRATH</td><td>13</td></tr>",
                            "<tr><td>JUNGLE CLOSER</td><td>13</td></tr>",
                            "<tr><td>KANE EXORCIST</td><td>13</td></tr>",
                            "<tr><td>KICK SAVANNAH</td><td>13</td></tr>",
                            "<tr><td>KISSING DOLLS</td><td>13</td></tr>",
                            "<tr><td>KNOCK WARLOCK</td><td>13</td></tr>",
                            "<tr><td>KWAI HOMEWARD</td><td>13</td></tr>",
                            "<tr><td>LAWRENCE LOVE</td><td>13</td></tr>",
                            "<tr><td>LOSER HUSTLER</td><td>13</td></tr>",
                            "<tr><td>LOVE SUICIDES</td><td>13</td></tr>",
                            "<tr><td>LOVELY JINGLE</td><td>13</td></tr>",
                            "<tr><td>MALKOVICH PET</td><td>13</td></tr>",
                            "<tr><td>MASKED BUBBLE</td><td>13</td></tr>",
                            "<tr><td>MASSAGE IMAGE</td><td>13</td></tr>",
                            "<tr><td>MINORITY KISS</td><td>13</td></tr>",
                            "<tr><td>MOD SECRETARY</td><td>13</td></tr>",
                            "<tr><td>MODERN DORADO</td><td>13</td></tr>",
                            "<tr><td>MONSOON CAUSE</td><td>13</td></tr>",
                            "<tr><td>MUSCLE BRIGHT</td><td>13</td></tr>",
                            "<tr><td>MYSTIC TRUMAN</td><td>13</td></tr>",
                            "<tr><td>NASH CHOCOLAT</td><td>13</td></tr>",
                            "<tr><td>NATURAL STOCK</td><td>13</td></tr>",
                            "<tr><td>NEWSIES STORY</td><td>13</td></tr>",
                            "<tr><td>NORTH TEQUILA</td><td>13</td></tr>",
                            "<tr><td>OLEANDER CLUE</td><td>13</td></tr>",
                            "<tr><td>ORANGE GRAPES</td><td>13</td></tr>",
                            "<tr><td>ORIENT CLOSER</td><td>13</td></tr>",
                            "<tr><td>PAPI NECKLACE</td><td>13</td></tr>",
                            "<tr><td>PARIS WEEKEND</td><td>13</td></tr>",
                            "<tr><td>PAST SUICIDES</td><td>13</td></tr>",
                            "<tr><td>PATHS CONTROL</td><td>13</td></tr>",
                            "<tr><td>PATRIOT ROMAN</td><td>13</td></tr>",
                            "<tr><td>PAYCHECK WAIT</td><td>13</td></tr>",
                            "<tr><td>PEARL DESTINY</td><td>13</td></tr>",
                            "<tr><td>PHANTOM GLORY</td><td>13</td></tr>",
                            "<tr><td>PIZZA JUMANJI</td><td>13</td></tr>",
                            "<tr><td>POTLUCK MIXED</td><td>13</td></tr>",
                            "<tr><td>PRIMARY GLASS</td><td>13</td></tr>",
                            "<tr><td>PSYCHO SHRUNK</td><td>13</td></tr>",
                            "<tr><td>RAINBOW SHOCK</td><td>13</td></tr>",
                            "<tr><td>REBEL AIRPORT</td><td>13</td></tr>",
                            "<tr><td>RECORDS ZORRO</td><td>13</td></tr>",
                            "<tr><td>ROCK INSTINCT</td><td>13</td></tr>",
                            "<tr><td>ROOF CHAMPION</td><td>13</td></tr>",
                            "<tr><td>ROXANNE REBEL</td><td>13</td></tr>",
                            "<tr><td>SALUTE APOLLO</td><td>13</td></tr>",
                            "<tr><td>SAVANNAH TOWN</td><td>13</td></tr>",
                            "<tr><td>SCALAWAG DUCK</td><td>13</td></tr>",
                            "<tr><td>SCARFACE BANG</td><td>13</td></tr>",
                            "<tr><td>SCHOOL JACKET</td><td>13</td></tr>",
                            "<tr><td>SHINING ROSES</td><td>13</td></tr>",
                            "<tr><td>SHREK LICENSE</td><td>13</td></tr>",
                            "<tr><td>SHRUNK DIVINE</td><td>13</td></tr>",
                            "<tr><td>SIERRA DIVIDE</td><td>13</td></tr>",
                            "<tr><td>SISTER FREDDY</td><td>13</td></tr>",
                            "<tr><td>SLEUTH ORIENT</td><td>13</td></tr>",
                            "<tr><td>SMILE EARRING</td><td>13</td></tr>",
                            "<tr><td>STEPMOM DREAM</td><td>13</td></tr>",
                            "<tr><td>SUBMARINE BED</td><td>13</td></tr>",
                            "<tr><td>SUPER WYOMING</td><td>13</td></tr>",
                            "<tr><td>SUPERFLY TRIP</td><td>13</td></tr>",
                            "<tr><td>THIEF PELICAN</td><td>13</td></tr>",
                            "<tr><td>TOOTSIE PILOT</td><td>13</td></tr>",
                            "<tr><td>VALLEY PACKER</td><td>13</td></tr>",
                            "<tr><td>VAMPIRE WHALE</td><td>13</td></tr>",
                            "<tr><td>VISION TORQUE</td><td>13</td></tr>",
                            "<tr><td>VOLCANO TEXAS</td><td>13</td></tr>",
                            "<tr><td>WANDA CHAMBER</td><td>13</td></tr>",
                            "<tr><td>WASH HEAVENLY</td><td>13</td></tr>",
                            "<tr><td>WEREWOLF LOLA</td><td>13</td></tr>",
                            "<tr><td>WISDOM WORKER</td><td>13</td></tr>",
                            "<tr><td>WITCHES PANIC</td><td>13</td></tr>",
                            "<tr><td>WOLVES DESIRE</td><td>13</td></tr>",
                            "<tr><td>WORKER TARZAN</td><td>13</td></tr>",
                            "<tr><td>WYOMING STORM</td><td>13</td></tr>",
                            "<tr><td>ACE GOLDFINGER</td><td>14</td></tr>",
                            "<tr><td>ALASKA PHANTOM</td><td>14</td></tr>",
                            "<tr><td>ALICE FANTASIA</td><td>14</td></tr>",
                            "<tr><td>ANNIE IDENTITY</td><td>14</td></tr>",
                            "<tr><td>ARGONAUTS TOWN</td><td>14</td></tr>",
                            "<tr><td>ATLANTIS CAUSE</td><td>14</td></tr>",
                            "<tr><td>BEAR GRACELAND</td><td>14</td></tr>",
                            "<tr><td>BEVERLY OUTLAW</td><td>14</td></tr>",
                            "<tr><td>BINGO TALENTED</td><td>14</td></tr>",
                            "<tr><td>BLUES INSTINCT</td><td>14</td></tr>",
                            "<tr><td>BRIDE INTRIGUE</td><td>14</td></tr>",
                            "<tr><td>BULL SHAWSHANK</td><td>14</td></tr>",
                            "<tr><td>CANDLES GRAPES</td><td>14</td></tr>",
                            "<tr><td>CELEBRITY HORN</td><td>14</td></tr>",
                            "<tr><td>CHARADE DUFFEL</td><td>14</td></tr>",
                            "<tr><td>CHOCOLAT HARRY</td><td>14</td></tr>",
                            "<tr><td>CHOCOLATE DUCK</td><td>14</td></tr>",
                            "<tr><td>CONQUERER NUTS</td><td>14</td></tr>",
                            "<tr><td>CONTROL ANTHEM</td><td>14</td></tr>",
                            "<tr><td>CRAFT OUTFIELD</td><td>14</td></tr>",
                            "<tr><td>CYCLONE FAMILY</td><td>14</td></tr>",
                            "<tr><td>DARN FORRESTER</td><td>14</td></tr>",
                            "<tr><td>DAY UNFAITHFUL</td><td>14</td></tr>",
                            "<tr><td>DEER VIRGINIAN</td><td>14</td></tr>",
                            "<tr><td>DETAILS PACKER</td><td>14</td></tr>",
                            "<tr><td>DIVIDE MONSTER</td><td>14</td></tr>",
                            "<tr><td>DORADO NOTTING</td><td>14</td></tr>",
                            "<tr><td>DRIVING POLISH</td><td>14</td></tr>",
                            "<tr><td>DRUMS DYNAMITE</td><td>14</td></tr>",
                            "<tr><td>DUDE BLINDNESS</td><td>14</td></tr>",
                            "<tr><td>EASY GLADIATOR</td><td>14</td></tr>",
                            "<tr><td>ELEMENT FREDDY</td><td>14</td></tr>",
                            "<tr><td>EVERYONE CRAFT</td><td>14</td></tr>",
                            "<tr><td>EXCITEMENT EVE</td><td>14</td></tr>",
                            "<tr><td>EXORCIST STING</td><td>14</td></tr>",
                            "<tr><td>EXPRESS LONELY</td><td>14</td></tr>",
                            "<tr><td>FACTORY DRAGON</td><td>14</td></tr>",
                            "<tr><td>FEATHERS METAL</td><td>14</td></tr>",
                            "<tr><td>FIDELITY DEVIL</td><td>14</td></tr>",
                            "<tr><td>FORWARD TEMPLE</td><td>14</td></tr>",
                            "<tr><td>FRENCH HOLIDAY</td><td>14</td></tr>",
                            "<tr><td>FRISCO FORREST</td><td>14</td></tr>",
                            "<tr><td>FRONTIER CABIN</td><td>14</td></tr>",
                            "<tr><td>GIANT TROOPERS</td><td>14</td></tr>",
                            "<tr><td>GILMORE BOILED</td><td>14</td></tr>",
                            "<tr><td>GORGEOUS BINGO</td><td>14</td></tr>",
                            "<tr><td>GOSFORD DONNIE</td><td>14</td></tr>",
                            "<tr><td>GREATEST NORTH</td><td>14</td></tr>",
                            "<tr><td>GREEK EVERYONE</td><td>14</td></tr>",
                            "<tr><td>GRINCH MASSAGE</td><td>14</td></tr>",
                            "<tr><td>GRIT CLOCKWORK</td><td>14</td></tr>",
                            "<tr><td>GROOVE FICTION</td><td>14</td></tr>",
                            "<tr><td>HALLOWEEN NUTS</td><td>14</td></tr>",
                            "<tr><td>HANOVER GALAXY</td><td>14</td></tr>",
                            "<tr><td>HARDLY ROBBERS</td><td>14</td></tr>",
                            "<tr><td>HEAVEN FREEDOM</td><td>14</td></tr>",
                            "<tr><td>HOMEWARD CIDER</td><td>14</td></tr>",
                            "<tr><td>HOMICIDE PEACH</td><td>14</td></tr>",
                            "<tr><td>HOUSE DYNAMITE</td><td>14</td></tr>",
                            "<tr><td>HUMAN GRAFFITI</td><td>14</td></tr>",
                            "<tr><td>IDENTITY LOVER</td><td>14</td></tr>",
                            "<tr><td>IMAGE PRINCESS</td><td>14</td></tr>",
                            "<tr><td>IMPACT ALADDIN</td><td>14</td></tr>",
                            "<tr><td>INNOCENT USUAL</td><td>14</td></tr>",
                            "<tr><td>INTRIGUE WORST</td><td>14</td></tr>",
                            "<tr><td>JEKYLL FROGMEN</td><td>14</td></tr>",
                            "<tr><td>JOON NORTHWEST</td><td>14</td></tr>",
                            "<tr><td>JUGGLER HARDLY</td><td>14</td></tr>",
                            "<tr><td>KING EVOLUTION</td><td>14</td></tr>",
                            "<tr><td>LAWLESS VISION</td><td>14</td></tr>",
                            "<tr><td>LIAISONS SWEET</td><td>14</td></tr>",
                            "<tr><td>LIES TREATMENT</td><td>14</td></tr>",
                            "<tr><td>MADIGAN DORADO</td><td>14</td></tr>",
                            "<tr><td>MAGIC MALLRATS</td><td>14</td></tr>",
                            "<tr><td>MAGUIRE APACHE</td><td>14</td></tr>",
                            "<tr><td>MASSACRE USUAL</td><td>14</td></tr>",
                            "<tr><td>MATRIX SNOWMAN</td><td>14</td></tr>",
                            "<tr><td>MEET CHOCOLATE</td><td>14</td></tr>",
                            "<tr><td>MUSIC BOONDOCK</td><td>14</td></tr>",
                            "<tr><td>NAME DETECTIVE</td><td>14</td></tr>",
                            "<tr><td>NATIONAL STORY</td><td>14</td></tr>",
                            "<tr><td>ORDER BETRAYED</td><td>14</td></tr>",
                            "<tr><td>PACKER MADIGAN</td><td>14</td></tr>",
                            "<tr><td>PATIENT SISTER</td><td>14</td></tr>",
                            "<tr><td>PEACH INNOCENT</td><td>14</td></tr>",
                            "<tr><td>PERFECT GROOVE</td><td>14</td></tr>",
                            "<tr><td>PICKUP DRIVING</td><td>14</td></tr>",
                            "<tr><td>PILOT HOOSIERS</td><td>14</td></tr>",
                            "<tr><td>PLUTO OLEANDER</td><td>14</td></tr>",
                            "<tr><td>PRESIDENT BANG</td><td>14</td></tr>",
                            "<tr><td>PRINCESS GIANT</td><td>14</td></tr>",
                            "<tr><td>REMEMBER DIARY</td><td>14</td></tr>",
                            "<tr><td>REQUIEM TYCOON</td><td>14</td></tr>",
                            "<tr><td>ROBBERY BRIGHT</td><td>14</td></tr>",
                            "<tr><td>ROOTS REMEMBER</td><td>14</td></tr>",
                            "<tr><td>ROSES TREASURE</td><td>14</td></tr>",
                            "<tr><td>RUNNER MADIGAN</td><td>14</td></tr>",
                            "<tr><td>SATURDAY LAMBS</td><td>14</td></tr>",
                            "<tr><td>SEARCHERS WAIT</td><td>14</td></tr>",
                            "<tr><td>SHANE DARKNESS</td><td>14</td></tr>",
                            "<tr><td>SNATCH SLIPPER</td><td>14</td></tr>",
                            "<tr><td>SOMETHING DUCK</td><td>14</td></tr>",
                            "<tr><td>SONS INTERVIEW</td><td>14</td></tr>",
                            "<tr><td>SORORITY QUEEN</td><td>14</td></tr>",
                            "<tr><td>SPEAKEASY DATE</td><td>14</td></tr>",
                            "<tr><td>SPICE SORORITY</td><td>14</td></tr>",
                            "<tr><td>STAR OPERATION</td><td>14</td></tr>",
                            "<tr><td>STING PERSONAL</td><td>14</td></tr>",
                            "<tr><td>STRAIGHT HOURS</td><td>14</td></tr>",
                            "<tr><td>SUNRISE LEAGUE</td><td>14</td></tr>",
                            "<tr><td>SWEDEN SHINING</td><td>14</td></tr>",
                            "<tr><td>THEORY MERMAID</td><td>14</td></tr>",
                            "<tr><td>THIN SAGEBRUSH</td><td>14</td></tr>",
                            "<tr><td>TIMBERLAND SKY</td><td>14</td></tr>",
                            "<tr><td>TRAFFIC HOBBIT</td><td>14</td></tr>",
                            "<tr><td>TROOPERS METAL</td><td>14</td></tr>",
                            "<tr><td>UNCUT SUICIDES</td><td>14</td></tr>",
                            "<tr><td>VOYAGE LEGALLY</td><td>14</td></tr>",
                            "<tr><td>WEDDING APOLLO</td><td>14</td></tr>",
                            "<tr><td>WONDERFUL DROP</td><td>14</td></tr>",
                            "<tr><td>WRONG BEHAVIOR</td><td>14</td></tr>",
                            "<tr><td>YOUNG LANGUAGE</td><td>14</td></tr>",
                            "<tr><td>AIRPLANE SIERRA</td><td>15</td></tr>",
                            "<tr><td>AIRPORT POLLOCK</td><td>15</td></tr>",
                            "<tr><td>ALAMO VIDEOTAPE</td><td>15</td></tr>",
                            "<tr><td>ALLEY EVOLUTION</td><td>15</td></tr>",
                            "<tr><td>AMERICAN CIRCUS</td><td>15</td></tr>",
                            "<tr><td>ANONYMOUS HUMAN</td><td>15</td></tr>",
                            "<tr><td>ARMAGEDDON LOST</td><td>15</td></tr>",
                            "<tr><td>BAKED CLEOPATRA</td><td>15</td></tr>",
                            "<tr><td>BEAST HUNCHBACK</td><td>15</td></tr>",
                            "<tr><td>BILKO ANONYMOUS</td><td>15</td></tr>",
                            "<tr><td>BIRCH ANTITRUST</td><td>15</td></tr>",
                            "<tr><td>BIRDCAGE CASPER</td><td>15</td></tr>",
                            "<tr><td>BIRDS PERDITION</td><td>15</td></tr>",
                            "<tr><td>BLANKET BEVERLY</td><td>15</td></tr>",
                            "<tr><td>BLOOD ARGONAUTS</td><td>15</td></tr>",
                            "<tr><td>BROOKLYN DESERT</td><td>15</td></tr>",
                            "<tr><td>CADDYSHACK JEDI</td><td>15</td></tr>",
                            "<tr><td>CAMPUS REMEMBER</td><td>15</td></tr>",
                            "<tr><td>CASSIDY WYOMING</td><td>15</td></tr>",
                            "<tr><td>CENTER DINOSAUR</td><td>15</td></tr>",
                            "<tr><td>CHAINSAW UPTOWN</td><td>15</td></tr>",
                            "<tr><td>CHAMBER ITALIAN</td><td>15</td></tr>",
                            "<tr><td>CHAPLIN LICENSE</td><td>15</td></tr>",
                            "<tr><td>CHISUM BEHAVIOR</td><td>15</td></tr>",
                            "<tr><td>CLEOPATRA DEVIL</td><td>15</td></tr>",
                            "<tr><td>CLUELESS BUCKET</td><td>15</td></tr>",
                            "<tr><td>COMMAND DARLING</td><td>15</td></tr>",
                            "<tr><td>CROOKED FROGMEN</td><td>15</td></tr>",
                            "<tr><td>CROWDS TELEMARK</td><td>15</td></tr>",
                            "<tr><td>DAISY MENAGERIE</td><td>15</td></tr>",
                            "<tr><td>DESERT POSEIDON</td><td>15</td></tr>",
                            "<tr><td>DISCIPLE MOTHER</td><td>15</td></tr>",
                            "<tr><td>DIVORCE SHINING</td><td>15</td></tr>",
                            "<tr><td>DOORS PRESIDENT</td><td>15</td></tr>",
                            "<tr><td>DOWNHILL ENOUGH</td><td>15</td></tr>",
                            "<tr><td>DRACULA CRYSTAL</td><td>15</td></tr>",
                            "<tr><td>DROP WATERFRONT</td><td>15</td></tr>",
                            "<tr><td>DYNAMITE TARZAN</td><td>15</td></tr>",
                            "<tr><td>ELEPHANT TROJAN</td><td>15</td></tr>",
                            "<tr><td>ELIZABETH SHANE</td><td>15</td></tr>",
                            "<tr><td>EVOLUTION ALTER</td><td>15</td></tr>",
                            "<tr><td>FULL FLATLINERS</td><td>15</td></tr>",
                            "<tr><td>GAMES BOWFINGER</td><td>15</td></tr>",
                            "<tr><td>GENTLEMEN STAGE</td><td>15</td></tr>",
                            "<tr><td>GHOST GROUNDHOG</td><td>15</td></tr>",
                            "<tr><td>GILBERT PELICAN</td><td>15</td></tr>",
                            "<tr><td>GODFATHER DIARY</td><td>15</td></tr>",
                            "<tr><td>GOLDMINE TYCOON</td><td>15</td></tr>",
                            "<tr><td>GROUNDHOG UNCUT</td><td>15</td></tr>",
                            "<tr><td>HIGHBALL POTTER</td><td>15</td></tr>",
                            "<tr><td>HILLS NEIGHBORS</td><td>15</td></tr>",
                            "<tr><td>HOLES BRANNIGAN</td><td>15</td></tr>",
                            "<tr><td>HOLLOW JEOPARDY</td><td>15</td></tr>",
                            "<tr><td>HOTEL HAPPINESS</td><td>15</td></tr>",
                            "<tr><td>IDOLS SNATCHERS</td><td>15</td></tr>",
                            "<tr><td>ILLUSION AMELIE</td><td>15</td></tr>",
                            "<tr><td>INFORMER DOUBLE</td><td>15</td></tr>",
                            "<tr><td>INSIDER ARIZONA</td><td>15</td></tr>",
                            "<tr><td>ISLAND EXORCIST</td><td>15</td></tr>",
                            "<tr><td>ITALIAN AFRICAN</td><td>15</td></tr>",
                            "<tr><td>JEEPERS WEDDING</td><td>15</td></tr>",
                            "<tr><td>JEOPARDY ENCINO</td><td>15</td></tr>",
                            "<tr><td>KILLER INNOCENT</td><td>15</td></tr>",
                            "<tr><td>LANGUAGE COWBOY</td><td>15</td></tr>",
                            "<tr><td>LICENSE WEEKEND</td><td>15</td></tr>",
                            "<tr><td>LONELY ELEPHANT</td><td>15</td></tr>",
                            "<tr><td>LOUISIANA HARRY</td><td>15</td></tr>",
                            "<tr><td>MADNESS ATTACKS</td><td>15</td></tr>",
                            "<tr><td>MAJESTIC FLOATS</td><td>15</td></tr>",
                            "<tr><td>MALLRATS UNITED</td><td>15</td></tr>",
                            "<tr><td>MANNEQUIN WORST</td><td>15</td></tr>",
                            "<tr><td>MERMAID INSECTS</td><td>15</td></tr>",
                            "<tr><td>METROPOLIS COMA</td><td>15</td></tr>",
                            "<tr><td>MIRACLE VIRTUAL</td><td>15</td></tr>",
                            "<tr><td>MOONSHINE CABIN</td><td>15</td></tr>",
                            "<tr><td>MOONWALKER FOOL</td><td>15</td></tr>",
                            "<tr><td>MOTHER OLEANDER</td><td>15</td></tr>",
                            "<tr><td>MOTIONS DETAILS</td><td>15</td></tr>",
                            "<tr><td>MOURNING PURPLE</td><td>15</td></tr>",
                            "<tr><td>MUMMY CREATURES</td><td>15</td></tr>",
                            "<tr><td>MUSKETEERS WAIT</td><td>15</td></tr>",
                            "<tr><td>NIGHTMARE CHILL</td><td>15</td></tr>",
                            "<tr><td>OUTBREAK DIVINE</td><td>15</td></tr>",
                            "<tr><td>PACIFIC AMISTAD</td><td>15</td></tr>",
                            "<tr><td>PANKY SUBMARINE</td><td>15</td></tr>",
                            "<tr><td>PERDITION FARGO</td><td>15</td></tr>",
                            "<tr><td>PINOCCHIO SIMON</td><td>15</td></tr>",
                            "<tr><td>PIRATES ROXANNE</td><td>15</td></tr>",
                            "<tr><td>POLISH BROOKLYN</td><td>15</td></tr>",
                            "<tr><td>PRIX UNDEFEATED</td><td>15</td></tr>",
                            "<tr><td>QUEST MUSSOLINI</td><td>15</td></tr>",
                            "<tr><td>RAGING AIRPLANE</td><td>15</td></tr>",
                            "<tr><td>REAP UNFAITHFUL</td><td>15</td></tr>",
                            "<tr><td>REIGN GENTLEMEN</td><td>15</td></tr>",
                            "<tr><td>REUNION WITCHES</td><td>15</td></tr>",
                            "<tr><td>RUSH GOODFELLAS</td><td>15</td></tr>",
                            "<tr><td>SCORPION APOLLO</td><td>15</td></tr>",
                            "<tr><td>SEABISCUIT PUNK</td><td>15</td></tr>",
                            "<tr><td>SECRETARY ROUGE</td><td>15</td></tr>",
                            "<tr><td>SHANGHAI TYCOON</td><td>15</td></tr>",
                            "<tr><td>SHIP WONDERLAND</td><td>15</td></tr>",
                            "<tr><td>SLEEPY JAPANESE</td><td>15</td></tr>",
                            "<tr><td>SMOOCHY CONTROL</td><td>15</td></tr>",
                            "<tr><td>SPIKING ELEMENT</td><td>15</td></tr>",
                            "<tr><td>SPLENDOR PATTON</td><td>15</td></tr>",
                            "<tr><td>STATE WASTELAND</td><td>15</td></tr>",
                            "<tr><td>STORM HAPPINESS</td><td>15</td></tr>",
                            "<tr><td>SUMMER SCARFACE</td><td>15</td></tr>",
                            "<tr><td>SUN CONFESSIONS</td><td>15</td></tr>",
                            "<tr><td>SUSPECTS QUILLS</td><td>15</td></tr>",
                            "<tr><td>TERMINATOR CLUB</td><td>15</td></tr>",
                            "<tr><td>TOURIST PELICAN</td><td>15</td></tr>",
                            "<tr><td>TROJAN TOMORROW</td><td>15</td></tr>",
                            "<tr><td>TWISTED PIRATES</td><td>15</td></tr>",
                            "<tr><td>UNFAITHFUL KILL</td><td>15</td></tr>",
                            "<tr><td>UPRISING UPTOWN</td><td>15</td></tr>",
                            "<tr><td>VANISHED GARDEN</td><td>15</td></tr>",
                            "<tr><td>VANISHING ROCKY</td><td>15</td></tr>",
                            "<tr><td>VICTORY ACADEMY</td><td>15</td></tr>",
                            "<tr><td>VIETNAM SMOOCHY</td><td>15</td></tr>",
                            "<tr><td>VIRGINIAN PLUTO</td><td>15</td></tr>",
                            "<tr><td>WHISPERER GIANT</td><td>15</td></tr>",
                            "<tr><td>ACADEMY DINOSAUR</td><td>16</td></tr>",
                            "<tr><td>ADAPTATION HOLES</td><td>16</td></tr>",
                            "<tr><td>AFFAIR PREJUDICE</td><td>16</td></tr>",
                            "<tr><td>ALADDIN CALENDAR</td><td>16</td></tr>",
                            "<tr><td>ANALYZE HOOSIERS</td><td>16</td></tr>",
                            "<tr><td>ARMY FLINTSTONES</td><td>16</td></tr>",
                            "<tr><td>BALLOON HOMEWARD</td><td>16</td></tr>",
                            "<tr><td>BANGER PINOCCHIO</td><td>16</td></tr>",
                            "<tr><td>BEHAVIOR RUNAWAY</td><td>16</td></tr>",
                            "<tr><td>BIKINI BORROWERS</td><td>16</td></tr>",
                            "<tr><td>BLACKOUT PRIVATE</td><td>16</td></tr>",
                            "<tr><td>BONNIE HOLOCAUST</td><td>16</td></tr>",
                            "<tr><td>BOWFINGER GABLES</td><td>16</td></tr>",
                            "<tr><td>BRAVEHEART HUMAN</td><td>16</td></tr>",
                            "<tr><td>CALIFORNIA BIRDS</td><td>16</td></tr>",
                            "<tr><td>CAMELOT VACATION</td><td>16</td></tr>",
                            "<tr><td>CASABLANCA SUPER</td><td>16</td></tr>",
                            "<tr><td>CASPER DRAGONFLY</td><td>16</td></tr>",
                            "<tr><td>CLONES PINOCCHIO</td><td>16</td></tr>",
                            "<tr><td>CONFUSED CANDLES</td><td>16</td></tr>",
                            "<tr><td>CRANES RESERVOIR</td><td>16</td></tr>",
                            "<tr><td>CROSSING DIVORCE</td><td>16</td></tr>",
                            "<tr><td>CRYSTAL BREAKING</td><td>16</td></tr>",
                            "<tr><td>CUPBOARD SINNERS</td><td>16</td></tr>",
                            "<tr><td>DADDY PITTSBURGH</td><td>16</td></tr>",
                            "<tr><td>DANGEROUS UPTOWN</td><td>16</td></tr>",
                            "<tr><td>DARLING BREAKING</td><td>16</td></tr>",
                            "<tr><td>DAUGHTER MADIGAN</td><td>16</td></tr>",
                            "<tr><td>DESTINATION JERK</td><td>16</td></tr>",
                            "<tr><td>DESTINY SATURDAY</td><td>16</td></tr>",
                            "<tr><td>DETECTIVE VISION</td><td>16</td></tr>",
                            "<tr><td>DRUMLINE CYCLONE</td><td>16</td></tr>",
                            "<tr><td>EARRING INSTINCT</td><td>16</td></tr>",
                            "<tr><td>EFFECT GLADIATOR</td><td>16</td></tr>",
                            "<tr><td>EGYPT TENENBAUMS</td><td>16</td></tr>",
                            "<tr><td>EMPIRE MALKOVICH</td><td>16</td></tr>",
                            "<tr><td>ENGLISH BULWORTH</td><td>16</td></tr>",
                            "<tr><td>EVE RESURRECTION</td><td>16</td></tr>",
                            "<tr><td>FANTASY TROOPERS</td><td>16</td></tr>",
                            "<tr><td>FIGHT JAWBREAKER</td><td>16</td></tr>",
                            "<tr><td>FINDING ANACONDA</td><td>16</td></tr>",
                            "<tr><td>FOOL MOCKINGBIRD</td><td>16</td></tr>",
                            "<tr><td>FROGMEN BREAKING</td><td>16</td></tr>",
                            "<tr><td>FUGITIVE MAGUIRE</td><td>16</td></tr>",
                            "<tr><td>GASLIGHT CRUSADE</td><td>16</td></tr>",
                            "<tr><td>GHOSTBUSTERS ELF</td><td>16</td></tr>",
                            "<tr><td>GROSSE WONDERFUL</td><td>16</td></tr>",
                            "<tr><td>HAPPINESS UNITED</td><td>16</td></tr>",
                            "<tr><td>HAUNTING PIANIST</td><td>16</td></tr>",
                            "<tr><td>HURRICANE AFFAIR</td><td>16</td></tr>",
                            "<tr><td>HYSTERICAL GRAIL</td><td>16</td></tr>",
                            "<tr><td>INSTINCT AIRPORT</td><td>16</td></tr>",
                            "<tr><td>INVASION CYCLONE</td><td>16</td></tr>",
                            "<tr><td>ISHTAR ROCKETEER</td><td>16</td></tr>",
                            "<tr><td>JINGLE SAGEBRUSH</td><td>16</td></tr>",
                            "<tr><td>KENTUCKIAN GIANT</td><td>16</td></tr>",
                            "<tr><td>KILL BROTHERHOOD</td><td>16</td></tr>",
                            "<tr><td>KRAMER CHOCOLATE</td><td>16</td></tr>",
                            "<tr><td>LABYRINTH LEAGUE</td><td>16</td></tr>",
                            "<tr><td>LAMBS CINCINATTI</td><td>16</td></tr>",
                            "<tr><td>LESSON CLEOPATRA</td><td>16</td></tr>",
                            "<tr><td>LOATHING LEGALLY</td><td>16</td></tr>",
                            "<tr><td>LOVERBOY ATTACKS</td><td>16</td></tr>",
                            "<tr><td>METAL ARMAGEDDON</td><td>16</td></tr>",
                            "<tr><td>MULHOLLAND BEAST</td><td>16</td></tr>",
                            "<tr><td>MURDER ANTITRUST</td><td>16</td></tr>",
                            "<tr><td>NEWTON LABYRINTH</td><td>16</td></tr>",
                            "<tr><td>NORTHWEST POLISH</td><td>16</td></tr>",
                            "<tr><td>NOVOCAINE FLIGHT</td><td>16</td></tr>",
                            "<tr><td>OKLAHOMA JUMANJI</td><td>16</td></tr>",
                            "<tr><td>PARADISE SABRINA</td><td>16</td></tr>",
                            "<tr><td>PATTON INTERVIEW</td><td>16</td></tr>",
                            "<tr><td>PELICAN COMFORTS</td><td>16</td></tr>",
                            "<tr><td>PIANIST OUTFIELD</td><td>16</td></tr>",
                            "<tr><td>PLATOON INSTINCT</td><td>16</td></tr>",
                            "<tr><td>POSEIDON FOREVER</td><td>16</td></tr>",
                            "<tr><td>RANGE MOONWALKER</td><td>16</td></tr>",
                            "<tr><td>RIDER CADDYSHACK</td><td>16</td></tr>",
                            "<tr><td>ROCKETEER MOTHER</td><td>16</td></tr>",
                            "<tr><td>RUSHMORE MERMAID</td><td>16</td></tr>",
                            "<tr><td>SABRINA MIDNIGHT</td><td>16</td></tr>",
                            "<tr><td>SADDLE ANTITRUST</td><td>16</td></tr>",
                            "<tr><td>SECRET GROUNDHOG</td><td>16</td></tr>",
                            "<tr><td>SECRETS PARADISE</td><td>16</td></tr>",
                            "<tr><td>SENSIBILITY REAR</td><td>16</td></tr>",
                            "<tr><td>SHAWSHANK BUBBLE</td><td>16</td></tr>",
                            "<tr><td>SINNERS ATLANTIS</td><td>16</td></tr>",
                            "<tr><td>SLACKER LIAISONS</td><td>16</td></tr>",
                            "<tr><td>SLIPPER FIDELITY</td><td>16</td></tr>",
                            "<tr><td>STREAK RIDGEMONT</td><td>16</td></tr>",
                            "<tr><td>SUICIDES SILENCE</td><td>16</td></tr>",
                            "<tr><td>TARZAN VIDEOTAPE</td><td>16</td></tr>",
                            "<tr><td>TELEGRAPH VOYAGE</td><td>16</td></tr>",
                            "<tr><td>TITANIC BOONDOCK</td><td>16</td></tr>",
                            "<tr><td>TOMORROW HUSTLER</td><td>16</td></tr>",
                            "<tr><td>TOWERS HURRICANE</td><td>16</td></tr>",
                            "<tr><td>TREASURE COMMAND</td><td>16</td></tr>",
                            "<tr><td>TREATMENT JEKYLL</td><td>16</td></tr>",
                            "<tr><td>TYCOON GATHERING</td><td>16</td></tr>",
                            "<tr><td>VIRTUAL SPOILERS</td><td>16</td></tr>",
                            "<tr><td>WARDROBE PHANTOM</td><td>16</td></tr>",
                            "<tr><td>WARLOCK WEREWOLF</td><td>16</td></tr>",
                            "<tr><td>WASTELAND DIVINE</td><td>16</td></tr>",
                            "<tr><td>WEEKEND PERSONAL</td><td>16</td></tr>",
                            "<tr><td>AMISTAD MIDSUMMER</td><td>17</td></tr>",
                            "<tr><td>ANYTHING SAVANNAH</td><td>17</td></tr>",
                            "<tr><td>ATTRACTION NEWTON</td><td>17</td></tr>",
                            "<tr><td>BEDAZZLED MARRIED</td><td>17</td></tr>",
                            "<tr><td>BIRD INDEPENDENCE</td><td>17</td></tr>",
                            "<tr><td>BOONDOCK BALLROOM</td><td>17</td></tr>",
                            "<tr><td>BRANNIGAN SUNRISE</td><td>17</td></tr>",
                            "<tr><td>BRIGHT ENCOUNTERS</td><td>17</td></tr>",
                            "<tr><td>CALENDAR GUNFIGHT</td><td>17</td></tr>",
                            "<tr><td>CARIBBEAN LIBERTY</td><td>17</td></tr>",
                            "<tr><td>CASUALTIES ENCINO</td><td>17</td></tr>",
                            "<tr><td>COMANCHEROS ENEMY</td><td>17</td></tr>",
                            "<tr><td>CONEHEADS SMOOCHY</td><td>17</td></tr>",
                            "<tr><td>CONNECTICUT TRAMP</td><td>17</td></tr>",
                            "<tr><td>CONSPIRACY SPIRIT</td><td>17</td></tr>",
                            "<tr><td>CONTACT ANONYMOUS</td><td>17</td></tr>",
                            "<tr><td>CURTAIN VIDEOTAPE</td><td>17</td></tr>",
                            "<tr><td>DALMATIONS SWEDEN</td><td>17</td></tr>",
                            "<tr><td>DECEIVER BETRAYED</td><td>17</td></tr>",
                            "<tr><td>DUFFEL APOCALYPSE</td><td>17</td></tr>",
                            "<tr><td>ESCAPE METROPOLIS</td><td>17</td></tr>",
                            "<tr><td>FELLOWSHIP AUTUMN</td><td>17</td></tr>",
                            "<tr><td>FICTION CHRISTMAS</td><td>17</td></tr>",
                            "<tr><td>FIREHOUSE VIETNAM</td><td>17</td></tr>",
                            "<tr><td>FLATLINERS KILLER</td><td>17</td></tr>",
                            "<tr><td>FOREVER CANDIDATE</td><td>17</td></tr>",
                            "<tr><td>FREEDOM CLEOPATRA</td><td>17</td></tr>",
                            "<tr><td>GABLES METROPOLIS</td><td>17</td></tr>",
                            "<tr><td>GOODFELLAS SALUTE</td><td>17</td></tr>",
                            "<tr><td>HANDICAP BOONDOCK</td><td>17</td></tr>",
                            "<tr><td>HAUNTED ANTITRUST</td><td>17</td></tr>",
                            "<tr><td>HOOSIERS BIRDCAGE</td><td>17</td></tr>",
                            "<tr><td>INTENTIONS EMPIRE</td><td>17</td></tr>",
                            "<tr><td>LEBOWSKI SOLDIERS</td><td>17</td></tr>",
                            "<tr><td>LEGALLY SECRETARY</td><td>17</td></tr>",
                            "<tr><td>MEMENTO ZOOLANDER</td><td>17</td></tr>",
                            "<tr><td>MIDNIGHT WESTWARD</td><td>17</td></tr>",
                            "<tr><td>MISSION ZOOLANDER</td><td>17</td></tr>",
                            "<tr><td>MONSTER SPARTACUS</td><td>17</td></tr>",
                            "<tr><td>MONTEZUMA COMMAND</td><td>17</td></tr>",
                            "<tr><td>MOVIE SHAKESPEARE</td><td>17</td></tr>",
                            "<tr><td>NECKLACE OUTBREAK</td><td>17</td></tr>",
                            "<tr><td>NEIGHBORS CHARADE</td><td>17</td></tr>",
                            "<tr><td>NOTORIOUS REUNION</td><td>17</td></tr>",
                            "<tr><td>NOTTING SPEAKEASY</td><td>17</td></tr>",
                            "<tr><td>OCTOBER SUBMARINE</td><td>17</td></tr>",
                            "<tr><td>OPPOSITE NECKLACE</td><td>17</td></tr>",
                            "<tr><td>OUTFIELD MASSACRE</td><td>17</td></tr>",
                            "<tr><td>PAJAMA JAWBREAKER</td><td>17</td></tr>",
                            "<tr><td>PERSONAL LADYBUGS</td><td>17</td></tr>",
                            "<tr><td>PHILADELPHIA WIFE</td><td>17</td></tr>",
                            "<tr><td>RAIDERS ANTITRUST</td><td>17</td></tr>",
                            "<tr><td>SHOOTIST SUPERFLY</td><td>17</td></tr>",
                            "<tr><td>SLEEPING SUSPECTS</td><td>17</td></tr>",
                            "<tr><td>SLEEPLESS MONSOON</td><td>17</td></tr>",
                            "<tr><td>SPARTACUS CHEAPER</td><td>17</td></tr>",
                            "<tr><td>STALLION SUNDANCE</td><td>17</td></tr>",
                            "<tr><td>STEERS ARMAGEDDON</td><td>17</td></tr>",
                            "<tr><td>STRICTLY SCARFACE</td><td>17</td></tr>",
                            "<tr><td>SUNDANCE INVASION</td><td>17</td></tr>",
                            "<tr><td>SWEET BROTHERHOOD</td><td>17</td></tr>",
                            "<tr><td>TALENTED HOMICIDE</td><td>17</td></tr>",
                            "<tr><td>TEMPLE ATTRACTION</td><td>17</td></tr>",
                            "<tr><td>TRADING PINOCCHIO</td><td>17</td></tr>",
                            "<tr><td>VACATION BOONDOCK</td><td>17</td></tr>",
                            "<tr><td>VELVET TERMINATOR</td><td>17</td></tr>",
                            "<tr><td>VERTIGO NORTHWEST</td><td>17</td></tr>",
                            "<tr><td>VIDEOTAPE ARSENIC</td><td>17</td></tr>",
                            "<tr><td>VILLAIN DESPERATE</td><td>17</td></tr>",
                            "<tr><td>ZOOLANDER FICTION</td><td>17</td></tr>",
                            "<tr><td>ANTITRUST TOMATOES</td><td>18</td></tr>",
                            "<tr><td>ARTIST COLDBLOODED</td><td>18</td></tr>",
                            "<tr><td>BEETHOVEN EXORCIST</td><td>18</td></tr>",
                            "<tr><td>BUCKET BROTHERHOOD</td><td>18</td></tr>",
                            "<tr><td>BUTTERFLY CHOCOLAT</td><td>18</td></tr>",
                            "<tr><td>CLOCKWORK PARADISE</td><td>18</td></tr>",
                            "<tr><td>COLOR PHILADELPHIA</td><td>18</td></tr>",
                            "<tr><td>CONGENIALITY QUEST</td><td>18</td></tr>",
                            "<tr><td>CRUELTY UNFORGIVEN</td><td>18</td></tr>",
                            "<tr><td>DINOSAUR SECRETARY</td><td>18</td></tr>",
                            "<tr><td>ENCOUNTERS CURTAIN</td><td>18</td></tr>",
                            "<tr><td>GALAXY SWEETHEARTS</td><td>18</td></tr>",
                            "<tr><td>GATHERING CALENDAR</td><td>18</td></tr>",
                            "<tr><td>GLADIATOR WESTWARD</td><td>18</td></tr>",
                            "<tr><td>GRACELAND DYNAMITE</td><td>18</td></tr>",
                            "<tr><td>GRAIL FRANKENSTEIN</td><td>18</td></tr>",
                            "<tr><td>HEAVYWEIGHTS BEAST</td><td>18</td></tr>",
                            "<tr><td>HOLOCAUST HIGHBALL</td><td>18</td></tr>",
                            "<tr><td>HUNTING MUSKETEERS</td><td>18</td></tr>",
                            "<tr><td>INDEPENDENCE HOTEL</td><td>18</td></tr>",
                            "<tr><td>INTERVIEW LIAISONS</td><td>18</td></tr>",
                            "<tr><td>MAGNIFICENT CHITTY</td><td>18</td></tr>",
                            "<tr><td>MAGNOLIA FORRESTER</td><td>18</td></tr>",
                            "<tr><td>MANCHURIAN CURTAIN</td><td>18</td></tr>",
                            "<tr><td>MENAGERIE RUSHMORE</td><td>18</td></tr>",
                            "<tr><td>MONTEREY LABYRINTH</td><td>18</td></tr>",
                            "<tr><td>MUSSOLINI SPOILERS</td><td>18</td></tr>",
                            "<tr><td>POTTER CONNECTICUT</td><td>18</td></tr>",
                            "<tr><td>PREJUDICE OLEANDER</td><td>18</td></tr>",
                            "<tr><td>RUNAWAY TENENBAUMS</td><td>18</td></tr>",
                            "<tr><td>SAGEBRUSH CLUELESS</td><td>18</td></tr>",
                            "<tr><td>SCISSORHANDS SLUMS</td><td>18</td></tr>",
                            "<tr><td>SHAKESPEARE SADDLE</td><td>18</td></tr>",
                            "<tr><td>SHEPHERD MIDSUMMER</td><td>18</td></tr>",
                            "<tr><td>SMOKING BARBARELLA</td><td>18</td></tr>",
                            "<tr><td>SOLDIERS EVOLUTION</td><td>18</td></tr>",
                            "<tr><td>SPIRIT FLINTSTONES</td><td>18</td></tr>",
                            "<tr><td>STRANGELOVE DESIRE</td><td>18</td></tr>",
                            "<tr><td>STRANGER STRANGERS</td><td>18</td></tr>",
                            "<tr><td>STRANGERS GRAFFITI</td><td>18</td></tr>",
                            "<tr><td>TENENBAUMS COMMAND</td><td>18</td></tr>",
                            "<tr><td>TRANSLATION SUMMER</td><td>18</td></tr>",
                            "<tr><td>UNBREAKABLE KARATE</td><td>18</td></tr>",
                            "<tr><td>USUAL UNTOUCHABLES</td><td>18</td></tr>",
                            "<tr><td>WATERSHIP FRONTIER</td><td>18</td></tr>",
                            "<tr><td>WIZARD COLDBLOODED</td><td>18</td></tr>",
                            "<tr><td>WORLD LEATHERNECKS</td><td>18</td></tr>",
                            "<tr><td>AMELIE HELLFIGHTERS</td><td>19</td></tr>",
                            "<tr><td>BACKLASH UNDEFEATED</td><td>19</td></tr>",
                            "<tr><td>BAREFOOT MANCHURIAN</td><td>19</td></tr>",
                            "<tr><td>BEACH HEARTBREAKERS</td><td>19</td></tr>",
                            "<tr><td>BORROWERS BEDAZZLED</td><td>19</td></tr>",
                            "<tr><td>BRINGING HYSTERICAL</td><td>19</td></tr>",
                            "<tr><td>BROTHERHOOD BLANKET</td><td>19</td></tr>",
                            "<tr><td>CANDIDATE PERDITION</td><td>19</td></tr>",
                            "<tr><td>CHAMPION FLATLINERS</td><td>19</td></tr>",
                            "<tr><td>CHANCE RESURRECTION</td><td>19</td></tr>",
                            "<tr><td>CHARIOTS CONSPIRACY</td><td>19</td></tr>",
                            "<tr><td>CHINATOWN GLADIATOR</td><td>19</td></tr>",
                            "<tr><td>CHRISTMAS MOONSHINE</td><td>19</td></tr>",
                            "<tr><td>COLDBLOODED DARLING</td><td>19</td></tr>",
                            "<tr><td>CONFESSIONS MAGUIRE</td><td>19</td></tr>",
                            "<tr><td>DISTURBING SCARFACE</td><td>19</td></tr>",
                            "<tr><td>DIVINE RESURRECTION</td><td>19</td></tr>",
                            "<tr><td>DOUBTFIRE LABYRINTH</td><td>19</td></tr>",
                            "<tr><td>DRAGONFLY STRANGERS</td><td>19</td></tr>",
                            "<tr><td>EXPECATIONS NATURAL</td><td>19</td></tr>",
                            "<tr><td>EXPENDABLE STALLION</td><td>19</td></tr>",
                            "<tr><td>GLEAMING JAWBREAKER</td><td>19</td></tr>",
                            "<tr><td>HELLFIGHTERS SIERRA</td><td>19</td></tr>",
                            "<tr><td>HOLLYWOOD ANONYMOUS</td><td>19</td></tr>",
                            "<tr><td>JAWBREAKER BROOKLYN</td><td>19</td></tr>",
                            "<tr><td>LADYBUGS ARMAGEDDON</td><td>19</td></tr>",
                            "<tr><td>LEAGUE HELLFIGHTERS</td><td>19</td></tr>",
                            "<tr><td>LEATHERNECKS DWARFS</td><td>19</td></tr>",
                            "<tr><td>LIBERTY MAGNIFICENT</td><td>19</td></tr>",
                            "<tr><td>MIDSUMMER GROUNDHOG</td><td>19</td></tr>",
                            "<tr><td>MOSQUITO ARMAGEDDON</td><td>19</td></tr>",
                            "<tr><td>OPERATION OPERATION</td><td>19</td></tr>",
                            "<tr><td>POLLOCK DELIVERANCE</td><td>19</td></tr>",
                            "<tr><td>REDEMPTION COMFORTS</td><td>19</td></tr>",
                            "<tr><td>RIDGEMONT SUBMARINE</td><td>19</td></tr>",
                            "<tr><td>RINGS HEARTBREAKERS</td><td>19</td></tr>",
                            "<tr><td>RUGRATS SHAKESPEARE</td><td>19</td></tr>",
                            "<tr><td>SEATTLE EXPECATIONS</td><td>19</td></tr>",
                            "<tr><td>SNATCHERS MONTEZUMA</td><td>19</td></tr>",
                            "<tr><td>SPIRITED CASUALTIES</td><td>19</td></tr>",
                            "<tr><td>STAMPEDE DISTURBING</td><td>19</td></tr>",
                            "<tr><td>VALENTINE VANISHING</td><td>19</td></tr>",
                            "<tr><td>WESTWARD SEABISCUIT</td><td>19</td></tr>",
                            "<tr><td>WORKING MICROCOSMOS</td><td>19</td></tr>",
                            "<tr><td>ANACONDA CONFESSIONS</td><td>20</td></tr>",
                            "<tr><td>APOCALYPSE FLAMINGOS</td><td>20</td></tr>",
                            "<tr><td>ARSENIC INDEPENDENCE</td><td>20</td></tr>",
                            "<tr><td>BALLROOM MOCKINGBIRD</td><td>20</td></tr>",
                            "<tr><td>BARBARELLA STREETCAR</td><td>20</td></tr>",
                            "<tr><td>BREAKFAST GOLDFINGER</td><td>20</td></tr>",
                            "<tr><td>CHICKEN HELLFIGHTERS</td><td>20</td></tr>",
                            "<tr><td>CINCINATTI WHISPERER</td><td>20</td></tr>",
                            "<tr><td>COMMANDMENTS EXPRESS</td><td>20</td></tr>",
                            "<tr><td>DRIFTER COMMANDMENTS</td><td>20</td></tr>",
                            "<tr><td>GUNFIGHTER MUSSOLINI</td><td>20</td></tr>",
                            "<tr><td>HEARTBREAKERS BRIGHT</td><td>20</td></tr>",
                            "<tr><td>HUNCHBACK IMPOSSIBLE</td><td>20</td></tr>",
                            "<tr><td>IMPOSSIBLE PREJUDICE</td><td>20</td></tr>",
                            "<tr><td>MICROCOSMOS PARADISE</td><td>20</td></tr>",
                            "<tr><td>PITTSBURGH HUNCHBACK</td><td>20</td></tr>",
                            "<tr><td>RESERVOIR ADAPTATION</td><td>20</td></tr>",
                            "<tr><td>SILVERADO GOLDFINGER</td><td>20</td></tr>",
                            "<tr><td>STREETCAR INTENTIONS</td><td>20</td></tr>",
                            "<tr><td>SWEETHEARTS SUSPECTS</td><td>20</td></tr>",
                            "<tr><td>UNFORGIVEN ZOOLANDER</td><td>20</td></tr>",
                            "<tr><td>UNTOUCHABLES SUNRISE</td><td>20</td></tr>",
                            "<tr><td>WONDERLAND CHRISTMAS</td><td>20</td></tr>",
                            "<tr><td>BULWORTH COMMANDMENTS</td><td>21</td></tr>",
                            "<tr><td>CONVERSATION DOWNHILL</td><td>21</td></tr>",
                            "<tr><td>CREATURES SHAKESPEARE</td><td>21</td></tr>",
                            "<tr><td>CROSSROADS CASUALTIES</td><td>21</td></tr>",
                            "<tr><td>FIREBALL PHILADELPHIA</td><td>21</td></tr>",
                            "<tr><td>FLAMINGOS CONNECTICUT</td><td>21</td></tr>",
                            "<tr><td>FLINTSTONES HAPPINESS</td><td>21</td></tr>",
                            "<tr><td>FORRESTER COMANCHEROS</td><td>21</td></tr>",
                            "<tr><td>FRANKENSTEIN STRANGER</td><td>21</td></tr>",
                            "<tr><td>MOCKINGBIRD HOLLYWOOD</td><td>21</td></tr>",
                            "<tr><td>SNOWMAN ROLLERCOASTER</td><td>21</td></tr>",
                            "<tr><td>SPOILERS HELLFIGHTERS</td><td>21</td></tr>",
                            "<tr><td>STAGECOACH ARMAGEDDON</td><td>21</td></tr>",
                            "<tr><td>TOMATOES HELLFIGHTERS</td><td>21</td></tr>",
                            "<tr><td>UNDEFEATED DALMATIONS</td><td>21</td></tr>",
                            "<tr><td>CONFIDENTIAL INTERVIEW</td><td>22</td></tr>",
                            "<tr><td>CONNECTION MICROCOSMOS</td><td>22</td></tr>",
                            "<tr><td>DELIVERANCE MULHOLLAND</td><td>22</td></tr>",
                            "<tr><td>GOLDFINGER SENSIBILITY</td><td>22</td></tr>",
                            "<tr><td>INTOLERABLE INTENTIONS</td><td>22</td></tr>",
                            "<tr><td>RESURRECTION SILVERADO</td><td>22</td></tr>",
                            "<tr><td>ROLLERCOASTER BRINGING</td><td>22</td></tr>",
                            "<tr><td>TELEMARK HEARTBREAKERS</td><td>22</td></tr>",
                            "<tr><td>WATERFRONT DELIVERANCE</td><td>22</td></tr>",
                            "<tr><td>DESPERATE TRAINSPOTTING</td><td>23</td></tr>",
                            "<tr><td>ENTRAPMENT SATISFACTION</td><td>23</td></tr>",
                            "<tr><td>EXTRAORDINARY CONQUERER</td><td>23</td></tr>",
                            "<tr><td>TRAINSPOTTING STRANGERS</td><td>23</td></tr>",
                            "<tr><td>SATISFACTION CONFIDENTIAL</td><td>25</td></tr>",
                            "<tr><td>ARACHNOPHOBIA ROLLERCOASTER</td><td>27</td></tr>",
                            "</table>"
                        ]
                    }
                }
            ],
            "execution_count": 11
        },
        {
            "cell_type": "code",
            "source": [
                "select country_id, count(distinct city_id) from city GROUP BY country_id ORDER BY 2 desc"
            ],
            "metadata": {
                "azdata_cell_guid": "2fe47e5e-1eb3-4bd1-8bf0-ef9a5dce224d",
                "language": "sql"
            },
            "outputs": [
                {
                    "output_type": "display_data",
                    "data": {
                        "text/html": "(109 row(s) affected)"
                    },
                    "metadata": {}
                },
                {
                    "output_type": "display_data",
                    "data": {
                        "text/html": "Total execution time: 00:00:01.007"
                    },
                    "metadata": {}
                },
                {
                    "output_type": "execute_result",
                    "metadata": {},
                    "execution_count": 16,
                    "data": {
                        "application/vnd.dataresource+json": {
                            "schema": {
                                "fields": [
                                    {
                                        "name": "country_id"
                                    },
                                    {
                                        "name": "count(distinct city_id)"
                                    }
                                ]
                            },
                            "data": [
                                {
                                    "country_id": "44",
                                    "count(distinct city_id)": "60"
                                },
                                {
                                    "country_id": "23",
                                    "count(distinct city_id)": "53"
                                },
                                {
                                    "country_id": "103",
                                    "count(distinct city_id)": "35"
                                },
                                {
                                    "country_id": "50",
                                    "count(distinct city_id)": "31"
                                },
                                {
                                    "country_id": "60",
                                    "count(distinct city_id)": "30"
                                },
                                {
                                    "country_id": "15",
                                    "count(distinct city_id)": "28"
                                },
                                {
                                    "country_id": "80",
                                    "count(distinct city_id)": "28"
                                },
                                {
                                    "country_id": "75",
                                    "count(distinct city_id)": "20"
                                },
                                {
                                    "country_id": "97",
                                    "count(distinct city_id)": "15"
                                },
                                {
                                    "country_id": "45",
                                    "count(distinct city_id)": "14"
                                },
                                {
                                    "country_id": "6",
                                    "count(distinct city_id)": "13"
                                },
                                {
                                    "country_id": "69",
                                    "count(distinct city_id)": "13"
                                },
                                {
                                    "country_id": "85",
                                    "count(distinct city_id)": "11"
                                },
                                {
                                    "country_id": "92",
                                    "count(distinct city_id)": "10"
                                },
                                {
                                    "country_id": "46",
                                    "count(distinct city_id)": "8"
                                },
                                {
                                    "country_id": "76",
                                    "count(distinct city_id)": "8"
                                },
                                {
                                    "country_id": "102",
                                    "count(distinct city_id)": "8"
                                },
                                {
                                    "country_id": "20",
                                    "count(distinct city_id)": "7"
                                },
                                {
                                    "country_id": "38",
                                    "count(distinct city_id)": "7"
                                },
                                {
                                    "country_id": "49",
                                    "count(distinct city_id)": "7"
                                },
                                {
                                    "country_id": "104",
                                    "count(distinct city_id)": "7"
                                },
                                {
                                    "country_id": "24",
                                    "count(distinct city_id)": "6"
                                },
                                {
                                    "country_id": "29",
                                    "count(distinct city_id)": "6"
                                },
                                {
                                    "country_id": "100",
                                    "count(distinct city_id)": "6"
                                },
                                {
                                    "country_id": "105",
                                    "count(distinct city_id)": "6"
                                },
                                {
                                    "country_id": "67",
                                    "count(distinct city_id)": "5"
                                },
                                {
                                    "country_id": "72",
                                    "count(distinct city_id)": "5"
                                },
                                {
                                    "country_id": "82",
                                    "count(distinct city_id)": "5"
                                },
                                {
                                    "country_id": "86",
                                    "count(distinct city_id)": "5"
                                },
                                {
                                    "country_id": "87",
                                    "count(distinct city_id)": "5"
                                },
                                {
                                    "country_id": "34",
                                    "count(distinct city_id)": "4"
                                },
                                {
                                    "country_id": "48",
                                    "count(distinct city_id)": "4"
                                },
                                {
                                    "country_id": "74",
                                    "count(distinct city_id)": "4"
                                },
                                {
                                    "country_id": "107",
                                    "count(distinct city_id)": "4"
                                },
                                {
                                    "country_id": "2",
                                    "count(distinct city_id)": "3"
                                },
                                {
                                    "country_id": "9",
                                    "count(distinct city_id)": "3"
                                },
                                {
                                    "country_id": "12",
                                    "count(distinct city_id)": "3"
                                },
                                {
                                    "country_id": "22",
                                    "count(distinct city_id)": "3"
                                },
                                {
                                    "country_id": "27",
                                    "count(distinct city_id)": "3"
                                },
                                {
                                    "country_id": "28",
                                    "count(distinct city_id)": "3"
                                },
                                {
                                    "country_id": "59",
                                    "count(distinct city_id)": "3"
                                },
                                {
                                    "country_id": "62",
                                    "count(distinct city_id)": "3"
                                },
                                {
                                    "country_id": "63",
                                    "count(distinct city_id)": "3"
                                },
                                {
                                    "country_id": "73",
                                    "count(distinct city_id)": "3"
                                },
                                {
                                    "country_id": "91",
                                    "count(distinct city_id)": "3"
                                },
                                {
                                    "country_id": "93",
                                    "count(distinct city_id)": "3"
                                },
                                {
                                    "country_id": "94",
                                    "count(distinct city_id)": "3"
                                },
                                {
                                    "country_id": "101",
                                    "count(distinct city_id)": "3"
                                },
                                {
                                    "country_id": "4",
                                    "count(distinct city_id)": "2"
                                },
                                {
                                    "country_id": "10",
                                    "count(distinct city_id)": "2"
                                },
                                {
                                    "country_id": "13",
                                    "count(distinct city_id)": "2"
                                },
                                {
                                    "country_id": "14",
                                    "count(distinct city_id)": "2"
                                },
                                {
                                    "country_id": "17",
                                    "count(distinct city_id)": "2"
                                },
                                {
                                    "country_id": "18",
                                    "count(distinct city_id)": "2"
                                },
                                {
                                    "country_id": "19",
                                    "count(distinct city_id)": "2"
                                },
                                {
                                    "country_id": "25",
                                    "count(distinct city_id)": "2"
                                },
                                {
                                    "country_id": "36",
                                    "count(distinct city_id)": "2"
                                },
                                {
                                    "country_id": "39",
                                    "count(distinct city_id)": "2"
                                },
                                {
                                    "country_id": "51",
                                    "count(distinct city_id)": "2"
                                },
                                {
                                    "country_id": "52",
                                    "count(distinct city_id)": "2"
                                },
                                {
                                    "country_id": "54",
                                    "count(distinct city_id)": "2"
                                },
                                {
                                    "country_id": "64",
                                    "count(distinct city_id)": "2"
                                },
                                {
                                    "country_id": "71",
                                    "count(distinct city_id)": "2"
                                },
                                {
                                    "country_id": "77",
                                    "count(distinct city_id)": "2"
                                },
                                {
                                    "country_id": "78",
                                    "count(distinct city_id)": "2"
                                },
                                {
                                    "country_id": "89",
                                    "count(distinct city_id)": "2"
                                },
                                {
                                    "country_id": "108",
                                    "count(distinct city_id)": "2"
                                },
                                {
                                    "country_id": "1",
                                    "count(distinct city_id)": "1"
                                },
                                {
                                    "country_id": "3",
                                    "count(distinct city_id)": "1"
                                },
                                {
                                    "country_id": "5",
                                    "count(distinct city_id)": "1"
                                },
                                {
                                    "country_id": "7",
                                    "count(distinct city_id)": "1"
                                },
                                {
                                    "country_id": "8",
                                    "count(distinct city_id)": "1"
                                },
                                {
                                    "country_id": "11",
                                    "count(distinct city_id)": "1"
                                },
                                {
                                    "country_id": "16",
                                    "count(distinct city_id)": "1"
                                },
                                {
                                    "country_id": "21",
                                    "count(distinct city_id)": "1"
                                },
                                {
                                    "country_id": "26",
                                    "count(distinct city_id)": "1"
                                },
                                {
                                    "country_id": "30",
                                    "count(distinct city_id)": "1"
                                },
                                {
                                    "country_id": "31",
                                    "count(distinct city_id)": "1"
                                },
                                {
                                    "country_id": "32",
                                    "count(distinct city_id)": "1"
                                },
                                {
                                    "country_id": "33",
                                    "count(distinct city_id)": "1"
                                },
                                {
                                    "country_id": "35",
                                    "count(distinct city_id)": "1"
                                },
                                {
                                    "country_id": "37",
                                    "count(distinct city_id)": "1"
                                },
                                {
                                    "country_id": "40",
                                    "count(distinct city_id)": "1"
                                },
                                {
                                    "country_id": "41",
                                    "count(distinct city_id)": "1"
                                },
                                {
                                    "country_id": "42",
                                    "count(distinct city_id)": "1"
                                },
                                {
                                    "country_id": "43",
                                    "count(distinct city_id)": "1"
                                },
                                {
                                    "country_id": "47",
                                    "count(distinct city_id)": "1"
                                },
                                {
                                    "country_id": "53",
                                    "count(distinct city_id)": "1"
                                },
                                {
                                    "country_id": "55",
                                    "count(distinct city_id)": "1"
                                },
                                {
                                    "country_id": "56",
                                    "count(distinct city_id)": "1"
                                },
                                {
                                    "country_id": "57",
                                    "count(distinct city_id)": "1"
                                },
                                {
                                    "country_id": "58",
                                    "count(distinct city_id)": "1"
                                },
                                {
                                    "country_id": "61",
                                    "count(distinct city_id)": "1"
                                },
                                {
                                    "country_id": "65",
                                    "count(distinct city_id)": "1"
                                },
                                {
                                    "country_id": "66",
                                    "count(distinct city_id)": "1"
                                },
                                {
                                    "country_id": "68",
                                    "count(distinct city_id)": "1"
                                },
                                {
                                    "country_id": "70",
                                    "count(distinct city_id)": "1"
                                },
                                {
                                    "country_id": "79",
                                    "count(distinct city_id)": "1"
                                },
                                {
                                    "country_id": "81",
                                    "count(distinct city_id)": "1"
                                },
                                {
                                    "country_id": "83",
                                    "count(distinct city_id)": "1"
                                },
                                {
                                    "country_id": "84",
                                    "count(distinct city_id)": "1"
                                },
                                {
                                    "country_id": "88",
                                    "count(distinct city_id)": "1"
                                },
                                {
                                    "country_id": "90",
                                    "count(distinct city_id)": "1"
                                },
                                {
                                    "country_id": "95",
                                    "count(distinct city_id)": "1"
                                },
                                {
                                    "country_id": "96",
                                    "count(distinct city_id)": "1"
                                },
                                {
                                    "country_id": "98",
                                    "count(distinct city_id)": "1"
                                },
                                {
                                    "country_id": "99",
                                    "count(distinct city_id)": "1"
                                },
                                {
                                    "country_id": "106",
                                    "count(distinct city_id)": "1"
                                },
                                {
                                    "country_id": "109",
                                    "count(distinct city_id)": "1"
                                }
                            ]
                        },
                        "text/html": [
                            "<table>",
                            "<tr><th>country_id</th><th>count(distinct city_id)</th></tr>",
                            "<tr><td>44</td><td>60</td></tr>",
                            "<tr><td>23</td><td>53</td></tr>",
                            "<tr><td>103</td><td>35</td></tr>",
                            "<tr><td>50</td><td>31</td></tr>",
                            "<tr><td>60</td><td>30</td></tr>",
                            "<tr><td>15</td><td>28</td></tr>",
                            "<tr><td>80</td><td>28</td></tr>",
                            "<tr><td>75</td><td>20</td></tr>",
                            "<tr><td>97</td><td>15</td></tr>",
                            "<tr><td>45</td><td>14</td></tr>",
                            "<tr><td>6</td><td>13</td></tr>",
                            "<tr><td>69</td><td>13</td></tr>",
                            "<tr><td>85</td><td>11</td></tr>",
                            "<tr><td>92</td><td>10</td></tr>",
                            "<tr><td>46</td><td>8</td></tr>",
                            "<tr><td>76</td><td>8</td></tr>",
                            "<tr><td>102</td><td>8</td></tr>",
                            "<tr><td>20</td><td>7</td></tr>",
                            "<tr><td>38</td><td>7</td></tr>",
                            "<tr><td>49</td><td>7</td></tr>",
                            "<tr><td>104</td><td>7</td></tr>",
                            "<tr><td>24</td><td>6</td></tr>",
                            "<tr><td>29</td><td>6</td></tr>",
                            "<tr><td>100</td><td>6</td></tr>",
                            "<tr><td>105</td><td>6</td></tr>",
                            "<tr><td>67</td><td>5</td></tr>",
                            "<tr><td>72</td><td>5</td></tr>",
                            "<tr><td>82</td><td>5</td></tr>",
                            "<tr><td>86</td><td>5</td></tr>",
                            "<tr><td>87</td><td>5</td></tr>",
                            "<tr><td>34</td><td>4</td></tr>",
                            "<tr><td>48</td><td>4</td></tr>",
                            "<tr><td>74</td><td>4</td></tr>",
                            "<tr><td>107</td><td>4</td></tr>",
                            "<tr><td>2</td><td>3</td></tr>",
                            "<tr><td>9</td><td>3</td></tr>",
                            "<tr><td>12</td><td>3</td></tr>",
                            "<tr><td>22</td><td>3</td></tr>",
                            "<tr><td>27</td><td>3</td></tr>",
                            "<tr><td>28</td><td>3</td></tr>",
                            "<tr><td>59</td><td>3</td></tr>",
                            "<tr><td>62</td><td>3</td></tr>",
                            "<tr><td>63</td><td>3</td></tr>",
                            "<tr><td>73</td><td>3</td></tr>",
                            "<tr><td>91</td><td>3</td></tr>",
                            "<tr><td>93</td><td>3</td></tr>",
                            "<tr><td>94</td><td>3</td></tr>",
                            "<tr><td>101</td><td>3</td></tr>",
                            "<tr><td>4</td><td>2</td></tr>",
                            "<tr><td>10</td><td>2</td></tr>",
                            "<tr><td>13</td><td>2</td></tr>",
                            "<tr><td>14</td><td>2</td></tr>",
                            "<tr><td>17</td><td>2</td></tr>",
                            "<tr><td>18</td><td>2</td></tr>",
                            "<tr><td>19</td><td>2</td></tr>",
                            "<tr><td>25</td><td>2</td></tr>",
                            "<tr><td>36</td><td>2</td></tr>",
                            "<tr><td>39</td><td>2</td></tr>",
                            "<tr><td>51</td><td>2</td></tr>",
                            "<tr><td>52</td><td>2</td></tr>",
                            "<tr><td>54</td><td>2</td></tr>",
                            "<tr><td>64</td><td>2</td></tr>",
                            "<tr><td>71</td><td>2</td></tr>",
                            "<tr><td>77</td><td>2</td></tr>",
                            "<tr><td>78</td><td>2</td></tr>",
                            "<tr><td>89</td><td>2</td></tr>",
                            "<tr><td>108</td><td>2</td></tr>",
                            "<tr><td>1</td><td>1</td></tr>",
                            "<tr><td>3</td><td>1</td></tr>",
                            "<tr><td>5</td><td>1</td></tr>",
                            "<tr><td>7</td><td>1</td></tr>",
                            "<tr><td>8</td><td>1</td></tr>",
                            "<tr><td>11</td><td>1</td></tr>",
                            "<tr><td>16</td><td>1</td></tr>",
                            "<tr><td>21</td><td>1</td></tr>",
                            "<tr><td>26</td><td>1</td></tr>",
                            "<tr><td>30</td><td>1</td></tr>",
                            "<tr><td>31</td><td>1</td></tr>",
                            "<tr><td>32</td><td>1</td></tr>",
                            "<tr><td>33</td><td>1</td></tr>",
                            "<tr><td>35</td><td>1</td></tr>",
                            "<tr><td>37</td><td>1</td></tr>",
                            "<tr><td>40</td><td>1</td></tr>",
                            "<tr><td>41</td><td>1</td></tr>",
                            "<tr><td>42</td><td>1</td></tr>",
                            "<tr><td>43</td><td>1</td></tr>",
                            "<tr><td>47</td><td>1</td></tr>",
                            "<tr><td>53</td><td>1</td></tr>",
                            "<tr><td>55</td><td>1</td></tr>",
                            "<tr><td>56</td><td>1</td></tr>",
                            "<tr><td>57</td><td>1</td></tr>",
                            "<tr><td>58</td><td>1</td></tr>",
                            "<tr><td>61</td><td>1</td></tr>",
                            "<tr><td>65</td><td>1</td></tr>",
                            "<tr><td>66</td><td>1</td></tr>",
                            "<tr><td>68</td><td>1</td></tr>",
                            "<tr><td>70</td><td>1</td></tr>",
                            "<tr><td>79</td><td>1</td></tr>",
                            "<tr><td>81</td><td>1</td></tr>",
                            "<tr><td>83</td><td>1</td></tr>",
                            "<tr><td>84</td><td>1</td></tr>",
                            "<tr><td>88</td><td>1</td></tr>",
                            "<tr><td>90</td><td>1</td></tr>",
                            "<tr><td>95</td><td>1</td></tr>",
                            "<tr><td>96</td><td>1</td></tr>",
                            "<tr><td>98</td><td>1</td></tr>",
                            "<tr><td>99</td><td>1</td></tr>",
                            "<tr><td>106</td><td>1</td></tr>",
                            "<tr><td>109</td><td>1</td></tr>",
                            "</table>"
                        ]
                    }
                }
            ],
            "execution_count": 16
        },
        {
            "cell_type": "code",
            "source": [
                "select rating, avg(length) from film group by rating"
            ],
            "metadata": {
                "azdata_cell_guid": "3c5ac0e3-6635-43de-8909-83e3308588ee",
                "language": "sql"
            },
            "outputs": [
                {
                    "output_type": "display_data",
                    "data": {
                        "text/html": "(5 row(s) affected)"
                    },
                    "metadata": {}
                },
                {
                    "output_type": "display_data",
                    "data": {
                        "text/html": "Total execution time: 00:00:01.010"
                    },
                    "metadata": {}
                },
                {
                    "output_type": "execute_result",
                    "metadata": {},
                    "execution_count": 17,
                    "data": {
                        "application/vnd.dataresource+json": {
                            "schema": {
                                "fields": [
                                    {
                                        "name": "rating"
                                    },
                                    {
                                        "name": "avg(length)"
                                    }
                                ]
                            },
                            "data": [
                                {
                                    "rating": "PG",
                                    "avg(length)": "112.0052"
                                },
                                {
                                    "rating": "G",
                                    "avg(length)": "111.0506"
                                },
                                {
                                    "rating": "NC-17",
                                    "avg(length)": "113.2286"
                                },
                                {
                                    "rating": "PG-13",
                                    "avg(length)": "120.4439"
                                },
                                {
                                    "rating": "R",
                                    "avg(length)": "118.6615"
                                }
                            ]
                        },
                        "text/html": [
                            "<table>",
                            "<tr><th>rating</th><th>avg(length)</th></tr>",
                            "<tr><td>PG</td><td>112.0052</td></tr>",
                            "<tr><td>G</td><td>111.0506</td></tr>",
                            "<tr><td>NC-17</td><td>113.2286</td></tr>",
                            "<tr><td>PG-13</td><td>120.4439</td></tr>",
                            "<tr><td>R</td><td>118.6615</td></tr>",
                            "</table>"
                        ]
                    }
                }
            ],
            "execution_count": 17
        },
        {
            "cell_type": "code",
            "source": [
                "select store_id, count(distinct customer_id) from customer GROUP by store_id"
            ],
            "metadata": {
                "azdata_cell_guid": "ed5f49b6-dea4-49ea-9400-9f91ac754de8",
                "language": "sql"
            },
            "outputs": [
                {
                    "output_type": "display_data",
                    "data": {
                        "text/html": "(2 row(s) affected)"
                    },
                    "metadata": {}
                },
                {
                    "output_type": "display_data",
                    "data": {
                        "text/html": "Total execution time: 00:00:01.006"
                    },
                    "metadata": {}
                },
                {
                    "output_type": "execute_result",
                    "metadata": {},
                    "execution_count": 20,
                    "data": {
                        "application/vnd.dataresource+json": {
                            "schema": {
                                "fields": [
                                    {
                                        "name": "store_id"
                                    },
                                    {
                                        "name": "count(distinct customer_id)"
                                    }
                                ]
                            },
                            "data": [
                                {
                                    "store_id": "1",
                                    "count(distinct customer_id)": "326"
                                },
                                {
                                    "store_id": "2",
                                    "count(distinct customer_id)": "273"
                                }
                            ]
                        },
                        "text/html": [
                            "<table>",
                            "<tr><th>store_id</th><th>count(distinct customer_id)</th></tr>",
                            "<tr><td>1</td><td>326</td></tr>",
                            "<tr><td>2</td><td>273</td></tr>",
                            "</table>"
                        ]
                    }
                }
            ],
            "execution_count": 20
        },
        {
            "cell_type": "code",
            "source": [
                "select film_id, count(distinct actor_id) from film_actor GROUP by film_id"
            ],
            "metadata": {
                "azdata_cell_guid": "8a84d260-d45b-4047-a7c5-c88aadd8b5be",
                "language": "sql"
            },
            "outputs": [
{
    "output_type": "display_data",
    "data": {
        "text/html": "(997 row(s) affected)"
    },
    "metadata": {}
}, {
    "output_type": "display_data",
    "data": {
        "text/html": "Total execution time: 00:00:01.012"
    },
    "metadata": {}
}, {
    "output_type": "execute_result",
    "metadata": {},
    "execution_count": 29,
    "data": {
        "application/vnd.dataresource+json": {
            "schema": {
                "fields": [
                    {
                        "name": "film_id"
                    },
                    {
                        "name": "count(distinct actor_id)"
                    }
                ]
            },
            "data": [
                {
                    "film_id": "1",
                    "count(distinct actor_id)": "10"
                },
                {
                    "film_id": "2",
                    "count(distinct actor_id)": "4"
                },
                {
                    "film_id": "3",
                    "count(distinct actor_id)": "5"
                },
                {
                    "film_id": "4",
                    "count(distinct actor_id)": "5"
                },
                {
                    "film_id": "5",
                    "count(distinct actor_id)": "5"
                },
                {
                    "film_id": "6",
                    "count(distinct actor_id)": "7"
                },
                {
                    "film_id": "7",
                    "count(distinct actor_id)": "5"
                },
                {
                    "film_id": "8",
                    "count(distinct actor_id)": "4"
                },
                {
                    "film_id": "9",
                    "count(distinct actor_id)": "9"
                },
                {
                    "film_id": "10",
                    "count(distinct actor_id)": "8"
                },
                {
                    "film_id": "11",
                    "count(distinct actor_id)": "4"
                },
                {
                    "film_id": "12",
                    "count(distinct actor_id)": "7"
                },
                {
                    "film_id": "13",
                    "count(distinct actor_id)": "5"
                },
                {
                    "film_id": "14",
                    "count(distinct actor_id)": "4"
                },
                {
                    "film_id": "15",
                    "count(distinct actor_id)": "6"
                },
                {
                    "film_id": "16",
                    "count(distinct actor_id)": "5"
                },
                {
                    "film_id": "17",
                    "count(distinct actor_id)": "8"
                },
                {
                    "film_id": "18",
                    "count(distinct actor_id)": "4"
                },
                {
                    "film_id": "19",
                    "count(distinct actor_id)": "6"
                },
                {
                    "film_id": "20",
                    "count(distinct actor_id)": "6"
                },
                {
                    "film_id": "21",
                    "count(distinct actor_id)": "5"
                },
                {
                    "film_id": "22",
                    "count(distinct actor_id)": "4"
                },
                {
                    "film_id": "23",
                    "count(distinct actor_id)": "5"
                },
                {
                    "film_id": "24",
                    "count(distinct actor_id)": "5"
                },
                {
                    "film_id": "25",
                    "count(distinct actor_id)": "9"
                },
                {
                    "film_id": "26",
                    "count(distinct actor_id)": "3"
                },
                {
                    "film_id": "27",
                    "count(distinct actor_id)": "9"
                },
                {
                    "film_id": "28",
                    "count(distinct actor_id)": "2"
                },
                {
                    "film_id": "29",
                    "count(distinct actor_id)": "7"
                },
                {
                    "film_id": "30",
                    "count(distinct actor_id)": "3"
                },
                {
                    "film_id": "31",
                    "count(distinct actor_id)": "4"
                },
                {
                    "film_id": "32",
                    "count(distinct actor_id)": "5"
                },
                {
                    "film_id": "33",
                    "count(distinct actor_id)": "8"
                },
                {
                    "film_id": "34",
                    "count(distinct actor_id)": "12"
                },
                {
                    "film_id": "35",
                    "count(distinct actor_id)": "8"
                },
                {
                    "film_id": "36",
                    "count(distinct actor_id)": "5"
                },
                {
                    "film_id": "37",
                    "count(distinct actor_id)": "4"
                },
                {
                    "film_id": "38",
                    "count(distinct actor_id)": "3"
                },
                {
                    "film_id": "39",
                    "count(distinct actor_id)": "7"
                },
                {
                    "film_id": "40",
                    "count(distinct actor_id)": "7"
                },
                {
                    "film_id": "41",
                    "count(distinct actor_id)": "3"
                },
                {
                    "film_id": "42",
                    "count(distinct actor_id)": "7"
                },
                {
                    "film_id": "43",
                    "count(distinct actor_id)": "9"
                },
                {
                    "film_id": "44",
                    "count(distinct actor_id)": "4"
                },
                {
                    "film_id": "45",
                    "count(distinct actor_id)": "4"
                },
                {
                    "film_id": "46",
                    "count(distinct actor_id)": "3"
                },
                {
                    "film_id": "47",
                    "count(distinct actor_id)": "8"
                },
                {
                    "film_id": "48",
                    "count(distinct actor_id)": "7"
                },
                {
                    "film_id": "49",
                    "count(distinct actor_id)": "8"
                },
                {
                    "film_id": "50",
                    "count(distinct actor_id)": "1"
                },
                {
                    "film_id": "51",
                    "count(distinct actor_id)": "6"
                },
                {
                    "film_id": "52",
                    "count(distinct actor_id)": "7"
                },
                {
                    "film_id": "53",
                    "count(distinct actor_id)": "7"
                },
                {
                    "film_id": "54",
                    "count(distinct actor_id)": "6"
                },
                {
                    "film_id": "55",
                    "count(distinct actor_id)": "5"
                },
                {
                    "film_id": "56",
                    "count(distinct actor_id)": "8"
                },
                {
                    "film_id": "57",
                    "count(distinct actor_id)": "6"
                },
                {
                    "film_id": "58",
                    "count(distinct actor_id)": "7"
                },
                {
                    "film_id": "59",
                    "count(distinct actor_id)": "3"
                },
                {
                    "film_id": "60",
                    "count(distinct actor_id)": "5"
                },
                {
                    "film_id": "61",
                    "count(distinct actor_id)": "5"
                },
                {
                    "film_id": "62",
                    "count(distinct actor_id)": "5"
                },
                {
                    "film_id": "63",
                    "count(distinct actor_id)": "7"
                },
                {
                    "film_id": "64",
                    "count(distinct actor_id)": "6"
                },
                {
                    "film_id": "65",
                    "count(distinct actor_id)": "5"
                },
                {
                    "film_id": "66",
                    "count(distinct actor_id)": "7"
                },
                {
                    "film_id": "67",
                    "count(distinct actor_id)": "10"
                },
                {
                    "film_id": "68",
                    "count(distinct actor_id)": "4"
                },
                {
                    "film_id": "69",
                    "count(distinct actor_id)": "4"
                },
                {
                    "film_id": "70",
                    "count(distinct actor_id)": "2"
                },
                {
                    "film_id": "71",
                    "count(distinct actor_id)": "3"
                },
                {
                    "film_id": "72",
                    "count(distinct actor_id)": "6"
                },
                {
                    "film_id": "73",
                    "count(distinct actor_id)": "5"
                },
                {
                    "film_id": "74",
                    "count(distinct actor_id)": "6"
                },
                {
                    "film_id": "75",
                    "count(distinct actor_id)": "2"
                },
                {
                    "film_id": "76",
                    "count(distinct actor_id)": "4"
                },
                {
                    "film_id": "77",
                    "count(distinct actor_id)": "4"
                },
                {
                    "film_id": "78",
                    "count(distinct actor_id)": "5"
                },
                {
                    "film_id": "79",
                    "count(distinct actor_id)": "5"
                },
                {
                    "film_id": "80",
                    "count(distinct actor_id)": "4"
                },
                {
                    "film_id": "81",
                    "count(distinct actor_id)": "3"
                },
                {
                    "film_id": "82",
                    "count(distinct actor_id)": "4"
                },
                {
                    "film_id": "83",
                    "count(distinct actor_id)": "4"
                },
                {
                    "film_id": "84",
                    "count(distinct actor_id)": "8"
                },
                {
                    "film_id": "85",
                    "count(distinct actor_id)": "9"
                },
                {
                    "film_id": "86",
                    "count(distinct actor_id)": "6"
                },
                {
                    "film_id": "87",
                    "count(distinct actor_id)": "13"
                },
                {
                    "film_id": "88",
                    "count(distinct actor_id)": "9"
                },
                {
                    "film_id": "89",
                    "count(distinct actor_id)": "7"
                },
                {
                    "film_id": "90",
                    "count(distinct actor_id)": "8"
                },
                {
                    "film_id": "91",
                    "count(distinct actor_id)": "2"
                },
                {
                    "film_id": "92",
                    "count(distinct actor_id)": "5"
                },
                {
                    "film_id": "93",
                    "count(distinct actor_id)": "2"
                },
                {
                    "film_id": "94",
                    "count(distinct actor_id)": "4"
                },
                {
                    "film_id": "95",
                    "count(distinct actor_id)": "5"
                },
                {
                    "film_id": "96",
                    "count(distinct actor_id)": "6"
                },
                {
                    "film_id": "97",
                    "count(distinct actor_id)": "1"
                },
                {
                    "film_id": "98",
                    "count(distinct actor_id)": "4"
                },
                {
                    "film_id": "99",
                    "count(distinct actor_id)": "2"
                },
                {
                    "film_id": "100",
                    "count(distinct actor_id)": "5"
                },
                {
                    "film_id": "101",
                    "count(distinct actor_id)": "5"
                },
                {
                    "film_id": "102",
                    "count(distinct actor_id)": "3"
                },
                {
                    "film_id": "103",
                    "count(distinct actor_id)": "6"
                },
                {
                    "film_id": "104",
                    "count(distinct actor_id)": "2"
                },
                {
                    "film_id": "105",
                    "count(distinct actor_id)": "8"
                },
                {
                    "film_id": "106",
                    "count(distinct actor_id)": "4"
                },
                {
                    "film_id": "107",
                    "count(distinct actor_id)": "8"
                },
                {
                    "film_id": "108",
                    "count(distinct actor_id)": "3"
                },
                {
                    "film_id": "109",
                    "count(distinct actor_id)": "7"
                },
                {
                    "film_id": "110",
                    "count(distinct actor_id)": "4"
                },
                {
                    "film_id": "111",
                    "count(distinct actor_id)": "7"
                },
                {
                    "film_id": "112",
                    "count(distinct actor_id)": "8"
                },
                {
                    "film_id": "113",
                    "count(distinct actor_id)": "2"
                },
                {
                    "film_id": "114",
                    "count(distinct actor_id)": "2"
                },
                {
                    "film_id": "115",
                    "count(distinct actor_id)": "3"
                },
                {
                    "film_id": "116",
                    "count(distinct actor_id)": "4"
                },
                {
                    "film_id": "117",
                    "count(distinct actor_id)": "7"
                },
                {
                    "film_id": "118",
                    "count(distinct actor_id)": "6"
                },
                {
                    "film_id": "119",
                    "count(distinct actor_id)": "7"
                },
                {
                    "film_id": "120",
                    "count(distinct actor_id)": "8"
                },
                {
                    "film_id": "121",
                    "count(distinct actor_id)": "7"
                },
                {
                    "film_id": "122",
                    "count(distinct actor_id)": "7"
                },
                {
                    "film_id": "123",
                    "count(distinct actor_id)": "4"
                },
                {
                    "film_id": "124",
                    "count(distinct actor_id)": "5"
                },
                {
                    "film_id": "125",
                    "count(distinct actor_id)": "7"
                },
                {
                    "film_id": "126",
                    "count(distinct actor_id)": "5"
                },
                {
                    "film_id": "127",
                    "count(distinct actor_id)": "4"
                },
                {
                    "film_id": "128",
                    "count(distinct actor_id)": "5"
                },
                {
                    "film_id": "129",
                    "count(distinct actor_id)": "6"
                },
                {
                    "film_id": "130",
                    "count(distinct actor_id)": "4"
                },
                {
                    "film_id": "131",
                    "count(distinct actor_id)": "4"
                },
                {
                    "film_id": "132",
                    "count(distinct actor_id)": "2"
                },
                {
                    "film_id": "133",
                    "count(distinct actor_id)": "7"
                },
                {
                    "film_id": "134",
                    "count(distinct actor_id)": "4"
                },
                {
                    "film_id": "135",
                    "count(distinct actor_id)": "6"
                },
                {
                    "film_id": "136",
                    "count(distinct actor_id)": "6"
                },
                {
                    "film_id": "137",
                    "count(distinct actor_id)": "3"
                },
                {
                    "film_id": "138",
                    "count(distinct actor_id)": "2"
                },
                {
                    "film_id": "139",
                    "count(distinct actor_id)": "5"
                },
                {
                    "film_id": "140",
                    "count(distinct actor_id)": "2"
                },
                {
                    "film_id": "141",
                    "count(distinct actor_id)": "8"
                },
                {
                    "film_id": "142",
                    "count(distinct actor_id)": "2"
                },
                {
                    "film_id": "143",
                    "count(distinct actor_id)": "5"
                },
                {
                    "film_id": "144",
                    "count(distinct actor_id)": "10"
                },
                {
                    "film_id": "145",
                    "count(distinct actor_id)": "4"
                },
                {
                    "film_id": "146",
                    "count(distinct actor_id)": "13"
                },
                {
                    "film_id": "147",
                    "count(distinct actor_id)": "5"
                },
                {
                    "film_id": "148",
                    "count(distinct actor_id)": "7"
                },
                {
                    "film_id": "149",
                    "count(distinct actor_id)": "3"
                },
                {
                    "film_id": "150",
                    "count(distinct actor_id)": "5"
                },
                {
                    "film_id": "151",
                    "count(distinct actor_id)": "4"
                },
                {
                    "film_id": "152",
                    "count(distinct actor_id)": "2"
                },
                {
                    "film_id": "153",
                    "count(distinct actor_id)": "8"
                },
                {
                    "film_id": "154",
                    "count(distinct actor_id)": "7"
                },
                {
                    "film_id": "155",
                    "count(distinct actor_id)": "7"
                },
                {
                    "film_id": "156",
                    "count(distinct actor_id)": "4"
                },
                {
                    "film_id": "157",
                    "count(distinct actor_id)": "5"
                },
                {
                    "film_id": "158",
                    "count(distinct actor_id)": "5"
                },
                {
                    "film_id": "159",
                    "count(distinct actor_id)": "6"
                },
                {
                    "film_id": "160",
                    "count(distinct actor_id)": "4"
                },
                {
                    "film_id": "161",
                    "count(distinct actor_id)": "6"
                },
                {
                    "film_id": "162",
                    "count(distinct actor_id)": "8"
                },
                {
                    "film_id": "163",
                    "count(distinct actor_id)": "4"
                },
                {
                    "film_id": "164",
                    "count(distinct actor_id)": "10"
                },
                {
                    "film_id": "165",
                    "count(distinct actor_id)": "4"
                },
                {
                    "film_id": "166",
                    "count(distinct actor_id)": "7"
                },
                {
                    "film_id": "167",
                    "count(distinct actor_id)": "3"
                },
                {
                    "film_id": "168",
                    "count(distinct actor_id)": "5"
                },
                {
                    "film_id": "169",
                    "count(distinct actor_id)": "5"
                },
                {
                    "film_id": "170",
                    "count(distinct actor_id)": "8"
                },
                {
                    "film_id": "171",
                    "count(distinct actor_id)": "4"
                },
                {
                    "film_id": "172",
                    "count(distinct actor_id)": "9"
                },
                {
                    "film_id": "173",
                    "count(distinct actor_id)": "4"
                },
                {
                    "film_id": "174",
                    "count(distinct actor_id)": "2"
                },
                {
                    "film_id": "175",
                    "count(distinct actor_id)": "6"
                },
                {
                    "film_id": "176",
                    "count(distinct actor_id)": "3"
                },
                {
                    "film_id": "177",
                    "count(distinct actor_id)": "7"
                },
                {
                    "film_id": "178",
                    "count(distinct actor_id)": "7"
                },
                {
                    "film_id": "179",
                    "count(distinct actor_id)": "6"
                },
                {
                    "film_id": "180",
                    "count(distinct actor_id)": "4"
                },
                {
                    "film_id": "181",
                    "count(distinct actor_id)": "5"
                },
                {
                    "film_id": "182",
                    "count(distinct actor_id)": "3"
                },
                {
                    "film_id": "183",
                    "count(distinct actor_id)": "3"
                },
                {
                    "film_id": "184",
                    "count(distinct actor_id)": "4"
                },
                {
                    "film_id": "185",
                    "count(distinct actor_id)": "5"
                },
                {
                    "film_id": "186",
                    "count(distinct actor_id)": "6"
                },
                {
                    "film_id": "187",
                    "count(distinct actor_id)": "6"
                },
                {
                    "film_id": "188",
                    "count(distinct actor_id)": "13"
                },
                {
                    "film_id": "189",
                    "count(distinct actor_id)": "3"
                },
                {
                    "film_id": "190",
                    "count(distinct actor_id)": "6"
                },
                {
                    "film_id": "191",
                    "count(distinct actor_id)": "6"
                },
                {
                    "film_id": "192",
                    "count(distinct actor_id)": "2"
                },
                {
                    "film_id": "193",
                    "count(distinct actor_id)": "8"
                },
                {
                    "film_id": "194",
                    "count(distinct actor_id)": "10"
                },
                {
                    "film_id": "195",
                    "count(distinct actor_id)": "4"
                },
                {
                    "film_id": "196",
                    "count(distinct actor_id)": "2"
                },
                {
                    "film_id": "197",
                    "count(distinct actor_id)": "9"
                },
                {
                    "film_id": "198",
                    "count(distinct actor_id)": "5"
                },
                {
                    "film_id": "199",
                    "count(distinct actor_id)": "8"
                },
                {
                    "film_id": "200",
                    "count(distinct actor_id)": "3"
                },
                {
                    "film_id": "201",
                    "count(distinct actor_id)": "3"
                },
                {
                    "film_id": "202",
                    "count(distinct actor_id)": "5"
                },
                {
                    "film_id": "203",
                    "count(distinct actor_id)": "7"
                },
                {
                    "film_id": "204",
                    "count(distinct actor_id)": "6"
                },
                {
                    "film_id": "205",
                    "count(distinct actor_id)": "5"
                },
                {
                    "film_id": "206",
                    "count(distinct actor_id)": "6"
                },
                {
                    "film_id": "207",
                    "count(distinct actor_id)": "8"
                },
                {
                    "film_id": "208",
                    "count(distinct actor_id)": "10"
                },
                {
                    "film_id": "209",
                    "count(distinct actor_id)": "2"
                },
                {
                    "film_id": "210",
                    "count(distinct actor_id)": "4"
                },
                {
                    "film_id": "211",
                    "count(distinct actor_id)": "2"
                },
                {
                    "film_id": "212",
                    "count(distinct actor_id)": "9"
                },
                {
                    "film_id": "213",
                    "count(distinct actor_id)": "4"
                },
                {
                    "film_id": "214",
                    "count(distinct actor_id)": "4"
                },
                {
                    "film_id": "215",
                    "count(distinct actor_id)": "6"
                },
                {
                    "film_id": "216",
                    "count(distinct actor_id)": "5"
                },
                {
                    "film_id": "217",
                    "count(distinct actor_id)": "6"
                },
                {
                    "film_id": "218",
                    "count(distinct actor_id)": "4"
                },
                {
                    "film_id": "219",
                    "count(distinct actor_id)": "7"
                },
                {
                    "film_id": "220",
                    "count(distinct actor_id)": "3"
                },
                {
                    "film_id": "221",
                    "count(distinct actor_id)": "3"
                },
                {
                    "film_id": "222",
                    "count(distinct actor_id)": "5"
                },
                {
                    "film_id": "223",
                    "count(distinct actor_id)": "7"
                },
                {
                    "film_id": "224",
                    "count(distinct actor_id)": "4"
                },
                {
                    "film_id": "225",
                    "count(distinct actor_id)": "3"
                },
                {
                    "film_id": "226",
                    "count(distinct actor_id)": "7"
                },
                {
                    "film_id": "227",
                    "count(distinct actor_id)": "2"
                },
                {
                    "film_id": "228",
                    "count(distinct actor_id)": "3"
                },
                {
                    "film_id": "229",
                    "count(distinct actor_id)": "5"
                },
                {
                    "film_id": "230",
                    "count(distinct actor_id)": "4"
                },
                {
                    "film_id": "231",
                    "count(distinct actor_id)": "6"
                },
                {
                    "film_id": "232",
                    "count(distinct actor_id)": "5"
                },
                {
                    "film_id": "233",
                    "count(distinct actor_id)": "7"
                },
                {
                    "film_id": "234",
                    "count(distinct actor_id)": "4"
                },
                {
                    "film_id": "235",
                    "count(distinct actor_id)": "6"
                },
                {
                    "film_id": "236",
                    "count(distinct actor_id)": "5"
                },
                {
                    "film_id": "237",
                    "count(distinct actor_id)": "6"
                },
                {
                    "film_id": "238",
                    "count(distinct actor_id)": "6"
                },
                {
                    "film_id": "239",
                    "count(distinct actor_id)": "7"
                },
                {
                    "film_id": "240",
                    "count(distinct actor_id)": "1"
                },
                {
                    "film_id": "241",
                    "count(distinct actor_id)": "7"
                },
                {
                    "film_id": "242",
                    "count(distinct actor_id)": "8"
                },
                {
                    "film_id": "243",
                    "count(distinct actor_id)": "9"
                },
                {
                    "film_id": "244",
                    "count(distinct actor_id)": "4"
                },
                {
                    "film_id": "245",
                    "count(distinct actor_id)": "8"
                },
                {
                    "film_id": "246",
                    "count(distinct actor_id)": "5"
                },
                {
                    "film_id": "247",
                    "count(distinct actor_id)": "4"
                },
                {
                    "film_id": "248",
                    "count(distinct actor_id)": "6"
                },
                {
                    "film_id": "249",
                    "count(distinct actor_id)": "13"
                },
                {
                    "film_id": "250",
                    "count(distinct actor_id)": "8"
                },
                {
                    "film_id": "251",
                    "count(distinct actor_id)": "3"
                },
                {
                    "film_id": "252",
                    "count(distinct actor_id)": "4"
                },
                {
                    "film_id": "253",
                    "count(distinct actor_id)": "7"
                },
                {
                    "film_id": "254",
                    "count(distinct actor_id)": "8"
                },
                {
                    "film_id": "255",
                    "count(distinct actor_id)": "7"
                },
                {
                    "film_id": "256",
                    "count(distinct actor_id)": "8"
                },
                {
                    "film_id": "258",
                    "count(distinct actor_id)": "7"
                },
                {
                    "film_id": "259",
                    "count(distinct actor_id)": "2"
                },
                {
                    "film_id": "260",
                    "count(distinct actor_id)": "7"
                },
                {
                    "film_id": "261",
                    "count(distinct actor_id)": "3"
                },
                {
                    "film_id": "262",
                    "count(distinct actor_id)": "9"
                },
                {
                    "film_id": "263",
                    "count(distinct actor_id)": "9"
                },
                {
                    "film_id": "264",
                    "count(distinct actor_id)": "1"
                },
                {
                    "film_id": "265",
                    "count(distinct actor_id)": "2"
                },
                {
                    "film_id": "266",
                    "count(distinct actor_id)": "5"
                },
                {
                    "film_id": "267",
                    "count(distinct actor_id)": "6"
                },
                {
                    "film_id": "268",
                    "count(distinct actor_id)": "6"
                },
                {
                    "film_id": "269",
                    "count(distinct actor_id)": "5"
                },
                {
                    "film_id": "270",
                    "count(distinct actor_id)": "3"
                },
                {
                    "film_id": "271",
                    "count(distinct actor_id)": "3"
                },
                {
                    "film_id": "272",
                    "count(distinct actor_id)": "3"
                },
                {
                    "film_id": "273",
                    "count(distinct actor_id)": "7"
                },
                {
                    "film_id": "274",
                    "count(distinct actor_id)": "5"
                },
                {
                    "film_id": "275",
                    "count(distinct actor_id)": "5"
                },
                {
                    "film_id": "276",
                    "count(distinct actor_id)": "4"
                },
                {
                    "film_id": "277",
                    "count(distinct actor_id)": "5"
                },
                {
                    "film_id": "278",
                    "count(distinct actor_id)": "5"
                },
                {
                    "film_id": "279",
                    "count(distinct actor_id)": "3"
                },
                {
                    "film_id": "280",
                    "count(distinct actor_id)": "9"
                },
                {
                    "film_id": "281",
                    "count(distinct actor_id)": "6"
                },
                {
                    "film_id": "282",
                    "count(distinct actor_id)": "4"
                },
                {
                    "film_id": "283",
                    "count(distinct actor_id)": "5"
                },
                {
                    "film_id": "284",
                    "count(distinct actor_id)": "4"
                },
                {
                    "film_id": "285",
                    "count(distinct actor_id)": "5"
                },
                {
                    "film_id": "286",
                    "count(distinct actor_id)": "9"
                },
                {
                    "film_id": "287",
                    "count(distinct actor_id)": "4"
                },
                {
                    "film_id": "288",
                    "count(distinct actor_id)": "4"
                },
                {
                    "film_id": "289",
                    "count(distinct actor_id)": "6"
                },
                {
                    "film_id": "290",
                    "count(distinct actor_id)": "5"
                },
                {
                    "film_id": "291",
                    "count(distinct actor_id)": "6"
                },
                {
                    "film_id": "292",
                    "count(distinct actor_id)": "8"
                },
                {
                    "film_id": "293",
                    "count(distinct actor_id)": "5"
                },
                {
                    "film_id": "294",
                    "count(distinct actor_id)": "3"
                },
                {
                    "film_id": "295",
                    "count(distinct actor_id)": "4"
                },
                {
                    "film_id": "296",
                    "count(distinct actor_id)": "8"
                },
                {
                    "film_id": "297",
                    "count(distinct actor_id)": "7"
                },
                {
                    "film_id": "298",
                    "count(distinct actor_id)": "5"
                },
                {
                    "film_id": "299",
                    "count(distinct actor_id)": "6"
                },
                {
                    "film_id": "300",
                    "count(distinct actor_id)": "4"
                },
                {
                    "film_id": "301",
                    "count(distinct actor_id)": "9"
                },
                {
                    "film_id": "302",
                    "count(distinct actor_id)": "3"
                },
                {
                    "film_id": "303",
                    "count(distinct actor_id)": "9"
                },
                {
                    "film_id": "304",
                    "count(distinct actor_id)": "5"
                },
                {
                    "film_id": "305",
                    "count(distinct actor_id)": "6"
                },
                {
                    "film_id": "306",
                    "count(distinct actor_id)": "9"
                },
                {
                    "film_id": "307",
                    "count(distinct actor_id)": "7"
                },
                {
                    "film_id": "308",
                    "count(distinct actor_id)": "1"
                },
                {
                    "film_id": "309",
                    "count(distinct actor_id)": "4"
                },
                {
                    "film_id": "310",
                    "count(distinct actor_id)": "3"
                },
                {
                    "film_id": "311",
                    "count(distinct actor_id)": "8"
                },
                {
                    "film_id": "312",
                    "count(distinct actor_id)": "11"
                },
                {
                    "film_id": "313",
                    "count(distinct actor_id)": "4"
                },
                {
                    "film_id": "314",
                    "count(distinct actor_id)": "3"
                },
                {
                    "film_id": "315",
                    "count(distinct actor_id)": "5"
                },
                {
                    "film_id": "316",
                    "count(distinct actor_id)": "5"
                },
                {
                    "film_id": "317",
                    "count(distinct actor_id)": "5"
                },
                {
                    "film_id": "318",
                    "count(distinct actor_id)": "5"
                },
                {
                    "film_id": "319",
                    "count(distinct actor_id)": "2"
                },
                {
                    "film_id": "320",
                    "count(distinct actor_id)": "9"
                },
                {
                    "film_id": "321",
                    "count(distinct actor_id)": "7"
                },
                {
                    "film_id": "322",
                    "count(distinct actor_id)": "9"
                },
                {
                    "film_id": "324",
                    "count(distinct actor_id)": "4"
                },
                {
                    "film_id": "325",
                    "count(distinct actor_id)": "5"
                },
                {
                    "film_id": "326",
                    "count(distinct actor_id)": "8"
                },
                {
                    "film_id": "327",
                    "count(distinct actor_id)": "2"
                },
                {
                    "film_id": "328",
                    "count(distinct actor_id)": "1"
                },
                {
                    "film_id": "329",
                    "count(distinct actor_id)": "5"
                },
                {
                    "film_id": "330",
                    "count(distinct actor_id)": "3"
                },
                {
                    "film_id": "331",
                    "count(distinct actor_id)": "3"
                },
                {
                    "film_id": "332",
                    "count(distinct actor_id)": "2"
                },
                {
                    "film_id": "333",
                    "count(distinct actor_id)": "5"
                },
                {
                    "film_id": "334",
                    "count(distinct actor_id)": "3"
                },
                {
                    "film_id": "335",
                    "count(distinct actor_id)": "5"
                },
                {
                    "film_id": "336",
                    "count(distinct actor_id)": "7"
                },
                {
                    "film_id": "337",
                    "count(distinct actor_id)": "5"
                },
                {
                    "film_id": "338",
                    "count(distinct actor_id)": "9"
                },
                {
                    "film_id": "339",
                    "count(distinct actor_id)": "6"
                },
                {
                    "film_id": "340",
                    "count(distinct actor_id)": "6"
                },
                {
                    "film_id": "341",
                    "count(distinct actor_id)": "7"
                },
                {
                    "film_id": "342",
                    "count(distinct actor_id)": "11"
                },
                {
                    "film_id": "343",
                    "count(distinct actor_id)": "6"
                },
                {
                    "film_id": "344",
                    "count(distinct actor_id)": "4"
                },
                {
                    "film_id": "345",
                    "count(distinct actor_id)": "8"
                },
                {
                    "film_id": "346",
                    "count(distinct actor_id)": "3"
                },
                {
                    "film_id": "347",
                    "count(distinct actor_id)": "8"
                },
                {
                    "film_id": "348",
                    "count(distinct actor_id)": "8"
                },
                {
                    "film_id": "349",
                    "count(distinct actor_id)": "4"
                },
                {
                    "film_id": "350",
                    "count(distinct actor_id)": "3"
                },
                {
                    "film_id": "351",
                    "count(distinct actor_id)": "5"
                },
                {
                    "film_id": "352",
                    "count(distinct actor_id)": "3"
                },
                {
                    "film_id": "353",
                    "count(distinct actor_id)": "8"
                },
                {
                    "film_id": "354",
                    "count(distinct actor_id)": "5"
                },
                {
                    "film_id": "355",
                    "count(distinct actor_id)": "1"
                },
                {
                    "film_id": "356",
                    "count(distinct actor_id)": "1"
                },
                {
                    "film_id": "357",
                    "count(distinct actor_id)": "4"
                },
                {
                    "film_id": "358",
                    "count(distinct actor_id)": "6"
                },
                {
                    "film_id": "359",
                    "count(distinct actor_id)": "6"
                },
                {
                    "film_id": "360",
                    "count(distinct actor_id)": "4"
                },
                {
                    "film_id": "361",
                    "count(distinct actor_id)": "8"
                },
                {
                    "film_id": "362",
                    "count(distinct actor_id)": "6"
                },
                {
                    "film_id": "363",
                    "count(distinct actor_id)": "3"
                },
                {
                    "film_id": "364",
                    "count(distinct actor_id)": "6"
                },
                {
                    "film_id": "365",
                    "count(distinct actor_id)": "2"
                },
                {
                    "film_id": "366",
                    "count(distinct actor_id)": "4"
                },
                {
                    "film_id": "367",
                    "count(distinct actor_id)": "7"
                },
                {
                    "film_id": "368",
                    "count(distinct actor_id)": "5"
                },
                {
                    "film_id": "369",
                    "count(distinct actor_id)": "8"
                },
                {
                    "film_id": "370",
                    "count(distinct actor_id)": "7"
                },
                {
                    "film_id": "371",
                    "count(distinct actor_id)": "3"
                },
                {
                    "film_id": "372",
                    "count(distinct actor_id)": "6"
                },
                {
                    "film_id": "373",
                    "count(distinct actor_id)": "2"
                },
                {
                    "film_id": "374",
                    "count(distinct actor_id)": "6"
                },
                {
                    "film_id": "375",
                    "count(distinct actor_id)": "5"
                },
                {
                    "film_id": "376",
                    "count(distinct actor_id)": "5"
                },
                {
                    "film_id": "377",
                    "count(distinct actor_id)": "3"
                },
                {
                    "film_id": "378",
                    "count(distinct actor_id)": "6"
                },
                {
                    "film_id": "379",
                    "count(distinct actor_id)": "8"
                },
                {
                    "film_id": "380",
                    "count(distinct actor_id)": "4"
                },
                {
                    "film_id": "381",
                    "count(distinct actor_id)": "6"
                },
                {
                    "film_id": "382",
                    "count(distinct actor_id)": "3"
                },
                {
                    "film_id": "383",
                    "count(distinct actor_id)": "7"
                },
                {
                    "film_id": "384",
                    "count(distinct actor_id)": "4"
                },
                {
                    "film_id": "385",
                    "count(distinct actor_id)": "7"
                },
                {
                    "film_id": "386",
                    "count(distinct actor_id)": "6"
                },
                {
                    "film_id": "387",
                    "count(distinct actor_id)": "5"
                },
                {
                    "film_id": "388",
                    "count(distinct actor_id)": "4"
                },
                {
                    "film_id": "389",
                    "count(distinct actor_id)": "4"
                },
                {
                    "film_id": "390",
                    "count(distinct actor_id)": "5"
                },
                {
                    "film_id": "391",
                    "count(distinct actor_id)": "6"
                },
                {
                    "film_id": "392",
                    "count(distinct actor_id)": "5"
                },
                {
                    "film_id": "393",
                    "count(distinct actor_id)": "7"
                },
                {
                    "film_id": "394",
                    "count(distinct actor_id)": "5"
                },
                {
                    "film_id": "395",
                    "count(distinct actor_id)": "7"
                },
                {
                    "film_id": "396",
                    "count(distinct actor_id)": "7"
                },
                {
                    "film_id": "397",
                    "count(distinct actor_id)": "3"
                },
                {
                    "film_id": "398",
                    "count(distinct actor_id)": "7"
                },
                {
                    "film_id": "399",
                    "count(distinct actor_id)": "5"
                },
                {
                    "film_id": "400",
                    "count(distinct actor_id)": "3"
                },
                {
                    "film_id": "401",
                    "count(distinct actor_id)": "7"
                },
                {
                    "film_id": "402",
                    "count(distinct actor_id)": "4"
                },
                {
                    "film_id": "403",
                    "count(distinct actor_id)": "6"
                },
                {
                    "film_id": "404",
                    "count(distinct actor_id)": "3"
                },
                {
                    "film_id": "405",
                    "count(distinct actor_id)": "5"
                },
                {
                    "film_id": "406",
                    "count(distinct actor_id)": "5"
                },
                {
                    "film_id": "407",
                    "count(distinct actor_id)": "7"
                },
                {
                    "film_id": "408",
                    "count(distinct actor_id)": "2"
                },
                {
                    "film_id": "409",
                    "count(distinct actor_id)": "5"
                },
                {
                    "film_id": "410",
                    "count(distinct actor_id)": "10"
                },
                {
                    "film_id": "411",
                    "count(distinct actor_id)": "6"
                },
                {
                    "film_id": "412",
                    "count(distinct actor_id)": "5"
                },
                {
                    "film_id": "413",
                    "count(distinct actor_id)": "4"
                },
                {
                    "film_id": "414",
                    "count(distinct actor_id)": "12"
                },
                {
                    "film_id": "415",
                    "count(distinct actor_id)": "7"
                },
                {
                    "film_id": "416",
                    "count(distinct actor_id)": "5"
                },
                {
                    "film_id": "417",
                    "count(distinct actor_id)": "6"
                },
                {
                    "film_id": "418",
                    "count(distinct actor_id)": "8"
                },
                {
                    "film_id": "419",
                    "count(distinct actor_id)": "3"
                },
                {
                    "film_id": "420",
                    "count(distinct actor_id)": "11"
                },
                {
                    "film_id": "421",
                    "count(distinct actor_id)": "6"
                },
                {
                    "film_id": "422",
                    "count(distinct actor_id)": "2"
                },
                {
                    "film_id": "423",
                    "count(distinct actor_id)": "6"
                },
                {
                    "film_id": "424",
                    "count(distinct actor_id)": "5"
                },
                {
                    "film_id": "425",
                    "count(distinct actor_id)": "3"
                },
                {
                    "film_id": "426",
                    "count(distinct actor_id)": "6"
                },
                {
                    "film_id": "427",
                    "count(distinct actor_id)": "7"
                },
                {
                    "film_id": "428",
                    "count(distinct actor_id)": "8"
                },
                {
                    "film_id": "429",
                    "count(distinct actor_id)": "5"
                },
                {
                    "film_id": "430",
                    "count(distinct actor_id)": "4"
                },
                {
                    "film_id": "431",
                    "count(distinct actor_id)": "10"
                },
                {
                    "film_id": "432",
                    "count(distinct actor_id)": "4"
                },
                {
                    "film_id": "433",
                    "count(distinct actor_id)": "8"
                },
                {
                    "film_id": "434",
                    "count(distinct actor_id)": "5"
                },
                {
                    "film_id": "435",
                    "count(distinct actor_id)": "4"
                },
                {
                    "film_id": "436",
                    "count(distinct actor_id)": "6"
                },
                {
                    "film_id": "437",
                    "count(distinct actor_id)": "9"
                },
                {
                    "film_id": "438",
                    "count(distinct actor_id)": "4"
                },
                {
                    "film_id": "439",
                    "count(distinct actor_id)": "2"
                },
                {
                    "film_id": "440",
                    "count(distinct actor_id)": "1"
                },
                {
                    "film_id": "441",
                    "count(distinct actor_id)": "4"
                },
                {
                    "film_id": "442",
                    "count(distinct actor_id)": "5"
                },
                {
                    "film_id": "443",
                    "count(distinct actor_id)": "3"
                },
                {
                    "film_id": "444",
                    "count(distinct actor_id)": "4"
                },
                {
                    "film_id": "445",
                    "count(distinct actor_id)": "6"
                },
                {
                    "film_id": "446",
                    "count(distinct actor_id)": "9"
                },
                {
                    "film_id": "447",
                    "count(distinct actor_id)": "6"
                },
                {
                    "film_id": "448",
                    "count(distinct actor_id)": "6"
                },
                {
                    "film_id": "449",
                    "count(distinct actor_id)": "4"
                },
                {
                    "film_id": "450",
                    "count(distinct actor_id)": "8"
                },
                {
                    "film_id": "451",
                    "count(distinct actor_id)": "5"
                },
                {
                    "film_id": "452",
                    "count(distinct actor_id)": "7"
                },
                {
                    "film_id": "453",
                    "count(distinct actor_id)": "11"
                },
                {
                    "film_id": "454",
                    "count(distinct actor_id)": "3"
                },
                {
                    "film_id": "455",
                    "count(distinct actor_id)": "3"
                },
                {
                    "film_id": "456",
                    "count(distinct actor_id)": "5"
                },
                {
                    "film_id": "457",
                    "count(distinct actor_id)": "9"
                },
                {
                    "film_id": "458",
                    "count(distinct actor_id)": "10"
                },
                {
                    "film_id": "459",
                    "count(distinct actor_id)": "3"
                },
                {
                    "film_id": "460",
                    "count(distinct actor_id)": "3"
                },
                {
                    "film_id": "461",
                    "count(distinct actor_id)": "4"
                },
                {
                    "film_id": "462",
                    "count(distinct actor_id)": "9"
                },
                {
                    "film_id": "463",
                    "count(distinct actor_id)": "11"
                },
                {
                    "film_id": "464",
                    "count(distinct actor_id)": "2"
                },
                {
                    "film_id": "465",
                    "count(distinct actor_id)": "5"
                },
                {
                    "film_id": "466",
                    "count(distinct actor_id)": "6"
                },
                {
                    "film_id": "467",
                    "count(distinct actor_id)": "7"
                },
                {
                    "film_id": "468",
                    "count(distinct actor_id)": "7"
                },
                {
                    "film_id": "469",
                    "count(distinct actor_id)": "8"
                },
                {
                    "film_id": "470",
                    "count(distinct actor_id)": "4"
                },
                {
                    "film_id": "471",
                    "count(distinct actor_id)": "3"
                },
                {
                    "film_id": "472",
                    "count(distinct actor_id)": "2"
                },
                {
                    "film_id": "473",
                    "count(distinct actor_id)": "10"
                },
                {
                    "film_id": "474",
                    "count(distinct actor_id)": "8"
                },
                {
                    "film_id": "475",
                    "count(distinct actor_id)": "9"
                },
                {
                    "film_id": "476",
                    "count(distinct actor_id)": "5"
                },
                {
                    "film_id": "477",
                    "count(distinct actor_id)": "5"
                },
                {
                    "film_id": "478",
                    "count(distinct actor_id)": "5"
                },
                {
                    "film_id": "479",
                    "count(distinct actor_id)": "4"
                },
                {
                    "film_id": "480",
                    "count(distinct actor_id)": "6"
                },
                {
                    "film_id": "481",
                    "count(distinct actor_id)": "3"
                },
                {
                    "film_id": "482",
                    "count(distinct actor_id)": "5"
                },
                {
                    "film_id": "483",
                    "count(distinct actor_id)": "4"
                },
                {
                    "film_id": "484",
                    "count(distinct actor_id)": "8"
                },
                {
                    "film_id": "485",
                    "count(distinct actor_id)": "9"
                },
                {
                    "film_id": "486",
                    "count(distinct actor_id)": "6"
                },
                {
                    "film_id": "487",
                    "count(distinct actor_id)": "2"
                },
                {
                    "film_id": "488",
                    "count(distinct actor_id)": "2"
                },
                {
                    "film_id": "489",
                    "count(distinct actor_id)": "9"
                },
                {
                    "film_id": "490",
                    "count(distinct actor_id)": "6"
                },
                {
                    "film_id": "491",
                    "count(distinct actor_id)": "8"
                },
                {
                    "film_id": "492",
                    "count(distinct actor_id)": "6"
                },
                {
                    "film_id": "493",
                    "count(distinct actor_id)": "5"
                },
                {
                    "film_id": "494",
                    "count(distinct actor_id)": "8"
                },
                {
                    "film_id": "495",
                    "count(distinct actor_id)": "4"
                },
                {
                    "film_id": "496",
                    "count(distinct actor_id)": "6"
                },
                {
                    "film_id": "497",
                    "count(distinct actor_id)": "5"
                },
                {
                    "film_id": "498",
                    "count(distinct actor_id)": "5"
                },
                {
                    "film_id": "499",
                    "count(distinct actor_id)": "6"
                },
                {
                    "film_id": "500",
                    "count(distinct actor_id)": "7"
                },
                {
                    "film_id": "501",
                    "count(distinct actor_id)": "3"
                },
                {
                    "film_id": "502",
                    "count(distinct actor_id)": "6"
                },
                {
                    "film_id": "503",
                    "count(distinct actor_id)": "8"
                },
                {
                    "film_id": "504",
                    "count(distinct actor_id)": "5"
                },
                {
                    "film_id": "505",
                    "count(distinct actor_id)": "6"
                },
                {
                    "film_id": "506",
                    "count(distinct actor_id)": "8"
                },
                {
                    "film_id": "507",
                    "count(distinct actor_id)": "4"
                },
                {
                    "film_id": "508",
                    "count(distinct actor_id)": "15"
                },
                {
                    "film_id": "509",
                    "count(distinct actor_id)": "6"
                },
                {
                    "film_id": "510",
                    "count(distinct actor_id)": "4"
                },
                {
                    "film_id": "511",
                    "count(distinct actor_id)": "2"
                },
                {
                    "film_id": "512",
                    "count(distinct actor_id)": "6"
                },
                {
                    "film_id": "513",
                    "count(distinct actor_id)": "7"
                },
                {
                    "film_id": "514",
                    "count(distinct actor_id)": "3"
                },
                {
                    "film_id": "515",
                    "count(distinct actor_id)": "6"
                },
                {
                    "film_id": "516",
                    "count(distinct actor_id)": "4"
                },
                {
                    "film_id": "517",
                    "count(distinct actor_id)": "12"
                },
                {
                    "film_id": "518",
                    "count(distinct actor_id)": "6"
                },
                {
                    "film_id": "519",
                    "count(distinct actor_id)": "7"
                },
                {
                    "film_id": "520",
                    "count(distinct actor_id)": "8"
                },
                {
                    "film_id": "521",
                    "count(distinct actor_id)": "7"
                },
                {
                    "film_id": "522",
                    "count(distinct actor_id)": "8"
                },
                {
                    "film_id": "523",
                    "count(distinct actor_id)": "2"
                },
                {
                    "film_id": "524",
                    "count(distinct actor_id)": "3"
                },
                {
                    "film_id": "525",
                    "count(distinct actor_id)": "5"
                },
                {
                    "film_id": "526",
                    "count(distinct actor_id)": "2"
                },
                {
                    "film_id": "527",
                    "count(distinct actor_id)": "6"
                },
                {
                    "film_id": "528",
                    "count(distinct actor_id)": "1"
                },
                {
                    "film_id": "529",
                    "count(distinct actor_id)": "12"
                },
                {
                    "film_id": "530",
                    "count(distinct actor_id)": "6"
                },
                {
                    "film_id": "531",
                    "count(distinct actor_id)": "4"
                },
                {
                    "film_id": "532",
                    "count(distinct actor_id)": "5"
                },
                {
                    "film_id": "533",
                    "count(distinct actor_id)": "3"
                },
                {
                    "film_id": "534",
                    "count(distinct actor_id)": "3"
                },
                {
                    "film_id": "535",
                    "count(distinct actor_id)": "4"
                },
                {
                    "film_id": "536",
                    "count(distinct actor_id)": "6"
                },
                {
                    "film_id": "537",
                    "count(distinct actor_id)": "7"
                },
                {
                    "film_id": "538",
                    "count(distinct actor_id)": "9"
                },
                {
                    "film_id": "539",
                    "count(distinct actor_id)": "6"
                },
                {
                    "film_id": "540",
                    "count(distinct actor_id)": "10"
                },
                {
                    "film_id": "541",
                    "count(distinct actor_id)": "9"
                },
                {
                    "film_id": "542",
                    "count(distinct actor_id)": "7"
                },
                {
                    "film_id": "543",
                    "count(distinct actor_id)": "6"
                },
                {
                    "film_id": "544",
                    "count(distinct actor_id)": "5"
                },
                {
                    "film_id": "545",
                    "count(distinct actor_id)": "7"
                },
                {
                    "film_id": "546",
                    "count(distinct actor_id)": "4"
                },
                {
                    "film_id": "547",
                    "count(distinct actor_id)": "4"
                },
                {
                    "film_id": "548",
                    "count(distinct actor_id)": "7"
                },
                {
                    "film_id": "549",
                    "count(distinct actor_id)": "7"
                },
                {
                    "film_id": "550",
                    "count(distinct actor_id)": "4"
                },
                {
                    "film_id": "551",
                    "count(distinct actor_id)": "8"
                },
                {
                    "film_id": "552",
                    "count(distinct actor_id)": "5"
                },
                {
                    "film_id": "553",
                    "count(distinct actor_id)": "11"
                },
                {
                    "film_id": "554",
                    "count(distinct actor_id)": "7"
                },
                {
                    "film_id": "555",
                    "count(distinct actor_id)": "5"
                },
                {
                    "film_id": "556",
                    "count(distinct actor_id)": "1"
                },
                {
                    "film_id": "557",
                    "count(distinct actor_id)": "2"
                },
                {
                    "film_id": "558",
                    "count(distinct actor_id)": "5"
                },
                {
                    "film_id": "559",
                    "count(distinct actor_id)": "3"
                },
                {
                    "film_id": "560",
                    "count(distinct actor_id)": "7"
                },
                {
                    "film_id": "561",
                    "count(distinct actor_id)": "11"
                },
                {
                    "film_id": "562",
                    "count(distinct actor_id)": "3"
                },
                {
                    "film_id": "563",
                    "count(distinct actor_id)": "3"
                },
                {
                    "film_id": "564",
                    "count(distinct actor_id)": "9"
                },
                {
                    "film_id": "565",
                    "count(distinct actor_id)": "3"
                },
                {
                    "film_id": "566",
                    "count(distinct actor_id)": "6"
                },
                {
                    "film_id": "567",
                    "count(distinct actor_id)": "6"
                },
                {
                    "film_id": "568",
                    "count(distinct actor_id)": "6"
                },
                {
                    "film_id": "569",
                    "count(distinct actor_id)": "2"
                },
                {
                    "film_id": "570",
                    "count(distinct actor_id)": "6"
                },
                {
                    "film_id": "571",
                    "count(distinct actor_id)": "8"
                },
                {
                    "film_id": "572",
                    "count(distinct actor_id)": "6"
                },
                {
                    "film_id": "573",
                    "count(distinct actor_id)": "6"
                },
                {
                    "film_id": "574",
                    "count(distinct actor_id)": "9"
                },
                {
                    "film_id": "575",
                    "count(distinct actor_id)": "2"
                },
                {
                    "film_id": "576",
                    "count(distinct actor_id)": "8"
                },
                {
                    "film_id": "577",
                    "count(distinct actor_id)": "3"
                },
                {
                    "film_id": "578",
                    "count(distinct actor_id)": "5"
                },
                {
                    "film_id": "579",
                    "count(distinct actor_id)": "6"
                },
                {
                    "film_id": "580",
                    "count(distinct actor_id)": "2"
                },
                {
                    "film_id": "581",
                    "count(distinct actor_id)": "1"
                },
                {
                    "film_id": "582",
                    "count(distinct actor_id)": "1"
                },
                {
                    "film_id": "583",
                    "count(distinct actor_id)": "5"
                },
                {
                    "film_id": "584",
                    "count(distinct actor_id)": "6"
                },
                {
                    "film_id": "585",
                    "count(distinct actor_id)": "6"
                },
                {
                    "film_id": "586",
                    "count(distinct actor_id)": "3"
                },
                {
                    "film_id": "587",
                    "count(distinct actor_id)": "6"
                },
                {
                    "film_id": "588",
                    "count(distinct actor_id)": "8"
                },
                {
                    "film_id": "589",
                    "count(distinct actor_id)": "5"
                },
                {
                    "film_id": "590",
                    "count(distinct actor_id)": "7"
                },
                {
                    "film_id": "591",
                    "count(distinct actor_id)": "5"
                },
                {
                    "film_id": "592",
                    "count(distinct actor_id)": "7"
                },
                {
                    "film_id": "593",
                    "count(distinct actor_id)": "6"
                },
                {
                    "film_id": "594",
                    "count(distinct actor_id)": "2"
                },
                {
                    "film_id": "595",
                    "count(distinct actor_id)": "1"
                },
                {
                    "film_id": "596",
                    "count(distinct actor_id)": "5"
                },
                {
                    "film_id": "597",
                    "count(distinct actor_id)": "7"
                },
                {
                    "film_id": "598",
                    "count(distinct actor_id)": "4"
                },
                {
                    "film_id": "599",
                    "count(distinct actor_id)": "5"
                },
                {
                    "film_id": "600",
                    "count(distinct actor_id)": "8"
                },
                {
                    "film_id": "601",
                    "count(distinct actor_id)": "3"
                },
                {
                    "film_id": "602",
                    "count(distinct actor_id)": "7"
                },
                {
                    "film_id": "603",
                    "count(distinct actor_id)": "8"
                },
                {
                    "film_id": "604",
                    "count(distinct actor_id)": "5"
                },
                {
                    "film_id": "605",
                    "count(distinct actor_id)": "6"
                },
                {
                    "film_id": "606",
                    "count(distinct actor_id)": "13"
                },
                {
                    "film_id": "607",
                    "count(distinct actor_id)": "8"
                },
                {
                    "film_id": "608",
                    "count(distinct actor_id)": "8"
                },
                {
                    "film_id": "609",
                    "count(distinct actor_id)": "5"
                },
                {
                    "film_id": "610",
                    "count(distinct actor_id)": "3"
                },
                {
                    "film_id": "611",
                    "count(distinct actor_id)": "1"
                },
                {
                    "film_id": "612",
                    "count(distinct actor_id)": "7"
                },
                {
                    "film_id": "613",
                    "count(distinct actor_id)": "4"
                },
                {
                    "film_id": "614",
                    "count(distinct actor_id)": "3"
                },
                {
                    "film_id": "615",
                    "count(distinct actor_id)": "7"
                },
                {
                    "film_id": "616",
                    "count(distinct actor_id)": "7"
                },
                {
                    "film_id": "617",
                    "count(distinct actor_id)": "4"
                },
                {
                    "film_id": "618",
                    "count(distinct actor_id)": "8"
                },
                {
                    "film_id": "619",
                    "count(distinct actor_id)": "7"
                },
                {
                    "film_id": "620",
                    "count(distinct actor_id)": "5"
                },
                {
                    "film_id": "621",
                    "count(distinct actor_id)": "3"
                },
                {
                    "film_id": "622",
                    "count(distinct actor_id)": "8"
                },
                {
                    "film_id": "623",
                    "count(distinct actor_id)": "4"
                },
                {
                    "film_id": "624",
                    "count(distinct actor_id)": "2"
                },
                {
                    "film_id": "625",
                    "count(distinct actor_id)": "6"
                },
                {
                    "film_id": "626",
                    "count(distinct actor_id)": "6"
                },
                {
                    "film_id": "627",
                    "count(distinct actor_id)": "5"
                },
                {
                    "film_id": "628",
                    "count(distinct actor_id)": "8"
                },
                {
                    "film_id": "629",
                    "count(distinct actor_id)": "2"
                },
                {
                    "film_id": "630",
                    "count(distinct actor_id)": "2"
                },
                {
                    "film_id": "631",
                    "count(distinct actor_id)": "6"
                },
                {
                    "film_id": "632",
                    "count(distinct actor_id)": "2"
                },
                {
                    "film_id": "633",
                    "count(distinct actor_id)": "5"
                },
                {
                    "film_id": "634",
                    "count(distinct actor_id)": "5"
                },
                {
                    "film_id": "635",
                    "count(distinct actor_id)": "9"
                },
                {
                    "film_id": "636",
                    "count(distinct actor_id)": "10"
                },
                {
                    "film_id": "637",
                    "count(distinct actor_id)": "9"
                },
                {
                    "film_id": "638",
                    "count(distinct actor_id)": "3"
                },
                {
                    "film_id": "639",
                    "count(distinct actor_id)": "6"
                },
                {
                    "film_id": "640",
                    "count(distinct actor_id)": "4"
                },
                {
                    "film_id": "641",
                    "count(distinct actor_id)": "5"
                },
                {
                    "film_id": "642",
                    "count(distinct actor_id)": "7"
                },
                {
                    "film_id": "643",
                    "count(distinct actor_id)": "4"
                },
                {
                    "film_id": "644",
                    "count(distinct actor_id)": "6"
                },
                {
                    "film_id": "645",
                    "count(distinct actor_id)": "4"
                },
                {
                    "film_id": "646",
                    "count(distinct actor_id)": "5"
                },
                {
                    "film_id": "647",
                    "count(distinct actor_id)": "4"
                },
                {
                    "film_id": "648",
                    "count(distinct actor_id)": "7"
                },
                {
                    "film_id": "649",
                    "count(distinct actor_id)": "11"
                },
                {
                    "film_id": "650",
                    "count(distinct actor_id)": "8"
                },
                {
                    "film_id": "651",
                    "count(distinct actor_id)": "1"
                },
                {
                    "film_id": "652",
                    "count(distinct actor_id)": "5"
                },
                {
                    "film_id": "653",
                    "count(distinct actor_id)": "3"
                },
                {
                    "film_id": "654",
                    "count(distinct actor_id)": "8"
                },
                {
                    "film_id": "655",
                    "count(distinct actor_id)": "5"
                },
                {
                    "film_id": "656",
                    "count(distinct actor_id)": "3"
                },
                {
                    "film_id": "657",
                    "count(distinct actor_id)": "4"
                },
                {
                    "film_id": "658",
                    "count(distinct actor_id)": "6"
                },
                {
                    "film_id": "659",
                    "count(distinct actor_id)": "6"
                },
                {
                    "film_id": "660",
                    "count(distinct actor_id)": "2"
                },
                {
                    "film_id": "661",
                    "count(distinct actor_id)": "6"
                },
                {
                    "film_id": "662",
                    "count(distinct actor_id)": "5"
                },
                {
                    "film_id": "663",
                    "count(distinct actor_id)": "4"
                },
                {
                    "film_id": "664",
                    "count(distinct actor_id)": "4"
                },
                {
                    "film_id": "665",
                    "count(distinct actor_id)": "9"
                },
                {
                    "film_id": "666",
                    "count(distinct actor_id)": "3"
                },
                {
                    "film_id": "667",
                    "count(distinct actor_id)": "5"
                },
                {
                    "film_id": "668",
                    "count(distinct actor_id)": "5"
                },
                {
                    "film_id": "669",
                    "count(distinct actor_id)": "4"
                },
                {
                    "film_id": "670",
                    "count(distinct actor_id)": "5"
                },
                {
                    "film_id": "671",
                    "count(distinct actor_id)": "5"
                },
                {
                    "film_id": "672",
                    "count(distinct actor_id)": "6"
                },
                {
                    "film_id": "673",
                    "count(distinct actor_id)": "9"
                },
                {
                    "film_id": "674",
                    "count(distinct actor_id)": "7"
                },
                {
                    "film_id": "675",
                    "count(distinct actor_id)": "2"
                },
                {
                    "film_id": "676",
                    "count(distinct actor_id)": "2"
                },
                {
                    "film_id": "677",
                    "count(distinct actor_id)": "5"
                },
                {
                    "film_id": "678",
                    "count(distinct actor_id)": "5"
                },
                {
                    "film_id": "679",
                    "count(distinct actor_id)": "7"
                },
                {
                    "film_id": "680",
                    "count(distinct actor_id)": "11"
                },
                {
                    "film_id": "681",
                    "count(distinct actor_id)": "1"
                },
                {
                    "film_id": "682",
                    "count(distinct actor_id)": "5"
                },
                {
                    "film_id": "683",
                    "count(distinct actor_id)": "5"
                },
                {
                    "film_id": "684",
                    "count(distinct actor_id)": "5"
                },
                {
                    "film_id": "685",
                    "count(distinct actor_id)": "5"
                },
                {
                    "film_id": "686",
                    "count(distinct actor_id)": "7"
                },
                {
                    "film_id": "687",
                    "count(distinct actor_id)": "5"
                },
                {
                    "film_id": "688",
                    "count(distinct actor_id)": "10"
                },
                {
                    "film_id": "689",
                    "count(distinct actor_id)": "6"
                },
                {
                    "film_id": "690",
                    "count(distinct actor_id)": "3"
                },
                {
                    "film_id": "691",
                    "count(distinct actor_id)": "6"
                },
                {
                    "film_id": "692",
                    "count(distinct actor_id)": "6"
                },
                {
                    "film_id": "693",
                    "count(distinct actor_id)": "7"
                },
                {
                    "film_id": "694",
                    "count(distinct actor_id)": "10"
                },
                {
                    "film_id": "695",
                    "count(distinct actor_id)": "5"
                },
                {
                    "film_id": "696",
                    "count(distinct actor_id)": "4"
                },
                {
                    "film_id": "697",
                    "count(distinct actor_id)": "7"
                },
                {
                    "film_id": "698",
                    "count(distinct actor_id)": "5"
                },
                {
                    "film_id": "699",
                    "count(distinct actor_id)": "5"
                },
                {
                    "film_id": "700",
                    "count(distinct actor_id)": "7"
                },
                {
                    "film_id": "701",
                    "count(distinct actor_id)": "1"
                },
                {
                    "film_id": "702",
                    "count(distinct actor_id)": "7"
                },
                {
                    "film_id": "703",
                    "count(distinct actor_id)": "7"
                },
                {
                    "film_id": "704",
                    "count(distinct actor_id)": "2"
                },
                {
                    "film_id": "705",
                    "count(distinct actor_id)": "8"
                },
                {
                    "film_id": "706",
                    "count(distinct actor_id)": "6"
                },
                {
                    "film_id": "707",
                    "count(distinct actor_id)": "5"
                },
                {
                    "film_id": "708",
                    "count(distinct actor_id)": "4"
                },
                {
                    "film_id": "709",
                    "count(distinct actor_id)": "6"
                },
                {
                    "film_id": "710",
                    "count(distinct actor_id)": "7"
                },
                {
                    "film_id": "711",
                    "count(distinct actor_id)": "3"
                },
                {
                    "film_id": "712",
                    "count(distinct actor_id)": "6"
                },
                {
                    "film_id": "713",
                    "count(distinct actor_id)": "6"
                },
                {
                    "film_id": "714",
                    "count(distinct actor_id)": "13"
                },
                {
                    "film_id": "715",
                    "count(distinct actor_id)": "4"
                },
                {
                    "film_id": "716",
                    "count(distinct actor_id)": "4"
                },
                {
                    "film_id": "717",
                    "count(distinct actor_id)": "8"
                },
                {
                    "film_id": "718",
                    "count(distinct actor_id)": "6"
                },
                {
                    "film_id": "719",
                    "count(distinct actor_id)": "8"
                },
                {
                    "film_id": "720",
                    "count(distinct actor_id)": "5"
                },
                {
                    "film_id": "721",
                    "count(distinct actor_id)": "5"
                },
                {
                    "film_id": "722",
                    "count(distinct actor_id)": "4"
                },
                {
                    "film_id": "723",
                    "count(distinct actor_id)": "3"
                },
                {
                    "film_id": "724",
                    "count(distinct actor_id)": "4"
                },
                {
                    "film_id": "725",
                    "count(distinct actor_id)": "8"
                },
                {
                    "film_id": "726",
                    "count(distinct actor_id)": "8"
                },
                {
                    "film_id": "727",
                    "count(distinct actor_id)": "5"
                },
                {
                    "film_id": "728",
                    "count(distinct actor_id)": "7"
                },
                {
                    "film_id": "729",
                    "count(distinct actor_id)": "9"
                },
                {
                    "film_id": "730",
                    "count(distinct actor_id)": "5"
                },
                {
                    "film_id": "731",
                    "count(distinct actor_id)": "7"
                },
                {
                    "film_id": "732",
                    "count(distinct actor_id)": "11"
                },
                {
                    "film_id": "733",
                    "count(distinct actor_id)": "4"
                },
                {
                    "film_id": "734",
                    "count(distinct actor_id)": "8"
                },
                {
                    "film_id": "735",
                    "count(distinct actor_id)": "5"
                },
                {
                    "film_id": "736",
                    "count(distinct actor_id)": "2"
                },
                {
                    "film_id": "737",
                    "count(distinct actor_id)": "8"
                },
                {
                    "film_id": "738",
                    "count(distinct actor_id)": "7"
                },
                {
                    "film_id": "739",
                    "count(distinct actor_id)": "3"
                },
                {
                    "film_id": "740",
                    "count(distinct actor_id)": "3"
                },
                {
                    "film_id": "741",
                    "count(distinct actor_id)": "2"
                },
                {
                    "film_id": "742",
                    "count(distinct actor_id)": "5"
                },
                {
                    "film_id": "743",
                    "count(distinct actor_id)": "2"
                },
                {
                    "film_id": "744",
                    "count(distinct actor_id)": "10"
                },
                {
                    "film_id": "745",
                    "count(distinct actor_id)": "5"
                },
                {
                    "film_id": "746",
                    "count(distinct actor_id)": "4"
                },
                {
                    "film_id": "747",
                    "count(distinct actor_id)": "5"
                },
                {
                    "film_id": "748",
                    "count(distinct actor_id)": "6"
                },
                {
                    "film_id": "749",
                    "count(distinct actor_id)": "5"
                },
                {
                    "film_id": "750",
                    "count(distinct actor_id)": "6"
                },
                {
                    "film_id": "751",
                    "count(distinct actor_id)": "3"
                },
                {
                    "film_id": "752",
                    "count(distinct actor_id)": "8"
                },
                {
                    "film_id": "753",
                    "count(distinct actor_id)": "5"
                },
                {
                    "film_id": "754",
                    "count(distinct actor_id)": "7"
                },
                {
                    "film_id": "755",
                    "count(distinct actor_id)": "4"
                },
                {
                    "film_id": "756",
                    "count(distinct actor_id)": "3"
                },
                {
                    "film_id": "757",
                    "count(distinct actor_id)": "7"
                },
                {
                    "film_id": "758",
                    "count(distinct actor_id)": "10"
                },
                {
                    "film_id": "759",
                    "count(distinct actor_id)": "4"
                },
                {
                    "film_id": "760",
                    "count(distinct actor_id)": "2"
                },
                {
                    "film_id": "761",
                    "count(distinct actor_id)": "6"
                },
                {
                    "film_id": "762",
                    "count(distinct actor_id)": "3"
                },
                {
                    "film_id": "763",
                    "count(distinct actor_id)": "5"
                },
                {
                    "film_id": "764",
                    "count(distinct actor_id)": "9"
                },
                {
                    "film_id": "765",
                    "count(distinct actor_id)": "2"
                },
                {
                    "film_id": "766",
                    "count(distinct actor_id)": "6"
                },
                {
                    "film_id": "767",
                    "count(distinct actor_id)": "5"
                },
                {
                    "film_id": "768",
                    "count(distinct actor_id)": "7"
                },
                {
                    "film_id": "769",
                    "count(distinct actor_id)": "8"
                },
                {
                    "film_id": "770",
                    "count(distinct actor_id)": "5"
                },
                {
                    "film_id": "771",
                    "count(distinct actor_id)": "8"
                },
                {
                    "film_id": "772",
                    "count(distinct actor_id)": "8"
                },
                {
                    "film_id": "773",
                    "count(distinct actor_id)": "3"
                },
                {
                    "film_id": "774",
                    "count(distinct actor_id)": "4"
                },
                {
                    "film_id": "775",
                    "count(distinct actor_id)": "6"
                },
                {
                    "film_id": "776",
                    "count(distinct actor_id)": "3"
                },
                {
                    "film_id": "777",
                    "count(distinct actor_id)": "6"
                },
                {
                    "film_id": "778",
                    "count(distinct actor_id)": "6"
                },
                {
                    "film_id": "779",
                    "count(distinct actor_id)": "7"
                },
                {
                    "film_id": "780",
                    "count(distinct actor_id)": "6"
                },
                {
                    "film_id": "781",
                    "count(distinct actor_id)": "7"
                },
                {
                    "film_id": "782",
                    "count(distinct actor_id)": "6"
                },
                {
                    "film_id": "783",
                    "count(distinct actor_id)": "3"
                },
                {
                    "film_id": "784",
                    "count(distinct actor_id)": "8"
                },
                {
                    "film_id": "785",
                    "count(distinct actor_id)": "10"
                },
                {
                    "film_id": "786",
                    "count(distinct actor_id)": "5"
                },
                {
                    "film_id": "787",
                    "count(distinct actor_id)": "5"
                },
                {
                    "film_id": "788",
                    "count(distinct actor_id)": "8"
                },
                {
                    "film_id": "789",
                    "count(distinct actor_id)": "1"
                },
                {
                    "film_id": "790",
                    "count(distinct actor_id)": "3"
                },
                {
                    "film_id": "791",
                    "count(distinct actor_id)": "2"
                },
                {
                    "film_id": "792",
                    "count(distinct actor_id)": "3"
                },
                {
                    "film_id": "793",
                    "count(distinct actor_id)": "4"
                },
                {
                    "film_id": "794",
                    "count(distinct actor_id)": "6"
                },
                {
                    "film_id": "795",
                    "count(distinct actor_id)": "7"
                },
                {
                    "film_id": "796",
                    "count(distinct actor_id)": "5"
                },
                {
                    "film_id": "797",
                    "count(distinct actor_id)": "4"
                },
                {
                    "film_id": "798",
                    "count(distinct actor_id)": "5"
                },
                {
                    "film_id": "799",
                    "count(distinct actor_id)": "3"
                },
                {
                    "film_id": "800",
                    "count(distinct actor_id)": "4"
                },
                {
                    "film_id": "801",
                    "count(distinct actor_id)": "3"
                },
                {
                    "film_id": "802",
                    "count(distinct actor_id)": "12"
                },
                {
                    "film_id": "804",
                    "count(distinct actor_id)": "4"
                },
                {
                    "film_id": "805",
                    "count(distinct actor_id)": "4"
                },
                {
                    "film_id": "806",
                    "count(distinct actor_id)": "6"
                },
                {
                    "film_id": "807",
                    "count(distinct actor_id)": "7"
                },
                {
                    "film_id": "808",
                    "count(distinct actor_id)": "3"
                },
                {
                    "film_id": "809",
                    "count(distinct actor_id)": "7"
                },
                {
                    "film_id": "810",
                    "count(distinct actor_id)": "3"
                },
                {
                    "film_id": "811",
                    "count(distinct actor_id)": "8"
                },
                {
                    "film_id": "812",
                    "count(distinct actor_id)": "6"
                },
                {
                    "film_id": "813",
                    "count(distinct actor_id)": "2"
                },
                {
                    "film_id": "814",
                    "count(distinct actor_id)": "3"
                },
                {
                    "film_id": "815",
                    "count(distinct actor_id)": "9"
                },
                {
                    "film_id": "816",
                    "count(distinct actor_id)": "3"
                },
                {
                    "film_id": "817",
                    "count(distinct actor_id)": "9"
                },
                {
                    "film_id": "818",
                    "count(distinct actor_id)": "3"
                },
                {
                    "film_id": "819",
                    "count(distinct actor_id)": "5"
                },
                {
                    "film_id": "820",
                    "count(distinct actor_id)": "6"
                },
                {
                    "film_id": "821",
                    "count(distinct actor_id)": "4"
                },
                {
                    "film_id": "822",
                    "count(distinct actor_id)": "2"
                },
                {
                    "film_id": "823",
                    "count(distinct actor_id)": "2"
                },
                {
                    "film_id": "824",
                    "count(distinct actor_id)": "3"
                },
                {
                    "film_id": "825",
                    "count(distinct actor_id)": "3"
                },
                {
                    "film_id": "826",
                    "count(distinct actor_id)": "6"
                },
                {
                    "film_id": "827",
                    "count(distinct actor_id)": "11"
                },
                {
                    "film_id": "828",
                    "count(distinct actor_id)": "6"
                },
                {
                    "film_id": "829",
                    "count(distinct actor_id)": "8"
                },
                {
                    "film_id": "830",
                    "count(distinct actor_id)": "11"
                },
                {
                    "film_id": "831",
                    "count(distinct actor_id)": "5"
                },
                {
                    "film_id": "832",
                    "count(distinct actor_id)": "10"
                },
                {
                    "film_id": "833",
                    "count(distinct actor_id)": "10"
                },
                {
                    "film_id": "834",
                    "count(distinct actor_id)": "7"
                },
                {
                    "film_id": "835",
                    "count(distinct actor_id)": "8"
                },
                {
                    "film_id": "836",
                    "count(distinct actor_id)": "5"
                },
                {
                    "film_id": "837",
                    "count(distinct actor_id)": "2"
                },
                {
                    "film_id": "838",
                    "count(distinct actor_id)": "6"
                },
                {
                    "film_id": "839",
                    "count(distinct actor_id)": "7"
                },
                {
                    "film_id": "840",
                    "count(distinct actor_id)": "6"
                },
                {
                    "film_id": "841",
                    "count(distinct actor_id)": "5"
                },
                {
                    "film_id": "842",
                    "count(distinct actor_id)": "7"
                },
                {
                    "film_id": "843",
                    "count(distinct actor_id)": "3"
                },
                {
                    "film_id": "844",
                    "count(distinct actor_id)": "4"
                },
                {
                    "film_id": "845",
                    "count(distinct actor_id)": "4"
                },
                {
                    "film_id": "846",
                    "count(distinct actor_id)": "7"
                },
                {
                    "film_id": "847",
                    "count(distinct actor_id)": "7"
                },
                {
                    "film_id": "848",
                    "count(distinct actor_id)": "1"
                },
                {
                    "film_id": "849",
                    "count(distinct actor_id)": "8"
                },
                {
                    "film_id": "850",
                    "count(distinct actor_id)": "5"
                },
                {
                    "film_id": "851",
                    "count(distinct actor_id)": "3"
                },
                {
                    "film_id": "852",
                    "count(distinct actor_id)": "9"
                },
                {
                    "film_id": "853",
                    "count(distinct actor_id)": "9"
                },
                {
                    "film_id": "854",
                    "count(distinct actor_id)": "5"
                },
                {
                    "film_id": "855",
                    "count(distinct actor_id)": "3"
                },
                {
                    "film_id": "856",
                    "count(distinct actor_id)": "7"
                },
                {
                    "film_id": "857",
                    "count(distinct actor_id)": "4"
                },
                {
                    "film_id": "858",
                    "count(distinct actor_id)": "11"
                },
                {
                    "film_id": "859",
                    "count(distinct actor_id)": "5"
                },
                {
                    "film_id": "860",
                    "count(distinct actor_id)": "3"
                },
                {
                    "film_id": "861",
                    "count(distinct actor_id)": "5"
                },
                {
                    "film_id": "862",
                    "count(distinct actor_id)": "8"
                },
                {
                    "film_id": "863",
                    "count(distinct actor_id)": "5"
                },
                {
                    "film_id": "864",
                    "count(distinct actor_id)": "7"
                },
                {
                    "film_id": "865",
                    "count(distinct actor_id)": "5"
                },
                {
                    "film_id": "866",
                    "count(distinct actor_id)": "3"
                },
                {
                    "film_id": "867",
                    "count(distinct actor_id)": "3"
                },
                {
                    "film_id": "868",
                    "count(distinct actor_id)": "7"
                },
                {
                    "film_id": "869",
                    "count(distinct actor_id)": "8"
                },
                {
                    "film_id": "870",
                    "count(distinct actor_id)": "6"
                },
                {
                    "film_id": "871",
                    "count(distinct actor_id)": "5"
                },
                {
                    "film_id": "872",
                    "count(distinct actor_id)": "6"
                },
                {
                    "film_id": "873",
                    "count(distinct actor_id)": "5"
                },
                {
                    "film_id": "874",
                    "count(distinct actor_id)": "8"
                },
                {
                    "film_id": "875",
                    "count(distinct actor_id)": "5"
                },
                {
                    "film_id": "876",
                    "count(distinct actor_id)": "3"
                },
                {
                    "film_id": "877",
                    "count(distinct actor_id)": "6"
                },
                {
                    "film_id": "878",
                    "count(distinct actor_id)": "5"
                },
                {
                    "film_id": "879",
                    "count(distinct actor_id)": "7"
                },
                {
                    "film_id": "880",
                    "count(distinct actor_id)": "11"
                },
                {
                    "film_id": "881",
                    "count(distinct actor_id)": "5"
                },
                {
                    "film_id": "882",
                    "count(distinct actor_id)": "5"
                },
                {
                    "film_id": "883",
                    "count(distinct actor_id)": "3"
                },
                {
                    "film_id": "884",
                    "count(distinct actor_id)": "2"
                },
                {
                    "film_id": "885",
                    "count(distinct actor_id)": "6"
                },
                {
                    "film_id": "886",
                    "count(distinct actor_id)": "6"
                },
                {
                    "film_id": "887",
                    "count(distinct actor_id)": "7"
                },
                {
                    "film_id": "888",
                    "count(distinct actor_id)": "2"
                },
                {
                    "film_id": "889",
                    "count(distinct actor_id)": "6"
                },
                {
                    "film_id": "890",
                    "count(distinct actor_id)": "5"
                },
                {
                    "film_id": "891",
                    "count(distinct actor_id)": "4"
                },
                {
                    "film_id": "892",
                    "count(distinct actor_id)": "12"
                },
                {
                    "film_id": "893",
                    "count(distinct actor_id)": "7"
                },
                {
                    "film_id": "894",
                    "count(distinct actor_id)": "9"
                },
                {
                    "film_id": "895",
                    "count(distinct actor_id)": "6"
                },
                {
                    "film_id": "896",
                    "count(distinct actor_id)": "5"
                },
                {
                    "film_id": "897",
                    "count(distinct actor_id)": "5"
                },
                {
                    "film_id": "898",
                    "count(distinct actor_id)": "3"
                },
                {
                    "film_id": "899",
                    "count(distinct actor_id)": "4"
                },
                {
                    "film_id": "900",
                    "count(distinct actor_id)": "4"
                },
                {
                    "film_id": "901",
                    "count(distinct actor_id)": "3"
                },
                {
                    "film_id": "902",
                    "count(distinct actor_id)": "3"
                },
                {
                    "film_id": "903",
                    "count(distinct actor_id)": "4"
                },
                {
                    "film_id": "904",
                    "count(distinct actor_id)": "4"
                },
                {
                    "film_id": "905",
                    "count(distinct actor_id)": "4"
                },
                {
                    "film_id": "906",
                    "count(distinct actor_id)": "6"
                },
                {
                    "film_id": "907",
                    "count(distinct actor_id)": "3"
                },
                {
                    "film_id": "908",
                    "count(distinct actor_id)": "7"
                },
                {
                    "film_id": "909",
                    "count(distinct actor_id)": "7"
                },
                {
                    "film_id": "910",
                    "count(distinct actor_id)": "5"
                },
                {
                    "film_id": "911",
                    "count(distinct actor_id)": "4"
                },
                {
                    "film_id": "912",
                    "count(distinct actor_id)": "8"
                },
                {
                    "film_id": "913",
                    "count(distinct actor_id)": "5"
                },
                {
                    "film_id": "914",
                    "count(distinct actor_id)": "8"
                },
                {
                    "film_id": "915",
                    "count(distinct actor_id)": "6"
                },
                {
                    "film_id": "916",
                    "count(distinct actor_id)": "3"
                },
                {
                    "film_id": "917",
                    "count(distinct actor_id)": "3"
                },
                {
                    "film_id": "918",
                    "count(distinct actor_id)": "3"
                },
                {
                    "film_id": "919",
                    "count(distinct actor_id)": "6"
                },
                {
                    "film_id": "920",
                    "count(distinct actor_id)": "8"
                },
                {
                    "film_id": "921",
                    "count(distinct actor_id)": "7"
                },
                {
                    "film_id": "922",
                    "count(distinct actor_id)": "3"
                },
                {
                    "film_id": "923",
                    "count(distinct actor_id)": "8"
                },
                {
                    "film_id": "924",
                    "count(distinct actor_id)": "7"
                },
                {
                    "film_id": "925",
                    "count(distinct actor_id)": "6"
                },
                {
                    "film_id": "926",
                    "count(distinct actor_id)": "5"
                },
                {
                    "film_id": "927",
                    "count(distinct actor_id)": "5"
                },
                {
                    "film_id": "928",
                    "count(distinct actor_id)": "7"
                },
                {
                    "film_id": "929",
                    "count(distinct actor_id)": "5"
                },
                {
                    "film_id": "930",
                    "count(distinct actor_id)": "6"
                },
                {
                    "film_id": "931",
                    "count(distinct actor_id)": "2"
                },
                {
                    "film_id": "932",
                    "count(distinct actor_id)": "4"
                },
                {
                    "film_id": "933",
                    "count(distinct actor_id)": "5"
                },
                {
                    "film_id": "934",
                    "count(distinct actor_id)": "2"
                },
                {
                    "film_id": "935",
                    "count(distinct actor_id)": "2"
                },
                {
                    "film_id": "936",
                    "count(distinct actor_id)": "5"
                },
                {
                    "film_id": "937",
                    "count(distinct actor_id)": "3"
                },
                {
                    "film_id": "938",
                    "count(distinct actor_id)": "9"
                },
                {
                    "film_id": "939",
                    "count(distinct actor_id)": "4"
                },
                {
                    "film_id": "940",
                    "count(distinct actor_id)": "5"
                },
                {
                    "film_id": "941",
                    "count(distinct actor_id)": "5"
                },
                {
                    "film_id": "942",
                    "count(distinct actor_id)": "2"
                },
                {
                    "film_id": "943",
                    "count(distinct actor_id)": "2"
                },
                {
                    "film_id": "944",
                    "count(distinct actor_id)": "8"
                },
                {
                    "film_id": "945",
                    "count(distinct actor_id)": "8"
                },
                {
                    "film_id": "946",
                    "count(distinct actor_id)": "3"
                },
                {
                    "film_id": "947",
                    "count(distinct actor_id)": "5"
                },
                {
                    "film_id": "948",
                    "count(distinct actor_id)": "3"
                },
                {
                    "film_id": "949",
                    "count(distinct actor_id)": "5"
                },
                {
                    "film_id": "950",
                    "count(distinct actor_id)": "5"
                },
                {
                    "film_id": "951",
                    "count(distinct actor_id)": "5"
                },
                {
                    "film_id": "952",
                    "count(distinct actor_id)": "6"
                },
                {
                    "film_id": "953",
                    "count(distinct actor_id)": "9"
                },
                {
                    "film_id": "954",
                    "count(distinct actor_id)": "5"
                },
                {
                    "film_id": "955",
                    "count(distinct actor_id)": "5"
                },
                {
                    "film_id": "956",
                    "count(distinct actor_id)": "7"
                },
                {
                    "film_id": "957",
                    "count(distinct actor_id)": "9"
                },
                {
                    "film_id": "958",
                    "count(distinct actor_id)": "8"
                },
                {
                    "film_id": "959",
                    "count(distinct actor_id)": "6"
                },
                {
                    "film_id": "960",
                    "count(distinct actor_id)": "4"
                },
                {
                    "film_id": "961",
                    "count(distinct actor_id)": "5"
                },
                {
                    "film_id": "962",
                    "count(distinct actor_id)": "6"
                },
                {
                    "film_id": "963",
                    "count(distinct actor_id)": "5"
                },
                {
                    "film_id": "964",
                    "count(distinct actor_id)": "6"
                },
                {
                    "film_id": "965",
                    "count(distinct actor_id)": "6"
                },
                {
                    "film_id": "966",
                    "count(distinct actor_id)": "10"
                },
                {
                    "film_id": "967",
                    "count(distinct actor_id)": "10"
                },
                {
                    "film_id": "968",
                    "count(distinct actor_id)": "7"
                },
                {
                    "film_id": "969",
                    "count(distinct actor_id)": "9"
                },
                {
                    "film_id": "970",
                    "count(distinct actor_id)": "6"
                },
                {
                    "film_id": "971",
                    "count(distinct actor_id)": "5"
                },
                {
                    "film_id": "972",
                    "count(distinct actor_id)": "3"
                },
                {
                    "film_id": "973",
                    "count(distinct actor_id)": "6"
                },
                {
                    "film_id": "974",
                    "count(distinct actor_id)": "4"
                },
                {
                    "film_id": "975",
                    "count(distinct actor_id)": "2"
                },
                {
                    "film_id": "976",
                    "count(distinct actor_id)": "3"
                },
                {
                    "film_id": "977",
                    "count(distinct actor_id)": "4"
                },
                {
                    "film_id": "978",
                    "count(distinct actor_id)": "7"
                },
                {
                    "film_id": "979",
                    "count(distinct actor_id)": "4"
                },
                {
                    "film_id": "980",
                    "count(distinct actor_id)": "9"
                },
                {
                    "film_id": "981",
                    "count(distinct actor_id)": "6"
                },
                {
                    "film_id": "982",
                    "count(distinct actor_id)": "5"
                },
                {
                    "film_id": "983",
                    "count(distinct actor_id)": "5"
                },
                {
                    "film_id": "984",
                    "count(distinct actor_id)": "4"
                },
                {
                    "film_id": "985",
                    "count(distinct actor_id)": "5"
                },
                {
                    "film_id": "986",
                    "count(distinct actor_id)": "2"
                },
                {
                    "film_id": "987",
                    "count(distinct actor_id)": "6"
                },
                {
                    "film_id": "988",
                    "count(distinct actor_id)": "9"
                },
                {
                    "film_id": "989",
                    "count(distinct actor_id)": "5"
                },
                {
                    "film_id": "990",
                    "count(distinct actor_id)": "8"
                },
                {
                    "film_id": "991",
                    "count(distinct actor_id)": "4"
                },
                {
                    "film_id": "992",
                    "count(distinct actor_id)": "4"
                },
                {
                    "film_id": "993",
                    "count(distinct actor_id)": "9"
                },
                {
                    "film_id": "994",
                    "count(distinct actor_id)": "6"
                },
                {
                    "film_id": "995",
                    "count(distinct actor_id)": "1"
                },
                {
                    "film_id": "996",
                    "count(distinct actor_id)": "5"
                },
                {
                    "film_id": "997",
                    "count(distinct actor_id)": "5"
                },
                {
                    "film_id": "998",
                    "count(distinct actor_id)": "6"
                },
                {
                    "film_id": "999",
                    "count(distinct actor_id)": "5"
                },
                {
                    "film_id": "1000",
                    "count(distinct actor_id)": "3"
                }
            ]
        },
        "text/html": [
            "<table>",
            "<tr><th>film_id</th><th>count(distinct actor_id)</th></tr>",
            "<tr><td>1</td><td>10</td></tr>",
            "<tr><td>2</td><td>4</td></tr>",
            "<tr><td>3</td><td>5</td></tr>",
            "<tr><td>4</td><td>5</td></tr>",
            "<tr><td>5</td><td>5</td></tr>",
            "<tr><td>6</td><td>7</td></tr>",
            "<tr><td>7</td><td>5</td></tr>",
            "<tr><td>8</td><td>4</td></tr>",
            "<tr><td>9</td><td>9</td></tr>",
            "<tr><td>10</td><td>8</td></tr>",
            "<tr><td>11</td><td>4</td></tr>",
            "<tr><td>12</td><td>7</td></tr>",
            "<tr><td>13</td><td>5</td></tr>",
            "<tr><td>14</td><td>4</td></tr>",
            "<tr><td>15</td><td>6</td></tr>",
            "<tr><td>16</td><td>5</td></tr>",
            "<tr><td>17</td><td>8</td></tr>",
            "<tr><td>18</td><td>4</td></tr>",
            "<tr><td>19</td><td>6</td></tr>",
            "<tr><td>20</td><td>6</td></tr>",
            "<tr><td>21</td><td>5</td></tr>",
            "<tr><td>22</td><td>4</td></tr>",
            "<tr><td>23</td><td>5</td></tr>",
            "<tr><td>24</td><td>5</td></tr>",
            "<tr><td>25</td><td>9</td></tr>",
            "<tr><td>26</td><td>3</td></tr>",
            "<tr><td>27</td><td>9</td></tr>",
            "<tr><td>28</td><td>2</td></tr>",
            "<tr><td>29</td><td>7</td></tr>",
            "<tr><td>30</td><td>3</td></tr>",
            "<tr><td>31</td><td>4</td></tr>",
            "<tr><td>32</td><td>5</td></tr>",
            "<tr><td>33</td><td>8</td></tr>",
            "<tr><td>34</td><td>12</td></tr>",
            "<tr><td>35</td><td>8</td></tr>",
            "<tr><td>36</td><td>5</td></tr>",
            "<tr><td>37</td><td>4</td></tr>",
            "<tr><td>38</td><td>3</td></tr>",
            "<tr><td>39</td><td>7</td></tr>",
            "<tr><td>40</td><td>7</td></tr>",
            "<tr><td>41</td><td>3</td></tr>",
            "<tr><td>42</td><td>7</td></tr>",
            "<tr><td>43</td><td>9</td></tr>",
            "<tr><td>44</td><td>4</td></tr>",
            "<tr><td>45</td><td>4</td></tr>",
            "<tr><td>46</td><td>3</td></tr>",
            "<tr><td>47</td><td>8</td></tr>",
            "<tr><td>48</td><td>7</td></tr>",
            "<tr><td>49</td><td>8</td></tr>",
            "<tr><td>50</td><td>1</td></tr>",
            "<tr><td>51</td><td>6</td></tr>",
            "<tr><td>52</td><td>7</td></tr>",
            "<tr><td>53</td><td>7</td></tr>",
            "<tr><td>54</td><td>6</td></tr>",
            "<tr><td>55</td><td>5</td></tr>",
            "<tr><td>56</td><td>8</td></tr>",
            "<tr><td>57</td><td>6</td></tr>",
            "<tr><td>58</td><td>7</td></tr>",
            "<tr><td>59</td><td>3</td></tr>",
            "<tr><td>60</td><td>5</td></tr>",
            "<tr><td>61</td><td>5</td></tr>",
            "<tr><td>62</td><td>5</td></tr>",
            "<tr><td>63</td><td>7</td></tr>",
            "<tr><td>64</td><td>6</td></tr>",
            "<tr><td>65</td><td>5</td></tr>",
            "<tr><td>66</td><td>7</td></tr>",
            "<tr><td>67</td><td>10</td></tr>",
            "<tr><td>68</td><td>4</td></tr>",
            "<tr><td>69</td><td>4</td></tr>",
            "<tr><td>70</td><td>2</td></tr>",
            "<tr><td>71</td><td>3</td></tr>",
            "<tr><td>72</td><td>6</td></tr>",
            "<tr><td>73</td><td>5</td></tr>",
            "<tr><td>74</td><td>6</td></tr>",
            "<tr><td>75</td><td>2</td></tr>",
            "<tr><td>76</td><td>4</td></tr>",
            "<tr><td>77</td><td>4</td></tr>",
            "<tr><td>78</td><td>5</td></tr>",
            "<tr><td>79</td><td>5</td></tr>",
            "<tr><td>80</td><td>4</td></tr>",
            "<tr><td>81</td><td>3</td></tr>",
            "<tr><td>82</td><td>4</td></tr>",
            "<tr><td>83</td><td>4</td></tr>",
            "<tr><td>84</td><td>8</td></tr>",
            "<tr><td>85</td><td>9</td></tr>",
            "<tr><td>86</td><td>6</td></tr>",
            "<tr><td>87</td><td>13</td></tr>",
            "<tr><td>88</td><td>9</td></tr>",
            "<tr><td>89</td><td>7</td></tr>",
            "<tr><td>90</td><td>8</td></tr>",
            "<tr><td>91</td><td>2</td></tr>",
            "<tr><td>92</td><td>5</td></tr>",
            "<tr><td>93</td><td>2</td></tr>",
            "<tr><td>94</td><td>4</td></tr>",
            "<tr><td>95</td><td>5</td></tr>",
            "<tr><td>96</td><td>6</td></tr>",
            "<tr><td>97</td><td>1</td></tr>",
            "<tr><td>98</td><td>4</td></tr>",
            "<tr><td>99</td><td>2</td></tr>",
            "<tr><td>100</td><td>5</td></tr>",
            "<tr><td>101</td><td>5</td></tr>",
            "<tr><td>102</td><td>3</td></tr>",
            "<tr><td>103</td><td>6</td></tr>",
            "<tr><td>104</td><td>2</td></tr>",
            "<tr><td>105</td><td>8</td></tr>",
            "<tr><td>106</td><td>4</td></tr>",
            "<tr><td>107</td><td>8</td></tr>",
            "<tr><td>108</td><td>3</td></tr>",
            "<tr><td>109</td><td>7</td></tr>",
            "<tr><td>110</td><td>4</td></tr>",
            "<tr><td>111</td><td>7</td></tr>",
            "<tr><td>112</td><td>8</td></tr>",
            "<tr><td>113</td><td>2</td></tr>",
            "<tr><td>114</td><td>2</td></tr>",
            "<tr><td>115</td><td>3</td></tr>",
            "<tr><td>116</td><td>4</td></tr>",
            "<tr><td>117</td><td>7</td></tr>",
            "<tr><td>118</td><td>6</td></tr>",
            "<tr><td>119</td><td>7</td></tr>",
            "<tr><td>120</td><td>8</td></tr>",
            "<tr><td>121</td><td>7</td></tr>",
            "<tr><td>122</td><td>7</td></tr>",
            "<tr><td>123</td><td>4</td></tr>",
            "<tr><td>124</td><td>5</td></tr>",
            "<tr><td>125</td><td>7</td></tr>",
            "<tr><td>126</td><td>5</td></tr>",
            "<tr><td>127</td><td>4</td></tr>",
            "<tr><td>128</td><td>5</td></tr>",
            "<tr><td>129</td><td>6</td></tr>",
            "<tr><td>130</td><td>4</td></tr>",
            "<tr><td>131</td><td>4</td></tr>",
            "<tr><td>132</td><td>2</td></tr>",
            "<tr><td>133</td><td>7</td></tr>",
            "<tr><td>134</td><td>4</td></tr>",
            "<tr><td>135</td><td>6</td></tr>",
            "<tr><td>136</td><td>6</td></tr>",
            "<tr><td>137</td><td>3</td></tr>",
            "<tr><td>138</td><td>2</td></tr>",
            "<tr><td>139</td><td>5</td></tr>",
            "<tr><td>140</td><td>2</td></tr>",
            "<tr><td>141</td><td>8</td></tr>",
            "<tr><td>142</td><td>2</td></tr>",
            "<tr><td>143</td><td>5</td></tr>",
            "<tr><td>144</td><td>10</td></tr>",
            "<tr><td>145</td><td>4</td></tr>",
            "<tr><td>146</td><td>13</td></tr>",
            "<tr><td>147</td><td>5</td></tr>",
            "<tr><td>148</td><td>7</td></tr>",
            "<tr><td>149</td><td>3</td></tr>",
            "<tr><td>150</td><td>5</td></tr>",
            "<tr><td>151</td><td>4</td></tr>",
            "<tr><td>152</td><td>2</td></tr>",
            "<tr><td>153</td><td>8</td></tr>",
            "<tr><td>154</td><td>7</td></tr>",
            "<tr><td>155</td><td>7</td></tr>",
            "<tr><td>156</td><td>4</td></tr>",
            "<tr><td>157</td><td>5</td></tr>",
            "<tr><td>158</td><td>5</td></tr>",
            "<tr><td>159</td><td>6</td></tr>",
            "<tr><td>160</td><td>4</td></tr>",
            "<tr><td>161</td><td>6</td></tr>",
            "<tr><td>162</td><td>8</td></tr>",
            "<tr><td>163</td><td>4</td></tr>",
            "<tr><td>164</td><td>10</td></tr>",
            "<tr><td>165</td><td>4</td></tr>",
            "<tr><td>166</td><td>7</td></tr>",
            "<tr><td>167</td><td>3</td></tr>",
            "<tr><td>168</td><td>5</td></tr>",
            "<tr><td>169</td><td>5</td></tr>",
            "<tr><td>170</td><td>8</td></tr>",
            "<tr><td>171</td><td>4</td></tr>",
            "<tr><td>172</td><td>9</td></tr>",
            "<tr><td>173</td><td>4</td></tr>",
            "<tr><td>174</td><td>2</td></tr>",
            "<tr><td>175</td><td>6</td></tr>",
            "<tr><td>176</td><td>3</td></tr>",
            "<tr><td>177</td><td>7</td></tr>",
            "<tr><td>178</td><td>7</td></tr>",
            "<tr><td>179</td><td>6</td></tr>",
            "<tr><td>180</td><td>4</td></tr>",
            "<tr><td>181</td><td>5</td></tr>",
            "<tr><td>182</td><td>3</td></tr>",
            "<tr><td>183</td><td>3</td></tr>",
            "<tr><td>184</td><td>4</td></tr>",
            "<tr><td>185</td><td>5</td></tr>",
            "<tr><td>186</td><td>6</td></tr>",
            "<tr><td>187</td><td>6</td></tr>",
            "<tr><td>188</td><td>13</td></tr>",
            "<tr><td>189</td><td>3</td></tr>",
            "<tr><td>190</td><td>6</td></tr>",
            "<tr><td>191</td><td>6</td></tr>",
            "<tr><td>192</td><td>2</td></tr>",
            "<tr><td>193</td><td>8</td></tr>",
            "<tr><td>194</td><td>10</td></tr>",
            "<tr><td>195</td><td>4</td></tr>",
            "<tr><td>196</td><td>2</td></tr>",
            "<tr><td>197</td><td>9</td></tr>",
            "<tr><td>198</td><td>5</td></tr>",
            "<tr><td>199</td><td>8</td></tr>",
            "<tr><td>200</td><td>3</td></tr>",
            "<tr><td>201</td><td>3</td></tr>",
            "<tr><td>202</td><td>5</td></tr>",
            "<tr><td>203</td><td>7</td></tr>",
            "<tr><td>204</td><td>6</td></tr>",
            "<tr><td>205</td><td>5</td></tr>",
            "<tr><td>206</td><td>6</td></tr>",
            "<tr><td>207</td><td>8</td></tr>",
            "<tr><td>208</td><td>10</td></tr>",
            "<tr><td>209</td><td>2</td></tr>",
            "<tr><td>210</td><td>4</td></tr>",
            "<tr><td>211</td><td>2</td></tr>",
            "<tr><td>212</td><td>9</td></tr>",
            "<tr><td>213</td><td>4</td></tr>",
            "<tr><td>214</td><td>4</td></tr>",
            "<tr><td>215</td><td>6</td></tr>",
            "<tr><td>216</td><td>5</td></tr>",
            "<tr><td>217</td><td>6</td></tr>",
            "<tr><td>218</td><td>4</td></tr>",
            "<tr><td>219</td><td>7</td></tr>",
            "<tr><td>220</td><td>3</td></tr>",
            "<tr><td>221</td><td>3</td></tr>",
            "<tr><td>222</td><td>5</td></tr>",
            "<tr><td>223</td><td>7</td></tr>",
            "<tr><td>224</td><td>4</td></tr>",
            "<tr><td>225</td><td>3</td></tr>",
            "<tr><td>226</td><td>7</td></tr>",
            "<tr><td>227</td><td>2</td></tr>",
            "<tr><td>228</td><td>3</td></tr>",
            "<tr><td>229</td><td>5</td></tr>",
            "<tr><td>230</td><td>4</td></tr>",
            "<tr><td>231</td><td>6</td></tr>",
            "<tr><td>232</td><td>5</td></tr>",
            "<tr><td>233</td><td>7</td></tr>",
            "<tr><td>234</td><td>4</td></tr>",
            "<tr><td>235</td><td>6</td></tr>",
            "<tr><td>236</td><td>5</td></tr>",
            "<tr><td>237</td><td>6</td></tr>",
            "<tr><td>238</td><td>6</td></tr>",
            "<tr><td>239</td><td>7</td></tr>",
            "<tr><td>240</td><td>1</td></tr>",
            "<tr><td>241</td><td>7</td></tr>",
            "<tr><td>242</td><td>8</td></tr>",
            "<tr><td>243</td><td>9</td></tr>",
            "<tr><td>244</td><td>4</td></tr>",
            "<tr><td>245</td><td>8</td></tr>",
            "<tr><td>246</td><td>5</td></tr>",
            "<tr><td>247</td><td>4</td></tr>",
            "<tr><td>248</td><td>6</td></tr>",
            "<tr><td>249</td><td>13</td></tr>",
            "<tr><td>250</td><td>8</td></tr>",
            "<tr><td>251</td><td>3</td></tr>",
            "<tr><td>252</td><td>4</td></tr>",
            "<tr><td>253</td><td>7</td></tr>",
            "<tr><td>254</td><td>8</td></tr>",
            "<tr><td>255</td><td>7</td></tr>",
            "<tr><td>256</td><td>8</td></tr>",
            "<tr><td>258</td><td>7</td></tr>",
            "<tr><td>259</td><td>2</td></tr>",
            "<tr><td>260</td><td>7</td></tr>",
            "<tr><td>261</td><td>3</td></tr>",
            "<tr><td>262</td><td>9</td></tr>",
            "<tr><td>263</td><td>9</td></tr>",
            "<tr><td>264</td><td>1</td></tr>",
            "<tr><td>265</td><td>2</td></tr>",
            "<tr><td>266</td><td>5</td></tr>",
            "<tr><td>267</td><td>6</td></tr>",
            "<tr><td>268</td><td>6</td></tr>",
            "<tr><td>269</td><td>5</td></tr>",
            "<tr><td>270</td><td>3</td></tr>",
            "<tr><td>271</td><td>3</td></tr>",
            "<tr><td>272</td><td>3</td></tr>",
            "<tr><td>273</td><td>7</td></tr>",
            "<tr><td>274</td><td>5</td></tr>",
            "<tr><td>275</td><td>5</td></tr>",
            "<tr><td>276</td><td>4</td></tr>",
            "<tr><td>277</td><td>5</td></tr>",
            "<tr><td>278</td><td>5</td></tr>",
            "<tr><td>279</td><td>3</td></tr>",
            "<tr><td>280</td><td>9</td></tr>",
            "<tr><td>281</td><td>6</td></tr>",
            "<tr><td>282</td><td>4</td></tr>",
            "<tr><td>283</td><td>5</td></tr>",
            "<tr><td>284</td><td>4</td></tr>",
            "<tr><td>285</td><td>5</td></tr>",
            "<tr><td>286</td><td>9</td></tr>",
            "<tr><td>287</td><td>4</td></tr>",
            "<tr><td>288</td><td>4</td></tr>",
            "<tr><td>289</td><td>6</td></tr>",
            "<tr><td>290</td><td>5</td></tr>",
            "<tr><td>291</td><td>6</td></tr>",
            "<tr><td>292</td><td>8</td></tr>",
            "<tr><td>293</td><td>5</td></tr>",
            "<tr><td>294</td><td>3</td></tr>",
            "<tr><td>295</td><td>4</td></tr>",
            "<tr><td>296</td><td>8</td></tr>",
            "<tr><td>297</td><td>7</td></tr>",
            "<tr><td>298</td><td>5</td></tr>",
            "<tr><td>299</td><td>6</td></tr>",
            "<tr><td>300</td><td>4</td></tr>",
            "<tr><td>301</td><td>9</td></tr>",
            "<tr><td>302</td><td>3</td></tr>",
            "<tr><td>303</td><td>9</td></tr>",
            "<tr><td>304</td><td>5</td></tr>",
            "<tr><td>305</td><td>6</td></tr>",
            "<tr><td>306</td><td>9</td></tr>",
            "<tr><td>307</td><td>7</td></tr>",
            "<tr><td>308</td><td>1</td></tr>",
            "<tr><td>309</td><td>4</td></tr>",
            "<tr><td>310</td><td>3</td></tr>",
            "<tr><td>311</td><td>8</td></tr>",
            "<tr><td>312</td><td>11</td></tr>",
            "<tr><td>313</td><td>4</td></tr>",
            "<tr><td>314</td><td>3</td></tr>",
            "<tr><td>315</td><td>5</td></tr>",
            "<tr><td>316</td><td>5</td></tr>",
            "<tr><td>317</td><td>5</td></tr>",
            "<tr><td>318</td><td>5</td></tr>",
            "<tr><td>319</td><td>2</td></tr>",
            "<tr><td>320</td><td>9</td></tr>",
            "<tr><td>321</td><td>7</td></tr>",
            "<tr><td>322</td><td>9</td></tr>",
            "<tr><td>324</td><td>4</td></tr>",
            "<tr><td>325</td><td>5</td></tr>",
            "<tr><td>326</td><td>8</td></tr>",
            "<tr><td>327</td><td>2</td></tr>",
            "<tr><td>328</td><td>1</td></tr>",
            "<tr><td>329</td><td>5</td></tr>",
            "<tr><td>330</td><td>3</td></tr>",
            "<tr><td>331</td><td>3</td></tr>",
            "<tr><td>332</td><td>2</td></tr>",
            "<tr><td>333</td><td>5</td></tr>",
            "<tr><td>334</td><td>3</td></tr>",
            "<tr><td>335</td><td>5</td></tr>",
            "<tr><td>336</td><td>7</td></tr>",
            "<tr><td>337</td><td>5</td></tr>",
            "<tr><td>338</td><td>9</td></tr>",
            "<tr><td>339</td><td>6</td></tr>",
            "<tr><td>340</td><td>6</td></tr>",
            "<tr><td>341</td><td>7</td></tr>",
            "<tr><td>342</td><td>11</td></tr>",
            "<tr><td>343</td><td>6</td></tr>",
            "<tr><td>344</td><td>4</td></tr>",
            "<tr><td>345</td><td>8</td></tr>",
            "<tr><td>346</td><td>3</td></tr>",
            "<tr><td>347</td><td>8</td></tr>",
            "<tr><td>348</td><td>8</td></tr>",
            "<tr><td>349</td><td>4</td></tr>",
            "<tr><td>350</td><td>3</td></tr>",
            "<tr><td>351</td><td>5</td></tr>",
            "<tr><td>352</td><td>3</td></tr>",
            "<tr><td>353</td><td>8</td></tr>",
            "<tr><td>354</td><td>5</td></tr>",
            "<tr><td>355</td><td>1</td></tr>",
            "<tr><td>356</td><td>1</td></tr>",
            "<tr><td>357</td><td>4</td></tr>",
            "<tr><td>358</td><td>6</td></tr>",
            "<tr><td>359</td><td>6</td></tr>",
            "<tr><td>360</td><td>4</td></tr>",
            "<tr><td>361</td><td>8</td></tr>",
            "<tr><td>362</td><td>6</td></tr>",
            "<tr><td>363</td><td>3</td></tr>",
            "<tr><td>364</td><td>6</td></tr>",
            "<tr><td>365</td><td>2</td></tr>",
            "<tr><td>366</td><td>4</td></tr>",
            "<tr><td>367</td><td>7</td></tr>",
            "<tr><td>368</td><td>5</td></tr>",
            "<tr><td>369</td><td>8</td></tr>",
            "<tr><td>370</td><td>7</td></tr>",
            "<tr><td>371</td><td>3</td></tr>",
            "<tr><td>372</td><td>6</td></tr>",
            "<tr><td>373</td><td>2</td></tr>",
            "<tr><td>374</td><td>6</td></tr>",
            "<tr><td>375</td><td>5</td></tr>",
            "<tr><td>376</td><td>5</td></tr>",
            "<tr><td>377</td><td>3</td></tr>",
            "<tr><td>378</td><td>6</td></tr>",
            "<tr><td>379</td><td>8</td></tr>",
            "<tr><td>380</td><td>4</td></tr>",
            "<tr><td>381</td><td>6</td></tr>",
            "<tr><td>382</td><td>3</td></tr>",
            "<tr><td>383</td><td>7</td></tr>",
            "<tr><td>384</td><td>4</td></tr>",
            "<tr><td>385</td><td>7</td></tr>",
            "<tr><td>386</td><td>6</td></tr>",
            "<tr><td>387</td><td>5</td></tr>",
            "<tr><td>388</td><td>4</td></tr>",
            "<tr><td>389</td><td>4</td></tr>",
            "<tr><td>390</td><td>5</td></tr>",
            "<tr><td>391</td><td>6</td></tr>",
            "<tr><td>392</td><td>5</td></tr>",
            "<tr><td>393</td><td>7</td></tr>",
            "<tr><td>394</td><td>5</td></tr>",
            "<tr><td>395</td><td>7</td></tr>",
            "<tr><td>396</td><td>7</td></tr>",
            "<tr><td>397</td><td>3</td></tr>",
            "<tr><td>398</td><td>7</td></tr>",
            "<tr><td>399</td><td>5</td></tr>",
            "<tr><td>400</td><td>3</td></tr>",
            "<tr><td>401</td><td>7</td></tr>",
            "<tr><td>402</td><td>4</td></tr>",
            "<tr><td>403</td><td>6</td></tr>",
            "<tr><td>404</td><td>3</td></tr>",
            "<tr><td>405</td><td>5</td></tr>",
            "<tr><td>406</td><td>5</td></tr>",
            "<tr><td>407</td><td>7</td></tr>",
            "<tr><td>408</td><td>2</td></tr>",
            "<tr><td>409</td><td>5</td></tr>",
            "<tr><td>410</td><td>10</td></tr>",
            "<tr><td>411</td><td>6</td></tr>",
            "<tr><td>412</td><td>5</td></tr>",
            "<tr><td>413</td><td>4</td></tr>",
            "<tr><td>414</td><td>12</td></tr>",
            "<tr><td>415</td><td>7</td></tr>",
            "<tr><td>416</td><td>5</td></tr>",
            "<tr><td>417</td><td>6</td></tr>",
            "<tr><td>418</td><td>8</td></tr>",
            "<tr><td>419</td><td>3</td></tr>",
            "<tr><td>420</td><td>11</td></tr>",
            "<tr><td>421</td><td>6</td></tr>",
            "<tr><td>422</td><td>2</td></tr>",
            "<tr><td>423</td><td>6</td></tr>",
            "<tr><td>424</td><td>5</td></tr>",
            "<tr><td>425</td><td>3</td></tr>",
            "<tr><td>426</td><td>6</td></tr>",
            "<tr><td>427</td><td>7</td></tr>",
            "<tr><td>428</td><td>8</td></tr>",
            "<tr><td>429</td><td>5</td></tr>",
            "<tr><td>430</td><td>4</td></tr>",
            "<tr><td>431</td><td>10</td></tr>",
            "<tr><td>432</td><td>4</td></tr>",
            "<tr><td>433</td><td>8</td></tr>",
            "<tr><td>434</td><td>5</td></tr>",
            "<tr><td>435</td><td>4</td></tr>",
            "<tr><td>436</td><td>6</td></tr>",
            "<tr><td>437</td><td>9</td></tr>",
            "<tr><td>438</td><td>4</td></tr>",
            "<tr><td>439</td><td>2</td></tr>",
            "<tr><td>440</td><td>1</td></tr>",
            "<tr><td>441</td><td>4</td></tr>",
            "<tr><td>442</td><td>5</td></tr>",
            "<tr><td>443</td><td>3</td></tr>",
            "<tr><td>444</td><td>4</td></tr>",
            "<tr><td>445</td><td>6</td></tr>",
            "<tr><td>446</td><td>9</td></tr>",
            "<tr><td>447</td><td>6</td></tr>",
            "<tr><td>448</td><td>6</td></tr>",
            "<tr><td>449</td><td>4</td></tr>",
            "<tr><td>450</td><td>8</td></tr>",
            "<tr><td>451</td><td>5</td></tr>",
            "<tr><td>452</td><td>7</td></tr>",
            "<tr><td>453</td><td>11</td></tr>",
            "<tr><td>454</td><td>3</td></tr>",
            "<tr><td>455</td><td>3</td></tr>",
            "<tr><td>456</td><td>5</td></tr>",
            "<tr><td>457</td><td>9</td></tr>",
            "<tr><td>458</td><td>10</td></tr>",
            "<tr><td>459</td><td>3</td></tr>",
            "<tr><td>460</td><td>3</td></tr>",
            "<tr><td>461</td><td>4</td></tr>",
            "<tr><td>462</td><td>9</td></tr>",
            "<tr><td>463</td><td>11</td></tr>",
            "<tr><td>464</td><td>2</td></tr>",
            "<tr><td>465</td><td>5</td></tr>",
            "<tr><td>466</td><td>6</td></tr>",
            "<tr><td>467</td><td>7</td></tr>",
            "<tr><td>468</td><td>7</td></tr>",
            "<tr><td>469</td><td>8</td></tr>",
            "<tr><td>470</td><td>4</td></tr>",
            "<tr><td>471</td><td>3</td></tr>",
            "<tr><td>472</td><td>2</td></tr>",
            "<tr><td>473</td><td>10</td></tr>",
            "<tr><td>474</td><td>8</td></tr>",
            "<tr><td>475</td><td>9</td></tr>",
            "<tr><td>476</td><td>5</td></tr>",
            "<tr><td>477</td><td>5</td></tr>",
            "<tr><td>478</td><td>5</td></tr>",
            "<tr><td>479</td><td>4</td></tr>",
            "<tr><td>480</td><td>6</td></tr>",
            "<tr><td>481</td><td>3</td></tr>",
            "<tr><td>482</td><td>5</td></tr>",
            "<tr><td>483</td><td>4</td></tr>",
            "<tr><td>484</td><td>8</td></tr>",
            "<tr><td>485</td><td>9</td></tr>",
            "<tr><td>486</td><td>6</td></tr>",
            "<tr><td>487</td><td>2</td></tr>",
            "<tr><td>488</td><td>2</td></tr>",
            "<tr><td>489</td><td>9</td></tr>",
            "<tr><td>490</td><td>6</td></tr>",
            "<tr><td>491</td><td>8</td></tr>",
            "<tr><td>492</td><td>6</td></tr>",
            "<tr><td>493</td><td>5</td></tr>",
            "<tr><td>494</td><td>8</td></tr>",
            "<tr><td>495</td><td>4</td></tr>",
            "<tr><td>496</td><td>6</td></tr>",
            "<tr><td>497</td><td>5</td></tr>",
            "<tr><td>498</td><td>5</td></tr>",
            "<tr><td>499</td><td>6</td></tr>",
            "<tr><td>500</td><td>7</td></tr>",
            "<tr><td>501</td><td>3</td></tr>",
            "<tr><td>502</td><td>6</td></tr>",
            "<tr><td>503</td><td>8</td></tr>",
            "<tr><td>504</td><td>5</td></tr>",
            "<tr><td>505</td><td>6</td></tr>",
            "<tr><td>506</td><td>8</td></tr>",
            "<tr><td>507</td><td>4</td></tr>",
            "<tr><td>508</td><td>15</td></tr>",
            "<tr><td>509</td><td>6</td></tr>",
            "<tr><td>510</td><td>4</td></tr>",
            "<tr><td>511</td><td>2</td></tr>",
            "<tr><td>512</td><td>6</td></tr>",
            "<tr><td>513</td><td>7</td></tr>",
            "<tr><td>514</td><td>3</td></tr>",
            "<tr><td>515</td><td>6</td></tr>",
            "<tr><td>516</td><td>4</td></tr>",
            "<tr><td>517</td><td>12</td></tr>",
            "<tr><td>518</td><td>6</td></tr>",
            "<tr><td>519</td><td>7</td></tr>",
            "<tr><td>520</td><td>8</td></tr>",
            "<tr><td>521</td><td>7</td></tr>",
            "<tr><td>522</td><td>8</td></tr>",
            "<tr><td>523</td><td>2</td></tr>",
            "<tr><td>524</td><td>3</td></tr>",
            "<tr><td>525</td><td>5</td></tr>",
            "<tr><td>526</td><td>2</td></tr>",
            "<tr><td>527</td><td>6</td></tr>",
            "<tr><td>528</td><td>1</td></tr>",
            "<tr><td>529</td><td>12</td></tr>",
            "<tr><td>530</td><td>6</td></tr>",
            "<tr><td>531</td><td>4</td></tr>",
            "<tr><td>532</td><td>5</td></tr>",
            "<tr><td>533</td><td>3</td></tr>",
            "<tr><td>534</td><td>3</td></tr>",
            "<tr><td>535</td><td>4</td></tr>",
            "<tr><td>536</td><td>6</td></tr>",
            "<tr><td>537</td><td>7</td></tr>",
            "<tr><td>538</td><td>9</td></tr>",
            "<tr><td>539</td><td>6</td></tr>",
            "<tr><td>540</td><td>10</td></tr>",
            "<tr><td>541</td><td>9</td></tr>",
            "<tr><td>542</td><td>7</td></tr>",
            "<tr><td>543</td><td>6</td></tr>",
            "<tr><td>544</td><td>5</td></tr>",
            "<tr><td>545</td><td>7</td></tr>",
            "<tr><td>546</td><td>4</td></tr>",
            "<tr><td>547</td><td>4</td></tr>",
            "<tr><td>548</td><td>7</td></tr>",
            "<tr><td>549</td><td>7</td></tr>",
            "<tr><td>550</td><td>4</td></tr>",
            "<tr><td>551</td><td>8</td></tr>",
            "<tr><td>552</td><td>5</td></tr>",
            "<tr><td>553</td><td>11</td></tr>",
            "<tr><td>554</td><td>7</td></tr>",
            "<tr><td>555</td><td>5</td></tr>",
            "<tr><td>556</td><td>1</td></tr>",
            "<tr><td>557</td><td>2</td></tr>",
            "<tr><td>558</td><td>5</td></tr>",
            "<tr><td>559</td><td>3</td></tr>",
            "<tr><td>560</td><td>7</td></tr>",
            "<tr><td>561</td><td>11</td></tr>",
            "<tr><td>562</td><td>3</td></tr>",
            "<tr><td>563</td><td>3</td></tr>",
            "<tr><td>564</td><td>9</td></tr>",
            "<tr><td>565</td><td>3</td></tr>",
            "<tr><td>566</td><td>6</td></tr>",
            "<tr><td>567</td><td>6</td></tr>",
            "<tr><td>568</td><td>6</td></tr>",
            "<tr><td>569</td><td>2</td></tr>",
            "<tr><td>570</td><td>6</td></tr>",
            "<tr><td>571</td><td>8</td></tr>",
            "<tr><td>572</td><td>6</td></tr>",
            "<tr><td>573</td><td>6</td></tr>",
            "<tr><td>574</td><td>9</td></tr>",
            "<tr><td>575</td><td>2</td></tr>",
            "<tr><td>576</td><td>8</td></tr>",
            "<tr><td>577</td><td>3</td></tr>",
            "<tr><td>578</td><td>5</td></tr>",
            "<tr><td>579</td><td>6</td></tr>",
            "<tr><td>580</td><td>2</td></tr>",
            "<tr><td>581</td><td>1</td></tr>",
            "<tr><td>582</td><td>1</td></tr>",
            "<tr><td>583</td><td>5</td></tr>",
            "<tr><td>584</td><td>6</td></tr>",
            "<tr><td>585</td><td>6</td></tr>",
            "<tr><td>586</td><td>3</td></tr>",
            "<tr><td>587</td><td>6</td></tr>",
            "<tr><td>588</td><td>8</td></tr>",
            "<tr><td>589</td><td>5</td></tr>",
            "<tr><td>590</td><td>7</td></tr>",
            "<tr><td>591</td><td>5</td></tr>",
            "<tr><td>592</td><td>7</td></tr>",
            "<tr><td>593</td><td>6</td></tr>",
            "<tr><td>594</td><td>2</td></tr>",
            "<tr><td>595</td><td>1</td></tr>",
            "<tr><td>596</td><td>5</td></tr>",
            "<tr><td>597</td><td>7</td></tr>",
            "<tr><td>598</td><td>4</td></tr>",
            "<tr><td>599</td><td>5</td></tr>",
            "<tr><td>600</td><td>8</td></tr>",
            "<tr><td>601</td><td>3</td></tr>",
            "<tr><td>602</td><td>7</td></tr>",
            "<tr><td>603</td><td>8</td></tr>",
            "<tr><td>604</td><td>5</td></tr>",
            "<tr><td>605</td><td>6</td></tr>",
            "<tr><td>606</td><td>13</td></tr>",
            "<tr><td>607</td><td>8</td></tr>",
            "<tr><td>608</td><td>8</td></tr>",
            "<tr><td>609</td><td>5</td></tr>",
            "<tr><td>610</td><td>3</td></tr>",
            "<tr><td>611</td><td>1</td></tr>",
            "<tr><td>612</td><td>7</td></tr>",
            "<tr><td>613</td><td>4</td></tr>",
            "<tr><td>614</td><td>3</td></tr>",
            "<tr><td>615</td><td>7</td></tr>",
            "<tr><td>616</td><td>7</td></tr>",
            "<tr><td>617</td><td>4</td></tr>",
            "<tr><td>618</td><td>8</td></tr>",
            "<tr><td>619</td><td>7</td></tr>",
            "<tr><td>620</td><td>5</td></tr>",
            "<tr><td>621</td><td>3</td></tr>",
            "<tr><td>622</td><td>8</td></tr>",
            "<tr><td>623</td><td>4</td></tr>",
            "<tr><td>624</td><td>2</td></tr>",
            "<tr><td>625</td><td>6</td></tr>",
            "<tr><td>626</td><td>6</td></tr>",
            "<tr><td>627</td><td>5</td></tr>",
            "<tr><td>628</td><td>8</td></tr>",
            "<tr><td>629</td><td>2</td></tr>",
            "<tr><td>630</td><td>2</td></tr>",
            "<tr><td>631</td><td>6</td></tr>",
            "<tr><td>632</td><td>2</td></tr>",
            "<tr><td>633</td><td>5</td></tr>",
            "<tr><td>634</td><td>5</td></tr>",
            "<tr><td>635</td><td>9</td></tr>",
            "<tr><td>636</td><td>10</td></tr>",
            "<tr><td>637</td><td>9</td></tr>",
            "<tr><td>638</td><td>3</td></tr>",
            "<tr><td>639</td><td>6</td></tr>",
            "<tr><td>640</td><td>4</td></tr>",
            "<tr><td>641</td><td>5</td></tr>",
            "<tr><td>642</td><td>7</td></tr>",
            "<tr><td>643</td><td>4</td></tr>",
            "<tr><td>644</td><td>6</td></tr>",
            "<tr><td>645</td><td>4</td></tr>",
            "<tr><td>646</td><td>5</td></tr>",
            "<tr><td>647</td><td>4</td></tr>",
            "<tr><td>648</td><td>7</td></tr>",
            "<tr><td>649</td><td>11</td></tr>",
            "<tr><td>650</td><td>8</td></tr>",
            "<tr><td>651</td><td>1</td></tr>",
            "<tr><td>652</td><td>5</td></tr>",
            "<tr><td>653</td><td>3</td></tr>",
            "<tr><td>654</td><td>8</td></tr>",
            "<tr><td>655</td><td>5</td></tr>",
            "<tr><td>656</td><td>3</td></tr>",
            "<tr><td>657</td><td>4</td></tr>",
            "<tr><td>658</td><td>6</td></tr>",
            "<tr><td>659</td><td>6</td></tr>",
            "<tr><td>660</td><td>2</td></tr>",
            "<tr><td>661</td><td>6</td></tr>",
            "<tr><td>662</td><td>5</td></tr>",
            "<tr><td>663</td><td>4</td></tr>",
            "<tr><td>664</td><td>4</td></tr>",
            "<tr><td>665</td><td>9</td></tr>",
            "<tr><td>666</td><td>3</td></tr>",
            "<tr><td>667</td><td>5</td></tr>",
            "<tr><td>668</td><td>5</td></tr>",
            "<tr><td>669</td><td>4</td></tr>",
            "<tr><td>670</td><td>5</td></tr>",
            "<tr><td>671</td><td>5</td></tr>",
            "<tr><td>672</td><td>6</td></tr>",
            "<tr><td>673</td><td>9</td></tr>",
            "<tr><td>674</td><td>7</td></tr>",
            "<tr><td>675</td><td>2</td></tr>",
            "<tr><td>676</td><td>2</td></tr>",
            "<tr><td>677</td><td>5</td></tr>",
            "<tr><td>678</td><td>5</td></tr>",
            "<tr><td>679</td><td>7</td></tr>",
            "<tr><td>680</td><td>11</td></tr>",
            "<tr><td>681</td><td>1</td></tr>",
            "<tr><td>682</td><td>5</td></tr>",
            "<tr><td>683</td><td>5</td></tr>",
            "<tr><td>684</td><td>5</td></tr>",
            "<tr><td>685</td><td>5</td></tr>",
            "<tr><td>686</td><td>7</td></tr>",
            "<tr><td>687</td><td>5</td></tr>",
            "<tr><td>688</td><td>10</td></tr>",
            "<tr><td>689</td><td>6</td></tr>",
            "<tr><td>690</td><td>3</td></tr>",
            "<tr><td>691</td><td>6</td></tr>",
            "<tr><td>692</td><td>6</td></tr>",
            "<tr><td>693</td><td>7</td></tr>",
            "<tr><td>694</td><td>10</td></tr>",
            "<tr><td>695</td><td>5</td></tr>",
            "<tr><td>696</td><td>4</td></tr>",
            "<tr><td>697</td><td>7</td></tr>",
            "<tr><td>698</td><td>5</td></tr>",
            "<tr><td>699</td><td>5</td></tr>",
            "<tr><td>700</td><td>7</td></tr>",
            "<tr><td>701</td><td>1</td></tr>",
            "<tr><td>702</td><td>7</td></tr>",
            "<tr><td>703</td><td>7</td></tr>",
            "<tr><td>704</td><td>2</td></tr>",
            "<tr><td>705</td><td>8</td></tr>",
            "<tr><td>706</td><td>6</td></tr>",
            "<tr><td>707</td><td>5</td></tr>",
            "<tr><td>708</td><td>4</td></tr>",
            "<tr><td>709</td><td>6</td></tr>",
            "<tr><td>710</td><td>7</td></tr>",
            "<tr><td>711</td><td>3</td></tr>",
            "<tr><td>712</td><td>6</td></tr>",
            "<tr><td>713</td><td>6</td></tr>",
            "<tr><td>714</td><td>13</td></tr>",
            "<tr><td>715</td><td>4</td></tr>",
            "<tr><td>716</td><td>4</td></tr>",
            "<tr><td>717</td><td>8</td></tr>",
            "<tr><td>718</td><td>6</td></tr>",
            "<tr><td>719</td><td>8</td></tr>",
            "<tr><td>720</td><td>5</td></tr>",
            "<tr><td>721</td><td>5</td></tr>",
            "<tr><td>722</td><td>4</td></tr>",
            "<tr><td>723</td><td>3</td></tr>",
            "<tr><td>724</td><td>4</td></tr>",
            "<tr><td>725</td><td>8</td></tr>",
            "<tr><td>726</td><td>8</td></tr>",
            "<tr><td>727</td><td>5</td></tr>",
            "<tr><td>728</td><td>7</td></tr>",
            "<tr><td>729</td><td>9</td></tr>",
            "<tr><td>730</td><td>5</td></tr>",
            "<tr><td>731</td><td>7</td></tr>",
            "<tr><td>732</td><td>11</td></tr>",
            "<tr><td>733</td><td>4</td></tr>",
            "<tr><td>734</td><td>8</td></tr>",
            "<tr><td>735</td><td>5</td></tr>",
            "<tr><td>736</td><td>2</td></tr>",
            "<tr><td>737</td><td>8</td></tr>",
            "<tr><td>738</td><td>7</td></tr>",
            "<tr><td>739</td><td>3</td></tr>",
            "<tr><td>740</td><td>3</td></tr>",
            "<tr><td>741</td><td>2</td></tr>",
            "<tr><td>742</td><td>5</td></tr>",
            "<tr><td>743</td><td>2</td></tr>",
            "<tr><td>744</td><td>10</td></tr>",
            "<tr><td>745</td><td>5</td></tr>",
            "<tr><td>746</td><td>4</td></tr>",
            "<tr><td>747</td><td>5</td></tr>",
            "<tr><td>748</td><td>6</td></tr>",
            "<tr><td>749</td><td>5</td></tr>",
            "<tr><td>750</td><td>6</td></tr>",
            "<tr><td>751</td><td>3</td></tr>",
            "<tr><td>752</td><td>8</td></tr>",
            "<tr><td>753</td><td>5</td></tr>",
            "<tr><td>754</td><td>7</td></tr>",
            "<tr><td>755</td><td>4</td></tr>",
            "<tr><td>756</td><td>3</td></tr>",
            "<tr><td>757</td><td>7</td></tr>",
            "<tr><td>758</td><td>10</td></tr>",
            "<tr><td>759</td><td>4</td></tr>",
            "<tr><td>760</td><td>2</td></tr>",
            "<tr><td>761</td><td>6</td></tr>",
            "<tr><td>762</td><td>3</td></tr>",
            "<tr><td>763</td><td>5</td></tr>",
            "<tr><td>764</td><td>9</td></tr>",
            "<tr><td>765</td><td>2</td></tr>",
            "<tr><td>766</td><td>6</td></tr>",
            "<tr><td>767</td><td>5</td></tr>",
            "<tr><td>768</td><td>7</td></tr>",
            "<tr><td>769</td><td>8</td></tr>",
            "<tr><td>770</td><td>5</td></tr>",
            "<tr><td>771</td><td>8</td></tr>",
            "<tr><td>772</td><td>8</td></tr>",
            "<tr><td>773</td><td>3</td></tr>",
            "<tr><td>774</td><td>4</td></tr>",
            "<tr><td>775</td><td>6</td></tr>",
            "<tr><td>776</td><td>3</td></tr>",
            "<tr><td>777</td><td>6</td></tr>",
            "<tr><td>778</td><td>6</td></tr>",
            "<tr><td>779</td><td>7</td></tr>",
            "<tr><td>780</td><td>6</td></tr>",
            "<tr><td>781</td><td>7</td></tr>",
            "<tr><td>782</td><td>6</td></tr>",
            "<tr><td>783</td><td>3</td></tr>",
            "<tr><td>784</td><td>8</td></tr>",
            "<tr><td>785</td><td>10</td></tr>",
            "<tr><td>786</td><td>5</td></tr>",
            "<tr><td>787</td><td>5</td></tr>",
            "<tr><td>788</td><td>8</td></tr>",
            "<tr><td>789</td><td>1</td></tr>",
            "<tr><td>790</td><td>3</td></tr>",
            "<tr><td>791</td><td>2</td></tr>",
            "<tr><td>792</td><td>3</td></tr>",
            "<tr><td>793</td><td>4</td></tr>",
            "<tr><td>794</td><td>6</td></tr>",
            "<tr><td>795</td><td>7</td></tr>",
            "<tr><td>796</td><td>5</td></tr>",
            "<tr><td>797</td><td>4</td></tr>",
            "<tr><td>798</td><td>5</td></tr>",
            "<tr><td>799</td><td>3</td></tr>",
            "<tr><td>800</td><td>4</td></tr>",
            "<tr><td>801</td><td>3</td></tr>",
            "<tr><td>802</td><td>12</td></tr>",
            "<tr><td>804</td><td>4</td></tr>",
            "<tr><td>805</td><td>4</td></tr>",
            "<tr><td>806</td><td>6</td></tr>",
            "<tr><td>807</td><td>7</td></tr>",
            "<tr><td>808</td><td>3</td></tr>",
            "<tr><td>809</td><td>7</td></tr>",
            "<tr><td>810</td><td>3</td></tr>",
            "<tr><td>811</td><td>8</td></tr>",
            "<tr><td>812</td><td>6</td></tr>",
            "<tr><td>813</td><td>2</td></tr>",
            "<tr><td>814</td><td>3</td></tr>",
            "<tr><td>815</td><td>9</td></tr>",
            "<tr><td>816</td><td>3</td></tr>",
            "<tr><td>817</td><td>9</td></tr>",
            "<tr><td>818</td><td>3</td></tr>",
            "<tr><td>819</td><td>5</td></tr>",
            "<tr><td>820</td><td>6</td></tr>",
            "<tr><td>821</td><td>4</td></tr>",
            "<tr><td>822</td><td>2</td></tr>",
            "<tr><td>823</td><td>2</td></tr>",
            "<tr><td>824</td><td>3</td></tr>",
            "<tr><td>825</td><td>3</td></tr>",
            "<tr><td>826</td><td>6</td></tr>",
            "<tr><td>827</td><td>11</td></tr>",
            "<tr><td>828</td><td>6</td></tr>",
            "<tr><td>829</td><td>8</td></tr>",
            "<tr><td>830</td><td>11</td></tr>",
            "<tr><td>831</td><td>5</td></tr>",
            "<tr><td>832</td><td>10</td></tr>",
            "<tr><td>833</td><td>10</td></tr>",
            "<tr><td>834</td><td>7</td></tr>",
            "<tr><td>835</td><td>8</td></tr>",
            "<tr><td>836</td><td>5</td></tr>",
            "<tr><td>837</td><td>2</td></tr>",
            "<tr><td>838</td><td>6</td></tr>",
            "<tr><td>839</td><td>7</td></tr>",
            "<tr><td>840</td><td>6</td></tr>",
            "<tr><td>841</td><td>5</td></tr>",
            "<tr><td>842</td><td>7</td></tr>",
            "<tr><td>843</td><td>3</td></tr>",
            "<tr><td>844</td><td>4</td></tr>",
            "<tr><td>845</td><td>4</td></tr>",
            "<tr><td>846</td><td>7</td></tr>",
            "<tr><td>847</td><td>7</td></tr>",
            "<tr><td>848</td><td>1</td></tr>",
            "<tr><td>849</td><td>8</td></tr>",
            "<tr><td>850</td><td>5</td></tr>",
            "<tr><td>851</td><td>3</td></tr>",
            "<tr><td>852</td><td>9</td></tr>",
            "<tr><td>853</td><td>9</td></tr>",
            "<tr><td>854</td><td>5</td></tr>",
            "<tr><td>855</td><td>3</td></tr>",
            "<tr><td>856</td><td>7</td></tr>",
            "<tr><td>857</td><td>4</td></tr>",
            "<tr><td>858</td><td>11</td></tr>",
            "<tr><td>859</td><td>5</td></tr>",
            "<tr><td>860</td><td>3</td></tr>",
            "<tr><td>861</td><td>5</td></tr>",
            "<tr><td>862</td><td>8</td></tr>",
            "<tr><td>863</td><td>5</td></tr>",
            "<tr><td>864</td><td>7</td></tr>",
            "<tr><td>865</td><td>5</td></tr>",
            "<tr><td>866</td><td>3</td></tr>",
            "<tr><td>867</td><td>3</td></tr>",
            "<tr><td>868</td><td>7</td></tr>",
            "<tr><td>869</td><td>8</td></tr>",
            "<tr><td>870</td><td>6</td></tr>",
            "<tr><td>871</td><td>5</td></tr>",
            "<tr><td>872</td><td>6</td></tr>",
            "<tr><td>873</td><td>5</td></tr>",
            "<tr><td>874</td><td>8</td></tr>",
            "<tr><td>875</td><td>5</td></tr>",
            "<tr><td>876</td><td>3</td></tr>",
            "<tr><td>877</td><td>6</td></tr>",
            "<tr><td>878</td><td>5</td></tr>",
            "<tr><td>879</td><td>7</td></tr>",
            "<tr><td>880</td><td>11</td></tr>",
            "<tr><td>881</td><td>5</td></tr>",
            "<tr><td>882</td><td>5</td></tr>",
            "<tr><td>883</td><td>3</td></tr>",
            "<tr><td>884</td><td>2</td></tr>",
            "<tr><td>885</td><td>6</td></tr>",
            "<tr><td>886</td><td>6</td></tr>",
            "<tr><td>887</td><td>7</td></tr>",
            "<tr><td>888</td><td>2</td></tr>",
            "<tr><td>889</td><td>6</td></tr>",
            "<tr><td>890</td><td>5</td></tr>",
            "<tr><td>891</td><td>4</td></tr>",
            "<tr><td>892</td><td>12</td></tr>",
            "<tr><td>893</td><td>7</td></tr>",
            "<tr><td>894</td><td>9</td></tr>",
            "<tr><td>895</td><td>6</td></tr>",
            "<tr><td>896</td><td>5</td></tr>",
            "<tr><td>897</td><td>5</td></tr>",
            "<tr><td>898</td><td>3</td></tr>",
            "<tr><td>899</td><td>4</td></tr>",
            "<tr><td>900</td><td>4</td></tr>",
            "<tr><td>901</td><td>3</td></tr>",
            "<tr><td>902</td><td>3</td></tr>",
            "<tr><td>903</td><td>4</td></tr>",
            "<tr><td>904</td><td>4</td></tr>",
            "<tr><td>905</td><td>4</td></tr>",
            "<tr><td>906</td><td>6</td></tr>",
            "<tr><td>907</td><td>3</td></tr>",
            "<tr><td>908</td><td>7</td></tr>",
            "<tr><td>909</td><td>7</td></tr>",
            "<tr><td>910</td><td>5</td></tr>",
            "<tr><td>911</td><td>4</td></tr>",
            "<tr><td>912</td><td>8</td></tr>",
            "<tr><td>913</td><td>5</td></tr>",
            "<tr><td>914</td><td>8</td></tr>",
            "<tr><td>915</td><td>6</td></tr>",
            "<tr><td>916</td><td>3</td></tr>",
            "<tr><td>917</td><td>3</td></tr>",
            "<tr><td>918</td><td>3</td></tr>",
            "<tr><td>919</td><td>6</td></tr>",
            "<tr><td>920</td><td>8</td></tr>",
            "<tr><td>921</td><td>7</td></tr>",
            "<tr><td>922</td><td>3</td></tr>",
            "<tr><td>923</td><td>8</td></tr>",
            "<tr><td>924</td><td>7</td></tr>",
            "<tr><td>925</td><td>6</td></tr>",
            "<tr><td>926</td><td>5</td></tr>",
            "<tr><td>927</td><td>5</td></tr>",
            "<tr><td>928</td><td>7</td></tr>",
            "<tr><td>929</td><td>5</td></tr>",
            "<tr><td>930</td><td>6</td></tr>",
            "<tr><td>931</td><td>2</td></tr>",
            "<tr><td>932</td><td>4</td></tr>",
            "<tr><td>933</td><td>5</td></tr>",
            "<tr><td>934</td><td>2</td></tr>",
            "<tr><td>935</td><td>2</td></tr>",
            "<tr><td>936</td><td>5</td></tr>",
            "<tr><td>937</td><td>3</td></tr>",
            "<tr><td>938</td><td>9</td></tr>",
            "<tr><td>939</td><td>4</td></tr>",
            "<tr><td>940</td><td>5</td></tr>",
            "<tr><td>941</td><td>5</td></tr>",
            "<tr><td>942</td><td>2</td></tr>",
            "<tr><td>943</td><td>2</td></tr>",
            "<tr><td>944</td><td>8</td></tr>",
            "<tr><td>945</td><td>8</td></tr>",
            "<tr><td>946</td><td>3</td></tr>",
            "<tr><td>947</td><td>5</td></tr>",
            "<tr><td>948</td><td>3</td></tr>",
            "<tr><td>949</td><td>5</td></tr>",
            "<tr><td>950</td><td>5</td></tr>",
            "<tr><td>951</td><td>5</td></tr>",
            "<tr><td>952</td><td>6</td></tr>",
            "<tr><td>953</td><td>9</td></tr>",
            "<tr><td>954</td><td>5</td></tr>",
            "<tr><td>955</td><td>5</td></tr>",
            "<tr><td>956</td><td>7</td></tr>",
            "<tr><td>957</td><td>9</td></tr>",
            "<tr><td>958</td><td>8</td></tr>",
            "<tr><td>959</td><td>6</td></tr>",
            "<tr><td>960</td><td>4</td></tr>",
            "<tr><td>961</td><td>5</td></tr>",
            "<tr><td>962</td><td>6</td></tr>",
            "<tr><td>963</td><td>5</td></tr>",
            "<tr><td>964</td><td>6</td></tr>",
            "<tr><td>965</td><td>6</td></tr>",
            "<tr><td>966</td><td>10</td></tr>",
            "<tr><td>967</td><td>10</td></tr>",
            "<tr><td>968</td><td>7</td></tr>",
            "<tr><td>969</td><td>9</td></tr>",
            "<tr><td>970</td><td>6</td></tr>",
            "<tr><td>971</td><td>5</td></tr>",
            "<tr><td>972</td><td>3</td></tr>",
            "<tr><td>973</td><td>6</td></tr>",
            "<tr><td>974</td><td>4</td></tr>",
            "<tr><td>975</td><td>2</td></tr>",
            "<tr><td>976</td><td>3</td></tr>",
            "<tr><td>977</td><td>4</td></tr>",
            "<tr><td>978</td><td>7</td></tr>",
            "<tr><td>979</td><td>4</td></tr>",
            "<tr><td>980</td><td>9</td></tr>",
            "<tr><td>981</td><td>6</td></tr>",
            "<tr><td>982</td><td>5</td></tr>",
            "<tr><td>983</td><td>5</td></tr>",
            "<tr><td>984</td><td>4</td></tr>",
            "<tr><td>985</td><td>5</td></tr>",
            "<tr><td>986</td><td>2</td></tr>",
            "<tr><td>987</td><td>6</td></tr>",
            "<tr><td>988</td><td>9</td></tr>",
            "<tr><td>989</td><td>5</td></tr>",
            "<tr><td>990</td><td>8</td></tr>",
            "<tr><td>991</td><td>4</td></tr>",
            "<tr><td>992</td><td>4</td></tr>",
            "<tr><td>993</td><td>9</td></tr>",
            "<tr><td>994</td><td>6</td></tr>",
            "<tr><td>995</td><td>1</td></tr>",
            "<tr><td>996</td><td>5</td></tr>",
            "<tr><td>997</td><td>5</td></tr>",
            "<tr><td>998</td><td>6</td></tr>",
            "<tr><td>999</td><td>5</td></tr>",
            "<tr><td>1000</td><td>3</td></tr>",
            "</table>"
        ]
    }
}
],
            "execution_count": 29
        }
    ]
}