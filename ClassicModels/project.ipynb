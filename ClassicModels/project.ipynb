{
    "metadata": {
        "kernelspec": {
            "name": "SQL",
            "display_name": "SQL",
            "language": "sql"
        },
        "language_info": {
            "name": "sql",
            "version": ""
        }
    },
    "nbformat_minor": 2,
    "nbformat": 4,
    "cells": [
        {
            "cell_type": "code",
            "source": [
                "use classicmodels"
            ],
            "metadata": {
                "azdata_cell_guid": "008ef45a-480e-451a-987e-7e0c5bd0fccf",
                "language": "sql"
            },
            "outputs": [
                {
                    "output_type": "display_data",
                    "data": {
                        "text/html": "Commands completed successfully"
                    },
                    "metadata": {}
                },
                {
                    "output_type": "display_data",
                    "data": {
                        "text/html": "Total execution time: 00:00:00"
                    },
                    "metadata": {}
                }
            ],
            "execution_count": 3
        },
        {
            "cell_type": "code",
            "source": [
                "select * from customers"
            ],
            "metadata": {
                "azdata_cell_guid": "24ce6751-3d4e-42cf-9539-e3243670e3d4",
                "language": "sql"
            },
            "outputs": [
                {
                    "output_type": "display_data",
                    "data": {
                        "text/html": "(122 row(s) affected)"
                    },
                    "metadata": {}
                },
                {
                    "output_type": "display_data",
                    "data": {
                        "text/html": "Total execution time: 00:00:01.028"
                    },
                    "metadata": {}
                },
                {
                    "output_type": "execute_result",
                    "metadata": {},
                    "execution_count": 14,
                    "data": {
                        "application/vnd.dataresource+json": {
                            "schema": {
                                "fields": [
                                    {
                                        "name": "customerNumber"
                                    },
                                    {
                                        "name": "customerName"
                                    },
                                    {
                                        "name": "contactLastName"
                                    },
                                    {
                                        "name": "contactFirstName"
                                    },
                                    {
                                        "name": "phone"
                                    },
                                    {
                                        "name": "addressLine1"
                                    },
                                    {
                                        "name": "addressLine2"
                                    },
                                    {
                                        "name": "city"
                                    },
                                    {
                                        "name": "state"
                                    },
                                    {
                                        "name": "postalCode"
                                    },
                                    {
                                        "name": "country"
                                    },
                                    {
                                        "name": "salesRepEmployeeNumber"
                                    },
                                    {
                                        "name": "creditLimit"
                                    }
                                ]
                            },
                            "data": [
                                {
                                    "customerNumber": "103",
                                    "customerName": "Atelier graphique",
                                    "contactLastName": "Schmitt",
                                    "contactFirstName": "Carine ",
                                    "phone": "40.32.2555",
                                    "addressLine1": "54, rue Royale",
                                    "addressLine2": "NULL",
                                    "city": "Nantes",
                                    "state": "NULL",
                                    "postalCode": "44000",
                                    "country": "France",
                                    "salesRepEmployeeNumber": "1370",
                                    "creditLimit": "21000.00"
                                },
                                {
                                    "customerNumber": "112",
                                    "customerName": "Signal Gift Stores",
                                    "contactLastName": "King",
                                    "contactFirstName": "Jean",
                                    "phone": "7025551838",
                                    "addressLine1": "8489 Strong St.",
                                    "addressLine2": "NULL",
                                    "city": "Las Vegas",
                                    "state": "NV",
                                    "postalCode": "83030",
                                    "country": "USA",
                                    "salesRepEmployeeNumber": "1166",
                                    "creditLimit": "71800.00"
                                },
                                {
                                    "customerNumber": "114",
                                    "customerName": "Australian Collectors, Co.",
                                    "contactLastName": "Ferguson",
                                    "contactFirstName": "Peter",
                                    "phone": "03 9520 4555",
                                    "addressLine1": "636 St Kilda Road",
                                    "addressLine2": "Level 3",
                                    "city": "Melbourne",
                                    "state": "Victoria",
                                    "postalCode": "3004",
                                    "country": "Australia",
                                    "salesRepEmployeeNumber": "1611",
                                    "creditLimit": "117300.00"
                                },
                                {
                                    "customerNumber": "119",
                                    "customerName": "La Rochelle Gifts",
                                    "contactLastName": "Labrune",
                                    "contactFirstName": "Janine ",
                                    "phone": "40.67.8555",
                                    "addressLine1": "67, rue des Cinquante Otages",
                                    "addressLine2": "NULL",
                                    "city": "Nantes",
                                    "state": "NULL",
                                    "postalCode": "44000",
                                    "country": "France",
                                    "salesRepEmployeeNumber": "1370",
                                    "creditLimit": "118200.00"
                                },
                                {
                                    "customerNumber": "121",
                                    "customerName": "Baane Mini Imports",
                                    "contactLastName": "Bergulfsen",
                                    "contactFirstName": "Jonas ",
                                    "phone": "07-98 9555",
                                    "addressLine1": "Erling Skakkes gate 78",
                                    "addressLine2": "NULL",
                                    "city": "Stavern",
                                    "state": "NULL",
                                    "postalCode": "4110",
                                    "country": "Norway",
                                    "salesRepEmployeeNumber": "1504",
                                    "creditLimit": "81700.00"
                                },
                                {
                                    "customerNumber": "124",
                                    "customerName": "Mini Gifts Distributors Ltd.",
                                    "contactLastName": "Nelson",
                                    "contactFirstName": "Susan",
                                    "phone": "4155551450",
                                    "addressLine1": "5677 Strong St.",
                                    "addressLine2": "NULL",
                                    "city": "San Rafael",
                                    "state": "CA",
                                    "postalCode": "97562",
                                    "country": "USA",
                                    "salesRepEmployeeNumber": "1165",
                                    "creditLimit": "210500.00"
                                },
                                {
                                    "customerNumber": "125",
                                    "customerName": "Havel & Zbyszek Co",
                                    "contactLastName": "Piestrzeniewicz",
                                    "contactFirstName": "Zbyszek ",
                                    "phone": "(26) 642-7555",
                                    "addressLine1": "ul. Filtrowa 68",
                                    "addressLine2": "NULL",
                                    "city": "Warszawa",
                                    "state": "NULL",
                                    "postalCode": "01-012",
                                    "country": "Poland",
                                    "salesRepEmployeeNumber": "NULL",
                                    "creditLimit": "0.00"
                                },
                                {
                                    "customerNumber": "128",
                                    "customerName": "Blauer See Auto, Co.",
                                    "contactLastName": "Keitel",
                                    "contactFirstName": "Roland",
                                    "phone": "+49 69 66 90 2555",
                                    "addressLine1": "Lyonerstr. 34",
                                    "addressLine2": "NULL",
                                    "city": "Frankfurt",
                                    "state": "NULL",
                                    "postalCode": "60528",
                                    "country": "Germany",
                                    "salesRepEmployeeNumber": "1504",
                                    "creditLimit": "59700.00"
                                },
                                {
                                    "customerNumber": "129",
                                    "customerName": "Mini Wheels Co.",
                                    "contactLastName": "Murphy",
                                    "contactFirstName": "Julie",
                                    "phone": "6505555787",
                                    "addressLine1": "5557 North Pendale Street",
                                    "addressLine2": "NULL",
                                    "city": "San Francisco",
                                    "state": "CA",
                                    "postalCode": "94217",
                                    "country": "USA",
                                    "salesRepEmployeeNumber": "1165",
                                    "creditLimit": "64600.00"
                                },
                                {
                                    "customerNumber": "131",
                                    "customerName": "Land of Toys Inc.",
                                    "contactLastName": "Lee",
                                    "contactFirstName": "Kwai",
                                    "phone": "2125557818",
                                    "addressLine1": "897 Long Airport Avenue",
                                    "addressLine2": "NULL",
                                    "city": "NYC",
                                    "state": "NY",
                                    "postalCode": "10022",
                                    "country": "USA",
                                    "salesRepEmployeeNumber": "1323",
                                    "creditLimit": "114900.00"
                                },
                                {
                                    "customerNumber": "141",
                                    "customerName": "Euro+ Shopping Channel",
                                    "contactLastName": "Freyre",
                                    "contactFirstName": "Diego ",
                                    "phone": "(91) 555 94 44",
                                    "addressLine1": "C/ Moralzarzal, 86",
                                    "addressLine2": "NULL",
                                    "city": "Madrid",
                                    "state": "NULL",
                                    "postalCode": "28034",
                                    "country": "Spain",
                                    "salesRepEmployeeNumber": "1370",
                                    "creditLimit": "227600.00"
                                },
                                {
                                    "customerNumber": "144",
                                    "customerName": "Volvo Model Replicas, Co",
                                    "contactLastName": "Berglund",
                                    "contactFirstName": "Christina ",
                                    "phone": "0921-12 3555",
                                    "addressLine1": "Berguvsvägen  8",
                                    "addressLine2": "NULL",
                                    "city": "Luleå",
                                    "state": "NULL",
                                    "postalCode": "S-958 22",
                                    "country": "Sweden",
                                    "salesRepEmployeeNumber": "1504",
                                    "creditLimit": "53100.00"
                                },
                                {
                                    "customerNumber": "145",
                                    "customerName": "Danish Wholesale Imports",
                                    "contactLastName": "Petersen",
                                    "contactFirstName": "Jytte ",
                                    "phone": "31 12 3555",
                                    "addressLine1": "Vinbæltet 34",
                                    "addressLine2": "NULL",
                                    "city": "Kobenhavn",
                                    "state": "NULL",
                                    "postalCode": "1734",
                                    "country": "Denmark",
                                    "salesRepEmployeeNumber": "1401",
                                    "creditLimit": "83400.00"
                                },
                                {
                                    "customerNumber": "146",
                                    "customerName": "Saveley & Henriot, Co.",
                                    "contactLastName": "Saveley",
                                    "contactFirstName": "Mary ",
                                    "phone": "78.32.5555",
                                    "addressLine1": "2, rue du Commerce",
                                    "addressLine2": "NULL",
                                    "city": "Lyon",
                                    "state": "NULL",
                                    "postalCode": "69004",
                                    "country": "France",
                                    "salesRepEmployeeNumber": "1337",
                                    "creditLimit": "123900.00"
                                },
                                {
                                    "customerNumber": "148",
                                    "customerName": "Dragon Souveniers, Ltd.",
                                    "contactLastName": "Natividad",
                                    "contactFirstName": "Eric",
                                    "phone": "+65 221 7555",
                                    "addressLine1": "Bronz Sok.",
                                    "addressLine2": "Bronz Apt. 3/6 Tesvikiye",
                                    "city": "Singapore",
                                    "state": "NULL",
                                    "postalCode": "079903",
                                    "country": "Singapore",
                                    "salesRepEmployeeNumber": "1621",
                                    "creditLimit": "103800.00"
                                },
                                {
                                    "customerNumber": "151",
                                    "customerName": "Muscle Machine Inc",
                                    "contactLastName": "Young",
                                    "contactFirstName": "Jeff",
                                    "phone": "2125557413",
                                    "addressLine1": "4092 Furth Circle",
                                    "addressLine2": "Suite 400",
                                    "city": "NYC",
                                    "state": "NY",
                                    "postalCode": "10022",
                                    "country": "USA",
                                    "salesRepEmployeeNumber": "1286",
                                    "creditLimit": "138500.00"
                                },
                                {
                                    "customerNumber": "157",
                                    "customerName": "Diecast Classics Inc.",
                                    "contactLastName": "Leong",
                                    "contactFirstName": "Kelvin",
                                    "phone": "2155551555",
                                    "addressLine1": "7586 Pompton St.",
                                    "addressLine2": "NULL",
                                    "city": "Allentown",
                                    "state": "PA",
                                    "postalCode": "70267",
                                    "country": "USA",
                                    "salesRepEmployeeNumber": "1216",
                                    "creditLimit": "100600.00"
                                },
                                {
                                    "customerNumber": "161",
                                    "customerName": "Technics Stores Inc.",
                                    "contactLastName": "Hashimoto",
                                    "contactFirstName": "Juri",
                                    "phone": "6505556809",
                                    "addressLine1": "9408 Furth Circle",
                                    "addressLine2": "NULL",
                                    "city": "Burlingame",
                                    "state": "CA",
                                    "postalCode": "94217",
                                    "country": "USA",
                                    "salesRepEmployeeNumber": "1165",
                                    "creditLimit": "84600.00"
                                },
                                {
                                    "customerNumber": "166",
                                    "customerName": "Handji Gifts& Co",
                                    "contactLastName": "Victorino",
                                    "contactFirstName": "Wendy",
                                    "phone": "+65 224 1555",
                                    "addressLine1": "106 Linden Road Sandown",
                                    "addressLine2": "2nd Floor",
                                    "city": "Singapore",
                                    "state": "NULL",
                                    "postalCode": "069045",
                                    "country": "Singapore",
                                    "salesRepEmployeeNumber": "1612",
                                    "creditLimit": "97900.00"
                                },
                                {
                                    "customerNumber": "167",
                                    "customerName": "Herkku Gifts",
                                    "contactLastName": "Oeztan",
                                    "contactFirstName": "Veysel",
                                    "phone": "+47 2267 3215",
                                    "addressLine1": "Brehmen St. 121",
                                    "addressLine2": "PR 334 Sentrum",
                                    "city": "Bergen",
                                    "state": "NULL",
                                    "postalCode": "N 5804",
                                    "country": "Norway  ",
                                    "salesRepEmployeeNumber": "1504",
                                    "creditLimit": "96800.00"
                                },
                                {
                                    "customerNumber": "168",
                                    "customerName": "American Souvenirs Inc",
                                    "contactLastName": "Franco",
                                    "contactFirstName": "Keith",
                                    "phone": "2035557845",
                                    "addressLine1": "149 Spinnaker Dr.",
                                    "addressLine2": "Suite 101",
                                    "city": "New Haven",
                                    "state": "CT",
                                    "postalCode": "97823",
                                    "country": "USA",
                                    "salesRepEmployeeNumber": "1286",
                                    "creditLimit": "0.00"
                                },
                                {
                                    "customerNumber": "169",
                                    "customerName": "Porto Imports Co.",
                                    "contactLastName": "de Castro",
                                    "contactFirstName": "Isabel ",
                                    "phone": "(1) 356-5555",
                                    "addressLine1": "Estrada da saúde n. 58",
                                    "addressLine2": "NULL",
                                    "city": "Lisboa",
                                    "state": "NULL",
                                    "postalCode": "1756",
                                    "country": "Portugal",
                                    "salesRepEmployeeNumber": "NULL",
                                    "creditLimit": "0.00"
                                },
                                {
                                    "customerNumber": "171",
                                    "customerName": "Daedalus Designs Imports",
                                    "contactLastName": "Rancé",
                                    "contactFirstName": "Martine ",
                                    "phone": "20.16.1555",
                                    "addressLine1": "184, chaussée de Tournai",
                                    "addressLine2": "NULL",
                                    "city": "Lille",
                                    "state": "NULL",
                                    "postalCode": "59000",
                                    "country": "France",
                                    "salesRepEmployeeNumber": "1370",
                                    "creditLimit": "82900.00"
                                },
                                {
                                    "customerNumber": "172",
                                    "customerName": "La Corne D'abondance, Co.",
                                    "contactLastName": "Bertrand",
                                    "contactFirstName": "Marie",
                                    "phone": "(1) 42.34.2555",
                                    "addressLine1": "265, boulevard Charonne",
                                    "addressLine2": "NULL",
                                    "city": "Paris",
                                    "state": "NULL",
                                    "postalCode": "75012",
                                    "country": "France",
                                    "salesRepEmployeeNumber": "1337",
                                    "creditLimit": "84300.00"
                                },
                                {
                                    "customerNumber": "173",
                                    "customerName": "Cambridge Collectables Co.",
                                    "contactLastName": "Tseng",
                                    "contactFirstName": "Jerry",
                                    "phone": "6175555555",
                                    "addressLine1": "4658 Baden Av.",
                                    "addressLine2": "NULL",
                                    "city": "Cambridge",
                                    "state": "MA",
                                    "postalCode": "51247",
                                    "country": "USA",
                                    "salesRepEmployeeNumber": "1188",
                                    "creditLimit": "43400.00"
                                },
                                {
                                    "customerNumber": "175",
                                    "customerName": "Gift Depot Inc.",
                                    "contactLastName": "King",
                                    "contactFirstName": "Julie",
                                    "phone": "2035552570",
                                    "addressLine1": "25593 South Bay Ln.",
                                    "addressLine2": "NULL",
                                    "city": "Bridgewater",
                                    "state": "CT",
                                    "postalCode": "97562",
                                    "country": "USA",
                                    "salesRepEmployeeNumber": "1323",
                                    "creditLimit": "84300.00"
                                },
                                {
                                    "customerNumber": "177",
                                    "customerName": "Osaka Souveniers Co.",
                                    "contactLastName": "Kentary",
                                    "contactFirstName": "Mory",
                                    "phone": "+81 06 6342 5555",
                                    "addressLine1": "1-6-20 Dojima",
                                    "addressLine2": "NULL",
                                    "city": "Kita-ku",
                                    "state": "Osaka",
                                    "postalCode": " 530-0003",
                                    "country": "Japan",
                                    "salesRepEmployeeNumber": "1621",
                                    "creditLimit": "81200.00"
                                },
                                {
                                    "customerNumber": "181",
                                    "customerName": "Vitachrome Inc.",
                                    "contactLastName": "Frick",
                                    "contactFirstName": "Michael",
                                    "phone": "2125551500",
                                    "addressLine1": "2678 Kingston Rd.",
                                    "addressLine2": "Suite 101",
                                    "city": "NYC",
                                    "state": "NY",
                                    "postalCode": "10022",
                                    "country": "USA",
                                    "salesRepEmployeeNumber": "1286",
                                    "creditLimit": "76400.00"
                                },
                                {
                                    "customerNumber": "186",
                                    "customerName": "Toys of Finland, Co.",
                                    "contactLastName": "Karttunen",
                                    "contactFirstName": "Matti",
                                    "phone": "90-224 8555",
                                    "addressLine1": "Keskuskatu 45",
                                    "addressLine2": "NULL",
                                    "city": "Helsinki",
                                    "state": "NULL",
                                    "postalCode": "21240",
                                    "country": "Finland",
                                    "salesRepEmployeeNumber": "1501",
                                    "creditLimit": "96500.00"
                                },
                                {
                                    "customerNumber": "187",
                                    "customerName": "AV Stores, Co.",
                                    "contactLastName": "Ashworth",
                                    "contactFirstName": "Rachel",
                                    "phone": "(171) 555-1555",
                                    "addressLine1": "Fauntleroy Circus",
                                    "addressLine2": "NULL",
                                    "city": "Manchester",
                                    "state": "NULL",
                                    "postalCode": "EC2 5NT",
                                    "country": "UK",
                                    "salesRepEmployeeNumber": "1501",
                                    "creditLimit": "136800.00"
                                },
                                {
                                    "customerNumber": "189",
                                    "customerName": "Clover Collections, Co.",
                                    "contactLastName": "Cassidy",
                                    "contactFirstName": "Dean",
                                    "phone": "+353 1862 1555",
                                    "addressLine1": "25 Maiden Lane",
                                    "addressLine2": "Floor No. 4",
                                    "city": "Dublin",
                                    "state": "NULL",
                                    "postalCode": "2",
                                    "country": "Ireland",
                                    "salesRepEmployeeNumber": "1504",
                                    "creditLimit": "69400.00"
                                },
                                {
                                    "customerNumber": "198",
                                    "customerName": "Auto-Moto Classics Inc.",
                                    "contactLastName": "Taylor",
                                    "contactFirstName": "Leslie",
                                    "phone": "6175558428",
                                    "addressLine1": "16780 Pompton St.",
                                    "addressLine2": "NULL",
                                    "city": "Brickhaven",
                                    "state": "MA",
                                    "postalCode": "58339",
                                    "country": "USA",
                                    "salesRepEmployeeNumber": "1216",
                                    "creditLimit": "23000.00"
                                },
                                {
                                    "customerNumber": "201",
                                    "customerName": "UK Collectables, Ltd.",
                                    "contactLastName": "Devon",
                                    "contactFirstName": "Elizabeth",
                                    "phone": "(171) 555-2282",
                                    "addressLine1": "12, Berkeley Gardens Blvd",
                                    "addressLine2": "NULL",
                                    "city": "Liverpool",
                                    "state": "NULL",
                                    "postalCode": "WX1 6LT",
                                    "country": "UK",
                                    "salesRepEmployeeNumber": "1501",
                                    "creditLimit": "92700.00"
                                },
                                {
                                    "customerNumber": "202",
                                    "customerName": "Canadian Gift Exchange Network",
                                    "contactLastName": "Tamuri",
                                    "contactFirstName": "Yoshi ",
                                    "phone": "(604) 555-3392",
                                    "addressLine1": "1900 Oak St.",
                                    "addressLine2": "NULL",
                                    "city": "Vancouver",
                                    "state": "BC",
                                    "postalCode": "V3F 2K1",
                                    "country": "Canada",
                                    "salesRepEmployeeNumber": "1323",
                                    "creditLimit": "90300.00"
                                },
                                {
                                    "customerNumber": "204",
                                    "customerName": "Online Mini Collectables",
                                    "contactLastName": "Barajas",
                                    "contactFirstName": "Miguel",
                                    "phone": "6175557555",
                                    "addressLine1": "7635 Spinnaker Dr.",
                                    "addressLine2": "NULL",
                                    "city": "Brickhaven",
                                    "state": "MA",
                                    "postalCode": "58339",
                                    "country": "USA",
                                    "salesRepEmployeeNumber": "1188",
                                    "creditLimit": "68700.00"
                                },
                                {
                                    "customerNumber": "205",
                                    "customerName": "Toys4GrownUps.com",
                                    "contactLastName": "Young",
                                    "contactFirstName": "Julie",
                                    "phone": "6265557265",
                                    "addressLine1": "78934 Hillside Dr.",
                                    "addressLine2": "NULL",
                                    "city": "Pasadena",
                                    "state": "CA",
                                    "postalCode": "90003",
                                    "country": "USA",
                                    "salesRepEmployeeNumber": "1166",
                                    "creditLimit": "90700.00"
                                },
                                {
                                    "customerNumber": "206",
                                    "customerName": "Asian Shopping Network, Co",
                                    "contactLastName": "Walker",
                                    "contactFirstName": "Brydey",
                                    "phone": "+612 9411 1555",
                                    "addressLine1": "Suntec Tower Three",
                                    "addressLine2": "8 Temasek",
                                    "city": "Singapore",
                                    "state": "NULL",
                                    "postalCode": "038988",
                                    "country": "Singapore",
                                    "salesRepEmployeeNumber": "NULL",
                                    "creditLimit": "0.00"
                                },
                                {
                                    "customerNumber": "209",
                                    "customerName": "Mini Caravy",
                                    "contactLastName": "Citeaux",
                                    "contactFirstName": "Frédérique ",
                                    "phone": "88.60.1555",
                                    "addressLine1": "24, place Kléber",
                                    "addressLine2": "NULL",
                                    "city": "Strasbourg",
                                    "state": "NULL",
                                    "postalCode": "67000",
                                    "country": "France",
                                    "salesRepEmployeeNumber": "1370",
                                    "creditLimit": "53800.00"
                                },
                                {
                                    "customerNumber": "211",
                                    "customerName": "King Kong Collectables, Co.",
                                    "contactLastName": "Gao",
                                    "contactFirstName": "Mike",
                                    "phone": "+852 2251 1555",
                                    "addressLine1": "Bank of China Tower",
                                    "addressLine2": "1 Garden Road",
                                    "city": "Central Hong Kong",
                                    "state": "NULL",
                                    "postalCode": "NULL",
                                    "country": "Hong Kong",
                                    "salesRepEmployeeNumber": "1621",
                                    "creditLimit": "58600.00"
                                },
                                {
                                    "customerNumber": "216",
                                    "customerName": "Enaco Distributors",
                                    "contactLastName": "Saavedra",
                                    "contactFirstName": "Eduardo ",
                                    "phone": "(93) 203 4555",
                                    "addressLine1": "Rambla de Cataluña, 23",
                                    "addressLine2": "NULL",
                                    "city": "Barcelona",
                                    "state": "NULL",
                                    "postalCode": "08022",
                                    "country": "Spain",
                                    "salesRepEmployeeNumber": "1702",
                                    "creditLimit": "60300.00"
                                },
                                {
                                    "customerNumber": "219",
                                    "customerName": "Boards & Toys Co.",
                                    "contactLastName": "Young",
                                    "contactFirstName": "Mary",
                                    "phone": "3105552373",
                                    "addressLine1": "4097 Douglas Av.",
                                    "addressLine2": "NULL",
                                    "city": "Glendale",
                                    "state": "CA",
                                    "postalCode": "92561",
                                    "country": "USA",
                                    "salesRepEmployeeNumber": "1166",
                                    "creditLimit": "11000.00"
                                },
                                {
                                    "customerNumber": "223",
                                    "customerName": "Natürlich Autos",
                                    "contactLastName": "Kloss",
                                    "contactFirstName": "Horst ",
                                    "phone": "0372-555188",
                                    "addressLine1": "Taucherstraße 10",
                                    "addressLine2": "NULL",
                                    "city": "Cunewalde",
                                    "state": "NULL",
                                    "postalCode": "01307",
                                    "country": "Germany",
                                    "salesRepEmployeeNumber": "NULL",
                                    "creditLimit": "0.00"
                                },
                                {
                                    "customerNumber": "227",
                                    "customerName": "Heintze Collectables",
                                    "contactLastName": "Ibsen",
                                    "contactFirstName": "Palle",
                                    "phone": "86 21 3555",
                                    "addressLine1": "Smagsloget 45",
                                    "addressLine2": "NULL",
                                    "city": "Århus",
                                    "state": "NULL",
                                    "postalCode": "8200",
                                    "country": "Denmark",
                                    "salesRepEmployeeNumber": "1401",
                                    "creditLimit": "120800.00"
                                },
                                {
                                    "customerNumber": "233",
                                    "customerName": "Québec Home Shopping Network",
                                    "contactLastName": "Fresnière",
                                    "contactFirstName": "Jean ",
                                    "phone": "(514) 555-8054",
                                    "addressLine1": "43 rue St. Laurent",
                                    "addressLine2": "NULL",
                                    "city": "Montréal",
                                    "state": "Québec",
                                    "postalCode": "H1J 1C3",
                                    "country": "Canada",
                                    "salesRepEmployeeNumber": "1286",
                                    "creditLimit": "48700.00"
                                },
                                {
                                    "customerNumber": "237",
                                    "customerName": "ANG Resellers",
                                    "contactLastName": "Camino",
                                    "contactFirstName": "Alejandra ",
                                    "phone": "(91) 745 6555",
                                    "addressLine1": "Gran Vía, 1",
                                    "addressLine2": "NULL",
                                    "city": "Madrid",
                                    "state": "NULL",
                                    "postalCode": "28001",
                                    "country": "Spain",
                                    "salesRepEmployeeNumber": "NULL",
                                    "creditLimit": "0.00"
                                },
                                {
                                    "customerNumber": "239",
                                    "customerName": "Collectable Mini Designs Co.",
                                    "contactLastName": "Thompson",
                                    "contactFirstName": "Valarie",
                                    "phone": "7605558146",
                                    "addressLine1": "361 Furth Circle",
                                    "addressLine2": "NULL",
                                    "city": "San Diego",
                                    "state": "CA",
                                    "postalCode": "91217",
                                    "country": "USA",
                                    "salesRepEmployeeNumber": "1166",
                                    "creditLimit": "105000.00"
                                },
                                {
                                    "customerNumber": "240",
                                    "customerName": "giftsbymail.co.uk",
                                    "contactLastName": "Bennett",
                                    "contactFirstName": "Helen ",
                                    "phone": "(198) 555-8888",
                                    "addressLine1": "Garden House",
                                    "addressLine2": "Crowther Way 23",
                                    "city": "Cowes",
                                    "state": "Isle of Wight",
                                    "postalCode": "PO31 7PJ",
                                    "country": "UK",
                                    "salesRepEmployeeNumber": "1501",
                                    "creditLimit": "93900.00"
                                },
                                {
                                    "customerNumber": "242",
                                    "customerName": "Alpha Cognac",
                                    "contactLastName": "Roulet",
                                    "contactFirstName": "Annette ",
                                    "phone": "61.77.6555",
                                    "addressLine1": "1 rue Alsace-Lorraine",
                                    "addressLine2": "NULL",
                                    "city": "Toulouse",
                                    "state": "NULL",
                                    "postalCode": "31000",
                                    "country": "France",
                                    "salesRepEmployeeNumber": "1370",
                                    "creditLimit": "61100.00"
                                },
                                {
                                    "customerNumber": "247",
                                    "customerName": "Messner Shopping Network",
                                    "contactLastName": "Messner",
                                    "contactFirstName": "Renate ",
                                    "phone": "069-0555984",
                                    "addressLine1": "Magazinweg 7",
                                    "addressLine2": "NULL",
                                    "city": "Frankfurt",
                                    "state": "NULL",
                                    "postalCode": "60528",
                                    "country": "Germany",
                                    "salesRepEmployeeNumber": "NULL",
                                    "creditLimit": "0.00"
                                },
                                {
                                    "customerNumber": "249",
                                    "customerName": "Amica Models & Co.",
                                    "contactLastName": "Accorti",
                                    "contactFirstName": "Paolo ",
                                    "phone": "011-4988555",
                                    "addressLine1": "Via Monte Bianco 34",
                                    "addressLine2": "NULL",
                                    "city": "Torino",
                                    "state": "NULL",
                                    "postalCode": "10100",
                                    "country": "Italy",
                                    "salesRepEmployeeNumber": "1401",
                                    "creditLimit": "113000.00"
                                },
                                {
                                    "customerNumber": "250",
                                    "customerName": "Lyon Souveniers",
                                    "contactLastName": "Da Silva",
                                    "contactFirstName": "Daniel",
                                    "phone": "+33 1 46 62 7555",
                                    "addressLine1": "27 rue du Colonel Pierre Avia",
                                    "addressLine2": "NULL",
                                    "city": "Paris",
                                    "state": "NULL",
                                    "postalCode": "75508",
                                    "country": "France",
                                    "salesRepEmployeeNumber": "1337",
                                    "creditLimit": "68100.00"
                                },
                                {
                                    "customerNumber": "256",
                                    "customerName": "Auto Associés & Cie.",
                                    "contactLastName": "Tonini",
                                    "contactFirstName": "Daniel ",
                                    "phone": "30.59.8555",
                                    "addressLine1": "67, avenue de l'Europe",
                                    "addressLine2": "NULL",
                                    "city": "Versailles",
                                    "state": "NULL",
                                    "postalCode": "78000",
                                    "country": "France",
                                    "salesRepEmployeeNumber": "1370",
                                    "creditLimit": "77900.00"
                                },
                                {
                                    "customerNumber": "259",
                                    "customerName": "Toms Spezialitäten, Ltd",
                                    "contactLastName": "Pfalzheim",
                                    "contactFirstName": "Henriette ",
                                    "phone": "0221-5554327",
                                    "addressLine1": "Mehrheimerstr. 369",
                                    "addressLine2": "NULL",
                                    "city": "Köln",
                                    "state": "NULL",
                                    "postalCode": "50739",
                                    "country": "Germany",
                                    "salesRepEmployeeNumber": "1504",
                                    "creditLimit": "120400.00"
                                },
                                {
                                    "customerNumber": "260",
                                    "customerName": "Royal Canadian Collectables, Ltd.",
                                    "contactLastName": "Lincoln",
                                    "contactFirstName": "Elizabeth ",
                                    "phone": "(604) 555-4555",
                                    "addressLine1": "23 Tsawassen Blvd.",
                                    "addressLine2": "NULL",
                                    "city": "Tsawassen",
                                    "state": "BC",
                                    "postalCode": "T2F 8M4",
                                    "country": "Canada",
                                    "salesRepEmployeeNumber": "1323",
                                    "creditLimit": "89600.00"
                                },
                                {
                                    "customerNumber": "273",
                                    "customerName": "Franken Gifts, Co",
                                    "contactLastName": "Franken",
                                    "contactFirstName": "Peter ",
                                    "phone": "089-0877555",
                                    "addressLine1": "Berliner Platz 43",
                                    "addressLine2": "NULL",
                                    "city": "München",
                                    "state": "NULL",
                                    "postalCode": "80805",
                                    "country": "Germany",
                                    "salesRepEmployeeNumber": "NULL",
                                    "creditLimit": "0.00"
                                },
                                {
                                    "customerNumber": "276",
                                    "customerName": "Anna's Decorations, Ltd",
                                    "contactLastName": "O'Hara",
                                    "contactFirstName": "Anna",
                                    "phone": "02 9936 8555",
                                    "addressLine1": "201 Miller Street",
                                    "addressLine2": "Level 15",
                                    "city": "North Sydney",
                                    "state": "NSW",
                                    "postalCode": "2060",
                                    "country": "Australia",
                                    "salesRepEmployeeNumber": "1611",
                                    "creditLimit": "107800.00"
                                },
                                {
                                    "customerNumber": "278",
                                    "customerName": "Rovelli Gifts",
                                    "contactLastName": "Rovelli",
                                    "contactFirstName": "Giovanni ",
                                    "phone": "035-640555",
                                    "addressLine1": "Via Ludovico il Moro 22",
                                    "addressLine2": "NULL",
                                    "city": "Bergamo",
                                    "state": "NULL",
                                    "postalCode": "24100",
                                    "country": "Italy",
                                    "salesRepEmployeeNumber": "1401",
                                    "creditLimit": "119600.00"
                                },
                                {
                                    "customerNumber": "282",
                                    "customerName": "Souveniers And Things Co.",
                                    "contactLastName": "Huxley",
                                    "contactFirstName": "Adrian",
                                    "phone": "+61 2 9495 8555",
                                    "addressLine1": "Monitor Money Building",
                                    "addressLine2": "815 Pacific Hwy",
                                    "city": "Chatswood",
                                    "state": "NSW",
                                    "postalCode": "2067",
                                    "country": "Australia",
                                    "salesRepEmployeeNumber": "1611",
                                    "creditLimit": "93300.00"
                                },
                                {
                                    "customerNumber": "286",
                                    "customerName": "Marta's Replicas Co.",
                                    "contactLastName": "Hernandez",
                                    "contactFirstName": "Marta",
                                    "phone": "6175558555",
                                    "addressLine1": "39323 Spinnaker Dr.",
                                    "addressLine2": "NULL",
                                    "city": "Cambridge",
                                    "state": "MA",
                                    "postalCode": "51247",
                                    "country": "USA",
                                    "salesRepEmployeeNumber": "1216",
                                    "creditLimit": "123700.00"
                                },
                                {
                                    "customerNumber": "293",
                                    "customerName": "BG&E Collectables",
                                    "contactLastName": "Harrison",
                                    "contactFirstName": "Ed",
                                    "phone": "+41 26 425 50 01",
                                    "addressLine1": "Rte des Arsenaux 41 ",
                                    "addressLine2": "NULL",
                                    "city": "Fribourg",
                                    "state": "NULL",
                                    "postalCode": "1700",
                                    "country": "Switzerland",
                                    "salesRepEmployeeNumber": "NULL",
                                    "creditLimit": "0.00"
                                },
                                {
                                    "customerNumber": "298",
                                    "customerName": "Vida Sport, Ltd",
                                    "contactLastName": "Holz",
                                    "contactFirstName": "Mihael",
                                    "phone": "0897-034555",
                                    "addressLine1": "Grenzacherweg 237",
                                    "addressLine2": "NULL",
                                    "city": "Genève",
                                    "state": "NULL",
                                    "postalCode": "1203",
                                    "country": "Switzerland",
                                    "salesRepEmployeeNumber": "1702",
                                    "creditLimit": "141300.00"
                                },
                                {
                                    "customerNumber": "299",
                                    "customerName": "Norway Gifts By Mail, Co.",
                                    "contactLastName": "Klaeboe",
                                    "contactFirstName": "Jan",
                                    "phone": "+47 2212 1555",
                                    "addressLine1": "Drammensveien 126A",
                                    "addressLine2": "PB 211 Sentrum",
                                    "city": "Oslo",
                                    "state": "NULL",
                                    "postalCode": "N 0106",
                                    "country": "Norway  ",
                                    "salesRepEmployeeNumber": "1504",
                                    "creditLimit": "95100.00"
                                },
                                {
                                    "customerNumber": "303",
                                    "customerName": "Schuyler Imports",
                                    "contactLastName": "Schuyler",
                                    "contactFirstName": "Bradley",
                                    "phone": "+31 20 491 9555",
                                    "addressLine1": "Kingsfordweg 151",
                                    "addressLine2": "NULL",
                                    "city": "Amsterdam",
                                    "state": "NULL",
                                    "postalCode": "1043 GR",
                                    "country": "Netherlands",
                                    "salesRepEmployeeNumber": "NULL",
                                    "creditLimit": "0.00"
                                },
                                {
                                    "customerNumber": "307",
                                    "customerName": "Der Hund Imports",
                                    "contactLastName": "Andersen",
                                    "contactFirstName": "Mel",
                                    "phone": "030-0074555",
                                    "addressLine1": "Obere Str. 57",
                                    "addressLine2": "NULL",
                                    "city": "Berlin",
                                    "state": "NULL",
                                    "postalCode": "12209",
                                    "country": "Germany",
                                    "salesRepEmployeeNumber": "NULL",
                                    "creditLimit": "0.00"
                                },
                                {
                                    "customerNumber": "311",
                                    "customerName": "Oulu Toy Supplies, Inc.",
                                    "contactLastName": "Koskitalo",
                                    "contactFirstName": "Pirkko",
                                    "phone": "981-443655",
                                    "addressLine1": "Torikatu 38",
                                    "addressLine2": "NULL",
                                    "city": "Oulu",
                                    "state": "NULL",
                                    "postalCode": "90110",
                                    "country": "Finland",
                                    "salesRepEmployeeNumber": "1501",
                                    "creditLimit": "90500.00"
                                },
                                {
                                    "customerNumber": "314",
                                    "customerName": "Petit Auto",
                                    "contactLastName": "Dewey",
                                    "contactFirstName": "Catherine ",
                                    "phone": "(02) 5554 67",
                                    "addressLine1": "Rue Joseph-Bens 532",
                                    "addressLine2": "NULL",
                                    "city": "Bruxelles",
                                    "state": "NULL",
                                    "postalCode": "B-1180",
                                    "country": "Belgium",
                                    "salesRepEmployeeNumber": "1401",
                                    "creditLimit": "79900.00"
                                },
                                {
                                    "customerNumber": "319",
                                    "customerName": "Mini Classics",
                                    "contactLastName": "Frick",
                                    "contactFirstName": "Steve",
                                    "phone": "9145554562",
                                    "addressLine1": "3758 North Pendale Street",
                                    "addressLine2": "NULL",
                                    "city": "White Plains",
                                    "state": "NY",
                                    "postalCode": "24067",
                                    "country": "USA",
                                    "salesRepEmployeeNumber": "1323",
                                    "creditLimit": "102700.00"
                                },
                                {
                                    "customerNumber": "320",
                                    "customerName": "Mini Creations Ltd.",
                                    "contactLastName": "Huang",
                                    "contactFirstName": "Wing",
                                    "phone": "5085559555",
                                    "addressLine1": "4575 Hillside Dr.",
                                    "addressLine2": "NULL",
                                    "city": "New Bedford",
                                    "state": "MA",
                                    "postalCode": "50553",
                                    "country": "USA",
                                    "salesRepEmployeeNumber": "1188",
                                    "creditLimit": "94500.00"
                                },
                                {
                                    "customerNumber": "321",
                                    "customerName": "Corporate Gift Ideas Co.",
                                    "contactLastName": "Brown",
                                    "contactFirstName": "Julie",
                                    "phone": "6505551386",
                                    "addressLine1": "7734 Strong St.",
                                    "addressLine2": "NULL",
                                    "city": "San Francisco",
                                    "state": "CA",
                                    "postalCode": "94217",
                                    "country": "USA",
                                    "salesRepEmployeeNumber": "1165",
                                    "creditLimit": "105000.00"
                                },
                                {
                                    "customerNumber": "323",
                                    "customerName": "Down Under Souveniers, Inc",
                                    "contactLastName": "Graham",
                                    "contactFirstName": "Mike",
                                    "phone": "+64 9 312 5555",
                                    "addressLine1": "162-164 Grafton Road",
                                    "addressLine2": "Level 2",
                                    "city": "Auckland  ",
                                    "state": "NULL",
                                    "postalCode": "NULL",
                                    "country": "New Zealand",
                                    "salesRepEmployeeNumber": "1612",
                                    "creditLimit": "88000.00"
                                },
                                {
                                    "customerNumber": "324",
                                    "customerName": "Stylish Desk Decors, Co.",
                                    "contactLastName": "Brown",
                                    "contactFirstName": "Ann ",
                                    "phone": "(171) 555-0297",
                                    "addressLine1": "35 King George",
                                    "addressLine2": "NULL",
                                    "city": "London",
                                    "state": "NULL",
                                    "postalCode": "WX3 6FW",
                                    "country": "UK",
                                    "salesRepEmployeeNumber": "1501",
                                    "creditLimit": "77000.00"
                                },
                                {
                                    "customerNumber": "328",
                                    "customerName": "Tekni Collectables Inc.",
                                    "contactLastName": "Brown",
                                    "contactFirstName": "William",
                                    "phone": "2015559350",
                                    "addressLine1": "7476 Moss Rd.",
                                    "addressLine2": "NULL",
                                    "city": "Newark",
                                    "state": "NJ",
                                    "postalCode": "94019",
                                    "country": "USA",
                                    "salesRepEmployeeNumber": "1323",
                                    "creditLimit": "43000.00"
                                },
                                {
                                    "customerNumber": "333",
                                    "customerName": "Australian Gift Network, Co",
                                    "contactLastName": "Calaghan",
                                    "contactFirstName": "Ben",
                                    "phone": "61-7-3844-6555",
                                    "addressLine1": "31 Duncan St. West End",
                                    "addressLine2": "NULL",
                                    "city": "South Brisbane",
                                    "state": "Queensland",
                                    "postalCode": "4101",
                                    "country": "Australia",
                                    "salesRepEmployeeNumber": "1611",
                                    "creditLimit": "51600.00"
                                },
                                {
                                    "customerNumber": "334",
                                    "customerName": "Suominen Souveniers",
                                    "contactLastName": "Suominen",
                                    "contactFirstName": "Kalle",
                                    "phone": "+358 9 8045 555",
                                    "addressLine1": "Software Engineering Center",
                                    "addressLine2": "SEC Oy",
                                    "city": "Espoo",
                                    "state": "NULL",
                                    "postalCode": "FIN-02271",
                                    "country": "Finland",
                                    "salesRepEmployeeNumber": "1501",
                                    "creditLimit": "98800.00"
                                },
                                {
                                    "customerNumber": "335",
                                    "customerName": "Cramer Spezialitäten, Ltd",
                                    "contactLastName": "Cramer",
                                    "contactFirstName": "Philip ",
                                    "phone": "0555-09555",
                                    "addressLine1": "Maubelstr. 90",
                                    "addressLine2": "NULL",
                                    "city": "Brandenburg",
                                    "state": "NULL",
                                    "postalCode": "14776",
                                    "country": "Germany",
                                    "salesRepEmployeeNumber": "NULL",
                                    "creditLimit": "0.00"
                                },
                                {
                                    "customerNumber": "339",
                                    "customerName": "Classic Gift Ideas, Inc",
                                    "contactLastName": "Cervantes",
                                    "contactFirstName": "Francisca",
                                    "phone": "2155554695",
                                    "addressLine1": "782 First Street",
                                    "addressLine2": "NULL",
                                    "city": "Philadelphia",
                                    "state": "PA",
                                    "postalCode": "71270",
                                    "country": "USA",
                                    "salesRepEmployeeNumber": "1188",
                                    "creditLimit": "81100.00"
                                },
                                {
                                    "customerNumber": "344",
                                    "customerName": "CAF Imports",
                                    "contactLastName": "Fernandez",
                                    "contactFirstName": "Jesus",
                                    "phone": "+34 913 728 555",
                                    "addressLine1": "Merchants House",
                                    "addressLine2": "27-30 Merchant's Quay",
                                    "city": "Madrid",
                                    "state": "NULL",
                                    "postalCode": "28023",
                                    "country": "Spain",
                                    "salesRepEmployeeNumber": "1702",
                                    "creditLimit": "59600.00"
                                },
                                {
                                    "customerNumber": "347",
                                    "customerName": "Men 'R' US Retailers, Ltd.",
                                    "contactLastName": "Chandler",
                                    "contactFirstName": "Brian",
                                    "phone": "2155554369",
                                    "addressLine1": "6047 Douglas Av.",
                                    "addressLine2": "NULL",
                                    "city": "Los Angeles",
                                    "state": "CA",
                                    "postalCode": "91003",
                                    "country": "USA",
                                    "salesRepEmployeeNumber": "1166",
                                    "creditLimit": "57700.00"
                                },
                                {
                                    "customerNumber": "348",
                                    "customerName": "Asian Treasures, Inc.",
                                    "contactLastName": "McKenna",
                                    "contactFirstName": "Patricia ",
                                    "phone": "2967 555",
                                    "addressLine1": "8 Johnstown Road",
                                    "addressLine2": "NULL",
                                    "city": "Cork",
                                    "state": "Co. Cork",
                                    "postalCode": "NULL",
                                    "country": "Ireland",
                                    "salesRepEmployeeNumber": "NULL",
                                    "creditLimit": "0.00"
                                },
                                {
                                    "customerNumber": "350",
                                    "customerName": "Marseille Mini Autos",
                                    "contactLastName": "Lebihan",
                                    "contactFirstName": "Laurence ",
                                    "phone": "91.24.4555",
                                    "addressLine1": "12, rue des Bouchers",
                                    "addressLine2": "NULL",
                                    "city": "Marseille",
                                    "state": "NULL",
                                    "postalCode": "13008",
                                    "country": "France",
                                    "salesRepEmployeeNumber": "1337",
                                    "creditLimit": "65000.00"
                                },
                                {
                                    "customerNumber": "353",
                                    "customerName": "Reims Collectables",
                                    "contactLastName": "Henriot",
                                    "contactFirstName": "Paul ",
                                    "phone": "26.47.1555",
                                    "addressLine1": "59 rue de l'Abbaye",
                                    "addressLine2": "NULL",
                                    "city": "Reims",
                                    "state": "NULL",
                                    "postalCode": "51100",
                                    "country": "France",
                                    "salesRepEmployeeNumber": "1337",
                                    "creditLimit": "81100.00"
                                },
                                {
                                    "customerNumber": "356",
                                    "customerName": "SAR Distributors, Co",
                                    "contactLastName": "Kuger",
                                    "contactFirstName": "Armand",
                                    "phone": "+27 21 550 3555",
                                    "addressLine1": "1250 Pretorius Street",
                                    "addressLine2": "NULL",
                                    "city": "Hatfield",
                                    "state": "Pretoria",
                                    "postalCode": "0028",
                                    "country": "South Africa",
                                    "salesRepEmployeeNumber": "NULL",
                                    "creditLimit": "0.00"
                                },
                                {
                                    "customerNumber": "357",
                                    "customerName": "GiftsForHim.com",
                                    "contactLastName": "MacKinlay",
                                    "contactFirstName": "Wales",
                                    "phone": "64-9-3763555",
                                    "addressLine1": "199 Great North Road",
                                    "addressLine2": "NULL",
                                    "city": "Auckland",
                                    "state": "NULL",
                                    "postalCode": "NULL",
                                    "country": "New Zealand",
                                    "salesRepEmployeeNumber": "1612",
                                    "creditLimit": "77700.00"
                                },
                                {
                                    "customerNumber": "361",
                                    "customerName": "Kommission Auto",
                                    "contactLastName": "Josephs",
                                    "contactFirstName": "Karin",
                                    "phone": "0251-555259",
                                    "addressLine1": "Luisenstr. 48",
                                    "addressLine2": "NULL",
                                    "city": "Münster",
                                    "state": "NULL",
                                    "postalCode": "44087",
                                    "country": "Germany",
                                    "salesRepEmployeeNumber": "NULL",
                                    "creditLimit": "0.00"
                                },
                                {
                                    "customerNumber": "362",
                                    "customerName": "Gifts4AllAges.com",
                                    "contactLastName": "Yoshido",
                                    "contactFirstName": "Juri",
                                    "phone": "6175559555",
                                    "addressLine1": "8616 Spinnaker Dr.",
                                    "addressLine2": "NULL",
                                    "city": "Boston",
                                    "state": "MA",
                                    "postalCode": "51003",
                                    "country": "USA",
                                    "salesRepEmployeeNumber": "1216",
                                    "creditLimit": "41900.00"
                                },
                                {
                                    "customerNumber": "363",
                                    "customerName": "Online Diecast Creations Co.",
                                    "contactLastName": "Young",
                                    "contactFirstName": "Dorothy",
                                    "phone": "6035558647",
                                    "addressLine1": "2304 Long Airport Avenue",
                                    "addressLine2": "NULL",
                                    "city": "Nashua",
                                    "state": "NH",
                                    "postalCode": "62005",
                                    "country": "USA",
                                    "salesRepEmployeeNumber": "1216",
                                    "creditLimit": "114200.00"
                                },
                                {
                                    "customerNumber": "369",
                                    "customerName": "Lisboa Souveniers, Inc",
                                    "contactLastName": "Rodriguez",
                                    "contactFirstName": "Lino ",
                                    "phone": "(1) 354-2555",
                                    "addressLine1": "Jardim das rosas n. 32",
                                    "addressLine2": "NULL",
                                    "city": "Lisboa",
                                    "state": "NULL",
                                    "postalCode": "1675",
                                    "country": "Portugal",
                                    "salesRepEmployeeNumber": "NULL",
                                    "creditLimit": "0.00"
                                },
                                {
                                    "customerNumber": "376",
                                    "customerName": "Precious Collectables",
                                    "contactLastName": "Urs",
                                    "contactFirstName": "Braun",
                                    "phone": "0452-076555",
                                    "addressLine1": "Hauptstr. 29",
                                    "addressLine2": "NULL",
                                    "city": "Bern",
                                    "state": "NULL",
                                    "postalCode": "3012",
                                    "country": "Switzerland",
                                    "salesRepEmployeeNumber": "1702",
                                    "creditLimit": "0.00"
                                },
                                {
                                    "customerNumber": "379",
                                    "customerName": "Collectables For Less Inc.",
                                    "contactLastName": "Nelson",
                                    "contactFirstName": "Allen",
                                    "phone": "6175558555",
                                    "addressLine1": "7825 Douglas Av.",
                                    "addressLine2": "NULL",
                                    "city": "Brickhaven",
                                    "state": "MA",
                                    "postalCode": "58339",
                                    "country": "USA",
                                    "salesRepEmployeeNumber": "1188",
                                    "creditLimit": "70700.00"
                                },
                                {
                                    "customerNumber": "381",
                                    "customerName": "Royale Belge",
                                    "contactLastName": "Cartrain",
                                    "contactFirstName": "Pascale ",
                                    "phone": "(071) 23 67 2555",
                                    "addressLine1": "Boulevard Tirou, 255",
                                    "addressLine2": "NULL",
                                    "city": "Charleroi",
                                    "state": "NULL",
                                    "postalCode": "B-6000",
                                    "country": "Belgium",
                                    "salesRepEmployeeNumber": "1401",
                                    "creditLimit": "23500.00"
                                },
                                {
                                    "customerNumber": "382",
                                    "customerName": "Salzburg Collectables",
                                    "contactLastName": "Pipps",
                                    "contactFirstName": "Georg ",
                                    "phone": "6562-9555",
                                    "addressLine1": "Geislweg 14",
                                    "addressLine2": "NULL",
                                    "city": "Salzburg",
                                    "state": "NULL",
                                    "postalCode": "5020",
                                    "country": "Austria",
                                    "salesRepEmployeeNumber": "1401",
                                    "creditLimit": "71700.00"
                                },
                                {
                                    "customerNumber": "385",
                                    "customerName": "Cruz & Sons Co.",
                                    "contactLastName": "Cruz",
                                    "contactFirstName": "Arnold",
                                    "phone": "+63 2 555 3587",
                                    "addressLine1": "15 McCallum Street",
                                    "addressLine2": "NatWest Center #13-03",
                                    "city": "Makati City",
                                    "state": "NULL",
                                    "postalCode": "1227 MM",
                                    "country": "Philippines",
                                    "salesRepEmployeeNumber": "1621",
                                    "creditLimit": "81500.00"
                                },
                                {
                                    "customerNumber": "386",
                                    "customerName": "L'ordine Souveniers",
                                    "contactLastName": "Moroni",
                                    "contactFirstName": "Maurizio ",
                                    "phone": "0522-556555",
                                    "addressLine1": "Strada Provinciale 124",
                                    "addressLine2": "NULL",
                                    "city": "Reggio Emilia",
                                    "state": "NULL",
                                    "postalCode": "42100",
                                    "country": "Italy",
                                    "salesRepEmployeeNumber": "1401",
                                    "creditLimit": "121400.00"
                                },
                                {
                                    "customerNumber": "398",
                                    "customerName": "Tokyo Collectables, Ltd",
                                    "contactLastName": "Shimamura",
                                    "contactFirstName": "Akiko",
                                    "phone": "+81 3 3584 0555",
                                    "addressLine1": "2-2-8 Roppongi",
                                    "addressLine2": "NULL",
                                    "city": "Minato-ku",
                                    "state": "Tokyo",
                                    "postalCode": "106-0032",
                                    "country": "Japan",
                                    "salesRepEmployeeNumber": "1621",
                                    "creditLimit": "94400.00"
                                },
                                {
                                    "customerNumber": "406",
                                    "customerName": "Auto Canal+ Petit",
                                    "contactLastName": "Perrier",
                                    "contactFirstName": "Dominique",
                                    "phone": "(1) 47.55.6555",
                                    "addressLine1": "25, rue Lauriston",
                                    "addressLine2": "NULL",
                                    "city": "Paris",
                                    "state": "NULL",
                                    "postalCode": "75016",
                                    "country": "France",
                                    "salesRepEmployeeNumber": "1337",
                                    "creditLimit": "95000.00"
                                },
                                {
                                    "customerNumber": "409",
                                    "customerName": "Stuttgart Collectable Exchange",
                                    "contactLastName": "Müller",
                                    "contactFirstName": "Rita ",
                                    "phone": "0711-555361",
                                    "addressLine1": "Adenauerallee 900",
                                    "addressLine2": "NULL",
                                    "city": "Stuttgart",
                                    "state": "NULL",
                                    "postalCode": "70563",
                                    "country": "Germany",
                                    "salesRepEmployeeNumber": "NULL",
                                    "creditLimit": "0.00"
                                },
                                {
                                    "customerNumber": "412",
                                    "customerName": "Extreme Desk Decorations, Ltd",
                                    "contactLastName": "McRoy",
                                    "contactFirstName": "Sarah",
                                    "phone": "04 499 9555",
                                    "addressLine1": "101 Lambton Quay",
                                    "addressLine2": "Level 11",
                                    "city": "Wellington",
                                    "state": "NULL",
                                    "postalCode": "NULL",
                                    "country": "New Zealand",
                                    "salesRepEmployeeNumber": "1612",
                                    "creditLimit": "86800.00"
                                },
                                {
                                    "customerNumber": "415",
                                    "customerName": "Bavarian Collectables Imports, Co.",
                                    "contactLastName": "Donnermeyer",
                                    "contactFirstName": "Michael",
                                    "phone": " +49 89 61 08 9555",
                                    "addressLine1": "Hansastr. 15",
                                    "addressLine2": "NULL",
                                    "city": "Munich",
                                    "state": "NULL",
                                    "postalCode": "80686",
                                    "country": "Germany",
                                    "salesRepEmployeeNumber": "1504",
                                    "creditLimit": "77000.00"
                                },
                                {
                                    "customerNumber": "424",
                                    "customerName": "Classic Legends Inc.",
                                    "contactLastName": "Hernandez",
                                    "contactFirstName": "Maria",
                                    "phone": "2125558493",
                                    "addressLine1": "5905 Pompton St.",
                                    "addressLine2": "Suite 750",
                                    "city": "NYC",
                                    "state": "NY",
                                    "postalCode": "10022",
                                    "country": "USA",
                                    "salesRepEmployeeNumber": "1286",
                                    "creditLimit": "67500.00"
                                },
                                {
                                    "customerNumber": "443",
                                    "customerName": "Feuer Online Stores, Inc",
                                    "contactLastName": "Feuer",
                                    "contactFirstName": "Alexander ",
                                    "phone": "0342-555176",
                                    "addressLine1": "Heerstr. 22",
                                    "addressLine2": "NULL",
                                    "city": "Leipzig",
                                    "state": "NULL",
                                    "postalCode": "04179",
                                    "country": "Germany",
                                    "salesRepEmployeeNumber": "NULL",
                                    "creditLimit": "0.00"
                                },
                                {
                                    "customerNumber": "447",
                                    "customerName": "Gift Ideas Corp.",
                                    "contactLastName": "Lewis",
                                    "contactFirstName": "Dan",
                                    "phone": "2035554407",
                                    "addressLine1": "2440 Pompton St.",
                                    "addressLine2": "NULL",
                                    "city": "Glendale",
                                    "state": "CT",
                                    "postalCode": "97561",
                                    "country": "USA",
                                    "salesRepEmployeeNumber": "1323",
                                    "creditLimit": "49700.00"
                                },
                                {
                                    "customerNumber": "448",
                                    "customerName": "Scandinavian Gift Ideas",
                                    "contactLastName": "Larsson",
                                    "contactFirstName": "Martha",
                                    "phone": "0695-34 6555",
                                    "addressLine1": "Åkergatan 24",
                                    "addressLine2": "NULL",
                                    "city": "Bräcke",
                                    "state": "NULL",
                                    "postalCode": "S-844 67",
                                    "country": "Sweden",
                                    "salesRepEmployeeNumber": "1504",
                                    "creditLimit": "116400.00"
                                },
                                {
                                    "customerNumber": "450",
                                    "customerName": "The Sharp Gifts Warehouse",
                                    "contactLastName": "Frick",
                                    "contactFirstName": "Sue",
                                    "phone": "4085553659",
                                    "addressLine1": "3086 Ingle Ln.",
                                    "addressLine2": "NULL",
                                    "city": "San Jose",
                                    "state": "CA",
                                    "postalCode": "94217",
                                    "country": "USA",
                                    "salesRepEmployeeNumber": "1165",
                                    "creditLimit": "77600.00"
                                },
                                {
                                    "customerNumber": "452",
                                    "customerName": "Mini Auto Werke",
                                    "contactLastName": "Mendel",
                                    "contactFirstName": "Roland ",
                                    "phone": "7675-3555",
                                    "addressLine1": "Kirchgasse 6",
                                    "addressLine2": "NULL",
                                    "city": "Graz",
                                    "state": "NULL",
                                    "postalCode": "8010",
                                    "country": "Austria",
                                    "salesRepEmployeeNumber": "1401",
                                    "creditLimit": "45300.00"
                                },
                                {
                                    "customerNumber": "455",
                                    "customerName": "Super Scale Inc.",
                                    "contactLastName": "Murphy",
                                    "contactFirstName": "Leslie",
                                    "phone": "2035559545",
                                    "addressLine1": "567 North Pendale Street",
                                    "addressLine2": "NULL",
                                    "city": "New Haven",
                                    "state": "CT",
                                    "postalCode": "97823",
                                    "country": "USA",
                                    "salesRepEmployeeNumber": "1286",
                                    "creditLimit": "95400.00"
                                },
                                {
                                    "customerNumber": "456",
                                    "customerName": "Microscale Inc.",
                                    "contactLastName": "Choi",
                                    "contactFirstName": "Yu",
                                    "phone": "2125551957",
                                    "addressLine1": "5290 North Pendale Street",
                                    "addressLine2": "Suite 200",
                                    "city": "NYC",
                                    "state": "NY",
                                    "postalCode": "10022",
                                    "country": "USA",
                                    "salesRepEmployeeNumber": "1286",
                                    "creditLimit": "39800.00"
                                },
                                {
                                    "customerNumber": "458",
                                    "customerName": "Corrida Auto Replicas, Ltd",
                                    "contactLastName": "Sommer",
                                    "contactFirstName": "Martín ",
                                    "phone": "(91) 555 22 82",
                                    "addressLine1": "C/ Araquil, 67",
                                    "addressLine2": "NULL",
                                    "city": "Madrid",
                                    "state": "NULL",
                                    "postalCode": "28023",
                                    "country": "Spain",
                                    "salesRepEmployeeNumber": "1702",
                                    "creditLimit": "104600.00"
                                },
                                {
                                    "customerNumber": "459",
                                    "customerName": "Warburg Exchange",
                                    "contactLastName": "Ottlieb",
                                    "contactFirstName": "Sven ",
                                    "phone": "0241-039123",
                                    "addressLine1": "Walserweg 21",
                                    "addressLine2": "NULL",
                                    "city": "Aachen",
                                    "state": "NULL",
                                    "postalCode": "52066",
                                    "country": "Germany",
                                    "salesRepEmployeeNumber": "NULL",
                                    "creditLimit": "0.00"
                                },
                                {
                                    "customerNumber": "462",
                                    "customerName": "FunGiftIdeas.com",
                                    "contactLastName": "Benitez",
                                    "contactFirstName": "Violeta",
                                    "phone": "5085552555",
                                    "addressLine1": "1785 First Street",
                                    "addressLine2": "NULL",
                                    "city": "New Bedford",
                                    "state": "MA",
                                    "postalCode": "50553",
                                    "country": "USA",
                                    "salesRepEmployeeNumber": "1216",
                                    "creditLimit": "85800.00"
                                },
                                {
                                    "customerNumber": "465",
                                    "customerName": "Anton Designs, Ltd.",
                                    "contactLastName": "Anton",
                                    "contactFirstName": "Carmen",
                                    "phone": "+34 913 728555",
                                    "addressLine1": "c/ Gobelas, 19-1 Urb. La Florida",
                                    "addressLine2": "NULL",
                                    "city": "Madrid",
                                    "state": "NULL",
                                    "postalCode": "28023",
                                    "country": "Spain",
                                    "salesRepEmployeeNumber": "NULL",
                                    "creditLimit": "0.00"
                                },
                                {
                                    "customerNumber": "471",
                                    "customerName": "Australian Collectables, Ltd",
                                    "contactLastName": "Clenahan",
                                    "contactFirstName": "Sean",
                                    "phone": "61-9-3844-6555",
                                    "addressLine1": "7 Allen Street",
                                    "addressLine2": "NULL",
                                    "city": "Glen Waverly",
                                    "state": "Victoria",
                                    "postalCode": "3150",
                                    "country": "Australia",
                                    "salesRepEmployeeNumber": "1611",
                                    "creditLimit": "60300.00"
                                },
                                {
                                    "customerNumber": "473",
                                    "customerName": "Frau da Collezione",
                                    "contactLastName": "Ricotti",
                                    "contactFirstName": "Franco",
                                    "phone": "+39 022515555",
                                    "addressLine1": "20093 Cologno Monzese",
                                    "addressLine2": "Alessandro Volta 16",
                                    "city": "Milan",
                                    "state": "NULL",
                                    "postalCode": "NULL",
                                    "country": "Italy",
                                    "salesRepEmployeeNumber": "1401",
                                    "creditLimit": "34800.00"
                                },
                                {
                                    "customerNumber": "475",
                                    "customerName": "West Coast Collectables Co.",
                                    "contactLastName": "Thompson",
                                    "contactFirstName": "Steve",
                                    "phone": "3105553722",
                                    "addressLine1": "3675 Furth Circle",
                                    "addressLine2": "NULL",
                                    "city": "Burbank",
                                    "state": "CA",
                                    "postalCode": "94019",
                                    "country": "USA",
                                    "salesRepEmployeeNumber": "1166",
                                    "creditLimit": "55400.00"
                                },
                                {
                                    "customerNumber": "477",
                                    "customerName": "Mit Vergnügen & Co.",
                                    "contactLastName": "Moos",
                                    "contactFirstName": "Hanna ",
                                    "phone": "0621-08555",
                                    "addressLine1": "Forsterstr. 57",
                                    "addressLine2": "NULL",
                                    "city": "Mannheim",
                                    "state": "NULL",
                                    "postalCode": "68306",
                                    "country": "Germany",
                                    "salesRepEmployeeNumber": "NULL",
                                    "creditLimit": "0.00"
                                },
                                {
                                    "customerNumber": "480",
                                    "customerName": "Kremlin Collectables, Co.",
                                    "contactLastName": "Semenov",
                                    "contactFirstName": "Alexander ",
                                    "phone": "+7 812 293 0521",
                                    "addressLine1": "2 Pobedy Square",
                                    "addressLine2": "NULL",
                                    "city": "Saint Petersburg",
                                    "state": "NULL",
                                    "postalCode": "196143",
                                    "country": "Russia",
                                    "salesRepEmployeeNumber": "NULL",
                                    "creditLimit": "0.00"
                                },
                                {
                                    "customerNumber": "481",
                                    "customerName": "Raanan Stores, Inc",
                                    "contactLastName": "Altagar,G M",
                                    "contactFirstName": "Raanan",
                                    "phone": "+ 972 9 959 8555",
                                    "addressLine1": "3 Hagalim Blv.",
                                    "addressLine2": "NULL",
                                    "city": "Herzlia",
                                    "state": "NULL",
                                    "postalCode": "47625",
                                    "country": "Israel",
                                    "salesRepEmployeeNumber": "NULL",
                                    "creditLimit": "0.00"
                                },
                                {
                                    "customerNumber": "484",
                                    "customerName": "Iberia Gift Imports, Corp.",
                                    "contactLastName": "Roel",
                                    "contactFirstName": "José Pedro ",
                                    "phone": "(95) 555 82 82",
                                    "addressLine1": "C/ Romero, 33",
                                    "addressLine2": "NULL",
                                    "city": "Sevilla",
                                    "state": "NULL",
                                    "postalCode": "41101",
                                    "country": "Spain",
                                    "salesRepEmployeeNumber": "1702",
                                    "creditLimit": "65700.00"
                                },
                                {
                                    "customerNumber": "486",
                                    "customerName": "Motor Mint Distributors Inc.",
                                    "contactLastName": "Salazar",
                                    "contactFirstName": "Rosa",
                                    "phone": "2155559857",
                                    "addressLine1": "11328 Douglas Av.",
                                    "addressLine2": "NULL",
                                    "city": "Philadelphia",
                                    "state": "PA",
                                    "postalCode": "71270",
                                    "country": "USA",
                                    "salesRepEmployeeNumber": "1323",
                                    "creditLimit": "72600.00"
                                },
                                {
                                    "customerNumber": "487",
                                    "customerName": "Signal Collectibles Ltd.",
                                    "contactLastName": "Taylor",
                                    "contactFirstName": "Sue",
                                    "phone": "4155554312",
                                    "addressLine1": "2793 Furth Circle",
                                    "addressLine2": "NULL",
                                    "city": "Brisbane",
                                    "state": "CA",
                                    "postalCode": "94217",
                                    "country": "USA",
                                    "salesRepEmployeeNumber": "1165",
                                    "creditLimit": "60300.00"
                                },
                                {
                                    "customerNumber": "489",
                                    "customerName": "Double Decker Gift Stores, Ltd",
                                    "contactLastName": "Smith",
                                    "contactFirstName": "Thomas ",
                                    "phone": "(171) 555-7555",
                                    "addressLine1": "120 Hanover Sq.",
                                    "addressLine2": "NULL",
                                    "city": "London",
                                    "state": "NULL",
                                    "postalCode": "WA1 1DP",
                                    "country": "UK",
                                    "salesRepEmployeeNumber": "1501",
                                    "creditLimit": "43300.00"
                                },
                                {
                                    "customerNumber": "495",
                                    "customerName": "Diecast Collectables",
                                    "contactLastName": "Franco",
                                    "contactFirstName": "Valarie",
                                    "phone": "6175552555",
                                    "addressLine1": "6251 Ingle Ln.",
                                    "addressLine2": "NULL",
                                    "city": "Boston",
                                    "state": "MA",
                                    "postalCode": "51003",
                                    "country": "USA",
                                    "salesRepEmployeeNumber": "1188",
                                    "creditLimit": "85100.00"
                                },
                                {
                                    "customerNumber": "496",
                                    "customerName": "Kelly's Gift Shop",
                                    "contactLastName": "Snowden",
                                    "contactFirstName": "Tony",
                                    "phone": "+64 9 5555500",
                                    "addressLine1": "Arenales 1938 3'A'",
                                    "addressLine2": "NULL",
                                    "city": "Auckland  ",
                                    "state": "NULL",
                                    "postalCode": "NULL",
                                    "country": "New Zealand",
                                    "salesRepEmployeeNumber": "1612",
                                    "creditLimit": "110000.00"
                                }
                            ]
                        },
                        "text/html": [
                            "<table>",
                            "<tr><th>customerNumber</th><th>customerName</th><th>contactLastName</th><th>contactFirstName</th><th>phone</th><th>addressLine1</th><th>addressLine2</th><th>city</th><th>state</th><th>postalCode</th><th>country</th><th>salesRepEmployeeNumber</th><th>creditLimit</th></tr>",
                            "<tr><td>103</td><td>Atelier graphique</td><td>Schmitt</td><td>Carine </td><td>40.32.2555</td><td>54, rue Royale</td><td>NULL</td><td>Nantes</td><td>NULL</td><td>44000</td><td>France</td><td>1370</td><td>21000.00</td></tr>",
                            "<tr><td>112</td><td>Signal Gift Stores</td><td>King</td><td>Jean</td><td>7025551838</td><td>8489 Strong St.</td><td>NULL</td><td>Las Vegas</td><td>NV</td><td>83030</td><td>USA</td><td>1166</td><td>71800.00</td></tr>",
                            "<tr><td>114</td><td>Australian Collectors, Co.</td><td>Ferguson</td><td>Peter</td><td>03 9520 4555</td><td>636 St Kilda Road</td><td>Level 3</td><td>Melbourne</td><td>Victoria</td><td>3004</td><td>Australia</td><td>1611</td><td>117300.00</td></tr>",
                            "<tr><td>119</td><td>La Rochelle Gifts</td><td>Labrune</td><td>Janine </td><td>40.67.8555</td><td>67, rue des Cinquante Otages</td><td>NULL</td><td>Nantes</td><td>NULL</td><td>44000</td><td>France</td><td>1370</td><td>118200.00</td></tr>",
                            "<tr><td>121</td><td>Baane Mini Imports</td><td>Bergulfsen</td><td>Jonas </td><td>07-98 9555</td><td>Erling Skakkes gate 78</td><td>NULL</td><td>Stavern</td><td>NULL</td><td>4110</td><td>Norway</td><td>1504</td><td>81700.00</td></tr>",
                            "<tr><td>124</td><td>Mini Gifts Distributors Ltd.</td><td>Nelson</td><td>Susan</td><td>4155551450</td><td>5677 Strong St.</td><td>NULL</td><td>San Rafael</td><td>CA</td><td>97562</td><td>USA</td><td>1165</td><td>210500.00</td></tr>",
                            "<tr><td>125</td><td>Havel &amp; Zbyszek Co</td><td>Piestrzeniewicz</td><td>Zbyszek </td><td>(26) 642-7555</td><td>ul. Filtrowa 68</td><td>NULL</td><td>Warszawa</td><td>NULL</td><td>01-012</td><td>Poland</td><td>NULL</td><td>0.00</td></tr>",
                            "<tr><td>128</td><td>Blauer See Auto, Co.</td><td>Keitel</td><td>Roland</td><td>+49 69 66 90 2555</td><td>Lyonerstr. 34</td><td>NULL</td><td>Frankfurt</td><td>NULL</td><td>60528</td><td>Germany</td><td>1504</td><td>59700.00</td></tr>",
                            "<tr><td>129</td><td>Mini Wheels Co.</td><td>Murphy</td><td>Julie</td><td>6505555787</td><td>5557 North Pendale Street</td><td>NULL</td><td>San Francisco</td><td>CA</td><td>94217</td><td>USA</td><td>1165</td><td>64600.00</td></tr>",
                            "<tr><td>131</td><td>Land of Toys Inc.</td><td>Lee</td><td>Kwai</td><td>2125557818</td><td>897 Long Airport Avenue</td><td>NULL</td><td>NYC</td><td>NY</td><td>10022</td><td>USA</td><td>1323</td><td>114900.00</td></tr>",
                            "<tr><td>141</td><td>Euro+ Shopping Channel</td><td>Freyre</td><td>Diego </td><td>(91) 555 94 44</td><td>C/ Moralzarzal, 86</td><td>NULL</td><td>Madrid</td><td>NULL</td><td>28034</td><td>Spain</td><td>1370</td><td>227600.00</td></tr>",
                            "<tr><td>144</td><td>Volvo Model Replicas, Co</td><td>Berglund</td><td>Christina </td><td>0921-12 3555</td><td>Berguvsvägen  8</td><td>NULL</td><td>Luleå</td><td>NULL</td><td>S-958 22</td><td>Sweden</td><td>1504</td><td>53100.00</td></tr>",
                            "<tr><td>145</td><td>Danish Wholesale Imports</td><td>Petersen</td><td>Jytte </td><td>31 12 3555</td><td>Vinbæltet 34</td><td>NULL</td><td>Kobenhavn</td><td>NULL</td><td>1734</td><td>Denmark</td><td>1401</td><td>83400.00</td></tr>",
                            "<tr><td>146</td><td>Saveley &amp; Henriot, Co.</td><td>Saveley</td><td>Mary </td><td>78.32.5555</td><td>2, rue du Commerce</td><td>NULL</td><td>Lyon</td><td>NULL</td><td>69004</td><td>France</td><td>1337</td><td>123900.00</td></tr>",
                            "<tr><td>148</td><td>Dragon Souveniers, Ltd.</td><td>Natividad</td><td>Eric</td><td>+65 221 7555</td><td>Bronz Sok.</td><td>Bronz Apt. 3/6 Tesvikiye</td><td>Singapore</td><td>NULL</td><td>079903</td><td>Singapore</td><td>1621</td><td>103800.00</td></tr>",
                            "<tr><td>151</td><td>Muscle Machine Inc</td><td>Young</td><td>Jeff</td><td>2125557413</td><td>4092 Furth Circle</td><td>Suite 400</td><td>NYC</td><td>NY</td><td>10022</td><td>USA</td><td>1286</td><td>138500.00</td></tr>",
                            "<tr><td>157</td><td>Diecast Classics Inc.</td><td>Leong</td><td>Kelvin</td><td>2155551555</td><td>7586 Pompton St.</td><td>NULL</td><td>Allentown</td><td>PA</td><td>70267</td><td>USA</td><td>1216</td><td>100600.00</td></tr>",
                            "<tr><td>161</td><td>Technics Stores Inc.</td><td>Hashimoto</td><td>Juri</td><td>6505556809</td><td>9408 Furth Circle</td><td>NULL</td><td>Burlingame</td><td>CA</td><td>94217</td><td>USA</td><td>1165</td><td>84600.00</td></tr>",
                            "<tr><td>166</td><td>Handji Gifts&amp; Co</td><td>Victorino</td><td>Wendy</td><td>+65 224 1555</td><td>106 Linden Road Sandown</td><td>2nd Floor</td><td>Singapore</td><td>NULL</td><td>069045</td><td>Singapore</td><td>1612</td><td>97900.00</td></tr>",
                            "<tr><td>167</td><td>Herkku Gifts</td><td>Oeztan</td><td>Veysel</td><td>+47 2267 3215</td><td>Brehmen St. 121</td><td>PR 334 Sentrum</td><td>Bergen</td><td>NULL</td><td>N 5804</td><td>Norway  </td><td>1504</td><td>96800.00</td></tr>",
                            "<tr><td>168</td><td>American Souvenirs Inc</td><td>Franco</td><td>Keith</td><td>2035557845</td><td>149 Spinnaker Dr.</td><td>Suite 101</td><td>New Haven</td><td>CT</td><td>97823</td><td>USA</td><td>1286</td><td>0.00</td></tr>",
                            "<tr><td>169</td><td>Porto Imports Co.</td><td>de Castro</td><td>Isabel </td><td>(1) 356-5555</td><td>Estrada da saúde n. 58</td><td>NULL</td><td>Lisboa</td><td>NULL</td><td>1756</td><td>Portugal</td><td>NULL</td><td>0.00</td></tr>",
                            "<tr><td>171</td><td>Daedalus Designs Imports</td><td>Rancé</td><td>Martine </td><td>20.16.1555</td><td>184, chaussée de Tournai</td><td>NULL</td><td>Lille</td><td>NULL</td><td>59000</td><td>France</td><td>1370</td><td>82900.00</td></tr>",
                            "<tr><td>172</td><td>La Corne D&#39;abondance, Co.</td><td>Bertrand</td><td>Marie</td><td>(1) 42.34.2555</td><td>265, boulevard Charonne</td><td>NULL</td><td>Paris</td><td>NULL</td><td>75012</td><td>France</td><td>1337</td><td>84300.00</td></tr>",
                            "<tr><td>173</td><td>Cambridge Collectables Co.</td><td>Tseng</td><td>Jerry</td><td>6175555555</td><td>4658 Baden Av.</td><td>NULL</td><td>Cambridge</td><td>MA</td><td>51247</td><td>USA</td><td>1188</td><td>43400.00</td></tr>",
                            "<tr><td>175</td><td>Gift Depot Inc.</td><td>King</td><td>Julie</td><td>2035552570</td><td>25593 South Bay Ln.</td><td>NULL</td><td>Bridgewater</td><td>CT</td><td>97562</td><td>USA</td><td>1323</td><td>84300.00</td></tr>",
                            "<tr><td>177</td><td>Osaka Souveniers Co.</td><td>Kentary</td><td>Mory</td><td>+81 06 6342 5555</td><td>1-6-20 Dojima</td><td>NULL</td><td>Kita-ku</td><td>Osaka</td><td> 530-0003</td><td>Japan</td><td>1621</td><td>81200.00</td></tr>",
                            "<tr><td>181</td><td>Vitachrome Inc.</td><td>Frick</td><td>Michael</td><td>2125551500</td><td>2678 Kingston Rd.</td><td>Suite 101</td><td>NYC</td><td>NY</td><td>10022</td><td>USA</td><td>1286</td><td>76400.00</td></tr>",
                            "<tr><td>186</td><td>Toys of Finland, Co.</td><td>Karttunen</td><td>Matti</td><td>90-224 8555</td><td>Keskuskatu 45</td><td>NULL</td><td>Helsinki</td><td>NULL</td><td>21240</td><td>Finland</td><td>1501</td><td>96500.00</td></tr>",
                            "<tr><td>187</td><td>AV Stores, Co.</td><td>Ashworth</td><td>Rachel</td><td>(171) 555-1555</td><td>Fauntleroy Circus</td><td>NULL</td><td>Manchester</td><td>NULL</td><td>EC2 5NT</td><td>UK</td><td>1501</td><td>136800.00</td></tr>",
                            "<tr><td>189</td><td>Clover Collections, Co.</td><td>Cassidy</td><td>Dean</td><td>+353 1862 1555</td><td>25 Maiden Lane</td><td>Floor No. 4</td><td>Dublin</td><td>NULL</td><td>2</td><td>Ireland</td><td>1504</td><td>69400.00</td></tr>",
                            "<tr><td>198</td><td>Auto-Moto Classics Inc.</td><td>Taylor</td><td>Leslie</td><td>6175558428</td><td>16780 Pompton St.</td><td>NULL</td><td>Brickhaven</td><td>MA</td><td>58339</td><td>USA</td><td>1216</td><td>23000.00</td></tr>",
                            "<tr><td>201</td><td>UK Collectables, Ltd.</td><td>Devon</td><td>Elizabeth</td><td>(171) 555-2282</td><td>12, Berkeley Gardens Blvd</td><td>NULL</td><td>Liverpool</td><td>NULL</td><td>WX1 6LT</td><td>UK</td><td>1501</td><td>92700.00</td></tr>",
                            "<tr><td>202</td><td>Canadian Gift Exchange Network</td><td>Tamuri</td><td>Yoshi </td><td>(604) 555-3392</td><td>1900 Oak St.</td><td>NULL</td><td>Vancouver</td><td>BC</td><td>V3F 2K1</td><td>Canada</td><td>1323</td><td>90300.00</td></tr>",
                            "<tr><td>204</td><td>Online Mini Collectables</td><td>Barajas</td><td>Miguel</td><td>6175557555</td><td>7635 Spinnaker Dr.</td><td>NULL</td><td>Brickhaven</td><td>MA</td><td>58339</td><td>USA</td><td>1188</td><td>68700.00</td></tr>",
                            "<tr><td>205</td><td>Toys4GrownUps.com</td><td>Young</td><td>Julie</td><td>6265557265</td><td>78934 Hillside Dr.</td><td>NULL</td><td>Pasadena</td><td>CA</td><td>90003</td><td>USA</td><td>1166</td><td>90700.00</td></tr>",
                            "<tr><td>206</td><td>Asian Shopping Network, Co</td><td>Walker</td><td>Brydey</td><td>+612 9411 1555</td><td>Suntec Tower Three</td><td>8 Temasek</td><td>Singapore</td><td>NULL</td><td>038988</td><td>Singapore</td><td>NULL</td><td>0.00</td></tr>",
                            "<tr><td>209</td><td>Mini Caravy</td><td>Citeaux</td><td>Frédérique </td><td>88.60.1555</td><td>24, place Kléber</td><td>NULL</td><td>Strasbourg</td><td>NULL</td><td>67000</td><td>France</td><td>1370</td><td>53800.00</td></tr>",
                            "<tr><td>211</td><td>King Kong Collectables, Co.</td><td>Gao</td><td>Mike</td><td>+852 2251 1555</td><td>Bank of China Tower</td><td>1 Garden Road</td><td>Central Hong Kong</td><td>NULL</td><td>NULL</td><td>Hong Kong</td><td>1621</td><td>58600.00</td></tr>",
                            "<tr><td>216</td><td>Enaco Distributors</td><td>Saavedra</td><td>Eduardo </td><td>(93) 203 4555</td><td>Rambla de Cataluña, 23</td><td>NULL</td><td>Barcelona</td><td>NULL</td><td>08022</td><td>Spain</td><td>1702</td><td>60300.00</td></tr>",
                            "<tr><td>219</td><td>Boards &amp; Toys Co.</td><td>Young</td><td>Mary</td><td>3105552373</td><td>4097 Douglas Av.</td><td>NULL</td><td>Glendale</td><td>CA</td><td>92561</td><td>USA</td><td>1166</td><td>11000.00</td></tr>",
                            "<tr><td>223</td><td>Natürlich Autos</td><td>Kloss</td><td>Horst </td><td>0372-555188</td><td>Taucherstraße 10</td><td>NULL</td><td>Cunewalde</td><td>NULL</td><td>01307</td><td>Germany</td><td>NULL</td><td>0.00</td></tr>",
                            "<tr><td>227</td><td>Heintze Collectables</td><td>Ibsen</td><td>Palle</td><td>86 21 3555</td><td>Smagsloget 45</td><td>NULL</td><td>Århus</td><td>NULL</td><td>8200</td><td>Denmark</td><td>1401</td><td>120800.00</td></tr>",
                            "<tr><td>233</td><td>Québec Home Shopping Network</td><td>Fresnière</td><td>Jean </td><td>(514) 555-8054</td><td>43 rue St. Laurent</td><td>NULL</td><td>Montréal</td><td>Québec</td><td>H1J 1C3</td><td>Canada</td><td>1286</td><td>48700.00</td></tr>",
                            "<tr><td>237</td><td>ANG Resellers</td><td>Camino</td><td>Alejandra </td><td>(91) 745 6555</td><td>Gran Vía, 1</td><td>NULL</td><td>Madrid</td><td>NULL</td><td>28001</td><td>Spain</td><td>NULL</td><td>0.00</td></tr>",
                            "<tr><td>239</td><td>Collectable Mini Designs Co.</td><td>Thompson</td><td>Valarie</td><td>7605558146</td><td>361 Furth Circle</td><td>NULL</td><td>San Diego</td><td>CA</td><td>91217</td><td>USA</td><td>1166</td><td>105000.00</td></tr>",
                            "<tr><td>240</td><td>giftsbymail.co.uk</td><td>Bennett</td><td>Helen </td><td>(198) 555-8888</td><td>Garden House</td><td>Crowther Way 23</td><td>Cowes</td><td>Isle of Wight</td><td>PO31 7PJ</td><td>UK</td><td>1501</td><td>93900.00</td></tr>",
                            "<tr><td>242</td><td>Alpha Cognac</td><td>Roulet</td><td>Annette </td><td>61.77.6555</td><td>1 rue Alsace-Lorraine</td><td>NULL</td><td>Toulouse</td><td>NULL</td><td>31000</td><td>France</td><td>1370</td><td>61100.00</td></tr>",
                            "<tr><td>247</td><td>Messner Shopping Network</td><td>Messner</td><td>Renate </td><td>069-0555984</td><td>Magazinweg 7</td><td>NULL</td><td>Frankfurt</td><td>NULL</td><td>60528</td><td>Germany</td><td>NULL</td><td>0.00</td></tr>",
                            "<tr><td>249</td><td>Amica Models &amp; Co.</td><td>Accorti</td><td>Paolo </td><td>011-4988555</td><td>Via Monte Bianco 34</td><td>NULL</td><td>Torino</td><td>NULL</td><td>10100</td><td>Italy</td><td>1401</td><td>113000.00</td></tr>",
                            "<tr><td>250</td><td>Lyon Souveniers</td><td>Da Silva</td><td>Daniel</td><td>+33 1 46 62 7555</td><td>27 rue du Colonel Pierre Avia</td><td>NULL</td><td>Paris</td><td>NULL</td><td>75508</td><td>France</td><td>1337</td><td>68100.00</td></tr>",
                            "<tr><td>256</td><td>Auto Associés &amp; Cie.</td><td>Tonini</td><td>Daniel </td><td>30.59.8555</td><td>67, avenue de l&#39;Europe</td><td>NULL</td><td>Versailles</td><td>NULL</td><td>78000</td><td>France</td><td>1370</td><td>77900.00</td></tr>",
                            "<tr><td>259</td><td>Toms Spezialitäten, Ltd</td><td>Pfalzheim</td><td>Henriette </td><td>0221-5554327</td><td>Mehrheimerstr. 369</td><td>NULL</td><td>Köln</td><td>NULL</td><td>50739</td><td>Germany</td><td>1504</td><td>120400.00</td></tr>",
                            "<tr><td>260</td><td>Royal Canadian Collectables, Ltd.</td><td>Lincoln</td><td>Elizabeth </td><td>(604) 555-4555</td><td>23 Tsawassen Blvd.</td><td>NULL</td><td>Tsawassen</td><td>BC</td><td>T2F 8M4</td><td>Canada</td><td>1323</td><td>89600.00</td></tr>",
                            "<tr><td>273</td><td>Franken Gifts, Co</td><td>Franken</td><td>Peter </td><td>089-0877555</td><td>Berliner Platz 43</td><td>NULL</td><td>München</td><td>NULL</td><td>80805</td><td>Germany</td><td>NULL</td><td>0.00</td></tr>",
                            "<tr><td>276</td><td>Anna&#39;s Decorations, Ltd</td><td>O&#39;Hara</td><td>Anna</td><td>02 9936 8555</td><td>201 Miller Street</td><td>Level 15</td><td>North Sydney</td><td>NSW</td><td>2060</td><td>Australia</td><td>1611</td><td>107800.00</td></tr>",
                            "<tr><td>278</td><td>Rovelli Gifts</td><td>Rovelli</td><td>Giovanni </td><td>035-640555</td><td>Via Ludovico il Moro 22</td><td>NULL</td><td>Bergamo</td><td>NULL</td><td>24100</td><td>Italy</td><td>1401</td><td>119600.00</td></tr>",
                            "<tr><td>282</td><td>Souveniers And Things Co.</td><td>Huxley</td><td>Adrian</td><td>+61 2 9495 8555</td><td>Monitor Money Building</td><td>815 Pacific Hwy</td><td>Chatswood</td><td>NSW</td><td>2067</td><td>Australia</td><td>1611</td><td>93300.00</td></tr>",
                            "<tr><td>286</td><td>Marta&#39;s Replicas Co.</td><td>Hernandez</td><td>Marta</td><td>6175558555</td><td>39323 Spinnaker Dr.</td><td>NULL</td><td>Cambridge</td><td>MA</td><td>51247</td><td>USA</td><td>1216</td><td>123700.00</td></tr>",
                            "<tr><td>293</td><td>BG&amp;E Collectables</td><td>Harrison</td><td>Ed</td><td>+41 26 425 50 01</td><td>Rte des Arsenaux 41 </td><td>NULL</td><td>Fribourg</td><td>NULL</td><td>1700</td><td>Switzerland</td><td>NULL</td><td>0.00</td></tr>",
                            "<tr><td>298</td><td>Vida Sport, Ltd</td><td>Holz</td><td>Mihael</td><td>0897-034555</td><td>Grenzacherweg 237</td><td>NULL</td><td>Genève</td><td>NULL</td><td>1203</td><td>Switzerland</td><td>1702</td><td>141300.00</td></tr>",
                            "<tr><td>299</td><td>Norway Gifts By Mail, Co.</td><td>Klaeboe</td><td>Jan</td><td>+47 2212 1555</td><td>Drammensveien 126A</td><td>PB 211 Sentrum</td><td>Oslo</td><td>NULL</td><td>N 0106</td><td>Norway  </td><td>1504</td><td>95100.00</td></tr>",
                            "<tr><td>303</td><td>Schuyler Imports</td><td>Schuyler</td><td>Bradley</td><td>+31 20 491 9555</td><td>Kingsfordweg 151</td><td>NULL</td><td>Amsterdam</td><td>NULL</td><td>1043 GR</td><td>Netherlands</td><td>NULL</td><td>0.00</td></tr>",
                            "<tr><td>307</td><td>Der Hund Imports</td><td>Andersen</td><td>Mel</td><td>030-0074555</td><td>Obere Str. 57</td><td>NULL</td><td>Berlin</td><td>NULL</td><td>12209</td><td>Germany</td><td>NULL</td><td>0.00</td></tr>",
                            "<tr><td>311</td><td>Oulu Toy Supplies, Inc.</td><td>Koskitalo</td><td>Pirkko</td><td>981-443655</td><td>Torikatu 38</td><td>NULL</td><td>Oulu</td><td>NULL</td><td>90110</td><td>Finland</td><td>1501</td><td>90500.00</td></tr>",
                            "<tr><td>314</td><td>Petit Auto</td><td>Dewey</td><td>Catherine </td><td>(02) 5554 67</td><td>Rue Joseph-Bens 532</td><td>NULL</td><td>Bruxelles</td><td>NULL</td><td>B-1180</td><td>Belgium</td><td>1401</td><td>79900.00</td></tr>",
                            "<tr><td>319</td><td>Mini Classics</td><td>Frick</td><td>Steve</td><td>9145554562</td><td>3758 North Pendale Street</td><td>NULL</td><td>White Plains</td><td>NY</td><td>24067</td><td>USA</td><td>1323</td><td>102700.00</td></tr>",
                            "<tr><td>320</td><td>Mini Creations Ltd.</td><td>Huang</td><td>Wing</td><td>5085559555</td><td>4575 Hillside Dr.</td><td>NULL</td><td>New Bedford</td><td>MA</td><td>50553</td><td>USA</td><td>1188</td><td>94500.00</td></tr>",
                            "<tr><td>321</td><td>Corporate Gift Ideas Co.</td><td>Brown</td><td>Julie</td><td>6505551386</td><td>7734 Strong St.</td><td>NULL</td><td>San Francisco</td><td>CA</td><td>94217</td><td>USA</td><td>1165</td><td>105000.00</td></tr>",
                            "<tr><td>323</td><td>Down Under Souveniers, Inc</td><td>Graham</td><td>Mike</td><td>+64 9 312 5555</td><td>162-164 Grafton Road</td><td>Level 2</td><td>Auckland  </td><td>NULL</td><td>NULL</td><td>New Zealand</td><td>1612</td><td>88000.00</td></tr>",
                            "<tr><td>324</td><td>Stylish Desk Decors, Co.</td><td>Brown</td><td>Ann </td><td>(171) 555-0297</td><td>35 King George</td><td>NULL</td><td>London</td><td>NULL</td><td>WX3 6FW</td><td>UK</td><td>1501</td><td>77000.00</td></tr>",
                            "<tr><td>328</td><td>Tekni Collectables Inc.</td><td>Brown</td><td>William</td><td>2015559350</td><td>7476 Moss Rd.</td><td>NULL</td><td>Newark</td><td>NJ</td><td>94019</td><td>USA</td><td>1323</td><td>43000.00</td></tr>",
                            "<tr><td>333</td><td>Australian Gift Network, Co</td><td>Calaghan</td><td>Ben</td><td>61-7-3844-6555</td><td>31 Duncan St. West End</td><td>NULL</td><td>South Brisbane</td><td>Queensland</td><td>4101</td><td>Australia</td><td>1611</td><td>51600.00</td></tr>",
                            "<tr><td>334</td><td>Suominen Souveniers</td><td>Suominen</td><td>Kalle</td><td>+358 9 8045 555</td><td>Software Engineering Center</td><td>SEC Oy</td><td>Espoo</td><td>NULL</td><td>FIN-02271</td><td>Finland</td><td>1501</td><td>98800.00</td></tr>",
                            "<tr><td>335</td><td>Cramer Spezialitäten, Ltd</td><td>Cramer</td><td>Philip </td><td>0555-09555</td><td>Maubelstr. 90</td><td>NULL</td><td>Brandenburg</td><td>NULL</td><td>14776</td><td>Germany</td><td>NULL</td><td>0.00</td></tr>",
                            "<tr><td>339</td><td>Classic Gift Ideas, Inc</td><td>Cervantes</td><td>Francisca</td><td>2155554695</td><td>782 First Street</td><td>NULL</td><td>Philadelphia</td><td>PA</td><td>71270</td><td>USA</td><td>1188</td><td>81100.00</td></tr>",
                            "<tr><td>344</td><td>CAF Imports</td><td>Fernandez</td><td>Jesus</td><td>+34 913 728 555</td><td>Merchants House</td><td>27-30 Merchant&#39;s Quay</td><td>Madrid</td><td>NULL</td><td>28023</td><td>Spain</td><td>1702</td><td>59600.00</td></tr>",
                            "<tr><td>347</td><td>Men &#39;R&#39; US Retailers, Ltd.</td><td>Chandler</td><td>Brian</td><td>2155554369</td><td>6047 Douglas Av.</td><td>NULL</td><td>Los Angeles</td><td>CA</td><td>91003</td><td>USA</td><td>1166</td><td>57700.00</td></tr>",
                            "<tr><td>348</td><td>Asian Treasures, Inc.</td><td>McKenna</td><td>Patricia </td><td>2967 555</td><td>8 Johnstown Road</td><td>NULL</td><td>Cork</td><td>Co. Cork</td><td>NULL</td><td>Ireland</td><td>NULL</td><td>0.00</td></tr>",
                            "<tr><td>350</td><td>Marseille Mini Autos</td><td>Lebihan</td><td>Laurence </td><td>91.24.4555</td><td>12, rue des Bouchers</td><td>NULL</td><td>Marseille</td><td>NULL</td><td>13008</td><td>France</td><td>1337</td><td>65000.00</td></tr>",
                            "<tr><td>353</td><td>Reims Collectables</td><td>Henriot</td><td>Paul </td><td>26.47.1555</td><td>59 rue de l&#39;Abbaye</td><td>NULL</td><td>Reims</td><td>NULL</td><td>51100</td><td>France</td><td>1337</td><td>81100.00</td></tr>",
                            "<tr><td>356</td><td>SAR Distributors, Co</td><td>Kuger</td><td>Armand</td><td>+27 21 550 3555</td><td>1250 Pretorius Street</td><td>NULL</td><td>Hatfield</td><td>Pretoria</td><td>0028</td><td>South Africa</td><td>NULL</td><td>0.00</td></tr>",
                            "<tr><td>357</td><td>GiftsForHim.com</td><td>MacKinlay</td><td>Wales</td><td>64-9-3763555</td><td>199 Great North Road</td><td>NULL</td><td>Auckland</td><td>NULL</td><td>NULL</td><td>New Zealand</td><td>1612</td><td>77700.00</td></tr>",
                            "<tr><td>361</td><td>Kommission Auto</td><td>Josephs</td><td>Karin</td><td>0251-555259</td><td>Luisenstr. 48</td><td>NULL</td><td>Münster</td><td>NULL</td><td>44087</td><td>Germany</td><td>NULL</td><td>0.00</td></tr>",
                            "<tr><td>362</td><td>Gifts4AllAges.com</td><td>Yoshido</td><td>Juri</td><td>6175559555</td><td>8616 Spinnaker Dr.</td><td>NULL</td><td>Boston</td><td>MA</td><td>51003</td><td>USA</td><td>1216</td><td>41900.00</td></tr>",
                            "<tr><td>363</td><td>Online Diecast Creations Co.</td><td>Young</td><td>Dorothy</td><td>6035558647</td><td>2304 Long Airport Avenue</td><td>NULL</td><td>Nashua</td><td>NH</td><td>62005</td><td>USA</td><td>1216</td><td>114200.00</td></tr>",
                            "<tr><td>369</td><td>Lisboa Souveniers, Inc</td><td>Rodriguez</td><td>Lino </td><td>(1) 354-2555</td><td>Jardim das rosas n. 32</td><td>NULL</td><td>Lisboa</td><td>NULL</td><td>1675</td><td>Portugal</td><td>NULL</td><td>0.00</td></tr>",
                            "<tr><td>376</td><td>Precious Collectables</td><td>Urs</td><td>Braun</td><td>0452-076555</td><td>Hauptstr. 29</td><td>NULL</td><td>Bern</td><td>NULL</td><td>3012</td><td>Switzerland</td><td>1702</td><td>0.00</td></tr>",
                            "<tr><td>379</td><td>Collectables For Less Inc.</td><td>Nelson</td><td>Allen</td><td>6175558555</td><td>7825 Douglas Av.</td><td>NULL</td><td>Brickhaven</td><td>MA</td><td>58339</td><td>USA</td><td>1188</td><td>70700.00</td></tr>",
                            "<tr><td>381</td><td>Royale Belge</td><td>Cartrain</td><td>Pascale </td><td>(071) 23 67 2555</td><td>Boulevard Tirou, 255</td><td>NULL</td><td>Charleroi</td><td>NULL</td><td>B-6000</td><td>Belgium</td><td>1401</td><td>23500.00</td></tr>",
                            "<tr><td>382</td><td>Salzburg Collectables</td><td>Pipps</td><td>Georg </td><td>6562-9555</td><td>Geislweg 14</td><td>NULL</td><td>Salzburg</td><td>NULL</td><td>5020</td><td>Austria</td><td>1401</td><td>71700.00</td></tr>",
                            "<tr><td>385</td><td>Cruz &amp; Sons Co.</td><td>Cruz</td><td>Arnold</td><td>+63 2 555 3587</td><td>15 McCallum Street</td><td>NatWest Center #13-03</td><td>Makati City</td><td>NULL</td><td>1227 MM</td><td>Philippines</td><td>1621</td><td>81500.00</td></tr>",
                            "<tr><td>386</td><td>L&#39;ordine Souveniers</td><td>Moroni</td><td>Maurizio </td><td>0522-556555</td><td>Strada Provinciale 124</td><td>NULL</td><td>Reggio Emilia</td><td>NULL</td><td>42100</td><td>Italy</td><td>1401</td><td>121400.00</td></tr>",
                            "<tr><td>398</td><td>Tokyo Collectables, Ltd</td><td>Shimamura</td><td>Akiko</td><td>+81 3 3584 0555</td><td>2-2-8 Roppongi</td><td>NULL</td><td>Minato-ku</td><td>Tokyo</td><td>106-0032</td><td>Japan</td><td>1621</td><td>94400.00</td></tr>",
                            "<tr><td>406</td><td>Auto Canal+ Petit</td><td>Perrier</td><td>Dominique</td><td>(1) 47.55.6555</td><td>25, rue Lauriston</td><td>NULL</td><td>Paris</td><td>NULL</td><td>75016</td><td>France</td><td>1337</td><td>95000.00</td></tr>",
                            "<tr><td>409</td><td>Stuttgart Collectable Exchange</td><td>Müller</td><td>Rita </td><td>0711-555361</td><td>Adenauerallee 900</td><td>NULL</td><td>Stuttgart</td><td>NULL</td><td>70563</td><td>Germany</td><td>NULL</td><td>0.00</td></tr>",
                            "<tr><td>412</td><td>Extreme Desk Decorations, Ltd</td><td>McRoy</td><td>Sarah</td><td>04 499 9555</td><td>101 Lambton Quay</td><td>Level 11</td><td>Wellington</td><td>NULL</td><td>NULL</td><td>New Zealand</td><td>1612</td><td>86800.00</td></tr>",
                            "<tr><td>415</td><td>Bavarian Collectables Imports, Co.</td><td>Donnermeyer</td><td>Michael</td><td> +49 89 61 08 9555</td><td>Hansastr. 15</td><td>NULL</td><td>Munich</td><td>NULL</td><td>80686</td><td>Germany</td><td>1504</td><td>77000.00</td></tr>",
                            "<tr><td>424</td><td>Classic Legends Inc.</td><td>Hernandez</td><td>Maria</td><td>2125558493</td><td>5905 Pompton St.</td><td>Suite 750</td><td>NYC</td><td>NY</td><td>10022</td><td>USA</td><td>1286</td><td>67500.00</td></tr>",
                            "<tr><td>443</td><td>Feuer Online Stores, Inc</td><td>Feuer</td><td>Alexander </td><td>0342-555176</td><td>Heerstr. 22</td><td>NULL</td><td>Leipzig</td><td>NULL</td><td>04179</td><td>Germany</td><td>NULL</td><td>0.00</td></tr>",
                            "<tr><td>447</td><td>Gift Ideas Corp.</td><td>Lewis</td><td>Dan</td><td>2035554407</td><td>2440 Pompton St.</td><td>NULL</td><td>Glendale</td><td>CT</td><td>97561</td><td>USA</td><td>1323</td><td>49700.00</td></tr>",
                            "<tr><td>448</td><td>Scandinavian Gift Ideas</td><td>Larsson</td><td>Martha</td><td>0695-34 6555</td><td>Åkergatan 24</td><td>NULL</td><td>Bräcke</td><td>NULL</td><td>S-844 67</td><td>Sweden</td><td>1504</td><td>116400.00</td></tr>",
                            "<tr><td>450</td><td>The Sharp Gifts Warehouse</td><td>Frick</td><td>Sue</td><td>4085553659</td><td>3086 Ingle Ln.</td><td>NULL</td><td>San Jose</td><td>CA</td><td>94217</td><td>USA</td><td>1165</td><td>77600.00</td></tr>",
                            "<tr><td>452</td><td>Mini Auto Werke</td><td>Mendel</td><td>Roland </td><td>7675-3555</td><td>Kirchgasse 6</td><td>NULL</td><td>Graz</td><td>NULL</td><td>8010</td><td>Austria</td><td>1401</td><td>45300.00</td></tr>",
                            "<tr><td>455</td><td>Super Scale Inc.</td><td>Murphy</td><td>Leslie</td><td>2035559545</td><td>567 North Pendale Street</td><td>NULL</td><td>New Haven</td><td>CT</td><td>97823</td><td>USA</td><td>1286</td><td>95400.00</td></tr>",
                            "<tr><td>456</td><td>Microscale Inc.</td><td>Choi</td><td>Yu</td><td>2125551957</td><td>5290 North Pendale Street</td><td>Suite 200</td><td>NYC</td><td>NY</td><td>10022</td><td>USA</td><td>1286</td><td>39800.00</td></tr>",
                            "<tr><td>458</td><td>Corrida Auto Replicas, Ltd</td><td>Sommer</td><td>Martín </td><td>(91) 555 22 82</td><td>C/ Araquil, 67</td><td>NULL</td><td>Madrid</td><td>NULL</td><td>28023</td><td>Spain</td><td>1702</td><td>104600.00</td></tr>",
                            "<tr><td>459</td><td>Warburg Exchange</td><td>Ottlieb</td><td>Sven </td><td>0241-039123</td><td>Walserweg 21</td><td>NULL</td><td>Aachen</td><td>NULL</td><td>52066</td><td>Germany</td><td>NULL</td><td>0.00</td></tr>",
                            "<tr><td>462</td><td>FunGiftIdeas.com</td><td>Benitez</td><td>Violeta</td><td>5085552555</td><td>1785 First Street</td><td>NULL</td><td>New Bedford</td><td>MA</td><td>50553</td><td>USA</td><td>1216</td><td>85800.00</td></tr>",
                            "<tr><td>465</td><td>Anton Designs, Ltd.</td><td>Anton</td><td>Carmen</td><td>+34 913 728555</td><td>c/ Gobelas, 19-1 Urb. La Florida</td><td>NULL</td><td>Madrid</td><td>NULL</td><td>28023</td><td>Spain</td><td>NULL</td><td>0.00</td></tr>",
                            "<tr><td>471</td><td>Australian Collectables, Ltd</td><td>Clenahan</td><td>Sean</td><td>61-9-3844-6555</td><td>7 Allen Street</td><td>NULL</td><td>Glen Waverly</td><td>Victoria</td><td>3150</td><td>Australia</td><td>1611</td><td>60300.00</td></tr>",
                            "<tr><td>473</td><td>Frau da Collezione</td><td>Ricotti</td><td>Franco</td><td>+39 022515555</td><td>20093 Cologno Monzese</td><td>Alessandro Volta 16</td><td>Milan</td><td>NULL</td><td>NULL</td><td>Italy</td><td>1401</td><td>34800.00</td></tr>",
                            "<tr><td>475</td><td>West Coast Collectables Co.</td><td>Thompson</td><td>Steve</td><td>3105553722</td><td>3675 Furth Circle</td><td>NULL</td><td>Burbank</td><td>CA</td><td>94019</td><td>USA</td><td>1166</td><td>55400.00</td></tr>",
                            "<tr><td>477</td><td>Mit Vergnügen &amp; Co.</td><td>Moos</td><td>Hanna </td><td>0621-08555</td><td>Forsterstr. 57</td><td>NULL</td><td>Mannheim</td><td>NULL</td><td>68306</td><td>Germany</td><td>NULL</td><td>0.00</td></tr>",
                            "<tr><td>480</td><td>Kremlin Collectables, Co.</td><td>Semenov</td><td>Alexander </td><td>+7 812 293 0521</td><td>2 Pobedy Square</td><td>NULL</td><td>Saint Petersburg</td><td>NULL</td><td>196143</td><td>Russia</td><td>NULL</td><td>0.00</td></tr>",
                            "<tr><td>481</td><td>Raanan Stores, Inc</td><td>Altagar,G M</td><td>Raanan</td><td>+ 972 9 959 8555</td><td>3 Hagalim Blv.</td><td>NULL</td><td>Herzlia</td><td>NULL</td><td>47625</td><td>Israel</td><td>NULL</td><td>0.00</td></tr>",
                            "<tr><td>484</td><td>Iberia Gift Imports, Corp.</td><td>Roel</td><td>José Pedro </td><td>(95) 555 82 82</td><td>C/ Romero, 33</td><td>NULL</td><td>Sevilla</td><td>NULL</td><td>41101</td><td>Spain</td><td>1702</td><td>65700.00</td></tr>",
                            "<tr><td>486</td><td>Motor Mint Distributors Inc.</td><td>Salazar</td><td>Rosa</td><td>2155559857</td><td>11328 Douglas Av.</td><td>NULL</td><td>Philadelphia</td><td>PA</td><td>71270</td><td>USA</td><td>1323</td><td>72600.00</td></tr>",
                            "<tr><td>487</td><td>Signal Collectibles Ltd.</td><td>Taylor</td><td>Sue</td><td>4155554312</td><td>2793 Furth Circle</td><td>NULL</td><td>Brisbane</td><td>CA</td><td>94217</td><td>USA</td><td>1165</td><td>60300.00</td></tr>",
                            "<tr><td>489</td><td>Double Decker Gift Stores, Ltd</td><td>Smith</td><td>Thomas </td><td>(171) 555-7555</td><td>120 Hanover Sq.</td><td>NULL</td><td>London</td><td>NULL</td><td>WA1 1DP</td><td>UK</td><td>1501</td><td>43300.00</td></tr>",
                            "<tr><td>495</td><td>Diecast Collectables</td><td>Franco</td><td>Valarie</td><td>6175552555</td><td>6251 Ingle Ln.</td><td>NULL</td><td>Boston</td><td>MA</td><td>51003</td><td>USA</td><td>1188</td><td>85100.00</td></tr>",
                            "<tr><td>496</td><td>Kelly&#39;s Gift Shop</td><td>Snowden</td><td>Tony</td><td>+64 9 5555500</td><td>Arenales 1938 3&#39;A&#39;</td><td>NULL</td><td>Auckland  </td><td>NULL</td><td>NULL</td><td>New Zealand</td><td>1612</td><td>110000.00</td></tr>",
                            "</table>"
                        ]
                    }
                }
            ],
            "execution_count": 14
        },
        {
            "cell_type": "code",
            "source": [
                "select * from orders"
            ],
            "metadata": {
                "azdata_cell_guid": "070e5cc6-90ea-4509-af37-c91061f389c8",
                "language": "sql"
            },
            "outputs": [
                {
                    "output_type": "display_data",
                    "data": {
                        "text/html": "(326 row(s) affected)"
                    },
                    "metadata": {}
                },
                {
                    "output_type": "display_data",
                    "data": {
                        "text/html": "Total execution time: 00:00:01.006"
                    },
                    "metadata": {}
                },
                {
                    "output_type": "execute_result",
                    "metadata": {},
                    "execution_count": 13,
                    "data": {
                        "application/vnd.dataresource+json": {
                            "schema": {
                                "fields": [
                                    {
                                        "name": "orderNumber"
                                    },
                                    {
                                        "name": "orderDate"
                                    },
                                    {
                                        "name": "requiredDate"
                                    },
                                    {
                                        "name": "shippedDate"
                                    },
                                    {
                                        "name": "status"
                                    },
                                    {
                                        "name": "comments"
                                    },
                                    {
                                        "name": "customerNumber"
                                    }
                                ]
                            },
                            "data": [
                                {
                                    "orderNumber": "10100",
                                    "orderDate": "2003-01-06",
                                    "requiredDate": "2003-01-13",
                                    "shippedDate": "2003-01-10",
                                    "status": "Shipped",
                                    "comments": "NULL",
                                    "customerNumber": "363"
                                },
                                {
                                    "orderNumber": "10101",
                                    "orderDate": "2003-01-09",
                                    "requiredDate": "2003-01-18",
                                    "shippedDate": "2003-01-11",
                                    "status": "Shipped",
                                    "comments": "Check on availability.",
                                    "customerNumber": "128"
                                },
                                {
                                    "orderNumber": "10102",
                                    "orderDate": "2003-01-10",
                                    "requiredDate": "2003-01-18",
                                    "shippedDate": "2003-01-14",
                                    "status": "Shipped",
                                    "comments": "NULL",
                                    "customerNumber": "181"
                                },
                                {
                                    "orderNumber": "10103",
                                    "orderDate": "2003-01-29",
                                    "requiredDate": "2003-02-07",
                                    "shippedDate": "2003-02-02",
                                    "status": "Shipped",
                                    "comments": "NULL",
                                    "customerNumber": "121"
                                },
                                {
                                    "orderNumber": "10104",
                                    "orderDate": "2003-01-31",
                                    "requiredDate": "2003-02-09",
                                    "shippedDate": "2003-02-01",
                                    "status": "Shipped",
                                    "comments": "NULL",
                                    "customerNumber": "141"
                                },
                                {
                                    "orderNumber": "10105",
                                    "orderDate": "2003-02-11",
                                    "requiredDate": "2003-02-21",
                                    "shippedDate": "2003-02-12",
                                    "status": "Shipped",
                                    "comments": "NULL",
                                    "customerNumber": "145"
                                },
                                {
                                    "orderNumber": "10106",
                                    "orderDate": "2003-02-17",
                                    "requiredDate": "2003-02-24",
                                    "shippedDate": "2003-02-21",
                                    "status": "Shipped",
                                    "comments": "NULL",
                                    "customerNumber": "278"
                                },
                                {
                                    "orderNumber": "10107",
                                    "orderDate": "2003-02-24",
                                    "requiredDate": "2003-03-03",
                                    "shippedDate": "2003-02-26",
                                    "status": "Shipped",
                                    "comments": "Difficult to negotiate with customer. We need more marketing materials",
                                    "customerNumber": "131"
                                },
                                {
                                    "orderNumber": "10108",
                                    "orderDate": "2003-03-03",
                                    "requiredDate": "2003-03-12",
                                    "shippedDate": "2003-03-08",
                                    "status": "Shipped",
                                    "comments": "NULL",
                                    "customerNumber": "385"
                                },
                                {
                                    "orderNumber": "10109",
                                    "orderDate": "2003-03-10",
                                    "requiredDate": "2003-03-19",
                                    "shippedDate": "2003-03-11",
                                    "status": "Shipped",
                                    "comments": "Customer requested that FedEx Ground is used for this shipping",
                                    "customerNumber": "486"
                                },
                                {
                                    "orderNumber": "10110",
                                    "orderDate": "2003-03-18",
                                    "requiredDate": "2003-03-24",
                                    "shippedDate": "2003-03-20",
                                    "status": "Shipped",
                                    "comments": "NULL",
                                    "customerNumber": "187"
                                },
                                {
                                    "orderNumber": "10111",
                                    "orderDate": "2003-03-25",
                                    "requiredDate": "2003-03-31",
                                    "shippedDate": "2003-03-30",
                                    "status": "Shipped",
                                    "comments": "NULL",
                                    "customerNumber": "129"
                                },
                                {
                                    "orderNumber": "10112",
                                    "orderDate": "2003-03-24",
                                    "requiredDate": "2003-04-03",
                                    "shippedDate": "2003-03-29",
                                    "status": "Shipped",
                                    "comments": "Customer requested that ad materials (such as posters, pamphlets) be included in the shippment",
                                    "customerNumber": "144"
                                },
                                {
                                    "orderNumber": "10113",
                                    "orderDate": "2003-03-26",
                                    "requiredDate": "2003-04-02",
                                    "shippedDate": "2003-03-27",
                                    "status": "Shipped",
                                    "comments": "NULL",
                                    "customerNumber": "124"
                                },
                                {
                                    "orderNumber": "10114",
                                    "orderDate": "2003-04-01",
                                    "requiredDate": "2003-04-07",
                                    "shippedDate": "2003-04-02",
                                    "status": "Shipped",
                                    "comments": "NULL",
                                    "customerNumber": "172"
                                },
                                {
                                    "orderNumber": "10115",
                                    "orderDate": "2003-04-04",
                                    "requiredDate": "2003-04-12",
                                    "shippedDate": "2003-04-07",
                                    "status": "Shipped",
                                    "comments": "NULL",
                                    "customerNumber": "424"
                                },
                                {
                                    "orderNumber": "10116",
                                    "orderDate": "2003-04-11",
                                    "requiredDate": "2003-04-19",
                                    "shippedDate": "2003-04-13",
                                    "status": "Shipped",
                                    "comments": "NULL",
                                    "customerNumber": "381"
                                },
                                {
                                    "orderNumber": "10117",
                                    "orderDate": "2003-04-16",
                                    "requiredDate": "2003-04-24",
                                    "shippedDate": "2003-04-17",
                                    "status": "Shipped",
                                    "comments": "NULL",
                                    "customerNumber": "148"
                                },
                                {
                                    "orderNumber": "10118",
                                    "orderDate": "2003-04-21",
                                    "requiredDate": "2003-04-29",
                                    "shippedDate": "2003-04-26",
                                    "status": "Shipped",
                                    "comments": "Customer has worked with some of our vendors in the past and is aware of their MSRP",
                                    "customerNumber": "216"
                                },
                                {
                                    "orderNumber": "10119",
                                    "orderDate": "2003-04-28",
                                    "requiredDate": "2003-05-05",
                                    "shippedDate": "2003-05-02",
                                    "status": "Shipped",
                                    "comments": "NULL",
                                    "customerNumber": "382"
                                },
                                {
                                    "orderNumber": "10120",
                                    "orderDate": "2003-04-29",
                                    "requiredDate": "2003-05-08",
                                    "shippedDate": "2003-05-01",
                                    "status": "Shipped",
                                    "comments": "NULL",
                                    "customerNumber": "114"
                                },
                                {
                                    "orderNumber": "10121",
                                    "orderDate": "2003-05-07",
                                    "requiredDate": "2003-05-13",
                                    "shippedDate": "2003-05-13",
                                    "status": "Shipped",
                                    "comments": "NULL",
                                    "customerNumber": "353"
                                },
                                {
                                    "orderNumber": "10122",
                                    "orderDate": "2003-05-08",
                                    "requiredDate": "2003-05-16",
                                    "shippedDate": "2003-05-13",
                                    "status": "Shipped",
                                    "comments": "NULL",
                                    "customerNumber": "350"
                                },
                                {
                                    "orderNumber": "10123",
                                    "orderDate": "2003-05-20",
                                    "requiredDate": "2003-05-29",
                                    "shippedDate": "2003-05-22",
                                    "status": "Shipped",
                                    "comments": "NULL",
                                    "customerNumber": "103"
                                },
                                {
                                    "orderNumber": "10124",
                                    "orderDate": "2003-05-21",
                                    "requiredDate": "2003-05-29",
                                    "shippedDate": "2003-05-25",
                                    "status": "Shipped",
                                    "comments": "Customer very concerned about the exact color of the models. There is high risk that he may dispute the order because there is a slight color mismatch",
                                    "customerNumber": "112"
                                },
                                {
                                    "orderNumber": "10125",
                                    "orderDate": "2003-05-21",
                                    "requiredDate": "2003-05-27",
                                    "shippedDate": "2003-05-24",
                                    "status": "Shipped",
                                    "comments": "NULL",
                                    "customerNumber": "114"
                                },
                                {
                                    "orderNumber": "10126",
                                    "orderDate": "2003-05-28",
                                    "requiredDate": "2003-06-07",
                                    "shippedDate": "2003-06-02",
                                    "status": "Shipped",
                                    "comments": "NULL",
                                    "customerNumber": "458"
                                },
                                {
                                    "orderNumber": "10127",
                                    "orderDate": "2003-06-03",
                                    "requiredDate": "2003-06-09",
                                    "shippedDate": "2003-06-06",
                                    "status": "Shipped",
                                    "comments": "Customer requested special shippment. The instructions were passed along to the warehouse",
                                    "customerNumber": "151"
                                },
                                {
                                    "orderNumber": "10128",
                                    "orderDate": "2003-06-06",
                                    "requiredDate": "2003-06-12",
                                    "shippedDate": "2003-06-11",
                                    "status": "Shipped",
                                    "comments": "NULL",
                                    "customerNumber": "141"
                                },
                                {
                                    "orderNumber": "10129",
                                    "orderDate": "2003-06-12",
                                    "requiredDate": "2003-06-18",
                                    "shippedDate": "2003-06-14",
                                    "status": "Shipped",
                                    "comments": "NULL",
                                    "customerNumber": "324"
                                },
                                {
                                    "orderNumber": "10130",
                                    "orderDate": "2003-06-16",
                                    "requiredDate": "2003-06-24",
                                    "shippedDate": "2003-06-21",
                                    "status": "Shipped",
                                    "comments": "NULL",
                                    "customerNumber": "198"
                                },
                                {
                                    "orderNumber": "10131",
                                    "orderDate": "2003-06-16",
                                    "requiredDate": "2003-06-25",
                                    "shippedDate": "2003-06-21",
                                    "status": "Shipped",
                                    "comments": "NULL",
                                    "customerNumber": "447"
                                },
                                {
                                    "orderNumber": "10132",
                                    "orderDate": "2003-06-25",
                                    "requiredDate": "2003-07-01",
                                    "shippedDate": "2003-06-28",
                                    "status": "Shipped",
                                    "comments": "NULL",
                                    "customerNumber": "323"
                                },
                                {
                                    "orderNumber": "10133",
                                    "orderDate": "2003-06-27",
                                    "requiredDate": "2003-07-04",
                                    "shippedDate": "2003-07-03",
                                    "status": "Shipped",
                                    "comments": "NULL",
                                    "customerNumber": "141"
                                },
                                {
                                    "orderNumber": "10134",
                                    "orderDate": "2003-07-01",
                                    "requiredDate": "2003-07-10",
                                    "shippedDate": "2003-07-05",
                                    "status": "Shipped",
                                    "comments": "NULL",
                                    "customerNumber": "250"
                                },
                                {
                                    "orderNumber": "10135",
                                    "orderDate": "2003-07-02",
                                    "requiredDate": "2003-07-12",
                                    "shippedDate": "2003-07-03",
                                    "status": "Shipped",
                                    "comments": "NULL",
                                    "customerNumber": "124"
                                },
                                {
                                    "orderNumber": "10136",
                                    "orderDate": "2003-07-04",
                                    "requiredDate": "2003-07-14",
                                    "shippedDate": "2003-07-06",
                                    "status": "Shipped",
                                    "comments": "Customer is interested in buying more Ferrari models",
                                    "customerNumber": "242"
                                },
                                {
                                    "orderNumber": "10137",
                                    "orderDate": "2003-07-10",
                                    "requiredDate": "2003-07-20",
                                    "shippedDate": "2003-07-14",
                                    "status": "Shipped",
                                    "comments": "NULL",
                                    "customerNumber": "353"
                                },
                                {
                                    "orderNumber": "10138",
                                    "orderDate": "2003-07-07",
                                    "requiredDate": "2003-07-16",
                                    "shippedDate": "2003-07-13",
                                    "status": "Shipped",
                                    "comments": "NULL",
                                    "customerNumber": "496"
                                },
                                {
                                    "orderNumber": "10139",
                                    "orderDate": "2003-07-16",
                                    "requiredDate": "2003-07-23",
                                    "shippedDate": "2003-07-21",
                                    "status": "Shipped",
                                    "comments": "NULL",
                                    "customerNumber": "282"
                                },
                                {
                                    "orderNumber": "10140",
                                    "orderDate": "2003-07-24",
                                    "requiredDate": "2003-08-02",
                                    "shippedDate": "2003-07-30",
                                    "status": "Shipped",
                                    "comments": "NULL",
                                    "customerNumber": "161"
                                },
                                {
                                    "orderNumber": "10141",
                                    "orderDate": "2003-08-01",
                                    "requiredDate": "2003-08-09",
                                    "shippedDate": "2003-08-04",
                                    "status": "Shipped",
                                    "comments": "NULL",
                                    "customerNumber": "334"
                                },
                                {
                                    "orderNumber": "10142",
                                    "orderDate": "2003-08-08",
                                    "requiredDate": "2003-08-16",
                                    "shippedDate": "2003-08-13",
                                    "status": "Shipped",
                                    "comments": "NULL",
                                    "customerNumber": "124"
                                },
                                {
                                    "orderNumber": "10143",
                                    "orderDate": "2003-08-10",
                                    "requiredDate": "2003-08-18",
                                    "shippedDate": "2003-08-12",
                                    "status": "Shipped",
                                    "comments": "Can we deliver the new Ford Mustang models by end-of-quarter?",
                                    "customerNumber": "320"
                                },
                                {
                                    "orderNumber": "10144",
                                    "orderDate": "2003-08-13",
                                    "requiredDate": "2003-08-21",
                                    "shippedDate": "2003-08-14",
                                    "status": "Shipped",
                                    "comments": "NULL",
                                    "customerNumber": "381"
                                },
                                {
                                    "orderNumber": "10145",
                                    "orderDate": "2003-08-25",
                                    "requiredDate": "2003-09-02",
                                    "shippedDate": "2003-08-31",
                                    "status": "Shipped",
                                    "comments": "NULL",
                                    "customerNumber": "205"
                                },
                                {
                                    "orderNumber": "10146",
                                    "orderDate": "2003-09-03",
                                    "requiredDate": "2003-09-13",
                                    "shippedDate": "2003-09-06",
                                    "status": "Shipped",
                                    "comments": "NULL",
                                    "customerNumber": "447"
                                },
                                {
                                    "orderNumber": "10147",
                                    "orderDate": "2003-09-05",
                                    "requiredDate": "2003-09-12",
                                    "shippedDate": "2003-09-09",
                                    "status": "Shipped",
                                    "comments": "NULL",
                                    "customerNumber": "379"
                                },
                                {
                                    "orderNumber": "10148",
                                    "orderDate": "2003-09-11",
                                    "requiredDate": "2003-09-21",
                                    "shippedDate": "2003-09-15",
                                    "status": "Shipped",
                                    "comments": "They want to reevaluate their terms agreement with Finance.",
                                    "customerNumber": "276"
                                },
                                {
                                    "orderNumber": "10149",
                                    "orderDate": "2003-09-12",
                                    "requiredDate": "2003-09-18",
                                    "shippedDate": "2003-09-17",
                                    "status": "Shipped",
                                    "comments": "NULL",
                                    "customerNumber": "487"
                                },
                                {
                                    "orderNumber": "10150",
                                    "orderDate": "2003-09-19",
                                    "requiredDate": "2003-09-27",
                                    "shippedDate": "2003-09-21",
                                    "status": "Shipped",
                                    "comments": "They want to reevaluate their terms agreement with Finance.",
                                    "customerNumber": "148"
                                },
                                {
                                    "orderNumber": "10151",
                                    "orderDate": "2003-09-21",
                                    "requiredDate": "2003-09-30",
                                    "shippedDate": "2003-09-24",
                                    "status": "Shipped",
                                    "comments": "NULL",
                                    "customerNumber": "311"
                                },
                                {
                                    "orderNumber": "10152",
                                    "orderDate": "2003-09-25",
                                    "requiredDate": "2003-10-03",
                                    "shippedDate": "2003-10-01",
                                    "status": "Shipped",
                                    "comments": "NULL",
                                    "customerNumber": "333"
                                },
                                {
                                    "orderNumber": "10153",
                                    "orderDate": "2003-09-28",
                                    "requiredDate": "2003-10-05",
                                    "shippedDate": "2003-10-03",
                                    "status": "Shipped",
                                    "comments": "NULL",
                                    "customerNumber": "141"
                                },
                                {
                                    "orderNumber": "10154",
                                    "orderDate": "2003-10-02",
                                    "requiredDate": "2003-10-12",
                                    "shippedDate": "2003-10-08",
                                    "status": "Shipped",
                                    "comments": "NULL",
                                    "customerNumber": "219"
                                },
                                {
                                    "orderNumber": "10155",
                                    "orderDate": "2003-10-06",
                                    "requiredDate": "2003-10-13",
                                    "shippedDate": "2003-10-07",
                                    "status": "Shipped",
                                    "comments": "NULL",
                                    "customerNumber": "186"
                                },
                                {
                                    "orderNumber": "10156",
                                    "orderDate": "2003-10-08",
                                    "requiredDate": "2003-10-17",
                                    "shippedDate": "2003-10-11",
                                    "status": "Shipped",
                                    "comments": "NULL",
                                    "customerNumber": "141"
                                },
                                {
                                    "orderNumber": "10157",
                                    "orderDate": "2003-10-09",
                                    "requiredDate": "2003-10-15",
                                    "shippedDate": "2003-10-14",
                                    "status": "Shipped",
                                    "comments": "NULL",
                                    "customerNumber": "473"
                                },
                                {
                                    "orderNumber": "10158",
                                    "orderDate": "2003-10-10",
                                    "requiredDate": "2003-10-18",
                                    "shippedDate": "2003-10-15",
                                    "status": "Shipped",
                                    "comments": "NULL",
                                    "customerNumber": "121"
                                },
                                {
                                    "orderNumber": "10159",
                                    "orderDate": "2003-10-10",
                                    "requiredDate": "2003-10-19",
                                    "shippedDate": "2003-10-16",
                                    "status": "Shipped",
                                    "comments": "NULL",
                                    "customerNumber": "321"
                                },
                                {
                                    "orderNumber": "10160",
                                    "orderDate": "2003-10-11",
                                    "requiredDate": "2003-10-17",
                                    "shippedDate": "2003-10-17",
                                    "status": "Shipped",
                                    "comments": "NULL",
                                    "customerNumber": "347"
                                },
                                {
                                    "orderNumber": "10161",
                                    "orderDate": "2003-10-17",
                                    "requiredDate": "2003-10-25",
                                    "shippedDate": "2003-10-20",
                                    "status": "Shipped",
                                    "comments": "NULL",
                                    "customerNumber": "227"
                                },
                                {
                                    "orderNumber": "10162",
                                    "orderDate": "2003-10-18",
                                    "requiredDate": "2003-10-26",
                                    "shippedDate": "2003-10-19",
                                    "status": "Shipped",
                                    "comments": "NULL",
                                    "customerNumber": "321"
                                },
                                {
                                    "orderNumber": "10163",
                                    "orderDate": "2003-10-20",
                                    "requiredDate": "2003-10-27",
                                    "shippedDate": "2003-10-24",
                                    "status": "Shipped",
                                    "comments": "NULL",
                                    "customerNumber": "424"
                                },
                                {
                                    "orderNumber": "10164",
                                    "orderDate": "2003-10-21",
                                    "requiredDate": "2003-10-30",
                                    "shippedDate": "2003-10-23",
                                    "status": "Resolved",
                                    "comments": "This order was disputed, but resolved on 11/1/2003; Customer doesn't like the colors and precision of the models.",
                                    "customerNumber": "452"
                                },
                                {
                                    "orderNumber": "10165",
                                    "orderDate": "2003-10-22",
                                    "requiredDate": "2003-10-31",
                                    "shippedDate": "2003-12-26",
                                    "status": "Shipped",
                                    "comments": "This order was on hold because customers's credit limit had been exceeded. Order will ship when payment is received",
                                    "customerNumber": "148"
                                },
                                {
                                    "orderNumber": "10166",
                                    "orderDate": "2003-10-21",
                                    "requiredDate": "2003-10-30",
                                    "shippedDate": "2003-10-27",
                                    "status": "Shipped",
                                    "comments": "NULL",
                                    "customerNumber": "462"
                                },
                                {
                                    "orderNumber": "10167",
                                    "orderDate": "2003-10-23",
                                    "requiredDate": "2003-10-30",
                                    "shippedDate": "NULL",
                                    "status": "Cancelled",
                                    "comments": "Customer called to cancel. The warehouse was notified in time and the order didn't ship. They have a new VP of Sales and are shifting their sales model. Our VP of Sales should contact them.",
                                    "customerNumber": "448"
                                },
                                {
                                    "orderNumber": "10168",
                                    "orderDate": "2003-10-28",
                                    "requiredDate": "2003-11-03",
                                    "shippedDate": "2003-11-01",
                                    "status": "Shipped",
                                    "comments": "NULL",
                                    "customerNumber": "161"
                                },
                                {
                                    "orderNumber": "10169",
                                    "orderDate": "2003-11-04",
                                    "requiredDate": "2003-11-14",
                                    "shippedDate": "2003-11-09",
                                    "status": "Shipped",
                                    "comments": "NULL",
                                    "customerNumber": "276"
                                },
                                {
                                    "orderNumber": "10170",
                                    "orderDate": "2003-11-04",
                                    "requiredDate": "2003-11-12",
                                    "shippedDate": "2003-11-07",
                                    "status": "Shipped",
                                    "comments": "NULL",
                                    "customerNumber": "452"
                                },
                                {
                                    "orderNumber": "10171",
                                    "orderDate": "2003-11-05",
                                    "requiredDate": "2003-11-13",
                                    "shippedDate": "2003-11-07",
                                    "status": "Shipped",
                                    "comments": "NULL",
                                    "customerNumber": "233"
                                },
                                {
                                    "orderNumber": "10172",
                                    "orderDate": "2003-11-05",
                                    "requiredDate": "2003-11-14",
                                    "shippedDate": "2003-11-11",
                                    "status": "Shipped",
                                    "comments": "NULL",
                                    "customerNumber": "175"
                                },
                                {
                                    "orderNumber": "10173",
                                    "orderDate": "2003-11-05",
                                    "requiredDate": "2003-11-15",
                                    "shippedDate": "2003-11-09",
                                    "status": "Shipped",
                                    "comments": "Cautious optimism. We have happy customers here, if we can keep them well stocked.  I need all the information I can get on the planned shippments of Porches",
                                    "customerNumber": "278"
                                },
                                {
                                    "orderNumber": "10174",
                                    "orderDate": "2003-11-06",
                                    "requiredDate": "2003-11-15",
                                    "shippedDate": "2003-11-10",
                                    "status": "Shipped",
                                    "comments": "NULL",
                                    "customerNumber": "333"
                                },
                                {
                                    "orderNumber": "10175",
                                    "orderDate": "2003-11-06",
                                    "requiredDate": "2003-11-14",
                                    "shippedDate": "2003-11-09",
                                    "status": "Shipped",
                                    "comments": "NULL",
                                    "customerNumber": "324"
                                },
                                {
                                    "orderNumber": "10176",
                                    "orderDate": "2003-11-06",
                                    "requiredDate": "2003-11-15",
                                    "shippedDate": "2003-11-12",
                                    "status": "Shipped",
                                    "comments": "NULL",
                                    "customerNumber": "386"
                                },
                                {
                                    "orderNumber": "10177",
                                    "orderDate": "2003-11-07",
                                    "requiredDate": "2003-11-17",
                                    "shippedDate": "2003-11-12",
                                    "status": "Shipped",
                                    "comments": "NULL",
                                    "customerNumber": "344"
                                },
                                {
                                    "orderNumber": "10178",
                                    "orderDate": "2003-11-08",
                                    "requiredDate": "2003-11-16",
                                    "shippedDate": "2003-11-10",
                                    "status": "Shipped",
                                    "comments": "Custom shipping instructions sent to warehouse",
                                    "customerNumber": "242"
                                },
                                {
                                    "orderNumber": "10179",
                                    "orderDate": "2003-11-11",
                                    "requiredDate": "2003-11-17",
                                    "shippedDate": "2003-11-13",
                                    "status": "Cancelled",
                                    "comments": "Customer cancelled due to urgent budgeting issues. Must be cautious when dealing with them in the future. Since order shipped already we must discuss who would cover the shipping charges.",
                                    "customerNumber": "496"
                                },
                                {
                                    "orderNumber": "10180",
                                    "orderDate": "2003-11-11",
                                    "requiredDate": "2003-11-19",
                                    "shippedDate": "2003-11-14",
                                    "status": "Shipped",
                                    "comments": "NULL",
                                    "customerNumber": "171"
                                },
                                {
                                    "orderNumber": "10181",
                                    "orderDate": "2003-11-12",
                                    "requiredDate": "2003-11-19",
                                    "shippedDate": "2003-11-15",
                                    "status": "Shipped",
                                    "comments": "NULL",
                                    "customerNumber": "167"
                                },
                                {
                                    "orderNumber": "10182",
                                    "orderDate": "2003-11-12",
                                    "requiredDate": "2003-11-21",
                                    "shippedDate": "2003-11-18",
                                    "status": "Shipped",
                                    "comments": "NULL",
                                    "customerNumber": "124"
                                },
                                {
                                    "orderNumber": "10183",
                                    "orderDate": "2003-11-13",
                                    "requiredDate": "2003-11-22",
                                    "shippedDate": "2003-11-15",
                                    "status": "Shipped",
                                    "comments": "We need to keep in close contact with their Marketing VP. He is the decision maker for all their purchases.",
                                    "customerNumber": "339"
                                },
                                {
                                    "orderNumber": "10184",
                                    "orderDate": "2003-11-14",
                                    "requiredDate": "2003-11-22",
                                    "shippedDate": "2003-11-20",
                                    "status": "Shipped",
                                    "comments": "NULL",
                                    "customerNumber": "484"
                                },
                                {
                                    "orderNumber": "10185",
                                    "orderDate": "2003-11-14",
                                    "requiredDate": "2003-11-21",
                                    "shippedDate": "2003-11-20",
                                    "status": "Shipped",
                                    "comments": "NULL",
                                    "customerNumber": "320"
                                },
                                {
                                    "orderNumber": "10186",
                                    "orderDate": "2003-11-14",
                                    "requiredDate": "2003-11-20",
                                    "shippedDate": "2003-11-18",
                                    "status": "Shipped",
                                    "comments": "They want to reevaluate their terms agreement with the VP of Sales",
                                    "customerNumber": "489"
                                },
                                {
                                    "orderNumber": "10187",
                                    "orderDate": "2003-11-15",
                                    "requiredDate": "2003-11-24",
                                    "shippedDate": "2003-11-16",
                                    "status": "Shipped",
                                    "comments": "NULL",
                                    "customerNumber": "211"
                                },
                                {
                                    "orderNumber": "10188",
                                    "orderDate": "2003-11-18",
                                    "requiredDate": "2003-11-26",
                                    "shippedDate": "2003-11-24",
                                    "status": "Shipped",
                                    "comments": "NULL",
                                    "customerNumber": "167"
                                },
                                {
                                    "orderNumber": "10189",
                                    "orderDate": "2003-11-18",
                                    "requiredDate": "2003-11-25",
                                    "shippedDate": "2003-11-24",
                                    "status": "Shipped",
                                    "comments": "They want to reevaluate their terms agreement with Finance.",
                                    "customerNumber": "205"
                                },
                                {
                                    "orderNumber": "10190",
                                    "orderDate": "2003-11-19",
                                    "requiredDate": "2003-11-29",
                                    "shippedDate": "2003-11-20",
                                    "status": "Shipped",
                                    "comments": "NULL",
                                    "customerNumber": "141"
                                },
                                {
                                    "orderNumber": "10191",
                                    "orderDate": "2003-11-20",
                                    "requiredDate": "2003-11-30",
                                    "shippedDate": "2003-11-24",
                                    "status": "Shipped",
                                    "comments": "We must be cautions with this customer. Their VP of Sales resigned. Company may be heading down.",
                                    "customerNumber": "259"
                                },
                                {
                                    "orderNumber": "10192",
                                    "orderDate": "2003-11-20",
                                    "requiredDate": "2003-11-29",
                                    "shippedDate": "2003-11-25",
                                    "status": "Shipped",
                                    "comments": "NULL",
                                    "customerNumber": "363"
                                },
                                {
                                    "orderNumber": "10193",
                                    "orderDate": "2003-11-21",
                                    "requiredDate": "2003-11-28",
                                    "shippedDate": "2003-11-27",
                                    "status": "Shipped",
                                    "comments": "NULL",
                                    "customerNumber": "471"
                                },
                                {
                                    "orderNumber": "10194",
                                    "orderDate": "2003-11-25",
                                    "requiredDate": "2003-12-02",
                                    "shippedDate": "2003-11-26",
                                    "status": "Shipped",
                                    "comments": "NULL",
                                    "customerNumber": "146"
                                },
                                {
                                    "orderNumber": "10195",
                                    "orderDate": "2003-11-25",
                                    "requiredDate": "2003-12-01",
                                    "shippedDate": "2003-11-28",
                                    "status": "Shipped",
                                    "comments": "NULL",
                                    "customerNumber": "319"
                                },
                                {
                                    "orderNumber": "10196",
                                    "orderDate": "2003-11-26",
                                    "requiredDate": "2003-12-03",
                                    "shippedDate": "2003-12-01",
                                    "status": "Shipped",
                                    "comments": "NULL",
                                    "customerNumber": "455"
                                },
                                {
                                    "orderNumber": "10197",
                                    "orderDate": "2003-11-26",
                                    "requiredDate": "2003-12-02",
                                    "shippedDate": "2003-12-01",
                                    "status": "Shipped",
                                    "comments": "Customer inquired about remote controlled models and gold models.",
                                    "customerNumber": "216"
                                },
                                {
                                    "orderNumber": "10198",
                                    "orderDate": "2003-11-27",
                                    "requiredDate": "2003-12-06",
                                    "shippedDate": "2003-12-03",
                                    "status": "Shipped",
                                    "comments": "NULL",
                                    "customerNumber": "385"
                                },
                                {
                                    "orderNumber": "10199",
                                    "orderDate": "2003-12-01",
                                    "requiredDate": "2003-12-10",
                                    "shippedDate": "2003-12-06",
                                    "status": "Shipped",
                                    "comments": "NULL",
                                    "customerNumber": "475"
                                },
                                {
                                    "orderNumber": "10200",
                                    "orderDate": "2003-12-01",
                                    "requiredDate": "2003-12-09",
                                    "shippedDate": "2003-12-06",
                                    "status": "Shipped",
                                    "comments": "NULL",
                                    "customerNumber": "211"
                                },
                                {
                                    "orderNumber": "10201",
                                    "orderDate": "2003-12-01",
                                    "requiredDate": "2003-12-11",
                                    "shippedDate": "2003-12-02",
                                    "status": "Shipped",
                                    "comments": "NULL",
                                    "customerNumber": "129"
                                },
                                {
                                    "orderNumber": "10202",
                                    "orderDate": "2003-12-02",
                                    "requiredDate": "2003-12-09",
                                    "shippedDate": "2003-12-06",
                                    "status": "Shipped",
                                    "comments": "NULL",
                                    "customerNumber": "357"
                                },
                                {
                                    "orderNumber": "10203",
                                    "orderDate": "2003-12-02",
                                    "requiredDate": "2003-12-11",
                                    "shippedDate": "2003-12-07",
                                    "status": "Shipped",
                                    "comments": "NULL",
                                    "customerNumber": "141"
                                },
                                {
                                    "orderNumber": "10204",
                                    "orderDate": "2003-12-02",
                                    "requiredDate": "2003-12-10",
                                    "shippedDate": "2003-12-04",
                                    "status": "Shipped",
                                    "comments": "NULL",
                                    "customerNumber": "151"
                                },
                                {
                                    "orderNumber": "10205",
                                    "orderDate": "2003-12-03",
                                    "requiredDate": "2003-12-09",
                                    "shippedDate": "2003-12-07",
                                    "status": "Shipped",
                                    "comments": " I need all the information I can get on our competitors.",
                                    "customerNumber": "141"
                                },
                                {
                                    "orderNumber": "10206",
                                    "orderDate": "2003-12-05",
                                    "requiredDate": "2003-12-13",
                                    "shippedDate": "2003-12-08",
                                    "status": "Shipped",
                                    "comments": "Can we renegotiate this one?",
                                    "customerNumber": "202"
                                },
                                {
                                    "orderNumber": "10207",
                                    "orderDate": "2003-12-09",
                                    "requiredDate": "2003-12-17",
                                    "shippedDate": "2003-12-11",
                                    "status": "Shipped",
                                    "comments": "Check on availability.",
                                    "customerNumber": "495"
                                },
                                {
                                    "orderNumber": "10208",
                                    "orderDate": "2004-01-02",
                                    "requiredDate": "2004-01-11",
                                    "shippedDate": "2004-01-04",
                                    "status": "Shipped",
                                    "comments": "NULL",
                                    "customerNumber": "146"
                                },
                                {
                                    "orderNumber": "10209",
                                    "orderDate": "2004-01-09",
                                    "requiredDate": "2004-01-15",
                                    "shippedDate": "2004-01-12",
                                    "status": "Shipped",
                                    "comments": "NULL",
                                    "customerNumber": "347"
                                },
                                {
                                    "orderNumber": "10210",
                                    "orderDate": "2004-01-12",
                                    "requiredDate": "2004-01-22",
                                    "shippedDate": "2004-01-20",
                                    "status": "Shipped",
                                    "comments": "NULL",
                                    "customerNumber": "177"
                                },
                                {
                                    "orderNumber": "10211",
                                    "orderDate": "2004-01-15",
                                    "requiredDate": "2004-01-25",
                                    "shippedDate": "2004-01-18",
                                    "status": "Shipped",
                                    "comments": "NULL",
                                    "customerNumber": "406"
                                },
                                {
                                    "orderNumber": "10212",
                                    "orderDate": "2004-01-16",
                                    "requiredDate": "2004-01-24",
                                    "shippedDate": "2004-01-18",
                                    "status": "Shipped",
                                    "comments": "NULL",
                                    "customerNumber": "141"
                                },
                                {
                                    "orderNumber": "10213",
                                    "orderDate": "2004-01-22",
                                    "requiredDate": "2004-01-28",
                                    "shippedDate": "2004-01-27",
                                    "status": "Shipped",
                                    "comments": "Difficult to negotiate with customer. We need more marketing materials",
                                    "customerNumber": "489"
                                },
                                {
                                    "orderNumber": "10214",
                                    "orderDate": "2004-01-26",
                                    "requiredDate": "2004-02-04",
                                    "shippedDate": "2004-01-29",
                                    "status": "Shipped",
                                    "comments": "NULL",
                                    "customerNumber": "458"
                                },
                                {
                                    "orderNumber": "10215",
                                    "orderDate": "2004-01-29",
                                    "requiredDate": "2004-02-08",
                                    "shippedDate": "2004-02-01",
                                    "status": "Shipped",
                                    "comments": "Customer requested that FedEx Ground is used for this shipping",
                                    "customerNumber": "475"
                                },
                                {
                                    "orderNumber": "10216",
                                    "orderDate": "2004-02-02",
                                    "requiredDate": "2004-02-10",
                                    "shippedDate": "2004-02-04",
                                    "status": "Shipped",
                                    "comments": "NULL",
                                    "customerNumber": "256"
                                },
                                {
                                    "orderNumber": "10217",
                                    "orderDate": "2004-02-04",
                                    "requiredDate": "2004-02-14",
                                    "shippedDate": "2004-02-06",
                                    "status": "Shipped",
                                    "comments": "NULL",
                                    "customerNumber": "166"
                                },
                                {
                                    "orderNumber": "10218",
                                    "orderDate": "2004-02-09",
                                    "requiredDate": "2004-02-16",
                                    "shippedDate": "2004-02-11",
                                    "status": "Shipped",
                                    "comments": "Customer requested that ad materials (such as posters, pamphlets) be included in the shippment",
                                    "customerNumber": "473"
                                },
                                {
                                    "orderNumber": "10219",
                                    "orderDate": "2004-02-10",
                                    "requiredDate": "2004-02-17",
                                    "shippedDate": "2004-02-12",
                                    "status": "Shipped",
                                    "comments": "NULL",
                                    "customerNumber": "487"
                                },
                                {
                                    "orderNumber": "10220",
                                    "orderDate": "2004-02-12",
                                    "requiredDate": "2004-02-19",
                                    "shippedDate": "2004-02-16",
                                    "status": "Shipped",
                                    "comments": "NULL",
                                    "customerNumber": "189"
                                },
                                {
                                    "orderNumber": "10221",
                                    "orderDate": "2004-02-18",
                                    "requiredDate": "2004-02-26",
                                    "shippedDate": "2004-02-19",
                                    "status": "Shipped",
                                    "comments": "NULL",
                                    "customerNumber": "314"
                                },
                                {
                                    "orderNumber": "10222",
                                    "orderDate": "2004-02-19",
                                    "requiredDate": "2004-02-27",
                                    "shippedDate": "2004-02-20",
                                    "status": "Shipped",
                                    "comments": "NULL",
                                    "customerNumber": "239"
                                },
                                {
                                    "orderNumber": "10223",
                                    "orderDate": "2004-02-20",
                                    "requiredDate": "2004-02-29",
                                    "shippedDate": "2004-02-24",
                                    "status": "Shipped",
                                    "comments": "NULL",
                                    "customerNumber": "114"
                                },
                                {
                                    "orderNumber": "10224",
                                    "orderDate": "2004-02-21",
                                    "requiredDate": "2004-03-02",
                                    "shippedDate": "2004-02-26",
                                    "status": "Shipped",
                                    "comments": "Customer has worked with some of our vendors in the past and is aware of their MSRP",
                                    "customerNumber": "171"
                                },
                                {
                                    "orderNumber": "10225",
                                    "orderDate": "2004-02-22",
                                    "requiredDate": "2004-03-01",
                                    "shippedDate": "2004-02-24",
                                    "status": "Shipped",
                                    "comments": "NULL",
                                    "customerNumber": "298"
                                },
                                {
                                    "orderNumber": "10226",
                                    "orderDate": "2004-02-26",
                                    "requiredDate": "2004-03-06",
                                    "shippedDate": "2004-03-02",
                                    "status": "Shipped",
                                    "comments": "NULL",
                                    "customerNumber": "239"
                                },
                                {
                                    "orderNumber": "10227",
                                    "orderDate": "2004-03-02",
                                    "requiredDate": "2004-03-12",
                                    "shippedDate": "2004-03-08",
                                    "status": "Shipped",
                                    "comments": "NULL",
                                    "customerNumber": "146"
                                },
                                {
                                    "orderNumber": "10228",
                                    "orderDate": "2004-03-10",
                                    "requiredDate": "2004-03-18",
                                    "shippedDate": "2004-03-13",
                                    "status": "Shipped",
                                    "comments": "NULL",
                                    "customerNumber": "173"
                                },
                                {
                                    "orderNumber": "10229",
                                    "orderDate": "2004-03-11",
                                    "requiredDate": "2004-03-20",
                                    "shippedDate": "2004-03-12",
                                    "status": "Shipped",
                                    "comments": "NULL",
                                    "customerNumber": "124"
                                },
                                {
                                    "orderNumber": "10230",
                                    "orderDate": "2004-03-15",
                                    "requiredDate": "2004-03-24",
                                    "shippedDate": "2004-03-20",
                                    "status": "Shipped",
                                    "comments": "Customer very concerned about the exact color of the models. There is high risk that he may dispute the order because there is a slight color mismatch",
                                    "customerNumber": "128"
                                },
                                {
                                    "orderNumber": "10231",
                                    "orderDate": "2004-03-19",
                                    "requiredDate": "2004-03-26",
                                    "shippedDate": "2004-03-25",
                                    "status": "Shipped",
                                    "comments": "NULL",
                                    "customerNumber": "344"
                                },
                                {
                                    "orderNumber": "10232",
                                    "orderDate": "2004-03-20",
                                    "requiredDate": "2004-03-30",
                                    "shippedDate": "2004-03-25",
                                    "status": "Shipped",
                                    "comments": "NULL",
                                    "customerNumber": "240"
                                },
                                {
                                    "orderNumber": "10233",
                                    "orderDate": "2004-03-29",
                                    "requiredDate": "2004-04-04",
                                    "shippedDate": "2004-04-02",
                                    "status": "Shipped",
                                    "comments": "Customer requested special shippment. The instructions were passed along to the warehouse",
                                    "customerNumber": "328"
                                },
                                {
                                    "orderNumber": "10234",
                                    "orderDate": "2004-03-30",
                                    "requiredDate": "2004-04-05",
                                    "shippedDate": "2004-04-02",
                                    "status": "Shipped",
                                    "comments": "NULL",
                                    "customerNumber": "412"
                                },
                                {
                                    "orderNumber": "10235",
                                    "orderDate": "2004-04-02",
                                    "requiredDate": "2004-04-12",
                                    "shippedDate": "2004-04-06",
                                    "status": "Shipped",
                                    "comments": "NULL",
                                    "customerNumber": "260"
                                },
                                {
                                    "orderNumber": "10236",
                                    "orderDate": "2004-04-03",
                                    "requiredDate": "2004-04-11",
                                    "shippedDate": "2004-04-08",
                                    "status": "Shipped",
                                    "comments": "NULL",
                                    "customerNumber": "486"
                                },
                                {
                                    "orderNumber": "10237",
                                    "orderDate": "2004-04-05",
                                    "requiredDate": "2004-04-12",
                                    "shippedDate": "2004-04-10",
                                    "status": "Shipped",
                                    "comments": "NULL",
                                    "customerNumber": "181"
                                },
                                {
                                    "orderNumber": "10238",
                                    "orderDate": "2004-04-09",
                                    "requiredDate": "2004-04-16",
                                    "shippedDate": "2004-04-10",
                                    "status": "Shipped",
                                    "comments": "NULL",
                                    "customerNumber": "145"
                                },
                                {
                                    "orderNumber": "10239",
                                    "orderDate": "2004-04-12",
                                    "requiredDate": "2004-04-21",
                                    "shippedDate": "2004-04-17",
                                    "status": "Shipped",
                                    "comments": "NULL",
                                    "customerNumber": "311"
                                },
                                {
                                    "orderNumber": "10240",
                                    "orderDate": "2004-04-13",
                                    "requiredDate": "2004-04-20",
                                    "shippedDate": "2004-04-20",
                                    "status": "Shipped",
                                    "comments": "NULL",
                                    "customerNumber": "177"
                                },
                                {
                                    "orderNumber": "10241",
                                    "orderDate": "2004-04-13",
                                    "requiredDate": "2004-04-20",
                                    "shippedDate": "2004-04-19",
                                    "status": "Shipped",
                                    "comments": "NULL",
                                    "customerNumber": "209"
                                },
                                {
                                    "orderNumber": "10242",
                                    "orderDate": "2004-04-20",
                                    "requiredDate": "2004-04-28",
                                    "shippedDate": "2004-04-25",
                                    "status": "Shipped",
                                    "comments": "Customer is interested in buying more Ferrari models",
                                    "customerNumber": "456"
                                },
                                {
                                    "orderNumber": "10243",
                                    "orderDate": "2004-04-26",
                                    "requiredDate": "2004-05-03",
                                    "shippedDate": "2004-04-28",
                                    "status": "Shipped",
                                    "comments": "NULL",
                                    "customerNumber": "495"
                                },
                                {
                                    "orderNumber": "10244",
                                    "orderDate": "2004-04-29",
                                    "requiredDate": "2004-05-09",
                                    "shippedDate": "2004-05-04",
                                    "status": "Shipped",
                                    "comments": "NULL",
                                    "customerNumber": "141"
                                },
                                {
                                    "orderNumber": "10245",
                                    "orderDate": "2004-05-04",
                                    "requiredDate": "2004-05-12",
                                    "shippedDate": "2004-05-09",
                                    "status": "Shipped",
                                    "comments": "NULL",
                                    "customerNumber": "455"
                                },
                                {
                                    "orderNumber": "10246",
                                    "orderDate": "2004-05-05",
                                    "requiredDate": "2004-05-13",
                                    "shippedDate": "2004-05-06",
                                    "status": "Shipped",
                                    "comments": "NULL",
                                    "customerNumber": "141"
                                },
                                {
                                    "orderNumber": "10247",
                                    "orderDate": "2004-05-05",
                                    "requiredDate": "2004-05-11",
                                    "shippedDate": "2004-05-08",
                                    "status": "Shipped",
                                    "comments": "NULL",
                                    "customerNumber": "334"
                                },
                                {
                                    "orderNumber": "10248",
                                    "orderDate": "2004-05-07",
                                    "requiredDate": "2004-05-14",
                                    "shippedDate": "NULL",
                                    "status": "Cancelled",
                                    "comments": "Order was mistakenly placed. The warehouse noticed the lack of documentation.",
                                    "customerNumber": "131"
                                },
                                {
                                    "orderNumber": "10249",
                                    "orderDate": "2004-05-08",
                                    "requiredDate": "2004-05-17",
                                    "shippedDate": "2004-05-11",
                                    "status": "Shipped",
                                    "comments": "Can we deliver the new Ford Mustang models by end-of-quarter?",
                                    "customerNumber": "173"
                                },
                                {
                                    "orderNumber": "10250",
                                    "orderDate": "2004-05-11",
                                    "requiredDate": "2004-05-19",
                                    "shippedDate": "2004-05-15",
                                    "status": "Shipped",
                                    "comments": "NULL",
                                    "customerNumber": "450"
                                },
                                {
                                    "orderNumber": "10251",
                                    "orderDate": "2004-05-18",
                                    "requiredDate": "2004-05-24",
                                    "shippedDate": "2004-05-24",
                                    "status": "Shipped",
                                    "comments": "NULL",
                                    "customerNumber": "328"
                                },
                                {
                                    "orderNumber": "10252",
                                    "orderDate": "2004-05-26",
                                    "requiredDate": "2004-06-04",
                                    "shippedDate": "2004-05-29",
                                    "status": "Shipped",
                                    "comments": "NULL",
                                    "customerNumber": "406"
                                },
                                {
                                    "orderNumber": "10253",
                                    "orderDate": "2004-06-01",
                                    "requiredDate": "2004-06-09",
                                    "shippedDate": "2004-06-02",
                                    "status": "Cancelled",
                                    "comments": "Customer disputed the order and we agreed to cancel it. We must be more cautions with this customer going forward, since they are very hard to please. We must cover the shipping fees.",
                                    "customerNumber": "201"
                                },
                                {
                                    "orderNumber": "10254",
                                    "orderDate": "2004-06-03",
                                    "requiredDate": "2004-06-13",
                                    "shippedDate": "2004-06-04",
                                    "status": "Shipped",
                                    "comments": "Customer requested that DHL is used for this shipping",
                                    "customerNumber": "323"
                                },
                                {
                                    "orderNumber": "10255",
                                    "orderDate": "2004-06-04",
                                    "requiredDate": "2004-06-12",
                                    "shippedDate": "2004-06-09",
                                    "status": "Shipped",
                                    "comments": "NULL",
                                    "customerNumber": "209"
                                },
                                {
                                    "orderNumber": "10256",
                                    "orderDate": "2004-06-08",
                                    "requiredDate": "2004-06-16",
                                    "shippedDate": "2004-06-10",
                                    "status": "Shipped",
                                    "comments": "NULL",
                                    "customerNumber": "145"
                                },
                                {
                                    "orderNumber": "10257",
                                    "orderDate": "2004-06-14",
                                    "requiredDate": "2004-06-24",
                                    "shippedDate": "2004-06-15",
                                    "status": "Shipped",
                                    "comments": "NULL",
                                    "customerNumber": "450"
                                },
                                {
                                    "orderNumber": "10258",
                                    "orderDate": "2004-06-15",
                                    "requiredDate": "2004-06-25",
                                    "shippedDate": "2004-06-23",
                                    "status": "Shipped",
                                    "comments": "NULL",
                                    "customerNumber": "398"
                                },
                                {
                                    "orderNumber": "10259",
                                    "orderDate": "2004-06-15",
                                    "requiredDate": "2004-06-22",
                                    "shippedDate": "2004-06-17",
                                    "status": "Shipped",
                                    "comments": "NULL",
                                    "customerNumber": "166"
                                },
                                {
                                    "orderNumber": "10260",
                                    "orderDate": "2004-06-16",
                                    "requiredDate": "2004-06-22",
                                    "shippedDate": "NULL",
                                    "status": "Cancelled",
                                    "comments": "Customer heard complaints from their customers and called to cancel this order. Will notify the Sales Manager.",
                                    "customerNumber": "357"
                                },
                                {
                                    "orderNumber": "10261",
                                    "orderDate": "2004-06-17",
                                    "requiredDate": "2004-06-25",
                                    "shippedDate": "2004-06-22",
                                    "status": "Shipped",
                                    "comments": "NULL",
                                    "customerNumber": "233"
                                },
                                {
                                    "orderNumber": "10262",
                                    "orderDate": "2004-06-24",
                                    "requiredDate": "2004-07-01",
                                    "shippedDate": "NULL",
                                    "status": "Cancelled",
                                    "comments": "This customer found a better offer from one of our competitors. Will call back to renegotiate.",
                                    "customerNumber": "141"
                                },
                                {
                                    "orderNumber": "10263",
                                    "orderDate": "2004-06-28",
                                    "requiredDate": "2004-07-04",
                                    "shippedDate": "2004-07-02",
                                    "status": "Shipped",
                                    "comments": "NULL",
                                    "customerNumber": "175"
                                },
                                {
                                    "orderNumber": "10264",
                                    "orderDate": "2004-06-30",
                                    "requiredDate": "2004-07-06",
                                    "shippedDate": "2004-07-01",
                                    "status": "Shipped",
                                    "comments": "Customer will send a truck to our local warehouse on 7/1/2004",
                                    "customerNumber": "362"
                                },
                                {
                                    "orderNumber": "10265",
                                    "orderDate": "2004-07-02",
                                    "requiredDate": "2004-07-09",
                                    "shippedDate": "2004-07-07",
                                    "status": "Shipped",
                                    "comments": "NULL",
                                    "customerNumber": "471"
                                },
                                {
                                    "orderNumber": "10266",
                                    "orderDate": "2004-07-06",
                                    "requiredDate": "2004-07-14",
                                    "shippedDate": "2004-07-10",
                                    "status": "Shipped",
                                    "comments": "NULL",
                                    "customerNumber": "386"
                                },
                                {
                                    "orderNumber": "10267",
                                    "orderDate": "2004-07-07",
                                    "requiredDate": "2004-07-17",
                                    "shippedDate": "2004-07-09",
                                    "status": "Shipped",
                                    "comments": "NULL",
                                    "customerNumber": "151"
                                },
                                {
                                    "orderNumber": "10268",
                                    "orderDate": "2004-07-12",
                                    "requiredDate": "2004-07-18",
                                    "shippedDate": "2004-07-14",
                                    "status": "Shipped",
                                    "comments": "NULL",
                                    "customerNumber": "412"
                                },
                                {
                                    "orderNumber": "10269",
                                    "orderDate": "2004-07-16",
                                    "requiredDate": "2004-07-22",
                                    "shippedDate": "2004-07-18",
                                    "status": "Shipped",
                                    "comments": "NULL",
                                    "customerNumber": "382"
                                },
                                {
                                    "orderNumber": "10270",
                                    "orderDate": "2004-07-19",
                                    "requiredDate": "2004-07-27",
                                    "shippedDate": "2004-07-24",
                                    "status": "Shipped",
                                    "comments": "Can we renegotiate this one?",
                                    "customerNumber": "282"
                                },
                                {
                                    "orderNumber": "10271",
                                    "orderDate": "2004-07-20",
                                    "requiredDate": "2004-07-29",
                                    "shippedDate": "2004-07-23",
                                    "status": "Shipped",
                                    "comments": "NULL",
                                    "customerNumber": "124"
                                },
                                {
                                    "orderNumber": "10272",
                                    "orderDate": "2004-07-20",
                                    "requiredDate": "2004-07-26",
                                    "shippedDate": "2004-07-22",
                                    "status": "Shipped",
                                    "comments": "NULL",
                                    "customerNumber": "157"
                                },
                                {
                                    "orderNumber": "10273",
                                    "orderDate": "2004-07-21",
                                    "requiredDate": "2004-07-28",
                                    "shippedDate": "2004-07-22",
                                    "status": "Shipped",
                                    "comments": "NULL",
                                    "customerNumber": "314"
                                },
                                {
                                    "orderNumber": "10274",
                                    "orderDate": "2004-07-21",
                                    "requiredDate": "2004-07-29",
                                    "shippedDate": "2004-07-22",
                                    "status": "Shipped",
                                    "comments": "NULL",
                                    "customerNumber": "379"
                                },
                                {
                                    "orderNumber": "10275",
                                    "orderDate": "2004-07-23",
                                    "requiredDate": "2004-08-02",
                                    "shippedDate": "2004-07-29",
                                    "status": "Shipped",
                                    "comments": "NULL",
                                    "customerNumber": "119"
                                },
                                {
                                    "orderNumber": "10276",
                                    "orderDate": "2004-08-02",
                                    "requiredDate": "2004-08-11",
                                    "shippedDate": "2004-08-08",
                                    "status": "Shipped",
                                    "comments": "NULL",
                                    "customerNumber": "204"
                                },
                                {
                                    "orderNumber": "10277",
                                    "orderDate": "2004-08-04",
                                    "requiredDate": "2004-08-12",
                                    "shippedDate": "2004-08-05",
                                    "status": "Shipped",
                                    "comments": "NULL",
                                    "customerNumber": "148"
                                },
                                {
                                    "orderNumber": "10278",
                                    "orderDate": "2004-08-06",
                                    "requiredDate": "2004-08-16",
                                    "shippedDate": "2004-08-09",
                                    "status": "Shipped",
                                    "comments": "NULL",
                                    "customerNumber": "112"
                                },
                                {
                                    "orderNumber": "10279",
                                    "orderDate": "2004-08-09",
                                    "requiredDate": "2004-08-19",
                                    "shippedDate": "2004-08-15",
                                    "status": "Shipped",
                                    "comments": "Cautious optimism. We have happy customers here, if we can keep them well stocked.  I need all the information I can get on the planned shippments of Porches",
                                    "customerNumber": "141"
                                },
                                {
                                    "orderNumber": "10280",
                                    "orderDate": "2004-08-17",
                                    "requiredDate": "2004-08-27",
                                    "shippedDate": "2004-08-19",
                                    "status": "Shipped",
                                    "comments": "NULL",
                                    "customerNumber": "249"
                                },
                                {
                                    "orderNumber": "10281",
                                    "orderDate": "2004-08-19",
                                    "requiredDate": "2004-08-28",
                                    "shippedDate": "2004-08-23",
                                    "status": "Shipped",
                                    "comments": "NULL",
                                    "customerNumber": "157"
                                },
                                {
                                    "orderNumber": "10282",
                                    "orderDate": "2004-08-20",
                                    "requiredDate": "2004-08-26",
                                    "shippedDate": "2004-08-22",
                                    "status": "Shipped",
                                    "comments": "NULL",
                                    "customerNumber": "124"
                                },
                                {
                                    "orderNumber": "10283",
                                    "orderDate": "2004-08-20",
                                    "requiredDate": "2004-08-30",
                                    "shippedDate": "2004-08-23",
                                    "status": "Shipped",
                                    "comments": "NULL",
                                    "customerNumber": "260"
                                },
                                {
                                    "orderNumber": "10284",
                                    "orderDate": "2004-08-21",
                                    "requiredDate": "2004-08-29",
                                    "shippedDate": "2004-08-26",
                                    "status": "Shipped",
                                    "comments": "Custom shipping instructions sent to warehouse",
                                    "customerNumber": "299"
                                },
                                {
                                    "orderNumber": "10285",
                                    "orderDate": "2004-08-27",
                                    "requiredDate": "2004-09-04",
                                    "shippedDate": "2004-08-31",
                                    "status": "Shipped",
                                    "comments": "NULL",
                                    "customerNumber": "286"
                                },
                                {
                                    "orderNumber": "10286",
                                    "orderDate": "2004-08-28",
                                    "requiredDate": "2004-09-06",
                                    "shippedDate": "2004-09-01",
                                    "status": "Shipped",
                                    "comments": "NULL",
                                    "customerNumber": "172"
                                },
                                {
                                    "orderNumber": "10287",
                                    "orderDate": "2004-08-30",
                                    "requiredDate": "2004-09-06",
                                    "shippedDate": "2004-09-01",
                                    "status": "Shipped",
                                    "comments": "NULL",
                                    "customerNumber": "298"
                                },
                                {
                                    "orderNumber": "10288",
                                    "orderDate": "2004-09-01",
                                    "requiredDate": "2004-09-11",
                                    "shippedDate": "2004-09-05",
                                    "status": "Shipped",
                                    "comments": "NULL",
                                    "customerNumber": "166"
                                },
                                {
                                    "orderNumber": "10289",
                                    "orderDate": "2004-09-03",
                                    "requiredDate": "2004-09-13",
                                    "shippedDate": "2004-09-04",
                                    "status": "Shipped",
                                    "comments": "We need to keep in close contact with their Marketing VP. He is the decision maker for all their purchases.",
                                    "customerNumber": "167"
                                },
                                {
                                    "orderNumber": "10290",
                                    "orderDate": "2004-09-07",
                                    "requiredDate": "2004-09-15",
                                    "shippedDate": "2004-09-13",
                                    "status": "Shipped",
                                    "comments": "NULL",
                                    "customerNumber": "198"
                                },
                                {
                                    "orderNumber": "10291",
                                    "orderDate": "2004-09-08",
                                    "requiredDate": "2004-09-17",
                                    "shippedDate": "2004-09-14",
                                    "status": "Shipped",
                                    "comments": "NULL",
                                    "customerNumber": "448"
                                },
                                {
                                    "orderNumber": "10292",
                                    "orderDate": "2004-09-08",
                                    "requiredDate": "2004-09-18",
                                    "shippedDate": "2004-09-11",
                                    "status": "Shipped",
                                    "comments": "They want to reevaluate their terms agreement with Finance.",
                                    "customerNumber": "131"
                                },
                                {
                                    "orderNumber": "10293",
                                    "orderDate": "2004-09-09",
                                    "requiredDate": "2004-09-18",
                                    "shippedDate": "2004-09-14",
                                    "status": "Shipped",
                                    "comments": "NULL",
                                    "customerNumber": "249"
                                },
                                {
                                    "orderNumber": "10294",
                                    "orderDate": "2004-09-10",
                                    "requiredDate": "2004-09-17",
                                    "shippedDate": "2004-09-14",
                                    "status": "Shipped",
                                    "comments": "NULL",
                                    "customerNumber": "204"
                                },
                                {
                                    "orderNumber": "10295",
                                    "orderDate": "2004-09-10",
                                    "requiredDate": "2004-09-17",
                                    "shippedDate": "2004-09-14",
                                    "status": "Shipped",
                                    "comments": "They want to reevaluate their terms agreement with Finance.",
                                    "customerNumber": "362"
                                },
                                {
                                    "orderNumber": "10296",
                                    "orderDate": "2004-09-15",
                                    "requiredDate": "2004-09-22",
                                    "shippedDate": "2004-09-16",
                                    "status": "Shipped",
                                    "comments": "NULL",
                                    "customerNumber": "415"
                                },
                                {
                                    "orderNumber": "10297",
                                    "orderDate": "2004-09-16",
                                    "requiredDate": "2004-09-22",
                                    "shippedDate": "2004-09-21",
                                    "status": "Shipped",
                                    "comments": "We must be cautions with this customer. Their VP of Sales resigned. Company may be heading down.",
                                    "customerNumber": "189"
                                },
                                {
                                    "orderNumber": "10298",
                                    "orderDate": "2004-09-27",
                                    "requiredDate": "2004-10-05",
                                    "shippedDate": "2004-10-01",
                                    "status": "Shipped",
                                    "comments": "NULL",
                                    "customerNumber": "103"
                                },
                                {
                                    "orderNumber": "10299",
                                    "orderDate": "2004-09-30",
                                    "requiredDate": "2004-10-10",
                                    "shippedDate": "2004-10-01",
                                    "status": "Shipped",
                                    "comments": "NULL",
                                    "customerNumber": "186"
                                },
                                {
                                    "orderNumber": "10300",
                                    "orderDate": "2003-10-04",
                                    "requiredDate": "2003-10-13",
                                    "shippedDate": "2003-10-09",
                                    "status": "Shipped",
                                    "comments": "NULL",
                                    "customerNumber": "128"
                                },
                                {
                                    "orderNumber": "10301",
                                    "orderDate": "2003-10-05",
                                    "requiredDate": "2003-10-15",
                                    "shippedDate": "2003-10-08",
                                    "status": "Shipped",
                                    "comments": "NULL",
                                    "customerNumber": "299"
                                },
                                {
                                    "orderNumber": "10302",
                                    "orderDate": "2003-10-06",
                                    "requiredDate": "2003-10-16",
                                    "shippedDate": "2003-10-07",
                                    "status": "Shipped",
                                    "comments": "NULL",
                                    "customerNumber": "201"
                                },
                                {
                                    "orderNumber": "10303",
                                    "orderDate": "2004-10-06",
                                    "requiredDate": "2004-10-14",
                                    "shippedDate": "2004-10-09",
                                    "status": "Shipped",
                                    "comments": "Customer inquired about remote controlled models and gold models.",
                                    "customerNumber": "484"
                                },
                                {
                                    "orderNumber": "10304",
                                    "orderDate": "2004-10-11",
                                    "requiredDate": "2004-10-20",
                                    "shippedDate": "2004-10-17",
                                    "status": "Shipped",
                                    "comments": "NULL",
                                    "customerNumber": "256"
                                },
                                {
                                    "orderNumber": "10305",
                                    "orderDate": "2004-10-13",
                                    "requiredDate": "2004-10-22",
                                    "shippedDate": "2004-10-15",
                                    "status": "Shipped",
                                    "comments": "Check on availability.",
                                    "customerNumber": "286"
                                },
                                {
                                    "orderNumber": "10306",
                                    "orderDate": "2004-10-14",
                                    "requiredDate": "2004-10-21",
                                    "shippedDate": "2004-10-17",
                                    "status": "Shipped",
                                    "comments": "NULL",
                                    "customerNumber": "187"
                                },
                                {
                                    "orderNumber": "10307",
                                    "orderDate": "2004-10-14",
                                    "requiredDate": "2004-10-23",
                                    "shippedDate": "2004-10-20",
                                    "status": "Shipped",
                                    "comments": "NULL",
                                    "customerNumber": "339"
                                },
                                {
                                    "orderNumber": "10308",
                                    "orderDate": "2004-10-15",
                                    "requiredDate": "2004-10-24",
                                    "shippedDate": "2004-10-20",
                                    "status": "Shipped",
                                    "comments": "Customer requested that FedEx Ground is used for this shipping",
                                    "customerNumber": "319"
                                },
                                {
                                    "orderNumber": "10309",
                                    "orderDate": "2004-10-15",
                                    "requiredDate": "2004-10-24",
                                    "shippedDate": "2004-10-18",
                                    "status": "Shipped",
                                    "comments": "NULL",
                                    "customerNumber": "121"
                                },
                                {
                                    "orderNumber": "10310",
                                    "orderDate": "2004-10-16",
                                    "requiredDate": "2004-10-24",
                                    "shippedDate": "2004-10-18",
                                    "status": "Shipped",
                                    "comments": "NULL",
                                    "customerNumber": "259"
                                },
                                {
                                    "orderNumber": "10311",
                                    "orderDate": "2004-10-16",
                                    "requiredDate": "2004-10-23",
                                    "shippedDate": "2004-10-20",
                                    "status": "Shipped",
                                    "comments": "Difficult to negotiate with customer. We need more marketing materials",
                                    "customerNumber": "141"
                                },
                                {
                                    "orderNumber": "10312",
                                    "orderDate": "2004-10-21",
                                    "requiredDate": "2004-10-27",
                                    "shippedDate": "2004-10-23",
                                    "status": "Shipped",
                                    "comments": "NULL",
                                    "customerNumber": "124"
                                },
                                {
                                    "orderNumber": "10313",
                                    "orderDate": "2004-10-22",
                                    "requiredDate": "2004-10-28",
                                    "shippedDate": "2004-10-25",
                                    "status": "Shipped",
                                    "comments": "Customer requested that FedEx Ground is used for this shipping",
                                    "customerNumber": "202"
                                },
                                {
                                    "orderNumber": "10314",
                                    "orderDate": "2004-10-22",
                                    "requiredDate": "2004-11-01",
                                    "shippedDate": "2004-10-23",
                                    "status": "Shipped",
                                    "comments": "NULL",
                                    "customerNumber": "227"
                                },
                                {
                                    "orderNumber": "10315",
                                    "orderDate": "2004-10-29",
                                    "requiredDate": "2004-11-08",
                                    "shippedDate": "2004-10-30",
                                    "status": "Shipped",
                                    "comments": "NULL",
                                    "customerNumber": "119"
                                },
                                {
                                    "orderNumber": "10316",
                                    "orderDate": "2004-11-01",
                                    "requiredDate": "2004-11-09",
                                    "shippedDate": "2004-11-07",
                                    "status": "Shipped",
                                    "comments": "Customer requested that ad materials (such as posters, pamphlets) be included in the shippment",
                                    "customerNumber": "240"
                                },
                                {
                                    "orderNumber": "10317",
                                    "orderDate": "2004-11-02",
                                    "requiredDate": "2004-11-12",
                                    "shippedDate": "2004-11-08",
                                    "status": "Shipped",
                                    "comments": "NULL",
                                    "customerNumber": "161"
                                },
                                {
                                    "orderNumber": "10318",
                                    "orderDate": "2004-11-02",
                                    "requiredDate": "2004-11-09",
                                    "shippedDate": "2004-11-07",
                                    "status": "Shipped",
                                    "comments": "NULL",
                                    "customerNumber": "157"
                                },
                                {
                                    "orderNumber": "10319",
                                    "orderDate": "2004-11-03",
                                    "requiredDate": "2004-11-11",
                                    "shippedDate": "2004-11-06",
                                    "status": "Shipped",
                                    "comments": "Customer requested that DHL is used for this shipping",
                                    "customerNumber": "456"
                                },
                                {
                                    "orderNumber": "10320",
                                    "orderDate": "2004-11-03",
                                    "requiredDate": "2004-11-13",
                                    "shippedDate": "2004-11-07",
                                    "status": "Shipped",
                                    "comments": "NULL",
                                    "customerNumber": "144"
                                },
                                {
                                    "orderNumber": "10321",
                                    "orderDate": "2004-11-04",
                                    "requiredDate": "2004-11-12",
                                    "shippedDate": "2004-11-07",
                                    "status": "Shipped",
                                    "comments": "NULL",
                                    "customerNumber": "462"
                                },
                                {
                                    "orderNumber": "10322",
                                    "orderDate": "2004-11-04",
                                    "requiredDate": "2004-11-12",
                                    "shippedDate": "2004-11-10",
                                    "status": "Shipped",
                                    "comments": "Customer has worked with some of our vendors in the past and is aware of their MSRP",
                                    "customerNumber": "363"
                                },
                                {
                                    "orderNumber": "10323",
                                    "orderDate": "2004-11-05",
                                    "requiredDate": "2004-11-12",
                                    "shippedDate": "2004-11-09",
                                    "status": "Shipped",
                                    "comments": "NULL",
                                    "customerNumber": "128"
                                },
                                {
                                    "orderNumber": "10324",
                                    "orderDate": "2004-11-05",
                                    "requiredDate": "2004-11-11",
                                    "shippedDate": "2004-11-08",
                                    "status": "Shipped",
                                    "comments": "NULL",
                                    "customerNumber": "181"
                                },
                                {
                                    "orderNumber": "10325",
                                    "orderDate": "2004-11-05",
                                    "requiredDate": "2004-11-13",
                                    "shippedDate": "2004-11-08",
                                    "status": "Shipped",
                                    "comments": "NULL",
                                    "customerNumber": "121"
                                },
                                {
                                    "orderNumber": "10326",
                                    "orderDate": "2004-11-09",
                                    "requiredDate": "2004-11-16",
                                    "shippedDate": "2004-11-10",
                                    "status": "Shipped",
                                    "comments": "NULL",
                                    "customerNumber": "144"
                                },
                                {
                                    "orderNumber": "10327",
                                    "orderDate": "2004-11-10",
                                    "requiredDate": "2004-11-19",
                                    "shippedDate": "2004-11-13",
                                    "status": "Resolved",
                                    "comments": "Order was disputed and resolved on 12/1/04. The Sales Manager was involved. Customer claims the scales of the models don't match what was discussed.",
                                    "customerNumber": "145"
                                },
                                {
                                    "orderNumber": "10328",
                                    "orderDate": "2004-11-12",
                                    "requiredDate": "2004-11-21",
                                    "shippedDate": "2004-11-18",
                                    "status": "Shipped",
                                    "comments": "Customer very concerned about the exact color of the models. There is high risk that he may dispute the order because there is a slight color mismatch",
                                    "customerNumber": "278"
                                },
                                {
                                    "orderNumber": "10329",
                                    "orderDate": "2004-11-15",
                                    "requiredDate": "2004-11-24",
                                    "shippedDate": "2004-11-16",
                                    "status": "Shipped",
                                    "comments": "NULL",
                                    "customerNumber": "131"
                                },
                                {
                                    "orderNumber": "10330",
                                    "orderDate": "2004-11-16",
                                    "requiredDate": "2004-11-25",
                                    "shippedDate": "2004-11-21",
                                    "status": "Shipped",
                                    "comments": "NULL",
                                    "customerNumber": "385"
                                },
                                {
                                    "orderNumber": "10331",
                                    "orderDate": "2004-11-17",
                                    "requiredDate": "2004-11-23",
                                    "shippedDate": "2004-11-23",
                                    "status": "Shipped",
                                    "comments": "Customer requested special shippment. The instructions were passed along to the warehouse",
                                    "customerNumber": "486"
                                },
                                {
                                    "orderNumber": "10332",
                                    "orderDate": "2004-11-17",
                                    "requiredDate": "2004-11-25",
                                    "shippedDate": "2004-11-18",
                                    "status": "Shipped",
                                    "comments": "NULL",
                                    "customerNumber": "187"
                                },
                                {
                                    "orderNumber": "10333",
                                    "orderDate": "2004-11-18",
                                    "requiredDate": "2004-11-27",
                                    "shippedDate": "2004-11-20",
                                    "status": "Shipped",
                                    "comments": "NULL",
                                    "customerNumber": "129"
                                },
                                {
                                    "orderNumber": "10334",
                                    "orderDate": "2004-11-19",
                                    "requiredDate": "2004-11-28",
                                    "shippedDate": "NULL",
                                    "status": "On Hold",
                                    "comments": "The outstaniding balance for this customer exceeds their credit limit. Order will be shipped when a payment is received.",
                                    "customerNumber": "144"
                                },
                                {
                                    "orderNumber": "10335",
                                    "orderDate": "2004-11-19",
                                    "requiredDate": "2004-11-29",
                                    "shippedDate": "2004-11-23",
                                    "status": "Shipped",
                                    "comments": "NULL",
                                    "customerNumber": "124"
                                },
                                {
                                    "orderNumber": "10336",
                                    "orderDate": "2004-11-20",
                                    "requiredDate": "2004-11-26",
                                    "shippedDate": "2004-11-24",
                                    "status": "Shipped",
                                    "comments": "Customer requested that DHL is used for this shipping",
                                    "customerNumber": "172"
                                },
                                {
                                    "orderNumber": "10337",
                                    "orderDate": "2004-11-21",
                                    "requiredDate": "2004-11-30",
                                    "shippedDate": "2004-11-26",
                                    "status": "Shipped",
                                    "comments": "NULL",
                                    "customerNumber": "424"
                                },
                                {
                                    "orderNumber": "10338",
                                    "orderDate": "2004-11-22",
                                    "requiredDate": "2004-12-02",
                                    "shippedDate": "2004-11-27",
                                    "status": "Shipped",
                                    "comments": "NULL",
                                    "customerNumber": "381"
                                },
                                {
                                    "orderNumber": "10339",
                                    "orderDate": "2004-11-23",
                                    "requiredDate": "2004-11-30",
                                    "shippedDate": "2004-11-30",
                                    "status": "Shipped",
                                    "comments": "NULL",
                                    "customerNumber": "398"
                                },
                                {
                                    "orderNumber": "10340",
                                    "orderDate": "2004-11-24",
                                    "requiredDate": "2004-12-01",
                                    "shippedDate": "2004-11-25",
                                    "status": "Shipped",
                                    "comments": "Customer is interested in buying more Ferrari models",
                                    "customerNumber": "216"
                                },
                                {
                                    "orderNumber": "10341",
                                    "orderDate": "2004-11-24",
                                    "requiredDate": "2004-12-01",
                                    "shippedDate": "2004-11-29",
                                    "status": "Shipped",
                                    "comments": "NULL",
                                    "customerNumber": "382"
                                },
                                {
                                    "orderNumber": "10342",
                                    "orderDate": "2004-11-24",
                                    "requiredDate": "2004-12-01",
                                    "shippedDate": "2004-11-29",
                                    "status": "Shipped",
                                    "comments": "NULL",
                                    "customerNumber": "114"
                                },
                                {
                                    "orderNumber": "10343",
                                    "orderDate": "2004-11-24",
                                    "requiredDate": "2004-12-01",
                                    "shippedDate": "2004-11-26",
                                    "status": "Shipped",
                                    "comments": "NULL",
                                    "customerNumber": "353"
                                },
                                {
                                    "orderNumber": "10344",
                                    "orderDate": "2004-11-25",
                                    "requiredDate": "2004-12-02",
                                    "shippedDate": "2004-11-29",
                                    "status": "Shipped",
                                    "comments": "NULL",
                                    "customerNumber": "350"
                                },
                                {
                                    "orderNumber": "10345",
                                    "orderDate": "2004-11-25",
                                    "requiredDate": "2004-12-01",
                                    "shippedDate": "2004-11-26",
                                    "status": "Shipped",
                                    "comments": "NULL",
                                    "customerNumber": "103"
                                },
                                {
                                    "orderNumber": "10346",
                                    "orderDate": "2004-11-29",
                                    "requiredDate": "2004-12-05",
                                    "shippedDate": "2004-11-30",
                                    "status": "Shipped",
                                    "comments": "NULL",
                                    "customerNumber": "112"
                                },
                                {
                                    "orderNumber": "10347",
                                    "orderDate": "2004-11-29",
                                    "requiredDate": "2004-12-07",
                                    "shippedDate": "2004-11-30",
                                    "status": "Shipped",
                                    "comments": "Can we deliver the new Ford Mustang models by end-of-quarter?",
                                    "customerNumber": "114"
                                },
                                {
                                    "orderNumber": "10348",
                                    "orderDate": "2004-11-01",
                                    "requiredDate": "2004-11-08",
                                    "shippedDate": "2004-11-05",
                                    "status": "Shipped",
                                    "comments": "NULL",
                                    "customerNumber": "458"
                                },
                                {
                                    "orderNumber": "10349",
                                    "orderDate": "2004-12-01",
                                    "requiredDate": "2004-12-07",
                                    "shippedDate": "2004-12-03",
                                    "status": "Shipped",
                                    "comments": "NULL",
                                    "customerNumber": "151"
                                },
                                {
                                    "orderNumber": "10350",
                                    "orderDate": "2004-12-02",
                                    "requiredDate": "2004-12-08",
                                    "shippedDate": "2004-12-05",
                                    "status": "Shipped",
                                    "comments": "NULL",
                                    "customerNumber": "141"
                                },
                                {
                                    "orderNumber": "10351",
                                    "orderDate": "2004-12-03",
                                    "requiredDate": "2004-12-11",
                                    "shippedDate": "2004-12-07",
                                    "status": "Shipped",
                                    "comments": "NULL",
                                    "customerNumber": "324"
                                },
                                {
                                    "orderNumber": "10352",
                                    "orderDate": "2004-12-03",
                                    "requiredDate": "2004-12-12",
                                    "shippedDate": "2004-12-09",
                                    "status": "Shipped",
                                    "comments": "NULL",
                                    "customerNumber": "198"
                                },
                                {
                                    "orderNumber": "10353",
                                    "orderDate": "2004-12-04",
                                    "requiredDate": "2004-12-11",
                                    "shippedDate": "2004-12-05",
                                    "status": "Shipped",
                                    "comments": "NULL",
                                    "customerNumber": "447"
                                },
                                {
                                    "orderNumber": "10354",
                                    "orderDate": "2004-12-04",
                                    "requiredDate": "2004-12-10",
                                    "shippedDate": "2004-12-05",
                                    "status": "Shipped",
                                    "comments": "NULL",
                                    "customerNumber": "323"
                                },
                                {
                                    "orderNumber": "10355",
                                    "orderDate": "2004-12-07",
                                    "requiredDate": "2004-12-14",
                                    "shippedDate": "2004-12-13",
                                    "status": "Shipped",
                                    "comments": "NULL",
                                    "customerNumber": "141"
                                },
                                {
                                    "orderNumber": "10356",
                                    "orderDate": "2004-12-09",
                                    "requiredDate": "2004-12-15",
                                    "shippedDate": "2004-12-12",
                                    "status": "Shipped",
                                    "comments": "NULL",
                                    "customerNumber": "250"
                                },
                                {
                                    "orderNumber": "10357",
                                    "orderDate": "2004-12-10",
                                    "requiredDate": "2004-12-16",
                                    "shippedDate": "2004-12-14",
                                    "status": "Shipped",
                                    "comments": "NULL",
                                    "customerNumber": "124"
                                },
                                {
                                    "orderNumber": "10358",
                                    "orderDate": "2004-12-10",
                                    "requiredDate": "2004-12-16",
                                    "shippedDate": "2004-12-16",
                                    "status": "Shipped",
                                    "comments": "Customer requested that DHL is used for this shipping",
                                    "customerNumber": "141"
                                },
                                {
                                    "orderNumber": "10359",
                                    "orderDate": "2004-12-15",
                                    "requiredDate": "2004-12-23",
                                    "shippedDate": "2004-12-18",
                                    "status": "Shipped",
                                    "comments": "NULL",
                                    "customerNumber": "353"
                                },
                                {
                                    "orderNumber": "10360",
                                    "orderDate": "2004-12-16",
                                    "requiredDate": "2004-12-22",
                                    "shippedDate": "2004-12-18",
                                    "status": "Shipped",
                                    "comments": "NULL",
                                    "customerNumber": "496"
                                },
                                {
                                    "orderNumber": "10361",
                                    "orderDate": "2004-12-17",
                                    "requiredDate": "2004-12-24",
                                    "shippedDate": "2004-12-20",
                                    "status": "Shipped",
                                    "comments": "NULL",
                                    "customerNumber": "282"
                                },
                                {
                                    "orderNumber": "10362",
                                    "orderDate": "2005-01-05",
                                    "requiredDate": "2005-01-16",
                                    "shippedDate": "2005-01-10",
                                    "status": "Shipped",
                                    "comments": "NULL",
                                    "customerNumber": "161"
                                },
                                {
                                    "orderNumber": "10363",
                                    "orderDate": "2005-01-06",
                                    "requiredDate": "2005-01-12",
                                    "shippedDate": "2005-01-10",
                                    "status": "Shipped",
                                    "comments": "NULL",
                                    "customerNumber": "334"
                                },
                                {
                                    "orderNumber": "10364",
                                    "orderDate": "2005-01-06",
                                    "requiredDate": "2005-01-17",
                                    "shippedDate": "2005-01-09",
                                    "status": "Shipped",
                                    "comments": "NULL",
                                    "customerNumber": "350"
                                },
                                {
                                    "orderNumber": "10365",
                                    "orderDate": "2005-01-07",
                                    "requiredDate": "2005-01-18",
                                    "shippedDate": "2005-01-11",
                                    "status": "Shipped",
                                    "comments": "NULL",
                                    "customerNumber": "320"
                                },
                                {
                                    "orderNumber": "10366",
                                    "orderDate": "2005-01-10",
                                    "requiredDate": "2005-01-19",
                                    "shippedDate": "2005-01-12",
                                    "status": "Shipped",
                                    "comments": "NULL",
                                    "customerNumber": "381"
                                },
                                {
                                    "orderNumber": "10367",
                                    "orderDate": "2005-01-12",
                                    "requiredDate": "2005-01-21",
                                    "shippedDate": "2005-01-16",
                                    "status": "Resolved",
                                    "comments": "This order was disputed and resolved on 2/1/2005. Customer claimed that container with shipment was damaged. FedEx's investigation proved this wrong.",
                                    "customerNumber": "205"
                                },
                                {
                                    "orderNumber": "10368",
                                    "orderDate": "2005-01-19",
                                    "requiredDate": "2005-01-27",
                                    "shippedDate": "2005-01-24",
                                    "status": "Shipped",
                                    "comments": "Can we renegotiate this one?",
                                    "customerNumber": "124"
                                },
                                {
                                    "orderNumber": "10369",
                                    "orderDate": "2005-01-20",
                                    "requiredDate": "2005-01-28",
                                    "shippedDate": "2005-01-24",
                                    "status": "Shipped",
                                    "comments": "NULL",
                                    "customerNumber": "379"
                                },
                                {
                                    "orderNumber": "10370",
                                    "orderDate": "2005-01-20",
                                    "requiredDate": "2005-02-01",
                                    "shippedDate": "2005-01-25",
                                    "status": "Shipped",
                                    "comments": "NULL",
                                    "customerNumber": "276"
                                },
                                {
                                    "orderNumber": "10371",
                                    "orderDate": "2005-01-23",
                                    "requiredDate": "2005-02-03",
                                    "shippedDate": "2005-01-25",
                                    "status": "Shipped",
                                    "comments": "NULL",
                                    "customerNumber": "124"
                                },
                                {
                                    "orderNumber": "10372",
                                    "orderDate": "2005-01-26",
                                    "requiredDate": "2005-02-05",
                                    "shippedDate": "2005-01-28",
                                    "status": "Shipped",
                                    "comments": "NULL",
                                    "customerNumber": "398"
                                },
                                {
                                    "orderNumber": "10373",
                                    "orderDate": "2005-01-31",
                                    "requiredDate": "2005-02-08",
                                    "shippedDate": "2005-02-06",
                                    "status": "Shipped",
                                    "comments": "NULL",
                                    "customerNumber": "311"
                                },
                                {
                                    "orderNumber": "10374",
                                    "orderDate": "2005-02-02",
                                    "requiredDate": "2005-02-09",
                                    "shippedDate": "2005-02-03",
                                    "status": "Shipped",
                                    "comments": "NULL",
                                    "customerNumber": "333"
                                },
                                {
                                    "orderNumber": "10375",
                                    "orderDate": "2005-02-03",
                                    "requiredDate": "2005-02-10",
                                    "shippedDate": "2005-02-06",
                                    "status": "Shipped",
                                    "comments": "NULL",
                                    "customerNumber": "119"
                                },
                                {
                                    "orderNumber": "10376",
                                    "orderDate": "2005-02-08",
                                    "requiredDate": "2005-02-18",
                                    "shippedDate": "2005-02-13",
                                    "status": "Shipped",
                                    "comments": "NULL",
                                    "customerNumber": "219"
                                },
                                {
                                    "orderNumber": "10377",
                                    "orderDate": "2005-02-09",
                                    "requiredDate": "2005-02-21",
                                    "shippedDate": "2005-02-12",
                                    "status": "Shipped",
                                    "comments": "Cautious optimism. We have happy customers here, if we can keep them well stocked.  I need all the information I can get on the planned shippments of Porches",
                                    "customerNumber": "186"
                                },
                                {
                                    "orderNumber": "10378",
                                    "orderDate": "2005-02-10",
                                    "requiredDate": "2005-02-18",
                                    "shippedDate": "2005-02-11",
                                    "status": "Shipped",
                                    "comments": "NULL",
                                    "customerNumber": "141"
                                },
                                {
                                    "orderNumber": "10379",
                                    "orderDate": "2005-02-10",
                                    "requiredDate": "2005-02-18",
                                    "shippedDate": "2005-02-11",
                                    "status": "Shipped",
                                    "comments": "NULL",
                                    "customerNumber": "141"
                                },
                                {
                                    "orderNumber": "10380",
                                    "orderDate": "2005-02-16",
                                    "requiredDate": "2005-02-24",
                                    "shippedDate": "2005-02-18",
                                    "status": "Shipped",
                                    "comments": "NULL",
                                    "customerNumber": "141"
                                },
                                {
                                    "orderNumber": "10381",
                                    "orderDate": "2005-02-17",
                                    "requiredDate": "2005-02-25",
                                    "shippedDate": "2005-02-18",
                                    "status": "Shipped",
                                    "comments": "NULL",
                                    "customerNumber": "321"
                                },
                                {
                                    "orderNumber": "10382",
                                    "orderDate": "2005-02-17",
                                    "requiredDate": "2005-02-23",
                                    "shippedDate": "2005-02-18",
                                    "status": "Shipped",
                                    "comments": "Custom shipping instructions sent to warehouse",
                                    "customerNumber": "124"
                                },
                                {
                                    "orderNumber": "10383",
                                    "orderDate": "2005-02-22",
                                    "requiredDate": "2005-03-02",
                                    "shippedDate": "2005-02-25",
                                    "status": "Shipped",
                                    "comments": "NULL",
                                    "customerNumber": "141"
                                },
                                {
                                    "orderNumber": "10384",
                                    "orderDate": "2005-02-23",
                                    "requiredDate": "2005-03-06",
                                    "shippedDate": "2005-02-27",
                                    "status": "Shipped",
                                    "comments": "NULL",
                                    "customerNumber": "321"
                                },
                                {
                                    "orderNumber": "10385",
                                    "orderDate": "2005-02-28",
                                    "requiredDate": "2005-03-09",
                                    "shippedDate": "2005-03-01",
                                    "status": "Shipped",
                                    "comments": "NULL",
                                    "customerNumber": "124"
                                },
                                {
                                    "orderNumber": "10386",
                                    "orderDate": "2005-03-01",
                                    "requiredDate": "2005-03-09",
                                    "shippedDate": "2005-03-06",
                                    "status": "Resolved",
                                    "comments": "Disputed then Resolved on 3/15/2005. Customer doesn't like the craftsmaship of the models.",
                                    "customerNumber": "141"
                                },
                                {
                                    "orderNumber": "10387",
                                    "orderDate": "2005-03-02",
                                    "requiredDate": "2005-03-09",
                                    "shippedDate": "2005-03-06",
                                    "status": "Shipped",
                                    "comments": "We need to keep in close contact with their Marketing VP. He is the decision maker for all their purchases.",
                                    "customerNumber": "148"
                                },
                                {
                                    "orderNumber": "10388",
                                    "orderDate": "2005-03-03",
                                    "requiredDate": "2005-03-11",
                                    "shippedDate": "2005-03-09",
                                    "status": "Shipped",
                                    "comments": "NULL",
                                    "customerNumber": "462"
                                },
                                {
                                    "orderNumber": "10389",
                                    "orderDate": "2005-03-03",
                                    "requiredDate": "2005-03-09",
                                    "shippedDate": "2005-03-08",
                                    "status": "Shipped",
                                    "comments": "NULL",
                                    "customerNumber": "448"
                                },
                                {
                                    "orderNumber": "10390",
                                    "orderDate": "2005-03-04",
                                    "requiredDate": "2005-03-11",
                                    "shippedDate": "2005-03-07",
                                    "status": "Shipped",
                                    "comments": "They want to reevaluate their terms agreement with Finance.",
                                    "customerNumber": "124"
                                },
                                {
                                    "orderNumber": "10391",
                                    "orderDate": "2005-03-09",
                                    "requiredDate": "2005-03-20",
                                    "shippedDate": "2005-03-15",
                                    "status": "Shipped",
                                    "comments": "NULL",
                                    "customerNumber": "276"
                                },
                                {
                                    "orderNumber": "10392",
                                    "orderDate": "2005-03-10",
                                    "requiredDate": "2005-03-18",
                                    "shippedDate": "2005-03-12",
                                    "status": "Shipped",
                                    "comments": "NULL",
                                    "customerNumber": "452"
                                },
                                {
                                    "orderNumber": "10393",
                                    "orderDate": "2005-03-11",
                                    "requiredDate": "2005-03-22",
                                    "shippedDate": "2005-03-14",
                                    "status": "Shipped",
                                    "comments": "They want to reevaluate their terms agreement with Finance.",
                                    "customerNumber": "323"
                                },
                                {
                                    "orderNumber": "10394",
                                    "orderDate": "2005-03-15",
                                    "requiredDate": "2005-03-25",
                                    "shippedDate": "2005-03-19",
                                    "status": "Shipped",
                                    "comments": "NULL",
                                    "customerNumber": "141"
                                },
                                {
                                    "orderNumber": "10395",
                                    "orderDate": "2005-03-17",
                                    "requiredDate": "2005-03-24",
                                    "shippedDate": "2005-03-23",
                                    "status": "Shipped",
                                    "comments": "We must be cautions with this customer. Their VP of Sales resigned. Company may be heading down.",
                                    "customerNumber": "250"
                                },
                                {
                                    "orderNumber": "10396",
                                    "orderDate": "2005-03-23",
                                    "requiredDate": "2005-04-02",
                                    "shippedDate": "2005-03-28",
                                    "status": "Shipped",
                                    "comments": "NULL",
                                    "customerNumber": "124"
                                },
                                {
                                    "orderNumber": "10397",
                                    "orderDate": "2005-03-28",
                                    "requiredDate": "2005-04-09",
                                    "shippedDate": "2005-04-01",
                                    "status": "Shipped",
                                    "comments": "NULL",
                                    "customerNumber": "242"
                                },
                                {
                                    "orderNumber": "10398",
                                    "orderDate": "2005-03-30",
                                    "requiredDate": "2005-04-09",
                                    "shippedDate": "2005-03-31",
                                    "status": "Shipped",
                                    "comments": "NULL",
                                    "customerNumber": "353"
                                },
                                {
                                    "orderNumber": "10399",
                                    "orderDate": "2005-04-01",
                                    "requiredDate": "2005-04-12",
                                    "shippedDate": "2005-04-03",
                                    "status": "Shipped",
                                    "comments": "NULL",
                                    "customerNumber": "496"
                                },
                                {
                                    "orderNumber": "10400",
                                    "orderDate": "2005-04-01",
                                    "requiredDate": "2005-04-11",
                                    "shippedDate": "2005-04-04",
                                    "status": "Shipped",
                                    "comments": "Customer requested that DHL is used for this shipping",
                                    "customerNumber": "450"
                                },
                                {
                                    "orderNumber": "10401",
                                    "orderDate": "2005-04-03",
                                    "requiredDate": "2005-04-14",
                                    "shippedDate": "NULL",
                                    "status": "On Hold",
                                    "comments": "Customer credit limit exceeded. Will ship when a payment is received.",
                                    "customerNumber": "328"
                                },
                                {
                                    "orderNumber": "10402",
                                    "orderDate": "2005-04-07",
                                    "requiredDate": "2005-04-14",
                                    "shippedDate": "2005-04-12",
                                    "status": "Shipped",
                                    "comments": "NULL",
                                    "customerNumber": "406"
                                },
                                {
                                    "orderNumber": "10403",
                                    "orderDate": "2005-04-08",
                                    "requiredDate": "2005-04-18",
                                    "shippedDate": "2005-04-11",
                                    "status": "Shipped",
                                    "comments": "NULL",
                                    "customerNumber": "201"
                                },
                                {
                                    "orderNumber": "10404",
                                    "orderDate": "2005-04-08",
                                    "requiredDate": "2005-04-14",
                                    "shippedDate": "2005-04-11",
                                    "status": "Shipped",
                                    "comments": "NULL",
                                    "customerNumber": "323"
                                },
                                {
                                    "orderNumber": "10405",
                                    "orderDate": "2005-04-14",
                                    "requiredDate": "2005-04-24",
                                    "shippedDate": "2005-04-20",
                                    "status": "Shipped",
                                    "comments": "NULL",
                                    "customerNumber": "209"
                                },
                                {
                                    "orderNumber": "10406",
                                    "orderDate": "2005-04-15",
                                    "requiredDate": "2005-04-25",
                                    "shippedDate": "2005-04-21",
                                    "status": "Disputed",
                                    "comments": "Customer claims container with shipment was damaged during shipping and some items were missing. I am talking to FedEx about this.",
                                    "customerNumber": "145"
                                },
                                {
                                    "orderNumber": "10407",
                                    "orderDate": "2005-04-22",
                                    "requiredDate": "2005-05-04",
                                    "shippedDate": "NULL",
                                    "status": "On Hold",
                                    "comments": "Customer credit limit exceeded. Will ship when a payment is received.",
                                    "customerNumber": "450"
                                },
                                {
                                    "orderNumber": "10408",
                                    "orderDate": "2005-04-22",
                                    "requiredDate": "2005-04-29",
                                    "shippedDate": "2005-04-27",
                                    "status": "Shipped",
                                    "comments": "NULL",
                                    "customerNumber": "398"
                                },
                                {
                                    "orderNumber": "10409",
                                    "orderDate": "2005-04-23",
                                    "requiredDate": "2005-05-05",
                                    "shippedDate": "2005-04-24",
                                    "status": "Shipped",
                                    "comments": "NULL",
                                    "customerNumber": "166"
                                },
                                {
                                    "orderNumber": "10410",
                                    "orderDate": "2005-04-29",
                                    "requiredDate": "2005-05-10",
                                    "shippedDate": "2005-04-30",
                                    "status": "Shipped",
                                    "comments": "NULL",
                                    "customerNumber": "357"
                                },
                                {
                                    "orderNumber": "10411",
                                    "orderDate": "2005-05-01",
                                    "requiredDate": "2005-05-08",
                                    "shippedDate": "2005-05-06",
                                    "status": "Shipped",
                                    "comments": "NULL",
                                    "customerNumber": "233"
                                },
                                {
                                    "orderNumber": "10412",
                                    "orderDate": "2005-05-03",
                                    "requiredDate": "2005-05-13",
                                    "shippedDate": "2005-05-05",
                                    "status": "Shipped",
                                    "comments": "NULL",
                                    "customerNumber": "141"
                                },
                                {
                                    "orderNumber": "10413",
                                    "orderDate": "2005-05-05",
                                    "requiredDate": "2005-05-14",
                                    "shippedDate": "2005-05-09",
                                    "status": "Shipped",
                                    "comments": "Customer requested that DHL is used for this shipping",
                                    "customerNumber": "175"
                                },
                                {
                                    "orderNumber": "10414",
                                    "orderDate": "2005-05-06",
                                    "requiredDate": "2005-05-13",
                                    "shippedDate": "NULL",
                                    "status": "On Hold",
                                    "comments": "Customer credit limit exceeded. Will ship when a payment is received.",
                                    "customerNumber": "362"
                                },
                                {
                                    "orderNumber": "10415",
                                    "orderDate": "2005-05-09",
                                    "requiredDate": "2005-05-20",
                                    "shippedDate": "2005-05-12",
                                    "status": "Disputed",
                                    "comments": "Customer claims the scales of the models don't match what was discussed. I keep all the paperwork though to prove otherwise",
                                    "customerNumber": "471"
                                },
                                {
                                    "orderNumber": "10416",
                                    "orderDate": "2005-05-10",
                                    "requiredDate": "2005-05-16",
                                    "shippedDate": "2005-05-14",
                                    "status": "Shipped",
                                    "comments": "NULL",
                                    "customerNumber": "386"
                                },
                                {
                                    "orderNumber": "10417",
                                    "orderDate": "2005-05-13",
                                    "requiredDate": "2005-05-19",
                                    "shippedDate": "2005-05-19",
                                    "status": "Disputed",
                                    "comments": "Customer doesn't like the colors and precision of the models.",
                                    "customerNumber": "141"
                                },
                                {
                                    "orderNumber": "10418",
                                    "orderDate": "2005-05-16",
                                    "requiredDate": "2005-05-24",
                                    "shippedDate": "2005-05-20",
                                    "status": "Shipped",
                                    "comments": "NULL",
                                    "customerNumber": "412"
                                },
                                {
                                    "orderNumber": "10419",
                                    "orderDate": "2005-05-17",
                                    "requiredDate": "2005-05-28",
                                    "shippedDate": "2005-05-19",
                                    "status": "Shipped",
                                    "comments": "NULL",
                                    "customerNumber": "382"
                                },
                                {
                                    "orderNumber": "10420",
                                    "orderDate": "2005-05-29",
                                    "requiredDate": "2005-06-07",
                                    "shippedDate": "NULL",
                                    "status": "In Process",
                                    "comments": "NULL",
                                    "customerNumber": "282"
                                },
                                {
                                    "orderNumber": "10421",
                                    "orderDate": "2005-05-29",
                                    "requiredDate": "2005-06-06",
                                    "shippedDate": "NULL",
                                    "status": "In Process",
                                    "comments": "Custom shipping instructions were sent to warehouse",
                                    "customerNumber": "124"
                                },
                                {
                                    "orderNumber": "10422",
                                    "orderDate": "2005-05-30",
                                    "requiredDate": "2005-06-11",
                                    "shippedDate": "NULL",
                                    "status": "In Process",
                                    "comments": "NULL",
                                    "customerNumber": "157"
                                },
                                {
                                    "orderNumber": "10423",
                                    "orderDate": "2005-05-30",
                                    "requiredDate": "2005-06-05",
                                    "shippedDate": "NULL",
                                    "status": "In Process",
                                    "comments": "NULL",
                                    "customerNumber": "314"
                                },
                                {
                                    "orderNumber": "10424",
                                    "orderDate": "2005-05-31",
                                    "requiredDate": "2005-06-08",
                                    "shippedDate": "NULL",
                                    "status": "In Process",
                                    "comments": "NULL",
                                    "customerNumber": "141"
                                },
                                {
                                    "orderNumber": "10425",
                                    "orderDate": "2005-05-31",
                                    "requiredDate": "2005-06-07",
                                    "shippedDate": "NULL",
                                    "status": "In Process",
                                    "comments": "NULL",
                                    "customerNumber": "119"
                                }
                            ]
                        },
                        "text/html": [
                            "<table>",
                            "<tr><th>orderNumber</th><th>orderDate</th><th>requiredDate</th><th>shippedDate</th><th>status</th><th>comments</th><th>customerNumber</th></tr>",
                            "<tr><td>10100</td><td>2003-01-06</td><td>2003-01-13</td><td>2003-01-10</td><td>Shipped</td><td>NULL</td><td>363</td></tr>",
                            "<tr><td>10101</td><td>2003-01-09</td><td>2003-01-18</td><td>2003-01-11</td><td>Shipped</td><td>Check on availability.</td><td>128</td></tr>",
                            "<tr><td>10102</td><td>2003-01-10</td><td>2003-01-18</td><td>2003-01-14</td><td>Shipped</td><td>NULL</td><td>181</td></tr>",
                            "<tr><td>10103</td><td>2003-01-29</td><td>2003-02-07</td><td>2003-02-02</td><td>Shipped</td><td>NULL</td><td>121</td></tr>",
                            "<tr><td>10104</td><td>2003-01-31</td><td>2003-02-09</td><td>2003-02-01</td><td>Shipped</td><td>NULL</td><td>141</td></tr>",
                            "<tr><td>10105</td><td>2003-02-11</td><td>2003-02-21</td><td>2003-02-12</td><td>Shipped</td><td>NULL</td><td>145</td></tr>",
                            "<tr><td>10106</td><td>2003-02-17</td><td>2003-02-24</td><td>2003-02-21</td><td>Shipped</td><td>NULL</td><td>278</td></tr>",
                            "<tr><td>10107</td><td>2003-02-24</td><td>2003-03-03</td><td>2003-02-26</td><td>Shipped</td><td>Difficult to negotiate with customer. We need more marketing materials</td><td>131</td></tr>",
                            "<tr><td>10108</td><td>2003-03-03</td><td>2003-03-12</td><td>2003-03-08</td><td>Shipped</td><td>NULL</td><td>385</td></tr>",
                            "<tr><td>10109</td><td>2003-03-10</td><td>2003-03-19</td><td>2003-03-11</td><td>Shipped</td><td>Customer requested that FedEx Ground is used for this shipping</td><td>486</td></tr>",
                            "<tr><td>10110</td><td>2003-03-18</td><td>2003-03-24</td><td>2003-03-20</td><td>Shipped</td><td>NULL</td><td>187</td></tr>",
                            "<tr><td>10111</td><td>2003-03-25</td><td>2003-03-31</td><td>2003-03-30</td><td>Shipped</td><td>NULL</td><td>129</td></tr>",
                            "<tr><td>10112</td><td>2003-03-24</td><td>2003-04-03</td><td>2003-03-29</td><td>Shipped</td><td>Customer requested that ad materials (such as posters, pamphlets) be included in the shippment</td><td>144</td></tr>",
                            "<tr><td>10113</td><td>2003-03-26</td><td>2003-04-02</td><td>2003-03-27</td><td>Shipped</td><td>NULL</td><td>124</td></tr>",
                            "<tr><td>10114</td><td>2003-04-01</td><td>2003-04-07</td><td>2003-04-02</td><td>Shipped</td><td>NULL</td><td>172</td></tr>",
                            "<tr><td>10115</td><td>2003-04-04</td><td>2003-04-12</td><td>2003-04-07</td><td>Shipped</td><td>NULL</td><td>424</td></tr>",
                            "<tr><td>10116</td><td>2003-04-11</td><td>2003-04-19</td><td>2003-04-13</td><td>Shipped</td><td>NULL</td><td>381</td></tr>",
                            "<tr><td>10117</td><td>2003-04-16</td><td>2003-04-24</td><td>2003-04-17</td><td>Shipped</td><td>NULL</td><td>148</td></tr>",
                            "<tr><td>10118</td><td>2003-04-21</td><td>2003-04-29</td><td>2003-04-26</td><td>Shipped</td><td>Customer has worked with some of our vendors in the past and is aware of their MSRP</td><td>216</td></tr>",
                            "<tr><td>10119</td><td>2003-04-28</td><td>2003-05-05</td><td>2003-05-02</td><td>Shipped</td><td>NULL</td><td>382</td></tr>",
                            "<tr><td>10120</td><td>2003-04-29</td><td>2003-05-08</td><td>2003-05-01</td><td>Shipped</td><td>NULL</td><td>114</td></tr>",
                            "<tr><td>10121</td><td>2003-05-07</td><td>2003-05-13</td><td>2003-05-13</td><td>Shipped</td><td>NULL</td><td>353</td></tr>",
                            "<tr><td>10122</td><td>2003-05-08</td><td>2003-05-16</td><td>2003-05-13</td><td>Shipped</td><td>NULL</td><td>350</td></tr>",
                            "<tr><td>10123</td><td>2003-05-20</td><td>2003-05-29</td><td>2003-05-22</td><td>Shipped</td><td>NULL</td><td>103</td></tr>",
                            "<tr><td>10124</td><td>2003-05-21</td><td>2003-05-29</td><td>2003-05-25</td><td>Shipped</td><td>Customer very concerned about the exact color of the models. There is high risk that he may dispute the order because there is a slight color mismatch</td><td>112</td></tr>",
                            "<tr><td>10125</td><td>2003-05-21</td><td>2003-05-27</td><td>2003-05-24</td><td>Shipped</td><td>NULL</td><td>114</td></tr>",
                            "<tr><td>10126</td><td>2003-05-28</td><td>2003-06-07</td><td>2003-06-02</td><td>Shipped</td><td>NULL</td><td>458</td></tr>",
                            "<tr><td>10127</td><td>2003-06-03</td><td>2003-06-09</td><td>2003-06-06</td><td>Shipped</td><td>Customer requested special shippment. The instructions were passed along to the warehouse</td><td>151</td></tr>",
                            "<tr><td>10128</td><td>2003-06-06</td><td>2003-06-12</td><td>2003-06-11</td><td>Shipped</td><td>NULL</td><td>141</td></tr>",
                            "<tr><td>10129</td><td>2003-06-12</td><td>2003-06-18</td><td>2003-06-14</td><td>Shipped</td><td>NULL</td><td>324</td></tr>",
                            "<tr><td>10130</td><td>2003-06-16</td><td>2003-06-24</td><td>2003-06-21</td><td>Shipped</td><td>NULL</td><td>198</td></tr>",
                            "<tr><td>10131</td><td>2003-06-16</td><td>2003-06-25</td><td>2003-06-21</td><td>Shipped</td><td>NULL</td><td>447</td></tr>",
                            "<tr><td>10132</td><td>2003-06-25</td><td>2003-07-01</td><td>2003-06-28</td><td>Shipped</td><td>NULL</td><td>323</td></tr>",
                            "<tr><td>10133</td><td>2003-06-27</td><td>2003-07-04</td><td>2003-07-03</td><td>Shipped</td><td>NULL</td><td>141</td></tr>",
                            "<tr><td>10134</td><td>2003-07-01</td><td>2003-07-10</td><td>2003-07-05</td><td>Shipped</td><td>NULL</td><td>250</td></tr>",
                            "<tr><td>10135</td><td>2003-07-02</td><td>2003-07-12</td><td>2003-07-03</td><td>Shipped</td><td>NULL</td><td>124</td></tr>",
                            "<tr><td>10136</td><td>2003-07-04</td><td>2003-07-14</td><td>2003-07-06</td><td>Shipped</td><td>Customer is interested in buying more Ferrari models</td><td>242</td></tr>",
                            "<tr><td>10137</td><td>2003-07-10</td><td>2003-07-20</td><td>2003-07-14</td><td>Shipped</td><td>NULL</td><td>353</td></tr>",
                            "<tr><td>10138</td><td>2003-07-07</td><td>2003-07-16</td><td>2003-07-13</td><td>Shipped</td><td>NULL</td><td>496</td></tr>",
                            "<tr><td>10139</td><td>2003-07-16</td><td>2003-07-23</td><td>2003-07-21</td><td>Shipped</td><td>NULL</td><td>282</td></tr>",
                            "<tr><td>10140</td><td>2003-07-24</td><td>2003-08-02</td><td>2003-07-30</td><td>Shipped</td><td>NULL</td><td>161</td></tr>",
                            "<tr><td>10141</td><td>2003-08-01</td><td>2003-08-09</td><td>2003-08-04</td><td>Shipped</td><td>NULL</td><td>334</td></tr>",
                            "<tr><td>10142</td><td>2003-08-08</td><td>2003-08-16</td><td>2003-08-13</td><td>Shipped</td><td>NULL</td><td>124</td></tr>",
                            "<tr><td>10143</td><td>2003-08-10</td><td>2003-08-18</td><td>2003-08-12</td><td>Shipped</td><td>Can we deliver the new Ford Mustang models by end-of-quarter?</td><td>320</td></tr>",
                            "<tr><td>10144</td><td>2003-08-13</td><td>2003-08-21</td><td>2003-08-14</td><td>Shipped</td><td>NULL</td><td>381</td></tr>",
                            "<tr><td>10145</td><td>2003-08-25</td><td>2003-09-02</td><td>2003-08-31</td><td>Shipped</td><td>NULL</td><td>205</td></tr>",
                            "<tr><td>10146</td><td>2003-09-03</td><td>2003-09-13</td><td>2003-09-06</td><td>Shipped</td><td>NULL</td><td>447</td></tr>",
                            "<tr><td>10147</td><td>2003-09-05</td><td>2003-09-12</td><td>2003-09-09</td><td>Shipped</td><td>NULL</td><td>379</td></tr>",
                            "<tr><td>10148</td><td>2003-09-11</td><td>2003-09-21</td><td>2003-09-15</td><td>Shipped</td><td>They want to reevaluate their terms agreement with Finance.</td><td>276</td></tr>",
                            "<tr><td>10149</td><td>2003-09-12</td><td>2003-09-18</td><td>2003-09-17</td><td>Shipped</td><td>NULL</td><td>487</td></tr>",
                            "<tr><td>10150</td><td>2003-09-19</td><td>2003-09-27</td><td>2003-09-21</td><td>Shipped</td><td>They want to reevaluate their terms agreement with Finance.</td><td>148</td></tr>",
                            "<tr><td>10151</td><td>2003-09-21</td><td>2003-09-30</td><td>2003-09-24</td><td>Shipped</td><td>NULL</td><td>311</td></tr>",
                            "<tr><td>10152</td><td>2003-09-25</td><td>2003-10-03</td><td>2003-10-01</td><td>Shipped</td><td>NULL</td><td>333</td></tr>",
                            "<tr><td>10153</td><td>2003-09-28</td><td>2003-10-05</td><td>2003-10-03</td><td>Shipped</td><td>NULL</td><td>141</td></tr>",
                            "<tr><td>10154</td><td>2003-10-02</td><td>2003-10-12</td><td>2003-10-08</td><td>Shipped</td><td>NULL</td><td>219</td></tr>",
                            "<tr><td>10155</td><td>2003-10-06</td><td>2003-10-13</td><td>2003-10-07</td><td>Shipped</td><td>NULL</td><td>186</td></tr>",
                            "<tr><td>10156</td><td>2003-10-08</td><td>2003-10-17</td><td>2003-10-11</td><td>Shipped</td><td>NULL</td><td>141</td></tr>",
                            "<tr><td>10157</td><td>2003-10-09</td><td>2003-10-15</td><td>2003-10-14</td><td>Shipped</td><td>NULL</td><td>473</td></tr>",
                            "<tr><td>10158</td><td>2003-10-10</td><td>2003-10-18</td><td>2003-10-15</td><td>Shipped</td><td>NULL</td><td>121</td></tr>",
                            "<tr><td>10159</td><td>2003-10-10</td><td>2003-10-19</td><td>2003-10-16</td><td>Shipped</td><td>NULL</td><td>321</td></tr>",
                            "<tr><td>10160</td><td>2003-10-11</td><td>2003-10-17</td><td>2003-10-17</td><td>Shipped</td><td>NULL</td><td>347</td></tr>",
                            "<tr><td>10161</td><td>2003-10-17</td><td>2003-10-25</td><td>2003-10-20</td><td>Shipped</td><td>NULL</td><td>227</td></tr>",
                            "<tr><td>10162</td><td>2003-10-18</td><td>2003-10-26</td><td>2003-10-19</td><td>Shipped</td><td>NULL</td><td>321</td></tr>",
                            "<tr><td>10163</td><td>2003-10-20</td><td>2003-10-27</td><td>2003-10-24</td><td>Shipped</td><td>NULL</td><td>424</td></tr>",
                            "<tr><td>10164</td><td>2003-10-21</td><td>2003-10-30</td><td>2003-10-23</td><td>Resolved</td><td>This order was disputed, but resolved on 11/1/2003; Customer doesn&#39;t like the colors and precision of the models.</td><td>452</td></tr>",
                            "<tr><td>10165</td><td>2003-10-22</td><td>2003-10-31</td><td>2003-12-26</td><td>Shipped</td><td>This order was on hold because customers&#39;s credit limit had been exceeded. Order will ship when payment is received</td><td>148</td></tr>",
                            "<tr><td>10166</td><td>2003-10-21</td><td>2003-10-30</td><td>2003-10-27</td><td>Shipped</td><td>NULL</td><td>462</td></tr>",
                            "<tr><td>10167</td><td>2003-10-23</td><td>2003-10-30</td><td>NULL</td><td>Cancelled</td><td>Customer called to cancel. The warehouse was notified in time and the order didn&#39;t ship. They have a new VP of Sales and are shifting their sales model. Our VP of Sales should contact them.</td><td>448</td></tr>",
                            "<tr><td>10168</td><td>2003-10-28</td><td>2003-11-03</td><td>2003-11-01</td><td>Shipped</td><td>NULL</td><td>161</td></tr>",
                            "<tr><td>10169</td><td>2003-11-04</td><td>2003-11-14</td><td>2003-11-09</td><td>Shipped</td><td>NULL</td><td>276</td></tr>",
                            "<tr><td>10170</td><td>2003-11-04</td><td>2003-11-12</td><td>2003-11-07</td><td>Shipped</td><td>NULL</td><td>452</td></tr>",
                            "<tr><td>10171</td><td>2003-11-05</td><td>2003-11-13</td><td>2003-11-07</td><td>Shipped</td><td>NULL</td><td>233</td></tr>",
                            "<tr><td>10172</td><td>2003-11-05</td><td>2003-11-14</td><td>2003-11-11</td><td>Shipped</td><td>NULL</td><td>175</td></tr>",
                            "<tr><td>10173</td><td>2003-11-05</td><td>2003-11-15</td><td>2003-11-09</td><td>Shipped</td><td>Cautious optimism. We have happy customers here, if we can keep them well stocked.  I need all the information I can get on the planned shippments of Porches</td><td>278</td></tr>",
                            "<tr><td>10174</td><td>2003-11-06</td><td>2003-11-15</td><td>2003-11-10</td><td>Shipped</td><td>NULL</td><td>333</td></tr>",
                            "<tr><td>10175</td><td>2003-11-06</td><td>2003-11-14</td><td>2003-11-09</td><td>Shipped</td><td>NULL</td><td>324</td></tr>",
                            "<tr><td>10176</td><td>2003-11-06</td><td>2003-11-15</td><td>2003-11-12</td><td>Shipped</td><td>NULL</td><td>386</td></tr>",
                            "<tr><td>10177</td><td>2003-11-07</td><td>2003-11-17</td><td>2003-11-12</td><td>Shipped</td><td>NULL</td><td>344</td></tr>",
                            "<tr><td>10178</td><td>2003-11-08</td><td>2003-11-16</td><td>2003-11-10</td><td>Shipped</td><td>Custom shipping instructions sent to warehouse</td><td>242</td></tr>",
                            "<tr><td>10179</td><td>2003-11-11</td><td>2003-11-17</td><td>2003-11-13</td><td>Cancelled</td><td>Customer cancelled due to urgent budgeting issues. Must be cautious when dealing with them in the future. Since order shipped already we must discuss who would cover the shipping charges.</td><td>496</td></tr>",
                            "<tr><td>10180</td><td>2003-11-11</td><td>2003-11-19</td><td>2003-11-14</td><td>Shipped</td><td>NULL</td><td>171</td></tr>",
                            "<tr><td>10181</td><td>2003-11-12</td><td>2003-11-19</td><td>2003-11-15</td><td>Shipped</td><td>NULL</td><td>167</td></tr>",
                            "<tr><td>10182</td><td>2003-11-12</td><td>2003-11-21</td><td>2003-11-18</td><td>Shipped</td><td>NULL</td><td>124</td></tr>",
                            "<tr><td>10183</td><td>2003-11-13</td><td>2003-11-22</td><td>2003-11-15</td><td>Shipped</td><td>We need to keep in close contact with their Marketing VP. He is the decision maker for all their purchases.</td><td>339</td></tr>",
                            "<tr><td>10184</td><td>2003-11-14</td><td>2003-11-22</td><td>2003-11-20</td><td>Shipped</td><td>NULL</td><td>484</td></tr>",
                            "<tr><td>10185</td><td>2003-11-14</td><td>2003-11-21</td><td>2003-11-20</td><td>Shipped</td><td>NULL</td><td>320</td></tr>",
                            "<tr><td>10186</td><td>2003-11-14</td><td>2003-11-20</td><td>2003-11-18</td><td>Shipped</td><td>They want to reevaluate their terms agreement with the VP of Sales</td><td>489</td></tr>",
                            "<tr><td>10187</td><td>2003-11-15</td><td>2003-11-24</td><td>2003-11-16</td><td>Shipped</td><td>NULL</td><td>211</td></tr>",
                            "<tr><td>10188</td><td>2003-11-18</td><td>2003-11-26</td><td>2003-11-24</td><td>Shipped</td><td>NULL</td><td>167</td></tr>",
                            "<tr><td>10189</td><td>2003-11-18</td><td>2003-11-25</td><td>2003-11-24</td><td>Shipped</td><td>They want to reevaluate their terms agreement with Finance.</td><td>205</td></tr>",
                            "<tr><td>10190</td><td>2003-11-19</td><td>2003-11-29</td><td>2003-11-20</td><td>Shipped</td><td>NULL</td><td>141</td></tr>",
                            "<tr><td>10191</td><td>2003-11-20</td><td>2003-11-30</td><td>2003-11-24</td><td>Shipped</td><td>We must be cautions with this customer. Their VP of Sales resigned. Company may be heading down.</td><td>259</td></tr>",
                            "<tr><td>10192</td><td>2003-11-20</td><td>2003-11-29</td><td>2003-11-25</td><td>Shipped</td><td>NULL</td><td>363</td></tr>",
                            "<tr><td>10193</td><td>2003-11-21</td><td>2003-11-28</td><td>2003-11-27</td><td>Shipped</td><td>NULL</td><td>471</td></tr>",
                            "<tr><td>10194</td><td>2003-11-25</td><td>2003-12-02</td><td>2003-11-26</td><td>Shipped</td><td>NULL</td><td>146</td></tr>",
                            "<tr><td>10195</td><td>2003-11-25</td><td>2003-12-01</td><td>2003-11-28</td><td>Shipped</td><td>NULL</td><td>319</td></tr>",
                            "<tr><td>10196</td><td>2003-11-26</td><td>2003-12-03</td><td>2003-12-01</td><td>Shipped</td><td>NULL</td><td>455</td></tr>",
                            "<tr><td>10197</td><td>2003-11-26</td><td>2003-12-02</td><td>2003-12-01</td><td>Shipped</td><td>Customer inquired about remote controlled models and gold models.</td><td>216</td></tr>",
                            "<tr><td>10198</td><td>2003-11-27</td><td>2003-12-06</td><td>2003-12-03</td><td>Shipped</td><td>NULL</td><td>385</td></tr>",
                            "<tr><td>10199</td><td>2003-12-01</td><td>2003-12-10</td><td>2003-12-06</td><td>Shipped</td><td>NULL</td><td>475</td></tr>",
                            "<tr><td>10200</td><td>2003-12-01</td><td>2003-12-09</td><td>2003-12-06</td><td>Shipped</td><td>NULL</td><td>211</td></tr>",
                            "<tr><td>10201</td><td>2003-12-01</td><td>2003-12-11</td><td>2003-12-02</td><td>Shipped</td><td>NULL</td><td>129</td></tr>",
                            "<tr><td>10202</td><td>2003-12-02</td><td>2003-12-09</td><td>2003-12-06</td><td>Shipped</td><td>NULL</td><td>357</td></tr>",
                            "<tr><td>10203</td><td>2003-12-02</td><td>2003-12-11</td><td>2003-12-07</td><td>Shipped</td><td>NULL</td><td>141</td></tr>",
                            "<tr><td>10204</td><td>2003-12-02</td><td>2003-12-10</td><td>2003-12-04</td><td>Shipped</td><td>NULL</td><td>151</td></tr>",
                            "<tr><td>10205</td><td>2003-12-03</td><td>2003-12-09</td><td>2003-12-07</td><td>Shipped</td><td> I need all the information I can get on our competitors.</td><td>141</td></tr>",
                            "<tr><td>10206</td><td>2003-12-05</td><td>2003-12-13</td><td>2003-12-08</td><td>Shipped</td><td>Can we renegotiate this one?</td><td>202</td></tr>",
                            "<tr><td>10207</td><td>2003-12-09</td><td>2003-12-17</td><td>2003-12-11</td><td>Shipped</td><td>Check on availability.</td><td>495</td></tr>",
                            "<tr><td>10208</td><td>2004-01-02</td><td>2004-01-11</td><td>2004-01-04</td><td>Shipped</td><td>NULL</td><td>146</td></tr>",
                            "<tr><td>10209</td><td>2004-01-09</td><td>2004-01-15</td><td>2004-01-12</td><td>Shipped</td><td>NULL</td><td>347</td></tr>",
                            "<tr><td>10210</td><td>2004-01-12</td><td>2004-01-22</td><td>2004-01-20</td><td>Shipped</td><td>NULL</td><td>177</td></tr>",
                            "<tr><td>10211</td><td>2004-01-15</td><td>2004-01-25</td><td>2004-01-18</td><td>Shipped</td><td>NULL</td><td>406</td></tr>",
                            "<tr><td>10212</td><td>2004-01-16</td><td>2004-01-24</td><td>2004-01-18</td><td>Shipped</td><td>NULL</td><td>141</td></tr>",
                            "<tr><td>10213</td><td>2004-01-22</td><td>2004-01-28</td><td>2004-01-27</td><td>Shipped</td><td>Difficult to negotiate with customer. We need more marketing materials</td><td>489</td></tr>",
                            "<tr><td>10214</td><td>2004-01-26</td><td>2004-02-04</td><td>2004-01-29</td><td>Shipped</td><td>NULL</td><td>458</td></tr>",
                            "<tr><td>10215</td><td>2004-01-29</td><td>2004-02-08</td><td>2004-02-01</td><td>Shipped</td><td>Customer requested that FedEx Ground is used for this shipping</td><td>475</td></tr>",
                            "<tr><td>10216</td><td>2004-02-02</td><td>2004-02-10</td><td>2004-02-04</td><td>Shipped</td><td>NULL</td><td>256</td></tr>",
                            "<tr><td>10217</td><td>2004-02-04</td><td>2004-02-14</td><td>2004-02-06</td><td>Shipped</td><td>NULL</td><td>166</td></tr>",
                            "<tr><td>10218</td><td>2004-02-09</td><td>2004-02-16</td><td>2004-02-11</td><td>Shipped</td><td>Customer requested that ad materials (such as posters, pamphlets) be included in the shippment</td><td>473</td></tr>",
                            "<tr><td>10219</td><td>2004-02-10</td><td>2004-02-17</td><td>2004-02-12</td><td>Shipped</td><td>NULL</td><td>487</td></tr>",
                            "<tr><td>10220</td><td>2004-02-12</td><td>2004-02-19</td><td>2004-02-16</td><td>Shipped</td><td>NULL</td><td>189</td></tr>",
                            "<tr><td>10221</td><td>2004-02-18</td><td>2004-02-26</td><td>2004-02-19</td><td>Shipped</td><td>NULL</td><td>314</td></tr>",
                            "<tr><td>10222</td><td>2004-02-19</td><td>2004-02-27</td><td>2004-02-20</td><td>Shipped</td><td>NULL</td><td>239</td></tr>",
                            "<tr><td>10223</td><td>2004-02-20</td><td>2004-02-29</td><td>2004-02-24</td><td>Shipped</td><td>NULL</td><td>114</td></tr>",
                            "<tr><td>10224</td><td>2004-02-21</td><td>2004-03-02</td><td>2004-02-26</td><td>Shipped</td><td>Customer has worked with some of our vendors in the past and is aware of their MSRP</td><td>171</td></tr>",
                            "<tr><td>10225</td><td>2004-02-22</td><td>2004-03-01</td><td>2004-02-24</td><td>Shipped</td><td>NULL</td><td>298</td></tr>",
                            "<tr><td>10226</td><td>2004-02-26</td><td>2004-03-06</td><td>2004-03-02</td><td>Shipped</td><td>NULL</td><td>239</td></tr>",
                            "<tr><td>10227</td><td>2004-03-02</td><td>2004-03-12</td><td>2004-03-08</td><td>Shipped</td><td>NULL</td><td>146</td></tr>",
                            "<tr><td>10228</td><td>2004-03-10</td><td>2004-03-18</td><td>2004-03-13</td><td>Shipped</td><td>NULL</td><td>173</td></tr>",
                            "<tr><td>10229</td><td>2004-03-11</td><td>2004-03-20</td><td>2004-03-12</td><td>Shipped</td><td>NULL</td><td>124</td></tr>",
                            "<tr><td>10230</td><td>2004-03-15</td><td>2004-03-24</td><td>2004-03-20</td><td>Shipped</td><td>Customer very concerned about the exact color of the models. There is high risk that he may dispute the order because there is a slight color mismatch</td><td>128</td></tr>",
                            "<tr><td>10231</td><td>2004-03-19</td><td>2004-03-26</td><td>2004-03-25</td><td>Shipped</td><td>NULL</td><td>344</td></tr>",
                            "<tr><td>10232</td><td>2004-03-20</td><td>2004-03-30</td><td>2004-03-25</td><td>Shipped</td><td>NULL</td><td>240</td></tr>",
                            "<tr><td>10233</td><td>2004-03-29</td><td>2004-04-04</td><td>2004-04-02</td><td>Shipped</td><td>Customer requested special shippment. The instructions were passed along to the warehouse</td><td>328</td></tr>",
                            "<tr><td>10234</td><td>2004-03-30</td><td>2004-04-05</td><td>2004-04-02</td><td>Shipped</td><td>NULL</td><td>412</td></tr>",
                            "<tr><td>10235</td><td>2004-04-02</td><td>2004-04-12</td><td>2004-04-06</td><td>Shipped</td><td>NULL</td><td>260</td></tr>",
                            "<tr><td>10236</td><td>2004-04-03</td><td>2004-04-11</td><td>2004-04-08</td><td>Shipped</td><td>NULL</td><td>486</td></tr>",
                            "<tr><td>10237</td><td>2004-04-05</td><td>2004-04-12</td><td>2004-04-10</td><td>Shipped</td><td>NULL</td><td>181</td></tr>",
                            "<tr><td>10238</td><td>2004-04-09</td><td>2004-04-16</td><td>2004-04-10</td><td>Shipped</td><td>NULL</td><td>145</td></tr>",
                            "<tr><td>10239</td><td>2004-04-12</td><td>2004-04-21</td><td>2004-04-17</td><td>Shipped</td><td>NULL</td><td>311</td></tr>",
                            "<tr><td>10240</td><td>2004-04-13</td><td>2004-04-20</td><td>2004-04-20</td><td>Shipped</td><td>NULL</td><td>177</td></tr>",
                            "<tr><td>10241</td><td>2004-04-13</td><td>2004-04-20</td><td>2004-04-19</td><td>Shipped</td><td>NULL</td><td>209</td></tr>",
                            "<tr><td>10242</td><td>2004-04-20</td><td>2004-04-28</td><td>2004-04-25</td><td>Shipped</td><td>Customer is interested in buying more Ferrari models</td><td>456</td></tr>",
                            "<tr><td>10243</td><td>2004-04-26</td><td>2004-05-03</td><td>2004-04-28</td><td>Shipped</td><td>NULL</td><td>495</td></tr>",
                            "<tr><td>10244</td><td>2004-04-29</td><td>2004-05-09</td><td>2004-05-04</td><td>Shipped</td><td>NULL</td><td>141</td></tr>",
                            "<tr><td>10245</td><td>2004-05-04</td><td>2004-05-12</td><td>2004-05-09</td><td>Shipped</td><td>NULL</td><td>455</td></tr>",
                            "<tr><td>10246</td><td>2004-05-05</td><td>2004-05-13</td><td>2004-05-06</td><td>Shipped</td><td>NULL</td><td>141</td></tr>",
                            "<tr><td>10247</td><td>2004-05-05</td><td>2004-05-11</td><td>2004-05-08</td><td>Shipped</td><td>NULL</td><td>334</td></tr>",
                            "<tr><td>10248</td><td>2004-05-07</td><td>2004-05-14</td><td>NULL</td><td>Cancelled</td><td>Order was mistakenly placed. The warehouse noticed the lack of documentation.</td><td>131</td></tr>",
                            "<tr><td>10249</td><td>2004-05-08</td><td>2004-05-17</td><td>2004-05-11</td><td>Shipped</td><td>Can we deliver the new Ford Mustang models by end-of-quarter?</td><td>173</td></tr>",
                            "<tr><td>10250</td><td>2004-05-11</td><td>2004-05-19</td><td>2004-05-15</td><td>Shipped</td><td>NULL</td><td>450</td></tr>",
                            "<tr><td>10251</td><td>2004-05-18</td><td>2004-05-24</td><td>2004-05-24</td><td>Shipped</td><td>NULL</td><td>328</td></tr>",
                            "<tr><td>10252</td><td>2004-05-26</td><td>2004-06-04</td><td>2004-05-29</td><td>Shipped</td><td>NULL</td><td>406</td></tr>",
                            "<tr><td>10253</td><td>2004-06-01</td><td>2004-06-09</td><td>2004-06-02</td><td>Cancelled</td><td>Customer disputed the order and we agreed to cancel it. We must be more cautions with this customer going forward, since they are very hard to please. We must cover the shipping fees.</td><td>201</td></tr>",
                            "<tr><td>10254</td><td>2004-06-03</td><td>2004-06-13</td><td>2004-06-04</td><td>Shipped</td><td>Customer requested that DHL is used for this shipping</td><td>323</td></tr>",
                            "<tr><td>10255</td><td>2004-06-04</td><td>2004-06-12</td><td>2004-06-09</td><td>Shipped</td><td>NULL</td><td>209</td></tr>",
                            "<tr><td>10256</td><td>2004-06-08</td><td>2004-06-16</td><td>2004-06-10</td><td>Shipped</td><td>NULL</td><td>145</td></tr>",
                            "<tr><td>10257</td><td>2004-06-14</td><td>2004-06-24</td><td>2004-06-15</td><td>Shipped</td><td>NULL</td><td>450</td></tr>",
                            "<tr><td>10258</td><td>2004-06-15</td><td>2004-06-25</td><td>2004-06-23</td><td>Shipped</td><td>NULL</td><td>398</td></tr>",
                            "<tr><td>10259</td><td>2004-06-15</td><td>2004-06-22</td><td>2004-06-17</td><td>Shipped</td><td>NULL</td><td>166</td></tr>",
                            "<tr><td>10260</td><td>2004-06-16</td><td>2004-06-22</td><td>NULL</td><td>Cancelled</td><td>Customer heard complaints from their customers and called to cancel this order. Will notify the Sales Manager.</td><td>357</td></tr>",
                            "<tr><td>10261</td><td>2004-06-17</td><td>2004-06-25</td><td>2004-06-22</td><td>Shipped</td><td>NULL</td><td>233</td></tr>",
                            "<tr><td>10262</td><td>2004-06-24</td><td>2004-07-01</td><td>NULL</td><td>Cancelled</td><td>This customer found a better offer from one of our competitors. Will call back to renegotiate.</td><td>141</td></tr>",
                            "<tr><td>10263</td><td>2004-06-28</td><td>2004-07-04</td><td>2004-07-02</td><td>Shipped</td><td>NULL</td><td>175</td></tr>",
                            "<tr><td>10264</td><td>2004-06-30</td><td>2004-07-06</td><td>2004-07-01</td><td>Shipped</td><td>Customer will send a truck to our local warehouse on 7/1/2004</td><td>362</td></tr>",
                            "<tr><td>10265</td><td>2004-07-02</td><td>2004-07-09</td><td>2004-07-07</td><td>Shipped</td><td>NULL</td><td>471</td></tr>",
                            "<tr><td>10266</td><td>2004-07-06</td><td>2004-07-14</td><td>2004-07-10</td><td>Shipped</td><td>NULL</td><td>386</td></tr>",
                            "<tr><td>10267</td><td>2004-07-07</td><td>2004-07-17</td><td>2004-07-09</td><td>Shipped</td><td>NULL</td><td>151</td></tr>",
                            "<tr><td>10268</td><td>2004-07-12</td><td>2004-07-18</td><td>2004-07-14</td><td>Shipped</td><td>NULL</td><td>412</td></tr>",
                            "<tr><td>10269</td><td>2004-07-16</td><td>2004-07-22</td><td>2004-07-18</td><td>Shipped</td><td>NULL</td><td>382</td></tr>",
                            "<tr><td>10270</td><td>2004-07-19</td><td>2004-07-27</td><td>2004-07-24</td><td>Shipped</td><td>Can we renegotiate this one?</td><td>282</td></tr>",
                            "<tr><td>10271</td><td>2004-07-20</td><td>2004-07-29</td><td>2004-07-23</td><td>Shipped</td><td>NULL</td><td>124</td></tr>",
                            "<tr><td>10272</td><td>2004-07-20</td><td>2004-07-26</td><td>2004-07-22</td><td>Shipped</td><td>NULL</td><td>157</td></tr>",
                            "<tr><td>10273</td><td>2004-07-21</td><td>2004-07-28</td><td>2004-07-22</td><td>Shipped</td><td>NULL</td><td>314</td></tr>",
                            "<tr><td>10274</td><td>2004-07-21</td><td>2004-07-29</td><td>2004-07-22</td><td>Shipped</td><td>NULL</td><td>379</td></tr>",
                            "<tr><td>10275</td><td>2004-07-23</td><td>2004-08-02</td><td>2004-07-29</td><td>Shipped</td><td>NULL</td><td>119</td></tr>",
                            "<tr><td>10276</td><td>2004-08-02</td><td>2004-08-11</td><td>2004-08-08</td><td>Shipped</td><td>NULL</td><td>204</td></tr>",
                            "<tr><td>10277</td><td>2004-08-04</td><td>2004-08-12</td><td>2004-08-05</td><td>Shipped</td><td>NULL</td><td>148</td></tr>",
                            "<tr><td>10278</td><td>2004-08-06</td><td>2004-08-16</td><td>2004-08-09</td><td>Shipped</td><td>NULL</td><td>112</td></tr>",
                            "<tr><td>10279</td><td>2004-08-09</td><td>2004-08-19</td><td>2004-08-15</td><td>Shipped</td><td>Cautious optimism. We have happy customers here, if we can keep them well stocked.  I need all the information I can get on the planned shippments of Porches</td><td>141</td></tr>",
                            "<tr><td>10280</td><td>2004-08-17</td><td>2004-08-27</td><td>2004-08-19</td><td>Shipped</td><td>NULL</td><td>249</td></tr>",
                            "<tr><td>10281</td><td>2004-08-19</td><td>2004-08-28</td><td>2004-08-23</td><td>Shipped</td><td>NULL</td><td>157</td></tr>",
                            "<tr><td>10282</td><td>2004-08-20</td><td>2004-08-26</td><td>2004-08-22</td><td>Shipped</td><td>NULL</td><td>124</td></tr>",
                            "<tr><td>10283</td><td>2004-08-20</td><td>2004-08-30</td><td>2004-08-23</td><td>Shipped</td><td>NULL</td><td>260</td></tr>",
                            "<tr><td>10284</td><td>2004-08-21</td><td>2004-08-29</td><td>2004-08-26</td><td>Shipped</td><td>Custom shipping instructions sent to warehouse</td><td>299</td></tr>",
                            "<tr><td>10285</td><td>2004-08-27</td><td>2004-09-04</td><td>2004-08-31</td><td>Shipped</td><td>NULL</td><td>286</td></tr>",
                            "<tr><td>10286</td><td>2004-08-28</td><td>2004-09-06</td><td>2004-09-01</td><td>Shipped</td><td>NULL</td><td>172</td></tr>",
                            "<tr><td>10287</td><td>2004-08-30</td><td>2004-09-06</td><td>2004-09-01</td><td>Shipped</td><td>NULL</td><td>298</td></tr>",
                            "<tr><td>10288</td><td>2004-09-01</td><td>2004-09-11</td><td>2004-09-05</td><td>Shipped</td><td>NULL</td><td>166</td></tr>",
                            "<tr><td>10289</td><td>2004-09-03</td><td>2004-09-13</td><td>2004-09-04</td><td>Shipped</td><td>We need to keep in close contact with their Marketing VP. He is the decision maker for all their purchases.</td><td>167</td></tr>",
                            "<tr><td>10290</td><td>2004-09-07</td><td>2004-09-15</td><td>2004-09-13</td><td>Shipped</td><td>NULL</td><td>198</td></tr>",
                            "<tr><td>10291</td><td>2004-09-08</td><td>2004-09-17</td><td>2004-09-14</td><td>Shipped</td><td>NULL</td><td>448</td></tr>",
                            "<tr><td>10292</td><td>2004-09-08</td><td>2004-09-18</td><td>2004-09-11</td><td>Shipped</td><td>They want to reevaluate their terms agreement with Finance.</td><td>131</td></tr>",
                            "<tr><td>10293</td><td>2004-09-09</td><td>2004-09-18</td><td>2004-09-14</td><td>Shipped</td><td>NULL</td><td>249</td></tr>",
                            "<tr><td>10294</td><td>2004-09-10</td><td>2004-09-17</td><td>2004-09-14</td><td>Shipped</td><td>NULL</td><td>204</td></tr>",
                            "<tr><td>10295</td><td>2004-09-10</td><td>2004-09-17</td><td>2004-09-14</td><td>Shipped</td><td>They want to reevaluate their terms agreement with Finance.</td><td>362</td></tr>",
                            "<tr><td>10296</td><td>2004-09-15</td><td>2004-09-22</td><td>2004-09-16</td><td>Shipped</td><td>NULL</td><td>415</td></tr>",
                            "<tr><td>10297</td><td>2004-09-16</td><td>2004-09-22</td><td>2004-09-21</td><td>Shipped</td><td>We must be cautions with this customer. Their VP of Sales resigned. Company may be heading down.</td><td>189</td></tr>",
                            "<tr><td>10298</td><td>2004-09-27</td><td>2004-10-05</td><td>2004-10-01</td><td>Shipped</td><td>NULL</td><td>103</td></tr>",
                            "<tr><td>10299</td><td>2004-09-30</td><td>2004-10-10</td><td>2004-10-01</td><td>Shipped</td><td>NULL</td><td>186</td></tr>",
                            "<tr><td>10300</td><td>2003-10-04</td><td>2003-10-13</td><td>2003-10-09</td><td>Shipped</td><td>NULL</td><td>128</td></tr>",
                            "<tr><td>10301</td><td>2003-10-05</td><td>2003-10-15</td><td>2003-10-08</td><td>Shipped</td><td>NULL</td><td>299</td></tr>",
                            "<tr><td>10302</td><td>2003-10-06</td><td>2003-10-16</td><td>2003-10-07</td><td>Shipped</td><td>NULL</td><td>201</td></tr>",
                            "<tr><td>10303</td><td>2004-10-06</td><td>2004-10-14</td><td>2004-10-09</td><td>Shipped</td><td>Customer inquired about remote controlled models and gold models.</td><td>484</td></tr>",
                            "<tr><td>10304</td><td>2004-10-11</td><td>2004-10-20</td><td>2004-10-17</td><td>Shipped</td><td>NULL</td><td>256</td></tr>",
                            "<tr><td>10305</td><td>2004-10-13</td><td>2004-10-22</td><td>2004-10-15</td><td>Shipped</td><td>Check on availability.</td><td>286</td></tr>",
                            "<tr><td>10306</td><td>2004-10-14</td><td>2004-10-21</td><td>2004-10-17</td><td>Shipped</td><td>NULL</td><td>187</td></tr>",
                            "<tr><td>10307</td><td>2004-10-14</td><td>2004-10-23</td><td>2004-10-20</td><td>Shipped</td><td>NULL</td><td>339</td></tr>",
                            "<tr><td>10308</td><td>2004-10-15</td><td>2004-10-24</td><td>2004-10-20</td><td>Shipped</td><td>Customer requested that FedEx Ground is used for this shipping</td><td>319</td></tr>",
                            "<tr><td>10309</td><td>2004-10-15</td><td>2004-10-24</td><td>2004-10-18</td><td>Shipped</td><td>NULL</td><td>121</td></tr>",
                            "<tr><td>10310</td><td>2004-10-16</td><td>2004-10-24</td><td>2004-10-18</td><td>Shipped</td><td>NULL</td><td>259</td></tr>",
                            "<tr><td>10311</td><td>2004-10-16</td><td>2004-10-23</td><td>2004-10-20</td><td>Shipped</td><td>Difficult to negotiate with customer. We need more marketing materials</td><td>141</td></tr>",
                            "<tr><td>10312</td><td>2004-10-21</td><td>2004-10-27</td><td>2004-10-23</td><td>Shipped</td><td>NULL</td><td>124</td></tr>",
                            "<tr><td>10313</td><td>2004-10-22</td><td>2004-10-28</td><td>2004-10-25</td><td>Shipped</td><td>Customer requested that FedEx Ground is used for this shipping</td><td>202</td></tr>",
                            "<tr><td>10314</td><td>2004-10-22</td><td>2004-11-01</td><td>2004-10-23</td><td>Shipped</td><td>NULL</td><td>227</td></tr>",
                            "<tr><td>10315</td><td>2004-10-29</td><td>2004-11-08</td><td>2004-10-30</td><td>Shipped</td><td>NULL</td><td>119</td></tr>",
                            "<tr><td>10316</td><td>2004-11-01</td><td>2004-11-09</td><td>2004-11-07</td><td>Shipped</td><td>Customer requested that ad materials (such as posters, pamphlets) be included in the shippment</td><td>240</td></tr>",
                            "<tr><td>10317</td><td>2004-11-02</td><td>2004-11-12</td><td>2004-11-08</td><td>Shipped</td><td>NULL</td><td>161</td></tr>",
                            "<tr><td>10318</td><td>2004-11-02</td><td>2004-11-09</td><td>2004-11-07</td><td>Shipped</td><td>NULL</td><td>157</td></tr>",
                            "<tr><td>10319</td><td>2004-11-03</td><td>2004-11-11</td><td>2004-11-06</td><td>Shipped</td><td>Customer requested that DHL is used for this shipping</td><td>456</td></tr>",
                            "<tr><td>10320</td><td>2004-11-03</td><td>2004-11-13</td><td>2004-11-07</td><td>Shipped</td><td>NULL</td><td>144</td></tr>",
                            "<tr><td>10321</td><td>2004-11-04</td><td>2004-11-12</td><td>2004-11-07</td><td>Shipped</td><td>NULL</td><td>462</td></tr>",
                            "<tr><td>10322</td><td>2004-11-04</td><td>2004-11-12</td><td>2004-11-10</td><td>Shipped</td><td>Customer has worked with some of our vendors in the past and is aware of their MSRP</td><td>363</td></tr>",
                            "<tr><td>10323</td><td>2004-11-05</td><td>2004-11-12</td><td>2004-11-09</td><td>Shipped</td><td>NULL</td><td>128</td></tr>",
                            "<tr><td>10324</td><td>2004-11-05</td><td>2004-11-11</td><td>2004-11-08</td><td>Shipped</td><td>NULL</td><td>181</td></tr>",
                            "<tr><td>10325</td><td>2004-11-05</td><td>2004-11-13</td><td>2004-11-08</td><td>Shipped</td><td>NULL</td><td>121</td></tr>",
                            "<tr><td>10326</td><td>2004-11-09</td><td>2004-11-16</td><td>2004-11-10</td><td>Shipped</td><td>NULL</td><td>144</td></tr>",
                            "<tr><td>10327</td><td>2004-11-10</td><td>2004-11-19</td><td>2004-11-13</td><td>Resolved</td><td>Order was disputed and resolved on 12/1/04. The Sales Manager was involved. Customer claims the scales of the models don&#39;t match what was discussed.</td><td>145</td></tr>",
                            "<tr><td>10328</td><td>2004-11-12</td><td>2004-11-21</td><td>2004-11-18</td><td>Shipped</td><td>Customer very concerned about the exact color of the models. There is high risk that he may dispute the order because there is a slight color mismatch</td><td>278</td></tr>",
                            "<tr><td>10329</td><td>2004-11-15</td><td>2004-11-24</td><td>2004-11-16</td><td>Shipped</td><td>NULL</td><td>131</td></tr>",
                            "<tr><td>10330</td><td>2004-11-16</td><td>2004-11-25</td><td>2004-11-21</td><td>Shipped</td><td>NULL</td><td>385</td></tr>",
                            "<tr><td>10331</td><td>2004-11-17</td><td>2004-11-23</td><td>2004-11-23</td><td>Shipped</td><td>Customer requested special shippment. The instructions were passed along to the warehouse</td><td>486</td></tr>",
                            "<tr><td>10332</td><td>2004-11-17</td><td>2004-11-25</td><td>2004-11-18</td><td>Shipped</td><td>NULL</td><td>187</td></tr>",
                            "<tr><td>10333</td><td>2004-11-18</td><td>2004-11-27</td><td>2004-11-20</td><td>Shipped</td><td>NULL</td><td>129</td></tr>",
                            "<tr><td>10334</td><td>2004-11-19</td><td>2004-11-28</td><td>NULL</td><td>On Hold</td><td>The outstaniding balance for this customer exceeds their credit limit. Order will be shipped when a payment is received.</td><td>144</td></tr>",
                            "<tr><td>10335</td><td>2004-11-19</td><td>2004-11-29</td><td>2004-11-23</td><td>Shipped</td><td>NULL</td><td>124</td></tr>",
                            "<tr><td>10336</td><td>2004-11-20</td><td>2004-11-26</td><td>2004-11-24</td><td>Shipped</td><td>Customer requested that DHL is used for this shipping</td><td>172</td></tr>",
                            "<tr><td>10337</td><td>2004-11-21</td><td>2004-11-30</td><td>2004-11-26</td><td>Shipped</td><td>NULL</td><td>424</td></tr>",
                            "<tr><td>10338</td><td>2004-11-22</td><td>2004-12-02</td><td>2004-11-27</td><td>Shipped</td><td>NULL</td><td>381</td></tr>",
                            "<tr><td>10339</td><td>2004-11-23</td><td>2004-11-30</td><td>2004-11-30</td><td>Shipped</td><td>NULL</td><td>398</td></tr>",
                            "<tr><td>10340</td><td>2004-11-24</td><td>2004-12-01</td><td>2004-11-25</td><td>Shipped</td><td>Customer is interested in buying more Ferrari models</td><td>216</td></tr>",
                            "<tr><td>10341</td><td>2004-11-24</td><td>2004-12-01</td><td>2004-11-29</td><td>Shipped</td><td>NULL</td><td>382</td></tr>",
                            "<tr><td>10342</td><td>2004-11-24</td><td>2004-12-01</td><td>2004-11-29</td><td>Shipped</td><td>NULL</td><td>114</td></tr>",
                            "<tr><td>10343</td><td>2004-11-24</td><td>2004-12-01</td><td>2004-11-26</td><td>Shipped</td><td>NULL</td><td>353</td></tr>",
                            "<tr><td>10344</td><td>2004-11-25</td><td>2004-12-02</td><td>2004-11-29</td><td>Shipped</td><td>NULL</td><td>350</td></tr>",
                            "<tr><td>10345</td><td>2004-11-25</td><td>2004-12-01</td><td>2004-11-26</td><td>Shipped</td><td>NULL</td><td>103</td></tr>",
                            "<tr><td>10346</td><td>2004-11-29</td><td>2004-12-05</td><td>2004-11-30</td><td>Shipped</td><td>NULL</td><td>112</td></tr>",
                            "<tr><td>10347</td><td>2004-11-29</td><td>2004-12-07</td><td>2004-11-30</td><td>Shipped</td><td>Can we deliver the new Ford Mustang models by end-of-quarter?</td><td>114</td></tr>",
                            "<tr><td>10348</td><td>2004-11-01</td><td>2004-11-08</td><td>2004-11-05</td><td>Shipped</td><td>NULL</td><td>458</td></tr>",
                            "<tr><td>10349</td><td>2004-12-01</td><td>2004-12-07</td><td>2004-12-03</td><td>Shipped</td><td>NULL</td><td>151</td></tr>",
                            "<tr><td>10350</td><td>2004-12-02</td><td>2004-12-08</td><td>2004-12-05</td><td>Shipped</td><td>NULL</td><td>141</td></tr>",
                            "<tr><td>10351</td><td>2004-12-03</td><td>2004-12-11</td><td>2004-12-07</td><td>Shipped</td><td>NULL</td><td>324</td></tr>",
                            "<tr><td>10352</td><td>2004-12-03</td><td>2004-12-12</td><td>2004-12-09</td><td>Shipped</td><td>NULL</td><td>198</td></tr>",
                            "<tr><td>10353</td><td>2004-12-04</td><td>2004-12-11</td><td>2004-12-05</td><td>Shipped</td><td>NULL</td><td>447</td></tr>",
                            "<tr><td>10354</td><td>2004-12-04</td><td>2004-12-10</td><td>2004-12-05</td><td>Shipped</td><td>NULL</td><td>323</td></tr>",
                            "<tr><td>10355</td><td>2004-12-07</td><td>2004-12-14</td><td>2004-12-13</td><td>Shipped</td><td>NULL</td><td>141</td></tr>",
                            "<tr><td>10356</td><td>2004-12-09</td><td>2004-12-15</td><td>2004-12-12</td><td>Shipped</td><td>NULL</td><td>250</td></tr>",
                            "<tr><td>10357</td><td>2004-12-10</td><td>2004-12-16</td><td>2004-12-14</td><td>Shipped</td><td>NULL</td><td>124</td></tr>",
                            "<tr><td>10358</td><td>2004-12-10</td><td>2004-12-16</td><td>2004-12-16</td><td>Shipped</td><td>Customer requested that DHL is used for this shipping</td><td>141</td></tr>",
                            "<tr><td>10359</td><td>2004-12-15</td><td>2004-12-23</td><td>2004-12-18</td><td>Shipped</td><td>NULL</td><td>353</td></tr>",
                            "<tr><td>10360</td><td>2004-12-16</td><td>2004-12-22</td><td>2004-12-18</td><td>Shipped</td><td>NULL</td><td>496</td></tr>",
                            "<tr><td>10361</td><td>2004-12-17</td><td>2004-12-24</td><td>2004-12-20</td><td>Shipped</td><td>NULL</td><td>282</td></tr>",
                            "<tr><td>10362</td><td>2005-01-05</td><td>2005-01-16</td><td>2005-01-10</td><td>Shipped</td><td>NULL</td><td>161</td></tr>",
                            "<tr><td>10363</td><td>2005-01-06</td><td>2005-01-12</td><td>2005-01-10</td><td>Shipped</td><td>NULL</td><td>334</td></tr>",
                            "<tr><td>10364</td><td>2005-01-06</td><td>2005-01-17</td><td>2005-01-09</td><td>Shipped</td><td>NULL</td><td>350</td></tr>",
                            "<tr><td>10365</td><td>2005-01-07</td><td>2005-01-18</td><td>2005-01-11</td><td>Shipped</td><td>NULL</td><td>320</td></tr>",
                            "<tr><td>10366</td><td>2005-01-10</td><td>2005-01-19</td><td>2005-01-12</td><td>Shipped</td><td>NULL</td><td>381</td></tr>",
                            "<tr><td>10367</td><td>2005-01-12</td><td>2005-01-21</td><td>2005-01-16</td><td>Resolved</td><td>This order was disputed and resolved on 2/1/2005. Customer claimed that container with shipment was damaged. FedEx&#39;s investigation proved this wrong.</td><td>205</td></tr>",
                            "<tr><td>10368</td><td>2005-01-19</td><td>2005-01-27</td><td>2005-01-24</td><td>Shipped</td><td>Can we renegotiate this one?</td><td>124</td></tr>",
                            "<tr><td>10369</td><td>2005-01-20</td><td>2005-01-28</td><td>2005-01-24</td><td>Shipped</td><td>NULL</td><td>379</td></tr>",
                            "<tr><td>10370</td><td>2005-01-20</td><td>2005-02-01</td><td>2005-01-25</td><td>Shipped</td><td>NULL</td><td>276</td></tr>",
                            "<tr><td>10371</td><td>2005-01-23</td><td>2005-02-03</td><td>2005-01-25</td><td>Shipped</td><td>NULL</td><td>124</td></tr>",
                            "<tr><td>10372</td><td>2005-01-26</td><td>2005-02-05</td><td>2005-01-28</td><td>Shipped</td><td>NULL</td><td>398</td></tr>",
                            "<tr><td>10373</td><td>2005-01-31</td><td>2005-02-08</td><td>2005-02-06</td><td>Shipped</td><td>NULL</td><td>311</td></tr>",
                            "<tr><td>10374</td><td>2005-02-02</td><td>2005-02-09</td><td>2005-02-03</td><td>Shipped</td><td>NULL</td><td>333</td></tr>",
                            "<tr><td>10375</td><td>2005-02-03</td><td>2005-02-10</td><td>2005-02-06</td><td>Shipped</td><td>NULL</td><td>119</td></tr>",
                            "<tr><td>10376</td><td>2005-02-08</td><td>2005-02-18</td><td>2005-02-13</td><td>Shipped</td><td>NULL</td><td>219</td></tr>",
                            "<tr><td>10377</td><td>2005-02-09</td><td>2005-02-21</td><td>2005-02-12</td><td>Shipped</td><td>Cautious optimism. We have happy customers here, if we can keep them well stocked.  I need all the information I can get on the planned shippments of Porches</td><td>186</td></tr>",
                            "<tr><td>10378</td><td>2005-02-10</td><td>2005-02-18</td><td>2005-02-11</td><td>Shipped</td><td>NULL</td><td>141</td></tr>",
                            "<tr><td>10379</td><td>2005-02-10</td><td>2005-02-18</td><td>2005-02-11</td><td>Shipped</td><td>NULL</td><td>141</td></tr>",
                            "<tr><td>10380</td><td>2005-02-16</td><td>2005-02-24</td><td>2005-02-18</td><td>Shipped</td><td>NULL</td><td>141</td></tr>",
                            "<tr><td>10381</td><td>2005-02-17</td><td>2005-02-25</td><td>2005-02-18</td><td>Shipped</td><td>NULL</td><td>321</td></tr>",
                            "<tr><td>10382</td><td>2005-02-17</td><td>2005-02-23</td><td>2005-02-18</td><td>Shipped</td><td>Custom shipping instructions sent to warehouse</td><td>124</td></tr>",
                            "<tr><td>10383</td><td>2005-02-22</td><td>2005-03-02</td><td>2005-02-25</td><td>Shipped</td><td>NULL</td><td>141</td></tr>",
                            "<tr><td>10384</td><td>2005-02-23</td><td>2005-03-06</td><td>2005-02-27</td><td>Shipped</td><td>NULL</td><td>321</td></tr>",
                            "<tr><td>10385</td><td>2005-02-28</td><td>2005-03-09</td><td>2005-03-01</td><td>Shipped</td><td>NULL</td><td>124</td></tr>",
                            "<tr><td>10386</td><td>2005-03-01</td><td>2005-03-09</td><td>2005-03-06</td><td>Resolved</td><td>Disputed then Resolved on 3/15/2005. Customer doesn&#39;t like the craftsmaship of the models.</td><td>141</td></tr>",
                            "<tr><td>10387</td><td>2005-03-02</td><td>2005-03-09</td><td>2005-03-06</td><td>Shipped</td><td>We need to keep in close contact with their Marketing VP. He is the decision maker for all their purchases.</td><td>148</td></tr>",
                            "<tr><td>10388</td><td>2005-03-03</td><td>2005-03-11</td><td>2005-03-09</td><td>Shipped</td><td>NULL</td><td>462</td></tr>",
                            "<tr><td>10389</td><td>2005-03-03</td><td>2005-03-09</td><td>2005-03-08</td><td>Shipped</td><td>NULL</td><td>448</td></tr>",
                            "<tr><td>10390</td><td>2005-03-04</td><td>2005-03-11</td><td>2005-03-07</td><td>Shipped</td><td>They want to reevaluate their terms agreement with Finance.</td><td>124</td></tr>",
                            "<tr><td>10391</td><td>2005-03-09</td><td>2005-03-20</td><td>2005-03-15</td><td>Shipped</td><td>NULL</td><td>276</td></tr>",
                            "<tr><td>10392</td><td>2005-03-10</td><td>2005-03-18</td><td>2005-03-12</td><td>Shipped</td><td>NULL</td><td>452</td></tr>",
                            "<tr><td>10393</td><td>2005-03-11</td><td>2005-03-22</td><td>2005-03-14</td><td>Shipped</td><td>They want to reevaluate their terms agreement with Finance.</td><td>323</td></tr>",
                            "<tr><td>10394</td><td>2005-03-15</td><td>2005-03-25</td><td>2005-03-19</td><td>Shipped</td><td>NULL</td><td>141</td></tr>",
                            "<tr><td>10395</td><td>2005-03-17</td><td>2005-03-24</td><td>2005-03-23</td><td>Shipped</td><td>We must be cautions with this customer. Their VP of Sales resigned. Company may be heading down.</td><td>250</td></tr>",
                            "<tr><td>10396</td><td>2005-03-23</td><td>2005-04-02</td><td>2005-03-28</td><td>Shipped</td><td>NULL</td><td>124</td></tr>",
                            "<tr><td>10397</td><td>2005-03-28</td><td>2005-04-09</td><td>2005-04-01</td><td>Shipped</td><td>NULL</td><td>242</td></tr>",
                            "<tr><td>10398</td><td>2005-03-30</td><td>2005-04-09</td><td>2005-03-31</td><td>Shipped</td><td>NULL</td><td>353</td></tr>",
                            "<tr><td>10399</td><td>2005-04-01</td><td>2005-04-12</td><td>2005-04-03</td><td>Shipped</td><td>NULL</td><td>496</td></tr>",
                            "<tr><td>10400</td><td>2005-04-01</td><td>2005-04-11</td><td>2005-04-04</td><td>Shipped</td><td>Customer requested that DHL is used for this shipping</td><td>450</td></tr>",
                            "<tr><td>10401</td><td>2005-04-03</td><td>2005-04-14</td><td>NULL</td><td>On Hold</td><td>Customer credit limit exceeded. Will ship when a payment is received.</td><td>328</td></tr>",
                            "<tr><td>10402</td><td>2005-04-07</td><td>2005-04-14</td><td>2005-04-12</td><td>Shipped</td><td>NULL</td><td>406</td></tr>",
                            "<tr><td>10403</td><td>2005-04-08</td><td>2005-04-18</td><td>2005-04-11</td><td>Shipped</td><td>NULL</td><td>201</td></tr>",
                            "<tr><td>10404</td><td>2005-04-08</td><td>2005-04-14</td><td>2005-04-11</td><td>Shipped</td><td>NULL</td><td>323</td></tr>",
                            "<tr><td>10405</td><td>2005-04-14</td><td>2005-04-24</td><td>2005-04-20</td><td>Shipped</td><td>NULL</td><td>209</td></tr>",
                            "<tr><td>10406</td><td>2005-04-15</td><td>2005-04-25</td><td>2005-04-21</td><td>Disputed</td><td>Customer claims container with shipment was damaged during shipping and some items were missing. I am talking to FedEx about this.</td><td>145</td></tr>",
                            "<tr><td>10407</td><td>2005-04-22</td><td>2005-05-04</td><td>NULL</td><td>On Hold</td><td>Customer credit limit exceeded. Will ship when a payment is received.</td><td>450</td></tr>",
                            "<tr><td>10408</td><td>2005-04-22</td><td>2005-04-29</td><td>2005-04-27</td><td>Shipped</td><td>NULL</td><td>398</td></tr>",
                            "<tr><td>10409</td><td>2005-04-23</td><td>2005-05-05</td><td>2005-04-24</td><td>Shipped</td><td>NULL</td><td>166</td></tr>",
                            "<tr><td>10410</td><td>2005-04-29</td><td>2005-05-10</td><td>2005-04-30</td><td>Shipped</td><td>NULL</td><td>357</td></tr>",
                            "<tr><td>10411</td><td>2005-05-01</td><td>2005-05-08</td><td>2005-05-06</td><td>Shipped</td><td>NULL</td><td>233</td></tr>",
                            "<tr><td>10412</td><td>2005-05-03</td><td>2005-05-13</td><td>2005-05-05</td><td>Shipped</td><td>NULL</td><td>141</td></tr>",
                            "<tr><td>10413</td><td>2005-05-05</td><td>2005-05-14</td><td>2005-05-09</td><td>Shipped</td><td>Customer requested that DHL is used for this shipping</td><td>175</td></tr>",
                            "<tr><td>10414</td><td>2005-05-06</td><td>2005-05-13</td><td>NULL</td><td>On Hold</td><td>Customer credit limit exceeded. Will ship when a payment is received.</td><td>362</td></tr>",
                            "<tr><td>10415</td><td>2005-05-09</td><td>2005-05-20</td><td>2005-05-12</td><td>Disputed</td><td>Customer claims the scales of the models don&#39;t match what was discussed. I keep all the paperwork though to prove otherwise</td><td>471</td></tr>",
                            "<tr><td>10416</td><td>2005-05-10</td><td>2005-05-16</td><td>2005-05-14</td><td>Shipped</td><td>NULL</td><td>386</td></tr>",
                            "<tr><td>10417</td><td>2005-05-13</td><td>2005-05-19</td><td>2005-05-19</td><td>Disputed</td><td>Customer doesn&#39;t like the colors and precision of the models.</td><td>141</td></tr>",
                            "<tr><td>10418</td><td>2005-05-16</td><td>2005-05-24</td><td>2005-05-20</td><td>Shipped</td><td>NULL</td><td>412</td></tr>",
                            "<tr><td>10419</td><td>2005-05-17</td><td>2005-05-28</td><td>2005-05-19</td><td>Shipped</td><td>NULL</td><td>382</td></tr>",
                            "<tr><td>10420</td><td>2005-05-29</td><td>2005-06-07</td><td>NULL</td><td>In Process</td><td>NULL</td><td>282</td></tr>",
                            "<tr><td>10421</td><td>2005-05-29</td><td>2005-06-06</td><td>NULL</td><td>In Process</td><td>Custom shipping instructions were sent to warehouse</td><td>124</td></tr>",
                            "<tr><td>10422</td><td>2005-05-30</td><td>2005-06-11</td><td>NULL</td><td>In Process</td><td>NULL</td><td>157</td></tr>",
                            "<tr><td>10423</td><td>2005-05-30</td><td>2005-06-05</td><td>NULL</td><td>In Process</td><td>NULL</td><td>314</td></tr>",
                            "<tr><td>10424</td><td>2005-05-31</td><td>2005-06-08</td><td>NULL</td><td>In Process</td><td>NULL</td><td>141</td></tr>",
                            "<tr><td>10425</td><td>2005-05-31</td><td>2005-06-07</td><td>NULL</td><td>In Process</td><td>NULL</td><td>119</td></tr>",
                            "</table>"
                        ]
                    }
                }
            ],
            "execution_count": 13
        },
        {
            "cell_type": "code",
            "source": [
                "select * from payments"
            ],
            "metadata": {
                "azdata_cell_guid": "f1c99729-9e90-4a5f-9a98-68bbab57c482",
                "language": "sql"
            },
            "outputs": [
                {
                    "output_type": "display_data",
                    "data": {
                        "text/html": "(273 row(s) affected)"
                    },
                    "metadata": {}
                },
                {
                    "output_type": "display_data",
                    "data": {
                        "text/html": "Total execution time: 00:00:01.003"
                    },
                    "metadata": {}
                },
                {
                    "output_type": "execute_result",
                    "metadata": {},
                    "execution_count": 32,
                    "data": {
                        "application/vnd.dataresource+json": {
                            "schema": {
                                "fields": [
                                    {
                                        "name": "customerNumber"
                                    },
                                    {
                                        "name": "checkNumber"
                                    },
                                    {
                                        "name": "paymentDate"
                                    },
                                    {
                                        "name": "amount"
                                    }
                                ]
                            },
                            "data": [
                                {
                                    "customerNumber": "103",
                                    "checkNumber": "HQ336336",
                                    "paymentDate": "2004-10-19",
                                    "amount": "6066.78"
                                },
                                {
                                    "customerNumber": "103",
                                    "checkNumber": "JM555205",
                                    "paymentDate": "2003-06-05",
                                    "amount": "14571.44"
                                },
                                {
                                    "customerNumber": "103",
                                    "checkNumber": "OM314933",
                                    "paymentDate": "2004-12-18",
                                    "amount": "1676.14"
                                },
                                {
                                    "customerNumber": "112",
                                    "checkNumber": "BO864823",
                                    "paymentDate": "2004-12-17",
                                    "amount": "14191.12"
                                },
                                {
                                    "customerNumber": "112",
                                    "checkNumber": "HQ55022",
                                    "paymentDate": "2003-06-06",
                                    "amount": "32641.98"
                                },
                                {
                                    "customerNumber": "112",
                                    "checkNumber": "ND748579",
                                    "paymentDate": "2004-08-20",
                                    "amount": "33347.88"
                                },
                                {
                                    "customerNumber": "114",
                                    "checkNumber": "GG31455",
                                    "paymentDate": "2003-05-20",
                                    "amount": "45864.03"
                                },
                                {
                                    "customerNumber": "114",
                                    "checkNumber": "MA765515",
                                    "paymentDate": "2004-12-15",
                                    "amount": "82261.22"
                                },
                                {
                                    "customerNumber": "114",
                                    "checkNumber": "NP603840",
                                    "paymentDate": "2003-05-31",
                                    "amount": "7565.08"
                                },
                                {
                                    "customerNumber": "114",
                                    "checkNumber": "NR27552",
                                    "paymentDate": "2004-03-10",
                                    "amount": "44894.74"
                                },
                                {
                                    "customerNumber": "119",
                                    "checkNumber": "DB933704",
                                    "paymentDate": "2004-11-14",
                                    "amount": "19501.82"
                                },
                                {
                                    "customerNumber": "119",
                                    "checkNumber": "LN373447",
                                    "paymentDate": "2004-08-08",
                                    "amount": "47924.19"
                                },
                                {
                                    "customerNumber": "119",
                                    "checkNumber": "NG94694",
                                    "paymentDate": "2005-02-22",
                                    "amount": "49523.67"
                                },
                                {
                                    "customerNumber": "121",
                                    "checkNumber": "DB889831",
                                    "paymentDate": "2003-02-16",
                                    "amount": "50218.95"
                                },
                                {
                                    "customerNumber": "121",
                                    "checkNumber": "FD317790",
                                    "paymentDate": "2003-10-28",
                                    "amount": "1491.38"
                                },
                                {
                                    "customerNumber": "121",
                                    "checkNumber": "KI831359",
                                    "paymentDate": "2004-11-04",
                                    "amount": "17876.32"
                                },
                                {
                                    "customerNumber": "121",
                                    "checkNumber": "MA302151",
                                    "paymentDate": "2004-11-28",
                                    "amount": "34638.14"
                                },
                                {
                                    "customerNumber": "124",
                                    "checkNumber": "AE215433",
                                    "paymentDate": "2005-03-05",
                                    "amount": "101244.59"
                                },
                                {
                                    "customerNumber": "124",
                                    "checkNumber": "BG255406",
                                    "paymentDate": "2004-08-28",
                                    "amount": "85410.87"
                                },
                                {
                                    "customerNumber": "124",
                                    "checkNumber": "CQ287967",
                                    "paymentDate": "2003-04-11",
                                    "amount": "11044.30"
                                },
                                {
                                    "customerNumber": "124",
                                    "checkNumber": "ET64396",
                                    "paymentDate": "2005-04-16",
                                    "amount": "83598.04"
                                },
                                {
                                    "customerNumber": "124",
                                    "checkNumber": "HI366474",
                                    "paymentDate": "2004-12-27",
                                    "amount": "47142.70"
                                },
                                {
                                    "customerNumber": "124",
                                    "checkNumber": "HR86578",
                                    "paymentDate": "2004-11-02",
                                    "amount": "55639.66"
                                },
                                {
                                    "customerNumber": "124",
                                    "checkNumber": "KI131716",
                                    "paymentDate": "2003-08-15",
                                    "amount": "111654.40"
                                },
                                {
                                    "customerNumber": "124",
                                    "checkNumber": "LF217299",
                                    "paymentDate": "2004-03-26",
                                    "amount": "43369.30"
                                },
                                {
                                    "customerNumber": "124",
                                    "checkNumber": "NT141748",
                                    "paymentDate": "2003-11-25",
                                    "amount": "45084.38"
                                },
                                {
                                    "customerNumber": "128",
                                    "checkNumber": "DI925118",
                                    "paymentDate": "2003-01-28",
                                    "amount": "10549.01"
                                },
                                {
                                    "customerNumber": "128",
                                    "checkNumber": "FA465482",
                                    "paymentDate": "2003-10-18",
                                    "amount": "24101.81"
                                },
                                {
                                    "customerNumber": "128",
                                    "checkNumber": "FH668230",
                                    "paymentDate": "2004-03-24",
                                    "amount": "33820.62"
                                },
                                {
                                    "customerNumber": "128",
                                    "checkNumber": "IP383901",
                                    "paymentDate": "2004-11-18",
                                    "amount": "7466.32"
                                },
                                {
                                    "customerNumber": "129",
                                    "checkNumber": "DM826140",
                                    "paymentDate": "2004-12-08",
                                    "amount": "26248.78"
                                },
                                {
                                    "customerNumber": "129",
                                    "checkNumber": "ID449593",
                                    "paymentDate": "2003-12-11",
                                    "amount": "23923.93"
                                },
                                {
                                    "customerNumber": "129",
                                    "checkNumber": "PI42991",
                                    "paymentDate": "2003-04-09",
                                    "amount": "16537.85"
                                },
                                {
                                    "customerNumber": "131",
                                    "checkNumber": "CL442705",
                                    "paymentDate": "2003-03-12",
                                    "amount": "22292.62"
                                },
                                {
                                    "customerNumber": "131",
                                    "checkNumber": "MA724562",
                                    "paymentDate": "2004-12-02",
                                    "amount": "50025.35"
                                },
                                {
                                    "customerNumber": "131",
                                    "checkNumber": "NB445135",
                                    "paymentDate": "2004-09-11",
                                    "amount": "35321.97"
                                },
                                {
                                    "customerNumber": "141",
                                    "checkNumber": "AU364101",
                                    "paymentDate": "2003-07-19",
                                    "amount": "36251.03"
                                },
                                {
                                    "customerNumber": "141",
                                    "checkNumber": "DB583216",
                                    "paymentDate": "2004-11-01",
                                    "amount": "36140.38"
                                },
                                {
                                    "customerNumber": "141",
                                    "checkNumber": "DL460618",
                                    "paymentDate": "2005-05-19",
                                    "amount": "46895.48"
                                },
                                {
                                    "customerNumber": "141",
                                    "checkNumber": "HJ32686",
                                    "paymentDate": "2004-01-30",
                                    "amount": "59830.55"
                                },
                                {
                                    "customerNumber": "141",
                                    "checkNumber": "ID10962",
                                    "paymentDate": "2004-12-31",
                                    "amount": "116208.40"
                                },
                                {
                                    "customerNumber": "141",
                                    "checkNumber": "IN446258",
                                    "paymentDate": "2005-03-25",
                                    "amount": "65071.26"
                                },
                                {
                                    "customerNumber": "141",
                                    "checkNumber": "JE105477",
                                    "paymentDate": "2005-03-18",
                                    "amount": "120166.58"
                                },
                                {
                                    "customerNumber": "141",
                                    "checkNumber": "JN355280",
                                    "paymentDate": "2003-10-26",
                                    "amount": "49539.37"
                                },
                                {
                                    "customerNumber": "141",
                                    "checkNumber": "JN722010",
                                    "paymentDate": "2003-02-25",
                                    "amount": "40206.20"
                                },
                                {
                                    "customerNumber": "141",
                                    "checkNumber": "KT52578",
                                    "paymentDate": "2003-12-09",
                                    "amount": "63843.55"
                                },
                                {
                                    "customerNumber": "141",
                                    "checkNumber": "MC46946",
                                    "paymentDate": "2004-07-09",
                                    "amount": "35420.74"
                                },
                                {
                                    "customerNumber": "141",
                                    "checkNumber": "MF629602",
                                    "paymentDate": "2004-08-16",
                                    "amount": "20009.53"
                                },
                                {
                                    "customerNumber": "141",
                                    "checkNumber": "NU627706",
                                    "paymentDate": "2004-05-17",
                                    "amount": "26155.91"
                                },
                                {
                                    "customerNumber": "144",
                                    "checkNumber": "IR846303",
                                    "paymentDate": "2004-12-12",
                                    "amount": "36005.71"
                                },
                                {
                                    "customerNumber": "144",
                                    "checkNumber": "LA685678",
                                    "paymentDate": "2003-04-09",
                                    "amount": "7674.94"
                                },
                                {
                                    "customerNumber": "145",
                                    "checkNumber": "CN328545",
                                    "paymentDate": "2004-07-03",
                                    "amount": "4710.73"
                                },
                                {
                                    "customerNumber": "145",
                                    "checkNumber": "ED39322",
                                    "paymentDate": "2004-04-26",
                                    "amount": "28211.70"
                                },
                                {
                                    "customerNumber": "145",
                                    "checkNumber": "HR182688",
                                    "paymentDate": "2004-12-01",
                                    "amount": "20564.86"
                                },
                                {
                                    "customerNumber": "145",
                                    "checkNumber": "JJ246391",
                                    "paymentDate": "2003-02-20",
                                    "amount": "53959.21"
                                },
                                {
                                    "customerNumber": "146",
                                    "checkNumber": "FP549817",
                                    "paymentDate": "2004-03-18",
                                    "amount": "40978.53"
                                },
                                {
                                    "customerNumber": "146",
                                    "checkNumber": "FU793410",
                                    "paymentDate": "2004-01-16",
                                    "amount": "49614.72"
                                },
                                {
                                    "customerNumber": "146",
                                    "checkNumber": "LJ160635",
                                    "paymentDate": "2003-12-10",
                                    "amount": "39712.10"
                                },
                                {
                                    "customerNumber": "148",
                                    "checkNumber": "BI507030",
                                    "paymentDate": "2003-04-22",
                                    "amount": "44380.15"
                                },
                                {
                                    "customerNumber": "148",
                                    "checkNumber": "DD635282",
                                    "paymentDate": "2004-08-11",
                                    "amount": "2611.84"
                                },
                                {
                                    "customerNumber": "148",
                                    "checkNumber": "KM172879",
                                    "paymentDate": "2003-12-26",
                                    "amount": "105743.00"
                                },
                                {
                                    "customerNumber": "148",
                                    "checkNumber": "ME497970",
                                    "paymentDate": "2005-03-27",
                                    "amount": "3516.04"
                                },
                                {
                                    "customerNumber": "151",
                                    "checkNumber": "BF686658",
                                    "paymentDate": "2003-12-22",
                                    "amount": "58793.53"
                                },
                                {
                                    "customerNumber": "151",
                                    "checkNumber": "GB852215",
                                    "paymentDate": "2004-07-26",
                                    "amount": "20314.44"
                                },
                                {
                                    "customerNumber": "151",
                                    "checkNumber": "IP568906",
                                    "paymentDate": "2003-06-18",
                                    "amount": "58841.35"
                                },
                                {
                                    "customerNumber": "151",
                                    "checkNumber": "KI884577",
                                    "paymentDate": "2004-12-14",
                                    "amount": "39964.63"
                                },
                                {
                                    "customerNumber": "157",
                                    "checkNumber": "HI618861",
                                    "paymentDate": "2004-11-19",
                                    "amount": "35152.12"
                                },
                                {
                                    "customerNumber": "157",
                                    "checkNumber": "NN711988",
                                    "paymentDate": "2004-09-07",
                                    "amount": "63357.13"
                                },
                                {
                                    "customerNumber": "161",
                                    "checkNumber": "BR352384",
                                    "paymentDate": "2004-11-14",
                                    "amount": "2434.25"
                                },
                                {
                                    "customerNumber": "161",
                                    "checkNumber": "BR478494",
                                    "paymentDate": "2003-11-18",
                                    "amount": "50743.65"
                                },
                                {
                                    "customerNumber": "161",
                                    "checkNumber": "KG644125",
                                    "paymentDate": "2005-02-02",
                                    "amount": "12692.19"
                                },
                                {
                                    "customerNumber": "161",
                                    "checkNumber": "NI908214",
                                    "paymentDate": "2003-08-05",
                                    "amount": "38675.13"
                                },
                                {
                                    "customerNumber": "166",
                                    "checkNumber": "BQ327613",
                                    "paymentDate": "2004-09-16",
                                    "amount": "38785.48"
                                },
                                {
                                    "customerNumber": "166",
                                    "checkNumber": "DC979307",
                                    "paymentDate": "2004-07-07",
                                    "amount": "44160.92"
                                },
                                {
                                    "customerNumber": "166",
                                    "checkNumber": "LA318629",
                                    "paymentDate": "2004-02-28",
                                    "amount": "22474.17"
                                },
                                {
                                    "customerNumber": "167",
                                    "checkNumber": "ED743615",
                                    "paymentDate": "2004-09-19",
                                    "amount": "12538.01"
                                },
                                {
                                    "customerNumber": "167",
                                    "checkNumber": "GN228846",
                                    "paymentDate": "2003-12-03",
                                    "amount": "85024.46"
                                },
                                {
                                    "customerNumber": "171",
                                    "checkNumber": "GB878038",
                                    "paymentDate": "2004-03-15",
                                    "amount": "18997.89"
                                },
                                {
                                    "customerNumber": "171",
                                    "checkNumber": "IL104425",
                                    "paymentDate": "2003-11-22",
                                    "amount": "42783.81"
                                },
                                {
                                    "customerNumber": "172",
                                    "checkNumber": "AD832091",
                                    "paymentDate": "2004-09-09",
                                    "amount": "1960.80"
                                },
                                {
                                    "customerNumber": "172",
                                    "checkNumber": "CE51751",
                                    "paymentDate": "2004-12-04",
                                    "amount": "51209.58"
                                },
                                {
                                    "customerNumber": "172",
                                    "checkNumber": "EH208589",
                                    "paymentDate": "2003-04-20",
                                    "amount": "33383.14"
                                },
                                {
                                    "customerNumber": "173",
                                    "checkNumber": "GP545698",
                                    "paymentDate": "2004-05-13",
                                    "amount": "11843.45"
                                },
                                {
                                    "customerNumber": "173",
                                    "checkNumber": "IG462397",
                                    "paymentDate": "2004-03-29",
                                    "amount": "20355.24"
                                },
                                {
                                    "customerNumber": "175",
                                    "checkNumber": "CITI3434344",
                                    "paymentDate": "2005-05-19",
                                    "amount": "28500.78"
                                },
                                {
                                    "customerNumber": "175",
                                    "checkNumber": "IO448913",
                                    "paymentDate": "2003-11-19",
                                    "amount": "24879.08"
                                },
                                {
                                    "customerNumber": "175",
                                    "checkNumber": "PI15215",
                                    "paymentDate": "2004-07-10",
                                    "amount": "42044.77"
                                },
                                {
                                    "customerNumber": "177",
                                    "checkNumber": "AU750837",
                                    "paymentDate": "2004-04-17",
                                    "amount": "15183.63"
                                },
                                {
                                    "customerNumber": "177",
                                    "checkNumber": "CI381435",
                                    "paymentDate": "2004-01-19",
                                    "amount": "47177.59"
                                },
                                {
                                    "customerNumber": "181",
                                    "checkNumber": "CM564612",
                                    "paymentDate": "2004-04-25",
                                    "amount": "22602.36"
                                },
                                {
                                    "customerNumber": "181",
                                    "checkNumber": "GQ132144",
                                    "paymentDate": "2003-01-30",
                                    "amount": "5494.78"
                                },
                                {
                                    "customerNumber": "181",
                                    "checkNumber": "OH367219",
                                    "paymentDate": "2004-11-16",
                                    "amount": "44400.50"
                                },
                                {
                                    "customerNumber": "186",
                                    "checkNumber": "AE192287",
                                    "paymentDate": "2005-03-10",
                                    "amount": "23602.90"
                                },
                                {
                                    "customerNumber": "186",
                                    "checkNumber": "AK412714",
                                    "paymentDate": "2003-10-27",
                                    "amount": "37602.48"
                                },
                                {
                                    "customerNumber": "186",
                                    "checkNumber": "KA602407",
                                    "paymentDate": "2004-10-21",
                                    "amount": "34341.08"
                                },
                                {
                                    "customerNumber": "187",
                                    "checkNumber": "AM968797",
                                    "paymentDate": "2004-11-03",
                                    "amount": "52825.29"
                                },
                                {
                                    "customerNumber": "187",
                                    "checkNumber": "BQ39062",
                                    "paymentDate": "2004-12-08",
                                    "amount": "47159.11"
                                },
                                {
                                    "customerNumber": "187",
                                    "checkNumber": "KL124726",
                                    "paymentDate": "2003-03-27",
                                    "amount": "48425.69"
                                },
                                {
                                    "customerNumber": "189",
                                    "checkNumber": "BO711618",
                                    "paymentDate": "2004-10-03",
                                    "amount": "17359.53"
                                },
                                {
                                    "customerNumber": "189",
                                    "checkNumber": "NM916675",
                                    "paymentDate": "2004-03-01",
                                    "amount": "32538.74"
                                },
                                {
                                    "customerNumber": "198",
                                    "checkNumber": "FI192930",
                                    "paymentDate": "2004-12-06",
                                    "amount": "9658.74"
                                },
                                {
                                    "customerNumber": "198",
                                    "checkNumber": "HQ920205",
                                    "paymentDate": "2003-07-06",
                                    "amount": "6036.96"
                                },
                                {
                                    "customerNumber": "198",
                                    "checkNumber": "IS946883",
                                    "paymentDate": "2004-09-21",
                                    "amount": "5858.56"
                                },
                                {
                                    "customerNumber": "201",
                                    "checkNumber": "DP677013",
                                    "paymentDate": "2003-10-20",
                                    "amount": "23908.24"
                                },
                                {
                                    "customerNumber": "201",
                                    "checkNumber": "OO846801",
                                    "paymentDate": "2004-06-15",
                                    "amount": "37258.94"
                                },
                                {
                                    "customerNumber": "202",
                                    "checkNumber": "HI358554",
                                    "paymentDate": "2003-12-18",
                                    "amount": "36527.61"
                                },
                                {
                                    "customerNumber": "202",
                                    "checkNumber": "IQ627690",
                                    "paymentDate": "2004-11-08",
                                    "amount": "33594.58"
                                },
                                {
                                    "customerNumber": "204",
                                    "checkNumber": "GC697638",
                                    "paymentDate": "2004-08-13",
                                    "amount": "51152.86"
                                },
                                {
                                    "customerNumber": "204",
                                    "checkNumber": "IS150005",
                                    "paymentDate": "2004-09-24",
                                    "amount": "4424.40"
                                },
                                {
                                    "customerNumber": "205",
                                    "checkNumber": "GL756480",
                                    "paymentDate": "2003-12-04",
                                    "amount": "3879.96"
                                },
                                {
                                    "customerNumber": "205",
                                    "checkNumber": "LL562733",
                                    "paymentDate": "2003-09-05",
                                    "amount": "50342.74"
                                },
                                {
                                    "customerNumber": "205",
                                    "checkNumber": "NM739638",
                                    "paymentDate": "2005-02-06",
                                    "amount": "39580.60"
                                },
                                {
                                    "customerNumber": "209",
                                    "checkNumber": "BOAF82044",
                                    "paymentDate": "2005-05-03",
                                    "amount": "35157.75"
                                },
                                {
                                    "customerNumber": "209",
                                    "checkNumber": "ED520529",
                                    "paymentDate": "2004-06-21",
                                    "amount": "4632.31"
                                },
                                {
                                    "customerNumber": "209",
                                    "checkNumber": "PH785937",
                                    "paymentDate": "2004-05-04",
                                    "amount": "36069.26"
                                },
                                {
                                    "customerNumber": "211",
                                    "checkNumber": "BJ535230",
                                    "paymentDate": "2003-12-09",
                                    "amount": "45480.79"
                                },
                                {
                                    "customerNumber": "216",
                                    "checkNumber": "BG407567",
                                    "paymentDate": "2003-05-09",
                                    "amount": "3101.40"
                                },
                                {
                                    "customerNumber": "216",
                                    "checkNumber": "ML780814",
                                    "paymentDate": "2004-12-06",
                                    "amount": "24945.21"
                                },
                                {
                                    "customerNumber": "216",
                                    "checkNumber": "MM342086",
                                    "paymentDate": "2003-12-14",
                                    "amount": "40473.86"
                                },
                                {
                                    "customerNumber": "219",
                                    "checkNumber": "BN17870",
                                    "paymentDate": "2005-03-02",
                                    "amount": "3452.75"
                                },
                                {
                                    "customerNumber": "219",
                                    "checkNumber": "BR941480",
                                    "paymentDate": "2003-10-18",
                                    "amount": "4465.85"
                                },
                                {
                                    "customerNumber": "227",
                                    "checkNumber": "MQ413968",
                                    "paymentDate": "2003-10-31",
                                    "amount": "36164.46"
                                },
                                {
                                    "customerNumber": "227",
                                    "checkNumber": "NU21326",
                                    "paymentDate": "2004-11-02",
                                    "amount": "53745.34"
                                },
                                {
                                    "customerNumber": "233",
                                    "checkNumber": "BOFA23232",
                                    "paymentDate": "2005-05-20",
                                    "amount": "29070.38"
                                },
                                {
                                    "customerNumber": "233",
                                    "checkNumber": "II180006",
                                    "paymentDate": "2004-07-01",
                                    "amount": "22997.45"
                                },
                                {
                                    "customerNumber": "233",
                                    "checkNumber": "JG981190",
                                    "paymentDate": "2003-11-18",
                                    "amount": "16909.84"
                                },
                                {
                                    "customerNumber": "239",
                                    "checkNumber": "NQ865547",
                                    "paymentDate": "2004-03-15",
                                    "amount": "80375.24"
                                },
                                {
                                    "customerNumber": "240",
                                    "checkNumber": "IF245157",
                                    "paymentDate": "2004-11-16",
                                    "amount": "46788.14"
                                },
                                {
                                    "customerNumber": "240",
                                    "checkNumber": "JO719695",
                                    "paymentDate": "2004-03-28",
                                    "amount": "24995.61"
                                },
                                {
                                    "customerNumber": "242",
                                    "checkNumber": "AF40894",
                                    "paymentDate": "2003-11-22",
                                    "amount": "33818.34"
                                },
                                {
                                    "customerNumber": "242",
                                    "checkNumber": "HR224331",
                                    "paymentDate": "2005-06-03",
                                    "amount": "12432.32"
                                },
                                {
                                    "customerNumber": "242",
                                    "checkNumber": "KI744716",
                                    "paymentDate": "2003-07-21",
                                    "amount": "14232.70"
                                },
                                {
                                    "customerNumber": "249",
                                    "checkNumber": "IJ399820",
                                    "paymentDate": "2004-09-19",
                                    "amount": "33924.24"
                                },
                                {
                                    "customerNumber": "249",
                                    "checkNumber": "NE404084",
                                    "paymentDate": "2004-09-04",
                                    "amount": "48298.99"
                                },
                                {
                                    "customerNumber": "250",
                                    "checkNumber": "EQ12267",
                                    "paymentDate": "2005-05-17",
                                    "amount": "17928.09"
                                },
                                {
                                    "customerNumber": "250",
                                    "checkNumber": "HD284647",
                                    "paymentDate": "2004-12-30",
                                    "amount": "26311.63"
                                },
                                {
                                    "customerNumber": "250",
                                    "checkNumber": "HN114306",
                                    "paymentDate": "2003-07-18",
                                    "amount": "23419.47"
                                },
                                {
                                    "customerNumber": "256",
                                    "checkNumber": "EP227123",
                                    "paymentDate": "2004-02-10",
                                    "amount": "5759.42"
                                },
                                {
                                    "customerNumber": "256",
                                    "checkNumber": "HE84936",
                                    "paymentDate": "2004-10-22",
                                    "amount": "53116.99"
                                },
                                {
                                    "customerNumber": "259",
                                    "checkNumber": "EU280955",
                                    "paymentDate": "2004-11-06",
                                    "amount": "61234.67"
                                },
                                {
                                    "customerNumber": "259",
                                    "checkNumber": "GB361972",
                                    "paymentDate": "2003-12-07",
                                    "amount": "27988.47"
                                },
                                {
                                    "customerNumber": "260",
                                    "checkNumber": "IO164641",
                                    "paymentDate": "2004-08-30",
                                    "amount": "37527.58"
                                },
                                {
                                    "customerNumber": "260",
                                    "checkNumber": "NH776924",
                                    "paymentDate": "2004-04-24",
                                    "amount": "29284.42"
                                },
                                {
                                    "customerNumber": "276",
                                    "checkNumber": "EM979878",
                                    "paymentDate": "2005-02-09",
                                    "amount": "27083.78"
                                },
                                {
                                    "customerNumber": "276",
                                    "checkNumber": "KM841847",
                                    "paymentDate": "2003-11-13",
                                    "amount": "38547.19"
                                },
                                {
                                    "customerNumber": "276",
                                    "checkNumber": "LE432182",
                                    "paymentDate": "2003-09-28",
                                    "amount": "41554.73"
                                },
                                {
                                    "customerNumber": "276",
                                    "checkNumber": "OJ819725",
                                    "paymentDate": "2005-04-30",
                                    "amount": "29848.52"
                                },
                                {
                                    "customerNumber": "278",
                                    "checkNumber": "BJ483870",
                                    "paymentDate": "2004-12-05",
                                    "amount": "37654.09"
                                },
                                {
                                    "customerNumber": "278",
                                    "checkNumber": "GP636783",
                                    "paymentDate": "2003-03-02",
                                    "amount": "52151.81"
                                },
                                {
                                    "customerNumber": "278",
                                    "checkNumber": "NI983021",
                                    "paymentDate": "2003-11-24",
                                    "amount": "37723.79"
                                },
                                {
                                    "customerNumber": "282",
                                    "checkNumber": "IA793562",
                                    "paymentDate": "2003-08-03",
                                    "amount": "24013.52"
                                },
                                {
                                    "customerNumber": "282",
                                    "checkNumber": "JT819493",
                                    "paymentDate": "2004-08-02",
                                    "amount": "35806.73"
                                },
                                {
                                    "customerNumber": "282",
                                    "checkNumber": "OD327378",
                                    "paymentDate": "2005-01-03",
                                    "amount": "31835.36"
                                },
                                {
                                    "customerNumber": "286",
                                    "checkNumber": "DR578578",
                                    "paymentDate": "2004-10-28",
                                    "amount": "47411.33"
                                },
                                {
                                    "customerNumber": "286",
                                    "checkNumber": "KH910279",
                                    "paymentDate": "2004-09-05",
                                    "amount": "43134.04"
                                },
                                {
                                    "customerNumber": "298",
                                    "checkNumber": "AJ574927",
                                    "paymentDate": "2004-03-13",
                                    "amount": "47375.92"
                                },
                                {
                                    "customerNumber": "298",
                                    "checkNumber": "LF501133",
                                    "paymentDate": "2004-09-18",
                                    "amount": "61402.00"
                                },
                                {
                                    "customerNumber": "299",
                                    "checkNumber": "AD304085",
                                    "paymentDate": "2003-10-24",
                                    "amount": "36798.88"
                                },
                                {
                                    "customerNumber": "299",
                                    "checkNumber": "NR157385",
                                    "paymentDate": "2004-09-05",
                                    "amount": "32260.16"
                                },
                                {
                                    "customerNumber": "311",
                                    "checkNumber": "DG336041",
                                    "paymentDate": "2005-02-15",
                                    "amount": "46770.52"
                                },
                                {
                                    "customerNumber": "311",
                                    "checkNumber": "FA728475",
                                    "paymentDate": "2003-10-06",
                                    "amount": "32723.04"
                                },
                                {
                                    "customerNumber": "311",
                                    "checkNumber": "NQ966143",
                                    "paymentDate": "2004-04-25",
                                    "amount": "16212.59"
                                },
                                {
                                    "customerNumber": "314",
                                    "checkNumber": "LQ244073",
                                    "paymentDate": "2004-08-09",
                                    "amount": "45352.47"
                                },
                                {
                                    "customerNumber": "314",
                                    "checkNumber": "MD809704",
                                    "paymentDate": "2004-03-03",
                                    "amount": "16901.38"
                                },
                                {
                                    "customerNumber": "319",
                                    "checkNumber": "HL685576",
                                    "paymentDate": "2004-11-06",
                                    "amount": "42339.76"
                                },
                                {
                                    "customerNumber": "319",
                                    "checkNumber": "OM548174",
                                    "paymentDate": "2003-12-07",
                                    "amount": "36092.40"
                                },
                                {
                                    "customerNumber": "320",
                                    "checkNumber": "GJ597719",
                                    "paymentDate": "2005-01-18",
                                    "amount": "8307.28"
                                },
                                {
                                    "customerNumber": "320",
                                    "checkNumber": "HO576374",
                                    "paymentDate": "2003-08-20",
                                    "amount": "41016.75"
                                },
                                {
                                    "customerNumber": "320",
                                    "checkNumber": "MU817160",
                                    "paymentDate": "2003-11-24",
                                    "amount": "52548.49"
                                },
                                {
                                    "customerNumber": "321",
                                    "checkNumber": "DJ15149",
                                    "paymentDate": "2003-11-03",
                                    "amount": "85559.12"
                                },
                                {
                                    "customerNumber": "321",
                                    "checkNumber": "LA556321",
                                    "paymentDate": "2005-03-15",
                                    "amount": "46781.66"
                                },
                                {
                                    "customerNumber": "323",
                                    "checkNumber": "AL493079",
                                    "paymentDate": "2005-05-23",
                                    "amount": "75020.13"
                                },
                                {
                                    "customerNumber": "323",
                                    "checkNumber": "ES347491",
                                    "paymentDate": "2004-06-24",
                                    "amount": "37281.36"
                                },
                                {
                                    "customerNumber": "323",
                                    "checkNumber": "HG738664",
                                    "paymentDate": "2003-07-05",
                                    "amount": "2880.00"
                                },
                                {
                                    "customerNumber": "323",
                                    "checkNumber": "PQ803830",
                                    "paymentDate": "2004-12-24",
                                    "amount": "39440.59"
                                },
                                {
                                    "customerNumber": "324",
                                    "checkNumber": "DQ409197",
                                    "paymentDate": "2004-12-13",
                                    "amount": "13671.82"
                                },
                                {
                                    "customerNumber": "324",
                                    "checkNumber": "FP443161",
                                    "paymentDate": "2003-07-07",
                                    "amount": "29429.14"
                                },
                                {
                                    "customerNumber": "324",
                                    "checkNumber": "HB150714",
                                    "paymentDate": "2003-11-23",
                                    "amount": "37455.77"
                                },
                                {
                                    "customerNumber": "328",
                                    "checkNumber": "EN930356",
                                    "paymentDate": "2004-04-16",
                                    "amount": "7178.66"
                                },
                                {
                                    "customerNumber": "328",
                                    "checkNumber": "NR631421",
                                    "paymentDate": "2004-05-30",
                                    "amount": "31102.85"
                                },
                                {
                                    "customerNumber": "333",
                                    "checkNumber": "HL209210",
                                    "paymentDate": "2003-11-15",
                                    "amount": "23936.53"
                                },
                                {
                                    "customerNumber": "333",
                                    "checkNumber": "JK479662",
                                    "paymentDate": "2003-10-17",
                                    "amount": "9821.32"
                                },
                                {
                                    "customerNumber": "333",
                                    "checkNumber": "NF959653",
                                    "paymentDate": "2005-03-01",
                                    "amount": "21432.31"
                                },
                                {
                                    "customerNumber": "334",
                                    "checkNumber": "CS435306",
                                    "paymentDate": "2005-01-27",
                                    "amount": "45785.34"
                                },
                                {
                                    "customerNumber": "334",
                                    "checkNumber": "HH517378",
                                    "paymentDate": "2003-08-16",
                                    "amount": "29716.86"
                                },
                                {
                                    "customerNumber": "334",
                                    "checkNumber": "LF737277",
                                    "paymentDate": "2004-05-22",
                                    "amount": "28394.54"
                                },
                                {
                                    "customerNumber": "339",
                                    "checkNumber": "AP286625",
                                    "paymentDate": "2004-10-24",
                                    "amount": "23333.06"
                                },
                                {
                                    "customerNumber": "339",
                                    "checkNumber": "DA98827",
                                    "paymentDate": "2003-11-28",
                                    "amount": "34606.28"
                                },
                                {
                                    "customerNumber": "344",
                                    "checkNumber": "AF246722",
                                    "paymentDate": "2003-11-24",
                                    "amount": "31428.21"
                                },
                                {
                                    "customerNumber": "344",
                                    "checkNumber": "NJ906924",
                                    "paymentDate": "2004-04-02",
                                    "amount": "15322.93"
                                },
                                {
                                    "customerNumber": "347",
                                    "checkNumber": "DG700707",
                                    "paymentDate": "2004-01-18",
                                    "amount": "21053.69"
                                },
                                {
                                    "customerNumber": "347",
                                    "checkNumber": "LG808674",
                                    "paymentDate": "2003-10-24",
                                    "amount": "20452.50"
                                },
                                {
                                    "customerNumber": "350",
                                    "checkNumber": "BQ602907",
                                    "paymentDate": "2004-12-11",
                                    "amount": "18888.31"
                                },
                                {
                                    "customerNumber": "350",
                                    "checkNumber": "CI471510",
                                    "paymentDate": "2003-05-25",
                                    "amount": "50824.66"
                                },
                                {
                                    "customerNumber": "350",
                                    "checkNumber": "OB648482",
                                    "paymentDate": "2005-01-29",
                                    "amount": "1834.56"
                                },
                                {
                                    "customerNumber": "353",
                                    "checkNumber": "CO351193",
                                    "paymentDate": "2005-01-10",
                                    "amount": "49705.52"
                                },
                                {
                                    "customerNumber": "353",
                                    "checkNumber": "ED878227",
                                    "paymentDate": "2003-07-21",
                                    "amount": "13920.26"
                                },
                                {
                                    "customerNumber": "353",
                                    "checkNumber": "GT878649",
                                    "paymentDate": "2003-05-21",
                                    "amount": "16700.47"
                                },
                                {
                                    "customerNumber": "353",
                                    "checkNumber": "HJ618252",
                                    "paymentDate": "2005-06-09",
                                    "amount": "46656.94"
                                },
                                {
                                    "customerNumber": "357",
                                    "checkNumber": "AG240323",
                                    "paymentDate": "2003-12-16",
                                    "amount": "20220.04"
                                },
                                {
                                    "customerNumber": "357",
                                    "checkNumber": "NB291497",
                                    "paymentDate": "2004-05-15",
                                    "amount": "36442.34"
                                },
                                {
                                    "customerNumber": "362",
                                    "checkNumber": "FP170292",
                                    "paymentDate": "2004-07-11",
                                    "amount": "18473.71"
                                },
                                {
                                    "customerNumber": "362",
                                    "checkNumber": "OG208861",
                                    "paymentDate": "2004-09-21",
                                    "amount": "15059.76"
                                },
                                {
                                    "customerNumber": "363",
                                    "checkNumber": "HL575273",
                                    "paymentDate": "2004-11-17",
                                    "amount": "50799.69"
                                },
                                {
                                    "customerNumber": "363",
                                    "checkNumber": "IS232033",
                                    "paymentDate": "2003-01-16",
                                    "amount": "10223.83"
                                },
                                {
                                    "customerNumber": "363",
                                    "checkNumber": "PN238558",
                                    "paymentDate": "2003-12-05",
                                    "amount": "55425.77"
                                },
                                {
                                    "customerNumber": "379",
                                    "checkNumber": "CA762595",
                                    "paymentDate": "2005-02-12",
                                    "amount": "28322.83"
                                },
                                {
                                    "customerNumber": "379",
                                    "checkNumber": "FR499138",
                                    "paymentDate": "2003-09-16",
                                    "amount": "32680.31"
                                },
                                {
                                    "customerNumber": "379",
                                    "checkNumber": "GB890854",
                                    "paymentDate": "2004-08-02",
                                    "amount": "12530.51"
                                },
                                {
                                    "customerNumber": "381",
                                    "checkNumber": "BC726082",
                                    "paymentDate": "2004-12-03",
                                    "amount": "12081.52"
                                },
                                {
                                    "customerNumber": "381",
                                    "checkNumber": "CC475233",
                                    "paymentDate": "2003-04-19",
                                    "amount": "1627.56"
                                },
                                {
                                    "customerNumber": "381",
                                    "checkNumber": "GB117430",
                                    "paymentDate": "2005-02-03",
                                    "amount": "14379.90"
                                },
                                {
                                    "customerNumber": "381",
                                    "checkNumber": "MS154481",
                                    "paymentDate": "2003-08-22",
                                    "amount": "1128.20"
                                },
                                {
                                    "customerNumber": "382",
                                    "checkNumber": "CC871084",
                                    "paymentDate": "2003-05-12",
                                    "amount": "35826.33"
                                },
                                {
                                    "customerNumber": "382",
                                    "checkNumber": "CT821147",
                                    "paymentDate": "2004-08-01",
                                    "amount": "6419.84"
                                },
                                {
                                    "customerNumber": "382",
                                    "checkNumber": "PH29054",
                                    "paymentDate": "2004-11-27",
                                    "amount": "42813.83"
                                },
                                {
                                    "customerNumber": "385",
                                    "checkNumber": "BN347084",
                                    "paymentDate": "2003-12-02",
                                    "amount": "20644.24"
                                },
                                {
                                    "customerNumber": "385",
                                    "checkNumber": "CP804873",
                                    "paymentDate": "2004-11-19",
                                    "amount": "15822.84"
                                },
                                {
                                    "customerNumber": "385",
                                    "checkNumber": "EK785462",
                                    "paymentDate": "2003-03-09",
                                    "amount": "51001.22"
                                },
                                {
                                    "customerNumber": "386",
                                    "checkNumber": "DO106109",
                                    "paymentDate": "2003-11-18",
                                    "amount": "38524.29"
                                },
                                {
                                    "customerNumber": "386",
                                    "checkNumber": "HG438769",
                                    "paymentDate": "2004-07-18",
                                    "amount": "51619.02"
                                },
                                {
                                    "customerNumber": "398",
                                    "checkNumber": "AJ478695",
                                    "paymentDate": "2005-02-14",
                                    "amount": "33967.73"
                                },
                                {
                                    "customerNumber": "398",
                                    "checkNumber": "DO787644",
                                    "paymentDate": "2004-06-21",
                                    "amount": "22037.91"
                                },
                                {
                                    "customerNumber": "398",
                                    "checkNumber": "JPMR4544",
                                    "paymentDate": "2005-05-18",
                                    "amount": "615.45"
                                },
                                {
                                    "customerNumber": "398",
                                    "checkNumber": "KB54275",
                                    "paymentDate": "2004-11-29",
                                    "amount": "48927.64"
                                },
                                {
                                    "customerNumber": "406",
                                    "checkNumber": "BJMPR4545",
                                    "paymentDate": "2005-04-23",
                                    "amount": "12190.85"
                                },
                                {
                                    "customerNumber": "406",
                                    "checkNumber": "HJ217687",
                                    "paymentDate": "2004-01-28",
                                    "amount": "49165.16"
                                },
                                {
                                    "customerNumber": "406",
                                    "checkNumber": "NA197101",
                                    "paymentDate": "2004-06-17",
                                    "amount": "25080.96"
                                },
                                {
                                    "customerNumber": "412",
                                    "checkNumber": "GH197075",
                                    "paymentDate": "2004-07-25",
                                    "amount": "35034.57"
                                },
                                {
                                    "customerNumber": "412",
                                    "checkNumber": "PJ434867",
                                    "paymentDate": "2004-04-14",
                                    "amount": "31670.37"
                                },
                                {
                                    "customerNumber": "415",
                                    "checkNumber": "ER54537",
                                    "paymentDate": "2004-09-28",
                                    "amount": "31310.09"
                                },
                                {
                                    "customerNumber": "424",
                                    "checkNumber": "KF480160",
                                    "paymentDate": "2004-12-07",
                                    "amount": "25505.98"
                                },
                                {
                                    "customerNumber": "424",
                                    "checkNumber": "LM271923",
                                    "paymentDate": "2003-04-16",
                                    "amount": "21665.98"
                                },
                                {
                                    "customerNumber": "424",
                                    "checkNumber": "OA595449",
                                    "paymentDate": "2003-10-31",
                                    "amount": "22042.37"
                                },
                                {
                                    "customerNumber": "447",
                                    "checkNumber": "AO757239",
                                    "paymentDate": "2003-09-15",
                                    "amount": "6631.36"
                                },
                                {
                                    "customerNumber": "447",
                                    "checkNumber": "ER615123",
                                    "paymentDate": "2003-06-25",
                                    "amount": "17032.29"
                                },
                                {
                                    "customerNumber": "447",
                                    "checkNumber": "OU516561",
                                    "paymentDate": "2004-12-17",
                                    "amount": "26304.13"
                                },
                                {
                                    "customerNumber": "448",
                                    "checkNumber": "FS299615",
                                    "paymentDate": "2005-04-18",
                                    "amount": "27966.54"
                                },
                                {
                                    "customerNumber": "448",
                                    "checkNumber": "KR822727",
                                    "paymentDate": "2004-09-30",
                                    "amount": "48809.90"
                                },
                                {
                                    "customerNumber": "450",
                                    "checkNumber": "EF485824",
                                    "paymentDate": "2004-06-21",
                                    "amount": "59551.38"
                                },
                                {
                                    "customerNumber": "452",
                                    "checkNumber": "ED473873",
                                    "paymentDate": "2003-11-15",
                                    "amount": "27121.90"
                                },
                                {
                                    "customerNumber": "452",
                                    "checkNumber": "FN640986",
                                    "paymentDate": "2003-11-20",
                                    "amount": "15130.97"
                                },
                                {
                                    "customerNumber": "452",
                                    "checkNumber": "HG635467",
                                    "paymentDate": "2005-05-03",
                                    "amount": "8807.12"
                                },
                                {
                                    "customerNumber": "455",
                                    "checkNumber": "HA777606",
                                    "paymentDate": "2003-12-05",
                                    "amount": "38139.18"
                                },
                                {
                                    "customerNumber": "455",
                                    "checkNumber": "IR662429",
                                    "paymentDate": "2004-05-12",
                                    "amount": "32239.47"
                                },
                                {
                                    "customerNumber": "456",
                                    "checkNumber": "GJ715659",
                                    "paymentDate": "2004-11-13",
                                    "amount": "27550.51"
                                },
                                {
                                    "customerNumber": "456",
                                    "checkNumber": "MO743231",
                                    "paymentDate": "2004-04-30",
                                    "amount": "1679.92"
                                },
                                {
                                    "customerNumber": "458",
                                    "checkNumber": "DD995006",
                                    "paymentDate": "2004-11-15",
                                    "amount": "33145.56"
                                },
                                {
                                    "customerNumber": "458",
                                    "checkNumber": "NA377824",
                                    "paymentDate": "2004-02-06",
                                    "amount": "22162.61"
                                },
                                {
                                    "customerNumber": "458",
                                    "checkNumber": "OO606861",
                                    "paymentDate": "2003-06-13",
                                    "amount": "57131.92"
                                },
                                {
                                    "customerNumber": "462",
                                    "checkNumber": "ED203908",
                                    "paymentDate": "2005-04-15",
                                    "amount": "30293.77"
                                },
                                {
                                    "customerNumber": "462",
                                    "checkNumber": "GC60330",
                                    "paymentDate": "2003-11-08",
                                    "amount": "9977.85"
                                },
                                {
                                    "customerNumber": "462",
                                    "checkNumber": "PE176846",
                                    "paymentDate": "2004-11-27",
                                    "amount": "48355.87"
                                },
                                {
                                    "customerNumber": "471",
                                    "checkNumber": "AB661578",
                                    "paymentDate": "2004-07-28",
                                    "amount": "9415.13"
                                },
                                {
                                    "customerNumber": "471",
                                    "checkNumber": "CO645196",
                                    "paymentDate": "2003-12-10",
                                    "amount": "35505.63"
                                },
                                {
                                    "customerNumber": "473",
                                    "checkNumber": "LL427009",
                                    "paymentDate": "2004-02-17",
                                    "amount": "7612.06"
                                },
                                {
                                    "customerNumber": "473",
                                    "checkNumber": "PC688499",
                                    "paymentDate": "2003-10-27",
                                    "amount": "17746.26"
                                },
                                {
                                    "customerNumber": "475",
                                    "checkNumber": "JP113227",
                                    "paymentDate": "2003-12-09",
                                    "amount": "7678.25"
                                },
                                {
                                    "customerNumber": "475",
                                    "checkNumber": "PB951268",
                                    "paymentDate": "2004-02-13",
                                    "amount": "36070.47"
                                },
                                {
                                    "customerNumber": "484",
                                    "checkNumber": "GK294076",
                                    "paymentDate": "2004-10-26",
                                    "amount": "3474.66"
                                },
                                {
                                    "customerNumber": "484",
                                    "checkNumber": "JH546765",
                                    "paymentDate": "2003-11-29",
                                    "amount": "47513.19"
                                },
                                {
                                    "customerNumber": "486",
                                    "checkNumber": "BL66528",
                                    "paymentDate": "2004-04-14",
                                    "amount": "5899.38"
                                },
                                {
                                    "customerNumber": "486",
                                    "checkNumber": "HS86661",
                                    "paymentDate": "2004-11-23",
                                    "amount": "45994.07"
                                },
                                {
                                    "customerNumber": "486",
                                    "checkNumber": "JB117768",
                                    "paymentDate": "2003-03-20",
                                    "amount": "25833.14"
                                },
                                {
                                    "customerNumber": "487",
                                    "checkNumber": "AH612904",
                                    "paymentDate": "2003-09-28",
                                    "amount": "29997.09"
                                },
                                {
                                    "customerNumber": "487",
                                    "checkNumber": "PT550181",
                                    "paymentDate": "2004-02-29",
                                    "amount": "12573.28"
                                },
                                {
                                    "customerNumber": "489",
                                    "checkNumber": "OC773849",
                                    "paymentDate": "2003-12-04",
                                    "amount": "22275.73"
                                },
                                {
                                    "customerNumber": "489",
                                    "checkNumber": "PO860906",
                                    "paymentDate": "2004-01-31",
                                    "amount": "7310.42"
                                },
                                {
                                    "customerNumber": "495",
                                    "checkNumber": "BH167026",
                                    "paymentDate": "2003-12-26",
                                    "amount": "59265.14"
                                },
                                {
                                    "customerNumber": "495",
                                    "checkNumber": "FN155234",
                                    "paymentDate": "2004-05-14",
                                    "amount": "6276.60"
                                },
                                {
                                    "customerNumber": "496",
                                    "checkNumber": "EU531600",
                                    "paymentDate": "2005-05-25",
                                    "amount": "30253.75"
                                },
                                {
                                    "customerNumber": "496",
                                    "checkNumber": "MB342426",
                                    "paymentDate": "2003-07-16",
                                    "amount": "32077.44"
                                },
                                {
                                    "customerNumber": "496",
                                    "checkNumber": "MN89921",
                                    "paymentDate": "2004-12-31",
                                    "amount": "52166.00"
                                }
                            ]
                        },
                        "text/html": [
                            "<table>",
                            "<tr><th>customerNumber</th><th>checkNumber</th><th>paymentDate</th><th>amount</th></tr>",
                            "<tr><td>103</td><td>HQ336336</td><td>2004-10-19</td><td>6066.78</td></tr>",
                            "<tr><td>103</td><td>JM555205</td><td>2003-06-05</td><td>14571.44</td></tr>",
                            "<tr><td>103</td><td>OM314933</td><td>2004-12-18</td><td>1676.14</td></tr>",
                            "<tr><td>112</td><td>BO864823</td><td>2004-12-17</td><td>14191.12</td></tr>",
                            "<tr><td>112</td><td>HQ55022</td><td>2003-06-06</td><td>32641.98</td></tr>",
                            "<tr><td>112</td><td>ND748579</td><td>2004-08-20</td><td>33347.88</td></tr>",
                            "<tr><td>114</td><td>GG31455</td><td>2003-05-20</td><td>45864.03</td></tr>",
                            "<tr><td>114</td><td>MA765515</td><td>2004-12-15</td><td>82261.22</td></tr>",
                            "<tr><td>114</td><td>NP603840</td><td>2003-05-31</td><td>7565.08</td></tr>",
                            "<tr><td>114</td><td>NR27552</td><td>2004-03-10</td><td>44894.74</td></tr>",
                            "<tr><td>119</td><td>DB933704</td><td>2004-11-14</td><td>19501.82</td></tr>",
                            "<tr><td>119</td><td>LN373447</td><td>2004-08-08</td><td>47924.19</td></tr>",
                            "<tr><td>119</td><td>NG94694</td><td>2005-02-22</td><td>49523.67</td></tr>",
                            "<tr><td>121</td><td>DB889831</td><td>2003-02-16</td><td>50218.95</td></tr>",
                            "<tr><td>121</td><td>FD317790</td><td>2003-10-28</td><td>1491.38</td></tr>",
                            "<tr><td>121</td><td>KI831359</td><td>2004-11-04</td><td>17876.32</td></tr>",
                            "<tr><td>121</td><td>MA302151</td><td>2004-11-28</td><td>34638.14</td></tr>",
                            "<tr><td>124</td><td>AE215433</td><td>2005-03-05</td><td>101244.59</td></tr>",
                            "<tr><td>124</td><td>BG255406</td><td>2004-08-28</td><td>85410.87</td></tr>",
                            "<tr><td>124</td><td>CQ287967</td><td>2003-04-11</td><td>11044.30</td></tr>",
                            "<tr><td>124</td><td>ET64396</td><td>2005-04-16</td><td>83598.04</td></tr>",
                            "<tr><td>124</td><td>HI366474</td><td>2004-12-27</td><td>47142.70</td></tr>",
                            "<tr><td>124</td><td>HR86578</td><td>2004-11-02</td><td>55639.66</td></tr>",
                            "<tr><td>124</td><td>KI131716</td><td>2003-08-15</td><td>111654.40</td></tr>",
                            "<tr><td>124</td><td>LF217299</td><td>2004-03-26</td><td>43369.30</td></tr>",
                            "<tr><td>124</td><td>NT141748</td><td>2003-11-25</td><td>45084.38</td></tr>",
                            "<tr><td>128</td><td>DI925118</td><td>2003-01-28</td><td>10549.01</td></tr>",
                            "<tr><td>128</td><td>FA465482</td><td>2003-10-18</td><td>24101.81</td></tr>",
                            "<tr><td>128</td><td>FH668230</td><td>2004-03-24</td><td>33820.62</td></tr>",
                            "<tr><td>128</td><td>IP383901</td><td>2004-11-18</td><td>7466.32</td></tr>",
                            "<tr><td>129</td><td>DM826140</td><td>2004-12-08</td><td>26248.78</td></tr>",
                            "<tr><td>129</td><td>ID449593</td><td>2003-12-11</td><td>23923.93</td></tr>",
                            "<tr><td>129</td><td>PI42991</td><td>2003-04-09</td><td>16537.85</td></tr>",
                            "<tr><td>131</td><td>CL442705</td><td>2003-03-12</td><td>22292.62</td></tr>",
                            "<tr><td>131</td><td>MA724562</td><td>2004-12-02</td><td>50025.35</td></tr>",
                            "<tr><td>131</td><td>NB445135</td><td>2004-09-11</td><td>35321.97</td></tr>",
                            "<tr><td>141</td><td>AU364101</td><td>2003-07-19</td><td>36251.03</td></tr>",
                            "<tr><td>141</td><td>DB583216</td><td>2004-11-01</td><td>36140.38</td></tr>",
                            "<tr><td>141</td><td>DL460618</td><td>2005-05-19</td><td>46895.48</td></tr>",
                            "<tr><td>141</td><td>HJ32686</td><td>2004-01-30</td><td>59830.55</td></tr>",
                            "<tr><td>141</td><td>ID10962</td><td>2004-12-31</td><td>116208.40</td></tr>",
                            "<tr><td>141</td><td>IN446258</td><td>2005-03-25</td><td>65071.26</td></tr>",
                            "<tr><td>141</td><td>JE105477</td><td>2005-03-18</td><td>120166.58</td></tr>",
                            "<tr><td>141</td><td>JN355280</td><td>2003-10-26</td><td>49539.37</td></tr>",
                            "<tr><td>141</td><td>JN722010</td><td>2003-02-25</td><td>40206.20</td></tr>",
                            "<tr><td>141</td><td>KT52578</td><td>2003-12-09</td><td>63843.55</td></tr>",
                            "<tr><td>141</td><td>MC46946</td><td>2004-07-09</td><td>35420.74</td></tr>",
                            "<tr><td>141</td><td>MF629602</td><td>2004-08-16</td><td>20009.53</td></tr>",
                            "<tr><td>141</td><td>NU627706</td><td>2004-05-17</td><td>26155.91</td></tr>",
                            "<tr><td>144</td><td>IR846303</td><td>2004-12-12</td><td>36005.71</td></tr>",
                            "<tr><td>144</td><td>LA685678</td><td>2003-04-09</td><td>7674.94</td></tr>",
                            "<tr><td>145</td><td>CN328545</td><td>2004-07-03</td><td>4710.73</td></tr>",
                            "<tr><td>145</td><td>ED39322</td><td>2004-04-26</td><td>28211.70</td></tr>",
                            "<tr><td>145</td><td>HR182688</td><td>2004-12-01</td><td>20564.86</td></tr>",
                            "<tr><td>145</td><td>JJ246391</td><td>2003-02-20</td><td>53959.21</td></tr>",
                            "<tr><td>146</td><td>FP549817</td><td>2004-03-18</td><td>40978.53</td></tr>",
                            "<tr><td>146</td><td>FU793410</td><td>2004-01-16</td><td>49614.72</td></tr>",
                            "<tr><td>146</td><td>LJ160635</td><td>2003-12-10</td><td>39712.10</td></tr>",
                            "<tr><td>148</td><td>BI507030</td><td>2003-04-22</td><td>44380.15</td></tr>",
                            "<tr><td>148</td><td>DD635282</td><td>2004-08-11</td><td>2611.84</td></tr>",
                            "<tr><td>148</td><td>KM172879</td><td>2003-12-26</td><td>105743.00</td></tr>",
                            "<tr><td>148</td><td>ME497970</td><td>2005-03-27</td><td>3516.04</td></tr>",
                            "<tr><td>151</td><td>BF686658</td><td>2003-12-22</td><td>58793.53</td></tr>",
                            "<tr><td>151</td><td>GB852215</td><td>2004-07-26</td><td>20314.44</td></tr>",
                            "<tr><td>151</td><td>IP568906</td><td>2003-06-18</td><td>58841.35</td></tr>",
                            "<tr><td>151</td><td>KI884577</td><td>2004-12-14</td><td>39964.63</td></tr>",
                            "<tr><td>157</td><td>HI618861</td><td>2004-11-19</td><td>35152.12</td></tr>",
                            "<tr><td>157</td><td>NN711988</td><td>2004-09-07</td><td>63357.13</td></tr>",
                            "<tr><td>161</td><td>BR352384</td><td>2004-11-14</td><td>2434.25</td></tr>",
                            "<tr><td>161</td><td>BR478494</td><td>2003-11-18</td><td>50743.65</td></tr>",
                            "<tr><td>161</td><td>KG644125</td><td>2005-02-02</td><td>12692.19</td></tr>",
                            "<tr><td>161</td><td>NI908214</td><td>2003-08-05</td><td>38675.13</td></tr>",
                            "<tr><td>166</td><td>BQ327613</td><td>2004-09-16</td><td>38785.48</td></tr>",
                            "<tr><td>166</td><td>DC979307</td><td>2004-07-07</td><td>44160.92</td></tr>",
                            "<tr><td>166</td><td>LA318629</td><td>2004-02-28</td><td>22474.17</td></tr>",
                            "<tr><td>167</td><td>ED743615</td><td>2004-09-19</td><td>12538.01</td></tr>",
                            "<tr><td>167</td><td>GN228846</td><td>2003-12-03</td><td>85024.46</td></tr>",
                            "<tr><td>171</td><td>GB878038</td><td>2004-03-15</td><td>18997.89</td></tr>",
                            "<tr><td>171</td><td>IL104425</td><td>2003-11-22</td><td>42783.81</td></tr>",
                            "<tr><td>172</td><td>AD832091</td><td>2004-09-09</td><td>1960.80</td></tr>",
                            "<tr><td>172</td><td>CE51751</td><td>2004-12-04</td><td>51209.58</td></tr>",
                            "<tr><td>172</td><td>EH208589</td><td>2003-04-20</td><td>33383.14</td></tr>",
                            "<tr><td>173</td><td>GP545698</td><td>2004-05-13</td><td>11843.45</td></tr>",
                            "<tr><td>173</td><td>IG462397</td><td>2004-03-29</td><td>20355.24</td></tr>",
                            "<tr><td>175</td><td>CITI3434344</td><td>2005-05-19</td><td>28500.78</td></tr>",
                            "<tr><td>175</td><td>IO448913</td><td>2003-11-19</td><td>24879.08</td></tr>",
                            "<tr><td>175</td><td>PI15215</td><td>2004-07-10</td><td>42044.77</td></tr>",
                            "<tr><td>177</td><td>AU750837</td><td>2004-04-17</td><td>15183.63</td></tr>",
                            "<tr><td>177</td><td>CI381435</td><td>2004-01-19</td><td>47177.59</td></tr>",
                            "<tr><td>181</td><td>CM564612</td><td>2004-04-25</td><td>22602.36</td></tr>",
                            "<tr><td>181</td><td>GQ132144</td><td>2003-01-30</td><td>5494.78</td></tr>",
                            "<tr><td>181</td><td>OH367219</td><td>2004-11-16</td><td>44400.50</td></tr>",
                            "<tr><td>186</td><td>AE192287</td><td>2005-03-10</td><td>23602.90</td></tr>",
                            "<tr><td>186</td><td>AK412714</td><td>2003-10-27</td><td>37602.48</td></tr>",
                            "<tr><td>186</td><td>KA602407</td><td>2004-10-21</td><td>34341.08</td></tr>",
                            "<tr><td>187</td><td>AM968797</td><td>2004-11-03</td><td>52825.29</td></tr>",
                            "<tr><td>187</td><td>BQ39062</td><td>2004-12-08</td><td>47159.11</td></tr>",
                            "<tr><td>187</td><td>KL124726</td><td>2003-03-27</td><td>48425.69</td></tr>",
                            "<tr><td>189</td><td>BO711618</td><td>2004-10-03</td><td>17359.53</td></tr>",
                            "<tr><td>189</td><td>NM916675</td><td>2004-03-01</td><td>32538.74</td></tr>",
                            "<tr><td>198</td><td>FI192930</td><td>2004-12-06</td><td>9658.74</td></tr>",
                            "<tr><td>198</td><td>HQ920205</td><td>2003-07-06</td><td>6036.96</td></tr>",
                            "<tr><td>198</td><td>IS946883</td><td>2004-09-21</td><td>5858.56</td></tr>",
                            "<tr><td>201</td><td>DP677013</td><td>2003-10-20</td><td>23908.24</td></tr>",
                            "<tr><td>201</td><td>OO846801</td><td>2004-06-15</td><td>37258.94</td></tr>",
                            "<tr><td>202</td><td>HI358554</td><td>2003-12-18</td><td>36527.61</td></tr>",
                            "<tr><td>202</td><td>IQ627690</td><td>2004-11-08</td><td>33594.58</td></tr>",
                            "<tr><td>204</td><td>GC697638</td><td>2004-08-13</td><td>51152.86</td></tr>",
                            "<tr><td>204</td><td>IS150005</td><td>2004-09-24</td><td>4424.40</td></tr>",
                            "<tr><td>205</td><td>GL756480</td><td>2003-12-04</td><td>3879.96</td></tr>",
                            "<tr><td>205</td><td>LL562733</td><td>2003-09-05</td><td>50342.74</td></tr>",
                            "<tr><td>205</td><td>NM739638</td><td>2005-02-06</td><td>39580.60</td></tr>",
                            "<tr><td>209</td><td>BOAF82044</td><td>2005-05-03</td><td>35157.75</td></tr>",
                            "<tr><td>209</td><td>ED520529</td><td>2004-06-21</td><td>4632.31</td></tr>",
                            "<tr><td>209</td><td>PH785937</td><td>2004-05-04</td><td>36069.26</td></tr>",
                            "<tr><td>211</td><td>BJ535230</td><td>2003-12-09</td><td>45480.79</td></tr>",
                            "<tr><td>216</td><td>BG407567</td><td>2003-05-09</td><td>3101.40</td></tr>",
                            "<tr><td>216</td><td>ML780814</td><td>2004-12-06</td><td>24945.21</td></tr>",
                            "<tr><td>216</td><td>MM342086</td><td>2003-12-14</td><td>40473.86</td></tr>",
                            "<tr><td>219</td><td>BN17870</td><td>2005-03-02</td><td>3452.75</td></tr>",
                            "<tr><td>219</td><td>BR941480</td><td>2003-10-18</td><td>4465.85</td></tr>",
                            "<tr><td>227</td><td>MQ413968</td><td>2003-10-31</td><td>36164.46</td></tr>",
                            "<tr><td>227</td><td>NU21326</td><td>2004-11-02</td><td>53745.34</td></tr>",
                            "<tr><td>233</td><td>BOFA23232</td><td>2005-05-20</td><td>29070.38</td></tr>",
                            "<tr><td>233</td><td>II180006</td><td>2004-07-01</td><td>22997.45</td></tr>",
                            "<tr><td>233</td><td>JG981190</td><td>2003-11-18</td><td>16909.84</td></tr>",
                            "<tr><td>239</td><td>NQ865547</td><td>2004-03-15</td><td>80375.24</td></tr>",
                            "<tr><td>240</td><td>IF245157</td><td>2004-11-16</td><td>46788.14</td></tr>",
                            "<tr><td>240</td><td>JO719695</td><td>2004-03-28</td><td>24995.61</td></tr>",
                            "<tr><td>242</td><td>AF40894</td><td>2003-11-22</td><td>33818.34</td></tr>",
                            "<tr><td>242</td><td>HR224331</td><td>2005-06-03</td><td>12432.32</td></tr>",
                            "<tr><td>242</td><td>KI744716</td><td>2003-07-21</td><td>14232.70</td></tr>",
                            "<tr><td>249</td><td>IJ399820</td><td>2004-09-19</td><td>33924.24</td></tr>",
                            "<tr><td>249</td><td>NE404084</td><td>2004-09-04</td><td>48298.99</td></tr>",
                            "<tr><td>250</td><td>EQ12267</td><td>2005-05-17</td><td>17928.09</td></tr>",
                            "<tr><td>250</td><td>HD284647</td><td>2004-12-30</td><td>26311.63</td></tr>",
                            "<tr><td>250</td><td>HN114306</td><td>2003-07-18</td><td>23419.47</td></tr>",
                            "<tr><td>256</td><td>EP227123</td><td>2004-02-10</td><td>5759.42</td></tr>",
                            "<tr><td>256</td><td>HE84936</td><td>2004-10-22</td><td>53116.99</td></tr>",
                            "<tr><td>259</td><td>EU280955</td><td>2004-11-06</td><td>61234.67</td></tr>",
                            "<tr><td>259</td><td>GB361972</td><td>2003-12-07</td><td>27988.47</td></tr>",
                            "<tr><td>260</td><td>IO164641</td><td>2004-08-30</td><td>37527.58</td></tr>",
                            "<tr><td>260</td><td>NH776924</td><td>2004-04-24</td><td>29284.42</td></tr>",
                            "<tr><td>276</td><td>EM979878</td><td>2005-02-09</td><td>27083.78</td></tr>",
                            "<tr><td>276</td><td>KM841847</td><td>2003-11-13</td><td>38547.19</td></tr>",
                            "<tr><td>276</td><td>LE432182</td><td>2003-09-28</td><td>41554.73</td></tr>",
                            "<tr><td>276</td><td>OJ819725</td><td>2005-04-30</td><td>29848.52</td></tr>",
                            "<tr><td>278</td><td>BJ483870</td><td>2004-12-05</td><td>37654.09</td></tr>",
                            "<tr><td>278</td><td>GP636783</td><td>2003-03-02</td><td>52151.81</td></tr>",
                            "<tr><td>278</td><td>NI983021</td><td>2003-11-24</td><td>37723.79</td></tr>",
                            "<tr><td>282</td><td>IA793562</td><td>2003-08-03</td><td>24013.52</td></tr>",
                            "<tr><td>282</td><td>JT819493</td><td>2004-08-02</td><td>35806.73</td></tr>",
                            "<tr><td>282</td><td>OD327378</td><td>2005-01-03</td><td>31835.36</td></tr>",
                            "<tr><td>286</td><td>DR578578</td><td>2004-10-28</td><td>47411.33</td></tr>",
                            "<tr><td>286</td><td>KH910279</td><td>2004-09-05</td><td>43134.04</td></tr>",
                            "<tr><td>298</td><td>AJ574927</td><td>2004-03-13</td><td>47375.92</td></tr>",
                            "<tr><td>298</td><td>LF501133</td><td>2004-09-18</td><td>61402.00</td></tr>",
                            "<tr><td>299</td><td>AD304085</td><td>2003-10-24</td><td>36798.88</td></tr>",
                            "<tr><td>299</td><td>NR157385</td><td>2004-09-05</td><td>32260.16</td></tr>",
                            "<tr><td>311</td><td>DG336041</td><td>2005-02-15</td><td>46770.52</td></tr>",
                            "<tr><td>311</td><td>FA728475</td><td>2003-10-06</td><td>32723.04</td></tr>",
                            "<tr><td>311</td><td>NQ966143</td><td>2004-04-25</td><td>16212.59</td></tr>",
                            "<tr><td>314</td><td>LQ244073</td><td>2004-08-09</td><td>45352.47</td></tr>",
                            "<tr><td>314</td><td>MD809704</td><td>2004-03-03</td><td>16901.38</td></tr>",
                            "<tr><td>319</td><td>HL685576</td><td>2004-11-06</td><td>42339.76</td></tr>",
                            "<tr><td>319</td><td>OM548174</td><td>2003-12-07</td><td>36092.40</td></tr>",
                            "<tr><td>320</td><td>GJ597719</td><td>2005-01-18</td><td>8307.28</td></tr>",
                            "<tr><td>320</td><td>HO576374</td><td>2003-08-20</td><td>41016.75</td></tr>",
                            "<tr><td>320</td><td>MU817160</td><td>2003-11-24</td><td>52548.49</td></tr>",
                            "<tr><td>321</td><td>DJ15149</td><td>2003-11-03</td><td>85559.12</td></tr>",
                            "<tr><td>321</td><td>LA556321</td><td>2005-03-15</td><td>46781.66</td></tr>",
                            "<tr><td>323</td><td>AL493079</td><td>2005-05-23</td><td>75020.13</td></tr>",
                            "<tr><td>323</td><td>ES347491</td><td>2004-06-24</td><td>37281.36</td></tr>",
                            "<tr><td>323</td><td>HG738664</td><td>2003-07-05</td><td>2880.00</td></tr>",
                            "<tr><td>323</td><td>PQ803830</td><td>2004-12-24</td><td>39440.59</td></tr>",
                            "<tr><td>324</td><td>DQ409197</td><td>2004-12-13</td><td>13671.82</td></tr>",
                            "<tr><td>324</td><td>FP443161</td><td>2003-07-07</td><td>29429.14</td></tr>",
                            "<tr><td>324</td><td>HB150714</td><td>2003-11-23</td><td>37455.77</td></tr>",
                            "<tr><td>328</td><td>EN930356</td><td>2004-04-16</td><td>7178.66</td></tr>",
                            "<tr><td>328</td><td>NR631421</td><td>2004-05-30</td><td>31102.85</td></tr>",
                            "<tr><td>333</td><td>HL209210</td><td>2003-11-15</td><td>23936.53</td></tr>",
                            "<tr><td>333</td><td>JK479662</td><td>2003-10-17</td><td>9821.32</td></tr>",
                            "<tr><td>333</td><td>NF959653</td><td>2005-03-01</td><td>21432.31</td></tr>",
                            "<tr><td>334</td><td>CS435306</td><td>2005-01-27</td><td>45785.34</td></tr>",
                            "<tr><td>334</td><td>HH517378</td><td>2003-08-16</td><td>29716.86</td></tr>",
                            "<tr><td>334</td><td>LF737277</td><td>2004-05-22</td><td>28394.54</td></tr>",
                            "<tr><td>339</td><td>AP286625</td><td>2004-10-24</td><td>23333.06</td></tr>",
                            "<tr><td>339</td><td>DA98827</td><td>2003-11-28</td><td>34606.28</td></tr>",
                            "<tr><td>344</td><td>AF246722</td><td>2003-11-24</td><td>31428.21</td></tr>",
                            "<tr><td>344</td><td>NJ906924</td><td>2004-04-02</td><td>15322.93</td></tr>",
                            "<tr><td>347</td><td>DG700707</td><td>2004-01-18</td><td>21053.69</td></tr>",
                            "<tr><td>347</td><td>LG808674</td><td>2003-10-24</td><td>20452.50</td></tr>",
                            "<tr><td>350</td><td>BQ602907</td><td>2004-12-11</td><td>18888.31</td></tr>",
                            "<tr><td>350</td><td>CI471510</td><td>2003-05-25</td><td>50824.66</td></tr>",
                            "<tr><td>350</td><td>OB648482</td><td>2005-01-29</td><td>1834.56</td></tr>",
                            "<tr><td>353</td><td>CO351193</td><td>2005-01-10</td><td>49705.52</td></tr>",
                            "<tr><td>353</td><td>ED878227</td><td>2003-07-21</td><td>13920.26</td></tr>",
                            "<tr><td>353</td><td>GT878649</td><td>2003-05-21</td><td>16700.47</td></tr>",
                            "<tr><td>353</td><td>HJ618252</td><td>2005-06-09</td><td>46656.94</td></tr>",
                            "<tr><td>357</td><td>AG240323</td><td>2003-12-16</td><td>20220.04</td></tr>",
                            "<tr><td>357</td><td>NB291497</td><td>2004-05-15</td><td>36442.34</td></tr>",
                            "<tr><td>362</td><td>FP170292</td><td>2004-07-11</td><td>18473.71</td></tr>",
                            "<tr><td>362</td><td>OG208861</td><td>2004-09-21</td><td>15059.76</td></tr>",
                            "<tr><td>363</td><td>HL575273</td><td>2004-11-17</td><td>50799.69</td></tr>",
                            "<tr><td>363</td><td>IS232033</td><td>2003-01-16</td><td>10223.83</td></tr>",
                            "<tr><td>363</td><td>PN238558</td><td>2003-12-05</td><td>55425.77</td></tr>",
                            "<tr><td>379</td><td>CA762595</td><td>2005-02-12</td><td>28322.83</td></tr>",
                            "<tr><td>379</td><td>FR499138</td><td>2003-09-16</td><td>32680.31</td></tr>",
                            "<tr><td>379</td><td>GB890854</td><td>2004-08-02</td><td>12530.51</td></tr>",
                            "<tr><td>381</td><td>BC726082</td><td>2004-12-03</td><td>12081.52</td></tr>",
                            "<tr><td>381</td><td>CC475233</td><td>2003-04-19</td><td>1627.56</td></tr>",
                            "<tr><td>381</td><td>GB117430</td><td>2005-02-03</td><td>14379.90</td></tr>",
                            "<tr><td>381</td><td>MS154481</td><td>2003-08-22</td><td>1128.20</td></tr>",
                            "<tr><td>382</td><td>CC871084</td><td>2003-05-12</td><td>35826.33</td></tr>",
                            "<tr><td>382</td><td>CT821147</td><td>2004-08-01</td><td>6419.84</td></tr>",
                            "<tr><td>382</td><td>PH29054</td><td>2004-11-27</td><td>42813.83</td></tr>",
                            "<tr><td>385</td><td>BN347084</td><td>2003-12-02</td><td>20644.24</td></tr>",
                            "<tr><td>385</td><td>CP804873</td><td>2004-11-19</td><td>15822.84</td></tr>",
                            "<tr><td>385</td><td>EK785462</td><td>2003-03-09</td><td>51001.22</td></tr>",
                            "<tr><td>386</td><td>DO106109</td><td>2003-11-18</td><td>38524.29</td></tr>",
                            "<tr><td>386</td><td>HG438769</td><td>2004-07-18</td><td>51619.02</td></tr>",
                            "<tr><td>398</td><td>AJ478695</td><td>2005-02-14</td><td>33967.73</td></tr>",
                            "<tr><td>398</td><td>DO787644</td><td>2004-06-21</td><td>22037.91</td></tr>",
                            "<tr><td>398</td><td>JPMR4544</td><td>2005-05-18</td><td>615.45</td></tr>",
                            "<tr><td>398</td><td>KB54275</td><td>2004-11-29</td><td>48927.64</td></tr>",
                            "<tr><td>406</td><td>BJMPR4545</td><td>2005-04-23</td><td>12190.85</td></tr>",
                            "<tr><td>406</td><td>HJ217687</td><td>2004-01-28</td><td>49165.16</td></tr>",
                            "<tr><td>406</td><td>NA197101</td><td>2004-06-17</td><td>25080.96</td></tr>",
                            "<tr><td>412</td><td>GH197075</td><td>2004-07-25</td><td>35034.57</td></tr>",
                            "<tr><td>412</td><td>PJ434867</td><td>2004-04-14</td><td>31670.37</td></tr>",
                            "<tr><td>415</td><td>ER54537</td><td>2004-09-28</td><td>31310.09</td></tr>",
                            "<tr><td>424</td><td>KF480160</td><td>2004-12-07</td><td>25505.98</td></tr>",
                            "<tr><td>424</td><td>LM271923</td><td>2003-04-16</td><td>21665.98</td></tr>",
                            "<tr><td>424</td><td>OA595449</td><td>2003-10-31</td><td>22042.37</td></tr>",
                            "<tr><td>447</td><td>AO757239</td><td>2003-09-15</td><td>6631.36</td></tr>",
                            "<tr><td>447</td><td>ER615123</td><td>2003-06-25</td><td>17032.29</td></tr>",
                            "<tr><td>447</td><td>OU516561</td><td>2004-12-17</td><td>26304.13</td></tr>",
                            "<tr><td>448</td><td>FS299615</td><td>2005-04-18</td><td>27966.54</td></tr>",
                            "<tr><td>448</td><td>KR822727</td><td>2004-09-30</td><td>48809.90</td></tr>",
                            "<tr><td>450</td><td>EF485824</td><td>2004-06-21</td><td>59551.38</td></tr>",
                            "<tr><td>452</td><td>ED473873</td><td>2003-11-15</td><td>27121.90</td></tr>",
                            "<tr><td>452</td><td>FN640986</td><td>2003-11-20</td><td>15130.97</td></tr>",
                            "<tr><td>452</td><td>HG635467</td><td>2005-05-03</td><td>8807.12</td></tr>",
                            "<tr><td>455</td><td>HA777606</td><td>2003-12-05</td><td>38139.18</td></tr>",
                            "<tr><td>455</td><td>IR662429</td><td>2004-05-12</td><td>32239.47</td></tr>",
                            "<tr><td>456</td><td>GJ715659</td><td>2004-11-13</td><td>27550.51</td></tr>",
                            "<tr><td>456</td><td>MO743231</td><td>2004-04-30</td><td>1679.92</td></tr>",
                            "<tr><td>458</td><td>DD995006</td><td>2004-11-15</td><td>33145.56</td></tr>",
                            "<tr><td>458</td><td>NA377824</td><td>2004-02-06</td><td>22162.61</td></tr>",
                            "<tr><td>458</td><td>OO606861</td><td>2003-06-13</td><td>57131.92</td></tr>",
                            "<tr><td>462</td><td>ED203908</td><td>2005-04-15</td><td>30293.77</td></tr>",
                            "<tr><td>462</td><td>GC60330</td><td>2003-11-08</td><td>9977.85</td></tr>",
                            "<tr><td>462</td><td>PE176846</td><td>2004-11-27</td><td>48355.87</td></tr>",
                            "<tr><td>471</td><td>AB661578</td><td>2004-07-28</td><td>9415.13</td></tr>",
                            "<tr><td>471</td><td>CO645196</td><td>2003-12-10</td><td>35505.63</td></tr>",
                            "<tr><td>473</td><td>LL427009</td><td>2004-02-17</td><td>7612.06</td></tr>",
                            "<tr><td>473</td><td>PC688499</td><td>2003-10-27</td><td>17746.26</td></tr>",
                            "<tr><td>475</td><td>JP113227</td><td>2003-12-09</td><td>7678.25</td></tr>",
                            "<tr><td>475</td><td>PB951268</td><td>2004-02-13</td><td>36070.47</td></tr>",
                            "<tr><td>484</td><td>GK294076</td><td>2004-10-26</td><td>3474.66</td></tr>",
                            "<tr><td>484</td><td>JH546765</td><td>2003-11-29</td><td>47513.19</td></tr>",
                            "<tr><td>486</td><td>BL66528</td><td>2004-04-14</td><td>5899.38</td></tr>",
                            "<tr><td>486</td><td>HS86661</td><td>2004-11-23</td><td>45994.07</td></tr>",
                            "<tr><td>486</td><td>JB117768</td><td>2003-03-20</td><td>25833.14</td></tr>",
                            "<tr><td>487</td><td>AH612904</td><td>2003-09-28</td><td>29997.09</td></tr>",
                            "<tr><td>487</td><td>PT550181</td><td>2004-02-29</td><td>12573.28</td></tr>",
                            "<tr><td>489</td><td>OC773849</td><td>2003-12-04</td><td>22275.73</td></tr>",
                            "<tr><td>489</td><td>PO860906</td><td>2004-01-31</td><td>7310.42</td></tr>",
                            "<tr><td>495</td><td>BH167026</td><td>2003-12-26</td><td>59265.14</td></tr>",
                            "<tr><td>495</td><td>FN155234</td><td>2004-05-14</td><td>6276.60</td></tr>",
                            "<tr><td>496</td><td>EU531600</td><td>2005-05-25</td><td>30253.75</td></tr>",
                            "<tr><td>496</td><td>MB342426</td><td>2003-07-16</td><td>32077.44</td></tr>",
                            "<tr><td>496</td><td>MN89921</td><td>2004-12-31</td><td>52166.00</td></tr>",
                            "</table>"
                        ]
                    }
                }
            ],
            "execution_count": 32
        },
        {
            "cell_type": "code",
            "source": [
                "-- Find the top 10 customers who have placed the most orders. Display customer name and the count of orders placed.\n",
                "select customerName,\n",
                "sum(case when orders.orderNumber then 1 else 0 end) as Order_count\n",
                "from customers\n",
                "join orders on customers.customerNumber = orders.customerNumber\n",
                "join orderdetails on orderdetails.orderNumber = orders.orderNumber\n",
                "group by 1\n",
                "order by 2 desc\n",
                "limit 10"
            ],
            "metadata": {
                "azdata_cell_guid": "c2f28968-ddb9-4ec4-a4a0-4fdb2b91565f",
                "language": "sql",
                "tags": []
            },
            "outputs": [
                {
                    "output_type": "display_data",
                    "data": {
                        "text/html": "(10 row(s) affected)"
                    },
                    "metadata": {}
                },
                {
                    "output_type": "display_data",
                    "data": {
                        "text/html": "Total execution time: 00:00:01.011"
                    },
                    "metadata": {}
                },
                {
                    "output_type": "execute_result",
                    "metadata": {},
                    "execution_count": 29,
                    "data": {
                        "application/vnd.dataresource+json": {
                            "schema": {
                                "fields": [
                                    {
                                        "name": "customerName"
                                    },
                                    {
                                        "name": "Order_count"
                                    }
                                ]
                            },
                            "data": [
                                {
                                    "customerName": "Euro+ Shopping Channel",
                                    "Order_count": "259"
                                },
                                {
                                    "customerName": "Mini Gifts Distributors Ltd.",
                                    "Order_count": "180"
                                },
                                {
                                    "customerName": "Australian Collectors, Co.",
                                    "Order_count": "55"
                                },
                                {
                                    "customerName": "La Rochelle Gifts",
                                    "Order_count": "53"
                                },
                                {
                                    "customerName": "AV Stores, Co.",
                                    "Order_count": "51"
                                },
                                {
                                    "customerName": "Land of Toys Inc.",
                                    "Order_count": "49"
                                },
                                {
                                    "customerName": "Rovelli Gifts",
                                    "Order_count": "48"
                                },
                                {
                                    "customerName": "Muscle Machine Inc",
                                    "Order_count": "48"
                                },
                                {
                                    "customerName": "Kelly's Gift Shop",
                                    "Order_count": "48"
                                },
                                {
                                    "customerName": "Anna's Decorations, Ltd",
                                    "Order_count": "46"
                                }
                            ]
                        },
                        "text/html": [
                            "<table>",
                            "<tr><th>customerName</th><th>Order_count</th></tr>",
                            "<tr><td>Euro+ Shopping Channel</td><td>259</td></tr>",
                            "<tr><td>Mini Gifts Distributors Ltd.</td><td>180</td></tr>",
                            "<tr><td>Australian Collectors, Co.</td><td>55</td></tr>",
                            "<tr><td>La Rochelle Gifts</td><td>53</td></tr>",
                            "<tr><td>AV Stores, Co.</td><td>51</td></tr>",
                            "<tr><td>Land of Toys Inc.</td><td>49</td></tr>",
                            "<tr><td>Rovelli Gifts</td><td>48</td></tr>",
                            "<tr><td>Muscle Machine Inc</td><td>48</td></tr>",
                            "<tr><td>Kelly&#39;s Gift Shop</td><td>48</td></tr>",
                            "<tr><td>Anna&#39;s Decorations, Ltd</td><td>46</td></tr>",
                            "</table>"
                        ]
                    }
                }
            ],
            "execution_count": 29
        },
        {
            "cell_type": "code",
            "source": [
                "-- Retrieve the list of customers who have placed orders but haven't made any payments yet.\n",
                "select customers.customerName, \n",
                "sum(case when checkNumber is not NULL then 1 else 0 end) as Payment_Check\n",
                "from customers\n",
                "left join payments on customers.customerNumber = payments.customerNumber\n",
                "GROUP BY 1\n",
                "Having Payment_Check = 0\n",
                "order by 2 desc"
            ],
            "metadata": {
                "azdata_cell_guid": "d63ec173-3163-4d3b-9556-bbec1fdd8414",
                "language": "sql",
                "tags": []
            },
            "outputs": [
                {
                    "output_type": "display_data",
                    "data": {
                        "text/html": "(24 row(s) affected)"
                    },
                    "metadata": {}
                },
                {
                    "output_type": "display_data",
                    "data": {
                        "text/html": "Total execution time: 00:00:01.022"
                    },
                    "metadata": {}
                },
                {
                    "output_type": "execute_result",
                    "metadata": {},
                    "execution_count": 73,
                    "data": {
                        "application/vnd.dataresource+json": {
                            "schema": {
                                "fields": [
                                    {
                                        "name": "customerName"
                                    },
                                    {
                                        "name": "Payment_Check"
                                    }
                                ]
                            },
                            "data": [
                                {
                                    "customerName": "Havel & Zbyszek Co",
                                    "Payment_Check": "0"
                                },
                                {
                                    "customerName": "American Souvenirs Inc",
                                    "Payment_Check": "0"
                                },
                                {
                                    "customerName": "Porto Imports Co.",
                                    "Payment_Check": "0"
                                },
                                {
                                    "customerName": "Asian Shopping Network, Co",
                                    "Payment_Check": "0"
                                },
                                {
                                    "customerName": "Natürlich Autos",
                                    "Payment_Check": "0"
                                },
                                {
                                    "customerName": "ANG Resellers",
                                    "Payment_Check": "0"
                                },
                                {
                                    "customerName": "Messner Shopping Network",
                                    "Payment_Check": "0"
                                },
                                {
                                    "customerName": "Franken Gifts, Co",
                                    "Payment_Check": "0"
                                },
                                {
                                    "customerName": "BG&E Collectables",
                                    "Payment_Check": "0"
                                },
                                {
                                    "customerName": "Schuyler Imports",
                                    "Payment_Check": "0"
                                },
                                {
                                    "customerName": "Der Hund Imports",
                                    "Payment_Check": "0"
                                },
                                {
                                    "customerName": "Cramer Spezialitäten, Ltd",
                                    "Payment_Check": "0"
                                },
                                {
                                    "customerName": "Asian Treasures, Inc.",
                                    "Payment_Check": "0"
                                },
                                {
                                    "customerName": "SAR Distributors, Co",
                                    "Payment_Check": "0"
                                },
                                {
                                    "customerName": "Kommission Auto",
                                    "Payment_Check": "0"
                                },
                                {
                                    "customerName": "Lisboa Souveniers, Inc",
                                    "Payment_Check": "0"
                                },
                                {
                                    "customerName": "Precious Collectables",
                                    "Payment_Check": "0"
                                },
                                {
                                    "customerName": "Stuttgart Collectable Exchange",
                                    "Payment_Check": "0"
                                },
                                {
                                    "customerName": "Feuer Online Stores, Inc",
                                    "Payment_Check": "0"
                                },
                                {
                                    "customerName": "Warburg Exchange",
                                    "Payment_Check": "0"
                                },
                                {
                                    "customerName": "Anton Designs, Ltd.",
                                    "Payment_Check": "0"
                                },
                                {
                                    "customerName": "Mit Vergnügen & Co.",
                                    "Payment_Check": "0"
                                },
                                {
                                    "customerName": "Kremlin Collectables, Co.",
                                    "Payment_Check": "0"
                                },
                                {
                                    "customerName": "Raanan Stores, Inc",
                                    "Payment_Check": "0"
                                }
                            ]
                        },
                        "text/html": [
                            "<table>",
                            "<tr><th>customerName</th><th>Payment_Check</th></tr>",
                            "<tr><td>Havel &amp; Zbyszek Co</td><td>0</td></tr>",
                            "<tr><td>American Souvenirs Inc</td><td>0</td></tr>",
                            "<tr><td>Porto Imports Co.</td><td>0</td></tr>",
                            "<tr><td>Asian Shopping Network, Co</td><td>0</td></tr>",
                            "<tr><td>Natürlich Autos</td><td>0</td></tr>",
                            "<tr><td>ANG Resellers</td><td>0</td></tr>",
                            "<tr><td>Messner Shopping Network</td><td>0</td></tr>",
                            "<tr><td>Franken Gifts, Co</td><td>0</td></tr>",
                            "<tr><td>BG&amp;E Collectables</td><td>0</td></tr>",
                            "<tr><td>Schuyler Imports</td><td>0</td></tr>",
                            "<tr><td>Der Hund Imports</td><td>0</td></tr>",
                            "<tr><td>Cramer Spezialitäten, Ltd</td><td>0</td></tr>",
                            "<tr><td>Asian Treasures, Inc.</td><td>0</td></tr>",
                            "<tr><td>SAR Distributors, Co</td><td>0</td></tr>",
                            "<tr><td>Kommission Auto</td><td>0</td></tr>",
                            "<tr><td>Lisboa Souveniers, Inc</td><td>0</td></tr>",
                            "<tr><td>Precious Collectables</td><td>0</td></tr>",
                            "<tr><td>Stuttgart Collectable Exchange</td><td>0</td></tr>",
                            "<tr><td>Feuer Online Stores, Inc</td><td>0</td></tr>",
                            "<tr><td>Warburg Exchange</td><td>0</td></tr>",
                            "<tr><td>Anton Designs, Ltd.</td><td>0</td></tr>",
                            "<tr><td>Mit Vergnügen &amp; Co.</td><td>0</td></tr>",
                            "<tr><td>Kremlin Collectables, Co.</td><td>0</td></tr>",
                            "<tr><td>Raanan Stores, Inc</td><td>0</td></tr>",
                            "</table>"
                        ]
                    }
                }
            ],
            "execution_count": 73
        },
        {
            "cell_type": "code",
            "source": [
                "select * from orderdetails limit 10;"
            ],
            "metadata": {
                "azdata_cell_guid": "2a4d28c5-58cf-4fd1-87b6-4b8e810ea946",
                "language": "sql"
            },
            "outputs": [
                {
                    "output_type": "display_data",
                    "data": {
                        "text/html": "(10 row(s) affected)"
                    },
                    "metadata": {}
                },
                {
                    "output_type": "display_data",
                    "data": {
                        "text/html": "Total execution time: 00:00:01.009"
                    },
                    "metadata": {}
                },
                {
                    "output_type": "execute_result",
                    "metadata": {},
                    "execution_count": 54,
                    "data": {
                        "application/vnd.dataresource+json": {
                            "schema": {
                                "fields": [
                                    {
                                        "name": "orderNumber"
                                    },
                                    {
                                        "name": "productCode"
                                    },
                                    {
                                        "name": "quantityOrdered"
                                    },
                                    {
                                        "name": "priceEach"
                                    },
                                    {
                                        "name": "orderLineNumber"
                                    }
                                ]
                            },
                            "data": [
                                {
                                    "orderNumber": "10100",
                                    "productCode": "S18_1749",
                                    "quantityOrdered": "30",
                                    "priceEach": "136.00",
                                    "orderLineNumber": "3"
                                },
                                {
                                    "orderNumber": "10100",
                                    "productCode": "S18_2248",
                                    "quantityOrdered": "50",
                                    "priceEach": "55.09",
                                    "orderLineNumber": "2"
                                },
                                {
                                    "orderNumber": "10100",
                                    "productCode": "S18_4409",
                                    "quantityOrdered": "22",
                                    "priceEach": "75.46",
                                    "orderLineNumber": "4"
                                },
                                {
                                    "orderNumber": "10100",
                                    "productCode": "S24_3969",
                                    "quantityOrdered": "49",
                                    "priceEach": "35.29",
                                    "orderLineNumber": "1"
                                },
                                {
                                    "orderNumber": "10101",
                                    "productCode": "S18_2325",
                                    "quantityOrdered": "25",
                                    "priceEach": "108.06",
                                    "orderLineNumber": "4"
                                },
                                {
                                    "orderNumber": "10101",
                                    "productCode": "S18_2795",
                                    "quantityOrdered": "26",
                                    "priceEach": "167.06",
                                    "orderLineNumber": "1"
                                },
                                {
                                    "orderNumber": "10101",
                                    "productCode": "S24_1937",
                                    "quantityOrdered": "45",
                                    "priceEach": "32.53",
                                    "orderLineNumber": "3"
                                },
                                {
                                    "orderNumber": "10101",
                                    "productCode": "S24_2022",
                                    "quantityOrdered": "46",
                                    "priceEach": "44.35",
                                    "orderLineNumber": "2"
                                },
                                {
                                    "orderNumber": "10102",
                                    "productCode": "S18_1342",
                                    "quantityOrdered": "39",
                                    "priceEach": "95.55",
                                    "orderLineNumber": "2"
                                },
                                {
                                    "orderNumber": "10102",
                                    "productCode": "S18_1367",
                                    "quantityOrdered": "41",
                                    "priceEach": "43.13",
                                    "orderLineNumber": "1"
                                }
                            ]
                        },
                        "text/html": [
                            "<table>",
                            "<tr><th>orderNumber</th><th>productCode</th><th>quantityOrdered</th><th>priceEach</th><th>orderLineNumber</th></tr>",
                            "<tr><td>10100</td><td>S18_1749</td><td>30</td><td>136.00</td><td>3</td></tr>",
                            "<tr><td>10100</td><td>S18_2248</td><td>50</td><td>55.09</td><td>2</td></tr>",
                            "<tr><td>10100</td><td>S18_4409</td><td>22</td><td>75.46</td><td>4</td></tr>",
                            "<tr><td>10100</td><td>S24_3969</td><td>49</td><td>35.29</td><td>1</td></tr>",
                            "<tr><td>10101</td><td>S18_2325</td><td>25</td><td>108.06</td><td>4</td></tr>",
                            "<tr><td>10101</td><td>S18_2795</td><td>26</td><td>167.06</td><td>1</td></tr>",
                            "<tr><td>10101</td><td>S24_1937</td><td>45</td><td>32.53</td><td>3</td></tr>",
                            "<tr><td>10101</td><td>S24_2022</td><td>46</td><td>44.35</td><td>2</td></tr>",
                            "<tr><td>10102</td><td>S18_1342</td><td>39</td><td>95.55</td><td>2</td></tr>",
                            "<tr><td>10102</td><td>S18_1367</td><td>41</td><td>43.13</td><td>1</td></tr>",
                            "</table>"
                        ]
                    }
                }
            ],
            "execution_count": 54
        },
        {
            "cell_type": "code",
            "source": [
                "-- Retrieve a product that has been ordered the least number of times. Display the product code, product name, and the number of times it has been ordered.\n",
                "select orderdetails.productCode, \n",
                "products.productName, \n",
                "count(*) AS Product_Ordered\n",
                "from orderdetails \n",
                "join products on orderdetails.productCode = products.productCode\n",
                "GROUP BY 1\n",
                "order by 3"
            ],
            "metadata": {
                "azdata_cell_guid": "9d06ed55-779a-49f5-8208-1e3ca2dfdadc",
                "language": "sql"
            },
            "outputs": [
                {
                    "output_type": "display_data",
                    "data": {
                        "text/html": "(109 row(s) affected)"
                    },
                    "metadata": {}
                },
                {
                    "output_type": "display_data",
                    "data": {
                        "text/html": "Total execution time: 00:00:01.010"
                    },
                    "metadata": {}
                },
                {
                    "output_type": "execute_result",
                    "metadata": {},
                    "execution_count": 72,
                    "data": {
                        "application/vnd.dataresource+json": {
                            "schema": {
                                "fields": [
                                    {
                                        "name": "productCode"
                                    },
                                    {
                                        "name": "productName"
                                    },
                                    {
                                        "name": "Product_Ordered"
                                    }
                                ]
                            },
                            "data": [
                                {
                                    "productCode": "S18_4933",
                                    "productName": "1957 Ford Thunderbird",
                                    "Product_Ordered": "24"
                                },
                                {
                                    "productCode": "S24_2887",
                                    "productName": "1952 Citroen-15CV",
                                    "Product_Ordered": "24"
                                },
                                {
                                    "productCode": "S18_1589",
                                    "productName": "1965 Aston Martin DB5",
                                    "Product_Ordered": "25"
                                },
                                {
                                    "productCode": "S18_1749",
                                    "productName": "1917 Grand Touring Sedan",
                                    "Product_Ordered": "25"
                                },
                                {
                                    "productCode": "S18_2248",
                                    "productName": "1911 Ford Town Car",
                                    "Product_Ordered": "25"
                                },
                                {
                                    "productCode": "S18_2870",
                                    "productName": "1999 Indy 500 Monte Carlo SS",
                                    "Product_Ordered": "25"
                                },
                                {
                                    "productCode": "S18_3685",
                                    "productName": "1948 Porsche Type 356 Roadster",
                                    "Product_Ordered": "25"
                                },
                                {
                                    "productCode": "S18_4409",
                                    "productName": "1932 Alfa Romeo 8C2300 Spider Sport",
                                    "Product_Ordered": "25"
                                },
                                {
                                    "productCode": "S24_1046",
                                    "productName": "1970 Chevy Chevelle SS 454",
                                    "Product_Ordered": "25"
                                },
                                {
                                    "productCode": "S24_1628",
                                    "productName": "1966 Shelby Cobra 427 S/C",
                                    "Product_Ordered": "25"
                                },
                                {
                                    "productCode": "S24_2766",
                                    "productName": "1949 Jaguar XK 120",
                                    "Product_Ordered": "25"
                                },
                                {
                                    "productCode": "S24_3191",
                                    "productName": "1969 Chevrolet Camaro Z28",
                                    "Product_Ordered": "25"
                                },
                                {
                                    "productCode": "S24_3432",
                                    "productName": "2002 Chevy Corvette",
                                    "Product_Ordered": "25"
                                },
                                {
                                    "productCode": "S24_3969",
                                    "productName": "1936 Mercedes Benz 500k Roadster",
                                    "Product_Ordered": "25"
                                },
                                {
                                    "productCode": "S12_1099",
                                    "productName": "1968 Ford Mustang",
                                    "Product_Ordered": "27"
                                },
                                {
                                    "productCode": "S12_1108",
                                    "productName": "2001 Ferrari Enzo",
                                    "Product_Ordered": "27"
                                },
                                {
                                    "productCode": "S12_3148",
                                    "productName": "1969 Corvair Monza",
                                    "Product_Ordered": "27"
                                },
                                {
                                    "productCode": "S12_3380",
                                    "productName": "1968 Dodge Charger",
                                    "Product_Ordered": "27"
                                },
                                {
                                    "productCode": "S12_3891",
                                    "productName": "1969 Ford Falcon",
                                    "Product_Ordered": "27"
                                },
                                {
                                    "productCode": "S12_3990",
                                    "productName": "1970 Plymouth Hemi Cuda",
                                    "Product_Ordered": "27"
                                },
                                {
                                    "productCode": "S12_4675",
                                    "productName": "1969 Dodge Charger",
                                    "Product_Ordered": "27"
                                },
                                {
                                    "productCode": "S18_1129",
                                    "productName": "1993 Mazda RX-7",
                                    "Product_Ordered": "27"
                                },
                                {
                                    "productCode": "S18_1889",
                                    "productName": "1948 Porsche 356-A Roadster",
                                    "Product_Ordered": "27"
                                },
                                {
                                    "productCode": "S18_1984",
                                    "productName": "1995 Honda Civic",
                                    "Product_Ordered": "27"
                                },
                                {
                                    "productCode": "S18_3140",
                                    "productName": "1903 Ford Model A",
                                    "Product_Ordered": "27"
                                },
                                {
                                    "productCode": "S18_3259",
                                    "productName": "Collectable Wooden Train",
                                    "Product_Ordered": "27"
                                },
                                {
                                    "productCode": "S18_3278",
                                    "productName": "1969 Dodge Super Bee",
                                    "Product_Ordered": "27"
                                },
                                {
                                    "productCode": "S18_3482",
                                    "productName": "1976 Ford Gran Torino",
                                    "Product_Ordered": "27"
                                },
                                {
                                    "productCode": "S18_3782",
                                    "productName": "1957 Vespa GS150",
                                    "Product_Ordered": "27"
                                },
                                {
                                    "productCode": "S18_4027",
                                    "productName": "1970 Triumph Spitfire",
                                    "Product_Ordered": "27"
                                },
                                {
                                    "productCode": "S18_4522",
                                    "productName": "1904 Buick Runabout",
                                    "Product_Ordered": "27"
                                },
                                {
                                    "productCode": "S18_4721",
                                    "productName": "1957 Corvette Convertible",
                                    "Product_Ordered": "27"
                                },
                                {
                                    "productCode": "S24_2011",
                                    "productName": "18th century schooner",
                                    "Product_Ordered": "27"
                                },
                                {
                                    "productCode": "S24_2360",
                                    "productName": "1982 Ducati 900 Monster",
                                    "Product_Ordered": "27"
                                },
                                {
                                    "productCode": "S24_2972",
                                    "productName": "1982 Lamborghini Diablo",
                                    "Product_Ordered": "27"
                                },
                                {
                                    "productCode": "S24_3151",
                                    "productName": "1912 Ford Model T Delivery Wagon",
                                    "Product_Ordered": "27"
                                },
                                {
                                    "productCode": "S24_3371",
                                    "productName": "1971 Alpine Renault 1600s",
                                    "Product_Ordered": "27"
                                },
                                {
                                    "productCode": "S24_3856",
                                    "productName": "1956 Porsche 356A Coupe",
                                    "Product_Ordered": "27"
                                },
                                {
                                    "productCode": "S24_4048",
                                    "productName": "1992 Porsche Cayenne Turbo Silver",
                                    "Product_Ordered": "27"
                                },
                                {
                                    "productCode": "S24_4620",
                                    "productName": "1961 Chevrolet Impala",
                                    "Product_Ordered": "27"
                                },
                                {
                                    "productCode": "S32_2206",
                                    "productName": "1982 Ducati 996 R",
                                    "Product_Ordered": "27"
                                },
                                {
                                    "productCode": "S32_3207",
                                    "productName": "1950's Chicago Surface Lines Streetcar",
                                    "Product_Ordered": "27"
                                },
                                {
                                    "productCode": "S32_4485",
                                    "productName": "1974 Ducati 350 Mk3 Desmo",
                                    "Product_Ordered": "27"
                                },
                                {
                                    "productCode": "S50_1514",
                                    "productName": "1962 City of Detroit Streetcar",
                                    "Product_Ordered": "27"
                                },
                                {
                                    "productCode": "S50_4713",
                                    "productName": "2002 Yamaha YZR M1",
                                    "Product_Ordered": "27"
                                },
                                {
                                    "productCode": "S700_1138",
                                    "productName": "The Schooner Bluenose",
                                    "Product_Ordered": "27"
                                },
                                {
                                    "productCode": "S700_1938",
                                    "productName": "The Mayflower",
                                    "Product_Ordered": "27"
                                },
                                {
                                    "productCode": "S700_2610",
                                    "productName": "The USS Constitution Ship",
                                    "Product_Ordered": "27"
                                },
                                {
                                    "productCode": "S700_3505",
                                    "productName": "The Titanic",
                                    "Product_Ordered": "27"
                                },
                                {
                                    "productCode": "S700_3962",
                                    "productName": "The Queen Mary",
                                    "Product_Ordered": "27"
                                },
                                {
                                    "productCode": "S72_3212",
                                    "productName": "Pont Yacht",
                                    "Product_Ordered": "27"
                                },
                                {
                                    "productCode": "S10_1678",
                                    "productName": "1969 Harley Davidson Ultimate Chopper",
                                    "Product_Ordered": "28"
                                },
                                {
                                    "productCode": "S10_1949",
                                    "productName": "1952 Alpine Renault 1300",
                                    "Product_Ordered": "28"
                                },
                                {
                                    "productCode": "S10_2016",
                                    "productName": "1996 Moto Guzzi 1100i",
                                    "Product_Ordered": "28"
                                },
                                {
                                    "productCode": "S10_4698",
                                    "productName": "2003 Harley-Davidson Eagle Drag Bike",
                                    "Product_Ordered": "28"
                                },
                                {
                                    "productCode": "S10_4757",
                                    "productName": "1972 Alfa Romeo GTA",
                                    "Product_Ordered": "28"
                                },
                                {
                                    "productCode": "S10_4962",
                                    "productName": "1962 LanciaA Delta 16V",
                                    "Product_Ordered": "28"
                                },
                                {
                                    "productCode": "S12_1666",
                                    "productName": "1958 Setra Bus",
                                    "Product_Ordered": "28"
                                },
                                {
                                    "productCode": "S12_2823",
                                    "productName": "2002 Suzuki XREO",
                                    "Product_Ordered": "28"
                                },
                                {
                                    "productCode": "S12_4473",
                                    "productName": "1957 Chevy Pickup",
                                    "Product_Ordered": "28"
                                },
                                {
                                    "productCode": "S18_1097",
                                    "productName": "1940 Ford Pickup Truck",
                                    "Product_Ordered": "28"
                                },
                                {
                                    "productCode": "S18_1342",
                                    "productName": "1937 Lincoln Berline",
                                    "Product_Ordered": "28"
                                },
                                {
                                    "productCode": "S18_1367",
                                    "productName": "1936 Mercedes-Benz 500K Special Roadster",
                                    "Product_Ordered": "28"
                                },
                                {
                                    "productCode": "S18_1662",
                                    "productName": "1980s Black Hawk Helicopter",
                                    "Product_Ordered": "28"
                                },
                                {
                                    "productCode": "S18_2238",
                                    "productName": "1998 Chrysler Plymouth Prowler",
                                    "Product_Ordered": "28"
                                },
                                {
                                    "productCode": "S18_2319",
                                    "productName": "1964 Mercedes Tour Bus",
                                    "Product_Ordered": "28"
                                },
                                {
                                    "productCode": "S18_2325",
                                    "productName": "1932 Model A Ford J-Coupe",
                                    "Product_Ordered": "28"
                                },
                                {
                                    "productCode": "S18_2432",
                                    "productName": "1926 Ford Fire Engine",
                                    "Product_Ordered": "28"
                                },
                                {
                                    "productCode": "S18_2581",
                                    "productName": "P-51-D Mustang",
                                    "Product_Ordered": "28"
                                },
                                {
                                    "productCode": "S18_2625",
                                    "productName": "1936 Harley Davidson El Knucklehead",
                                    "Product_Ordered": "28"
                                },
                                {
                                    "productCode": "S18_2795",
                                    "productName": "1928 Mercedes-Benz SSK",
                                    "Product_Ordered": "28"
                                },
                                {
                                    "productCode": "S18_2949",
                                    "productName": "1913 Ford Model T Speedster",
                                    "Product_Ordered": "28"
                                },
                                {
                                    "productCode": "S18_2957",
                                    "productName": "1934 Ford V8 Coupe",
                                    "Product_Ordered": "28"
                                },
                                {
                                    "productCode": "S18_3029",
                                    "productName": "1999 Yamaha Speed Boat",
                                    "Product_Ordered": "28"
                                },
                                {
                                    "productCode": "S18_3136",
                                    "productName": "18th Century Vintage Horse Carriage",
                                    "Product_Ordered": "28"
                                },
                                {
                                    "productCode": "S18_3320",
                                    "productName": "1917 Maxwell Touring Car",
                                    "Product_Ordered": "28"
                                },
                                {
                                    "productCode": "S18_3856",
                                    "productName": "1941 Chevrolet Special Deluxe Cabriolet",
                                    "Product_Ordered": "28"
                                },
                                {
                                    "productCode": "S18_4600",
                                    "productName": "1940s Ford truck",
                                    "Product_Ordered": "28"
                                },
                                {
                                    "productCode": "S18_4668",
                                    "productName": "1939 Cadillac Limousine",
                                    "Product_Ordered": "28"
                                },
                                {
                                    "productCode": "S24_1444",
                                    "productName": "1970 Dodge Coronet",
                                    "Product_Ordered": "28"
                                },
                                {
                                    "productCode": "S24_1578",
                                    "productName": "1997 BMW R 1100 S",
                                    "Product_Ordered": "28"
                                },
                                {
                                    "productCode": "S24_1785",
                                    "productName": "1928 British Royal Navy Airplane",
                                    "Product_Ordered": "28"
                                },
                                {
                                    "productCode": "S24_1937",
                                    "productName": "1939 Chevrolet Deluxe Coupe",
                                    "Product_Ordered": "28"
                                },
                                {
                                    "productCode": "S24_2000",
                                    "productName": "1960 BSA Gold Star DBD34",
                                    "Product_Ordered": "28"
                                },
                                {
                                    "productCode": "S24_2022",
                                    "productName": "1938 Cadillac V-16 Presidential Limousine",
                                    "Product_Ordered": "28"
                                },
                                {
                                    "productCode": "S24_2300",
                                    "productName": "1962 Volkswagen Microbus",
                                    "Product_Ordered": "28"
                                },
                                {
                                    "productCode": "S24_2840",
                                    "productName": "1958 Chevy Corvette Limited Edition",
                                    "Product_Ordered": "28"
                                },
                                {
                                    "productCode": "S24_2841",
                                    "productName": "1900s Vintage Bi-Plane",
                                    "Product_Ordered": "28"
                                },
                                {
                                    "productCode": "S24_3420",
                                    "productName": "1937 Horch 930V Limousine",
                                    "Product_Ordered": "28"
                                },
                                {
                                    "productCode": "S24_3816",
                                    "productName": "1940 Ford Delivery Sedan",
                                    "Product_Ordered": "28"
                                },
                                {
                                    "productCode": "S24_3949",
                                    "productName": "Corsair F4U ( Bird Cage)",
                                    "Product_Ordered": "28"
                                },
                                {
                                    "productCode": "S24_4258",
                                    "productName": "1936 Chrysler Airflow",
                                    "Product_Ordered": "28"
                                },
                                {
                                    "productCode": "S24_4278",
                                    "productName": "1900s Vintage Tri-Plane",
                                    "Product_Ordered": "28"
                                },
                                {
                                    "productCode": "S32_1268",
                                    "productName": "1980’s GM Manhattan Express",
                                    "Product_Ordered": "28"
                                },
                                {
                                    "productCode": "S32_1374",
                                    "productName": "1997 BMW F650 ST",
                                    "Product_Ordered": "28"
                                },
                                {
                                    "productCode": "S32_2509",
                                    "productName": "1954 Greyhound Scenicruiser",
                                    "Product_Ordered": "28"
                                },
                                {
                                    "productCode": "S32_3522",
                                    "productName": "1996 Peterbilt 379 Stake Bed with Outrigger",
                                    "Product_Ordered": "28"
                                },
                                {
                                    "productCode": "S32_4289",
                                    "productName": "1928 Ford Phaeton Deluxe",
                                    "Product_Ordered": "28"
                                },
                                {
                                    "productCode": "S50_1341",
                                    "productName": "1930 Buick Marquette Phaeton",
                                    "Product_Ordered": "28"
                                },
                                {
                                    "productCode": "S50_1392",
                                    "productName": "Diamond T620 Semi-Skirted Tanker",
                                    "Product_Ordered": "28"
                                },
                                {
                                    "productCode": "S700_1691",
                                    "productName": "American Airlines: B767-300",
                                    "Product_Ordered": "28"
                                },
                                {
                                    "productCode": "S700_2047",
                                    "productName": "HMS Bounty",
                                    "Product_Ordered": "28"
                                },
                                {
                                    "productCode": "S700_2466",
                                    "productName": "America West Airlines B757-200",
                                    "Product_Ordered": "28"
                                },
                                {
                                    "productCode": "S700_2824",
                                    "productName": "1982 Camaro Z28",
                                    "Product_Ordered": "28"
                                },
                                {
                                    "productCode": "S700_2834",
                                    "productName": "ATA: B757-300",
                                    "Product_Ordered": "28"
                                },
                                {
                                    "productCode": "S700_3167",
                                    "productName": "F/A 18 Hornet 1/72",
                                    "Product_Ordered": "28"
                                },
                                {
                                    "productCode": "S700_4002",
                                    "productName": "American Airlines: MD-11S",
                                    "Product_Ordered": "28"
                                },
                                {
                                    "productCode": "S72_1253",
                                    "productName": "Boeing X-32A JSF",
                                    "Product_Ordered": "28"
                                },
                                {
                                    "productCode": "S18_3232",
                                    "productName": "1992 Ferrari 360 Spider red",
                                    "Product_Ordered": "53"
                                }
                            ]
                        },
                        "text/html": [
                            "<table>",
                            "<tr><th>productCode</th><th>productName</th><th>Product_Ordered</th></tr>",
                            "<tr><td>S18_4933</td><td>1957 Ford Thunderbird</td><td>24</td></tr>",
                            "<tr><td>S24_2887</td><td>1952 Citroen-15CV</td><td>24</td></tr>",
                            "<tr><td>S18_1589</td><td>1965 Aston Martin DB5</td><td>25</td></tr>",
                            "<tr><td>S18_1749</td><td>1917 Grand Touring Sedan</td><td>25</td></tr>",
                            "<tr><td>S18_2248</td><td>1911 Ford Town Car</td><td>25</td></tr>",
                            "<tr><td>S18_2870</td><td>1999 Indy 500 Monte Carlo SS</td><td>25</td></tr>",
                            "<tr><td>S18_3685</td><td>1948 Porsche Type 356 Roadster</td><td>25</td></tr>",
                            "<tr><td>S18_4409</td><td>1932 Alfa Romeo 8C2300 Spider Sport</td><td>25</td></tr>",
                            "<tr><td>S24_1046</td><td>1970 Chevy Chevelle SS 454</td><td>25</td></tr>",
                            "<tr><td>S24_1628</td><td>1966 Shelby Cobra 427 S/C</td><td>25</td></tr>",
                            "<tr><td>S24_2766</td><td>1949 Jaguar XK 120</td><td>25</td></tr>",
                            "<tr><td>S24_3191</td><td>1969 Chevrolet Camaro Z28</td><td>25</td></tr>",
                            "<tr><td>S24_3432</td><td>2002 Chevy Corvette</td><td>25</td></tr>",
                            "<tr><td>S24_3969</td><td>1936 Mercedes Benz 500k Roadster</td><td>25</td></tr>",
                            "<tr><td>S12_1099</td><td>1968 Ford Mustang</td><td>27</td></tr>",
                            "<tr><td>S12_1108</td><td>2001 Ferrari Enzo</td><td>27</td></tr>",
                            "<tr><td>S12_3148</td><td>1969 Corvair Monza</td><td>27</td></tr>",
                            "<tr><td>S12_3380</td><td>1968 Dodge Charger</td><td>27</td></tr>",
                            "<tr><td>S12_3891</td><td>1969 Ford Falcon</td><td>27</td></tr>",
                            "<tr><td>S12_3990</td><td>1970 Plymouth Hemi Cuda</td><td>27</td></tr>",
                            "<tr><td>S12_4675</td><td>1969 Dodge Charger</td><td>27</td></tr>",
                            "<tr><td>S18_1129</td><td>1993 Mazda RX-7</td><td>27</td></tr>",
                            "<tr><td>S18_1889</td><td>1948 Porsche 356-A Roadster</td><td>27</td></tr>",
                            "<tr><td>S18_1984</td><td>1995 Honda Civic</td><td>27</td></tr>",
                            "<tr><td>S18_3140</td><td>1903 Ford Model A</td><td>27</td></tr>",
                            "<tr><td>S18_3259</td><td>Collectable Wooden Train</td><td>27</td></tr>",
                            "<tr><td>S18_3278</td><td>1969 Dodge Super Bee</td><td>27</td></tr>",
                            "<tr><td>S18_3482</td><td>1976 Ford Gran Torino</td><td>27</td></tr>",
                            "<tr><td>S18_3782</td><td>1957 Vespa GS150</td><td>27</td></tr>",
                            "<tr><td>S18_4027</td><td>1970 Triumph Spitfire</td><td>27</td></tr>",
                            "<tr><td>S18_4522</td><td>1904 Buick Runabout</td><td>27</td></tr>",
                            "<tr><td>S18_4721</td><td>1957 Corvette Convertible</td><td>27</td></tr>",
                            "<tr><td>S24_2011</td><td>18th century schooner</td><td>27</td></tr>",
                            "<tr><td>S24_2360</td><td>1982 Ducati 900 Monster</td><td>27</td></tr>",
                            "<tr><td>S24_2972</td><td>1982 Lamborghini Diablo</td><td>27</td></tr>",
                            "<tr><td>S24_3151</td><td>1912 Ford Model T Delivery Wagon</td><td>27</td></tr>",
                            "<tr><td>S24_3371</td><td>1971 Alpine Renault 1600s</td><td>27</td></tr>",
                            "<tr><td>S24_3856</td><td>1956 Porsche 356A Coupe</td><td>27</td></tr>",
                            "<tr><td>S24_4048</td><td>1992 Porsche Cayenne Turbo Silver</td><td>27</td></tr>",
                            "<tr><td>S24_4620</td><td>1961 Chevrolet Impala</td><td>27</td></tr>",
                            "<tr><td>S32_2206</td><td>1982 Ducati 996 R</td><td>27</td></tr>",
                            "<tr><td>S32_3207</td><td>1950&#39;s Chicago Surface Lines Streetcar</td><td>27</td></tr>",
                            "<tr><td>S32_4485</td><td>1974 Ducati 350 Mk3 Desmo</td><td>27</td></tr>",
                            "<tr><td>S50_1514</td><td>1962 City of Detroit Streetcar</td><td>27</td></tr>",
                            "<tr><td>S50_4713</td><td>2002 Yamaha YZR M1</td><td>27</td></tr>",
                            "<tr><td>S700_1138</td><td>The Schooner Bluenose</td><td>27</td></tr>",
                            "<tr><td>S700_1938</td><td>The Mayflower</td><td>27</td></tr>",
                            "<tr><td>S700_2610</td><td>The USS Constitution Ship</td><td>27</td></tr>",
                            "<tr><td>S700_3505</td><td>The Titanic</td><td>27</td></tr>",
                            "<tr><td>S700_3962</td><td>The Queen Mary</td><td>27</td></tr>",
                            "<tr><td>S72_3212</td><td>Pont Yacht</td><td>27</td></tr>",
                            "<tr><td>S10_1678</td><td>1969 Harley Davidson Ultimate Chopper</td><td>28</td></tr>",
                            "<tr><td>S10_1949</td><td>1952 Alpine Renault 1300</td><td>28</td></tr>",
                            "<tr><td>S10_2016</td><td>1996 Moto Guzzi 1100i</td><td>28</td></tr>",
                            "<tr><td>S10_4698</td><td>2003 Harley-Davidson Eagle Drag Bike</td><td>28</td></tr>",
                            "<tr><td>S10_4757</td><td>1972 Alfa Romeo GTA</td><td>28</td></tr>",
                            "<tr><td>S10_4962</td><td>1962 LanciaA Delta 16V</td><td>28</td></tr>",
                            "<tr><td>S12_1666</td><td>1958 Setra Bus</td><td>28</td></tr>",
                            "<tr><td>S12_2823</td><td>2002 Suzuki XREO</td><td>28</td></tr>",
                            "<tr><td>S12_4473</td><td>1957 Chevy Pickup</td><td>28</td></tr>",
                            "<tr><td>S18_1097</td><td>1940 Ford Pickup Truck</td><td>28</td></tr>",
                            "<tr><td>S18_1342</td><td>1937 Lincoln Berline</td><td>28</td></tr>",
                            "<tr><td>S18_1367</td><td>1936 Mercedes-Benz 500K Special Roadster</td><td>28</td></tr>",
                            "<tr><td>S18_1662</td><td>1980s Black Hawk Helicopter</td><td>28</td></tr>",
                            "<tr><td>S18_2238</td><td>1998 Chrysler Plymouth Prowler</td><td>28</td></tr>",
                            "<tr><td>S18_2319</td><td>1964 Mercedes Tour Bus</td><td>28</td></tr>",
                            "<tr><td>S18_2325</td><td>1932 Model A Ford J-Coupe</td><td>28</td></tr>",
                            "<tr><td>S18_2432</td><td>1926 Ford Fire Engine</td><td>28</td></tr>",
                            "<tr><td>S18_2581</td><td>P-51-D Mustang</td><td>28</td></tr>",
                            "<tr><td>S18_2625</td><td>1936 Harley Davidson El Knucklehead</td><td>28</td></tr>",
                            "<tr><td>S18_2795</td><td>1928 Mercedes-Benz SSK</td><td>28</td></tr>",
                            "<tr><td>S18_2949</td><td>1913 Ford Model T Speedster</td><td>28</td></tr>",
                            "<tr><td>S18_2957</td><td>1934 Ford V8 Coupe</td><td>28</td></tr>",
                            "<tr><td>S18_3029</td><td>1999 Yamaha Speed Boat</td><td>28</td></tr>",
                            "<tr><td>S18_3136</td><td>18th Century Vintage Horse Carriage</td><td>28</td></tr>",
                            "<tr><td>S18_3320</td><td>1917 Maxwell Touring Car</td><td>28</td></tr>",
                            "<tr><td>S18_3856</td><td>1941 Chevrolet Special Deluxe Cabriolet</td><td>28</td></tr>",
                            "<tr><td>S18_4600</td><td>1940s Ford truck</td><td>28</td></tr>",
                            "<tr><td>S18_4668</td><td>1939 Cadillac Limousine</td><td>28</td></tr>",
                            "<tr><td>S24_1444</td><td>1970 Dodge Coronet</td><td>28</td></tr>",
                            "<tr><td>S24_1578</td><td>1997 BMW R 1100 S</td><td>28</td></tr>",
                            "<tr><td>S24_1785</td><td>1928 British Royal Navy Airplane</td><td>28</td></tr>",
                            "<tr><td>S24_1937</td><td>1939 Chevrolet Deluxe Coupe</td><td>28</td></tr>",
                            "<tr><td>S24_2000</td><td>1960 BSA Gold Star DBD34</td><td>28</td></tr>",
                            "<tr><td>S24_2022</td><td>1938 Cadillac V-16 Presidential Limousine</td><td>28</td></tr>",
                            "<tr><td>S24_2300</td><td>1962 Volkswagen Microbus</td><td>28</td></tr>",
                            "<tr><td>S24_2840</td><td>1958 Chevy Corvette Limited Edition</td><td>28</td></tr>",
                            "<tr><td>S24_2841</td><td>1900s Vintage Bi-Plane</td><td>28</td></tr>",
                            "<tr><td>S24_3420</td><td>1937 Horch 930V Limousine</td><td>28</td></tr>",
                            "<tr><td>S24_3816</td><td>1940 Ford Delivery Sedan</td><td>28</td></tr>",
                            "<tr><td>S24_3949</td><td>Corsair F4U ( Bird Cage)</td><td>28</td></tr>",
                            "<tr><td>S24_4258</td><td>1936 Chrysler Airflow</td><td>28</td></tr>",
                            "<tr><td>S24_4278</td><td>1900s Vintage Tri-Plane</td><td>28</td></tr>",
                            "<tr><td>S32_1268</td><td>1980’s GM Manhattan Express</td><td>28</td></tr>",
                            "<tr><td>S32_1374</td><td>1997 BMW F650 ST</td><td>28</td></tr>",
                            "<tr><td>S32_2509</td><td>1954 Greyhound Scenicruiser</td><td>28</td></tr>",
                            "<tr><td>S32_3522</td><td>1996 Peterbilt 379 Stake Bed with Outrigger</td><td>28</td></tr>",
                            "<tr><td>S32_4289</td><td>1928 Ford Phaeton Deluxe</td><td>28</td></tr>",
                            "<tr><td>S50_1341</td><td>1930 Buick Marquette Phaeton</td><td>28</td></tr>",
                            "<tr><td>S50_1392</td><td>Diamond T620 Semi-Skirted Tanker</td><td>28</td></tr>",
                            "<tr><td>S700_1691</td><td>American Airlines: B767-300</td><td>28</td></tr>",
                            "<tr><td>S700_2047</td><td>HMS Bounty</td><td>28</td></tr>",
                            "<tr><td>S700_2466</td><td>America West Airlines B757-200</td><td>28</td></tr>",
                            "<tr><td>S700_2824</td><td>1982 Camaro Z28</td><td>28</td></tr>",
                            "<tr><td>S700_2834</td><td>ATA: B757-300</td><td>28</td></tr>",
                            "<tr><td>S700_3167</td><td>F/A 18 Hornet 1/72</td><td>28</td></tr>",
                            "<tr><td>S700_4002</td><td>American Airlines: MD-11S</td><td>28</td></tr>",
                            "<tr><td>S72_1253</td><td>Boeing X-32A JSF</td><td>28</td></tr>",
                            "<tr><td>S18_3232</td><td>1992 Ferrari 360 Spider red</td><td>53</td></tr>",
                            "</table>"
                        ]
                    }
                }
            ],
            "execution_count": 72
        },
        {
            "cell_type": "code",
            "source": [
                "-- Classic Models has a product line called \"Vintage Cars.\" The management wants to know the total revenue generated by this product line in the last quarter of the year 2003 (from October to December). Write a MySQL stored procedure that takes no input parameters and returns total revenue of the \"Vintage Cars\" product line for the last quarter of 2003."
            ],-- \n",
                "-- \n",
                "
            "metadata": {
                "azdata_cell_guid": "aa77b2d0-7696-41ad-9aa7-84ec8daf1a98",
                "language": "sql"
            },
            "outputs": [],
            "execution_count": null
        },
        {
            "cell_type": "code",
            "source": [
                ""
            ],
            "metadata": {
                "azdata_cell_guid": "8edc0c24-b354-4b60-bf7d-10555c920d54",
                "language": "sql"
            },
            "outputs": [],
            "execution_count": null
        }
    ]
}