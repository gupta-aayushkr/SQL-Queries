{
    "metadata": {
        "kernelspec": {
            "name": "SQL",
            "display_name": "SQL",
            "language": "sql"
        },
        "language_info": {
            "name": "sql",
            "version": ""
        }
    },
    "nbformat_minor": 2,
    "nbformat": 4,
    "cells": [
        {
            "cell_type": "code",
            "source": [
                "use classicmodels"
            ],
            "metadata": {
                "azdata_cell_guid": "fb5137cb-ffd8-445c-a138-197a61083de6",
                "language": "sql"
            },
            "outputs": [
                {
                    "output_type": "display_data",
                    "data": {
                        "text/html": "Commands completed successfully"
                    },
                    "metadata": {}
                },
                {
                    "output_type": "display_data",
                    "data": {
                        "text/html": "Total execution time: 00:00:00"
                    },
                    "metadata": {}
                }
            ],
            "execution_count": 169
        },
        {
            "cell_type": "code",
            "source": [
                "-- Find the top 10 customers who have placed the most orders. Display customer name and the count of orders placed.\n",
                "select customerName,\n",
                "sum(case when orders.orderNumber is not null then 1 else 0 end) as Order_count\n",
                "from customers\n",
                "join orders on customers.customerNumber = orders.customerNumber\n",
                "join orderdetails on orderdetails.orderNumber = orders.orderNumber\n",
                "group by 1\n",
                "order by 2 desc\n",
                "limit 10"
            ],
            "metadata": {
                "azdata_cell_guid": "6bcddfc7-6ac0-4f70-9836-995596ecdcce",
                "language": "sql"
            },
            "outputs": [
                {
                    "output_type": "display_data",
                    "data": {
                        "text/html": "(10 row(s) affected)"
                    },
                    "metadata": {}
                },
                {
                    "output_type": "display_data",
                    "data": {
                        "text/html": "Total execution time: 00:00:01.019"
                    },
                    "metadata": {}
                },
                {
                    "output_type": "execute_result",
                    "metadata": {},
                    "execution_count": 150,
                    "data": {
                        "application/vnd.dataresource+json": {
                            "schema": {
                                "fields": [
                                    {
                                        "name": "customerName"
                                    },
                                    {
                                        "name": "Order_count"
                                    }
                                ]
                            },
                            "data": [
                                {
                                    "customerName": "Euro+ Shopping Channel",
                                    "Order_count": "259"
                                },
                                {
                                    "customerName": "Mini Gifts Distributors Ltd.",
                                    "Order_count": "180"
                                },
                                {
                                    "customerName": "Australian Collectors, Co.",
                                    "Order_count": "55"
                                },
                                {
                                    "customerName": "La Rochelle Gifts",
                                    "Order_count": "53"
                                },
                                {
                                    "customerName": "AV Stores, Co.",
                                    "Order_count": "51"
                                },
                                {
                                    "customerName": "Land of Toys Inc.",
                                    "Order_count": "49"
                                },
                                {
                                    "customerName": "Rovelli Gifts",
                                    "Order_count": "48"
                                },
                                {
                                    "customerName": "Muscle Machine Inc",
                                    "Order_count": "48"
                                },
                                {
                                    "customerName": "Kelly's Gift Shop",
                                    "Order_count": "48"
                                },
                                {
                                    "customerName": "Anna's Decorations, Ltd",
                                    "Order_count": "46"
                                }
                            ]
                        },
                        "text/html": [
                            "<table>",
                            "<tr><th>customerName</th><th>Order_count</th></tr>",
                            "<tr><td>Euro+ Shopping Channel</td><td>259</td></tr>",
                            "<tr><td>Mini Gifts Distributors Ltd.</td><td>180</td></tr>",
                            "<tr><td>Australian Collectors, Co.</td><td>55</td></tr>",
                            "<tr><td>La Rochelle Gifts</td><td>53</td></tr>",
                            "<tr><td>AV Stores, Co.</td><td>51</td></tr>",
                            "<tr><td>Land of Toys Inc.</td><td>49</td></tr>",
                            "<tr><td>Rovelli Gifts</td><td>48</td></tr>",
                            "<tr><td>Muscle Machine Inc</td><td>48</td></tr>",
                            "<tr><td>Kelly&#39;s Gift Shop</td><td>48</td></tr>",
                            "<tr><td>Anna&#39;s Decorations, Ltd</td><td>46</td></tr>",
                            "</table>"
                        ]
                    }
                }
            ],
            "execution_count": 150
        },
        {
            "cell_type": "code",
            "source": [
                "SELECT\n",
                "    c.customerName,\n",
                "    COUNT(o.orderNumber) AS orderCount\n",
                "FROM\n",
                "    customers c\n",
                "JOIN\n",
                "    orders o ON c.customerNumber = o.customerNumber\n",
                "GROUP BY\n",
                "    c.customerNumber\n",
                "ORDER BY\n",
                "    orderCount DESC\n",
                "LIMIT 10;\n",
                ""
            ],
            "metadata": {
                "language": "sql",
                "azdata_cell_guid": "1bd1fbaf-8791-46a1-b945-5e47238956f0"
            },
            "outputs": [
                {
                    "output_type": "display_data",
                    "data": {
                        "text/html": "(10 row(s) affected)"
                    },
                    "metadata": {}
                },
                {
                    "output_type": "display_data",
                    "data": {
                        "text/html": "Total execution time: 00:00:01.004"
                    },
                    "metadata": {}
                },
                {
                    "output_type": "execute_result",
                    "metadata": {},
                    "execution_count": 151,
                    "data": {
                        "application/vnd.dataresource+json": {
                            "schema": {
                                "fields": [
                                    {
                                        "name": "customerName"
                                    },
                                    {
                                        "name": "orderCount"
                                    }
                                ]
                            },
                            "data": [
                                {
                                    "customerName": "Euro+ Shopping Channel",
                                    "orderCount": "26"
                                },
                                {
                                    "customerName": "Mini Gifts Distributors Ltd.",
                                    "orderCount": "17"
                                },
                                {
                                    "customerName": "Down Under Souveniers, Inc",
                                    "orderCount": "5"
                                },
                                {
                                    "customerName": "Dragon Souveniers, Ltd.",
                                    "orderCount": "5"
                                },
                                {
                                    "customerName": "Australian Collectors, Co.",
                                    "orderCount": "5"
                                },
                                {
                                    "customerName": "Reims Collectables",
                                    "orderCount": "5"
                                },
                                {
                                    "customerName": "Danish Wholesale Imports",
                                    "orderCount": "5"
                                },
                                {
                                    "customerName": "Baane Mini Imports",
                                    "orderCount": "4"
                                },
                                {
                                    "customerName": "Blauer See Auto, Co.",
                                    "orderCount": "4"
                                },
                                {
                                    "customerName": "Kelly's Gift Shop",
                                    "orderCount": "4"
                                }
                            ]
                        },
                        "text/html": [
                            "<table>",
                            "<tr><th>customerName</th><th>orderCount</th></tr>",
                            "<tr><td>Euro+ Shopping Channel</td><td>26</td></tr>",
                            "<tr><td>Mini Gifts Distributors Ltd.</td><td>17</td></tr>",
                            "<tr><td>Down Under Souveniers, Inc</td><td>5</td></tr>",
                            "<tr><td>Dragon Souveniers, Ltd.</td><td>5</td></tr>",
                            "<tr><td>Australian Collectors, Co.</td><td>5</td></tr>",
                            "<tr><td>Reims Collectables</td><td>5</td></tr>",
                            "<tr><td>Danish Wholesale Imports</td><td>5</td></tr>",
                            "<tr><td>Baane Mini Imports</td><td>4</td></tr>",
                            "<tr><td>Blauer See Auto, Co.</td><td>4</td></tr>",
                            "<tr><td>Kelly&#39;s Gift Shop</td><td>4</td></tr>",
                            "</table>"
                        ]
                    }
                }
            ],
            "execution_count": 151
        },
        {
            "cell_type": "code",
            "source": [
                "-- Retrieve the list of customers who have placed orders but haven't made any payments yet.\n",
                "select customers.customerName,\n",
                "sum(case when checkNumber is not NULL then 1 else 0 end) as Payment_Check\n",
                "from customers\n",
                "left join payments on customers.customerNumber = payments.customerNumber\n",
                "GROUP BY 1\n",
                "Having Payment_Check = 0\n",
                "order by 2 desc"
            ],
            "metadata": {
                "azdata_cell_guid": "09a52b77-20e7-44f2-82e7-d8b26b401b55",
                "language": "sql"
            },
            "outputs": [
                {
                    "output_type": "display_data",
                    "data": {
                        "text/html": "(24 row(s) affected)"
                    },
                    "metadata": {}
                },
                {
                    "output_type": "display_data",
                    "data": {
                        "text/html": "Total execution time: 00:00:01.006"
                    },
                    "metadata": {}
                },
                {
                    "output_type": "execute_result",
                    "metadata": {},
                    "execution_count": 152,
                    "data": {
                        "application/vnd.dataresource+json": {
                            "schema": {
                                "fields": [
                                    {
                                        "name": "customerName"
                                    },
                                    {
                                        "name": "Payment_Check"
                                    }
                                ]
                            },
                            "data": [
                                {
                                    "customerName": "Havel & Zbyszek Co",
                                    "Payment_Check": "0"
                                },
                                {
                                    "customerName": "American Souvenirs Inc",
                                    "Payment_Check": "0"
                                },
                                {
                                    "customerName": "Porto Imports Co.",
                                    "Payment_Check": "0"
                                },
                                {
                                    "customerName": "Asian Shopping Network, Co",
                                    "Payment_Check": "0"
                                },
                                {
                                    "customerName": "Natürlich Autos",
                                    "Payment_Check": "0"
                                },
                                {
                                    "customerName": "ANG Resellers",
                                    "Payment_Check": "0"
                                },
                                {
                                    "customerName": "Messner Shopping Network",
                                    "Payment_Check": "0"
                                },
                                {
                                    "customerName": "Franken Gifts, Co",
                                    "Payment_Check": "0"
                                },
                                {
                                    "customerName": "BG&E Collectables",
                                    "Payment_Check": "0"
                                },
                                {
                                    "customerName": "Schuyler Imports",
                                    "Payment_Check": "0"
                                },
                                {
                                    "customerName": "Der Hund Imports",
                                    "Payment_Check": "0"
                                },
                                {
                                    "customerName": "Cramer Spezialitäten, Ltd",
                                    "Payment_Check": "0"
                                },
                                {
                                    "customerName": "Asian Treasures, Inc.",
                                    "Payment_Check": "0"
                                },
                                {
                                    "customerName": "SAR Distributors, Co",
                                    "Payment_Check": "0"
                                },
                                {
                                    "customerName": "Kommission Auto",
                                    "Payment_Check": "0"
                                },
                                {
                                    "customerName": "Lisboa Souveniers, Inc",
                                    "Payment_Check": "0"
                                },
                                {
                                    "customerName": "Precious Collectables",
                                    "Payment_Check": "0"
                                },
                                {
                                    "customerName": "Stuttgart Collectable Exchange",
                                    "Payment_Check": "0"
                                },
                                {
                                    "customerName": "Feuer Online Stores, Inc",
                                    "Payment_Check": "0"
                                },
                                {
                                    "customerName": "Warburg Exchange",
                                    "Payment_Check": "0"
                                },
                                {
                                    "customerName": "Anton Designs, Ltd.",
                                    "Payment_Check": "0"
                                },
                                {
                                    "customerName": "Mit Vergnügen & Co.",
                                    "Payment_Check": "0"
                                },
                                {
                                    "customerName": "Kremlin Collectables, Co.",
                                    "Payment_Check": "0"
                                },
                                {
                                    "customerName": "Raanan Stores, Inc",
                                    "Payment_Check": "0"
                                }
                            ]
                        },
                        "text/html": [
                            "<table>",
                            "<tr><th>customerName</th><th>Payment_Check</th></tr>",
                            "<tr><td>Havel &amp; Zbyszek Co</td><td>0</td></tr>",
                            "<tr><td>American Souvenirs Inc</td><td>0</td></tr>",
                            "<tr><td>Porto Imports Co.</td><td>0</td></tr>",
                            "<tr><td>Asian Shopping Network, Co</td><td>0</td></tr>",
                            "<tr><td>Natürlich Autos</td><td>0</td></tr>",
                            "<tr><td>ANG Resellers</td><td>0</td></tr>",
                            "<tr><td>Messner Shopping Network</td><td>0</td></tr>",
                            "<tr><td>Franken Gifts, Co</td><td>0</td></tr>",
                            "<tr><td>BG&amp;E Collectables</td><td>0</td></tr>",
                            "<tr><td>Schuyler Imports</td><td>0</td></tr>",
                            "<tr><td>Der Hund Imports</td><td>0</td></tr>",
                            "<tr><td>Cramer Spezialitäten, Ltd</td><td>0</td></tr>",
                            "<tr><td>Asian Treasures, Inc.</td><td>0</td></tr>",
                            "<tr><td>SAR Distributors, Co</td><td>0</td></tr>",
                            "<tr><td>Kommission Auto</td><td>0</td></tr>",
                            "<tr><td>Lisboa Souveniers, Inc</td><td>0</td></tr>",
                            "<tr><td>Precious Collectables</td><td>0</td></tr>",
                            "<tr><td>Stuttgart Collectable Exchange</td><td>0</td></tr>",
                            "<tr><td>Feuer Online Stores, Inc</td><td>0</td></tr>",
                            "<tr><td>Warburg Exchange</td><td>0</td></tr>",
                            "<tr><td>Anton Designs, Ltd.</td><td>0</td></tr>",
                            "<tr><td>Mit Vergnügen &amp; Co.</td><td>0</td></tr>",
                            "<tr><td>Kremlin Collectables, Co.</td><td>0</td></tr>",
                            "<tr><td>Raanan Stores, Inc</td><td>0</td></tr>",
                            "</table>"
                        ]
                    }
                }
            ],
            "execution_count": 152
        },
        {
            "cell_type": "code",
            "source": [
                "select customers.customerName,\n",
                "sum(case when checkNumber is not NULL then 1 else 0 end) as Payment_Check\n",
                "from customers\n",
                "left join payments on customers.customerNumber = payments.customerNumber\n",
                "GROUP by 1\n",
                "\n",
                "\n",
                ""
            ],
            "metadata": {
                "language": "sql",
                "azdata_cell_guid": "0e0f3283-a5dd-41d1-b761-4092513b6f89"
            },
            "outputs": [
                {
                    "output_type": "display_data",
                    "data": {
                        "text/html": "(122 row(s) affected)"
                    },
                    "metadata": {}
                },
                {
                    "output_type": "display_data",
                    "data": {
                        "text/html": "Total execution time: 00:00:01.003"
                    },
                    "metadata": {}
                },
                {
                    "output_type": "execute_result",
                    "metadata": {},
                    "execution_count": 153,
                    "data": {
                        "application/vnd.dataresource+json": {
                            "schema": {
                                "fields": [
                                    {
                                        "name": "customerName"
                                    },
                                    {
                                        "name": "Payment_Check"
                                    }
                                ]
                            },
                            "data": [
                                {
                                    "customerName": "Atelier graphique",
                                    "Payment_Check": "3"
                                },
                                {
                                    "customerName": "Signal Gift Stores",
                                    "Payment_Check": "3"
                                },
                                {
                                    "customerName": "Australian Collectors, Co.",
                                    "Payment_Check": "4"
                                },
                                {
                                    "customerName": "La Rochelle Gifts",
                                    "Payment_Check": "3"
                                },
                                {
                                    "customerName": "Baane Mini Imports",
                                    "Payment_Check": "4"
                                },
                                {
                                    "customerName": "Mini Gifts Distributors Ltd.",
                                    "Payment_Check": "9"
                                },
                                {
                                    "customerName": "Havel & Zbyszek Co",
                                    "Payment_Check": "0"
                                },
                                {
                                    "customerName": "Blauer See Auto, Co.",
                                    "Payment_Check": "4"
                                },
                                {
                                    "customerName": "Mini Wheels Co.",
                                    "Payment_Check": "3"
                                },
                                {
                                    "customerName": "Land of Toys Inc.",
                                    "Payment_Check": "3"
                                },
                                {
                                    "customerName": "Euro+ Shopping Channel",
                                    "Payment_Check": "13"
                                },
                                {
                                    "customerName": "Volvo Model Replicas, Co",
                                    "Payment_Check": "2"
                                },
                                {
                                    "customerName": "Danish Wholesale Imports",
                                    "Payment_Check": "4"
                                },
                                {
                                    "customerName": "Saveley & Henriot, Co.",
                                    "Payment_Check": "3"
                                },
                                {
                                    "customerName": "Dragon Souveniers, Ltd.",
                                    "Payment_Check": "4"
                                },
                                {
                                    "customerName": "Muscle Machine Inc",
                                    "Payment_Check": "4"
                                },
                                {
                                    "customerName": "Diecast Classics Inc.",
                                    "Payment_Check": "2"
                                },
                                {
                                    "customerName": "Technics Stores Inc.",
                                    "Payment_Check": "4"
                                },
                                {
                                    "customerName": "Handji Gifts& Co",
                                    "Payment_Check": "3"
                                },
                                {
                                    "customerName": "Herkku Gifts",
                                    "Payment_Check": "2"
                                },
                                {
                                    "customerName": "American Souvenirs Inc",
                                    "Payment_Check": "0"
                                },
                                {
                                    "customerName": "Porto Imports Co.",
                                    "Payment_Check": "0"
                                },
                                {
                                    "customerName": "Daedalus Designs Imports",
                                    "Payment_Check": "2"
                                },
                                {
                                    "customerName": "La Corne D'abondance, Co.",
                                    "Payment_Check": "3"
                                },
                                {
                                    "customerName": "Cambridge Collectables Co.",
                                    "Payment_Check": "2"
                                },
                                {
                                    "customerName": "Gift Depot Inc.",
                                    "Payment_Check": "3"
                                },
                                {
                                    "customerName": "Osaka Souveniers Co.",
                                    "Payment_Check": "2"
                                },
                                {
                                    "customerName": "Vitachrome Inc.",
                                    "Payment_Check": "3"
                                },
                                {
                                    "customerName": "Toys of Finland, Co.",
                                    "Payment_Check": "3"
                                },
                                {
                                    "customerName": "AV Stores, Co.",
                                    "Payment_Check": "3"
                                },
                                {
                                    "customerName": "Clover Collections, Co.",
                                    "Payment_Check": "2"
                                },
                                {
                                    "customerName": "Auto-Moto Classics Inc.",
                                    "Payment_Check": "3"
                                },
                                {
                                    "customerName": "UK Collectables, Ltd.",
                                    "Payment_Check": "2"
                                },
                                {
                                    "customerName": "Canadian Gift Exchange Network",
                                    "Payment_Check": "2"
                                },
                                {
                                    "customerName": "Online Mini Collectables",
                                    "Payment_Check": "2"
                                },
                                {
                                    "customerName": "Toys4GrownUps.com",
                                    "Payment_Check": "3"
                                },
                                {
                                    "customerName": "Asian Shopping Network, Co",
                                    "Payment_Check": "0"
                                },
                                {
                                    "customerName": "Mini Caravy",
                                    "Payment_Check": "3"
                                },
                                {
                                    "customerName": "King Kong Collectables, Co.",
                                    "Payment_Check": "1"
                                },
                                {
                                    "customerName": "Enaco Distributors",
                                    "Payment_Check": "3"
                                },
                                {
                                    "customerName": "Boards & Toys Co.",
                                    "Payment_Check": "2"
                                },
                                {
                                    "customerName": "Natürlich Autos",
                                    "Payment_Check": "0"
                                },
                                {
                                    "customerName": "Heintze Collectables",
                                    "Payment_Check": "2"
                                },
                                {
                                    "customerName": "Québec Home Shopping Network",
                                    "Payment_Check": "3"
                                },
                                {
                                    "customerName": "ANG Resellers",
                                    "Payment_Check": "0"
                                },
                                {
                                    "customerName": "Collectable Mini Designs Co.",
                                    "Payment_Check": "1"
                                },
                                {
                                    "customerName": "giftsbymail.co.uk",
                                    "Payment_Check": "2"
                                },
                                {
                                    "customerName": "Alpha Cognac",
                                    "Payment_Check": "3"
                                },
                                {
                                    "customerName": "Messner Shopping Network",
                                    "Payment_Check": "0"
                                },
                                {
                                    "customerName": "Amica Models & Co.",
                                    "Payment_Check": "2"
                                },
                                {
                                    "customerName": "Lyon Souveniers",
                                    "Payment_Check": "3"
                                },
                                {
                                    "customerName": "Auto Associés & Cie.",
                                    "Payment_Check": "2"
                                },
                                {
                                    "customerName": "Toms Spezialitäten, Ltd",
                                    "Payment_Check": "2"
                                },
                                {
                                    "customerName": "Royal Canadian Collectables, Ltd.",
                                    "Payment_Check": "2"
                                },
                                {
                                    "customerName": "Franken Gifts, Co",
                                    "Payment_Check": "0"
                                },
                                {
                                    "customerName": "Anna's Decorations, Ltd",
                                    "Payment_Check": "4"
                                },
                                {
                                    "customerName": "Rovelli Gifts",
                                    "Payment_Check": "3"
                                },
                                {
                                    "customerName": "Souveniers And Things Co.",
                                    "Payment_Check": "3"
                                },
                                {
                                    "customerName": "Marta's Replicas Co.",
                                    "Payment_Check": "2"
                                },
                                {
                                    "customerName": "BG&E Collectables",
                                    "Payment_Check": "0"
                                },
                                {
                                    "customerName": "Vida Sport, Ltd",
                                    "Payment_Check": "2"
                                },
                                {
                                    "customerName": "Norway Gifts By Mail, Co.",
                                    "Payment_Check": "2"
                                },
                                {
                                    "customerName": "Schuyler Imports",
                                    "Payment_Check": "0"
                                },
                                {
                                    "customerName": "Der Hund Imports",
                                    "Payment_Check": "0"
                                },
                                {
                                    "customerName": "Oulu Toy Supplies, Inc.",
                                    "Payment_Check": "3"
                                },
                                {
                                    "customerName": "Petit Auto",
                                    "Payment_Check": "2"
                                },
                                {
                                    "customerName": "Mini Classics",
                                    "Payment_Check": "2"
                                },
                                {
                                    "customerName": "Mini Creations Ltd.",
                                    "Payment_Check": "3"
                                },
                                {
                                    "customerName": "Corporate Gift Ideas Co.",
                                    "Payment_Check": "2"
                                },
                                {
                                    "customerName": "Down Under Souveniers, Inc",
                                    "Payment_Check": "4"
                                },
                                {
                                    "customerName": "Stylish Desk Decors, Co.",
                                    "Payment_Check": "3"
                                },
                                {
                                    "customerName": "Tekni Collectables Inc.",
                                    "Payment_Check": "2"
                                },
                                {
                                    "customerName": "Australian Gift Network, Co",
                                    "Payment_Check": "3"
                                },
                                {
                                    "customerName": "Suominen Souveniers",
                                    "Payment_Check": "3"
                                },
                                {
                                    "customerName": "Cramer Spezialitäten, Ltd",
                                    "Payment_Check": "0"
                                },
                                {
                                    "customerName": "Classic Gift Ideas, Inc",
                                    "Payment_Check": "2"
                                },
                                {
                                    "customerName": "CAF Imports",
                                    "Payment_Check": "2"
                                },
                                {
                                    "customerName": "Men 'R' US Retailers, Ltd.",
                                    "Payment_Check": "2"
                                },
                                {
                                    "customerName": "Asian Treasures, Inc.",
                                    "Payment_Check": "0"
                                },
                                {
                                    "customerName": "Marseille Mini Autos",
                                    "Payment_Check": "3"
                                },
                                {
                                    "customerName": "Reims Collectables",
                                    "Payment_Check": "4"
                                },
                                {
                                    "customerName": "SAR Distributors, Co",
                                    "Payment_Check": "0"
                                },
                                {
                                    "customerName": "GiftsForHim.com",
                                    "Payment_Check": "2"
                                },
                                {
                                    "customerName": "Kommission Auto",
                                    "Payment_Check": "0"
                                },
                                {
                                    "customerName": "Gifts4AllAges.com",
                                    "Payment_Check": "2"
                                },
                                {
                                    "customerName": "Online Diecast Creations Co.",
                                    "Payment_Check": "3"
                                },
                                {
                                    "customerName": "Lisboa Souveniers, Inc",
                                    "Payment_Check": "0"
                                },
                                {
                                    "customerName": "Precious Collectables",
                                    "Payment_Check": "0"
                                },
                                {
                                    "customerName": "Collectables For Less Inc.",
                                    "Payment_Check": "3"
                                },
                                {
                                    "customerName": "Royale Belge",
                                    "Payment_Check": "4"
                                },
                                {
                                    "customerName": "Salzburg Collectables",
                                    "Payment_Check": "3"
                                },
                                {
                                    "customerName": "Cruz & Sons Co.",
                                    "Payment_Check": "3"
                                },
                                {
                                    "customerName": "L'ordine Souveniers",
                                    "Payment_Check": "2"
                                },
                                {
                                    "customerName": "Tokyo Collectables, Ltd",
                                    "Payment_Check": "4"
                                },
                                {
                                    "customerName": "Auto Canal+ Petit",
                                    "Payment_Check": "3"
                                },
                                {
                                    "customerName": "Stuttgart Collectable Exchange",
                                    "Payment_Check": "0"
                                },
                                {
                                    "customerName": "Extreme Desk Decorations, Ltd",
                                    "Payment_Check": "2"
                                },
                                {
                                    "customerName": "Bavarian Collectables Imports, Co.",
                                    "Payment_Check": "1"
                                },
                                {
                                    "customerName": "Classic Legends Inc.",
                                    "Payment_Check": "3"
                                },
                                {
                                    "customerName": "Feuer Online Stores, Inc",
                                    "Payment_Check": "0"
                                },
                                {
                                    "customerName": "Gift Ideas Corp.",
                                    "Payment_Check": "3"
                                },
                                {
                                    "customerName": "Scandinavian Gift Ideas",
                                    "Payment_Check": "2"
                                },
                                {
                                    "customerName": "The Sharp Gifts Warehouse",
                                    "Payment_Check": "1"
                                },
                                {
                                    "customerName": "Mini Auto Werke",
                                    "Payment_Check": "3"
                                },
                                {
                                    "customerName": "Super Scale Inc.",
                                    "Payment_Check": "2"
                                },
                                {
                                    "customerName": "Microscale Inc.",
                                    "Payment_Check": "2"
                                },
                                {
                                    "customerName": "Corrida Auto Replicas, Ltd",
                                    "Payment_Check": "3"
                                },
                                {
                                    "customerName": "Warburg Exchange",
                                    "Payment_Check": "0"
                                },
                                {
                                    "customerName": "FunGiftIdeas.com",
                                    "Payment_Check": "3"
                                },
                                {
                                    "customerName": "Anton Designs, Ltd.",
                                    "Payment_Check": "0"
                                },
                                {
                                    "customerName": "Australian Collectables, Ltd",
                                    "Payment_Check": "2"
                                },
                                {
                                    "customerName": "Frau da Collezione",
                                    "Payment_Check": "2"
                                },
                                {
                                    "customerName": "West Coast Collectables Co.",
                                    "Payment_Check": "2"
                                },
                                {
                                    "customerName": "Mit Vergnügen & Co.",
                                    "Payment_Check": "0"
                                },
                                {
                                    "customerName": "Kremlin Collectables, Co.",
                                    "Payment_Check": "0"
                                },
                                {
                                    "customerName": "Raanan Stores, Inc",
                                    "Payment_Check": "0"
                                },
                                {
                                    "customerName": "Iberia Gift Imports, Corp.",
                                    "Payment_Check": "2"
                                },
                                {
                                    "customerName": "Motor Mint Distributors Inc.",
                                    "Payment_Check": "3"
                                },
                                {
                                    "customerName": "Signal Collectibles Ltd.",
                                    "Payment_Check": "2"
                                },
                                {
                                    "customerName": "Double Decker Gift Stores, Ltd",
                                    "Payment_Check": "2"
                                },
                                {
                                    "customerName": "Diecast Collectables",
                                    "Payment_Check": "2"
                                },
                                {
                                    "customerName": "Kelly's Gift Shop",
                                    "Payment_Check": "3"
                                }
                            ]
                        },
                        "text/html": [
                            "<table>",
                            "<tr><th>customerName</th><th>Payment_Check</th></tr>",
                            "<tr><td>Atelier graphique</td><td>3</td></tr>",
                            "<tr><td>Signal Gift Stores</td><td>3</td></tr>",
                            "<tr><td>Australian Collectors, Co.</td><td>4</td></tr>",
                            "<tr><td>La Rochelle Gifts</td><td>3</td></tr>",
                            "<tr><td>Baane Mini Imports</td><td>4</td></tr>",
                            "<tr><td>Mini Gifts Distributors Ltd.</td><td>9</td></tr>",
                            "<tr><td>Havel &amp; Zbyszek Co</td><td>0</td></tr>",
                            "<tr><td>Blauer See Auto, Co.</td><td>4</td></tr>",
                            "<tr><td>Mini Wheels Co.</td><td>3</td></tr>",
                            "<tr><td>Land of Toys Inc.</td><td>3</td></tr>",
                            "<tr><td>Euro+ Shopping Channel</td><td>13</td></tr>",
                            "<tr><td>Volvo Model Replicas, Co</td><td>2</td></tr>",
                            "<tr><td>Danish Wholesale Imports</td><td>4</td></tr>",
                            "<tr><td>Saveley &amp; Henriot, Co.</td><td>3</td></tr>",
                            "<tr><td>Dragon Souveniers, Ltd.</td><td>4</td></tr>",
                            "<tr><td>Muscle Machine Inc</td><td>4</td></tr>",
                            "<tr><td>Diecast Classics Inc.</td><td>2</td></tr>",
                            "<tr><td>Technics Stores Inc.</td><td>4</td></tr>",
                            "<tr><td>Handji Gifts&amp; Co</td><td>3</td></tr>",
                            "<tr><td>Herkku Gifts</td><td>2</td></tr>",
                            "<tr><td>American Souvenirs Inc</td><td>0</td></tr>",
                            "<tr><td>Porto Imports Co.</td><td>0</td></tr>",
                            "<tr><td>Daedalus Designs Imports</td><td>2</td></tr>",
                            "<tr><td>La Corne D&#39;abondance, Co.</td><td>3</td></tr>",
                            "<tr><td>Cambridge Collectables Co.</td><td>2</td></tr>",
                            "<tr><td>Gift Depot Inc.</td><td>3</td></tr>",
                            "<tr><td>Osaka Souveniers Co.</td><td>2</td></tr>",
                            "<tr><td>Vitachrome Inc.</td><td>3</td></tr>",
                            "<tr><td>Toys of Finland, Co.</td><td>3</td></tr>",
                            "<tr><td>AV Stores, Co.</td><td>3</td></tr>",
                            "<tr><td>Clover Collections, Co.</td><td>2</td></tr>",
                            "<tr><td>Auto-Moto Classics Inc.</td><td>3</td></tr>",
                            "<tr><td>UK Collectables, Ltd.</td><td>2</td></tr>",
                            "<tr><td>Canadian Gift Exchange Network</td><td>2</td></tr>",
                            "<tr><td>Online Mini Collectables</td><td>2</td></tr>",
                            "<tr><td>Toys4GrownUps.com</td><td>3</td></tr>",
                            "<tr><td>Asian Shopping Network, Co</td><td>0</td></tr>",
                            "<tr><td>Mini Caravy</td><td>3</td></tr>",
                            "<tr><td>King Kong Collectables, Co.</td><td>1</td></tr>",
                            "<tr><td>Enaco Distributors</td><td>3</td></tr>",
                            "<tr><td>Boards &amp; Toys Co.</td><td>2</td></tr>",
                            "<tr><td>Natürlich Autos</td><td>0</td></tr>",
                            "<tr><td>Heintze Collectables</td><td>2</td></tr>",
                            "<tr><td>Québec Home Shopping Network</td><td>3</td></tr>",
                            "<tr><td>ANG Resellers</td><td>0</td></tr>",
                            "<tr><td>Collectable Mini Designs Co.</td><td>1</td></tr>",
                            "<tr><td>giftsbymail.co.uk</td><td>2</td></tr>",
                            "<tr><td>Alpha Cognac</td><td>3</td></tr>",
                            "<tr><td>Messner Shopping Network</td><td>0</td></tr>",
                            "<tr><td>Amica Models &amp; Co.</td><td>2</td></tr>",
                            "<tr><td>Lyon Souveniers</td><td>3</td></tr>",
                            "<tr><td>Auto Associés &amp; Cie.</td><td>2</td></tr>",
                            "<tr><td>Toms Spezialitäten, Ltd</td><td>2</td></tr>",
                            "<tr><td>Royal Canadian Collectables, Ltd.</td><td>2</td></tr>",
                            "<tr><td>Franken Gifts, Co</td><td>0</td></tr>",
                            "<tr><td>Anna&#39;s Decorations, Ltd</td><td>4</td></tr>",
                            "<tr><td>Rovelli Gifts</td><td>3</td></tr>",
                            "<tr><td>Souveniers And Things Co.</td><td>3</td></tr>",
                            "<tr><td>Marta&#39;s Replicas Co.</td><td>2</td></tr>",
                            "<tr><td>BG&amp;E Collectables</td><td>0</td></tr>",
                            "<tr><td>Vida Sport, Ltd</td><td>2</td></tr>",
                            "<tr><td>Norway Gifts By Mail, Co.</td><td>2</td></tr>",
                            "<tr><td>Schuyler Imports</td><td>0</td></tr>",
                            "<tr><td>Der Hund Imports</td><td>0</td></tr>",
                            "<tr><td>Oulu Toy Supplies, Inc.</td><td>3</td></tr>",
                            "<tr><td>Petit Auto</td><td>2</td></tr>",
                            "<tr><td>Mini Classics</td><td>2</td></tr>",
                            "<tr><td>Mini Creations Ltd.</td><td>3</td></tr>",
                            "<tr><td>Corporate Gift Ideas Co.</td><td>2</td></tr>",
                            "<tr><td>Down Under Souveniers, Inc</td><td>4</td></tr>",
                            "<tr><td>Stylish Desk Decors, Co.</td><td>3</td></tr>",
                            "<tr><td>Tekni Collectables Inc.</td><td>2</td></tr>",
                            "<tr><td>Australian Gift Network, Co</td><td>3</td></tr>",
                            "<tr><td>Suominen Souveniers</td><td>3</td></tr>",
                            "<tr><td>Cramer Spezialitäten, Ltd</td><td>0</td></tr>",
                            "<tr><td>Classic Gift Ideas, Inc</td><td>2</td></tr>",
                            "<tr><td>CAF Imports</td><td>2</td></tr>",
                            "<tr><td>Men &#39;R&#39; US Retailers, Ltd.</td><td>2</td></tr>",
                            "<tr><td>Asian Treasures, Inc.</td><td>0</td></tr>",
                            "<tr><td>Marseille Mini Autos</td><td>3</td></tr>",
                            "<tr><td>Reims Collectables</td><td>4</td></tr>",
                            "<tr><td>SAR Distributors, Co</td><td>0</td></tr>",
                            "<tr><td>GiftsForHim.com</td><td>2</td></tr>",
                            "<tr><td>Kommission Auto</td><td>0</td></tr>",
                            "<tr><td>Gifts4AllAges.com</td><td>2</td></tr>",
                            "<tr><td>Online Diecast Creations Co.</td><td>3</td></tr>",
                            "<tr><td>Lisboa Souveniers, Inc</td><td>0</td></tr>",
                            "<tr><td>Precious Collectables</td><td>0</td></tr>",
                            "<tr><td>Collectables For Less Inc.</td><td>3</td></tr>",
                            "<tr><td>Royale Belge</td><td>4</td></tr>",
                            "<tr><td>Salzburg Collectables</td><td>3</td></tr>",
                            "<tr><td>Cruz &amp; Sons Co.</td><td>3</td></tr>",
                            "<tr><td>L&#39;ordine Souveniers</td><td>2</td></tr>",
                            "<tr><td>Tokyo Collectables, Ltd</td><td>4</td></tr>",
                            "<tr><td>Auto Canal+ Petit</td><td>3</td></tr>",
                            "<tr><td>Stuttgart Collectable Exchange</td><td>0</td></tr>",
                            "<tr><td>Extreme Desk Decorations, Ltd</td><td>2</td></tr>",
                            "<tr><td>Bavarian Collectables Imports, Co.</td><td>1</td></tr>",
                            "<tr><td>Classic Legends Inc.</td><td>3</td></tr>",
                            "<tr><td>Feuer Online Stores, Inc</td><td>0</td></tr>",
                            "<tr><td>Gift Ideas Corp.</td><td>3</td></tr>",
                            "<tr><td>Scandinavian Gift Ideas</td><td>2</td></tr>",
                            "<tr><td>The Sharp Gifts Warehouse</td><td>1</td></tr>",
                            "<tr><td>Mini Auto Werke</td><td>3</td></tr>",
                            "<tr><td>Super Scale Inc.</td><td>2</td></tr>",
                            "<tr><td>Microscale Inc.</td><td>2</td></tr>",
                            "<tr><td>Corrida Auto Replicas, Ltd</td><td>3</td></tr>",
                            "<tr><td>Warburg Exchange</td><td>0</td></tr>",
                            "<tr><td>FunGiftIdeas.com</td><td>3</td></tr>",
                            "<tr><td>Anton Designs, Ltd.</td><td>0</td></tr>",
                            "<tr><td>Australian Collectables, Ltd</td><td>2</td></tr>",
                            "<tr><td>Frau da Collezione</td><td>2</td></tr>",
                            "<tr><td>West Coast Collectables Co.</td><td>2</td></tr>",
                            "<tr><td>Mit Vergnügen &amp; Co.</td><td>0</td></tr>",
                            "<tr><td>Kremlin Collectables, Co.</td><td>0</td></tr>",
                            "<tr><td>Raanan Stores, Inc</td><td>0</td></tr>",
                            "<tr><td>Iberia Gift Imports, Corp.</td><td>2</td></tr>",
                            "<tr><td>Motor Mint Distributors Inc.</td><td>3</td></tr>",
                            "<tr><td>Signal Collectibles Ltd.</td><td>2</td></tr>",
                            "<tr><td>Double Decker Gift Stores, Ltd</td><td>2</td></tr>",
                            "<tr><td>Diecast Collectables</td><td>2</td></tr>",
                            "<tr><td>Kelly&#39;s Gift Shop</td><td>3</td></tr>",
                            "</table>"
                        ]
                    }
                }
            ],
            "execution_count": 153
        },
        {
            "cell_type": "code",
            "source": [
                "-- Retrieve a product that has been ordered the least number of times. Display the product code, product name, and the number of times it has been ordered.\n",
                "select orderdetails.productCode,\n",
                "products.productName,\n",
                "count(*) AS Product_Ordered\n",
                "from orderdetails\n",
                "join products on orderdetails.productCode = products.productCode\n",
                "GROUP BY 1\n",
                "order by 3\n",
                "limit 1"
            ],
            "metadata": {
                "azdata_cell_guid": "b13bdbc5-385d-4e7d-afa4-dba746f2491f",
                "language": "sql"
            },
            "outputs": [
                {
                    "output_type": "display_data",
                    "data": {
                        "text/html": "(1 row(s) affected)"
                    },
                    "metadata": {}
                },
                {
                    "output_type": "display_data",
                    "data": {
                        "text/html": "Total execution time: 00:00:01.010"
                    },
                    "metadata": {}
                },
                {
                    "output_type": "execute_result",
                    "metadata": {},
                    "execution_count": 154,
                    "data": {
                        "application/vnd.dataresource+json": {
                            "schema": {
                                "fields": [
                                    {
                                        "name": "productCode"
                                    },
                                    {
                                        "name": "productName"
                                    },
                                    {
                                        "name": "Product_Ordered"
                                    }
                                ]
                            },
                            "data": [
                                {
                                    "productCode": "S18_4933",
                                    "productName": "1957 Ford Thunderbird",
                                    "Product_Ordered": "24"
                                }
                            ]
                        },
                        "text/html": [
                            "<table>",
                            "<tr><th>productCode</th><th>productName</th><th>Product_Ordered</th></tr>",
                            "<tr><td>S18_4933</td><td>1957 Ford Thunderbird</td><td>24</td></tr>",
                            "</table>"
                        ]
                    }
                }
            ],
            "execution_count": 154
        },
        {
            "cell_type": "code",
            "source": [
                "-- Classic Models has a product line called \"Vintage Cars.\"\n",
                "-- The management wants to know the total revenue generated by this product line in the last quarter of the year 2003 (from October to December). \n",
                "-- Write a MySQL stored procedure that takes no input parameters and returns total revenue of the \"Vintage Cars\" product line for the last quarter of 2003.\n",
                ""
            ],
            "metadata": {
                "azdata_cell_guid": "3e7db89f-6dde-4eef-bcc0-4c9425fa4014",
                "language": "sql"
            },
            "outputs": [
                {
                    "output_type": "display_data",
                    "data": {
                        "text/html": "Total execution time: 00:00:00"
                    },
                    "metadata": {}
                }
            ],
            "execution_count": 155
        },
        {
            "cell_type": "code",
            "source": [
                "select * from products where productLine = 'Vintage Cars' limit 1\n",
                ""
            ],
            "metadata": {
                "azdata_cell_guid": "8ecb3470-1f37-4767-8b15-3150f4d8f59b",
                "language": "sql"
            },
            "outputs": [
                {
                    "output_type": "display_data",
                    "data": {
                        "text/html": "(1 row(s) affected)"
                    },
                    "metadata": {}
                },
                {
                    "output_type": "display_data",
                    "data": {
                        "text/html": "Total execution time: 00:00:01.006"
                    },
                    "metadata": {}
                },
                {
                    "output_type": "execute_result",
                    "metadata": {},
                    "execution_count": 156,
                    "data": {
                        "application/vnd.dataresource+json": {
                            "schema": {
                                "fields": [
                                    {
                                        "name": "productCode"
                                    },
                                    {
                                        "name": "productName"
                                    },
                                    {
                                        "name": "productLine"
                                    },
                                    {
                                        "name": "productScale"
                                    },
                                    {
                                        "name": "productVendor"
                                    },
                                    {
                                        "name": "productDescription"
                                    },
                                    {
                                        "name": "quantityInStock"
                                    },
                                    {
                                        "name": "buyPrice"
                                    },
                                    {
                                        "name": "MSRP"
                                    }
                                ]
                            },
                            "data": [
                                {
                                    "productCode": "S18_1342",
                                    "productName": "1937 Lincoln Berline",
                                    "productLine": "Vintage Cars",
                                    "productScale": "1:18",
                                    "productVendor": "Motor City Art Classics",
                                    "productDescription": "Features opening engine cover, doors, trunk, and fuel filler cap. Color black",
                                    "quantityInStock": "8693",
                                    "buyPrice": "60.62",
                                    "MSRP": "102.74"
                                }
                            ]
                        },
                        "text/html": [
                            "<table>",
                            "<tr><th>productCode</th><th>productName</th><th>productLine</th><th>productScale</th><th>productVendor</th><th>productDescription</th><th>quantityInStock</th><th>buyPrice</th><th>MSRP</th></tr>",
                            "<tr><td>S18_1342</td><td>1937 Lincoln Berline</td><td>Vintage Cars</td><td>1:18</td><td>Motor City Art Classics</td><td>Features opening engine cover, doors, trunk, and fuel filler cap. Color black</td><td>8693</td><td>60.62</td><td>102.74</td></tr>",
                            "</table>"
                        ]
                    }
                }
            ],
            "execution_count": 156
        },
        {
            "cell_type": "code",
            "source": [
                "-- select * from products limit 1\n",
                "select status from orders GROUP by 1"
            ],
            "metadata": {
                "azdata_cell_guid": "644419a9-bc13-40f6-9f99-ca9bc08ce35e",
                "language": "sql"
            },
            "outputs": [
                {
                    "output_type": "display_data",
                    "data": {
                        "text/html": "(6 row(s) affected)"
                    },
                    "metadata": {}
                },
                {
                    "output_type": "display_data",
                    "data": {
                        "text/html": "Total execution time: 00:00:01.003"
                    },
                    "metadata": {}
                },
                {
                    "output_type": "execute_result",
                    "metadata": {},
                    "execution_count": 157,
                    "data": {
                        "application/vnd.dataresource+json": {
                            "schema": {
                                "fields": [
                                    {
                                        "name": "status"
                                    }
                                ]
                            },
                            "data": [
                                {
                                    "status": "Shipped"
                                },
                                {
                                    "status": "Resolved"
                                },
                                {
                                    "status": "Cancelled"
                                },
                                {
                                    "status": "On Hold"
                                },
                                {
                                    "status": "Disputed"
                                },
                                {
                                    "status": "In Process"
                                }
                            ]
                        },
                        "text/html": [
                            "<table>",
                            "<tr><th>status</th></tr>",
                            "<tr><td>Shipped</td></tr>",
                            "<tr><td>Resolved</td></tr>",
                            "<tr><td>Cancelled</td></tr>",
                            "<tr><td>On Hold</td></tr>",
                            "<tr><td>Disputed</td></tr>",
                            "<tr><td>In Process</td></tr>",
                            "</table>"
                        ]
                    }
                }
            ],
            "execution_count": 157
        },
        {
            "cell_type": "code",
            "source": [
                "select *, (quantityOrdered * priceEach) as totalprice from orders\n",
                "join orderdetails on orders.orderNumber = orderdetails.orderNumber\n",
                "join products on products.productCode = orderdetails.productCode\n",
                "join payments on payments.customerNumber = orders.customerNumber\n",
                "where status in ('Cancelled')\n",
                "and productLine = 'Vintage Cars'"
            ],
            "metadata": {
                "azdata_cell_guid": "1458ab64-c580-465e-9b24-af8aee5ca2b8",
                "language": "sql",
                "tags": []
            },
            "outputs": [
                {
                    "output_type": "display_data",
                    "data": {
                        "text/html": "(93 row(s) affected)"
                    },
                    "metadata": {}
                },
                {
                    "output_type": "display_data",
                    "data": {
                        "text/html": "Total execution time: 00:00:01.007"
                    },
                    "metadata": {}
                },
                {
                    "output_type": "execute_result",
                    "metadata": {},
                    "execution_count": 170,
                    "data": {
                        "application/vnd.dataresource+json": {
                            "schema": {
                                "fields": [
                                    {
                                        "name": "orderNumber"
                                    },
                                    {
                                        "name": "orderDate"
                                    },
                                    {
                                        "name": "requiredDate"
                                    },
                                    {
                                        "name": "shippedDate"
                                    },
                                    {
                                        "name": "status"
                                    },
                                    {
                                        "name": "comments"
                                    },
                                    {
                                        "name": "customerNumber"
                                    },
                                    {
                                        "name": "orderNumber"
                                    },
                                    {
                                        "name": "productCode"
                                    },
                                    {
                                        "name": "quantityOrdered"
                                    },
                                    {
                                        "name": "priceEach"
                                    },
                                    {
                                        "name": "orderLineNumber"
                                    },
                                    {
                                        "name": "productCode"
                                    },
                                    {
                                        "name": "productName"
                                    },
                                    {
                                        "name": "productLine"
                                    },
                                    {
                                        "name": "productScale"
                                    },
                                    {
                                        "name": "productVendor"
                                    },
                                    {
                                        "name": "productDescription"
                                    },
                                    {
                                        "name": "quantityInStock"
                                    },
                                    {
                                        "name": "buyPrice"
                                    },
                                    {
                                        "name": "MSRP"
                                    },
                                    {
                                        "name": "customerNumber"
                                    },
                                    {
                                        "name": "checkNumber"
                                    },
                                    {
                                        "name": "paymentDate"
                                    },
                                    {
                                        "name": "amount"
                                    },
                                    {
                                        "name": "totalprice"
                                    }
                                ]
                            },
                            "data": [
                                {
                                    "orderNumber": "10167",
                                    "orderDate": "2003-10-23",
                                    "requiredDate": "2003-10-30",
                                    "shippedDate": "NULL",
                                    "status": "Cancelled",
                                    "comments": "Customer called to cancel. The warehouse was notified in time and the order didn't ship. They have a new VP of Sales and are shifting their sales model. Our VP of Sales should contact them.",
                                    "customerNumber": "448",
                                    "productCode": "S18_3856",
                                    "quantityOrdered": "34",
                                    "priceEach": "84.70",
                                    "orderLineNumber": "6",
                                    "productName": "1941 Chevrolet Special Deluxe Cabriolet",
                                    "productLine": "Vintage Cars",
                                    "productScale": "1:18",
                                    "productVendor": "Exoto Designs",
                                    "productDescription": "Features opening hood, opening doors, opening trunk, wide white wall tires, front door arm rests, working steering system, leather upholstery. Color black.",
                                    "quantityInStock": "2378",
                                    "buyPrice": "64.58",
                                    "MSRP": "105.87",
                                    "checkNumber": "FS299615",
                                    "paymentDate": "2005-04-18",
                                    "amount": "27966.54",
                                    "totalprice": "2879.80"
                                },
                                {
                                    "orderNumber": "10167",
                                    "orderDate": "2003-10-23",
                                    "requiredDate": "2003-10-30",
                                    "shippedDate": "NULL",
                                    "status": "Cancelled",
                                    "comments": "Customer called to cancel. The warehouse was notified in time and the order didn't ship. They have a new VP of Sales and are shifting their sales model. Our VP of Sales should contact them.",
                                    "customerNumber": "448",
                                    "productCode": "S24_3151",
                                    "quantityOrdered": "20",
                                    "priceEach": "77.00",
                                    "orderLineNumber": "11",
                                    "productName": "1912 Ford Model T Delivery Wagon",
                                    "productLine": "Vintage Cars",
                                    "productScale": "1:24",
                                    "productVendor": "Min Lin Diecast",
                                    "productDescription": "This model features chrome trim and grille, opening hood, opening doors, opening trunk, detailed engine, working steering system. Color white.",
                                    "quantityInStock": "9173",
                                    "buyPrice": "46.91",
                                    "MSRP": "88.51",
                                    "checkNumber": "FS299615",
                                    "paymentDate": "2005-04-18",
                                    "amount": "27966.54",
                                    "totalprice": "1540.00"
                                },
                                {
                                    "orderNumber": "10167",
                                    "orderDate": "2003-10-23",
                                    "requiredDate": "2003-10-30",
                                    "shippedDate": "NULL",
                                    "status": "Cancelled",
                                    "comments": "Customer called to cancel. The warehouse was notified in time and the order didn't ship. They have a new VP of Sales and are shifting their sales model. Our VP of Sales should contact them.",
                                    "customerNumber": "448",
                                    "productCode": "S24_3420",
                                    "quantityOrdered": "32",
                                    "priceEach": "64.44",
                                    "orderLineNumber": "3",
                                    "productName": "1937 Horch 930V Limousine",
                                    "productLine": "Vintage Cars",
                                    "productScale": "1:24",
                                    "productVendor": "Autoart Studio Design",
                                    "productDescription": "Features opening hood, opening doors, opening trunk, wide white wall tires, front door arm rests, working steering system",
                                    "quantityInStock": "2902",
                                    "buyPrice": "26.30",
                                    "MSRP": "65.75",
                                    "checkNumber": "FS299615",
                                    "paymentDate": "2005-04-18",
                                    "amount": "27966.54",
                                    "totalprice": "2062.08"
                                },
                                {
                                    "orderNumber": "10167",
                                    "orderDate": "2003-10-23",
                                    "requiredDate": "2003-10-30",
                                    "shippedDate": "NULL",
                                    "status": "Cancelled",
                                    "comments": "Customer called to cancel. The warehouse was notified in time and the order didn't ship. They have a new VP of Sales and are shifting their sales model. Our VP of Sales should contact them.",
                                    "customerNumber": "448",
                                    "productCode": "S24_3816",
                                    "quantityOrdered": "29",
                                    "priceEach": "73.80",
                                    "orderLineNumber": "8",
                                    "productName": "1940 Ford Delivery Sedan",
                                    "productLine": "Vintage Cars",
                                    "productScale": "1:24",
                                    "productVendor": "Carousel DieCast Legends",
                                    "productDescription": "Chrome Trim, Chrome Grille, Opening Hood, Opening Doors, Opening Trunk, Detailed Engine, Working Steering System. Color black.",
                                    "quantityInStock": "6621",
                                    "buyPrice": "48.64",
                                    "MSRP": "83.86",
                                    "checkNumber": "FS299615",
                                    "paymentDate": "2005-04-18",
                                    "amount": "27966.54",
                                    "totalprice": "2140.20"
                                },
                                {
                                    "orderNumber": "10167",
                                    "orderDate": "2003-10-23",
                                    "requiredDate": "2003-10-30",
                                    "shippedDate": "NULL",
                                    "status": "Cancelled",
                                    "comments": "Customer called to cancel. The warehouse was notified in time and the order didn't ship. They have a new VP of Sales and are shifting their sales model. Our VP of Sales should contact them.",
                                    "customerNumber": "448",
                                    "productCode": "S18_3856",
                                    "quantityOrdered": "34",
                                    "priceEach": "84.70",
                                    "orderLineNumber": "6",
                                    "productName": "1941 Chevrolet Special Deluxe Cabriolet",
                                    "productLine": "Vintage Cars",
                                    "productScale": "1:18",
                                    "productVendor": "Exoto Designs",
                                    "productDescription": "Features opening hood, opening doors, opening trunk, wide white wall tires, front door arm rests, working steering system, leather upholstery. Color black.",
                                    "quantityInStock": "2378",
                                    "buyPrice": "64.58",
                                    "MSRP": "105.87",
                                    "checkNumber": "KR822727",
                                    "paymentDate": "2004-09-30",
                                    "amount": "48809.90",
                                    "totalprice": "2879.80"
                                },
                                {
                                    "orderNumber": "10167",
                                    "orderDate": "2003-10-23",
                                    "requiredDate": "2003-10-30",
                                    "shippedDate": "NULL",
                                    "status": "Cancelled",
                                    "comments": "Customer called to cancel. The warehouse was notified in time and the order didn't ship. They have a new VP of Sales and are shifting their sales model. Our VP of Sales should contact them.",
                                    "customerNumber": "448",
                                    "productCode": "S24_3151",
                                    "quantityOrdered": "20",
                                    "priceEach": "77.00",
                                    "orderLineNumber": "11",
                                    "productName": "1912 Ford Model T Delivery Wagon",
                                    "productLine": "Vintage Cars",
                                    "productScale": "1:24",
                                    "productVendor": "Min Lin Diecast",
                                    "productDescription": "This model features chrome trim and grille, opening hood, opening doors, opening trunk, detailed engine, working steering system. Color white.",
                                    "quantityInStock": "9173",
                                    "buyPrice": "46.91",
                                    "MSRP": "88.51",
                                    "checkNumber": "KR822727",
                                    "paymentDate": "2004-09-30",
                                    "amount": "48809.90",
                                    "totalprice": "1540.00"
                                },
                                {
                                    "orderNumber": "10167",
                                    "orderDate": "2003-10-23",
                                    "requiredDate": "2003-10-30",
                                    "shippedDate": "NULL",
                                    "status": "Cancelled",
                                    "comments": "Customer called to cancel. The warehouse was notified in time and the order didn't ship. They have a new VP of Sales and are shifting their sales model. Our VP of Sales should contact them.",
                                    "customerNumber": "448",
                                    "productCode": "S24_3420",
                                    "quantityOrdered": "32",
                                    "priceEach": "64.44",
                                    "orderLineNumber": "3",
                                    "productName": "1937 Horch 930V Limousine",
                                    "productLine": "Vintage Cars",
                                    "productScale": "1:24",
                                    "productVendor": "Autoart Studio Design",
                                    "productDescription": "Features opening hood, opening doors, opening trunk, wide white wall tires, front door arm rests, working steering system",
                                    "quantityInStock": "2902",
                                    "buyPrice": "26.30",
                                    "MSRP": "65.75",
                                    "checkNumber": "KR822727",
                                    "paymentDate": "2004-09-30",
                                    "amount": "48809.90",
                                    "totalprice": "2062.08"
                                },
                                {
                                    "orderNumber": "10167",
                                    "orderDate": "2003-10-23",
                                    "requiredDate": "2003-10-30",
                                    "shippedDate": "NULL",
                                    "status": "Cancelled",
                                    "comments": "Customer called to cancel. The warehouse was notified in time and the order didn't ship. They have a new VP of Sales and are shifting their sales model. Our VP of Sales should contact them.",
                                    "customerNumber": "448",
                                    "productCode": "S24_3816",
                                    "quantityOrdered": "29",
                                    "priceEach": "73.80",
                                    "orderLineNumber": "8",
                                    "productName": "1940 Ford Delivery Sedan",
                                    "productLine": "Vintage Cars",
                                    "productScale": "1:24",
                                    "productVendor": "Carousel DieCast Legends",
                                    "productDescription": "Chrome Trim, Chrome Grille, Opening Hood, Opening Doors, Opening Trunk, Detailed Engine, Working Steering System. Color black.",
                                    "quantityInStock": "6621",
                                    "buyPrice": "48.64",
                                    "MSRP": "83.86",
                                    "checkNumber": "KR822727",
                                    "paymentDate": "2004-09-30",
                                    "amount": "48809.90",
                                    "totalprice": "2140.20"
                                },
                                {
                                    "orderNumber": "10179",
                                    "orderDate": "2003-11-11",
                                    "requiredDate": "2003-11-17",
                                    "shippedDate": "2003-11-13",
                                    "status": "Cancelled",
                                    "comments": "Customer cancelled due to urgent budgeting issues. Must be cautious when dealing with them in the future. Since order shipped already we must discuss who would cover the shipping charges.",
                                    "customerNumber": "496",
                                    "productCode": "S32_4289",
                                    "quantityOrdered": "24",
                                    "priceEach": "63.97",
                                    "orderLineNumber": "6",
                                    "productName": "1928 Ford Phaeton Deluxe",
                                    "productLine": "Vintage Cars",
                                    "productScale": "1:32",
                                    "productVendor": "Highway 66 Mini Classics",
                                    "productDescription": "This model features grille-mounted chrome horn, lift-up louvered hood, fold-down rumble seat, working steering system",
                                    "quantityInStock": "136",
                                    "buyPrice": "33.02",
                                    "MSRP": "68.79",
                                    "checkNumber": "EU531600",
                                    "paymentDate": "2005-05-25",
                                    "amount": "30253.75",
                                    "totalprice": "1535.28"
                                },
                                {
                                    "orderNumber": "10179",
                                    "orderDate": "2003-11-11",
                                    "requiredDate": "2003-11-17",
                                    "shippedDate": "2003-11-13",
                                    "status": "Cancelled",
                                    "comments": "Customer cancelled due to urgent budgeting issues. Must be cautious when dealing with them in the future. Since order shipped already we must discuss who would cover the shipping charges.",
                                    "customerNumber": "496",
                                    "productCode": "S50_1341",
                                    "quantityOrdered": "34",
                                    "priceEach": "43.20",
                                    "orderLineNumber": "7",
                                    "productName": "1930 Buick Marquette Phaeton",
                                    "productLine": "Vintage Cars",
                                    "productScale": "1:50",
                                    "productVendor": "Studio M Art Models",
                                    "productDescription": "Features opening trunk,  working steering system",
                                    "quantityInStock": "7062",
                                    "buyPrice": "27.06",
                                    "MSRP": "43.64",
                                    "checkNumber": "EU531600",
                                    "paymentDate": "2005-05-25",
                                    "amount": "30253.75",
                                    "totalprice": "1468.80"
                                },
                                {
                                    "orderNumber": "10179",
                                    "orderDate": "2003-11-11",
                                    "requiredDate": "2003-11-17",
                                    "shippedDate": "2003-11-13",
                                    "status": "Cancelled",
                                    "comments": "Customer cancelled due to urgent budgeting issues. Must be cautious when dealing with them in the future. Since order shipped already we must discuss who would cover the shipping charges.",
                                    "customerNumber": "496",
                                    "productCode": "S32_4289",
                                    "quantityOrdered": "24",
                                    "priceEach": "63.97",
                                    "orderLineNumber": "6",
                                    "productName": "1928 Ford Phaeton Deluxe",
                                    "productLine": "Vintage Cars",
                                    "productScale": "1:32",
                                    "productVendor": "Highway 66 Mini Classics",
                                    "productDescription": "This model features grille-mounted chrome horn, lift-up louvered hood, fold-down rumble seat, working steering system",
                                    "quantityInStock": "136",
                                    "buyPrice": "33.02",
                                    "MSRP": "68.79",
                                    "checkNumber": "MB342426",
                                    "paymentDate": "2003-07-16",
                                    "amount": "32077.44",
                                    "totalprice": "1535.28"
                                },
                                {
                                    "orderNumber": "10179",
                                    "orderDate": "2003-11-11",
                                    "requiredDate": "2003-11-17",
                                    "shippedDate": "2003-11-13",
                                    "status": "Cancelled",
                                    "comments": "Customer cancelled due to urgent budgeting issues. Must be cautious when dealing with them in the future. Since order shipped already we must discuss who would cover the shipping charges.",
                                    "customerNumber": "496",
                                    "productCode": "S50_1341",
                                    "quantityOrdered": "34",
                                    "priceEach": "43.20",
                                    "orderLineNumber": "7",
                                    "productName": "1930 Buick Marquette Phaeton",
                                    "productLine": "Vintage Cars",
                                    "productScale": "1:50",
                                    "productVendor": "Studio M Art Models",
                                    "productDescription": "Features opening trunk,  working steering system",
                                    "quantityInStock": "7062",
                                    "buyPrice": "27.06",
                                    "MSRP": "43.64",
                                    "checkNumber": "MB342426",
                                    "paymentDate": "2003-07-16",
                                    "amount": "32077.44",
                                    "totalprice": "1468.80"
                                },
                                {
                                    "orderNumber": "10179",
                                    "orderDate": "2003-11-11",
                                    "requiredDate": "2003-11-17",
                                    "shippedDate": "2003-11-13",
                                    "status": "Cancelled",
                                    "comments": "Customer cancelled due to urgent budgeting issues. Must be cautious when dealing with them in the future. Since order shipped already we must discuss who would cover the shipping charges.",
                                    "customerNumber": "496",
                                    "productCode": "S32_4289",
                                    "quantityOrdered": "24",
                                    "priceEach": "63.97",
                                    "orderLineNumber": "6",
                                    "productName": "1928 Ford Phaeton Deluxe",
                                    "productLine": "Vintage Cars",
                                    "productScale": "1:32",
                                    "productVendor": "Highway 66 Mini Classics",
                                    "productDescription": "This model features grille-mounted chrome horn, lift-up louvered hood, fold-down rumble seat, working steering system",
                                    "quantityInStock": "136",
                                    "buyPrice": "33.02",
                                    "MSRP": "68.79",
                                    "checkNumber": "MN89921",
                                    "paymentDate": "2004-12-31",
                                    "amount": "52166.00",
                                    "totalprice": "1535.28"
                                },
                                {
                                    "orderNumber": "10179",
                                    "orderDate": "2003-11-11",
                                    "requiredDate": "2003-11-17",
                                    "shippedDate": "2003-11-13",
                                    "status": "Cancelled",
                                    "comments": "Customer cancelled due to urgent budgeting issues. Must be cautious when dealing with them in the future. Since order shipped already we must discuss who would cover the shipping charges.",
                                    "customerNumber": "496",
                                    "productCode": "S50_1341",
                                    "quantityOrdered": "34",
                                    "priceEach": "43.20",
                                    "orderLineNumber": "7",
                                    "productName": "1930 Buick Marquette Phaeton",
                                    "productLine": "Vintage Cars",
                                    "productScale": "1:50",
                                    "productVendor": "Studio M Art Models",
                                    "productDescription": "Features opening trunk,  working steering system",
                                    "quantityInStock": "7062",
                                    "buyPrice": "27.06",
                                    "MSRP": "43.64",
                                    "checkNumber": "MN89921",
                                    "paymentDate": "2004-12-31",
                                    "amount": "52166.00",
                                    "totalprice": "1468.80"
                                },
                                {
                                    "orderNumber": "10248",
                                    "orderDate": "2004-05-07",
                                    "requiredDate": "2004-05-14",
                                    "shippedDate": "NULL",
                                    "status": "Cancelled",
                                    "comments": "Order was mistakenly placed. The warehouse noticed the lack of documentation.",
                                    "customerNumber": "131",
                                    "productCode": "S18_3140",
                                    "quantityOrdered": "32",
                                    "priceEach": "133.86",
                                    "orderLineNumber": "12",
                                    "productName": "1903 Ford Model A",
                                    "productLine": "Vintage Cars",
                                    "productScale": "1:18",
                                    "productVendor": "Unimax Art Galleries",
                                    "productDescription": "Features opening trunk,  working steering system",
                                    "quantityInStock": "3913",
                                    "buyPrice": "68.30",
                                    "MSRP": "136.59",
                                    "checkNumber": "CL442705",
                                    "paymentDate": "2003-03-12",
                                    "amount": "22292.62",
                                    "totalprice": "4283.52"
                                },
                                {
                                    "orderNumber": "10248",
                                    "orderDate": "2004-05-07",
                                    "requiredDate": "2004-05-14",
                                    "shippedDate": "NULL",
                                    "status": "Cancelled",
                                    "comments": "Order was mistakenly placed. The warehouse noticed the lack of documentation.",
                                    "customerNumber": "131",
                                    "productCode": "S18_4522",
                                    "quantityOrdered": "42",
                                    "priceEach": "87.77",
                                    "orderLineNumber": "11",
                                    "productName": "1904 Buick Runabout",
                                    "productLine": "Vintage Cars",
                                    "productScale": "1:18",
                                    "productVendor": "Exoto Designs",
                                    "productDescription": "Features opening trunk,  working steering system",
                                    "quantityInStock": "8290",
                                    "buyPrice": "52.66",
                                    "MSRP": "87.77",
                                    "checkNumber": "CL442705",
                                    "paymentDate": "2003-03-12",
                                    "amount": "22292.62",
                                    "totalprice": "3686.34"
                                },
                                {
                                    "orderNumber": "10248",
                                    "orderDate": "2004-05-07",
                                    "requiredDate": "2004-05-14",
                                    "shippedDate": "NULL",
                                    "status": "Cancelled",
                                    "comments": "Order was mistakenly placed. The warehouse noticed the lack of documentation.",
                                    "customerNumber": "131",
                                    "productCode": "S24_3151",
                                    "quantityOrdered": "30",
                                    "priceEach": "85.85",
                                    "orderLineNumber": "5",
                                    "productName": "1912 Ford Model T Delivery Wagon",
                                    "productLine": "Vintage Cars",
                                    "productScale": "1:24",
                                    "productVendor": "Min Lin Diecast",
                                    "productDescription": "This model features chrome trim and grille, opening hood, opening doors, opening trunk, detailed engine, working steering system. Color white.",
                                    "quantityInStock": "9173",
                                    "buyPrice": "46.91",
                                    "MSRP": "88.51",
                                    "checkNumber": "CL442705",
                                    "paymentDate": "2003-03-12",
                                    "amount": "22292.62",
                                    "totalprice": "2575.50"
                                },
                                {
                                    "orderNumber": "10248",
                                    "orderDate": "2004-05-07",
                                    "requiredDate": "2004-05-14",
                                    "shippedDate": "NULL",
                                    "status": "Cancelled",
                                    "comments": "Order was mistakenly placed. The warehouse noticed the lack of documentation.",
                                    "customerNumber": "131",
                                    "productCode": "S24_3816",
                                    "quantityOrdered": "23",
                                    "priceEach": "83.02",
                                    "orderLineNumber": "2",
                                    "productName": "1940 Ford Delivery Sedan",
                                    "productLine": "Vintage Cars",
                                    "productScale": "1:24",
                                    "productVendor": "Carousel DieCast Legends",
                                    "productDescription": "Chrome Trim, Chrome Grille, Opening Hood, Opening Doors, Opening Trunk, Detailed Engine, Working Steering System. Color black.",
                                    "quantityInStock": "6621",
                                    "buyPrice": "48.64",
                                    "MSRP": "83.86",
                                    "checkNumber": "CL442705",
                                    "paymentDate": "2003-03-12",
                                    "amount": "22292.62",
                                    "totalprice": "1909.46"
                                },
                                {
                                    "orderNumber": "10248",
                                    "orderDate": "2004-05-07",
                                    "requiredDate": "2004-05-14",
                                    "shippedDate": "NULL",
                                    "status": "Cancelled",
                                    "comments": "Order was mistakenly placed. The warehouse noticed the lack of documentation.",
                                    "customerNumber": "131",
                                    "productCode": "S18_3140",
                                    "quantityOrdered": "32",
                                    "priceEach": "133.86",
                                    "orderLineNumber": "12",
                                    "productName": "1903 Ford Model A",
                                    "productLine": "Vintage Cars",
                                    "productScale": "1:18",
                                    "productVendor": "Unimax Art Galleries",
                                    "productDescription": "Features opening trunk,  working steering system",
                                    "quantityInStock": "3913",
                                    "buyPrice": "68.30",
                                    "MSRP": "136.59",
                                    "checkNumber": "MA724562",
                                    "paymentDate": "2004-12-02",
                                    "amount": "50025.35",
                                    "totalprice": "4283.52"
                                },
                                {
                                    "orderNumber": "10248",
                                    "orderDate": "2004-05-07",
                                    "requiredDate": "2004-05-14",
                                    "shippedDate": "NULL",
                                    "status": "Cancelled",
                                    "comments": "Order was mistakenly placed. The warehouse noticed the lack of documentation.",
                                    "customerNumber": "131",
                                    "productCode": "S18_4522",
                                    "quantityOrdered": "42",
                                    "priceEach": "87.77",
                                    "orderLineNumber": "11",
                                    "productName": "1904 Buick Runabout",
                                    "productLine": "Vintage Cars",
                                    "productScale": "1:18",
                                    "productVendor": "Exoto Designs",
                                    "productDescription": "Features opening trunk,  working steering system",
                                    "quantityInStock": "8290",
                                    "buyPrice": "52.66",
                                    "MSRP": "87.77",
                                    "checkNumber": "MA724562",
                                    "paymentDate": "2004-12-02",
                                    "amount": "50025.35",
                                    "totalprice": "3686.34"
                                },
                                {
                                    "orderNumber": "10248",
                                    "orderDate": "2004-05-07",
                                    "requiredDate": "2004-05-14",
                                    "shippedDate": "NULL",
                                    "status": "Cancelled",
                                    "comments": "Order was mistakenly placed. The warehouse noticed the lack of documentation.",
                                    "customerNumber": "131",
                                    "productCode": "S24_3151",
                                    "quantityOrdered": "30",
                                    "priceEach": "85.85",
                                    "orderLineNumber": "5",
                                    "productName": "1912 Ford Model T Delivery Wagon",
                                    "productLine": "Vintage Cars",
                                    "productScale": "1:24",
                                    "productVendor": "Min Lin Diecast",
                                    "productDescription": "This model features chrome trim and grille, opening hood, opening doors, opening trunk, detailed engine, working steering system. Color white.",
                                    "quantityInStock": "9173",
                                    "buyPrice": "46.91",
                                    "MSRP": "88.51",
                                    "checkNumber": "MA724562",
                                    "paymentDate": "2004-12-02",
                                    "amount": "50025.35",
                                    "totalprice": "2575.50"
                                },
                                {
                                    "orderNumber": "10248",
                                    "orderDate": "2004-05-07",
                                    "requiredDate": "2004-05-14",
                                    "shippedDate": "NULL",
                                    "status": "Cancelled",
                                    "comments": "Order was mistakenly placed. The warehouse noticed the lack of documentation.",
                                    "customerNumber": "131",
                                    "productCode": "S24_3816",
                                    "quantityOrdered": "23",
                                    "priceEach": "83.02",
                                    "orderLineNumber": "2",
                                    "productName": "1940 Ford Delivery Sedan",
                                    "productLine": "Vintage Cars",
                                    "productScale": "1:24",
                                    "productVendor": "Carousel DieCast Legends",
                                    "productDescription": "Chrome Trim, Chrome Grille, Opening Hood, Opening Doors, Opening Trunk, Detailed Engine, Working Steering System. Color black.",
                                    "quantityInStock": "6621",
                                    "buyPrice": "48.64",
                                    "MSRP": "83.86",
                                    "checkNumber": "MA724562",
                                    "paymentDate": "2004-12-02",
                                    "amount": "50025.35",
                                    "totalprice": "1909.46"
                                },
                                {
                                    "orderNumber": "10248",
                                    "orderDate": "2004-05-07",
                                    "requiredDate": "2004-05-14",
                                    "shippedDate": "NULL",
                                    "status": "Cancelled",
                                    "comments": "Order was mistakenly placed. The warehouse noticed the lack of documentation.",
                                    "customerNumber": "131",
                                    "productCode": "S18_3140",
                                    "quantityOrdered": "32",
                                    "priceEach": "133.86",
                                    "orderLineNumber": "12",
                                    "productName": "1903 Ford Model A",
                                    "productLine": "Vintage Cars",
                                    "productScale": "1:18",
                                    "productVendor": "Unimax Art Galleries",
                                    "productDescription": "Features opening trunk,  working steering system",
                                    "quantityInStock": "3913",
                                    "buyPrice": "68.30",
                                    "MSRP": "136.59",
                                    "checkNumber": "NB445135",
                                    "paymentDate": "2004-09-11",
                                    "amount": "35321.97",
                                    "totalprice": "4283.52"
                                },
                                {
                                    "orderNumber": "10248",
                                    "orderDate": "2004-05-07",
                                    "requiredDate": "2004-05-14",
                                    "shippedDate": "NULL",
                                    "status": "Cancelled",
                                    "comments": "Order was mistakenly placed. The warehouse noticed the lack of documentation.",
                                    "customerNumber": "131",
                                    "productCode": "S18_4522",
                                    "quantityOrdered": "42",
                                    "priceEach": "87.77",
                                    "orderLineNumber": "11",
                                    "productName": "1904 Buick Runabout",
                                    "productLine": "Vintage Cars",
                                    "productScale": "1:18",
                                    "productVendor": "Exoto Designs",
                                    "productDescription": "Features opening trunk,  working steering system",
                                    "quantityInStock": "8290",
                                    "buyPrice": "52.66",
                                    "MSRP": "87.77",
                                    "checkNumber": "NB445135",
                                    "paymentDate": "2004-09-11",
                                    "amount": "35321.97",
                                    "totalprice": "3686.34"
                                },
                                {
                                    "orderNumber": "10248",
                                    "orderDate": "2004-05-07",
                                    "requiredDate": "2004-05-14",
                                    "shippedDate": "NULL",
                                    "status": "Cancelled",
                                    "comments": "Order was mistakenly placed. The warehouse noticed the lack of documentation.",
                                    "customerNumber": "131",
                                    "productCode": "S24_3151",
                                    "quantityOrdered": "30",
                                    "priceEach": "85.85",
                                    "orderLineNumber": "5",
                                    "productName": "1912 Ford Model T Delivery Wagon",
                                    "productLine": "Vintage Cars",
                                    "productScale": "1:24",
                                    "productVendor": "Min Lin Diecast",
                                    "productDescription": "This model features chrome trim and grille, opening hood, opening doors, opening trunk, detailed engine, working steering system. Color white.",
                                    "quantityInStock": "9173",
                                    "buyPrice": "46.91",
                                    "MSRP": "88.51",
                                    "checkNumber": "NB445135",
                                    "paymentDate": "2004-09-11",
                                    "amount": "35321.97",
                                    "totalprice": "2575.50"
                                },
                                {
                                    "orderNumber": "10248",
                                    "orderDate": "2004-05-07",
                                    "requiredDate": "2004-05-14",
                                    "shippedDate": "NULL",
                                    "status": "Cancelled",
                                    "comments": "Order was mistakenly placed. The warehouse noticed the lack of documentation.",
                                    "customerNumber": "131",
                                    "productCode": "S24_3816",
                                    "quantityOrdered": "23",
                                    "priceEach": "83.02",
                                    "orderLineNumber": "2",
                                    "productName": "1940 Ford Delivery Sedan",
                                    "productLine": "Vintage Cars",
                                    "productScale": "1:24",
                                    "productVendor": "Carousel DieCast Legends",
                                    "productDescription": "Chrome Trim, Chrome Grille, Opening Hood, Opening Doors, Opening Trunk, Detailed Engine, Working Steering System. Color black.",
                                    "quantityInStock": "6621",
                                    "buyPrice": "48.64",
                                    "MSRP": "83.86",
                                    "checkNumber": "NB445135",
                                    "paymentDate": "2004-09-11",
                                    "amount": "35321.97",
                                    "totalprice": "1909.46"
                                },
                                {
                                    "orderNumber": "10260",
                                    "orderDate": "2004-06-16",
                                    "requiredDate": "2004-06-22",
                                    "shippedDate": "NULL",
                                    "status": "Cancelled",
                                    "comments": "Customer heard complaints from their customers and called to cancel this order. Will notify the Sales Manager.",
                                    "customerNumber": "357",
                                    "productCode": "S18_3140",
                                    "quantityOrdered": "32",
                                    "priceEach": "121.57",
                                    "orderLineNumber": "1",
                                    "productName": "1903 Ford Model A",
                                    "productLine": "Vintage Cars",
                                    "productScale": "1:18",
                                    "productVendor": "Unimax Art Galleries",
                                    "productDescription": "Features opening trunk,  working steering system",
                                    "quantityInStock": "3913",
                                    "buyPrice": "68.30",
                                    "MSRP": "136.59",
                                    "checkNumber": "AG240323",
                                    "paymentDate": "2003-12-16",
                                    "amount": "20220.04",
                                    "totalprice": "3890.24"
                                },
                                {
                                    "orderNumber": "10260",
                                    "orderDate": "2004-06-16",
                                    "requiredDate": "2004-06-22",
                                    "shippedDate": "NULL",
                                    "status": "Cancelled",
                                    "comments": "Customer heard complaints from their customers and called to cancel this order. Will notify the Sales Manager.",
                                    "customerNumber": "357",
                                    "productCode": "S18_3140",
                                    "quantityOrdered": "32",
                                    "priceEach": "121.57",
                                    "orderLineNumber": "1",
                                    "productName": "1903 Ford Model A",
                                    "productLine": "Vintage Cars",
                                    "productScale": "1:18",
                                    "productVendor": "Unimax Art Galleries",
                                    "productDescription": "Features opening trunk,  working steering system",
                                    "quantityInStock": "3913",
                                    "buyPrice": "68.30",
                                    "MSRP": "136.59",
                                    "checkNumber": "NB291497",
                                    "paymentDate": "2004-05-15",
                                    "amount": "36442.34",
                                    "totalprice": "3890.24"
                                },
                                {
                                    "orderNumber": "10262",
                                    "orderDate": "2004-06-24",
                                    "requiredDate": "2004-07-01",
                                    "shippedDate": "NULL",
                                    "status": "Cancelled",
                                    "comments": "This customer found a better offer from one of our competitors. Will call back to renegotiate.",
                                    "customerNumber": "141",
                                    "productCode": "S18_3856",
                                    "quantityOrdered": "34",
                                    "priceEach": "85.75",
                                    "orderLineNumber": "14",
                                    "productName": "1941 Chevrolet Special Deluxe Cabriolet",
                                    "productLine": "Vintage Cars",
                                    "productScale": "1:18",
                                    "productVendor": "Exoto Designs",
                                    "productDescription": "Features opening hood, opening doors, opening trunk, wide white wall tires, front door arm rests, working steering system, leather upholstery. Color black.",
                                    "quantityInStock": "2378",
                                    "buyPrice": "64.58",
                                    "MSRP": "105.87",
                                    "checkNumber": "AU364101",
                                    "paymentDate": "2003-07-19",
                                    "amount": "36251.03",
                                    "totalprice": "2915.50"
                                },
                                {
                                    "orderNumber": "10262",
                                    "orderDate": "2004-06-24",
                                    "requiredDate": "2004-07-01",
                                    "shippedDate": "NULL",
                                    "status": "Cancelled",
                                    "comments": "This customer found a better offer from one of our competitors. Will call back to renegotiate.",
                                    "customerNumber": "141",
                                    "productCode": "S24_3420",
                                    "quantityOrdered": "46",
                                    "priceEach": "65.75",
                                    "orderLineNumber": "11",
                                    "productName": "1937 Horch 930V Limousine",
                                    "productLine": "Vintage Cars",
                                    "productScale": "1:24",
                                    "productVendor": "Autoart Studio Design",
                                    "productDescription": "Features opening hood, opening doors, opening trunk, wide white wall tires, front door arm rests, working steering system",
                                    "quantityInStock": "2902",
                                    "buyPrice": "26.30",
                                    "MSRP": "65.75",
                                    "checkNumber": "AU364101",
                                    "paymentDate": "2003-07-19",
                                    "amount": "36251.03",
                                    "totalprice": "3024.50"
                                },
                                {
                                    "orderNumber": "10262",
                                    "orderDate": "2004-06-24",
                                    "requiredDate": "2004-07-01",
                                    "shippedDate": "NULL",
                                    "status": "Cancelled",
                                    "comments": "This customer found a better offer from one of our competitors. Will call back to renegotiate.",
                                    "customerNumber": "141",
                                    "productCode": "S24_3816",
                                    "quantityOrdered": "49",
                                    "priceEach": "82.18",
                                    "orderLineNumber": "16",
                                    "productName": "1940 Ford Delivery Sedan",
                                    "productLine": "Vintage Cars",
                                    "productScale": "1:24",
                                    "productVendor": "Carousel DieCast Legends",
                                    "productDescription": "Chrome Trim, Chrome Grille, Opening Hood, Opening Doors, Opening Trunk, Detailed Engine, Working Steering System. Color black.",
                                    "quantityInStock": "6621",
                                    "buyPrice": "48.64",
                                    "MSRP": "83.86",
                                    "checkNumber": "AU364101",
                                    "paymentDate": "2003-07-19",
                                    "amount": "36251.03",
                                    "totalprice": "4026.82"
                                },
                                {
                                    "orderNumber": "10262",
                                    "orderDate": "2004-06-24",
                                    "requiredDate": "2004-07-01",
                                    "shippedDate": "NULL",
                                    "status": "Cancelled",
                                    "comments": "This customer found a better offer from one of our competitors. Will call back to renegotiate.",
                                    "customerNumber": "141",
                                    "productCode": "S32_4289",
                                    "quantityOrdered": "40",
                                    "priceEach": "63.97",
                                    "orderLineNumber": "2",
                                    "productName": "1928 Ford Phaeton Deluxe",
                                    "productLine": "Vintage Cars",
                                    "productScale": "1:32",
                                    "productVendor": "Highway 66 Mini Classics",
                                    "productDescription": "This model features grille-mounted chrome horn, lift-up louvered hood, fold-down rumble seat, working steering system",
                                    "quantityInStock": "136",
                                    "buyPrice": "33.02",
                                    "MSRP": "68.79",
                                    "checkNumber": "AU364101",
                                    "paymentDate": "2003-07-19",
                                    "amount": "36251.03",
                                    "totalprice": "2558.80"
                                },
                                {
                                    "orderNumber": "10262",
                                    "orderDate": "2004-06-24",
                                    "requiredDate": "2004-07-01",
                                    "shippedDate": "NULL",
                                    "status": "Cancelled",
                                    "comments": "This customer found a better offer from one of our competitors. Will call back to renegotiate.",
                                    "customerNumber": "141",
                                    "productCode": "S50_1341",
                                    "quantityOrdered": "49",
                                    "priceEach": "35.78",
                                    "orderLineNumber": "3",
                                    "productName": "1930 Buick Marquette Phaeton",
                                    "productLine": "Vintage Cars",
                                    "productScale": "1:50",
                                    "productVendor": "Studio M Art Models",
                                    "productDescription": "Features opening trunk,  working steering system",
                                    "quantityInStock": "7062",
                                    "buyPrice": "27.06",
                                    "MSRP": "43.64",
                                    "checkNumber": "AU364101",
                                    "paymentDate": "2003-07-19",
                                    "amount": "36251.03",
                                    "totalprice": "1753.22"
                                },
                                {
                                    "orderNumber": "10262",
                                    "orderDate": "2004-06-24",
                                    "requiredDate": "2004-07-01",
                                    "shippedDate": "NULL",
                                    "status": "Cancelled",
                                    "comments": "This customer found a better offer from one of our competitors. Will call back to renegotiate.",
                                    "customerNumber": "141",
                                    "productCode": "S18_3856",
                                    "quantityOrdered": "34",
                                    "priceEach": "85.75",
                                    "orderLineNumber": "14",
                                    "productName": "1941 Chevrolet Special Deluxe Cabriolet",
                                    "productLine": "Vintage Cars",
                                    "productScale": "1:18",
                                    "productVendor": "Exoto Designs",
                                    "productDescription": "Features opening hood, opening doors, opening trunk, wide white wall tires, front door arm rests, working steering system, leather upholstery. Color black.",
                                    "quantityInStock": "2378",
                                    "buyPrice": "64.58",
                                    "MSRP": "105.87",
                                    "checkNumber": "DB583216",
                                    "paymentDate": "2004-11-01",
                                    "amount": "36140.38",
                                    "totalprice": "2915.50"
                                },
                                {
                                    "orderNumber": "10262",
                                    "orderDate": "2004-06-24",
                                    "requiredDate": "2004-07-01",
                                    "shippedDate": "NULL",
                                    "status": "Cancelled",
                                    "comments": "This customer found a better offer from one of our competitors. Will call back to renegotiate.",
                                    "customerNumber": "141",
                                    "productCode": "S24_3420",
                                    "quantityOrdered": "46",
                                    "priceEach": "65.75",
                                    "orderLineNumber": "11",
                                    "productName": "1937 Horch 930V Limousine",
                                    "productLine": "Vintage Cars",
                                    "productScale": "1:24",
                                    "productVendor": "Autoart Studio Design",
                                    "productDescription": "Features opening hood, opening doors, opening trunk, wide white wall tires, front door arm rests, working steering system",
                                    "quantityInStock": "2902",
                                    "buyPrice": "26.30",
                                    "MSRP": "65.75",
                                    "checkNumber": "DB583216",
                                    "paymentDate": "2004-11-01",
                                    "amount": "36140.38",
                                    "totalprice": "3024.50"
                                },
                                {
                                    "orderNumber": "10262",
                                    "orderDate": "2004-06-24",
                                    "requiredDate": "2004-07-01",
                                    "shippedDate": "NULL",
                                    "status": "Cancelled",
                                    "comments": "This customer found a better offer from one of our competitors. Will call back to renegotiate.",
                                    "customerNumber": "141",
                                    "productCode": "S24_3816",
                                    "quantityOrdered": "49",
                                    "priceEach": "82.18",
                                    "orderLineNumber": "16",
                                    "productName": "1940 Ford Delivery Sedan",
                                    "productLine": "Vintage Cars",
                                    "productScale": "1:24",
                                    "productVendor": "Carousel DieCast Legends",
                                    "productDescription": "Chrome Trim, Chrome Grille, Opening Hood, Opening Doors, Opening Trunk, Detailed Engine, Working Steering System. Color black.",
                                    "quantityInStock": "6621",
                                    "buyPrice": "48.64",
                                    "MSRP": "83.86",
                                    "checkNumber": "DB583216",
                                    "paymentDate": "2004-11-01",
                                    "amount": "36140.38",
                                    "totalprice": "4026.82"
                                },
                                {
                                    "orderNumber": "10262",
                                    "orderDate": "2004-06-24",
                                    "requiredDate": "2004-07-01",
                                    "shippedDate": "NULL",
                                    "status": "Cancelled",
                                    "comments": "This customer found a better offer from one of our competitors. Will call back to renegotiate.",
                                    "customerNumber": "141",
                                    "productCode": "S32_4289",
                                    "quantityOrdered": "40",
                                    "priceEach": "63.97",
                                    "orderLineNumber": "2",
                                    "productName": "1928 Ford Phaeton Deluxe",
                                    "productLine": "Vintage Cars",
                                    "productScale": "1:32",
                                    "productVendor": "Highway 66 Mini Classics",
                                    "productDescription": "This model features grille-mounted chrome horn, lift-up louvered hood, fold-down rumble seat, working steering system",
                                    "quantityInStock": "136",
                                    "buyPrice": "33.02",
                                    "MSRP": "68.79",
                                    "checkNumber": "DB583216",
                                    "paymentDate": "2004-11-01",
                                    "amount": "36140.38",
                                    "totalprice": "2558.80"
                                },
                                {
                                    "orderNumber": "10262",
                                    "orderDate": "2004-06-24",
                                    "requiredDate": "2004-07-01",
                                    "shippedDate": "NULL",
                                    "status": "Cancelled",
                                    "comments": "This customer found a better offer from one of our competitors. Will call back to renegotiate.",
                                    "customerNumber": "141",
                                    "productCode": "S50_1341",
                                    "quantityOrdered": "49",
                                    "priceEach": "35.78",
                                    "orderLineNumber": "3",
                                    "productName": "1930 Buick Marquette Phaeton",
                                    "productLine": "Vintage Cars",
                                    "productScale": "1:50",
                                    "productVendor": "Studio M Art Models",
                                    "productDescription": "Features opening trunk,  working steering system",
                                    "quantityInStock": "7062",
                                    "buyPrice": "27.06",
                                    "MSRP": "43.64",
                                    "checkNumber": "DB583216",
                                    "paymentDate": "2004-11-01",
                                    "amount": "36140.38",
                                    "totalprice": "1753.22"
                                },
                                {
                                    "orderNumber": "10262",
                                    "orderDate": "2004-06-24",
                                    "requiredDate": "2004-07-01",
                                    "shippedDate": "NULL",
                                    "status": "Cancelled",
                                    "comments": "This customer found a better offer from one of our competitors. Will call back to renegotiate.",
                                    "customerNumber": "141",
                                    "productCode": "S18_3856",
                                    "quantityOrdered": "34",
                                    "priceEach": "85.75",
                                    "orderLineNumber": "14",
                                    "productName": "1941 Chevrolet Special Deluxe Cabriolet",
                                    "productLine": "Vintage Cars",
                                    "productScale": "1:18",
                                    "productVendor": "Exoto Designs",
                                    "productDescription": "Features opening hood, opening doors, opening trunk, wide white wall tires, front door arm rests, working steering system, leather upholstery. Color black.",
                                    "quantityInStock": "2378",
                                    "buyPrice": "64.58",
                                    "MSRP": "105.87",
                                    "checkNumber": "DL460618",
                                    "paymentDate": "2005-05-19",
                                    "amount": "46895.48",
                                    "totalprice": "2915.50"
                                },
                                {
                                    "orderNumber": "10262",
                                    "orderDate": "2004-06-24",
                                    "requiredDate": "2004-07-01",
                                    "shippedDate": "NULL",
                                    "status": "Cancelled",
                                    "comments": "This customer found a better offer from one of our competitors. Will call back to renegotiate.",
                                    "customerNumber": "141",
                                    "productCode": "S24_3420",
                                    "quantityOrdered": "46",
                                    "priceEach": "65.75",
                                    "orderLineNumber": "11",
                                    "productName": "1937 Horch 930V Limousine",
                                    "productLine": "Vintage Cars",
                                    "productScale": "1:24",
                                    "productVendor": "Autoart Studio Design",
                                    "productDescription": "Features opening hood, opening doors, opening trunk, wide white wall tires, front door arm rests, working steering system",
                                    "quantityInStock": "2902",
                                    "buyPrice": "26.30",
                                    "MSRP": "65.75",
                                    "checkNumber": "DL460618",
                                    "paymentDate": "2005-05-19",
                                    "amount": "46895.48",
                                    "totalprice": "3024.50"
                                },
                                {
                                    "orderNumber": "10262",
                                    "orderDate": "2004-06-24",
                                    "requiredDate": "2004-07-01",
                                    "shippedDate": "NULL",
                                    "status": "Cancelled",
                                    "comments": "This customer found a better offer from one of our competitors. Will call back to renegotiate.",
                                    "customerNumber": "141",
                                    "productCode": "S24_3816",
                                    "quantityOrdered": "49",
                                    "priceEach": "82.18",
                                    "orderLineNumber": "16",
                                    "productName": "1940 Ford Delivery Sedan",
                                    "productLine": "Vintage Cars",
                                    "productScale": "1:24",
                                    "productVendor": "Carousel DieCast Legends",
                                    "productDescription": "Chrome Trim, Chrome Grille, Opening Hood, Opening Doors, Opening Trunk, Detailed Engine, Working Steering System. Color black.",
                                    "quantityInStock": "6621",
                                    "buyPrice": "48.64",
                                    "MSRP": "83.86",
                                    "checkNumber": "DL460618",
                                    "paymentDate": "2005-05-19",
                                    "amount": "46895.48",
                                    "totalprice": "4026.82"
                                },
                                {
                                    "orderNumber": "10262",
                                    "orderDate": "2004-06-24",
                                    "requiredDate": "2004-07-01",
                                    "shippedDate": "NULL",
                                    "status": "Cancelled",
                                    "comments": "This customer found a better offer from one of our competitors. Will call back to renegotiate.",
                                    "customerNumber": "141",
                                    "productCode": "S32_4289",
                                    "quantityOrdered": "40",
                                    "priceEach": "63.97",
                                    "orderLineNumber": "2",
                                    "productName": "1928 Ford Phaeton Deluxe",
                                    "productLine": "Vintage Cars",
                                    "productScale": "1:32",
                                    "productVendor": "Highway 66 Mini Classics",
                                    "productDescription": "This model features grille-mounted chrome horn, lift-up louvered hood, fold-down rumble seat, working steering system",
                                    "quantityInStock": "136",
                                    "buyPrice": "33.02",
                                    "MSRP": "68.79",
                                    "checkNumber": "DL460618",
                                    "paymentDate": "2005-05-19",
                                    "amount": "46895.48",
                                    "totalprice": "2558.80"
                                },
                                {
                                    "orderNumber": "10262",
                                    "orderDate": "2004-06-24",
                                    "requiredDate": "2004-07-01",
                                    "shippedDate": "NULL",
                                    "status": "Cancelled",
                                    "comments": "This customer found a better offer from one of our competitors. Will call back to renegotiate.",
                                    "customerNumber": "141",
                                    "productCode": "S50_1341",
                                    "quantityOrdered": "49",
                                    "priceEach": "35.78",
                                    "orderLineNumber": "3",
                                    "productName": "1930 Buick Marquette Phaeton",
                                    "productLine": "Vintage Cars",
                                    "productScale": "1:50",
                                    "productVendor": "Studio M Art Models",
                                    "productDescription": "Features opening trunk,  working steering system",
                                    "quantityInStock": "7062",
                                    "buyPrice": "27.06",
                                    "MSRP": "43.64",
                                    "checkNumber": "DL460618",
                                    "paymentDate": "2005-05-19",
                                    "amount": "46895.48",
                                    "totalprice": "1753.22"
                                },
                                {
                                    "orderNumber": "10262",
                                    "orderDate": "2004-06-24",
                                    "requiredDate": "2004-07-01",
                                    "shippedDate": "NULL",
                                    "status": "Cancelled",
                                    "comments": "This customer found a better offer from one of our competitors. Will call back to renegotiate.",
                                    "customerNumber": "141",
                                    "productCode": "S18_3856",
                                    "quantityOrdered": "34",
                                    "priceEach": "85.75",
                                    "orderLineNumber": "14",
                                    "productName": "1941 Chevrolet Special Deluxe Cabriolet",
                                    "productLine": "Vintage Cars",
                                    "productScale": "1:18",
                                    "productVendor": "Exoto Designs",
                                    "productDescription": "Features opening hood, opening doors, opening trunk, wide white wall tires, front door arm rests, working steering system, leather upholstery. Color black.",
                                    "quantityInStock": "2378",
                                    "buyPrice": "64.58",
                                    "MSRP": "105.87",
                                    "checkNumber": "HJ32686",
                                    "paymentDate": "2004-01-30",
                                    "amount": "59830.55",
                                    "totalprice": "2915.50"
                                },
                                {
                                    "orderNumber": "10262",
                                    "orderDate": "2004-06-24",
                                    "requiredDate": "2004-07-01",
                                    "shippedDate": "NULL",
                                    "status": "Cancelled",
                                    "comments": "This customer found a better offer from one of our competitors. Will call back to renegotiate.",
                                    "customerNumber": "141",
                                    "productCode": "S24_3420",
                                    "quantityOrdered": "46",
                                    "priceEach": "65.75",
                                    "orderLineNumber": "11",
                                    "productName": "1937 Horch 930V Limousine",
                                    "productLine": "Vintage Cars",
                                    "productScale": "1:24",
                                    "productVendor": "Autoart Studio Design",
                                    "productDescription": "Features opening hood, opening doors, opening trunk, wide white wall tires, front door arm rests, working steering system",
                                    "quantityInStock": "2902",
                                    "buyPrice": "26.30",
                                    "MSRP": "65.75",
                                    "checkNumber": "HJ32686",
                                    "paymentDate": "2004-01-30",
                                    "amount": "59830.55",
                                    "totalprice": "3024.50"
                                },
                                {
                                    "orderNumber": "10262",
                                    "orderDate": "2004-06-24",
                                    "requiredDate": "2004-07-01",
                                    "shippedDate": "NULL",
                                    "status": "Cancelled",
                                    "comments": "This customer found a better offer from one of our competitors. Will call back to renegotiate.",
                                    "customerNumber": "141",
                                    "productCode": "S24_3816",
                                    "quantityOrdered": "49",
                                    "priceEach": "82.18",
                                    "orderLineNumber": "16",
                                    "productName": "1940 Ford Delivery Sedan",
                                    "productLine": "Vintage Cars",
                                    "productScale": "1:24",
                                    "productVendor": "Carousel DieCast Legends",
                                    "productDescription": "Chrome Trim, Chrome Grille, Opening Hood, Opening Doors, Opening Trunk, Detailed Engine, Working Steering System. Color black.",
                                    "quantityInStock": "6621",
                                    "buyPrice": "48.64",
                                    "MSRP": "83.86",
                                    "checkNumber": "HJ32686",
                                    "paymentDate": "2004-01-30",
                                    "amount": "59830.55",
                                    "totalprice": "4026.82"
                                },
                                {
                                    "orderNumber": "10262",
                                    "orderDate": "2004-06-24",
                                    "requiredDate": "2004-07-01",
                                    "shippedDate": "NULL",
                                    "status": "Cancelled",
                                    "comments": "This customer found a better offer from one of our competitors. Will call back to renegotiate.",
                                    "customerNumber": "141",
                                    "productCode": "S32_4289",
                                    "quantityOrdered": "40",
                                    "priceEach": "63.97",
                                    "orderLineNumber": "2",
                                    "productName": "1928 Ford Phaeton Deluxe",
                                    "productLine": "Vintage Cars",
                                    "productScale": "1:32",
                                    "productVendor": "Highway 66 Mini Classics",
                                    "productDescription": "This model features grille-mounted chrome horn, lift-up louvered hood, fold-down rumble seat, working steering system",
                                    "quantityInStock": "136",
                                    "buyPrice": "33.02",
                                    "MSRP": "68.79",
                                    "checkNumber": "HJ32686",
                                    "paymentDate": "2004-01-30",
                                    "amount": "59830.55",
                                    "totalprice": "2558.80"
                                },
                                {
                                    "orderNumber": "10262",
                                    "orderDate": "2004-06-24",
                                    "requiredDate": "2004-07-01",
                                    "shippedDate": "NULL",
                                    "status": "Cancelled",
                                    "comments": "This customer found a better offer from one of our competitors. Will call back to renegotiate.",
                                    "customerNumber": "141",
                                    "productCode": "S50_1341",
                                    "quantityOrdered": "49",
                                    "priceEach": "35.78",
                                    "orderLineNumber": "3",
                                    "productName": "1930 Buick Marquette Phaeton",
                                    "productLine": "Vintage Cars",
                                    "productScale": "1:50",
                                    "productVendor": "Studio M Art Models",
                                    "productDescription": "Features opening trunk,  working steering system",
                                    "quantityInStock": "7062",
                                    "buyPrice": "27.06",
                                    "MSRP": "43.64",
                                    "checkNumber": "HJ32686",
                                    "paymentDate": "2004-01-30",
                                    "amount": "59830.55",
                                    "totalprice": "1753.22"
                                },
                                {
                                    "orderNumber": "10262",
                                    "orderDate": "2004-06-24",
                                    "requiredDate": "2004-07-01",
                                    "shippedDate": "NULL",
                                    "status": "Cancelled",
                                    "comments": "This customer found a better offer from one of our competitors. Will call back to renegotiate.",
                                    "customerNumber": "141",
                                    "productCode": "S18_3856",
                                    "quantityOrdered": "34",
                                    "priceEach": "85.75",
                                    "orderLineNumber": "14",
                                    "productName": "1941 Chevrolet Special Deluxe Cabriolet",
                                    "productLine": "Vintage Cars",
                                    "productScale": "1:18",
                                    "productVendor": "Exoto Designs",
                                    "productDescription": "Features opening hood, opening doors, opening trunk, wide white wall tires, front door arm rests, working steering system, leather upholstery. Color black.",
                                    "quantityInStock": "2378",
                                    "buyPrice": "64.58",
                                    "MSRP": "105.87",
                                    "checkNumber": "ID10962",
                                    "paymentDate": "2004-12-31",
                                    "amount": "116208.40",
                                    "totalprice": "2915.50"
                                },
                                {
                                    "orderNumber": "10262",
                                    "orderDate": "2004-06-24",
                                    "requiredDate": "2004-07-01",
                                    "shippedDate": "NULL",
                                    "status": "Cancelled",
                                    "comments": "This customer found a better offer from one of our competitors. Will call back to renegotiate.",
                                    "customerNumber": "141",
                                    "productCode": "S24_3420",
                                    "quantityOrdered": "46",
                                    "priceEach": "65.75",
                                    "orderLineNumber": "11",
                                    "productName": "1937 Horch 930V Limousine",
                                    "productLine": "Vintage Cars",
                                    "productScale": "1:24",
                                    "productVendor": "Autoart Studio Design",
                                    "productDescription": "Features opening hood, opening doors, opening trunk, wide white wall tires, front door arm rests, working steering system",
                                    "quantityInStock": "2902",
                                    "buyPrice": "26.30",
                                    "MSRP": "65.75",
                                    "checkNumber": "ID10962",
                                    "paymentDate": "2004-12-31",
                                    "amount": "116208.40",
                                    "totalprice": "3024.50"
                                },
                                {
                                    "orderNumber": "10262",
                                    "orderDate": "2004-06-24",
                                    "requiredDate": "2004-07-01",
                                    "shippedDate": "NULL",
                                    "status": "Cancelled",
                                    "comments": "This customer found a better offer from one of our competitors. Will call back to renegotiate.",
                                    "customerNumber": "141",
                                    "productCode": "S24_3816",
                                    "quantityOrdered": "49",
                                    "priceEach": "82.18",
                                    "orderLineNumber": "16",
                                    "productName": "1940 Ford Delivery Sedan",
                                    "productLine": "Vintage Cars",
                                    "productScale": "1:24",
                                    "productVendor": "Carousel DieCast Legends",
                                    "productDescription": "Chrome Trim, Chrome Grille, Opening Hood, Opening Doors, Opening Trunk, Detailed Engine, Working Steering System. Color black.",
                                    "quantityInStock": "6621",
                                    "buyPrice": "48.64",
                                    "MSRP": "83.86",
                                    "checkNumber": "ID10962",
                                    "paymentDate": "2004-12-31",
                                    "amount": "116208.40",
                                    "totalprice": "4026.82"
                                },
                                {
                                    "orderNumber": "10262",
                                    "orderDate": "2004-06-24",
                                    "requiredDate": "2004-07-01",
                                    "shippedDate": "NULL",
                                    "status": "Cancelled",
                                    "comments": "This customer found a better offer from one of our competitors. Will call back to renegotiate.",
                                    "customerNumber": "141",
                                    "productCode": "S32_4289",
                                    "quantityOrdered": "40",
                                    "priceEach": "63.97",
                                    "orderLineNumber": "2",
                                    "productName": "1928 Ford Phaeton Deluxe",
                                    "productLine": "Vintage Cars",
                                    "productScale": "1:32",
                                    "productVendor": "Highway 66 Mini Classics",
                                    "productDescription": "This model features grille-mounted chrome horn, lift-up louvered hood, fold-down rumble seat, working steering system",
                                    "quantityInStock": "136",
                                    "buyPrice": "33.02",
                                    "MSRP": "68.79",
                                    "checkNumber": "ID10962",
                                    "paymentDate": "2004-12-31",
                                    "amount": "116208.40",
                                    "totalprice": "2558.80"
                                },
                                {
                                    "orderNumber": "10262",
                                    "orderDate": "2004-06-24",
                                    "requiredDate": "2004-07-01",
                                    "shippedDate": "NULL",
                                    "status": "Cancelled",
                                    "comments": "This customer found a better offer from one of our competitors. Will call back to renegotiate.",
                                    "customerNumber": "141",
                                    "productCode": "S50_1341",
                                    "quantityOrdered": "49",
                                    "priceEach": "35.78",
                                    "orderLineNumber": "3",
                                    "productName": "1930 Buick Marquette Phaeton",
                                    "productLine": "Vintage Cars",
                                    "productScale": "1:50",
                                    "productVendor": "Studio M Art Models",
                                    "productDescription": "Features opening trunk,  working steering system",
                                    "quantityInStock": "7062",
                                    "buyPrice": "27.06",
                                    "MSRP": "43.64",
                                    "checkNumber": "ID10962",
                                    "paymentDate": "2004-12-31",
                                    "amount": "116208.40",
                                    "totalprice": "1753.22"
                                },
                                {
                                    "orderNumber": "10262",
                                    "orderDate": "2004-06-24",
                                    "requiredDate": "2004-07-01",
                                    "shippedDate": "NULL",
                                    "status": "Cancelled",
                                    "comments": "This customer found a better offer from one of our competitors. Will call back to renegotiate.",
                                    "customerNumber": "141",
                                    "productCode": "S18_3856",
                                    "quantityOrdered": "34",
                                    "priceEach": "85.75",
                                    "orderLineNumber": "14",
                                    "productName": "1941 Chevrolet Special Deluxe Cabriolet",
                                    "productLine": "Vintage Cars",
                                    "productScale": "1:18",
                                    "productVendor": "Exoto Designs",
                                    "productDescription": "Features opening hood, opening doors, opening trunk, wide white wall tires, front door arm rests, working steering system, leather upholstery. Color black.",
                                    "quantityInStock": "2378",
                                    "buyPrice": "64.58",
                                    "MSRP": "105.87",
                                    "checkNumber": "IN446258",
                                    "paymentDate": "2005-03-25",
                                    "amount": "65071.26",
                                    "totalprice": "2915.50"
                                },
                                {
                                    "orderNumber": "10262",
                                    "orderDate": "2004-06-24",
                                    "requiredDate": "2004-07-01",
                                    "shippedDate": "NULL",
                                    "status": "Cancelled",
                                    "comments": "This customer found a better offer from one of our competitors. Will call back to renegotiate.",
                                    "customerNumber": "141",
                                    "productCode": "S24_3420",
                                    "quantityOrdered": "46",
                                    "priceEach": "65.75",
                                    "orderLineNumber": "11",
                                    "productName": "1937 Horch 930V Limousine",
                                    "productLine": "Vintage Cars",
                                    "productScale": "1:24",
                                    "productVendor": "Autoart Studio Design",
                                    "productDescription": "Features opening hood, opening doors, opening trunk, wide white wall tires, front door arm rests, working steering system",
                                    "quantityInStock": "2902",
                                    "buyPrice": "26.30",
                                    "MSRP": "65.75",
                                    "checkNumber": "IN446258",
                                    "paymentDate": "2005-03-25",
                                    "amount": "65071.26",
                                    "totalprice": "3024.50"
                                },
                                {
                                    "orderNumber": "10262",
                                    "orderDate": "2004-06-24",
                                    "requiredDate": "2004-07-01",
                                    "shippedDate": "NULL",
                                    "status": "Cancelled",
                                    "comments": "This customer found a better offer from one of our competitors. Will call back to renegotiate.",
                                    "customerNumber": "141",
                                    "productCode": "S24_3816",
                                    "quantityOrdered": "49",
                                    "priceEach": "82.18",
                                    "orderLineNumber": "16",
                                    "productName": "1940 Ford Delivery Sedan",
                                    "productLine": "Vintage Cars",
                                    "productScale": "1:24",
                                    "productVendor": "Carousel DieCast Legends",
                                    "productDescription": "Chrome Trim, Chrome Grille, Opening Hood, Opening Doors, Opening Trunk, Detailed Engine, Working Steering System. Color black.",
                                    "quantityInStock": "6621",
                                    "buyPrice": "48.64",
                                    "MSRP": "83.86",
                                    "checkNumber": "IN446258",
                                    "paymentDate": "2005-03-25",
                                    "amount": "65071.26",
                                    "totalprice": "4026.82"
                                },
                                {
                                    "orderNumber": "10262",
                                    "orderDate": "2004-06-24",
                                    "requiredDate": "2004-07-01",
                                    "shippedDate": "NULL",
                                    "status": "Cancelled",
                                    "comments": "This customer found a better offer from one of our competitors. Will call back to renegotiate.",
                                    "customerNumber": "141",
                                    "productCode": "S32_4289",
                                    "quantityOrdered": "40",
                                    "priceEach": "63.97",
                                    "orderLineNumber": "2",
                                    "productName": "1928 Ford Phaeton Deluxe",
                                    "productLine": "Vintage Cars",
                                    "productScale": "1:32",
                                    "productVendor": "Highway 66 Mini Classics",
                                    "productDescription": "This model features grille-mounted chrome horn, lift-up louvered hood, fold-down rumble seat, working steering system",
                                    "quantityInStock": "136",
                                    "buyPrice": "33.02",
                                    "MSRP": "68.79",
                                    "checkNumber": "IN446258",
                                    "paymentDate": "2005-03-25",
                                    "amount": "65071.26",
                                    "totalprice": "2558.80"
                                },
                                {
                                    "orderNumber": "10262",
                                    "orderDate": "2004-06-24",
                                    "requiredDate": "2004-07-01",
                                    "shippedDate": "NULL",
                                    "status": "Cancelled",
                                    "comments": "This customer found a better offer from one of our competitors. Will call back to renegotiate.",
                                    "customerNumber": "141",
                                    "productCode": "S50_1341",
                                    "quantityOrdered": "49",
                                    "priceEach": "35.78",
                                    "orderLineNumber": "3",
                                    "productName": "1930 Buick Marquette Phaeton",
                                    "productLine": "Vintage Cars",
                                    "productScale": "1:50",
                                    "productVendor": "Studio M Art Models",
                                    "productDescription": "Features opening trunk,  working steering system",
                                    "quantityInStock": "7062",
                                    "buyPrice": "27.06",
                                    "MSRP": "43.64",
                                    "checkNumber": "IN446258",
                                    "paymentDate": "2005-03-25",
                                    "amount": "65071.26",
                                    "totalprice": "1753.22"
                                },
                                {
                                    "orderNumber": "10262",
                                    "orderDate": "2004-06-24",
                                    "requiredDate": "2004-07-01",
                                    "shippedDate": "NULL",
                                    "status": "Cancelled",
                                    "comments": "This customer found a better offer from one of our competitors. Will call back to renegotiate.",
                                    "customerNumber": "141",
                                    "productCode": "S18_3856",
                                    "quantityOrdered": "34",
                                    "priceEach": "85.75",
                                    "orderLineNumber": "14",
                                    "productName": "1941 Chevrolet Special Deluxe Cabriolet",
                                    "productLine": "Vintage Cars",
                                    "productScale": "1:18",
                                    "productVendor": "Exoto Designs",
                                    "productDescription": "Features opening hood, opening doors, opening trunk, wide white wall tires, front door arm rests, working steering system, leather upholstery. Color black.",
                                    "quantityInStock": "2378",
                                    "buyPrice": "64.58",
                                    "MSRP": "105.87",
                                    "checkNumber": "JE105477",
                                    "paymentDate": "2005-03-18",
                                    "amount": "120166.58",
                                    "totalprice": "2915.50"
                                },
                                {
                                    "orderNumber": "10262",
                                    "orderDate": "2004-06-24",
                                    "requiredDate": "2004-07-01",
                                    "shippedDate": "NULL",
                                    "status": "Cancelled",
                                    "comments": "This customer found a better offer from one of our competitors. Will call back to renegotiate.",
                                    "customerNumber": "141",
                                    "productCode": "S24_3420",
                                    "quantityOrdered": "46",
                                    "priceEach": "65.75",
                                    "orderLineNumber": "11",
                                    "productName": "1937 Horch 930V Limousine",
                                    "productLine": "Vintage Cars",
                                    "productScale": "1:24",
                                    "productVendor": "Autoart Studio Design",
                                    "productDescription": "Features opening hood, opening doors, opening trunk, wide white wall tires, front door arm rests, working steering system",
                                    "quantityInStock": "2902",
                                    "buyPrice": "26.30",
                                    "MSRP": "65.75",
                                    "checkNumber": "JE105477",
                                    "paymentDate": "2005-03-18",
                                    "amount": "120166.58",
                                    "totalprice": "3024.50"
                                },
                                {
                                    "orderNumber": "10262",
                                    "orderDate": "2004-06-24",
                                    "requiredDate": "2004-07-01",
                                    "shippedDate": "NULL",
                                    "status": "Cancelled",
                                    "comments": "This customer found a better offer from one of our competitors. Will call back to renegotiate.",
                                    "customerNumber": "141",
                                    "productCode": "S24_3816",
                                    "quantityOrdered": "49",
                                    "priceEach": "82.18",
                                    "orderLineNumber": "16",
                                    "productName": "1940 Ford Delivery Sedan",
                                    "productLine": "Vintage Cars",
                                    "productScale": "1:24",
                                    "productVendor": "Carousel DieCast Legends",
                                    "productDescription": "Chrome Trim, Chrome Grille, Opening Hood, Opening Doors, Opening Trunk, Detailed Engine, Working Steering System. Color black.",
                                    "quantityInStock": "6621",
                                    "buyPrice": "48.64",
                                    "MSRP": "83.86",
                                    "checkNumber": "JE105477",
                                    "paymentDate": "2005-03-18",
                                    "amount": "120166.58",
                                    "totalprice": "4026.82"
                                },
                                {
                                    "orderNumber": "10262",
                                    "orderDate": "2004-06-24",
                                    "requiredDate": "2004-07-01",
                                    "shippedDate": "NULL",
                                    "status": "Cancelled",
                                    "comments": "This customer found a better offer from one of our competitors. Will call back to renegotiate.",
                                    "customerNumber": "141",
                                    "productCode": "S32_4289",
                                    "quantityOrdered": "40",
                                    "priceEach": "63.97",
                                    "orderLineNumber": "2",
                                    "productName": "1928 Ford Phaeton Deluxe",
                                    "productLine": "Vintage Cars",
                                    "productScale": "1:32",
                                    "productVendor": "Highway 66 Mini Classics",
                                    "productDescription": "This model features grille-mounted chrome horn, lift-up louvered hood, fold-down rumble seat, working steering system",
                                    "quantityInStock": "136",
                                    "buyPrice": "33.02",
                                    "MSRP": "68.79",
                                    "checkNumber": "JE105477",
                                    "paymentDate": "2005-03-18",
                                    "amount": "120166.58",
                                    "totalprice": "2558.80"
                                },
                                {
                                    "orderNumber": "10262",
                                    "orderDate": "2004-06-24",
                                    "requiredDate": "2004-07-01",
                                    "shippedDate": "NULL",
                                    "status": "Cancelled",
                                    "comments": "This customer found a better offer from one of our competitors. Will call back to renegotiate.",
                                    "customerNumber": "141",
                                    "productCode": "S50_1341",
                                    "quantityOrdered": "49",
                                    "priceEach": "35.78",
                                    "orderLineNumber": "3",
                                    "productName": "1930 Buick Marquette Phaeton",
                                    "productLine": "Vintage Cars",
                                    "productScale": "1:50",
                                    "productVendor": "Studio M Art Models",
                                    "productDescription": "Features opening trunk,  working steering system",
                                    "quantityInStock": "7062",
                                    "buyPrice": "27.06",
                                    "MSRP": "43.64",
                                    "checkNumber": "JE105477",
                                    "paymentDate": "2005-03-18",
                                    "amount": "120166.58",
                                    "totalprice": "1753.22"
                                },
                                {
                                    "orderNumber": "10262",
                                    "orderDate": "2004-06-24",
                                    "requiredDate": "2004-07-01",
                                    "shippedDate": "NULL",
                                    "status": "Cancelled",
                                    "comments": "This customer found a better offer from one of our competitors. Will call back to renegotiate.",
                                    "customerNumber": "141",
                                    "productCode": "S18_3856",
                                    "quantityOrdered": "34",
                                    "priceEach": "85.75",
                                    "orderLineNumber": "14",
                                    "productName": "1941 Chevrolet Special Deluxe Cabriolet",
                                    "productLine": "Vintage Cars",
                                    "productScale": "1:18",
                                    "productVendor": "Exoto Designs",
                                    "productDescription": "Features opening hood, opening doors, opening trunk, wide white wall tires, front door arm rests, working steering system, leather upholstery. Color black.",
                                    "quantityInStock": "2378",
                                    "buyPrice": "64.58",
                                    "MSRP": "105.87",
                                    "checkNumber": "JN355280",
                                    "paymentDate": "2003-10-26",
                                    "amount": "49539.37",
                                    "totalprice": "2915.50"
                                },
                                {
                                    "orderNumber": "10262",
                                    "orderDate": "2004-06-24",
                                    "requiredDate": "2004-07-01",
                                    "shippedDate": "NULL",
                                    "status": "Cancelled",
                                    "comments": "This customer found a better offer from one of our competitors. Will call back to renegotiate.",
                                    "customerNumber": "141",
                                    "productCode": "S24_3420",
                                    "quantityOrdered": "46",
                                    "priceEach": "65.75",
                                    "orderLineNumber": "11",
                                    "productName": "1937 Horch 930V Limousine",
                                    "productLine": "Vintage Cars",
                                    "productScale": "1:24",
                                    "productVendor": "Autoart Studio Design",
                                    "productDescription": "Features opening hood, opening doors, opening trunk, wide white wall tires, front door arm rests, working steering system",
                                    "quantityInStock": "2902",
                                    "buyPrice": "26.30",
                                    "MSRP": "65.75",
                                    "checkNumber": "JN355280",
                                    "paymentDate": "2003-10-26",
                                    "amount": "49539.37",
                                    "totalprice": "3024.50"
                                },
                                {
                                    "orderNumber": "10262",
                                    "orderDate": "2004-06-24",
                                    "requiredDate": "2004-07-01",
                                    "shippedDate": "NULL",
                                    "status": "Cancelled",
                                    "comments": "This customer found a better offer from one of our competitors. Will call back to renegotiate.",
                                    "customerNumber": "141",
                                    "productCode": "S24_3816",
                                    "quantityOrdered": "49",
                                    "priceEach": "82.18",
                                    "orderLineNumber": "16",
                                    "productName": "1940 Ford Delivery Sedan",
                                    "productLine": "Vintage Cars",
                                    "productScale": "1:24",
                                    "productVendor": "Carousel DieCast Legends",
                                    "productDescription": "Chrome Trim, Chrome Grille, Opening Hood, Opening Doors, Opening Trunk, Detailed Engine, Working Steering System. Color black.",
                                    "quantityInStock": "6621",
                                    "buyPrice": "48.64",
                                    "MSRP": "83.86",
                                    "checkNumber": "JN355280",
                                    "paymentDate": "2003-10-26",
                                    "amount": "49539.37",
                                    "totalprice": "4026.82"
                                },
                                {
                                    "orderNumber": "10262",
                                    "orderDate": "2004-06-24",
                                    "requiredDate": "2004-07-01",
                                    "shippedDate": "NULL",
                                    "status": "Cancelled",
                                    "comments": "This customer found a better offer from one of our competitors. Will call back to renegotiate.",
                                    "customerNumber": "141",
                                    "productCode": "S32_4289",
                                    "quantityOrdered": "40",
                                    "priceEach": "63.97",
                                    "orderLineNumber": "2",
                                    "productName": "1928 Ford Phaeton Deluxe",
                                    "productLine": "Vintage Cars",
                                    "productScale": "1:32",
                                    "productVendor": "Highway 66 Mini Classics",
                                    "productDescription": "This model features grille-mounted chrome horn, lift-up louvered hood, fold-down rumble seat, working steering system",
                                    "quantityInStock": "136",
                                    "buyPrice": "33.02",
                                    "MSRP": "68.79",
                                    "checkNumber": "JN355280",
                                    "paymentDate": "2003-10-26",
                                    "amount": "49539.37",
                                    "totalprice": "2558.80"
                                },
                                {
                                    "orderNumber": "10262",
                                    "orderDate": "2004-06-24",
                                    "requiredDate": "2004-07-01",
                                    "shippedDate": "NULL",
                                    "status": "Cancelled",
                                    "comments": "This customer found a better offer from one of our competitors. Will call back to renegotiate.",
                                    "customerNumber": "141",
                                    "productCode": "S50_1341",
                                    "quantityOrdered": "49",
                                    "priceEach": "35.78",
                                    "orderLineNumber": "3",
                                    "productName": "1930 Buick Marquette Phaeton",
                                    "productLine": "Vintage Cars",
                                    "productScale": "1:50",
                                    "productVendor": "Studio M Art Models",
                                    "productDescription": "Features opening trunk,  working steering system",
                                    "quantityInStock": "7062",
                                    "buyPrice": "27.06",
                                    "MSRP": "43.64",
                                    "checkNumber": "JN355280",
                                    "paymentDate": "2003-10-26",
                                    "amount": "49539.37",
                                    "totalprice": "1753.22"
                                },
                                {
                                    "orderNumber": "10262",
                                    "orderDate": "2004-06-24",
                                    "requiredDate": "2004-07-01",
                                    "shippedDate": "NULL",
                                    "status": "Cancelled",
                                    "comments": "This customer found a better offer from one of our competitors. Will call back to renegotiate.",
                                    "customerNumber": "141",
                                    "productCode": "S18_3856",
                                    "quantityOrdered": "34",
                                    "priceEach": "85.75",
                                    "orderLineNumber": "14",
                                    "productName": "1941 Chevrolet Special Deluxe Cabriolet",
                                    "productLine": "Vintage Cars",
                                    "productScale": "1:18",
                                    "productVendor": "Exoto Designs",
                                    "productDescription": "Features opening hood, opening doors, opening trunk, wide white wall tires, front door arm rests, working steering system, leather upholstery. Color black.",
                                    "quantityInStock": "2378",
                                    "buyPrice": "64.58",
                                    "MSRP": "105.87",
                                    "checkNumber": "JN722010",
                                    "paymentDate": "2003-02-25",
                                    "amount": "40206.20",
                                    "totalprice": "2915.50"
                                },
                                {
                                    "orderNumber": "10262",
                                    "orderDate": "2004-06-24",
                                    "requiredDate": "2004-07-01",
                                    "shippedDate": "NULL",
                                    "status": "Cancelled",
                                    "comments": "This customer found a better offer from one of our competitors. Will call back to renegotiate.",
                                    "customerNumber": "141",
                                    "productCode": "S24_3420",
                                    "quantityOrdered": "46",
                                    "priceEach": "65.75",
                                    "orderLineNumber": "11",
                                    "productName": "1937 Horch 930V Limousine",
                                    "productLine": "Vintage Cars",
                                    "productScale": "1:24",
                                    "productVendor": "Autoart Studio Design",
                                    "productDescription": "Features opening hood, opening doors, opening trunk, wide white wall tires, front door arm rests, working steering system",
                                    "quantityInStock": "2902",
                                    "buyPrice": "26.30",
                                    "MSRP": "65.75",
                                    "checkNumber": "JN722010",
                                    "paymentDate": "2003-02-25",
                                    "amount": "40206.20",
                                    "totalprice": "3024.50"
                                },
                                {
                                    "orderNumber": "10262",
                                    "orderDate": "2004-06-24",
                                    "requiredDate": "2004-07-01",
                                    "shippedDate": "NULL",
                                    "status": "Cancelled",
                                    "comments": "This customer found a better offer from one of our competitors. Will call back to renegotiate.",
                                    "customerNumber": "141",
                                    "productCode": "S24_3816",
                                    "quantityOrdered": "49",
                                    "priceEach": "82.18",
                                    "orderLineNumber": "16",
                                    "productName": "1940 Ford Delivery Sedan",
                                    "productLine": "Vintage Cars",
                                    "productScale": "1:24",
                                    "productVendor": "Carousel DieCast Legends",
                                    "productDescription": "Chrome Trim, Chrome Grille, Opening Hood, Opening Doors, Opening Trunk, Detailed Engine, Working Steering System. Color black.",
                                    "quantityInStock": "6621",
                                    "buyPrice": "48.64",
                                    "MSRP": "83.86",
                                    "checkNumber": "JN722010",
                                    "paymentDate": "2003-02-25",
                                    "amount": "40206.20",
                                    "totalprice": "4026.82"
                                },
                                {
                                    "orderNumber": "10262",
                                    "orderDate": "2004-06-24",
                                    "requiredDate": "2004-07-01",
                                    "shippedDate": "NULL",
                                    "status": "Cancelled",
                                    "comments": "This customer found a better offer from one of our competitors. Will call back to renegotiate.",
                                    "customerNumber": "141",
                                    "productCode": "S32_4289",
                                    "quantityOrdered": "40",
                                    "priceEach": "63.97",
                                    "orderLineNumber": "2",
                                    "productName": "1928 Ford Phaeton Deluxe",
                                    "productLine": "Vintage Cars",
                                    "productScale": "1:32",
                                    "productVendor": "Highway 66 Mini Classics",
                                    "productDescription": "This model features grille-mounted chrome horn, lift-up louvered hood, fold-down rumble seat, working steering system",
                                    "quantityInStock": "136",
                                    "buyPrice": "33.02",
                                    "MSRP": "68.79",
                                    "checkNumber": "JN722010",
                                    "paymentDate": "2003-02-25",
                                    "amount": "40206.20",
                                    "totalprice": "2558.80"
                                },
                                {
                                    "orderNumber": "10262",
                                    "orderDate": "2004-06-24",
                                    "requiredDate": "2004-07-01",
                                    "shippedDate": "NULL",
                                    "status": "Cancelled",
                                    "comments": "This customer found a better offer from one of our competitors. Will call back to renegotiate.",
                                    "customerNumber": "141",
                                    "productCode": "S50_1341",
                                    "quantityOrdered": "49",
                                    "priceEach": "35.78",
                                    "orderLineNumber": "3",
                                    "productName": "1930 Buick Marquette Phaeton",
                                    "productLine": "Vintage Cars",
                                    "productScale": "1:50",
                                    "productVendor": "Studio M Art Models",
                                    "productDescription": "Features opening trunk,  working steering system",
                                    "quantityInStock": "7062",
                                    "buyPrice": "27.06",
                                    "MSRP": "43.64",
                                    "checkNumber": "JN722010",
                                    "paymentDate": "2003-02-25",
                                    "amount": "40206.20",
                                    "totalprice": "1753.22"
                                },
                                {
                                    "orderNumber": "10262",
                                    "orderDate": "2004-06-24",
                                    "requiredDate": "2004-07-01",
                                    "shippedDate": "NULL",
                                    "status": "Cancelled",
                                    "comments": "This customer found a better offer from one of our competitors. Will call back to renegotiate.",
                                    "customerNumber": "141",
                                    "productCode": "S18_3856",
                                    "quantityOrdered": "34",
                                    "priceEach": "85.75",
                                    "orderLineNumber": "14",
                                    "productName": "1941 Chevrolet Special Deluxe Cabriolet",
                                    "productLine": "Vintage Cars",
                                    "productScale": "1:18",
                                    "productVendor": "Exoto Designs",
                                    "productDescription": "Features opening hood, opening doors, opening trunk, wide white wall tires, front door arm rests, working steering system, leather upholstery. Color black.",
                                    "quantityInStock": "2378",
                                    "buyPrice": "64.58",
                                    "MSRP": "105.87",
                                    "checkNumber": "KT52578",
                                    "paymentDate": "2003-12-09",
                                    "amount": "63843.55",
                                    "totalprice": "2915.50"
                                },
                                {
                                    "orderNumber": "10262",
                                    "orderDate": "2004-06-24",
                                    "requiredDate": "2004-07-01",
                                    "shippedDate": "NULL",
                                    "status": "Cancelled",
                                    "comments": "This customer found a better offer from one of our competitors. Will call back to renegotiate.",
                                    "customerNumber": "141",
                                    "productCode": "S24_3420",
                                    "quantityOrdered": "46",
                                    "priceEach": "65.75",
                                    "orderLineNumber": "11",
                                    "productName": "1937 Horch 930V Limousine",
                                    "productLine": "Vintage Cars",
                                    "productScale": "1:24",
                                    "productVendor": "Autoart Studio Design",
                                    "productDescription": "Features opening hood, opening doors, opening trunk, wide white wall tires, front door arm rests, working steering system",
                                    "quantityInStock": "2902",
                                    "buyPrice": "26.30",
                                    "MSRP": "65.75",
                                    "checkNumber": "KT52578",
                                    "paymentDate": "2003-12-09",
                                    "amount": "63843.55",
                                    "totalprice": "3024.50"
                                },
                                {
                                    "orderNumber": "10262",
                                    "orderDate": "2004-06-24",
                                    "requiredDate": "2004-07-01",
                                    "shippedDate": "NULL",
                                    "status": "Cancelled",
                                    "comments": "This customer found a better offer from one of our competitors. Will call back to renegotiate.",
                                    "customerNumber": "141",
                                    "productCode": "S24_3816",
                                    "quantityOrdered": "49",
                                    "priceEach": "82.18",
                                    "orderLineNumber": "16",
                                    "productName": "1940 Ford Delivery Sedan",
                                    "productLine": "Vintage Cars",
                                    "productScale": "1:24",
                                    "productVendor": "Carousel DieCast Legends",
                                    "productDescription": "Chrome Trim, Chrome Grille, Opening Hood, Opening Doors, Opening Trunk, Detailed Engine, Working Steering System. Color black.",
                                    "quantityInStock": "6621",
                                    "buyPrice": "48.64",
                                    "MSRP": "83.86",
                                    "checkNumber": "KT52578",
                                    "paymentDate": "2003-12-09",
                                    "amount": "63843.55",
                                    "totalprice": "4026.82"
                                },
                                {
                                    "orderNumber": "10262",
                                    "orderDate": "2004-06-24",
                                    "requiredDate": "2004-07-01",
                                    "shippedDate": "NULL",
                                    "status": "Cancelled",
                                    "comments": "This customer found a better offer from one of our competitors. Will call back to renegotiate.",
                                    "customerNumber": "141",
                                    "productCode": "S32_4289",
                                    "quantityOrdered": "40",
                                    "priceEach": "63.97",
                                    "orderLineNumber": "2",
                                    "productName": "1928 Ford Phaeton Deluxe",
                                    "productLine": "Vintage Cars",
                                    "productScale": "1:32",
                                    "productVendor": "Highway 66 Mini Classics",
                                    "productDescription": "This model features grille-mounted chrome horn, lift-up louvered hood, fold-down rumble seat, working steering system",
                                    "quantityInStock": "136",
                                    "buyPrice": "33.02",
                                    "MSRP": "68.79",
                                    "checkNumber": "KT52578",
                                    "paymentDate": "2003-12-09",
                                    "amount": "63843.55",
                                    "totalprice": "2558.80"
                                },
                                {
                                    "orderNumber": "10262",
                                    "orderDate": "2004-06-24",
                                    "requiredDate": "2004-07-01",
                                    "shippedDate": "NULL",
                                    "status": "Cancelled",
                                    "comments": "This customer found a better offer from one of our competitors. Will call back to renegotiate.",
                                    "customerNumber": "141",
                                    "productCode": "S50_1341",
                                    "quantityOrdered": "49",
                                    "priceEach": "35.78",
                                    "orderLineNumber": "3",
                                    "productName": "1930 Buick Marquette Phaeton",
                                    "productLine": "Vintage Cars",
                                    "productScale": "1:50",
                                    "productVendor": "Studio M Art Models",
                                    "productDescription": "Features opening trunk,  working steering system",
                                    "quantityInStock": "7062",
                                    "buyPrice": "27.06",
                                    "MSRP": "43.64",
                                    "checkNumber": "KT52578",
                                    "paymentDate": "2003-12-09",
                                    "amount": "63843.55",
                                    "totalprice": "1753.22"
                                },
                                {
                                    "orderNumber": "10262",
                                    "orderDate": "2004-06-24",
                                    "requiredDate": "2004-07-01",
                                    "shippedDate": "NULL",
                                    "status": "Cancelled",
                                    "comments": "This customer found a better offer from one of our competitors. Will call back to renegotiate.",
                                    "customerNumber": "141",
                                    "productCode": "S18_3856",
                                    "quantityOrdered": "34",
                                    "priceEach": "85.75",
                                    "orderLineNumber": "14",
                                    "productName": "1941 Chevrolet Special Deluxe Cabriolet",
                                    "productLine": "Vintage Cars",
                                    "productScale": "1:18",
                                    "productVendor": "Exoto Designs",
                                    "productDescription": "Features opening hood, opening doors, opening trunk, wide white wall tires, front door arm rests, working steering system, leather upholstery. Color black.",
                                    "quantityInStock": "2378",
                                    "buyPrice": "64.58",
                                    "MSRP": "105.87",
                                    "checkNumber": "MC46946",
                                    "paymentDate": "2004-07-09",
                                    "amount": "35420.74",
                                    "totalprice": "2915.50"
                                },
                                {
                                    "orderNumber": "10262",
                                    "orderDate": "2004-06-24",
                                    "requiredDate": "2004-07-01",
                                    "shippedDate": "NULL",
                                    "status": "Cancelled",
                                    "comments": "This customer found a better offer from one of our competitors. Will call back to renegotiate.",
                                    "customerNumber": "141",
                                    "productCode": "S24_3420",
                                    "quantityOrdered": "46",
                                    "priceEach": "65.75",
                                    "orderLineNumber": "11",
                                    "productName": "1937 Horch 930V Limousine",
                                    "productLine": "Vintage Cars",
                                    "productScale": "1:24",
                                    "productVendor": "Autoart Studio Design",
                                    "productDescription": "Features opening hood, opening doors, opening trunk, wide white wall tires, front door arm rests, working steering system",
                                    "quantityInStock": "2902",
                                    "buyPrice": "26.30",
                                    "MSRP": "65.75",
                                    "checkNumber": "MC46946",
                                    "paymentDate": "2004-07-09",
                                    "amount": "35420.74",
                                    "totalprice": "3024.50"
                                },
                                {
                                    "orderNumber": "10262",
                                    "orderDate": "2004-06-24",
                                    "requiredDate": "2004-07-01",
                                    "shippedDate": "NULL",
                                    "status": "Cancelled",
                                    "comments": "This customer found a better offer from one of our competitors. Will call back to renegotiate.",
                                    "customerNumber": "141",
                                    "productCode": "S24_3816",
                                    "quantityOrdered": "49",
                                    "priceEach": "82.18",
                                    "orderLineNumber": "16",
                                    "productName": "1940 Ford Delivery Sedan",
                                    "productLine": "Vintage Cars",
                                    "productScale": "1:24",
                                    "productVendor": "Carousel DieCast Legends",
                                    "productDescription": "Chrome Trim, Chrome Grille, Opening Hood, Opening Doors, Opening Trunk, Detailed Engine, Working Steering System. Color black.",
                                    "quantityInStock": "6621",
                                    "buyPrice": "48.64",
                                    "MSRP": "83.86",
                                    "checkNumber": "MC46946",
                                    "paymentDate": "2004-07-09",
                                    "amount": "35420.74",
                                    "totalprice": "4026.82"
                                },
                                {
                                    "orderNumber": "10262",
                                    "orderDate": "2004-06-24",
                                    "requiredDate": "2004-07-01",
                                    "shippedDate": "NULL",
                                    "status": "Cancelled",
                                    "comments": "This customer found a better offer from one of our competitors. Will call back to renegotiate.",
                                    "customerNumber": "141",
                                    "productCode": "S32_4289",
                                    "quantityOrdered": "40",
                                    "priceEach": "63.97",
                                    "orderLineNumber": "2",
                                    "productName": "1928 Ford Phaeton Deluxe",
                                    "productLine": "Vintage Cars",
                                    "productScale": "1:32",
                                    "productVendor": "Highway 66 Mini Classics",
                                    "productDescription": "This model features grille-mounted chrome horn, lift-up louvered hood, fold-down rumble seat, working steering system",
                                    "quantityInStock": "136",
                                    "buyPrice": "33.02",
                                    "MSRP": "68.79",
                                    "checkNumber": "MC46946",
                                    "paymentDate": "2004-07-09",
                                    "amount": "35420.74",
                                    "totalprice": "2558.80"
                                },
                                {
                                    "orderNumber": "10262",
                                    "orderDate": "2004-06-24",
                                    "requiredDate": "2004-07-01",
                                    "shippedDate": "NULL",
                                    "status": "Cancelled",
                                    "comments": "This customer found a better offer from one of our competitors. Will call back to renegotiate.",
                                    "customerNumber": "141",
                                    "productCode": "S50_1341",
                                    "quantityOrdered": "49",
                                    "priceEach": "35.78",
                                    "orderLineNumber": "3",
                                    "productName": "1930 Buick Marquette Phaeton",
                                    "productLine": "Vintage Cars",
                                    "productScale": "1:50",
                                    "productVendor": "Studio M Art Models",
                                    "productDescription": "Features opening trunk,  working steering system",
                                    "quantityInStock": "7062",
                                    "buyPrice": "27.06",
                                    "MSRP": "43.64",
                                    "checkNumber": "MC46946",
                                    "paymentDate": "2004-07-09",
                                    "amount": "35420.74",
                                    "totalprice": "1753.22"
                                },
                                {
                                    "orderNumber": "10262",
                                    "orderDate": "2004-06-24",
                                    "requiredDate": "2004-07-01",
                                    "shippedDate": "NULL",
                                    "status": "Cancelled",
                                    "comments": "This customer found a better offer from one of our competitors. Will call back to renegotiate.",
                                    "customerNumber": "141",
                                    "productCode": "S18_3856",
                                    "quantityOrdered": "34",
                                    "priceEach": "85.75",
                                    "orderLineNumber": "14",
                                    "productName": "1941 Chevrolet Special Deluxe Cabriolet",
                                    "productLine": "Vintage Cars",
                                    "productScale": "1:18",
                                    "productVendor": "Exoto Designs",
                                    "productDescription": "Features opening hood, opening doors, opening trunk, wide white wall tires, front door arm rests, working steering system, leather upholstery. Color black.",
                                    "quantityInStock": "2378",
                                    "buyPrice": "64.58",
                                    "MSRP": "105.87",
                                    "checkNumber": "MF629602",
                                    "paymentDate": "2004-08-16",
                                    "amount": "20009.53",
                                    "totalprice": "2915.50"
                                },
                                {
                                    "orderNumber": "10262",
                                    "orderDate": "2004-06-24",
                                    "requiredDate": "2004-07-01",
                                    "shippedDate": "NULL",
                                    "status": "Cancelled",
                                    "comments": "This customer found a better offer from one of our competitors. Will call back to renegotiate.",
                                    "customerNumber": "141",
                                    "productCode": "S24_3420",
                                    "quantityOrdered": "46",
                                    "priceEach": "65.75",
                                    "orderLineNumber": "11",
                                    "productName": "1937 Horch 930V Limousine",
                                    "productLine": "Vintage Cars",
                                    "productScale": "1:24",
                                    "productVendor": "Autoart Studio Design",
                                    "productDescription": "Features opening hood, opening doors, opening trunk, wide white wall tires, front door arm rests, working steering system",
                                    "quantityInStock": "2902",
                                    "buyPrice": "26.30",
                                    "MSRP": "65.75",
                                    "checkNumber": "MF629602",
                                    "paymentDate": "2004-08-16",
                                    "amount": "20009.53",
                                    "totalprice": "3024.50"
                                },
                                {
                                    "orderNumber": "10262",
                                    "orderDate": "2004-06-24",
                                    "requiredDate": "2004-07-01",
                                    "shippedDate": "NULL",
                                    "status": "Cancelled",
                                    "comments": "This customer found a better offer from one of our competitors. Will call back to renegotiate.",
                                    "customerNumber": "141",
                                    "productCode": "S24_3816",
                                    "quantityOrdered": "49",
                                    "priceEach": "82.18",
                                    "orderLineNumber": "16",
                                    "productName": "1940 Ford Delivery Sedan",
                                    "productLine": "Vintage Cars",
                                    "productScale": "1:24",
                                    "productVendor": "Carousel DieCast Legends",
                                    "productDescription": "Chrome Trim, Chrome Grille, Opening Hood, Opening Doors, Opening Trunk, Detailed Engine, Working Steering System. Color black.",
                                    "quantityInStock": "6621",
                                    "buyPrice": "48.64",
                                    "MSRP": "83.86",
                                    "checkNumber": "MF629602",
                                    "paymentDate": "2004-08-16",
                                    "amount": "20009.53",
                                    "totalprice": "4026.82"
                                },
                                {
                                    "orderNumber": "10262",
                                    "orderDate": "2004-06-24",
                                    "requiredDate": "2004-07-01",
                                    "shippedDate": "NULL",
                                    "status": "Cancelled",
                                    "comments": "This customer found a better offer from one of our competitors. Will call back to renegotiate.",
                                    "customerNumber": "141",
                                    "productCode": "S32_4289",
                                    "quantityOrdered": "40",
                                    "priceEach": "63.97",
                                    "orderLineNumber": "2",
                                    "productName": "1928 Ford Phaeton Deluxe",
                                    "productLine": "Vintage Cars",
                                    "productScale": "1:32",
                                    "productVendor": "Highway 66 Mini Classics",
                                    "productDescription": "This model features grille-mounted chrome horn, lift-up louvered hood, fold-down rumble seat, working steering system",
                                    "quantityInStock": "136",
                                    "buyPrice": "33.02",
                                    "MSRP": "68.79",
                                    "checkNumber": "MF629602",
                                    "paymentDate": "2004-08-16",
                                    "amount": "20009.53",
                                    "totalprice": "2558.80"
                                },
                                {
                                    "orderNumber": "10262",
                                    "orderDate": "2004-06-24",
                                    "requiredDate": "2004-07-01",
                                    "shippedDate": "NULL",
                                    "status": "Cancelled",
                                    "comments": "This customer found a better offer from one of our competitors. Will call back to renegotiate.",
                                    "customerNumber": "141",
                                    "productCode": "S50_1341",
                                    "quantityOrdered": "49",
                                    "priceEach": "35.78",
                                    "orderLineNumber": "3",
                                    "productName": "1930 Buick Marquette Phaeton",
                                    "productLine": "Vintage Cars",
                                    "productScale": "1:50",
                                    "productVendor": "Studio M Art Models",
                                    "productDescription": "Features opening trunk,  working steering system",
                                    "quantityInStock": "7062",
                                    "buyPrice": "27.06",
                                    "MSRP": "43.64",
                                    "checkNumber": "MF629602",
                                    "paymentDate": "2004-08-16",
                                    "amount": "20009.53",
                                    "totalprice": "1753.22"
                                },
                                {
                                    "orderNumber": "10262",
                                    "orderDate": "2004-06-24",
                                    "requiredDate": "2004-07-01",
                                    "shippedDate": "NULL",
                                    "status": "Cancelled",
                                    "comments": "This customer found a better offer from one of our competitors. Will call back to renegotiate.",
                                    "customerNumber": "141",
                                    "productCode": "S18_3856",
                                    "quantityOrdered": "34",
                                    "priceEach": "85.75",
                                    "orderLineNumber": "14",
                                    "productName": "1941 Chevrolet Special Deluxe Cabriolet",
                                    "productLine": "Vintage Cars",
                                    "productScale": "1:18",
                                    "productVendor": "Exoto Designs",
                                    "productDescription": "Features opening hood, opening doors, opening trunk, wide white wall tires, front door arm rests, working steering system, leather upholstery. Color black.",
                                    "quantityInStock": "2378",
                                    "buyPrice": "64.58",
                                    "MSRP": "105.87",
                                    "checkNumber": "NU627706",
                                    "paymentDate": "2004-05-17",
                                    "amount": "26155.91",
                                    "totalprice": "2915.50"
                                },
                                {
                                    "orderNumber": "10262",
                                    "orderDate": "2004-06-24",
                                    "requiredDate": "2004-07-01",
                                    "shippedDate": "NULL",
                                    "status": "Cancelled",
                                    "comments": "This customer found a better offer from one of our competitors. Will call back to renegotiate.",
                                    "customerNumber": "141",
                                    "productCode": "S24_3420",
                                    "quantityOrdered": "46",
                                    "priceEach": "65.75",
                                    "orderLineNumber": "11",
                                    "productName": "1937 Horch 930V Limousine",
                                    "productLine": "Vintage Cars",
                                    "productScale": "1:24",
                                    "productVendor": "Autoart Studio Design",
                                    "productDescription": "Features opening hood, opening doors, opening trunk, wide white wall tires, front door arm rests, working steering system",
                                    "quantityInStock": "2902",
                                    "buyPrice": "26.30",
                                    "MSRP": "65.75",
                                    "checkNumber": "NU627706",
                                    "paymentDate": "2004-05-17",
                                    "amount": "26155.91",
                                    "totalprice": "3024.50"
                                },
                                {
                                    "orderNumber": "10262",
                                    "orderDate": "2004-06-24",
                                    "requiredDate": "2004-07-01",
                                    "shippedDate": "NULL",
                                    "status": "Cancelled",
                                    "comments": "This customer found a better offer from one of our competitors. Will call back to renegotiate.",
                                    "customerNumber": "141",
                                    "productCode": "S24_3816",
                                    "quantityOrdered": "49",
                                    "priceEach": "82.18",
                                    "orderLineNumber": "16",
                                    "productName": "1940 Ford Delivery Sedan",
                                    "productLine": "Vintage Cars",
                                    "productScale": "1:24",
                                    "productVendor": "Carousel DieCast Legends",
                                    "productDescription": "Chrome Trim, Chrome Grille, Opening Hood, Opening Doors, Opening Trunk, Detailed Engine, Working Steering System. Color black.",
                                    "quantityInStock": "6621",
                                    "buyPrice": "48.64",
                                    "MSRP": "83.86",
                                    "checkNumber": "NU627706",
                                    "paymentDate": "2004-05-17",
                                    "amount": "26155.91",
                                    "totalprice": "4026.82"
                                },
                                {
                                    "orderNumber": "10262",
                                    "orderDate": "2004-06-24",
                                    "requiredDate": "2004-07-01",
                                    "shippedDate": "NULL",
                                    "status": "Cancelled",
                                    "comments": "This customer found a better offer from one of our competitors. Will call back to renegotiate.",
                                    "customerNumber": "141",
                                    "productCode": "S32_4289",
                                    "quantityOrdered": "40",
                                    "priceEach": "63.97",
                                    "orderLineNumber": "2",
                                    "productName": "1928 Ford Phaeton Deluxe",
                                    "productLine": "Vintage Cars",
                                    "productScale": "1:32",
                                    "productVendor": "Highway 66 Mini Classics",
                                    "productDescription": "This model features grille-mounted chrome horn, lift-up louvered hood, fold-down rumble seat, working steering system",
                                    "quantityInStock": "136",
                                    "buyPrice": "33.02",
                                    "MSRP": "68.79",
                                    "checkNumber": "NU627706",
                                    "paymentDate": "2004-05-17",
                                    "amount": "26155.91",
                                    "totalprice": "2558.80"
                                },
                                {
                                    "orderNumber": "10262",
                                    "orderDate": "2004-06-24",
                                    "requiredDate": "2004-07-01",
                                    "shippedDate": "NULL",
                                    "status": "Cancelled",
                                    "comments": "This customer found a better offer from one of our competitors. Will call back to renegotiate.",
                                    "customerNumber": "141",
                                    "productCode": "S50_1341",
                                    "quantityOrdered": "49",
                                    "priceEach": "35.78",
                                    "orderLineNumber": "3",
                                    "productName": "1930 Buick Marquette Phaeton",
                                    "productLine": "Vintage Cars",
                                    "productScale": "1:50",
                                    "productVendor": "Studio M Art Models",
                                    "productDescription": "Features opening trunk,  working steering system",
                                    "quantityInStock": "7062",
                                    "buyPrice": "27.06",
                                    "MSRP": "43.64",
                                    "checkNumber": "NU627706",
                                    "paymentDate": "2004-05-17",
                                    "amount": "26155.91",
                                    "totalprice": "1753.22"
                                }
                            ]
                        },
                        "text/html": [
                            "<table>",
                            "<tr><th>orderNumber</th><th>orderDate</th><th>requiredDate</th><th>shippedDate</th><th>status</th><th>comments</th><th>customerNumber</th><th>orderNumber</th><th>productCode</th><th>quantityOrdered</th><th>priceEach</th><th>orderLineNumber</th><th>productCode</th><th>productName</th><th>productLine</th><th>productScale</th><th>productVendor</th><th>productDescription</th><th>quantityInStock</th><th>buyPrice</th><th>MSRP</th><th>customerNumber</th><th>checkNumber</th><th>paymentDate</th><th>amount</th><th>totalprice</th></tr>",
                            "<tr><td>10167</td><td>2003-10-23</td><td>2003-10-30</td><td>NULL</td><td>Cancelled</td><td>Customer called to cancel. The warehouse was notified in time and the order didn&#39;t ship. They have a new VP of Sales and are shifting their sales model. Our VP of Sales should contact them.</td><td>448</td><td>10167</td><td>S18_3856</td><td>34</td><td>84.70</td><td>6</td><td>S18_3856</td><td>1941 Chevrolet Special Deluxe Cabriolet</td><td>Vintage Cars</td><td>1:18</td><td>Exoto Designs</td><td>Features opening hood, opening doors, opening trunk, wide white wall tires, front door arm rests, working steering system, leather upholstery. Color black.</td><td>2378</td><td>64.58</td><td>105.87</td><td>448</td><td>FS299615</td><td>2005-04-18</td><td>27966.54</td><td>2879.80</td></tr>",
                            "<tr><td>10167</td><td>2003-10-23</td><td>2003-10-30</td><td>NULL</td><td>Cancelled</td><td>Customer called to cancel. The warehouse was notified in time and the order didn&#39;t ship. They have a new VP of Sales and are shifting their sales model. Our VP of Sales should contact them.</td><td>448</td><td>10167</td><td>S24_3151</td><td>20</td><td>77.00</td><td>11</td><td>S24_3151</td><td>1912 Ford Model T Delivery Wagon</td><td>Vintage Cars</td><td>1:24</td><td>Min Lin Diecast</td><td>This model features chrome trim and grille, opening hood, opening doors, opening trunk, detailed engine, working steering system. Color white.</td><td>9173</td><td>46.91</td><td>88.51</td><td>448</td><td>FS299615</td><td>2005-04-18</td><td>27966.54</td><td>1540.00</td></tr>",
                            "<tr><td>10167</td><td>2003-10-23</td><td>2003-10-30</td><td>NULL</td><td>Cancelled</td><td>Customer called to cancel. The warehouse was notified in time and the order didn&#39;t ship. They have a new VP of Sales and are shifting their sales model. Our VP of Sales should contact them.</td><td>448</td><td>10167</td><td>S24_3420</td><td>32</td><td>64.44</td><td>3</td><td>S24_3420</td><td>1937 Horch 930V Limousine</td><td>Vintage Cars</td><td>1:24</td><td>Autoart Studio Design</td><td>Features opening hood, opening doors, opening trunk, wide white wall tires, front door arm rests, working steering system</td><td>2902</td><td>26.30</td><td>65.75</td><td>448</td><td>FS299615</td><td>2005-04-18</td><td>27966.54</td><td>2062.08</td></tr>",
                            "<tr><td>10167</td><td>2003-10-23</td><td>2003-10-30</td><td>NULL</td><td>Cancelled</td><td>Customer called to cancel. The warehouse was notified in time and the order didn&#39;t ship. They have a new VP of Sales and are shifting their sales model. Our VP of Sales should contact them.</td><td>448</td><td>10167</td><td>S24_3816</td><td>29</td><td>73.80</td><td>8</td><td>S24_3816</td><td>1940 Ford Delivery Sedan</td><td>Vintage Cars</td><td>1:24</td><td>Carousel DieCast Legends</td><td>Chrome Trim, Chrome Grille, Opening Hood, Opening Doors, Opening Trunk, Detailed Engine, Working Steering System. Color black.</td><td>6621</td><td>48.64</td><td>83.86</td><td>448</td><td>FS299615</td><td>2005-04-18</td><td>27966.54</td><td>2140.20</td></tr>",
                            "<tr><td>10167</td><td>2003-10-23</td><td>2003-10-30</td><td>NULL</td><td>Cancelled</td><td>Customer called to cancel. The warehouse was notified in time and the order didn&#39;t ship. They have a new VP of Sales and are shifting their sales model. Our VP of Sales should contact them.</td><td>448</td><td>10167</td><td>S18_3856</td><td>34</td><td>84.70</td><td>6</td><td>S18_3856</td><td>1941 Chevrolet Special Deluxe Cabriolet</td><td>Vintage Cars</td><td>1:18</td><td>Exoto Designs</td><td>Features opening hood, opening doors, opening trunk, wide white wall tires, front door arm rests, working steering system, leather upholstery. Color black.</td><td>2378</td><td>64.58</td><td>105.87</td><td>448</td><td>KR822727</td><td>2004-09-30</td><td>48809.90</td><td>2879.80</td></tr>",
                            "<tr><td>10167</td><td>2003-10-23</td><td>2003-10-30</td><td>NULL</td><td>Cancelled</td><td>Customer called to cancel. The warehouse was notified in time and the order didn&#39;t ship. They have a new VP of Sales and are shifting their sales model. Our VP of Sales should contact them.</td><td>448</td><td>10167</td><td>S24_3151</td><td>20</td><td>77.00</td><td>11</td><td>S24_3151</td><td>1912 Ford Model T Delivery Wagon</td><td>Vintage Cars</td><td>1:24</td><td>Min Lin Diecast</td><td>This model features chrome trim and grille, opening hood, opening doors, opening trunk, detailed engine, working steering system. Color white.</td><td>9173</td><td>46.91</td><td>88.51</td><td>448</td><td>KR822727</td><td>2004-09-30</td><td>48809.90</td><td>1540.00</td></tr>",
                            "<tr><td>10167</td><td>2003-10-23</td><td>2003-10-30</td><td>NULL</td><td>Cancelled</td><td>Customer called to cancel. The warehouse was notified in time and the order didn&#39;t ship. They have a new VP of Sales and are shifting their sales model. Our VP of Sales should contact them.</td><td>448</td><td>10167</td><td>S24_3420</td><td>32</td><td>64.44</td><td>3</td><td>S24_3420</td><td>1937 Horch 930V Limousine</td><td>Vintage Cars</td><td>1:24</td><td>Autoart Studio Design</td><td>Features opening hood, opening doors, opening trunk, wide white wall tires, front door arm rests, working steering system</td><td>2902</td><td>26.30</td><td>65.75</td><td>448</td><td>KR822727</td><td>2004-09-30</td><td>48809.90</td><td>2062.08</td></tr>",
                            "<tr><td>10167</td><td>2003-10-23</td><td>2003-10-30</td><td>NULL</td><td>Cancelled</td><td>Customer called to cancel. The warehouse was notified in time and the order didn&#39;t ship. They have a new VP of Sales and are shifting their sales model. Our VP of Sales should contact them.</td><td>448</td><td>10167</td><td>S24_3816</td><td>29</td><td>73.80</td><td>8</td><td>S24_3816</td><td>1940 Ford Delivery Sedan</td><td>Vintage Cars</td><td>1:24</td><td>Carousel DieCast Legends</td><td>Chrome Trim, Chrome Grille, Opening Hood, Opening Doors, Opening Trunk, Detailed Engine, Working Steering System. Color black.</td><td>6621</td><td>48.64</td><td>83.86</td><td>448</td><td>KR822727</td><td>2004-09-30</td><td>48809.90</td><td>2140.20</td></tr>",
                            "<tr><td>10179</td><td>2003-11-11</td><td>2003-11-17</td><td>2003-11-13</td><td>Cancelled</td><td>Customer cancelled due to urgent budgeting issues. Must be cautious when dealing with them in the future. Since order shipped already we must discuss who would cover the shipping charges.</td><td>496</td><td>10179</td><td>S32_4289</td><td>24</td><td>63.97</td><td>6</td><td>S32_4289</td><td>1928 Ford Phaeton Deluxe</td><td>Vintage Cars</td><td>1:32</td><td>Highway 66 Mini Classics</td><td>This model features grille-mounted chrome horn, lift-up louvered hood, fold-down rumble seat, working steering system</td><td>136</td><td>33.02</td><td>68.79</td><td>496</td><td>EU531600</td><td>2005-05-25</td><td>30253.75</td><td>1535.28</td></tr>",
                            "<tr><td>10179</td><td>2003-11-11</td><td>2003-11-17</td><td>2003-11-13</td><td>Cancelled</td><td>Customer cancelled due to urgent budgeting issues. Must be cautious when dealing with them in the future. Since order shipped already we must discuss who would cover the shipping charges.</td><td>496</td><td>10179</td><td>S50_1341</td><td>34</td><td>43.20</td><td>7</td><td>S50_1341</td><td>1930 Buick Marquette Phaeton</td><td>Vintage Cars</td><td>1:50</td><td>Studio M Art Models</td><td>Features opening trunk,  working steering system</td><td>7062</td><td>27.06</td><td>43.64</td><td>496</td><td>EU531600</td><td>2005-05-25</td><td>30253.75</td><td>1468.80</td></tr>",
                            "<tr><td>10179</td><td>2003-11-11</td><td>2003-11-17</td><td>2003-11-13</td><td>Cancelled</td><td>Customer cancelled due to urgent budgeting issues. Must be cautious when dealing with them in the future. Since order shipped already we must discuss who would cover the shipping charges.</td><td>496</td><td>10179</td><td>S32_4289</td><td>24</td><td>63.97</td><td>6</td><td>S32_4289</td><td>1928 Ford Phaeton Deluxe</td><td>Vintage Cars</td><td>1:32</td><td>Highway 66 Mini Classics</td><td>This model features grille-mounted chrome horn, lift-up louvered hood, fold-down rumble seat, working steering system</td><td>136</td><td>33.02</td><td>68.79</td><td>496</td><td>MB342426</td><td>2003-07-16</td><td>32077.44</td><td>1535.28</td></tr>",
                            "<tr><td>10179</td><td>2003-11-11</td><td>2003-11-17</td><td>2003-11-13</td><td>Cancelled</td><td>Customer cancelled due to urgent budgeting issues. Must be cautious when dealing with them in the future. Since order shipped already we must discuss who would cover the shipping charges.</td><td>496</td><td>10179</td><td>S50_1341</td><td>34</td><td>43.20</td><td>7</td><td>S50_1341</td><td>1930 Buick Marquette Phaeton</td><td>Vintage Cars</td><td>1:50</td><td>Studio M Art Models</td><td>Features opening trunk,  working steering system</td><td>7062</td><td>27.06</td><td>43.64</td><td>496</td><td>MB342426</td><td>2003-07-16</td><td>32077.44</td><td>1468.80</td></tr>",
                            "<tr><td>10179</td><td>2003-11-11</td><td>2003-11-17</td><td>2003-11-13</td><td>Cancelled</td><td>Customer cancelled due to urgent budgeting issues. Must be cautious when dealing with them in the future. Since order shipped already we must discuss who would cover the shipping charges.</td><td>496</td><td>10179</td><td>S32_4289</td><td>24</td><td>63.97</td><td>6</td><td>S32_4289</td><td>1928 Ford Phaeton Deluxe</td><td>Vintage Cars</td><td>1:32</td><td>Highway 66 Mini Classics</td><td>This model features grille-mounted chrome horn, lift-up louvered hood, fold-down rumble seat, working steering system</td><td>136</td><td>33.02</td><td>68.79</td><td>496</td><td>MN89921</td><td>2004-12-31</td><td>52166.00</td><td>1535.28</td></tr>",
                            "<tr><td>10179</td><td>2003-11-11</td><td>2003-11-17</td><td>2003-11-13</td><td>Cancelled</td><td>Customer cancelled due to urgent budgeting issues. Must be cautious when dealing with them in the future. Since order shipped already we must discuss who would cover the shipping charges.</td><td>496</td><td>10179</td><td>S50_1341</td><td>34</td><td>43.20</td><td>7</td><td>S50_1341</td><td>1930 Buick Marquette Phaeton</td><td>Vintage Cars</td><td>1:50</td><td>Studio M Art Models</td><td>Features opening trunk,  working steering system</td><td>7062</td><td>27.06</td><td>43.64</td><td>496</td><td>MN89921</td><td>2004-12-31</td><td>52166.00</td><td>1468.80</td></tr>",
                            "<tr><td>10248</td><td>2004-05-07</td><td>2004-05-14</td><td>NULL</td><td>Cancelled</td><td>Order was mistakenly placed. The warehouse noticed the lack of documentation.</td><td>131</td><td>10248</td><td>S18_3140</td><td>32</td><td>133.86</td><td>12</td><td>S18_3140</td><td>1903 Ford Model A</td><td>Vintage Cars</td><td>1:18</td><td>Unimax Art Galleries</td><td>Features opening trunk,  working steering system</td><td>3913</td><td>68.30</td><td>136.59</td><td>131</td><td>CL442705</td><td>2003-03-12</td><td>22292.62</td><td>4283.52</td></tr>",
                            "<tr><td>10248</td><td>2004-05-07</td><td>2004-05-14</td><td>NULL</td><td>Cancelled</td><td>Order was mistakenly placed. The warehouse noticed the lack of documentation.</td><td>131</td><td>10248</td><td>S18_4522</td><td>42</td><td>87.77</td><td>11</td><td>S18_4522</td><td>1904 Buick Runabout</td><td>Vintage Cars</td><td>1:18</td><td>Exoto Designs</td><td>Features opening trunk,  working steering system</td><td>8290</td><td>52.66</td><td>87.77</td><td>131</td><td>CL442705</td><td>2003-03-12</td><td>22292.62</td><td>3686.34</td></tr>",
                            "<tr><td>10248</td><td>2004-05-07</td><td>2004-05-14</td><td>NULL</td><td>Cancelled</td><td>Order was mistakenly placed. The warehouse noticed the lack of documentation.</td><td>131</td><td>10248</td><td>S24_3151</td><td>30</td><td>85.85</td><td>5</td><td>S24_3151</td><td>1912 Ford Model T Delivery Wagon</td><td>Vintage Cars</td><td>1:24</td><td>Min Lin Diecast</td><td>This model features chrome trim and grille, opening hood, opening doors, opening trunk, detailed engine, working steering system. Color white.</td><td>9173</td><td>46.91</td><td>88.51</td><td>131</td><td>CL442705</td><td>2003-03-12</td><td>22292.62</td><td>2575.50</td></tr>",
                            "<tr><td>10248</td><td>2004-05-07</td><td>2004-05-14</td><td>NULL</td><td>Cancelled</td><td>Order was mistakenly placed. The warehouse noticed the lack of documentation.</td><td>131</td><td>10248</td><td>S24_3816</td><td>23</td><td>83.02</td><td>2</td><td>S24_3816</td><td>1940 Ford Delivery Sedan</td><td>Vintage Cars</td><td>1:24</td><td>Carousel DieCast Legends</td><td>Chrome Trim, Chrome Grille, Opening Hood, Opening Doors, Opening Trunk, Detailed Engine, Working Steering System. Color black.</td><td>6621</td><td>48.64</td><td>83.86</td><td>131</td><td>CL442705</td><td>2003-03-12</td><td>22292.62</td><td>1909.46</td></tr>",
                            "<tr><td>10248</td><td>2004-05-07</td><td>2004-05-14</td><td>NULL</td><td>Cancelled</td><td>Order was mistakenly placed. The warehouse noticed the lack of documentation.</td><td>131</td><td>10248</td><td>S18_3140</td><td>32</td><td>133.86</td><td>12</td><td>S18_3140</td><td>1903 Ford Model A</td><td>Vintage Cars</td><td>1:18</td><td>Unimax Art Galleries</td><td>Features opening trunk,  working steering system</td><td>3913</td><td>68.30</td><td>136.59</td><td>131</td><td>MA724562</td><td>2004-12-02</td><td>50025.35</td><td>4283.52</td></tr>",
                            "<tr><td>10248</td><td>2004-05-07</td><td>2004-05-14</td><td>NULL</td><td>Cancelled</td><td>Order was mistakenly placed. The warehouse noticed the lack of documentation.</td><td>131</td><td>10248</td><td>S18_4522</td><td>42</td><td>87.77</td><td>11</td><td>S18_4522</td><td>1904 Buick Runabout</td><td>Vintage Cars</td><td>1:18</td><td>Exoto Designs</td><td>Features opening trunk,  working steering system</td><td>8290</td><td>52.66</td><td>87.77</td><td>131</td><td>MA724562</td><td>2004-12-02</td><td>50025.35</td><td>3686.34</td></tr>",
                            "<tr><td>10248</td><td>2004-05-07</td><td>2004-05-14</td><td>NULL</td><td>Cancelled</td><td>Order was mistakenly placed. The warehouse noticed the lack of documentation.</td><td>131</td><td>10248</td><td>S24_3151</td><td>30</td><td>85.85</td><td>5</td><td>S24_3151</td><td>1912 Ford Model T Delivery Wagon</td><td>Vintage Cars</td><td>1:24</td><td>Min Lin Diecast</td><td>This model features chrome trim and grille, opening hood, opening doors, opening trunk, detailed engine, working steering system. Color white.</td><td>9173</td><td>46.91</td><td>88.51</td><td>131</td><td>MA724562</td><td>2004-12-02</td><td>50025.35</td><td>2575.50</td></tr>",
                            "<tr><td>10248</td><td>2004-05-07</td><td>2004-05-14</td><td>NULL</td><td>Cancelled</td><td>Order was mistakenly placed. The warehouse noticed the lack of documentation.</td><td>131</td><td>10248</td><td>S24_3816</td><td>23</td><td>83.02</td><td>2</td><td>S24_3816</td><td>1940 Ford Delivery Sedan</td><td>Vintage Cars</td><td>1:24</td><td>Carousel DieCast Legends</td><td>Chrome Trim, Chrome Grille, Opening Hood, Opening Doors, Opening Trunk, Detailed Engine, Working Steering System. Color black.</td><td>6621</td><td>48.64</td><td>83.86</td><td>131</td><td>MA724562</td><td>2004-12-02</td><td>50025.35</td><td>1909.46</td></tr>",
                            "<tr><td>10248</td><td>2004-05-07</td><td>2004-05-14</td><td>NULL</td><td>Cancelled</td><td>Order was mistakenly placed. The warehouse noticed the lack of documentation.</td><td>131</td><td>10248</td><td>S18_3140</td><td>32</td><td>133.86</td><td>12</td><td>S18_3140</td><td>1903 Ford Model A</td><td>Vintage Cars</td><td>1:18</td><td>Unimax Art Galleries</td><td>Features opening trunk,  working steering system</td><td>3913</td><td>68.30</td><td>136.59</td><td>131</td><td>NB445135</td><td>2004-09-11</td><td>35321.97</td><td>4283.52</td></tr>",
                            "<tr><td>10248</td><td>2004-05-07</td><td>2004-05-14</td><td>NULL</td><td>Cancelled</td><td>Order was mistakenly placed. The warehouse noticed the lack of documentation.</td><td>131</td><td>10248</td><td>S18_4522</td><td>42</td><td>87.77</td><td>11</td><td>S18_4522</td><td>1904 Buick Runabout</td><td>Vintage Cars</td><td>1:18</td><td>Exoto Designs</td><td>Features opening trunk,  working steering system</td><td>8290</td><td>52.66</td><td>87.77</td><td>131</td><td>NB445135</td><td>2004-09-11</td><td>35321.97</td><td>3686.34</td></tr>",
                            "<tr><td>10248</td><td>2004-05-07</td><td>2004-05-14</td><td>NULL</td><td>Cancelled</td><td>Order was mistakenly placed. The warehouse noticed the lack of documentation.</td><td>131</td><td>10248</td><td>S24_3151</td><td>30</td><td>85.85</td><td>5</td><td>S24_3151</td><td>1912 Ford Model T Delivery Wagon</td><td>Vintage Cars</td><td>1:24</td><td>Min Lin Diecast</td><td>This model features chrome trim and grille, opening hood, opening doors, opening trunk, detailed engine, working steering system. Color white.</td><td>9173</td><td>46.91</td><td>88.51</td><td>131</td><td>NB445135</td><td>2004-09-11</td><td>35321.97</td><td>2575.50</td></tr>",
                            "<tr><td>10248</td><td>2004-05-07</td><td>2004-05-14</td><td>NULL</td><td>Cancelled</td><td>Order was mistakenly placed. The warehouse noticed the lack of documentation.</td><td>131</td><td>10248</td><td>S24_3816</td><td>23</td><td>83.02</td><td>2</td><td>S24_3816</td><td>1940 Ford Delivery Sedan</td><td>Vintage Cars</td><td>1:24</td><td>Carousel DieCast Legends</td><td>Chrome Trim, Chrome Grille, Opening Hood, Opening Doors, Opening Trunk, Detailed Engine, Working Steering System. Color black.</td><td>6621</td><td>48.64</td><td>83.86</td><td>131</td><td>NB445135</td><td>2004-09-11</td><td>35321.97</td><td>1909.46</td></tr>",
                            "<tr><td>10260</td><td>2004-06-16</td><td>2004-06-22</td><td>NULL</td><td>Cancelled</td><td>Customer heard complaints from their customers and called to cancel this order. Will notify the Sales Manager.</td><td>357</td><td>10260</td><td>S18_3140</td><td>32</td><td>121.57</td><td>1</td><td>S18_3140</td><td>1903 Ford Model A</td><td>Vintage Cars</td><td>1:18</td><td>Unimax Art Galleries</td><td>Features opening trunk,  working steering system</td><td>3913</td><td>68.30</td><td>136.59</td><td>357</td><td>AG240323</td><td>2003-12-16</td><td>20220.04</td><td>3890.24</td></tr>",
                            "<tr><td>10260</td><td>2004-06-16</td><td>2004-06-22</td><td>NULL</td><td>Cancelled</td><td>Customer heard complaints from their customers and called to cancel this order. Will notify the Sales Manager.</td><td>357</td><td>10260</td><td>S18_3140</td><td>32</td><td>121.57</td><td>1</td><td>S18_3140</td><td>1903 Ford Model A</td><td>Vintage Cars</td><td>1:18</td><td>Unimax Art Galleries</td><td>Features opening trunk,  working steering system</td><td>3913</td><td>68.30</td><td>136.59</td><td>357</td><td>NB291497</td><td>2004-05-15</td><td>36442.34</td><td>3890.24</td></tr>",
                            "<tr><td>10262</td><td>2004-06-24</td><td>2004-07-01</td><td>NULL</td><td>Cancelled</td><td>This customer found a better offer from one of our competitors. Will call back to renegotiate.</td><td>141</td><td>10262</td><td>S18_3856</td><td>34</td><td>85.75</td><td>14</td><td>S18_3856</td><td>1941 Chevrolet Special Deluxe Cabriolet</td><td>Vintage Cars</td><td>1:18</td><td>Exoto Designs</td><td>Features opening hood, opening doors, opening trunk, wide white wall tires, front door arm rests, working steering system, leather upholstery. Color black.</td><td>2378</td><td>64.58</td><td>105.87</td><td>141</td><td>AU364101</td><td>2003-07-19</td><td>36251.03</td><td>2915.50</td></tr>",
                            "<tr><td>10262</td><td>2004-06-24</td><td>2004-07-01</td><td>NULL</td><td>Cancelled</td><td>This customer found a better offer from one of our competitors. Will call back to renegotiate.</td><td>141</td><td>10262</td><td>S24_3420</td><td>46</td><td>65.75</td><td>11</td><td>S24_3420</td><td>1937 Horch 930V Limousine</td><td>Vintage Cars</td><td>1:24</td><td>Autoart Studio Design</td><td>Features opening hood, opening doors, opening trunk, wide white wall tires, front door arm rests, working steering system</td><td>2902</td><td>26.30</td><td>65.75</td><td>141</td><td>AU364101</td><td>2003-07-19</td><td>36251.03</td><td>3024.50</td></tr>",
                            "<tr><td>10262</td><td>2004-06-24</td><td>2004-07-01</td><td>NULL</td><td>Cancelled</td><td>This customer found a better offer from one of our competitors. Will call back to renegotiate.</td><td>141</td><td>10262</td><td>S24_3816</td><td>49</td><td>82.18</td><td>16</td><td>S24_3816</td><td>1940 Ford Delivery Sedan</td><td>Vintage Cars</td><td>1:24</td><td>Carousel DieCast Legends</td><td>Chrome Trim, Chrome Grille, Opening Hood, Opening Doors, Opening Trunk, Detailed Engine, Working Steering System. Color black.</td><td>6621</td><td>48.64</td><td>83.86</td><td>141</td><td>AU364101</td><td>2003-07-19</td><td>36251.03</td><td>4026.82</td></tr>",
                            "<tr><td>10262</td><td>2004-06-24</td><td>2004-07-01</td><td>NULL</td><td>Cancelled</td><td>This customer found a better offer from one of our competitors. Will call back to renegotiate.</td><td>141</td><td>10262</td><td>S32_4289</td><td>40</td><td>63.97</td><td>2</td><td>S32_4289</td><td>1928 Ford Phaeton Deluxe</td><td>Vintage Cars</td><td>1:32</td><td>Highway 66 Mini Classics</td><td>This model features grille-mounted chrome horn, lift-up louvered hood, fold-down rumble seat, working steering system</td><td>136</td><td>33.02</td><td>68.79</td><td>141</td><td>AU364101</td><td>2003-07-19</td><td>36251.03</td><td>2558.80</td></tr>",
                            "<tr><td>10262</td><td>2004-06-24</td><td>2004-07-01</td><td>NULL</td><td>Cancelled</td><td>This customer found a better offer from one of our competitors. Will call back to renegotiate.</td><td>141</td><td>10262</td><td>S50_1341</td><td>49</td><td>35.78</td><td>3</td><td>S50_1341</td><td>1930 Buick Marquette Phaeton</td><td>Vintage Cars</td><td>1:50</td><td>Studio M Art Models</td><td>Features opening trunk,  working steering system</td><td>7062</td><td>27.06</td><td>43.64</td><td>141</td><td>AU364101</td><td>2003-07-19</td><td>36251.03</td><td>1753.22</td></tr>",
                            "<tr><td>10262</td><td>2004-06-24</td><td>2004-07-01</td><td>NULL</td><td>Cancelled</td><td>This customer found a better offer from one of our competitors. Will call back to renegotiate.</td><td>141</td><td>10262</td><td>S18_3856</td><td>34</td><td>85.75</td><td>14</td><td>S18_3856</td><td>1941 Chevrolet Special Deluxe Cabriolet</td><td>Vintage Cars</td><td>1:18</td><td>Exoto Designs</td><td>Features opening hood, opening doors, opening trunk, wide white wall tires, front door arm rests, working steering system, leather upholstery. Color black.</td><td>2378</td><td>64.58</td><td>105.87</td><td>141</td><td>DB583216</td><td>2004-11-01</td><td>36140.38</td><td>2915.50</td></tr>",
                            "<tr><td>10262</td><td>2004-06-24</td><td>2004-07-01</td><td>NULL</td><td>Cancelled</td><td>This customer found a better offer from one of our competitors. Will call back to renegotiate.</td><td>141</td><td>10262</td><td>S24_3420</td><td>46</td><td>65.75</td><td>11</td><td>S24_3420</td><td>1937 Horch 930V Limousine</td><td>Vintage Cars</td><td>1:24</td><td>Autoart Studio Design</td><td>Features opening hood, opening doors, opening trunk, wide white wall tires, front door arm rests, working steering system</td><td>2902</td><td>26.30</td><td>65.75</td><td>141</td><td>DB583216</td><td>2004-11-01</td><td>36140.38</td><td>3024.50</td></tr>",
                            "<tr><td>10262</td><td>2004-06-24</td><td>2004-07-01</td><td>NULL</td><td>Cancelled</td><td>This customer found a better offer from one of our competitors. Will call back to renegotiate.</td><td>141</td><td>10262</td><td>S24_3816</td><td>49</td><td>82.18</td><td>16</td><td>S24_3816</td><td>1940 Ford Delivery Sedan</td><td>Vintage Cars</td><td>1:24</td><td>Carousel DieCast Legends</td><td>Chrome Trim, Chrome Grille, Opening Hood, Opening Doors, Opening Trunk, Detailed Engine, Working Steering System. Color black.</td><td>6621</td><td>48.64</td><td>83.86</td><td>141</td><td>DB583216</td><td>2004-11-01</td><td>36140.38</td><td>4026.82</td></tr>",
                            "<tr><td>10262</td><td>2004-06-24</td><td>2004-07-01</td><td>NULL</td><td>Cancelled</td><td>This customer found a better offer from one of our competitors. Will call back to renegotiate.</td><td>141</td><td>10262</td><td>S32_4289</td><td>40</td><td>63.97</td><td>2</td><td>S32_4289</td><td>1928 Ford Phaeton Deluxe</td><td>Vintage Cars</td><td>1:32</td><td>Highway 66 Mini Classics</td><td>This model features grille-mounted chrome horn, lift-up louvered hood, fold-down rumble seat, working steering system</td><td>136</td><td>33.02</td><td>68.79</td><td>141</td><td>DB583216</td><td>2004-11-01</td><td>36140.38</td><td>2558.80</td></tr>",
                            "<tr><td>10262</td><td>2004-06-24</td><td>2004-07-01</td><td>NULL</td><td>Cancelled</td><td>This customer found a better offer from one of our competitors. Will call back to renegotiate.</td><td>141</td><td>10262</td><td>S50_1341</td><td>49</td><td>35.78</td><td>3</td><td>S50_1341</td><td>1930 Buick Marquette Phaeton</td><td>Vintage Cars</td><td>1:50</td><td>Studio M Art Models</td><td>Features opening trunk,  working steering system</td><td>7062</td><td>27.06</td><td>43.64</td><td>141</td><td>DB583216</td><td>2004-11-01</td><td>36140.38</td><td>1753.22</td></tr>",
                            "<tr><td>10262</td><td>2004-06-24</td><td>2004-07-01</td><td>NULL</td><td>Cancelled</td><td>This customer found a better offer from one of our competitors. Will call back to renegotiate.</td><td>141</td><td>10262</td><td>S18_3856</td><td>34</td><td>85.75</td><td>14</td><td>S18_3856</td><td>1941 Chevrolet Special Deluxe Cabriolet</td><td>Vintage Cars</td><td>1:18</td><td>Exoto Designs</td><td>Features opening hood, opening doors, opening trunk, wide white wall tires, front door arm rests, working steering system, leather upholstery. Color black.</td><td>2378</td><td>64.58</td><td>105.87</td><td>141</td><td>DL460618</td><td>2005-05-19</td><td>46895.48</td><td>2915.50</td></tr>",
                            "<tr><td>10262</td><td>2004-06-24</td><td>2004-07-01</td><td>NULL</td><td>Cancelled</td><td>This customer found a better offer from one of our competitors. Will call back to renegotiate.</td><td>141</td><td>10262</td><td>S24_3420</td><td>46</td><td>65.75</td><td>11</td><td>S24_3420</td><td>1937 Horch 930V Limousine</td><td>Vintage Cars</td><td>1:24</td><td>Autoart Studio Design</td><td>Features opening hood, opening doors, opening trunk, wide white wall tires, front door arm rests, working steering system</td><td>2902</td><td>26.30</td><td>65.75</td><td>141</td><td>DL460618</td><td>2005-05-19</td><td>46895.48</td><td>3024.50</td></tr>",
                            "<tr><td>10262</td><td>2004-06-24</td><td>2004-07-01</td><td>NULL</td><td>Cancelled</td><td>This customer found a better offer from one of our competitors. Will call back to renegotiate.</td><td>141</td><td>10262</td><td>S24_3816</td><td>49</td><td>82.18</td><td>16</td><td>S24_3816</td><td>1940 Ford Delivery Sedan</td><td>Vintage Cars</td><td>1:24</td><td>Carousel DieCast Legends</td><td>Chrome Trim, Chrome Grille, Opening Hood, Opening Doors, Opening Trunk, Detailed Engine, Working Steering System. Color black.</td><td>6621</td><td>48.64</td><td>83.86</td><td>141</td><td>DL460618</td><td>2005-05-19</td><td>46895.48</td><td>4026.82</td></tr>",
                            "<tr><td>10262</td><td>2004-06-24</td><td>2004-07-01</td><td>NULL</td><td>Cancelled</td><td>This customer found a better offer from one of our competitors. Will call back to renegotiate.</td><td>141</td><td>10262</td><td>S32_4289</td><td>40</td><td>63.97</td><td>2</td><td>S32_4289</td><td>1928 Ford Phaeton Deluxe</td><td>Vintage Cars</td><td>1:32</td><td>Highway 66 Mini Classics</td><td>This model features grille-mounted chrome horn, lift-up louvered hood, fold-down rumble seat, working steering system</td><td>136</td><td>33.02</td><td>68.79</td><td>141</td><td>DL460618</td><td>2005-05-19</td><td>46895.48</td><td>2558.80</td></tr>",
                            "<tr><td>10262</td><td>2004-06-24</td><td>2004-07-01</td><td>NULL</td><td>Cancelled</td><td>This customer found a better offer from one of our competitors. Will call back to renegotiate.</td><td>141</td><td>10262</td><td>S50_1341</td><td>49</td><td>35.78</td><td>3</td><td>S50_1341</td><td>1930 Buick Marquette Phaeton</td><td>Vintage Cars</td><td>1:50</td><td>Studio M Art Models</td><td>Features opening trunk,  working steering system</td><td>7062</td><td>27.06</td><td>43.64</td><td>141</td><td>DL460618</td><td>2005-05-19</td><td>46895.48</td><td>1753.22</td></tr>",
                            "<tr><td>10262</td><td>2004-06-24</td><td>2004-07-01</td><td>NULL</td><td>Cancelled</td><td>This customer found a better offer from one of our competitors. Will call back to renegotiate.</td><td>141</td><td>10262</td><td>S18_3856</td><td>34</td><td>85.75</td><td>14</td><td>S18_3856</td><td>1941 Chevrolet Special Deluxe Cabriolet</td><td>Vintage Cars</td><td>1:18</td><td>Exoto Designs</td><td>Features opening hood, opening doors, opening trunk, wide white wall tires, front door arm rests, working steering system, leather upholstery. Color black.</td><td>2378</td><td>64.58</td><td>105.87</td><td>141</td><td>HJ32686</td><td>2004-01-30</td><td>59830.55</td><td>2915.50</td></tr>",
                            "<tr><td>10262</td><td>2004-06-24</td><td>2004-07-01</td><td>NULL</td><td>Cancelled</td><td>This customer found a better offer from one of our competitors. Will call back to renegotiate.</td><td>141</td><td>10262</td><td>S24_3420</td><td>46</td><td>65.75</td><td>11</td><td>S24_3420</td><td>1937 Horch 930V Limousine</td><td>Vintage Cars</td><td>1:24</td><td>Autoart Studio Design</td><td>Features opening hood, opening doors, opening trunk, wide white wall tires, front door arm rests, working steering system</td><td>2902</td><td>26.30</td><td>65.75</td><td>141</td><td>HJ32686</td><td>2004-01-30</td><td>59830.55</td><td>3024.50</td></tr>",
                            "<tr><td>10262</td><td>2004-06-24</td><td>2004-07-01</td><td>NULL</td><td>Cancelled</td><td>This customer found a better offer from one of our competitors. Will call back to renegotiate.</td><td>141</td><td>10262</td><td>S24_3816</td><td>49</td><td>82.18</td><td>16</td><td>S24_3816</td><td>1940 Ford Delivery Sedan</td><td>Vintage Cars</td><td>1:24</td><td>Carousel DieCast Legends</td><td>Chrome Trim, Chrome Grille, Opening Hood, Opening Doors, Opening Trunk, Detailed Engine, Working Steering System. Color black.</td><td>6621</td><td>48.64</td><td>83.86</td><td>141</td><td>HJ32686</td><td>2004-01-30</td><td>59830.55</td><td>4026.82</td></tr>",
                            "<tr><td>10262</td><td>2004-06-24</td><td>2004-07-01</td><td>NULL</td><td>Cancelled</td><td>This customer found a better offer from one of our competitors. Will call back to renegotiate.</td><td>141</td><td>10262</td><td>S32_4289</td><td>40</td><td>63.97</td><td>2</td><td>S32_4289</td><td>1928 Ford Phaeton Deluxe</td><td>Vintage Cars</td><td>1:32</td><td>Highway 66 Mini Classics</td><td>This model features grille-mounted chrome horn, lift-up louvered hood, fold-down rumble seat, working steering system</td><td>136</td><td>33.02</td><td>68.79</td><td>141</td><td>HJ32686</td><td>2004-01-30</td><td>59830.55</td><td>2558.80</td></tr>",
                            "<tr><td>10262</td><td>2004-06-24</td><td>2004-07-01</td><td>NULL</td><td>Cancelled</td><td>This customer found a better offer from one of our competitors. Will call back to renegotiate.</td><td>141</td><td>10262</td><td>S50_1341</td><td>49</td><td>35.78</td><td>3</td><td>S50_1341</td><td>1930 Buick Marquette Phaeton</td><td>Vintage Cars</td><td>1:50</td><td>Studio M Art Models</td><td>Features opening trunk,  working steering system</td><td>7062</td><td>27.06</td><td>43.64</td><td>141</td><td>HJ32686</td><td>2004-01-30</td><td>59830.55</td><td>1753.22</td></tr>",
                            "<tr><td>10262</td><td>2004-06-24</td><td>2004-07-01</td><td>NULL</td><td>Cancelled</td><td>This customer found a better offer from one of our competitors. Will call back to renegotiate.</td><td>141</td><td>10262</td><td>S18_3856</td><td>34</td><td>85.75</td><td>14</td><td>S18_3856</td><td>1941 Chevrolet Special Deluxe Cabriolet</td><td>Vintage Cars</td><td>1:18</td><td>Exoto Designs</td><td>Features opening hood, opening doors, opening trunk, wide white wall tires, front door arm rests, working steering system, leather upholstery. Color black.</td><td>2378</td><td>64.58</td><td>105.87</td><td>141</td><td>ID10962</td><td>2004-12-31</td><td>116208.40</td><td>2915.50</td></tr>",
                            "<tr><td>10262</td><td>2004-06-24</td><td>2004-07-01</td><td>NULL</td><td>Cancelled</td><td>This customer found a better offer from one of our competitors. Will call back to renegotiate.</td><td>141</td><td>10262</td><td>S24_3420</td><td>46</td><td>65.75</td><td>11</td><td>S24_3420</td><td>1937 Horch 930V Limousine</td><td>Vintage Cars</td><td>1:24</td><td>Autoart Studio Design</td><td>Features opening hood, opening doors, opening trunk, wide white wall tires, front door arm rests, working steering system</td><td>2902</td><td>26.30</td><td>65.75</td><td>141</td><td>ID10962</td><td>2004-12-31</td><td>116208.40</td><td>3024.50</td></tr>",
                            "<tr><td>10262</td><td>2004-06-24</td><td>2004-07-01</td><td>NULL</td><td>Cancelled</td><td>This customer found a better offer from one of our competitors. Will call back to renegotiate.</td><td>141</td><td>10262</td><td>S24_3816</td><td>49</td><td>82.18</td><td>16</td><td>S24_3816</td><td>1940 Ford Delivery Sedan</td><td>Vintage Cars</td><td>1:24</td><td>Carousel DieCast Legends</td><td>Chrome Trim, Chrome Grille, Opening Hood, Opening Doors, Opening Trunk, Detailed Engine, Working Steering System. Color black.</td><td>6621</td><td>48.64</td><td>83.86</td><td>141</td><td>ID10962</td><td>2004-12-31</td><td>116208.40</td><td>4026.82</td></tr>",
                            "<tr><td>10262</td><td>2004-06-24</td><td>2004-07-01</td><td>NULL</td><td>Cancelled</td><td>This customer found a better offer from one of our competitors. Will call back to renegotiate.</td><td>141</td><td>10262</td><td>S32_4289</td><td>40</td><td>63.97</td><td>2</td><td>S32_4289</td><td>1928 Ford Phaeton Deluxe</td><td>Vintage Cars</td><td>1:32</td><td>Highway 66 Mini Classics</td><td>This model features grille-mounted chrome horn, lift-up louvered hood, fold-down rumble seat, working steering system</td><td>136</td><td>33.02</td><td>68.79</td><td>141</td><td>ID10962</td><td>2004-12-31</td><td>116208.40</td><td>2558.80</td></tr>",
                            "<tr><td>10262</td><td>2004-06-24</td><td>2004-07-01</td><td>NULL</td><td>Cancelled</td><td>This customer found a better offer from one of our competitors. Will call back to renegotiate.</td><td>141</td><td>10262</td><td>S50_1341</td><td>49</td><td>35.78</td><td>3</td><td>S50_1341</td><td>1930 Buick Marquette Phaeton</td><td>Vintage Cars</td><td>1:50</td><td>Studio M Art Models</td><td>Features opening trunk,  working steering system</td><td>7062</td><td>27.06</td><td>43.64</td><td>141</td><td>ID10962</td><td>2004-12-31</td><td>116208.40</td><td>1753.22</td></tr>",
                            "<tr><td>10262</td><td>2004-06-24</td><td>2004-07-01</td><td>NULL</td><td>Cancelled</td><td>This customer found a better offer from one of our competitors. Will call back to renegotiate.</td><td>141</td><td>10262</td><td>S18_3856</td><td>34</td><td>85.75</td><td>14</td><td>S18_3856</td><td>1941 Chevrolet Special Deluxe Cabriolet</td><td>Vintage Cars</td><td>1:18</td><td>Exoto Designs</td><td>Features opening hood, opening doors, opening trunk, wide white wall tires, front door arm rests, working steering system, leather upholstery. Color black.</td><td>2378</td><td>64.58</td><td>105.87</td><td>141</td><td>IN446258</td><td>2005-03-25</td><td>65071.26</td><td>2915.50</td></tr>",
                            "<tr><td>10262</td><td>2004-06-24</td><td>2004-07-01</td><td>NULL</td><td>Cancelled</td><td>This customer found a better offer from one of our competitors. Will call back to renegotiate.</td><td>141</td><td>10262</td><td>S24_3420</td><td>46</td><td>65.75</td><td>11</td><td>S24_3420</td><td>1937 Horch 930V Limousine</td><td>Vintage Cars</td><td>1:24</td><td>Autoart Studio Design</td><td>Features opening hood, opening doors, opening trunk, wide white wall tires, front door arm rests, working steering system</td><td>2902</td><td>26.30</td><td>65.75</td><td>141</td><td>IN446258</td><td>2005-03-25</td><td>65071.26</td><td>3024.50</td></tr>",
                            "<tr><td>10262</td><td>2004-06-24</td><td>2004-07-01</td><td>NULL</td><td>Cancelled</td><td>This customer found a better offer from one of our competitors. Will call back to renegotiate.</td><td>141</td><td>10262</td><td>S24_3816</td><td>49</td><td>82.18</td><td>16</td><td>S24_3816</td><td>1940 Ford Delivery Sedan</td><td>Vintage Cars</td><td>1:24</td><td>Carousel DieCast Legends</td><td>Chrome Trim, Chrome Grille, Opening Hood, Opening Doors, Opening Trunk, Detailed Engine, Working Steering System. Color black.</td><td>6621</td><td>48.64</td><td>83.86</td><td>141</td><td>IN446258</td><td>2005-03-25</td><td>65071.26</td><td>4026.82</td></tr>",
                            "<tr><td>10262</td><td>2004-06-24</td><td>2004-07-01</td><td>NULL</td><td>Cancelled</td><td>This customer found a better offer from one of our competitors. Will call back to renegotiate.</td><td>141</td><td>10262</td><td>S32_4289</td><td>40</td><td>63.97</td><td>2</td><td>S32_4289</td><td>1928 Ford Phaeton Deluxe</td><td>Vintage Cars</td><td>1:32</td><td>Highway 66 Mini Classics</td><td>This model features grille-mounted chrome horn, lift-up louvered hood, fold-down rumble seat, working steering system</td><td>136</td><td>33.02</td><td>68.79</td><td>141</td><td>IN446258</td><td>2005-03-25</td><td>65071.26</td><td>2558.80</td></tr>",
                            "<tr><td>10262</td><td>2004-06-24</td><td>2004-07-01</td><td>NULL</td><td>Cancelled</td><td>This customer found a better offer from one of our competitors. Will call back to renegotiate.</td><td>141</td><td>10262</td><td>S50_1341</td><td>49</td><td>35.78</td><td>3</td><td>S50_1341</td><td>1930 Buick Marquette Phaeton</td><td>Vintage Cars</td><td>1:50</td><td>Studio M Art Models</td><td>Features opening trunk,  working steering system</td><td>7062</td><td>27.06</td><td>43.64</td><td>141</td><td>IN446258</td><td>2005-03-25</td><td>65071.26</td><td>1753.22</td></tr>",
                            "<tr><td>10262</td><td>2004-06-24</td><td>2004-07-01</td><td>NULL</td><td>Cancelled</td><td>This customer found a better offer from one of our competitors. Will call back to renegotiate.</td><td>141</td><td>10262</td><td>S18_3856</td><td>34</td><td>85.75</td><td>14</td><td>S18_3856</td><td>1941 Chevrolet Special Deluxe Cabriolet</td><td>Vintage Cars</td><td>1:18</td><td>Exoto Designs</td><td>Features opening hood, opening doors, opening trunk, wide white wall tires, front door arm rests, working steering system, leather upholstery. Color black.</td><td>2378</td><td>64.58</td><td>105.87</td><td>141</td><td>JE105477</td><td>2005-03-18</td><td>120166.58</td><td>2915.50</td></tr>",
                            "<tr><td>10262</td><td>2004-06-24</td><td>2004-07-01</td><td>NULL</td><td>Cancelled</td><td>This customer found a better offer from one of our competitors. Will call back to renegotiate.</td><td>141</td><td>10262</td><td>S24_3420</td><td>46</td><td>65.75</td><td>11</td><td>S24_3420</td><td>1937 Horch 930V Limousine</td><td>Vintage Cars</td><td>1:24</td><td>Autoart Studio Design</td><td>Features opening hood, opening doors, opening trunk, wide white wall tires, front door arm rests, working steering system</td><td>2902</td><td>26.30</td><td>65.75</td><td>141</td><td>JE105477</td><td>2005-03-18</td><td>120166.58</td><td>3024.50</td></tr>",
                            "<tr><td>10262</td><td>2004-06-24</td><td>2004-07-01</td><td>NULL</td><td>Cancelled</td><td>This customer found a better offer from one of our competitors. Will call back to renegotiate.</td><td>141</td><td>10262</td><td>S24_3816</td><td>49</td><td>82.18</td><td>16</td><td>S24_3816</td><td>1940 Ford Delivery Sedan</td><td>Vintage Cars</td><td>1:24</td><td>Carousel DieCast Legends</td><td>Chrome Trim, Chrome Grille, Opening Hood, Opening Doors, Opening Trunk, Detailed Engine, Working Steering System. Color black.</td><td>6621</td><td>48.64</td><td>83.86</td><td>141</td><td>JE105477</td><td>2005-03-18</td><td>120166.58</td><td>4026.82</td></tr>",
                            "<tr><td>10262</td><td>2004-06-24</td><td>2004-07-01</td><td>NULL</td><td>Cancelled</td><td>This customer found a better offer from one of our competitors. Will call back to renegotiate.</td><td>141</td><td>10262</td><td>S32_4289</td><td>40</td><td>63.97</td><td>2</td><td>S32_4289</td><td>1928 Ford Phaeton Deluxe</td><td>Vintage Cars</td><td>1:32</td><td>Highway 66 Mini Classics</td><td>This model features grille-mounted chrome horn, lift-up louvered hood, fold-down rumble seat, working steering system</td><td>136</td><td>33.02</td><td>68.79</td><td>141</td><td>JE105477</td><td>2005-03-18</td><td>120166.58</td><td>2558.80</td></tr>",
                            "<tr><td>10262</td><td>2004-06-24</td><td>2004-07-01</td><td>NULL</td><td>Cancelled</td><td>This customer found a better offer from one of our competitors. Will call back to renegotiate.</td><td>141</td><td>10262</td><td>S50_1341</td><td>49</td><td>35.78</td><td>3</td><td>S50_1341</td><td>1930 Buick Marquette Phaeton</td><td>Vintage Cars</td><td>1:50</td><td>Studio M Art Models</td><td>Features opening trunk,  working steering system</td><td>7062</td><td>27.06</td><td>43.64</td><td>141</td><td>JE105477</td><td>2005-03-18</td><td>120166.58</td><td>1753.22</td></tr>",
                            "<tr><td>10262</td><td>2004-06-24</td><td>2004-07-01</td><td>NULL</td><td>Cancelled</td><td>This customer found a better offer from one of our competitors. Will call back to renegotiate.</td><td>141</td><td>10262</td><td>S18_3856</td><td>34</td><td>85.75</td><td>14</td><td>S18_3856</td><td>1941 Chevrolet Special Deluxe Cabriolet</td><td>Vintage Cars</td><td>1:18</td><td>Exoto Designs</td><td>Features opening hood, opening doors, opening trunk, wide white wall tires, front door arm rests, working steering system, leather upholstery. Color black.</td><td>2378</td><td>64.58</td><td>105.87</td><td>141</td><td>JN355280</td><td>2003-10-26</td><td>49539.37</td><td>2915.50</td></tr>",
                            "<tr><td>10262</td><td>2004-06-24</td><td>2004-07-01</td><td>NULL</td><td>Cancelled</td><td>This customer found a better offer from one of our competitors. Will call back to renegotiate.</td><td>141</td><td>10262</td><td>S24_3420</td><td>46</td><td>65.75</td><td>11</td><td>S24_3420</td><td>1937 Horch 930V Limousine</td><td>Vintage Cars</td><td>1:24</td><td>Autoart Studio Design</td><td>Features opening hood, opening doors, opening trunk, wide white wall tires, front door arm rests, working steering system</td><td>2902</td><td>26.30</td><td>65.75</td><td>141</td><td>JN355280</td><td>2003-10-26</td><td>49539.37</td><td>3024.50</td></tr>",
                            "<tr><td>10262</td><td>2004-06-24</td><td>2004-07-01</td><td>NULL</td><td>Cancelled</td><td>This customer found a better offer from one of our competitors. Will call back to renegotiate.</td><td>141</td><td>10262</td><td>S24_3816</td><td>49</td><td>82.18</td><td>16</td><td>S24_3816</td><td>1940 Ford Delivery Sedan</td><td>Vintage Cars</td><td>1:24</td><td>Carousel DieCast Legends</td><td>Chrome Trim, Chrome Grille, Opening Hood, Opening Doors, Opening Trunk, Detailed Engine, Working Steering System. Color black.</td><td>6621</td><td>48.64</td><td>83.86</td><td>141</td><td>JN355280</td><td>2003-10-26</td><td>49539.37</td><td>4026.82</td></tr>",
                            "<tr><td>10262</td><td>2004-06-24</td><td>2004-07-01</td><td>NULL</td><td>Cancelled</td><td>This customer found a better offer from one of our competitors. Will call back to renegotiate.</td><td>141</td><td>10262</td><td>S32_4289</td><td>40</td><td>63.97</td><td>2</td><td>S32_4289</td><td>1928 Ford Phaeton Deluxe</td><td>Vintage Cars</td><td>1:32</td><td>Highway 66 Mini Classics</td><td>This model features grille-mounted chrome horn, lift-up louvered hood, fold-down rumble seat, working steering system</td><td>136</td><td>33.02</td><td>68.79</td><td>141</td><td>JN355280</td><td>2003-10-26</td><td>49539.37</td><td>2558.80</td></tr>",
                            "<tr><td>10262</td><td>2004-06-24</td><td>2004-07-01</td><td>NULL</td><td>Cancelled</td><td>This customer found a better offer from one of our competitors. Will call back to renegotiate.</td><td>141</td><td>10262</td><td>S50_1341</td><td>49</td><td>35.78</td><td>3</td><td>S50_1341</td><td>1930 Buick Marquette Phaeton</td><td>Vintage Cars</td><td>1:50</td><td>Studio M Art Models</td><td>Features opening trunk,  working steering system</td><td>7062</td><td>27.06</td><td>43.64</td><td>141</td><td>JN355280</td><td>2003-10-26</td><td>49539.37</td><td>1753.22</td></tr>",
                            "<tr><td>10262</td><td>2004-06-24</td><td>2004-07-01</td><td>NULL</td><td>Cancelled</td><td>This customer found a better offer from one of our competitors. Will call back to renegotiate.</td><td>141</td><td>10262</td><td>S18_3856</td><td>34</td><td>85.75</td><td>14</td><td>S18_3856</td><td>1941 Chevrolet Special Deluxe Cabriolet</td><td>Vintage Cars</td><td>1:18</td><td>Exoto Designs</td><td>Features opening hood, opening doors, opening trunk, wide white wall tires, front door arm rests, working steering system, leather upholstery. Color black.</td><td>2378</td><td>64.58</td><td>105.87</td><td>141</td><td>JN722010</td><td>2003-02-25</td><td>40206.20</td><td>2915.50</td></tr>",
                            "<tr><td>10262</td><td>2004-06-24</td><td>2004-07-01</td><td>NULL</td><td>Cancelled</td><td>This customer found a better offer from one of our competitors. Will call back to renegotiate.</td><td>141</td><td>10262</td><td>S24_3420</td><td>46</td><td>65.75</td><td>11</td><td>S24_3420</td><td>1937 Horch 930V Limousine</td><td>Vintage Cars</td><td>1:24</td><td>Autoart Studio Design</td><td>Features opening hood, opening doors, opening trunk, wide white wall tires, front door arm rests, working steering system</td><td>2902</td><td>26.30</td><td>65.75</td><td>141</td><td>JN722010</td><td>2003-02-25</td><td>40206.20</td><td>3024.50</td></tr>",
                            "<tr><td>10262</td><td>2004-06-24</td><td>2004-07-01</td><td>NULL</td><td>Cancelled</td><td>This customer found a better offer from one of our competitors. Will call back to renegotiate.</td><td>141</td><td>10262</td><td>S24_3816</td><td>49</td><td>82.18</td><td>16</td><td>S24_3816</td><td>1940 Ford Delivery Sedan</td><td>Vintage Cars</td><td>1:24</td><td>Carousel DieCast Legends</td><td>Chrome Trim, Chrome Grille, Opening Hood, Opening Doors, Opening Trunk, Detailed Engine, Working Steering System. Color black.</td><td>6621</td><td>48.64</td><td>83.86</td><td>141</td><td>JN722010</td><td>2003-02-25</td><td>40206.20</td><td>4026.82</td></tr>",
                            "<tr><td>10262</td><td>2004-06-24</td><td>2004-07-01</td><td>NULL</td><td>Cancelled</td><td>This customer found a better offer from one of our competitors. Will call back to renegotiate.</td><td>141</td><td>10262</td><td>S32_4289</td><td>40</td><td>63.97</td><td>2</td><td>S32_4289</td><td>1928 Ford Phaeton Deluxe</td><td>Vintage Cars</td><td>1:32</td><td>Highway 66 Mini Classics</td><td>This model features grille-mounted chrome horn, lift-up louvered hood, fold-down rumble seat, working steering system</td><td>136</td><td>33.02</td><td>68.79</td><td>141</td><td>JN722010</td><td>2003-02-25</td><td>40206.20</td><td>2558.80</td></tr>",
                            "<tr><td>10262</td><td>2004-06-24</td><td>2004-07-01</td><td>NULL</td><td>Cancelled</td><td>This customer found a better offer from one of our competitors. Will call back to renegotiate.</td><td>141</td><td>10262</td><td>S50_1341</td><td>49</td><td>35.78</td><td>3</td><td>S50_1341</td><td>1930 Buick Marquette Phaeton</td><td>Vintage Cars</td><td>1:50</td><td>Studio M Art Models</td><td>Features opening trunk,  working steering system</td><td>7062</td><td>27.06</td><td>43.64</td><td>141</td><td>JN722010</td><td>2003-02-25</td><td>40206.20</td><td>1753.22</td></tr>",
                            "<tr><td>10262</td><td>2004-06-24</td><td>2004-07-01</td><td>NULL</td><td>Cancelled</td><td>This customer found a better offer from one of our competitors. Will call back to renegotiate.</td><td>141</td><td>10262</td><td>S18_3856</td><td>34</td><td>85.75</td><td>14</td><td>S18_3856</td><td>1941 Chevrolet Special Deluxe Cabriolet</td><td>Vintage Cars</td><td>1:18</td><td>Exoto Designs</td><td>Features opening hood, opening doors, opening trunk, wide white wall tires, front door arm rests, working steering system, leather upholstery. Color black.</td><td>2378</td><td>64.58</td><td>105.87</td><td>141</td><td>KT52578</td><td>2003-12-09</td><td>63843.55</td><td>2915.50</td></tr>",
                            "<tr><td>10262</td><td>2004-06-24</td><td>2004-07-01</td><td>NULL</td><td>Cancelled</td><td>This customer found a better offer from one of our competitors. Will call back to renegotiate.</td><td>141</td><td>10262</td><td>S24_3420</td><td>46</td><td>65.75</td><td>11</td><td>S24_3420</td><td>1937 Horch 930V Limousine</td><td>Vintage Cars</td><td>1:24</td><td>Autoart Studio Design</td><td>Features opening hood, opening doors, opening trunk, wide white wall tires, front door arm rests, working steering system</td><td>2902</td><td>26.30</td><td>65.75</td><td>141</td><td>KT52578</td><td>2003-12-09</td><td>63843.55</td><td>3024.50</td></tr>",
                            "<tr><td>10262</td><td>2004-06-24</td><td>2004-07-01</td><td>NULL</td><td>Cancelled</td><td>This customer found a better offer from one of our competitors. Will call back to renegotiate.</td><td>141</td><td>10262</td><td>S24_3816</td><td>49</td><td>82.18</td><td>16</td><td>S24_3816</td><td>1940 Ford Delivery Sedan</td><td>Vintage Cars</td><td>1:24</td><td>Carousel DieCast Legends</td><td>Chrome Trim, Chrome Grille, Opening Hood, Opening Doors, Opening Trunk, Detailed Engine, Working Steering System. Color black.</td><td>6621</td><td>48.64</td><td>83.86</td><td>141</td><td>KT52578</td><td>2003-12-09</td><td>63843.55</td><td>4026.82</td></tr>",
                            "<tr><td>10262</td><td>2004-06-24</td><td>2004-07-01</td><td>NULL</td><td>Cancelled</td><td>This customer found a better offer from one of our competitors. Will call back to renegotiate.</td><td>141</td><td>10262</td><td>S32_4289</td><td>40</td><td>63.97</td><td>2</td><td>S32_4289</td><td>1928 Ford Phaeton Deluxe</td><td>Vintage Cars</td><td>1:32</td><td>Highway 66 Mini Classics</td><td>This model features grille-mounted chrome horn, lift-up louvered hood, fold-down rumble seat, working steering system</td><td>136</td><td>33.02</td><td>68.79</td><td>141</td><td>KT52578</td><td>2003-12-09</td><td>63843.55</td><td>2558.80</td></tr>",
                            "<tr><td>10262</td><td>2004-06-24</td><td>2004-07-01</td><td>NULL</td><td>Cancelled</td><td>This customer found a better offer from one of our competitors. Will call back to renegotiate.</td><td>141</td><td>10262</td><td>S50_1341</td><td>49</td><td>35.78</td><td>3</td><td>S50_1341</td><td>1930 Buick Marquette Phaeton</td><td>Vintage Cars</td><td>1:50</td><td>Studio M Art Models</td><td>Features opening trunk,  working steering system</td><td>7062</td><td>27.06</td><td>43.64</td><td>141</td><td>KT52578</td><td>2003-12-09</td><td>63843.55</td><td>1753.22</td></tr>",
                            "<tr><td>10262</td><td>2004-06-24</td><td>2004-07-01</td><td>NULL</td><td>Cancelled</td><td>This customer found a better offer from one of our competitors. Will call back to renegotiate.</td><td>141</td><td>10262</td><td>S18_3856</td><td>34</td><td>85.75</td><td>14</td><td>S18_3856</td><td>1941 Chevrolet Special Deluxe Cabriolet</td><td>Vintage Cars</td><td>1:18</td><td>Exoto Designs</td><td>Features opening hood, opening doors, opening trunk, wide white wall tires, front door arm rests, working steering system, leather upholstery. Color black.</td><td>2378</td><td>64.58</td><td>105.87</td><td>141</td><td>MC46946</td><td>2004-07-09</td><td>35420.74</td><td>2915.50</td></tr>",
                            "<tr><td>10262</td><td>2004-06-24</td><td>2004-07-01</td><td>NULL</td><td>Cancelled</td><td>This customer found a better offer from one of our competitors. Will call back to renegotiate.</td><td>141</td><td>10262</td><td>S24_3420</td><td>46</td><td>65.75</td><td>11</td><td>S24_3420</td><td>1937 Horch 930V Limousine</td><td>Vintage Cars</td><td>1:24</td><td>Autoart Studio Design</td><td>Features opening hood, opening doors, opening trunk, wide white wall tires, front door arm rests, working steering system</td><td>2902</td><td>26.30</td><td>65.75</td><td>141</td><td>MC46946</td><td>2004-07-09</td><td>35420.74</td><td>3024.50</td></tr>",
                            "<tr><td>10262</td><td>2004-06-24</td><td>2004-07-01</td><td>NULL</td><td>Cancelled</td><td>This customer found a better offer from one of our competitors. Will call back to renegotiate.</td><td>141</td><td>10262</td><td>S24_3816</td><td>49</td><td>82.18</td><td>16</td><td>S24_3816</td><td>1940 Ford Delivery Sedan</td><td>Vintage Cars</td><td>1:24</td><td>Carousel DieCast Legends</td><td>Chrome Trim, Chrome Grille, Opening Hood, Opening Doors, Opening Trunk, Detailed Engine, Working Steering System. Color black.</td><td>6621</td><td>48.64</td><td>83.86</td><td>141</td><td>MC46946</td><td>2004-07-09</td><td>35420.74</td><td>4026.82</td></tr>",
                            "<tr><td>10262</td><td>2004-06-24</td><td>2004-07-01</td><td>NULL</td><td>Cancelled</td><td>This customer found a better offer from one of our competitors. Will call back to renegotiate.</td><td>141</td><td>10262</td><td>S32_4289</td><td>40</td><td>63.97</td><td>2</td><td>S32_4289</td><td>1928 Ford Phaeton Deluxe</td><td>Vintage Cars</td><td>1:32</td><td>Highway 66 Mini Classics</td><td>This model features grille-mounted chrome horn, lift-up louvered hood, fold-down rumble seat, working steering system</td><td>136</td><td>33.02</td><td>68.79</td><td>141</td><td>MC46946</td><td>2004-07-09</td><td>35420.74</td><td>2558.80</td></tr>",
                            "<tr><td>10262</td><td>2004-06-24</td><td>2004-07-01</td><td>NULL</td><td>Cancelled</td><td>This customer found a better offer from one of our competitors. Will call back to renegotiate.</td><td>141</td><td>10262</td><td>S50_1341</td><td>49</td><td>35.78</td><td>3</td><td>S50_1341</td><td>1930 Buick Marquette Phaeton</td><td>Vintage Cars</td><td>1:50</td><td>Studio M Art Models</td><td>Features opening trunk,  working steering system</td><td>7062</td><td>27.06</td><td>43.64</td><td>141</td><td>MC46946</td><td>2004-07-09</td><td>35420.74</td><td>1753.22</td></tr>",
                            "<tr><td>10262</td><td>2004-06-24</td><td>2004-07-01</td><td>NULL</td><td>Cancelled</td><td>This customer found a better offer from one of our competitors. Will call back to renegotiate.</td><td>141</td><td>10262</td><td>S18_3856</td><td>34</td><td>85.75</td><td>14</td><td>S18_3856</td><td>1941 Chevrolet Special Deluxe Cabriolet</td><td>Vintage Cars</td><td>1:18</td><td>Exoto Designs</td><td>Features opening hood, opening doors, opening trunk, wide white wall tires, front door arm rests, working steering system, leather upholstery. Color black.</td><td>2378</td><td>64.58</td><td>105.87</td><td>141</td><td>MF629602</td><td>2004-08-16</td><td>20009.53</td><td>2915.50</td></tr>",
                            "<tr><td>10262</td><td>2004-06-24</td><td>2004-07-01</td><td>NULL</td><td>Cancelled</td><td>This customer found a better offer from one of our competitors. Will call back to renegotiate.</td><td>141</td><td>10262</td><td>S24_3420</td><td>46</td><td>65.75</td><td>11</td><td>S24_3420</td><td>1937 Horch 930V Limousine</td><td>Vintage Cars</td><td>1:24</td><td>Autoart Studio Design</td><td>Features opening hood, opening doors, opening trunk, wide white wall tires, front door arm rests, working steering system</td><td>2902</td><td>26.30</td><td>65.75</td><td>141</td><td>MF629602</td><td>2004-08-16</td><td>20009.53</td><td>3024.50</td></tr>",
                            "<tr><td>10262</td><td>2004-06-24</td><td>2004-07-01</td><td>NULL</td><td>Cancelled</td><td>This customer found a better offer from one of our competitors. Will call back to renegotiate.</td><td>141</td><td>10262</td><td>S24_3816</td><td>49</td><td>82.18</td><td>16</td><td>S24_3816</td><td>1940 Ford Delivery Sedan</td><td>Vintage Cars</td><td>1:24</td><td>Carousel DieCast Legends</td><td>Chrome Trim, Chrome Grille, Opening Hood, Opening Doors, Opening Trunk, Detailed Engine, Working Steering System. Color black.</td><td>6621</td><td>48.64</td><td>83.86</td><td>141</td><td>MF629602</td><td>2004-08-16</td><td>20009.53</td><td>4026.82</td></tr>",
                            "<tr><td>10262</td><td>2004-06-24</td><td>2004-07-01</td><td>NULL</td><td>Cancelled</td><td>This customer found a better offer from one of our competitors. Will call back to renegotiate.</td><td>141</td><td>10262</td><td>S32_4289</td><td>40</td><td>63.97</td><td>2</td><td>S32_4289</td><td>1928 Ford Phaeton Deluxe</td><td>Vintage Cars</td><td>1:32</td><td>Highway 66 Mini Classics</td><td>This model features grille-mounted chrome horn, lift-up louvered hood, fold-down rumble seat, working steering system</td><td>136</td><td>33.02</td><td>68.79</td><td>141</td><td>MF629602</td><td>2004-08-16</td><td>20009.53</td><td>2558.80</td></tr>",
                            "<tr><td>10262</td><td>2004-06-24</td><td>2004-07-01</td><td>NULL</td><td>Cancelled</td><td>This customer found a better offer from one of our competitors. Will call back to renegotiate.</td><td>141</td><td>10262</td><td>S50_1341</td><td>49</td><td>35.78</td><td>3</td><td>S50_1341</td><td>1930 Buick Marquette Phaeton</td><td>Vintage Cars</td><td>1:50</td><td>Studio M Art Models</td><td>Features opening trunk,  working steering system</td><td>7062</td><td>27.06</td><td>43.64</td><td>141</td><td>MF629602</td><td>2004-08-16</td><td>20009.53</td><td>1753.22</td></tr>",
                            "<tr><td>10262</td><td>2004-06-24</td><td>2004-07-01</td><td>NULL</td><td>Cancelled</td><td>This customer found a better offer from one of our competitors. Will call back to renegotiate.</td><td>141</td><td>10262</td><td>S18_3856</td><td>34</td><td>85.75</td><td>14</td><td>S18_3856</td><td>1941 Chevrolet Special Deluxe Cabriolet</td><td>Vintage Cars</td><td>1:18</td><td>Exoto Designs</td><td>Features opening hood, opening doors, opening trunk, wide white wall tires, front door arm rests, working steering system, leather upholstery. Color black.</td><td>2378</td><td>64.58</td><td>105.87</td><td>141</td><td>NU627706</td><td>2004-05-17</td><td>26155.91</td><td>2915.50</td></tr>",
                            "<tr><td>10262</td><td>2004-06-24</td><td>2004-07-01</td><td>NULL</td><td>Cancelled</td><td>This customer found a better offer from one of our competitors. Will call back to renegotiate.</td><td>141</td><td>10262</td><td>S24_3420</td><td>46</td><td>65.75</td><td>11</td><td>S24_3420</td><td>1937 Horch 930V Limousine</td><td>Vintage Cars</td><td>1:24</td><td>Autoart Studio Design</td><td>Features opening hood, opening doors, opening trunk, wide white wall tires, front door arm rests, working steering system</td><td>2902</td><td>26.30</td><td>65.75</td><td>141</td><td>NU627706</td><td>2004-05-17</td><td>26155.91</td><td>3024.50</td></tr>",
                            "<tr><td>10262</td><td>2004-06-24</td><td>2004-07-01</td><td>NULL</td><td>Cancelled</td><td>This customer found a better offer from one of our competitors. Will call back to renegotiate.</td><td>141</td><td>10262</td><td>S24_3816</td><td>49</td><td>82.18</td><td>16</td><td>S24_3816</td><td>1940 Ford Delivery Sedan</td><td>Vintage Cars</td><td>1:24</td><td>Carousel DieCast Legends</td><td>Chrome Trim, Chrome Grille, Opening Hood, Opening Doors, Opening Trunk, Detailed Engine, Working Steering System. Color black.</td><td>6621</td><td>48.64</td><td>83.86</td><td>141</td><td>NU627706</td><td>2004-05-17</td><td>26155.91</td><td>4026.82</td></tr>",
                            "<tr><td>10262</td><td>2004-06-24</td><td>2004-07-01</td><td>NULL</td><td>Cancelled</td><td>This customer found a better offer from one of our competitors. Will call back to renegotiate.</td><td>141</td><td>10262</td><td>S32_4289</td><td>40</td><td>63.97</td><td>2</td><td>S32_4289</td><td>1928 Ford Phaeton Deluxe</td><td>Vintage Cars</td><td>1:32</td><td>Highway 66 Mini Classics</td><td>This model features grille-mounted chrome horn, lift-up louvered hood, fold-down rumble seat, working steering system</td><td>136</td><td>33.02</td><td>68.79</td><td>141</td><td>NU627706</td><td>2004-05-17</td><td>26155.91</td><td>2558.80</td></tr>",
                            "<tr><td>10262</td><td>2004-06-24</td><td>2004-07-01</td><td>NULL</td><td>Cancelled</td><td>This customer found a better offer from one of our competitors. Will call back to renegotiate.</td><td>141</td><td>10262</td><td>S50_1341</td><td>49</td><td>35.78</td><td>3</td><td>S50_1341</td><td>1930 Buick Marquette Phaeton</td><td>Vintage Cars</td><td>1:50</td><td>Studio M Art Models</td><td>Features opening trunk,  working steering system</td><td>7062</td><td>27.06</td><td>43.64</td><td>141</td><td>NU627706</td><td>2004-05-17</td><td>26155.91</td><td>1753.22</td></tr>",
                            "</table>"
                        ]
                    }
                }
            ],
            "execution_count": 170
        },
        {
            "cell_type": "code",
            "source": [
                "select sum(amount) from payments\n",
                "join \n",
                "(select distinct checkNumber from orders\n",
                "join orderdetails on orders.orderNumber = orderdetails.orderNumber\n",
                "join products on products.productCode = orderdetails.productCode\n",
                "join payments on payments.customerNumber = orders.customerNumber\n",
                "where status not in ('Cancelled')\n",
                "and shippedDate is not Null\n",
                "and productLine = 'Vintage Cars'\n",
                "and paymentDate between '2003-10-01' and'2003-12-31') as a on payments.checkNumber = a.checkNumber;"
            ],
            "metadata": {
                "azdata_cell_guid": "e023d71f-044b-46a2-9826-1cca4a5540ff",
                "language": "sql"
            },
            "outputs": [
                {
                    "output_type": "display_data",
                    "data": {
                        "text/html": "(1 row(s) affected)"
                    },
                    "metadata": {}
                },
                {
                    "output_type": "display_data",
                    "data": {
                        "text/html": "Total execution time: 00:00:01.012"
                    },
                    "metadata": {}
                },
                {
                    "output_type": "execute_result",
                    "metadata": {},
                    "execution_count": 159,
                    "data": {
                        "application/vnd.dataresource+json": {
                            "schema": {
                                "fields": [
                                    {
                                        "name": "sum(amount)"
                                    }
                                ]
                            },
                            "data": [
                                {
                                    "sum(amount)": "1742136.92"
                                }
                            ]
                        },
                        "text/html": [
                            "<table>",
                            "<tr><th>sum(amount)</th></tr>",
                            "<tr><td>1742136.92</td></tr>",
                            "</table>"
                        ]
                    }
                }
            ],
            "execution_count": 159
        },
        {
            "cell_type": "code",
            "source": [
                "-- 1 orderNumber - 1 customer - 1+ productCode\n",
                "select sum(totalprice) from\n",
                "( select (quantityOrdered * priceEach) as totalprice \n",
                "from orders\n",
                "join orderdetails on orders.orderNumber = orderdetails.orderNumber\n",
                "join products on products.productCode = orderdetails.productCode\n",
                "where status not in ('Cancelled')\n",
                "and shippedDate is not Null\n",
                "and productLine = 'Vintage Cars'\n",
                "and ShippedDate between '2003-10-01' and'2003-12-31') as a"
            ],
            "metadata": {
                "azdata_cell_guid": "9ebc9346-48e2-40dd-bdfc-939f6503cc38",
                "language": "sql"
            },
            "outputs": [
                {
                    "output_type": "display_data",
                    "data": {
                        "text/html": "(1 row(s) affected)"
                    },
                    "metadata": {}
                },
                {
                    "output_type": "display_data",
                    "data": {
                        "text/html": "Total execution time: 00:00:01.009"
                    },
                    "metadata": {}
                },
                {
                    "output_type": "execute_result",
                    "metadata": {},
                    "execution_count": 160,
                    "data": {
                        "application/vnd.dataresource+json": {
                            "schema": {
                                "fields": [
                                    {
                                        "name": "sum(totalprice)"
                                    }
                                ]
                            },
                            "data": [
                                {
                                    "sum(totalprice)": "308107.05"
                                }
                            ]
                        },
                        "text/html": [
                            "<table>",
                            "<tr><th>sum(totalprice)</th></tr>",
                            "<tr><td>308107.05</td></tr>",
                            "</table>"
                        ]
                    }
                }
            ],
            "execution_count": 160
        },
        {
            "cell_type": "code",
            "source": [
                "show tables"
            ],
            "metadata": {
                "azdata_cell_guid": "a637d98b-45d5-498b-86a9-ea5d9c687b6b",
                "language": "sql"
            },
            "outputs": [
                {
                    "output_type": "display_data",
                    "data": {
                        "text/html": "(8 row(s) affected)"
                    },
                    "metadata": {}
                },
                {
                    "output_type": "display_data",
                    "data": {
                        "text/html": "Total execution time: 00:00:01.009"
                    },
                    "metadata": {}
                },
                {
                    "output_type": "execute_result",
                    "metadata": {},
                    "execution_count": 161,
                    "data": {
                        "application/vnd.dataresource+json": {
                            "schema": {
                                "fields": [
                                    {
                                        "name": "Tables_in_classicmodels"
                                    }
                                ]
                            },
                            "data": [
                                {
                                    "Tables_in_classicmodels": "customers"
                                },
                                {
                                    "Tables_in_classicmodels": "employees"
                                },
                                {
                                    "Tables_in_classicmodels": "offices"
                                },
                                {
                                    "Tables_in_classicmodels": "orderdetails"
                                },
                                {
                                    "Tables_in_classicmodels": "orders"
                                },
                                {
                                    "Tables_in_classicmodels": "payments"
                                },
                                {
                                    "Tables_in_classicmodels": "productlines"
                                },
                                {
                                    "Tables_in_classicmodels": "products"
                                }
                            ]
                        },
                        "text/html": [
                            "<table>",
                            "<tr><th>Tables_in_classicmodels</th></tr>",
                            "<tr><td>customers</td></tr>",
                            "<tr><td>employees</td></tr>",
                            "<tr><td>offices</td></tr>",
                            "<tr><td>orderdetails</td></tr>",
                            "<tr><td>orders</td></tr>",
                            "<tr><td>payments</td></tr>",
                            "<tr><td>productlines</td></tr>",
                            "<tr><td>products</td></tr>",
                            "</table>"
                        ]
                    }
                }
            ],
            "execution_count": 161
        },
        {
            "cell_type": "code",
            "source": [
                "describe products"
            ],
            "metadata": {
                "azdata_cell_guid": "96e37147-cb9a-4348-8ed5-d7efa367a048",
                "language": "sql"
            },
            "outputs": [
                {
                    "output_type": "display_data",
                    "data": {
                        "text/html": "(9 row(s) affected)"
                    },
                    "metadata": {}
                },
                {
                    "output_type": "display_data",
                    "data": {
                        "text/html": "Total execution time: 00:00:01.009"
                    },
                    "metadata": {}
                },
                {
                    "output_type": "execute_result",
                    "metadata": {},
                    "execution_count": 162,
                    "data": {
                        "application/vnd.dataresource+json": {
                            "schema": {
                                "fields": [
                                    {
                                        "name": "Field"
                                    },
                                    {
                                        "name": "Type"
                                    },
                                    {
                                        "name": "Null"
                                    },
                                    {
                                        "name": "Key"
                                    },
                                    {
                                        "name": "Default"
                                    },
                                    {
                                        "name": "Extra"
                                    }
                                ]
                            },
                            "data": [
                                {
                                    "Field": "productCode",
                                    "Type": "b'varchar(15)'",
                                    "Null": "NO",
                                    "Key": "PRI",
                                    "Default": "NULL",
                                    "Extra": ""
                                },
                                {
                                    "Field": "productName",
                                    "Type": "b'varchar(70)'",
                                    "Null": "NO",
                                    "Key": "",
                                    "Default": "NULL",
                                    "Extra": ""
                                },
                                {
                                    "Field": "productLine",
                                    "Type": "b'varchar(50)'",
                                    "Null": "NO",
                                    "Key": "MUL",
                                    "Default": "NULL",
                                    "Extra": ""
                                },
                                {
                                    "Field": "productScale",
                                    "Type": "b'varchar(10)'",
                                    "Null": "NO",
                                    "Key": "",
                                    "Default": "NULL",
                                    "Extra": ""
                                },
                                {
                                    "Field": "productVendor",
                                    "Type": "b'varchar(50)'",
                                    "Null": "NO",
                                    "Key": "",
                                    "Default": "NULL",
                                    "Extra": ""
                                },
                                {
                                    "Field": "productDescription",
                                    "Type": "b'text'",
                                    "Null": "NO",
                                    "Key": "",
                                    "Default": "NULL",
                                    "Extra": ""
                                },
                                {
                                    "Field": "quantityInStock",
                                    "Type": "b'smallint'",
                                    "Null": "NO",
                                    "Key": "",
                                    "Default": "NULL",
                                    "Extra": ""
                                },
                                {
                                    "Field": "buyPrice",
                                    "Type": "b'decimal(10,2)'",
                                    "Null": "NO",
                                    "Key": "",
                                    "Default": "NULL",
                                    "Extra": ""
                                },
                                {
                                    "Field": "MSRP",
                                    "Type": "b'decimal(10,2)'",
                                    "Null": "NO",
                                    "Key": "",
                                    "Default": "NULL",
                                    "Extra": ""
                                }
                            ]
                        },
                        "text/html": [
                            "<table>",
                            "<tr><th>Field</th><th>Type</th><th>Null</th><th>Key</th><th>Default</th><th>Extra</th></tr>",
                            "<tr><td>productCode</td><td>b&#39;varchar(15)&#39;</td><td>NO</td><td>PRI</td><td>NULL</td><td></td></tr>",
                            "<tr><td>productName</td><td>b&#39;varchar(70)&#39;</td><td>NO</td><td></td><td>NULL</td><td></td></tr>",
                            "<tr><td>productLine</td><td>b&#39;varchar(50)&#39;</td><td>NO</td><td>MUL</td><td>NULL</td><td></td></tr>",
                            "<tr><td>productScale</td><td>b&#39;varchar(10)&#39;</td><td>NO</td><td></td><td>NULL</td><td></td></tr>",
                            "<tr><td>productVendor</td><td>b&#39;varchar(50)&#39;</td><td>NO</td><td></td><td>NULL</td><td></td></tr>",
                            "<tr><td>productDescription</td><td>b&#39;text&#39;</td><td>NO</td><td></td><td>NULL</td><td></td></tr>",
                            "<tr><td>quantityInStock</td><td>b&#39;smallint&#39;</td><td>NO</td><td></td><td>NULL</td><td></td></tr>",
                            "<tr><td>buyPrice</td><td>b&#39;decimal(10,2)&#39;</td><td>NO</td><td></td><td>NULL</td><td></td></tr>",
                            "<tr><td>MSRP</td><td>b&#39;decimal(10,2)&#39;</td><td>NO</td><td></td><td>NULL</td><td></td></tr>",
                            "</table>"
                        ]
                    }
                }
            ],
            "execution_count": 162
        },
        {
            "cell_type": "code",
            "source": [
                "SELECT SUM(totalRevenue) AS totalVintageCarsRevenue\n",
                "FROM (\n",
                "    SELECT od.orderNumber, SUM(od.quantityOrdered * od.priceEach) AS totalRevenue\n",
                "    FROM orderdetails od\n",
                "    JOIN orders o ON od.orderNumber = o.orderNumber\n",
                "    JOIN products p ON od.productCode = p.productCode\n",
                "    WHERE p.productLine = 'Vintage Cars'\n",
                "      AND o.orderDate BETWEEN '2003-10-01' AND '2003-12-31'\n",
                "    GROUP BY od.orderNumber\n",
                ") AS order_totals;\n",
                ""
            ],
            "metadata": {
                "azdata_cell_guid": "e93e39d8-e1ae-4708-a1ce-17ee052517cf",
                "language": "sql"
            },
            "outputs": [
                {
                    "output_type": "display_data",
                    "data": {
                        "text/html": "(1 row(s) affected)"
                    },
                    "metadata": {}
                },
                {
                    "output_type": "display_data",
                    "data": {
                        "text/html": "Total execution time: 00:00:01.009"
                    },
                    "metadata": {}
                },
                {
                    "output_type": "execute_result",
                    "metadata": {},
                    "execution_count": 163,
                    "data": {
                        "application/vnd.dataresource+json": {
                            "schema": {
                                "fields": [
                                    {
                                        "name": "totalVintageCarsRevenue"
                                    }
                                ]
                            },
                            "data": [
                                {
                                    "totalVintageCarsRevenue": "314022.75"
                                }
                            ]
                        },
                        "text/html": [
                            "<table>",
                            "<tr><th>totalVintageCarsRevenue</th></tr>",
                            "<tr><td>314022.75</td></tr>",
                            "</table>"
                        ]
                    }
                }
            ],
            "execution_count": 163
        },
        {
            "cell_type": "code",
            "source": [
                "select sum(totalprice) from\n",
                "( select (quantityOrdered * priceEach) as totalprice \n",
                "from orders\n",
                "join orderdetails on orders.orderNumber = orderdetails.orderNumber\n",
                "join products on products.productCode = orderdetails.productCode\n",
                "where status not in ('Cancelled')\n",
                "and productLine = 'Vintage Cars'\n",
                "and shippedDate between '2003-10-01' and'2003-12-31') as a"
            ],
            "metadata": {
                "azdata_cell_guid": "97a30ddf-8b53-409a-b22d-72e8405f68ec",
                "language": "sql"
            },
            "outputs": [
                {
                    "output_type": "display_data",
                    "data": {
                        "text/html": "(1 row(s) affected)"
                    },
                    "metadata": {}
                },
                {
                    "output_type": "display_data",
                    "data": {
                        "text/html": "Total execution time: 00:00:01.008"
                    },
                    "metadata": {}
                },
                {
                    "output_type": "execute_result",
                    "metadata": {},
                    "execution_count": 164,
                    "data": {
                        "application/vnd.dataresource+json": {
                            "schema": {
                                "fields": [
                                    {
                                        "name": "sum(totalprice)"
                                    }
                                ]
                            },
                            "data": [
                                {
                                    "sum(totalprice)": "308107.05"
                                }
                            ]
                        },
                        "text/html": [
                            "<table>",
                            "<tr><th>sum(totalprice)</th></tr>",
                            "<tr><td>308107.05</td></tr>",
                            "</table>"
                        ]
                    }
                }
            ],
            "execution_count": 164
        },
        {
            "cell_type": "code",
            "source": [
                "CREATE PROCEDURE GetVintageCarsRevenue()\n",
                "BEGIN\n",
                "    DECLARE totalRevenue DECIMAL(10, 2);\n",
                "\n",
                "    SELECT SUM(totalprice) INTO totalRevenue\n",
                "    FROM (\n",
                "        SELECT (quantityOrdered * priceEach) AS totalprice\n",
                "        FROM orders\n",
                "        JOIN orderdetails ON orders.orderNumber = orderdetails.orderNumber\n",
                "        JOIN products ON products.productCode = orderdetails.productCode\n",
                "        WHERE\n",
                "            status NOT IN ('Cancelled')\n",
                "            AND productLine = 'Vintage Cars'\n",
                "            AND shippedDate BETWEEN '2003-10-01' AND '2003-12-31'\n",
                "    ) AS a;\n",
                "\n",
                "    SELECT totalRevenue;\n",
                "END;\n",
                ""
            ],
            "metadata": {
                "azdata_cell_guid": "485e5978-8903-49af-8f8d-0ea76ef1b1d3",
                "language": "sql"
            },
            "outputs": [
                {
                    "output_type": "display_data",
                    "data": {
                        "text/html": "Total execution time: 00:00:00.001"
                    },
                    "metadata": {}
                }
            ],
            "execution_count": 165
        },
        {
            "cell_type": "code",
            "source": [
                "CALL GetVintageCarsRevenue();"
            ],
            "metadata": {
                "azdata_cell_guid": "e69b4fe5-4724-45f2-b259-8bd4b0c90ca5",
                "language": "sql"
            },
            "outputs": [
                {
                    "output_type": "display_data",
                    "data": {
                        "text/html": "Total execution time: 00:00:00.009"
                    },
                    "metadata": {}
                },
                {
                    "output_type": "error",
                    "evalue": "1046 (3D000): No database selected",
                    "ename": "",
                    "traceback": []
                }
            ],
            "execution_count": 167
        },
        {
            "cell_type": "code",
            "source": [
                "SELECT\n",
                "    c.customerNumber,\n",
                "    c.customerName,\n",
                "    SUM(od.quantityOrdered * od.priceEach) AS totalOrderValue\n",
                "FROM\n",
                "    customers c\n",
                "JOIN\n",
                "    orders o ON c.customerNumber = o.customerNumber\n",
                "JOIN\n",
                "    orderdetails od ON o.orderNumber = od.orderNumber\n",
                "GROUP BY\n",
                "    c.customerNumber, c.customerName\n",
                "ORDER BY\n",
                "    totalOrderValue DESC\n",
                "LIMIT 5;\n",
                ""
            ],
            "metadata": {
                "azdata_cell_guid": "8c743897-f8fa-4847-9cff-e17c43e1126d",
                "language": "sql"
            },
            "outputs": [
                {
                    "output_type": "display_data",
                    "data": {
                        "text/html": "(5 row(s) affected)"
                    },
                    "metadata": {}
                },
                {
                    "output_type": "display_data",
                    "data": {
                        "text/html": "Total execution time: 00:00:01.017"
                    },
                    "metadata": {}
                },
                {
                    "output_type": "execute_result",
                    "metadata": {},
                    "execution_count": 171,
                    "data": {
                        "application/vnd.dataresource+json": {
                            "schema": {
                                "fields": [
                                    {
                                        "name": "customerNumber"
                                    },
                                    {
                                        "name": "customerName"
                                    },
                                    {
                                        "name": "totalOrderValue"
                                    }
                                ]
                            },
                            "data": [
                                {
                                    "customerNumber": "141",
                                    "customerName": "Euro+ Shopping Channel",
                                    "totalOrderValue": "820689.54"
                                },
                                {
                                    "customerNumber": "124",
                                    "customerName": "Mini Gifts Distributors Ltd.",
                                    "totalOrderValue": "591827.34"
                                },
                                {
                                    "customerNumber": "114",
                                    "customerName": "Australian Collectors, Co.",
                                    "totalOrderValue": "180585.07"
                                },
                                {
                                    "customerNumber": "151",
                                    "customerName": "Muscle Machine Inc",
                                    "totalOrderValue": "177913.95"
                                },
                                {
                                    "customerNumber": "119",
                                    "customerName": "La Rochelle Gifts",
                                    "totalOrderValue": "158573.12"
                                }
                            ]
                        },
                        "text/html": [
                            "<table>",
                            "<tr><th>customerNumber</th><th>customerName</th><th>totalOrderValue</th></tr>",
                            "<tr><td>141</td><td>Euro+ Shopping Channel</td><td>820689.54</td></tr>",
                            "<tr><td>124</td><td>Mini Gifts Distributors Ltd.</td><td>591827.34</td></tr>",
                            "<tr><td>114</td><td>Australian Collectors, Co.</td><td>180585.07</td></tr>",
                            "<tr><td>151</td><td>Muscle Machine Inc</td><td>177913.95</td></tr>",
                            "<tr><td>119</td><td>La Rochelle Gifts</td><td>158573.12</td></tr>",
                            "</table>"
                        ]
                    }
                }
            ],
            "execution_count": 171
        },
        {
            "cell_type": "code",
            "source": [
                "-- WITH CustomerOrderTotal AS (\n",
                "--     SELECT\n",
                "--         c.customerNumber,\n",
                "--         c.customerName,\n",
                "--         SUM(od.quantityOrdered * od.priceEach) AS totalOrderValue,\n",
                "--         RANK() OVER (ORDER BY SUM(od.quantityOrdered * od.priceEach) DESC) AS rnk\n",
                "--     FROM\n",
                "--         customers c\n",
                "--     JOIN\n",
                "--         orders o ON c.customerNumber = o.customerNumber\n",
                "--     JOIN\n",
                "--         orderdetails od ON o.orderNumber = od.orderNumber\n",
                "--     GROUP BY\n",
                "--         c.customerNumber, c.customerName\n",
                "-- )\n",
                "-- SELECT\n",
                "--     customerNumber,\n",
                "--     customerName,\n",
                "--     totalOrderValue\n",
                "-- FROM\n",
                "--     CustomerOrderTotal\n",
                "-- WHERE\n",
                "--     rnk <= 5;\n",
                ""
            ],
            "metadata": {
                "azdata_cell_guid": "8a329f2d-bf65-4956-bc1a-29dbc521aa3d",
                "language": "sql"
            },
            "outputs": [
                {
                    "output_type": "display_data",
                    "data": {
                        "text/html": "(5 row(s) affected)"
                    },
                    "metadata": {}
                },
                {
                    "output_type": "display_data",
                    "data": {
                        "text/html": "Total execution time: 00:00:01.015"
                    },
                    "metadata": {}
                },
                {
                    "output_type": "execute_result",
                    "metadata": {},
                    "execution_count": 173,
                    "data": {
                        "application/vnd.dataresource+json": {
                            "schema": {
                                "fields": [
                                    {
                                        "name": "customerNumber"
                                    },
                                    {
                                        "name": "customerName"
                                    },
                                    {
                                        "name": "totalOrderValue"
                                    }
                                ]
                            },
                            "data": [
                                {
                                    "customerNumber": "141",
                                    "customerName": "Euro+ Shopping Channel",
                                    "totalOrderValue": "820689.54"
                                },
                                {
                                    "customerNumber": "124",
                                    "customerName": "Mini Gifts Distributors Ltd.",
                                    "totalOrderValue": "591827.34"
                                },
                                {
                                    "customerNumber": "114",
                                    "customerName": "Australian Collectors, Co.",
                                    "totalOrderValue": "180585.07"
                                },
                                {
                                    "customerNumber": "151",
                                    "customerName": "Muscle Machine Inc",
                                    "totalOrderValue": "177913.95"
                                },
                                {
                                    "customerNumber": "119",
                                    "customerName": "La Rochelle Gifts",
                                    "totalOrderValue": "158573.12"
                                }
                            ]
                        },
                        "text/html": [
                            "<table>",
                            "<tr><th>customerNumber</th><th>customerName</th><th>totalOrderValue</th></tr>",
                            "<tr><td>141</td><td>Euro+ Shopping Channel</td><td>820689.54</td></tr>",
                            "<tr><td>124</td><td>Mini Gifts Distributors Ltd.</td><td>591827.34</td></tr>",
                            "<tr><td>114</td><td>Australian Collectors, Co.</td><td>180585.07</td></tr>",
                            "<tr><td>151</td><td>Muscle Machine Inc</td><td>177913.95</td></tr>",
                            "<tr><td>119</td><td>La Rochelle Gifts</td><td>158573.12</td></tr>",
                            "</table>"
                        ]
                    }
                }
            ],
            "execution_count": 173
        },
        {
            "cell_type": "code",
            "source": [
                "-- Write an SQL query using CTE's and window functions inside it to retrieve the top 5 customers along with their total order values across all orders.\n",
                ""
            ],
            "metadata": {
                "azdata_cell_guid": "53ca520f-aed1-4294-83b4-9ffaf7b53996",
                "language": "sql"
            },
            "outputs": [],
            "execution_count": null
        }
    ]
}