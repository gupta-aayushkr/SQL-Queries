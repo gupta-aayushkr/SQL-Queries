{
    "metadata": {
        "kernelspec": {
            "name": "SQL",
            "display_name": "SQL",
            "language": "sql"
        },
        "language_info": {
            "name": "sql",
            "version": ""
        }
    },
    "nbformat_minor": 2,
    "nbformat": 4,
    "cells": [
        {
            "cell_type": "code",
            "source": [
                "use classicmodels"
            ],
            "metadata": {
                "azdata_cell_guid": "fb5137cb-ffd8-445c-a138-197a61083de6",
                "language": "sql"
            },
            "outputs": [
                {
                    "output_type": "display_data",
                    "data": {
                        "text/html": "Commands completed successfully"
                    },
                    "metadata": {}
                },
                {
                    "output_type": "display_data",
                    "data": {
                        "text/html": "Total execution time: 00:00:00.002"
                    },
                    "metadata": {}
                }
            ],
            "execution_count": 2
        },
        {
            "cell_type": "code",
            "source": [
                "-- Find the top 10 customers who have placed the most orders. Display customer name and the count of orders placed.\n",
                "select customerName,\n",
                "sum(case when orders.orderNumber then 1 else 0 end) as Order_count\n",
                "from customers\n",
                "join orders on customers.customerNumber = orders.customerNumber\n",
                "join orderdetails on orderdetails.orderNumber = orders.orderNumber\n",
                "group by 1\n",
                "order by 2 desc\n",
                "limit 10"
            ],
            "metadata": {
                "azdata_cell_guid": "6bcddfc7-6ac0-4f70-9836-995596ecdcce",
                "language": "sql"
            },
            "outputs": [
                {
                    "output_type": "display_data",
                    "data": {
                        "text/html": "(10 row(s) affected)"
                    },
                    "metadata": {}
                },
                {
                    "output_type": "display_data",
                    "data": {
                        "text/html": "Total execution time: 00:00:01.046"
                    },
                    "metadata": {}
                },
                {
                    "output_type": "execute_result",
                    "metadata": {},
                    "execution_count": 3,
                    "data": {
                        "application/vnd.dataresource+json": {
                            "schema": {
                                "fields": [
                                    {
                                        "name": "customerName"
                                    },
                                    {
                                        "name": "Order_count"
                                    }
                                ]
                            },
                            "data": [
                                {
                                    "customerName": "Euro+ Shopping Channel",
                                    "Order_count": "259"
                                },
                                {
                                    "customerName": "Mini Gifts Distributors Ltd.",
                                    "Order_count": "180"
                                },
                                {
                                    "customerName": "Australian Collectors, Co.",
                                    "Order_count": "55"
                                },
                                {
                                    "customerName": "La Rochelle Gifts",
                                    "Order_count": "53"
                                },
                                {
                                    "customerName": "AV Stores, Co.",
                                    "Order_count": "51"
                                },
                                {
                                    "customerName": "Land of Toys Inc.",
                                    "Order_count": "49"
                                },
                                {
                                    "customerName": "Rovelli Gifts",
                                    "Order_count": "48"
                                },
                                {
                                    "customerName": "Muscle Machine Inc",
                                    "Order_count": "48"
                                },
                                {
                                    "customerName": "Kelly's Gift Shop",
                                    "Order_count": "48"
                                },
                                {
                                    "customerName": "Anna's Decorations, Ltd",
                                    "Order_count": "46"
                                }
                            ]
                        },
                        "text/html": [
                            "<table>",
                            "<tr><th>customerName</th><th>Order_count</th></tr>",
                            "<tr><td>Euro+ Shopping Channel</td><td>259</td></tr>",
                            "<tr><td>Mini Gifts Distributors Ltd.</td><td>180</td></tr>",
                            "<tr><td>Australian Collectors, Co.</td><td>55</td></tr>",
                            "<tr><td>La Rochelle Gifts</td><td>53</td></tr>",
                            "<tr><td>AV Stores, Co.</td><td>51</td></tr>",
                            "<tr><td>Land of Toys Inc.</td><td>49</td></tr>",
                            "<tr><td>Rovelli Gifts</td><td>48</td></tr>",
                            "<tr><td>Muscle Machine Inc</td><td>48</td></tr>",
                            "<tr><td>Kelly&#39;s Gift Shop</td><td>48</td></tr>",
                            "<tr><td>Anna&#39;s Decorations, Ltd</td><td>46</td></tr>",
                            "</table>"
                        ]
                    }
                }
            ],
            "execution_count": 3
        },
        {
            "cell_type": "code",
            "source": [
                "-- Retrieve the list of customers who have placed orders but haven't made any payments yet.\n",
                "select customers.customerName,\n",
                "sum(case when checkNumber is not NULL then 1 else 0 end) as Payment_Check\n",
                "from customers\n",
                "left join payments on customers.customerNumber = payments.customerNumber\n",
                "GROUP BY 1\n",
                "Having Payment_Check = 0\n",
                "order by 2 desc"
            ],
            "metadata": {
                "azdata_cell_guid": "09a52b77-20e7-44f2-82e7-d8b26b401b55",
                "language": "sql"
            },
            "outputs": [
                {
                    "output_type": "display_data",
                    "data": {
                        "text/html": "(24 row(s) affected)"
                    },
                    "metadata": {}
                },
                {
                    "output_type": "display_data",
                    "data": {
                        "text/html": "Total execution time: 00:00:01.008"
                    },
                    "metadata": {}
                },
                {
                    "output_type": "execute_result",
                    "metadata": {},
                    "execution_count": 4,
                    "data": {
                        "application/vnd.dataresource+json": {
                            "schema": {
                                "fields": [
                                    {
                                        "name": "customerName"
                                    },
                                    {
                                        "name": "Payment_Check"
                                    }
                                ]
                            },
                            "data": [
                                {
                                    "customerName": "Havel & Zbyszek Co",
                                    "Payment_Check": "0"
                                },
                                {
                                    "customerName": "American Souvenirs Inc",
                                    "Payment_Check": "0"
                                },
                                {
                                    "customerName": "Porto Imports Co.",
                                    "Payment_Check": "0"
                                },
                                {
                                    "customerName": "Asian Shopping Network, Co",
                                    "Payment_Check": "0"
                                },
                                {
                                    "customerName": "Natürlich Autos",
                                    "Payment_Check": "0"
                                },
                                {
                                    "customerName": "ANG Resellers",
                                    "Payment_Check": "0"
                                },
                                {
                                    "customerName": "Messner Shopping Network",
                                    "Payment_Check": "0"
                                },
                                {
                                    "customerName": "Franken Gifts, Co",
                                    "Payment_Check": "0"
                                },
                                {
                                    "customerName": "BG&E Collectables",
                                    "Payment_Check": "0"
                                },
                                {
                                    "customerName": "Schuyler Imports",
                                    "Payment_Check": "0"
                                },
                                {
                                    "customerName": "Der Hund Imports",
                                    "Payment_Check": "0"
                                },
                                {
                                    "customerName": "Cramer Spezialitäten, Ltd",
                                    "Payment_Check": "0"
                                },
                                {
                                    "customerName": "Asian Treasures, Inc.",
                                    "Payment_Check": "0"
                                },
                                {
                                    "customerName": "SAR Distributors, Co",
                                    "Payment_Check": "0"
                                },
                                {
                                    "customerName": "Kommission Auto",
                                    "Payment_Check": "0"
                                },
                                {
                                    "customerName": "Lisboa Souveniers, Inc",
                                    "Payment_Check": "0"
                                },
                                {
                                    "customerName": "Precious Collectables",
                                    "Payment_Check": "0"
                                },
                                {
                                    "customerName": "Stuttgart Collectable Exchange",
                                    "Payment_Check": "0"
                                },
                                {
                                    "customerName": "Feuer Online Stores, Inc",
                                    "Payment_Check": "0"
                                },
                                {
                                    "customerName": "Warburg Exchange",
                                    "Payment_Check": "0"
                                },
                                {
                                    "customerName": "Anton Designs, Ltd.",
                                    "Payment_Check": "0"
                                },
                                {
                                    "customerName": "Mit Vergnügen & Co.",
                                    "Payment_Check": "0"
                                },
                                {
                                    "customerName": "Kremlin Collectables, Co.",
                                    "Payment_Check": "0"
                                },
                                {
                                    "customerName": "Raanan Stores, Inc",
                                    "Payment_Check": "0"
                                }
                            ]
                        },
                        "text/html": [
                            "<table>",
                            "<tr><th>customerName</th><th>Payment_Check</th></tr>",
                            "<tr><td>Havel &amp; Zbyszek Co</td><td>0</td></tr>",
                            "<tr><td>American Souvenirs Inc</td><td>0</td></tr>",
                            "<tr><td>Porto Imports Co.</td><td>0</td></tr>",
                            "<tr><td>Asian Shopping Network, Co</td><td>0</td></tr>",
                            "<tr><td>Natürlich Autos</td><td>0</td></tr>",
                            "<tr><td>ANG Resellers</td><td>0</td></tr>",
                            "<tr><td>Messner Shopping Network</td><td>0</td></tr>",
                            "<tr><td>Franken Gifts, Co</td><td>0</td></tr>",
                            "<tr><td>BG&amp;E Collectables</td><td>0</td></tr>",
                            "<tr><td>Schuyler Imports</td><td>0</td></tr>",
                            "<tr><td>Der Hund Imports</td><td>0</td></tr>",
                            "<tr><td>Cramer Spezialitäten, Ltd</td><td>0</td></tr>",
                            "<tr><td>Asian Treasures, Inc.</td><td>0</td></tr>",
                            "<tr><td>SAR Distributors, Co</td><td>0</td></tr>",
                            "<tr><td>Kommission Auto</td><td>0</td></tr>",
                            "<tr><td>Lisboa Souveniers, Inc</td><td>0</td></tr>",
                            "<tr><td>Precious Collectables</td><td>0</td></tr>",
                            "<tr><td>Stuttgart Collectable Exchange</td><td>0</td></tr>",
                            "<tr><td>Feuer Online Stores, Inc</td><td>0</td></tr>",
                            "<tr><td>Warburg Exchange</td><td>0</td></tr>",
                            "<tr><td>Anton Designs, Ltd.</td><td>0</td></tr>",
                            "<tr><td>Mit Vergnügen &amp; Co.</td><td>0</td></tr>",
                            "<tr><td>Kremlin Collectables, Co.</td><td>0</td></tr>",
                            "<tr><td>Raanan Stores, Inc</td><td>0</td></tr>",
                            "</table>"
                        ]
                    }
                }
            ],
            "execution_count": 4
        },
        {
            "cell_type": "code",
            "source": [
                "-- Retrieve a product that has been ordered the least number of times. Display the product code, product name, and the number of times it has been ordered.\n",
                "select orderdetails.productCode,\n",
                "products.productName,\n",
                "count(*) AS Product_Ordered\n",
                "from orderdetails\n",
                "join products on orderdetails.productCode = products.productCode\n",
                "GROUP BY 1\n",
                "order by 3\n",
                "limit 1"
            ],
            "metadata": {
                "azdata_cell_guid": "b13bdbc5-385d-4e7d-afa4-dba746f2491f",
                "language": "sql"
            },
            "outputs": [
                {
                    "output_type": "display_data",
                    "data": {
                        "text/html": "(1 row(s) affected)"
                    },
                    "metadata": {}
                },
                {
                    "output_type": "display_data",
                    "data": {
                        "text/html": "Total execution time: 00:00:01.010"
                    },
                    "metadata": {}
                },
                {
                    "output_type": "execute_result",
                    "metadata": {},
                    "execution_count": 6,
                    "data": {
                        "application/vnd.dataresource+json": {
                            "schema": {
                                "fields": [
                                    {
                                        "name": "productCode"
                                    },
                                    {
                                        "name": "productName"
                                    },
                                    {
                                        "name": "Product_Ordered"
                                    }
                                ]
                            },
                            "data": [
                                {
                                    "productCode": "S18_4933",
                                    "productName": "1957 Ford Thunderbird",
                                    "Product_Ordered": "24"
                                }
                            ]
                        },
                        "text/html": [
                            "<table>",
                            "<tr><th>productCode</th><th>productName</th><th>Product_Ordered</th></tr>",
                            "<tr><td>S18_4933</td><td>1957 Ford Thunderbird</td><td>24</td></tr>",
                            "</table>"
                        ]
                    }
                }
            ],
            "execution_count": 6
        },
        {
            "cell_type": "code",
            "source": [
                ""
            ],
            "metadata": {
                "azdata_cell_guid": "3e7db89f-6dde-4eef-bcc0-4c9425fa4014",
                "language": "sql"
            },
            "outputs": [],
            "execution_count": null
        }
    ]
}