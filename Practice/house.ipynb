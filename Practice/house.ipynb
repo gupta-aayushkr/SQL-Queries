{
    "metadata": {
        "kernelspec": {
            "name": "SQL",
            "display_name": "SQL",
            "language": "sql"
        },
        "language_info": {
            "name": "sql",
            "version": ""
        }
    },
    "nbformat_minor": 2,
    "nbformat": 4,
    "cells": [
        {
            "cell_type": "code",
            "source": [
                "use practice"
            ],
            "metadata": {
                "azdata_cell_guid": "67176e5c-fd6a-4239-94ed-1a77c7a6bd1a",
                "language": "sql"
            },
            "outputs": [
                {
                    "output_type": "display_data",
                    "data": {
                        "text/html": "Commands completed successfully"
                    },
                    "metadata": {}
                },
                {
                    "output_type": "display_data",
                    "data": {
                        "text/html": "Total execution time: 00:00:00"
                    },
                    "metadata": {}
                }
            ],
            "execution_count": 1
        },
        {
            "cell_type": "code",
            "source": [
                "select * from houseprices limit 1"
            ],
            "metadata": {
                "azdata_cell_guid": "7ec0966b-157d-4a23-93fa-d86be45664fe",
                "language": "sql"
            },
            "outputs": [
                {
                    "output_type": "display_data",
                    "data": {
                        "text/html": "(1 row(s) affected)"
                    },
                    "metadata": {}
                },
                {
                    "output_type": "display_data",
                    "data": {
                        "text/html": "Total execution time: 00:00:01.071"
                    },
                    "metadata": {}
                },
                {
                    "output_type": "execute_result",
                    "metadata": {},
                    "execution_count": 5,
                    "data": {
                        "application/vnd.dataresource+json": {
                            "schema": {
                                "fields": [
                                    {
                                        "name": "Num"
                                    },
                                    {
                                        "name": "Name"
                                    },
                                    {
                                        "name": "Team"
                                    },
                                    {
                                        "name": "Games"
                                    },
                                    {
                                        "name": "AtBats"
                                    },
                                    {
                                        "name": "Runs"
                                    },
                                    {
                                        "name": "Hits"
                                    },
                                    {
                                        "name": "Doubles"
                                    },
                                    {
                                        "name": "Triples"
                                    },
                                    {
                                        "name": "Homers"
                                    },
                                    {
                                        "name": "RBIs"
                                    }
                                ]
                            },
                            "data": [
                                {
                                    "Num": "2",
                                    "Name": "José Abreu",
                                    "Team": "CHW",
                                    "Games": "159",
                                    "AtBats": "634",
                                    "Runs": "85",
                                    "Hits": "180",
                                    "Doubles": "38",
                                    "Triples": "1",
                                    "Homers": "33",
                                    "RBIs": "123"
                                }
                            ]
                        },
                        "text/html": [
                            "<table>",
                            "<tr><th>Num</th><th>Name</th><th>Team</th><th>Games</th><th>AtBats</th><th>Runs</th><th>Hits</th><th>Doubles</th><th>Triples</th><th>Homers</th><th>RBIs</th></tr>",
                            "<tr><td>2</td><td>José Abreu</td><td>CHW</td><td>159</td><td>634</td><td>85</td><td>180</td><td>38</td><td>1</td><td>33</td><td>123</td></tr>",
                            "</table>"
                        ]
                    }
                }
            ],
            "execution_count": 5
        },
        {
            "cell_type": "code",
            "source": [
                "describe houseprices"
            ],
            "metadata": {
                "azdata_cell_guid": "4f3f3094-c42d-41da-8b40-f5593ace156e",
                "language": "sql"
            },
            "outputs": [
                {
                    "output_type": "display_data",
                    "data": {
                        "text/html": "(11 row(s) affected)"
                    },
                    "metadata": {}
                },
                {
                    "output_type": "display_data",
                    "data": {
                        "text/html": "Total execution time: 00:00:01.012"
                    },
                    "metadata": {}
                },
                {
                    "output_type": "execute_result",
                    "metadata": {},
                    "execution_count": 6,
                    "data": {
                        "application/vnd.dataresource+json": {
                            "schema": {
                                "fields": [
                                    {
                                        "name": "Field"
                                    },
                                    {
                                        "name": "Type"
                                    },
                                    {
                                        "name": "Null"
                                    },
                                    {
                                        "name": "Key"
                                    },
                                    {
                                        "name": "Default"
                                    },
                                    {
                                        "name": "Extra"
                                    }
                                ]
                            },
                            "data": [
                                {
                                    "Field": "Num",
                                    "Type": "b'bigint'",
                                    "Null": "YES",
                                    "Key": "",
                                    "Default": "NULL",
                                    "Extra": ""
                                },
                                {
                                    "Field": "Name",
                                    "Type": "b'text'",
                                    "Null": "YES",
                                    "Key": "",
                                    "Default": "NULL",
                                    "Extra": ""
                                },
                                {
                                    "Field": "Team",
                                    "Type": "b'text'",
                                    "Null": "YES",
                                    "Key": "",
                                    "Default": "NULL",
                                    "Extra": ""
                                },
                                {
                                    "Field": "Games",
                                    "Type": "b'bigint'",
                                    "Null": "YES",
                                    "Key": "",
                                    "Default": "NULL",
                                    "Extra": ""
                                },
                                {
                                    "Field": "AtBats",
                                    "Type": "b'bigint'",
                                    "Null": "YES",
                                    "Key": "",
                                    "Default": "NULL",
                                    "Extra": ""
                                },
                                {
                                    "Field": "Runs",
                                    "Type": "b'bigint'",
                                    "Null": "YES",
                                    "Key": "",
                                    "Default": "NULL",
                                    "Extra": ""
                                },
                                {
                                    "Field": "Hits",
                                    "Type": "b'bigint'",
                                    "Null": "YES",
                                    "Key": "",
                                    "Default": "NULL",
                                    "Extra": ""
                                },
                                {
                                    "Field": "Doubles",
                                    "Type": "b'bigint'",
                                    "Null": "YES",
                                    "Key": "",
                                    "Default": "NULL",
                                    "Extra": ""
                                },
                                {
                                    "Field": "Triples",
                                    "Type": "b'bigint'",
                                    "Null": "YES",
                                    "Key": "",
                                    "Default": "NULL",
                                    "Extra": ""
                                },
                                {
                                    "Field": "Homers",
                                    "Type": "b'bigint'",
                                    "Null": "YES",
                                    "Key": "",
                                    "Default": "NULL",
                                    "Extra": ""
                                },
                                {
                                    "Field": "RBIs",
                                    "Type": "b'bigint'",
                                    "Null": "YES",
                                    "Key": "",
                                    "Default": "NULL",
                                    "Extra": ""
                                }
                            ]
                        },
                        "text/html": [
                            "<table>",
                            "<tr><th>Field</th><th>Type</th><th>Null</th><th>Key</th><th>Default</th><th>Extra</th></tr>",
                            "<tr><td>Num</td><td>b&#39;bigint&#39;</td><td>YES</td><td></td><td>NULL</td><td></td></tr>",
                            "<tr><td>Name</td><td>b&#39;text&#39;</td><td>YES</td><td></td><td>NULL</td><td></td></tr>",
                            "<tr><td>Team</td><td>b&#39;text&#39;</td><td>YES</td><td></td><td>NULL</td><td></td></tr>",
                            "<tr><td>Games</td><td>b&#39;bigint&#39;</td><td>YES</td><td></td><td>NULL</td><td></td></tr>",
                            "<tr><td>AtBats</td><td>b&#39;bigint&#39;</td><td>YES</td><td></td><td>NULL</td><td></td></tr>",
                            "<tr><td>Runs</td><td>b&#39;bigint&#39;</td><td>YES</td><td></td><td>NULL</td><td></td></tr>",
                            "<tr><td>Hits</td><td>b&#39;bigint&#39;</td><td>YES</td><td></td><td>NULL</td><td></td></tr>",
                            "<tr><td>Doubles</td><td>b&#39;bigint&#39;</td><td>YES</td><td></td><td>NULL</td><td></td></tr>",
                            "<tr><td>Triples</td><td>b&#39;bigint&#39;</td><td>YES</td><td></td><td>NULL</td><td></td></tr>",
                            "<tr><td>Homers</td><td>b&#39;bigint&#39;</td><td>YES</td><td></td><td>NULL</td><td></td></tr>",
                            "<tr><td>RBIs</td><td>b&#39;bigint&#39;</td><td>YES</td><td></td><td>NULL</td><td></td></tr>",
                            "</table>"
                        ]
                    }
                }
            ],
            "execution_count": 6
        },
        {
            "cell_type": "code",
            "source": [
                "SELECT Name\n",
                "FROM houseprices\n",
                "WHERE Runs > 100;\n",
                ""
            ],
            "metadata": {
                "azdata_cell_guid": "ad8a5087-9fe9-4a6c-9786-5baf813c8647",
                "language": "sql"
            },
            "outputs": [
                {
                    "output_type": "display_data",
                    "data": {
                        "text/html": "(27 row(s) affected)"
                    },
                    "metadata": {}
                },
                {
                    "output_type": "display_data",
                    "data": {
                        "text/html": "Total execution time: 00:00:01.007"
                    },
                    "metadata": {}
                },
                {
                    "output_type": "execute_result",
                    "metadata": {},
                    "execution_count": 7,
                    "data": {
                        "application/vnd.dataresource+json": {
                            "schema": {
                                "fields": [
                                    {
                                        "name": "Name"
                                    }
                                ]
                            },
                            "data": [
                                {
                                    "Name": "Ronald Acuna Jr."
                                },
                                {
                                    "Name": "Ozzie Albies"
                                },
                                {
                                    "Name": "Pete Alonso"
                                },
                                {
                                    "Name": "Nolan Arenado"
                                },
                                {
                                    "Name": "Cody Bellinger"
                                },
                                {
                                    "Name": "Mookie Betts"
                                },
                                {
                                    "Name": "Charlie Blackmon"
                                },
                                {
                                    "Name": "Xander Bogaerts"
                                },
                                {
                                    "Name": "Alex Bregman"
                                },
                                {
                                    "Name": "Kris Bryant"
                                },
                                {
                                    "Name": "Matt Chapman"
                                },
                                {
                                    "Name": "Rafael Devers"
                                },
                                {
                                    "Name": "Adam Eaton"
                                },
                                {
                                    "Name": "Freddie Freeman"
                                },
                                {
                                    "Name": "DJ LeMahieu"
                                },
                                {
                                    "Name": "Francisco Lindor"
                                },
                                {
                                    "Name": "Trey Mancini"
                                },
                                {
                                    "Name": "Whit Merrifield"
                                },
                                {
                                    "Name": "Max Muncy"
                                },
                                {
                                    "Name": "Jorge Polanco"
                                },
                                {
                                    "Name": "Anthony Rendon"
                                },
                                {
                                    "Name": "Carlos Santana"
                                },
                                {
                                    "Name": "Marcus Semien"
                                },
                                {
                                    "Name": "Juan Soto"
                                },
                                {
                                    "Name": "Trevor Story"
                                },
                                {
                                    "Name": "Mike Trout"
                                },
                                {
                                    "Name": "Jonathan Villar"
                                }
                            ]
                        },
                        "text/html": [
                            "<table>",
                            "<tr><th>Name</th></tr>",
                            "<tr><td>Ronald Acuna Jr.</td></tr>",
                            "<tr><td>Ozzie Albies</td></tr>",
                            "<tr><td>Pete Alonso</td></tr>",
                            "<tr><td>Nolan Arenado</td></tr>",
                            "<tr><td>Cody Bellinger</td></tr>",
                            "<tr><td>Mookie Betts</td></tr>",
                            "<tr><td>Charlie Blackmon</td></tr>",
                            "<tr><td>Xander Bogaerts</td></tr>",
                            "<tr><td>Alex Bregman</td></tr>",
                            "<tr><td>Kris Bryant</td></tr>",
                            "<tr><td>Matt Chapman</td></tr>",
                            "<tr><td>Rafael Devers</td></tr>",
                            "<tr><td>Adam Eaton</td></tr>",
                            "<tr><td>Freddie Freeman</td></tr>",
                            "<tr><td>DJ LeMahieu</td></tr>",
                            "<tr><td>Francisco Lindor</td></tr>",
                            "<tr><td>Trey Mancini</td></tr>",
                            "<tr><td>Whit Merrifield</td></tr>",
                            "<tr><td>Max Muncy</td></tr>",
                            "<tr><td>Jorge Polanco</td></tr>",
                            "<tr><td>Anthony Rendon</td></tr>",
                            "<tr><td>Carlos Santana</td></tr>",
                            "<tr><td>Marcus Semien</td></tr>",
                            "<tr><td>Juan Soto</td></tr>",
                            "<tr><td>Trevor Story</td></tr>",
                            "<tr><td>Mike Trout</td></tr>",
                            "<tr><td>Jonathan Villar</td></tr>",
                            "</table>"
                        ]
                    }
                }
            ],
            "execution_count": 7
        },
        {
            "cell_type": "code",
            "source": [
                "SELECT Name, SUM(Games) AS TotalGames\n",
                "FROM houseprices\n",
                "GROUP BY Name;\n",
                ""
            ],
            "metadata": {
                "azdata_cell_guid": "56673fbd-03ae-4af5-9eb9-e76e80c8c796",
                "language": "sql"
            },
            "outputs": [
                {
                    "output_type": "display_data",
                    "data": {
                        "text/html": "(768 row(s) affected)"
                    },
                    "metadata": {}
                },
                {
                    "output_type": "display_data",
                    "data": {
                        "text/html": "Total execution time: 00:00:01.009"
                    },
                    "metadata": {}
                },
                {
                    "output_type": "execute_result",
                    "metadata": {},
                    "execution_count": 8,
                    "data": {
                        "application/vnd.dataresource+json": {
                            "schema": {
                                "fields": [
                                    {
                                        "name": "Name"
                                    },
                                    {
                                        "name": "TotalGames"
                                    }
                                ]
                            },
                            "data": [
                                {
                                    "Name": "José Abreu",
                                    "TotalGames": "159"
                                },
                                {
                                    "Name": "Ronald Acuna Jr.",
                                    "TotalGames": "156"
                                },
                                {
                                    "Name": "Cristhian Adames",
                                    "TotalGames": "10"
                                },
                                {
                                    "Name": "Willy Adames",
                                    "TotalGames": "152"
                                },
                                {
                                    "Name": "Matt Adams",
                                    "TotalGames": "111"
                                },
                                {
                                    "Name": "Ehire Adrianza",
                                    "TotalGames": "83"
                                },
                                {
                                    "Name": "Dario Agrazal",
                                    "TotalGames": "14"
                                },
                                {
                                    "Name": "Jesus Aguilar",
                                    "TotalGames": "131"
                                },
                                {
                                    "Name": "Nick Ahmed",
                                    "TotalGames": "158"
                                },
                                {
                                    "Name": "R.J. Alaniz",
                                    "TotalGames": "8"
                                },
                                {
                                    "Name": "Hanser Alberto",
                                    "TotalGames": "139"
                                },
                                {
                                    "Name": "Ozzie Albies",
                                    "TotalGames": "160"
                                },
                                {
                                    "Name": "Sandy Alcantara",
                                    "TotalGames": "31"
                                },
                                {
                                    "Name": "Jorge Alfaro",
                                    "TotalGames": "130"
                                },
                                {
                                    "Name": "Anthony Alford",
                                    "TotalGames": "16"
                                },
                                {
                                    "Name": "Austin Allen",
                                    "TotalGames": "34"
                                },
                                {
                                    "Name": "Greg Allen",
                                    "TotalGames": "89"
                                },
                                {
                                    "Name": "Logan Allen",
                                    "TotalGames": "7"
                                },
                                {
                                    "Name": "Abraham Almonte",
                                    "TotalGames": "17"
                                },
                                {
                                    "Name": "Albert Almora",
                                    "TotalGames": "130"
                                },
                                {
                                    "Name": "Pete Alonso",
                                    "TotalGames": "161"
                                },
                                {
                                    "Name": "Yonder Alonso",
                                    "TotalGames": "121"
                                },
                                {
                                    "Name": "Aaron Altherr",
                                    "TotalGames": "48"
                                },
                                {
                                    "Name": "Jose Altuve",
                                    "TotalGames": "124"
                                },
                                {
                                    "Name": "Yordan Álvarez",
                                    "TotalGames": "87"
                                },
                                {
                                    "Name": "Brett Anderson",
                                    "TotalGames": "3"
                                },
                                {
                                    "Name": "Brian Anderson",
                                    "TotalGames": "126"
                                },
                                {
                                    "Name": "Chase Anderson",
                                    "TotalGames": "31"
                                },
                                {
                                    "Name": "Shaun Anderson",
                                    "TotalGames": "25"
                                },
                                {
                                    "Name": "Tim Anderson",
                                    "TotalGames": "123"
                                },
                                {
                                    "Name": "Tyler Anderson",
                                    "TotalGames": "5"
                                },
                                {
                                    "Name": "Elvis Andrus",
                                    "TotalGames": "147"
                                },
                                {
                                    "Name": "Miguel Andujar",
                                    "TotalGames": "12"
                                },
                                {
                                    "Name": "Aristides Aquino",
                                    "TotalGames": "56"
                                },
                                {
                                    "Name": "Chris Archer",
                                    "TotalGames": "22"
                                },
                                {
                                    "Name": "Orlando Arcia",
                                    "TotalGames": "152"
                                },
                                {
                                    "Name": "Nolan Arenado",
                                    "TotalGames": "155"
                                },
                                {
                                    "Name": "Randy Arozarena",
                                    "TotalGames": "19"
                                },
                                {
                                    "Name": "Luis Arraez",
                                    "TotalGames": "92"
                                },
                                {
                                    "Name": "Jake Arrieta",
                                    "TotalGames": "23"
                                },
                                {
                                    "Name": "Christian Arroyo",
                                    "TotalGames": "16"
                                },
                                {
                                    "Name": "Humberto Arteaga",
                                    "TotalGames": "41"
                                },
                                {
                                    "Name": "Willians Astudillo",
                                    "TotalGames": "58"
                                },
                                {
                                    "Name": "Tyler Austin",
                                    "TotalGames": "89"
                                },
                                {
                                    "Name": "Abiatal Avelino",
                                    "TotalGames": "4"
                                },
                                {
                                    "Name": "Alex Avila",
                                    "TotalGames": "63"
                                },
                                {
                                    "Name": "Harrison Bader",
                                    "TotalGames": "128"
                                },
                                {
                                    "Name": "Javier Baez",
                                    "TotalGames": "138"
                                },
                                {
                                    "Name": "Homer Bailey",
                                    "TotalGames": "2"
                                },
                                {
                                    "Name": "Austin Barnes",
                                    "TotalGames": "75"
                                },
                                {
                                    "Name": "Tucker Barnhart",
                                    "TotalGames": "114"
                                },
                                {
                                    "Name": "Steven Baron",
                                    "TotalGames": "7"
                                },
                                {
                                    "Name": "Franklin Barreto",
                                    "TotalGames": "23"
                                },
                                {
                                    "Name": "Trevor Bauer",
                                    "TotalGames": "11"
                                },
                                {
                                    "Name": "Jake Bauers",
                                    "TotalGames": "117"
                                },
                                {
                                    "Name": "Matt Beaty",
                                    "TotalGames": "99"
                                },
                                {
                                    "Name": "Gordon Beckham",
                                    "TotalGames": "83"
                                },
                                {
                                    "Name": "Tim Beckham",
                                    "TotalGames": "88"
                                },
                                {
                                    "Name": "Tyler Beede",
                                    "TotalGames": "25"
                                },
                                {
                                    "Name": "Josh Bell",
                                    "TotalGames": "143"
                                },
                                {
                                    "Name": "Cody Bellinger",
                                    "TotalGames": "156"
                                },
                                {
                                    "Name": "Brandon Belt",
                                    "TotalGames": "156"
                                },
                                {
                                    "Name": "Anthony Bemboom",
                                    "TotalGames": "25"
                                },
                                {
                                    "Name": "Andrew Benintendi",
                                    "TotalGames": "138"
                                },
                                {
                                    "Name": "Jon Berti",
                                    "TotalGames": "73"
                                },
                                {
                                    "Name": "Mookie Betts",
                                    "TotalGames": "150"
                                },
                                {
                                    "Name": "Bo Bichette",
                                    "TotalGames": "46"
                                },
                                {
                                    "Name": "Cavan Biggio",
                                    "TotalGames": "100"
                                },
                                {
                                    "Name": "Greg Bird",
                                    "TotalGames": "10"
                                },
                                {
                                    "Name": "Braden Bishop",
                                    "TotalGames": "27"
                                },
                                {
                                    "Name": "Charlie Blackmon",
                                    "TotalGames": "140"
                                },
                                {
                                    "Name": "Alex Blandino",
                                    "TotalGames": "23"
                                },
                                {
                                    "Name": "Xander Bogaerts",
                                    "TotalGames": "155"
                                },
                                {
                                    "Name": "Skye Bolt",
                                    "TotalGames": "5"
                                },
                                {
                                    "Name": "Jorge Bonifacio",
                                    "TotalGames": "5"
                                },
                                {
                                    "Name": "David Bote",
                                    "TotalGames": "127"
                                },
                                {
                                    "Name": "Justin Bour",
                                    "TotalGames": "52"
                                },
                                {
                                    "Name": "Peter Bourjos",
                                    "TotalGames": "26"
                                },
                                {
                                    "Name": "Matthew Boyd",
                                    "TotalGames": "1"
                                },
                                {
                                    "Name": "Brad Brach",
                                    "TotalGames": "39"
                                },
                                {
                                    "Name": "Bobby Bradley",
                                    "TotalGames": "15"
                                },
                                {
                                    "Name": "Jackie Bradley Jr.",
                                    "TotalGames": "147"
                                },
                                {
                                    "Name": "Michael Brantley",
                                    "TotalGames": "148"
                                },
                                {
                                    "Name": "Steven Brault",
                                    "TotalGames": "33"
                                },
                                {
                                    "Name": "Ryan Braun",
                                    "TotalGames": "144"
                                },
                                {
                                    "Name": "John Brebbia",
                                    "TotalGames": "63"
                                },
                                {
                                    "Name": "Alex Bregman",
                                    "TotalGames": "156"
                                },
                                {
                                    "Name": "Lewis Brinson",
                                    "TotalGames": "75"
                                },
                                {
                                    "Name": "Socrates Brito",
                                    "TotalGames": "17"
                                },
                                {
                                    "Name": "Mike Brosseau",
                                    "TotalGames": "50"
                                },
                                {
                                    "Name": "Seth Brown",
                                    "TotalGames": "26"
                                },
                                {
                                    "Name": "Keon Broxton",
                                    "TotalGames": "100"
                                },
                                {
                                    "Name": "Jay Bruce",
                                    "TotalGames": "98"
                                },
                                {
                                    "Name": "Kris Bryant",
                                    "TotalGames": "147"
                                },
                                {
                                    "Name": "Walker Buehler",
                                    "TotalGames": "29"
                                },
                                {
                                    "Name": "Madison Bumgarner",
                                    "TotalGames": "35"
                                },
                                {
                                    "Name": "Corbin Burnes",
                                    "TotalGames": "30"
                                },
                                {
                                    "Name": "Drew Butera",
                                    "TotalGames": "16"
                                },
                                {
                                    "Name": "Byron Buxton",
                                    "TotalGames": "87"
                                },
                                {
                                    "Name": "Asdrubal Cabrera",
                                    "TotalGames": "131"
                                },
                                {
                                    "Name": "Melky Cabrera",
                                    "TotalGames": "133"
                                },
                                {
                                    "Name": "Miguel Cabrera",
                                    "TotalGames": "136"
                                },
                                {
                                    "Name": "Trevor Cahill",
                                    "TotalGames": "2"
                                },
                                {
                                    "Name": "Lorenzo Cain",
                                    "TotalGames": "148"
                                },
                                {
                                    "Name": "Kole Calhoun",
                                    "TotalGames": "152"
                                },
                                {
                                    "Name": "Willie Calhoun",
                                    "TotalGames": "83"
                                },
                                {
                                    "Name": "Johan Camargo",
                                    "TotalGames": "98"
                                },
                                {
                                    "Name": "Jeimer Candelario",
                                    "TotalGames": "94"
                                },
                                {
                                    "Name": "Mark Canha",
                                    "TotalGames": "126"
                                },
                                {
                                    "Name": "Robinson Cano",
                                    "TotalGames": "107"
                                },
                                {
                                    "Name": "Victor Caratini",
                                    "TotalGames": "95"
                                },
                                {
                                    "Name": "Matt Carpenter",
                                    "TotalGames": "129"
                                },
                                {
                                    "Name": "Curt Casali",
                                    "TotalGames": "84"
                                },
                                {
                                    "Name": "Nicholas Castellanos",
                                    "TotalGames": "151"
                                },
                                {
                                    "Name": "Luis Castillo",
                                    "TotalGames": "31"
                                },
                                {
                                    "Name": "Welington Castillo",
                                    "TotalGames": "72"
                                },
                                {
                                    "Name": "Wilkin Castillo",
                                    "TotalGames": "2"
                                },
                                {
                                    "Name": "Harold Castro",
                                    "TotalGames": "97"
                                },
                                {
                                    "Name": "Jason Castro",
                                    "TotalGames": "79"
                                },
                                {
                                    "Name": "Starlin Castro",
                                    "TotalGames": "162"
                                },
                                {
                                    "Name": "Willi Castro",
                                    "TotalGames": "30"
                                },
                                {
                                    "Name": "Jake Cave",
                                    "TotalGames": "72"
                                },
                                {
                                    "Name": "Juan Centeno",
                                    "TotalGames": "7"
                                },
                                {
                                    "Name": "Francisco Cervelli",
                                    "TotalGames": "48"
                                },
                                {
                                    "Name": "Jhoulys Chacin",
                                    "TotalGames": "18"
                                },
                                {
                                    "Name": "Yu Chang",
                                    "TotalGames": "28"
                                },
                                {
                                    "Name": "Matt Chapman",
                                    "TotalGames": "156"
                                },
                                {
                                    "Name": "Tyler Chatwood",
                                    "TotalGames": "40"
                                },
                                {
                                    "Name": "Jesse Chavez",
                                    "TotalGames": "4"
                                },
                                {
                                    "Name": "Michael Chavis",
                                    "TotalGames": "95"
                                },
                                {
                                    "Name": "Robinson Chirinos",
                                    "TotalGames": "114"
                                },
                                {
                                    "Name": "Ji-Man Choi",
                                    "TotalGames": "127"
                                },
                                {
                                    "Name": "Shin-Soo Choo",
                                    "TotalGames": "151"
                                },
                                {
                                    "Name": "Nick Ciuffo",
                                    "TotalGames": "3"
                                },
                                {
                                    "Name": "Taylor Clarke",
                                    "TotalGames": "21"
                                },
                                {
                                    "Name": "Zack Collins",
                                    "TotalGames": "27"
                                },
                                {
                                    "Name": "Christian Colon",
                                    "TotalGames": "8"
                                },
                                {
                                    "Name": "Michael Conforto",
                                    "TotalGames": "151"
                                },
                                {
                                    "Name": "Willson Contreras",
                                    "TotalGames": "105"
                                },
                                {
                                    "Name": "Garrett Cooper",
                                    "TotalGames": "107"
                                },
                                {
                                    "Name": "Patrick Corbin",
                                    "TotalGames": "31"
                                },
                                {
                                    "Name": "Ryan Cordell",
                                    "TotalGames": "97"
                                },
                                {
                                    "Name": "Franchy Cordero",
                                    "TotalGames": "9"
                                },
                                {
                                    "Name": "Carlos Correa",
                                    "TotalGames": "75"
                                },
                                {
                                    "Name": "Ryan Court",
                                    "TotalGames": "12"
                                },
                                {
                                    "Name": "Kaleb Cowart",
                                    "TotalGames": "9"
                                },
                                {
                                    "Name": "Zack Cozart",
                                    "TotalGames": "38"
                                },
                                {
                                    "Name": "Brandon Crawford",
                                    "TotalGames": "147"
                                },
                                {
                                    "Name": "J.P. Crawford",
                                    "TotalGames": "93"
                                },
                                {
                                    "Name": "C.J. Cron",
                                    "TotalGames": "125"
                                },
                                {
                                    "Name": "Kevin Cron",
                                    "TotalGames": "39"
                                },
                                {
                                    "Name": "Nelson Cruz",
                                    "TotalGames": "120"
                                },
                                {
                                    "Name": "Charlie Culberson",
                                    "TotalGames": "108"
                                },
                                {
                                    "Name": "Cheslor Cuthbert",
                                    "TotalGames": "87"
                                },
                                {
                                    "Name": "Travis d'Arnaud",
                                    "TotalGames": "102"
                                },
                                {
                                    "Name": "David Dahl",
                                    "TotalGames": "100"
                                },
                                {
                                    "Name": "Yu Darvish",
                                    "TotalGames": "30"
                                },
                                {
                                    "Name": "Zach Davies",
                                    "TotalGames": "34"
                                },
                                {
                                    "Name": "Chris Davis",
                                    "TotalGames": "105"
                                },
                                {
                                    "Name": "J.D. Davis",
                                    "TotalGames": "140"
                                },
                                {
                                    "Name": "Jaylin Davis",
                                    "TotalGames": "17"
                                },
                                {
                                    "Name": "Johnny Davis",
                                    "TotalGames": "8"
                                },
                                {
                                    "Name": "Jonathan Davis",
                                    "TotalGames": "37"
                                },
                                {
                                    "Name": "Khris Davis",
                                    "TotalGames": "133"
                                },
                                {
                                    "Name": "Rajai Davis",
                                    "TotalGames": "29"
                                },
                                {
                                    "Name": "Taylor Davis",
                                    "TotalGames": "7"
                                },
                                {
                                    "Name": "Yonathan Daza",
                                    "TotalGames": "44"
                                },
                                {
                                    "Name": "Austin Dean",
                                    "TotalGames": "64"
                                },
                                {
                                    "Name": "Jacob deGrom",
                                    "TotalGames": "31"
                                },
                                {
                                    "Name": "Paul DeJong",
                                    "TotalGames": "159"
                                },
                                {
                                    "Name": "Nicky Delmonico",
                                    "TotalGames": "21"
                                },
                                {
                                    "Name": "Travis Demeritte",
                                    "TotalGames": "48"
                                },
                                {
                                    "Name": "Daniel Descalso",
                                    "TotalGames": "82"
                                },
                                {
                                    "Name": "Anthony DeSclafani",
                                    "TotalGames": "30"
                                },
                                {
                                    "Name": "Delino DeShields",
                                    "TotalGames": "118"
                                },
                                {
                                    "Name": "Ian Desmond",
                                    "TotalGames": "140"
                                },
                                {
                                    "Name": "Rafael Devers",
                                    "TotalGames": "156"
                                },
                                {
                                    "Name": "Aledmys Díaz",
                                    "TotalGames": "69"
                                },
                                {
                                    "Name": "Elias Diaz",
                                    "TotalGames": "101"
                                },
                                {
                                    "Name": "Isan Diaz",
                                    "TotalGames": "49"
                                },
                                {
                                    "Name": "Yandy Díaz",
                                    "TotalGames": "79"
                                },
                                {
                                    "Name": "Alex Dickerson",
                                    "TotalGames": "68"
                                },
                                {
                                    "Name": "Corey Dickerson",
                                    "TotalGames": "78"
                                },
                                {
                                    "Name": "Derek Dietrich",
                                    "TotalGames": "113"
                                },
                                {
                                    "Name": "Wilmer Difo",
                                    "TotalGames": "43"
                                },
                                {
                                    "Name": "Nick Dini",
                                    "TotalGames": "20"
                                },
                                {
                                    "Name": "Brandon Dixon",
                                    "TotalGames": "117"
                                },
                                {
                                    "Name": "Josh Donaldson",
                                    "TotalGames": "155"
                                },
                                {
                                    "Name": "Brian Dozier",
                                    "TotalGames": "135"
                                },
                                {
                                    "Name": "Hunter Dozier",
                                    "TotalGames": "139"
                                },
                                {
                                    "Name": "Oliver Drake",
                                    "TotalGames": "3"
                                },
                                {
                                    "Name": "Brandon Drury",
                                    "TotalGames": "120"
                                },
                                {
                                    "Name": "Mauricio Dubon",
                                    "TotalGames": "28"
                                },
                                {
                                    "Name": "Lucas Duda",
                                    "TotalGames": "39"
                                },
                                {
                                    "Name": "Danny Duffy",
                                    "TotalGames": "2"
                                },
                                {
                                    "Name": "Matt Duffy",
                                    "TotalGames": "46"
                                },
                                {
                                    "Name": "Steven Duggar",
                                    "TotalGames": "73"
                                },
                                {
                                    "Name": "Jon Duplantier",
                                    "TotalGames": "15"
                                },
                                {
                                    "Name": "Montana DuRapau",
                                    "TotalGames": "14"
                                },
                                {
                                    "Name": "Adam Duvall",
                                    "TotalGames": "41"
                                },
                                {
                                    "Name": "Jarrod Dyson",
                                    "TotalGames": "130"
                                },
                                {
                                    "Name": "Adam Eaton",
                                    "TotalGames": "151"
                                },
                                {
                                    "Name": "Tommy Edman",
                                    "TotalGames": "92"
                                },
                                {
                                    "Name": "Zach Eflin",
                                    "TotalGames": "31"
                                },
                                {
                                    "Name": "Jake Elmore",
                                    "TotalGames": "20"
                                },
                                {
                                    "Name": "Edwin Encarnacion",
                                    "TotalGames": "109"
                                },
                                {
                                    "Name": "Adam Engel",
                                    "TotalGames": "89"
                                },
                                {
                                    "Name": "Phil Ervin",
                                    "TotalGames": "94"
                                },
                                {
                                    "Name": "Eduardo Escobar",
                                    "TotalGames": "158"
                                },
                                {
                                    "Name": "Thairo Estrada",
                                    "TotalGames": "35"
                                },
                                {
                                    "Name": "Kyle Farmer",
                                    "TotalGames": "97"
                                },
                                {
                                    "Name": "Erick Fedde",
                                    "TotalGames": "20"
                                },
                                {
                                    "Name": "Tim Federowicz",
                                    "TotalGames": "29"
                                },
                                {
                                    "Name": "Caleb Ferguson",
                                    "TotalGames": "42"
                                },
                                {
                                    "Name": "Derek Fisher",
                                    "TotalGames": "57"
                                },
                                {
                                    "Name": "Jack Flaherty",
                                    "TotalGames": "35"
                                },
                                {
                                    "Name": "Ryan Flaherty",
                                    "TotalGames": "14"
                                },
                                {
                                    "Name": "David Fletcher",
                                    "TotalGames": "154"
                                },
                                {
                                    "Name": "Chris Flexen",
                                    "TotalGames": "9"
                                },
                                {
                                    "Name": "Wilmer Flores",
                                    "TotalGames": "89"
                                },
                                {
                                    "Name": "Tyler Flowers",
                                    "TotalGames": "85"
                                },
                                {
                                    "Name": "Mike Foltynewicz",
                                    "TotalGames": "19"
                                },
                                {
                                    "Name": "Wilmer Font",
                                    "TotalGames": "14"
                                },
                                {
                                    "Name": "Mike Ford",
                                    "TotalGames": "50"
                                },
                                {
                                    "Name": "Logan Forsythe",
                                    "TotalGames": "101"
                                },
                                {
                                    "Name": "Dexter Fowler",
                                    "TotalGames": "150"
                                },
                                {
                                    "Name": "Jake Fraley",
                                    "TotalGames": "12"
                                },
                                {
                                    "Name": "Ty France",
                                    "TotalGames": "69"
                                },
                                {
                                    "Name": "Maikel Franco",
                                    "TotalGames": "123"
                                },
                                {
                                    "Name": "Adam Frazier",
                                    "TotalGames": "152"
                                },
                                {
                                    "Name": "Clint Frazier",
                                    "TotalGames": "69"
                                },
                                {
                                    "Name": "Todd Frazier",
                                    "TotalGames": "133"
                                },
                                {
                                    "Name": "Kyle Freeland",
                                    "TotalGames": "19"
                                },
                                {
                                    "Name": "Freddie Freeman",
                                    "TotalGames": "158"
                                },
                                {
                                    "Name": "Mike Freeman",
                                    "TotalGames": "75"
                                },
                                {
                                    "Name": "David Freese",
                                    "TotalGames": "79"
                                },
                                {
                                    "Name": "David Freitas",
                                    "TotalGames": "16"
                                },
                                {
                                    "Name": "Max Fried",
                                    "TotalGames": "38"
                                },
                                {
                                    "Name": "Josh Fuentes",
                                    "TotalGames": "24"
                                },
                                {
                                    "Name": "Drew Gagnon",
                                    "TotalGames": "17"
                                },
                                {
                                    "Name": "Rocky Gale",
                                    "TotalGames": "5"
                                },
                                {
                                    "Name": "Cam Gallagher",
                                    "TotalGames": "45"
                                },
                                {
                                    "Name": "Zac Gallen",
                                    "TotalGames": "14"
                                },
                                {
                                    "Name": "Joey Gallo",
                                    "TotalGames": "70"
                                },
                                {
                                    "Name": "Isaac Galloway",
                                    "TotalGames": "19"
                                },
                                {
                                    "Name": "Freddy Galvis",
                                    "TotalGames": "147"
                                },
                                {
                                    "Name": "Ben Gamel",
                                    "TotalGames": "134"
                                },
                                {
                                    "Name": "Aramis Garcia",
                                    "TotalGames": "18"
                                },
                                {
                                    "Name": "Avisail Garcia",
                                    "TotalGames": "125"
                                },
                                {
                                    "Name": "Greg Garcia",
                                    "TotalGames": "134"
                                },
                                {
                                    "Name": "Leury Garcia",
                                    "TotalGames": "140"
                                },
                                {
                                    "Name": "Robel Garcia",
                                    "TotalGames": "31"
                                },
                                {
                                    "Name": "Brett Gardner",
                                    "TotalGames": "141"
                                },
                                {
                                    "Name": "Kyle Garlick",
                                    "TotalGames": "30"
                                },
                                {
                                    "Name": "Dustin Garneau",
                                    "TotalGames": "35"
                                },
                                {
                                    "Name": "Mitch Garver",
                                    "TotalGames": "93"
                                },
                                {
                                    "Name": "Kevin Gausman",
                                    "TotalGames": "16"
                                },
                                {
                                    "Name": "Scooter Gennett",
                                    "TotalGames": "42"
                                },
                                {
                                    "Name": "Mike Gerber",
                                    "TotalGames": "12"
                                },
                                {
                                    "Name": "Lucas Giolito",
                                    "TotalGames": "2"
                                },
                                {
                                    "Name": "Zack Godley",
                                    "TotalGames": "23"
                                },
                                {
                                    "Name": "Ryan Goins",
                                    "TotalGames": "52"
                                },
                                {
                                    "Name": "Paul Goldschmidt",
                                    "TotalGames": "161"
                                },
                                {
                                    "Name": "Yan Gomes",
                                    "TotalGames": "97"
                                },
                                {
                                    "Name": "Carlos Gomez",
                                    "TotalGames": "34"
                                },
                                {
                                    "Name": "Tony Gonsolin",
                                    "TotalGames": "10"
                                },
                                {
                                    "Name": "Marco Gonzales",
                                    "TotalGames": "2"
                                },
                                {
                                    "Name": "Carlos Gonzalez",
                                    "TotalGames": "45"
                                },
                                {
                                    "Name": "Chi Chi Gonzalez",
                                    "TotalGames": "13"
                                },
                                {
                                    "Name": "Erik Gonzalez",
                                    "TotalGames": "53"
                                },
                                {
                                    "Name": "Gio Gonzalez",
                                    "TotalGames": "18"
                                },
                                {
                                    "Name": "Marwin Gonzalez",
                                    "TotalGames": "114"
                                },
                                {
                                    "Name": "Niko Goodrum",
                                    "TotalGames": "112"
                                },
                                {
                                    "Name": "Brian Goodwin",
                                    "TotalGames": "136"
                                },
                                {
                                    "Name": "Alex Gordon",
                                    "TotalGames": "150"
                                },
                                {
                                    "Name": "Dee Gordon",
                                    "TotalGames": "117"
                                },
                                {
                                    "Name": "Terrance Gore",
                                    "TotalGames": "37"
                                },
                                {
                                    "Name": "Phil Gosselin",
                                    "TotalGames": "44"
                                },
                                {
                                    "Name": "Yasmani Grandal",
                                    "TotalGames": "153"
                                },
                                {
                                    "Name": "Curtis Granderson",
                                    "TotalGames": "138"
                                },
                                {
                                    "Name": "Juan Graterol",
                                    "TotalGames": "6"
                                },
                                {
                                    "Name": "Jon Gray",
                                    "TotalGames": "27"
                                },
                                {
                                    "Name": "Sonny Gray",
                                    "TotalGames": "32"
                                },
                                {
                                    "Name": "Zach Green",
                                    "TotalGames": "8"
                                },
                                {
                                    "Name": "Didi Gregorius",
                                    "TotalGames": "82"
                                },
                                {
                                    "Name": "Grayson Greiner",
                                    "TotalGames": "58"
                                },
                                {
                                    "Name": "Zack Greinke",
                                    "TotalGames": "25"
                                },
                                {
                                    "Name": "Randal Grichuk",
                                    "TotalGames": "151"
                                },
                                {
                                    "Name": "Trent Grisham",
                                    "TotalGames": "51"
                                },
                                {
                                    "Name": "Robbie Grossman",
                                    "TotalGames": "138"
                                },
                                {
                                    "Name": "Deivy Grullon",
                                    "TotalGames": "4"
                                },
                                {
                                    "Name": "Junior Guerra",
                                    "TotalGames": "65"
                                },
                                {
                                    "Name": "Vladimir Guerrero Jr.",
                                    "TotalGames": "123"
                                },
                                {
                                    "Name": "Luis Guillorme",
                                    "TotalGames": "45"
                                },
                                {
                                    "Name": "Lourdes Gurriel Jr.",
                                    "TotalGames": "84"
                                },
                                {
                                    "Name": "Yuli Gurriel",
                                    "TotalGames": "144"
                                },
                                {
                                    "Name": "Kelvin Gutierrez",
                                    "TotalGames": "20"
                                },
                                {
                                    "Name": "Ronald Guzman",
                                    "TotalGames": "87"
                                },
                                {
                                    "Name": "Jedd Gyorko",
                                    "TotalGames": "62"
                                },
                                {
                                    "Name": "Eric Haase",
                                    "TotalGames": "10"
                                },
                                {
                                    "Name": "Cole Hamels",
                                    "TotalGames": "24"
                                },
                                {
                                    "Name": "Billy Hamilton",
                                    "TotalGames": "119"
                                },
                                {
                                    "Name": "Garrett Hampson",
                                    "TotalGames": "105"
                                },
                                {
                                    "Name": "Mitch Haniger",
                                    "TotalGames": "63"
                                },
                                {
                                    "Name": "Alen Hanson",
                                    "TotalGames": "18"
                                },
                                {
                                    "Name": "Ian Happ",
                                    "TotalGames": "58"
                                },
                                {
                                    "Name": "Bryce Harper",
                                    "TotalGames": "157"
                                },
                                {
                                    "Name": "Josh Harrison",
                                    "TotalGames": "36"
                                },
                                {
                                    "Name": "Adam Haseley",
                                    "TotalGames": "67"
                                },
                                {
                                    "Name": "Austin Hays",
                                    "TotalGames": "21"
                                },
                                {
                                    "Name": "Ryon Healy",
                                    "TotalGames": "47"
                                },
                                {
                                    "Name": "Adeiny Hechavarria",
                                    "TotalGames": "84"
                                },
                                {
                                    "Name": "Austin Hedges",
                                    "TotalGames": "102"
                                },
                                {
                                    "Name": "Scott Heineman",
                                    "TotalGames": "25"
                                },
                                {
                                    "Name": "Tyler Heineman",
                                    "TotalGames": "5"
                                },
                                {
                                    "Name": "Jeremy Hellickson",
                                    "TotalGames": "9"
                                },
                                {
                                    "Name": "Ryan Helsley",
                                    "TotalGames": "24"
                                },
                                {
                                    "Name": "Kyle Hendricks",
                                    "TotalGames": "29"
                                },
                                {
                                    "Name": "Guillermo Heredia",
                                    "TotalGames": "89"
                                },
                                {
                                    "Name": "Michael Hermosillo",
                                    "TotalGames": "18"
                                },
                                {
                                    "Name": "Cesar Hernandez",
                                    "TotalGames": "161"
                                },
                                {
                                    "Name": "Elieser Hernandez",
                                    "TotalGames": "20"
                                },
                                {
                                    "Name": "Enrique Hernandez",
                                    "TotalGames": "130"
                                },
                                {
                                    "Name": "Gorkys Hernandez",
                                    "TotalGames": "20"
                                },
                                {
                                    "Name": "Marco Hernandez",
                                    "TotalGames": "61"
                                },
                                {
                                    "Name": "Teoscar Hernandez",
                                    "TotalGames": "125"
                                },
                                {
                                    "Name": "Odubel Herrera",
                                    "TotalGames": "39"
                                },
                                {
                                    "Name": "Rosell Herrera",
                                    "TotalGames": "63"
                                },
                                {
                                    "Name": "Chris Herrmann",
                                    "TotalGames": "30"
                                },
                                {
                                    "Name": "Jason Heyward",
                                    "TotalGames": "147"
                                },
                                {
                                    "Name": "Aaron Hicks",
                                    "TotalGames": "59"
                                },
                                {
                                    "Name": "John Hicks",
                                    "TotalGames": "95"
                                },
                                {
                                    "Name": "Kyle Higashioka",
                                    "TotalGames": "18"
                                },
                                {
                                    "Name": "Rich Hill",
                                    "TotalGames": "11"
                                },
                                {
                                    "Name": "Sam Hilliard",
                                    "TotalGames": "27"
                                },
                                {
                                    "Name": "Keston Hiura",
                                    "TotalGames": "84"
                                },
                                {
                                    "Name": "Nico Hoerner",
                                    "TotalGames": "20"
                                },
                                {
                                    "Name": "Jeff Hoffman",
                                    "TotalGames": "18"
                                },
                                {
                                    "Name": "Bryan Holaday",
                                    "TotalGames": "43"
                                },
                                {
                                    "Name": "Derek Holland",
                                    "TotalGames": "32"
                                },
                                {
                                    "Name": "Brock Holt",
                                    "TotalGames": "87"
                                },
                                {
                                    "Name": "Rhys Hoskins",
                                    "TotalGames": "160"
                                },
                                {
                                    "Name": "Eric Hosmer",
                                    "TotalGames": "160"
                                },
                                {
                                    "Name": "Adrian Houser",
                                    "TotalGames": "32"
                                },
                                {
                                    "Name": "Dakota Hudson",
                                    "TotalGames": "30"
                                },
                                {
                                    "Name": "Nick Hundley",
                                    "TotalGames": "31"
                                },
                                {
                                    "Name": "Chris Iannetta",
                                    "TotalGames": "52"
                                },
                                {
                                    "Name": "José Iglesias",
                                    "TotalGames": "146"
                                },
                                {
                                    "Name": "Ender Inciarte",
                                    "TotalGames": "65"
                                },
                                {
                                    "Name": "Cole Irvin",
                                    "TotalGames": "14"
                                },
                                {
                                    "Name": "Travis Jankowski",
                                    "TotalGames": "25"
                                },
                                {
                                    "Name": "Danny Jansen",
                                    "TotalGames": "107"
                                },
                                {
                                    "Name": "Jon Jay",
                                    "TotalGames": "47"
                                },
                                {
                                    "Name": "Eloy Jimenez",
                                    "TotalGames": "122"
                                },
                                {
                                    "Name": "Connor Joe",
                                    "TotalGames": "8"
                                },
                                {
                                    "Name": "Adam Jones",
                                    "TotalGames": "137"
                                },
                                {
                                    "Name": "JaCoby Jones",
                                    "TotalGames": "88"
                                },
                                {
                                    "Name": "Caleb Joseph",
                                    "TotalGames": "20"
                                },
                                {
                                    "Name": "Corban Joseph",
                                    "TotalGames": "28"
                                },
                                {
                                    "Name": "Matthew Joyce",
                                    "TotalGames": "129"
                                },
                                {
                                    "Name": "Aaron Judge",
                                    "TotalGames": "102"
                                },
                                {
                                    "Name": "Jung Ho Kang",
                                    "TotalGames": "65"
                                },
                                {
                                    "Name": "Brad Keller",
                                    "TotalGames": "3"
                                },
                                {
                                    "Name": "Carson Kelly",
                                    "TotalGames": "111"
                                },
                                {
                                    "Name": "Merrill Kelly",
                                    "TotalGames": "30"
                                },
                                {
                                    "Name": "Matt Kemp",
                                    "TotalGames": "20"
                                },
                                {
                                    "Name": "Tony Kemp",
                                    "TotalGames": "110"
                                },
                                {
                                    "Name": "Howie Kendrick",
                                    "TotalGames": "121"
                                },
                                {
                                    "Name": "Max Kepler",
                                    "TotalGames": "134"
                                },
                                {
                                    "Name": "Clayton Kershaw",
                                    "TotalGames": "28"
                                },
                                {
                                    "Name": "Dallas Keuchel",
                                    "TotalGames": "19"
                                },
                                {
                                    "Name": "Carter Kieboom",
                                    "TotalGames": "11"
                                },
                                {
                                    "Name": "Kevin Kiermaier",
                                    "TotalGames": "129"
                                },
                                {
                                    "Name": "Isiah Kiner-Falefa",
                                    "TotalGames": "65"
                                },
                                {
                                    "Name": "Scott Kingery",
                                    "TotalGames": "126"
                                },
                                {
                                    "Name": "Ian Kinsler",
                                    "TotalGames": "87"
                                },
                                {
                                    "Name": "Jason Kipnis",
                                    "TotalGames": "121"
                                },
                                {
                                    "Name": "Andrew Knapp",
                                    "TotalGames": "74"
                                },
                                {
                                    "Name": "Andrew Knizner",
                                    "TotalGames": "18"
                                },
                                {
                                    "Name": "Kevin Kramer",
                                    "TotalGames": "22"
                                },
                                {
                                    "Name": "Erik Kratz",
                                    "TotalGames": "21"
                                },
                                {
                                    "Name": "Tommy La Stella",
                                    "TotalGames": "80"
                                },
                                {
                                    "Name": "Juan Lagares",
                                    "TotalGames": "133"
                                },
                                {
                                    "Name": "Ryan LaMarre",
                                    "TotalGames": "14"
                                },
                                {
                                    "Name": "Jake Lamb",
                                    "TotalGames": "78"
                                },
                                {
                                    "Name": "Peter Lambert",
                                    "TotalGames": "21"
                                },
                                {
                                    "Name": "Dinelson Lamet",
                                    "TotalGames": "13"
                                },
                                {
                                    "Name": "Eric Lauer",
                                    "TotalGames": "29"
                                },
                                {
                                    "Name": "Ramon Laureano",
                                    "TotalGames": "123"
                                },
                                {
                                    "Name": "Ryan Lavarnway",
                                    "TotalGames": "5"
                                },
                                {
                                    "Name": "Mike Leake",
                                    "TotalGames": "10"
                                },
                                {
                                    "Name": "DJ LeMahieu",
                                    "TotalGames": "145"
                                },
                                {
                                    "Name": "Sandy Leon",
                                    "TotalGames": "65"
                                },
                                {
                                    "Name": "Jon Lester",
                                    "TotalGames": "28"
                                },
                                {
                                    "Name": "Kyle Lewis",
                                    "TotalGames": "18"
                                },
                                {
                                    "Name": "Domingo Leyba",
                                    "TotalGames": "21"
                                },
                                {
                                    "Name": "Tzu-Wei Lin",
                                    "TotalGames": "13"
                                },
                                {
                                    "Name": "Francisco Lindor",
                                    "TotalGames": "143"
                                },
                                {
                                    "Name": "Francisco Liriano",
                                    "TotalGames": "67"
                                },
                                {
                                    "Name": "Tim Locastro",
                                    "TotalGames": "91"
                                },
                                {
                                    "Name": "Walker Lockett",
                                    "TotalGames": "9"
                                },
                                {
                                    "Name": "Shed Long",
                                    "TotalGames": "42"
                                },
                                {
                                    "Name": "Evan Longoria",
                                    "TotalGames": "129"
                                },
                                {
                                    "Name": "Tim Lopes",
                                    "TotalGames": "41"
                                },
                                {
                                    "Name": "Nicky Lopez",
                                    "TotalGames": "103"
                                },
                                {
                                    "Name": "Pablo Lopez",
                                    "TotalGames": "21"
                                },
                                {
                                    "Name": "Michael Lorenzen",
                                    "TotalGames": "100"
                                },
                                {
                                    "Name": "Brandon Lowe",
                                    "TotalGames": "82"
                                },
                                {
                                    "Name": "Nate Lowe",
                                    "TotalGames": "50"
                                },
                                {
                                    "Name": "Joey Lucchesi",
                                    "TotalGames": "28"
                                },
                                {
                                    "Name": "Jonathan Lucroy",
                                    "TotalGames": "101"
                                },
                                {
                                    "Name": "Dawel Lugo",
                                    "TotalGames": "77"
                                },
                                {
                                    "Name": "Seth Lugo",
                                    "TotalGames": "57"
                                },
                                {
                                    "Name": "Jordan Luplow",
                                    "TotalGames": "85"
                                },
                                {
                                    "Name": "Gavin Lux",
                                    "TotalGames": "23"
                                },
                                {
                                    "Name": "Jordan Lyles",
                                    "TotalGames": "26"
                                },
                                {
                                    "Name": "Manny Machado",
                                    "TotalGames": "156"
                                },
                                {
                                    "Name": "Kenta Maeda",
                                    "TotalGames": "38"
                                },
                                {
                                    "Name": "Tyler Mahle",
                                    "TotalGames": "24"
                                },
                                {
                                    "Name": "Luke Maile",
                                    "TotalGames": "44"
                                },
                                {
                                    "Name": "Martin Maldonado",
                                    "TotalGames": "101"
                                },
                                {
                                    "Name": "Trey Mancini",
                                    "TotalGames": "154"
                                },
                                {
                                    "Name": "Nick Margevicius",
                                    "TotalGames": "17"
                                },
                                {
                                    "Name": "Manuel Margot",
                                    "TotalGames": "151"
                                },
                                {
                                    "Name": "Jake Marisnick",
                                    "TotalGames": "120"
                                },
                                {
                                    "Name": "Nick Markakis",
                                    "TotalGames": "116"
                                },
                                {
                                    "Name": "German Marquez",
                                    "TotalGames": "25"
                                },
                                {
                                    "Name": "Ketel Marte",
                                    "TotalGames": "144"
                                },
                                {
                                    "Name": "Starling Marte",
                                    "TotalGames": "132"
                                },
                                {
                                    "Name": "Jason Martin",
                                    "TotalGames": "20"
                                },
                                {
                                    "Name": "Leonys Martín",
                                    "TotalGames": "65"
                                },
                                {
                                    "Name": "Richie Martin",
                                    "TotalGames": "120"
                                },
                                {
                                    "Name": "Russell Martin",
                                    "TotalGames": "83"
                                },
                                {
                                    "Name": "J.D. Martinez",
                                    "TotalGames": "146"
                                },
                                {
                                    "Name": "Jose Martinez",
                                    "TotalGames": "128"
                                },
                                {
                                    "Name": "Nick Martini",
                                    "TotalGames": "32"
                                },
                                {
                                    "Name": "Jeff Mathis",
                                    "TotalGames": "86"
                                },
                                {
                                    "Name": "Phil Maton",
                                    "TotalGames": "18"
                                },
                                {
                                    "Name": "Steven Matz",
                                    "TotalGames": "35"
                                },
                                {
                                    "Name": "Dustin May",
                                    "TotalGames": "13"
                                },
                                {
                                    "Name": "Cameron Maybin",
                                    "TotalGames": "82"
                                },
                                {
                                    "Name": "Jack Mayfield",
                                    "TotalGames": "26"
                                },
                                {
                                    "Name": "Nomar Mazara",
                                    "TotalGames": "116"
                                },
                                {
                                    "Name": "Ryan McBroom",
                                    "TotalGames": "23"
                                },
                                {
                                    "Name": "Brian McCann",
                                    "TotalGames": "85"
                                },
                                {
                                    "Name": "James McCann",
                                    "TotalGames": "118"
                                },
                                {
                                    "Name": "Andrew McCutchen",
                                    "TotalGames": "59"
                                },
                                {
                                    "Name": "Kyle McGowin",
                                    "TotalGames": "7"
                                },
                                {
                                    "Name": "Reese McGuire",
                                    "TotalGames": "30"
                                },
                                {
                                    "Name": "Brendan McKay",
                                    "TotalGames": "7"
                                },
                                {
                                    "Name": "Billy McKinney",
                                    "TotalGames": "84"
                                },
                                {
                                    "Name": "Ryan McMahon",
                                    "TotalGames": "141"
                                },
                                {
                                    "Name": "Jeff McNeil",
                                    "TotalGames": "133"
                                },
                                {
                                    "Name": "Alex McRae",
                                    "TotalGames": "11"
                                },
                                {
                                    "Name": "Austin Meadows",
                                    "TotalGames": "138"
                                },
                                {
                                    "Name": "John Means",
                                    "TotalGames": "2"
                                },
                                {
                                    "Name": "Erick Mejia",
                                    "TotalGames": "9"
                                },
                                {
                                    "Name": "Francisco Mejia",
                                    "TotalGames": "79"
                                },
                                {
                                    "Name": "Seth Mejias-Brean",
                                    "TotalGames": "14"
                                },
                                {
                                    "Name": "Tim Melville",
                                    "TotalGames": "7"
                                },
                                {
                                    "Name": "Danny Mendick",
                                    "TotalGames": "16"
                                },
                                {
                                    "Name": "Oscar Mercado",
                                    "TotalGames": "115"
                                },
                                {
                                    "Name": "Jordy Mercer",
                                    "TotalGames": "74"
                                },
                                {
                                    "Name": "Whit Merrifield",
                                    "TotalGames": "162"
                                },
                                {
                                    "Name": "Miles Mikolas",
                                    "TotalGames": "31"
                                },
                                {
                                    "Name": "Brad Miller",
                                    "TotalGames": "79"
                                },
                                {
                                    "Name": "Ian Miller",
                                    "TotalGames": "12"
                                },
                                {
                                    "Name": "Alec Mills",
                                    "TotalGames": "9"
                                },
                                {
                                    "Name": "Yadier Molina",
                                    "TotalGames": "113"
                                },
                                {
                                    "Name": "Yoan Moncada",
                                    "TotalGames": "132"
                                },
                                {
                                    "Name": "Adalberto Mondesi",
                                    "TotalGames": "102"
                                },
                                {
                                    "Name": "Mike Montgomery",
                                    "TotalGames": "18"
                                },
                                {
                                    "Name": "Dylan Moore",
                                    "TotalGames": "113"
                                },
                                {
                                    "Name": "Kendrys Morales",
                                    "TotalGames": "53"
                                },
                                {
                                    "Name": "Colin Moran",
                                    "TotalGames": "149"
                                },
                                {
                                    "Name": "Mitch Moreland",
                                    "TotalGames": "91"
                                },
                                {
                                    "Name": "Max Moroff",
                                    "TotalGames": "20"
                                },
                                {
                                    "Name": "Logan Morrison",
                                    "TotalGames": "29"
                                },
                                {
                                    "Name": "Mike Moustakas",
                                    "TotalGames": "143"
                                },
                                {
                                    "Name": "Cedric Mullins",
                                    "TotalGames": "22"
                                },
                                {
                                    "Name": "Max Muncy",
                                    "TotalGames": "141"
                                },
                                {
                                    "Name": "Yairo Munoz",
                                    "TotalGames": "88"
                                },
                                {
                                    "Name": "Daniel Murphy",
                                    "TotalGames": "132"
                                },
                                {
                                    "Name": "John Ryan Murphy",
                                    "TotalGames": "25"
                                },
                                {
                                    "Name": "Sean Murphy",
                                    "TotalGames": "20"
                                },
                                {
                                    "Name": "Tom Murphy",
                                    "TotalGames": "75"
                                },
                                {
                                    "Name": "Joe Musgrove",
                                    "TotalGames": "44"
                                },
                                {
                                    "Name": "Wil Myers",
                                    "TotalGames": "155"
                                },
                                {
                                    "Name": "Tyler Naquin",
                                    "TotalGames": "89"
                                },
                                {
                                    "Name": "Omar Narvaez",
                                    "TotalGames": "132"
                                },
                                {
                                    "Name": "Josh Naylor",
                                    "TotalGames": "94"
                                },
                                {
                                    "Name": "Kristopher Negron",
                                    "TotalGames": "40"
                                },
                                {
                                    "Name": "Sheldon Neuse",
                                    "TotalGames": "25"
                                },
                                {
                                    "Name": "Kevin Newman",
                                    "TotalGames": "130"
                                },
                                {
                                    "Name": "Tomas Nido",
                                    "TotalGames": "50"
                                },
                                {
                                    "Name": "Brandon Nimmo",
                                    "TotalGames": "69"
                                },
                                {
                                    "Name": "Hector Noesi",
                                    "TotalGames": "12"
                                },
                                {
                                    "Name": "Aaron Nola",
                                    "TotalGames": "32"
                                },
                                {
                                    "Name": "Austin Nola",
                                    "TotalGames": "79"
                                },
                                {
                                    "Name": "Jake Noll",
                                    "TotalGames": "8"
                                },
                                {
                                    "Name": "Daniel Norris",
                                    "TotalGames": "4"
                                },
                                {
                                    "Name": "Jacob Nottingham",
                                    "TotalGames": "9"
                                },
                                {
                                    "Name": "Dom Nunez",
                                    "TotalGames": "16"
                                },
                                {
                                    "Name": "Eduardo Nunez",
                                    "TotalGames": "60"
                                },
                                {
                                    "Name": "Renato Nunez",
                                    "TotalGames": "151"
                                },
                                {
                                    "Name": "Peter O'Brien",
                                    "TotalGames": "14"
                                },
                                {
                                    "Name": "Brian O'Grady",
                                    "TotalGames": "28"
                                },
                                {
                                    "Name": "Ryan O'Hearn",
                                    "TotalGames": "105"
                                },
                                {
                                    "Name": "Tyler O'Neill",
                                    "TotalGames": "60"
                                },
                                {
                                    "Name": "Rougned Odor",
                                    "TotalGames": "145"
                                },
                                {
                                    "Name": "Shohei Ohtani",
                                    "TotalGames": "106"
                                },
                                {
                                    "Name": "Matt Olson",
                                    "TotalGames": "127"
                                },
                                {
                                    "Name": "Rafael Ortega",
                                    "TotalGames": "34"
                                },
                                {
                                    "Name": "Jose Osuna",
                                    "TotalGames": "95"
                                },
                                {
                                    "Name": "Chris Owings",
                                    "TotalGames": "66"
                                },
                                {
                                    "Name": "Marcell Ozuna",
                                    "TotalGames": "130"
                                },
                                {
                                    "Name": "Chris Paddack",
                                    "TotalGames": "25"
                                },
                                {
                                    "Name": "Daniel Palka",
                                    "TotalGames": "30"
                                },
                                {
                                    "Name": "Joe Panik",
                                    "TotalGames": "142"
                                },
                                {
                                    "Name": "Gerardo Parra",
                                    "TotalGames": "119"
                                },
                                {
                                    "Name": "Steve Pearce",
                                    "TotalGames": "29"
                                },
                                {
                                    "Name": "Joc Pederson",
                                    "TotalGames": "149"
                                },
                                {
                                    "Name": "Dustin Pedroia",
                                    "TotalGames": "6"
                                },
                                {
                                    "Name": "Hunter Pence",
                                    "TotalGames": "83"
                                },
                                {
                                    "Name": "David Peralta",
                                    "TotalGames": "99"
                                },
                                {
                                    "Name": "Freddy Peralta",
                                    "TotalGames": "37"
                                },
                                {
                                    "Name": "Jose Peraza",
                                    "TotalGames": "141"
                                },
                                {
                                    "Name": "Luis Perdomo",
                                    "TotalGames": "44"
                                },
                                {
                                    "Name": "Hernan Perez",
                                    "TotalGames": "91"
                                },
                                {
                                    "Name": "Michael Perez",
                                    "TotalGames": "22"
                                },
                                {
                                    "Name": "Roberto Perez",
                                    "TotalGames": "119"
                                },
                                {
                                    "Name": "Dustin Peterson",
                                    "TotalGames": "17"
                                },
                                {
                                    "Name": "Jace Peterson",
                                    "TotalGames": "29"
                                },
                                {
                                    "Name": "Tommy Pham",
                                    "TotalGames": "145"
                                },
                                {
                                    "Name": "Josh Phegley",
                                    "TotalGames": "106"
                                },
                                {
                                    "Name": "Brett Phillips",
                                    "TotalGames": "30"
                                },
                                {
                                    "Name": "Kevin Pillar",
                                    "TotalGames": "161"
                                },
                                {
                                    "Name": "Manny Pina",
                                    "TotalGames": "76"
                                },
                                {
                                    "Name": "Chad Pinder",
                                    "TotalGames": "124"
                                },
                                {
                                    "Name": "Jose Pirela",
                                    "TotalGames": "12"
                                },
                                {
                                    "Name": "Stephen Piscotty",
                                    "TotalGames": "93"
                                },
                                {
                                    "Name": "Nick Pivetta",
                                    "TotalGames": "29"
                                },
                                {
                                    "Name": "Kevin Plawecki",
                                    "TotalGames": "59"
                                },
                                {
                                    "Name": "Gregory Polanco",
                                    "TotalGames": "42"
                                },
                                {
                                    "Name": "Jorge Polanco",
                                    "TotalGames": "153"
                                },
                                {
                                    "Name": "A.J. Pollock",
                                    "TotalGames": "86"
                                },
                                {
                                    "Name": "Buster Posey",
                                    "TotalGames": "114"
                                },
                                {
                                    "Name": "Martin Prado",
                                    "TotalGames": "104"
                                },
                                {
                                    "Name": "David Price",
                                    "TotalGames": "1"
                                },
                                {
                                    "Name": "Jurickson Profar",
                                    "TotalGames": "139"
                                },
                                {
                                    "Name": "Cesar Puello",
                                    "TotalGames": "44"
                                },
                                {
                                    "Name": "Yasiel Puig",
                                    "TotalGames": "149"
                                },
                                {
                                    "Name": "Albert Pujols",
                                    "TotalGames": "131"
                                },
                                {
                                    "Name": "Cal Quantrill",
                                    "TotalGames": "21"
                                },
                                {
                                    "Name": "Roman Quinn",
                                    "TotalGames": "44"
                                },
                                {
                                    "Name": "Jose Quintana",
                                    "TotalGames": "31"
                                },
                                {
                                    "Name": "Hanley Ramirez",
                                    "TotalGames": "16"
                                },
                                {
                                    "Name": "Harold Ramirez",
                                    "TotalGames": "119"
                                },
                                {
                                    "Name": "Jose Ramirez",
                                    "TotalGames": "129"
                                },
                                {
                                    "Name": "Wilson Ramos",
                                    "TotalGames": "141"
                                },
                                {
                                    "Name": "Rangel Ravelo",
                                    "TotalGames": "29"
                                },
                                {
                                    "Name": "Robbie Ray",
                                    "TotalGames": "31"
                                },
                                {
                                    "Name": "Raudy Read",
                                    "TotalGames": "6"
                                },
                                {
                                    "Name": "J.T. Realmuto",
                                    "TotalGames": "145"
                                },
                                {
                                    "Name": "Josh Reddick",
                                    "TotalGames": "141"
                                },
                                {
                                    "Name": "AJ Reed",
                                    "TotalGames": "14"
                                },
                                {
                                    "Name": "Anthony Rendon",
                                    "TotalGames": "146"
                                },
                                {
                                    "Name": "Hunter Renfroe",
                                    "TotalGames": "140"
                                },
                                {
                                    "Name": "Luis Rengifo",
                                    "TotalGames": "108"
                                },
                                {
                                    "Name": "Franmil Reyes",
                                    "TotalGames": "150"
                                },
                                {
                                    "Name": "Pablo Reyes",
                                    "TotalGames": "71"
                                },
                                {
                                    "Name": "Victor Reyes",
                                    "TotalGames": "69"
                                },
                                {
                                    "Name": "Bryan Reynolds",
                                    "TotalGames": "134"
                                },
                                {
                                    "Name": "Mark Reynolds",
                                    "TotalGames": "78"
                                },
                                {
                                    "Name": "Trevor Richards",
                                    "TotalGames": "22"
                                },
                                {
                                    "Name": "Joey Rickard",
                                    "TotalGames": "68"
                                },
                                {
                                    "Name": "JT Riddle",
                                    "TotalGames": "51"
                                },
                                {
                                    "Name": "Austin Riley",
                                    "TotalGames": "80"
                                },
                                {
                                    "Name": "Edwin Rios",
                                    "TotalGames": "28"
                                },
                                {
                                    "Name": "Rene Rivera",
                                    "TotalGames": "9"
                                },
                                {
                                    "Name": "Yadiel Rivera",
                                    "TotalGames": "34"
                                },
                                {
                                    "Name": "Anthony Rizzo",
                                    "TotalGames": "146"
                                },
                                {
                                    "Name": "Tanner Roark",
                                    "TotalGames": "19"
                                },
                                {
                                    "Name": "Daniel Robertson",
                                    "TotalGames": "74"
                                },
                                {
                                    "Name": "Drew Robinson",
                                    "TotalGames": "5"
                                },
                                {
                                    "Name": "Victor Robles",
                                    "TotalGames": "155"
                                },
                                {
                                    "Name": "Brendan Rodgers",
                                    "TotalGames": "25"
                                },
                                {
                                    "Name": "Dereck Rodriguez",
                                    "TotalGames": "27"
                                },
                                {
                                    "Name": "Ronny Rodriguez",
                                    "TotalGames": "84"
                                },
                                {
                                    "Name": "Sean Rodriguez",
                                    "TotalGames": "76"
                                },
                                {
                                    "Name": "Jake Rogers",
                                    "TotalGames": "35"
                                },
                                {
                                    "Name": "Josh Rojas",
                                    "TotalGames": "41"
                                },
                                {
                                    "Name": "Miguel Rojas",
                                    "TotalGames": "132"
                                },
                                {
                                    "Name": "Austin Romine",
                                    "TotalGames": "72"
                                },
                                {
                                    "Name": "Jose Rondon",
                                    "TotalGames": "55"
                                },
                                {
                                    "Name": "Amed Rosario",
                                    "TotalGames": "157"
                                },
                                {
                                    "Name": "Eddie Rosario",
                                    "TotalGames": "137"
                                },
                                {
                                    "Name": "Joe Ross",
                                    "TotalGames": "28"
                                },
                                {
                                    "Name": "Rio Ruiz",
                                    "TotalGames": "127"
                                },
                                {
                                    "Name": "Addison Russell",
                                    "TotalGames": "82"
                                },
                                {
                                    "Name": "Hyun-Jin Ryu",
                                    "TotalGames": "28"
                                },
                                {
                                    "Name": "Tyler Saladino",
                                    "TotalGames": "28"
                                },
                                {
                                    "Name": "Jeff Samardzija",
                                    "TotalGames": "29"
                                },
                                {
                                    "Name": "Adrian Sanchez",
                                    "TotalGames": "28"
                                },
                                {
                                    "Name": "Anibal Sanchez",
                                    "TotalGames": "27"
                                },
                                {
                                    "Name": "Gary Sanchez",
                                    "TotalGames": "106"
                                },
                                {
                                    "Name": "Yolmer Sanchez",
                                    "TotalGames": "149"
                                },
                                {
                                    "Name": "Pablo Sandoval",
                                    "TotalGames": "108"
                                },
                                {
                                    "Name": "Miguel Sano",
                                    "TotalGames": "105"
                                },
                                {
                                    "Name": "Carlos Santana",
                                    "TotalGames": "158"
                                },
                                {
                                    "Name": "Danny Santana",
                                    "TotalGames": "130"
                                },
                                {
                                    "Name": "Dennis Santana",
                                    "TotalGames": "3"
                                },
                                {
                                    "Name": "Domingo Santana",
                                    "TotalGames": "121"
                                },
                                {
                                    "Name": "Anthony Santander",
                                    "TotalGames": "93"
                                },
                                {
                                    "Name": "Scott Schebler",
                                    "TotalGames": "30"
                                },
                                {
                                    "Name": "Max Scherzer",
                                    "TotalGames": "28"
                                },
                                {
                                    "Name": "Jonathan Schoop",
                                    "TotalGames": "121"
                                },
                                {
                                    "Name": "Kyle Schwarber",
                                    "TotalGames": "155"
                                },
                                {
                                    "Name": "Frank Schwindel",
                                    "TotalGames": "6"
                                },
                                {
                                    "Name": "Corey Seager",
                                    "TotalGames": "134"
                                },
                                {
                                    "Name": "Kyle Seager",
                                    "TotalGames": "106"
                                },
                                {
                                    "Name": "Jean Segura",
                                    "TotalGames": "144"
                                },
                                {
                                    "Name": "Marcus Semien",
                                    "TotalGames": "162"
                                },
                                {
                                    "Name": "Antonio Senzatela",
                                    "TotalGames": "24"
                                },
                                {
                                    "Name": "Nick Senzel",
                                    "TotalGames": "104"
                                },
                                {
                                    "Name": "Pedro Severino",
                                    "TotalGames": "96"
                                },
                                {
                                    "Name": "Chris Shaw",
                                    "TotalGames": "16"
                                },
                                {
                                    "Name": "Travis Shaw",
                                    "TotalGames": "86"
                                },
                                {
                                    "Name": "JB Shuck",
                                    "TotalGames": "27"
                                },
                                {
                                    "Name": "Magneuris Sierra",
                                    "TotalGames": "15"
                                },
                                {
                                    "Name": "Andrelton Simmons",
                                    "TotalGames": "103"
                                },
                                {
                                    "Name": "Lucas Sims",
                                    "TotalGames": "23"
                                },
                                {
                                    "Name": "Chance Sisco",
                                    "TotalGames": "59"
                                },
                                {
                                    "Name": "Matt Skole",
                                    "TotalGames": "27"
                                },
                                {
                                    "Name": "Austin Slater",
                                    "TotalGames": "68"
                                },
                                {
                                    "Name": "Caleb Smith",
                                    "TotalGames": "27"
                                },
                                {
                                    "Name": "Dominic Smith",
                                    "TotalGames": "89"
                                },
                                {
                                    "Name": "Dwight Smith Jr.",
                                    "TotalGames": "101"
                                },
                                {
                                    "Name": "Kevan Smith",
                                    "TotalGames": "67"
                                },
                                {
                                    "Name": "Mallex Smith",
                                    "TotalGames": "134"
                                },
                                {
                                    "Name": "Will Smith",
                                    "TotalGames": "112"
                                },
                                {
                                    "Name": "Justin Smoak",
                                    "TotalGames": "121"
                                },
                                {
                                    "Name": "Eric Sogard",
                                    "TotalGames": "110"
                                },
                                {
                                    "Name": "Nick Solak",
                                    "TotalGames": "33"
                                },
                                {
                                    "Name": "Donovan Solano",
                                    "TotalGames": "81"
                                },
                                {
                                    "Name": "Yangervis Solarte",
                                    "TotalGames": "28"
                                },
                                {
                                    "Name": "Jorge Soler",
                                    "TotalGames": "162"
                                },
                                {
                                    "Name": "Mike Soroka",
                                    "TotalGames": "27"
                                },
                                {
                                    "Name": "Edmundo Sosa",
                                    "TotalGames": "8"
                                },
                                {
                                    "Name": "Gregory Soto",
                                    "TotalGames": "1"
                                },
                                {
                                    "Name": "Juan Soto",
                                    "TotalGames": "150"
                                },
                                {
                                    "Name": "Cory Spangenberg",
                                    "TotalGames": "32"
                                },
                                {
                                    "Name": "George Springer",
                                    "TotalGames": "122"
                                },
                                {
                                    "Name": "Jacob Stallings",
                                    "TotalGames": "71"
                                },
                                {
                                    "Name": "Eric Stamets",
                                    "TotalGames": "15"
                                },
                                {
                                    "Name": "Giancarlo Stanton",
                                    "TotalGames": "18"
                                },
                                {
                                    "Name": "Bubba Starling",
                                    "TotalGames": "56"
                                },
                                {
                                    "Name": "Max Stassi",
                                    "TotalGames": "51"
                                },
                                {
                                    "Name": "Andrew Stevenson",
                                    "TotalGames": "30"
                                },
                                {
                                    "Name": "Brock Stewart",
                                    "TotalGames": "3"
                                },
                                {
                                    "Name": "Christin Stewart",
                                    "TotalGames": "104"
                                },
                                {
                                    "Name": "DJ Stewart",
                                    "TotalGames": "44"
                                },
                                {
                                    "Name": "Trevor Story",
                                    "TotalGames": "145"
                                },
                                {
                                    "Name": "Matt Strahm",
                                    "TotalGames": "45"
                                },
                                {
                                    "Name": "Stephen Strasburg",
                                    "TotalGames": "33"
                                },
                                {
                                    "Name": "Myles Straw",
                                    "TotalGames": "56"
                                },
                                {
                                    "Name": "Ross Stripling",
                                    "TotalGames": "27"
                                },
                                {
                                    "Name": "Marcus Stroman",
                                    "TotalGames": "11"
                                },
                                {
                                    "Name": "Garrett Stubbs",
                                    "TotalGames": "19"
                                },
                                {
                                    "Name": "Eugenio Suarez",
                                    "TotalGames": "159"
                                },
                                {
                                    "Name": "Ranger Suarez",
                                    "TotalGames": "34"
                                },
                                {
                                    "Name": "Jesus Sucre",
                                    "TotalGames": "20"
                                },
                                {
                                    "Name": "Kurt Suzuki",
                                    "TotalGames": "85"
                                },
                                {
                                    "Name": "Dansby Swanson",
                                    "TotalGames": "127"
                                },
                                {
                                    "Name": "Blake Swihart",
                                    "TotalGames": "43"
                                },
                                {
                                    "Name": "Noah Syndergaard",
                                    "TotalGames": "30"
                                },
                                {
                                    "Name": "Jameson Taillon",
                                    "TotalGames": "6"
                                },
                                {
                                    "Name": "Raimel Tapia",
                                    "TotalGames": "138"
                                },
                                {
                                    "Name": "Fernando Tatis Jr.",
                                    "TotalGames": "84"
                                },
                                {
                                    "Name": "Mike Tauchman",
                                    "TotalGames": "87"
                                },
                                {
                                    "Name": "Beau Taylor",
                                    "TotalGames": "9"
                                },
                                {
                                    "Name": "Chris Taylor",
                                    "TotalGames": "124"
                                },
                                {
                                    "Name": "Michael A. Taylor",
                                    "TotalGames": "53"
                                },
                                {
                                    "Name": "Tyrone Taylor",
                                    "TotalGames": "15"
                                },
                                {
                                    "Name": "Julio Teheran",
                                    "TotalGames": "33"
                                },
                                {
                                    "Name": "Rowdy Tellez",
                                    "TotalGames": "111"
                                },
                                {
                                    "Name": "Matt Thaiss",
                                    "TotalGames": "53"
                                },
                                {
                                    "Name": "Eric Thames",
                                    "TotalGames": "149"
                                },
                                {
                                    "Name": "Lane Thomas",
                                    "TotalGames": "34"
                                },
                                {
                                    "Name": "Trent Thornton",
                                    "TotalGames": "1"
                                },
                                {
                                    "Name": "Charlie Tilson",
                                    "TotalGames": "54"
                                },
                                {
                                    "Name": "Jesus Tinoco",
                                    "TotalGames": "23"
                                },
                                {
                                    "Name": "Abraham Toro",
                                    "TotalGames": "25"
                                },
                                {
                                    "Name": "Luis Torrens",
                                    "TotalGames": "7"
                                },
                                {
                                    "Name": "Gleyber Torres",
                                    "TotalGames": "144"
                                },
                                {
                                    "Name": "Ronald Torreyes",
                                    "TotalGames": "7"
                                },
                                {
                                    "Name": "Wilfredo Tovar",
                                    "TotalGames": "31"
                                },
                                {
                                    "Name": "Sam Travis",
                                    "TotalGames": "59"
                                },
                                {
                                    "Name": "Jose Trevino",
                                    "TotalGames": "40"
                                },
                                {
                                    "Name": "Mike Trout",
                                    "TotalGames": "134"
                                },
                                {
                                    "Name": "Mark Trumbo",
                                    "TotalGames": "12"
                                },
                                {
                                    "Name": "Cole Tucker",
                                    "TotalGames": "56"
                                },
                                {
                                    "Name": "Kyle Tucker",
                                    "TotalGames": "22"
                                },
                                {
                                    "Name": "Troy Tulowitzki",
                                    "TotalGames": "5"
                                },
                                {
                                    "Name": "Justin Turner",
                                    "TotalGames": "135"
                                },
                                {
                                    "Name": "Trea Turner",
                                    "TotalGames": "122"
                                },
                                {
                                    "Name": "Justin Upton",
                                    "TotalGames": "63"
                                },
                                {
                                    "Name": "Richard Urena",
                                    "TotalGames": "30"
                                },
                                {
                                    "Name": "Julio Urias",
                                    "TotalGames": "35"
                                },
                                {
                                    "Name": "Luis Urias",
                                    "TotalGames": "71"
                                },
                                {
                                    "Name": "Gio Urshela",
                                    "TotalGames": "132"
                                },
                                {
                                    "Name": "Pat Valaika",
                                    "TotalGames": "40"
                                },
                                {
                                    "Name": "Breyvic Valera",
                                    "TotalGames": "17"
                                },
                                {
                                    "Name": "Josh VanMeter",
                                    "TotalGames": "95"
                                },
                                {
                                    "Name": "Ildemaro Vargas",
                                    "TotalGames": "92"
                                },
                                {
                                    "Name": "Jason Vargas",
                                    "TotalGames": "27"
                                },
                                {
                                    "Name": "Christian Vazquez",
                                    "TotalGames": "138"
                                },
                                {
                                    "Name": "Vince Velasquez",
                                    "TotalGames": "33"
                                },
                                {
                                    "Name": "Andrew Velazquez",
                                    "TotalGames": "15"
                                },
                                {
                                    "Name": "Alex Verdugo",
                                    "TotalGames": "106"
                                },
                                {
                                    "Name": "Jonathan Villar",
                                    "TotalGames": "162"
                                },
                                {
                                    "Name": "Meibrys Viloria",
                                    "TotalGames": "42"
                                },
                                {
                                    "Name": "Daniel Vogelbach",
                                    "TotalGames": "144"
                                },
                                {
                                    "Name": "Stephen Vogt",
                                    "TotalGames": "99"
                                },
                                {
                                    "Name": "Luke Voit",
                                    "TotalGames": "118"
                                },
                                {
                                    "Name": "Austin Voth",
                                    "TotalGames": "7"
                                },
                                {
                                    "Name": "Joey Votto",
                                    "TotalGames": "142"
                                },
                                {
                                    "Name": "Michael Wacha",
                                    "TotalGames": "28"
                                },
                                {
                                    "Name": "LaMonte Wade Jr",
                                    "TotalGames": "26"
                                },
                                {
                                    "Name": "Tyler Wade",
                                    "TotalGames": "43"
                                },
                                {
                                    "Name": "Adam Wainwright",
                                    "TotalGames": "29"
                                },
                                {
                                    "Name": "Christian Walker",
                                    "TotalGames": "152"
                                },
                                {
                                    "Name": "Neil Walker",
                                    "TotalGames": "115"
                                },
                                {
                                    "Name": "Chad Wallach",
                                    "TotalGames": "19"
                                },
                                {
                                    "Name": "Jared Walsh",
                                    "TotalGames": "31"
                                },
                                {
                                    "Name": "Donovan Walton",
                                    "TotalGames": "7"
                                },
                                {
                                    "Name": "Taylor Ward",
                                    "TotalGames": "20"
                                },
                                {
                                    "Name": "Luke Weaver",
                                    "TotalGames": "13"
                                },
                                {
                                    "Name": "Logan Webb",
                                    "TotalGames": "7"
                                },
                                {
                                    "Name": "Joey Wendle",
                                    "TotalGames": "75"
                                },
                                {
                                    "Name": "Zack Wheeler",
                                    "TotalGames": "28"
                                },
                                {
                                    "Name": "Tyler White",
                                    "TotalGames": "83"
                                },
                                {
                                    "Name": "Matt Wieters",
                                    "TotalGames": "67"
                                },
                                {
                                    "Name": "Aaron Wilkerson",
                                    "TotalGames": "8"
                                },
                                {
                                    "Name": "Stevie Wilkerson",
                                    "TotalGames": "117"
                                },
                                {
                                    "Name": "Mason Williams",
                                    "TotalGames": "11"
                                },
                                {
                                    "Name": "Nick Williams",
                                    "TotalGames": "67"
                                },
                                {
                                    "Name": "Trevor Williams",
                                    "TotalGames": "23"
                                },
                                {
                                    "Name": "Mac Williamson",
                                    "TotalGames": "40"
                                },
                                {
                                    "Name": "Bobby Wilson",
                                    "TotalGames": "15"
                                },
                                {
                                    "Name": "Bryse Wilson",
                                    "TotalGames": "6"
                                },
                                {
                                    "Name": "Jesse Winker",
                                    "TotalGames": "113"
                                },
                                {
                                    "Name": "Patrick Wisdom",
                                    "TotalGames": "9"
                                },
                                {
                                    "Name": "Tony Wolters",
                                    "TotalGames": "121"
                                },
                                {
                                    "Name": "Kean Wong",
                                    "TotalGames": "6"
                                },
                                {
                                    "Name": "Kolten Wong",
                                    "TotalGames": "148"
                                },
                                {
                                    "Name": "Alex Wood",
                                    "TotalGames": "7"
                                },
                                {
                                    "Name": "Brandon Woodruff",
                                    "TotalGames": "25"
                                },
                                {
                                    "Name": "Austin Wynns",
                                    "TotalGames": "28"
                                },
                                {
                                    "Name": "Jordan Yamamoto",
                                    "TotalGames": "16"
                                },
                                {
                                    "Name": "Mike Yastrzemski",
                                    "TotalGames": "107"
                                },
                                {
                                    "Name": "Christian Yelich",
                                    "TotalGames": "130"
                                },
                                {
                                    "Name": "Alex Young",
                                    "TotalGames": "16"
                                },
                                {
                                    "Name": "Mark Zagunis",
                                    "TotalGames": "30"
                                },
                                {
                                    "Name": "Seby Zavala",
                                    "TotalGames": "5"
                                },
                                {
                                    "Name": "Ryan Zimmerman",
                                    "TotalGames": "52"
                                },
                                {
                                    "Name": "Ben Zobrist",
                                    "TotalGames": "47"
                                },
                                {
                                    "Name": "Mike Zunino",
                                    "TotalGames": "90"
                                }
                            ]
                        },
                        "text/html": [
                            "<table>",
                            "<tr><th>Name</th><th>TotalGames</th></tr>",
                            "<tr><td>José Abreu</td><td>159</td></tr>",
                            "<tr><td>Ronald Acuna Jr.</td><td>156</td></tr>",
                            "<tr><td>Cristhian Adames</td><td>10</td></tr>",
                            "<tr><td>Willy Adames</td><td>152</td></tr>",
                            "<tr><td>Matt Adams</td><td>111</td></tr>",
                            "<tr><td>Ehire Adrianza</td><td>83</td></tr>",
                            "<tr><td>Dario Agrazal</td><td>14</td></tr>",
                            "<tr><td>Jesus Aguilar</td><td>131</td></tr>",
                            "<tr><td>Nick Ahmed</td><td>158</td></tr>",
                            "<tr><td>R.J. Alaniz</td><td>8</td></tr>",
                            "<tr><td>Hanser Alberto</td><td>139</td></tr>",
                            "<tr><td>Ozzie Albies</td><td>160</td></tr>",
                            "<tr><td>Sandy Alcantara</td><td>31</td></tr>",
                            "<tr><td>Jorge Alfaro</td><td>130</td></tr>",
                            "<tr><td>Anthony Alford</td><td>16</td></tr>",
                            "<tr><td>Austin Allen</td><td>34</td></tr>",
                            "<tr><td>Greg Allen</td><td>89</td></tr>",
                            "<tr><td>Logan Allen</td><td>7</td></tr>",
                            "<tr><td>Abraham Almonte</td><td>17</td></tr>",
                            "<tr><td>Albert Almora</td><td>130</td></tr>",
                            "<tr><td>Pete Alonso</td><td>161</td></tr>",
                            "<tr><td>Yonder Alonso</td><td>121</td></tr>",
                            "<tr><td>Aaron Altherr</td><td>48</td></tr>",
                            "<tr><td>Jose Altuve</td><td>124</td></tr>",
                            "<tr><td>Yordan Álvarez</td><td>87</td></tr>",
                            "<tr><td>Brett Anderson</td><td>3</td></tr>",
                            "<tr><td>Brian Anderson</td><td>126</td></tr>",
                            "<tr><td>Chase Anderson</td><td>31</td></tr>",
                            "<tr><td>Shaun Anderson</td><td>25</td></tr>",
                            "<tr><td>Tim Anderson</td><td>123</td></tr>",
                            "<tr><td>Tyler Anderson</td><td>5</td></tr>",
                            "<tr><td>Elvis Andrus</td><td>147</td></tr>",
                            "<tr><td>Miguel Andujar</td><td>12</td></tr>",
                            "<tr><td>Aristides Aquino</td><td>56</td></tr>",
                            "<tr><td>Chris Archer</td><td>22</td></tr>",
                            "<tr><td>Orlando Arcia</td><td>152</td></tr>",
                            "<tr><td>Nolan Arenado</td><td>155</td></tr>",
                            "<tr><td>Randy Arozarena</td><td>19</td></tr>",
                            "<tr><td>Luis Arraez</td><td>92</td></tr>",
                            "<tr><td>Jake Arrieta</td><td>23</td></tr>",
                            "<tr><td>Christian Arroyo</td><td>16</td></tr>",
                            "<tr><td>Humberto Arteaga</td><td>41</td></tr>",
                            "<tr><td>Willians Astudillo</td><td>58</td></tr>",
                            "<tr><td>Tyler Austin</td><td>89</td></tr>",
                            "<tr><td>Abiatal Avelino</td><td>4</td></tr>",
                            "<tr><td>Alex Avila</td><td>63</td></tr>",
                            "<tr><td>Harrison Bader</td><td>128</td></tr>",
                            "<tr><td>Javier Baez</td><td>138</td></tr>",
                            "<tr><td>Homer Bailey</td><td>2</td></tr>",
                            "<tr><td>Austin Barnes</td><td>75</td></tr>",
                            "<tr><td>Tucker Barnhart</td><td>114</td></tr>",
                            "<tr><td>Steven Baron</td><td>7</td></tr>",
                            "<tr><td>Franklin Barreto</td><td>23</td></tr>",
                            "<tr><td>Trevor Bauer</td><td>11</td></tr>",
                            "<tr><td>Jake Bauers</td><td>117</td></tr>",
                            "<tr><td>Matt Beaty</td><td>99</td></tr>",
                            "<tr><td>Gordon Beckham</td><td>83</td></tr>",
                            "<tr><td>Tim Beckham</td><td>88</td></tr>",
                            "<tr><td>Tyler Beede</td><td>25</td></tr>",
                            "<tr><td>Josh Bell</td><td>143</td></tr>",
                            "<tr><td>Cody Bellinger</td><td>156</td></tr>",
                            "<tr><td>Brandon Belt</td><td>156</td></tr>",
                            "<tr><td>Anthony Bemboom</td><td>25</td></tr>",
                            "<tr><td>Andrew Benintendi</td><td>138</td></tr>",
                            "<tr><td>Jon Berti</td><td>73</td></tr>",
                            "<tr><td>Mookie Betts</td><td>150</td></tr>",
                            "<tr><td>Bo Bichette</td><td>46</td></tr>",
                            "<tr><td>Cavan Biggio</td><td>100</td></tr>",
                            "<tr><td>Greg Bird</td><td>10</td></tr>",
                            "<tr><td>Braden Bishop</td><td>27</td></tr>",
                            "<tr><td>Charlie Blackmon</td><td>140</td></tr>",
                            "<tr><td>Alex Blandino</td><td>23</td></tr>",
                            "<tr><td>Xander Bogaerts</td><td>155</td></tr>",
                            "<tr><td>Skye Bolt</td><td>5</td></tr>",
                            "<tr><td>Jorge Bonifacio</td><td>5</td></tr>",
                            "<tr><td>David Bote</td><td>127</td></tr>",
                            "<tr><td>Justin Bour</td><td>52</td></tr>",
                            "<tr><td>Peter Bourjos</td><td>26</td></tr>",
                            "<tr><td>Matthew Boyd</td><td>1</td></tr>",
                            "<tr><td>Brad Brach</td><td>39</td></tr>",
                            "<tr><td>Bobby Bradley</td><td>15</td></tr>",
                            "<tr><td>Jackie Bradley Jr.</td><td>147</td></tr>",
                            "<tr><td>Michael Brantley</td><td>148</td></tr>",
                            "<tr><td>Steven Brault</td><td>33</td></tr>",
                            "<tr><td>Ryan Braun</td><td>144</td></tr>",
                            "<tr><td>John Brebbia</td><td>63</td></tr>",
                            "<tr><td>Alex Bregman</td><td>156</td></tr>",
                            "<tr><td>Lewis Brinson</td><td>75</td></tr>",
                            "<tr><td>Socrates Brito</td><td>17</td></tr>",
                            "<tr><td>Mike Brosseau</td><td>50</td></tr>",
                            "<tr><td>Seth Brown</td><td>26</td></tr>",
                            "<tr><td>Keon Broxton</td><td>100</td></tr>",
                            "<tr><td>Jay Bruce</td><td>98</td></tr>",
                            "<tr><td>Kris Bryant</td><td>147</td></tr>",
                            "<tr><td>Walker Buehler</td><td>29</td></tr>",
                            "<tr><td>Madison Bumgarner</td><td>35</td></tr>",
                            "<tr><td>Corbin Burnes</td><td>30</td></tr>",
                            "<tr><td>Drew Butera</td><td>16</td></tr>",
                            "<tr><td>Byron Buxton</td><td>87</td></tr>",
                            "<tr><td>Asdrubal Cabrera</td><td>131</td></tr>",
                            "<tr><td>Melky Cabrera</td><td>133</td></tr>",
                            "<tr><td>Miguel Cabrera</td><td>136</td></tr>",
                            "<tr><td>Trevor Cahill</td><td>2</td></tr>",
                            "<tr><td>Lorenzo Cain</td><td>148</td></tr>",
                            "<tr><td>Kole Calhoun</td><td>152</td></tr>",
                            "<tr><td>Willie Calhoun</td><td>83</td></tr>",
                            "<tr><td>Johan Camargo</td><td>98</td></tr>",
                            "<tr><td>Jeimer Candelario</td><td>94</td></tr>",
                            "<tr><td>Mark Canha</td><td>126</td></tr>",
                            "<tr><td>Robinson Cano</td><td>107</td></tr>",
                            "<tr><td>Victor Caratini</td><td>95</td></tr>",
                            "<tr><td>Matt Carpenter</td><td>129</td></tr>",
                            "<tr><td>Curt Casali</td><td>84</td></tr>",
                            "<tr><td>Nicholas Castellanos</td><td>151</td></tr>",
                            "<tr><td>Luis Castillo</td><td>31</td></tr>",
                            "<tr><td>Welington Castillo</td><td>72</td></tr>",
                            "<tr><td>Wilkin Castillo</td><td>2</td></tr>",
                            "<tr><td>Harold Castro</td><td>97</td></tr>",
                            "<tr><td>Jason Castro</td><td>79</td></tr>",
                            "<tr><td>Starlin Castro</td><td>162</td></tr>",
                            "<tr><td>Willi Castro</td><td>30</td></tr>",
                            "<tr><td>Jake Cave</td><td>72</td></tr>",
                            "<tr><td>Juan Centeno</td><td>7</td></tr>",
                            "<tr><td>Francisco Cervelli</td><td>48</td></tr>",
                            "<tr><td>Jhoulys Chacin</td><td>18</td></tr>",
                            "<tr><td>Yu Chang</td><td>28</td></tr>",
                            "<tr><td>Matt Chapman</td><td>156</td></tr>",
                            "<tr><td>Tyler Chatwood</td><td>40</td></tr>",
                            "<tr><td>Jesse Chavez</td><td>4</td></tr>",
                            "<tr><td>Michael Chavis</td><td>95</td></tr>",
                            "<tr><td>Robinson Chirinos</td><td>114</td></tr>",
                            "<tr><td>Ji-Man Choi</td><td>127</td></tr>",
                            "<tr><td>Shin-Soo Choo</td><td>151</td></tr>",
                            "<tr><td>Nick Ciuffo</td><td>3</td></tr>",
                            "<tr><td>Taylor Clarke</td><td>21</td></tr>",
                            "<tr><td>Zack Collins</td><td>27</td></tr>",
                            "<tr><td>Christian Colon</td><td>8</td></tr>",
                            "<tr><td>Michael Conforto</td><td>151</td></tr>",
                            "<tr><td>Willson Contreras</td><td>105</td></tr>",
                            "<tr><td>Garrett Cooper</td><td>107</td></tr>",
                            "<tr><td>Patrick Corbin</td><td>31</td></tr>",
                            "<tr><td>Ryan Cordell</td><td>97</td></tr>",
                            "<tr><td>Franchy Cordero</td><td>9</td></tr>",
                            "<tr><td>Carlos Correa</td><td>75</td></tr>",
                            "<tr><td>Ryan Court</td><td>12</td></tr>",
                            "<tr><td>Kaleb Cowart</td><td>9</td></tr>",
                            "<tr><td>Zack Cozart</td><td>38</td></tr>",
                            "<tr><td>Brandon Crawford</td><td>147</td></tr>",
                            "<tr><td>J.P. Crawford</td><td>93</td></tr>",
                            "<tr><td>C.J. Cron</td><td>125</td></tr>",
                            "<tr><td>Kevin Cron</td><td>39</td></tr>",
                            "<tr><td>Nelson Cruz</td><td>120</td></tr>",
                            "<tr><td>Charlie Culberson</td><td>108</td></tr>",
                            "<tr><td>Cheslor Cuthbert</td><td>87</td></tr>",
                            "<tr><td>Travis d&#39;Arnaud</td><td>102</td></tr>",
                            "<tr><td>David Dahl</td><td>100</td></tr>",
                            "<tr><td>Yu Darvish</td><td>30</td></tr>",
                            "<tr><td>Zach Davies</td><td>34</td></tr>",
                            "<tr><td>Chris Davis</td><td>105</td></tr>",
                            "<tr><td>J.D. Davis</td><td>140</td></tr>",
                            "<tr><td>Jaylin Davis</td><td>17</td></tr>",
                            "<tr><td>Johnny Davis</td><td>8</td></tr>",
                            "<tr><td>Jonathan Davis</td><td>37</td></tr>",
                            "<tr><td>Khris Davis</td><td>133</td></tr>",
                            "<tr><td>Rajai Davis</td><td>29</td></tr>",
                            "<tr><td>Taylor Davis</td><td>7</td></tr>",
                            "<tr><td>Yonathan Daza</td><td>44</td></tr>",
                            "<tr><td>Austin Dean</td><td>64</td></tr>",
                            "<tr><td>Jacob deGrom</td><td>31</td></tr>",
                            "<tr><td>Paul DeJong</td><td>159</td></tr>",
                            "<tr><td>Nicky Delmonico</td><td>21</td></tr>",
                            "<tr><td>Travis Demeritte</td><td>48</td></tr>",
                            "<tr><td>Daniel Descalso</td><td>82</td></tr>",
                            "<tr><td>Anthony DeSclafani</td><td>30</td></tr>",
                            "<tr><td>Delino DeShields</td><td>118</td></tr>",
                            "<tr><td>Ian Desmond</td><td>140</td></tr>",
                            "<tr><td>Rafael Devers</td><td>156</td></tr>",
                            "<tr><td>Aledmys Díaz</td><td>69</td></tr>",
                            "<tr><td>Elias Diaz</td><td>101</td></tr>",
                            "<tr><td>Isan Diaz</td><td>49</td></tr>",
                            "<tr><td>Yandy Díaz</td><td>79</td></tr>",
                            "<tr><td>Alex Dickerson</td><td>68</td></tr>",
                            "<tr><td>Corey Dickerson</td><td>78</td></tr>",
                            "<tr><td>Derek Dietrich</td><td>113</td></tr>",
                            "<tr><td>Wilmer Difo</td><td>43</td></tr>",
                            "<tr><td>Nick Dini</td><td>20</td></tr>",
                            "<tr><td>Brandon Dixon</td><td>117</td></tr>",
                            "<tr><td>Josh Donaldson</td><td>155</td></tr>",
                            "<tr><td>Brian Dozier</td><td>135</td></tr>",
                            "<tr><td>Hunter Dozier</td><td>139</td></tr>",
                            "<tr><td>Oliver Drake</td><td>3</td></tr>",
                            "<tr><td>Brandon Drury</td><td>120</td></tr>",
                            "<tr><td>Mauricio Dubon</td><td>28</td></tr>",
                            "<tr><td>Lucas Duda</td><td>39</td></tr>",
                            "<tr><td>Danny Duffy</td><td>2</td></tr>",
                            "<tr><td>Matt Duffy</td><td>46</td></tr>",
                            "<tr><td>Steven Duggar</td><td>73</td></tr>",
                            "<tr><td>Jon Duplantier</td><td>15</td></tr>",
                            "<tr><td>Montana DuRapau</td><td>14</td></tr>",
                            "<tr><td>Adam Duvall</td><td>41</td></tr>",
                            "<tr><td>Jarrod Dyson</td><td>130</td></tr>",
                            "<tr><td>Adam Eaton</td><td>151</td></tr>",
                            "<tr><td>Tommy Edman</td><td>92</td></tr>",
                            "<tr><td>Zach Eflin</td><td>31</td></tr>",
                            "<tr><td>Jake Elmore</td><td>20</td></tr>",
                            "<tr><td>Edwin Encarnacion</td><td>109</td></tr>",
                            "<tr><td>Adam Engel</td><td>89</td></tr>",
                            "<tr><td>Phil Ervin</td><td>94</td></tr>",
                            "<tr><td>Eduardo Escobar</td><td>158</td></tr>",
                            "<tr><td>Thairo Estrada</td><td>35</td></tr>",
                            "<tr><td>Kyle Farmer</td><td>97</td></tr>",
                            "<tr><td>Erick Fedde</td><td>20</td></tr>",
                            "<tr><td>Tim Federowicz</td><td>29</td></tr>",
                            "<tr><td>Caleb Ferguson</td><td>42</td></tr>",
                            "<tr><td>Derek Fisher</td><td>57</td></tr>",
                            "<tr><td>Jack Flaherty</td><td>35</td></tr>",
                            "<tr><td>Ryan Flaherty</td><td>14</td></tr>",
                            "<tr><td>David Fletcher</td><td>154</td></tr>",
                            "<tr><td>Chris Flexen</td><td>9</td></tr>",
                            "<tr><td>Wilmer Flores</td><td>89</td></tr>",
                            "<tr><td>Tyler Flowers</td><td>85</td></tr>",
                            "<tr><td>Mike Foltynewicz</td><td>19</td></tr>",
                            "<tr><td>Wilmer Font</td><td>14</td></tr>",
                            "<tr><td>Mike Ford</td><td>50</td></tr>",
                            "<tr><td>Logan Forsythe</td><td>101</td></tr>",
                            "<tr><td>Dexter Fowler</td><td>150</td></tr>",
                            "<tr><td>Jake Fraley</td><td>12</td></tr>",
                            "<tr><td>Ty France</td><td>69</td></tr>",
                            "<tr><td>Maikel Franco</td><td>123</td></tr>",
                            "<tr><td>Adam Frazier</td><td>152</td></tr>",
                            "<tr><td>Clint Frazier</td><td>69</td></tr>",
                            "<tr><td>Todd Frazier</td><td>133</td></tr>",
                            "<tr><td>Kyle Freeland</td><td>19</td></tr>",
                            "<tr><td>Freddie Freeman</td><td>158</td></tr>",
                            "<tr><td>Mike Freeman</td><td>75</td></tr>",
                            "<tr><td>David Freese</td><td>79</td></tr>",
                            "<tr><td>David Freitas</td><td>16</td></tr>",
                            "<tr><td>Max Fried</td><td>38</td></tr>",
                            "<tr><td>Josh Fuentes</td><td>24</td></tr>",
                            "<tr><td>Drew Gagnon</td><td>17</td></tr>",
                            "<tr><td>Rocky Gale</td><td>5</td></tr>",
                            "<tr><td>Cam Gallagher</td><td>45</td></tr>",
                            "<tr><td>Zac Gallen</td><td>14</td></tr>",
                            "<tr><td>Joey Gallo</td><td>70</td></tr>",
                            "<tr><td>Isaac Galloway</td><td>19</td></tr>",
                            "<tr><td>Freddy Galvis</td><td>147</td></tr>",
                            "<tr><td>Ben Gamel</td><td>134</td></tr>",
                            "<tr><td>Aramis Garcia</td><td>18</td></tr>",
                            "<tr><td>Avisail Garcia</td><td>125</td></tr>",
                            "<tr><td>Greg Garcia</td><td>134</td></tr>",
                            "<tr><td>Leury Garcia</td><td>140</td></tr>",
                            "<tr><td>Robel Garcia</td><td>31</td></tr>",
                            "<tr><td>Brett Gardner</td><td>141</td></tr>",
                            "<tr><td>Kyle Garlick</td><td>30</td></tr>",
                            "<tr><td>Dustin Garneau</td><td>35</td></tr>",
                            "<tr><td>Mitch Garver</td><td>93</td></tr>",
                            "<tr><td>Kevin Gausman</td><td>16</td></tr>",
                            "<tr><td>Scooter Gennett</td><td>42</td></tr>",
                            "<tr><td>Mike Gerber</td><td>12</td></tr>",
                            "<tr><td>Lucas Giolito</td><td>2</td></tr>",
                            "<tr><td>Zack Godley</td><td>23</td></tr>",
                            "<tr><td>Ryan Goins</td><td>52</td></tr>",
                            "<tr><td>Paul Goldschmidt</td><td>161</td></tr>",
                            "<tr><td>Yan Gomes</td><td>97</td></tr>",
                            "<tr><td>Carlos Gomez</td><td>34</td></tr>",
                            "<tr><td>Tony Gonsolin</td><td>10</td></tr>",
                            "<tr><td>Marco Gonzales</td><td>2</td></tr>",
                            "<tr><td>Carlos Gonzalez</td><td>45</td></tr>",
                            "<tr><td>Chi Chi Gonzalez</td><td>13</td></tr>",
                            "<tr><td>Erik Gonzalez</td><td>53</td></tr>",
                            "<tr><td>Gio Gonzalez</td><td>18</td></tr>",
                            "<tr><td>Marwin Gonzalez</td><td>114</td></tr>",
                            "<tr><td>Niko Goodrum</td><td>112</td></tr>",
                            "<tr><td>Brian Goodwin</td><td>136</td></tr>",
                            "<tr><td>Alex Gordon</td><td>150</td></tr>",
                            "<tr><td>Dee Gordon</td><td>117</td></tr>",
                            "<tr><td>Terrance Gore</td><td>37</td></tr>",
                            "<tr><td>Phil Gosselin</td><td>44</td></tr>",
                            "<tr><td>Yasmani Grandal</td><td>153</td></tr>",
                            "<tr><td>Curtis Granderson</td><td>138</td></tr>",
                            "<tr><td>Juan Graterol</td><td>6</td></tr>",
                            "<tr><td>Jon Gray</td><td>27</td></tr>",
                            "<tr><td>Sonny Gray</td><td>32</td></tr>",
                            "<tr><td>Zach Green</td><td>8</td></tr>",
                            "<tr><td>Didi Gregorius</td><td>82</td></tr>",
                            "<tr><td>Grayson Greiner</td><td>58</td></tr>",
                            "<tr><td>Zack Greinke</td><td>25</td></tr>",
                            "<tr><td>Randal Grichuk</td><td>151</td></tr>",
                            "<tr><td>Trent Grisham</td><td>51</td></tr>",
                            "<tr><td>Robbie Grossman</td><td>138</td></tr>",
                            "<tr><td>Deivy Grullon</td><td>4</td></tr>",
                            "<tr><td>Junior Guerra</td><td>65</td></tr>",
                            "<tr><td>Vladimir Guerrero Jr.</td><td>123</td></tr>",
                            "<tr><td>Luis Guillorme</td><td>45</td></tr>",
                            "<tr><td>Lourdes Gurriel Jr.</td><td>84</td></tr>",
                            "<tr><td>Yuli Gurriel</td><td>144</td></tr>",
                            "<tr><td>Kelvin Gutierrez</td><td>20</td></tr>",
                            "<tr><td>Ronald Guzman</td><td>87</td></tr>",
                            "<tr><td>Jedd Gyorko</td><td>62</td></tr>",
                            "<tr><td>Eric Haase</td><td>10</td></tr>",
                            "<tr><td>Cole Hamels</td><td>24</td></tr>",
                            "<tr><td>Billy Hamilton</td><td>119</td></tr>",
                            "<tr><td>Garrett Hampson</td><td>105</td></tr>",
                            "<tr><td>Mitch Haniger</td><td>63</td></tr>",
                            "<tr><td>Alen Hanson</td><td>18</td></tr>",
                            "<tr><td>Ian Happ</td><td>58</td></tr>",
                            "<tr><td>Bryce Harper</td><td>157</td></tr>",
                            "<tr><td>Josh Harrison</td><td>36</td></tr>",
                            "<tr><td>Adam Haseley</td><td>67</td></tr>",
                            "<tr><td>Austin Hays</td><td>21</td></tr>",
                            "<tr><td>Ryon Healy</td><td>47</td></tr>",
                            "<tr><td>Adeiny Hechavarria</td><td>84</td></tr>",
                            "<tr><td>Austin Hedges</td><td>102</td></tr>",
                            "<tr><td>Scott Heineman</td><td>25</td></tr>",
                            "<tr><td>Tyler Heineman</td><td>5</td></tr>",
                            "<tr><td>Jeremy Hellickson</td><td>9</td></tr>",
                            "<tr><td>Ryan Helsley</td><td>24</td></tr>",
                            "<tr><td>Kyle Hendricks</td><td>29</td></tr>",
                            "<tr><td>Guillermo Heredia</td><td>89</td></tr>",
                            "<tr><td>Michael Hermosillo</td><td>18</td></tr>",
                            "<tr><td>Cesar Hernandez</td><td>161</td></tr>",
                            "<tr><td>Elieser Hernandez</td><td>20</td></tr>",
                            "<tr><td>Enrique Hernandez</td><td>130</td></tr>",
                            "<tr><td>Gorkys Hernandez</td><td>20</td></tr>",
                            "<tr><td>Marco Hernandez</td><td>61</td></tr>",
                            "<tr><td>Teoscar Hernandez</td><td>125</td></tr>",
                            "<tr><td>Odubel Herrera</td><td>39</td></tr>",
                            "<tr><td>Rosell Herrera</td><td>63</td></tr>",
                            "<tr><td>Chris Herrmann</td><td>30</td></tr>",
                            "<tr><td>Jason Heyward</td><td>147</td></tr>",
                            "<tr><td>Aaron Hicks</td><td>59</td></tr>",
                            "<tr><td>John Hicks</td><td>95</td></tr>",
                            "<tr><td>Kyle Higashioka</td><td>18</td></tr>",
                            "<tr><td>Rich Hill</td><td>11</td></tr>",
                            "<tr><td>Sam Hilliard</td><td>27</td></tr>",
                            "<tr><td>Keston Hiura</td><td>84</td></tr>",
                            "<tr><td>Nico Hoerner</td><td>20</td></tr>",
                            "<tr><td>Jeff Hoffman</td><td>18</td></tr>",
                            "<tr><td>Bryan Holaday</td><td>43</td></tr>",
                            "<tr><td>Derek Holland</td><td>32</td></tr>",
                            "<tr><td>Brock Holt</td><td>87</td></tr>",
                            "<tr><td>Rhys Hoskins</td><td>160</td></tr>",
                            "<tr><td>Eric Hosmer</td><td>160</td></tr>",
                            "<tr><td>Adrian Houser</td><td>32</td></tr>",
                            "<tr><td>Dakota Hudson</td><td>30</td></tr>",
                            "<tr><td>Nick Hundley</td><td>31</td></tr>",
                            "<tr><td>Chris Iannetta</td><td>52</td></tr>",
                            "<tr><td>José Iglesias</td><td>146</td></tr>",
                            "<tr><td>Ender Inciarte</td><td>65</td></tr>",
                            "<tr><td>Cole Irvin</td><td>14</td></tr>",
                            "<tr><td>Travis Jankowski</td><td>25</td></tr>",
                            "<tr><td>Danny Jansen</td><td>107</td></tr>",
                            "<tr><td>Jon Jay</td><td>47</td></tr>",
                            "<tr><td>Eloy Jimenez</td><td>122</td></tr>",
                            "<tr><td>Connor Joe</td><td>8</td></tr>",
                            "<tr><td>Adam Jones</td><td>137</td></tr>",
                            "<tr><td>JaCoby Jones</td><td>88</td></tr>",
                            "<tr><td>Caleb Joseph</td><td>20</td></tr>",
                            "<tr><td>Corban Joseph</td><td>28</td></tr>",
                            "<tr><td>Matthew Joyce</td><td>129</td></tr>",
                            "<tr><td>Aaron Judge</td><td>102</td></tr>",
                            "<tr><td>Jung Ho Kang</td><td>65</td></tr>",
                            "<tr><td>Brad Keller</td><td>3</td></tr>",
                            "<tr><td>Carson Kelly</td><td>111</td></tr>",
                            "<tr><td>Merrill Kelly</td><td>30</td></tr>",
                            "<tr><td>Matt Kemp</td><td>20</td></tr>",
                            "<tr><td>Tony Kemp</td><td>110</td></tr>",
                            "<tr><td>Howie Kendrick</td><td>121</td></tr>",
                            "<tr><td>Max Kepler</td><td>134</td></tr>",
                            "<tr><td>Clayton Kershaw</td><td>28</td></tr>",
                            "<tr><td>Dallas Keuchel</td><td>19</td></tr>",
                            "<tr><td>Carter Kieboom</td><td>11</td></tr>",
                            "<tr><td>Kevin Kiermaier</td><td>129</td></tr>",
                            "<tr><td>Isiah Kiner-Falefa</td><td>65</td></tr>",
                            "<tr><td>Scott Kingery</td><td>126</td></tr>",
                            "<tr><td>Ian Kinsler</td><td>87</td></tr>",
                            "<tr><td>Jason Kipnis</td><td>121</td></tr>",
                            "<tr><td>Andrew Knapp</td><td>74</td></tr>",
                            "<tr><td>Andrew Knizner</td><td>18</td></tr>",
                            "<tr><td>Kevin Kramer</td><td>22</td></tr>",
                            "<tr><td>Erik Kratz</td><td>21</td></tr>",
                            "<tr><td>Tommy La Stella</td><td>80</td></tr>",
                            "<tr><td>Juan Lagares</td><td>133</td></tr>",
                            "<tr><td>Ryan LaMarre</td><td>14</td></tr>",
                            "<tr><td>Jake Lamb</td><td>78</td></tr>",
                            "<tr><td>Peter Lambert</td><td>21</td></tr>",
                            "<tr><td>Dinelson Lamet</td><td>13</td></tr>",
                            "<tr><td>Eric Lauer</td><td>29</td></tr>",
                            "<tr><td>Ramon Laureano</td><td>123</td></tr>",
                            "<tr><td>Ryan Lavarnway</td><td>5</td></tr>",
                            "<tr><td>Mike Leake</td><td>10</td></tr>",
                            "<tr><td>DJ LeMahieu</td><td>145</td></tr>",
                            "<tr><td>Sandy Leon</td><td>65</td></tr>",
                            "<tr><td>Jon Lester</td><td>28</td></tr>",
                            "<tr><td>Kyle Lewis</td><td>18</td></tr>",
                            "<tr><td>Domingo Leyba</td><td>21</td></tr>",
                            "<tr><td>Tzu-Wei Lin</td><td>13</td></tr>",
                            "<tr><td>Francisco Lindor</td><td>143</td></tr>",
                            "<tr><td>Francisco Liriano</td><td>67</td></tr>",
                            "<tr><td>Tim Locastro</td><td>91</td></tr>",
                            "<tr><td>Walker Lockett</td><td>9</td></tr>",
                            "<tr><td>Shed Long</td><td>42</td></tr>",
                            "<tr><td>Evan Longoria</td><td>129</td></tr>",
                            "<tr><td>Tim Lopes</td><td>41</td></tr>",
                            "<tr><td>Nicky Lopez</td><td>103</td></tr>",
                            "<tr><td>Pablo Lopez</td><td>21</td></tr>",
                            "<tr><td>Michael Lorenzen</td><td>100</td></tr>",
                            "<tr><td>Brandon Lowe</td><td>82</td></tr>",
                            "<tr><td>Nate Lowe</td><td>50</td></tr>",
                            "<tr><td>Joey Lucchesi</td><td>28</td></tr>",
                            "<tr><td>Jonathan Lucroy</td><td>101</td></tr>",
                            "<tr><td>Dawel Lugo</td><td>77</td></tr>",
                            "<tr><td>Seth Lugo</td><td>57</td></tr>",
                            "<tr><td>Jordan Luplow</td><td>85</td></tr>",
                            "<tr><td>Gavin Lux</td><td>23</td></tr>",
                            "<tr><td>Jordan Lyles</td><td>26</td></tr>",
                            "<tr><td>Manny Machado</td><td>156</td></tr>",
                            "<tr><td>Kenta Maeda</td><td>38</td></tr>",
                            "<tr><td>Tyler Mahle</td><td>24</td></tr>",
                            "<tr><td>Luke Maile</td><td>44</td></tr>",
                            "<tr><td>Martin Maldonado</td><td>101</td></tr>",
                            "<tr><td>Trey Mancini</td><td>154</td></tr>",
                            "<tr><td>Nick Margevicius</td><td>17</td></tr>",
                            "<tr><td>Manuel Margot</td><td>151</td></tr>",
                            "<tr><td>Jake Marisnick</td><td>120</td></tr>",
                            "<tr><td>Nick Markakis</td><td>116</td></tr>",
                            "<tr><td>German Marquez</td><td>25</td></tr>",
                            "<tr><td>Ketel Marte</td><td>144</td></tr>",
                            "<tr><td>Starling Marte</td><td>132</td></tr>",
                            "<tr><td>Jason Martin</td><td>20</td></tr>",
                            "<tr><td>Leonys Martín</td><td>65</td></tr>",
                            "<tr><td>Richie Martin</td><td>120</td></tr>",
                            "<tr><td>Russell Martin</td><td>83</td></tr>",
                            "<tr><td>J.D. Martinez</td><td>146</td></tr>",
                            "<tr><td>Jose Martinez</td><td>128</td></tr>",
                            "<tr><td>Nick Martini</td><td>32</td></tr>",
                            "<tr><td>Jeff Mathis</td><td>86</td></tr>",
                            "<tr><td>Phil Maton</td><td>18</td></tr>",
                            "<tr><td>Steven Matz</td><td>35</td></tr>",
                            "<tr><td>Dustin May</td><td>13</td></tr>",
                            "<tr><td>Cameron Maybin</td><td>82</td></tr>",
                            "<tr><td>Jack Mayfield</td><td>26</td></tr>",
                            "<tr><td>Nomar Mazara</td><td>116</td></tr>",
                            "<tr><td>Ryan McBroom</td><td>23</td></tr>",
                            "<tr><td>Brian McCann</td><td>85</td></tr>",
                            "<tr><td>James McCann</td><td>118</td></tr>",
                            "<tr><td>Andrew McCutchen</td><td>59</td></tr>",
                            "<tr><td>Kyle McGowin</td><td>7</td></tr>",
                            "<tr><td>Reese McGuire</td><td>30</td></tr>",
                            "<tr><td>Brendan McKay</td><td>7</td></tr>",
                            "<tr><td>Billy McKinney</td><td>84</td></tr>",
                            "<tr><td>Ryan McMahon</td><td>141</td></tr>",
                            "<tr><td>Jeff McNeil</td><td>133</td></tr>",
                            "<tr><td>Alex McRae</td><td>11</td></tr>",
                            "<tr><td>Austin Meadows</td><td>138</td></tr>",
                            "<tr><td>John Means</td><td>2</td></tr>",
                            "<tr><td>Erick Mejia</td><td>9</td></tr>",
                            "<tr><td>Francisco Mejia</td><td>79</td></tr>",
                            "<tr><td>Seth Mejias-Brean</td><td>14</td></tr>",
                            "<tr><td>Tim Melville</td><td>7</td></tr>",
                            "<tr><td>Danny Mendick</td><td>16</td></tr>",
                            "<tr><td>Oscar Mercado</td><td>115</td></tr>",
                            "<tr><td>Jordy Mercer</td><td>74</td></tr>",
                            "<tr><td>Whit Merrifield</td><td>162</td></tr>",
                            "<tr><td>Miles Mikolas</td><td>31</td></tr>",
                            "<tr><td>Brad Miller</td><td>79</td></tr>",
                            "<tr><td>Ian Miller</td><td>12</td></tr>",
                            "<tr><td>Alec Mills</td><td>9</td></tr>",
                            "<tr><td>Yadier Molina</td><td>113</td></tr>",
                            "<tr><td>Yoan Moncada</td><td>132</td></tr>",
                            "<tr><td>Adalberto Mondesi</td><td>102</td></tr>",
                            "<tr><td>Mike Montgomery</td><td>18</td></tr>",
                            "<tr><td>Dylan Moore</td><td>113</td></tr>",
                            "<tr><td>Kendrys Morales</td><td>53</td></tr>",
                            "<tr><td>Colin Moran</td><td>149</td></tr>",
                            "<tr><td>Mitch Moreland</td><td>91</td></tr>",
                            "<tr><td>Max Moroff</td><td>20</td></tr>",
                            "<tr><td>Logan Morrison</td><td>29</td></tr>",
                            "<tr><td>Mike Moustakas</td><td>143</td></tr>",
                            "<tr><td>Cedric Mullins</td><td>22</td></tr>",
                            "<tr><td>Max Muncy</td><td>141</td></tr>",
                            "<tr><td>Yairo Munoz</td><td>88</td></tr>",
                            "<tr><td>Daniel Murphy</td><td>132</td></tr>",
                            "<tr><td>John Ryan Murphy</td><td>25</td></tr>",
                            "<tr><td>Sean Murphy</td><td>20</td></tr>",
                            "<tr><td>Tom Murphy</td><td>75</td></tr>",
                            "<tr><td>Joe Musgrove</td><td>44</td></tr>",
                            "<tr><td>Wil Myers</td><td>155</td></tr>",
                            "<tr><td>Tyler Naquin</td><td>89</td></tr>",
                            "<tr><td>Omar Narvaez</td><td>132</td></tr>",
                            "<tr><td>Josh Naylor</td><td>94</td></tr>",
                            "<tr><td>Kristopher Negron</td><td>40</td></tr>",
                            "<tr><td>Sheldon Neuse</td><td>25</td></tr>",
                            "<tr><td>Kevin Newman</td><td>130</td></tr>",
                            "<tr><td>Tomas Nido</td><td>50</td></tr>",
                            "<tr><td>Brandon Nimmo</td><td>69</td></tr>",
                            "<tr><td>Hector Noesi</td><td>12</td></tr>",
                            "<tr><td>Aaron Nola</td><td>32</td></tr>",
                            "<tr><td>Austin Nola</td><td>79</td></tr>",
                            "<tr><td>Jake Noll</td><td>8</td></tr>",
                            "<tr><td>Daniel Norris</td><td>4</td></tr>",
                            "<tr><td>Jacob Nottingham</td><td>9</td></tr>",
                            "<tr><td>Dom Nunez</td><td>16</td></tr>",
                            "<tr><td>Eduardo Nunez</td><td>60</td></tr>",
                            "<tr><td>Renato Nunez</td><td>151</td></tr>",
                            "<tr><td>Peter O&#39;Brien</td><td>14</td></tr>",
                            "<tr><td>Brian O&#39;Grady</td><td>28</td></tr>",
                            "<tr><td>Ryan O&#39;Hearn</td><td>105</td></tr>",
                            "<tr><td>Tyler O&#39;Neill</td><td>60</td></tr>",
                            "<tr><td>Rougned Odor</td><td>145</td></tr>",
                            "<tr><td>Shohei Ohtani</td><td>106</td></tr>",
                            "<tr><td>Matt Olson</td><td>127</td></tr>",
                            "<tr><td>Rafael Ortega</td><td>34</td></tr>",
                            "<tr><td>Jose Osuna</td><td>95</td></tr>",
                            "<tr><td>Chris Owings</td><td>66</td></tr>",
                            "<tr><td>Marcell Ozuna</td><td>130</td></tr>",
                            "<tr><td>Chris Paddack</td><td>25</td></tr>",
                            "<tr><td>Daniel Palka</td><td>30</td></tr>",
                            "<tr><td>Joe Panik</td><td>142</td></tr>",
                            "<tr><td>Gerardo Parra</td><td>119</td></tr>",
                            "<tr><td>Steve Pearce</td><td>29</td></tr>",
                            "<tr><td>Joc Pederson</td><td>149</td></tr>",
                            "<tr><td>Dustin Pedroia</td><td>6</td></tr>",
                            "<tr><td>Hunter Pence</td><td>83</td></tr>",
                            "<tr><td>David Peralta</td><td>99</td></tr>",
                            "<tr><td>Freddy Peralta</td><td>37</td></tr>",
                            "<tr><td>Jose Peraza</td><td>141</td></tr>",
                            "<tr><td>Luis Perdomo</td><td>44</td></tr>",
                            "<tr><td>Hernan Perez</td><td>91</td></tr>",
                            "<tr><td>Michael Perez</td><td>22</td></tr>",
                            "<tr><td>Roberto Perez</td><td>119</td></tr>",
                            "<tr><td>Dustin Peterson</td><td>17</td></tr>",
                            "<tr><td>Jace Peterson</td><td>29</td></tr>",
                            "<tr><td>Tommy Pham</td><td>145</td></tr>",
                            "<tr><td>Josh Phegley</td><td>106</td></tr>",
                            "<tr><td>Brett Phillips</td><td>30</td></tr>",
                            "<tr><td>Kevin Pillar</td><td>161</td></tr>",
                            "<tr><td>Manny Pina</td><td>76</td></tr>",
                            "<tr><td>Chad Pinder</td><td>124</td></tr>",
                            "<tr><td>Jose Pirela</td><td>12</td></tr>",
                            "<tr><td>Stephen Piscotty</td><td>93</td></tr>",
                            "<tr><td>Nick Pivetta</td><td>29</td></tr>",
                            "<tr><td>Kevin Plawecki</td><td>59</td></tr>",
                            "<tr><td>Gregory Polanco</td><td>42</td></tr>",
                            "<tr><td>Jorge Polanco</td><td>153</td></tr>",
                            "<tr><td>A.J. Pollock</td><td>86</td></tr>",
                            "<tr><td>Buster Posey</td><td>114</td></tr>",
                            "<tr><td>Martin Prado</td><td>104</td></tr>",
                            "<tr><td>David Price</td><td>1</td></tr>",
                            "<tr><td>Jurickson Profar</td><td>139</td></tr>",
                            "<tr><td>Cesar Puello</td><td>44</td></tr>",
                            "<tr><td>Yasiel Puig</td><td>149</td></tr>",
                            "<tr><td>Albert Pujols</td><td>131</td></tr>",
                            "<tr><td>Cal Quantrill</td><td>21</td></tr>",
                            "<tr><td>Roman Quinn</td><td>44</td></tr>",
                            "<tr><td>Jose Quintana</td><td>31</td></tr>",
                            "<tr><td>Hanley Ramirez</td><td>16</td></tr>",
                            "<tr><td>Harold Ramirez</td><td>119</td></tr>",
                            "<tr><td>Jose Ramirez</td><td>129</td></tr>",
                            "<tr><td>Wilson Ramos</td><td>141</td></tr>",
                            "<tr><td>Rangel Ravelo</td><td>29</td></tr>",
                            "<tr><td>Robbie Ray</td><td>31</td></tr>",
                            "<tr><td>Raudy Read</td><td>6</td></tr>",
                            "<tr><td>J.T. Realmuto</td><td>145</td></tr>",
                            "<tr><td>Josh Reddick</td><td>141</td></tr>",
                            "<tr><td>AJ Reed</td><td>14</td></tr>",
                            "<tr><td>Anthony Rendon</td><td>146</td></tr>",
                            "<tr><td>Hunter Renfroe</td><td>140</td></tr>",
                            "<tr><td>Luis Rengifo</td><td>108</td></tr>",
                            "<tr><td>Franmil Reyes</td><td>150</td></tr>",
                            "<tr><td>Pablo Reyes</td><td>71</td></tr>",
                            "<tr><td>Victor Reyes</td><td>69</td></tr>",
                            "<tr><td>Bryan Reynolds</td><td>134</td></tr>",
                            "<tr><td>Mark Reynolds</td><td>78</td></tr>",
                            "<tr><td>Trevor Richards</td><td>22</td></tr>",
                            "<tr><td>Joey Rickard</td><td>68</td></tr>",
                            "<tr><td>JT Riddle</td><td>51</td></tr>",
                            "<tr><td>Austin Riley</td><td>80</td></tr>",
                            "<tr><td>Edwin Rios</td><td>28</td></tr>",
                            "<tr><td>Rene Rivera</td><td>9</td></tr>",
                            "<tr><td>Yadiel Rivera</td><td>34</td></tr>",
                            "<tr><td>Anthony Rizzo</td><td>146</td></tr>",
                            "<tr><td>Tanner Roark</td><td>19</td></tr>",
                            "<tr><td>Daniel Robertson</td><td>74</td></tr>",
                            "<tr><td>Drew Robinson</td><td>5</td></tr>",
                            "<tr><td>Victor Robles</td><td>155</td></tr>",
                            "<tr><td>Brendan Rodgers</td><td>25</td></tr>",
                            "<tr><td>Dereck Rodriguez</td><td>27</td></tr>",
                            "<tr><td>Ronny Rodriguez</td><td>84</td></tr>",
                            "<tr><td>Sean Rodriguez</td><td>76</td></tr>",
                            "<tr><td>Jake Rogers</td><td>35</td></tr>",
                            "<tr><td>Josh Rojas</td><td>41</td></tr>",
                            "<tr><td>Miguel Rojas</td><td>132</td></tr>",
                            "<tr><td>Austin Romine</td><td>72</td></tr>",
                            "<tr><td>Jose Rondon</td><td>55</td></tr>",
                            "<tr><td>Amed Rosario</td><td>157</td></tr>",
                            "<tr><td>Eddie Rosario</td><td>137</td></tr>",
                            "<tr><td>Joe Ross</td><td>28</td></tr>",
                            "<tr><td>Rio Ruiz</td><td>127</td></tr>",
                            "<tr><td>Addison Russell</td><td>82</td></tr>",
                            "<tr><td>Hyun-Jin Ryu</td><td>28</td></tr>",
                            "<tr><td>Tyler Saladino</td><td>28</td></tr>",
                            "<tr><td>Jeff Samardzija</td><td>29</td></tr>",
                            "<tr><td>Adrian Sanchez</td><td>28</td></tr>",
                            "<tr><td>Anibal Sanchez</td><td>27</td></tr>",
                            "<tr><td>Gary Sanchez</td><td>106</td></tr>",
                            "<tr><td>Yolmer Sanchez</td><td>149</td></tr>",
                            "<tr><td>Pablo Sandoval</td><td>108</td></tr>",
                            "<tr><td>Miguel Sano</td><td>105</td></tr>",
                            "<tr><td>Carlos Santana</td><td>158</td></tr>",
                            "<tr><td>Danny Santana</td><td>130</td></tr>",
                            "<tr><td>Dennis Santana</td><td>3</td></tr>",
                            "<tr><td>Domingo Santana</td><td>121</td></tr>",
                            "<tr><td>Anthony Santander</td><td>93</td></tr>",
                            "<tr><td>Scott Schebler</td><td>30</td></tr>",
                            "<tr><td>Max Scherzer</td><td>28</td></tr>",
                            "<tr><td>Jonathan Schoop</td><td>121</td></tr>",
                            "<tr><td>Kyle Schwarber</td><td>155</td></tr>",
                            "<tr><td>Frank Schwindel</td><td>6</td></tr>",
                            "<tr><td>Corey Seager</td><td>134</td></tr>",
                            "<tr><td>Kyle Seager</td><td>106</td></tr>",
                            "<tr><td>Jean Segura</td><td>144</td></tr>",
                            "<tr><td>Marcus Semien</td><td>162</td></tr>",
                            "<tr><td>Antonio Senzatela</td><td>24</td></tr>",
                            "<tr><td>Nick Senzel</td><td>104</td></tr>",
                            "<tr><td>Pedro Severino</td><td>96</td></tr>",
                            "<tr><td>Chris Shaw</td><td>16</td></tr>",
                            "<tr><td>Travis Shaw</td><td>86</td></tr>",
                            "<tr><td>JB Shuck</td><td>27</td></tr>",
                            "<tr><td>Magneuris Sierra</td><td>15</td></tr>",
                            "<tr><td>Andrelton Simmons</td><td>103</td></tr>",
                            "<tr><td>Lucas Sims</td><td>23</td></tr>",
                            "<tr><td>Chance Sisco</td><td>59</td></tr>",
                            "<tr><td>Matt Skole</td><td>27</td></tr>",
                            "<tr><td>Austin Slater</td><td>68</td></tr>",
                            "<tr><td>Caleb Smith</td><td>27</td></tr>",
                            "<tr><td>Dominic Smith</td><td>89</td></tr>",
                            "<tr><td>Dwight Smith Jr.</td><td>101</td></tr>",
                            "<tr><td>Kevan Smith</td><td>67</td></tr>",
                            "<tr><td>Mallex Smith</td><td>134</td></tr>",
                            "<tr><td>Will Smith</td><td>112</td></tr>",
                            "<tr><td>Justin Smoak</td><td>121</td></tr>",
                            "<tr><td>Eric Sogard</td><td>110</td></tr>",
                            "<tr><td>Nick Solak</td><td>33</td></tr>",
                            "<tr><td>Donovan Solano</td><td>81</td></tr>",
                            "<tr><td>Yangervis Solarte</td><td>28</td></tr>",
                            "<tr><td>Jorge Soler</td><td>162</td></tr>",
                            "<tr><td>Mike Soroka</td><td>27</td></tr>",
                            "<tr><td>Edmundo Sosa</td><td>8</td></tr>",
                            "<tr><td>Gregory Soto</td><td>1</td></tr>",
                            "<tr><td>Juan Soto</td><td>150</td></tr>",
                            "<tr><td>Cory Spangenberg</td><td>32</td></tr>",
                            "<tr><td>George Springer</td><td>122</td></tr>",
                            "<tr><td>Jacob Stallings</td><td>71</td></tr>",
                            "<tr><td>Eric Stamets</td><td>15</td></tr>",
                            "<tr><td>Giancarlo Stanton</td><td>18</td></tr>",
                            "<tr><td>Bubba Starling</td><td>56</td></tr>",
                            "<tr><td>Max Stassi</td><td>51</td></tr>",
                            "<tr><td>Andrew Stevenson</td><td>30</td></tr>",
                            "<tr><td>Brock Stewart</td><td>3</td></tr>",
                            "<tr><td>Christin Stewart</td><td>104</td></tr>",
                            "<tr><td>DJ Stewart</td><td>44</td></tr>",
                            "<tr><td>Trevor Story</td><td>145</td></tr>",
                            "<tr><td>Matt Strahm</td><td>45</td></tr>",
                            "<tr><td>Stephen Strasburg</td><td>33</td></tr>",
                            "<tr><td>Myles Straw</td><td>56</td></tr>",
                            "<tr><td>Ross Stripling</td><td>27</td></tr>",
                            "<tr><td>Marcus Stroman</td><td>11</td></tr>",
                            "<tr><td>Garrett Stubbs</td><td>19</td></tr>",
                            "<tr><td>Eugenio Suarez</td><td>159</td></tr>",
                            "<tr><td>Ranger Suarez</td><td>34</td></tr>",
                            "<tr><td>Jesus Sucre</td><td>20</td></tr>",
                            "<tr><td>Kurt Suzuki</td><td>85</td></tr>",
                            "<tr><td>Dansby Swanson</td><td>127</td></tr>",
                            "<tr><td>Blake Swihart</td><td>43</td></tr>",
                            "<tr><td>Noah Syndergaard</td><td>30</td></tr>",
                            "<tr><td>Jameson Taillon</td><td>6</td></tr>",
                            "<tr><td>Raimel Tapia</td><td>138</td></tr>",
                            "<tr><td>Fernando Tatis Jr.</td><td>84</td></tr>",
                            "<tr><td>Mike Tauchman</td><td>87</td></tr>",
                            "<tr><td>Beau Taylor</td><td>9</td></tr>",
                            "<tr><td>Chris Taylor</td><td>124</td></tr>",
                            "<tr><td>Michael A. Taylor</td><td>53</td></tr>",
                            "<tr><td>Tyrone Taylor</td><td>15</td></tr>",
                            "<tr><td>Julio Teheran</td><td>33</td></tr>",
                            "<tr><td>Rowdy Tellez</td><td>111</td></tr>",
                            "<tr><td>Matt Thaiss</td><td>53</td></tr>",
                            "<tr><td>Eric Thames</td><td>149</td></tr>",
                            "<tr><td>Lane Thomas</td><td>34</td></tr>",
                            "<tr><td>Trent Thornton</td><td>1</td></tr>",
                            "<tr><td>Charlie Tilson</td><td>54</td></tr>",
                            "<tr><td>Jesus Tinoco</td><td>23</td></tr>",
                            "<tr><td>Abraham Toro</td><td>25</td></tr>",
                            "<tr><td>Luis Torrens</td><td>7</td></tr>",
                            "<tr><td>Gleyber Torres</td><td>144</td></tr>",
                            "<tr><td>Ronald Torreyes</td><td>7</td></tr>",
                            "<tr><td>Wilfredo Tovar</td><td>31</td></tr>",
                            "<tr><td>Sam Travis</td><td>59</td></tr>",
                            "<tr><td>Jose Trevino</td><td>40</td></tr>",
                            "<tr><td>Mike Trout</td><td>134</td></tr>",
                            "<tr><td>Mark Trumbo</td><td>12</td></tr>",
                            "<tr><td>Cole Tucker</td><td>56</td></tr>",
                            "<tr><td>Kyle Tucker</td><td>22</td></tr>",
                            "<tr><td>Troy Tulowitzki</td><td>5</td></tr>",
                            "<tr><td>Justin Turner</td><td>135</td></tr>",
                            "<tr><td>Trea Turner</td><td>122</td></tr>",
                            "<tr><td>Justin Upton</td><td>63</td></tr>",
                            "<tr><td>Richard Urena</td><td>30</td></tr>",
                            "<tr><td>Julio Urias</td><td>35</td></tr>",
                            "<tr><td>Luis Urias</td><td>71</td></tr>",
                            "<tr><td>Gio Urshela</td><td>132</td></tr>",
                            "<tr><td>Pat Valaika</td><td>40</td></tr>",
                            "<tr><td>Breyvic Valera</td><td>17</td></tr>",
                            "<tr><td>Josh VanMeter</td><td>95</td></tr>",
                            "<tr><td>Ildemaro Vargas</td><td>92</td></tr>",
                            "<tr><td>Jason Vargas</td><td>27</td></tr>",
                            "<tr><td>Christian Vazquez</td><td>138</td></tr>",
                            "<tr><td>Vince Velasquez</td><td>33</td></tr>",
                            "<tr><td>Andrew Velazquez</td><td>15</td></tr>",
                            "<tr><td>Alex Verdugo</td><td>106</td></tr>",
                            "<tr><td>Jonathan Villar</td><td>162</td></tr>",
                            "<tr><td>Meibrys Viloria</td><td>42</td></tr>",
                            "<tr><td>Daniel Vogelbach</td><td>144</td></tr>",
                            "<tr><td>Stephen Vogt</td><td>99</td></tr>",
                            "<tr><td>Luke Voit</td><td>118</td></tr>",
                            "<tr><td>Austin Voth</td><td>7</td></tr>",
                            "<tr><td>Joey Votto</td><td>142</td></tr>",
                            "<tr><td>Michael Wacha</td><td>28</td></tr>",
                            "<tr><td>LaMonte Wade Jr</td><td>26</td></tr>",
                            "<tr><td>Tyler Wade</td><td>43</td></tr>",
                            "<tr><td>Adam Wainwright</td><td>29</td></tr>",
                            "<tr><td>Christian Walker</td><td>152</td></tr>",
                            "<tr><td>Neil Walker</td><td>115</td></tr>",
                            "<tr><td>Chad Wallach</td><td>19</td></tr>",
                            "<tr><td>Jared Walsh</td><td>31</td></tr>",
                            "<tr><td>Donovan Walton</td><td>7</td></tr>",
                            "<tr><td>Taylor Ward</td><td>20</td></tr>",
                            "<tr><td>Luke Weaver</td><td>13</td></tr>",
                            "<tr><td>Logan Webb</td><td>7</td></tr>",
                            "<tr><td>Joey Wendle</td><td>75</td></tr>",
                            "<tr><td>Zack Wheeler</td><td>28</td></tr>",
                            "<tr><td>Tyler White</td><td>83</td></tr>",
                            "<tr><td>Matt Wieters</td><td>67</td></tr>",
                            "<tr><td>Aaron Wilkerson</td><td>8</td></tr>",
                            "<tr><td>Stevie Wilkerson</td><td>117</td></tr>",
                            "<tr><td>Mason Williams</td><td>11</td></tr>",
                            "<tr><td>Nick Williams</td><td>67</td></tr>",
                            "<tr><td>Trevor Williams</td><td>23</td></tr>",
                            "<tr><td>Mac Williamson</td><td>40</td></tr>",
                            "<tr><td>Bobby Wilson</td><td>15</td></tr>",
                            "<tr><td>Bryse Wilson</td><td>6</td></tr>",
                            "<tr><td>Jesse Winker</td><td>113</td></tr>",
                            "<tr><td>Patrick Wisdom</td><td>9</td></tr>",
                            "<tr><td>Tony Wolters</td><td>121</td></tr>",
                            "<tr><td>Kean Wong</td><td>6</td></tr>",
                            "<tr><td>Kolten Wong</td><td>148</td></tr>",
                            "<tr><td>Alex Wood</td><td>7</td></tr>",
                            "<tr><td>Brandon Woodruff</td><td>25</td></tr>",
                            "<tr><td>Austin Wynns</td><td>28</td></tr>",
                            "<tr><td>Jordan Yamamoto</td><td>16</td></tr>",
                            "<tr><td>Mike Yastrzemski</td><td>107</td></tr>",
                            "<tr><td>Christian Yelich</td><td>130</td></tr>",
                            "<tr><td>Alex Young</td><td>16</td></tr>",
                            "<tr><td>Mark Zagunis</td><td>30</td></tr>",
                            "<tr><td>Seby Zavala</td><td>5</td></tr>",
                            "<tr><td>Ryan Zimmerman</td><td>52</td></tr>",
                            "<tr><td>Ben Zobrist</td><td>47</td></tr>",
                            "<tr><td>Mike Zunino</td><td>90</td></tr>",
                            "</table>"
                        ]
                    }
                }
            ],
            "execution_count": 8
        },
        {
            "cell_type": "code",
            "source": [
                "SELECT h.Name, h.Team\n",
                "FROM houseprices h;\n",
                ""
            ],
            "metadata": {
                "azdata_cell_guid": "692021ec-030a-4068-ae42-2aabdc3c9c62",
                "language": "sql"
            },
            "outputs": [
                {
                    "output_type": "display_data",
                    "data": {
                        "text/html": "(823 row(s) affected)"
                    },
                    "metadata": {}
                },
                {
                    "output_type": "display_data",
                    "data": {
                        "text/html": "Total execution time: 00:00:01.008"
                    },
                    "metadata": {}
                },
                {
                    "output_type": "execute_result",
                    "metadata": {},
                    "execution_count": 9,
                    "data": {
                        "application/vnd.dataresource+json": {
                            "schema": {
                                "fields": [
                                    {
                                        "name": "Name"
                                    },
                                    {
                                        "name": "Team"
                                    }
                                ]
                            },
                            "data": [
                                {
                                    "Name": "José Abreu",
                                    "Team": "CHW"
                                },
                                {
                                    "Name": "Ronald Acuna Jr.",
                                    "Team": "ATL"
                                },
                                {
                                    "Name": "Cristhian Adames",
                                    "Team": "SFG"
                                },
                                {
                                    "Name": "Willy Adames",
                                    "Team": "TBR"
                                },
                                {
                                    "Name": "Matt Adams",
                                    "Team": "WSN"
                                },
                                {
                                    "Name": "Ehire Adrianza",
                                    "Team": "MIN"
                                },
                                {
                                    "Name": "Dario Agrazal",
                                    "Team": "PIT"
                                },
                                {
                                    "Name": "Jesus Aguilar",
                                    "Team": "MIL"
                                },
                                {
                                    "Name": "Jesus Aguilar",
                                    "Team": "TBR"
                                },
                                {
                                    "Name": "Nick Ahmed",
                                    "Team": "ARI"
                                },
                                {
                                    "Name": "R.J. Alaniz",
                                    "Team": "CIN"
                                },
                                {
                                    "Name": "Hanser Alberto",
                                    "Team": "BAL"
                                },
                                {
                                    "Name": "Ozzie Albies",
                                    "Team": "ATL"
                                },
                                {
                                    "Name": "Sandy Alcantara",
                                    "Team": "MIA"
                                },
                                {
                                    "Name": "Jorge Alfaro",
                                    "Team": "MIA"
                                },
                                {
                                    "Name": "Anthony Alford",
                                    "Team": "TOR"
                                },
                                {
                                    "Name": "Austin Allen",
                                    "Team": "SDP"
                                },
                                {
                                    "Name": "Greg Allen",
                                    "Team": "CLE"
                                },
                                {
                                    "Name": "Logan Allen",
                                    "Team": "SDP"
                                },
                                {
                                    "Name": "Abraham Almonte",
                                    "Team": "ARI"
                                },
                                {
                                    "Name": "Albert Almora",
                                    "Team": "CHC"
                                },
                                {
                                    "Name": "Pete Alonso",
                                    "Team": "NYM"
                                },
                                {
                                    "Name": "Yonder Alonso",
                                    "Team": "CHW"
                                },
                                {
                                    "Name": "Yonder Alonso",
                                    "Team": "COL"
                                },
                                {
                                    "Name": "Aaron Altherr",
                                    "Team": "PHI"
                                },
                                {
                                    "Name": "Aaron Altherr",
                                    "Team": "NYM"
                                },
                                {
                                    "Name": "Jose Altuve",
                                    "Team": "HOU"
                                },
                                {
                                    "Name": "Yordan Álvarez",
                                    "Team": "HOU"
                                },
                                {
                                    "Name": "Brett Anderson",
                                    "Team": "OAK"
                                },
                                {
                                    "Name": "Brian Anderson",
                                    "Team": "MIA"
                                },
                                {
                                    "Name": "Chase Anderson",
                                    "Team": "MIL"
                                },
                                {
                                    "Name": "Shaun Anderson",
                                    "Team": "SFG"
                                },
                                {
                                    "Name": "Tim Anderson",
                                    "Team": "CHW"
                                },
                                {
                                    "Name": "Tyler Anderson",
                                    "Team": "COL"
                                },
                                {
                                    "Name": "Elvis Andrus",
                                    "Team": "TEX"
                                },
                                {
                                    "Name": "Miguel Andujar",
                                    "Team": "NYY"
                                },
                                {
                                    "Name": "Aristides Aquino",
                                    "Team": "CIN"
                                },
                                {
                                    "Name": "Chris Archer",
                                    "Team": "PIT"
                                },
                                {
                                    "Name": "Orlando Arcia",
                                    "Team": "MIL"
                                },
                                {
                                    "Name": "Nolan Arenado",
                                    "Team": "COL"
                                },
                                {
                                    "Name": "Randy Arozarena",
                                    "Team": "STL"
                                },
                                {
                                    "Name": "Luis Arraez",
                                    "Team": "MIN"
                                },
                                {
                                    "Name": "Jake Arrieta",
                                    "Team": "PHI"
                                },
                                {
                                    "Name": "Christian Arroyo",
                                    "Team": "TBR"
                                },
                                {
                                    "Name": "Humberto Arteaga",
                                    "Team": "KCR"
                                },
                                {
                                    "Name": "Willians Astudillo",
                                    "Team": "MIN"
                                },
                                {
                                    "Name": "Tyler Austin",
                                    "Team": "MIN"
                                },
                                {
                                    "Name": "Tyler Austin",
                                    "Team": "SFG"
                                },
                                {
                                    "Name": "Tyler Austin",
                                    "Team": "MIL"
                                },
                                {
                                    "Name": "Abiatal Avelino",
                                    "Team": "SFG"
                                },
                                {
                                    "Name": "Alex Avila",
                                    "Team": "ARI"
                                },
                                {
                                    "Name": "Harrison Bader",
                                    "Team": "STL"
                                },
                                {
                                    "Name": "Javier Baez",
                                    "Team": "CHC"
                                },
                                {
                                    "Name": "Homer Bailey",
                                    "Team": "OAK"
                                },
                                {
                                    "Name": "Austin Barnes",
                                    "Team": "LAD"
                                },
                                {
                                    "Name": "Tucker Barnhart",
                                    "Team": "CIN"
                                },
                                {
                                    "Name": "Steven Baron",
                                    "Team": "PIT"
                                },
                                {
                                    "Name": "Franklin Barreto",
                                    "Team": "OAK"
                                },
                                {
                                    "Name": "Trevor Bauer",
                                    "Team": "CLE"
                                },
                                {
                                    "Name": "Trevor Bauer",
                                    "Team": "CIN"
                                },
                                {
                                    "Name": "Jake Bauers",
                                    "Team": "CLE"
                                },
                                {
                                    "Name": "Matt Beaty",
                                    "Team": "LAD"
                                },
                                {
                                    "Name": "Gordon Beckham",
                                    "Team": "DET"
                                },
                                {
                                    "Name": "Tim Beckham",
                                    "Team": "SEA"
                                },
                                {
                                    "Name": "Tyler Beede",
                                    "Team": "SFG"
                                },
                                {
                                    "Name": "Josh Bell",
                                    "Team": "PIT"
                                },
                                {
                                    "Name": "Cody Bellinger",
                                    "Team": "LAD"
                                },
                                {
                                    "Name": "Brandon Belt",
                                    "Team": "SFG"
                                },
                                {
                                    "Name": "Anthony Bemboom",
                                    "Team": "TBR"
                                },
                                {
                                    "Name": "Anthony Bemboom",
                                    "Team": "LAA"
                                },
                                {
                                    "Name": "Andrew Benintendi",
                                    "Team": "BOS"
                                },
                                {
                                    "Name": "Jon Berti",
                                    "Team": "MIA"
                                },
                                {
                                    "Name": "Mookie Betts",
                                    "Team": "BOS"
                                },
                                {
                                    "Name": "Bo Bichette",
                                    "Team": "TOR"
                                },
                                {
                                    "Name": "Cavan Biggio",
                                    "Team": "TOR"
                                },
                                {
                                    "Name": "Greg Bird",
                                    "Team": "NYY"
                                },
                                {
                                    "Name": "Braden Bishop",
                                    "Team": "SEA"
                                },
                                {
                                    "Name": "Charlie Blackmon",
                                    "Team": "COL"
                                },
                                {
                                    "Name": "Alex Blandino",
                                    "Team": "CIN"
                                },
                                {
                                    "Name": "Xander Bogaerts",
                                    "Team": "BOS"
                                },
                                {
                                    "Name": "Skye Bolt",
                                    "Team": "OAK"
                                },
                                {
                                    "Name": "Jorge Bonifacio",
                                    "Team": "KCR"
                                },
                                {
                                    "Name": "David Bote",
                                    "Team": "CHC"
                                },
                                {
                                    "Name": "Justin Bour",
                                    "Team": "LAA"
                                },
                                {
                                    "Name": "Peter Bourjos",
                                    "Team": "LAA"
                                },
                                {
                                    "Name": "Matthew Boyd",
                                    "Team": "DET"
                                },
                                {
                                    "Name": "Brad Brach",
                                    "Team": "CHC"
                                },
                                {
                                    "Name": "Bobby Bradley",
                                    "Team": "CLE"
                                },
                                {
                                    "Name": "Jackie Bradley Jr.",
                                    "Team": "BOS"
                                },
                                {
                                    "Name": "Michael Brantley",
                                    "Team": "HOU"
                                },
                                {
                                    "Name": "Steven Brault",
                                    "Team": "PIT"
                                },
                                {
                                    "Name": "Ryan Braun",
                                    "Team": "MIL"
                                },
                                {
                                    "Name": "John Brebbia",
                                    "Team": "STL"
                                },
                                {
                                    "Name": "Alex Bregman",
                                    "Team": "HOU"
                                },
                                {
                                    "Name": "Lewis Brinson",
                                    "Team": "MIA"
                                },
                                {
                                    "Name": "Socrates Brito",
                                    "Team": "TOR"
                                },
                                {
                                    "Name": "Mike Brosseau",
                                    "Team": "TBR"
                                },
                                {
                                    "Name": "Seth Brown",
                                    "Team": "OAK"
                                },
                                {
                                    "Name": "Keon Broxton",
                                    "Team": "BAL"
                                },
                                {
                                    "Name": "Keon Broxton",
                                    "Team": "SEA"
                                },
                                {
                                    "Name": "Keon Broxton",
                                    "Team": "NYM"
                                },
                                {
                                    "Name": "Jay Bruce",
                                    "Team": "SEA"
                                },
                                {
                                    "Name": "Jay Bruce",
                                    "Team": "PHI"
                                },
                                {
                                    "Name": "Kris Bryant",
                                    "Team": "CHC"
                                },
                                {
                                    "Name": "Walker Buehler",
                                    "Team": "LAD"
                                },
                                {
                                    "Name": "Madison Bumgarner",
                                    "Team": "SFG"
                                },
                                {
                                    "Name": "Corbin Burnes",
                                    "Team": "MIL"
                                },
                                {
                                    "Name": "Drew Butera",
                                    "Team": "COL"
                                },
                                {
                                    "Name": "Byron Buxton",
                                    "Team": "MIN"
                                },
                                {
                                    "Name": "Asdrubal Cabrera",
                                    "Team": "TEX"
                                },
                                {
                                    "Name": "Asdrubal Cabrera",
                                    "Team": "WSN"
                                },
                                {
                                    "Name": "Melky Cabrera",
                                    "Team": "PIT"
                                },
                                {
                                    "Name": "Miguel Cabrera",
                                    "Team": "DET"
                                },
                                {
                                    "Name": "Trevor Cahill",
                                    "Team": "LAA"
                                },
                                {
                                    "Name": "Lorenzo Cain",
                                    "Team": "MIL"
                                },
                                {
                                    "Name": "Kole Calhoun",
                                    "Team": "LAA"
                                },
                                {
                                    "Name": "Willie Calhoun",
                                    "Team": "TEX"
                                },
                                {
                                    "Name": "Johan Camargo",
                                    "Team": "ATL"
                                },
                                {
                                    "Name": "Jeimer Candelario",
                                    "Team": "DET"
                                },
                                {
                                    "Name": "Mark Canha",
                                    "Team": "OAK"
                                },
                                {
                                    "Name": "Robinson Cano",
                                    "Team": "NYM"
                                },
                                {
                                    "Name": "Victor Caratini",
                                    "Team": "CHC"
                                },
                                {
                                    "Name": "Matt Carpenter",
                                    "Team": "STL"
                                },
                                {
                                    "Name": "Curt Casali",
                                    "Team": "CIN"
                                },
                                {
                                    "Name": "Nicholas Castellanos",
                                    "Team": "DET"
                                },
                                {
                                    "Name": "Nicholas Castellanos",
                                    "Team": "CHC"
                                },
                                {
                                    "Name": "Luis Castillo",
                                    "Team": "CIN"
                                },
                                {
                                    "Name": "Welington Castillo",
                                    "Team": "CHW"
                                },
                                {
                                    "Name": "Wilkin Castillo",
                                    "Team": "MIA"
                                },
                                {
                                    "Name": "Harold Castro",
                                    "Team": "DET"
                                },
                                {
                                    "Name": "Jason Castro",
                                    "Team": "MIN"
                                },
                                {
                                    "Name": "Starlin Castro",
                                    "Team": "MIA"
                                },
                                {
                                    "Name": "Willi Castro",
                                    "Team": "DET"
                                },
                                {
                                    "Name": "Jake Cave",
                                    "Team": "MIN"
                                },
                                {
                                    "Name": "Juan Centeno",
                                    "Team": "BOS"
                                },
                                {
                                    "Name": "Francisco Cervelli",
                                    "Team": "PIT"
                                },
                                {
                                    "Name": "Francisco Cervelli",
                                    "Team": "ATL"
                                },
                                {
                                    "Name": "Jhoulys Chacin",
                                    "Team": "MIL"
                                },
                                {
                                    "Name": "Yu Chang",
                                    "Team": "CLE"
                                },
                                {
                                    "Name": "Matt Chapman",
                                    "Team": "OAK"
                                },
                                {
                                    "Name": "Tyler Chatwood",
                                    "Team": "CHC"
                                },
                                {
                                    "Name": "Jesse Chavez",
                                    "Team": "TEX"
                                },
                                {
                                    "Name": "Michael Chavis",
                                    "Team": "BOS"
                                },
                                {
                                    "Name": "Robinson Chirinos",
                                    "Team": "HOU"
                                },
                                {
                                    "Name": "Ji-Man Choi",
                                    "Team": "TBR"
                                },
                                {
                                    "Name": "Shin-Soo Choo",
                                    "Team": "TEX"
                                },
                                {
                                    "Name": "Nick Ciuffo",
                                    "Team": "TBR"
                                },
                                {
                                    "Name": "Taylor Clarke",
                                    "Team": "ARI"
                                },
                                {
                                    "Name": "Zack Collins",
                                    "Team": "CHW"
                                },
                                {
                                    "Name": "Christian Colon",
                                    "Team": "CIN"
                                },
                                {
                                    "Name": "Michael Conforto",
                                    "Team": "NYM"
                                },
                                {
                                    "Name": "Willson Contreras",
                                    "Team": "CHC"
                                },
                                {
                                    "Name": "Garrett Cooper",
                                    "Team": "MIA"
                                },
                                {
                                    "Name": "Patrick Corbin",
                                    "Team": "WSN"
                                },
                                {
                                    "Name": "Ryan Cordell",
                                    "Team": "CHW"
                                },
                                {
                                    "Name": "Franchy Cordero",
                                    "Team": "SDP"
                                },
                                {
                                    "Name": "Carlos Correa",
                                    "Team": "HOU"
                                },
                                {
                                    "Name": "Ryan Court",
                                    "Team": "SEA"
                                },
                                {
                                    "Name": "Kaleb Cowart",
                                    "Team": "LAA"
                                },
                                {
                                    "Name": "Zack Cozart",
                                    "Team": "LAA"
                                },
                                {
                                    "Name": "Brandon Crawford",
                                    "Team": "SFG"
                                },
                                {
                                    "Name": "J.P. Crawford",
                                    "Team": "SEA"
                                },
                                {
                                    "Name": "C.J. Cron",
                                    "Team": "MIN"
                                },
                                {
                                    "Name": "Kevin Cron",
                                    "Team": "ARI"
                                },
                                {
                                    "Name": "Nelson Cruz",
                                    "Team": "MIN"
                                },
                                {
                                    "Name": "Charlie Culberson",
                                    "Team": "ATL"
                                },
                                {
                                    "Name": "Cheslor Cuthbert",
                                    "Team": "KCR"
                                },
                                {
                                    "Name": "Travis d'Arnaud",
                                    "Team": "NYM"
                                },
                                {
                                    "Name": "Travis d'Arnaud",
                                    "Team": "TBR"
                                },
                                {
                                    "Name": "David Dahl",
                                    "Team": "COL"
                                },
                                {
                                    "Name": "Yu Darvish",
                                    "Team": "CHC"
                                },
                                {
                                    "Name": "Zach Davies",
                                    "Team": "MIL"
                                },
                                {
                                    "Name": "Chris Davis",
                                    "Team": "BAL"
                                },
                                {
                                    "Name": "J.D. Davis",
                                    "Team": "NYM"
                                },
                                {
                                    "Name": "Jaylin Davis",
                                    "Team": "SFG"
                                },
                                {
                                    "Name": "Johnny Davis",
                                    "Team": "TBR"
                                },
                                {
                                    "Name": "Jonathan Davis",
                                    "Team": "TOR"
                                },
                                {
                                    "Name": "Khris Davis",
                                    "Team": "OAK"
                                },
                                {
                                    "Name": "Rajai Davis",
                                    "Team": "NYM"
                                },
                                {
                                    "Name": "Taylor Davis",
                                    "Team": "CHC"
                                },
                                {
                                    "Name": "Yonathan Daza",
                                    "Team": "COL"
                                },
                                {
                                    "Name": "Austin Dean",
                                    "Team": "MIA"
                                },
                                {
                                    "Name": "Jacob deGrom",
                                    "Team": "NYM"
                                },
                                {
                                    "Name": "Paul DeJong",
                                    "Team": "STL"
                                },
                                {
                                    "Name": "Nicky Delmonico",
                                    "Team": "CHW"
                                },
                                {
                                    "Name": "Travis Demeritte",
                                    "Team": "DET"
                                },
                                {
                                    "Name": "Daniel Descalso",
                                    "Team": "CHC"
                                },
                                {
                                    "Name": "Anthony DeSclafani",
                                    "Team": "CIN"
                                },
                                {
                                    "Name": "Delino DeShields",
                                    "Team": "TEX"
                                },
                                {
                                    "Name": "Ian Desmond",
                                    "Team": "COL"
                                },
                                {
                                    "Name": "Rafael Devers",
                                    "Team": "BOS"
                                },
                                {
                                    "Name": "Aledmys Díaz",
                                    "Team": "HOU"
                                },
                                {
                                    "Name": "Elias Diaz",
                                    "Team": "PIT"
                                },
                                {
                                    "Name": "Isan Diaz",
                                    "Team": "MIA"
                                },
                                {
                                    "Name": "Yandy Díaz",
                                    "Team": "TBR"
                                },
                                {
                                    "Name": "Alex Dickerson",
                                    "Team": "SDP"
                                },
                                {
                                    "Name": "Alex Dickerson",
                                    "Team": "SFG"
                                },
                                {
                                    "Name": "Corey Dickerson",
                                    "Team": "PIT"
                                },
                                {
                                    "Name": "Corey Dickerson",
                                    "Team": "PHI"
                                },
                                {
                                    "Name": "Derek Dietrich",
                                    "Team": "CIN"
                                },
                                {
                                    "Name": "Wilmer Difo",
                                    "Team": "WSN"
                                },
                                {
                                    "Name": "Nick Dini",
                                    "Team": "KCR"
                                },
                                {
                                    "Name": "Brandon Dixon",
                                    "Team": "DET"
                                },
                                {
                                    "Name": "Josh Donaldson",
                                    "Team": "ATL"
                                },
                                {
                                    "Name": "Brian Dozier",
                                    "Team": "WSN"
                                },
                                {
                                    "Name": "Hunter Dozier",
                                    "Team": "KCR"
                                },
                                {
                                    "Name": "Oliver Drake",
                                    "Team": "TBR"
                                },
                                {
                                    "Name": "Brandon Drury",
                                    "Team": "TOR"
                                },
                                {
                                    "Name": "Mauricio Dubon",
                                    "Team": "SFG"
                                },
                                {
                                    "Name": "Lucas Duda",
                                    "Team": "KCR"
                                },
                                {
                                    "Name": "Danny Duffy",
                                    "Team": "KCR"
                                },
                                {
                                    "Name": "Matt Duffy",
                                    "Team": "TBR"
                                },
                                {
                                    "Name": "Steven Duggar",
                                    "Team": "SFG"
                                },
                                {
                                    "Name": "Jon Duplantier",
                                    "Team": "ARI"
                                },
                                {
                                    "Name": "Montana DuRapau",
                                    "Team": "PIT"
                                },
                                {
                                    "Name": "Adam Duvall",
                                    "Team": "ATL"
                                },
                                {
                                    "Name": "Jarrod Dyson",
                                    "Team": "ARI"
                                },
                                {
                                    "Name": "Adam Eaton",
                                    "Team": "WSN"
                                },
                                {
                                    "Name": "Tommy Edman",
                                    "Team": "STL"
                                },
                                {
                                    "Name": "Zach Eflin",
                                    "Team": "PHI"
                                },
                                {
                                    "Name": "Jake Elmore",
                                    "Team": "PIT"
                                },
                                {
                                    "Name": "Edwin Encarnacion",
                                    "Team": "SEA"
                                },
                                {
                                    "Name": "Edwin Encarnacion",
                                    "Team": "NYY"
                                },
                                {
                                    "Name": "Adam Engel",
                                    "Team": "CHW"
                                },
                                {
                                    "Name": "Phil Ervin",
                                    "Team": "CIN"
                                },
                                {
                                    "Name": "Eduardo Escobar",
                                    "Team": "ARI"
                                },
                                {
                                    "Name": "Thairo Estrada",
                                    "Team": "NYY"
                                },
                                {
                                    "Name": "Kyle Farmer",
                                    "Team": "CIN"
                                },
                                {
                                    "Name": "Erick Fedde",
                                    "Team": "WSN"
                                },
                                {
                                    "Name": "Tim Federowicz",
                                    "Team": "TEX"
                                },
                                {
                                    "Name": "Caleb Ferguson",
                                    "Team": "LAD"
                                },
                                {
                                    "Name": "Derek Fisher",
                                    "Team": "HOU"
                                },
                                {
                                    "Name": "Derek Fisher",
                                    "Team": "TOR"
                                },
                                {
                                    "Name": "Jack Flaherty",
                                    "Team": "STL"
                                },
                                {
                                    "Name": "Ryan Flaherty",
                                    "Team": "CLE"
                                },
                                {
                                    "Name": "David Fletcher",
                                    "Team": "LAA"
                                },
                                {
                                    "Name": "Chris Flexen",
                                    "Team": "NYM"
                                },
                                {
                                    "Name": "Wilmer Flores",
                                    "Team": "ARI"
                                },
                                {
                                    "Name": "Tyler Flowers",
                                    "Team": "ATL"
                                },
                                {
                                    "Name": "Mike Foltynewicz",
                                    "Team": "ATL"
                                },
                                {
                                    "Name": "Wilmer Font",
                                    "Team": "NYM"
                                },
                                {
                                    "Name": "Mike Ford",
                                    "Team": "NYY"
                                },
                                {
                                    "Name": "Logan Forsythe",
                                    "Team": "TEX"
                                },
                                {
                                    "Name": "Dexter Fowler",
                                    "Team": "STL"
                                },
                                {
                                    "Name": "Jake Fraley",
                                    "Team": "SEA"
                                },
                                {
                                    "Name": "Ty France",
                                    "Team": "SDP"
                                },
                                {
                                    "Name": "Maikel Franco",
                                    "Team": "PHI"
                                },
                                {
                                    "Name": "Adam Frazier",
                                    "Team": "PIT"
                                },
                                {
                                    "Name": "Clint Frazier",
                                    "Team": "NYY"
                                },
                                {
                                    "Name": "Todd Frazier",
                                    "Team": "NYM"
                                },
                                {
                                    "Name": "Kyle Freeland",
                                    "Team": "COL"
                                },
                                {
                                    "Name": "Freddie Freeman",
                                    "Team": "ATL"
                                },
                                {
                                    "Name": "Mike Freeman",
                                    "Team": "CLE"
                                },
                                {
                                    "Name": "David Freese",
                                    "Team": "LAD"
                                },
                                {
                                    "Name": "David Freitas",
                                    "Team": "MIL"
                                },
                                {
                                    "Name": "Max Fried",
                                    "Team": "ATL"
                                },
                                {
                                    "Name": "Josh Fuentes",
                                    "Team": "COL"
                                },
                                {
                                    "Name": "Drew Gagnon",
                                    "Team": "NYM"
                                },
                                {
                                    "Name": "Rocky Gale",
                                    "Team": "LAD"
                                },
                                {
                                    "Name": "Cam Gallagher",
                                    "Team": "KCR"
                                },
                                {
                                    "Name": "Zac Gallen",
                                    "Team": "MIA"
                                },
                                {
                                    "Name": "Zac Gallen",
                                    "Team": "ARI"
                                },
                                {
                                    "Name": "Joey Gallo",
                                    "Team": "TEX"
                                },
                                {
                                    "Name": "Isaac Galloway",
                                    "Team": "MIA"
                                },
                                {
                                    "Name": "Freddy Galvis",
                                    "Team": "TOR"
                                },
                                {
                                    "Name": "Freddy Galvis",
                                    "Team": "CIN"
                                },
                                {
                                    "Name": "Ben Gamel",
                                    "Team": "MIL"
                                },
                                {
                                    "Name": "Aramis Garcia",
                                    "Team": "SFG"
                                },
                                {
                                    "Name": "Avisail Garcia",
                                    "Team": "TBR"
                                },
                                {
                                    "Name": "Greg Garcia",
                                    "Team": "SDP"
                                },
                                {
                                    "Name": "Leury Garcia",
                                    "Team": "CHW"
                                },
                                {
                                    "Name": "Robel Garcia",
                                    "Team": "CHC"
                                },
                                {
                                    "Name": "Brett Gardner",
                                    "Team": "NYY"
                                },
                                {
                                    "Name": "Kyle Garlick",
                                    "Team": "LAD"
                                },
                                {
                                    "Name": "Dustin Garneau",
                                    "Team": "LAA"
                                },
                                {
                                    "Name": "Dustin Garneau",
                                    "Team": "OAK"
                                },
                                {
                                    "Name": "Mitch Garver",
                                    "Team": "MIN"
                                },
                                {
                                    "Name": "Kevin Gausman",
                                    "Team": "ATL"
                                },
                                {
                                    "Name": "Scooter Gennett",
                                    "Team": "CIN"
                                },
                                {
                                    "Name": "Scooter Gennett",
                                    "Team": "SFG"
                                },
                                {
                                    "Name": "Mike Gerber",
                                    "Team": "SFG"
                                },
                                {
                                    "Name": "Lucas Giolito",
                                    "Team": "CHW"
                                },
                                {
                                    "Name": "Zack Godley",
                                    "Team": "ARI"
                                },
                                {
                                    "Name": "Ryan Goins",
                                    "Team": "CHW"
                                },
                                {
                                    "Name": "Paul Goldschmidt",
                                    "Team": "STL"
                                },
                                {
                                    "Name": "Yan Gomes",
                                    "Team": "WSN"
                                },
                                {
                                    "Name": "Carlos Gomez",
                                    "Team": "NYM"
                                },
                                {
                                    "Name": "Tony Gonsolin",
                                    "Team": "LAD"
                                },
                                {
                                    "Name": "Marco Gonzales",
                                    "Team": "SEA"
                                },
                                {
                                    "Name": "Carlos Gonzalez",
                                    "Team": "CLE"
                                },
                                {
                                    "Name": "Carlos Gonzalez",
                                    "Team": "CHC"
                                },
                                {
                                    "Name": "Chi Chi Gonzalez",
                                    "Team": "COL"
                                },
                                {
                                    "Name": "Erik Gonzalez",
                                    "Team": "PIT"
                                },
                                {
                                    "Name": "Gio Gonzalez",
                                    "Team": "MIL"
                                },
                                {
                                    "Name": "Marwin Gonzalez",
                                    "Team": "MIN"
                                },
                                {
                                    "Name": "Niko Goodrum",
                                    "Team": "DET"
                                },
                                {
                                    "Name": "Brian Goodwin",
                                    "Team": "LAA"
                                },
                                {
                                    "Name": "Alex Gordon",
                                    "Team": "KCR"
                                },
                                {
                                    "Name": "Dee Gordon",
                                    "Team": "SEA"
                                },
                                {
                                    "Name": "Terrance Gore",
                                    "Team": "KCR"
                                },
                                {
                                    "Name": "Phil Gosselin",
                                    "Team": "PHI"
                                },
                                {
                                    "Name": "Yasmani Grandal",
                                    "Team": "MIL"
                                },
                                {
                                    "Name": "Curtis Granderson",
                                    "Team": "MIA"
                                },
                                {
                                    "Name": "Juan Graterol",
                                    "Team": "CIN"
                                },
                                {
                                    "Name": "Jon Gray",
                                    "Team": "COL"
                                },
                                {
                                    "Name": "Sonny Gray",
                                    "Team": "CIN"
                                },
                                {
                                    "Name": "Zach Green",
                                    "Team": "SFG"
                                },
                                {
                                    "Name": "Didi Gregorius",
                                    "Team": "NYY"
                                },
                                {
                                    "Name": "Grayson Greiner",
                                    "Team": "DET"
                                },
                                {
                                    "Name": "Zack Greinke",
                                    "Team": "ARI"
                                },
                                {
                                    "Name": "Zack Greinke",
                                    "Team": "HOU"
                                },
                                {
                                    "Name": "Randal Grichuk",
                                    "Team": "TOR"
                                },
                                {
                                    "Name": "Trent Grisham",
                                    "Team": "MIL"
                                },
                                {
                                    "Name": "Robbie Grossman",
                                    "Team": "OAK"
                                },
                                {
                                    "Name": "Deivy Grullon",
                                    "Team": "PHI"
                                },
                                {
                                    "Name": "Junior Guerra",
                                    "Team": "MIL"
                                },
                                {
                                    "Name": "Vladimir Guerrero Jr.",
                                    "Team": "TOR"
                                },
                                {
                                    "Name": "Luis Guillorme",
                                    "Team": "NYM"
                                },
                                {
                                    "Name": "Lourdes Gurriel Jr.",
                                    "Team": "TOR"
                                },
                                {
                                    "Name": "Yuli Gurriel",
                                    "Team": "HOU"
                                },
                                {
                                    "Name": "Kelvin Gutierrez",
                                    "Team": "KCR"
                                },
                                {
                                    "Name": "Ronald Guzman",
                                    "Team": "TEX"
                                },
                                {
                                    "Name": "Jedd Gyorko",
                                    "Team": "STL"
                                },
                                {
                                    "Name": "Jedd Gyorko",
                                    "Team": "LAD"
                                },
                                {
                                    "Name": "Eric Haase",
                                    "Team": "CLE"
                                },
                                {
                                    "Name": "Cole Hamels",
                                    "Team": "CHC"
                                },
                                {
                                    "Name": "Billy Hamilton",
                                    "Team": "KCR"
                                },
                                {
                                    "Name": "Billy Hamilton",
                                    "Team": "ATL"
                                },
                                {
                                    "Name": "Garrett Hampson",
                                    "Team": "COL"
                                },
                                {
                                    "Name": "Mitch Haniger",
                                    "Team": "SEA"
                                },
                                {
                                    "Name": "Alen Hanson",
                                    "Team": "TOR"
                                },
                                {
                                    "Name": "Ian Happ",
                                    "Team": "CHC"
                                },
                                {
                                    "Name": "Bryce Harper",
                                    "Team": "PHI"
                                },
                                {
                                    "Name": "Josh Harrison",
                                    "Team": "DET"
                                },
                                {
                                    "Name": "Adam Haseley",
                                    "Team": "PHI"
                                },
                                {
                                    "Name": "Austin Hays",
                                    "Team": "BAL"
                                },
                                {
                                    "Name": "Ryon Healy",
                                    "Team": "SEA"
                                },
                                {
                                    "Name": "Adeiny Hechavarria",
                                    "Team": "NYM"
                                },
                                {
                                    "Name": "Adeiny Hechavarria",
                                    "Team": "ATL"
                                },
                                {
                                    "Name": "Austin Hedges",
                                    "Team": "SDP"
                                },
                                {
                                    "Name": "Scott Heineman",
                                    "Team": "TEX"
                                },
                                {
                                    "Name": "Tyler Heineman",
                                    "Team": "MIA"
                                },
                                {
                                    "Name": "Jeremy Hellickson",
                                    "Team": "WSN"
                                },
                                {
                                    "Name": "Ryan Helsley",
                                    "Team": "STL"
                                },
                                {
                                    "Name": "Kyle Hendricks",
                                    "Team": "CHC"
                                },
                                {
                                    "Name": "Guillermo Heredia",
                                    "Team": "TBR"
                                },
                                {
                                    "Name": "Michael Hermosillo",
                                    "Team": "LAA"
                                },
                                {
                                    "Name": "Cesar Hernandez",
                                    "Team": "PHI"
                                },
                                {
                                    "Name": "Elieser Hernandez",
                                    "Team": "MIA"
                                },
                                {
                                    "Name": "Enrique Hernandez",
                                    "Team": "LAD"
                                },
                                {
                                    "Name": "Gorkys Hernandez",
                                    "Team": "BOS"
                                },
                                {
                                    "Name": "Marco Hernandez",
                                    "Team": "BOS"
                                },
                                {
                                    "Name": "Teoscar Hernandez",
                                    "Team": "TOR"
                                },
                                {
                                    "Name": "Odubel Herrera",
                                    "Team": "PHI"
                                },
                                {
                                    "Name": "Rosell Herrera",
                                    "Team": "MIA"
                                },
                                {
                                    "Name": "Chris Herrmann",
                                    "Team": "OAK"
                                },
                                {
                                    "Name": "Jason Heyward",
                                    "Team": "CHC"
                                },
                                {
                                    "Name": "Aaron Hicks",
                                    "Team": "NYY"
                                },
                                {
                                    "Name": "John Hicks",
                                    "Team": "DET"
                                },
                                {
                                    "Name": "Kyle Higashioka",
                                    "Team": "NYY"
                                },
                                {
                                    "Name": "Rich Hill",
                                    "Team": "LAD"
                                },
                                {
                                    "Name": "Sam Hilliard",
                                    "Team": "COL"
                                },
                                {
                                    "Name": "Keston Hiura",
                                    "Team": "MIL"
                                },
                                {
                                    "Name": "Nico Hoerner",
                                    "Team": "CHC"
                                },
                                {
                                    "Name": "Jeff Hoffman",
                                    "Team": "COL"
                                },
                                {
                                    "Name": "Bryan Holaday",
                                    "Team": "MIA"
                                },
                                {
                                    "Name": "Derek Holland",
                                    "Team": "SFG"
                                },
                                {
                                    "Name": "Brock Holt",
                                    "Team": "BOS"
                                },
                                {
                                    "Name": "Rhys Hoskins",
                                    "Team": "PHI"
                                },
                                {
                                    "Name": "Eric Hosmer",
                                    "Team": "SDP"
                                },
                                {
                                    "Name": "Adrian Houser",
                                    "Team": "MIL"
                                },
                                {
                                    "Name": "Dakota Hudson",
                                    "Team": "STL"
                                },
                                {
                                    "Name": "Nick Hundley",
                                    "Team": "OAK"
                                },
                                {
                                    "Name": "Chris Iannetta",
                                    "Team": "COL"
                                },
                                {
                                    "Name": "José Iglesias",
                                    "Team": "CIN"
                                },
                                {
                                    "Name": "Ender Inciarte",
                                    "Team": "ATL"
                                },
                                {
                                    "Name": "Cole Irvin",
                                    "Team": "PHI"
                                },
                                {
                                    "Name": "Travis Jankowski",
                                    "Team": "SDP"
                                },
                                {
                                    "Name": "Danny Jansen",
                                    "Team": "TOR"
                                },
                                {
                                    "Name": "Jon Jay",
                                    "Team": "CHW"
                                },
                                {
                                    "Name": "Eloy Jimenez",
                                    "Team": "CHW"
                                },
                                {
                                    "Name": "Connor Joe",
                                    "Team": "SFG"
                                },
                                {
                                    "Name": "Adam Jones",
                                    "Team": "ARI"
                                },
                                {
                                    "Name": "JaCoby Jones",
                                    "Team": "DET"
                                },
                                {
                                    "Name": "Caleb Joseph",
                                    "Team": "ARI"
                                },
                                {
                                    "Name": "Corban Joseph",
                                    "Team": "OAK"
                                },
                                {
                                    "Name": "Corban Joseph",
                                    "Team": "SFG"
                                },
                                {
                                    "Name": "Corban Joseph",
                                    "Team": "PIT"
                                },
                                {
                                    "Name": "Matthew Joyce",
                                    "Team": "ATL"
                                },
                                {
                                    "Name": "Aaron Judge",
                                    "Team": "NYY"
                                },
                                {
                                    "Name": "Jung Ho Kang",
                                    "Team": "PIT"
                                },
                                {
                                    "Name": "Brad Keller",
                                    "Team": "KCR"
                                },
                                {
                                    "Name": "Carson Kelly",
                                    "Team": "ARI"
                                },
                                {
                                    "Name": "Merrill Kelly",
                                    "Team": "ARI"
                                },
                                {
                                    "Name": "Matt Kemp",
                                    "Team": "CIN"
                                },
                                {
                                    "Name": "Tony Kemp",
                                    "Team": "HOU"
                                },
                                {
                                    "Name": "Tony Kemp",
                                    "Team": "CHC"
                                },
                                {
                                    "Name": "Howie Kendrick",
                                    "Team": "WSN"
                                },
                                {
                                    "Name": "Max Kepler",
                                    "Team": "MIN"
                                },
                                {
                                    "Name": "Clayton Kershaw",
                                    "Team": "LAD"
                                },
                                {
                                    "Name": "Dallas Keuchel",
                                    "Team": "ATL"
                                },
                                {
                                    "Name": "Carter Kieboom",
                                    "Team": "WSN"
                                },
                                {
                                    "Name": "Kevin Kiermaier",
                                    "Team": "TBR"
                                },
                                {
                                    "Name": "Isiah Kiner-Falefa",
                                    "Team": "TEX"
                                },
                                {
                                    "Name": "Scott Kingery",
                                    "Team": "PHI"
                                },
                                {
                                    "Name": "Ian Kinsler",
                                    "Team": "SDP"
                                },
                                {
                                    "Name": "Jason Kipnis",
                                    "Team": "CLE"
                                },
                                {
                                    "Name": "Andrew Knapp",
                                    "Team": "PHI"
                                },
                                {
                                    "Name": "Andrew Knizner",
                                    "Team": "STL"
                                },
                                {
                                    "Name": "Kevin Kramer",
                                    "Team": "PIT"
                                },
                                {
                                    "Name": "Erik Kratz",
                                    "Team": "SFG"
                                },
                                {
                                    "Name": "Erik Kratz",
                                    "Team": "TBR"
                                },
                                {
                                    "Name": "Tommy La Stella",
                                    "Team": "LAA"
                                },
                                {
                                    "Name": "Juan Lagares",
                                    "Team": "NYM"
                                },
                                {
                                    "Name": "Ryan LaMarre",
                                    "Team": "MIN"
                                },
                                {
                                    "Name": "Jake Lamb",
                                    "Team": "ARI"
                                },
                                {
                                    "Name": "Peter Lambert",
                                    "Team": "COL"
                                },
                                {
                                    "Name": "Dinelson Lamet",
                                    "Team": "SDP"
                                },
                                {
                                    "Name": "Eric Lauer",
                                    "Team": "SDP"
                                },
                                {
                                    "Name": "Ramon Laureano",
                                    "Team": "OAK"
                                },
                                {
                                    "Name": "Ryan Lavarnway",
                                    "Team": "CIN"
                                },
                                {
                                    "Name": "Mike Leake",
                                    "Team": "ARI"
                                },
                                {
                                    "Name": "DJ LeMahieu",
                                    "Team": "NYY"
                                },
                                {
                                    "Name": "Sandy Leon",
                                    "Team": "BOS"
                                },
                                {
                                    "Name": "Jon Lester",
                                    "Team": "CHC"
                                },
                                {
                                    "Name": "Kyle Lewis",
                                    "Team": "SEA"
                                },
                                {
                                    "Name": "Domingo Leyba",
                                    "Team": "ARI"
                                },
                                {
                                    "Name": "Tzu-Wei Lin",
                                    "Team": "BOS"
                                },
                                {
                                    "Name": "Francisco Lindor",
                                    "Team": "CLE"
                                },
                                {
                                    "Name": "Francisco Liriano",
                                    "Team": "PIT"
                                },
                                {
                                    "Name": "Tim Locastro",
                                    "Team": "ARI"
                                },
                                {
                                    "Name": "Walker Lockett",
                                    "Team": "NYM"
                                },
                                {
                                    "Name": "Shed Long",
                                    "Team": "SEA"
                                },
                                {
                                    "Name": "Evan Longoria",
                                    "Team": "SFG"
                                },
                                {
                                    "Name": "Tim Lopes",
                                    "Team": "SEA"
                                },
                                {
                                    "Name": "Nicky Lopez",
                                    "Team": "KCR"
                                },
                                {
                                    "Name": "Pablo Lopez",
                                    "Team": "MIA"
                                },
                                {
                                    "Name": "Michael Lorenzen",
                                    "Team": "CIN"
                                },
                                {
                                    "Name": "Brandon Lowe",
                                    "Team": "TBR"
                                },
                                {
                                    "Name": "Nate Lowe",
                                    "Team": "TBR"
                                },
                                {
                                    "Name": "Joey Lucchesi",
                                    "Team": "SDP"
                                },
                                {
                                    "Name": "Jonathan Lucroy",
                                    "Team": "LAA"
                                },
                                {
                                    "Name": "Jonathan Lucroy",
                                    "Team": "CHC"
                                },
                                {
                                    "Name": "Dawel Lugo",
                                    "Team": "DET"
                                },
                                {
                                    "Name": "Seth Lugo",
                                    "Team": "NYM"
                                },
                                {
                                    "Name": "Jordan Luplow",
                                    "Team": "CLE"
                                },
                                {
                                    "Name": "Gavin Lux",
                                    "Team": "LAD"
                                },
                                {
                                    "Name": "Jordan Lyles",
                                    "Team": "PIT"
                                },
                                {
                                    "Name": "Jordan Lyles",
                                    "Team": "MIL"
                                },
                                {
                                    "Name": "Manny Machado",
                                    "Team": "SDP"
                                },
                                {
                                    "Name": "Kenta Maeda",
                                    "Team": "LAD"
                                },
                                {
                                    "Name": "Tyler Mahle",
                                    "Team": "CIN"
                                },
                                {
                                    "Name": "Luke Maile",
                                    "Team": "TOR"
                                },
                                {
                                    "Name": "Martin Maldonado",
                                    "Team": "KCR"
                                },
                                {
                                    "Name": "Martin Maldonado",
                                    "Team": "HOU"
                                },
                                {
                                    "Name": "Trey Mancini",
                                    "Team": "BAL"
                                },
                                {
                                    "Name": "Nick Margevicius",
                                    "Team": "SDP"
                                },
                                {
                                    "Name": "Manuel Margot",
                                    "Team": "SDP"
                                },
                                {
                                    "Name": "Jake Marisnick",
                                    "Team": "HOU"
                                },
                                {
                                    "Name": "Nick Markakis",
                                    "Team": "ATL"
                                },
                                {
                                    "Name": "German Marquez",
                                    "Team": "COL"
                                },
                                {
                                    "Name": "Ketel Marte",
                                    "Team": "ARI"
                                },
                                {
                                    "Name": "Starling Marte",
                                    "Team": "PIT"
                                },
                                {
                                    "Name": "Jason Martin",
                                    "Team": "PIT"
                                },
                                {
                                    "Name": "Leonys Martín",
                                    "Team": "CLE"
                                },
                                {
                                    "Name": "Richie Martin",
                                    "Team": "BAL"
                                },
                                {
                                    "Name": "Russell Martin",
                                    "Team": "LAD"
                                },
                                {
                                    "Name": "J.D. Martinez",
                                    "Team": "BOS"
                                },
                                {
                                    "Name": "Jose Martinez",
                                    "Team": "STL"
                                },
                                {
                                    "Name": "Nick Martini",
                                    "Team": "OAK"
                                },
                                {
                                    "Name": "Nick Martini",
                                    "Team": "SDP"
                                },
                                {
                                    "Name": "Jeff Mathis",
                                    "Team": "TEX"
                                },
                                {
                                    "Name": "Phil Maton",
                                    "Team": "SDP"
                                },
                                {
                                    "Name": "Steven Matz",
                                    "Team": "NYM"
                                },
                                {
                                    "Name": "Dustin May",
                                    "Team": "LAD"
                                },
                                {
                                    "Name": "Cameron Maybin",
                                    "Team": "NYY"
                                },
                                {
                                    "Name": "Jack Mayfield",
                                    "Team": "HOU"
                                },
                                {
                                    "Name": "Nomar Mazara",
                                    "Team": "TEX"
                                },
                                {
                                    "Name": "Ryan McBroom",
                                    "Team": "KCR"
                                },
                                {
                                    "Name": "Brian McCann",
                                    "Team": "ATL"
                                },
                                {
                                    "Name": "James McCann",
                                    "Team": "CHW"
                                },
                                {
                                    "Name": "Andrew McCutchen",
                                    "Team": "PHI"
                                },
                                {
                                    "Name": "Kyle McGowin",
                                    "Team": "WSN"
                                },
                                {
                                    "Name": "Reese McGuire",
                                    "Team": "TOR"
                                },
                                {
                                    "Name": "Brendan McKay",
                                    "Team": "TBR"
                                },
                                {
                                    "Name": "Billy McKinney",
                                    "Team": "TOR"
                                },
                                {
                                    "Name": "Ryan McMahon",
                                    "Team": "COL"
                                },
                                {
                                    "Name": "Jeff McNeil",
                                    "Team": "NYM"
                                },
                                {
                                    "Name": "Alex McRae",
                                    "Team": "PIT"
                                },
                                {
                                    "Name": "Austin Meadows",
                                    "Team": "TBR"
                                },
                                {
                                    "Name": "John Means",
                                    "Team": "BAL"
                                },
                                {
                                    "Name": "Erick Mejia",
                                    "Team": "KCR"
                                },
                                {
                                    "Name": "Francisco Mejia",
                                    "Team": "SDP"
                                },
                                {
                                    "Name": "Seth Mejias-Brean",
                                    "Team": "SDP"
                                },
                                {
                                    "Name": "Tim Melville",
                                    "Team": "COL"
                                },
                                {
                                    "Name": "Danny Mendick",
                                    "Team": "CHW"
                                },
                                {
                                    "Name": "Oscar Mercado",
                                    "Team": "CLE"
                                },
                                {
                                    "Name": "Jordy Mercer",
                                    "Team": "DET"
                                },
                                {
                                    "Name": "Whit Merrifield",
                                    "Team": "KCR"
                                },
                                {
                                    "Name": "Miles Mikolas",
                                    "Team": "STL"
                                },
                                {
                                    "Name": "Brad Miller",
                                    "Team": "CLE"
                                },
                                {
                                    "Name": "Brad Miller",
                                    "Team": "PHI"
                                },
                                {
                                    "Name": "Ian Miller",
                                    "Team": "MIN"
                                },
                                {
                                    "Name": "Alec Mills",
                                    "Team": "CHC"
                                },
                                {
                                    "Name": "Yadier Molina",
                                    "Team": "STL"
                                },
                                {
                                    "Name": "Yoan Moncada",
                                    "Team": "CHW"
                                },
                                {
                                    "Name": "Adalberto Mondesi",
                                    "Team": "KCR"
                                },
                                {
                                    "Name": "Mike Montgomery",
                                    "Team": "CHC"
                                },
                                {
                                    "Name": "Dylan Moore",
                                    "Team": "SEA"
                                },
                                {
                                    "Name": "Kendrys Morales",
                                    "Team": "OAK"
                                },
                                {
                                    "Name": "Kendrys Morales",
                                    "Team": "NYY"
                                },
                                {
                                    "Name": "Colin Moran",
                                    "Team": "PIT"
                                },
                                {
                                    "Name": "Mitch Moreland",
                                    "Team": "BOS"
                                },
                                {
                                    "Name": "Max Moroff",
                                    "Team": "CLE"
                                },
                                {
                                    "Name": "Logan Morrison",
                                    "Team": "PHI"
                                },
                                {
                                    "Name": "Mike Moustakas",
                                    "Team": "MIL"
                                },
                                {
                                    "Name": "Cedric Mullins",
                                    "Team": "BAL"
                                },
                                {
                                    "Name": "Max Muncy",
                                    "Team": "LAD"
                                },
                                {
                                    "Name": "Yairo Munoz",
                                    "Team": "STL"
                                },
                                {
                                    "Name": "Daniel Murphy",
                                    "Team": "COL"
                                },
                                {
                                    "Name": "John Ryan Murphy",
                                    "Team": "ARI"
                                },
                                {
                                    "Name": "Sean Murphy",
                                    "Team": "OAK"
                                },
                                {
                                    "Name": "Tom Murphy",
                                    "Team": "SEA"
                                },
                                {
                                    "Name": "Joe Musgrove",
                                    "Team": "PIT"
                                },
                                {
                                    "Name": "Wil Myers",
                                    "Team": "SDP"
                                },
                                {
                                    "Name": "Tyler Naquin",
                                    "Team": "CLE"
                                },
                                {
                                    "Name": "Omar Narvaez",
                                    "Team": "SEA"
                                },
                                {
                                    "Name": "Josh Naylor",
                                    "Team": "SDP"
                                },
                                {
                                    "Name": "Kristopher Negron",
                                    "Team": "SEA"
                                },
                                {
                                    "Name": "Kristopher Negron",
                                    "Team": "LAD"
                                },
                                {
                                    "Name": "Sheldon Neuse",
                                    "Team": "OAK"
                                },
                                {
                                    "Name": "Kevin Newman",
                                    "Team": "PIT"
                                },
                                {
                                    "Name": "Tomas Nido",
                                    "Team": "NYM"
                                },
                                {
                                    "Name": "Brandon Nimmo",
                                    "Team": "NYM"
                                },
                                {
                                    "Name": "Hector Noesi",
                                    "Team": "MIA"
                                },
                                {
                                    "Name": "Aaron Nola",
                                    "Team": "PHI"
                                },
                                {
                                    "Name": "Austin Nola",
                                    "Team": "SEA"
                                },
                                {
                                    "Name": "Jake Noll",
                                    "Team": "WSN"
                                },
                                {
                                    "Name": "Daniel Norris",
                                    "Team": "DET"
                                },
                                {
                                    "Name": "Jacob Nottingham",
                                    "Team": "MIL"
                                },
                                {
                                    "Name": "Dom Nunez",
                                    "Team": "COL"
                                },
                                {
                                    "Name": "Eduardo Nunez",
                                    "Team": "BOS"
                                },
                                {
                                    "Name": "Renato Nunez",
                                    "Team": "BAL"
                                },
                                {
                                    "Name": "Peter O'Brien",
                                    "Team": "MIA"
                                },
                                {
                                    "Name": "Brian O'Grady",
                                    "Team": "CIN"
                                },
                                {
                                    "Name": "Ryan O'Hearn",
                                    "Team": "KCR"
                                },
                                {
                                    "Name": "Tyler O'Neill",
                                    "Team": "STL"
                                },
                                {
                                    "Name": "Rougned Odor",
                                    "Team": "TEX"
                                },
                                {
                                    "Name": "Shohei Ohtani",
                                    "Team": "LAA"
                                },
                                {
                                    "Name": "Matt Olson",
                                    "Team": "OAK"
                                },
                                {
                                    "Name": "Rafael Ortega",
                                    "Team": "ATL"
                                },
                                {
                                    "Name": "Jose Osuna",
                                    "Team": "PIT"
                                },
                                {
                                    "Name": "Chris Owings",
                                    "Team": "KCR"
                                },
                                {
                                    "Name": "Chris Owings",
                                    "Team": "BOS"
                                },
                                {
                                    "Name": "Marcell Ozuna",
                                    "Team": "STL"
                                },
                                {
                                    "Name": "Chris Paddack",
                                    "Team": "SDP"
                                },
                                {
                                    "Name": "Daniel Palka",
                                    "Team": "CHW"
                                },
                                {
                                    "Name": "Joe Panik",
                                    "Team": "SFG"
                                },
                                {
                                    "Name": "Joe Panik",
                                    "Team": "NYM"
                                },
                                {
                                    "Name": "Gerardo Parra",
                                    "Team": "SFG"
                                },
                                {
                                    "Name": "Gerardo Parra",
                                    "Team": "WSN"
                                },
                                {
                                    "Name": "Steve Pearce",
                                    "Team": "BOS"
                                },
                                {
                                    "Name": "Joc Pederson",
                                    "Team": "LAD"
                                },
                                {
                                    "Name": "Dustin Pedroia",
                                    "Team": "BOS"
                                },
                                {
                                    "Name": "Hunter Pence",
                                    "Team": "TEX"
                                },
                                {
                                    "Name": "David Peralta",
                                    "Team": "ARI"
                                },
                                {
                                    "Name": "Freddy Peralta",
                                    "Team": "MIL"
                                },
                                {
                                    "Name": "Jose Peraza",
                                    "Team": "CIN"
                                },
                                {
                                    "Name": "Luis Perdomo",
                                    "Team": "SDP"
                                },
                                {
                                    "Name": "Hernan Perez",
                                    "Team": "MIL"
                                },
                                {
                                    "Name": "Michael Perez",
                                    "Team": "TBR"
                                },
                                {
                                    "Name": "Roberto Perez",
                                    "Team": "CLE"
                                },
                                {
                                    "Name": "Dustin Peterson",
                                    "Team": "DET"
                                },
                                {
                                    "Name": "Jace Peterson",
                                    "Team": "BAL"
                                },
                                {
                                    "Name": "Tommy Pham",
                                    "Team": "TBR"
                                },
                                {
                                    "Name": "Josh Phegley",
                                    "Team": "OAK"
                                },
                                {
                                    "Name": "Brett Phillips",
                                    "Team": "KCR"
                                },
                                {
                                    "Name": "Kevin Pillar",
                                    "Team": "TOR"
                                },
                                {
                                    "Name": "Kevin Pillar",
                                    "Team": "SFG"
                                },
                                {
                                    "Name": "Manny Pina",
                                    "Team": "MIL"
                                },
                                {
                                    "Name": "Chad Pinder",
                                    "Team": "OAK"
                                },
                                {
                                    "Name": "Jose Pirela",
                                    "Team": "PHI"
                                },
                                {
                                    "Name": "Stephen Piscotty",
                                    "Team": "OAK"
                                },
                                {
                                    "Name": "Nick Pivetta",
                                    "Team": "PHI"
                                },
                                {
                                    "Name": "Kevin Plawecki",
                                    "Team": "CLE"
                                },
                                {
                                    "Name": "Gregory Polanco",
                                    "Team": "PIT"
                                },
                                {
                                    "Name": "Jorge Polanco",
                                    "Team": "MIN"
                                },
                                {
                                    "Name": "A.J. Pollock",
                                    "Team": "LAD"
                                },
                                {
                                    "Name": "Buster Posey",
                                    "Team": "SFG"
                                },
                                {
                                    "Name": "Martin Prado",
                                    "Team": "MIA"
                                },
                                {
                                    "Name": "David Price",
                                    "Team": "BOS"
                                },
                                {
                                    "Name": "Jurickson Profar",
                                    "Team": "OAK"
                                },
                                {
                                    "Name": "Cesar Puello",
                                    "Team": "LAA"
                                },
                                {
                                    "Name": "Cesar Puello",
                                    "Team": "MIA"
                                },
                                {
                                    "Name": "Yasiel Puig",
                                    "Team": "CIN"
                                },
                                {
                                    "Name": "Yasiel Puig",
                                    "Team": "CLE"
                                },
                                {
                                    "Name": "Albert Pujols",
                                    "Team": "LAA"
                                },
                                {
                                    "Name": "Cal Quantrill",
                                    "Team": "SDP"
                                },
                                {
                                    "Name": "Roman Quinn",
                                    "Team": "PHI"
                                },
                                {
                                    "Name": "Jose Quintana",
                                    "Team": "CHC"
                                },
                                {
                                    "Name": "Hanley Ramirez",
                                    "Team": "CLE"
                                },
                                {
                                    "Name": "Harold Ramirez",
                                    "Team": "MIA"
                                },
                                {
                                    "Name": "Jose Ramirez",
                                    "Team": "CLE"
                                },
                                {
                                    "Name": "Wilson Ramos",
                                    "Team": "NYM"
                                },
                                {
                                    "Name": "Rangel Ravelo",
                                    "Team": "STL"
                                },
                                {
                                    "Name": "Robbie Ray",
                                    "Team": "ARI"
                                },
                                {
                                    "Name": "Raudy Read",
                                    "Team": "WSN"
                                },
                                {
                                    "Name": "J.T. Realmuto",
                                    "Team": "PHI"
                                },
                                {
                                    "Name": "Josh Reddick",
                                    "Team": "HOU"
                                },
                                {
                                    "Name": "AJ Reed",
                                    "Team": "CHW"
                                },
                                {
                                    "Name": "Anthony Rendon",
                                    "Team": "WSN"
                                },
                                {
                                    "Name": "Hunter Renfroe",
                                    "Team": "SDP"
                                },
                                {
                                    "Name": "Luis Rengifo",
                                    "Team": "LAA"
                                },
                                {
                                    "Name": "Franmil Reyes",
                                    "Team": "SDP"
                                },
                                {
                                    "Name": "Franmil Reyes",
                                    "Team": "CLE"
                                },
                                {
                                    "Name": "Pablo Reyes",
                                    "Team": "PIT"
                                },
                                {
                                    "Name": "Victor Reyes",
                                    "Team": "DET"
                                },
                                {
                                    "Name": "Bryan Reynolds",
                                    "Team": "PIT"
                                },
                                {
                                    "Name": "Mark Reynolds",
                                    "Team": "COL"
                                },
                                {
                                    "Name": "Trevor Richards",
                                    "Team": "MIA"
                                },
                                {
                                    "Name": "Joey Rickard",
                                    "Team": "BAL"
                                },
                                {
                                    "Name": "Joey Rickard",
                                    "Team": "SFG"
                                },
                                {
                                    "Name": "JT Riddle",
                                    "Team": "MIA"
                                },
                                {
                                    "Name": "Austin Riley",
                                    "Team": "ATL"
                                },
                                {
                                    "Name": "Edwin Rios",
                                    "Team": "LAD"
                                },
                                {
                                    "Name": "Rene Rivera",
                                    "Team": "NYM"
                                },
                                {
                                    "Name": "Yadiel Rivera",
                                    "Team": "MIA"
                                },
                                {
                                    "Name": "Anthony Rizzo",
                                    "Team": "CHC"
                                },
                                {
                                    "Name": "Tanner Roark",
                                    "Team": "CIN"
                                },
                                {
                                    "Name": "Daniel Robertson",
                                    "Team": "TBR"
                                },
                                {
                                    "Name": "Drew Robinson",
                                    "Team": "STL"
                                },
                                {
                                    "Name": "Victor Robles",
                                    "Team": "WSN"
                                },
                                {
                                    "Name": "Brendan Rodgers",
                                    "Team": "COL"
                                },
                                {
                                    "Name": "Dereck Rodriguez",
                                    "Team": "SFG"
                                },
                                {
                                    "Name": "Ronny Rodriguez",
                                    "Team": "DET"
                                },
                                {
                                    "Name": "Sean Rodriguez",
                                    "Team": "PHI"
                                },
                                {
                                    "Name": "Jake Rogers",
                                    "Team": "DET"
                                },
                                {
                                    "Name": "Josh Rojas",
                                    "Team": "ARI"
                                },
                                {
                                    "Name": "Miguel Rojas",
                                    "Team": "MIA"
                                },
                                {
                                    "Name": "Austin Romine",
                                    "Team": "NYY"
                                },
                                {
                                    "Name": "Jose Rondon",
                                    "Team": "CHW"
                                },
                                {
                                    "Name": "Amed Rosario",
                                    "Team": "NYM"
                                },
                                {
                                    "Name": "Eddie Rosario",
                                    "Team": "MIN"
                                },
                                {
                                    "Name": "Joe Ross",
                                    "Team": "WSN"
                                },
                                {
                                    "Name": "Rio Ruiz",
                                    "Team": "BAL"
                                },
                                {
                                    "Name": "Addison Russell",
                                    "Team": "CHC"
                                },
                                {
                                    "Name": "Hyun-Jin Ryu",
                                    "Team": "LAD"
                                },
                                {
                                    "Name": "Tyler Saladino",
                                    "Team": "MIL"
                                },
                                {
                                    "Name": "Jeff Samardzija",
                                    "Team": "SFG"
                                },
                                {
                                    "Name": "Adrian Sanchez",
                                    "Team": "WSN"
                                },
                                {
                                    "Name": "Anibal Sanchez",
                                    "Team": "WSN"
                                },
                                {
                                    "Name": "Gary Sanchez",
                                    "Team": "NYY"
                                },
                                {
                                    "Name": "Yolmer Sanchez",
                                    "Team": "CHW"
                                },
                                {
                                    "Name": "Pablo Sandoval",
                                    "Team": "SFG"
                                },
                                {
                                    "Name": "Miguel Sano",
                                    "Team": "MIN"
                                },
                                {
                                    "Name": "Carlos Santana",
                                    "Team": "CLE"
                                },
                                {
                                    "Name": "Danny Santana",
                                    "Team": "TEX"
                                },
                                {
                                    "Name": "Dennis Santana",
                                    "Team": "LAD"
                                },
                                {
                                    "Name": "Domingo Santana",
                                    "Team": "SEA"
                                },
                                {
                                    "Name": "Anthony Santander",
                                    "Team": "BAL"
                                },
                                {
                                    "Name": "Scott Schebler",
                                    "Team": "CIN"
                                },
                                {
                                    "Name": "Max Scherzer",
                                    "Team": "WSN"
                                },
                                {
                                    "Name": "Jonathan Schoop",
                                    "Team": "MIN"
                                },
                                {
                                    "Name": "Kyle Schwarber",
                                    "Team": "CHC"
                                },
                                {
                                    "Name": "Frank Schwindel",
                                    "Team": "KCR"
                                },
                                {
                                    "Name": "Corey Seager",
                                    "Team": "LAD"
                                },
                                {
                                    "Name": "Kyle Seager",
                                    "Team": "SEA"
                                },
                                {
                                    "Name": "Jean Segura",
                                    "Team": "PHI"
                                },
                                {
                                    "Name": "Marcus Semien",
                                    "Team": "OAK"
                                },
                                {
                                    "Name": "Antonio Senzatela",
                                    "Team": "COL"
                                },
                                {
                                    "Name": "Nick Senzel",
                                    "Team": "CIN"
                                },
                                {
                                    "Name": "Pedro Severino",
                                    "Team": "BAL"
                                },
                                {
                                    "Name": "Chris Shaw",
                                    "Team": "SFG"
                                },
                                {
                                    "Name": "Travis Shaw",
                                    "Team": "MIL"
                                },
                                {
                                    "Name": "JB Shuck",
                                    "Team": "PIT"
                                },
                                {
                                    "Name": "Magneuris Sierra",
                                    "Team": "MIA"
                                },
                                {
                                    "Name": "Andrelton Simmons",
                                    "Team": "LAA"
                                },
                                {
                                    "Name": "Lucas Sims",
                                    "Team": "CIN"
                                },
                                {
                                    "Name": "Chance Sisco",
                                    "Team": "BAL"
                                },
                                {
                                    "Name": "Matt Skole",
                                    "Team": "CHW"
                                },
                                {
                                    "Name": "Austin Slater",
                                    "Team": "SFG"
                                },
                                {
                                    "Name": "Caleb Smith",
                                    "Team": "MIA"
                                },
                                {
                                    "Name": "Dominic Smith",
                                    "Team": "NYM"
                                },
                                {
                                    "Name": "Dwight Smith Jr.",
                                    "Team": "BAL"
                                },
                                {
                                    "Name": "Kevan Smith",
                                    "Team": "LAA"
                                },
                                {
                                    "Name": "Mallex Smith",
                                    "Team": "SEA"
                                },
                                {
                                    "Name": "Will Smith",
                                    "Team": "SFG"
                                },
                                {
                                    "Name": "Will Smith",
                                    "Team": "LAD"
                                },
                                {
                                    "Name": "Justin Smoak",
                                    "Team": "TOR"
                                },
                                {
                                    "Name": "Eric Sogard",
                                    "Team": "TOR"
                                },
                                {
                                    "Name": "Eric Sogard",
                                    "Team": "TBR"
                                },
                                {
                                    "Name": "Nick Solak",
                                    "Team": "TEX"
                                },
                                {
                                    "Name": "Donovan Solano",
                                    "Team": "SFG"
                                },
                                {
                                    "Name": "Yangervis Solarte",
                                    "Team": "SFG"
                                },
                                {
                                    "Name": "Jorge Soler",
                                    "Team": "KCR"
                                },
                                {
                                    "Name": "Mike Soroka",
                                    "Team": "ATL"
                                },
                                {
                                    "Name": "Edmundo Sosa",
                                    "Team": "STL"
                                },
                                {
                                    "Name": "Gregory Soto",
                                    "Team": "DET"
                                },
                                {
                                    "Name": "Juan Soto",
                                    "Team": "WSN"
                                },
                                {
                                    "Name": "Cory Spangenberg",
                                    "Team": "MIL"
                                },
                                {
                                    "Name": "George Springer",
                                    "Team": "HOU"
                                },
                                {
                                    "Name": "Jacob Stallings",
                                    "Team": "PIT"
                                },
                                {
                                    "Name": "Eric Stamets",
                                    "Team": "CLE"
                                },
                                {
                                    "Name": "Giancarlo Stanton",
                                    "Team": "NYY"
                                },
                                {
                                    "Name": "Bubba Starling",
                                    "Team": "KCR"
                                },
                                {
                                    "Name": "Max Stassi",
                                    "Team": "HOU"
                                },
                                {
                                    "Name": "Max Stassi",
                                    "Team": "LAA"
                                },
                                {
                                    "Name": "Andrew Stevenson",
                                    "Team": "WSN"
                                },
                                {
                                    "Name": "Brock Stewart",
                                    "Team": "LAD"
                                },
                                {
                                    "Name": "Christin Stewart",
                                    "Team": "DET"
                                },
                                {
                                    "Name": "DJ Stewart",
                                    "Team": "BAL"
                                },
                                {
                                    "Name": "Trevor Story",
                                    "Team": "COL"
                                },
                                {
                                    "Name": "Matt Strahm",
                                    "Team": "SDP"
                                },
                                {
                                    "Name": "Stephen Strasburg",
                                    "Team": "WSN"
                                },
                                {
                                    "Name": "Myles Straw",
                                    "Team": "HOU"
                                },
                                {
                                    "Name": "Ross Stripling",
                                    "Team": "LAD"
                                },
                                {
                                    "Name": "Marcus Stroman",
                                    "Team": "NYM"
                                },
                                {
                                    "Name": "Garrett Stubbs",
                                    "Team": "HOU"
                                },
                                {
                                    "Name": "Eugenio Suarez",
                                    "Team": "CIN"
                                },
                                {
                                    "Name": "Ranger Suarez",
                                    "Team": "PHI"
                                },
                                {
                                    "Name": "Jesus Sucre",
                                    "Team": "BAL"
                                },
                                {
                                    "Name": "Kurt Suzuki",
                                    "Team": "WSN"
                                },
                                {
                                    "Name": "Dansby Swanson",
                                    "Team": "ATL"
                                },
                                {
                                    "Name": "Blake Swihart",
                                    "Team": "BOS"
                                },
                                {
                                    "Name": "Blake Swihart",
                                    "Team": "ARI"
                                },
                                {
                                    "Name": "Noah Syndergaard",
                                    "Team": "NYM"
                                },
                                {
                                    "Name": "Jameson Taillon",
                                    "Team": "PIT"
                                },
                                {
                                    "Name": "Raimel Tapia",
                                    "Team": "COL"
                                },
                                {
                                    "Name": "Fernando Tatis Jr.",
                                    "Team": "SDP"
                                },
                                {
                                    "Name": "Mike Tauchman",
                                    "Team": "NYY"
                                },
                                {
                                    "Name": "Beau Taylor",
                                    "Team": "OAK"
                                },
                                {
                                    "Name": "Chris Taylor",
                                    "Team": "LAD"
                                },
                                {
                                    "Name": "Michael A. Taylor",
                                    "Team": "WSN"
                                },
                                {
                                    "Name": "Tyrone Taylor",
                                    "Team": "MIL"
                                },
                                {
                                    "Name": "Julio Teheran",
                                    "Team": "ATL"
                                },
                                {
                                    "Name": "Rowdy Tellez",
                                    "Team": "TOR"
                                },
                                {
                                    "Name": "Matt Thaiss",
                                    "Team": "LAA"
                                },
                                {
                                    "Name": "Eric Thames",
                                    "Team": "MIL"
                                },
                                {
                                    "Name": "Lane Thomas",
                                    "Team": "STL"
                                },
                                {
                                    "Name": "Trent Thornton",
                                    "Team": "TOR"
                                },
                                {
                                    "Name": "Charlie Tilson",
                                    "Team": "CHW"
                                },
                                {
                                    "Name": "Jesus Tinoco",
                                    "Team": "COL"
                                },
                                {
                                    "Name": "Abraham Toro",
                                    "Team": "HOU"
                                },
                                {
                                    "Name": "Luis Torrens",
                                    "Team": "SDP"
                                },
                                {
                                    "Name": "Gleyber Torres",
                                    "Team": "NYY"
                                },
                                {
                                    "Name": "Ronald Torreyes",
                                    "Team": "MIN"
                                },
                                {
                                    "Name": "Wilfredo Tovar",
                                    "Team": "LAA"
                                },
                                {
                                    "Name": "Sam Travis",
                                    "Team": "BOS"
                                },
                                {
                                    "Name": "Jose Trevino",
                                    "Team": "TEX"
                                },
                                {
                                    "Name": "Mike Trout",
                                    "Team": "LAA"
                                },
                                {
                                    "Name": "Mark Trumbo",
                                    "Team": "BAL"
                                },
                                {
                                    "Name": "Cole Tucker",
                                    "Team": "PIT"
                                },
                                {
                                    "Name": "Kyle Tucker",
                                    "Team": "HOU"
                                },
                                {
                                    "Name": "Troy Tulowitzki",
                                    "Team": "NYY"
                                },
                                {
                                    "Name": "Justin Turner",
                                    "Team": "LAD"
                                },
                                {
                                    "Name": "Trea Turner",
                                    "Team": "WSN"
                                },
                                {
                                    "Name": "Justin Upton",
                                    "Team": "LAA"
                                },
                                {
                                    "Name": "Richard Urena",
                                    "Team": "TOR"
                                },
                                {
                                    "Name": "Julio Urias",
                                    "Team": "LAD"
                                },
                                {
                                    "Name": "Luis Urias",
                                    "Team": "SDP"
                                },
                                {
                                    "Name": "Gio Urshela",
                                    "Team": "NYY"
                                },
                                {
                                    "Name": "Pat Valaika",
                                    "Team": "COL"
                                },
                                {
                                    "Name": "Breyvic Valera",
                                    "Team": "NYY"
                                },
                                {
                                    "Name": "Breyvic Valera",
                                    "Team": "TOR"
                                },
                                {
                                    "Name": "Josh VanMeter",
                                    "Team": "CIN"
                                },
                                {
                                    "Name": "Ildemaro Vargas",
                                    "Team": "ARI"
                                },
                                {
                                    "Name": "Jason Vargas",
                                    "Team": "NYM"
                                },
                                {
                                    "Name": "Jason Vargas",
                                    "Team": "PHI"
                                },
                                {
                                    "Name": "Christian Vazquez",
                                    "Team": "BOS"
                                },
                                {
                                    "Name": "Vince Velasquez",
                                    "Team": "PHI"
                                },
                                {
                                    "Name": "Andrew Velazquez",
                                    "Team": "TBR"
                                },
                                {
                                    "Name": "Andrew Velazquez",
                                    "Team": "CLE"
                                },
                                {
                                    "Name": "Alex Verdugo",
                                    "Team": "LAD"
                                },
                                {
                                    "Name": "Jonathan Villar",
                                    "Team": "BAL"
                                },
                                {
                                    "Name": "Meibrys Viloria",
                                    "Team": "KCR"
                                },
                                {
                                    "Name": "Daniel Vogelbach",
                                    "Team": "SEA"
                                },
                                {
                                    "Name": "Stephen Vogt",
                                    "Team": "SFG"
                                },
                                {
                                    "Name": "Luke Voit",
                                    "Team": "NYY"
                                },
                                {
                                    "Name": "Austin Voth",
                                    "Team": "WSN"
                                },
                                {
                                    "Name": "Joey Votto",
                                    "Team": "CIN"
                                },
                                {
                                    "Name": "Michael Wacha",
                                    "Team": "STL"
                                },
                                {
                                    "Name": "LaMonte Wade Jr",
                                    "Team": "MIN"
                                },
                                {
                                    "Name": "Tyler Wade",
                                    "Team": "NYY"
                                },
                                {
                                    "Name": "Adam Wainwright",
                                    "Team": "STL"
                                },
                                {
                                    "Name": "Christian Walker",
                                    "Team": "ARI"
                                },
                                {
                                    "Name": "Neil Walker",
                                    "Team": "MIA"
                                },
                                {
                                    "Name": "Chad Wallach",
                                    "Team": "MIA"
                                },
                                {
                                    "Name": "Jared Walsh",
                                    "Team": "LAA"
                                },
                                {
                                    "Name": "Donovan Walton",
                                    "Team": "SEA"
                                },
                                {
                                    "Name": "Taylor Ward",
                                    "Team": "LAA"
                                },
                                {
                                    "Name": "Luke Weaver",
                                    "Team": "ARI"
                                },
                                {
                                    "Name": "Logan Webb",
                                    "Team": "SFG"
                                },
                                {
                                    "Name": "Joey Wendle",
                                    "Team": "TBR"
                                },
                                {
                                    "Name": "Zack Wheeler",
                                    "Team": "NYM"
                                },
                                {
                                    "Name": "Tyler White",
                                    "Team": "HOU"
                                },
                                {
                                    "Name": "Tyler White",
                                    "Team": "LAD"
                                },
                                {
                                    "Name": "Matt Wieters",
                                    "Team": "STL"
                                },
                                {
                                    "Name": "Aaron Wilkerson",
                                    "Team": "MIL"
                                },
                                {
                                    "Name": "Stevie Wilkerson",
                                    "Team": "BAL"
                                },
                                {
                                    "Name": "Mason Williams",
                                    "Team": "BAL"
                                },
                                {
                                    "Name": "Nick Williams",
                                    "Team": "PHI"
                                },
                                {
                                    "Name": "Trevor Williams",
                                    "Team": "PIT"
                                },
                                {
                                    "Name": "Mac Williamson",
                                    "Team": "SFG"
                                },
                                {
                                    "Name": "Mac Williamson",
                                    "Team": "SEA"
                                },
                                {
                                    "Name": "Bobby Wilson",
                                    "Team": "DET"
                                },
                                {
                                    "Name": "Bryse Wilson",
                                    "Team": "ATL"
                                },
                                {
                                    "Name": "Jesse Winker",
                                    "Team": "CIN"
                                },
                                {
                                    "Name": "Patrick Wisdom",
                                    "Team": "TEX"
                                },
                                {
                                    "Name": "Tony Wolters",
                                    "Team": "COL"
                                },
                                {
                                    "Name": "Kean Wong",
                                    "Team": "TBR"
                                },
                                {
                                    "Name": "Kolten Wong",
                                    "Team": "STL"
                                },
                                {
                                    "Name": "Alex Wood",
                                    "Team": "CIN"
                                },
                                {
                                    "Name": "Brandon Woodruff",
                                    "Team": "MIL"
                                },
                                {
                                    "Name": "Austin Wynns",
                                    "Team": "BAL"
                                },
                                {
                                    "Name": "Jordan Yamamoto",
                                    "Team": "MIA"
                                },
                                {
                                    "Name": "Mike Yastrzemski",
                                    "Team": "SFG"
                                },
                                {
                                    "Name": "Christian Yelich",
                                    "Team": "MIL"
                                },
                                {
                                    "Name": "Alex Young",
                                    "Team": "ARI"
                                },
                                {
                                    "Name": "Mark Zagunis",
                                    "Team": "CHC"
                                },
                                {
                                    "Name": "Seby Zavala",
                                    "Team": "CHW"
                                },
                                {
                                    "Name": "Ryan Zimmerman",
                                    "Team": "WSN"
                                },
                                {
                                    "Name": "Ben Zobrist",
                                    "Team": "CHC"
                                },
                                {
                                    "Name": "Mike Zunino",
                                    "Team": "TBR"
                                }
                            ]
                        },
                        "text/html": [
                            "<table>",
                            "<tr><th>Name</th><th>Team</th></tr>",
                            "<tr><td>José Abreu</td><td>CHW</td></tr>",
                            "<tr><td>Ronald Acuna Jr.</td><td>ATL</td></tr>",
                            "<tr><td>Cristhian Adames</td><td>SFG</td></tr>",
                            "<tr><td>Willy Adames</td><td>TBR</td></tr>",
                            "<tr><td>Matt Adams</td><td>WSN</td></tr>",
                            "<tr><td>Ehire Adrianza</td><td>MIN</td></tr>",
                            "<tr><td>Dario Agrazal</td><td>PIT</td></tr>",
                            "<tr><td>Jesus Aguilar</td><td>MIL</td></tr>",
                            "<tr><td>Jesus Aguilar</td><td>TBR</td></tr>",
                            "<tr><td>Nick Ahmed</td><td>ARI</td></tr>",
                            "<tr><td>R.J. Alaniz</td><td>CIN</td></tr>",
                            "<tr><td>Hanser Alberto</td><td>BAL</td></tr>",
                            "<tr><td>Ozzie Albies</td><td>ATL</td></tr>",
                            "<tr><td>Sandy Alcantara</td><td>MIA</td></tr>",
                            "<tr><td>Jorge Alfaro</td><td>MIA</td></tr>",
                            "<tr><td>Anthony Alford</td><td>TOR</td></tr>",
                            "<tr><td>Austin Allen</td><td>SDP</td></tr>",
                            "<tr><td>Greg Allen</td><td>CLE</td></tr>",
                            "<tr><td>Logan Allen</td><td>SDP</td></tr>",
                            "<tr><td>Abraham Almonte</td><td>ARI</td></tr>",
                            "<tr><td>Albert Almora</td><td>CHC</td></tr>",
                            "<tr><td>Pete Alonso</td><td>NYM</td></tr>",
                            "<tr><td>Yonder Alonso</td><td>CHW</td></tr>",
                            "<tr><td>Yonder Alonso</td><td>COL</td></tr>",
                            "<tr><td>Aaron Altherr</td><td>PHI</td></tr>",
                            "<tr><td>Aaron Altherr</td><td>NYM</td></tr>",
                            "<tr><td>Jose Altuve</td><td>HOU</td></tr>",
                            "<tr><td>Yordan Álvarez</td><td>HOU</td></tr>",
                            "<tr><td>Brett Anderson</td><td>OAK</td></tr>",
                            "<tr><td>Brian Anderson</td><td>MIA</td></tr>",
                            "<tr><td>Chase Anderson</td><td>MIL</td></tr>",
                            "<tr><td>Shaun Anderson</td><td>SFG</td></tr>",
                            "<tr><td>Tim Anderson</td><td>CHW</td></tr>",
                            "<tr><td>Tyler Anderson</td><td>COL</td></tr>",
                            "<tr><td>Elvis Andrus</td><td>TEX</td></tr>",
                            "<tr><td>Miguel Andujar</td><td>NYY</td></tr>",
                            "<tr><td>Aristides Aquino</td><td>CIN</td></tr>",
                            "<tr><td>Chris Archer</td><td>PIT</td></tr>",
                            "<tr><td>Orlando Arcia</td><td>MIL</td></tr>",
                            "<tr><td>Nolan Arenado</td><td>COL</td></tr>",
                            "<tr><td>Randy Arozarena</td><td>STL</td></tr>",
                            "<tr><td>Luis Arraez</td><td>MIN</td></tr>",
                            "<tr><td>Jake Arrieta</td><td>PHI</td></tr>",
                            "<tr><td>Christian Arroyo</td><td>TBR</td></tr>",
                            "<tr><td>Humberto Arteaga</td><td>KCR</td></tr>",
                            "<tr><td>Willians Astudillo</td><td>MIN</td></tr>",
                            "<tr><td>Tyler Austin</td><td>MIN</td></tr>",
                            "<tr><td>Tyler Austin</td><td>SFG</td></tr>",
                            "<tr><td>Tyler Austin</td><td>MIL</td></tr>",
                            "<tr><td>Abiatal Avelino</td><td>SFG</td></tr>",
                            "<tr><td>Alex Avila</td><td>ARI</td></tr>",
                            "<tr><td>Harrison Bader</td><td>STL</td></tr>",
                            "<tr><td>Javier Baez</td><td>CHC</td></tr>",
                            "<tr><td>Homer Bailey</td><td>OAK</td></tr>",
                            "<tr><td>Austin Barnes</td><td>LAD</td></tr>",
                            "<tr><td>Tucker Barnhart</td><td>CIN</td></tr>",
                            "<tr><td>Steven Baron</td><td>PIT</td></tr>",
                            "<tr><td>Franklin Barreto</td><td>OAK</td></tr>",
                            "<tr><td>Trevor Bauer</td><td>CLE</td></tr>",
                            "<tr><td>Trevor Bauer</td><td>CIN</td></tr>",
                            "<tr><td>Jake Bauers</td><td>CLE</td></tr>",
                            "<tr><td>Matt Beaty</td><td>LAD</td></tr>",
                            "<tr><td>Gordon Beckham</td><td>DET</td></tr>",
                            "<tr><td>Tim Beckham</td><td>SEA</td></tr>",
                            "<tr><td>Tyler Beede</td><td>SFG</td></tr>",
                            "<tr><td>Josh Bell</td><td>PIT</td></tr>",
                            "<tr><td>Cody Bellinger</td><td>LAD</td></tr>",
                            "<tr><td>Brandon Belt</td><td>SFG</td></tr>",
                            "<tr><td>Anthony Bemboom</td><td>TBR</td></tr>",
                            "<tr><td>Anthony Bemboom</td><td>LAA</td></tr>",
                            "<tr><td>Andrew Benintendi</td><td>BOS</td></tr>",
                            "<tr><td>Jon Berti</td><td>MIA</td></tr>",
                            "<tr><td>Mookie Betts</td><td>BOS</td></tr>",
                            "<tr><td>Bo Bichette</td><td>TOR</td></tr>",
                            "<tr><td>Cavan Biggio</td><td>TOR</td></tr>",
                            "<tr><td>Greg Bird</td><td>NYY</td></tr>",
                            "<tr><td>Braden Bishop</td><td>SEA</td></tr>",
                            "<tr><td>Charlie Blackmon</td><td>COL</td></tr>",
                            "<tr><td>Alex Blandino</td><td>CIN</td></tr>",
                            "<tr><td>Xander Bogaerts</td><td>BOS</td></tr>",
                            "<tr><td>Skye Bolt</td><td>OAK</td></tr>",
                            "<tr><td>Jorge Bonifacio</td><td>KCR</td></tr>",
                            "<tr><td>David Bote</td><td>CHC</td></tr>",
                            "<tr><td>Justin Bour</td><td>LAA</td></tr>",
                            "<tr><td>Peter Bourjos</td><td>LAA</td></tr>",
                            "<tr><td>Matthew Boyd</td><td>DET</td></tr>",
                            "<tr><td>Brad Brach</td><td>CHC</td></tr>",
                            "<tr><td>Bobby Bradley</td><td>CLE</td></tr>",
                            "<tr><td>Jackie Bradley Jr.</td><td>BOS</td></tr>",
                            "<tr><td>Michael Brantley</td><td>HOU</td></tr>",
                            "<tr><td>Steven Brault</td><td>PIT</td></tr>",
                            "<tr><td>Ryan Braun</td><td>MIL</td></tr>",
                            "<tr><td>John Brebbia</td><td>STL</td></tr>",
                            "<tr><td>Alex Bregman</td><td>HOU</td></tr>",
                            "<tr><td>Lewis Brinson</td><td>MIA</td></tr>",
                            "<tr><td>Socrates Brito</td><td>TOR</td></tr>",
                            "<tr><td>Mike Brosseau</td><td>TBR</td></tr>",
                            "<tr><td>Seth Brown</td><td>OAK</td></tr>",
                            "<tr><td>Keon Broxton</td><td>BAL</td></tr>",
                            "<tr><td>Keon Broxton</td><td>SEA</td></tr>",
                            "<tr><td>Keon Broxton</td><td>NYM</td></tr>",
                            "<tr><td>Jay Bruce</td><td>SEA</td></tr>",
                            "<tr><td>Jay Bruce</td><td>PHI</td></tr>",
                            "<tr><td>Kris Bryant</td><td>CHC</td></tr>",
                            "<tr><td>Walker Buehler</td><td>LAD</td></tr>",
                            "<tr><td>Madison Bumgarner</td><td>SFG</td></tr>",
                            "<tr><td>Corbin Burnes</td><td>MIL</td></tr>",
                            "<tr><td>Drew Butera</td><td>COL</td></tr>",
                            "<tr><td>Byron Buxton</td><td>MIN</td></tr>",
                            "<tr><td>Asdrubal Cabrera</td><td>TEX</td></tr>",
                            "<tr><td>Asdrubal Cabrera</td><td>WSN</td></tr>",
                            "<tr><td>Melky Cabrera</td><td>PIT</td></tr>",
                            "<tr><td>Miguel Cabrera</td><td>DET</td></tr>",
                            "<tr><td>Trevor Cahill</td><td>LAA</td></tr>",
                            "<tr><td>Lorenzo Cain</td><td>MIL</td></tr>",
                            "<tr><td>Kole Calhoun</td><td>LAA</td></tr>",
                            "<tr><td>Willie Calhoun</td><td>TEX</td></tr>",
                            "<tr><td>Johan Camargo</td><td>ATL</td></tr>",
                            "<tr><td>Jeimer Candelario</td><td>DET</td></tr>",
                            "<tr><td>Mark Canha</td><td>OAK</td></tr>",
                            "<tr><td>Robinson Cano</td><td>NYM</td></tr>",
                            "<tr><td>Victor Caratini</td><td>CHC</td></tr>",
                            "<tr><td>Matt Carpenter</td><td>STL</td></tr>",
                            "<tr><td>Curt Casali</td><td>CIN</td></tr>",
                            "<tr><td>Nicholas Castellanos</td><td>DET</td></tr>",
                            "<tr><td>Nicholas Castellanos</td><td>CHC</td></tr>",
                            "<tr><td>Luis Castillo</td><td>CIN</td></tr>",
                            "<tr><td>Welington Castillo</td><td>CHW</td></tr>",
                            "<tr><td>Wilkin Castillo</td><td>MIA</td></tr>",
                            "<tr><td>Harold Castro</td><td>DET</td></tr>",
                            "<tr><td>Jason Castro</td><td>MIN</td></tr>",
                            "<tr><td>Starlin Castro</td><td>MIA</td></tr>",
                            "<tr><td>Willi Castro</td><td>DET</td></tr>",
                            "<tr><td>Jake Cave</td><td>MIN</td></tr>",
                            "<tr><td>Juan Centeno</td><td>BOS</td></tr>",
                            "<tr><td>Francisco Cervelli</td><td>PIT</td></tr>",
                            "<tr><td>Francisco Cervelli</td><td>ATL</td></tr>",
                            "<tr><td>Jhoulys Chacin</td><td>MIL</td></tr>",
                            "<tr><td>Yu Chang</td><td>CLE</td></tr>",
                            "<tr><td>Matt Chapman</td><td>OAK</td></tr>",
                            "<tr><td>Tyler Chatwood</td><td>CHC</td></tr>",
                            "<tr><td>Jesse Chavez</td><td>TEX</td></tr>",
                            "<tr><td>Michael Chavis</td><td>BOS</td></tr>",
                            "<tr><td>Robinson Chirinos</td><td>HOU</td></tr>",
                            "<tr><td>Ji-Man Choi</td><td>TBR</td></tr>",
                            "<tr><td>Shin-Soo Choo</td><td>TEX</td></tr>",
                            "<tr><td>Nick Ciuffo</td><td>TBR</td></tr>",
                            "<tr><td>Taylor Clarke</td><td>ARI</td></tr>",
                            "<tr><td>Zack Collins</td><td>CHW</td></tr>",
                            "<tr><td>Christian Colon</td><td>CIN</td></tr>",
                            "<tr><td>Michael Conforto</td><td>NYM</td></tr>",
                            "<tr><td>Willson Contreras</td><td>CHC</td></tr>",
                            "<tr><td>Garrett Cooper</td><td>MIA</td></tr>",
                            "<tr><td>Patrick Corbin</td><td>WSN</td></tr>",
                            "<tr><td>Ryan Cordell</td><td>CHW</td></tr>",
                            "<tr><td>Franchy Cordero</td><td>SDP</td></tr>",
                            "<tr><td>Carlos Correa</td><td>HOU</td></tr>",
                            "<tr><td>Ryan Court</td><td>SEA</td></tr>",
                            "<tr><td>Kaleb Cowart</td><td>LAA</td></tr>",
                            "<tr><td>Zack Cozart</td><td>LAA</td></tr>",
                            "<tr><td>Brandon Crawford</td><td>SFG</td></tr>",
                            "<tr><td>J.P. Crawford</td><td>SEA</td></tr>",
                            "<tr><td>C.J. Cron</td><td>MIN</td></tr>",
                            "<tr><td>Kevin Cron</td><td>ARI</td></tr>",
                            "<tr><td>Nelson Cruz</td><td>MIN</td></tr>",
                            "<tr><td>Charlie Culberson</td><td>ATL</td></tr>",
                            "<tr><td>Cheslor Cuthbert</td><td>KCR</td></tr>",
                            "<tr><td>Travis d&#39;Arnaud</td><td>NYM</td></tr>",
                            "<tr><td>Travis d&#39;Arnaud</td><td>TBR</td></tr>",
                            "<tr><td>David Dahl</td><td>COL</td></tr>",
                            "<tr><td>Yu Darvish</td><td>CHC</td></tr>",
                            "<tr><td>Zach Davies</td><td>MIL</td></tr>",
                            "<tr><td>Chris Davis</td><td>BAL</td></tr>",
                            "<tr><td>J.D. Davis</td><td>NYM</td></tr>",
                            "<tr><td>Jaylin Davis</td><td>SFG</td></tr>",
                            "<tr><td>Johnny Davis</td><td>TBR</td></tr>",
                            "<tr><td>Jonathan Davis</td><td>TOR</td></tr>",
                            "<tr><td>Khris Davis</td><td>OAK</td></tr>",
                            "<tr><td>Rajai Davis</td><td>NYM</td></tr>",
                            "<tr><td>Taylor Davis</td><td>CHC</td></tr>",
                            "<tr><td>Yonathan Daza</td><td>COL</td></tr>",
                            "<tr><td>Austin Dean</td><td>MIA</td></tr>",
                            "<tr><td>Jacob deGrom</td><td>NYM</td></tr>",
                            "<tr><td>Paul DeJong</td><td>STL</td></tr>",
                            "<tr><td>Nicky Delmonico</td><td>CHW</td></tr>",
                            "<tr><td>Travis Demeritte</td><td>DET</td></tr>",
                            "<tr><td>Daniel Descalso</td><td>CHC</td></tr>",
                            "<tr><td>Anthony DeSclafani</td><td>CIN</td></tr>",
                            "<tr><td>Delino DeShields</td><td>TEX</td></tr>",
                            "<tr><td>Ian Desmond</td><td>COL</td></tr>",
                            "<tr><td>Rafael Devers</td><td>BOS</td></tr>",
                            "<tr><td>Aledmys Díaz</td><td>HOU</td></tr>",
                            "<tr><td>Elias Diaz</td><td>PIT</td></tr>",
                            "<tr><td>Isan Diaz</td><td>MIA</td></tr>",
                            "<tr><td>Yandy Díaz</td><td>TBR</td></tr>",
                            "<tr><td>Alex Dickerson</td><td>SDP</td></tr>",
                            "<tr><td>Alex Dickerson</td><td>SFG</td></tr>",
                            "<tr><td>Corey Dickerson</td><td>PIT</td></tr>",
                            "<tr><td>Corey Dickerson</td><td>PHI</td></tr>",
                            "<tr><td>Derek Dietrich</td><td>CIN</td></tr>",
                            "<tr><td>Wilmer Difo</td><td>WSN</td></tr>",
                            "<tr><td>Nick Dini</td><td>KCR</td></tr>",
                            "<tr><td>Brandon Dixon</td><td>DET</td></tr>",
                            "<tr><td>Josh Donaldson</td><td>ATL</td></tr>",
                            "<tr><td>Brian Dozier</td><td>WSN</td></tr>",
                            "<tr><td>Hunter Dozier</td><td>KCR</td></tr>",
                            "<tr><td>Oliver Drake</td><td>TBR</td></tr>",
                            "<tr><td>Brandon Drury</td><td>TOR</td></tr>",
                            "<tr><td>Mauricio Dubon</td><td>SFG</td></tr>",
                            "<tr><td>Lucas Duda</td><td>KCR</td></tr>",
                            "<tr><td>Danny Duffy</td><td>KCR</td></tr>",
                            "<tr><td>Matt Duffy</td><td>TBR</td></tr>",
                            "<tr><td>Steven Duggar</td><td>SFG</td></tr>",
                            "<tr><td>Jon Duplantier</td><td>ARI</td></tr>",
                            "<tr><td>Montana DuRapau</td><td>PIT</td></tr>",
                            "<tr><td>Adam Duvall</td><td>ATL</td></tr>",
                            "<tr><td>Jarrod Dyson</td><td>ARI</td></tr>",
                            "<tr><td>Adam Eaton</td><td>WSN</td></tr>",
                            "<tr><td>Tommy Edman</td><td>STL</td></tr>",
                            "<tr><td>Zach Eflin</td><td>PHI</td></tr>",
                            "<tr><td>Jake Elmore</td><td>PIT</td></tr>",
                            "<tr><td>Edwin Encarnacion</td><td>SEA</td></tr>",
                            "<tr><td>Edwin Encarnacion</td><td>NYY</td></tr>",
                            "<tr><td>Adam Engel</td><td>CHW</td></tr>",
                            "<tr><td>Phil Ervin</td><td>CIN</td></tr>",
                            "<tr><td>Eduardo Escobar</td><td>ARI</td></tr>",
                            "<tr><td>Thairo Estrada</td><td>NYY</td></tr>",
                            "<tr><td>Kyle Farmer</td><td>CIN</td></tr>",
                            "<tr><td>Erick Fedde</td><td>WSN</td></tr>",
                            "<tr><td>Tim Federowicz</td><td>TEX</td></tr>",
                            "<tr><td>Caleb Ferguson</td><td>LAD</td></tr>",
                            "<tr><td>Derek Fisher</td><td>HOU</td></tr>",
                            "<tr><td>Derek Fisher</td><td>TOR</td></tr>",
                            "<tr><td>Jack Flaherty</td><td>STL</td></tr>",
                            "<tr><td>Ryan Flaherty</td><td>CLE</td></tr>",
                            "<tr><td>David Fletcher</td><td>LAA</td></tr>",
                            "<tr><td>Chris Flexen</td><td>NYM</td></tr>",
                            "<tr><td>Wilmer Flores</td><td>ARI</td></tr>",
                            "<tr><td>Tyler Flowers</td><td>ATL</td></tr>",
                            "<tr><td>Mike Foltynewicz</td><td>ATL</td></tr>",
                            "<tr><td>Wilmer Font</td><td>NYM</td></tr>",
                            "<tr><td>Mike Ford</td><td>NYY</td></tr>",
                            "<tr><td>Logan Forsythe</td><td>TEX</td></tr>",
                            "<tr><td>Dexter Fowler</td><td>STL</td></tr>",
                            "<tr><td>Jake Fraley</td><td>SEA</td></tr>",
                            "<tr><td>Ty France</td><td>SDP</td></tr>",
                            "<tr><td>Maikel Franco</td><td>PHI</td></tr>",
                            "<tr><td>Adam Frazier</td><td>PIT</td></tr>",
                            "<tr><td>Clint Frazier</td><td>NYY</td></tr>",
                            "<tr><td>Todd Frazier</td><td>NYM</td></tr>",
                            "<tr><td>Kyle Freeland</td><td>COL</td></tr>",
                            "<tr><td>Freddie Freeman</td><td>ATL</td></tr>",
                            "<tr><td>Mike Freeman</td><td>CLE</td></tr>",
                            "<tr><td>David Freese</td><td>LAD</td></tr>",
                            "<tr><td>David Freitas</td><td>MIL</td></tr>",
                            "<tr><td>Max Fried</td><td>ATL</td></tr>",
                            "<tr><td>Josh Fuentes</td><td>COL</td></tr>",
                            "<tr><td>Drew Gagnon</td><td>NYM</td></tr>",
                            "<tr><td>Rocky Gale</td><td>LAD</td></tr>",
                            "<tr><td>Cam Gallagher</td><td>KCR</td></tr>",
                            "<tr><td>Zac Gallen</td><td>MIA</td></tr>",
                            "<tr><td>Zac Gallen</td><td>ARI</td></tr>",
                            "<tr><td>Joey Gallo</td><td>TEX</td></tr>",
                            "<tr><td>Isaac Galloway</td><td>MIA</td></tr>",
                            "<tr><td>Freddy Galvis</td><td>TOR</td></tr>",
                            "<tr><td>Freddy Galvis</td><td>CIN</td></tr>",
                            "<tr><td>Ben Gamel</td><td>MIL</td></tr>",
                            "<tr><td>Aramis Garcia</td><td>SFG</td></tr>",
                            "<tr><td>Avisail Garcia</td><td>TBR</td></tr>",
                            "<tr><td>Greg Garcia</td><td>SDP</td></tr>",
                            "<tr><td>Leury Garcia</td><td>CHW</td></tr>",
                            "<tr><td>Robel Garcia</td><td>CHC</td></tr>",
                            "<tr><td>Brett Gardner</td><td>NYY</td></tr>",
                            "<tr><td>Kyle Garlick</td><td>LAD</td></tr>",
                            "<tr><td>Dustin Garneau</td><td>LAA</td></tr>",
                            "<tr><td>Dustin Garneau</td><td>OAK</td></tr>",
                            "<tr><td>Mitch Garver</td><td>MIN</td></tr>",
                            "<tr><td>Kevin Gausman</td><td>ATL</td></tr>",
                            "<tr><td>Scooter Gennett</td><td>CIN</td></tr>",
                            "<tr><td>Scooter Gennett</td><td>SFG</td></tr>",
                            "<tr><td>Mike Gerber</td><td>SFG</td></tr>",
                            "<tr><td>Lucas Giolito</td><td>CHW</td></tr>",
                            "<tr><td>Zack Godley</td><td>ARI</td></tr>",
                            "<tr><td>Ryan Goins</td><td>CHW</td></tr>",
                            "<tr><td>Paul Goldschmidt</td><td>STL</td></tr>",
                            "<tr><td>Yan Gomes</td><td>WSN</td></tr>",
                            "<tr><td>Carlos Gomez</td><td>NYM</td></tr>",
                            "<tr><td>Tony Gonsolin</td><td>LAD</td></tr>",
                            "<tr><td>Marco Gonzales</td><td>SEA</td></tr>",
                            "<tr><td>Carlos Gonzalez</td><td>CLE</td></tr>",
                            "<tr><td>Carlos Gonzalez</td><td>CHC</td></tr>",
                            "<tr><td>Chi Chi Gonzalez</td><td>COL</td></tr>",
                            "<tr><td>Erik Gonzalez</td><td>PIT</td></tr>",
                            "<tr><td>Gio Gonzalez</td><td>MIL</td></tr>",
                            "<tr><td>Marwin Gonzalez</td><td>MIN</td></tr>",
                            "<tr><td>Niko Goodrum</td><td>DET</td></tr>",
                            "<tr><td>Brian Goodwin</td><td>LAA</td></tr>",
                            "<tr><td>Alex Gordon</td><td>KCR</td></tr>",
                            "<tr><td>Dee Gordon</td><td>SEA</td></tr>",
                            "<tr><td>Terrance Gore</td><td>KCR</td></tr>",
                            "<tr><td>Phil Gosselin</td><td>PHI</td></tr>",
                            "<tr><td>Yasmani Grandal</td><td>MIL</td></tr>",
                            "<tr><td>Curtis Granderson</td><td>MIA</td></tr>",
                            "<tr><td>Juan Graterol</td><td>CIN</td></tr>",
                            "<tr><td>Jon Gray</td><td>COL</td></tr>",
                            "<tr><td>Sonny Gray</td><td>CIN</td></tr>",
                            "<tr><td>Zach Green</td><td>SFG</td></tr>",
                            "<tr><td>Didi Gregorius</td><td>NYY</td></tr>",
                            "<tr><td>Grayson Greiner</td><td>DET</td></tr>",
                            "<tr><td>Zack Greinke</td><td>ARI</td></tr>",
                            "<tr><td>Zack Greinke</td><td>HOU</td></tr>",
                            "<tr><td>Randal Grichuk</td><td>TOR</td></tr>",
                            "<tr><td>Trent Grisham</td><td>MIL</td></tr>",
                            "<tr><td>Robbie Grossman</td><td>OAK</td></tr>",
                            "<tr><td>Deivy Grullon</td><td>PHI</td></tr>",
                            "<tr><td>Junior Guerra</td><td>MIL</td></tr>",
                            "<tr><td>Vladimir Guerrero Jr.</td><td>TOR</td></tr>",
                            "<tr><td>Luis Guillorme</td><td>NYM</td></tr>",
                            "<tr><td>Lourdes Gurriel Jr.</td><td>TOR</td></tr>",
                            "<tr><td>Yuli Gurriel</td><td>HOU</td></tr>",
                            "<tr><td>Kelvin Gutierrez</td><td>KCR</td></tr>",
                            "<tr><td>Ronald Guzman</td><td>TEX</td></tr>",
                            "<tr><td>Jedd Gyorko</td><td>STL</td></tr>",
                            "<tr><td>Jedd Gyorko</td><td>LAD</td></tr>",
                            "<tr><td>Eric Haase</td><td>CLE</td></tr>",
                            "<tr><td>Cole Hamels</td><td>CHC</td></tr>",
                            "<tr><td>Billy Hamilton</td><td>KCR</td></tr>",
                            "<tr><td>Billy Hamilton</td><td>ATL</td></tr>",
                            "<tr><td>Garrett Hampson</td><td>COL</td></tr>",
                            "<tr><td>Mitch Haniger</td><td>SEA</td></tr>",
                            "<tr><td>Alen Hanson</td><td>TOR</td></tr>",
                            "<tr><td>Ian Happ</td><td>CHC</td></tr>",
                            "<tr><td>Bryce Harper</td><td>PHI</td></tr>",
                            "<tr><td>Josh Harrison</td><td>DET</td></tr>",
                            "<tr><td>Adam Haseley</td><td>PHI</td></tr>",
                            "<tr><td>Austin Hays</td><td>BAL</td></tr>",
                            "<tr><td>Ryon Healy</td><td>SEA</td></tr>",
                            "<tr><td>Adeiny Hechavarria</td><td>NYM</td></tr>",
                            "<tr><td>Adeiny Hechavarria</td><td>ATL</td></tr>",
                            "<tr><td>Austin Hedges</td><td>SDP</td></tr>",
                            "<tr><td>Scott Heineman</td><td>TEX</td></tr>",
                            "<tr><td>Tyler Heineman</td><td>MIA</td></tr>",
                            "<tr><td>Jeremy Hellickson</td><td>WSN</td></tr>",
                            "<tr><td>Ryan Helsley</td><td>STL</td></tr>",
                            "<tr><td>Kyle Hendricks</td><td>CHC</td></tr>",
                            "<tr><td>Guillermo Heredia</td><td>TBR</td></tr>",
                            "<tr><td>Michael Hermosillo</td><td>LAA</td></tr>",
                            "<tr><td>Cesar Hernandez</td><td>PHI</td></tr>",
                            "<tr><td>Elieser Hernandez</td><td>MIA</td></tr>",
                            "<tr><td>Enrique Hernandez</td><td>LAD</td></tr>",
                            "<tr><td>Gorkys Hernandez</td><td>BOS</td></tr>",
                            "<tr><td>Marco Hernandez</td><td>BOS</td></tr>",
                            "<tr><td>Teoscar Hernandez</td><td>TOR</td></tr>",
                            "<tr><td>Odubel Herrera</td><td>PHI</td></tr>",
                            "<tr><td>Rosell Herrera</td><td>MIA</td></tr>",
                            "<tr><td>Chris Herrmann</td><td>OAK</td></tr>",
                            "<tr><td>Jason Heyward</td><td>CHC</td></tr>",
                            "<tr><td>Aaron Hicks</td><td>NYY</td></tr>",
                            "<tr><td>John Hicks</td><td>DET</td></tr>",
                            "<tr><td>Kyle Higashioka</td><td>NYY</td></tr>",
                            "<tr><td>Rich Hill</td><td>LAD</td></tr>",
                            "<tr><td>Sam Hilliard</td><td>COL</td></tr>",
                            "<tr><td>Keston Hiura</td><td>MIL</td></tr>",
                            "<tr><td>Nico Hoerner</td><td>CHC</td></tr>",
                            "<tr><td>Jeff Hoffman</td><td>COL</td></tr>",
                            "<tr><td>Bryan Holaday</td><td>MIA</td></tr>",
                            "<tr><td>Derek Holland</td><td>SFG</td></tr>",
                            "<tr><td>Brock Holt</td><td>BOS</td></tr>",
                            "<tr><td>Rhys Hoskins</td><td>PHI</td></tr>",
                            "<tr><td>Eric Hosmer</td><td>SDP</td></tr>",
                            "<tr><td>Adrian Houser</td><td>MIL</td></tr>",
                            "<tr><td>Dakota Hudson</td><td>STL</td></tr>",
                            "<tr><td>Nick Hundley</td><td>OAK</td></tr>",
                            "<tr><td>Chris Iannetta</td><td>COL</td></tr>",
                            "<tr><td>José Iglesias</td><td>CIN</td></tr>",
                            "<tr><td>Ender Inciarte</td><td>ATL</td></tr>",
                            "<tr><td>Cole Irvin</td><td>PHI</td></tr>",
                            "<tr><td>Travis Jankowski</td><td>SDP</td></tr>",
                            "<tr><td>Danny Jansen</td><td>TOR</td></tr>",
                            "<tr><td>Jon Jay</td><td>CHW</td></tr>",
                            "<tr><td>Eloy Jimenez</td><td>CHW</td></tr>",
                            "<tr><td>Connor Joe</td><td>SFG</td></tr>",
                            "<tr><td>Adam Jones</td><td>ARI</td></tr>",
                            "<tr><td>JaCoby Jones</td><td>DET</td></tr>",
                            "<tr><td>Caleb Joseph</td><td>ARI</td></tr>",
                            "<tr><td>Corban Joseph</td><td>OAK</td></tr>",
                            "<tr><td>Corban Joseph</td><td>SFG</td></tr>",
                            "<tr><td>Corban Joseph</td><td>PIT</td></tr>",
                            "<tr><td>Matthew Joyce</td><td>ATL</td></tr>",
                            "<tr><td>Aaron Judge</td><td>NYY</td></tr>",
                            "<tr><td>Jung Ho Kang</td><td>PIT</td></tr>",
                            "<tr><td>Brad Keller</td><td>KCR</td></tr>",
                            "<tr><td>Carson Kelly</td><td>ARI</td></tr>",
                            "<tr><td>Merrill Kelly</td><td>ARI</td></tr>",
                            "<tr><td>Matt Kemp</td><td>CIN</td></tr>",
                            "<tr><td>Tony Kemp</td><td>HOU</td></tr>",
                            "<tr><td>Tony Kemp</td><td>CHC</td></tr>",
                            "<tr><td>Howie Kendrick</td><td>WSN</td></tr>",
                            "<tr><td>Max Kepler</td><td>MIN</td></tr>",
                            "<tr><td>Clayton Kershaw</td><td>LAD</td></tr>",
                            "<tr><td>Dallas Keuchel</td><td>ATL</td></tr>",
                            "<tr><td>Carter Kieboom</td><td>WSN</td></tr>",
                            "<tr><td>Kevin Kiermaier</td><td>TBR</td></tr>",
                            "<tr><td>Isiah Kiner-Falefa</td><td>TEX</td></tr>",
                            "<tr><td>Scott Kingery</td><td>PHI</td></tr>",
                            "<tr><td>Ian Kinsler</td><td>SDP</td></tr>",
                            "<tr><td>Jason Kipnis</td><td>CLE</td></tr>",
                            "<tr><td>Andrew Knapp</td><td>PHI</td></tr>",
                            "<tr><td>Andrew Knizner</td><td>STL</td></tr>",
                            "<tr><td>Kevin Kramer</td><td>PIT</td></tr>",
                            "<tr><td>Erik Kratz</td><td>SFG</td></tr>",
                            "<tr><td>Erik Kratz</td><td>TBR</td></tr>",
                            "<tr><td>Tommy La Stella</td><td>LAA</td></tr>",
                            "<tr><td>Juan Lagares</td><td>NYM</td></tr>",
                            "<tr><td>Ryan LaMarre</td><td>MIN</td></tr>",
                            "<tr><td>Jake Lamb</td><td>ARI</td></tr>",
                            "<tr><td>Peter Lambert</td><td>COL</td></tr>",
                            "<tr><td>Dinelson Lamet</td><td>SDP</td></tr>",
                            "<tr><td>Eric Lauer</td><td>SDP</td></tr>",
                            "<tr><td>Ramon Laureano</td><td>OAK</td></tr>",
                            "<tr><td>Ryan Lavarnway</td><td>CIN</td></tr>",
                            "<tr><td>Mike Leake</td><td>ARI</td></tr>",
                            "<tr><td>DJ LeMahieu</td><td>NYY</td></tr>",
                            "<tr><td>Sandy Leon</td><td>BOS</td></tr>",
                            "<tr><td>Jon Lester</td><td>CHC</td></tr>",
                            "<tr><td>Kyle Lewis</td><td>SEA</td></tr>",
                            "<tr><td>Domingo Leyba</td><td>ARI</td></tr>",
                            "<tr><td>Tzu-Wei Lin</td><td>BOS</td></tr>",
                            "<tr><td>Francisco Lindor</td><td>CLE</td></tr>",
                            "<tr><td>Francisco Liriano</td><td>PIT</td></tr>",
                            "<tr><td>Tim Locastro</td><td>ARI</td></tr>",
                            "<tr><td>Walker Lockett</td><td>NYM</td></tr>",
                            "<tr><td>Shed Long</td><td>SEA</td></tr>",
                            "<tr><td>Evan Longoria</td><td>SFG</td></tr>",
                            "<tr><td>Tim Lopes</td><td>SEA</td></tr>",
                            "<tr><td>Nicky Lopez</td><td>KCR</td></tr>",
                            "<tr><td>Pablo Lopez</td><td>MIA</td></tr>",
                            "<tr><td>Michael Lorenzen</td><td>CIN</td></tr>",
                            "<tr><td>Brandon Lowe</td><td>TBR</td></tr>",
                            "<tr><td>Nate Lowe</td><td>TBR</td></tr>",
                            "<tr><td>Joey Lucchesi</td><td>SDP</td></tr>",
                            "<tr><td>Jonathan Lucroy</td><td>LAA</td></tr>",
                            "<tr><td>Jonathan Lucroy</td><td>CHC</td></tr>",
                            "<tr><td>Dawel Lugo</td><td>DET</td></tr>",
                            "<tr><td>Seth Lugo</td><td>NYM</td></tr>",
                            "<tr><td>Jordan Luplow</td><td>CLE</td></tr>",
                            "<tr><td>Gavin Lux</td><td>LAD</td></tr>",
                            "<tr><td>Jordan Lyles</td><td>PIT</td></tr>",
                            "<tr><td>Jordan Lyles</td><td>MIL</td></tr>",
                            "<tr><td>Manny Machado</td><td>SDP</td></tr>",
                            "<tr><td>Kenta Maeda</td><td>LAD</td></tr>",
                            "<tr><td>Tyler Mahle</td><td>CIN</td></tr>",
                            "<tr><td>Luke Maile</td><td>TOR</td></tr>",
                            "<tr><td>Martin Maldonado</td><td>KCR</td></tr>",
                            "<tr><td>Martin Maldonado</td><td>HOU</td></tr>",
                            "<tr><td>Trey Mancini</td><td>BAL</td></tr>",
                            "<tr><td>Nick Margevicius</td><td>SDP</td></tr>",
                            "<tr><td>Manuel Margot</td><td>SDP</td></tr>",
                            "<tr><td>Jake Marisnick</td><td>HOU</td></tr>",
                            "<tr><td>Nick Markakis</td><td>ATL</td></tr>",
                            "<tr><td>German Marquez</td><td>COL</td></tr>",
                            "<tr><td>Ketel Marte</td><td>ARI</td></tr>",
                            "<tr><td>Starling Marte</td><td>PIT</td></tr>",
                            "<tr><td>Jason Martin</td><td>PIT</td></tr>",
                            "<tr><td>Leonys Martín</td><td>CLE</td></tr>",
                            "<tr><td>Richie Martin</td><td>BAL</td></tr>",
                            "<tr><td>Russell Martin</td><td>LAD</td></tr>",
                            "<tr><td>J.D. Martinez</td><td>BOS</td></tr>",
                            "<tr><td>Jose Martinez</td><td>STL</td></tr>",
                            "<tr><td>Nick Martini</td><td>OAK</td></tr>",
                            "<tr><td>Nick Martini</td><td>SDP</td></tr>",
                            "<tr><td>Jeff Mathis</td><td>TEX</td></tr>",
                            "<tr><td>Phil Maton</td><td>SDP</td></tr>",
                            "<tr><td>Steven Matz</td><td>NYM</td></tr>",
                            "<tr><td>Dustin May</td><td>LAD</td></tr>",
                            "<tr><td>Cameron Maybin</td><td>NYY</td></tr>",
                            "<tr><td>Jack Mayfield</td><td>HOU</td></tr>",
                            "<tr><td>Nomar Mazara</td><td>TEX</td></tr>",
                            "<tr><td>Ryan McBroom</td><td>KCR</td></tr>",
                            "<tr><td>Brian McCann</td><td>ATL</td></tr>",
                            "<tr><td>James McCann</td><td>CHW</td></tr>",
                            "<tr><td>Andrew McCutchen</td><td>PHI</td></tr>",
                            "<tr><td>Kyle McGowin</td><td>WSN</td></tr>",
                            "<tr><td>Reese McGuire</td><td>TOR</td></tr>",
                            "<tr><td>Brendan McKay</td><td>TBR</td></tr>",
                            "<tr><td>Billy McKinney</td><td>TOR</td></tr>",
                            "<tr><td>Ryan McMahon</td><td>COL</td></tr>",
                            "<tr><td>Jeff McNeil</td><td>NYM</td></tr>",
                            "<tr><td>Alex McRae</td><td>PIT</td></tr>",
                            "<tr><td>Austin Meadows</td><td>TBR</td></tr>",
                            "<tr><td>John Means</td><td>BAL</td></tr>",
                            "<tr><td>Erick Mejia</td><td>KCR</td></tr>",
                            "<tr><td>Francisco Mejia</td><td>SDP</td></tr>",
                            "<tr><td>Seth Mejias-Brean</td><td>SDP</td></tr>",
                            "<tr><td>Tim Melville</td><td>COL</td></tr>",
                            "<tr><td>Danny Mendick</td><td>CHW</td></tr>",
                            "<tr><td>Oscar Mercado</td><td>CLE</td></tr>",
                            "<tr><td>Jordy Mercer</td><td>DET</td></tr>",
                            "<tr><td>Whit Merrifield</td><td>KCR</td></tr>",
                            "<tr><td>Miles Mikolas</td><td>STL</td></tr>",
                            "<tr><td>Brad Miller</td><td>CLE</td></tr>",
                            "<tr><td>Brad Miller</td><td>PHI</td></tr>",
                            "<tr><td>Ian Miller</td><td>MIN</td></tr>",
                            "<tr><td>Alec Mills</td><td>CHC</td></tr>",
                            "<tr><td>Yadier Molina</td><td>STL</td></tr>",
                            "<tr><td>Yoan Moncada</td><td>CHW</td></tr>",
                            "<tr><td>Adalberto Mondesi</td><td>KCR</td></tr>",
                            "<tr><td>Mike Montgomery</td><td>CHC</td></tr>",
                            "<tr><td>Dylan Moore</td><td>SEA</td></tr>",
                            "<tr><td>Kendrys Morales</td><td>OAK</td></tr>",
                            "<tr><td>Kendrys Morales</td><td>NYY</td></tr>",
                            "<tr><td>Colin Moran</td><td>PIT</td></tr>",
                            "<tr><td>Mitch Moreland</td><td>BOS</td></tr>",
                            "<tr><td>Max Moroff</td><td>CLE</td></tr>",
                            "<tr><td>Logan Morrison</td><td>PHI</td></tr>",
                            "<tr><td>Mike Moustakas</td><td>MIL</td></tr>",
                            "<tr><td>Cedric Mullins</td><td>BAL</td></tr>",
                            "<tr><td>Max Muncy</td><td>LAD</td></tr>",
                            "<tr><td>Yairo Munoz</td><td>STL</td></tr>",
                            "<tr><td>Daniel Murphy</td><td>COL</td></tr>",
                            "<tr><td>John Ryan Murphy</td><td>ARI</td></tr>",
                            "<tr><td>Sean Murphy</td><td>OAK</td></tr>",
                            "<tr><td>Tom Murphy</td><td>SEA</td></tr>",
                            "<tr><td>Joe Musgrove</td><td>PIT</td></tr>",
                            "<tr><td>Wil Myers</td><td>SDP</td></tr>",
                            "<tr><td>Tyler Naquin</td><td>CLE</td></tr>",
                            "<tr><td>Omar Narvaez</td><td>SEA</td></tr>",
                            "<tr><td>Josh Naylor</td><td>SDP</td></tr>",
                            "<tr><td>Kristopher Negron</td><td>SEA</td></tr>",
                            "<tr><td>Kristopher Negron</td><td>LAD</td></tr>",
                            "<tr><td>Sheldon Neuse</td><td>OAK</td></tr>",
                            "<tr><td>Kevin Newman</td><td>PIT</td></tr>",
                            "<tr><td>Tomas Nido</td><td>NYM</td></tr>",
                            "<tr><td>Brandon Nimmo</td><td>NYM</td></tr>",
                            "<tr><td>Hector Noesi</td><td>MIA</td></tr>",
                            "<tr><td>Aaron Nola</td><td>PHI</td></tr>",
                            "<tr><td>Austin Nola</td><td>SEA</td></tr>",
                            "<tr><td>Jake Noll</td><td>WSN</td></tr>",
                            "<tr><td>Daniel Norris</td><td>DET</td></tr>",
                            "<tr><td>Jacob Nottingham</td><td>MIL</td></tr>",
                            "<tr><td>Dom Nunez</td><td>COL</td></tr>",
                            "<tr><td>Eduardo Nunez</td><td>BOS</td></tr>",
                            "<tr><td>Renato Nunez</td><td>BAL</td></tr>",
                            "<tr><td>Peter O&#39;Brien</td><td>MIA</td></tr>",
                            "<tr><td>Brian O&#39;Grady</td><td>CIN</td></tr>",
                            "<tr><td>Ryan O&#39;Hearn</td><td>KCR</td></tr>",
                            "<tr><td>Tyler O&#39;Neill</td><td>STL</td></tr>",
                            "<tr><td>Rougned Odor</td><td>TEX</td></tr>",
                            "<tr><td>Shohei Ohtani</td><td>LAA</td></tr>",
                            "<tr><td>Matt Olson</td><td>OAK</td></tr>",
                            "<tr><td>Rafael Ortega</td><td>ATL</td></tr>",
                            "<tr><td>Jose Osuna</td><td>PIT</td></tr>",
                            "<tr><td>Chris Owings</td><td>KCR</td></tr>",
                            "<tr><td>Chris Owings</td><td>BOS</td></tr>",
                            "<tr><td>Marcell Ozuna</td><td>STL</td></tr>",
                            "<tr><td>Chris Paddack</td><td>SDP</td></tr>",
                            "<tr><td>Daniel Palka</td><td>CHW</td></tr>",
                            "<tr><td>Joe Panik</td><td>SFG</td></tr>",
                            "<tr><td>Joe Panik</td><td>NYM</td></tr>",
                            "<tr><td>Gerardo Parra</td><td>SFG</td></tr>",
                            "<tr><td>Gerardo Parra</td><td>WSN</td></tr>",
                            "<tr><td>Steve Pearce</td><td>BOS</td></tr>",
                            "<tr><td>Joc Pederson</td><td>LAD</td></tr>",
                            "<tr><td>Dustin Pedroia</td><td>BOS</td></tr>",
                            "<tr><td>Hunter Pence</td><td>TEX</td></tr>",
                            "<tr><td>David Peralta</td><td>ARI</td></tr>",
                            "<tr><td>Freddy Peralta</td><td>MIL</td></tr>",
                            "<tr><td>Jose Peraza</td><td>CIN</td></tr>",
                            "<tr><td>Luis Perdomo</td><td>SDP</td></tr>",
                            "<tr><td>Hernan Perez</td><td>MIL</td></tr>",
                            "<tr><td>Michael Perez</td><td>TBR</td></tr>",
                            "<tr><td>Roberto Perez</td><td>CLE</td></tr>",
                            "<tr><td>Dustin Peterson</td><td>DET</td></tr>",
                            "<tr><td>Jace Peterson</td><td>BAL</td></tr>",
                            "<tr><td>Tommy Pham</td><td>TBR</td></tr>",
                            "<tr><td>Josh Phegley</td><td>OAK</td></tr>",
                            "<tr><td>Brett Phillips</td><td>KCR</td></tr>",
                            "<tr><td>Kevin Pillar</td><td>TOR</td></tr>",
                            "<tr><td>Kevin Pillar</td><td>SFG</td></tr>",
                            "<tr><td>Manny Pina</td><td>MIL</td></tr>",
                            "<tr><td>Chad Pinder</td><td>OAK</td></tr>",
                            "<tr><td>Jose Pirela</td><td>PHI</td></tr>",
                            "<tr><td>Stephen Piscotty</td><td>OAK</td></tr>",
                            "<tr><td>Nick Pivetta</td><td>PHI</td></tr>",
                            "<tr><td>Kevin Plawecki</td><td>CLE</td></tr>",
                            "<tr><td>Gregory Polanco</td><td>PIT</td></tr>",
                            "<tr><td>Jorge Polanco</td><td>MIN</td></tr>",
                            "<tr><td>A.J. Pollock</td><td>LAD</td></tr>",
                            "<tr><td>Buster Posey</td><td>SFG</td></tr>",
                            "<tr><td>Martin Prado</td><td>MIA</td></tr>",
                            "<tr><td>David Price</td><td>BOS</td></tr>",
                            "<tr><td>Jurickson Profar</td><td>OAK</td></tr>",
                            "<tr><td>Cesar Puello</td><td>LAA</td></tr>",
                            "<tr><td>Cesar Puello</td><td>MIA</td></tr>",
                            "<tr><td>Yasiel Puig</td><td>CIN</td></tr>",
                            "<tr><td>Yasiel Puig</td><td>CLE</td></tr>",
                            "<tr><td>Albert Pujols</td><td>LAA</td></tr>",
                            "<tr><td>Cal Quantrill</td><td>SDP</td></tr>",
                            "<tr><td>Roman Quinn</td><td>PHI</td></tr>",
                            "<tr><td>Jose Quintana</td><td>CHC</td></tr>",
                            "<tr><td>Hanley Ramirez</td><td>CLE</td></tr>",
                            "<tr><td>Harold Ramirez</td><td>MIA</td></tr>",
                            "<tr><td>Jose Ramirez</td><td>CLE</td></tr>",
                            "<tr><td>Wilson Ramos</td><td>NYM</td></tr>",
                            "<tr><td>Rangel Ravelo</td><td>STL</td></tr>",
                            "<tr><td>Robbie Ray</td><td>ARI</td></tr>",
                            "<tr><td>Raudy Read</td><td>WSN</td></tr>",
                            "<tr><td>J.T. Realmuto</td><td>PHI</td></tr>",
                            "<tr><td>Josh Reddick</td><td>HOU</td></tr>",
                            "<tr><td>AJ Reed</td><td>CHW</td></tr>",
                            "<tr><td>Anthony Rendon</td><td>WSN</td></tr>",
                            "<tr><td>Hunter Renfroe</td><td>SDP</td></tr>",
                            "<tr><td>Luis Rengifo</td><td>LAA</td></tr>",
                            "<tr><td>Franmil Reyes</td><td>SDP</td></tr>",
                            "<tr><td>Franmil Reyes</td><td>CLE</td></tr>",
                            "<tr><td>Pablo Reyes</td><td>PIT</td></tr>",
                            "<tr><td>Victor Reyes</td><td>DET</td></tr>",
                            "<tr><td>Bryan Reynolds</td><td>PIT</td></tr>",
                            "<tr><td>Mark Reynolds</td><td>COL</td></tr>",
                            "<tr><td>Trevor Richards</td><td>MIA</td></tr>",
                            "<tr><td>Joey Rickard</td><td>BAL</td></tr>",
                            "<tr><td>Joey Rickard</td><td>SFG</td></tr>",
                            "<tr><td>JT Riddle</td><td>MIA</td></tr>",
                            "<tr><td>Austin Riley</td><td>ATL</td></tr>",
                            "<tr><td>Edwin Rios</td><td>LAD</td></tr>",
                            "<tr><td>Rene Rivera</td><td>NYM</td></tr>",
                            "<tr><td>Yadiel Rivera</td><td>MIA</td></tr>",
                            "<tr><td>Anthony Rizzo</td><td>CHC</td></tr>",
                            "<tr><td>Tanner Roark</td><td>CIN</td></tr>",
                            "<tr><td>Daniel Robertson</td><td>TBR</td></tr>",
                            "<tr><td>Drew Robinson</td><td>STL</td></tr>",
                            "<tr><td>Victor Robles</td><td>WSN</td></tr>",
                            "<tr><td>Brendan Rodgers</td><td>COL</td></tr>",
                            "<tr><td>Dereck Rodriguez</td><td>SFG</td></tr>",
                            "<tr><td>Ronny Rodriguez</td><td>DET</td></tr>",
                            "<tr><td>Sean Rodriguez</td><td>PHI</td></tr>",
                            "<tr><td>Jake Rogers</td><td>DET</td></tr>",
                            "<tr><td>Josh Rojas</td><td>ARI</td></tr>",
                            "<tr><td>Miguel Rojas</td><td>MIA</td></tr>",
                            "<tr><td>Austin Romine</td><td>NYY</td></tr>",
                            "<tr><td>Jose Rondon</td><td>CHW</td></tr>",
                            "<tr><td>Amed Rosario</td><td>NYM</td></tr>",
                            "<tr><td>Eddie Rosario</td><td>MIN</td></tr>",
                            "<tr><td>Joe Ross</td><td>WSN</td></tr>",
                            "<tr><td>Rio Ruiz</td><td>BAL</td></tr>",
                            "<tr><td>Addison Russell</td><td>CHC</td></tr>",
                            "<tr><td>Hyun-Jin Ryu</td><td>LAD</td></tr>",
                            "<tr><td>Tyler Saladino</td><td>MIL</td></tr>",
                            "<tr><td>Jeff Samardzija</td><td>SFG</td></tr>",
                            "<tr><td>Adrian Sanchez</td><td>WSN</td></tr>",
                            "<tr><td>Anibal Sanchez</td><td>WSN</td></tr>",
                            "<tr><td>Gary Sanchez</td><td>NYY</td></tr>",
                            "<tr><td>Yolmer Sanchez</td><td>CHW</td></tr>",
                            "<tr><td>Pablo Sandoval</td><td>SFG</td></tr>",
                            "<tr><td>Miguel Sano</td><td>MIN</td></tr>",
                            "<tr><td>Carlos Santana</td><td>CLE</td></tr>",
                            "<tr><td>Danny Santana</td><td>TEX</td></tr>",
                            "<tr><td>Dennis Santana</td><td>LAD</td></tr>",
                            "<tr><td>Domingo Santana</td><td>SEA</td></tr>",
                            "<tr><td>Anthony Santander</td><td>BAL</td></tr>",
                            "<tr><td>Scott Schebler</td><td>CIN</td></tr>",
                            "<tr><td>Max Scherzer</td><td>WSN</td></tr>",
                            "<tr><td>Jonathan Schoop</td><td>MIN</td></tr>",
                            "<tr><td>Kyle Schwarber</td><td>CHC</td></tr>",
                            "<tr><td>Frank Schwindel</td><td>KCR</td></tr>",
                            "<tr><td>Corey Seager</td><td>LAD</td></tr>",
                            "<tr><td>Kyle Seager</td><td>SEA</td></tr>",
                            "<tr><td>Jean Segura</td><td>PHI</td></tr>",
                            "<tr><td>Marcus Semien</td><td>OAK</td></tr>",
                            "<tr><td>Antonio Senzatela</td><td>COL</td></tr>",
                            "<tr><td>Nick Senzel</td><td>CIN</td></tr>",
                            "<tr><td>Pedro Severino</td><td>BAL</td></tr>",
                            "<tr><td>Chris Shaw</td><td>SFG</td></tr>",
                            "<tr><td>Travis Shaw</td><td>MIL</td></tr>",
                            "<tr><td>JB Shuck</td><td>PIT</td></tr>",
                            "<tr><td>Magneuris Sierra</td><td>MIA</td></tr>",
                            "<tr><td>Andrelton Simmons</td><td>LAA</td></tr>",
                            "<tr><td>Lucas Sims</td><td>CIN</td></tr>",
                            "<tr><td>Chance Sisco</td><td>BAL</td></tr>",
                            "<tr><td>Matt Skole</td><td>CHW</td></tr>",
                            "<tr><td>Austin Slater</td><td>SFG</td></tr>",
                            "<tr><td>Caleb Smith</td><td>MIA</td></tr>",
                            "<tr><td>Dominic Smith</td><td>NYM</td></tr>",
                            "<tr><td>Dwight Smith Jr.</td><td>BAL</td></tr>",
                            "<tr><td>Kevan Smith</td><td>LAA</td></tr>",
                            "<tr><td>Mallex Smith</td><td>SEA</td></tr>",
                            "<tr><td>Will Smith</td><td>SFG</td></tr>",
                            "<tr><td>Will Smith</td><td>LAD</td></tr>",
                            "<tr><td>Justin Smoak</td><td>TOR</td></tr>",
                            "<tr><td>Eric Sogard</td><td>TOR</td></tr>",
                            "<tr><td>Eric Sogard</td><td>TBR</td></tr>",
                            "<tr><td>Nick Solak</td><td>TEX</td></tr>",
                            "<tr><td>Donovan Solano</td><td>SFG</td></tr>",
                            "<tr><td>Yangervis Solarte</td><td>SFG</td></tr>",
                            "<tr><td>Jorge Soler</td><td>KCR</td></tr>",
                            "<tr><td>Mike Soroka</td><td>ATL</td></tr>",
                            "<tr><td>Edmundo Sosa</td><td>STL</td></tr>",
                            "<tr><td>Gregory Soto</td><td>DET</td></tr>",
                            "<tr><td>Juan Soto</td><td>WSN</td></tr>",
                            "<tr><td>Cory Spangenberg</td><td>MIL</td></tr>",
                            "<tr><td>George Springer</td><td>HOU</td></tr>",
                            "<tr><td>Jacob Stallings</td><td>PIT</td></tr>",
                            "<tr><td>Eric Stamets</td><td>CLE</td></tr>",
                            "<tr><td>Giancarlo Stanton</td><td>NYY</td></tr>",
                            "<tr><td>Bubba Starling</td><td>KCR</td></tr>",
                            "<tr><td>Max Stassi</td><td>HOU</td></tr>",
                            "<tr><td>Max Stassi</td><td>LAA</td></tr>",
                            "<tr><td>Andrew Stevenson</td><td>WSN</td></tr>",
                            "<tr><td>Brock Stewart</td><td>LAD</td></tr>",
                            "<tr><td>Christin Stewart</td><td>DET</td></tr>",
                            "<tr><td>DJ Stewart</td><td>BAL</td></tr>",
                            "<tr><td>Trevor Story</td><td>COL</td></tr>",
                            "<tr><td>Matt Strahm</td><td>SDP</td></tr>",
                            "<tr><td>Stephen Strasburg</td><td>WSN</td></tr>",
                            "<tr><td>Myles Straw</td><td>HOU</td></tr>",
                            "<tr><td>Ross Stripling</td><td>LAD</td></tr>",
                            "<tr><td>Marcus Stroman</td><td>NYM</td></tr>",
                            "<tr><td>Garrett Stubbs</td><td>HOU</td></tr>",
                            "<tr><td>Eugenio Suarez</td><td>CIN</td></tr>",
                            "<tr><td>Ranger Suarez</td><td>PHI</td></tr>",
                            "<tr><td>Jesus Sucre</td><td>BAL</td></tr>",
                            "<tr><td>Kurt Suzuki</td><td>WSN</td></tr>",
                            "<tr><td>Dansby Swanson</td><td>ATL</td></tr>",
                            "<tr><td>Blake Swihart</td><td>BOS</td></tr>",
                            "<tr><td>Blake Swihart</td><td>ARI</td></tr>",
                            "<tr><td>Noah Syndergaard</td><td>NYM</td></tr>",
                            "<tr><td>Jameson Taillon</td><td>PIT</td></tr>",
                            "<tr><td>Raimel Tapia</td><td>COL</td></tr>",
                            "<tr><td>Fernando Tatis Jr.</td><td>SDP</td></tr>",
                            "<tr><td>Mike Tauchman</td><td>NYY</td></tr>",
                            "<tr><td>Beau Taylor</td><td>OAK</td></tr>",
                            "<tr><td>Chris Taylor</td><td>LAD</td></tr>",
                            "<tr><td>Michael A. Taylor</td><td>WSN</td></tr>",
                            "<tr><td>Tyrone Taylor</td><td>MIL</td></tr>",
                            "<tr><td>Julio Teheran</td><td>ATL</td></tr>",
                            "<tr><td>Rowdy Tellez</td><td>TOR</td></tr>",
                            "<tr><td>Matt Thaiss</td><td>LAA</td></tr>",
                            "<tr><td>Eric Thames</td><td>MIL</td></tr>",
                            "<tr><td>Lane Thomas</td><td>STL</td></tr>",
                            "<tr><td>Trent Thornton</td><td>TOR</td></tr>",
                            "<tr><td>Charlie Tilson</td><td>CHW</td></tr>",
                            "<tr><td>Jesus Tinoco</td><td>COL</td></tr>",
                            "<tr><td>Abraham Toro</td><td>HOU</td></tr>",
                            "<tr><td>Luis Torrens</td><td>SDP</td></tr>",
                            "<tr><td>Gleyber Torres</td><td>NYY</td></tr>",
                            "<tr><td>Ronald Torreyes</td><td>MIN</td></tr>",
                            "<tr><td>Wilfredo Tovar</td><td>LAA</td></tr>",
                            "<tr><td>Sam Travis</td><td>BOS</td></tr>",
                            "<tr><td>Jose Trevino</td><td>TEX</td></tr>",
                            "<tr><td>Mike Trout</td><td>LAA</td></tr>",
                            "<tr><td>Mark Trumbo</td><td>BAL</td></tr>",
                            "<tr><td>Cole Tucker</td><td>PIT</td></tr>",
                            "<tr><td>Kyle Tucker</td><td>HOU</td></tr>",
                            "<tr><td>Troy Tulowitzki</td><td>NYY</td></tr>",
                            "<tr><td>Justin Turner</td><td>LAD</td></tr>",
                            "<tr><td>Trea Turner</td><td>WSN</td></tr>",
                            "<tr><td>Justin Upton</td><td>LAA</td></tr>",
                            "<tr><td>Richard Urena</td><td>TOR</td></tr>",
                            "<tr><td>Julio Urias</td><td>LAD</td></tr>",
                            "<tr><td>Luis Urias</td><td>SDP</td></tr>",
                            "<tr><td>Gio Urshela</td><td>NYY</td></tr>",
                            "<tr><td>Pat Valaika</td><td>COL</td></tr>",
                            "<tr><td>Breyvic Valera</td><td>NYY</td></tr>",
                            "<tr><td>Breyvic Valera</td><td>TOR</td></tr>",
                            "<tr><td>Josh VanMeter</td><td>CIN</td></tr>",
                            "<tr><td>Ildemaro Vargas</td><td>ARI</td></tr>",
                            "<tr><td>Jason Vargas</td><td>NYM</td></tr>",
                            "<tr><td>Jason Vargas</td><td>PHI</td></tr>",
                            "<tr><td>Christian Vazquez</td><td>BOS</td></tr>",
                            "<tr><td>Vince Velasquez</td><td>PHI</td></tr>",
                            "<tr><td>Andrew Velazquez</td><td>TBR</td></tr>",
                            "<tr><td>Andrew Velazquez</td><td>CLE</td></tr>",
                            "<tr><td>Alex Verdugo</td><td>LAD</td></tr>",
                            "<tr><td>Jonathan Villar</td><td>BAL</td></tr>",
                            "<tr><td>Meibrys Viloria</td><td>KCR</td></tr>",
                            "<tr><td>Daniel Vogelbach</td><td>SEA</td></tr>",
                            "<tr><td>Stephen Vogt</td><td>SFG</td></tr>",
                            "<tr><td>Luke Voit</td><td>NYY</td></tr>",
                            "<tr><td>Austin Voth</td><td>WSN</td></tr>",
                            "<tr><td>Joey Votto</td><td>CIN</td></tr>",
                            "<tr><td>Michael Wacha</td><td>STL</td></tr>",
                            "<tr><td>LaMonte Wade Jr</td><td>MIN</td></tr>",
                            "<tr><td>Tyler Wade</td><td>NYY</td></tr>",
                            "<tr><td>Adam Wainwright</td><td>STL</td></tr>",
                            "<tr><td>Christian Walker</td><td>ARI</td></tr>",
                            "<tr><td>Neil Walker</td><td>MIA</td></tr>",
                            "<tr><td>Chad Wallach</td><td>MIA</td></tr>",
                            "<tr><td>Jared Walsh</td><td>LAA</td></tr>",
                            "<tr><td>Donovan Walton</td><td>SEA</td></tr>",
                            "<tr><td>Taylor Ward</td><td>LAA</td></tr>",
                            "<tr><td>Luke Weaver</td><td>ARI</td></tr>",
                            "<tr><td>Logan Webb</td><td>SFG</td></tr>",
                            "<tr><td>Joey Wendle</td><td>TBR</td></tr>",
                            "<tr><td>Zack Wheeler</td><td>NYM</td></tr>",
                            "<tr><td>Tyler White</td><td>HOU</td></tr>",
                            "<tr><td>Tyler White</td><td>LAD</td></tr>",
                            "<tr><td>Matt Wieters</td><td>STL</td></tr>",
                            "<tr><td>Aaron Wilkerson</td><td>MIL</td></tr>",
                            "<tr><td>Stevie Wilkerson</td><td>BAL</td></tr>",
                            "<tr><td>Mason Williams</td><td>BAL</td></tr>",
                            "<tr><td>Nick Williams</td><td>PHI</td></tr>",
                            "<tr><td>Trevor Williams</td><td>PIT</td></tr>",
                            "<tr><td>Mac Williamson</td><td>SFG</td></tr>",
                            "<tr><td>Mac Williamson</td><td>SEA</td></tr>",
                            "<tr><td>Bobby Wilson</td><td>DET</td></tr>",
                            "<tr><td>Bryse Wilson</td><td>ATL</td></tr>",
                            "<tr><td>Jesse Winker</td><td>CIN</td></tr>",
                            "<tr><td>Patrick Wisdom</td><td>TEX</td></tr>",
                            "<tr><td>Tony Wolters</td><td>COL</td></tr>",
                            "<tr><td>Kean Wong</td><td>TBR</td></tr>",
                            "<tr><td>Kolten Wong</td><td>STL</td></tr>",
                            "<tr><td>Alex Wood</td><td>CIN</td></tr>",
                            "<tr><td>Brandon Woodruff</td><td>MIL</td></tr>",
                            "<tr><td>Austin Wynns</td><td>BAL</td></tr>",
                            "<tr><td>Jordan Yamamoto</td><td>MIA</td></tr>",
                            "<tr><td>Mike Yastrzemski</td><td>SFG</td></tr>",
                            "<tr><td>Christian Yelich</td><td>MIL</td></tr>",
                            "<tr><td>Alex Young</td><td>ARI</td></tr>",
                            "<tr><td>Mark Zagunis</td><td>CHC</td></tr>",
                            "<tr><td>Seby Zavala</td><td>CHW</td></tr>",
                            "<tr><td>Ryan Zimmerman</td><td>WSN</td></tr>",
                            "<tr><td>Ben Zobrist</td><td>CHC</td></tr>",
                            "<tr><td>Mike Zunino</td><td>TBR</td></tr>",
                            "</table>"
                        ]
                    }
                }
            ],
            "execution_count": 9
        },
        {
            "cell_type": "code",
            "source": [
                "SELECT Name, Hits\n",
                "FROM houseprices\n",
                "ORDER BY Hits DESC;\n",
                ""
            ],
            "metadata": {
                "azdata_cell_guid": "a0937263-5eab-4201-babc-c42fac670124",
                "language": "sql"
            },
            "outputs": [
                {
                    "output_type": "display_data",
                    "data": {
                        "text/html": "(823 row(s) affected)"
                    },
                    "metadata": {}
                },
                {
                    "output_type": "display_data",
                    "data": {
                        "text/html": "Total execution time: 00:00:01.018"
                    },
                    "metadata": {}
                },
                {
                    "output_type": "execute_result",
                    "metadata": {},
                    "execution_count": 10,
                    "data": {
                        "application/vnd.dataresource+json": {
                            "schema": {
                                "fields": [
                                    {
                                        "name": "Name"
                                    },
                                    {
                                        "name": "Hits"
                                    }
                                ]
                            },
                            "data": [
                                {
                                    "Name": "Whit Merrifield",
                                    "Hits": "206"
                                },
                                {
                                    "Name": "Rafael Devers",
                                    "Hits": "201"
                                },
                                {
                                    "Name": "DJ LeMahieu",
                                    "Hits": "197"
                                },
                                {
                                    "Name": "Xander Bogaerts",
                                    "Hits": "190"
                                },
                                {
                                    "Name": "Ozzie Albies",
                                    "Hits": "189"
                                },
                                {
                                    "Name": "Ketel Marte",
                                    "Hits": "187"
                                },
                                {
                                    "Name": "Marcus Semien",
                                    "Hits": "187"
                                },
                                {
                                    "Name": "Jorge Polanco",
                                    "Hits": "186"
                                },
                                {
                                    "Name": "Nolan Arenado",
                                    "Hits": "185"
                                },
                                {
                                    "Name": "Charlie Blackmon",
                                    "Hits": "182"
                                },
                                {
                                    "Name": "José Abreu",
                                    "Hits": "180"
                                },
                                {
                                    "Name": "Michael Brantley",
                                    "Hits": "179"
                                },
                                {
                                    "Name": "Amed Rosario",
                                    "Hits": "177"
                                },
                                {
                                    "Name": "Mookie Betts",
                                    "Hits": "176"
                                },
                                {
                                    "Name": "Freddie Freeman",
                                    "Hits": "176"
                                },
                                {
                                    "Name": "Jonathan Villar",
                                    "Hits": "176"
                                },
                                {
                                    "Name": "Ronald Acuna Jr.",
                                    "Hits": "175"
                                },
                                {
                                    "Name": "Trey Mancini",
                                    "Hits": "175"
                                },
                                {
                                    "Name": "J.D. Martinez",
                                    "Hits": "175"
                                },
                                {
                                    "Name": "Anthony Rendon",
                                    "Hits": "174"
                                },
                                {
                                    "Name": "David Fletcher",
                                    "Hits": "173"
                                },
                                {
                                    "Name": "Trevor Story",
                                    "Hits": "173"
                                },
                                {
                                    "Name": "Starlin Castro",
                                    "Hits": "172"
                                },
                                {
                                    "Name": "Eduardo Escobar",
                                    "Hits": "171"
                                },
                                {
                                    "Name": "Cesar Hernandez",
                                    "Hits": "171"
                                },
                                {
                                    "Name": "Cody Bellinger",
                                    "Hits": "170"
                                },
                                {
                                    "Name": "Francisco Lindor",
                                    "Hits": "170"
                                },
                                {
                                    "Name": "Yuli Gurriel",
                                    "Hits": "168"
                                },
                                {
                                    "Name": "Tim Anderson",
                                    "Hits": "167"
                                },
                                {
                                    "Name": "Elvis Andrus",
                                    "Hits": "165"
                                },
                                {
                                    "Name": "Alex Bregman",
                                    "Hits": "164"
                                },
                                {
                                    "Name": "Eric Hosmer",
                                    "Hits": "164"
                                },
                                {
                                    "Name": "Jeff McNeil",
                                    "Hits": "162"
                                },
                                {
                                    "Name": "Leury Garcia",
                                    "Hits": "161"
                                },
                                {
                                    "Name": "Yoan Moncada",
                                    "Hits": "161"
                                },
                                {
                                    "Name": "Carlos Santana",
                                    "Hits": "161"
                                },
                                {
                                    "Name": "Jean Segura",
                                    "Hits": "161"
                                },
                                {
                                    "Name": "Christian Yelich",
                                    "Hits": "161"
                                },
                                {
                                    "Name": "Hanser Alberto",
                                    "Hits": "160"
                                },
                                {
                                    "Name": "Starling Marte",
                                    "Hits": "159"
                                },
                                {
                                    "Name": "Adam Eaton",
                                    "Hits": "158"
                                },
                                {
                                    "Name": "Kevin Pillar",
                                    "Hits": "157"
                                },
                                {
                                    "Name": "Jorge Soler",
                                    "Hits": "156"
                                },
                                {
                                    "Name": "Eugenio Suarez",
                                    "Hits": "156"
                                },
                                {
                                    "Name": "Pete Alonso",
                                    "Hits": "155"
                                },
                                {
                                    "Name": "Paul Goldschmidt",
                                    "Hits": "155"
                                },
                                {
                                    "Name": "Tommy Pham",
                                    "Hits": "155"
                                },
                                {
                                    "Name": "Eddie Rosario",
                                    "Hits": "155"
                                },
                                {
                                    "Name": "Trea Turner",
                                    "Hits": "155"
                                },
                                {
                                    "Name": "Adam Frazier",
                                    "Hits": "154"
                                },
                                {
                                    "Name": "Austin Meadows",
                                    "Hits": "154"
                                },
                                {
                                    "Name": "Bryan Reynolds",
                                    "Hits": "154"
                                },
                                {
                                    "Name": "Kris Bryant",
                                    "Hits": "153"
                                },
                                {
                                    "Name": "Juan Soto",
                                    "Hits": "153"
                                },
                                {
                                    "Name": "Kevin Newman",
                                    "Hits": "152"
                                },
                                {
                                    "Name": "Gleyber Torres",
                                    "Hits": "152"
                                },
                                {
                                    "Name": "Manny Machado",
                                    "Hits": "150"
                                },
                                {
                                    "Name": "Anthony Rizzo",
                                    "Hits": "150"
                                },
                                {
                                    "Name": "Jose Altuve",
                                    "Hits": "149"
                                },
                                {
                                    "Name": "Javier Baez",
                                    "Hits": "149"
                                },
                                {
                                    "Name": "Shin-Soo Choo",
                                    "Hits": "149"
                                },
                                {
                                    "Name": "Bryce Harper",
                                    "Hits": "149"
                                },
                                {
                                    "Name": "Alex Gordon",
                                    "Hits": "148"
                                },
                                {
                                    "Name": "J.T. Realmuto",
                                    "Hits": "148"
                                },
                                {
                                    "Name": "Josh Bell",
                                    "Hits": "146"
                                },
                                {
                                    "Name": "Lorenzo Cain",
                                    "Hits": "146"
                                },
                                {
                                    "Name": "Hunter Dozier",
                                    "Hits": "146"
                                },
                                {
                                    "Name": "Matt Chapman",
                                    "Hits": "145"
                                },
                                {
                                    "Name": "José Iglesias",
                                    "Hits": "145"
                                },
                                {
                                    "Name": "Andrew Benintendi",
                                    "Hits": "144"
                                },
                                {
                                    "Name": "Josh Donaldson",
                                    "Hits": "142"
                                },
                                {
                                    "Name": "Nick Ahmed",
                                    "Hits": "141"
                                },
                                {
                                    "Name": "Michael Conforto",
                                    "Hits": "141"
                                },
                                {
                                    "Name": "Nelson Cruz",
                                    "Hits": "141"
                                },
                                {
                                    "Name": "George Springer",
                                    "Hits": "140"
                                },
                                {
                                    "Name": "Miguel Cabrera",
                                    "Hits": "139"
                                },
                                {
                                    "Name": "Victor Robles",
                                    "Hits": "139"
                                },
                                {
                                    "Name": "Justin Turner",
                                    "Hits": "139"
                                },
                                {
                                    "Name": "Gio Urshela",
                                    "Hits": "139"
                                },
                                {
                                    "Name": "Avisail Garcia",
                                    "Hits": "138"
                                },
                                {
                                    "Name": "Josh Reddick",
                                    "Hits": "138"
                                },
                                {
                                    "Name": "Miguel Rojas",
                                    "Hits": "137"
                                },
                                {
                                    "Name": "Mike Trout",
                                    "Hits": "137"
                                },
                                {
                                    "Name": "Joey Votto",
                                    "Hits": "137"
                                },
                                {
                                    "Name": "Christian Walker",
                                    "Hits": "137"
                                },
                                {
                                    "Name": "Paul DeJong",
                                    "Hits": "136"
                                },
                                {
                                    "Name": "Randal Grichuk",
                                    "Hits": "136"
                                },
                                {
                                    "Name": "Wilson Ramos",
                                    "Hits": "136"
                                },
                                {
                                    "Name": "Kolten Wong",
                                    "Hits": "136"
                                },
                                {
                                    "Name": "Willy Adames",
                                    "Hits": "135"
                                },
                                {
                                    "Name": "Danny Santana",
                                    "Hits": "134"
                                },
                                {
                                    "Name": "Mike Moustakas",
                                    "Hits": "133"
                                },
                                {
                                    "Name": "Corey Seager",
                                    "Hits": "133"
                                },
                                {
                                    "Name": "Christian Vazquez",
                                    "Hits": "133"
                                },
                                {
                                    "Name": "Max Kepler",
                                    "Hits": "132"
                                },
                                {
                                    "Name": "Renato Nunez",
                                    "Hits": "132"
                                },
                                {
                                    "Name": "Kyle Schwarber",
                                    "Hits": "132"
                                },
                                {
                                    "Name": "Ryan Braun",
                                    "Hits": "131"
                                },
                                {
                                    "Name": "Jason Heyward",
                                    "Hits": "129"
                                },
                                {
                                    "Name": "Rhys Hoskins",
                                    "Hits": "129"
                                },
                                {
                                    "Name": "Colin Moran",
                                    "Hits": "129"
                                },
                                {
                                    "Name": "Matt Olson",
                                    "Hits": "129"
                                },
                                {
                                    "Name": "Kole Calhoun",
                                    "Hits": "128"
                                },
                                {
                                    "Name": "J.D. Davis",
                                    "Hits": "126"
                                },
                                {
                                    "Name": "Yasmani Grandal",
                                    "Hits": "126"
                                },
                                {
                                    "Name": "Vladimir Guerrero Jr.",
                                    "Hits": "126"
                                },
                                {
                                    "Name": "Adam Jones",
                                    "Hits": "126"
                                },
                                {
                                    "Name": "Eloy Jimenez",
                                    "Hits": "125"
                                },
                                {
                                    "Name": "Ramon Laureano",
                                    "Hits": "125"
                                },
                                {
                                    "Name": "Yolmer Sanchez",
                                    "Hits": "125"
                                },
                                {
                                    "Name": "Brandon Belt",
                                    "Hits": "123"
                                },
                                {
                                    "Name": "Brett Gardner",
                                    "Hits": "123"
                                },
                                {
                                    "Name": "Jose Ramirez",
                                    "Hits": "123"
                                },
                                {
                                    "Name": "Max Muncy",
                                    "Hits": "122"
                                },
                                {
                                    "Name": "Daniel Murphy",
                                    "Hits": "122"
                                },
                                {
                                    "Name": "Dansby Swanson",
                                    "Hits": "121"
                                },
                                {
                                    "Name": "Brian Anderson",
                                    "Hits": "120"
                                },
                                {
                                    "Name": "Freddy Galvis",
                                    "Hits": "120"
                                },
                                {
                                    "Name": "James McCann",
                                    "Hits": "120"
                                },
                                {
                                    "Name": "Ryan McMahon",
                                    "Hits": "120"
                                },
                                {
                                    "Name": "Albert Pujols",
                                    "Hits": "120"
                                },
                                {
                                    "Name": "Omar Narvaez",
                                    "Hits": "119"
                                },
                                {
                                    "Name": "Scott Kingery",
                                    "Hits": "118"
                                },
                                {
                                    "Name": "Nick Markakis",
                                    "Hits": "118"
                                },
                                {
                                    "Name": "Oscar Mercado",
                                    "Hits": "118"
                                },
                                {
                                    "Name": "Marcell Ozuna",
                                    "Hits": "117"
                                },
                                {
                                    "Name": "Raimel Tapia",
                                    "Hits": "117"
                                },
                                {
                                    "Name": "C.J. Cron",
                                    "Hits": "116"
                                },
                                {
                                    "Name": "Dexter Fowler",
                                    "Hits": "116"
                                },
                                {
                                    "Name": "Harold Ramirez",
                                    "Hits": "116"
                                },
                                {
                                    "Name": "Mallex Smith",
                                    "Hits": "116"
                                },
                                {
                                    "Name": "Howie Kendrick",
                                    "Hits": "115"
                                },
                                {
                                    "Name": "Evan Longoria",
                                    "Hits": "115"
                                },
                                {
                                    "Name": "Nomar Mazara",
                                    "Hits": "115"
                                },
                                {
                                    "Name": "Brandon Crawford",
                                    "Hits": "114"
                                },
                                {
                                    "Name": "Domingo Santana",
                                    "Hits": "114"
                                },
                                {
                                    "Name": "Jorge Alfaro",
                                    "Hits": "113"
                                },
                                {
                                    "Name": "David Dahl",
                                    "Hits": "113"
                                },
                                {
                                    "Name": "Ian Desmond",
                                    "Hits": "113"
                                },
                                {
                                    "Name": "Yadier Molina",
                                    "Hits": "113"
                                },
                                {
                                    "Name": "Luke Voit",
                                    "Hits": "113"
                                },
                                {
                                    "Name": "Mark Canha",
                                    "Hits": "112"
                                },
                                {
                                    "Name": "Todd Frazier",
                                    "Hits": "112"
                                },
                                {
                                    "Name": "Marwin Gonzalez",
                                    "Hits": "112"
                                },
                                {
                                    "Name": "Jason Kipnis",
                                    "Hits": "112"
                                },
                                {
                                    "Name": "Joc Pederson",
                                    "Hits": "112"
                                },
                                {
                                    "Name": "Jackie Bradley Jr.",
                                    "Hits": "111"
                                },
                                {
                                    "Name": "Jonathan Schoop",
                                    "Hits": "111"
                                },
                                {
                                    "Name": "Orlando Arcia",
                                    "Hits": "110"
                                },
                                {
                                    "Name": "Nicholas Castellanos",
                                    "Hits": "110"
                                },
                                {
                                    "Name": "Shohei Ohtani",
                                    "Hits": "110"
                                },
                                {
                                    "Name": "Luis Arraez",
                                    "Hits": "109"
                                },
                                {
                                    "Name": "Adalberto Mondesi",
                                    "Hits": "109"
                                },
                                {
                                    "Name": "Brian Goodwin",
                                    "Hits": "108"
                                },
                                {
                                    "Name": "Dee Gordon",
                                    "Hits": "108"
                                },
                                {
                                    "Name": "Ji-Man Choi",
                                    "Hits": "107"
                                },
                                {
                                    "Name": "Garrett Cooper",
                                    "Hits": "107"
                                },
                                {
                                    "Name": "Rougned Odor",
                                    "Hits": "107"
                                },
                                {
                                    "Name": "Melky Cabrera",
                                    "Hits": "106"
                                },
                                {
                                    "Name": "Khris Davis",
                                    "Hits": "106"
                                },
                                {
                                    "Name": "Fernando Tatis Jr.",
                                    "Hits": "106"
                                },
                                {
                                    "Name": "Niko Goodrum",
                                    "Hits": "105"
                                },
                                {
                                    "Name": "David Peralta",
                                    "Hits": "105"
                                },
                                {
                                    "Name": "Andrelton Simmons",
                                    "Hits": "105"
                                },
                                {
                                    "Name": "Wil Myers",
                                    "Hits": "104"
                                },
                                {
                                    "Name": "Buster Posey",
                                    "Hits": "104"
                                },
                                {
                                    "Name": "Harold Castro",
                                    "Hits": "103"
                                },
                                {
                                    "Name": "Aaron Judge",
                                    "Hits": "103"
                                },
                                {
                                    "Name": "Kevin Kiermaier",
                                    "Hits": "102"
                                },
                                {
                                    "Name": "Robbie Grossman",
                                    "Hits": "101"
                                },
                                {
                                    "Name": "Alex Verdugo",
                                    "Hits": "101"
                                },
                                {
                                    "Name": "Mike Yastrzemski",
                                    "Hits": "101"
                                },
                                {
                                    "Name": "Robinson Cano",
                                    "Hits": "100"
                                },
                                {
                                    "Name": "Jurickson Profar",
                                    "Hits": "100"
                                },
                                {
                                    "Name": "Brian Dozier",
                                    "Hits": "99"
                                },
                                {
                                    "Name": "Tommy Edman",
                                    "Hits": "99"
                                },
                                {
                                    "Name": "Anthony Santander",
                                    "Hits": "99"
                                },
                                {
                                    "Name": "Yordan Álvarez",
                                    "Hits": "98"
                                },
                                {
                                    "Name": "Willson Contreras",
                                    "Hits": "98"
                                },
                                {
                                    "Name": "Enrique Hernandez",
                                    "Hits": "98"
                                },
                                {
                                    "Name": "Eric Thames",
                                    "Hits": "98"
                                },
                                {
                                    "Name": "Brandon Dixon",
                                    "Hits": "97"
                                },
                                {
                                    "Name": "Teoscar Hernandez",
                                    "Hits": "96"
                                },
                                {
                                    "Name": "Nick Senzel",
                                    "Hits": "96"
                                },
                                {
                                    "Name": "Chris Taylor",
                                    "Hits": "96"
                                },
                                {
                                    "Name": "Daniel Vogelbach",
                                    "Hits": "96"
                                },
                                {
                                    "Name": "Keston Hiura",
                                    "Hits": "95"
                                },
                                {
                                    "Name": "Hunter Renfroe",
                                    "Hits": "95"
                                },
                                {
                                    "Name": "Matt Carpenter",
                                    "Hits": "94"
                                },
                                {
                                    "Name": "Yasiel Puig",
                                    "Hits": "94"
                                },
                                {
                                    "Name": "Miguel Sano",
                                    "Hits": "94"
                                },
                                {
                                    "Name": "Kyle Seager",
                                    "Hits": "94"
                                },
                                {
                                    "Name": "Tony Wolters",
                                    "Hits": "94"
                                },
                                {
                                    "Name": "Manuel Margot",
                                    "Hits": "93"
                                },
                                {
                                    "Name": "Roberto Perez",
                                    "Hits": "93"
                                },
                                {
                                    "Name": "Jarrod Dyson",
                                    "Hits": "92"
                                },
                                {
                                    "Name": "Gary Sanchez",
                                    "Hits": "92"
                                },
                                {
                                    "Name": "Brandon Drury",
                                    "Hits": "91"
                                },
                                {
                                    "Name": "Maikel Franco",
                                    "Hits": "91"
                                },
                                {
                                    "Name": "Nicky Lopez",
                                    "Hits": "91"
                                },
                                {
                                    "Name": "Jesse Winker",
                                    "Hits": "91"
                                },
                                {
                                    "Name": "Jose Martinez",
                                    "Hits": "90"
                                },
                                {
                                    "Name": "Jose Peraza",
                                    "Hits": "90"
                                },
                                {
                                    "Name": "Delino DeShields",
                                    "Hits": "89"
                                },
                                {
                                    "Name": "Stephen Piscotty",
                                    "Hits": "89"
                                },
                                {
                                    "Name": "Michael Chavis",
                                    "Hits": "88"
                                },
                                {
                                    "Name": "Neil Walker",
                                    "Hits": "88"
                                },
                                {
                                    "Name": "Robinson Chirinos",
                                    "Hits": "87"
                                },
                                {
                                    "Name": "Lourdes Gurriel Jr.",
                                    "Hits": "87"
                                },
                                {
                                    "Name": "Travis d'Arnaud",
                                    "Hits": "86"
                                },
                                {
                                    "Name": "Tommy La Stella",
                                    "Hits": "86"
                                },
                                {
                                    "Name": "Rio Ruiz",
                                    "Hits": "86"
                                },
                                {
                                    "Name": "Dwight Smith Jr.",
                                    "Hits": "86"
                                },
                                {
                                    "Name": "Justin Smoak",
                                    "Hits": "86"
                                },
                                {
                                    "Name": "Eric Sogard",
                                    "Hits": "86"
                                },
                                {
                                    "Name": "Christin Stewart",
                                    "Hits": "86"
                                },
                                {
                                    "Name": "Mitch Garver",
                                    "Hits": "85"
                                },
                                {
                                    "Name": "Hunter Pence",
                                    "Hits": "85"
                                },
                                {
                                    "Name": "Luis Rengifo",
                                    "Hits": "85"
                                },
                                {
                                    "Name": "Jake Bauers",
                                    "Hits": "84"
                                },
                                {
                                    "Name": "Wilmer Flores",
                                    "Hits": "84"
                                },
                                {
                                    "Name": "Victor Reyes",
                                    "Hits": "84"
                                },
                                {
                                    "Name": "Rowdy Tellez",
                                    "Hits": "84"
                                },
                                {
                                    "Name": "Cavan Biggio",
                                    "Hits": "83"
                                },
                                {
                                    "Name": "Willie Calhoun",
                                    "Hits": "83"
                                },
                                {
                                    "Name": "Yandy Díaz",
                                    "Hits": "82"
                                },
                                {
                                    "Name": "Chad Pinder",
                                    "Hits": "82"
                                },
                                {
                                    "Name": "A.J. Pollock",
                                    "Hits": "82"
                                },
                                {
                                    "Name": "Franmil Reyes",
                                    "Hits": "82"
                                },
                                {
                                    "Name": "Joe Panik",
                                    "Hits": "81"
                                },
                                {
                                    "Name": "Albert Almora",
                                    "Hits": "80"
                                },
                                {
                                    "Name": "Brandon Lowe",
                                    "Hits": "80"
                                },
                                {
                                    "Name": "Tyler Naquin",
                                    "Hits": "79"
                                },
                                {
                                    "Name": "David Bote",
                                    "Hits": "78"
                                },
                                {
                                    "Name": "Carlos Correa",
                                    "Hits": "78"
                                },
                                {
                                    "Name": "J.P. Crawford",
                                    "Hits": "78"
                                },
                                {
                                    "Name": "Ben Gamel",
                                    "Hits": "77"
                                },
                                {
                                    "Name": "Greg Garcia",
                                    "Hits": "77"
                                },
                                {
                                    "Name": "Didi Gregorius",
                                    "Hits": "77"
                                },
                                {
                                    "Name": "Brock Holt",
                                    "Hits": "77"
                                },
                                {
                                    "Name": "Carson Kelly",
                                    "Hits": "77"
                                },
                                {
                                    "Name": "Asdrubal Cabrera",
                                    "Hits": "76"
                                },
                                {
                                    "Name": "Cheslor Cuthbert",
                                    "Hits": "76"
                                },
                                {
                                    "Name": "Pedro Severino",
                                    "Hits": "76"
                                },
                                {
                                    "Name": "Mitch Moreland",
                                    "Hits": "75"
                                },
                                {
                                    "Name": "Josh Phegley",
                                    "Hits": "75"
                                },
                                {
                                    "Name": "Garrett Hampson",
                                    "Hits": "74"
                                },
                                {
                                    "Name": "Kurt Suzuki",
                                    "Hits": "74"
                                },
                                {
                                    "Name": "Stevie Wilkerson",
                                    "Hits": "74"
                                },
                                {
                                    "Name": "Tucker Barnhart",
                                    "Hits": "73"
                                },
                                {
                                    "Name": "Elias Diaz",
                                    "Hits": "73"
                                },
                                {
                                    "Name": "Pablo Sandoval",
                                    "Hits": "73"
                                },
                                {
                                    "Name": "Tim Beckham",
                                    "Hits": "72"
                                },
                                {
                                    "Name": "Logan Forsythe",
                                    "Hits": "72"
                                },
                                {
                                    "Name": "Danny Jansen",
                                    "Hits": "72"
                                },
                                {
                                    "Name": "Mike Tauchman",
                                    "Hits": "72"
                                },
                                {
                                    "Name": "Harrison Bader",
                                    "Hits": "71"
                                },
                                {
                                    "Name": "Byron Buxton",
                                    "Hits": "71"
                                },
                                {
                                    "Name": "Tom Murphy",
                                    "Hits": "71"
                                },
                                {
                                    "Name": "Donovan Solano",
                                    "Hits": "71"
                                },
                                {
                                    "Name": "Matt Adams",
                                    "Hits": "70"
                                },
                                {
                                    "Name": "Jon Berti",
                                    "Hits": "70"
                                },
                                {
                                    "Name": "Yan Gomes",
                                    "Hits": "70"
                                },
                                {
                                    "Name": "JaCoby Jones",
                                    "Hits": "70"
                                },
                                {
                                    "Name": "Brian McCann",
                                    "Hits": "69"
                                },
                                {
                                    "Name": "Jordy Mercer",
                                    "Hits": "69"
                                },
                                {
                                    "Name": "Jose Osuna",
                                    "Hits": "69"
                                },
                                {
                                    "Name": "Jeimer Candelario",
                                    "Hits": "68"
                                },
                                {
                                    "Name": "Nicholas Castellanos",
                                    "Hits": "68"
                                },
                                {
                                    "Name": "Jake Marisnick",
                                    "Hits": "68"
                                },
                                {
                                    "Name": "Cameron Maybin",
                                    "Hits": "68"
                                },
                                {
                                    "Name": "John Hicks",
                                    "Hits": "67"
                                },
                                {
                                    "Name": "Dawel Lugo",
                                    "Hits": "67"
                                },
                                {
                                    "Name": "Stephen Vogt",
                                    "Hits": "67"
                                },
                                {
                                    "Name": "Matt Beaty",
                                    "Hits": "66"
                                },
                                {
                                    "Name": "Victor Caratini",
                                    "Hits": "65"
                                },
                                {
                                    "Name": "Phil Ervin",
                                    "Hits": "64"
                                },
                                {
                                    "Name": "Austin Nola",
                                    "Hits": "64"
                                },
                                {
                                    "Name": "Ryan O'Hearn",
                                    "Hits": "64"
                                },
                                {
                                    "Name": "Austin Romine",
                                    "Hits": "64"
                                },
                                {
                                    "Name": "Josh Naylor",
                                    "Hits": "63"
                                },
                                {
                                    "Name": "Tyler Flowers",
                                    "Hits": "62"
                                },
                                {
                                    "Name": "Jordan Luplow",
                                    "Hits": "62"
                                },
                                {
                                    "Name": "Austin Riley",
                                    "Hits": "62"
                                },
                                {
                                    "Name": "Bo Bichette",
                                    "Hits": "61"
                                },
                                {
                                    "Name": "Steven Duggar",
                                    "Hits": "61"
                                },
                                {
                                    "Name": "Joey Gallo",
                                    "Hits": "61"
                                },
                                {
                                    "Name": "Ronny Rodriguez",
                                    "Hits": "61"
                                },
                                {
                                    "Name": "Clint Frazier",
                                    "Hits": "60"
                                },
                                {
                                    "Name": "Francisco Mejia",
                                    "Hits": "60"
                                },
                                {
                                    "Name": "Adam Haseley",
                                    "Hits": "59"
                                },
                                {
                                    "Name": "Matthew Joyce",
                                    "Hits": "59"
                                },
                                {
                                    "Name": "Richie Martin",
                                    "Hits": "59"
                                },
                                {
                                    "Name": "Edwin Encarnacion",
                                    "Hits": "58"
                                },
                                {
                                    "Name": "Curtis Granderson",
                                    "Hits": "58"
                                },
                                {
                                    "Name": "Billy Hamilton",
                                    "Hits": "58"
                                },
                                {
                                    "Name": "Jonathan Lucroy",
                                    "Hits": "58"
                                },
                                {
                                    "Name": "Aledmys Díaz",
                                    "Hits": "57"
                                },
                                {
                                    "Name": "Martin Prado",
                                    "Hits": "57"
                                },
                                {
                                    "Name": "Ronald Guzman",
                                    "Hits": "56"
                                },
                                {
                                    "Name": "Ian Kinsler",
                                    "Hits": "56"
                                },
                                {
                                    "Name": "Andrew McCutchen",
                                    "Hits": "56"
                                },
                                {
                                    "Name": "Ehire Adrianza",
                                    "Hits": "55"
                                },
                                {
                                    "Name": "Jason Castro",
                                    "Hits": "55"
                                },
                                {
                                    "Name": "Chris Davis",
                                    "Hits": "55"
                                },
                                {
                                    "Name": "Adam Engel",
                                    "Hits": "55"
                                },
                                {
                                    "Name": "Austin Hedges",
                                    "Hits": "55"
                                },
                                {
                                    "Name": "Juan Lagares",
                                    "Hits": "55"
                                },
                                {
                                    "Name": "Joey Wendle",
                                    "Hits": "55"
                                },
                                {
                                    "Name": "Johan Camargo",
                                    "Hits": "54"
                                },
                                {
                                    "Name": "Mitch Haniger",
                                    "Hits": "54"
                                },
                                {
                                    "Name": "Martin Maldonado",
                                    "Hits": "54"
                                },
                                {
                                    "Name": "Billy McKinney",
                                    "Hits": "54"
                                },
                                {
                                    "Name": "Yasiel Puig",
                                    "Hits": "54"
                                },
                                {
                                    "Name": "Josh VanMeter",
                                    "Hits": "54"
                                },
                                {
                                    "Name": "Ildemaro Vargas",
                                    "Hits": "54"
                                },
                                {
                                    "Name": "Greg Allen",
                                    "Hits": "53"
                                },
                                {
                                    "Name": "Aristides Aquino",
                                    "Hits": "53"
                                },
                                {
                                    "Name": "Tim Locastro",
                                    "Hits": "53"
                                },
                                {
                                    "Name": "Hernan Perez",
                                    "Hits": "53"
                                },
                                {
                                    "Name": "Curt Casali",
                                    "Hits": "52"
                                },
                                {
                                    "Name": "Aaron Hicks",
                                    "Hits": "52"
                                },
                                {
                                    "Name": "Willians Astudillo",
                                    "Hits": "51"
                                },
                                {
                                    "Name": "Jake Cave",
                                    "Hits": "51"
                                },
                                {
                                    "Name": "David Freese",
                                    "Hits": "51"
                                },
                                {
                                    "Name": "Dylan Moore",
                                    "Hits": "51"
                                },
                                {
                                    "Name": "Addison Russell",
                                    "Hits": "51"
                                },
                                {
                                    "Name": "Jesus Aguilar",
                                    "Hits": "50"
                                },
                                {
                                    "Name": "Dominic Smith",
                                    "Hits": "50"
                                },
                                {
                                    "Name": "Jacob Stallings",
                                    "Hits": "50"
                                },
                                {
                                    "Name": "Mike Freeman",
                                    "Hits": "49"
                                },
                                {
                                    "Name": "Ender Inciarte",
                                    "Hits": "49"
                                },
                                {
                                    "Name": "Tyler White",
                                    "Hits": "49"
                                },
                                {
                                    "Name": "Gordon Beckham",
                                    "Hits": "48"
                                },
                                {
                                    "Name": "Welington Castillo",
                                    "Hits": "48"
                                },
                                {
                                    "Name": "Ryan Cordell",
                                    "Hits": "48"
                                },
                                {
                                    "Name": "Isiah Kiner-Falefa",
                                    "Hits": "48"
                                },
                                {
                                    "Name": "Kevan Smith",
                                    "Hits": "48"
                                },
                                {
                                    "Name": "Luis Urias",
                                    "Hits": "48"
                                },
                                {
                                    "Name": "Derek Dietrich",
                                    "Hits": "47"
                                },
                                {
                                    "Name": "Leonys Martín",
                                    "Hits": "47"
                                },
                                {
                                    "Name": "Gerardo Parra",
                                    "Hits": "47"
                                },
                                {
                                    "Name": "Justin Upton",
                                    "Hits": "47"
                                },
                                {
                                    "Name": "Guillermo Heredia",
                                    "Hits": "46"
                                },
                                {
                                    "Name": "Russell Martin",
                                    "Hits": "46"
                                },
                                {
                                    "Name": "Yairo Munoz",
                                    "Hits": "46"
                                },
                                {
                                    "Name": "Alex Dickerson",
                                    "Hits": "45"
                                },
                                {
                                    "Name": "Edwin Encarnacion",
                                    "Hits": "44"
                                },
                                {
                                    "Name": "Jon Jay",
                                    "Hits": "44"
                                },
                                {
                                    "Name": "Brandon Nimmo",
                                    "Hits": "44"
                                },
                                {
                                    "Name": "Daniel Robertson",
                                    "Hits": "44"
                                },
                                {
                                    "Name": "Ryan Zimmerman",
                                    "Hits": "44"
                                },
                                {
                                    "Name": "Mike Zunino",
                                    "Hits": "44"
                                },
                                {
                                    "Name": "Austin Barnes",
                                    "Hits": "43"
                                },
                                {
                                    "Name": "Ty France",
                                    "Hits": "43"
                                },
                                {
                                    "Name": "Will Smith",
                                    "Hits": "43"
                                },
                                {
                                    "Name": "Kyle Farmer",
                                    "Hits": "42"
                                },
                                {
                                    "Name": "Grayson Greiner",
                                    "Hits": "42"
                                },
                                {
                                    "Name": "Franmil Reyes",
                                    "Hits": "41"
                                },
                                {
                                    "Name": "Asdrubal Cabrera",
                                    "Hits": "40"
                                },
                                {
                                    "Name": "Austin Dean",
                                    "Hits": "40"
                                },
                                {
                                    "Name": "Corey Dickerson",
                                    "Hits": "40"
                                },
                                {
                                    "Name": "Ryon Healy",
                                    "Hits": "40"
                                },
                                {
                                    "Name": "Shed Long",
                                    "Hits": "40"
                                },
                                {
                                    "Name": "Nate Lowe",
                                    "Hits": "40"
                                },
                                {
                                    "Name": "Austin Slater",
                                    "Hits": "40"
                                },
                                {
                                    "Name": "Bubba Starling",
                                    "Hits": "40"
                                },
                                {
                                    "Name": "Yonder Alonso",
                                    "Hits": "39"
                                },
                                {
                                    "Name": "Lewis Brinson",
                                    "Hits": "39"
                                },
                                {
                                    "Name": "Corey Dickerson",
                                    "Hits": "39"
                                },
                                {
                                    "Name": "Ben Zobrist",
                                    "Hits": "39"
                                },
                                {
                                    "Name": "Travis Demeritte",
                                    "Hits": "38"
                                },
                                {
                                    "Name": "Eduardo Nunez",
                                    "Hits": "38"
                                },
                                {
                                    "Name": "Matt Duffy",
                                    "Hits": "37"
                                },
                                {
                                    "Name": "Mike Ford",
                                    "Hits": "37"
                                },
                                {
                                    "Name": "Ian Happ",
                                    "Hits": "37"
                                },
                                {
                                    "Name": "Marco Hernandez",
                                    "Hits": "37"
                                },
                                {
                                    "Name": "Tony Kemp",
                                    "Hits": "37"
                                },
                                {
                                    "Name": "Tyler O'Neill",
                                    "Hits": "37"
                                },
                                {
                                    "Name": "Gregory Polanco",
                                    "Hits": "37"
                                },
                                {
                                    "Name": "Mike Brosseau",
                                    "Hits": "36"
                                },
                                {
                                    "Name": "Ryan Goins",
                                    "Hits": "36"
                                },
                                {
                                    "Name": "Erik Gonzalez",
                                    "Hits": "36"
                                },
                                {
                                    "Name": "Trent Grisham",
                                    "Hits": "36"
                                },
                                {
                                    "Name": "Jake Lamb",
                                    "Hits": "36"
                                },
                                {
                                    "Name": "Jeff Mathis",
                                    "Hits": "36"
                                },
                                {
                                    "Name": "Manny Pina",
                                    "Hits": "36"
                                },
                                {
                                    "Name": "Travis Shaw",
                                    "Hits": "36"
                                },
                                {
                                    "Name": "Matt Wieters",
                                    "Hits": "36"
                                },
                                {
                                    "Name": "Jay Bruce",
                                    "Hits": "35"
                                },
                                {
                                    "Name": "Charlie Culberson",
                                    "Hits": "35"
                                },
                                {
                                    "Name": "Kevin Plawecki",
                                    "Hits": "35"
                                },
                                {
                                    "Name": "Chance Sisco",
                                    "Hits": "35"
                                },
                                {
                                    "Name": "Alex Avila",
                                    "Hits": "34"
                                },
                                {
                                    "Name": "Nick Solak",
                                    "Hits": "34"
                                },
                                {
                                    "Name": "Wilmer Difo",
                                    "Hits": "33"
                                },
                                {
                                    "Name": "Sandy Leon",
                                    "Hits": "33"
                                },
                                {
                                    "Name": "Charlie Tilson",
                                    "Hits": "33"
                                },
                                {
                                    "Name": "Jay Bruce",
                                    "Hits": "32"
                                },
                                {
                                    "Name": "Adam Duvall",
                                    "Hits": "32"
                                },
                                {
                                    "Name": "Bryan Holaday",
                                    "Hits": "32"
                                },
                                {
                                    "Name": "Chris Iannetta",
                                    "Hits": "32"
                                },
                                {
                                    "Name": "Isan Diaz",
                                    "Hits": "31"
                                },
                                {
                                    "Name": "Brad Miller",
                                    "Hits": "31"
                                },
                                {
                                    "Name": "Matt Thaiss",
                                    "Hits": "31"
                                },
                                {
                                    "Name": "Sam Travis",
                                    "Hits": "31"
                                },
                                {
                                    "Name": "Jose Trevino",
                                    "Hits": "31"
                                },
                                {
                                    "Name": "Cole Tucker",
                                    "Hits": "31"
                                },
                                {
                                    "Name": "Cam Gallagher",
                                    "Hits": "30"
                                },
                                {
                                    "Name": "Tim Lopes",
                                    "Hits": "30"
                                },
                                {
                                    "Name": "Josh Rojas",
                                    "Hits": "30"
                                },
                                {
                                    "Name": "DJ Stewart",
                                    "Hits": "30"
                                },
                                {
                                    "Name": "Daniel Descalso",
                                    "Hits": "29"
                                },
                                {
                                    "Name": "Mauricio Dubon",
                                    "Hits": "29"
                                },
                                {
                                    "Name": "Adeiny Hechavarria",
                                    "Hits": "29"
                                },
                                {
                                    "Name": "Jung Ho Kang",
                                    "Hits": "29"
                                },
                                {
                                    "Name": "Andrew Knapp",
                                    "Hits": "29"
                                },
                                {
                                    "Name": "Reese McGuire",
                                    "Hits": "29"
                                },
                                {
                                    "Name": "Pablo Reyes",
                                    "Hits": "29"
                                },
                                {
                                    "Name": "Eric Sogard",
                                    "Hits": "29"
                                },
                                {
                                    "Name": "Myles Straw",
                                    "Hits": "29"
                                },
                                {
                                    "Name": "Odubel Herrera",
                                    "Hits": "28"
                                },
                                {
                                    "Name": "Jose Rondon",
                                    "Hits": "28"
                                },
                                {
                                    "Name": "Meibrys Viloria",
                                    "Hits": "28"
                                },
                                {
                                    "Name": "Justin Bour",
                                    "Hits": "26"
                                },
                                {
                                    "Name": "Tomas Nido",
                                    "Hits": "26"
                                },
                                {
                                    "Name": "Joe Panik",
                                    "Hits": "26"
                                },
                                {
                                    "Name": "Freddy Galvis",
                                    "Hits": "25"
                                },
                                {
                                    "Name": "JT Riddle",
                                    "Hits": "25"
                                },
                                {
                                    "Name": "Sean Rodriguez",
                                    "Hits": "25"
                                },
                                {
                                    "Name": "Jesus Aguilar",
                                    "Hits": "24"
                                },
                                {
                                    "Name": "Humberto Arteaga",
                                    "Hits": "24"
                                },
                                {
                                    "Name": "Tyler Austin",
                                    "Hits": "24"
                                },
                                {
                                    "Name": "Josh Harrison",
                                    "Hits": "24"
                                },
                                {
                                    "Name": "Joey Rickard",
                                    "Hits": "24"
                                },
                                {
                                    "Name": "Willi Castro",
                                    "Hits": "23"
                                },
                                {
                                    "Name": "Roman Quinn",
                                    "Hits": "23"
                                },
                                {
                                    "Name": "Mark Reynolds",
                                    "Hits": "23"
                                },
                                {
                                    "Name": "Tyler Wade",
                                    "Hits": "23"
                                },
                                {
                                    "Name": "Seth Brown",
                                    "Hits": "22"
                                },
                                {
                                    "Name": "Carlos Gonzalez",
                                    "Hits": "22"
                                },
                                {
                                    "Name": "Nico Hoerner",
                                    "Hits": "22"
                                },
                                {
                                    "Name": "Ryan McBroom",
                                    "Hits": "22"
                                },
                                {
                                    "Name": "Kendrys Morales",
                                    "Hits": "22"
                                },
                                {
                                    "Name": "Jace Peterson",
                                    "Hits": "22"
                                },
                                {
                                    "Name": "Cory Spangenberg",
                                    "Hits": "22"
                                },
                                {
                                    "Name": "Michael A. Taylor",
                                    "Hits": "22"
                                },
                                {
                                    "Name": "Keon Broxton",
                                    "Hits": "21"
                                },
                                {
                                    "Name": "Francisco Cervelli",
                                    "Hits": "21"
                                },
                                {
                                    "Name": "Austin Hays",
                                    "Hits": "21"
                                },
                                {
                                    "Name": "Rosell Herrera",
                                    "Hits": "21"
                                },
                                {
                                    "Name": "Sam Hilliard",
                                    "Hits": "21"
                                },
                                {
                                    "Name": "Yonathan Daza",
                                    "Hits": "20"
                                },
                                {
                                    "Name": "Adeiny Hechavarria",
                                    "Hits": "20"
                                },
                                {
                                    "Name": "Nick Martini",
                                    "Hits": "20"
                                },
                                {
                                    "Name": "Yonder Alonso",
                                    "Hits": "19"
                                },
                                {
                                    "Name": "Kelvin Gutierrez",
                                    "Hits": "19"
                                },
                                {
                                    "Name": "Kyle Lewis",
                                    "Hits": "19"
                                },
                                {
                                    "Name": "Lucas Duda",
                                    "Hits": "18"
                                },
                                {
                                    "Name": "Gavin Lux",
                                    "Hits": "18"
                                },
                                {
                                    "Name": "Luke Maile",
                                    "Hits": "18"
                                },
                                {
                                    "Name": "Rafael Ortega",
                                    "Hits": "18"
                                },
                                {
                                    "Name": "Chris Owings",
                                    "Hits": "18"
                                },
                                {
                                    "Name": "Kyle Tucker",
                                    "Hits": "18"
                                },
                                {
                                    "Name": "Richard Urena",
                                    "Hits": "18"
                                },
                                {
                                    "Name": "Carlos Gomez",
                                    "Hits": "17"
                                },
                                {
                                    "Name": "Phil Gosselin",
                                    "Hits": "17"
                                },
                                {
                                    "Name": "Chris Herrmann",
                                    "Hits": "17"
                                },
                                {
                                    "Name": "Martin Maldonado",
                                    "Hits": "17"
                                },
                                {
                                    "Name": "Gerardo Parra",
                                    "Hits": "17"
                                },
                                {
                                    "Name": "Brendan Rodgers",
                                    "Hits": "17"
                                },
                                {
                                    "Name": "Giancarlo Stanton",
                                    "Hits": "17"
                                },
                                {
                                    "Name": "Abraham Toro",
                                    "Hits": "17"
                                },
                                {
                                    "Name": "Zack Collins",
                                    "Hits": "16"
                                },
                                {
                                    "Name": "Thairo Estrada",
                                    "Hits": "16"
                                },
                                {
                                    "Name": "Dustin Garneau",
                                    "Hits": "16"
                                },
                                {
                                    "Name": "Scott Heineman",
                                    "Hits": "16"
                                },
                                {
                                    "Name": "Steve Pearce",
                                    "Hits": "16"
                                },
                                {
                                    "Name": "Cesar Puello",
                                    "Hits": "16"
                                },
                                {
                                    "Name": "Wilfredo Tovar",
                                    "Hits": "16"
                                },
                                {
                                    "Name": "Jared Walsh",
                                    "Hits": "16"
                                },
                                {
                                    "Name": "Nick Williams",
                                    "Hits": "16"
                                },
                                {
                                    "Name": "Kevin Cron",
                                    "Hits": "15"
                                },
                                {
                                    "Name": "Jonathan Davis",
                                    "Hits": "15"
                                },
                                {
                                    "Name": "Derek Fisher",
                                    "Hits": "15"
                                },
                                {
                                    "Name": "Robel Garcia",
                                    "Hits": "15"
                                },
                                {
                                    "Name": "Scooter Gennett",
                                    "Hits": "15"
                                },
                                {
                                    "Name": "Scooter Gennett",
                                    "Hits": "15"
                                },
                                {
                                    "Name": "Luis Guillorme",
                                    "Hits": "15"
                                },
                                {
                                    "Name": "Tony Kemp",
                                    "Hits": "15"
                                },
                                {
                                    "Name": "Cesar Puello",
                                    "Hits": "15"
                                },
                                {
                                    "Name": "Matt Skole",
                                    "Hits": "15"
                                },
                                {
                                    "Name": "Yangervis Solarte",
                                    "Hits": "15"
                                },
                                {
                                    "Name": "Max Stassi",
                                    "Hits": "15"
                                },
                                {
                                    "Name": "Pat Valaika",
                                    "Hits": "15"
                                },
                                {
                                    "Name": "Austin Wynns",
                                    "Hits": "15"
                                },
                                {
                                    "Name": "Austin Allen",
                                    "Hits": "14"
                                },
                                {
                                    "Name": "Steven Brault",
                                    "Hits": "14"
                                },
                                {
                                    "Name": "Terrance Gore",
                                    "Hits": "14"
                                },
                                {
                                    "Name": "Nick Hundley",
                                    "Hits": "14"
                                },
                                {
                                    "Name": "Kristopher Negron",
                                    "Hits": "14"
                                },
                                {
                                    "Name": "Sheldon Neuse",
                                    "Hits": "14"
                                },
                                {
                                    "Name": "Joey Rickard",
                                    "Hits": "14"
                                },
                                {
                                    "Name": "Jake Rogers",
                                    "Hits": "14"
                                },
                                {
                                    "Name": "Magneuris Sierra",
                                    "Hits": "14"
                                },
                                {
                                    "Name": "Mac Williamson",
                                    "Hits": "14"
                                },
                                {
                                    "Name": "Yu Chang",
                                    "Hits": "13"
                                },
                                {
                                    "Name": "Jacob deGrom",
                                    "Hits": "13"
                                },
                                {
                                    "Name": "Nicky Delmonico",
                                    "Hits": "13"
                                },
                                {
                                    "Name": "Zack Greinke",
                                    "Hits": "13"
                                },
                                {
                                    "Name": "Steven Matz",
                                    "Hits": "13"
                                },
                                {
                                    "Name": "Sean Murphy",
                                    "Hits": "13"
                                },
                                {
                                    "Name": "Edwin Rios",
                                    "Hits": "13"
                                },
                                {
                                    "Name": "Jesus Sucre",
                                    "Hits": "13"
                                },
                                {
                                    "Name": "Zack Cozart",
                                    "Hits": "12"
                                },
                                {
                                    "Name": "Tim Federowicz",
                                    "Hits": "12"
                                },
                                {
                                    "Name": "Derek Fisher",
                                    "Hits": "12"
                                },
                                {
                                    "Name": "Josh Fuentes",
                                    "Hits": "12"
                                },
                                {
                                    "Name": "Kyle Garlick",
                                    "Hits": "12"
                                },
                                {
                                    "Name": "Kyle Higashioka",
                                    "Hits": "12"
                                },
                                {
                                    "Name": "Matt Kemp",
                                    "Hits": "12"
                                },
                                {
                                    "Name": "Andrew Knizner",
                                    "Hits": "12"
                                },
                                {
                                    "Name": "Kenta Maeda",
                                    "Hits": "12"
                                },
                                {
                                    "Name": "Danny Mendick",
                                    "Hits": "12"
                                },
                                {
                                    "Name": "Stephen Strasburg",
                                    "Hits": "12"
                                },
                                {
                                    "Name": "Lane Thomas",
                                    "Hits": "12"
                                },
                                {
                                    "Name": "Chad Wallach",
                                    "Hits": "12"
                                },
                                {
                                    "Name": "Zack Wheeler",
                                    "Hits": "12"
                                },
                                {
                                    "Name": "Brandon Woodruff",
                                    "Hits": "12"
                                },
                                {
                                    "Name": "Christian Arroyo",
                                    "Hits": "11"
                                },
                                {
                                    "Name": "Nick Dini",
                                    "Hits": "11"
                                },
                                {
                                    "Name": "Max Fried",
                                    "Hits": "11"
                                },
                                {
                                    "Name": "Jedd Gyorko",
                                    "Hits": "11"
                                },
                                {
                                    "Name": "Billy Hamilton",
                                    "Hits": "11"
                                },
                                {
                                    "Name": "German Marquez",
                                    "Hits": "11"
                                },
                                {
                                    "Name": "Kendrys Morales",
                                    "Hits": "11"
                                },
                                {
                                    "Name": "John Ryan Murphy",
                                    "Hits": "11"
                                },
                                {
                                    "Name": "Yadiel Rivera",
                                    "Hits": "11"
                                },
                                {
                                    "Name": "Andrew Stevenson",
                                    "Hits": "11"
                                },
                                {
                                    "Name": "LaMonte Wade Jr",
                                    "Hits": "11"
                                },
                                {
                                    "Name": "Jake Elmore",
                                    "Hits": "10"
                                },
                                {
                                    "Name": "Jack Flaherty",
                                    "Hits": "10"
                                },
                                {
                                    "Name": "Michael Lorenzen",
                                    "Hits": "10"
                                },
                                {
                                    "Name": "Jonathan Lucroy",
                                    "Hits": "10"
                                },
                                {
                                    "Name": "Jack Mayfield",
                                    "Hits": "10"
                                },
                                {
                                    "Name": "Michael Perez",
                                    "Hits": "10"
                                },
                                {
                                    "Name": "Dustin Peterson",
                                    "Hits": "10"
                                },
                                {
                                    "Name": "Scott Schebler",
                                    "Hits": "10"
                                },
                                {
                                    "Name": "Max Scherzer",
                                    "Hits": "10"
                                },
                                {
                                    "Name": "JB Shuck",
                                    "Hits": "10"
                                },
                                {
                                    "Name": "Caleb Smith",
                                    "Hits": "10"
                                },
                                {
                                    "Name": "Abraham Almonte",
                                    "Hits": "9"
                                },
                                {
                                    "Name": "Alex Blandino",
                                    "Hits": "9"
                                },
                                {
                                    "Name": "Francisco Cervelli",
                                    "Hits": "9"
                                },
                                {
                                    "Name": "Isaac Galloway",
                                    "Hits": "9"
                                },
                                {
                                    "Name": "Peter Lambert",
                                    "Hits": "9"
                                },
                                {
                                    "Name": "Jon Lester",
                                    "Hits": "9"
                                },
                                {
                                    "Name": "Jason Martin",
                                    "Hits": "9"
                                },
                                {
                                    "Name": "Brad Miller",
                                    "Hits": "9"
                                },
                                {
                                    "Name": "Daniel Palka",
                                    "Hits": "9"
                                },
                                {
                                    "Name": "Brett Phillips",
                                    "Hits": "9"
                                },
                                {
                                    "Name": "Hanley Ramirez",
                                    "Hits": "9"
                                },
                                {
                                    "Name": "Blake Swihart",
                                    "Hits": "9"
                                },
                                {
                                    "Name": "Mark Zagunis",
                                    "Hits": "9"
                                },
                                {
                                    "Name": "Bobby Bradley",
                                    "Hits": "8"
                                },
                                {
                                    "Name": "Madison Bumgarner",
                                    "Hits": "8"
                                },
                                {
                                    "Name": "Zach Davies",
                                    "Hits": "8"
                                },
                                {
                                    "Name": "Zach Eflin",
                                    "Hits": "8"
                                },
                                {
                                    "Name": "Kyle Hendricks",
                                    "Hits": "8"
                                },
                                {
                                    "Name": "Caleb Joseph",
                                    "Hits": "8"
                                },
                                {
                                    "Name": "Miles Mikolas",
                                    "Hits": "8"
                                },
                                {
                                    "Name": "Joe Musgrove",
                                    "Hits": "8"
                                },
                                {
                                    "Name": "Brian O'Grady",
                                    "Hits": "8"
                                },
                                {
                                    "Name": "Rangel Ravelo",
                                    "Hits": "8"
                                },
                                {
                                    "Name": "Hyun-Jin Ryu",
                                    "Hits": "8"
                                },
                                {
                                    "Name": "Tyler Saladino",
                                    "Hits": "8"
                                },
                                {
                                    "Name": "Adam Wainwright",
                                    "Hits": "8"
                                },
                                {
                                    "Name": "Taylor Ward",
                                    "Hits": "8"
                                },
                                {
                                    "Name": "Mason Williams",
                                    "Hits": "8"
                                },
                                {
                                    "Name": "Cristhian Adames",
                                    "Hits": "7"
                                },
                                {
                                    "Name": "Jake Arrieta",
                                    "Hits": "7"
                                },
                                {
                                    "Name": "Franklin Barreto",
                                    "Hits": "7"
                                },
                                {
                                    "Name": "Jorge Bonifacio",
                                    "Hits": "7"
                                },
                                {
                                    "Name": "Keon Broxton",
                                    "Hits": "7"
                                },
                                {
                                    "Name": "Drew Butera",
                                    "Hits": "7"
                                },
                                {
                                    "Name": "Jaylin Davis",
                                    "Hits": "7"
                                },
                                {
                                    "Name": "Carlos Gonzalez",
                                    "Hits": "7"
                                },
                                {
                                    "Name": "Sonny Gray",
                                    "Hits": "7"
                                },
                                {
                                    "Name": "Alen Hanson",
                                    "Hits": "7"
                                },
                                {
                                    "Name": "Gorkys Hernandez",
                                    "Hits": "7"
                                },
                                {
                                    "Name": "Corban Joseph",
                                    "Hits": "7"
                                },
                                {
                                    "Name": "Kevin Kramer",
                                    "Hits": "7"
                                },
                                {
                                    "Name": "Domingo Leyba",
                                    "Hits": "7"
                                },
                                {
                                    "Name": "Seth Mejias-Brean",
                                    "Hits": "7"
                                },
                                {
                                    "Name": "Logan Morrison",
                                    "Hits": "7"
                                },
                                {
                                    "Name": "Aaron Nola",
                                    "Hits": "7"
                                },
                                {
                                    "Name": "Dom Nunez",
                                    "Hits": "7"
                                },
                                {
                                    "Name": "Peter O'Brien",
                                    "Hits": "7"
                                },
                                {
                                    "Name": "Chris Owings",
                                    "Hits": "7"
                                },
                                {
                                    "Name": "Adrian Sanchez",
                                    "Hits": "7"
                                },
                                {
                                    "Name": "Garrett Stubbs",
                                    "Hits": "7"
                                },
                                {
                                    "Name": "Breyvic Valera",
                                    "Hits": "7"
                                },
                                {
                                    "Name": "Vince Velasquez",
                                    "Hits": "7"
                                },
                                {
                                    "Name": "Miguel Andujar",
                                    "Hits": "6"
                                },
                                {
                                    "Name": "Randy Arozarena",
                                    "Hits": "6"
                                },
                                {
                                    "Name": "Greg Bird",
                                    "Hits": "6"
                                },
                                {
                                    "Name": "Braden Bishop",
                                    "Hits": "6"
                                },
                                {
                                    "Name": "Keon Broxton",
                                    "Hits": "6"
                                },
                                {
                                    "Name": "Luis Castillo",
                                    "Hits": "6"
                                },
                                {
                                    "Name": "Taylor Clarke",
                                    "Hits": "6"
                                },
                                {
                                    "Name": "Patrick Corbin",
                                    "Hits": "6"
                                },
                                {
                                    "Name": "Anthony DeSclafani",
                                    "Hits": "6"
                                },
                                {
                                    "Name": "Jake Fraley",
                                    "Hits": "6"
                                },
                                {
                                    "Name": "Aramis Garcia",
                                    "Hits": "6"
                                },
                                {
                                    "Name": "Cole Hamels",
                                    "Hits": "6"
                                },
                                {
                                    "Name": "Pablo Lopez",
                                    "Hits": "6"
                                },
                                {
                                    "Name": "Cedric Mullins",
                                    "Hits": "6"
                                },
                                {
                                    "Name": "AJ Reed",
                                    "Hits": "6"
                                },
                                {
                                    "Name": "Jeff Samardzija",
                                    "Hits": "6"
                                },
                                {
                                    "Name": "Anibal Sanchez",
                                    "Hits": "6"
                                },
                                {
                                    "Name": "Matt Strahm",
                                    "Hits": "6"
                                },
                                {
                                    "Name": "Blake Swihart",
                                    "Hits": "6"
                                },
                                {
                                    "Name": "Noah Syndergaard",
                                    "Hits": "6"
                                },
                                {
                                    "Name": "Julio Teheran",
                                    "Hits": "6"
                                },
                                {
                                    "Name": "Michael Wacha",
                                    "Hits": "6"
                                },
                                {
                                    "Name": "Trevor Williams",
                                    "Hits": "6"
                                },
                                {
                                    "Name": "Mac Williamson",
                                    "Hits": "6"
                                },
                                {
                                    "Name": "Sandy Alcantara",
                                    "Hits": "5"
                                },
                                {
                                    "Name": "Anthony Alford",
                                    "Hits": "5"
                                },
                                {
                                    "Name": "Anthony Bemboom",
                                    "Hits": "5"
                                },
                                {
                                    "Name": "Walker Buehler",
                                    "Hits": "5"
                                },
                                {
                                    "Name": "Franchy Cordero",
                                    "Hits": "5"
                                },
                                {
                                    "Name": "Ryan Court",
                                    "Hits": "5"
                                },
                                {
                                    "Name": "Yu Darvish",
                                    "Hits": "5"
                                },
                                {
                                    "Name": "Rajai Davis",
                                    "Hits": "5"
                                },
                                {
                                    "Name": "Dustin Garneau",
                                    "Hits": "5"
                                },
                                {
                                    "Name": "Jedd Gyorko",
                                    "Hits": "5"
                                },
                                {
                                    "Name": "Michael Hermosillo",
                                    "Hits": "5"
                                },
                                {
                                    "Name": "Jeff Hoffman",
                                    "Hits": "5"
                                },
                                {
                                    "Name": "Clayton Kershaw",
                                    "Hits": "5"
                                },
                                {
                                    "Name": "Dallas Keuchel",
                                    "Hits": "5"
                                },
                                {
                                    "Name": "Carter Kieboom",
                                    "Hits": "5"
                                },
                                {
                                    "Name": "Ryan LaMarre",
                                    "Hits": "5"
                                },
                                {
                                    "Name": "Ryan Lavarnway",
                                    "Hits": "5"
                                },
                                {
                                    "Name": "Erick Mejia",
                                    "Hits": "5"
                                },
                                {
                                    "Name": "Kristopher Negron",
                                    "Hits": "5"
                                },
                                {
                                    "Name": "Chris Paddack",
                                    "Hits": "5"
                                },
                                {
                                    "Name": "Jose Quintana",
                                    "Hits": "5"
                                },
                                {
                                    "Name": "Tanner Roark",
                                    "Hits": "5"
                                },
                                {
                                    "Name": "Dereck Rodriguez",
                                    "Hits": "5"
                                },
                                {
                                    "Name": "Mark Trumbo",
                                    "Hits": "5"
                                },
                                {
                                    "Name": "Aaron Altherr",
                                    "Hits": "4"
                                },
                                {
                                    "Name": "Brett Anderson",
                                    "Hits": "4"
                                },
                                {
                                    "Name": "Chase Anderson",
                                    "Hits": "4"
                                },
                                {
                                    "Name": "Chris Archer",
                                    "Hits": "4"
                                },
                                {
                                    "Name": "Tyler Austin",
                                    "Hits": "4"
                                },
                                {
                                    "Name": "Tyler Beede",
                                    "Hits": "4"
                                },
                                {
                                    "Name": "Peter Bourjos",
                                    "Hits": "4"
                                },
                                {
                                    "Name": "Kaleb Cowart",
                                    "Hits": "4"
                                },
                                {
                                    "Name": "Tony Gonsolin",
                                    "Hits": "4"
                                },
                                {
                                    "Name": "Juan Graterol",
                                    "Hits": "4"
                                },
                                {
                                    "Name": "Dakota Hudson",
                                    "Hits": "4"
                                },
                                {
                                    "Name": "Travis Jankowski",
                                    "Hits": "4"
                                },
                                {
                                    "Name": "Erik Kratz",
                                    "Hits": "4"
                                },
                                {
                                    "Name": "Eric Lauer",
                                    "Hits": "4"
                                },
                                {
                                    "Name": "Tzu-Wei Lin",
                                    "Hits": "4"
                                },
                                {
                                    "Name": "Max Moroff",
                                    "Hits": "4"
                                },
                                {
                                    "Name": "Jose Pirela",
                                    "Hits": "4"
                                },
                                {
                                    "Name": "Robbie Ray",
                                    "Hits": "4"
                                },
                                {
                                    "Name": "Rene Rivera",
                                    "Hits": "4"
                                },
                                {
                                    "Name": "Mike Soroka",
                                    "Hits": "4"
                                },
                                {
                                    "Name": "Beau Taylor",
                                    "Hits": "4"
                                },
                                {
                                    "Name": "Tyrone Taylor",
                                    "Hits": "4"
                                },
                                {
                                    "Name": "Breyvic Valera",
                                    "Hits": "4"
                                },
                                {
                                    "Name": "Bobby Wilson",
                                    "Hits": "4"
                                },
                                {
                                    "Name": "Patrick Wisdom",
                                    "Hits": "4"
                                },
                                {
                                    "Name": "Socrates Brito",
                                    "Hits": "3"
                                },
                                {
                                    "Name": "Jhoulys Chacin",
                                    "Hits": "3"
                                },
                                {
                                    "Name": "Tyler Chatwood",
                                    "Hits": "3"
                                },
                                {
                                    "Name": "Christian Colon",
                                    "Hits": "3"
                                },
                                {
                                    "Name": "Taylor Davis",
                                    "Hits": "3"
                                },
                                {
                                    "Name": "Alex Dickerson",
                                    "Hits": "3"
                                },
                                {
                                    "Name": "Ryan Flaherty",
                                    "Hits": "3"
                                },
                                {
                                    "Name": "Zack Godley",
                                    "Hits": "3"
                                },
                                {
                                    "Name": "Jon Gray",
                                    "Hits": "3"
                                },
                                {
                                    "Name": "Tyler Heineman",
                                    "Hits": "3"
                                },
                                {
                                    "Name": "Rich Hill",
                                    "Hits": "3"
                                },
                                {
                                    "Name": "Dinelson Lamet",
                                    "Hits": "3"
                                },
                                {
                                    "Name": "Joey Lucchesi",
                                    "Hits": "3"
                                },
                                {
                                    "Name": "Tyler Mahle",
                                    "Hits": "3"
                                },
                                {
                                    "Name": "Nick Margevicius",
                                    "Hits": "3"
                                },
                                {
                                    "Name": "Ian Miller",
                                    "Hits": "3"
                                },
                                {
                                    "Name": "Trevor Richards",
                                    "Hits": "3"
                                },
                                {
                                    "Name": "Max Stassi",
                                    "Hits": "3"
                                },
                                {
                                    "Name": "Ross Stripling",
                                    "Hits": "3"
                                },
                                {
                                    "Name": "Luis Torrens",
                                    "Hits": "3"
                                },
                                {
                                    "Name": "Ronald Torreyes",
                                    "Hits": "3"
                                },
                                {
                                    "Name": "Julio Urias",
                                    "Hits": "3"
                                },
                                {
                                    "Name": "Donovan Walton",
                                    "Hits": "3"
                                },
                                {
                                    "Name": "Kean Wong",
                                    "Hits": "3"
                                },
                                {
                                    "Name": "Dario Agrazal",
                                    "Hits": "2"
                                },
                                {
                                    "Name": "Shaun Anderson",
                                    "Hits": "2"
                                },
                                {
                                    "Name": "Abiatal Avelino",
                                    "Hits": "2"
                                },
                                {
                                    "Name": "Homer Bailey",
                                    "Hits": "2"
                                },
                                {
                                    "Name": "Steven Baron",
                                    "Hits": "2"
                                },
                                {
                                    "Name": "Trevor Bauer",
                                    "Hits": "2"
                                },
                                {
                                    "Name": "Anthony Bemboom",
                                    "Hits": "2"
                                },
                                {
                                    "Name": "Corbin Burnes",
                                    "Hits": "2"
                                },
                                {
                                    "Name": "Juan Centeno",
                                    "Hits": "2"
                                },
                                {
                                    "Name": "Travis d'Arnaud",
                                    "Hits": "2"
                                },
                                {
                                    "Name": "Erick Fedde",
                                    "Hits": "2"
                                },
                                {
                                    "Name": "Mike Foltynewicz",
                                    "Hits": "2"
                                },
                                {
                                    "Name": "Kyle Freeland",
                                    "Hits": "2"
                                },
                                {
                                    "Name": "Rocky Gale",
                                    "Hits": "2"
                                },
                                {
                                    "Name": "Zach Green",
                                    "Hits": "2"
                                },
                                {
                                    "Name": "Corban Joseph",
                                    "Hits": "2"
                                },
                                {
                                    "Name": "Jordan Lyles",
                                    "Hits": "2"
                                },
                                {
                                    "Name": "Jordan Lyles",
                                    "Hits": "2"
                                },
                                {
                                    "Name": "Brendan McKay",
                                    "Hits": "2"
                                },
                                {
                                    "Name": "Alex McRae",
                                    "Hits": "2"
                                },
                                {
                                    "Name": "Tim Melville",
                                    "Hits": "2"
                                },
                                {
                                    "Name": "Jake Noll",
                                    "Hits": "2"
                                },
                                {
                                    "Name": "Jacob Nottingham",
                                    "Hits": "2"
                                },
                                {
                                    "Name": "Dustin Pedroia",
                                    "Hits": "2"
                                },
                                {
                                    "Name": "Freddy Peralta",
                                    "Hits": "2"
                                },
                                {
                                    "Name": "Nick Pivetta",
                                    "Hits": "2"
                                },
                                {
                                    "Name": "Cal Quantrill",
                                    "Hits": "2"
                                },
                                {
                                    "Name": "Joe Ross",
                                    "Hits": "2"
                                },
                                {
                                    "Name": "Edmundo Sosa",
                                    "Hits": "2"
                                },
                                {
                                    "Name": "Gregory Soto",
                                    "Hits": "2"
                                },
                                {
                                    "Name": "Eric Stamets",
                                    "Hits": "2"
                                },
                                {
                                    "Name": "Jameson Taillon",
                                    "Hits": "2"
                                },
                                {
                                    "Name": "Trent Thornton",
                                    "Hits": "2"
                                },
                                {
                                    "Name": "Troy Tulowitzki",
                                    "Hits": "2"
                                },
                                {
                                    "Name": "Jason Vargas",
                                    "Hits": "2"
                                },
                                {
                                    "Name": "Luke Weaver",
                                    "Hits": "2"
                                },
                                {
                                    "Name": "Bryse Wilson",
                                    "Hits": "2"
                                },
                                {
                                    "Name": "Alex Wood",
                                    "Hits": "2"
                                },
                                {
                                    "Name": "R.J. Alaniz",
                                    "Hits": "1"
                                },
                                {
                                    "Name": "Logan Allen",
                                    "Hits": "1"
                                },
                                {
                                    "Name": "Aaron Altherr",
                                    "Hits": "1"
                                },
                                {
                                    "Name": "Tyler Anderson",
                                    "Hits": "1"
                                },
                                {
                                    "Name": "Tyler Austin",
                                    "Hits": "1"
                                },
                                {
                                    "Name": "Trevor Bauer",
                                    "Hits": "1"
                                },
                                {
                                    "Name": "Skye Bolt",
                                    "Hits": "1"
                                },
                                {
                                    "Name": "Matthew Boyd",
                                    "Hits": "1"
                                },
                                {
                                    "Name": "Brad Brach",
                                    "Hits": "1"
                                },
                                {
                                    "Name": "John Brebbia",
                                    "Hits": "1"
                                },
                                {
                                    "Name": "Trevor Cahill",
                                    "Hits": "1"
                                },
                                {
                                    "Name": "Wilkin Castillo",
                                    "Hits": "1"
                                },
                                {
                                    "Name": "Jesse Chavez",
                                    "Hits": "1"
                                },
                                {
                                    "Name": "Nick Ciuffo",
                                    "Hits": "1"
                                },
                                {
                                    "Name": "Johnny Davis",
                                    "Hits": "1"
                                },
                                {
                                    "Name": "Oliver Drake",
                                    "Hits": "1"
                                },
                                {
                                    "Name": "Danny Duffy",
                                    "Hits": "1"
                                },
                                {
                                    "Name": "Jon Duplantier",
                                    "Hits": "1"
                                },
                                {
                                    "Name": "Montana DuRapau",
                                    "Hits": "1"
                                },
                                {
                                    "Name": "Caleb Ferguson",
                                    "Hits": "1"
                                },
                                {
                                    "Name": "Chris Flexen",
                                    "Hits": "1"
                                },
                                {
                                    "Name": "Wilmer Font",
                                    "Hits": "1"
                                },
                                {
                                    "Name": "David Freitas",
                                    "Hits": "1"
                                },
                                {
                                    "Name": "Drew Gagnon",
                                    "Hits": "1"
                                },
                                {
                                    "Name": "Zac Gallen",
                                    "Hits": "1"
                                },
                                {
                                    "Name": "Zac Gallen",
                                    "Hits": "1"
                                },
                                {
                                    "Name": "Kevin Gausman",
                                    "Hits": "1"
                                },
                                {
                                    "Name": "Mike Gerber",
                                    "Hits": "1"
                                },
                                {
                                    "Name": "Lucas Giolito",
                                    "Hits": "1"
                                },
                                {
                                    "Name": "Marco Gonzales",
                                    "Hits": "1"
                                },
                                {
                                    "Name": "Chi Chi Gonzalez",
                                    "Hits": "1"
                                },
                                {
                                    "Name": "Gio Gonzalez",
                                    "Hits": "1"
                                },
                                {
                                    "Name": "Zack Greinke",
                                    "Hits": "1"
                                },
                                {
                                    "Name": "Deivy Grullon",
                                    "Hits": "1"
                                },
                                {
                                    "Name": "Junior Guerra",
                                    "Hits": "1"
                                },
                                {
                                    "Name": "Eric Haase",
                                    "Hits": "1"
                                },
                                {
                                    "Name": "Jeremy Hellickson",
                                    "Hits": "1"
                                },
                                {
                                    "Name": "Ryan Helsley",
                                    "Hits": "1"
                                },
                                {
                                    "Name": "Elieser Hernandez",
                                    "Hits": "1"
                                },
                                {
                                    "Name": "Derek Holland",
                                    "Hits": "1"
                                },
                                {
                                    "Name": "Adrian Houser",
                                    "Hits": "1"
                                },
                                {
                                    "Name": "Cole Irvin",
                                    "Hits": "1"
                                },
                                {
                                    "Name": "Connor Joe",
                                    "Hits": "1"
                                },
                                {
                                    "Name": "Corban Joseph",
                                    "Hits": "1"
                                },
                                {
                                    "Name": "Brad Keller",
                                    "Hits": "1"
                                },
                                {
                                    "Name": "Merrill Kelly",
                                    "Hits": "1"
                                },
                                {
                                    "Name": "Erik Kratz",
                                    "Hits": "1"
                                },
                                {
                                    "Name": "Mike Leake",
                                    "Hits": "1"
                                },
                                {
                                    "Name": "Francisco Liriano",
                                    "Hits": "1"
                                },
                                {
                                    "Name": "Walker Lockett",
                                    "Hits": "1"
                                },
                                {
                                    "Name": "Seth Lugo",
                                    "Hits": "1"
                                },
                                {
                                    "Name": "Nick Martini",
                                    "Hits": "1"
                                },
                                {
                                    "Name": "Phil Maton",
                                    "Hits": "1"
                                },
                                {
                                    "Name": "Dustin May",
                                    "Hits": "1"
                                },
                                {
                                    "Name": "Kyle McGowin",
                                    "Hits": "1"
                                },
                                {
                                    "Name": "John Means",
                                    "Hits": "1"
                                },
                                {
                                    "Name": "Alec Mills",
                                    "Hits": "1"
                                },
                                {
                                    "Name": "Mike Montgomery",
                                    "Hits": "1"
                                },
                                {
                                    "Name": "Hector Noesi",
                                    "Hits": "1"
                                },
                                {
                                    "Name": "Daniel Norris",
                                    "Hits": "1"
                                },
                                {
                                    "Name": "Luis Perdomo",
                                    "Hits": "1"
                                },
                                {
                                    "Name": "Kevin Pillar",
                                    "Hits": "1"
                                },
                                {
                                    "Name": "David Price",
                                    "Hits": "1"
                                },
                                {
                                    "Name": "Raudy Read",
                                    "Hits": "1"
                                },
                                {
                                    "Name": "Drew Robinson",
                                    "Hits": "1"
                                },
                                {
                                    "Name": "Dennis Santana",
                                    "Hits": "1"
                                },
                                {
                                    "Name": "Frank Schwindel",
                                    "Hits": "1"
                                },
                                {
                                    "Name": "Antonio Senzatela",
                                    "Hits": "1"
                                },
                                {
                                    "Name": "Chris Shaw",
                                    "Hits": "1"
                                },
                                {
                                    "Name": "Lucas Sims",
                                    "Hits": "1"
                                },
                                {
                                    "Name": "Will Smith",
                                    "Hits": "1"
                                },
                                {
                                    "Name": "Brock Stewart",
                                    "Hits": "1"
                                },
                                {
                                    "Name": "Marcus Stroman",
                                    "Hits": "1"
                                },
                                {
                                    "Name": "Ranger Suarez",
                                    "Hits": "1"
                                },
                                {
                                    "Name": "Jesus Tinoco",
                                    "Hits": "1"
                                },
                                {
                                    "Name": "Jason Vargas",
                                    "Hits": "1"
                                },
                                {
                                    "Name": "Andrew Velazquez",
                                    "Hits": "1"
                                },
                                {
                                    "Name": "Andrew Velazquez",
                                    "Hits": "1"
                                },
                                {
                                    "Name": "Austin Voth",
                                    "Hits": "1"
                                },
                                {
                                    "Name": "Logan Webb",
                                    "Hits": "1"
                                },
                                {
                                    "Name": "Tyler White",
                                    "Hits": "1"
                                },
                                {
                                    "Name": "Aaron Wilkerson",
                                    "Hits": "1"
                                },
                                {
                                    "Name": "Jordan Yamamoto",
                                    "Hits": "1"
                                },
                                {
                                    "Name": "Alex Young",
                                    "Hits": "1"
                                },
                                {
                                    "Name": "Seby Zavala",
                                    "Hits": "1"
                                }
                            ]
                        },
                        "text/html": [
                            "<table>",
                            "<tr><th>Name</th><th>Hits</th></tr>",
                            "<tr><td>Whit Merrifield</td><td>206</td></tr>",
                            "<tr><td>Rafael Devers</td><td>201</td></tr>",
                            "<tr><td>DJ LeMahieu</td><td>197</td></tr>",
                            "<tr><td>Xander Bogaerts</td><td>190</td></tr>",
                            "<tr><td>Ozzie Albies</td><td>189</td></tr>",
                            "<tr><td>Ketel Marte</td><td>187</td></tr>",
                            "<tr><td>Marcus Semien</td><td>187</td></tr>",
                            "<tr><td>Jorge Polanco</td><td>186</td></tr>",
                            "<tr><td>Nolan Arenado</td><td>185</td></tr>",
                            "<tr><td>Charlie Blackmon</td><td>182</td></tr>",
                            "<tr><td>José Abreu</td><td>180</td></tr>",
                            "<tr><td>Michael Brantley</td><td>179</td></tr>",
                            "<tr><td>Amed Rosario</td><td>177</td></tr>",
                            "<tr><td>Mookie Betts</td><td>176</td></tr>",
                            "<tr><td>Freddie Freeman</td><td>176</td></tr>",
                            "<tr><td>Jonathan Villar</td><td>176</td></tr>",
                            "<tr><td>Ronald Acuna Jr.</td><td>175</td></tr>",
                            "<tr><td>Trey Mancini</td><td>175</td></tr>",
                            "<tr><td>J.D. Martinez</td><td>175</td></tr>",
                            "<tr><td>Anthony Rendon</td><td>174</td></tr>",
                            "<tr><td>David Fletcher</td><td>173</td></tr>",
                            "<tr><td>Trevor Story</td><td>173</td></tr>",
                            "<tr><td>Starlin Castro</td><td>172</td></tr>",
                            "<tr><td>Eduardo Escobar</td><td>171</td></tr>",
                            "<tr><td>Cesar Hernandez</td><td>171</td></tr>",
                            "<tr><td>Cody Bellinger</td><td>170</td></tr>",
                            "<tr><td>Francisco Lindor</td><td>170</td></tr>",
                            "<tr><td>Yuli Gurriel</td><td>168</td></tr>",
                            "<tr><td>Tim Anderson</td><td>167</td></tr>",
                            "<tr><td>Elvis Andrus</td><td>165</td></tr>",
                            "<tr><td>Alex Bregman</td><td>164</td></tr>",
                            "<tr><td>Eric Hosmer</td><td>164</td></tr>",
                            "<tr><td>Jeff McNeil</td><td>162</td></tr>",
                            "<tr><td>Leury Garcia</td><td>161</td></tr>",
                            "<tr><td>Yoan Moncada</td><td>161</td></tr>",
                            "<tr><td>Carlos Santana</td><td>161</td></tr>",
                            "<tr><td>Jean Segura</td><td>161</td></tr>",
                            "<tr><td>Christian Yelich</td><td>161</td></tr>",
                            "<tr><td>Hanser Alberto</td><td>160</td></tr>",
                            "<tr><td>Starling Marte</td><td>159</td></tr>",
                            "<tr><td>Adam Eaton</td><td>158</td></tr>",
                            "<tr><td>Kevin Pillar</td><td>157</td></tr>",
                            "<tr><td>Jorge Soler</td><td>156</td></tr>",
                            "<tr><td>Eugenio Suarez</td><td>156</td></tr>",
                            "<tr><td>Pete Alonso</td><td>155</td></tr>",
                            "<tr><td>Paul Goldschmidt</td><td>155</td></tr>",
                            "<tr><td>Tommy Pham</td><td>155</td></tr>",
                            "<tr><td>Eddie Rosario</td><td>155</td></tr>",
                            "<tr><td>Trea Turner</td><td>155</td></tr>",
                            "<tr><td>Adam Frazier</td><td>154</td></tr>",
                            "<tr><td>Austin Meadows</td><td>154</td></tr>",
                            "<tr><td>Bryan Reynolds</td><td>154</td></tr>",
                            "<tr><td>Kris Bryant</td><td>153</td></tr>",
                            "<tr><td>Juan Soto</td><td>153</td></tr>",
                            "<tr><td>Kevin Newman</td><td>152</td></tr>",
                            "<tr><td>Gleyber Torres</td><td>152</td></tr>",
                            "<tr><td>Manny Machado</td><td>150</td></tr>",
                            "<tr><td>Anthony Rizzo</td><td>150</td></tr>",
                            "<tr><td>Jose Altuve</td><td>149</td></tr>",
                            "<tr><td>Javier Baez</td><td>149</td></tr>",
                            "<tr><td>Shin-Soo Choo</td><td>149</td></tr>",
                            "<tr><td>Bryce Harper</td><td>149</td></tr>",
                            "<tr><td>Alex Gordon</td><td>148</td></tr>",
                            "<tr><td>J.T. Realmuto</td><td>148</td></tr>",
                            "<tr><td>Josh Bell</td><td>146</td></tr>",
                            "<tr><td>Lorenzo Cain</td><td>146</td></tr>",
                            "<tr><td>Hunter Dozier</td><td>146</td></tr>",
                            "<tr><td>Matt Chapman</td><td>145</td></tr>",
                            "<tr><td>José Iglesias</td><td>145</td></tr>",
                            "<tr><td>Andrew Benintendi</td><td>144</td></tr>",
                            "<tr><td>Josh Donaldson</td><td>142</td></tr>",
                            "<tr><td>Nick Ahmed</td><td>141</td></tr>",
                            "<tr><td>Michael Conforto</td><td>141</td></tr>",
                            "<tr><td>Nelson Cruz</td><td>141</td></tr>",
                            "<tr><td>George Springer</td><td>140</td></tr>",
                            "<tr><td>Miguel Cabrera</td><td>139</td></tr>",
                            "<tr><td>Victor Robles</td><td>139</td></tr>",
                            "<tr><td>Justin Turner</td><td>139</td></tr>",
                            "<tr><td>Gio Urshela</td><td>139</td></tr>",
                            "<tr><td>Avisail Garcia</td><td>138</td></tr>",
                            "<tr><td>Josh Reddick</td><td>138</td></tr>",
                            "<tr><td>Miguel Rojas</td><td>137</td></tr>",
                            "<tr><td>Mike Trout</td><td>137</td></tr>",
                            "<tr><td>Joey Votto</td><td>137</td></tr>",
                            "<tr><td>Christian Walker</td><td>137</td></tr>",
                            "<tr><td>Paul DeJong</td><td>136</td></tr>",
                            "<tr><td>Randal Grichuk</td><td>136</td></tr>",
                            "<tr><td>Wilson Ramos</td><td>136</td></tr>",
                            "<tr><td>Kolten Wong</td><td>136</td></tr>",
                            "<tr><td>Willy Adames</td><td>135</td></tr>",
                            "<tr><td>Danny Santana</td><td>134</td></tr>",
                            "<tr><td>Mike Moustakas</td><td>133</td></tr>",
                            "<tr><td>Corey Seager</td><td>133</td></tr>",
                            "<tr><td>Christian Vazquez</td><td>133</td></tr>",
                            "<tr><td>Max Kepler</td><td>132</td></tr>",
                            "<tr><td>Renato Nunez</td><td>132</td></tr>",
                            "<tr><td>Kyle Schwarber</td><td>132</td></tr>",
                            "<tr><td>Ryan Braun</td><td>131</td></tr>",
                            "<tr><td>Jason Heyward</td><td>129</td></tr>",
                            "<tr><td>Rhys Hoskins</td><td>129</td></tr>",
                            "<tr><td>Colin Moran</td><td>129</td></tr>",
                            "<tr><td>Matt Olson</td><td>129</td></tr>",
                            "<tr><td>Kole Calhoun</td><td>128</td></tr>",
                            "<tr><td>J.D. Davis</td><td>126</td></tr>",
                            "<tr><td>Yasmani Grandal</td><td>126</td></tr>",
                            "<tr><td>Vladimir Guerrero Jr.</td><td>126</td></tr>",
                            "<tr><td>Adam Jones</td><td>126</td></tr>",
                            "<tr><td>Eloy Jimenez</td><td>125</td></tr>",
                            "<tr><td>Ramon Laureano</td><td>125</td></tr>",
                            "<tr><td>Yolmer Sanchez</td><td>125</td></tr>",
                            "<tr><td>Brandon Belt</td><td>123</td></tr>",
                            "<tr><td>Brett Gardner</td><td>123</td></tr>",
                            "<tr><td>Jose Ramirez</td><td>123</td></tr>",
                            "<tr><td>Max Muncy</td><td>122</td></tr>",
                            "<tr><td>Daniel Murphy</td><td>122</td></tr>",
                            "<tr><td>Dansby Swanson</td><td>121</td></tr>",
                            "<tr><td>Brian Anderson</td><td>120</td></tr>",
                            "<tr><td>Freddy Galvis</td><td>120</td></tr>",
                            "<tr><td>James McCann</td><td>120</td></tr>",
                            "<tr><td>Ryan McMahon</td><td>120</td></tr>",
                            "<tr><td>Albert Pujols</td><td>120</td></tr>",
                            "<tr><td>Omar Narvaez</td><td>119</td></tr>",
                            "<tr><td>Scott Kingery</td><td>118</td></tr>",
                            "<tr><td>Nick Markakis</td><td>118</td></tr>",
                            "<tr><td>Oscar Mercado</td><td>118</td></tr>",
                            "<tr><td>Marcell Ozuna</td><td>117</td></tr>",
                            "<tr><td>Raimel Tapia</td><td>117</td></tr>",
                            "<tr><td>C.J. Cron</td><td>116</td></tr>",
                            "<tr><td>Dexter Fowler</td><td>116</td></tr>",
                            "<tr><td>Harold Ramirez</td><td>116</td></tr>",
                            "<tr><td>Mallex Smith</td><td>116</td></tr>",
                            "<tr><td>Howie Kendrick</td><td>115</td></tr>",
                            "<tr><td>Evan Longoria</td><td>115</td></tr>",
                            "<tr><td>Nomar Mazara</td><td>115</td></tr>",
                            "<tr><td>Brandon Crawford</td><td>114</td></tr>",
                            "<tr><td>Domingo Santana</td><td>114</td></tr>",
                            "<tr><td>Jorge Alfaro</td><td>113</td></tr>",
                            "<tr><td>David Dahl</td><td>113</td></tr>",
                            "<tr><td>Ian Desmond</td><td>113</td></tr>",
                            "<tr><td>Yadier Molina</td><td>113</td></tr>",
                            "<tr><td>Luke Voit</td><td>113</td></tr>",
                            "<tr><td>Mark Canha</td><td>112</td></tr>",
                            "<tr><td>Todd Frazier</td><td>112</td></tr>",
                            "<tr><td>Marwin Gonzalez</td><td>112</td></tr>",
                            "<tr><td>Jason Kipnis</td><td>112</td></tr>",
                            "<tr><td>Joc Pederson</td><td>112</td></tr>",
                            "<tr><td>Jackie Bradley Jr.</td><td>111</td></tr>",
                            "<tr><td>Jonathan Schoop</td><td>111</td></tr>",
                            "<tr><td>Orlando Arcia</td><td>110</td></tr>",
                            "<tr><td>Nicholas Castellanos</td><td>110</td></tr>",
                            "<tr><td>Shohei Ohtani</td><td>110</td></tr>",
                            "<tr><td>Luis Arraez</td><td>109</td></tr>",
                            "<tr><td>Adalberto Mondesi</td><td>109</td></tr>",
                            "<tr><td>Brian Goodwin</td><td>108</td></tr>",
                            "<tr><td>Dee Gordon</td><td>108</td></tr>",
                            "<tr><td>Ji-Man Choi</td><td>107</td></tr>",
                            "<tr><td>Garrett Cooper</td><td>107</td></tr>",
                            "<tr><td>Rougned Odor</td><td>107</td></tr>",
                            "<tr><td>Melky Cabrera</td><td>106</td></tr>",
                            "<tr><td>Khris Davis</td><td>106</td></tr>",
                            "<tr><td>Fernando Tatis Jr.</td><td>106</td></tr>",
                            "<tr><td>Niko Goodrum</td><td>105</td></tr>",
                            "<tr><td>David Peralta</td><td>105</td></tr>",
                            "<tr><td>Andrelton Simmons</td><td>105</td></tr>",
                            "<tr><td>Wil Myers</td><td>104</td></tr>",
                            "<tr><td>Buster Posey</td><td>104</td></tr>",
                            "<tr><td>Harold Castro</td><td>103</td></tr>",
                            "<tr><td>Aaron Judge</td><td>103</td></tr>",
                            "<tr><td>Kevin Kiermaier</td><td>102</td></tr>",
                            "<tr><td>Robbie Grossman</td><td>101</td></tr>",
                            "<tr><td>Alex Verdugo</td><td>101</td></tr>",
                            "<tr><td>Mike Yastrzemski</td><td>101</td></tr>",
                            "<tr><td>Robinson Cano</td><td>100</td></tr>",
                            "<tr><td>Jurickson Profar</td><td>100</td></tr>",
                            "<tr><td>Brian Dozier</td><td>99</td></tr>",
                            "<tr><td>Tommy Edman</td><td>99</td></tr>",
                            "<tr><td>Anthony Santander</td><td>99</td></tr>",
                            "<tr><td>Yordan Álvarez</td><td>98</td></tr>",
                            "<tr><td>Willson Contreras</td><td>98</td></tr>",
                            "<tr><td>Enrique Hernandez</td><td>98</td></tr>",
                            "<tr><td>Eric Thames</td><td>98</td></tr>",
                            "<tr><td>Brandon Dixon</td><td>97</td></tr>",
                            "<tr><td>Teoscar Hernandez</td><td>96</td></tr>",
                            "<tr><td>Nick Senzel</td><td>96</td></tr>",
                            "<tr><td>Chris Taylor</td><td>96</td></tr>",
                            "<tr><td>Daniel Vogelbach</td><td>96</td></tr>",
                            "<tr><td>Keston Hiura</td><td>95</td></tr>",
                            "<tr><td>Hunter Renfroe</td><td>95</td></tr>",
                            "<tr><td>Matt Carpenter</td><td>94</td></tr>",
                            "<tr><td>Yasiel Puig</td><td>94</td></tr>",
                            "<tr><td>Miguel Sano</td><td>94</td></tr>",
                            "<tr><td>Kyle Seager</td><td>94</td></tr>",
                            "<tr><td>Tony Wolters</td><td>94</td></tr>",
                            "<tr><td>Manuel Margot</td><td>93</td></tr>",
                            "<tr><td>Roberto Perez</td><td>93</td></tr>",
                            "<tr><td>Jarrod Dyson</td><td>92</td></tr>",
                            "<tr><td>Gary Sanchez</td><td>92</td></tr>",
                            "<tr><td>Brandon Drury</td><td>91</td></tr>",
                            "<tr><td>Maikel Franco</td><td>91</td></tr>",
                            "<tr><td>Nicky Lopez</td><td>91</td></tr>",
                            "<tr><td>Jesse Winker</td><td>91</td></tr>",
                            "<tr><td>Jose Martinez</td><td>90</td></tr>",
                            "<tr><td>Jose Peraza</td><td>90</td></tr>",
                            "<tr><td>Delino DeShields</td><td>89</td></tr>",
                            "<tr><td>Stephen Piscotty</td><td>89</td></tr>",
                            "<tr><td>Michael Chavis</td><td>88</td></tr>",
                            "<tr><td>Neil Walker</td><td>88</td></tr>",
                            "<tr><td>Robinson Chirinos</td><td>87</td></tr>",
                            "<tr><td>Lourdes Gurriel Jr.</td><td>87</td></tr>",
                            "<tr><td>Travis d&#39;Arnaud</td><td>86</td></tr>",
                            "<tr><td>Tommy La Stella</td><td>86</td></tr>",
                            "<tr><td>Rio Ruiz</td><td>86</td></tr>",
                            "<tr><td>Dwight Smith Jr.</td><td>86</td></tr>",
                            "<tr><td>Justin Smoak</td><td>86</td></tr>",
                            "<tr><td>Eric Sogard</td><td>86</td></tr>",
                            "<tr><td>Christin Stewart</td><td>86</td></tr>",
                            "<tr><td>Mitch Garver</td><td>85</td></tr>",
                            "<tr><td>Hunter Pence</td><td>85</td></tr>",
                            "<tr><td>Luis Rengifo</td><td>85</td></tr>",
                            "<tr><td>Jake Bauers</td><td>84</td></tr>",
                            "<tr><td>Wilmer Flores</td><td>84</td></tr>",
                            "<tr><td>Victor Reyes</td><td>84</td></tr>",
                            "<tr><td>Rowdy Tellez</td><td>84</td></tr>",
                            "<tr><td>Cavan Biggio</td><td>83</td></tr>",
                            "<tr><td>Willie Calhoun</td><td>83</td></tr>",
                            "<tr><td>Yandy Díaz</td><td>82</td></tr>",
                            "<tr><td>Chad Pinder</td><td>82</td></tr>",
                            "<tr><td>A.J. Pollock</td><td>82</td></tr>",
                            "<tr><td>Franmil Reyes</td><td>82</td></tr>",
                            "<tr><td>Joe Panik</td><td>81</td></tr>",
                            "<tr><td>Albert Almora</td><td>80</td></tr>",
                            "<tr><td>Brandon Lowe</td><td>80</td></tr>",
                            "<tr><td>Tyler Naquin</td><td>79</td></tr>",
                            "<tr><td>David Bote</td><td>78</td></tr>",
                            "<tr><td>Carlos Correa</td><td>78</td></tr>",
                            "<tr><td>J.P. Crawford</td><td>78</td></tr>",
                            "<tr><td>Ben Gamel</td><td>77</td></tr>",
                            "<tr><td>Greg Garcia</td><td>77</td></tr>",
                            "<tr><td>Didi Gregorius</td><td>77</td></tr>",
                            "<tr><td>Brock Holt</td><td>77</td></tr>",
                            "<tr><td>Carson Kelly</td><td>77</td></tr>",
                            "<tr><td>Asdrubal Cabrera</td><td>76</td></tr>",
                            "<tr><td>Cheslor Cuthbert</td><td>76</td></tr>",
                            "<tr><td>Pedro Severino</td><td>76</td></tr>",
                            "<tr><td>Mitch Moreland</td><td>75</td></tr>",
                            "<tr><td>Josh Phegley</td><td>75</td></tr>",
                            "<tr><td>Garrett Hampson</td><td>74</td></tr>",
                            "<tr><td>Kurt Suzuki</td><td>74</td></tr>",
                            "<tr><td>Stevie Wilkerson</td><td>74</td></tr>",
                            "<tr><td>Tucker Barnhart</td><td>73</td></tr>",
                            "<tr><td>Elias Diaz</td><td>73</td></tr>",
                            "<tr><td>Pablo Sandoval</td><td>73</td></tr>",
                            "<tr><td>Tim Beckham</td><td>72</td></tr>",
                            "<tr><td>Logan Forsythe</td><td>72</td></tr>",
                            "<tr><td>Danny Jansen</td><td>72</td></tr>",
                            "<tr><td>Mike Tauchman</td><td>72</td></tr>",
                            "<tr><td>Harrison Bader</td><td>71</td></tr>",
                            "<tr><td>Byron Buxton</td><td>71</td></tr>",
                            "<tr><td>Tom Murphy</td><td>71</td></tr>",
                            "<tr><td>Donovan Solano</td><td>71</td></tr>",
                            "<tr><td>Matt Adams</td><td>70</td></tr>",
                            "<tr><td>Jon Berti</td><td>70</td></tr>",
                            "<tr><td>Yan Gomes</td><td>70</td></tr>",
                            "<tr><td>JaCoby Jones</td><td>70</td></tr>",
                            "<tr><td>Brian McCann</td><td>69</td></tr>",
                            "<tr><td>Jordy Mercer</td><td>69</td></tr>",
                            "<tr><td>Jose Osuna</td><td>69</td></tr>",
                            "<tr><td>Jeimer Candelario</td><td>68</td></tr>",
                            "<tr><td>Nicholas Castellanos</td><td>68</td></tr>",
                            "<tr><td>Jake Marisnick</td><td>68</td></tr>",
                            "<tr><td>Cameron Maybin</td><td>68</td></tr>",
                            "<tr><td>John Hicks</td><td>67</td></tr>",
                            "<tr><td>Dawel Lugo</td><td>67</td></tr>",
                            "<tr><td>Stephen Vogt</td><td>67</td></tr>",
                            "<tr><td>Matt Beaty</td><td>66</td></tr>",
                            "<tr><td>Victor Caratini</td><td>65</td></tr>",
                            "<tr><td>Phil Ervin</td><td>64</td></tr>",
                            "<tr><td>Austin Nola</td><td>64</td></tr>",
                            "<tr><td>Ryan O&#39;Hearn</td><td>64</td></tr>",
                            "<tr><td>Austin Romine</td><td>64</td></tr>",
                            "<tr><td>Josh Naylor</td><td>63</td></tr>",
                            "<tr><td>Tyler Flowers</td><td>62</td></tr>",
                            "<tr><td>Jordan Luplow</td><td>62</td></tr>",
                            "<tr><td>Austin Riley</td><td>62</td></tr>",
                            "<tr><td>Bo Bichette</td><td>61</td></tr>",
                            "<tr><td>Steven Duggar</td><td>61</td></tr>",
                            "<tr><td>Joey Gallo</td><td>61</td></tr>",
                            "<tr><td>Ronny Rodriguez</td><td>61</td></tr>",
                            "<tr><td>Clint Frazier</td><td>60</td></tr>",
                            "<tr><td>Francisco Mejia</td><td>60</td></tr>",
                            "<tr><td>Adam Haseley</td><td>59</td></tr>",
                            "<tr><td>Matthew Joyce</td><td>59</td></tr>",
                            "<tr><td>Richie Martin</td><td>59</td></tr>",
                            "<tr><td>Edwin Encarnacion</td><td>58</td></tr>",
                            "<tr><td>Curtis Granderson</td><td>58</td></tr>",
                            "<tr><td>Billy Hamilton</td><td>58</td></tr>",
                            "<tr><td>Jonathan Lucroy</td><td>58</td></tr>",
                            "<tr><td>Aledmys Díaz</td><td>57</td></tr>",
                            "<tr><td>Martin Prado</td><td>57</td></tr>",
                            "<tr><td>Ronald Guzman</td><td>56</td></tr>",
                            "<tr><td>Ian Kinsler</td><td>56</td></tr>",
                            "<tr><td>Andrew McCutchen</td><td>56</td></tr>",
                            "<tr><td>Ehire Adrianza</td><td>55</td></tr>",
                            "<tr><td>Jason Castro</td><td>55</td></tr>",
                            "<tr><td>Chris Davis</td><td>55</td></tr>",
                            "<tr><td>Adam Engel</td><td>55</td></tr>",
                            "<tr><td>Austin Hedges</td><td>55</td></tr>",
                            "<tr><td>Juan Lagares</td><td>55</td></tr>",
                            "<tr><td>Joey Wendle</td><td>55</td></tr>",
                            "<tr><td>Johan Camargo</td><td>54</td></tr>",
                            "<tr><td>Mitch Haniger</td><td>54</td></tr>",
                            "<tr><td>Martin Maldonado</td><td>54</td></tr>",
                            "<tr><td>Billy McKinney</td><td>54</td></tr>",
                            "<tr><td>Yasiel Puig</td><td>54</td></tr>",
                            "<tr><td>Josh VanMeter</td><td>54</td></tr>",
                            "<tr><td>Ildemaro Vargas</td><td>54</td></tr>",
                            "<tr><td>Greg Allen</td><td>53</td></tr>",
                            "<tr><td>Aristides Aquino</td><td>53</td></tr>",
                            "<tr><td>Tim Locastro</td><td>53</td></tr>",
                            "<tr><td>Hernan Perez</td><td>53</td></tr>",
                            "<tr><td>Curt Casali</td><td>52</td></tr>",
                            "<tr><td>Aaron Hicks</td><td>52</td></tr>",
                            "<tr><td>Willians Astudillo</td><td>51</td></tr>",
                            "<tr><td>Jake Cave</td><td>51</td></tr>",
                            "<tr><td>David Freese</td><td>51</td></tr>",
                            "<tr><td>Dylan Moore</td><td>51</td></tr>",
                            "<tr><td>Addison Russell</td><td>51</td></tr>",
                            "<tr><td>Jesus Aguilar</td><td>50</td></tr>",
                            "<tr><td>Dominic Smith</td><td>50</td></tr>",
                            "<tr><td>Jacob Stallings</td><td>50</td></tr>",
                            "<tr><td>Mike Freeman</td><td>49</td></tr>",
                            "<tr><td>Ender Inciarte</td><td>49</td></tr>",
                            "<tr><td>Tyler White</td><td>49</td></tr>",
                            "<tr><td>Gordon Beckham</td><td>48</td></tr>",
                            "<tr><td>Welington Castillo</td><td>48</td></tr>",
                            "<tr><td>Ryan Cordell</td><td>48</td></tr>",
                            "<tr><td>Isiah Kiner-Falefa</td><td>48</td></tr>",
                            "<tr><td>Kevan Smith</td><td>48</td></tr>",
                            "<tr><td>Luis Urias</td><td>48</td></tr>",
                            "<tr><td>Derek Dietrich</td><td>47</td></tr>",
                            "<tr><td>Leonys Martín</td><td>47</td></tr>",
                            "<tr><td>Gerardo Parra</td><td>47</td></tr>",
                            "<tr><td>Justin Upton</td><td>47</td></tr>",
                            "<tr><td>Guillermo Heredia</td><td>46</td></tr>",
                            "<tr><td>Russell Martin</td><td>46</td></tr>",
                            "<tr><td>Yairo Munoz</td><td>46</td></tr>",
                            "<tr><td>Alex Dickerson</td><td>45</td></tr>",
                            "<tr><td>Edwin Encarnacion</td><td>44</td></tr>",
                            "<tr><td>Jon Jay</td><td>44</td></tr>",
                            "<tr><td>Brandon Nimmo</td><td>44</td></tr>",
                            "<tr><td>Daniel Robertson</td><td>44</td></tr>",
                            "<tr><td>Ryan Zimmerman</td><td>44</td></tr>",
                            "<tr><td>Mike Zunino</td><td>44</td></tr>",
                            "<tr><td>Austin Barnes</td><td>43</td></tr>",
                            "<tr><td>Ty France</td><td>43</td></tr>",
                            "<tr><td>Will Smith</td><td>43</td></tr>",
                            "<tr><td>Kyle Farmer</td><td>42</td></tr>",
                            "<tr><td>Grayson Greiner</td><td>42</td></tr>",
                            "<tr><td>Franmil Reyes</td><td>41</td></tr>",
                            "<tr><td>Asdrubal Cabrera</td><td>40</td></tr>",
                            "<tr><td>Austin Dean</td><td>40</td></tr>",
                            "<tr><td>Corey Dickerson</td><td>40</td></tr>",
                            "<tr><td>Ryon Healy</td><td>40</td></tr>",
                            "<tr><td>Shed Long</td><td>40</td></tr>",
                            "<tr><td>Nate Lowe</td><td>40</td></tr>",
                            "<tr><td>Austin Slater</td><td>40</td></tr>",
                            "<tr><td>Bubba Starling</td><td>40</td></tr>",
                            "<tr><td>Yonder Alonso</td><td>39</td></tr>",
                            "<tr><td>Lewis Brinson</td><td>39</td></tr>",
                            "<tr><td>Corey Dickerson</td><td>39</td></tr>",
                            "<tr><td>Ben Zobrist</td><td>39</td></tr>",
                            "<tr><td>Travis Demeritte</td><td>38</td></tr>",
                            "<tr><td>Eduardo Nunez</td><td>38</td></tr>",
                            "<tr><td>Matt Duffy</td><td>37</td></tr>",
                            "<tr><td>Mike Ford</td><td>37</td></tr>",
                            "<tr><td>Ian Happ</td><td>37</td></tr>",
                            "<tr><td>Marco Hernandez</td><td>37</td></tr>",
                            "<tr><td>Tony Kemp</td><td>37</td></tr>",
                            "<tr><td>Tyler O&#39;Neill</td><td>37</td></tr>",
                            "<tr><td>Gregory Polanco</td><td>37</td></tr>",
                            "<tr><td>Mike Brosseau</td><td>36</td></tr>",
                            "<tr><td>Ryan Goins</td><td>36</td></tr>",
                            "<tr><td>Erik Gonzalez</td><td>36</td></tr>",
                            "<tr><td>Trent Grisham</td><td>36</td></tr>",
                            "<tr><td>Jake Lamb</td><td>36</td></tr>",
                            "<tr><td>Jeff Mathis</td><td>36</td></tr>",
                            "<tr><td>Manny Pina</td><td>36</td></tr>",
                            "<tr><td>Travis Shaw</td><td>36</td></tr>",
                            "<tr><td>Matt Wieters</td><td>36</td></tr>",
                            "<tr><td>Jay Bruce</td><td>35</td></tr>",
                            "<tr><td>Charlie Culberson</td><td>35</td></tr>",
                            "<tr><td>Kevin Plawecki</td><td>35</td></tr>",
                            "<tr><td>Chance Sisco</td><td>35</td></tr>",
                            "<tr><td>Alex Avila</td><td>34</td></tr>",
                            "<tr><td>Nick Solak</td><td>34</td></tr>",
                            "<tr><td>Wilmer Difo</td><td>33</td></tr>",
                            "<tr><td>Sandy Leon</td><td>33</td></tr>",
                            "<tr><td>Charlie Tilson</td><td>33</td></tr>",
                            "<tr><td>Jay Bruce</td><td>32</td></tr>",
                            "<tr><td>Adam Duvall</td><td>32</td></tr>",
                            "<tr><td>Bryan Holaday</td><td>32</td></tr>",
                            "<tr><td>Chris Iannetta</td><td>32</td></tr>",
                            "<tr><td>Isan Diaz</td><td>31</td></tr>",
                            "<tr><td>Brad Miller</td><td>31</td></tr>",
                            "<tr><td>Matt Thaiss</td><td>31</td></tr>",
                            "<tr><td>Sam Travis</td><td>31</td></tr>",
                            "<tr><td>Jose Trevino</td><td>31</td></tr>",
                            "<tr><td>Cole Tucker</td><td>31</td></tr>",
                            "<tr><td>Cam Gallagher</td><td>30</td></tr>",
                            "<tr><td>Tim Lopes</td><td>30</td></tr>",
                            "<tr><td>Josh Rojas</td><td>30</td></tr>",
                            "<tr><td>DJ Stewart</td><td>30</td></tr>",
                            "<tr><td>Daniel Descalso</td><td>29</td></tr>",
                            "<tr><td>Mauricio Dubon</td><td>29</td></tr>",
                            "<tr><td>Adeiny Hechavarria</td><td>29</td></tr>",
                            "<tr><td>Jung Ho Kang</td><td>29</td></tr>",
                            "<tr><td>Andrew Knapp</td><td>29</td></tr>",
                            "<tr><td>Reese McGuire</td><td>29</td></tr>",
                            "<tr><td>Pablo Reyes</td><td>29</td></tr>",
                            "<tr><td>Eric Sogard</td><td>29</td></tr>",
                            "<tr><td>Myles Straw</td><td>29</td></tr>",
                            "<tr><td>Odubel Herrera</td><td>28</td></tr>",
                            "<tr><td>Jose Rondon</td><td>28</td></tr>",
                            "<tr><td>Meibrys Viloria</td><td>28</td></tr>",
                            "<tr><td>Justin Bour</td><td>26</td></tr>",
                            "<tr><td>Tomas Nido</td><td>26</td></tr>",
                            "<tr><td>Joe Panik</td><td>26</td></tr>",
                            "<tr><td>Freddy Galvis</td><td>25</td></tr>",
                            "<tr><td>JT Riddle</td><td>25</td></tr>",
                            "<tr><td>Sean Rodriguez</td><td>25</td></tr>",
                            "<tr><td>Jesus Aguilar</td><td>24</td></tr>",
                            "<tr><td>Humberto Arteaga</td><td>24</td></tr>",
                            "<tr><td>Tyler Austin</td><td>24</td></tr>",
                            "<tr><td>Josh Harrison</td><td>24</td></tr>",
                            "<tr><td>Joey Rickard</td><td>24</td></tr>",
                            "<tr><td>Willi Castro</td><td>23</td></tr>",
                            "<tr><td>Roman Quinn</td><td>23</td></tr>",
                            "<tr><td>Mark Reynolds</td><td>23</td></tr>",
                            "<tr><td>Tyler Wade</td><td>23</td></tr>",
                            "<tr><td>Seth Brown</td><td>22</td></tr>",
                            "<tr><td>Carlos Gonzalez</td><td>22</td></tr>",
                            "<tr><td>Nico Hoerner</td><td>22</td></tr>",
                            "<tr><td>Ryan McBroom</td><td>22</td></tr>",
                            "<tr><td>Kendrys Morales</td><td>22</td></tr>",
                            "<tr><td>Jace Peterson</td><td>22</td></tr>",
                            "<tr><td>Cory Spangenberg</td><td>22</td></tr>",
                            "<tr><td>Michael A. Taylor</td><td>22</td></tr>",
                            "<tr><td>Keon Broxton</td><td>21</td></tr>",
                            "<tr><td>Francisco Cervelli</td><td>21</td></tr>",
                            "<tr><td>Austin Hays</td><td>21</td></tr>",
                            "<tr><td>Rosell Herrera</td><td>21</td></tr>",
                            "<tr><td>Sam Hilliard</td><td>21</td></tr>",
                            "<tr><td>Yonathan Daza</td><td>20</td></tr>",
                            "<tr><td>Adeiny Hechavarria</td><td>20</td></tr>",
                            "<tr><td>Nick Martini</td><td>20</td></tr>",
                            "<tr><td>Yonder Alonso</td><td>19</td></tr>",
                            "<tr><td>Kelvin Gutierrez</td><td>19</td></tr>",
                            "<tr><td>Kyle Lewis</td><td>19</td></tr>",
                            "<tr><td>Lucas Duda</td><td>18</td></tr>",
                            "<tr><td>Gavin Lux</td><td>18</td></tr>",
                            "<tr><td>Luke Maile</td><td>18</td></tr>",
                            "<tr><td>Rafael Ortega</td><td>18</td></tr>",
                            "<tr><td>Chris Owings</td><td>18</td></tr>",
                            "<tr><td>Kyle Tucker</td><td>18</td></tr>",
                            "<tr><td>Richard Urena</td><td>18</td></tr>",
                            "<tr><td>Carlos Gomez</td><td>17</td></tr>",
                            "<tr><td>Phil Gosselin</td><td>17</td></tr>",
                            "<tr><td>Chris Herrmann</td><td>17</td></tr>",
                            "<tr><td>Martin Maldonado</td><td>17</td></tr>",
                            "<tr><td>Gerardo Parra</td><td>17</td></tr>",
                            "<tr><td>Brendan Rodgers</td><td>17</td></tr>",
                            "<tr><td>Giancarlo Stanton</td><td>17</td></tr>",
                            "<tr><td>Abraham Toro</td><td>17</td></tr>",
                            "<tr><td>Zack Collins</td><td>16</td></tr>",
                            "<tr><td>Thairo Estrada</td><td>16</td></tr>",
                            "<tr><td>Dustin Garneau</td><td>16</td></tr>",
                            "<tr><td>Scott Heineman</td><td>16</td></tr>",
                            "<tr><td>Steve Pearce</td><td>16</td></tr>",
                            "<tr><td>Cesar Puello</td><td>16</td></tr>",
                            "<tr><td>Wilfredo Tovar</td><td>16</td></tr>",
                            "<tr><td>Jared Walsh</td><td>16</td></tr>",
                            "<tr><td>Nick Williams</td><td>16</td></tr>",
                            "<tr><td>Kevin Cron</td><td>15</td></tr>",
                            "<tr><td>Jonathan Davis</td><td>15</td></tr>",
                            "<tr><td>Derek Fisher</td><td>15</td></tr>",
                            "<tr><td>Robel Garcia</td><td>15</td></tr>",
                            "<tr><td>Scooter Gennett</td><td>15</td></tr>",
                            "<tr><td>Scooter Gennett</td><td>15</td></tr>",
                            "<tr><td>Luis Guillorme</td><td>15</td></tr>",
                            "<tr><td>Tony Kemp</td><td>15</td></tr>",
                            "<tr><td>Cesar Puello</td><td>15</td></tr>",
                            "<tr><td>Matt Skole</td><td>15</td></tr>",
                            "<tr><td>Yangervis Solarte</td><td>15</td></tr>",
                            "<tr><td>Max Stassi</td><td>15</td></tr>",
                            "<tr><td>Pat Valaika</td><td>15</td></tr>",
                            "<tr><td>Austin Wynns</td><td>15</td></tr>",
                            "<tr><td>Austin Allen</td><td>14</td></tr>",
                            "<tr><td>Steven Brault</td><td>14</td></tr>",
                            "<tr><td>Terrance Gore</td><td>14</td></tr>",
                            "<tr><td>Nick Hundley</td><td>14</td></tr>",
                            "<tr><td>Kristopher Negron</td><td>14</td></tr>",
                            "<tr><td>Sheldon Neuse</td><td>14</td></tr>",
                            "<tr><td>Joey Rickard</td><td>14</td></tr>",
                            "<tr><td>Jake Rogers</td><td>14</td></tr>",
                            "<tr><td>Magneuris Sierra</td><td>14</td></tr>",
                            "<tr><td>Mac Williamson</td><td>14</td></tr>",
                            "<tr><td>Yu Chang</td><td>13</td></tr>",
                            "<tr><td>Jacob deGrom</td><td>13</td></tr>",
                            "<tr><td>Nicky Delmonico</td><td>13</td></tr>",
                            "<tr><td>Zack Greinke</td><td>13</td></tr>",
                            "<tr><td>Steven Matz</td><td>13</td></tr>",
                            "<tr><td>Sean Murphy</td><td>13</td></tr>",
                            "<tr><td>Edwin Rios</td><td>13</td></tr>",
                            "<tr><td>Jesus Sucre</td><td>13</td></tr>",
                            "<tr><td>Zack Cozart</td><td>12</td></tr>",
                            "<tr><td>Tim Federowicz</td><td>12</td></tr>",
                            "<tr><td>Derek Fisher</td><td>12</td></tr>",
                            "<tr><td>Josh Fuentes</td><td>12</td></tr>",
                            "<tr><td>Kyle Garlick</td><td>12</td></tr>",
                            "<tr><td>Kyle Higashioka</td><td>12</td></tr>",
                            "<tr><td>Matt Kemp</td><td>12</td></tr>",
                            "<tr><td>Andrew Knizner</td><td>12</td></tr>",
                            "<tr><td>Kenta Maeda</td><td>12</td></tr>",
                            "<tr><td>Danny Mendick</td><td>12</td></tr>",
                            "<tr><td>Stephen Strasburg</td><td>12</td></tr>",
                            "<tr><td>Lane Thomas</td><td>12</td></tr>",
                            "<tr><td>Chad Wallach</td><td>12</td></tr>",
                            "<tr><td>Zack Wheeler</td><td>12</td></tr>",
                            "<tr><td>Brandon Woodruff</td><td>12</td></tr>",
                            "<tr><td>Christian Arroyo</td><td>11</td></tr>",
                            "<tr><td>Nick Dini</td><td>11</td></tr>",
                            "<tr><td>Max Fried</td><td>11</td></tr>",
                            "<tr><td>Jedd Gyorko</td><td>11</td></tr>",
                            "<tr><td>Billy Hamilton</td><td>11</td></tr>",
                            "<tr><td>German Marquez</td><td>11</td></tr>",
                            "<tr><td>Kendrys Morales</td><td>11</td></tr>",
                            "<tr><td>John Ryan Murphy</td><td>11</td></tr>",
                            "<tr><td>Yadiel Rivera</td><td>11</td></tr>",
                            "<tr><td>Andrew Stevenson</td><td>11</td></tr>",
                            "<tr><td>LaMonte Wade Jr</td><td>11</td></tr>",
                            "<tr><td>Jake Elmore</td><td>10</td></tr>",
                            "<tr><td>Jack Flaherty</td><td>10</td></tr>",
                            "<tr><td>Michael Lorenzen</td><td>10</td></tr>",
                            "<tr><td>Jonathan Lucroy</td><td>10</td></tr>",
                            "<tr><td>Jack Mayfield</td><td>10</td></tr>",
                            "<tr><td>Michael Perez</td><td>10</td></tr>",
                            "<tr><td>Dustin Peterson</td><td>10</td></tr>",
                            "<tr><td>Scott Schebler</td><td>10</td></tr>",
                            "<tr><td>Max Scherzer</td><td>10</td></tr>",
                            "<tr><td>JB Shuck</td><td>10</td></tr>",
                            "<tr><td>Caleb Smith</td><td>10</td></tr>",
                            "<tr><td>Abraham Almonte</td><td>9</td></tr>",
                            "<tr><td>Alex Blandino</td><td>9</td></tr>",
                            "<tr><td>Francisco Cervelli</td><td>9</td></tr>",
                            "<tr><td>Isaac Galloway</td><td>9</td></tr>",
                            "<tr><td>Peter Lambert</td><td>9</td></tr>",
                            "<tr><td>Jon Lester</td><td>9</td></tr>",
                            "<tr><td>Jason Martin</td><td>9</td></tr>",
                            "<tr><td>Brad Miller</td><td>9</td></tr>",
                            "<tr><td>Daniel Palka</td><td>9</td></tr>",
                            "<tr><td>Brett Phillips</td><td>9</td></tr>",
                            "<tr><td>Hanley Ramirez</td><td>9</td></tr>",
                            "<tr><td>Blake Swihart</td><td>9</td></tr>",
                            "<tr><td>Mark Zagunis</td><td>9</td></tr>",
                            "<tr><td>Bobby Bradley</td><td>8</td></tr>",
                            "<tr><td>Madison Bumgarner</td><td>8</td></tr>",
                            "<tr><td>Zach Davies</td><td>8</td></tr>",
                            "<tr><td>Zach Eflin</td><td>8</td></tr>",
                            "<tr><td>Kyle Hendricks</td><td>8</td></tr>",
                            "<tr><td>Caleb Joseph</td><td>8</td></tr>",
                            "<tr><td>Miles Mikolas</td><td>8</td></tr>",
                            "<tr><td>Joe Musgrove</td><td>8</td></tr>",
                            "<tr><td>Brian O&#39;Grady</td><td>8</td></tr>",
                            "<tr><td>Rangel Ravelo</td><td>8</td></tr>",
                            "<tr><td>Hyun-Jin Ryu</td><td>8</td></tr>",
                            "<tr><td>Tyler Saladino</td><td>8</td></tr>",
                            "<tr><td>Adam Wainwright</td><td>8</td></tr>",
                            "<tr><td>Taylor Ward</td><td>8</td></tr>",
                            "<tr><td>Mason Williams</td><td>8</td></tr>",
                            "<tr><td>Cristhian Adames</td><td>7</td></tr>",
                            "<tr><td>Jake Arrieta</td><td>7</td></tr>",
                            "<tr><td>Franklin Barreto</td><td>7</td></tr>",
                            "<tr><td>Jorge Bonifacio</td><td>7</td></tr>",
                            "<tr><td>Keon Broxton</td><td>7</td></tr>",
                            "<tr><td>Drew Butera</td><td>7</td></tr>",
                            "<tr><td>Jaylin Davis</td><td>7</td></tr>",
                            "<tr><td>Carlos Gonzalez</td><td>7</td></tr>",
                            "<tr><td>Sonny Gray</td><td>7</td></tr>",
                            "<tr><td>Alen Hanson</td><td>7</td></tr>",
                            "<tr><td>Gorkys Hernandez</td><td>7</td></tr>",
                            "<tr><td>Corban Joseph</td><td>7</td></tr>",
                            "<tr><td>Kevin Kramer</td><td>7</td></tr>",
                            "<tr><td>Domingo Leyba</td><td>7</td></tr>",
                            "<tr><td>Seth Mejias-Brean</td><td>7</td></tr>",
                            "<tr><td>Logan Morrison</td><td>7</td></tr>",
                            "<tr><td>Aaron Nola</td><td>7</td></tr>",
                            "<tr><td>Dom Nunez</td><td>7</td></tr>",
                            "<tr><td>Peter O&#39;Brien</td><td>7</td></tr>",
                            "<tr><td>Chris Owings</td><td>7</td></tr>",
                            "<tr><td>Adrian Sanchez</td><td>7</td></tr>",
                            "<tr><td>Garrett Stubbs</td><td>7</td></tr>",
                            "<tr><td>Breyvic Valera</td><td>7</td></tr>",
                            "<tr><td>Vince Velasquez</td><td>7</td></tr>",
                            "<tr><td>Miguel Andujar</td><td>6</td></tr>",
                            "<tr><td>Randy Arozarena</td><td>6</td></tr>",
                            "<tr><td>Greg Bird</td><td>6</td></tr>",
                            "<tr><td>Braden Bishop</td><td>6</td></tr>",
                            "<tr><td>Keon Broxton</td><td>6</td></tr>",
                            "<tr><td>Luis Castillo</td><td>6</td></tr>",
                            "<tr><td>Taylor Clarke</td><td>6</td></tr>",
                            "<tr><td>Patrick Corbin</td><td>6</td></tr>",
                            "<tr><td>Anthony DeSclafani</td><td>6</td></tr>",
                            "<tr><td>Jake Fraley</td><td>6</td></tr>",
                            "<tr><td>Aramis Garcia</td><td>6</td></tr>",
                            "<tr><td>Cole Hamels</td><td>6</td></tr>",
                            "<tr><td>Pablo Lopez</td><td>6</td></tr>",
                            "<tr><td>Cedric Mullins</td><td>6</td></tr>",
                            "<tr><td>AJ Reed</td><td>6</td></tr>",
                            "<tr><td>Jeff Samardzija</td><td>6</td></tr>",
                            "<tr><td>Anibal Sanchez</td><td>6</td></tr>",
                            "<tr><td>Matt Strahm</td><td>6</td></tr>",
                            "<tr><td>Blake Swihart</td><td>6</td></tr>",
                            "<tr><td>Noah Syndergaard</td><td>6</td></tr>",
                            "<tr><td>Julio Teheran</td><td>6</td></tr>",
                            "<tr><td>Michael Wacha</td><td>6</td></tr>",
                            "<tr><td>Trevor Williams</td><td>6</td></tr>",
                            "<tr><td>Mac Williamson</td><td>6</td></tr>",
                            "<tr><td>Sandy Alcantara</td><td>5</td></tr>",
                            "<tr><td>Anthony Alford</td><td>5</td></tr>",
                            "<tr><td>Anthony Bemboom</td><td>5</td></tr>",
                            "<tr><td>Walker Buehler</td><td>5</td></tr>",
                            "<tr><td>Franchy Cordero</td><td>5</td></tr>",
                            "<tr><td>Ryan Court</td><td>5</td></tr>",
                            "<tr><td>Yu Darvish</td><td>5</td></tr>",
                            "<tr><td>Rajai Davis</td><td>5</td></tr>",
                            "<tr><td>Dustin Garneau</td><td>5</td></tr>",
                            "<tr><td>Jedd Gyorko</td><td>5</td></tr>",
                            "<tr><td>Michael Hermosillo</td><td>5</td></tr>",
                            "<tr><td>Jeff Hoffman</td><td>5</td></tr>",
                            "<tr><td>Clayton Kershaw</td><td>5</td></tr>",
                            "<tr><td>Dallas Keuchel</td><td>5</td></tr>",
                            "<tr><td>Carter Kieboom</td><td>5</td></tr>",
                            "<tr><td>Ryan LaMarre</td><td>5</td></tr>",
                            "<tr><td>Ryan Lavarnway</td><td>5</td></tr>",
                            "<tr><td>Erick Mejia</td><td>5</td></tr>",
                            "<tr><td>Kristopher Negron</td><td>5</td></tr>",
                            "<tr><td>Chris Paddack</td><td>5</td></tr>",
                            "<tr><td>Jose Quintana</td><td>5</td></tr>",
                            "<tr><td>Tanner Roark</td><td>5</td></tr>",
                            "<tr><td>Dereck Rodriguez</td><td>5</td></tr>",
                            "<tr><td>Mark Trumbo</td><td>5</td></tr>",
                            "<tr><td>Aaron Altherr</td><td>4</td></tr>",
                            "<tr><td>Brett Anderson</td><td>4</td></tr>",
                            "<tr><td>Chase Anderson</td><td>4</td></tr>",
                            "<tr><td>Chris Archer</td><td>4</td></tr>",
                            "<tr><td>Tyler Austin</td><td>4</td></tr>",
                            "<tr><td>Tyler Beede</td><td>4</td></tr>",
                            "<tr><td>Peter Bourjos</td><td>4</td></tr>",
                            "<tr><td>Kaleb Cowart</td><td>4</td></tr>",
                            "<tr><td>Tony Gonsolin</td><td>4</td></tr>",
                            "<tr><td>Juan Graterol</td><td>4</td></tr>",
                            "<tr><td>Dakota Hudson</td><td>4</td></tr>",
                            "<tr><td>Travis Jankowski</td><td>4</td></tr>",
                            "<tr><td>Erik Kratz</td><td>4</td></tr>",
                            "<tr><td>Eric Lauer</td><td>4</td></tr>",
                            "<tr><td>Tzu-Wei Lin</td><td>4</td></tr>",
                            "<tr><td>Max Moroff</td><td>4</td></tr>",
                            "<tr><td>Jose Pirela</td><td>4</td></tr>",
                            "<tr><td>Robbie Ray</td><td>4</td></tr>",
                            "<tr><td>Rene Rivera</td><td>4</td></tr>",
                            "<tr><td>Mike Soroka</td><td>4</td></tr>",
                            "<tr><td>Beau Taylor</td><td>4</td></tr>",
                            "<tr><td>Tyrone Taylor</td><td>4</td></tr>",
                            "<tr><td>Breyvic Valera</td><td>4</td></tr>",
                            "<tr><td>Bobby Wilson</td><td>4</td></tr>",
                            "<tr><td>Patrick Wisdom</td><td>4</td></tr>",
                            "<tr><td>Socrates Brito</td><td>3</td></tr>",
                            "<tr><td>Jhoulys Chacin</td><td>3</td></tr>",
                            "<tr><td>Tyler Chatwood</td><td>3</td></tr>",
                            "<tr><td>Christian Colon</td><td>3</td></tr>",
                            "<tr><td>Taylor Davis</td><td>3</td></tr>",
                            "<tr><td>Alex Dickerson</td><td>3</td></tr>",
                            "<tr><td>Ryan Flaherty</td><td>3</td></tr>",
                            "<tr><td>Zack Godley</td><td>3</td></tr>",
                            "<tr><td>Jon Gray</td><td>3</td></tr>",
                            "<tr><td>Tyler Heineman</td><td>3</td></tr>",
                            "<tr><td>Rich Hill</td><td>3</td></tr>",
                            "<tr><td>Dinelson Lamet</td><td>3</td></tr>",
                            "<tr><td>Joey Lucchesi</td><td>3</td></tr>",
                            "<tr><td>Tyler Mahle</td><td>3</td></tr>",
                            "<tr><td>Nick Margevicius</td><td>3</td></tr>",
                            "<tr><td>Ian Miller</td><td>3</td></tr>",
                            "<tr><td>Trevor Richards</td><td>3</td></tr>",
                            "<tr><td>Max Stassi</td><td>3</td></tr>",
                            "<tr><td>Ross Stripling</td><td>3</td></tr>",
                            "<tr><td>Luis Torrens</td><td>3</td></tr>",
                            "<tr><td>Ronald Torreyes</td><td>3</td></tr>",
                            "<tr><td>Julio Urias</td><td>3</td></tr>",
                            "<tr><td>Donovan Walton</td><td>3</td></tr>",
                            "<tr><td>Kean Wong</td><td>3</td></tr>",
                            "<tr><td>Dario Agrazal</td><td>2</td></tr>",
                            "<tr><td>Shaun Anderson</td><td>2</td></tr>",
                            "<tr><td>Abiatal Avelino</td><td>2</td></tr>",
                            "<tr><td>Homer Bailey</td><td>2</td></tr>",
                            "<tr><td>Steven Baron</td><td>2</td></tr>",
                            "<tr><td>Trevor Bauer</td><td>2</td></tr>",
                            "<tr><td>Anthony Bemboom</td><td>2</td></tr>",
                            "<tr><td>Corbin Burnes</td><td>2</td></tr>",
                            "<tr><td>Juan Centeno</td><td>2</td></tr>",
                            "<tr><td>Travis d&#39;Arnaud</td><td>2</td></tr>",
                            "<tr><td>Erick Fedde</td><td>2</td></tr>",
                            "<tr><td>Mike Foltynewicz</td><td>2</td></tr>",
                            "<tr><td>Kyle Freeland</td><td>2</td></tr>",
                            "<tr><td>Rocky Gale</td><td>2</td></tr>",
                            "<tr><td>Zach Green</td><td>2</td></tr>",
                            "<tr><td>Corban Joseph</td><td>2</td></tr>",
                            "<tr><td>Jordan Lyles</td><td>2</td></tr>",
                            "<tr><td>Jordan Lyles</td><td>2</td></tr>",
                            "<tr><td>Brendan McKay</td><td>2</td></tr>",
                            "<tr><td>Alex McRae</td><td>2</td></tr>",
                            "<tr><td>Tim Melville</td><td>2</td></tr>",
                            "<tr><td>Jake Noll</td><td>2</td></tr>",
                            "<tr><td>Jacob Nottingham</td><td>2</td></tr>",
                            "<tr><td>Dustin Pedroia</td><td>2</td></tr>",
                            "<tr><td>Freddy Peralta</td><td>2</td></tr>",
                            "<tr><td>Nick Pivetta</td><td>2</td></tr>",
                            "<tr><td>Cal Quantrill</td><td>2</td></tr>",
                            "<tr><td>Joe Ross</td><td>2</td></tr>",
                            "<tr><td>Edmundo Sosa</td><td>2</td></tr>",
                            "<tr><td>Gregory Soto</td><td>2</td></tr>",
                            "<tr><td>Eric Stamets</td><td>2</td></tr>",
                            "<tr><td>Jameson Taillon</td><td>2</td></tr>",
                            "<tr><td>Trent Thornton</td><td>2</td></tr>",
                            "<tr><td>Troy Tulowitzki</td><td>2</td></tr>",
                            "<tr><td>Jason Vargas</td><td>2</td></tr>",
                            "<tr><td>Luke Weaver</td><td>2</td></tr>",
                            "<tr><td>Bryse Wilson</td><td>2</td></tr>",
                            "<tr><td>Alex Wood</td><td>2</td></tr>",
                            "<tr><td>R.J. Alaniz</td><td>1</td></tr>",
                            "<tr><td>Logan Allen</td><td>1</td></tr>",
                            "<tr><td>Aaron Altherr</td><td>1</td></tr>",
                            "<tr><td>Tyler Anderson</td><td>1</td></tr>",
                            "<tr><td>Tyler Austin</td><td>1</td></tr>",
                            "<tr><td>Trevor Bauer</td><td>1</td></tr>",
                            "<tr><td>Skye Bolt</td><td>1</td></tr>",
                            "<tr><td>Matthew Boyd</td><td>1</td></tr>",
                            "<tr><td>Brad Brach</td><td>1</td></tr>",
                            "<tr><td>John Brebbia</td><td>1</td></tr>",
                            "<tr><td>Trevor Cahill</td><td>1</td></tr>",
                            "<tr><td>Wilkin Castillo</td><td>1</td></tr>",
                            "<tr><td>Jesse Chavez</td><td>1</td></tr>",
                            "<tr><td>Nick Ciuffo</td><td>1</td></tr>",
                            "<tr><td>Johnny Davis</td><td>1</td></tr>",
                            "<tr><td>Oliver Drake</td><td>1</td></tr>",
                            "<tr><td>Danny Duffy</td><td>1</td></tr>",
                            "<tr><td>Jon Duplantier</td><td>1</td></tr>",
                            "<tr><td>Montana DuRapau</td><td>1</td></tr>",
                            "<tr><td>Caleb Ferguson</td><td>1</td></tr>",
                            "<tr><td>Chris Flexen</td><td>1</td></tr>",
                            "<tr><td>Wilmer Font</td><td>1</td></tr>",
                            "<tr><td>David Freitas</td><td>1</td></tr>",
                            "<tr><td>Drew Gagnon</td><td>1</td></tr>",
                            "<tr><td>Zac Gallen</td><td>1</td></tr>",
                            "<tr><td>Zac Gallen</td><td>1</td></tr>",
                            "<tr><td>Kevin Gausman</td><td>1</td></tr>",
                            "<tr><td>Mike Gerber</td><td>1</td></tr>",
                            "<tr><td>Lucas Giolito</td><td>1</td></tr>",
                            "<tr><td>Marco Gonzales</td><td>1</td></tr>",
                            "<tr><td>Chi Chi Gonzalez</td><td>1</td></tr>",
                            "<tr><td>Gio Gonzalez</td><td>1</td></tr>",
                            "<tr><td>Zack Greinke</td><td>1</td></tr>",
                            "<tr><td>Deivy Grullon</td><td>1</td></tr>",
                            "<tr><td>Junior Guerra</td><td>1</td></tr>",
                            "<tr><td>Eric Haase</td><td>1</td></tr>",
                            "<tr><td>Jeremy Hellickson</td><td>1</td></tr>",
                            "<tr><td>Ryan Helsley</td><td>1</td></tr>",
                            "<tr><td>Elieser Hernandez</td><td>1</td></tr>",
                            "<tr><td>Derek Holland</td><td>1</td></tr>",
                            "<tr><td>Adrian Houser</td><td>1</td></tr>",
                            "<tr><td>Cole Irvin</td><td>1</td></tr>",
                            "<tr><td>Connor Joe</td><td>1</td></tr>",
                            "<tr><td>Corban Joseph</td><td>1</td></tr>",
                            "<tr><td>Brad Keller</td><td>1</td></tr>",
                            "<tr><td>Merrill Kelly</td><td>1</td></tr>",
                            "<tr><td>Erik Kratz</td><td>1</td></tr>",
                            "<tr><td>Mike Leake</td><td>1</td></tr>",
                            "<tr><td>Francisco Liriano</td><td>1</td></tr>",
                            "<tr><td>Walker Lockett</td><td>1</td></tr>",
                            "<tr><td>Seth Lugo</td><td>1</td></tr>",
                            "<tr><td>Nick Martini</td><td>1</td></tr>",
                            "<tr><td>Phil Maton</td><td>1</td></tr>",
                            "<tr><td>Dustin May</td><td>1</td></tr>",
                            "<tr><td>Kyle McGowin</td><td>1</td></tr>",
                            "<tr><td>John Means</td><td>1</td></tr>",
                            "<tr><td>Alec Mills</td><td>1</td></tr>",
                            "<tr><td>Mike Montgomery</td><td>1</td></tr>",
                            "<tr><td>Hector Noesi</td><td>1</td></tr>",
                            "<tr><td>Daniel Norris</td><td>1</td></tr>",
                            "<tr><td>Luis Perdomo</td><td>1</td></tr>",
                            "<tr><td>Kevin Pillar</td><td>1</td></tr>",
                            "<tr><td>David Price</td><td>1</td></tr>",
                            "<tr><td>Raudy Read</td><td>1</td></tr>",
                            "<tr><td>Drew Robinson</td><td>1</td></tr>",
                            "<tr><td>Dennis Santana</td><td>1</td></tr>",
                            "<tr><td>Frank Schwindel</td><td>1</td></tr>",
                            "<tr><td>Antonio Senzatela</td><td>1</td></tr>",
                            "<tr><td>Chris Shaw</td><td>1</td></tr>",
                            "<tr><td>Lucas Sims</td><td>1</td></tr>",
                            "<tr><td>Will Smith</td><td>1</td></tr>",
                            "<tr><td>Brock Stewart</td><td>1</td></tr>",
                            "<tr><td>Marcus Stroman</td><td>1</td></tr>",
                            "<tr><td>Ranger Suarez</td><td>1</td></tr>",
                            "<tr><td>Jesus Tinoco</td><td>1</td></tr>",
                            "<tr><td>Jason Vargas</td><td>1</td></tr>",
                            "<tr><td>Andrew Velazquez</td><td>1</td></tr>",
                            "<tr><td>Andrew Velazquez</td><td>1</td></tr>",
                            "<tr><td>Austin Voth</td><td>1</td></tr>",
                            "<tr><td>Logan Webb</td><td>1</td></tr>",
                            "<tr><td>Tyler White</td><td>1</td></tr>",
                            "<tr><td>Aaron Wilkerson</td><td>1</td></tr>",
                            "<tr><td>Jordan Yamamoto</td><td>1</td></tr>",
                            "<tr><td>Alex Young</td><td>1</td></tr>",
                            "<tr><td>Seby Zavala</td><td>1</td></tr>",
                            "</table>"
                        ]
                    }
                }
            ],
            "execution_count": 10
        },
        {
            "cell_type": "code",
            "source": [
                "SELECT DISTINCT Team\n",
                "FROM houseprices;\n",
                ""
            ],
            "metadata": {
                "azdata_cell_guid": "74dbe44c-8ae8-49ad-b68a-9f10f8b09563",
                "language": "sql"
            },
            "outputs": [
                {
                    "output_type": "display_data",
                    "data": {
                        "text/html": "(30 row(s) affected)"
                    },
                    "metadata": {}
                },
                {
                    "output_type": "display_data",
                    "data": {
                        "text/html": "Total execution time: 00:00:01.008"
                    },
                    "metadata": {}
                },
                {
                    "output_type": "execute_result",
                    "metadata": {},
                    "execution_count": 11,
                    "data": {
                        "application/vnd.dataresource+json": {
                            "schema": {
                                "fields": [
                                    {
                                        "name": "Team"
                                    }
                                ]
                            },
                            "data": [
                                {
                                    "Team": "CHW"
                                },
                                {
                                    "Team": "ATL"
                                },
                                {
                                    "Team": "SFG"
                                },
                                {
                                    "Team": "TBR"
                                },
                                {
                                    "Team": "WSN"
                                },
                                {
                                    "Team": "MIN"
                                },
                                {
                                    "Team": "PIT"
                                },
                                {
                                    "Team": "MIL"
                                },
                                {
                                    "Team": "ARI"
                                },
                                {
                                    "Team": "CIN"
                                },
                                {
                                    "Team": "BAL"
                                },
                                {
                                    "Team": "MIA"
                                },
                                {
                                    "Team": "TOR"
                                },
                                {
                                    "Team": "SDP"
                                },
                                {
                                    "Team": "CLE"
                                },
                                {
                                    "Team": "CHC"
                                },
                                {
                                    "Team": "NYM"
                                },
                                {
                                    "Team": "COL"
                                },
                                {
                                    "Team": "PHI"
                                },
                                {
                                    "Team": "HOU"
                                },
                                {
                                    "Team": "OAK"
                                },
                                {
                                    "Team": "TEX"
                                },
                                {
                                    "Team": "NYY"
                                },
                                {
                                    "Team": "STL"
                                },
                                {
                                    "Team": "KCR"
                                },
                                {
                                    "Team": "LAD"
                                },
                                {
                                    "Team": "DET"
                                },
                                {
                                    "Team": "SEA"
                                },
                                {
                                    "Team": "LAA"
                                },
                                {
                                    "Team": "BOS"
                                }
                            ]
                        },
                        "text/html": [
                            "<table>",
                            "<tr><th>Team</th></tr>",
                            "<tr><td>CHW</td></tr>",
                            "<tr><td>ATL</td></tr>",
                            "<tr><td>SFG</td></tr>",
                            "<tr><td>TBR</td></tr>",
                            "<tr><td>WSN</td></tr>",
                            "<tr><td>MIN</td></tr>",
                            "<tr><td>PIT</td></tr>",
                            "<tr><td>MIL</td></tr>",
                            "<tr><td>ARI</td></tr>",
                            "<tr><td>CIN</td></tr>",
                            "<tr><td>BAL</td></tr>",
                            "<tr><td>MIA</td></tr>",
                            "<tr><td>TOR</td></tr>",
                            "<tr><td>SDP</td></tr>",
                            "<tr><td>CLE</td></tr>",
                            "<tr><td>CHC</td></tr>",
                            "<tr><td>NYM</td></tr>",
                            "<tr><td>COL</td></tr>",
                            "<tr><td>PHI</td></tr>",
                            "<tr><td>HOU</td></tr>",
                            "<tr><td>OAK</td></tr>",
                            "<tr><td>TEX</td></tr>",
                            "<tr><td>NYY</td></tr>",
                            "<tr><td>STL</td></tr>",
                            "<tr><td>KCR</td></tr>",
                            "<tr><td>LAD</td></tr>",
                            "<tr><td>DET</td></tr>",
                            "<tr><td>SEA</td></tr>",
                            "<tr><td>LAA</td></tr>",
                            "<tr><td>BOS</td></tr>",
                            "</table>"
                        ]
                    }
                }
            ],
            "execution_count": 11
        },
        {
            "cell_type": "code",
            "source": [
                "SELECT DISTINCT Team\n",
                "FROM houseprices;\n",
                ""
            ],
            "metadata": {
                "azdata_cell_guid": "07e77227-db96-444c-8606-3aeacea8aaaf",
                "language": "sql"
            },
            "outputs": [
{
    "output_type": "display_data",
    "data": {
        "text/html": "(30 row(s) affected)"
    },
    "metadata": {}
}, {
    "output_type": "display_data",
    "data": {
        "text/html": "Total execution time: 00:00:01.007"
    },
    "metadata": {}
}, {
    "output_type": "execute_result",
    "metadata": {},
    "execution_count": 13,
    "data": {
        "application/vnd.dataresource+json": {
            "schema": {
                "fields": [
                    {
                        "name": "Team"
                    }
                ]
            },
            "data": [
                {
                    "Team": "CHW"
                },
                {
                    "Team": "ATL"
                },
                {
                    "Team": "SFG"
                },
                {
                    "Team": "TBR"
                },
                {
                    "Team": "WSN"
                },
                {
                    "Team": "MIN"
                },
                {
                    "Team": "PIT"
                },
                {
                    "Team": "MIL"
                },
                {
                    "Team": "ARI"
                },
                {
                    "Team": "CIN"
                },
                {
                    "Team": "BAL"
                },
                {
                    "Team": "MIA"
                },
                {
                    "Team": "TOR"
                },
                {
                    "Team": "SDP"
                },
                {
                    "Team": "CLE"
                },
                {
                    "Team": "CHC"
                },
                {
                    "Team": "NYM"
                },
                {
                    "Team": "COL"
                },
                {
                    "Team": "PHI"
                },
                {
                    "Team": "HOU"
                },
                {
                    "Team": "OAK"
                },
                {
                    "Team": "TEX"
                },
                {
                    "Team": "NYY"
                },
                {
                    "Team": "STL"
                },
                {
                    "Team": "KCR"
                },
                {
                    "Team": "LAD"
                },
                {
                    "Team": "DET"
                },
                {
                    "Team": "SEA"
                },
                {
                    "Team": "LAA"
                },
                {
                    "Team": "BOS"
                }
            ]
        },
        "text/html": [
            "<table>",
            "<tr><th>Team</th></tr>",
            "<tr><td>CHW</td></tr>",
            "<tr><td>ATL</td></tr>",
            "<tr><td>SFG</td></tr>",
            "<tr><td>TBR</td></tr>",
            "<tr><td>WSN</td></tr>",
            "<tr><td>MIN</td></tr>",
            "<tr><td>PIT</td></tr>",
            "<tr><td>MIL</td></tr>",
            "<tr><td>ARI</td></tr>",
            "<tr><td>CIN</td></tr>",
            "<tr><td>BAL</td></tr>",
            "<tr><td>MIA</td></tr>",
            "<tr><td>TOR</td></tr>",
            "<tr><td>SDP</td></tr>",
            "<tr><td>CLE</td></tr>",
            "<tr><td>CHC</td></tr>",
            "<tr><td>NYM</td></tr>",
            "<tr><td>COL</td></tr>",
            "<tr><td>PHI</td></tr>",
            "<tr><td>HOU</td></tr>",
            "<tr><td>OAK</td></tr>",
            "<tr><td>TEX</td></tr>",
            "<tr><td>NYY</td></tr>",
            "<tr><td>STL</td></tr>",
            "<tr><td>KCR</td></tr>",
            "<tr><td>LAD</td></tr>",
            "<tr><td>DET</td></tr>",
            "<tr><td>SEA</td></tr>",
            "<tr><td>LAA</td></tr>",
            "<tr><td>BOS</td></tr>",
            "</table>"
        ]
    }
}
],
            "execution_count": 13
        }
    ]
}