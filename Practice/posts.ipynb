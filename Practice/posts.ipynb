{
    "metadata": {
        "kernelspec": {
            "name": "SQL",
            "display_name": "SQL",
            "language": "sql"
        },
        "language_info": {
            "name": "sql",
            "version": ""
        }
    },
    "nbformat_minor": 2,
    "nbformat": 4,
    "cells": [
        {
            "cell_type": "code",
            "source": [
                "use practice;"
            ],
            "metadata": {
                "azdata_cell_guid": "b876a4e1-bfc5-4cc7-a53a-2aa7d03efa14",
                "language": "sql"
            },
            "outputs": [
                {
                    "output_type": "display_data",
                    "data": {
                        "text/html": "Commands completed successfully"
                    },
                    "metadata": {}
                },
                {
                    "output_type": "display_data",
                    "data": {
                        "text/html": "Total execution time: 00:00:00"
                    },
                    "metadata": {}
                }
            ],
            "execution_count": 2
        },
        {
            "cell_type": "code",
            "source": [
                "SELECT\n",
                "    p.post_id,\n",
                "    p.post_content,\n",
                "    COUNT(CASE WHEN ur.reaction_type = 'like' THEN 1 END) AS num_likes,\n",
                "    COUNT(CASE WHEN ur.reaction_type = 'comment' THEN 1 END) AS num_comments,\n",
                "    COUNT(CASE WHEN ur.reaction_type = 'share' THEN 1 END) AS num_shares\n",
                "FROM\n",
                "    Posts p\n",
                "LEFT JOIN\n",
                "    UserReactions ur ON p.post_id = ur.post_id\n",
                "WHERE\n",
                "    p.post_id = 2 -- Replace with the desired post_id\n",
                "GROUP BY\n",
                "    p.post_id, p.post_content;"
            ],
            "metadata": {
                "azdata_cell_guid": "ae9aec79-0585-4e57-a65c-c81a9f0bdfa6",
                "language": "sql"
            },
            "outputs": [
                {
                    "output_type": "display_data",
                    "data": {
                        "text/html": "(1 row(s) affected)"
                    },
                    "metadata": {}
                },
                {
                    "output_type": "display_data",
                    "data": {
                        "text/html": "Total execution time: 00:00:01.010"
                    },
                    "metadata": {}
                },
                {
                    "output_type": "execute_result",
                    "metadata": {},
                    "execution_count": 3,
                    "data": {
                        "application/vnd.dataresource+json": {
                            "schema": {
                                "fields": [
                                    {
                                        "name": "post_id"
                                    },
                                    {
                                        "name": "post_content"
                                    },
                                    {
                                        "name": "num_likes"
                                    },
                                    {
                                        "name": "num_comments"
                                    },
                                    {
                                        "name": "num_shares"
                                    }
                                ]
                            },
                            "data": [
                                {
                                    "post_id": "2",
                                    "post_content": "Exploring the beauty of nature...",
                                    "num_likes": "2",
                                    "num_comments": "1",
                                    "num_shares": "0"
                                }
                            ]
                        },
                        "text/html": [
                            "<table>",
                            "<tr><th>post_id</th><th>post_content</th><th>num_likes</th><th>num_comments</th><th>num_shares</th></tr>",
                            "<tr><td>2</td><td>Exploring the beauty of nature...</td><td>2</td><td>1</td><td>0</td></tr>",
                            "</table>"
                        ]
                    }
                }
            ],
            "execution_count": 3
        },
        {
            "cell_type": "code",
            "source": [
                "SELECT\n",
                "    DATE(ur.reaction_date) AS reaction_day,\n",
                "    COUNT(DISTINCT ur.user_id) AS distinct_users,\n",
                "    COUNT(*) AS total_reactions,\n",
                "    AVG(COUNT(*)) OVER (PARTITION BY DATE(ur.reaction_date)) AS avg_reactions_per_user\n",
                "FROM\n",
                "    UserReactions ur\n",
                "WHERE\n",
                "    ur.reaction_date BETWEEN '2023-08-25' AND '2023-08-31' -- Replace with desired time period\n",
                "GROUP BY\n",
                "    reaction_day;"
            ],
            "metadata": {
                "azdata_cell_guid": "1c47f9d6-8677-481a-ab2f-031893efff55",
                "language": "sql"
            },
            "outputs": [
{
    "output_type": "display_data",
    "data": {
        "text/html": "(6 row(s) affected)"
    },
    "metadata": {}
}, {
    "output_type": "display_data",
    "data": {
        "text/html": "Total execution time: 00:00:01.008"
    },
    "metadata": {}
}, {
    "output_type": "execute_result",
    "metadata": {},
    "execution_count": 4,
    "data": {
        "application/vnd.dataresource+json": {
            "schema": {
                "fields": [
                    {
                        "name": "reaction_day"
                    },
                    {
                        "name": "distinct_users"
                    },
                    {
                        "name": "total_reactions"
                    },
                    {
                        "name": "avg_reactions_per_user"
                    }
                ]
            },
            "data": [
                {
                    "reaction_day": "2023-08-25",
                    "distinct_users": "2",
                    "total_reactions": "2",
                    "avg_reactions_per_user": "2.0000"
                },
                {
                    "reaction_day": "2023-08-26",
                    "distinct_users": "2",
                    "total_reactions": "2",
                    "avg_reactions_per_user": "2.0000"
                },
                {
                    "reaction_day": "2023-08-27",
                    "distinct_users": "3",
                    "total_reactions": "3",
                    "avg_reactions_per_user": "3.0000"
                },
                {
                    "reaction_day": "2023-08-28",
                    "distinct_users": "2",
                    "total_reactions": "2",
                    "avg_reactions_per_user": "2.0000"
                },
                {
                    "reaction_day": "2023-08-29",
                    "distinct_users": "2",
                    "total_reactions": "2",
                    "avg_reactions_per_user": "2.0000"
                },
                {
                    "reaction_day": "2023-08-30",
                    "distinct_users": "1",
                    "total_reactions": "1",
                    "avg_reactions_per_user": "1.0000"
                }
            ]
        },
        "text/html": [
            "<table>",
            "<tr><th>reaction_day</th><th>distinct_users</th><th>total_reactions</th><th>avg_reactions_per_user</th></tr>",
            "<tr><td>2023-08-25</td><td>2</td><td>2</td><td>2.0000</td></tr>",
            "<tr><td>2023-08-26</td><td>2</td><td>2</td><td>2.0000</td></tr>",
            "<tr><td>2023-08-27</td><td>3</td><td>3</td><td>3.0000</td></tr>",
            "<tr><td>2023-08-28</td><td>2</td><td>2</td><td>2.0000</td></tr>",
            "<tr><td>2023-08-29</td><td>2</td><td>2</td><td>2.0000</td></tr>",
            "<tr><td>2023-08-30</td><td>1</td><td>1</td><td>1.0000</td></tr>",
            "</table>"
        ]
    }
}
],
            "execution_count": 4
        }
    ]
}