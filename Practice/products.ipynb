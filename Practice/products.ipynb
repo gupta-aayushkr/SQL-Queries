{
    "metadata": {
        "kernelspec": {
            "name": "SQL",
            "display_name": "SQL",
            "language": "sql"
        },
        "language_info": {
            "name": "sql",
            "version": ""
        }
    },
    "nbformat_minor": 2,
    "nbformat": 4,
    "cells": [
        {
            "cell_type": "code",
            "source": [
                "use practice"
            ],
            "metadata": {
                "azdata_cell_guid": "dfee9151-60be-4dbf-aedf-10e8db651a81",
                "language": "sql"
            },
            "outputs": [
                {
                    "output_type": "display_data",
                    "data": {
                        "text/html": "Commands completed successfully"
                    },
                    "metadata": {}
                },
                {
                    "output_type": "display_data",
                    "data": {
                        "text/html": "Total execution time: 00:00:00"
                    },
                    "metadata": {}
                }
            ],
            "execution_count": 1
        },
        {
            "cell_type": "code",
            "source": [
                "SELECT p.productName, SUM(o.quantity * p.price) AS totalRevenue\n",
                "FROM Products p\n",
                "JOIN Orders o ON p.productID = o.productID\n",
                "GROUP BY p.productName\n",
                "ORDER BY totalRevenue DESC;"
            ],
            "metadata": {
                "azdata_cell_guid": "b0b4cb25-858d-4889-91b4-75883158c996",
                "language": "sql"
            },
            "outputs": [
{
    "output_type": "display_data",
    "data": {
        "text/html": "(4 row(s) affected)"
    },
    "metadata": {}
}, {
    "output_type": "display_data",
    "data": {
        "text/html": "Total execution time: 00:00:01.020"
    },
    "metadata": {}
}, {
    "output_type": "execute_result",
    "metadata": {},
    "execution_count": 2,
    "data": {
        "application/vnd.dataresource+json": {
            "schema": {
                "fields": [
                    {
                        "name": "productName"
                    },
                    {
                        "name": "totalRevenue"
                    }
                ]
            },
            "data": [
                {
                    "productName": "Apple",
                    "totalRevenue": "37.50"
                },
                {
                    "productName": "Orange",
                    "totalRevenue": "36.00"
                },
                {
                    "productName": "Banana",
                    "totalRevenue": "12.00"
                },
                {
                    "productName": "Mango",
                    "totalRevenue": "12.00"
                }
            ]
        },
        "text/html": [
            "<table>",
            "<tr><th>productName</th><th>totalRevenue</th></tr>",
            "<tr><td>Apple</td><td>37.50</td></tr>",
            "<tr><td>Orange</td><td>36.00</td></tr>",
            "<tr><td>Banana</td><td>12.00</td></tr>",
            "<tr><td>Mango</td><td>12.00</td></tr>",
            "</table>"
        ]
    }
}
],
            "execution_count": 2
        }
    ]
}