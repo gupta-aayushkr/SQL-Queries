{
    "metadata": {
        "kernelspec": {
            "name": "SQL",
            "display_name": "SQL",
            "language": "sql"
        },
        "language_info": {
            "name": "sql",
            "version": ""
        }
    },
    "nbformat_minor": 2,
    "nbformat": 4,
    "cells": [
        {
            "cell_type": "code",
            "source": [
                "use practice"
            ],
            "metadata": {
                "azdata_cell_guid": "36cd7fc7-9bc5-469a-b1fd-719494a69eb3",
                "language": "sql"
            },
            "outputs": [
                {
                    "output_type": "display_data",
                    "data": {
                        "text/html": "Commands completed successfully"
                    },
                    "metadata": {}
                },
                {
                    "output_type": "display_data",
                    "data": {
                        "text/html": "Total execution time: 00:00:00.002"
                    },
                    "metadata": {}
                }
            ],
            "execution_count": 4
        },
        {
            "cell_type": "code",
            "source": [
                "-- drop table sales;\n",
                "CREATE TABLE Sales (\n",
                "    ProductID INT,\n",
                "    ProductName VARCHAR(50),\n",
                "    SellingPrice DECIMAL(10, 2)\n",
                ");\n",
                "\n",
                "INSERT INTO Sales (ProductID, ProductName, SellingPrice)\n",
                "VALUES (1, 'Product A', 100),\n",
                "       (2, 'Product B', 150),\n",
                "       (1, 'Product A', 120),\n",
                "       (3, 'Product C', 200),\n",
                "       (2, 'Product B', 180),\n",
                "       (1, 'Product A', 90)"
            ],
            "metadata": {
                "azdata_cell_guid": "6ff8566f-d758-425b-a2a4-d6956d04168c",
                "language": "sql"
            },
            "outputs": [
                {
                    "output_type": "display_data",
                    "data": {
                        "text/html": "Commands completed successfully"
                    },
                    "metadata": {}
                },
                {
                    "output_type": "display_data",
                    "data": {
                        "text/html": "Commands completed successfully"
                    },
                    "metadata": {}
                },
                {
                    "output_type": "display_data",
                    "data": {
                        "text/html": "Commands completed successfully"
                    },
                    "metadata": {}
                },
                {
                    "output_type": "display_data",
                    "data": {
                        "text/html": "Total execution time: 00:00:00.014"
                    },
                    "metadata": {}
                }
            ],
            "execution_count": 9
        },
        {
            "cell_type": "code",
            "source": [
                "select * from sales"
            ],
            "metadata": {
                "azdata_cell_guid": "0afef241-03c7-4375-8537-3c622667861b",
                "language": "sql"
            },
            "outputs": [
                {
                    "output_type": "display_data",
                    "data": {
                        "text/html": "(6 row(s) affected)"
                    },
                    "metadata": {}
                },
                {
                    "output_type": "display_data",
                    "data": {
                        "text/html": "Total execution time: 00:00:01.004"
                    },
                    "metadata": {}
                },
                {
                    "output_type": "execute_result",
                    "metadata": {},
                    "execution_count": 10,
                    "data": {
                        "application/vnd.dataresource+json": {
                            "schema": {
                                "fields": [
                                    {
                                        "name": "ProductID"
                                    },
                                    {
                                        "name": "ProductName"
                                    },
                                    {
                                        "name": "SellingPrice"
                                    }
                                ]
                            },
                            "data": [
                                {
                                    "ProductID": "1",
                                    "ProductName": "Product A",
                                    "SellingPrice": "100.00"
                                },
                                {
                                    "ProductID": "2",
                                    "ProductName": "Product B",
                                    "SellingPrice": "150.00"
                                },
                                {
                                    "ProductID": "1",
                                    "ProductName": "Product A",
                                    "SellingPrice": "120.00"
                                },
                                {
                                    "ProductID": "3",
                                    "ProductName": "Product C",
                                    "SellingPrice": "200.00"
                                },
                                {
                                    "ProductID": "2",
                                    "ProductName": "Product B",
                                    "SellingPrice": "180.00"
                                },
                                {
                                    "ProductID": "1",
                                    "ProductName": "Product A",
                                    "SellingPrice": "90.00"
                                }
                            ]
                        },
                        "text/html": [
                            "<table>",
                            "<tr><th>ProductID</th><th>ProductName</th><th>SellingPrice</th></tr>",
                            "<tr><td>1</td><td>Product A</td><td>100.00</td></tr>",
                            "<tr><td>2</td><td>Product B</td><td>150.00</td></tr>",
                            "<tr><td>1</td><td>Product A</td><td>120.00</td></tr>",
                            "<tr><td>3</td><td>Product C</td><td>200.00</td></tr>",
                            "<tr><td>2</td><td>Product B</td><td>180.00</td></tr>",
                            "<tr><td>1</td><td>Product A</td><td>90.00</td></tr>",
                            "</table>"
                        ]
                    }
                }
            ],
            "execution_count": 10
        },
        {
            "cell_type": "code",
            "source": [
                "CREATE TABLE Sales2 (\n",
                "    CustomerID INT,\n",
                "    ProductID CHAR(1),\n",
                "    PurchaseDate DATE,\n",
                "    Quantity INT,\n",
                "    Revenue DECIMAL(10, 2)\n",
                ");\n",
                "\n",
                "INSERT INTO Sales (CustomerID, ProductID, PurchaseDate, Quantity, Revenue)\n",
                "VALUES\n",
                "    (1, 'A', '2023-01-01', 5, 100),\n",
                "    (2, 'B', '2023-01-02', 3, 50),\n",
                "    (3, 'A', '2023-01-03', 2, 30),\n",
                "    (4, 'C', '2023-01-03', 1, 20),\n",
                "    (1, 'B', '2023-01-04', 4, 80);"
            ],
            "metadata": {
                "azdata_cell_guid": "86eb7385-d233-40cb-a750-f0efa55262c6",
                "language": "sql"
            },
            "outputs": [
                {
                    "output_type": "display_data",
                    "data": {
                        "text/html": "Commands completed successfully"
                    },
                    "metadata": {}
                },
                {
                    "output_type": "display_data",
                    "data": {
                        "text/html": "Total execution time: 00:00:00.008"
                    },
                    "metadata": {}
                },
                {
                    "output_type": "error",
                    "evalue": "1054 (42S22): Unknown column 'CustomerID' in 'field list'",
                    "ename": "",
                    "traceback": []
                }
            ],
            "execution_count": 11
        },
        {
            "cell_type": "code",
            "source": [
                "select * from sales"
            ],
            "metadata": {
                "azdata_cell_guid": "1b0af3f8-23be-41bb-98a2-3a1dd81cf0c7",
                "language": "sql"
            },
            "outputs": [
                {
                    "output_type": "display_data",
                    "data": {
                        "text/html": "(6 row(s) affected)"
                    },
                    "metadata": {}
                },
                {
                    "output_type": "display_data",
                    "data": {
                        "text/html": "Total execution time: 00:00:01.006"
                    },
                    "metadata": {}
                },
                {
                    "output_type": "execute_result",
                    "metadata": {},
                    "execution_count": 12,
                    "data": {
                        "application/vnd.dataresource+json": {
                            "schema": {
                                "fields": [
                                    {
                                        "name": "ProductID"
                                    },
                                    {
                                        "name": "ProductName"
                                    },
                                    {
                                        "name": "SellingPrice"
                                    }
                                ]
                            },
                            "data": [
                                {
                                    "ProductID": "1",
                                    "ProductName": "Product A",
                                    "SellingPrice": "100.00"
                                },
                                {
                                    "ProductID": "2",
                                    "ProductName": "Product B",
                                    "SellingPrice": "150.00"
                                },
                                {
                                    "ProductID": "1",
                                    "ProductName": "Product A",
                                    "SellingPrice": "120.00"
                                },
                                {
                                    "ProductID": "3",
                                    "ProductName": "Product C",
                                    "SellingPrice": "200.00"
                                },
                                {
                                    "ProductID": "2",
                                    "ProductName": "Product B",
                                    "SellingPrice": "180.00"
                                },
                                {
                                    "ProductID": "1",
                                    "ProductName": "Product A",
                                    "SellingPrice": "90.00"
                                }
                            ]
                        },
                        "text/html": [
                            "<table>",
                            "<tr><th>ProductID</th><th>ProductName</th><th>SellingPrice</th></tr>",
                            "<tr><td>1</td><td>Product A</td><td>100.00</td></tr>",
                            "<tr><td>2</td><td>Product B</td><td>150.00</td></tr>",
                            "<tr><td>1</td><td>Product A</td><td>120.00</td></tr>",
                            "<tr><td>3</td><td>Product C</td><td>200.00</td></tr>",
                            "<tr><td>2</td><td>Product B</td><td>180.00</td></tr>",
                            "<tr><td>1</td><td>Product A</td><td>90.00</td></tr>",
                            "</table>"
                        ]
                    }
                }
            ],
            "execution_count": 12
        },
        {
            "cell_type": "code",
            "source": [
                "select avg(SellingPrice) from sales"
            ],
            "metadata": {
                "azdata_cell_guid": "0467376c-3dcc-4434-9f5a-f89f89f22c8c",
                "language": "sql"
            },
            "outputs": [
                {
                    "output_type": "display_data",
                    "data": {
                        "text/html": "(1 row(s) affected)"
                    },
                    "metadata": {}
                },
                {
                    "output_type": "display_data",
                    "data": {
                        "text/html": "Total execution time: 00:00:01.008"
                    },
                    "metadata": {}
                },
                {
                    "output_type": "execute_result",
                    "metadata": {},
                    "execution_count": 13,
                    "data": {
                        "application/vnd.dataresource+json": {
                            "schema": {
                                "fields": [
                                    {
                                        "name": "avg(SellingPrice)"
                                    }
                                ]
                            },
                            "data": [
                                {
                                    "avg(SellingPrice)": "140.000000"
                                }
                            ]
                        },
                        "text/html": [
                            "<table>",
                            "<tr><th>avg(SellingPrice)</th></tr>",
                            "<tr><td>140.000000</td></tr>",
                            "</table>"
                        ]
                    }
                }
            ],
            "execution_count": 13
        },
        {
            "cell_type": "code",
            "source": [
                ""
            ],
            "metadata": {
                "azdata_cell_guid": "94962bc3-3e67-49a3-a59a-66d2891c7058",
                "language": "sql"
            },
            "outputs": [],
            "execution_count": null
        }
    ]
}