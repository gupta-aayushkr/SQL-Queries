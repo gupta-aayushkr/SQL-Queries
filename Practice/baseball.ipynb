{
    "metadata": {
        "kernelspec": {
            "name": "SQL",
            "display_name": "SQL",
            "language": "sql"
        },
        "language_info": {
            "name": "sql",
            "version": ""
        }
    },
    "nbformat_minor": 2,
    "nbformat": 4,
    "cells": [
        {
            "cell_type": "code",
            "source": [
                "use practice;"
            ],
            "metadata": {
                "azdata_cell_guid": "952b5135-f188-41c5-af5a-d9f3f5a879d0",
                "language": "sql"
            },
            "outputs": [
                {
                    "output_type": "display_data",
                    "data": {
                        "text/html": "Commands completed successfully"
                    },
                    "metadata": {}
                },
                {
                    "output_type": "display_data",
                    "data": {
                        "text/html": "Total execution time: 00:00:00"
                    },
                    "metadata": {}
                }
            ],
            "execution_count": 1
        },
        {
            "cell_type": "code",
            "source": [
                "describe baseball"
            ],
            "metadata": {
                "azdata_cell_guid": "4046da81-449a-4a11-90f3-9735a5b634e9",
                "language": "sql"
            },
            "outputs": [
                {
                    "output_type": "display_data",
                    "data": {
                        "text/html": "(11 row(s) affected)"
                    },
                    "metadata": {}
                },
                {
                    "output_type": "display_data",
                    "data": {
                        "text/html": "Total execution time: 00:00:01.013"
                    },
                    "metadata": {}
                },
                {
                    "output_type": "execute_result",
                    "metadata": {},
                    "execution_count": 2,
                    "data": {
                        "application/vnd.dataresource+json": {
                            "schema": {
                                "fields": [
                                    {
                                        "name": "Field"
                                    },
                                    {
                                        "name": "Type"
                                    },
                                    {
                                        "name": "Null"
                                    },
                                    {
                                        "name": "Key"
                                    },
                                    {
                                        "name": "Default"
                                    },
                                    {
                                        "name": "Extra"
                                    }
                                ]
                            },
                            "data": [
                                {
                                    "Field": "Num",
                                    "Type": "b'bigint'",
                                    "Null": "YES",
                                    "Key": "",
                                    "Default": "NULL",
                                    "Extra": ""
                                },
                                {
                                    "Field": "Name",
                                    "Type": "b'text'",
                                    "Null": "YES",
                                    "Key": "",
                                    "Default": "NULL",
                                    "Extra": ""
                                },
                                {
                                    "Field": "Team",
                                    "Type": "b'text'",
                                    "Null": "YES",
                                    "Key": "",
                                    "Default": "NULL",
                                    "Extra": ""
                                },
                                {
                                    "Field": "Games",
                                    "Type": "b'bigint'",
                                    "Null": "YES",
                                    "Key": "",
                                    "Default": "NULL",
                                    "Extra": ""
                                },
                                {
                                    "Field": "AtBats",
                                    "Type": "b'bigint'",
                                    "Null": "YES",
                                    "Key": "",
                                    "Default": "NULL",
                                    "Extra": ""
                                },
                                {
                                    "Field": "Runs",
                                    "Type": "b'bigint'",
                                    "Null": "YES",
                                    "Key": "",
                                    "Default": "NULL",
                                    "Extra": ""
                                },
                                {
                                    "Field": "Hits",
                                    "Type": "b'bigint'",
                                    "Null": "YES",
                                    "Key": "",
                                    "Default": "NULL",
                                    "Extra": ""
                                },
                                {
                                    "Field": "Doubles",
                                    "Type": "b'bigint'",
                                    "Null": "YES",
                                    "Key": "",
                                    "Default": "NULL",
                                    "Extra": ""
                                },
                                {
                                    "Field": "Triples",
                                    "Type": "b'bigint'",
                                    "Null": "YES",
                                    "Key": "",
                                    "Default": "NULL",
                                    "Extra": ""
                                },
                                {
                                    "Field": "Homers",
                                    "Type": "b'bigint'",
                                    "Null": "YES",
                                    "Key": "",
                                    "Default": "NULL",
                                    "Extra": ""
                                },
                                {
                                    "Field": "RBIs",
                                    "Type": "b'bigint'",
                                    "Null": "YES",
                                    "Key": "",
                                    "Default": "NULL",
                                    "Extra": ""
                                }
                            ]
                        },
                        "text/html": [
                            "<table>",
                            "<tr><th>Field</th><th>Type</th><th>Null</th><th>Key</th><th>Default</th><th>Extra</th></tr>",
                            "<tr><td>Num</td><td>b&#39;bigint&#39;</td><td>YES</td><td></td><td>NULL</td><td></td></tr>",
                            "<tr><td>Name</td><td>b&#39;text&#39;</td><td>YES</td><td></td><td>NULL</td><td></td></tr>",
                            "<tr><td>Team</td><td>b&#39;text&#39;</td><td>YES</td><td></td><td>NULL</td><td></td></tr>",
                            "<tr><td>Games</td><td>b&#39;bigint&#39;</td><td>YES</td><td></td><td>NULL</td><td></td></tr>",
                            "<tr><td>AtBats</td><td>b&#39;bigint&#39;</td><td>YES</td><td></td><td>NULL</td><td></td></tr>",
                            "<tr><td>Runs</td><td>b&#39;bigint&#39;</td><td>YES</td><td></td><td>NULL</td><td></td></tr>",
                            "<tr><td>Hits</td><td>b&#39;bigint&#39;</td><td>YES</td><td></td><td>NULL</td><td></td></tr>",
                            "<tr><td>Doubles</td><td>b&#39;bigint&#39;</td><td>YES</td><td></td><td>NULL</td><td></td></tr>",
                            "<tr><td>Triples</td><td>b&#39;bigint&#39;</td><td>YES</td><td></td><td>NULL</td><td></td></tr>",
                            "<tr><td>Homers</td><td>b&#39;bigint&#39;</td><td>YES</td><td></td><td>NULL</td><td></td></tr>",
                            "<tr><td>RBIs</td><td>b&#39;bigint&#39;</td><td>YES</td><td></td><td>NULL</td><td></td></tr>",
                            "</table>"
                        ]
                    }
                }
            ],
            "execution_count": 2
        },
        {
            "cell_type": "code",
            "source": [
                "SELECT Name, SUM(Games) AS TotalGamesPlayed\n",
                "FROM baseball\n",
                "GROUP BY Name;"
            ],
            "metadata": {
                "azdata_cell_guid": "01df3082-1255-4e8b-9145-788fb1cd1238",
                "language": "sql"
            },
            "outputs": [
                {
                    "output_type": "display_data",
                    "data": {
                        "text/html": "(768 row(s) affected)"
                    },
                    "metadata": {}
                },
                {
                    "output_type": "display_data",
                    "data": {
                        "text/html": "Total execution time: 00:00:01.009"
                    },
                    "metadata": {}
                },
                {
                    "output_type": "execute_result",
                    "metadata": {},
                    "execution_count": 5,
                    "data": {
                        "application/vnd.dataresource+json": {
                            "schema": {
                                "fields": [
                                    {
                                        "name": "Name"
                                    },
                                    {
                                        "name": "TotalGamesPlayed"
                                    }
                                ]
                            },
                            "data": [
                                {
                                    "Name": "José Abreu",
                                    "TotalGamesPlayed": "159"
                                },
                                {
                                    "Name": "Ronald Acuna Jr.",
                                    "TotalGamesPlayed": "156"
                                },
                                {
                                    "Name": "Cristhian Adames",
                                    "TotalGamesPlayed": "10"
                                },
                                {
                                    "Name": "Willy Adames",
                                    "TotalGamesPlayed": "152"
                                },
                                {
                                    "Name": "Matt Adams",
                                    "TotalGamesPlayed": "111"
                                },
                                {
                                    "Name": "Ehire Adrianza",
                                    "TotalGamesPlayed": "83"
                                },
                                {
                                    "Name": "Dario Agrazal",
                                    "TotalGamesPlayed": "14"
                                },
                                {
                                    "Name": "Jesus Aguilar",
                                    "TotalGamesPlayed": "131"
                                },
                                {
                                    "Name": "Nick Ahmed",
                                    "TotalGamesPlayed": "158"
                                },
                                {
                                    "Name": "R.J. Alaniz",
                                    "TotalGamesPlayed": "8"
                                },
                                {
                                    "Name": "Hanser Alberto",
                                    "TotalGamesPlayed": "139"
                                },
                                {
                                    "Name": "Ozzie Albies",
                                    "TotalGamesPlayed": "160"
                                },
                                {
                                    "Name": "Sandy Alcantara",
                                    "TotalGamesPlayed": "31"
                                },
                                {
                                    "Name": "Jorge Alfaro",
                                    "TotalGamesPlayed": "130"
                                },
                                {
                                    "Name": "Anthony Alford",
                                    "TotalGamesPlayed": "16"
                                },
                                {
                                    "Name": "Austin Allen",
                                    "TotalGamesPlayed": "34"
                                },
                                {
                                    "Name": "Greg Allen",
                                    "TotalGamesPlayed": "89"
                                },
                                {
                                    "Name": "Logan Allen",
                                    "TotalGamesPlayed": "7"
                                },
                                {
                                    "Name": "Abraham Almonte",
                                    "TotalGamesPlayed": "17"
                                },
                                {
                                    "Name": "Albert Almora",
                                    "TotalGamesPlayed": "130"
                                },
                                {
                                    "Name": "Pete Alonso",
                                    "TotalGamesPlayed": "161"
                                },
                                {
                                    "Name": "Yonder Alonso",
                                    "TotalGamesPlayed": "121"
                                },
                                {
                                    "Name": "Aaron Altherr",
                                    "TotalGamesPlayed": "48"
                                },
                                {
                                    "Name": "Jose Altuve",
                                    "TotalGamesPlayed": "124"
                                },
                                {
                                    "Name": "Yordan Álvarez",
                                    "TotalGamesPlayed": "87"
                                },
                                {
                                    "Name": "Brett Anderson",
                                    "TotalGamesPlayed": "3"
                                },
                                {
                                    "Name": "Brian Anderson",
                                    "TotalGamesPlayed": "126"
                                },
                                {
                                    "Name": "Chase Anderson",
                                    "TotalGamesPlayed": "31"
                                },
                                {
                                    "Name": "Shaun Anderson",
                                    "TotalGamesPlayed": "25"
                                },
                                {
                                    "Name": "Tim Anderson",
                                    "TotalGamesPlayed": "123"
                                },
                                {
                                    "Name": "Tyler Anderson",
                                    "TotalGamesPlayed": "5"
                                },
                                {
                                    "Name": "Elvis Andrus",
                                    "TotalGamesPlayed": "147"
                                },
                                {
                                    "Name": "Miguel Andujar",
                                    "TotalGamesPlayed": "12"
                                },
                                {
                                    "Name": "Aristides Aquino",
                                    "TotalGamesPlayed": "56"
                                },
                                {
                                    "Name": "Chris Archer",
                                    "TotalGamesPlayed": "22"
                                },
                                {
                                    "Name": "Orlando Arcia",
                                    "TotalGamesPlayed": "152"
                                },
                                {
                                    "Name": "Nolan Arenado",
                                    "TotalGamesPlayed": "155"
                                },
                                {
                                    "Name": "Randy Arozarena",
                                    "TotalGamesPlayed": "19"
                                },
                                {
                                    "Name": "Luis Arraez",
                                    "TotalGamesPlayed": "92"
                                },
                                {
                                    "Name": "Jake Arrieta",
                                    "TotalGamesPlayed": "23"
                                },
                                {
                                    "Name": "Christian Arroyo",
                                    "TotalGamesPlayed": "16"
                                },
                                {
                                    "Name": "Humberto Arteaga",
                                    "TotalGamesPlayed": "41"
                                },
                                {
                                    "Name": "Willians Astudillo",
                                    "TotalGamesPlayed": "58"
                                },
                                {
                                    "Name": "Tyler Austin",
                                    "TotalGamesPlayed": "89"
                                },
                                {
                                    "Name": "Abiatal Avelino",
                                    "TotalGamesPlayed": "4"
                                },
                                {
                                    "Name": "Alex Avila",
                                    "TotalGamesPlayed": "63"
                                },
                                {
                                    "Name": "Harrison Bader",
                                    "TotalGamesPlayed": "128"
                                },
                                {
                                    "Name": "Javier Baez",
                                    "TotalGamesPlayed": "138"
                                },
                                {
                                    "Name": "Homer Bailey",
                                    "TotalGamesPlayed": "2"
                                },
                                {
                                    "Name": "Austin Barnes",
                                    "TotalGamesPlayed": "75"
                                },
                                {
                                    "Name": "Tucker Barnhart",
                                    "TotalGamesPlayed": "114"
                                },
                                {
                                    "Name": "Steven Baron",
                                    "TotalGamesPlayed": "7"
                                },
                                {
                                    "Name": "Franklin Barreto",
                                    "TotalGamesPlayed": "23"
                                },
                                {
                                    "Name": "Trevor Bauer",
                                    "TotalGamesPlayed": "11"
                                },
                                {
                                    "Name": "Jake Bauers",
                                    "TotalGamesPlayed": "117"
                                },
                                {
                                    "Name": "Matt Beaty",
                                    "TotalGamesPlayed": "99"
                                },
                                {
                                    "Name": "Gordon Beckham",
                                    "TotalGamesPlayed": "83"
                                },
                                {
                                    "Name": "Tim Beckham",
                                    "TotalGamesPlayed": "88"
                                },
                                {
                                    "Name": "Tyler Beede",
                                    "TotalGamesPlayed": "25"
                                },
                                {
                                    "Name": "Josh Bell",
                                    "TotalGamesPlayed": "143"
                                },
                                {
                                    "Name": "Cody Bellinger",
                                    "TotalGamesPlayed": "156"
                                },
                                {
                                    "Name": "Brandon Belt",
                                    "TotalGamesPlayed": "156"
                                },
                                {
                                    "Name": "Anthony Bemboom",
                                    "TotalGamesPlayed": "25"
                                },
                                {
                                    "Name": "Andrew Benintendi",
                                    "TotalGamesPlayed": "138"
                                },
                                {
                                    "Name": "Jon Berti",
                                    "TotalGamesPlayed": "73"
                                },
                                {
                                    "Name": "Mookie Betts",
                                    "TotalGamesPlayed": "150"
                                },
                                {
                                    "Name": "Bo Bichette",
                                    "TotalGamesPlayed": "46"
                                },
                                {
                                    "Name": "Cavan Biggio",
                                    "TotalGamesPlayed": "100"
                                },
                                {
                                    "Name": "Greg Bird",
                                    "TotalGamesPlayed": "10"
                                },
                                {
                                    "Name": "Braden Bishop",
                                    "TotalGamesPlayed": "27"
                                },
                                {
                                    "Name": "Charlie Blackmon",
                                    "TotalGamesPlayed": "140"
                                },
                                {
                                    "Name": "Alex Blandino",
                                    "TotalGamesPlayed": "23"
                                },
                                {
                                    "Name": "Xander Bogaerts",
                                    "TotalGamesPlayed": "155"
                                },
                                {
                                    "Name": "Skye Bolt",
                                    "TotalGamesPlayed": "5"
                                },
                                {
                                    "Name": "Jorge Bonifacio",
                                    "TotalGamesPlayed": "5"
                                },
                                {
                                    "Name": "David Bote",
                                    "TotalGamesPlayed": "127"
                                },
                                {
                                    "Name": "Justin Bour",
                                    "TotalGamesPlayed": "52"
                                },
                                {
                                    "Name": "Peter Bourjos",
                                    "TotalGamesPlayed": "26"
                                },
                                {
                                    "Name": "Matthew Boyd",
                                    "TotalGamesPlayed": "1"
                                },
                                {
                                    "Name": "Brad Brach",
                                    "TotalGamesPlayed": "39"
                                },
                                {
                                    "Name": "Bobby Bradley",
                                    "TotalGamesPlayed": "15"
                                },
                                {
                                    "Name": "Jackie Bradley Jr.",
                                    "TotalGamesPlayed": "147"
                                },
                                {
                                    "Name": "Michael Brantley",
                                    "TotalGamesPlayed": "148"
                                },
                                {
                                    "Name": "Steven Brault",
                                    "TotalGamesPlayed": "33"
                                },
                                {
                                    "Name": "Ryan Braun",
                                    "TotalGamesPlayed": "144"
                                },
                                {
                                    "Name": "John Brebbia",
                                    "TotalGamesPlayed": "63"
                                },
                                {
                                    "Name": "Alex Bregman",
                                    "TotalGamesPlayed": "156"
                                },
                                {
                                    "Name": "Lewis Brinson",
                                    "TotalGamesPlayed": "75"
                                },
                                {
                                    "Name": "Socrates Brito",
                                    "TotalGamesPlayed": "17"
                                },
                                {
                                    "Name": "Mike Brosseau",
                                    "TotalGamesPlayed": "50"
                                },
                                {
                                    "Name": "Seth Brown",
                                    "TotalGamesPlayed": "26"
                                },
                                {
                                    "Name": "Keon Broxton",
                                    "TotalGamesPlayed": "100"
                                },
                                {
                                    "Name": "Jay Bruce",
                                    "TotalGamesPlayed": "98"
                                },
                                {
                                    "Name": "Kris Bryant",
                                    "TotalGamesPlayed": "147"
                                },
                                {
                                    "Name": "Walker Buehler",
                                    "TotalGamesPlayed": "29"
                                },
                                {
                                    "Name": "Madison Bumgarner",
                                    "TotalGamesPlayed": "35"
                                },
                                {
                                    "Name": "Corbin Burnes",
                                    "TotalGamesPlayed": "30"
                                },
                                {
                                    "Name": "Drew Butera",
                                    "TotalGamesPlayed": "16"
                                },
                                {
                                    "Name": "Byron Buxton",
                                    "TotalGamesPlayed": "87"
                                },
                                {
                                    "Name": "Asdrubal Cabrera",
                                    "TotalGamesPlayed": "131"
                                },
                                {
                                    "Name": "Melky Cabrera",
                                    "TotalGamesPlayed": "133"
                                },
                                {
                                    "Name": "Miguel Cabrera",
                                    "TotalGamesPlayed": "136"
                                },
                                {
                                    "Name": "Trevor Cahill",
                                    "TotalGamesPlayed": "2"
                                },
                                {
                                    "Name": "Lorenzo Cain",
                                    "TotalGamesPlayed": "148"
                                },
                                {
                                    "Name": "Kole Calhoun",
                                    "TotalGamesPlayed": "152"
                                },
                                {
                                    "Name": "Willie Calhoun",
                                    "TotalGamesPlayed": "83"
                                },
                                {
                                    "Name": "Johan Camargo",
                                    "TotalGamesPlayed": "98"
                                },
                                {
                                    "Name": "Jeimer Candelario",
                                    "TotalGamesPlayed": "94"
                                },
                                {
                                    "Name": "Mark Canha",
                                    "TotalGamesPlayed": "126"
                                },
                                {
                                    "Name": "Robinson Cano",
                                    "TotalGamesPlayed": "107"
                                },
                                {
                                    "Name": "Victor Caratini",
                                    "TotalGamesPlayed": "95"
                                },
                                {
                                    "Name": "Matt Carpenter",
                                    "TotalGamesPlayed": "129"
                                },
                                {
                                    "Name": "Curt Casali",
                                    "TotalGamesPlayed": "84"
                                },
                                {
                                    "Name": "Nicholas Castellanos",
                                    "TotalGamesPlayed": "151"
                                },
                                {
                                    "Name": "Luis Castillo",
                                    "TotalGamesPlayed": "31"
                                },
                                {
                                    "Name": "Welington Castillo",
                                    "TotalGamesPlayed": "72"
                                },
                                {
                                    "Name": "Wilkin Castillo",
                                    "TotalGamesPlayed": "2"
                                },
                                {
                                    "Name": "Harold Castro",
                                    "TotalGamesPlayed": "97"
                                },
                                {
                                    "Name": "Jason Castro",
                                    "TotalGamesPlayed": "79"
                                },
                                {
                                    "Name": "Starlin Castro",
                                    "TotalGamesPlayed": "162"
                                },
                                {
                                    "Name": "Willi Castro",
                                    "TotalGamesPlayed": "30"
                                },
                                {
                                    "Name": "Jake Cave",
                                    "TotalGamesPlayed": "72"
                                },
                                {
                                    "Name": "Juan Centeno",
                                    "TotalGamesPlayed": "7"
                                },
                                {
                                    "Name": "Francisco Cervelli",
                                    "TotalGamesPlayed": "48"
                                },
                                {
                                    "Name": "Jhoulys Chacin",
                                    "TotalGamesPlayed": "18"
                                },
                                {
                                    "Name": "Yu Chang",
                                    "TotalGamesPlayed": "28"
                                },
                                {
                                    "Name": "Matt Chapman",
                                    "TotalGamesPlayed": "156"
                                },
                                {
                                    "Name": "Tyler Chatwood",
                                    "TotalGamesPlayed": "40"
                                },
                                {
                                    "Name": "Jesse Chavez",
                                    "TotalGamesPlayed": "4"
                                },
                                {
                                    "Name": "Michael Chavis",
                                    "TotalGamesPlayed": "95"
                                },
                                {
                                    "Name": "Robinson Chirinos",
                                    "TotalGamesPlayed": "114"
                                },
                                {
                                    "Name": "Ji-Man Choi",
                                    "TotalGamesPlayed": "127"
                                },
                                {
                                    "Name": "Shin-Soo Choo",
                                    "TotalGamesPlayed": "151"
                                },
                                {
                                    "Name": "Nick Ciuffo",
                                    "TotalGamesPlayed": "3"
                                },
                                {
                                    "Name": "Taylor Clarke",
                                    "TotalGamesPlayed": "21"
                                },
                                {
                                    "Name": "Zack Collins",
                                    "TotalGamesPlayed": "27"
                                },
                                {
                                    "Name": "Christian Colon",
                                    "TotalGamesPlayed": "8"
                                },
                                {
                                    "Name": "Michael Conforto",
                                    "TotalGamesPlayed": "151"
                                },
                                {
                                    "Name": "Willson Contreras",
                                    "TotalGamesPlayed": "105"
                                },
                                {
                                    "Name": "Garrett Cooper",
                                    "TotalGamesPlayed": "107"
                                },
                                {
                                    "Name": "Patrick Corbin",
                                    "TotalGamesPlayed": "31"
                                },
                                {
                                    "Name": "Ryan Cordell",
                                    "TotalGamesPlayed": "97"
                                },
                                {
                                    "Name": "Franchy Cordero",
                                    "TotalGamesPlayed": "9"
                                },
                                {
                                    "Name": "Carlos Correa",
                                    "TotalGamesPlayed": "75"
                                },
                                {
                                    "Name": "Ryan Court",
                                    "TotalGamesPlayed": "12"
                                },
                                {
                                    "Name": "Kaleb Cowart",
                                    "TotalGamesPlayed": "9"
                                },
                                {
                                    "Name": "Zack Cozart",
                                    "TotalGamesPlayed": "38"
                                },
                                {
                                    "Name": "Brandon Crawford",
                                    "TotalGamesPlayed": "147"
                                },
                                {
                                    "Name": "J.P. Crawford",
                                    "TotalGamesPlayed": "93"
                                },
                                {
                                    "Name": "C.J. Cron",
                                    "TotalGamesPlayed": "125"
                                },
                                {
                                    "Name": "Kevin Cron",
                                    "TotalGamesPlayed": "39"
                                },
                                {
                                    "Name": "Nelson Cruz",
                                    "TotalGamesPlayed": "120"
                                },
                                {
                                    "Name": "Charlie Culberson",
                                    "TotalGamesPlayed": "108"
                                },
                                {
                                    "Name": "Cheslor Cuthbert",
                                    "TotalGamesPlayed": "87"
                                },
                                {
                                    "Name": "Travis d'Arnaud",
                                    "TotalGamesPlayed": "102"
                                },
                                {
                                    "Name": "David Dahl",
                                    "TotalGamesPlayed": "100"
                                },
                                {
                                    "Name": "Yu Darvish",
                                    "TotalGamesPlayed": "30"
                                },
                                {
                                    "Name": "Zach Davies",
                                    "TotalGamesPlayed": "34"
                                },
                                {
                                    "Name": "Chris Davis",
                                    "TotalGamesPlayed": "105"
                                },
                                {
                                    "Name": "J.D. Davis",
                                    "TotalGamesPlayed": "140"
                                },
                                {
                                    "Name": "Jaylin Davis",
                                    "TotalGamesPlayed": "17"
                                },
                                {
                                    "Name": "Johnny Davis",
                                    "TotalGamesPlayed": "8"
                                },
                                {
                                    "Name": "Jonathan Davis",
                                    "TotalGamesPlayed": "37"
                                },
                                {
                                    "Name": "Khris Davis",
                                    "TotalGamesPlayed": "133"
                                },
                                {
                                    "Name": "Rajai Davis",
                                    "TotalGamesPlayed": "29"
                                },
                                {
                                    "Name": "Taylor Davis",
                                    "TotalGamesPlayed": "7"
                                },
                                {
                                    "Name": "Yonathan Daza",
                                    "TotalGamesPlayed": "44"
                                },
                                {
                                    "Name": "Austin Dean",
                                    "TotalGamesPlayed": "64"
                                },
                                {
                                    "Name": "Jacob deGrom",
                                    "TotalGamesPlayed": "31"
                                },
                                {
                                    "Name": "Paul DeJong",
                                    "TotalGamesPlayed": "159"
                                },
                                {
                                    "Name": "Nicky Delmonico",
                                    "TotalGamesPlayed": "21"
                                },
                                {
                                    "Name": "Travis Demeritte",
                                    "TotalGamesPlayed": "48"
                                },
                                {
                                    "Name": "Daniel Descalso",
                                    "TotalGamesPlayed": "82"
                                },
                                {
                                    "Name": "Anthony DeSclafani",
                                    "TotalGamesPlayed": "30"
                                },
                                {
                                    "Name": "Delino DeShields",
                                    "TotalGamesPlayed": "118"
                                },
                                {
                                    "Name": "Ian Desmond",
                                    "TotalGamesPlayed": "140"
                                },
                                {
                                    "Name": "Rafael Devers",
                                    "TotalGamesPlayed": "156"
                                },
                                {
                                    "Name": "Aledmys Díaz",
                                    "TotalGamesPlayed": "69"
                                },
                                {
                                    "Name": "Elias Diaz",
                                    "TotalGamesPlayed": "101"
                                },
                                {
                                    "Name": "Isan Diaz",
                                    "TotalGamesPlayed": "49"
                                },
                                {
                                    "Name": "Yandy Díaz",
                                    "TotalGamesPlayed": "79"
                                },
                                {
                                    "Name": "Alex Dickerson",
                                    "TotalGamesPlayed": "68"
                                },
                                {
                                    "Name": "Corey Dickerson",
                                    "TotalGamesPlayed": "78"
                                },
                                {
                                    "Name": "Derek Dietrich",
                                    "TotalGamesPlayed": "113"
                                },
                                {
                                    "Name": "Wilmer Difo",
                                    "TotalGamesPlayed": "43"
                                },
                                {
                                    "Name": "Nick Dini",
                                    "TotalGamesPlayed": "20"
                                },
                                {
                                    "Name": "Brandon Dixon",
                                    "TotalGamesPlayed": "117"
                                },
                                {
                                    "Name": "Josh Donaldson",
                                    "TotalGamesPlayed": "155"
                                },
                                {
                                    "Name": "Brian Dozier",
                                    "TotalGamesPlayed": "135"
                                },
                                {
                                    "Name": "Hunter Dozier",
                                    "TotalGamesPlayed": "139"
                                },
                                {
                                    "Name": "Oliver Drake",
                                    "TotalGamesPlayed": "3"
                                },
                                {
                                    "Name": "Brandon Drury",
                                    "TotalGamesPlayed": "120"
                                },
                                {
                                    "Name": "Mauricio Dubon",
                                    "TotalGamesPlayed": "28"
                                },
                                {
                                    "Name": "Lucas Duda",
                                    "TotalGamesPlayed": "39"
                                },
                                {
                                    "Name": "Danny Duffy",
                                    "TotalGamesPlayed": "2"
                                },
                                {
                                    "Name": "Matt Duffy",
                                    "TotalGamesPlayed": "46"
                                },
                                {
                                    "Name": "Steven Duggar",
                                    "TotalGamesPlayed": "73"
                                },
                                {
                                    "Name": "Jon Duplantier",
                                    "TotalGamesPlayed": "15"
                                },
                                {
                                    "Name": "Montana DuRapau",
                                    "TotalGamesPlayed": "14"
                                },
                                {
                                    "Name": "Adam Duvall",
                                    "TotalGamesPlayed": "41"
                                },
                                {
                                    "Name": "Jarrod Dyson",
                                    "TotalGamesPlayed": "130"
                                },
                                {
                                    "Name": "Adam Eaton",
                                    "TotalGamesPlayed": "151"
                                },
                                {
                                    "Name": "Tommy Edman",
                                    "TotalGamesPlayed": "92"
                                },
                                {
                                    "Name": "Zach Eflin",
                                    "TotalGamesPlayed": "31"
                                },
                                {
                                    "Name": "Jake Elmore",
                                    "TotalGamesPlayed": "20"
                                },
                                {
                                    "Name": "Edwin Encarnacion",
                                    "TotalGamesPlayed": "109"
                                },
                                {
                                    "Name": "Adam Engel",
                                    "TotalGamesPlayed": "89"
                                },
                                {
                                    "Name": "Phil Ervin",
                                    "TotalGamesPlayed": "94"
                                },
                                {
                                    "Name": "Eduardo Escobar",
                                    "TotalGamesPlayed": "158"
                                },
                                {
                                    "Name": "Thairo Estrada",
                                    "TotalGamesPlayed": "35"
                                },
                                {
                                    "Name": "Kyle Farmer",
                                    "TotalGamesPlayed": "97"
                                },
                                {
                                    "Name": "Erick Fedde",
                                    "TotalGamesPlayed": "20"
                                },
                                {
                                    "Name": "Tim Federowicz",
                                    "TotalGamesPlayed": "29"
                                },
                                {
                                    "Name": "Caleb Ferguson",
                                    "TotalGamesPlayed": "42"
                                },
                                {
                                    "Name": "Derek Fisher",
                                    "TotalGamesPlayed": "57"
                                },
                                {
                                    "Name": "Jack Flaherty",
                                    "TotalGamesPlayed": "35"
                                },
                                {
                                    "Name": "Ryan Flaherty",
                                    "TotalGamesPlayed": "14"
                                },
                                {
                                    "Name": "David Fletcher",
                                    "TotalGamesPlayed": "154"
                                },
                                {
                                    "Name": "Chris Flexen",
                                    "TotalGamesPlayed": "9"
                                },
                                {
                                    "Name": "Wilmer Flores",
                                    "TotalGamesPlayed": "89"
                                },
                                {
                                    "Name": "Tyler Flowers",
                                    "TotalGamesPlayed": "85"
                                },
                                {
                                    "Name": "Mike Foltynewicz",
                                    "TotalGamesPlayed": "19"
                                },
                                {
                                    "Name": "Wilmer Font",
                                    "TotalGamesPlayed": "14"
                                },
                                {
                                    "Name": "Mike Ford",
                                    "TotalGamesPlayed": "50"
                                },
                                {
                                    "Name": "Logan Forsythe",
                                    "TotalGamesPlayed": "101"
                                },
                                {
                                    "Name": "Dexter Fowler",
                                    "TotalGamesPlayed": "150"
                                },
                                {
                                    "Name": "Jake Fraley",
                                    "TotalGamesPlayed": "12"
                                },
                                {
                                    "Name": "Ty France",
                                    "TotalGamesPlayed": "69"
                                },
                                {
                                    "Name": "Maikel Franco",
                                    "TotalGamesPlayed": "123"
                                },
                                {
                                    "Name": "Adam Frazier",
                                    "TotalGamesPlayed": "152"
                                },
                                {
                                    "Name": "Clint Frazier",
                                    "TotalGamesPlayed": "69"
                                },
                                {
                                    "Name": "Todd Frazier",
                                    "TotalGamesPlayed": "133"
                                },
                                {
                                    "Name": "Kyle Freeland",
                                    "TotalGamesPlayed": "19"
                                },
                                {
                                    "Name": "Freddie Freeman",
                                    "TotalGamesPlayed": "158"
                                },
                                {
                                    "Name": "Mike Freeman",
                                    "TotalGamesPlayed": "75"
                                },
                                {
                                    "Name": "David Freese",
                                    "TotalGamesPlayed": "79"
                                },
                                {
                                    "Name": "David Freitas",
                                    "TotalGamesPlayed": "16"
                                },
                                {
                                    "Name": "Max Fried",
                                    "TotalGamesPlayed": "38"
                                },
                                {
                                    "Name": "Josh Fuentes",
                                    "TotalGamesPlayed": "24"
                                },
                                {
                                    "Name": "Drew Gagnon",
                                    "TotalGamesPlayed": "17"
                                },
                                {
                                    "Name": "Rocky Gale",
                                    "TotalGamesPlayed": "5"
                                },
                                {
                                    "Name": "Cam Gallagher",
                                    "TotalGamesPlayed": "45"
                                },
                                {
                                    "Name": "Zac Gallen",
                                    "TotalGamesPlayed": "14"
                                },
                                {
                                    "Name": "Joey Gallo",
                                    "TotalGamesPlayed": "70"
                                },
                                {
                                    "Name": "Isaac Galloway",
                                    "TotalGamesPlayed": "19"
                                },
                                {
                                    "Name": "Freddy Galvis",
                                    "TotalGamesPlayed": "147"
                                },
                                {
                                    "Name": "Ben Gamel",
                                    "TotalGamesPlayed": "134"
                                },
                                {
                                    "Name": "Aramis Garcia",
                                    "TotalGamesPlayed": "18"
                                },
                                {
                                    "Name": "Avisail Garcia",
                                    "TotalGamesPlayed": "125"
                                },
                                {
                                    "Name": "Greg Garcia",
                                    "TotalGamesPlayed": "134"
                                },
                                {
                                    "Name": "Leury Garcia",
                                    "TotalGamesPlayed": "140"
                                },
                                {
                                    "Name": "Robel Garcia",
                                    "TotalGamesPlayed": "31"
                                },
                                {
                                    "Name": "Brett Gardner",
                                    "TotalGamesPlayed": "141"
                                },
                                {
                                    "Name": "Kyle Garlick",
                                    "TotalGamesPlayed": "30"
                                },
                                {
                                    "Name": "Dustin Garneau",
                                    "TotalGamesPlayed": "35"
                                },
                                {
                                    "Name": "Mitch Garver",
                                    "TotalGamesPlayed": "93"
                                },
                                {
                                    "Name": "Kevin Gausman",
                                    "TotalGamesPlayed": "16"
                                },
                                {
                                    "Name": "Scooter Gennett",
                                    "TotalGamesPlayed": "42"
                                },
                                {
                                    "Name": "Mike Gerber",
                                    "TotalGamesPlayed": "12"
                                },
                                {
                                    "Name": "Lucas Giolito",
                                    "TotalGamesPlayed": "2"
                                },
                                {
                                    "Name": "Zack Godley",
                                    "TotalGamesPlayed": "23"
                                },
                                {
                                    "Name": "Ryan Goins",
                                    "TotalGamesPlayed": "52"
                                },
                                {
                                    "Name": "Paul Goldschmidt",
                                    "TotalGamesPlayed": "161"
                                },
                                {
                                    "Name": "Yan Gomes",
                                    "TotalGamesPlayed": "97"
                                },
                                {
                                    "Name": "Carlos Gomez",
                                    "TotalGamesPlayed": "34"
                                },
                                {
                                    "Name": "Tony Gonsolin",
                                    "TotalGamesPlayed": "10"
                                },
                                {
                                    "Name": "Marco Gonzales",
                                    "TotalGamesPlayed": "2"
                                },
                                {
                                    "Name": "Carlos Gonzalez",
                                    "TotalGamesPlayed": "45"
                                },
                                {
                                    "Name": "Chi Chi Gonzalez",
                                    "TotalGamesPlayed": "13"
                                },
                                {
                                    "Name": "Erik Gonzalez",
                                    "TotalGamesPlayed": "53"
                                },
                                {
                                    "Name": "Gio Gonzalez",
                                    "TotalGamesPlayed": "18"
                                },
                                {
                                    "Name": "Marwin Gonzalez",
                                    "TotalGamesPlayed": "114"
                                },
                                {
                                    "Name": "Niko Goodrum",
                                    "TotalGamesPlayed": "112"
                                },
                                {
                                    "Name": "Brian Goodwin",
                                    "TotalGamesPlayed": "136"
                                },
                                {
                                    "Name": "Alex Gordon",
                                    "TotalGamesPlayed": "150"
                                },
                                {
                                    "Name": "Dee Gordon",
                                    "TotalGamesPlayed": "117"
                                },
                                {
                                    "Name": "Terrance Gore",
                                    "TotalGamesPlayed": "37"
                                },
                                {
                                    "Name": "Phil Gosselin",
                                    "TotalGamesPlayed": "44"
                                },
                                {
                                    "Name": "Yasmani Grandal",
                                    "TotalGamesPlayed": "153"
                                },
                                {
                                    "Name": "Curtis Granderson",
                                    "TotalGamesPlayed": "138"
                                },
                                {
                                    "Name": "Juan Graterol",
                                    "TotalGamesPlayed": "6"
                                },
                                {
                                    "Name": "Jon Gray",
                                    "TotalGamesPlayed": "27"
                                },
                                {
                                    "Name": "Sonny Gray",
                                    "TotalGamesPlayed": "32"
                                },
                                {
                                    "Name": "Zach Green",
                                    "TotalGamesPlayed": "8"
                                },
                                {
                                    "Name": "Didi Gregorius",
                                    "TotalGamesPlayed": "82"
                                },
                                {
                                    "Name": "Grayson Greiner",
                                    "TotalGamesPlayed": "58"
                                },
                                {
                                    "Name": "Zack Greinke",
                                    "TotalGamesPlayed": "25"
                                },
                                {
                                    "Name": "Randal Grichuk",
                                    "TotalGamesPlayed": "151"
                                },
                                {
                                    "Name": "Trent Grisham",
                                    "TotalGamesPlayed": "51"
                                },
                                {
                                    "Name": "Robbie Grossman",
                                    "TotalGamesPlayed": "138"
                                },
                                {
                                    "Name": "Deivy Grullon",
                                    "TotalGamesPlayed": "4"
                                },
                                {
                                    "Name": "Junior Guerra",
                                    "TotalGamesPlayed": "65"
                                },
                                {
                                    "Name": "Vladimir Guerrero Jr.",
                                    "TotalGamesPlayed": "123"
                                },
                                {
                                    "Name": "Luis Guillorme",
                                    "TotalGamesPlayed": "45"
                                },
                                {
                                    "Name": "Lourdes Gurriel Jr.",
                                    "TotalGamesPlayed": "84"
                                },
                                {
                                    "Name": "Yuli Gurriel",
                                    "TotalGamesPlayed": "144"
                                },
                                {
                                    "Name": "Kelvin Gutierrez",
                                    "TotalGamesPlayed": "20"
                                },
                                {
                                    "Name": "Ronald Guzman",
                                    "TotalGamesPlayed": "87"
                                },
                                {
                                    "Name": "Jedd Gyorko",
                                    "TotalGamesPlayed": "62"
                                },
                                {
                                    "Name": "Eric Haase",
                                    "TotalGamesPlayed": "10"
                                },
                                {
                                    "Name": "Cole Hamels",
                                    "TotalGamesPlayed": "24"
                                },
                                {
                                    "Name": "Billy Hamilton",
                                    "TotalGamesPlayed": "119"
                                },
                                {
                                    "Name": "Garrett Hampson",
                                    "TotalGamesPlayed": "105"
                                },
                                {
                                    "Name": "Mitch Haniger",
                                    "TotalGamesPlayed": "63"
                                },
                                {
                                    "Name": "Alen Hanson",
                                    "TotalGamesPlayed": "18"
                                },
                                {
                                    "Name": "Ian Happ",
                                    "TotalGamesPlayed": "58"
                                },
                                {
                                    "Name": "Bryce Harper",
                                    "TotalGamesPlayed": "157"
                                },
                                {
                                    "Name": "Josh Harrison",
                                    "TotalGamesPlayed": "36"
                                },
                                {
                                    "Name": "Adam Haseley",
                                    "TotalGamesPlayed": "67"
                                },
                                {
                                    "Name": "Austin Hays",
                                    "TotalGamesPlayed": "21"
                                },
                                {
                                    "Name": "Ryon Healy",
                                    "TotalGamesPlayed": "47"
                                },
                                {
                                    "Name": "Adeiny Hechavarria",
                                    "TotalGamesPlayed": "84"
                                },
                                {
                                    "Name": "Austin Hedges",
                                    "TotalGamesPlayed": "102"
                                },
                                {
                                    "Name": "Scott Heineman",
                                    "TotalGamesPlayed": "25"
                                },
                                {
                                    "Name": "Tyler Heineman",
                                    "TotalGamesPlayed": "5"
                                },
                                {
                                    "Name": "Jeremy Hellickson",
                                    "TotalGamesPlayed": "9"
                                },
                                {
                                    "Name": "Ryan Helsley",
                                    "TotalGamesPlayed": "24"
                                },
                                {
                                    "Name": "Kyle Hendricks",
                                    "TotalGamesPlayed": "29"
                                },
                                {
                                    "Name": "Guillermo Heredia",
                                    "TotalGamesPlayed": "89"
                                },
                                {
                                    "Name": "Michael Hermosillo",
                                    "TotalGamesPlayed": "18"
                                },
                                {
                                    "Name": "Cesar Hernandez",
                                    "TotalGamesPlayed": "161"
                                },
                                {
                                    "Name": "Elieser Hernandez",
                                    "TotalGamesPlayed": "20"
                                },
                                {
                                    "Name": "Enrique Hernandez",
                                    "TotalGamesPlayed": "130"
                                },
                                {
                                    "Name": "Gorkys Hernandez",
                                    "TotalGamesPlayed": "20"
                                },
                                {
                                    "Name": "Marco Hernandez",
                                    "TotalGamesPlayed": "61"
                                },
                                {
                                    "Name": "Teoscar Hernandez",
                                    "TotalGamesPlayed": "125"
                                },
                                {
                                    "Name": "Odubel Herrera",
                                    "TotalGamesPlayed": "39"
                                },
                                {
                                    "Name": "Rosell Herrera",
                                    "TotalGamesPlayed": "63"
                                },
                                {
                                    "Name": "Chris Herrmann",
                                    "TotalGamesPlayed": "30"
                                },
                                {
                                    "Name": "Jason Heyward",
                                    "TotalGamesPlayed": "147"
                                },
                                {
                                    "Name": "Aaron Hicks",
                                    "TotalGamesPlayed": "59"
                                },
                                {
                                    "Name": "John Hicks",
                                    "TotalGamesPlayed": "95"
                                },
                                {
                                    "Name": "Kyle Higashioka",
                                    "TotalGamesPlayed": "18"
                                },
                                {
                                    "Name": "Rich Hill",
                                    "TotalGamesPlayed": "11"
                                },
                                {
                                    "Name": "Sam Hilliard",
                                    "TotalGamesPlayed": "27"
                                },
                                {
                                    "Name": "Keston Hiura",
                                    "TotalGamesPlayed": "84"
                                },
                                {
                                    "Name": "Nico Hoerner",
                                    "TotalGamesPlayed": "20"
                                },
                                {
                                    "Name": "Jeff Hoffman",
                                    "TotalGamesPlayed": "18"
                                },
                                {
                                    "Name": "Bryan Holaday",
                                    "TotalGamesPlayed": "43"
                                },
                                {
                                    "Name": "Derek Holland",
                                    "TotalGamesPlayed": "32"
                                },
                                {
                                    "Name": "Brock Holt",
                                    "TotalGamesPlayed": "87"
                                },
                                {
                                    "Name": "Rhys Hoskins",
                                    "TotalGamesPlayed": "160"
                                },
                                {
                                    "Name": "Eric Hosmer",
                                    "TotalGamesPlayed": "160"
                                },
                                {
                                    "Name": "Adrian Houser",
                                    "TotalGamesPlayed": "32"
                                },
                                {
                                    "Name": "Dakota Hudson",
                                    "TotalGamesPlayed": "30"
                                },
                                {
                                    "Name": "Nick Hundley",
                                    "TotalGamesPlayed": "31"
                                },
                                {
                                    "Name": "Chris Iannetta",
                                    "TotalGamesPlayed": "52"
                                },
                                {
                                    "Name": "José Iglesias",
                                    "TotalGamesPlayed": "146"
                                },
                                {
                                    "Name": "Ender Inciarte",
                                    "TotalGamesPlayed": "65"
                                },
                                {
                                    "Name": "Cole Irvin",
                                    "TotalGamesPlayed": "14"
                                },
                                {
                                    "Name": "Travis Jankowski",
                                    "TotalGamesPlayed": "25"
                                },
                                {
                                    "Name": "Danny Jansen",
                                    "TotalGamesPlayed": "107"
                                },
                                {
                                    "Name": "Jon Jay",
                                    "TotalGamesPlayed": "47"
                                },
                                {
                                    "Name": "Eloy Jimenez",
                                    "TotalGamesPlayed": "122"
                                },
                                {
                                    "Name": "Connor Joe",
                                    "TotalGamesPlayed": "8"
                                },
                                {
                                    "Name": "Adam Jones",
                                    "TotalGamesPlayed": "137"
                                },
                                {
                                    "Name": "JaCoby Jones",
                                    "TotalGamesPlayed": "88"
                                },
                                {
                                    "Name": "Caleb Joseph",
                                    "TotalGamesPlayed": "20"
                                },
                                {
                                    "Name": "Corban Joseph",
                                    "TotalGamesPlayed": "28"
                                },
                                {
                                    "Name": "Matthew Joyce",
                                    "TotalGamesPlayed": "129"
                                },
                                {
                                    "Name": "Aaron Judge",
                                    "TotalGamesPlayed": "102"
                                },
                                {
                                    "Name": "Jung Ho Kang",
                                    "TotalGamesPlayed": "65"
                                },
                                {
                                    "Name": "Brad Keller",
                                    "TotalGamesPlayed": "3"
                                },
                                {
                                    "Name": "Carson Kelly",
                                    "TotalGamesPlayed": "111"
                                },
                                {
                                    "Name": "Merrill Kelly",
                                    "TotalGamesPlayed": "30"
                                },
                                {
                                    "Name": "Matt Kemp",
                                    "TotalGamesPlayed": "20"
                                },
                                {
                                    "Name": "Tony Kemp",
                                    "TotalGamesPlayed": "110"
                                },
                                {
                                    "Name": "Howie Kendrick",
                                    "TotalGamesPlayed": "121"
                                },
                                {
                                    "Name": "Max Kepler",
                                    "TotalGamesPlayed": "134"
                                },
                                {
                                    "Name": "Clayton Kershaw",
                                    "TotalGamesPlayed": "28"
                                },
                                {
                                    "Name": "Dallas Keuchel",
                                    "TotalGamesPlayed": "19"
                                },
                                {
                                    "Name": "Carter Kieboom",
                                    "TotalGamesPlayed": "11"
                                },
                                {
                                    "Name": "Kevin Kiermaier",
                                    "TotalGamesPlayed": "129"
                                },
                                {
                                    "Name": "Isiah Kiner-Falefa",
                                    "TotalGamesPlayed": "65"
                                },
                                {
                                    "Name": "Scott Kingery",
                                    "TotalGamesPlayed": "126"
                                },
                                {
                                    "Name": "Ian Kinsler",
                                    "TotalGamesPlayed": "87"
                                },
                                {
                                    "Name": "Jason Kipnis",
                                    "TotalGamesPlayed": "121"
                                },
                                {
                                    "Name": "Andrew Knapp",
                                    "TotalGamesPlayed": "74"
                                },
                                {
                                    "Name": "Andrew Knizner",
                                    "TotalGamesPlayed": "18"
                                },
                                {
                                    "Name": "Kevin Kramer",
                                    "TotalGamesPlayed": "22"
                                },
                                {
                                    "Name": "Erik Kratz",
                                    "TotalGamesPlayed": "21"
                                },
                                {
                                    "Name": "Tommy La Stella",
                                    "TotalGamesPlayed": "80"
                                },
                                {
                                    "Name": "Juan Lagares",
                                    "TotalGamesPlayed": "133"
                                },
                                {
                                    "Name": "Ryan LaMarre",
                                    "TotalGamesPlayed": "14"
                                },
                                {
                                    "Name": "Jake Lamb",
                                    "TotalGamesPlayed": "78"
                                },
                                {
                                    "Name": "Peter Lambert",
                                    "TotalGamesPlayed": "21"
                                },
                                {
                                    "Name": "Dinelson Lamet",
                                    "TotalGamesPlayed": "13"
                                },
                                {
                                    "Name": "Eric Lauer",
                                    "TotalGamesPlayed": "29"
                                },
                                {
                                    "Name": "Ramon Laureano",
                                    "TotalGamesPlayed": "123"
                                },
                                {
                                    "Name": "Ryan Lavarnway",
                                    "TotalGamesPlayed": "5"
                                },
                                {
                                    "Name": "Mike Leake",
                                    "TotalGamesPlayed": "10"
                                },
                                {
                                    "Name": "DJ LeMahieu",
                                    "TotalGamesPlayed": "145"
                                },
                                {
                                    "Name": "Sandy Leon",
                                    "TotalGamesPlayed": "65"
                                },
                                {
                                    "Name": "Jon Lester",
                                    "TotalGamesPlayed": "28"
                                },
                                {
                                    "Name": "Kyle Lewis",
                                    "TotalGamesPlayed": "18"
                                },
                                {
                                    "Name": "Domingo Leyba",
                                    "TotalGamesPlayed": "21"
                                },
                                {
                                    "Name": "Tzu-Wei Lin",
                                    "TotalGamesPlayed": "13"
                                },
                                {
                                    "Name": "Francisco Lindor",
                                    "TotalGamesPlayed": "143"
                                },
                                {
                                    "Name": "Francisco Liriano",
                                    "TotalGamesPlayed": "67"
                                },
                                {
                                    "Name": "Tim Locastro",
                                    "TotalGamesPlayed": "91"
                                },
                                {
                                    "Name": "Walker Lockett",
                                    "TotalGamesPlayed": "9"
                                },
                                {
                                    "Name": "Shed Long",
                                    "TotalGamesPlayed": "42"
                                },
                                {
                                    "Name": "Evan Longoria",
                                    "TotalGamesPlayed": "129"
                                },
                                {
                                    "Name": "Tim Lopes",
                                    "TotalGamesPlayed": "41"
                                },
                                {
                                    "Name": "Nicky Lopez",
                                    "TotalGamesPlayed": "103"
                                },
                                {
                                    "Name": "Pablo Lopez",
                                    "TotalGamesPlayed": "21"
                                },
                                {
                                    "Name": "Michael Lorenzen",
                                    "TotalGamesPlayed": "100"
                                },
                                {
                                    "Name": "Brandon Lowe",
                                    "TotalGamesPlayed": "82"
                                },
                                {
                                    "Name": "Nate Lowe",
                                    "TotalGamesPlayed": "50"
                                },
                                {
                                    "Name": "Joey Lucchesi",
                                    "TotalGamesPlayed": "28"
                                },
                                {
                                    "Name": "Jonathan Lucroy",
                                    "TotalGamesPlayed": "101"
                                },
                                {
                                    "Name": "Dawel Lugo",
                                    "TotalGamesPlayed": "77"
                                },
                                {
                                    "Name": "Seth Lugo",
                                    "TotalGamesPlayed": "57"
                                },
                                {
                                    "Name": "Jordan Luplow",
                                    "TotalGamesPlayed": "85"
                                },
                                {
                                    "Name": "Gavin Lux",
                                    "TotalGamesPlayed": "23"
                                },
                                {
                                    "Name": "Jordan Lyles",
                                    "TotalGamesPlayed": "26"
                                },
                                {
                                    "Name": "Manny Machado",
                                    "TotalGamesPlayed": "156"
                                },
                                {
                                    "Name": "Kenta Maeda",
                                    "TotalGamesPlayed": "38"
                                },
                                {
                                    "Name": "Tyler Mahle",
                                    "TotalGamesPlayed": "24"
                                },
                                {
                                    "Name": "Luke Maile",
                                    "TotalGamesPlayed": "44"
                                },
                                {
                                    "Name": "Martin Maldonado",
                                    "TotalGamesPlayed": "101"
                                },
                                {
                                    "Name": "Trey Mancini",
                                    "TotalGamesPlayed": "154"
                                },
                                {
                                    "Name": "Nick Margevicius",
                                    "TotalGamesPlayed": "17"
                                },
                                {
                                    "Name": "Manuel Margot",
                                    "TotalGamesPlayed": "151"
                                },
                                {
                                    "Name": "Jake Marisnick",
                                    "TotalGamesPlayed": "120"
                                },
                                {
                                    "Name": "Nick Markakis",
                                    "TotalGamesPlayed": "116"
                                },
                                {
                                    "Name": "German Marquez",
                                    "TotalGamesPlayed": "25"
                                },
                                {
                                    "Name": "Ketel Marte",
                                    "TotalGamesPlayed": "144"
                                },
                                {
                                    "Name": "Starling Marte",
                                    "TotalGamesPlayed": "132"
                                },
                                {
                                    "Name": "Jason Martin",
                                    "TotalGamesPlayed": "20"
                                },
                                {
                                    "Name": "Leonys Martín",
                                    "TotalGamesPlayed": "65"
                                },
                                {
                                    "Name": "Richie Martin",
                                    "TotalGamesPlayed": "120"
                                },
                                {
                                    "Name": "Russell Martin",
                                    "TotalGamesPlayed": "83"
                                },
                                {
                                    "Name": "J.D. Martinez",
                                    "TotalGamesPlayed": "146"
                                },
                                {
                                    "Name": "Jose Martinez",
                                    "TotalGamesPlayed": "128"
                                },
                                {
                                    "Name": "Nick Martini",
                                    "TotalGamesPlayed": "32"
                                },
                                {
                                    "Name": "Jeff Mathis",
                                    "TotalGamesPlayed": "86"
                                },
                                {
                                    "Name": "Phil Maton",
                                    "TotalGamesPlayed": "18"
                                },
                                {
                                    "Name": "Steven Matz",
                                    "TotalGamesPlayed": "35"
                                },
                                {
                                    "Name": "Dustin May",
                                    "TotalGamesPlayed": "13"
                                },
                                {
                                    "Name": "Cameron Maybin",
                                    "TotalGamesPlayed": "82"
                                },
                                {
                                    "Name": "Jack Mayfield",
                                    "TotalGamesPlayed": "26"
                                },
                                {
                                    "Name": "Nomar Mazara",
                                    "TotalGamesPlayed": "116"
                                },
                                {
                                    "Name": "Ryan McBroom",
                                    "TotalGamesPlayed": "23"
                                },
                                {
                                    "Name": "Brian McCann",
                                    "TotalGamesPlayed": "85"
                                },
                                {
                                    "Name": "James McCann",
                                    "TotalGamesPlayed": "118"
                                },
                                {
                                    "Name": "Andrew McCutchen",
                                    "TotalGamesPlayed": "59"
                                },
                                {
                                    "Name": "Kyle McGowin",
                                    "TotalGamesPlayed": "7"
                                },
                                {
                                    "Name": "Reese McGuire",
                                    "TotalGamesPlayed": "30"
                                },
                                {
                                    "Name": "Brendan McKay",
                                    "TotalGamesPlayed": "7"
                                },
                                {
                                    "Name": "Billy McKinney",
                                    "TotalGamesPlayed": "84"
                                },
                                {
                                    "Name": "Ryan McMahon",
                                    "TotalGamesPlayed": "141"
                                },
                                {
                                    "Name": "Jeff McNeil",
                                    "TotalGamesPlayed": "133"
                                },
                                {
                                    "Name": "Alex McRae",
                                    "TotalGamesPlayed": "11"
                                },
                                {
                                    "Name": "Austin Meadows",
                                    "TotalGamesPlayed": "138"
                                },
                                {
                                    "Name": "John Means",
                                    "TotalGamesPlayed": "2"
                                },
                                {
                                    "Name": "Erick Mejia",
                                    "TotalGamesPlayed": "9"
                                },
                                {
                                    "Name": "Francisco Mejia",
                                    "TotalGamesPlayed": "79"
                                },
                                {
                                    "Name": "Seth Mejias-Brean",
                                    "TotalGamesPlayed": "14"
                                },
                                {
                                    "Name": "Tim Melville",
                                    "TotalGamesPlayed": "7"
                                },
                                {
                                    "Name": "Danny Mendick",
                                    "TotalGamesPlayed": "16"
                                },
                                {
                                    "Name": "Oscar Mercado",
                                    "TotalGamesPlayed": "115"
                                },
                                {
                                    "Name": "Jordy Mercer",
                                    "TotalGamesPlayed": "74"
                                },
                                {
                                    "Name": "Whit Merrifield",
                                    "TotalGamesPlayed": "162"
                                },
                                {
                                    "Name": "Miles Mikolas",
                                    "TotalGamesPlayed": "31"
                                },
                                {
                                    "Name": "Brad Miller",
                                    "TotalGamesPlayed": "79"
                                },
                                {
                                    "Name": "Ian Miller",
                                    "TotalGamesPlayed": "12"
                                },
                                {
                                    "Name": "Alec Mills",
                                    "TotalGamesPlayed": "9"
                                },
                                {
                                    "Name": "Yadier Molina",
                                    "TotalGamesPlayed": "113"
                                },
                                {
                                    "Name": "Yoan Moncada",
                                    "TotalGamesPlayed": "132"
                                },
                                {
                                    "Name": "Adalberto Mondesi",
                                    "TotalGamesPlayed": "102"
                                },
                                {
                                    "Name": "Mike Montgomery",
                                    "TotalGamesPlayed": "18"
                                },
                                {
                                    "Name": "Dylan Moore",
                                    "TotalGamesPlayed": "113"
                                },
                                {
                                    "Name": "Kendrys Morales",
                                    "TotalGamesPlayed": "53"
                                },
                                {
                                    "Name": "Colin Moran",
                                    "TotalGamesPlayed": "149"
                                },
                                {
                                    "Name": "Mitch Moreland",
                                    "TotalGamesPlayed": "91"
                                },
                                {
                                    "Name": "Max Moroff",
                                    "TotalGamesPlayed": "20"
                                },
                                {
                                    "Name": "Logan Morrison",
                                    "TotalGamesPlayed": "29"
                                },
                                {
                                    "Name": "Mike Moustakas",
                                    "TotalGamesPlayed": "143"
                                },
                                {
                                    "Name": "Cedric Mullins",
                                    "TotalGamesPlayed": "22"
                                },
                                {
                                    "Name": "Max Muncy",
                                    "TotalGamesPlayed": "141"
                                },
                                {
                                    "Name": "Yairo Munoz",
                                    "TotalGamesPlayed": "88"
                                },
                                {
                                    "Name": "Daniel Murphy",
                                    "TotalGamesPlayed": "132"
                                },
                                {
                                    "Name": "John Ryan Murphy",
                                    "TotalGamesPlayed": "25"
                                },
                                {
                                    "Name": "Sean Murphy",
                                    "TotalGamesPlayed": "20"
                                },
                                {
                                    "Name": "Tom Murphy",
                                    "TotalGamesPlayed": "75"
                                },
                                {
                                    "Name": "Joe Musgrove",
                                    "TotalGamesPlayed": "44"
                                },
                                {
                                    "Name": "Wil Myers",
                                    "TotalGamesPlayed": "155"
                                },
                                {
                                    "Name": "Tyler Naquin",
                                    "TotalGamesPlayed": "89"
                                },
                                {
                                    "Name": "Omar Narvaez",
                                    "TotalGamesPlayed": "132"
                                },
                                {
                                    "Name": "Josh Naylor",
                                    "TotalGamesPlayed": "94"
                                },
                                {
                                    "Name": "Kristopher Negron",
                                    "TotalGamesPlayed": "40"
                                },
                                {
                                    "Name": "Sheldon Neuse",
                                    "TotalGamesPlayed": "25"
                                },
                                {
                                    "Name": "Kevin Newman",
                                    "TotalGamesPlayed": "130"
                                },
                                {
                                    "Name": "Tomas Nido",
                                    "TotalGamesPlayed": "50"
                                },
                                {
                                    "Name": "Brandon Nimmo",
                                    "TotalGamesPlayed": "69"
                                },
                                {
                                    "Name": "Hector Noesi",
                                    "TotalGamesPlayed": "12"
                                },
                                {
                                    "Name": "Aaron Nola",
                                    "TotalGamesPlayed": "32"
                                },
                                {
                                    "Name": "Austin Nola",
                                    "TotalGamesPlayed": "79"
                                },
                                {
                                    "Name": "Jake Noll",
                                    "TotalGamesPlayed": "8"
                                },
                                {
                                    "Name": "Daniel Norris",
                                    "TotalGamesPlayed": "4"
                                },
                                {
                                    "Name": "Jacob Nottingham",
                                    "TotalGamesPlayed": "9"
                                },
                                {
                                    "Name": "Dom Nunez",
                                    "TotalGamesPlayed": "16"
                                },
                                {
                                    "Name": "Eduardo Nunez",
                                    "TotalGamesPlayed": "60"
                                },
                                {
                                    "Name": "Renato Nunez",
                                    "TotalGamesPlayed": "151"
                                },
                                {
                                    "Name": "Peter O'Brien",
                                    "TotalGamesPlayed": "14"
                                },
                                {
                                    "Name": "Brian O'Grady",
                                    "TotalGamesPlayed": "28"
                                },
                                {
                                    "Name": "Ryan O'Hearn",
                                    "TotalGamesPlayed": "105"
                                },
                                {
                                    "Name": "Tyler O'Neill",
                                    "TotalGamesPlayed": "60"
                                },
                                {
                                    "Name": "Rougned Odor",
                                    "TotalGamesPlayed": "145"
                                },
                                {
                                    "Name": "Shohei Ohtani",
                                    "TotalGamesPlayed": "106"
                                },
                                {
                                    "Name": "Matt Olson",
                                    "TotalGamesPlayed": "127"
                                },
                                {
                                    "Name": "Rafael Ortega",
                                    "TotalGamesPlayed": "34"
                                },
                                {
                                    "Name": "Jose Osuna",
                                    "TotalGamesPlayed": "95"
                                },
                                {
                                    "Name": "Chris Owings",
                                    "TotalGamesPlayed": "66"
                                },
                                {
                                    "Name": "Marcell Ozuna",
                                    "TotalGamesPlayed": "130"
                                },
                                {
                                    "Name": "Chris Paddack",
                                    "TotalGamesPlayed": "25"
                                },
                                {
                                    "Name": "Daniel Palka",
                                    "TotalGamesPlayed": "30"
                                },
                                {
                                    "Name": "Joe Panik",
                                    "TotalGamesPlayed": "142"
                                },
                                {
                                    "Name": "Gerardo Parra",
                                    "TotalGamesPlayed": "119"
                                },
                                {
                                    "Name": "Steve Pearce",
                                    "TotalGamesPlayed": "29"
                                },
                                {
                                    "Name": "Joc Pederson",
                                    "TotalGamesPlayed": "149"
                                },
                                {
                                    "Name": "Dustin Pedroia",
                                    "TotalGamesPlayed": "6"
                                },
                                {
                                    "Name": "Hunter Pence",
                                    "TotalGamesPlayed": "83"
                                },
                                {
                                    "Name": "David Peralta",
                                    "TotalGamesPlayed": "99"
                                },
                                {
                                    "Name": "Freddy Peralta",
                                    "TotalGamesPlayed": "37"
                                },
                                {
                                    "Name": "Jose Peraza",
                                    "TotalGamesPlayed": "141"
                                },
                                {
                                    "Name": "Luis Perdomo",
                                    "TotalGamesPlayed": "44"
                                },
                                {
                                    "Name": "Hernan Perez",
                                    "TotalGamesPlayed": "91"
                                },
                                {
                                    "Name": "Michael Perez",
                                    "TotalGamesPlayed": "22"
                                },
                                {
                                    "Name": "Roberto Perez",
                                    "TotalGamesPlayed": "119"
                                },
                                {
                                    "Name": "Dustin Peterson",
                                    "TotalGamesPlayed": "17"
                                },
                                {
                                    "Name": "Jace Peterson",
                                    "TotalGamesPlayed": "29"
                                },
                                {
                                    "Name": "Tommy Pham",
                                    "TotalGamesPlayed": "145"
                                },
                                {
                                    "Name": "Josh Phegley",
                                    "TotalGamesPlayed": "106"
                                },
                                {
                                    "Name": "Brett Phillips",
                                    "TotalGamesPlayed": "30"
                                },
                                {
                                    "Name": "Kevin Pillar",
                                    "TotalGamesPlayed": "161"
                                },
                                {
                                    "Name": "Manny Pina",
                                    "TotalGamesPlayed": "76"
                                },
                                {
                                    "Name": "Chad Pinder",
                                    "TotalGamesPlayed": "124"
                                },
                                {
                                    "Name": "Jose Pirela",
                                    "TotalGamesPlayed": "12"
                                },
                                {
                                    "Name": "Stephen Piscotty",
                                    "TotalGamesPlayed": "93"
                                },
                                {
                                    "Name": "Nick Pivetta",
                                    "TotalGamesPlayed": "29"
                                },
                                {
                                    "Name": "Kevin Plawecki",
                                    "TotalGamesPlayed": "59"
                                },
                                {
                                    "Name": "Gregory Polanco",
                                    "TotalGamesPlayed": "42"
                                },
                                {
                                    "Name": "Jorge Polanco",
                                    "TotalGamesPlayed": "153"
                                },
                                {
                                    "Name": "A.J. Pollock",
                                    "TotalGamesPlayed": "86"
                                },
                                {
                                    "Name": "Buster Posey",
                                    "TotalGamesPlayed": "114"
                                },
                                {
                                    "Name": "Martin Prado",
                                    "TotalGamesPlayed": "104"
                                },
                                {
                                    "Name": "David Price",
                                    "TotalGamesPlayed": "1"
                                },
                                {
                                    "Name": "Jurickson Profar",
                                    "TotalGamesPlayed": "139"
                                },
                                {
                                    "Name": "Cesar Puello",
                                    "TotalGamesPlayed": "44"
                                },
                                {
                                    "Name": "Yasiel Puig",
                                    "TotalGamesPlayed": "149"
                                },
                                {
                                    "Name": "Albert Pujols",
                                    "TotalGamesPlayed": "131"
                                },
                                {
                                    "Name": "Cal Quantrill",
                                    "TotalGamesPlayed": "21"
                                },
                                {
                                    "Name": "Roman Quinn",
                                    "TotalGamesPlayed": "44"
                                },
                                {
                                    "Name": "Jose Quintana",
                                    "TotalGamesPlayed": "31"
                                },
                                {
                                    "Name": "Hanley Ramirez",
                                    "TotalGamesPlayed": "16"
                                },
                                {
                                    "Name": "Harold Ramirez",
                                    "TotalGamesPlayed": "119"
                                },
                                {
                                    "Name": "Jose Ramirez",
                                    "TotalGamesPlayed": "129"
                                },
                                {
                                    "Name": "Wilson Ramos",
                                    "TotalGamesPlayed": "141"
                                },
                                {
                                    "Name": "Rangel Ravelo",
                                    "TotalGamesPlayed": "29"
                                },
                                {
                                    "Name": "Robbie Ray",
                                    "TotalGamesPlayed": "31"
                                },
                                {
                                    "Name": "Raudy Read",
                                    "TotalGamesPlayed": "6"
                                },
                                {
                                    "Name": "J.T. Realmuto",
                                    "TotalGamesPlayed": "145"
                                },
                                {
                                    "Name": "Josh Reddick",
                                    "TotalGamesPlayed": "141"
                                },
                                {
                                    "Name": "AJ Reed",
                                    "TotalGamesPlayed": "14"
                                },
                                {
                                    "Name": "Anthony Rendon",
                                    "TotalGamesPlayed": "146"
                                },
                                {
                                    "Name": "Hunter Renfroe",
                                    "TotalGamesPlayed": "140"
                                },
                                {
                                    "Name": "Luis Rengifo",
                                    "TotalGamesPlayed": "108"
                                },
                                {
                                    "Name": "Franmil Reyes",
                                    "TotalGamesPlayed": "150"
                                },
                                {
                                    "Name": "Pablo Reyes",
                                    "TotalGamesPlayed": "71"
                                },
                                {
                                    "Name": "Victor Reyes",
                                    "TotalGamesPlayed": "69"
                                },
                                {
                                    "Name": "Bryan Reynolds",
                                    "TotalGamesPlayed": "134"
                                },
                                {
                                    "Name": "Mark Reynolds",
                                    "TotalGamesPlayed": "78"
                                },
                                {
                                    "Name": "Trevor Richards",
                                    "TotalGamesPlayed": "22"
                                },
                                {
                                    "Name": "Joey Rickard",
                                    "TotalGamesPlayed": "68"
                                },
                                {
                                    "Name": "JT Riddle",
                                    "TotalGamesPlayed": "51"
                                },
                                {
                                    "Name": "Austin Riley",
                                    "TotalGamesPlayed": "80"
                                },
                                {
                                    "Name": "Edwin Rios",
                                    "TotalGamesPlayed": "28"
                                },
                                {
                                    "Name": "Rene Rivera",
                                    "TotalGamesPlayed": "9"
                                },
                                {
                                    "Name": "Yadiel Rivera",
                                    "TotalGamesPlayed": "34"
                                },
                                {
                                    "Name": "Anthony Rizzo",
                                    "TotalGamesPlayed": "146"
                                },
                                {
                                    "Name": "Tanner Roark",
                                    "TotalGamesPlayed": "19"
                                },
                                {
                                    "Name": "Daniel Robertson",
                                    "TotalGamesPlayed": "74"
                                },
                                {
                                    "Name": "Drew Robinson",
                                    "TotalGamesPlayed": "5"
                                },
                                {
                                    "Name": "Victor Robles",
                                    "TotalGamesPlayed": "155"
                                },
                                {
                                    "Name": "Brendan Rodgers",
                                    "TotalGamesPlayed": "25"
                                },
                                {
                                    "Name": "Dereck Rodriguez",
                                    "TotalGamesPlayed": "27"
                                },
                                {
                                    "Name": "Ronny Rodriguez",
                                    "TotalGamesPlayed": "84"
                                },
                                {
                                    "Name": "Sean Rodriguez",
                                    "TotalGamesPlayed": "76"
                                },
                                {
                                    "Name": "Jake Rogers",
                                    "TotalGamesPlayed": "35"
                                },
                                {
                                    "Name": "Josh Rojas",
                                    "TotalGamesPlayed": "41"
                                },
                                {
                                    "Name": "Miguel Rojas",
                                    "TotalGamesPlayed": "132"
                                },
                                {
                                    "Name": "Austin Romine",
                                    "TotalGamesPlayed": "72"
                                },
                                {
                                    "Name": "Jose Rondon",
                                    "TotalGamesPlayed": "55"
                                },
                                {
                                    "Name": "Amed Rosario",
                                    "TotalGamesPlayed": "157"
                                },
                                {
                                    "Name": "Eddie Rosario",
                                    "TotalGamesPlayed": "137"
                                },
                                {
                                    "Name": "Joe Ross",
                                    "TotalGamesPlayed": "28"
                                },
                                {
                                    "Name": "Rio Ruiz",
                                    "TotalGamesPlayed": "127"
                                },
                                {
                                    "Name": "Addison Russell",
                                    "TotalGamesPlayed": "82"
                                },
                                {
                                    "Name": "Hyun-Jin Ryu",
                                    "TotalGamesPlayed": "28"
                                },
                                {
                                    "Name": "Tyler Saladino",
                                    "TotalGamesPlayed": "28"
                                },
                                {
                                    "Name": "Jeff Samardzija",
                                    "TotalGamesPlayed": "29"
                                },
                                {
                                    "Name": "Adrian Sanchez",
                                    "TotalGamesPlayed": "28"
                                },
                                {
                                    "Name": "Anibal Sanchez",
                                    "TotalGamesPlayed": "27"
                                },
                                {
                                    "Name": "Gary Sanchez",
                                    "TotalGamesPlayed": "106"
                                },
                                {
                                    "Name": "Yolmer Sanchez",
                                    "TotalGamesPlayed": "149"
                                },
                                {
                                    "Name": "Pablo Sandoval",
                                    "TotalGamesPlayed": "108"
                                },
                                {
                                    "Name": "Miguel Sano",
                                    "TotalGamesPlayed": "105"
                                },
                                {
                                    "Name": "Carlos Santana",
                                    "TotalGamesPlayed": "158"
                                },
                                {
                                    "Name": "Danny Santana",
                                    "TotalGamesPlayed": "130"
                                },
                                {
                                    "Name": "Dennis Santana",
                                    "TotalGamesPlayed": "3"
                                },
                                {
                                    "Name": "Domingo Santana",
                                    "TotalGamesPlayed": "121"
                                },
                                {
                                    "Name": "Anthony Santander",
                                    "TotalGamesPlayed": "93"
                                },
                                {
                                    "Name": "Scott Schebler",
                                    "TotalGamesPlayed": "30"
                                },
                                {
                                    "Name": "Max Scherzer",
                                    "TotalGamesPlayed": "28"
                                },
                                {
                                    "Name": "Jonathan Schoop",
                                    "TotalGamesPlayed": "121"
                                },
                                {
                                    "Name": "Kyle Schwarber",
                                    "TotalGamesPlayed": "155"
                                },
                                {
                                    "Name": "Frank Schwindel",
                                    "TotalGamesPlayed": "6"
                                },
                                {
                                    "Name": "Corey Seager",
                                    "TotalGamesPlayed": "134"
                                },
                                {
                                    "Name": "Kyle Seager",
                                    "TotalGamesPlayed": "106"
                                },
                                {
                                    "Name": "Jean Segura",
                                    "TotalGamesPlayed": "144"
                                },
                                {
                                    "Name": "Marcus Semien",
                                    "TotalGamesPlayed": "162"
                                },
                                {
                                    "Name": "Antonio Senzatela",
                                    "TotalGamesPlayed": "24"
                                },
                                {
                                    "Name": "Nick Senzel",
                                    "TotalGamesPlayed": "104"
                                },
                                {
                                    "Name": "Pedro Severino",
                                    "TotalGamesPlayed": "96"
                                },
                                {
                                    "Name": "Chris Shaw",
                                    "TotalGamesPlayed": "16"
                                },
                                {
                                    "Name": "Travis Shaw",
                                    "TotalGamesPlayed": "86"
                                },
                                {
                                    "Name": "JB Shuck",
                                    "TotalGamesPlayed": "27"
                                },
                                {
                                    "Name": "Magneuris Sierra",
                                    "TotalGamesPlayed": "15"
                                },
                                {
                                    "Name": "Andrelton Simmons",
                                    "TotalGamesPlayed": "103"
                                },
                                {
                                    "Name": "Lucas Sims",
                                    "TotalGamesPlayed": "23"
                                },
                                {
                                    "Name": "Chance Sisco",
                                    "TotalGamesPlayed": "59"
                                },
                                {
                                    "Name": "Matt Skole",
                                    "TotalGamesPlayed": "27"
                                },
                                {
                                    "Name": "Austin Slater",
                                    "TotalGamesPlayed": "68"
                                },
                                {
                                    "Name": "Caleb Smith",
                                    "TotalGamesPlayed": "27"
                                },
                                {
                                    "Name": "Dominic Smith",
                                    "TotalGamesPlayed": "89"
                                },
                                {
                                    "Name": "Dwight Smith Jr.",
                                    "TotalGamesPlayed": "101"
                                },
                                {
                                    "Name": "Kevan Smith",
                                    "TotalGamesPlayed": "67"
                                },
                                {
                                    "Name": "Mallex Smith",
                                    "TotalGamesPlayed": "134"
                                },
                                {
                                    "Name": "Will Smith",
                                    "TotalGamesPlayed": "112"
                                },
                                {
                                    "Name": "Justin Smoak",
                                    "TotalGamesPlayed": "121"
                                },
                                {
                                    "Name": "Eric Sogard",
                                    "TotalGamesPlayed": "110"
                                },
                                {
                                    "Name": "Nick Solak",
                                    "TotalGamesPlayed": "33"
                                },
                                {
                                    "Name": "Donovan Solano",
                                    "TotalGamesPlayed": "81"
                                },
                                {
                                    "Name": "Yangervis Solarte",
                                    "TotalGamesPlayed": "28"
                                },
                                {
                                    "Name": "Jorge Soler",
                                    "TotalGamesPlayed": "162"
                                },
                                {
                                    "Name": "Mike Soroka",
                                    "TotalGamesPlayed": "27"
                                },
                                {
                                    "Name": "Edmundo Sosa",
                                    "TotalGamesPlayed": "8"
                                },
                                {
                                    "Name": "Gregory Soto",
                                    "TotalGamesPlayed": "1"
                                },
                                {
                                    "Name": "Juan Soto",
                                    "TotalGamesPlayed": "150"
                                },
                                {
                                    "Name": "Cory Spangenberg",
                                    "TotalGamesPlayed": "32"
                                },
                                {
                                    "Name": "George Springer",
                                    "TotalGamesPlayed": "122"
                                },
                                {
                                    "Name": "Jacob Stallings",
                                    "TotalGamesPlayed": "71"
                                },
                                {
                                    "Name": "Eric Stamets",
                                    "TotalGamesPlayed": "15"
                                },
                                {
                                    "Name": "Giancarlo Stanton",
                                    "TotalGamesPlayed": "18"
                                },
                                {
                                    "Name": "Bubba Starling",
                                    "TotalGamesPlayed": "56"
                                },
                                {
                                    "Name": "Max Stassi",
                                    "TotalGamesPlayed": "51"
                                },
                                {
                                    "Name": "Andrew Stevenson",
                                    "TotalGamesPlayed": "30"
                                },
                                {
                                    "Name": "Brock Stewart",
                                    "TotalGamesPlayed": "3"
                                },
                                {
                                    "Name": "Christin Stewart",
                                    "TotalGamesPlayed": "104"
                                },
                                {
                                    "Name": "DJ Stewart",
                                    "TotalGamesPlayed": "44"
                                },
                                {
                                    "Name": "Trevor Story",
                                    "TotalGamesPlayed": "145"
                                },
                                {
                                    "Name": "Matt Strahm",
                                    "TotalGamesPlayed": "45"
                                },
                                {
                                    "Name": "Stephen Strasburg",
                                    "TotalGamesPlayed": "33"
                                },
                                {
                                    "Name": "Myles Straw",
                                    "TotalGamesPlayed": "56"
                                },
                                {
                                    "Name": "Ross Stripling",
                                    "TotalGamesPlayed": "27"
                                },
                                {
                                    "Name": "Marcus Stroman",
                                    "TotalGamesPlayed": "11"
                                },
                                {
                                    "Name": "Garrett Stubbs",
                                    "TotalGamesPlayed": "19"
                                },
                                {
                                    "Name": "Eugenio Suarez",
                                    "TotalGamesPlayed": "159"
                                },
                                {
                                    "Name": "Ranger Suarez",
                                    "TotalGamesPlayed": "34"
                                },
                                {
                                    "Name": "Jesus Sucre",
                                    "TotalGamesPlayed": "20"
                                },
                                {
                                    "Name": "Kurt Suzuki",
                                    "TotalGamesPlayed": "85"
                                },
                                {
                                    "Name": "Dansby Swanson",
                                    "TotalGamesPlayed": "127"
                                },
                                {
                                    "Name": "Blake Swihart",
                                    "TotalGamesPlayed": "43"
                                },
                                {
                                    "Name": "Noah Syndergaard",
                                    "TotalGamesPlayed": "30"
                                },
                                {
                                    "Name": "Jameson Taillon",
                                    "TotalGamesPlayed": "6"
                                },
                                {
                                    "Name": "Raimel Tapia",
                                    "TotalGamesPlayed": "138"
                                },
                                {
                                    "Name": "Fernando Tatis Jr.",
                                    "TotalGamesPlayed": "84"
                                },
                                {
                                    "Name": "Mike Tauchman",
                                    "TotalGamesPlayed": "87"
                                },
                                {
                                    "Name": "Beau Taylor",
                                    "TotalGamesPlayed": "9"
                                },
                                {
                                    "Name": "Chris Taylor",
                                    "TotalGamesPlayed": "124"
                                },
                                {
                                    "Name": "Michael A. Taylor",
                                    "TotalGamesPlayed": "53"
                                },
                                {
                                    "Name": "Tyrone Taylor",
                                    "TotalGamesPlayed": "15"
                                },
                                {
                                    "Name": "Julio Teheran",
                                    "TotalGamesPlayed": "33"
                                },
                                {
                                    "Name": "Rowdy Tellez",
                                    "TotalGamesPlayed": "111"
                                },
                                {
                                    "Name": "Matt Thaiss",
                                    "TotalGamesPlayed": "53"
                                },
                                {
                                    "Name": "Eric Thames",
                                    "TotalGamesPlayed": "149"
                                },
                                {
                                    "Name": "Lane Thomas",
                                    "TotalGamesPlayed": "34"
                                },
                                {
                                    "Name": "Trent Thornton",
                                    "TotalGamesPlayed": "1"
                                },
                                {
                                    "Name": "Charlie Tilson",
                                    "TotalGamesPlayed": "54"
                                },
                                {
                                    "Name": "Jesus Tinoco",
                                    "TotalGamesPlayed": "23"
                                },
                                {
                                    "Name": "Abraham Toro",
                                    "TotalGamesPlayed": "25"
                                },
                                {
                                    "Name": "Luis Torrens",
                                    "TotalGamesPlayed": "7"
                                },
                                {
                                    "Name": "Gleyber Torres",
                                    "TotalGamesPlayed": "144"
                                },
                                {
                                    "Name": "Ronald Torreyes",
                                    "TotalGamesPlayed": "7"
                                },
                                {
                                    "Name": "Wilfredo Tovar",
                                    "TotalGamesPlayed": "31"
                                },
                                {
                                    "Name": "Sam Travis",
                                    "TotalGamesPlayed": "59"
                                },
                                {
                                    "Name": "Jose Trevino",
                                    "TotalGamesPlayed": "40"
                                },
                                {
                                    "Name": "Mike Trout",
                                    "TotalGamesPlayed": "134"
                                },
                                {
                                    "Name": "Mark Trumbo",
                                    "TotalGamesPlayed": "12"
                                },
                                {
                                    "Name": "Cole Tucker",
                                    "TotalGamesPlayed": "56"
                                },
                                {
                                    "Name": "Kyle Tucker",
                                    "TotalGamesPlayed": "22"
                                },
                                {
                                    "Name": "Troy Tulowitzki",
                                    "TotalGamesPlayed": "5"
                                },
                                {
                                    "Name": "Justin Turner",
                                    "TotalGamesPlayed": "135"
                                },
                                {
                                    "Name": "Trea Turner",
                                    "TotalGamesPlayed": "122"
                                },
                                {
                                    "Name": "Justin Upton",
                                    "TotalGamesPlayed": "63"
                                },
                                {
                                    "Name": "Richard Urena",
                                    "TotalGamesPlayed": "30"
                                },
                                {
                                    "Name": "Julio Urias",
                                    "TotalGamesPlayed": "35"
                                },
                                {
                                    "Name": "Luis Urias",
                                    "TotalGamesPlayed": "71"
                                },
                                {
                                    "Name": "Gio Urshela",
                                    "TotalGamesPlayed": "132"
                                },
                                {
                                    "Name": "Pat Valaika",
                                    "TotalGamesPlayed": "40"
                                },
                                {
                                    "Name": "Breyvic Valera",
                                    "TotalGamesPlayed": "17"
                                },
                                {
                                    "Name": "Josh VanMeter",
                                    "TotalGamesPlayed": "95"
                                },
                                {
                                    "Name": "Ildemaro Vargas",
                                    "TotalGamesPlayed": "92"
                                },
                                {
                                    "Name": "Jason Vargas",
                                    "TotalGamesPlayed": "27"
                                },
                                {
                                    "Name": "Christian Vazquez",
                                    "TotalGamesPlayed": "138"
                                },
                                {
                                    "Name": "Vince Velasquez",
                                    "TotalGamesPlayed": "33"
                                },
                                {
                                    "Name": "Andrew Velazquez",
                                    "TotalGamesPlayed": "15"
                                },
                                {
                                    "Name": "Alex Verdugo",
                                    "TotalGamesPlayed": "106"
                                },
                                {
                                    "Name": "Jonathan Villar",
                                    "TotalGamesPlayed": "162"
                                },
                                {
                                    "Name": "Meibrys Viloria",
                                    "TotalGamesPlayed": "42"
                                },
                                {
                                    "Name": "Daniel Vogelbach",
                                    "TotalGamesPlayed": "144"
                                },
                                {
                                    "Name": "Stephen Vogt",
                                    "TotalGamesPlayed": "99"
                                },
                                {
                                    "Name": "Luke Voit",
                                    "TotalGamesPlayed": "118"
                                },
                                {
                                    "Name": "Austin Voth",
                                    "TotalGamesPlayed": "7"
                                },
                                {
                                    "Name": "Joey Votto",
                                    "TotalGamesPlayed": "142"
                                },
                                {
                                    "Name": "Michael Wacha",
                                    "TotalGamesPlayed": "28"
                                },
                                {
                                    "Name": "LaMonte Wade Jr",
                                    "TotalGamesPlayed": "26"
                                },
                                {
                                    "Name": "Tyler Wade",
                                    "TotalGamesPlayed": "43"
                                },
                                {
                                    "Name": "Adam Wainwright",
                                    "TotalGamesPlayed": "29"
                                },
                                {
                                    "Name": "Christian Walker",
                                    "TotalGamesPlayed": "152"
                                },
                                {
                                    "Name": "Neil Walker",
                                    "TotalGamesPlayed": "115"
                                },
                                {
                                    "Name": "Chad Wallach",
                                    "TotalGamesPlayed": "19"
                                },
                                {
                                    "Name": "Jared Walsh",
                                    "TotalGamesPlayed": "31"
                                },
                                {
                                    "Name": "Donovan Walton",
                                    "TotalGamesPlayed": "7"
                                },
                                {
                                    "Name": "Taylor Ward",
                                    "TotalGamesPlayed": "20"
                                },
                                {
                                    "Name": "Luke Weaver",
                                    "TotalGamesPlayed": "13"
                                },
                                {
                                    "Name": "Logan Webb",
                                    "TotalGamesPlayed": "7"
                                },
                                {
                                    "Name": "Joey Wendle",
                                    "TotalGamesPlayed": "75"
                                },
                                {
                                    "Name": "Zack Wheeler",
                                    "TotalGamesPlayed": "28"
                                },
                                {
                                    "Name": "Tyler White",
                                    "TotalGamesPlayed": "83"
                                },
                                {
                                    "Name": "Matt Wieters",
                                    "TotalGamesPlayed": "67"
                                },
                                {
                                    "Name": "Aaron Wilkerson",
                                    "TotalGamesPlayed": "8"
                                },
                                {
                                    "Name": "Stevie Wilkerson",
                                    "TotalGamesPlayed": "117"
                                },
                                {
                                    "Name": "Mason Williams",
                                    "TotalGamesPlayed": "11"
                                },
                                {
                                    "Name": "Nick Williams",
                                    "TotalGamesPlayed": "67"
                                },
                                {
                                    "Name": "Trevor Williams",
                                    "TotalGamesPlayed": "23"
                                },
                                {
                                    "Name": "Mac Williamson",
                                    "TotalGamesPlayed": "40"
                                },
                                {
                                    "Name": "Bobby Wilson",
                                    "TotalGamesPlayed": "15"
                                },
                                {
                                    "Name": "Bryse Wilson",
                                    "TotalGamesPlayed": "6"
                                },
                                {
                                    "Name": "Jesse Winker",
                                    "TotalGamesPlayed": "113"
                                },
                                {
                                    "Name": "Patrick Wisdom",
                                    "TotalGamesPlayed": "9"
                                },
                                {
                                    "Name": "Tony Wolters",
                                    "TotalGamesPlayed": "121"
                                },
                                {
                                    "Name": "Kean Wong",
                                    "TotalGamesPlayed": "6"
                                },
                                {
                                    "Name": "Kolten Wong",
                                    "TotalGamesPlayed": "148"
                                },
                                {
                                    "Name": "Alex Wood",
                                    "TotalGamesPlayed": "7"
                                },
                                {
                                    "Name": "Brandon Woodruff",
                                    "TotalGamesPlayed": "25"
                                },
                                {
                                    "Name": "Austin Wynns",
                                    "TotalGamesPlayed": "28"
                                },
                                {
                                    "Name": "Jordan Yamamoto",
                                    "TotalGamesPlayed": "16"
                                },
                                {
                                    "Name": "Mike Yastrzemski",
                                    "TotalGamesPlayed": "107"
                                },
                                {
                                    "Name": "Christian Yelich",
                                    "TotalGamesPlayed": "130"
                                },
                                {
                                    "Name": "Alex Young",
                                    "TotalGamesPlayed": "16"
                                },
                                {
                                    "Name": "Mark Zagunis",
                                    "TotalGamesPlayed": "30"
                                },
                                {
                                    "Name": "Seby Zavala",
                                    "TotalGamesPlayed": "5"
                                },
                                {
                                    "Name": "Ryan Zimmerman",
                                    "TotalGamesPlayed": "52"
                                },
                                {
                                    "Name": "Ben Zobrist",
                                    "TotalGamesPlayed": "47"
                                },
                                {
                                    "Name": "Mike Zunino",
                                    "TotalGamesPlayed": "90"
                                }
                            ]
                        },
                        "text/html": [
                            "<table>",
                            "<tr><th>Name</th><th>TotalGamesPlayed</th></tr>",
                            "<tr><td>José Abreu</td><td>159</td></tr>",
                            "<tr><td>Ronald Acuna Jr.</td><td>156</td></tr>",
                            "<tr><td>Cristhian Adames</td><td>10</td></tr>",
                            "<tr><td>Willy Adames</td><td>152</td></tr>",
                            "<tr><td>Matt Adams</td><td>111</td></tr>",
                            "<tr><td>Ehire Adrianza</td><td>83</td></tr>",
                            "<tr><td>Dario Agrazal</td><td>14</td></tr>",
                            "<tr><td>Jesus Aguilar</td><td>131</td></tr>",
                            "<tr><td>Nick Ahmed</td><td>158</td></tr>",
                            "<tr><td>R.J. Alaniz</td><td>8</td></tr>",
                            "<tr><td>Hanser Alberto</td><td>139</td></tr>",
                            "<tr><td>Ozzie Albies</td><td>160</td></tr>",
                            "<tr><td>Sandy Alcantara</td><td>31</td></tr>",
                            "<tr><td>Jorge Alfaro</td><td>130</td></tr>",
                            "<tr><td>Anthony Alford</td><td>16</td></tr>",
                            "<tr><td>Austin Allen</td><td>34</td></tr>",
                            "<tr><td>Greg Allen</td><td>89</td></tr>",
                            "<tr><td>Logan Allen</td><td>7</td></tr>",
                            "<tr><td>Abraham Almonte</td><td>17</td></tr>",
                            "<tr><td>Albert Almora</td><td>130</td></tr>",
                            "<tr><td>Pete Alonso</td><td>161</td></tr>",
                            "<tr><td>Yonder Alonso</td><td>121</td></tr>",
                            "<tr><td>Aaron Altherr</td><td>48</td></tr>",
                            "<tr><td>Jose Altuve</td><td>124</td></tr>",
                            "<tr><td>Yordan Álvarez</td><td>87</td></tr>",
                            "<tr><td>Brett Anderson</td><td>3</td></tr>",
                            "<tr><td>Brian Anderson</td><td>126</td></tr>",
                            "<tr><td>Chase Anderson</td><td>31</td></tr>",
                            "<tr><td>Shaun Anderson</td><td>25</td></tr>",
                            "<tr><td>Tim Anderson</td><td>123</td></tr>",
                            "<tr><td>Tyler Anderson</td><td>5</td></tr>",
                            "<tr><td>Elvis Andrus</td><td>147</td></tr>",
                            "<tr><td>Miguel Andujar</td><td>12</td></tr>",
                            "<tr><td>Aristides Aquino</td><td>56</td></tr>",
                            "<tr><td>Chris Archer</td><td>22</td></tr>",
                            "<tr><td>Orlando Arcia</td><td>152</td></tr>",
                            "<tr><td>Nolan Arenado</td><td>155</td></tr>",
                            "<tr><td>Randy Arozarena</td><td>19</td></tr>",
                            "<tr><td>Luis Arraez</td><td>92</td></tr>",
                            "<tr><td>Jake Arrieta</td><td>23</td></tr>",
                            "<tr><td>Christian Arroyo</td><td>16</td></tr>",
                            "<tr><td>Humberto Arteaga</td><td>41</td></tr>",
                            "<tr><td>Willians Astudillo</td><td>58</td></tr>",
                            "<tr><td>Tyler Austin</td><td>89</td></tr>",
                            "<tr><td>Abiatal Avelino</td><td>4</td></tr>",
                            "<tr><td>Alex Avila</td><td>63</td></tr>",
                            "<tr><td>Harrison Bader</td><td>128</td></tr>",
                            "<tr><td>Javier Baez</td><td>138</td></tr>",
                            "<tr><td>Homer Bailey</td><td>2</td></tr>",
                            "<tr><td>Austin Barnes</td><td>75</td></tr>",
                            "<tr><td>Tucker Barnhart</td><td>114</td></tr>",
                            "<tr><td>Steven Baron</td><td>7</td></tr>",
                            "<tr><td>Franklin Barreto</td><td>23</td></tr>",
                            "<tr><td>Trevor Bauer</td><td>11</td></tr>",
                            "<tr><td>Jake Bauers</td><td>117</td></tr>",
                            "<tr><td>Matt Beaty</td><td>99</td></tr>",
                            "<tr><td>Gordon Beckham</td><td>83</td></tr>",
                            "<tr><td>Tim Beckham</td><td>88</td></tr>",
                            "<tr><td>Tyler Beede</td><td>25</td></tr>",
                            "<tr><td>Josh Bell</td><td>143</td></tr>",
                            "<tr><td>Cody Bellinger</td><td>156</td></tr>",
                            "<tr><td>Brandon Belt</td><td>156</td></tr>",
                            "<tr><td>Anthony Bemboom</td><td>25</td></tr>",
                            "<tr><td>Andrew Benintendi</td><td>138</td></tr>",
                            "<tr><td>Jon Berti</td><td>73</td></tr>",
                            "<tr><td>Mookie Betts</td><td>150</td></tr>",
                            "<tr><td>Bo Bichette</td><td>46</td></tr>",
                            "<tr><td>Cavan Biggio</td><td>100</td></tr>",
                            "<tr><td>Greg Bird</td><td>10</td></tr>",
                            "<tr><td>Braden Bishop</td><td>27</td></tr>",
                            "<tr><td>Charlie Blackmon</td><td>140</td></tr>",
                            "<tr><td>Alex Blandino</td><td>23</td></tr>",
                            "<tr><td>Xander Bogaerts</td><td>155</td></tr>",
                            "<tr><td>Skye Bolt</td><td>5</td></tr>",
                            "<tr><td>Jorge Bonifacio</td><td>5</td></tr>",
                            "<tr><td>David Bote</td><td>127</td></tr>",
                            "<tr><td>Justin Bour</td><td>52</td></tr>",
                            "<tr><td>Peter Bourjos</td><td>26</td></tr>",
                            "<tr><td>Matthew Boyd</td><td>1</td></tr>",
                            "<tr><td>Brad Brach</td><td>39</td></tr>",
                            "<tr><td>Bobby Bradley</td><td>15</td></tr>",
                            "<tr><td>Jackie Bradley Jr.</td><td>147</td></tr>",
                            "<tr><td>Michael Brantley</td><td>148</td></tr>",
                            "<tr><td>Steven Brault</td><td>33</td></tr>",
                            "<tr><td>Ryan Braun</td><td>144</td></tr>",
                            "<tr><td>John Brebbia</td><td>63</td></tr>",
                            "<tr><td>Alex Bregman</td><td>156</td></tr>",
                            "<tr><td>Lewis Brinson</td><td>75</td></tr>",
                            "<tr><td>Socrates Brito</td><td>17</td></tr>",
                            "<tr><td>Mike Brosseau</td><td>50</td></tr>",
                            "<tr><td>Seth Brown</td><td>26</td></tr>",
                            "<tr><td>Keon Broxton</td><td>100</td></tr>",
                            "<tr><td>Jay Bruce</td><td>98</td></tr>",
                            "<tr><td>Kris Bryant</td><td>147</td></tr>",
                            "<tr><td>Walker Buehler</td><td>29</td></tr>",
                            "<tr><td>Madison Bumgarner</td><td>35</td></tr>",
                            "<tr><td>Corbin Burnes</td><td>30</td></tr>",
                            "<tr><td>Drew Butera</td><td>16</td></tr>",
                            "<tr><td>Byron Buxton</td><td>87</td></tr>",
                            "<tr><td>Asdrubal Cabrera</td><td>131</td></tr>",
                            "<tr><td>Melky Cabrera</td><td>133</td></tr>",
                            "<tr><td>Miguel Cabrera</td><td>136</td></tr>",
                            "<tr><td>Trevor Cahill</td><td>2</td></tr>",
                            "<tr><td>Lorenzo Cain</td><td>148</td></tr>",
                            "<tr><td>Kole Calhoun</td><td>152</td></tr>",
                            "<tr><td>Willie Calhoun</td><td>83</td></tr>",
                            "<tr><td>Johan Camargo</td><td>98</td></tr>",
                            "<tr><td>Jeimer Candelario</td><td>94</td></tr>",
                            "<tr><td>Mark Canha</td><td>126</td></tr>",
                            "<tr><td>Robinson Cano</td><td>107</td></tr>",
                            "<tr><td>Victor Caratini</td><td>95</td></tr>",
                            "<tr><td>Matt Carpenter</td><td>129</td></tr>",
                            "<tr><td>Curt Casali</td><td>84</td></tr>",
                            "<tr><td>Nicholas Castellanos</td><td>151</td></tr>",
                            "<tr><td>Luis Castillo</td><td>31</td></tr>",
                            "<tr><td>Welington Castillo</td><td>72</td></tr>",
                            "<tr><td>Wilkin Castillo</td><td>2</td></tr>",
                            "<tr><td>Harold Castro</td><td>97</td></tr>",
                            "<tr><td>Jason Castro</td><td>79</td></tr>",
                            "<tr><td>Starlin Castro</td><td>162</td></tr>",
                            "<tr><td>Willi Castro</td><td>30</td></tr>",
                            "<tr><td>Jake Cave</td><td>72</td></tr>",
                            "<tr><td>Juan Centeno</td><td>7</td></tr>",
                            "<tr><td>Francisco Cervelli</td><td>48</td></tr>",
                            "<tr><td>Jhoulys Chacin</td><td>18</td></tr>",
                            "<tr><td>Yu Chang</td><td>28</td></tr>",
                            "<tr><td>Matt Chapman</td><td>156</td></tr>",
                            "<tr><td>Tyler Chatwood</td><td>40</td></tr>",
                            "<tr><td>Jesse Chavez</td><td>4</td></tr>",
                            "<tr><td>Michael Chavis</td><td>95</td></tr>",
                            "<tr><td>Robinson Chirinos</td><td>114</td></tr>",
                            "<tr><td>Ji-Man Choi</td><td>127</td></tr>",
                            "<tr><td>Shin-Soo Choo</td><td>151</td></tr>",
                            "<tr><td>Nick Ciuffo</td><td>3</td></tr>",
                            "<tr><td>Taylor Clarke</td><td>21</td></tr>",
                            "<tr><td>Zack Collins</td><td>27</td></tr>",
                            "<tr><td>Christian Colon</td><td>8</td></tr>",
                            "<tr><td>Michael Conforto</td><td>151</td></tr>",
                            "<tr><td>Willson Contreras</td><td>105</td></tr>",
                            "<tr><td>Garrett Cooper</td><td>107</td></tr>",
                            "<tr><td>Patrick Corbin</td><td>31</td></tr>",
                            "<tr><td>Ryan Cordell</td><td>97</td></tr>",
                            "<tr><td>Franchy Cordero</td><td>9</td></tr>",
                            "<tr><td>Carlos Correa</td><td>75</td></tr>",
                            "<tr><td>Ryan Court</td><td>12</td></tr>",
                            "<tr><td>Kaleb Cowart</td><td>9</td></tr>",
                            "<tr><td>Zack Cozart</td><td>38</td></tr>",
                            "<tr><td>Brandon Crawford</td><td>147</td></tr>",
                            "<tr><td>J.P. Crawford</td><td>93</td></tr>",
                            "<tr><td>C.J. Cron</td><td>125</td></tr>",
                            "<tr><td>Kevin Cron</td><td>39</td></tr>",
                            "<tr><td>Nelson Cruz</td><td>120</td></tr>",
                            "<tr><td>Charlie Culberson</td><td>108</td></tr>",
                            "<tr><td>Cheslor Cuthbert</td><td>87</td></tr>",
                            "<tr><td>Travis d&#39;Arnaud</td><td>102</td></tr>",
                            "<tr><td>David Dahl</td><td>100</td></tr>",
                            "<tr><td>Yu Darvish</td><td>30</td></tr>",
                            "<tr><td>Zach Davies</td><td>34</td></tr>",
                            "<tr><td>Chris Davis</td><td>105</td></tr>",
                            "<tr><td>J.D. Davis</td><td>140</td></tr>",
                            "<tr><td>Jaylin Davis</td><td>17</td></tr>",
                            "<tr><td>Johnny Davis</td><td>8</td></tr>",
                            "<tr><td>Jonathan Davis</td><td>37</td></tr>",
                            "<tr><td>Khris Davis</td><td>133</td></tr>",
                            "<tr><td>Rajai Davis</td><td>29</td></tr>",
                            "<tr><td>Taylor Davis</td><td>7</td></tr>",
                            "<tr><td>Yonathan Daza</td><td>44</td></tr>",
                            "<tr><td>Austin Dean</td><td>64</td></tr>",
                            "<tr><td>Jacob deGrom</td><td>31</td></tr>",
                            "<tr><td>Paul DeJong</td><td>159</td></tr>",
                            "<tr><td>Nicky Delmonico</td><td>21</td></tr>",
                            "<tr><td>Travis Demeritte</td><td>48</td></tr>",
                            "<tr><td>Daniel Descalso</td><td>82</td></tr>",
                            "<tr><td>Anthony DeSclafani</td><td>30</td></tr>",
                            "<tr><td>Delino DeShields</td><td>118</td></tr>",
                            "<tr><td>Ian Desmond</td><td>140</td></tr>",
                            "<tr><td>Rafael Devers</td><td>156</td></tr>",
                            "<tr><td>Aledmys Díaz</td><td>69</td></tr>",
                            "<tr><td>Elias Diaz</td><td>101</td></tr>",
                            "<tr><td>Isan Diaz</td><td>49</td></tr>",
                            "<tr><td>Yandy Díaz</td><td>79</td></tr>",
                            "<tr><td>Alex Dickerson</td><td>68</td></tr>",
                            "<tr><td>Corey Dickerson</td><td>78</td></tr>",
                            "<tr><td>Derek Dietrich</td><td>113</td></tr>",
                            "<tr><td>Wilmer Difo</td><td>43</td></tr>",
                            "<tr><td>Nick Dini</td><td>20</td></tr>",
                            "<tr><td>Brandon Dixon</td><td>117</td></tr>",
                            "<tr><td>Josh Donaldson</td><td>155</td></tr>",
                            "<tr><td>Brian Dozier</td><td>135</td></tr>",
                            "<tr><td>Hunter Dozier</td><td>139</td></tr>",
                            "<tr><td>Oliver Drake</td><td>3</td></tr>",
                            "<tr><td>Brandon Drury</td><td>120</td></tr>",
                            "<tr><td>Mauricio Dubon</td><td>28</td></tr>",
                            "<tr><td>Lucas Duda</td><td>39</td></tr>",
                            "<tr><td>Danny Duffy</td><td>2</td></tr>",
                            "<tr><td>Matt Duffy</td><td>46</td></tr>",
                            "<tr><td>Steven Duggar</td><td>73</td></tr>",
                            "<tr><td>Jon Duplantier</td><td>15</td></tr>",
                            "<tr><td>Montana DuRapau</td><td>14</td></tr>",
                            "<tr><td>Adam Duvall</td><td>41</td></tr>",
                            "<tr><td>Jarrod Dyson</td><td>130</td></tr>",
                            "<tr><td>Adam Eaton</td><td>151</td></tr>",
                            "<tr><td>Tommy Edman</td><td>92</td></tr>",
                            "<tr><td>Zach Eflin</td><td>31</td></tr>",
                            "<tr><td>Jake Elmore</td><td>20</td></tr>",
                            "<tr><td>Edwin Encarnacion</td><td>109</td></tr>",
                            "<tr><td>Adam Engel</td><td>89</td></tr>",
                            "<tr><td>Phil Ervin</td><td>94</td></tr>",
                            "<tr><td>Eduardo Escobar</td><td>158</td></tr>",
                            "<tr><td>Thairo Estrada</td><td>35</td></tr>",
                            "<tr><td>Kyle Farmer</td><td>97</td></tr>",
                            "<tr><td>Erick Fedde</td><td>20</td></tr>",
                            "<tr><td>Tim Federowicz</td><td>29</td></tr>",
                            "<tr><td>Caleb Ferguson</td><td>42</td></tr>",
                            "<tr><td>Derek Fisher</td><td>57</td></tr>",
                            "<tr><td>Jack Flaherty</td><td>35</td></tr>",
                            "<tr><td>Ryan Flaherty</td><td>14</td></tr>",
                            "<tr><td>David Fletcher</td><td>154</td></tr>",
                            "<tr><td>Chris Flexen</td><td>9</td></tr>",
                            "<tr><td>Wilmer Flores</td><td>89</td></tr>",
                            "<tr><td>Tyler Flowers</td><td>85</td></tr>",
                            "<tr><td>Mike Foltynewicz</td><td>19</td></tr>",
                            "<tr><td>Wilmer Font</td><td>14</td></tr>",
                            "<tr><td>Mike Ford</td><td>50</td></tr>",
                            "<tr><td>Logan Forsythe</td><td>101</td></tr>",
                            "<tr><td>Dexter Fowler</td><td>150</td></tr>",
                            "<tr><td>Jake Fraley</td><td>12</td></tr>",
                            "<tr><td>Ty France</td><td>69</td></tr>",
                            "<tr><td>Maikel Franco</td><td>123</td></tr>",
                            "<tr><td>Adam Frazier</td><td>152</td></tr>",
                            "<tr><td>Clint Frazier</td><td>69</td></tr>",
                            "<tr><td>Todd Frazier</td><td>133</td></tr>",
                            "<tr><td>Kyle Freeland</td><td>19</td></tr>",
                            "<tr><td>Freddie Freeman</td><td>158</td></tr>",
                            "<tr><td>Mike Freeman</td><td>75</td></tr>",
                            "<tr><td>David Freese</td><td>79</td></tr>",
                            "<tr><td>David Freitas</td><td>16</td></tr>",
                            "<tr><td>Max Fried</td><td>38</td></tr>",
                            "<tr><td>Josh Fuentes</td><td>24</td></tr>",
                            "<tr><td>Drew Gagnon</td><td>17</td></tr>",
                            "<tr><td>Rocky Gale</td><td>5</td></tr>",
                            "<tr><td>Cam Gallagher</td><td>45</td></tr>",
                            "<tr><td>Zac Gallen</td><td>14</td></tr>",
                            "<tr><td>Joey Gallo</td><td>70</td></tr>",
                            "<tr><td>Isaac Galloway</td><td>19</td></tr>",
                            "<tr><td>Freddy Galvis</td><td>147</td></tr>",
                            "<tr><td>Ben Gamel</td><td>134</td></tr>",
                            "<tr><td>Aramis Garcia</td><td>18</td></tr>",
                            "<tr><td>Avisail Garcia</td><td>125</td></tr>",
                            "<tr><td>Greg Garcia</td><td>134</td></tr>",
                            "<tr><td>Leury Garcia</td><td>140</td></tr>",
                            "<tr><td>Robel Garcia</td><td>31</td></tr>",
                            "<tr><td>Brett Gardner</td><td>141</td></tr>",
                            "<tr><td>Kyle Garlick</td><td>30</td></tr>",
                            "<tr><td>Dustin Garneau</td><td>35</td></tr>",
                            "<tr><td>Mitch Garver</td><td>93</td></tr>",
                            "<tr><td>Kevin Gausman</td><td>16</td></tr>",
                            "<tr><td>Scooter Gennett</td><td>42</td></tr>",
                            "<tr><td>Mike Gerber</td><td>12</td></tr>",
                            "<tr><td>Lucas Giolito</td><td>2</td></tr>",
                            "<tr><td>Zack Godley</td><td>23</td></tr>",
                            "<tr><td>Ryan Goins</td><td>52</td></tr>",
                            "<tr><td>Paul Goldschmidt</td><td>161</td></tr>",
                            "<tr><td>Yan Gomes</td><td>97</td></tr>",
                            "<tr><td>Carlos Gomez</td><td>34</td></tr>",
                            "<tr><td>Tony Gonsolin</td><td>10</td></tr>",
                            "<tr><td>Marco Gonzales</td><td>2</td></tr>",
                            "<tr><td>Carlos Gonzalez</td><td>45</td></tr>",
                            "<tr><td>Chi Chi Gonzalez</td><td>13</td></tr>",
                            "<tr><td>Erik Gonzalez</td><td>53</td></tr>",
                            "<tr><td>Gio Gonzalez</td><td>18</td></tr>",
                            "<tr><td>Marwin Gonzalez</td><td>114</td></tr>",
                            "<tr><td>Niko Goodrum</td><td>112</td></tr>",
                            "<tr><td>Brian Goodwin</td><td>136</td></tr>",
                            "<tr><td>Alex Gordon</td><td>150</td></tr>",
                            "<tr><td>Dee Gordon</td><td>117</td></tr>",
                            "<tr><td>Terrance Gore</td><td>37</td></tr>",
                            "<tr><td>Phil Gosselin</td><td>44</td></tr>",
                            "<tr><td>Yasmani Grandal</td><td>153</td></tr>",
                            "<tr><td>Curtis Granderson</td><td>138</td></tr>",
                            "<tr><td>Juan Graterol</td><td>6</td></tr>",
                            "<tr><td>Jon Gray</td><td>27</td></tr>",
                            "<tr><td>Sonny Gray</td><td>32</td></tr>",
                            "<tr><td>Zach Green</td><td>8</td></tr>",
                            "<tr><td>Didi Gregorius</td><td>82</td></tr>",
                            "<tr><td>Grayson Greiner</td><td>58</td></tr>",
                            "<tr><td>Zack Greinke</td><td>25</td></tr>",
                            "<tr><td>Randal Grichuk</td><td>151</td></tr>",
                            "<tr><td>Trent Grisham</td><td>51</td></tr>",
                            "<tr><td>Robbie Grossman</td><td>138</td></tr>",
                            "<tr><td>Deivy Grullon</td><td>4</td></tr>",
                            "<tr><td>Junior Guerra</td><td>65</td></tr>",
                            "<tr><td>Vladimir Guerrero Jr.</td><td>123</td></tr>",
                            "<tr><td>Luis Guillorme</td><td>45</td></tr>",
                            "<tr><td>Lourdes Gurriel Jr.</td><td>84</td></tr>",
                            "<tr><td>Yuli Gurriel</td><td>144</td></tr>",
                            "<tr><td>Kelvin Gutierrez</td><td>20</td></tr>",
                            "<tr><td>Ronald Guzman</td><td>87</td></tr>",
                            "<tr><td>Jedd Gyorko</td><td>62</td></tr>",
                            "<tr><td>Eric Haase</td><td>10</td></tr>",
                            "<tr><td>Cole Hamels</td><td>24</td></tr>",
                            "<tr><td>Billy Hamilton</td><td>119</td></tr>",
                            "<tr><td>Garrett Hampson</td><td>105</td></tr>",
                            "<tr><td>Mitch Haniger</td><td>63</td></tr>",
                            "<tr><td>Alen Hanson</td><td>18</td></tr>",
                            "<tr><td>Ian Happ</td><td>58</td></tr>",
                            "<tr><td>Bryce Harper</td><td>157</td></tr>",
                            "<tr><td>Josh Harrison</td><td>36</td></tr>",
                            "<tr><td>Adam Haseley</td><td>67</td></tr>",
                            "<tr><td>Austin Hays</td><td>21</td></tr>",
                            "<tr><td>Ryon Healy</td><td>47</td></tr>",
                            "<tr><td>Adeiny Hechavarria</td><td>84</td></tr>",
                            "<tr><td>Austin Hedges</td><td>102</td></tr>",
                            "<tr><td>Scott Heineman</td><td>25</td></tr>",
                            "<tr><td>Tyler Heineman</td><td>5</td></tr>",
                            "<tr><td>Jeremy Hellickson</td><td>9</td></tr>",
                            "<tr><td>Ryan Helsley</td><td>24</td></tr>",
                            "<tr><td>Kyle Hendricks</td><td>29</td></tr>",
                            "<tr><td>Guillermo Heredia</td><td>89</td></tr>",
                            "<tr><td>Michael Hermosillo</td><td>18</td></tr>",
                            "<tr><td>Cesar Hernandez</td><td>161</td></tr>",
                            "<tr><td>Elieser Hernandez</td><td>20</td></tr>",
                            "<tr><td>Enrique Hernandez</td><td>130</td></tr>",
                            "<tr><td>Gorkys Hernandez</td><td>20</td></tr>",
                            "<tr><td>Marco Hernandez</td><td>61</td></tr>",
                            "<tr><td>Teoscar Hernandez</td><td>125</td></tr>",
                            "<tr><td>Odubel Herrera</td><td>39</td></tr>",
                            "<tr><td>Rosell Herrera</td><td>63</td></tr>",
                            "<tr><td>Chris Herrmann</td><td>30</td></tr>",
                            "<tr><td>Jason Heyward</td><td>147</td></tr>",
                            "<tr><td>Aaron Hicks</td><td>59</td></tr>",
                            "<tr><td>John Hicks</td><td>95</td></tr>",
                            "<tr><td>Kyle Higashioka</td><td>18</td></tr>",
                            "<tr><td>Rich Hill</td><td>11</td></tr>",
                            "<tr><td>Sam Hilliard</td><td>27</td></tr>",
                            "<tr><td>Keston Hiura</td><td>84</td></tr>",
                            "<tr><td>Nico Hoerner</td><td>20</td></tr>",
                            "<tr><td>Jeff Hoffman</td><td>18</td></tr>",
                            "<tr><td>Bryan Holaday</td><td>43</td></tr>",
                            "<tr><td>Derek Holland</td><td>32</td></tr>",
                            "<tr><td>Brock Holt</td><td>87</td></tr>",
                            "<tr><td>Rhys Hoskins</td><td>160</td></tr>",
                            "<tr><td>Eric Hosmer</td><td>160</td></tr>",
                            "<tr><td>Adrian Houser</td><td>32</td></tr>",
                            "<tr><td>Dakota Hudson</td><td>30</td></tr>",
                            "<tr><td>Nick Hundley</td><td>31</td></tr>",
                            "<tr><td>Chris Iannetta</td><td>52</td></tr>",
                            "<tr><td>José Iglesias</td><td>146</td></tr>",
                            "<tr><td>Ender Inciarte</td><td>65</td></tr>",
                            "<tr><td>Cole Irvin</td><td>14</td></tr>",
                            "<tr><td>Travis Jankowski</td><td>25</td></tr>",
                            "<tr><td>Danny Jansen</td><td>107</td></tr>",
                            "<tr><td>Jon Jay</td><td>47</td></tr>",
                            "<tr><td>Eloy Jimenez</td><td>122</td></tr>",
                            "<tr><td>Connor Joe</td><td>8</td></tr>",
                            "<tr><td>Adam Jones</td><td>137</td></tr>",
                            "<tr><td>JaCoby Jones</td><td>88</td></tr>",
                            "<tr><td>Caleb Joseph</td><td>20</td></tr>",
                            "<tr><td>Corban Joseph</td><td>28</td></tr>",
                            "<tr><td>Matthew Joyce</td><td>129</td></tr>",
                            "<tr><td>Aaron Judge</td><td>102</td></tr>",
                            "<tr><td>Jung Ho Kang</td><td>65</td></tr>",
                            "<tr><td>Brad Keller</td><td>3</td></tr>",
                            "<tr><td>Carson Kelly</td><td>111</td></tr>",
                            "<tr><td>Merrill Kelly</td><td>30</td></tr>",
                            "<tr><td>Matt Kemp</td><td>20</td></tr>",
                            "<tr><td>Tony Kemp</td><td>110</td></tr>",
                            "<tr><td>Howie Kendrick</td><td>121</td></tr>",
                            "<tr><td>Max Kepler</td><td>134</td></tr>",
                            "<tr><td>Clayton Kershaw</td><td>28</td></tr>",
                            "<tr><td>Dallas Keuchel</td><td>19</td></tr>",
                            "<tr><td>Carter Kieboom</td><td>11</td></tr>",
                            "<tr><td>Kevin Kiermaier</td><td>129</td></tr>",
                            "<tr><td>Isiah Kiner-Falefa</td><td>65</td></tr>",
                            "<tr><td>Scott Kingery</td><td>126</td></tr>",
                            "<tr><td>Ian Kinsler</td><td>87</td></tr>",
                            "<tr><td>Jason Kipnis</td><td>121</td></tr>",
                            "<tr><td>Andrew Knapp</td><td>74</td></tr>",
                            "<tr><td>Andrew Knizner</td><td>18</td></tr>",
                            "<tr><td>Kevin Kramer</td><td>22</td></tr>",
                            "<tr><td>Erik Kratz</td><td>21</td></tr>",
                            "<tr><td>Tommy La Stella</td><td>80</td></tr>",
                            "<tr><td>Juan Lagares</td><td>133</td></tr>",
                            "<tr><td>Ryan LaMarre</td><td>14</td></tr>",
                            "<tr><td>Jake Lamb</td><td>78</td></tr>",
                            "<tr><td>Peter Lambert</td><td>21</td></tr>",
                            "<tr><td>Dinelson Lamet</td><td>13</td></tr>",
                            "<tr><td>Eric Lauer</td><td>29</td></tr>",
                            "<tr><td>Ramon Laureano</td><td>123</td></tr>",
                            "<tr><td>Ryan Lavarnway</td><td>5</td></tr>",
                            "<tr><td>Mike Leake</td><td>10</td></tr>",
                            "<tr><td>DJ LeMahieu</td><td>145</td></tr>",
                            "<tr><td>Sandy Leon</td><td>65</td></tr>",
                            "<tr><td>Jon Lester</td><td>28</td></tr>",
                            "<tr><td>Kyle Lewis</td><td>18</td></tr>",
                            "<tr><td>Domingo Leyba</td><td>21</td></tr>",
                            "<tr><td>Tzu-Wei Lin</td><td>13</td></tr>",
                            "<tr><td>Francisco Lindor</td><td>143</td></tr>",
                            "<tr><td>Francisco Liriano</td><td>67</td></tr>",
                            "<tr><td>Tim Locastro</td><td>91</td></tr>",
                            "<tr><td>Walker Lockett</td><td>9</td></tr>",
                            "<tr><td>Shed Long</td><td>42</td></tr>",
                            "<tr><td>Evan Longoria</td><td>129</td></tr>",
                            "<tr><td>Tim Lopes</td><td>41</td></tr>",
                            "<tr><td>Nicky Lopez</td><td>103</td></tr>",
                            "<tr><td>Pablo Lopez</td><td>21</td></tr>",
                            "<tr><td>Michael Lorenzen</td><td>100</td></tr>",
                            "<tr><td>Brandon Lowe</td><td>82</td></tr>",
                            "<tr><td>Nate Lowe</td><td>50</td></tr>",
                            "<tr><td>Joey Lucchesi</td><td>28</td></tr>",
                            "<tr><td>Jonathan Lucroy</td><td>101</td></tr>",
                            "<tr><td>Dawel Lugo</td><td>77</td></tr>",
                            "<tr><td>Seth Lugo</td><td>57</td></tr>",
                            "<tr><td>Jordan Luplow</td><td>85</td></tr>",
                            "<tr><td>Gavin Lux</td><td>23</td></tr>",
                            "<tr><td>Jordan Lyles</td><td>26</td></tr>",
                            "<tr><td>Manny Machado</td><td>156</td></tr>",
                            "<tr><td>Kenta Maeda</td><td>38</td></tr>",
                            "<tr><td>Tyler Mahle</td><td>24</td></tr>",
                            "<tr><td>Luke Maile</td><td>44</td></tr>",
                            "<tr><td>Martin Maldonado</td><td>101</td></tr>",
                            "<tr><td>Trey Mancini</td><td>154</td></tr>",
                            "<tr><td>Nick Margevicius</td><td>17</td></tr>",
                            "<tr><td>Manuel Margot</td><td>151</td></tr>",
                            "<tr><td>Jake Marisnick</td><td>120</td></tr>",
                            "<tr><td>Nick Markakis</td><td>116</td></tr>",
                            "<tr><td>German Marquez</td><td>25</td></tr>",
                            "<tr><td>Ketel Marte</td><td>144</td></tr>",
                            "<tr><td>Starling Marte</td><td>132</td></tr>",
                            "<tr><td>Jason Martin</td><td>20</td></tr>",
                            "<tr><td>Leonys Martín</td><td>65</td></tr>",
                            "<tr><td>Richie Martin</td><td>120</td></tr>",
                            "<tr><td>Russell Martin</td><td>83</td></tr>",
                            "<tr><td>J.D. Martinez</td><td>146</td></tr>",
                            "<tr><td>Jose Martinez</td><td>128</td></tr>",
                            "<tr><td>Nick Martini</td><td>32</td></tr>",
                            "<tr><td>Jeff Mathis</td><td>86</td></tr>",
                            "<tr><td>Phil Maton</td><td>18</td></tr>",
                            "<tr><td>Steven Matz</td><td>35</td></tr>",
                            "<tr><td>Dustin May</td><td>13</td></tr>",
                            "<tr><td>Cameron Maybin</td><td>82</td></tr>",
                            "<tr><td>Jack Mayfield</td><td>26</td></tr>",
                            "<tr><td>Nomar Mazara</td><td>116</td></tr>",
                            "<tr><td>Ryan McBroom</td><td>23</td></tr>",
                            "<tr><td>Brian McCann</td><td>85</td></tr>",
                            "<tr><td>James McCann</td><td>118</td></tr>",
                            "<tr><td>Andrew McCutchen</td><td>59</td></tr>",
                            "<tr><td>Kyle McGowin</td><td>7</td></tr>",
                            "<tr><td>Reese McGuire</td><td>30</td></tr>",
                            "<tr><td>Brendan McKay</td><td>7</td></tr>",
                            "<tr><td>Billy McKinney</td><td>84</td></tr>",
                            "<tr><td>Ryan McMahon</td><td>141</td></tr>",
                            "<tr><td>Jeff McNeil</td><td>133</td></tr>",
                            "<tr><td>Alex McRae</td><td>11</td></tr>",
                            "<tr><td>Austin Meadows</td><td>138</td></tr>",
                            "<tr><td>John Means</td><td>2</td></tr>",
                            "<tr><td>Erick Mejia</td><td>9</td></tr>",
                            "<tr><td>Francisco Mejia</td><td>79</td></tr>",
                            "<tr><td>Seth Mejias-Brean</td><td>14</td></tr>",
                            "<tr><td>Tim Melville</td><td>7</td></tr>",
                            "<tr><td>Danny Mendick</td><td>16</td></tr>",
                            "<tr><td>Oscar Mercado</td><td>115</td></tr>",
                            "<tr><td>Jordy Mercer</td><td>74</td></tr>",
                            "<tr><td>Whit Merrifield</td><td>162</td></tr>",
                            "<tr><td>Miles Mikolas</td><td>31</td></tr>",
                            "<tr><td>Brad Miller</td><td>79</td></tr>",
                            "<tr><td>Ian Miller</td><td>12</td></tr>",
                            "<tr><td>Alec Mills</td><td>9</td></tr>",
                            "<tr><td>Yadier Molina</td><td>113</td></tr>",
                            "<tr><td>Yoan Moncada</td><td>132</td></tr>",
                            "<tr><td>Adalberto Mondesi</td><td>102</td></tr>",
                            "<tr><td>Mike Montgomery</td><td>18</td></tr>",
                            "<tr><td>Dylan Moore</td><td>113</td></tr>",
                            "<tr><td>Kendrys Morales</td><td>53</td></tr>",
                            "<tr><td>Colin Moran</td><td>149</td></tr>",
                            "<tr><td>Mitch Moreland</td><td>91</td></tr>",
                            "<tr><td>Max Moroff</td><td>20</td></tr>",
                            "<tr><td>Logan Morrison</td><td>29</td></tr>",
                            "<tr><td>Mike Moustakas</td><td>143</td></tr>",
                            "<tr><td>Cedric Mullins</td><td>22</td></tr>",
                            "<tr><td>Max Muncy</td><td>141</td></tr>",
                            "<tr><td>Yairo Munoz</td><td>88</td></tr>",
                            "<tr><td>Daniel Murphy</td><td>132</td></tr>",
                            "<tr><td>John Ryan Murphy</td><td>25</td></tr>",
                            "<tr><td>Sean Murphy</td><td>20</td></tr>",
                            "<tr><td>Tom Murphy</td><td>75</td></tr>",
                            "<tr><td>Joe Musgrove</td><td>44</td></tr>",
                            "<tr><td>Wil Myers</td><td>155</td></tr>",
                            "<tr><td>Tyler Naquin</td><td>89</td></tr>",
                            "<tr><td>Omar Narvaez</td><td>132</td></tr>",
                            "<tr><td>Josh Naylor</td><td>94</td></tr>",
                            "<tr><td>Kristopher Negron</td><td>40</td></tr>",
                            "<tr><td>Sheldon Neuse</td><td>25</td></tr>",
                            "<tr><td>Kevin Newman</td><td>130</td></tr>",
                            "<tr><td>Tomas Nido</td><td>50</td></tr>",
                            "<tr><td>Brandon Nimmo</td><td>69</td></tr>",
                            "<tr><td>Hector Noesi</td><td>12</td></tr>",
                            "<tr><td>Aaron Nola</td><td>32</td></tr>",
                            "<tr><td>Austin Nola</td><td>79</td></tr>",
                            "<tr><td>Jake Noll</td><td>8</td></tr>",
                            "<tr><td>Daniel Norris</td><td>4</td></tr>",
                            "<tr><td>Jacob Nottingham</td><td>9</td></tr>",
                            "<tr><td>Dom Nunez</td><td>16</td></tr>",
                            "<tr><td>Eduardo Nunez</td><td>60</td></tr>",
                            "<tr><td>Renato Nunez</td><td>151</td></tr>",
                            "<tr><td>Peter O&#39;Brien</td><td>14</td></tr>",
                            "<tr><td>Brian O&#39;Grady</td><td>28</td></tr>",
                            "<tr><td>Ryan O&#39;Hearn</td><td>105</td></tr>",
                            "<tr><td>Tyler O&#39;Neill</td><td>60</td></tr>",
                            "<tr><td>Rougned Odor</td><td>145</td></tr>",
                            "<tr><td>Shohei Ohtani</td><td>106</td></tr>",
                            "<tr><td>Matt Olson</td><td>127</td></tr>",
                            "<tr><td>Rafael Ortega</td><td>34</td></tr>",
                            "<tr><td>Jose Osuna</td><td>95</td></tr>",
                            "<tr><td>Chris Owings</td><td>66</td></tr>",
                            "<tr><td>Marcell Ozuna</td><td>130</td></tr>",
                            "<tr><td>Chris Paddack</td><td>25</td></tr>",
                            "<tr><td>Daniel Palka</td><td>30</td></tr>",
                            "<tr><td>Joe Panik</td><td>142</td></tr>",
                            "<tr><td>Gerardo Parra</td><td>119</td></tr>",
                            "<tr><td>Steve Pearce</td><td>29</td></tr>",
                            "<tr><td>Joc Pederson</td><td>149</td></tr>",
                            "<tr><td>Dustin Pedroia</td><td>6</td></tr>",
                            "<tr><td>Hunter Pence</td><td>83</td></tr>",
                            "<tr><td>David Peralta</td><td>99</td></tr>",
                            "<tr><td>Freddy Peralta</td><td>37</td></tr>",
                            "<tr><td>Jose Peraza</td><td>141</td></tr>",
                            "<tr><td>Luis Perdomo</td><td>44</td></tr>",
                            "<tr><td>Hernan Perez</td><td>91</td></tr>",
                            "<tr><td>Michael Perez</td><td>22</td></tr>",
                            "<tr><td>Roberto Perez</td><td>119</td></tr>",
                            "<tr><td>Dustin Peterson</td><td>17</td></tr>",
                            "<tr><td>Jace Peterson</td><td>29</td></tr>",
                            "<tr><td>Tommy Pham</td><td>145</td></tr>",
                            "<tr><td>Josh Phegley</td><td>106</td></tr>",
                            "<tr><td>Brett Phillips</td><td>30</td></tr>",
                            "<tr><td>Kevin Pillar</td><td>161</td></tr>",
                            "<tr><td>Manny Pina</td><td>76</td></tr>",
                            "<tr><td>Chad Pinder</td><td>124</td></tr>",
                            "<tr><td>Jose Pirela</td><td>12</td></tr>",
                            "<tr><td>Stephen Piscotty</td><td>93</td></tr>",
                            "<tr><td>Nick Pivetta</td><td>29</td></tr>",
                            "<tr><td>Kevin Plawecki</td><td>59</td></tr>",
                            "<tr><td>Gregory Polanco</td><td>42</td></tr>",
                            "<tr><td>Jorge Polanco</td><td>153</td></tr>",
                            "<tr><td>A.J. Pollock</td><td>86</td></tr>",
                            "<tr><td>Buster Posey</td><td>114</td></tr>",
                            "<tr><td>Martin Prado</td><td>104</td></tr>",
                            "<tr><td>David Price</td><td>1</td></tr>",
                            "<tr><td>Jurickson Profar</td><td>139</td></tr>",
                            "<tr><td>Cesar Puello</td><td>44</td></tr>",
                            "<tr><td>Yasiel Puig</td><td>149</td></tr>",
                            "<tr><td>Albert Pujols</td><td>131</td></tr>",
                            "<tr><td>Cal Quantrill</td><td>21</td></tr>",
                            "<tr><td>Roman Quinn</td><td>44</td></tr>",
                            "<tr><td>Jose Quintana</td><td>31</td></tr>",
                            "<tr><td>Hanley Ramirez</td><td>16</td></tr>",
                            "<tr><td>Harold Ramirez</td><td>119</td></tr>",
                            "<tr><td>Jose Ramirez</td><td>129</td></tr>",
                            "<tr><td>Wilson Ramos</td><td>141</td></tr>",
                            "<tr><td>Rangel Ravelo</td><td>29</td></tr>",
                            "<tr><td>Robbie Ray</td><td>31</td></tr>",
                            "<tr><td>Raudy Read</td><td>6</td></tr>",
                            "<tr><td>J.T. Realmuto</td><td>145</td></tr>",
                            "<tr><td>Josh Reddick</td><td>141</td></tr>",
                            "<tr><td>AJ Reed</td><td>14</td></tr>",
                            "<tr><td>Anthony Rendon</td><td>146</td></tr>",
                            "<tr><td>Hunter Renfroe</td><td>140</td></tr>",
                            "<tr><td>Luis Rengifo</td><td>108</td></tr>",
                            "<tr><td>Franmil Reyes</td><td>150</td></tr>",
                            "<tr><td>Pablo Reyes</td><td>71</td></tr>",
                            "<tr><td>Victor Reyes</td><td>69</td></tr>",
                            "<tr><td>Bryan Reynolds</td><td>134</td></tr>",
                            "<tr><td>Mark Reynolds</td><td>78</td></tr>",
                            "<tr><td>Trevor Richards</td><td>22</td></tr>",
                            "<tr><td>Joey Rickard</td><td>68</td></tr>",
                            "<tr><td>JT Riddle</td><td>51</td></tr>",
                            "<tr><td>Austin Riley</td><td>80</td></tr>",
                            "<tr><td>Edwin Rios</td><td>28</td></tr>",
                            "<tr><td>Rene Rivera</td><td>9</td></tr>",
                            "<tr><td>Yadiel Rivera</td><td>34</td></tr>",
                            "<tr><td>Anthony Rizzo</td><td>146</td></tr>",
                            "<tr><td>Tanner Roark</td><td>19</td></tr>",
                            "<tr><td>Daniel Robertson</td><td>74</td></tr>",
                            "<tr><td>Drew Robinson</td><td>5</td></tr>",
                            "<tr><td>Victor Robles</td><td>155</td></tr>",
                            "<tr><td>Brendan Rodgers</td><td>25</td></tr>",
                            "<tr><td>Dereck Rodriguez</td><td>27</td></tr>",
                            "<tr><td>Ronny Rodriguez</td><td>84</td></tr>",
                            "<tr><td>Sean Rodriguez</td><td>76</td></tr>",
                            "<tr><td>Jake Rogers</td><td>35</td></tr>",
                            "<tr><td>Josh Rojas</td><td>41</td></tr>",
                            "<tr><td>Miguel Rojas</td><td>132</td></tr>",
                            "<tr><td>Austin Romine</td><td>72</td></tr>",
                            "<tr><td>Jose Rondon</td><td>55</td></tr>",
                            "<tr><td>Amed Rosario</td><td>157</td></tr>",
                            "<tr><td>Eddie Rosario</td><td>137</td></tr>",
                            "<tr><td>Joe Ross</td><td>28</td></tr>",
                            "<tr><td>Rio Ruiz</td><td>127</td></tr>",
                            "<tr><td>Addison Russell</td><td>82</td></tr>",
                            "<tr><td>Hyun-Jin Ryu</td><td>28</td></tr>",
                            "<tr><td>Tyler Saladino</td><td>28</td></tr>",
                            "<tr><td>Jeff Samardzija</td><td>29</td></tr>",
                            "<tr><td>Adrian Sanchez</td><td>28</td></tr>",
                            "<tr><td>Anibal Sanchez</td><td>27</td></tr>",
                            "<tr><td>Gary Sanchez</td><td>106</td></tr>",
                            "<tr><td>Yolmer Sanchez</td><td>149</td></tr>",
                            "<tr><td>Pablo Sandoval</td><td>108</td></tr>",
                            "<tr><td>Miguel Sano</td><td>105</td></tr>",
                            "<tr><td>Carlos Santana</td><td>158</td></tr>",
                            "<tr><td>Danny Santana</td><td>130</td></tr>",
                            "<tr><td>Dennis Santana</td><td>3</td></tr>",
                            "<tr><td>Domingo Santana</td><td>121</td></tr>",
                            "<tr><td>Anthony Santander</td><td>93</td></tr>",
                            "<tr><td>Scott Schebler</td><td>30</td></tr>",
                            "<tr><td>Max Scherzer</td><td>28</td></tr>",
                            "<tr><td>Jonathan Schoop</td><td>121</td></tr>",
                            "<tr><td>Kyle Schwarber</td><td>155</td></tr>",
                            "<tr><td>Frank Schwindel</td><td>6</td></tr>",
                            "<tr><td>Corey Seager</td><td>134</td></tr>",
                            "<tr><td>Kyle Seager</td><td>106</td></tr>",
                            "<tr><td>Jean Segura</td><td>144</td></tr>",
                            "<tr><td>Marcus Semien</td><td>162</td></tr>",
                            "<tr><td>Antonio Senzatela</td><td>24</td></tr>",
                            "<tr><td>Nick Senzel</td><td>104</td></tr>",
                            "<tr><td>Pedro Severino</td><td>96</td></tr>",
                            "<tr><td>Chris Shaw</td><td>16</td></tr>",
                            "<tr><td>Travis Shaw</td><td>86</td></tr>",
                            "<tr><td>JB Shuck</td><td>27</td></tr>",
                            "<tr><td>Magneuris Sierra</td><td>15</td></tr>",
                            "<tr><td>Andrelton Simmons</td><td>103</td></tr>",
                            "<tr><td>Lucas Sims</td><td>23</td></tr>",
                            "<tr><td>Chance Sisco</td><td>59</td></tr>",
                            "<tr><td>Matt Skole</td><td>27</td></tr>",
                            "<tr><td>Austin Slater</td><td>68</td></tr>",
                            "<tr><td>Caleb Smith</td><td>27</td></tr>",
                            "<tr><td>Dominic Smith</td><td>89</td></tr>",
                            "<tr><td>Dwight Smith Jr.</td><td>101</td></tr>",
                            "<tr><td>Kevan Smith</td><td>67</td></tr>",
                            "<tr><td>Mallex Smith</td><td>134</td></tr>",
                            "<tr><td>Will Smith</td><td>112</td></tr>",
                            "<tr><td>Justin Smoak</td><td>121</td></tr>",
                            "<tr><td>Eric Sogard</td><td>110</td></tr>",
                            "<tr><td>Nick Solak</td><td>33</td></tr>",
                            "<tr><td>Donovan Solano</td><td>81</td></tr>",
                            "<tr><td>Yangervis Solarte</td><td>28</td></tr>",
                            "<tr><td>Jorge Soler</td><td>162</td></tr>",
                            "<tr><td>Mike Soroka</td><td>27</td></tr>",
                            "<tr><td>Edmundo Sosa</td><td>8</td></tr>",
                            "<tr><td>Gregory Soto</td><td>1</td></tr>",
                            "<tr><td>Juan Soto</td><td>150</td></tr>",
                            "<tr><td>Cory Spangenberg</td><td>32</td></tr>",
                            "<tr><td>George Springer</td><td>122</td></tr>",
                            "<tr><td>Jacob Stallings</td><td>71</td></tr>",
                            "<tr><td>Eric Stamets</td><td>15</td></tr>",
                            "<tr><td>Giancarlo Stanton</td><td>18</td></tr>",
                            "<tr><td>Bubba Starling</td><td>56</td></tr>",
                            "<tr><td>Max Stassi</td><td>51</td></tr>",
                            "<tr><td>Andrew Stevenson</td><td>30</td></tr>",
                            "<tr><td>Brock Stewart</td><td>3</td></tr>",
                            "<tr><td>Christin Stewart</td><td>104</td></tr>",
                            "<tr><td>DJ Stewart</td><td>44</td></tr>",
                            "<tr><td>Trevor Story</td><td>145</td></tr>",
                            "<tr><td>Matt Strahm</td><td>45</td></tr>",
                            "<tr><td>Stephen Strasburg</td><td>33</td></tr>",
                            "<tr><td>Myles Straw</td><td>56</td></tr>",
                            "<tr><td>Ross Stripling</td><td>27</td></tr>",
                            "<tr><td>Marcus Stroman</td><td>11</td></tr>",
                            "<tr><td>Garrett Stubbs</td><td>19</td></tr>",
                            "<tr><td>Eugenio Suarez</td><td>159</td></tr>",
                            "<tr><td>Ranger Suarez</td><td>34</td></tr>",
                            "<tr><td>Jesus Sucre</td><td>20</td></tr>",
                            "<tr><td>Kurt Suzuki</td><td>85</td></tr>",
                            "<tr><td>Dansby Swanson</td><td>127</td></tr>",
                            "<tr><td>Blake Swihart</td><td>43</td></tr>",
                            "<tr><td>Noah Syndergaard</td><td>30</td></tr>",
                            "<tr><td>Jameson Taillon</td><td>6</td></tr>",
                            "<tr><td>Raimel Tapia</td><td>138</td></tr>",
                            "<tr><td>Fernando Tatis Jr.</td><td>84</td></tr>",
                            "<tr><td>Mike Tauchman</td><td>87</td></tr>",
                            "<tr><td>Beau Taylor</td><td>9</td></tr>",
                            "<tr><td>Chris Taylor</td><td>124</td></tr>",
                            "<tr><td>Michael A. Taylor</td><td>53</td></tr>",
                            "<tr><td>Tyrone Taylor</td><td>15</td></tr>",
                            "<tr><td>Julio Teheran</td><td>33</td></tr>",
                            "<tr><td>Rowdy Tellez</td><td>111</td></tr>",
                            "<tr><td>Matt Thaiss</td><td>53</td></tr>",
                            "<tr><td>Eric Thames</td><td>149</td></tr>",
                            "<tr><td>Lane Thomas</td><td>34</td></tr>",
                            "<tr><td>Trent Thornton</td><td>1</td></tr>",
                            "<tr><td>Charlie Tilson</td><td>54</td></tr>",
                            "<tr><td>Jesus Tinoco</td><td>23</td></tr>",
                            "<tr><td>Abraham Toro</td><td>25</td></tr>",
                            "<tr><td>Luis Torrens</td><td>7</td></tr>",
                            "<tr><td>Gleyber Torres</td><td>144</td></tr>",
                            "<tr><td>Ronald Torreyes</td><td>7</td></tr>",
                            "<tr><td>Wilfredo Tovar</td><td>31</td></tr>",
                            "<tr><td>Sam Travis</td><td>59</td></tr>",
                            "<tr><td>Jose Trevino</td><td>40</td></tr>",
                            "<tr><td>Mike Trout</td><td>134</td></tr>",
                            "<tr><td>Mark Trumbo</td><td>12</td></tr>",
                            "<tr><td>Cole Tucker</td><td>56</td></tr>",
                            "<tr><td>Kyle Tucker</td><td>22</td></tr>",
                            "<tr><td>Troy Tulowitzki</td><td>5</td></tr>",
                            "<tr><td>Justin Turner</td><td>135</td></tr>",
                            "<tr><td>Trea Turner</td><td>122</td></tr>",
                            "<tr><td>Justin Upton</td><td>63</td></tr>",
                            "<tr><td>Richard Urena</td><td>30</td></tr>",
                            "<tr><td>Julio Urias</td><td>35</td></tr>",
                            "<tr><td>Luis Urias</td><td>71</td></tr>",
                            "<tr><td>Gio Urshela</td><td>132</td></tr>",
                            "<tr><td>Pat Valaika</td><td>40</td></tr>",
                            "<tr><td>Breyvic Valera</td><td>17</td></tr>",
                            "<tr><td>Josh VanMeter</td><td>95</td></tr>",
                            "<tr><td>Ildemaro Vargas</td><td>92</td></tr>",
                            "<tr><td>Jason Vargas</td><td>27</td></tr>",
                            "<tr><td>Christian Vazquez</td><td>138</td></tr>",
                            "<tr><td>Vince Velasquez</td><td>33</td></tr>",
                            "<tr><td>Andrew Velazquez</td><td>15</td></tr>",
                            "<tr><td>Alex Verdugo</td><td>106</td></tr>",
                            "<tr><td>Jonathan Villar</td><td>162</td></tr>",
                            "<tr><td>Meibrys Viloria</td><td>42</td></tr>",
                            "<tr><td>Daniel Vogelbach</td><td>144</td></tr>",
                            "<tr><td>Stephen Vogt</td><td>99</td></tr>",
                            "<tr><td>Luke Voit</td><td>118</td></tr>",
                            "<tr><td>Austin Voth</td><td>7</td></tr>",
                            "<tr><td>Joey Votto</td><td>142</td></tr>",
                            "<tr><td>Michael Wacha</td><td>28</td></tr>",
                            "<tr><td>LaMonte Wade Jr</td><td>26</td></tr>",
                            "<tr><td>Tyler Wade</td><td>43</td></tr>",
                            "<tr><td>Adam Wainwright</td><td>29</td></tr>",
                            "<tr><td>Christian Walker</td><td>152</td></tr>",
                            "<tr><td>Neil Walker</td><td>115</td></tr>",
                            "<tr><td>Chad Wallach</td><td>19</td></tr>",
                            "<tr><td>Jared Walsh</td><td>31</td></tr>",
                            "<tr><td>Donovan Walton</td><td>7</td></tr>",
                            "<tr><td>Taylor Ward</td><td>20</td></tr>",
                            "<tr><td>Luke Weaver</td><td>13</td></tr>",
                            "<tr><td>Logan Webb</td><td>7</td></tr>",
                            "<tr><td>Joey Wendle</td><td>75</td></tr>",
                            "<tr><td>Zack Wheeler</td><td>28</td></tr>",
                            "<tr><td>Tyler White</td><td>83</td></tr>",
                            "<tr><td>Matt Wieters</td><td>67</td></tr>",
                            "<tr><td>Aaron Wilkerson</td><td>8</td></tr>",
                            "<tr><td>Stevie Wilkerson</td><td>117</td></tr>",
                            "<tr><td>Mason Williams</td><td>11</td></tr>",
                            "<tr><td>Nick Williams</td><td>67</td></tr>",
                            "<tr><td>Trevor Williams</td><td>23</td></tr>",
                            "<tr><td>Mac Williamson</td><td>40</td></tr>",
                            "<tr><td>Bobby Wilson</td><td>15</td></tr>",
                            "<tr><td>Bryse Wilson</td><td>6</td></tr>",
                            "<tr><td>Jesse Winker</td><td>113</td></tr>",
                            "<tr><td>Patrick Wisdom</td><td>9</td></tr>",
                            "<tr><td>Tony Wolters</td><td>121</td></tr>",
                            "<tr><td>Kean Wong</td><td>6</td></tr>",
                            "<tr><td>Kolten Wong</td><td>148</td></tr>",
                            "<tr><td>Alex Wood</td><td>7</td></tr>",
                            "<tr><td>Brandon Woodruff</td><td>25</td></tr>",
                            "<tr><td>Austin Wynns</td><td>28</td></tr>",
                            "<tr><td>Jordan Yamamoto</td><td>16</td></tr>",
                            "<tr><td>Mike Yastrzemski</td><td>107</td></tr>",
                            "<tr><td>Christian Yelich</td><td>130</td></tr>",
                            "<tr><td>Alex Young</td><td>16</td></tr>",
                            "<tr><td>Mark Zagunis</td><td>30</td></tr>",
                            "<tr><td>Seby Zavala</td><td>5</td></tr>",
                            "<tr><td>Ryan Zimmerman</td><td>52</td></tr>",
                            "<tr><td>Ben Zobrist</td><td>47</td></tr>",
                            "<tr><td>Mike Zunino</td><td>90</td></tr>",
                            "</table>"
                        ]
                    }
                }
            ],
            "execution_count": 5
        },
        {
            "cell_type": "code",
            "source": [
                "-- List the names and total hits for players who have scored more than 100 runs:\n",
                "SELECT Name, SUM(Hits) AS TotalHits\n",
                "FROM baseball\n",
                "WHERE Runs > 100\n",
                "GROUP BY Name;\n",
                ""
            ],
            "metadata": {
                "azdata_cell_guid": "e02d1c54-e72d-43d2-847f-e380f0425b22",
                "language": "sql"
            },
            "outputs": [
                {
                    "output_type": "display_data",
                    "data": {
                        "text/html": "(27 row(s) affected)"
                    },
                    "metadata": {}
                },
                {
                    "output_type": "display_data",
                    "data": {
                        "text/html": "Total execution time: 00:00:01.007"
                    },
                    "metadata": {}
                },
                {
                    "output_type": "execute_result",
                    "metadata": {},
                    "execution_count": 6,
                    "data": {
                        "application/vnd.dataresource+json": {
                            "schema": {
                                "fields": [
                                    {
                                        "name": "Name"
                                    },
                                    {
                                        "name": "TotalHits"
                                    }
                                ]
                            },
                            "data": [
                                {
                                    "Name": "Ronald Acuna Jr.",
                                    "TotalHits": "175"
                                },
                                {
                                    "Name": "Ozzie Albies",
                                    "TotalHits": "189"
                                },
                                {
                                    "Name": "Pete Alonso",
                                    "TotalHits": "155"
                                },
                                {
                                    "Name": "Nolan Arenado",
                                    "TotalHits": "185"
                                },
                                {
                                    "Name": "Cody Bellinger",
                                    "TotalHits": "170"
                                },
                                {
                                    "Name": "Mookie Betts",
                                    "TotalHits": "176"
                                },
                                {
                                    "Name": "Charlie Blackmon",
                                    "TotalHits": "182"
                                },
                                {
                                    "Name": "Xander Bogaerts",
                                    "TotalHits": "190"
                                },
                                {
                                    "Name": "Alex Bregman",
                                    "TotalHits": "164"
                                },
                                {
                                    "Name": "Kris Bryant",
                                    "TotalHits": "153"
                                },
                                {
                                    "Name": "Matt Chapman",
                                    "TotalHits": "145"
                                },
                                {
                                    "Name": "Rafael Devers",
                                    "TotalHits": "201"
                                },
                                {
                                    "Name": "Adam Eaton",
                                    "TotalHits": "158"
                                },
                                {
                                    "Name": "Freddie Freeman",
                                    "TotalHits": "176"
                                },
                                {
                                    "Name": "DJ LeMahieu",
                                    "TotalHits": "197"
                                },
                                {
                                    "Name": "Francisco Lindor",
                                    "TotalHits": "170"
                                },
                                {
                                    "Name": "Trey Mancini",
                                    "TotalHits": "175"
                                },
                                {
                                    "Name": "Whit Merrifield",
                                    "TotalHits": "206"
                                },
                                {
                                    "Name": "Max Muncy",
                                    "TotalHits": "122"
                                },
                                {
                                    "Name": "Jorge Polanco",
                                    "TotalHits": "186"
                                },
                                {
                                    "Name": "Anthony Rendon",
                                    "TotalHits": "174"
                                },
                                {
                                    "Name": "Carlos Santana",
                                    "TotalHits": "161"
                                },
                                {
                                    "Name": "Marcus Semien",
                                    "TotalHits": "187"
                                },
                                {
                                    "Name": "Juan Soto",
                                    "TotalHits": "153"
                                },
                                {
                                    "Name": "Trevor Story",
                                    "TotalHits": "173"
                                },
                                {
                                    "Name": "Mike Trout",
                                    "TotalHits": "137"
                                },
                                {
                                    "Name": "Jonathan Villar",
                                    "TotalHits": "176"
                                }
                            ]
                        },
                        "text/html": [
                            "<table>",
                            "<tr><th>Name</th><th>TotalHits</th></tr>",
                            "<tr><td>Ronald Acuna Jr.</td><td>175</td></tr>",
                            "<tr><td>Ozzie Albies</td><td>189</td></tr>",
                            "<tr><td>Pete Alonso</td><td>155</td></tr>",
                            "<tr><td>Nolan Arenado</td><td>185</td></tr>",
                            "<tr><td>Cody Bellinger</td><td>170</td></tr>",
                            "<tr><td>Mookie Betts</td><td>176</td></tr>",
                            "<tr><td>Charlie Blackmon</td><td>182</td></tr>",
                            "<tr><td>Xander Bogaerts</td><td>190</td></tr>",
                            "<tr><td>Alex Bregman</td><td>164</td></tr>",
                            "<tr><td>Kris Bryant</td><td>153</td></tr>",
                            "<tr><td>Matt Chapman</td><td>145</td></tr>",
                            "<tr><td>Rafael Devers</td><td>201</td></tr>",
                            "<tr><td>Adam Eaton</td><td>158</td></tr>",
                            "<tr><td>Freddie Freeman</td><td>176</td></tr>",
                            "<tr><td>DJ LeMahieu</td><td>197</td></tr>",
                            "<tr><td>Francisco Lindor</td><td>170</td></tr>",
                            "<tr><td>Trey Mancini</td><td>175</td></tr>",
                            "<tr><td>Whit Merrifield</td><td>206</td></tr>",
                            "<tr><td>Max Muncy</td><td>122</td></tr>",
                            "<tr><td>Jorge Polanco</td><td>186</td></tr>",
                            "<tr><td>Anthony Rendon</td><td>174</td></tr>",
                            "<tr><td>Carlos Santana</td><td>161</td></tr>",
                            "<tr><td>Marcus Semien</td><td>187</td></tr>",
                            "<tr><td>Juan Soto</td><td>153</td></tr>",
                            "<tr><td>Trevor Story</td><td>173</td></tr>",
                            "<tr><td>Mike Trout</td><td>137</td></tr>",
                            "<tr><td>Jonathan Villar</td><td>176</td></tr>",
                            "</table>"
                        ]
                    }
                }
            ],
            "execution_count": 6
        },
        {
            "cell_type": "code",
            "source": [
                "-- Display the player with the highest number of home runs:\n",
                "SELECT Name, MAX(Homers) AS MaxHomeRuns\n",
                "FROM baseball\n",
                "GROUP by Name;"
            ],
            "metadata": {
                "azdata_cell_guid": "d806909d-3615-4704-9175-517b085e619f",
                "language": "sql"
            },
            "outputs": [
                {
                    "output_type": "display_data",
                    "data": {
                        "text/html": "(768 row(s) affected)"
                    },
                    "metadata": {}
                },
                {
                    "output_type": "display_data",
                    "data": {
                        "text/html": "Total execution time: 00:00:01.010"
                    },
                    "metadata": {}
                },
                {
                    "output_type": "execute_result",
                    "metadata": {},
                    "execution_count": 9,
                    "data": {
                        "application/vnd.dataresource+json": {
                            "schema": {
                                "fields": [
                                    {
                                        "name": "Name"
                                    },
                                    {
                                        "name": "MaxHomeRuns"
                                    }
                                ]
                            },
                            "data": [
                                {
                                    "Name": "José Abreu",
                                    "MaxHomeRuns": "33"
                                },
                                {
                                    "Name": "Ronald Acuna Jr.",
                                    "MaxHomeRuns": "41"
                                },
                                {
                                    "Name": "Cristhian Adames",
                                    "MaxHomeRuns": "0"
                                },
                                {
                                    "Name": "Willy Adames",
                                    "MaxHomeRuns": "20"
                                },
                                {
                                    "Name": "Matt Adams",
                                    "MaxHomeRuns": "20"
                                },
                                {
                                    "Name": "Ehire Adrianza",
                                    "MaxHomeRuns": "5"
                                },
                                {
                                    "Name": "Dario Agrazal",
                                    "MaxHomeRuns": "0"
                                },
                                {
                                    "Name": "Jesus Aguilar",
                                    "MaxHomeRuns": "8"
                                },
                                {
                                    "Name": "Nick Ahmed",
                                    "MaxHomeRuns": "19"
                                },
                                {
                                    "Name": "R.J. Alaniz",
                                    "MaxHomeRuns": "0"
                                },
                                {
                                    "Name": "Hanser Alberto",
                                    "MaxHomeRuns": "12"
                                },
                                {
                                    "Name": "Ozzie Albies",
                                    "MaxHomeRuns": "24"
                                },
                                {
                                    "Name": "Sandy Alcantara",
                                    "MaxHomeRuns": "0"
                                },
                                {
                                    "Name": "Jorge Alfaro",
                                    "MaxHomeRuns": "18"
                                },
                                {
                                    "Name": "Anthony Alford",
                                    "MaxHomeRuns": "1"
                                },
                                {
                                    "Name": "Austin Allen",
                                    "MaxHomeRuns": "0"
                                },
                                {
                                    "Name": "Greg Allen",
                                    "MaxHomeRuns": "4"
                                },
                                {
                                    "Name": "Logan Allen",
                                    "MaxHomeRuns": "0"
                                },
                                {
                                    "Name": "Abraham Almonte",
                                    "MaxHomeRuns": "1"
                                },
                                {
                                    "Name": "Albert Almora",
                                    "MaxHomeRuns": "12"
                                },
                                {
                                    "Name": "Pete Alonso",
                                    "MaxHomeRuns": "53"
                                },
                                {
                                    "Name": "Yonder Alonso",
                                    "MaxHomeRuns": "7"
                                },
                                {
                                    "Name": "Aaron Altherr",
                                    "MaxHomeRuns": "1"
                                },
                                {
                                    "Name": "Jose Altuve",
                                    "MaxHomeRuns": "31"
                                },
                                {
                                    "Name": "Yordan Álvarez",
                                    "MaxHomeRuns": "27"
                                },
                                {
                                    "Name": "Brett Anderson",
                                    "MaxHomeRuns": "0"
                                },
                                {
                                    "Name": "Brian Anderson",
                                    "MaxHomeRuns": "20"
                                },
                                {
                                    "Name": "Chase Anderson",
                                    "MaxHomeRuns": "0"
                                },
                                {
                                    "Name": "Shaun Anderson",
                                    "MaxHomeRuns": "0"
                                },
                                {
                                    "Name": "Tim Anderson",
                                    "MaxHomeRuns": "18"
                                },
                                {
                                    "Name": "Tyler Anderson",
                                    "MaxHomeRuns": "0"
                                },
                                {
                                    "Name": "Elvis Andrus",
                                    "MaxHomeRuns": "12"
                                },
                                {
                                    "Name": "Miguel Andujar",
                                    "MaxHomeRuns": "0"
                                },
                                {
                                    "Name": "Aristides Aquino",
                                    "MaxHomeRuns": "19"
                                },
                                {
                                    "Name": "Chris Archer",
                                    "MaxHomeRuns": "0"
                                },
                                {
                                    "Name": "Orlando Arcia",
                                    "MaxHomeRuns": "15"
                                },
                                {
                                    "Name": "Nolan Arenado",
                                    "MaxHomeRuns": "41"
                                },
                                {
                                    "Name": "Randy Arozarena",
                                    "MaxHomeRuns": "1"
                                },
                                {
                                    "Name": "Luis Arraez",
                                    "MaxHomeRuns": "4"
                                },
                                {
                                    "Name": "Jake Arrieta",
                                    "MaxHomeRuns": "0"
                                },
                                {
                                    "Name": "Christian Arroyo",
                                    "MaxHomeRuns": "2"
                                },
                                {
                                    "Name": "Humberto Arteaga",
                                    "MaxHomeRuns": "0"
                                },
                                {
                                    "Name": "Willians Astudillo",
                                    "MaxHomeRuns": "4"
                                },
                                {
                                    "Name": "Tyler Austin",
                                    "MaxHomeRuns": "8"
                                },
                                {
                                    "Name": "Abiatal Avelino",
                                    "MaxHomeRuns": "0"
                                },
                                {
                                    "Name": "Alex Avila",
                                    "MaxHomeRuns": "9"
                                },
                                {
                                    "Name": "Harrison Bader",
                                    "MaxHomeRuns": "12"
                                },
                                {
                                    "Name": "Javier Baez",
                                    "MaxHomeRuns": "29"
                                },
                                {
                                    "Name": "Homer Bailey",
                                    "MaxHomeRuns": "0"
                                },
                                {
                                    "Name": "Austin Barnes",
                                    "MaxHomeRuns": "5"
                                },
                                {
                                    "Name": "Tucker Barnhart",
                                    "MaxHomeRuns": "11"
                                },
                                {
                                    "Name": "Steven Baron",
                                    "MaxHomeRuns": "0"
                                },
                                {
                                    "Name": "Franklin Barreto",
                                    "MaxHomeRuns": "2"
                                },
                                {
                                    "Name": "Trevor Bauer",
                                    "MaxHomeRuns": "0"
                                },
                                {
                                    "Name": "Jake Bauers",
                                    "MaxHomeRuns": "12"
                                },
                                {
                                    "Name": "Matt Beaty",
                                    "MaxHomeRuns": "9"
                                },
                                {
                                    "Name": "Gordon Beckham",
                                    "MaxHomeRuns": "6"
                                },
                                {
                                    "Name": "Tim Beckham",
                                    "MaxHomeRuns": "15"
                                },
                                {
                                    "Name": "Tyler Beede",
                                    "MaxHomeRuns": "0"
                                },
                                {
                                    "Name": "Josh Bell",
                                    "MaxHomeRuns": "37"
                                },
                                {
                                    "Name": "Cody Bellinger",
                                    "MaxHomeRuns": "47"
                                },
                                {
                                    "Name": "Brandon Belt",
                                    "MaxHomeRuns": "17"
                                },
                                {
                                    "Name": "Anthony Bemboom",
                                    "MaxHomeRuns": "1"
                                },
                                {
                                    "Name": "Andrew Benintendi",
                                    "MaxHomeRuns": "13"
                                },
                                {
                                    "Name": "Jon Berti",
                                    "MaxHomeRuns": "6"
                                },
                                {
                                    "Name": "Mookie Betts",
                                    "MaxHomeRuns": "29"
                                },
                                {
                                    "Name": "Bo Bichette",
                                    "MaxHomeRuns": "11"
                                },
                                {
                                    "Name": "Cavan Biggio",
                                    "MaxHomeRuns": "16"
                                },
                                {
                                    "Name": "Greg Bird",
                                    "MaxHomeRuns": "1"
                                },
                                {
                                    "Name": "Braden Bishop",
                                    "MaxHomeRuns": "0"
                                },
                                {
                                    "Name": "Charlie Blackmon",
                                    "MaxHomeRuns": "32"
                                },
                                {
                                    "Name": "Alex Blandino",
                                    "MaxHomeRuns": "1"
                                },
                                {
                                    "Name": "Xander Bogaerts",
                                    "MaxHomeRuns": "33"
                                },
                                {
                                    "Name": "Skye Bolt",
                                    "MaxHomeRuns": "0"
                                },
                                {
                                    "Name": "Jorge Bonifacio",
                                    "MaxHomeRuns": "0"
                                },
                                {
                                    "Name": "David Bote",
                                    "MaxHomeRuns": "11"
                                },
                                {
                                    "Name": "Justin Bour",
                                    "MaxHomeRuns": "8"
                                },
                                {
                                    "Name": "Peter Bourjos",
                                    "MaxHomeRuns": "0"
                                },
                                {
                                    "Name": "Matthew Boyd",
                                    "MaxHomeRuns": "0"
                                },
                                {
                                    "Name": "Brad Brach",
                                    "MaxHomeRuns": "0"
                                },
                                {
                                    "Name": "Bobby Bradley",
                                    "MaxHomeRuns": "1"
                                },
                                {
                                    "Name": "Jackie Bradley Jr.",
                                    "MaxHomeRuns": "21"
                                },
                                {
                                    "Name": "Michael Brantley",
                                    "MaxHomeRuns": "22"
                                },
                                {
                                    "Name": "Steven Brault",
                                    "MaxHomeRuns": "1"
                                },
                                {
                                    "Name": "Ryan Braun",
                                    "MaxHomeRuns": "22"
                                },
                                {
                                    "Name": "John Brebbia",
                                    "MaxHomeRuns": "0"
                                },
                                {
                                    "Name": "Alex Bregman",
                                    "MaxHomeRuns": "41"
                                },
                                {
                                    "Name": "Lewis Brinson",
                                    "MaxHomeRuns": "0"
                                },
                                {
                                    "Name": "Socrates Brito",
                                    "MaxHomeRuns": "0"
                                },
                                {
                                    "Name": "Mike Brosseau",
                                    "MaxHomeRuns": "6"
                                },
                                {
                                    "Name": "Seth Brown",
                                    "MaxHomeRuns": "0"
                                },
                                {
                                    "Name": "Keon Broxton",
                                    "MaxHomeRuns": "4"
                                },
                                {
                                    "Name": "Jay Bruce",
                                    "MaxHomeRuns": "14"
                                },
                                {
                                    "Name": "Kris Bryant",
                                    "MaxHomeRuns": "31"
                                },
                                {
                                    "Name": "Walker Buehler",
                                    "MaxHomeRuns": "1"
                                },
                                {
                                    "Name": "Madison Bumgarner",
                                    "MaxHomeRuns": "2"
                                },
                                {
                                    "Name": "Corbin Burnes",
                                    "MaxHomeRuns": "0"
                                },
                                {
                                    "Name": "Drew Butera",
                                    "MaxHomeRuns": "0"
                                },
                                {
                                    "Name": "Byron Buxton",
                                    "MaxHomeRuns": "10"
                                },
                                {
                                    "Name": "Asdrubal Cabrera",
                                    "MaxHomeRuns": "12"
                                },
                                {
                                    "Name": "Melky Cabrera",
                                    "MaxHomeRuns": "7"
                                },
                                {
                                    "Name": "Miguel Cabrera",
                                    "MaxHomeRuns": "12"
                                },
                                {
                                    "Name": "Trevor Cahill",
                                    "MaxHomeRuns": "0"
                                },
                                {
                                    "Name": "Lorenzo Cain",
                                    "MaxHomeRuns": "11"
                                },
                                {
                                    "Name": "Kole Calhoun",
                                    "MaxHomeRuns": "33"
                                },
                                {
                                    "Name": "Willie Calhoun",
                                    "MaxHomeRuns": "21"
                                },
                                {
                                    "Name": "Johan Camargo",
                                    "MaxHomeRuns": "7"
                                },
                                {
                                    "Name": "Jeimer Candelario",
                                    "MaxHomeRuns": "8"
                                },
                                {
                                    "Name": "Mark Canha",
                                    "MaxHomeRuns": "26"
                                },
                                {
                                    "Name": "Robinson Cano",
                                    "MaxHomeRuns": "13"
                                },
                                {
                                    "Name": "Victor Caratini",
                                    "MaxHomeRuns": "11"
                                },
                                {
                                    "Name": "Matt Carpenter",
                                    "MaxHomeRuns": "15"
                                },
                                {
                                    "Name": "Curt Casali",
                                    "MaxHomeRuns": "8"
                                },
                                {
                                    "Name": "Nicholas Castellanos",
                                    "MaxHomeRuns": "16"
                                },
                                {
                                    "Name": "Luis Castillo",
                                    "MaxHomeRuns": "0"
                                },
                                {
                                    "Name": "Welington Castillo",
                                    "MaxHomeRuns": "12"
                                },
                                {
                                    "Name": "Wilkin Castillo",
                                    "MaxHomeRuns": "0"
                                },
                                {
                                    "Name": "Harold Castro",
                                    "MaxHomeRuns": "5"
                                },
                                {
                                    "Name": "Jason Castro",
                                    "MaxHomeRuns": "13"
                                },
                                {
                                    "Name": "Starlin Castro",
                                    "MaxHomeRuns": "22"
                                },
                                {
                                    "Name": "Willi Castro",
                                    "MaxHomeRuns": "1"
                                },
                                {
                                    "Name": "Jake Cave",
                                    "MaxHomeRuns": "8"
                                },
                                {
                                    "Name": "Juan Centeno",
                                    "MaxHomeRuns": "0"
                                },
                                {
                                    "Name": "Francisco Cervelli",
                                    "MaxHomeRuns": "2"
                                },
                                {
                                    "Name": "Jhoulys Chacin",
                                    "MaxHomeRuns": "1"
                                },
                                {
                                    "Name": "Yu Chang",
                                    "MaxHomeRuns": "1"
                                },
                                {
                                    "Name": "Matt Chapman",
                                    "MaxHomeRuns": "36"
                                },
                                {
                                    "Name": "Tyler Chatwood",
                                    "MaxHomeRuns": "0"
                                },
                                {
                                    "Name": "Jesse Chavez",
                                    "MaxHomeRuns": "0"
                                },
                                {
                                    "Name": "Michael Chavis",
                                    "MaxHomeRuns": "18"
                                },
                                {
                                    "Name": "Robinson Chirinos",
                                    "MaxHomeRuns": "17"
                                },
                                {
                                    "Name": "Ji-Man Choi",
                                    "MaxHomeRuns": "19"
                                },
                                {
                                    "Name": "Shin-Soo Choo",
                                    "MaxHomeRuns": "24"
                                },
                                {
                                    "Name": "Nick Ciuffo",
                                    "MaxHomeRuns": "0"
                                },
                                {
                                    "Name": "Taylor Clarke",
                                    "MaxHomeRuns": "1"
                                },
                                {
                                    "Name": "Zack Collins",
                                    "MaxHomeRuns": "3"
                                },
                                {
                                    "Name": "Christian Colon",
                                    "MaxHomeRuns": "0"
                                },
                                {
                                    "Name": "Michael Conforto",
                                    "MaxHomeRuns": "33"
                                },
                                {
                                    "Name": "Willson Contreras",
                                    "MaxHomeRuns": "24"
                                },
                                {
                                    "Name": "Garrett Cooper",
                                    "MaxHomeRuns": "15"
                                },
                                {
                                    "Name": "Patrick Corbin",
                                    "MaxHomeRuns": "0"
                                },
                                {
                                    "Name": "Ryan Cordell",
                                    "MaxHomeRuns": "7"
                                },
                                {
                                    "Name": "Franchy Cordero",
                                    "MaxHomeRuns": "0"
                                },
                                {
                                    "Name": "Carlos Correa",
                                    "MaxHomeRuns": "21"
                                },
                                {
                                    "Name": "Ryan Court",
                                    "MaxHomeRuns": "1"
                                },
                                {
                                    "Name": "Kaleb Cowart",
                                    "MaxHomeRuns": "0"
                                },
                                {
                                    "Name": "Zack Cozart",
                                    "MaxHomeRuns": "0"
                                },
                                {
                                    "Name": "Brandon Crawford",
                                    "MaxHomeRuns": "11"
                                },
                                {
                                    "Name": "J.P. Crawford",
                                    "MaxHomeRuns": "7"
                                },
                                {
                                    "Name": "C.J. Cron",
                                    "MaxHomeRuns": "25"
                                },
                                {
                                    "Name": "Kevin Cron",
                                    "MaxHomeRuns": "6"
                                },
                                {
                                    "Name": "Nelson Cruz",
                                    "MaxHomeRuns": "41"
                                },
                                {
                                    "Name": "Charlie Culberson",
                                    "MaxHomeRuns": "5"
                                },
                                {
                                    "Name": "Cheslor Cuthbert",
                                    "MaxHomeRuns": "9"
                                },
                                {
                                    "Name": "Travis d'Arnaud",
                                    "MaxHomeRuns": "16"
                                },
                                {
                                    "Name": "David Dahl",
                                    "MaxHomeRuns": "15"
                                },
                                {
                                    "Name": "Yu Darvish",
                                    "MaxHomeRuns": "0"
                                },
                                {
                                    "Name": "Zach Davies",
                                    "MaxHomeRuns": "0"
                                },
                                {
                                    "Name": "Chris Davis",
                                    "MaxHomeRuns": "12"
                                },
                                {
                                    "Name": "J.D. Davis",
                                    "MaxHomeRuns": "22"
                                },
                                {
                                    "Name": "Jaylin Davis",
                                    "MaxHomeRuns": "1"
                                },
                                {
                                    "Name": "Johnny Davis",
                                    "MaxHomeRuns": "0"
                                },
                                {
                                    "Name": "Jonathan Davis",
                                    "MaxHomeRuns": "2"
                                },
                                {
                                    "Name": "Khris Davis",
                                    "MaxHomeRuns": "23"
                                },
                                {
                                    "Name": "Rajai Davis",
                                    "MaxHomeRuns": "1"
                                },
                                {
                                    "Name": "Taylor Davis",
                                    "MaxHomeRuns": "1"
                                },
                                {
                                    "Name": "Yonathan Daza",
                                    "MaxHomeRuns": "0"
                                },
                                {
                                    "Name": "Austin Dean",
                                    "MaxHomeRuns": "6"
                                },
                                {
                                    "Name": "Jacob deGrom",
                                    "MaxHomeRuns": "2"
                                },
                                {
                                    "Name": "Paul DeJong",
                                    "MaxHomeRuns": "30"
                                },
                                {
                                    "Name": "Nicky Delmonico",
                                    "MaxHomeRuns": "1"
                                },
                                {
                                    "Name": "Travis Demeritte",
                                    "MaxHomeRuns": "3"
                                },
                                {
                                    "Name": "Daniel Descalso",
                                    "MaxHomeRuns": "2"
                                },
                                {
                                    "Name": "Anthony DeSclafani",
                                    "MaxHomeRuns": "0"
                                },
                                {
                                    "Name": "Delino DeShields",
                                    "MaxHomeRuns": "4"
                                },
                                {
                                    "Name": "Ian Desmond",
                                    "MaxHomeRuns": "20"
                                },
                                {
                                    "Name": "Rafael Devers",
                                    "MaxHomeRuns": "32"
                                },
                                {
                                    "Name": "Aledmys Díaz",
                                    "MaxHomeRuns": "9"
                                },
                                {
                                    "Name": "Elias Diaz",
                                    "MaxHomeRuns": "2"
                                },
                                {
                                    "Name": "Isan Diaz",
                                    "MaxHomeRuns": "5"
                                },
                                {
                                    "Name": "Yandy Díaz",
                                    "MaxHomeRuns": "14"
                                },
                                {
                                    "Name": "Alex Dickerson",
                                    "MaxHomeRuns": "6"
                                },
                                {
                                    "Name": "Corey Dickerson",
                                    "MaxHomeRuns": "8"
                                },
                                {
                                    "Name": "Derek Dietrich",
                                    "MaxHomeRuns": "19"
                                },
                                {
                                    "Name": "Wilmer Difo",
                                    "MaxHomeRuns": "2"
                                },
                                {
                                    "Name": "Nick Dini",
                                    "MaxHomeRuns": "2"
                                },
                                {
                                    "Name": "Brandon Dixon",
                                    "MaxHomeRuns": "15"
                                },
                                {
                                    "Name": "Josh Donaldson",
                                    "MaxHomeRuns": "37"
                                },
                                {
                                    "Name": "Brian Dozier",
                                    "MaxHomeRuns": "20"
                                },
                                {
                                    "Name": "Hunter Dozier",
                                    "MaxHomeRuns": "26"
                                },
                                {
                                    "Name": "Oliver Drake",
                                    "MaxHomeRuns": "0"
                                },
                                {
                                    "Name": "Brandon Drury",
                                    "MaxHomeRuns": "15"
                                },
                                {
                                    "Name": "Mauricio Dubon",
                                    "MaxHomeRuns": "4"
                                },
                                {
                                    "Name": "Lucas Duda",
                                    "MaxHomeRuns": "4"
                                },
                                {
                                    "Name": "Danny Duffy",
                                    "MaxHomeRuns": "0"
                                },
                                {
                                    "Name": "Matt Duffy",
                                    "MaxHomeRuns": "1"
                                },
                                {
                                    "Name": "Steven Duggar",
                                    "MaxHomeRuns": "4"
                                },
                                {
                                    "Name": "Jon Duplantier",
                                    "MaxHomeRuns": "0"
                                },
                                {
                                    "Name": "Montana DuRapau",
                                    "MaxHomeRuns": "0"
                                },
                                {
                                    "Name": "Adam Duvall",
                                    "MaxHomeRuns": "10"
                                },
                                {
                                    "Name": "Jarrod Dyson",
                                    "MaxHomeRuns": "7"
                                },
                                {
                                    "Name": "Adam Eaton",
                                    "MaxHomeRuns": "15"
                                },
                                {
                                    "Name": "Tommy Edman",
                                    "MaxHomeRuns": "11"
                                },
                                {
                                    "Name": "Zach Eflin",
                                    "MaxHomeRuns": "0"
                                },
                                {
                                    "Name": "Jake Elmore",
                                    "MaxHomeRuns": "0"
                                },
                                {
                                    "Name": "Edwin Encarnacion",
                                    "MaxHomeRuns": "21"
                                },
                                {
                                    "Name": "Adam Engel",
                                    "MaxHomeRuns": "6"
                                },
                                {
                                    "Name": "Phil Ervin",
                                    "MaxHomeRuns": "7"
                                },
                                {
                                    "Name": "Eduardo Escobar",
                                    "MaxHomeRuns": "35"
                                },
                                {
                                    "Name": "Thairo Estrada",
                                    "MaxHomeRuns": "3"
                                },
                                {
                                    "Name": "Kyle Farmer",
                                    "MaxHomeRuns": "9"
                                },
                                {
                                    "Name": "Erick Fedde",
                                    "MaxHomeRuns": "0"
                                },
                                {
                                    "Name": "Tim Federowicz",
                                    "MaxHomeRuns": "4"
                                },
                                {
                                    "Name": "Caleb Ferguson",
                                    "MaxHomeRuns": "0"
                                },
                                {
                                    "Name": "Derek Fisher",
                                    "MaxHomeRuns": "6"
                                },
                                {
                                    "Name": "Jack Flaherty",
                                    "MaxHomeRuns": "0"
                                },
                                {
                                    "Name": "Ryan Flaherty",
                                    "MaxHomeRuns": "0"
                                },
                                {
                                    "Name": "David Fletcher",
                                    "MaxHomeRuns": "6"
                                },
                                {
                                    "Name": "Chris Flexen",
                                    "MaxHomeRuns": "0"
                                },
                                {
                                    "Name": "Wilmer Flores",
                                    "MaxHomeRuns": "9"
                                },
                                {
                                    "Name": "Tyler Flowers",
                                    "MaxHomeRuns": "11"
                                },
                                {
                                    "Name": "Mike Foltynewicz",
                                    "MaxHomeRuns": "0"
                                },
                                {
                                    "Name": "Wilmer Font",
                                    "MaxHomeRuns": "0"
                                },
                                {
                                    "Name": "Mike Ford",
                                    "MaxHomeRuns": "12"
                                },
                                {
                                    "Name": "Logan Forsythe",
                                    "MaxHomeRuns": "7"
                                },
                                {
                                    "Name": "Dexter Fowler",
                                    "MaxHomeRuns": "19"
                                },
                                {
                                    "Name": "Jake Fraley",
                                    "MaxHomeRuns": "0"
                                },
                                {
                                    "Name": "Ty France",
                                    "MaxHomeRuns": "7"
                                },
                                {
                                    "Name": "Maikel Franco",
                                    "MaxHomeRuns": "17"
                                },
                                {
                                    "Name": "Adam Frazier",
                                    "MaxHomeRuns": "10"
                                },
                                {
                                    "Name": "Clint Frazier",
                                    "MaxHomeRuns": "12"
                                },
                                {
                                    "Name": "Todd Frazier",
                                    "MaxHomeRuns": "21"
                                },
                                {
                                    "Name": "Kyle Freeland",
                                    "MaxHomeRuns": "0"
                                },
                                {
                                    "Name": "Freddie Freeman",
                                    "MaxHomeRuns": "38"
                                },
                                {
                                    "Name": "Mike Freeman",
                                    "MaxHomeRuns": "4"
                                },
                                {
                                    "Name": "David Freese",
                                    "MaxHomeRuns": "11"
                                },
                                {
                                    "Name": "David Freitas",
                                    "MaxHomeRuns": "0"
                                },
                                {
                                    "Name": "Max Fried",
                                    "MaxHomeRuns": "0"
                                },
                                {
                                    "Name": "Josh Fuentes",
                                    "MaxHomeRuns": "3"
                                },
                                {
                                    "Name": "Drew Gagnon",
                                    "MaxHomeRuns": "0"
                                },
                                {
                                    "Name": "Rocky Gale",
                                    "MaxHomeRuns": "0"
                                },
                                {
                                    "Name": "Cam Gallagher",
                                    "MaxHomeRuns": "3"
                                },
                                {
                                    "Name": "Zac Gallen",
                                    "MaxHomeRuns": "0"
                                },
                                {
                                    "Name": "Joey Gallo",
                                    "MaxHomeRuns": "22"
                                },
                                {
                                    "Name": "Isaac Galloway",
                                    "MaxHomeRuns": "0"
                                },
                                {
                                    "Name": "Freddy Galvis",
                                    "MaxHomeRuns": "18"
                                },
                                {
                                    "Name": "Ben Gamel",
                                    "MaxHomeRuns": "7"
                                },
                                {
                                    "Name": "Aramis Garcia",
                                    "MaxHomeRuns": "2"
                                },
                                {
                                    "Name": "Avisail Garcia",
                                    "MaxHomeRuns": "20"
                                },
                                {
                                    "Name": "Greg Garcia",
                                    "MaxHomeRuns": "4"
                                },
                                {
                                    "Name": "Leury Garcia",
                                    "MaxHomeRuns": "8"
                                },
                                {
                                    "Name": "Robel Garcia",
                                    "MaxHomeRuns": "5"
                                },
                                {
                                    "Name": "Brett Gardner",
                                    "MaxHomeRuns": "28"
                                },
                                {
                                    "Name": "Kyle Garlick",
                                    "MaxHomeRuns": "3"
                                },
                                {
                                    "Name": "Dustin Garneau",
                                    "MaxHomeRuns": "2"
                                },
                                {
                                    "Name": "Mitch Garver",
                                    "MaxHomeRuns": "31"
                                },
                                {
                                    "Name": "Kevin Gausman",
                                    "MaxHomeRuns": "0"
                                },
                                {
                                    "Name": "Scooter Gennett",
                                    "MaxHomeRuns": "2"
                                },
                                {
                                    "Name": "Mike Gerber",
                                    "MaxHomeRuns": "0"
                                },
                                {
                                    "Name": "Lucas Giolito",
                                    "MaxHomeRuns": "0"
                                },
                                {
                                    "Name": "Zack Godley",
                                    "MaxHomeRuns": "0"
                                },
                                {
                                    "Name": "Ryan Goins",
                                    "MaxHomeRuns": "2"
                                },
                                {
                                    "Name": "Paul Goldschmidt",
                                    "MaxHomeRuns": "34"
                                },
                                {
                                    "Name": "Yan Gomes",
                                    "MaxHomeRuns": "12"
                                },
                                {
                                    "Name": "Carlos Gomez",
                                    "MaxHomeRuns": "3"
                                },
                                {
                                    "Name": "Tony Gonsolin",
                                    "MaxHomeRuns": "0"
                                },
                                {
                                    "Name": "Marco Gonzales",
                                    "MaxHomeRuns": "0"
                                },
                                {
                                    "Name": "Carlos Gonzalez",
                                    "MaxHomeRuns": "2"
                                },
                                {
                                    "Name": "Chi Chi Gonzalez",
                                    "MaxHomeRuns": "0"
                                },
                                {
                                    "Name": "Erik Gonzalez",
                                    "MaxHomeRuns": "1"
                                },
                                {
                                    "Name": "Gio Gonzalez",
                                    "MaxHomeRuns": "0"
                                },
                                {
                                    "Name": "Marwin Gonzalez",
                                    "MaxHomeRuns": "15"
                                },
                                {
                                    "Name": "Niko Goodrum",
                                    "MaxHomeRuns": "12"
                                },
                                {
                                    "Name": "Brian Goodwin",
                                    "MaxHomeRuns": "17"
                                },
                                {
                                    "Name": "Alex Gordon",
                                    "MaxHomeRuns": "13"
                                },
                                {
                                    "Name": "Dee Gordon",
                                    "MaxHomeRuns": "3"
                                },
                                {
                                    "Name": "Terrance Gore",
                                    "MaxHomeRuns": "0"
                                },
                                {
                                    "Name": "Phil Gosselin",
                                    "MaxHomeRuns": "0"
                                },
                                {
                                    "Name": "Yasmani Grandal",
                                    "MaxHomeRuns": "28"
                                },
                                {
                                    "Name": "Curtis Granderson",
                                    "MaxHomeRuns": "12"
                                },
                                {
                                    "Name": "Juan Graterol",
                                    "MaxHomeRuns": "0"
                                },
                                {
                                    "Name": "Jon Gray",
                                    "MaxHomeRuns": "0"
                                },
                                {
                                    "Name": "Sonny Gray",
                                    "MaxHomeRuns": "0"
                                },
                                {
                                    "Name": "Zach Green",
                                    "MaxHomeRuns": "0"
                                },
                                {
                                    "Name": "Didi Gregorius",
                                    "MaxHomeRuns": "16"
                                },
                                {
                                    "Name": "Grayson Greiner",
                                    "MaxHomeRuns": "5"
                                },
                                {
                                    "Name": "Zack Greinke",
                                    "MaxHomeRuns": "3"
                                },
                                {
                                    "Name": "Randal Grichuk",
                                    "MaxHomeRuns": "31"
                                },
                                {
                                    "Name": "Trent Grisham",
                                    "MaxHomeRuns": "6"
                                },
                                {
                                    "Name": "Robbie Grossman",
                                    "MaxHomeRuns": "6"
                                },
                                {
                                    "Name": "Deivy Grullon",
                                    "MaxHomeRuns": "0"
                                },
                                {
                                    "Name": "Junior Guerra",
                                    "MaxHomeRuns": "0"
                                },
                                {
                                    "Name": "Vladimir Guerrero Jr.",
                                    "MaxHomeRuns": "15"
                                },
                                {
                                    "Name": "Luis Guillorme",
                                    "MaxHomeRuns": "1"
                                },
                                {
                                    "Name": "Lourdes Gurriel Jr.",
                                    "MaxHomeRuns": "20"
                                },
                                {
                                    "Name": "Yuli Gurriel",
                                    "MaxHomeRuns": "31"
                                },
                                {
                                    "Name": "Kelvin Gutierrez",
                                    "MaxHomeRuns": "1"
                                },
                                {
                                    "Name": "Ronald Guzman",
                                    "MaxHomeRuns": "10"
                                },
                                {
                                    "Name": "Jedd Gyorko",
                                    "MaxHomeRuns": "2"
                                },
                                {
                                    "Name": "Eric Haase",
                                    "MaxHomeRuns": "1"
                                },
                                {
                                    "Name": "Cole Hamels",
                                    "MaxHomeRuns": "0"
                                },
                                {
                                    "Name": "Billy Hamilton",
                                    "MaxHomeRuns": "0"
                                },
                                {
                                    "Name": "Garrett Hampson",
                                    "MaxHomeRuns": "8"
                                },
                                {
                                    "Name": "Mitch Haniger",
                                    "MaxHomeRuns": "15"
                                },
                                {
                                    "Name": "Alen Hanson",
                                    "MaxHomeRuns": "0"
                                },
                                {
                                    "Name": "Ian Happ",
                                    "MaxHomeRuns": "11"
                                },
                                {
                                    "Name": "Bryce Harper",
                                    "MaxHomeRuns": "35"
                                },
                                {
                                    "Name": "Josh Harrison",
                                    "MaxHomeRuns": "1"
                                },
                                {
                                    "Name": "Adam Haseley",
                                    "MaxHomeRuns": "5"
                                },
                                {
                                    "Name": "Austin Hays",
                                    "MaxHomeRuns": "4"
                                },
                                {
                                    "Name": "Ryon Healy",
                                    "MaxHomeRuns": "7"
                                },
                                {
                                    "Name": "Adeiny Hechavarria",
                                    "MaxHomeRuns": "5"
                                },
                                {
                                    "Name": "Austin Hedges",
                                    "MaxHomeRuns": "11"
                                },
                                {
                                    "Name": "Scott Heineman",
                                    "MaxHomeRuns": "2"
                                },
                                {
                                    "Name": "Tyler Heineman",
                                    "MaxHomeRuns": "1"
                                },
                                {
                                    "Name": "Jeremy Hellickson",
                                    "MaxHomeRuns": "0"
                                },
                                {
                                    "Name": "Ryan Helsley",
                                    "MaxHomeRuns": "0"
                                },
                                {
                                    "Name": "Kyle Hendricks",
                                    "MaxHomeRuns": "0"
                                },
                                {
                                    "Name": "Guillermo Heredia",
                                    "MaxHomeRuns": "5"
                                },
                                {
                                    "Name": "Michael Hermosillo",
                                    "MaxHomeRuns": "0"
                                },
                                {
                                    "Name": "Cesar Hernandez",
                                    "MaxHomeRuns": "14"
                                },
                                {
                                    "Name": "Elieser Hernandez",
                                    "MaxHomeRuns": "0"
                                },
                                {
                                    "Name": "Enrique Hernandez",
                                    "MaxHomeRuns": "17"
                                },
                                {
                                    "Name": "Gorkys Hernandez",
                                    "MaxHomeRuns": "0"
                                },
                                {
                                    "Name": "Marco Hernandez",
                                    "MaxHomeRuns": "2"
                                },
                                {
                                    "Name": "Teoscar Hernandez",
                                    "MaxHomeRuns": "26"
                                },
                                {
                                    "Name": "Odubel Herrera",
                                    "MaxHomeRuns": "1"
                                },
                                {
                                    "Name": "Rosell Herrera",
                                    "MaxHomeRuns": "2"
                                },
                                {
                                    "Name": "Chris Herrmann",
                                    "MaxHomeRuns": "1"
                                },
                                {
                                    "Name": "Jason Heyward",
                                    "MaxHomeRuns": "21"
                                },
                                {
                                    "Name": "Aaron Hicks",
                                    "MaxHomeRuns": "12"
                                },
                                {
                                    "Name": "John Hicks",
                                    "MaxHomeRuns": "13"
                                },
                                {
                                    "Name": "Kyle Higashioka",
                                    "MaxHomeRuns": "3"
                                },
                                {
                                    "Name": "Rich Hill",
                                    "MaxHomeRuns": "0"
                                },
                                {
                                    "Name": "Sam Hilliard",
                                    "MaxHomeRuns": "7"
                                },
                                {
                                    "Name": "Keston Hiura",
                                    "MaxHomeRuns": "19"
                                },
                                {
                                    "Name": "Nico Hoerner",
                                    "MaxHomeRuns": "3"
                                },
                                {
                                    "Name": "Jeff Hoffman",
                                    "MaxHomeRuns": "0"
                                },
                                {
                                    "Name": "Bryan Holaday",
                                    "MaxHomeRuns": "4"
                                },
                                {
                                    "Name": "Derek Holland",
                                    "MaxHomeRuns": "0"
                                },
                                {
                                    "Name": "Brock Holt",
                                    "MaxHomeRuns": "3"
                                },
                                {
                                    "Name": "Rhys Hoskins",
                                    "MaxHomeRuns": "29"
                                },
                                {
                                    "Name": "Eric Hosmer",
                                    "MaxHomeRuns": "22"
                                },
                                {
                                    "Name": "Adrian Houser",
                                    "MaxHomeRuns": "0"
                                },
                                {
                                    "Name": "Dakota Hudson",
                                    "MaxHomeRuns": "0"
                                },
                                {
                                    "Name": "Nick Hundley",
                                    "MaxHomeRuns": "2"
                                },
                                {
                                    "Name": "Chris Iannetta",
                                    "MaxHomeRuns": "6"
                                },
                                {
                                    "Name": "José Iglesias",
                                    "MaxHomeRuns": "11"
                                },
                                {
                                    "Name": "Ender Inciarte",
                                    "MaxHomeRuns": "5"
                                },
                                {
                                    "Name": "Cole Irvin",
                                    "MaxHomeRuns": "0"
                                },
                                {
                                    "Name": "Travis Jankowski",
                                    "MaxHomeRuns": "0"
                                },
                                {
                                    "Name": "Danny Jansen",
                                    "MaxHomeRuns": "13"
                                },
                                {
                                    "Name": "Jon Jay",
                                    "MaxHomeRuns": "0"
                                },
                                {
                                    "Name": "Eloy Jimenez",
                                    "MaxHomeRuns": "31"
                                },
                                {
                                    "Name": "Connor Joe",
                                    "MaxHomeRuns": "0"
                                },
                                {
                                    "Name": "Adam Jones",
                                    "MaxHomeRuns": "16"
                                },
                                {
                                    "Name": "JaCoby Jones",
                                    "MaxHomeRuns": "11"
                                },
                                {
                                    "Name": "Caleb Joseph",
                                    "MaxHomeRuns": "0"
                                },
                                {
                                    "Name": "Corban Joseph",
                                    "MaxHomeRuns": "1"
                                },
                                {
                                    "Name": "Matthew Joyce",
                                    "MaxHomeRuns": "7"
                                },
                                {
                                    "Name": "Aaron Judge",
                                    "MaxHomeRuns": "27"
                                },
                                {
                                    "Name": "Jung Ho Kang",
                                    "MaxHomeRuns": "10"
                                },
                                {
                                    "Name": "Brad Keller",
                                    "MaxHomeRuns": "0"
                                },
                                {
                                    "Name": "Carson Kelly",
                                    "MaxHomeRuns": "18"
                                },
                                {
                                    "Name": "Merrill Kelly",
                                    "MaxHomeRuns": "0"
                                },
                                {
                                    "Name": "Matt Kemp",
                                    "MaxHomeRuns": "1"
                                },
                                {
                                    "Name": "Tony Kemp",
                                    "MaxHomeRuns": "7"
                                },
                                {
                                    "Name": "Howie Kendrick",
                                    "MaxHomeRuns": "17"
                                },
                                {
                                    "Name": "Max Kepler",
                                    "MaxHomeRuns": "36"
                                },
                                {
                                    "Name": "Clayton Kershaw",
                                    "MaxHomeRuns": "0"
                                },
                                {
                                    "Name": "Dallas Keuchel",
                                    "MaxHomeRuns": "0"
                                },
                                {
                                    "Name": "Carter Kieboom",
                                    "MaxHomeRuns": "2"
                                },
                                {
                                    "Name": "Kevin Kiermaier",
                                    "MaxHomeRuns": "14"
                                },
                                {
                                    "Name": "Isiah Kiner-Falefa",
                                    "MaxHomeRuns": "1"
                                },
                                {
                                    "Name": "Scott Kingery",
                                    "MaxHomeRuns": "19"
                                },
                                {
                                    "Name": "Ian Kinsler",
                                    "MaxHomeRuns": "9"
                                },
                                {
                                    "Name": "Jason Kipnis",
                                    "MaxHomeRuns": "17"
                                },
                                {
                                    "Name": "Andrew Knapp",
                                    "MaxHomeRuns": "2"
                                },
                                {
                                    "Name": "Andrew Knizner",
                                    "MaxHomeRuns": "2"
                                },
                                {
                                    "Name": "Kevin Kramer",
                                    "MaxHomeRuns": "0"
                                },
                                {
                                    "Name": "Erik Kratz",
                                    "MaxHomeRuns": "1"
                                },
                                {
                                    "Name": "Tommy La Stella",
                                    "MaxHomeRuns": "16"
                                },
                                {
                                    "Name": "Juan Lagares",
                                    "MaxHomeRuns": "5"
                                },
                                {
                                    "Name": "Ryan LaMarre",
                                    "MaxHomeRuns": "2"
                                },
                                {
                                    "Name": "Jake Lamb",
                                    "MaxHomeRuns": "6"
                                },
                                {
                                    "Name": "Peter Lambert",
                                    "MaxHomeRuns": "0"
                                },
                                {
                                    "Name": "Dinelson Lamet",
                                    "MaxHomeRuns": "0"
                                },
                                {
                                    "Name": "Eric Lauer",
                                    "MaxHomeRuns": "0"
                                },
                                {
                                    "Name": "Ramon Laureano",
                                    "MaxHomeRuns": "24"
                                },
                                {
                                    "Name": "Ryan Lavarnway",
                                    "MaxHomeRuns": "2"
                                },
                                {
                                    "Name": "Mike Leake",
                                    "MaxHomeRuns": "0"
                                },
                                {
                                    "Name": "DJ LeMahieu",
                                    "MaxHomeRuns": "26"
                                },
                                {
                                    "Name": "Sandy Leon",
                                    "MaxHomeRuns": "5"
                                },
                                {
                                    "Name": "Jon Lester",
                                    "MaxHomeRuns": "1"
                                },
                                {
                                    "Name": "Kyle Lewis",
                                    "MaxHomeRuns": "6"
                                },
                                {
                                    "Name": "Domingo Leyba",
                                    "MaxHomeRuns": "0"
                                },
                                {
                                    "Name": "Tzu-Wei Lin",
                                    "MaxHomeRuns": "0"
                                },
                                {
                                    "Name": "Francisco Lindor",
                                    "MaxHomeRuns": "32"
                                },
                                {
                                    "Name": "Francisco Liriano",
                                    "MaxHomeRuns": "0"
                                },
                                {
                                    "Name": "Tim Locastro",
                                    "MaxHomeRuns": "1"
                                },
                                {
                                    "Name": "Walker Lockett",
                                    "MaxHomeRuns": "0"
                                },
                                {
                                    "Name": "Shed Long",
                                    "MaxHomeRuns": "5"
                                },
                                {
                                    "Name": "Evan Longoria",
                                    "MaxHomeRuns": "20"
                                },
                                {
                                    "Name": "Tim Lopes",
                                    "MaxHomeRuns": "1"
                                },
                                {
                                    "Name": "Nicky Lopez",
                                    "MaxHomeRuns": "2"
                                },
                                {
                                    "Name": "Pablo Lopez",
                                    "MaxHomeRuns": "0"
                                },
                                {
                                    "Name": "Michael Lorenzen",
                                    "MaxHomeRuns": "1"
                                },
                                {
                                    "Name": "Brandon Lowe",
                                    "MaxHomeRuns": "17"
                                },
                                {
                                    "Name": "Nate Lowe",
                                    "MaxHomeRuns": "7"
                                },
                                {
                                    "Name": "Joey Lucchesi",
                                    "MaxHomeRuns": "0"
                                },
                                {
                                    "Name": "Jonathan Lucroy",
                                    "MaxHomeRuns": "7"
                                },
                                {
                                    "Name": "Dawel Lugo",
                                    "MaxHomeRuns": "6"
                                },
                                {
                                    "Name": "Seth Lugo",
                                    "MaxHomeRuns": "0"
                                },
                                {
                                    "Name": "Jordan Luplow",
                                    "MaxHomeRuns": "15"
                                },
                                {
                                    "Name": "Gavin Lux",
                                    "MaxHomeRuns": "2"
                                },
                                {
                                    "Name": "Jordan Lyles",
                                    "MaxHomeRuns": "0"
                                },
                                {
                                    "Name": "Manny Machado",
                                    "MaxHomeRuns": "32"
                                },
                                {
                                    "Name": "Kenta Maeda",
                                    "MaxHomeRuns": "0"
                                },
                                {
                                    "Name": "Tyler Mahle",
                                    "MaxHomeRuns": "0"
                                },
                                {
                                    "Name": "Luke Maile",
                                    "MaxHomeRuns": "2"
                                },
                                {
                                    "Name": "Martin Maldonado",
                                    "MaxHomeRuns": "6"
                                },
                                {
                                    "Name": "Trey Mancini",
                                    "MaxHomeRuns": "35"
                                },
                                {
                                    "Name": "Nick Margevicius",
                                    "MaxHomeRuns": "0"
                                },
                                {
                                    "Name": "Manuel Margot",
                                    "MaxHomeRuns": "12"
                                },
                                {
                                    "Name": "Jake Marisnick",
                                    "MaxHomeRuns": "10"
                                },
                                {
                                    "Name": "Nick Markakis",
                                    "MaxHomeRuns": "9"
                                },
                                {
                                    "Name": "German Marquez",
                                    "MaxHomeRuns": "0"
                                },
                                {
                                    "Name": "Ketel Marte",
                                    "MaxHomeRuns": "32"
                                },
                                {
                                    "Name": "Starling Marte",
                                    "MaxHomeRuns": "23"
                                },
                                {
                                    "Name": "Jason Martin",
                                    "MaxHomeRuns": "0"
                                },
                                {
                                    "Name": "Leonys Martín",
                                    "MaxHomeRuns": "9"
                                },
                                {
                                    "Name": "Richie Martin",
                                    "MaxHomeRuns": "6"
                                },
                                {
                                    "Name": "Russell Martin",
                                    "MaxHomeRuns": "6"
                                },
                                {
                                    "Name": "J.D. Martinez",
                                    "MaxHomeRuns": "36"
                                },
                                {
                                    "Name": "Jose Martinez",
                                    "MaxHomeRuns": "10"
                                },
                                {
                                    "Name": "Nick Martini",
                                    "MaxHomeRuns": "1"
                                },
                                {
                                    "Name": "Jeff Mathis",
                                    "MaxHomeRuns": "2"
                                },
                                {
                                    "Name": "Phil Maton",
                                    "MaxHomeRuns": "0"
                                },
                                {
                                    "Name": "Steven Matz",
                                    "MaxHomeRuns": "1"
                                },
                                {
                                    "Name": "Dustin May",
                                    "MaxHomeRuns": "0"
                                },
                                {
                                    "Name": "Cameron Maybin",
                                    "MaxHomeRuns": "11"
                                },
                                {
                                    "Name": "Jack Mayfield",
                                    "MaxHomeRuns": "2"
                                },
                                {
                                    "Name": "Nomar Mazara",
                                    "MaxHomeRuns": "19"
                                },
                                {
                                    "Name": "Ryan McBroom",
                                    "MaxHomeRuns": "0"
                                },
                                {
                                    "Name": "Brian McCann",
                                    "MaxHomeRuns": "12"
                                },
                                {
                                    "Name": "James McCann",
                                    "MaxHomeRuns": "18"
                                },
                                {
                                    "Name": "Andrew McCutchen",
                                    "MaxHomeRuns": "10"
                                },
                                {
                                    "Name": "Kyle McGowin",
                                    "MaxHomeRuns": "0"
                                },
                                {
                                    "Name": "Reese McGuire",
                                    "MaxHomeRuns": "5"
                                },
                                {
                                    "Name": "Brendan McKay",
                                    "MaxHomeRuns": "1"
                                },
                                {
                                    "Name": "Billy McKinney",
                                    "MaxHomeRuns": "12"
                                },
                                {
                                    "Name": "Ryan McMahon",
                                    "MaxHomeRuns": "24"
                                },
                                {
                                    "Name": "Jeff McNeil",
                                    "MaxHomeRuns": "23"
                                },
                                {
                                    "Name": "Alex McRae",
                                    "MaxHomeRuns": "0"
                                },
                                {
                                    "Name": "Austin Meadows",
                                    "MaxHomeRuns": "33"
                                },
                                {
                                    "Name": "John Means",
                                    "MaxHomeRuns": "0"
                                },
                                {
                                    "Name": "Erick Mejia",
                                    "MaxHomeRuns": "0"
                                },
                                {
                                    "Name": "Francisco Mejia",
                                    "MaxHomeRuns": "8"
                                },
                                {
                                    "Name": "Seth Mejias-Brean",
                                    "MaxHomeRuns": "2"
                                },
                                {
                                    "Name": "Tim Melville",
                                    "MaxHomeRuns": "0"
                                },
                                {
                                    "Name": "Danny Mendick",
                                    "MaxHomeRuns": "2"
                                },
                                {
                                    "Name": "Oscar Mercado",
                                    "MaxHomeRuns": "15"
                                },
                                {
                                    "Name": "Jordy Mercer",
                                    "MaxHomeRuns": "9"
                                },
                                {
                                    "Name": "Whit Merrifield",
                                    "MaxHomeRuns": "16"
                                },
                                {
                                    "Name": "Miles Mikolas",
                                    "MaxHomeRuns": "0"
                                },
                                {
                                    "Name": "Brad Miller",
                                    "MaxHomeRuns": "12"
                                },
                                {
                                    "Name": "Ian Miller",
                                    "MaxHomeRuns": "0"
                                },
                                {
                                    "Name": "Alec Mills",
                                    "MaxHomeRuns": "0"
                                },
                                {
                                    "Name": "Yadier Molina",
                                    "MaxHomeRuns": "10"
                                },
                                {
                                    "Name": "Yoan Moncada",
                                    "MaxHomeRuns": "25"
                                },
                                {
                                    "Name": "Adalberto Mondesi",
                                    "MaxHomeRuns": "9"
                                },
                                {
                                    "Name": "Mike Montgomery",
                                    "MaxHomeRuns": "0"
                                },
                                {
                                    "Name": "Dylan Moore",
                                    "MaxHomeRuns": "9"
                                },
                                {
                                    "Name": "Kendrys Morales",
                                    "MaxHomeRuns": "1"
                                },
                                {
                                    "Name": "Colin Moran",
                                    "MaxHomeRuns": "13"
                                },
                                {
                                    "Name": "Mitch Moreland",
                                    "MaxHomeRuns": "19"
                                },
                                {
                                    "Name": "Max Moroff",
                                    "MaxHomeRuns": "1"
                                },
                                {
                                    "Name": "Logan Morrison",
                                    "MaxHomeRuns": "2"
                                },
                                {
                                    "Name": "Mike Moustakas",
                                    "MaxHomeRuns": "35"
                                },
                                {
                                    "Name": "Cedric Mullins",
                                    "MaxHomeRuns": "0"
                                },
                                {
                                    "Name": "Max Muncy",
                                    "MaxHomeRuns": "35"
                                },
                                {
                                    "Name": "Yairo Munoz",
                                    "MaxHomeRuns": "2"
                                },
                                {
                                    "Name": "Daniel Murphy",
                                    "MaxHomeRuns": "13"
                                },
                                {
                                    "Name": "John Ryan Murphy",
                                    "MaxHomeRuns": "4"
                                },
                                {
                                    "Name": "Sean Murphy",
                                    "MaxHomeRuns": "4"
                                },
                                {
                                    "Name": "Tom Murphy",
                                    "MaxHomeRuns": "18"
                                },
                                {
                                    "Name": "Joe Musgrove",
                                    "MaxHomeRuns": "0"
                                },
                                {
                                    "Name": "Wil Myers",
                                    "MaxHomeRuns": "18"
                                },
                                {
                                    "Name": "Tyler Naquin",
                                    "MaxHomeRuns": "10"
                                },
                                {
                                    "Name": "Omar Narvaez",
                                    "MaxHomeRuns": "22"
                                },
                                {
                                    "Name": "Josh Naylor",
                                    "MaxHomeRuns": "8"
                                },
                                {
                                    "Name": "Kristopher Negron",
                                    "MaxHomeRuns": "2"
                                },
                                {
                                    "Name": "Sheldon Neuse",
                                    "MaxHomeRuns": "0"
                                },
                                {
                                    "Name": "Kevin Newman",
                                    "MaxHomeRuns": "12"
                                },
                                {
                                    "Name": "Tomas Nido",
                                    "MaxHomeRuns": "4"
                                },
                                {
                                    "Name": "Brandon Nimmo",
                                    "MaxHomeRuns": "8"
                                },
                                {
                                    "Name": "Hector Noesi",
                                    "MaxHomeRuns": "0"
                                },
                                {
                                    "Name": "Aaron Nola",
                                    "MaxHomeRuns": "0"
                                },
                                {
                                    "Name": "Austin Nola",
                                    "MaxHomeRuns": "10"
                                },
                                {
                                    "Name": "Jake Noll",
                                    "MaxHomeRuns": "0"
                                },
                                {
                                    "Name": "Daniel Norris",
                                    "MaxHomeRuns": "0"
                                },
                                {
                                    "Name": "Jacob Nottingham",
                                    "MaxHomeRuns": "1"
                                },
                                {
                                    "Name": "Dom Nunez",
                                    "MaxHomeRuns": "2"
                                },
                                {
                                    "Name": "Eduardo Nunez",
                                    "MaxHomeRuns": "2"
                                },
                                {
                                    "Name": "Renato Nunez",
                                    "MaxHomeRuns": "31"
                                },
                                {
                                    "Name": "Peter O'Brien",
                                    "MaxHomeRuns": "1"
                                },
                                {
                                    "Name": "Brian O'Grady",
                                    "MaxHomeRuns": "2"
                                },
                                {
                                    "Name": "Ryan O'Hearn",
                                    "MaxHomeRuns": "14"
                                },
                                {
                                    "Name": "Tyler O'Neill",
                                    "MaxHomeRuns": "5"
                                },
                                {
                                    "Name": "Rougned Odor",
                                    "MaxHomeRuns": "30"
                                },
                                {
                                    "Name": "Shohei Ohtani",
                                    "MaxHomeRuns": "18"
                                },
                                {
                                    "Name": "Matt Olson",
                                    "MaxHomeRuns": "36"
                                },
                                {
                                    "Name": "Rafael Ortega",
                                    "MaxHomeRuns": "2"
                                },
                                {
                                    "Name": "Jose Osuna",
                                    "MaxHomeRuns": "10"
                                },
                                {
                                    "Name": "Chris Owings",
                                    "MaxHomeRuns": "2"
                                },
                                {
                                    "Name": "Marcell Ozuna",
                                    "MaxHomeRuns": "29"
                                },
                                {
                                    "Name": "Chris Paddack",
                                    "MaxHomeRuns": "0"
                                },
                                {
                                    "Name": "Daniel Palka",
                                    "MaxHomeRuns": "2"
                                },
                                {
                                    "Name": "Joe Panik",
                                    "MaxHomeRuns": "3"
                                },
                                {
                                    "Name": "Gerardo Parra",
                                    "MaxHomeRuns": "8"
                                },
                                {
                                    "Name": "Steve Pearce",
                                    "MaxHomeRuns": "1"
                                },
                                {
                                    "Name": "Joc Pederson",
                                    "MaxHomeRuns": "36"
                                },
                                {
                                    "Name": "Dustin Pedroia",
                                    "MaxHomeRuns": "0"
                                },
                                {
                                    "Name": "Hunter Pence",
                                    "MaxHomeRuns": "18"
                                },
                                {
                                    "Name": "David Peralta",
                                    "MaxHomeRuns": "12"
                                },
                                {
                                    "Name": "Freddy Peralta",
                                    "MaxHomeRuns": "0"
                                },
                                {
                                    "Name": "Jose Peraza",
                                    "MaxHomeRuns": "6"
                                },
                                {
                                    "Name": "Luis Perdomo",
                                    "MaxHomeRuns": "0"
                                },
                                {
                                    "Name": "Hernan Perez",
                                    "MaxHomeRuns": "8"
                                },
                                {
                                    "Name": "Michael Perez",
                                    "MaxHomeRuns": "0"
                                },
                                {
                                    "Name": "Roberto Perez",
                                    "MaxHomeRuns": "24"
                                },
                                {
                                    "Name": "Dustin Peterson",
                                    "MaxHomeRuns": "0"
                                },
                                {
                                    "Name": "Jace Peterson",
                                    "MaxHomeRuns": "2"
                                },
                                {
                                    "Name": "Tommy Pham",
                                    "MaxHomeRuns": "21"
                                },
                                {
                                    "Name": "Josh Phegley",
                                    "MaxHomeRuns": "12"
                                },
                                {
                                    "Name": "Brett Phillips",
                                    "MaxHomeRuns": "2"
                                },
                                {
                                    "Name": "Kevin Pillar",
                                    "MaxHomeRuns": "21"
                                },
                                {
                                    "Name": "Manny Pina",
                                    "MaxHomeRuns": "7"
                                },
                                {
                                    "Name": "Chad Pinder",
                                    "MaxHomeRuns": "13"
                                },
                                {
                                    "Name": "Jose Pirela",
                                    "MaxHomeRuns": "1"
                                },
                                {
                                    "Name": "Stephen Piscotty",
                                    "MaxHomeRuns": "13"
                                },
                                {
                                    "Name": "Nick Pivetta",
                                    "MaxHomeRuns": "0"
                                },
                                {
                                    "Name": "Kevin Plawecki",
                                    "MaxHomeRuns": "3"
                                },
                                {
                                    "Name": "Gregory Polanco",
                                    "MaxHomeRuns": "6"
                                },
                                {
                                    "Name": "Jorge Polanco",
                                    "MaxHomeRuns": "22"
                                },
                                {
                                    "Name": "A.J. Pollock",
                                    "MaxHomeRuns": "15"
                                },
                                {
                                    "Name": "Buster Posey",
                                    "MaxHomeRuns": "7"
                                },
                                {
                                    "Name": "Martin Prado",
                                    "MaxHomeRuns": "2"
                                },
                                {
                                    "Name": "David Price",
                                    "MaxHomeRuns": "0"
                                },
                                {
                                    "Name": "Jurickson Profar",
                                    "MaxHomeRuns": "20"
                                },
                                {
                                    "Name": "Cesar Puello",
                                    "MaxHomeRuns": "3"
                                },
                                {
                                    "Name": "Yasiel Puig",
                                    "MaxHomeRuns": "22"
                                },
                                {
                                    "Name": "Albert Pujols",
                                    "MaxHomeRuns": "23"
                                },
                                {
                                    "Name": "Cal Quantrill",
                                    "MaxHomeRuns": "0"
                                },
                                {
                                    "Name": "Roman Quinn",
                                    "MaxHomeRuns": "4"
                                },
                                {
                                    "Name": "Jose Quintana",
                                    "MaxHomeRuns": "0"
                                },
                                {
                                    "Name": "Hanley Ramirez",
                                    "MaxHomeRuns": "2"
                                },
                                {
                                    "Name": "Harold Ramirez",
                                    "MaxHomeRuns": "11"
                                },
                                {
                                    "Name": "Jose Ramirez",
                                    "MaxHomeRuns": "23"
                                },
                                {
                                    "Name": "Wilson Ramos",
                                    "MaxHomeRuns": "14"
                                },
                                {
                                    "Name": "Rangel Ravelo",
                                    "MaxHomeRuns": "2"
                                },
                                {
                                    "Name": "Robbie Ray",
                                    "MaxHomeRuns": "0"
                                },
                                {
                                    "Name": "Raudy Read",
                                    "MaxHomeRuns": "0"
                                },
                                {
                                    "Name": "J.T. Realmuto",
                                    "MaxHomeRuns": "25"
                                },
                                {
                                    "Name": "Josh Reddick",
                                    "MaxHomeRuns": "14"
                                },
                                {
                                    "Name": "AJ Reed",
                                    "MaxHomeRuns": "1"
                                },
                                {
                                    "Name": "Anthony Rendon",
                                    "MaxHomeRuns": "34"
                                },
                                {
                                    "Name": "Hunter Renfroe",
                                    "MaxHomeRuns": "33"
                                },
                                {
                                    "Name": "Luis Rengifo",
                                    "MaxHomeRuns": "7"
                                },
                                {
                                    "Name": "Franmil Reyes",
                                    "MaxHomeRuns": "27"
                                },
                                {
                                    "Name": "Pablo Reyes",
                                    "MaxHomeRuns": "2"
                                },
                                {
                                    "Name": "Victor Reyes",
                                    "MaxHomeRuns": "3"
                                },
                                {
                                    "Name": "Bryan Reynolds",
                                    "MaxHomeRuns": "16"
                                },
                                {
                                    "Name": "Mark Reynolds",
                                    "MaxHomeRuns": "4"
                                },
                                {
                                    "Name": "Trevor Richards",
                                    "MaxHomeRuns": "0"
                                },
                                {
                                    "Name": "Joey Rickard",
                                    "MaxHomeRuns": "2"
                                },
                                {
                                    "Name": "JT Riddle",
                                    "MaxHomeRuns": "6"
                                },
                                {
                                    "Name": "Austin Riley",
                                    "MaxHomeRuns": "18"
                                },
                                {
                                    "Name": "Edwin Rios",
                                    "MaxHomeRuns": "4"
                                },
                                {
                                    "Name": "Rene Rivera",
                                    "MaxHomeRuns": "1"
                                },
                                {
                                    "Name": "Yadiel Rivera",
                                    "MaxHomeRuns": "0"
                                },
                                {
                                    "Name": "Anthony Rizzo",
                                    "MaxHomeRuns": "27"
                                },
                                {
                                    "Name": "Tanner Roark",
                                    "MaxHomeRuns": "1"
                                },
                                {
                                    "Name": "Daniel Robertson",
                                    "MaxHomeRuns": "2"
                                },
                                {
                                    "Name": "Drew Robinson",
                                    "MaxHomeRuns": "0"
                                },
                                {
                                    "Name": "Victor Robles",
                                    "MaxHomeRuns": "17"
                                },
                                {
                                    "Name": "Brendan Rodgers",
                                    "MaxHomeRuns": "0"
                                },
                                {
                                    "Name": "Dereck Rodriguez",
                                    "MaxHomeRuns": "0"
                                },
                                {
                                    "Name": "Ronny Rodriguez",
                                    "MaxHomeRuns": "14"
                                },
                                {
                                    "Name": "Sean Rodriguez",
                                    "MaxHomeRuns": "4"
                                },
                                {
                                    "Name": "Jake Rogers",
                                    "MaxHomeRuns": "4"
                                },
                                {
                                    "Name": "Josh Rojas",
                                    "MaxHomeRuns": "2"
                                },
                                {
                                    "Name": "Miguel Rojas",
                                    "MaxHomeRuns": "5"
                                },
                                {
                                    "Name": "Austin Romine",
                                    "MaxHomeRuns": "8"
                                },
                                {
                                    "Name": "Jose Rondon",
                                    "MaxHomeRuns": "3"
                                },
                                {
                                    "Name": "Amed Rosario",
                                    "MaxHomeRuns": "15"
                                },
                                {
                                    "Name": "Eddie Rosario",
                                    "MaxHomeRuns": "32"
                                },
                                {
                                    "Name": "Joe Ross",
                                    "MaxHomeRuns": "0"
                                },
                                {
                                    "Name": "Rio Ruiz",
                                    "MaxHomeRuns": "12"
                                },
                                {
                                    "Name": "Addison Russell",
                                    "MaxHomeRuns": "9"
                                },
                                {
                                    "Name": "Hyun-Jin Ryu",
                                    "MaxHomeRuns": "1"
                                },
                                {
                                    "Name": "Tyler Saladino",
                                    "MaxHomeRuns": "2"
                                },
                                {
                                    "Name": "Jeff Samardzija",
                                    "MaxHomeRuns": "0"
                                },
                                {
                                    "Name": "Adrian Sanchez",
                                    "MaxHomeRuns": "0"
                                },
                                {
                                    "Name": "Anibal Sanchez",
                                    "MaxHomeRuns": "0"
                                },
                                {
                                    "Name": "Gary Sanchez",
                                    "MaxHomeRuns": "34"
                                },
                                {
                                    "Name": "Yolmer Sanchez",
                                    "MaxHomeRuns": "2"
                                },
                                {
                                    "Name": "Pablo Sandoval",
                                    "MaxHomeRuns": "14"
                                },
                                {
                                    "Name": "Miguel Sano",
                                    "MaxHomeRuns": "34"
                                },
                                {
                                    "Name": "Carlos Santana",
                                    "MaxHomeRuns": "34"
                                },
                                {
                                    "Name": "Danny Santana",
                                    "MaxHomeRuns": "28"
                                },
                                {
                                    "Name": "Dennis Santana",
                                    "MaxHomeRuns": "0"
                                },
                                {
                                    "Name": "Domingo Santana",
                                    "MaxHomeRuns": "21"
                                },
                                {
                                    "Name": "Anthony Santander",
                                    "MaxHomeRuns": "20"
                                },
                                {
                                    "Name": "Scott Schebler",
                                    "MaxHomeRuns": "2"
                                },
                                {
                                    "Name": "Max Scherzer",
                                    "MaxHomeRuns": "0"
                                },
                                {
                                    "Name": "Jonathan Schoop",
                                    "MaxHomeRuns": "23"
                                },
                                {
                                    "Name": "Kyle Schwarber",
                                    "MaxHomeRuns": "38"
                                },
                                {
                                    "Name": "Frank Schwindel",
                                    "MaxHomeRuns": "0"
                                },
                                {
                                    "Name": "Corey Seager",
                                    "MaxHomeRuns": "19"
                                },
                                {
                                    "Name": "Kyle Seager",
                                    "MaxHomeRuns": "23"
                                },
                                {
                                    "Name": "Jean Segura",
                                    "MaxHomeRuns": "12"
                                },
                                {
                                    "Name": "Marcus Semien",
                                    "MaxHomeRuns": "33"
                                },
                                {
                                    "Name": "Antonio Senzatela",
                                    "MaxHomeRuns": "0"
                                },
                                {
                                    "Name": "Nick Senzel",
                                    "MaxHomeRuns": "12"
                                },
                                {
                                    "Name": "Pedro Severino",
                                    "MaxHomeRuns": "13"
                                },
                                {
                                    "Name": "Chris Shaw",
                                    "MaxHomeRuns": "0"
                                },
                                {
                                    "Name": "Travis Shaw",
                                    "MaxHomeRuns": "7"
                                },
                                {
                                    "Name": "JB Shuck",
                                    "MaxHomeRuns": "0"
                                },
                                {
                                    "Name": "Magneuris Sierra",
                                    "MaxHomeRuns": "0"
                                },
                                {
                                    "Name": "Andrelton Simmons",
                                    "MaxHomeRuns": "7"
                                },
                                {
                                    "Name": "Lucas Sims",
                                    "MaxHomeRuns": "0"
                                },
                                {
                                    "Name": "Chance Sisco",
                                    "MaxHomeRuns": "8"
                                },
                                {
                                    "Name": "Matt Skole",
                                    "MaxHomeRuns": "0"
                                },
                                {
                                    "Name": "Austin Slater",
                                    "MaxHomeRuns": "5"
                                },
                                {
                                    "Name": "Caleb Smith",
                                    "MaxHomeRuns": "0"
                                },
                                {
                                    "Name": "Dominic Smith",
                                    "MaxHomeRuns": "11"
                                },
                                {
                                    "Name": "Dwight Smith Jr.",
                                    "MaxHomeRuns": "13"
                                },
                                {
                                    "Name": "Kevan Smith",
                                    "MaxHomeRuns": "5"
                                },
                                {
                                    "Name": "Mallex Smith",
                                    "MaxHomeRuns": "6"
                                },
                                {
                                    "Name": "Will Smith",
                                    "MaxHomeRuns": "15"
                                },
                                {
                                    "Name": "Justin Smoak",
                                    "MaxHomeRuns": "22"
                                },
                                {
                                    "Name": "Eric Sogard",
                                    "MaxHomeRuns": "10"
                                },
                                {
                                    "Name": "Nick Solak",
                                    "MaxHomeRuns": "5"
                                },
                                {
                                    "Name": "Donovan Solano",
                                    "MaxHomeRuns": "4"
                                },
                                {
                                    "Name": "Yangervis Solarte",
                                    "MaxHomeRuns": "1"
                                },
                                {
                                    "Name": "Jorge Soler",
                                    "MaxHomeRuns": "48"
                                },
                                {
                                    "Name": "Mike Soroka",
                                    "MaxHomeRuns": "0"
                                },
                                {
                                    "Name": "Edmundo Sosa",
                                    "MaxHomeRuns": "0"
                                },
                                {
                                    "Name": "Gregory Soto",
                                    "MaxHomeRuns": "0"
                                },
                                {
                                    "Name": "Juan Soto",
                                    "MaxHomeRuns": "34"
                                },
                                {
                                    "Name": "Cory Spangenberg",
                                    "MaxHomeRuns": "2"
                                },
                                {
                                    "Name": "George Springer",
                                    "MaxHomeRuns": "39"
                                },
                                {
                                    "Name": "Jacob Stallings",
                                    "MaxHomeRuns": "6"
                                },
                                {
                                    "Name": "Eric Stamets",
                                    "MaxHomeRuns": "0"
                                },
                                {
                                    "Name": "Giancarlo Stanton",
                                    "MaxHomeRuns": "3"
                                },
                                {
                                    "Name": "Bubba Starling",
                                    "MaxHomeRuns": "4"
                                },
                                {
                                    "Name": "Max Stassi",
                                    "MaxHomeRuns": "1"
                                },
                                {
                                    "Name": "Andrew Stevenson",
                                    "MaxHomeRuns": "0"
                                },
                                {
                                    "Name": "Brock Stewart",
                                    "MaxHomeRuns": "0"
                                },
                                {
                                    "Name": "Christin Stewart",
                                    "MaxHomeRuns": "10"
                                },
                                {
                                    "Name": "DJ Stewart",
                                    "MaxHomeRuns": "4"
                                },
                                {
                                    "Name": "Trevor Story",
                                    "MaxHomeRuns": "35"
                                },
                                {
                                    "Name": "Matt Strahm",
                                    "MaxHomeRuns": "0"
                                },
                                {
                                    "Name": "Stephen Strasburg",
                                    "MaxHomeRuns": "1"
                                },
                                {
                                    "Name": "Myles Straw",
                                    "MaxHomeRuns": "0"
                                },
                                {
                                    "Name": "Ross Stripling",
                                    "MaxHomeRuns": "0"
                                },
                                {
                                    "Name": "Marcus Stroman",
                                    "MaxHomeRuns": "0"
                                },
                                {
                                    "Name": "Garrett Stubbs",
                                    "MaxHomeRuns": "0"
                                },
                                {
                                    "Name": "Eugenio Suarez",
                                    "MaxHomeRuns": "49"
                                },
                                {
                                    "Name": "Ranger Suarez",
                                    "MaxHomeRuns": "0"
                                },
                                {
                                    "Name": "Jesus Sucre",
                                    "MaxHomeRuns": "0"
                                },
                                {
                                    "Name": "Kurt Suzuki",
                                    "MaxHomeRuns": "17"
                                },
                                {
                                    "Name": "Dansby Swanson",
                                    "MaxHomeRuns": "17"
                                },
                                {
                                    "Name": "Blake Swihart",
                                    "MaxHomeRuns": "3"
                                },
                                {
                                    "Name": "Noah Syndergaard",
                                    "MaxHomeRuns": "2"
                                },
                                {
                                    "Name": "Jameson Taillon",
                                    "MaxHomeRuns": "0"
                                },
                                {
                                    "Name": "Raimel Tapia",
                                    "MaxHomeRuns": "9"
                                },
                                {
                                    "Name": "Fernando Tatis Jr.",
                                    "MaxHomeRuns": "22"
                                },
                                {
                                    "Name": "Mike Tauchman",
                                    "MaxHomeRuns": "13"
                                },
                                {
                                    "Name": "Beau Taylor",
                                    "MaxHomeRuns": "2"
                                },
                                {
                                    "Name": "Chris Taylor",
                                    "MaxHomeRuns": "12"
                                },
                                {
                                    "Name": "Michael A. Taylor",
                                    "MaxHomeRuns": "1"
                                },
                                {
                                    "Name": "Tyrone Taylor",
                                    "MaxHomeRuns": "0"
                                },
                                {
                                    "Name": "Julio Teheran",
                                    "MaxHomeRuns": "0"
                                },
                                {
                                    "Name": "Rowdy Tellez",
                                    "MaxHomeRuns": "21"
                                },
                                {
                                    "Name": "Matt Thaiss",
                                    "MaxHomeRuns": "8"
                                },
                                {
                                    "Name": "Eric Thames",
                                    "MaxHomeRuns": "25"
                                },
                                {
                                    "Name": "Lane Thomas",
                                    "MaxHomeRuns": "4"
                                },
                                {
                                    "Name": "Trent Thornton",
                                    "MaxHomeRuns": "0"
                                },
                                {
                                    "Name": "Charlie Tilson",
                                    "MaxHomeRuns": "1"
                                },
                                {
                                    "Name": "Jesus Tinoco",
                                    "MaxHomeRuns": "0"
                                },
                                {
                                    "Name": "Abraham Toro",
                                    "MaxHomeRuns": "2"
                                },
                                {
                                    "Name": "Luis Torrens",
                                    "MaxHomeRuns": "0"
                                },
                                {
                                    "Name": "Gleyber Torres",
                                    "MaxHomeRuns": "38"
                                },
                                {
                                    "Name": "Ronald Torreyes",
                                    "MaxHomeRuns": "0"
                                },
                                {
                                    "Name": "Wilfredo Tovar",
                                    "MaxHomeRuns": "0"
                                },
                                {
                                    "Name": "Sam Travis",
                                    "MaxHomeRuns": "6"
                                },
                                {
                                    "Name": "Jose Trevino",
                                    "MaxHomeRuns": "2"
                                },
                                {
                                    "Name": "Mike Trout",
                                    "MaxHomeRuns": "45"
                                },
                                {
                                    "Name": "Mark Trumbo",
                                    "MaxHomeRuns": "0"
                                },
                                {
                                    "Name": "Cole Tucker",
                                    "MaxHomeRuns": "2"
                                },
                                {
                                    "Name": "Kyle Tucker",
                                    "MaxHomeRuns": "4"
                                },
                                {
                                    "Name": "Troy Tulowitzki",
                                    "MaxHomeRuns": "1"
                                },
                                {
                                    "Name": "Justin Turner",
                                    "MaxHomeRuns": "27"
                                },
                                {
                                    "Name": "Trea Turner",
                                    "MaxHomeRuns": "19"
                                },
                                {
                                    "Name": "Justin Upton",
                                    "MaxHomeRuns": "12"
                                },
                                {
                                    "Name": "Richard Urena",
                                    "MaxHomeRuns": "0"
                                },
                                {
                                    "Name": "Julio Urias",
                                    "MaxHomeRuns": "0"
                                },
                                {
                                    "Name": "Luis Urias",
                                    "MaxHomeRuns": "4"
                                },
                                {
                                    "Name": "Gio Urshela",
                                    "MaxHomeRuns": "21"
                                },
                                {
                                    "Name": "Pat Valaika",
                                    "MaxHomeRuns": "1"
                                },
                                {
                                    "Name": "Breyvic Valera",
                                    "MaxHomeRuns": "1"
                                },
                                {
                                    "Name": "Josh VanMeter",
                                    "MaxHomeRuns": "8"
                                },
                                {
                                    "Name": "Ildemaro Vargas",
                                    "MaxHomeRuns": "6"
                                },
                                {
                                    "Name": "Jason Vargas",
                                    "MaxHomeRuns": "0"
                                },
                                {
                                    "Name": "Christian Vazquez",
                                    "MaxHomeRuns": "23"
                                },
                                {
                                    "Name": "Vince Velasquez",
                                    "MaxHomeRuns": "1"
                                },
                                {
                                    "Name": "Andrew Velazquez",
                                    "MaxHomeRuns": "0"
                                },
                                {
                                    "Name": "Alex Verdugo",
                                    "MaxHomeRuns": "12"
                                },
                                {
                                    "Name": "Jonathan Villar",
                                    "MaxHomeRuns": "24"
                                },
                                {
                                    "Name": "Meibrys Viloria",
                                    "MaxHomeRuns": "1"
                                },
                                {
                                    "Name": "Daniel Vogelbach",
                                    "MaxHomeRuns": "30"
                                },
                                {
                                    "Name": "Stephen Vogt",
                                    "MaxHomeRuns": "10"
                                },
                                {
                                    "Name": "Luke Voit",
                                    "MaxHomeRuns": "21"
                                },
                                {
                                    "Name": "Austin Voth",
                                    "MaxHomeRuns": "0"
                                },
                                {
                                    "Name": "Joey Votto",
                                    "MaxHomeRuns": "15"
                                },
                                {
                                    "Name": "Michael Wacha",
                                    "MaxHomeRuns": "0"
                                },
                                {
                                    "Name": "LaMonte Wade Jr",
                                    "MaxHomeRuns": "2"
                                },
                                {
                                    "Name": "Tyler Wade",
                                    "MaxHomeRuns": "2"
                                },
                                {
                                    "Name": "Adam Wainwright",
                                    "MaxHomeRuns": "0"
                                },
                                {
                                    "Name": "Christian Walker",
                                    "MaxHomeRuns": "29"
                                },
                                {
                                    "Name": "Neil Walker",
                                    "MaxHomeRuns": "8"
                                },
                                {
                                    "Name": "Chad Wallach",
                                    "MaxHomeRuns": "1"
                                },
                                {
                                    "Name": "Jared Walsh",
                                    "MaxHomeRuns": "1"
                                },
                                {
                                    "Name": "Donovan Walton",
                                    "MaxHomeRuns": "0"
                                },
                                {
                                    "Name": "Taylor Ward",
                                    "MaxHomeRuns": "1"
                                },
                                {
                                    "Name": "Luke Weaver",
                                    "MaxHomeRuns": "1"
                                },
                                {
                                    "Name": "Logan Webb",
                                    "MaxHomeRuns": "0"
                                },
                                {
                                    "Name": "Joey Wendle",
                                    "MaxHomeRuns": "3"
                                },
                                {
                                    "Name": "Zack Wheeler",
                                    "MaxHomeRuns": "1"
                                },
                                {
                                    "Name": "Tyler White",
                                    "MaxHomeRuns": "3"
                                },
                                {
                                    "Name": "Matt Wieters",
                                    "MaxHomeRuns": "11"
                                },
                                {
                                    "Name": "Aaron Wilkerson",
                                    "MaxHomeRuns": "1"
                                },
                                {
                                    "Name": "Stevie Wilkerson",
                                    "MaxHomeRuns": "10"
                                },
                                {
                                    "Name": "Mason Williams",
                                    "MaxHomeRuns": "0"
                                },
                                {
                                    "Name": "Nick Williams",
                                    "MaxHomeRuns": "2"
                                },
                                {
                                    "Name": "Trevor Williams",
                                    "MaxHomeRuns": "0"
                                },
                                {
                                    "Name": "Mac Williamson",
                                    "MaxHomeRuns": "3"
                                },
                                {
                                    "Name": "Bobby Wilson",
                                    "MaxHomeRuns": "0"
                                },
                                {
                                    "Name": "Bryse Wilson",
                                    "MaxHomeRuns": "0"
                                },
                                {
                                    "Name": "Jesse Winker",
                                    "MaxHomeRuns": "16"
                                },
                                {
                                    "Name": "Patrick Wisdom",
                                    "MaxHomeRuns": "0"
                                },
                                {
                                    "Name": "Tony Wolters",
                                    "MaxHomeRuns": "1"
                                },
                                {
                                    "Name": "Kean Wong",
                                    "MaxHomeRuns": "0"
                                },
                                {
                                    "Name": "Kolten Wong",
                                    "MaxHomeRuns": "11"
                                },
                                {
                                    "Name": "Alex Wood",
                                    "MaxHomeRuns": "0"
                                },
                                {
                                    "Name": "Brandon Woodruff",
                                    "MaxHomeRuns": "0"
                                },
                                {
                                    "Name": "Austin Wynns",
                                    "MaxHomeRuns": "1"
                                },
                                {
                                    "Name": "Jordan Yamamoto",
                                    "MaxHomeRuns": "0"
                                },
                                {
                                    "Name": "Mike Yastrzemski",
                                    "MaxHomeRuns": "21"
                                },
                                {
                                    "Name": "Christian Yelich",
                                    "MaxHomeRuns": "44"
                                },
                                {
                                    "Name": "Alex Young",
                                    "MaxHomeRuns": "0"
                                },
                                {
                                    "Name": "Mark Zagunis",
                                    "MaxHomeRuns": "0"
                                },
                                {
                                    "Name": "Seby Zavala",
                                    "MaxHomeRuns": "0"
                                },
                                {
                                    "Name": "Ryan Zimmerman",
                                    "MaxHomeRuns": "6"
                                },
                                {
                                    "Name": "Ben Zobrist",
                                    "MaxHomeRuns": "1"
                                },
                                {
                                    "Name": "Mike Zunino",
                                    "MaxHomeRuns": "9"
                                }
                            ]
                        },
                        "text/html": [
                            "<table>",
                            "<tr><th>Name</th><th>MaxHomeRuns</th></tr>",
                            "<tr><td>José Abreu</td><td>33</td></tr>",
                            "<tr><td>Ronald Acuna Jr.</td><td>41</td></tr>",
                            "<tr><td>Cristhian Adames</td><td>0</td></tr>",
                            "<tr><td>Willy Adames</td><td>20</td></tr>",
                            "<tr><td>Matt Adams</td><td>20</td></tr>",
                            "<tr><td>Ehire Adrianza</td><td>5</td></tr>",
                            "<tr><td>Dario Agrazal</td><td>0</td></tr>",
                            "<tr><td>Jesus Aguilar</td><td>8</td></tr>",
                            "<tr><td>Nick Ahmed</td><td>19</td></tr>",
                            "<tr><td>R.J. Alaniz</td><td>0</td></tr>",
                            "<tr><td>Hanser Alberto</td><td>12</td></tr>",
                            "<tr><td>Ozzie Albies</td><td>24</td></tr>",
                            "<tr><td>Sandy Alcantara</td><td>0</td></tr>",
                            "<tr><td>Jorge Alfaro</td><td>18</td></tr>",
                            "<tr><td>Anthony Alford</td><td>1</td></tr>",
                            "<tr><td>Austin Allen</td><td>0</td></tr>",
                            "<tr><td>Greg Allen</td><td>4</td></tr>",
                            "<tr><td>Logan Allen</td><td>0</td></tr>",
                            "<tr><td>Abraham Almonte</td><td>1</td></tr>",
                            "<tr><td>Albert Almora</td><td>12</td></tr>",
                            "<tr><td>Pete Alonso</td><td>53</td></tr>",
                            "<tr><td>Yonder Alonso</td><td>7</td></tr>",
                            "<tr><td>Aaron Altherr</td><td>1</td></tr>",
                            "<tr><td>Jose Altuve</td><td>31</td></tr>",
                            "<tr><td>Yordan Álvarez</td><td>27</td></tr>",
                            "<tr><td>Brett Anderson</td><td>0</td></tr>",
                            "<tr><td>Brian Anderson</td><td>20</td></tr>",
                            "<tr><td>Chase Anderson</td><td>0</td></tr>",
                            "<tr><td>Shaun Anderson</td><td>0</td></tr>",
                            "<tr><td>Tim Anderson</td><td>18</td></tr>",
                            "<tr><td>Tyler Anderson</td><td>0</td></tr>",
                            "<tr><td>Elvis Andrus</td><td>12</td></tr>",
                            "<tr><td>Miguel Andujar</td><td>0</td></tr>",
                            "<tr><td>Aristides Aquino</td><td>19</td></tr>",
                            "<tr><td>Chris Archer</td><td>0</td></tr>",
                            "<tr><td>Orlando Arcia</td><td>15</td></tr>",
                            "<tr><td>Nolan Arenado</td><td>41</td></tr>",
                            "<tr><td>Randy Arozarena</td><td>1</td></tr>",
                            "<tr><td>Luis Arraez</td><td>4</td></tr>",
                            "<tr><td>Jake Arrieta</td><td>0</td></tr>",
                            "<tr><td>Christian Arroyo</td><td>2</td></tr>",
                            "<tr><td>Humberto Arteaga</td><td>0</td></tr>",
                            "<tr><td>Willians Astudillo</td><td>4</td></tr>",
                            "<tr><td>Tyler Austin</td><td>8</td></tr>",
                            "<tr><td>Abiatal Avelino</td><td>0</td></tr>",
                            "<tr><td>Alex Avila</td><td>9</td></tr>",
                            "<tr><td>Harrison Bader</td><td>12</td></tr>",
                            "<tr><td>Javier Baez</td><td>29</td></tr>",
                            "<tr><td>Homer Bailey</td><td>0</td></tr>",
                            "<tr><td>Austin Barnes</td><td>5</td></tr>",
                            "<tr><td>Tucker Barnhart</td><td>11</td></tr>",
                            "<tr><td>Steven Baron</td><td>0</td></tr>",
                            "<tr><td>Franklin Barreto</td><td>2</td></tr>",
                            "<tr><td>Trevor Bauer</td><td>0</td></tr>",
                            "<tr><td>Jake Bauers</td><td>12</td></tr>",
                            "<tr><td>Matt Beaty</td><td>9</td></tr>",
                            "<tr><td>Gordon Beckham</td><td>6</td></tr>",
                            "<tr><td>Tim Beckham</td><td>15</td></tr>",
                            "<tr><td>Tyler Beede</td><td>0</td></tr>",
                            "<tr><td>Josh Bell</td><td>37</td></tr>",
                            "<tr><td>Cody Bellinger</td><td>47</td></tr>",
                            "<tr><td>Brandon Belt</td><td>17</td></tr>",
                            "<tr><td>Anthony Bemboom</td><td>1</td></tr>",
                            "<tr><td>Andrew Benintendi</td><td>13</td></tr>",
                            "<tr><td>Jon Berti</td><td>6</td></tr>",
                            "<tr><td>Mookie Betts</td><td>29</td></tr>",
                            "<tr><td>Bo Bichette</td><td>11</td></tr>",
                            "<tr><td>Cavan Biggio</td><td>16</td></tr>",
                            "<tr><td>Greg Bird</td><td>1</td></tr>",
                            "<tr><td>Braden Bishop</td><td>0</td></tr>",
                            "<tr><td>Charlie Blackmon</td><td>32</td></tr>",
                            "<tr><td>Alex Blandino</td><td>1</td></tr>",
                            "<tr><td>Xander Bogaerts</td><td>33</td></tr>",
                            "<tr><td>Skye Bolt</td><td>0</td></tr>",
                            "<tr><td>Jorge Bonifacio</td><td>0</td></tr>",
                            "<tr><td>David Bote</td><td>11</td></tr>",
                            "<tr><td>Justin Bour</td><td>8</td></tr>",
                            "<tr><td>Peter Bourjos</td><td>0</td></tr>",
                            "<tr><td>Matthew Boyd</td><td>0</td></tr>",
                            "<tr><td>Brad Brach</td><td>0</td></tr>",
                            "<tr><td>Bobby Bradley</td><td>1</td></tr>",
                            "<tr><td>Jackie Bradley Jr.</td><td>21</td></tr>",
                            "<tr><td>Michael Brantley</td><td>22</td></tr>",
                            "<tr><td>Steven Brault</td><td>1</td></tr>",
                            "<tr><td>Ryan Braun</td><td>22</td></tr>",
                            "<tr><td>John Brebbia</td><td>0</td></tr>",
                            "<tr><td>Alex Bregman</td><td>41</td></tr>",
                            "<tr><td>Lewis Brinson</td><td>0</td></tr>",
                            "<tr><td>Socrates Brito</td><td>0</td></tr>",
                            "<tr><td>Mike Brosseau</td><td>6</td></tr>",
                            "<tr><td>Seth Brown</td><td>0</td></tr>",
                            "<tr><td>Keon Broxton</td><td>4</td></tr>",
                            "<tr><td>Jay Bruce</td><td>14</td></tr>",
                            "<tr><td>Kris Bryant</td><td>31</td></tr>",
                            "<tr><td>Walker Buehler</td><td>1</td></tr>",
                            "<tr><td>Madison Bumgarner</td><td>2</td></tr>",
                            "<tr><td>Corbin Burnes</td><td>0</td></tr>",
                            "<tr><td>Drew Butera</td><td>0</td></tr>",
                            "<tr><td>Byron Buxton</td><td>10</td></tr>",
                            "<tr><td>Asdrubal Cabrera</td><td>12</td></tr>",
                            "<tr><td>Melky Cabrera</td><td>7</td></tr>",
                            "<tr><td>Miguel Cabrera</td><td>12</td></tr>",
                            "<tr><td>Trevor Cahill</td><td>0</td></tr>",
                            "<tr><td>Lorenzo Cain</td><td>11</td></tr>",
                            "<tr><td>Kole Calhoun</td><td>33</td></tr>",
                            "<tr><td>Willie Calhoun</td><td>21</td></tr>",
                            "<tr><td>Johan Camargo</td><td>7</td></tr>",
                            "<tr><td>Jeimer Candelario</td><td>8</td></tr>",
                            "<tr><td>Mark Canha</td><td>26</td></tr>",
                            "<tr><td>Robinson Cano</td><td>13</td></tr>",
                            "<tr><td>Victor Caratini</td><td>11</td></tr>",
                            "<tr><td>Matt Carpenter</td><td>15</td></tr>",
                            "<tr><td>Curt Casali</td><td>8</td></tr>",
                            "<tr><td>Nicholas Castellanos</td><td>16</td></tr>",
                            "<tr><td>Luis Castillo</td><td>0</td></tr>",
                            "<tr><td>Welington Castillo</td><td>12</td></tr>",
                            "<tr><td>Wilkin Castillo</td><td>0</td></tr>",
                            "<tr><td>Harold Castro</td><td>5</td></tr>",
                            "<tr><td>Jason Castro</td><td>13</td></tr>",
                            "<tr><td>Starlin Castro</td><td>22</td></tr>",
                            "<tr><td>Willi Castro</td><td>1</td></tr>",
                            "<tr><td>Jake Cave</td><td>8</td></tr>",
                            "<tr><td>Juan Centeno</td><td>0</td></tr>",
                            "<tr><td>Francisco Cervelli</td><td>2</td></tr>",
                            "<tr><td>Jhoulys Chacin</td><td>1</td></tr>",
                            "<tr><td>Yu Chang</td><td>1</td></tr>",
                            "<tr><td>Matt Chapman</td><td>36</td></tr>",
                            "<tr><td>Tyler Chatwood</td><td>0</td></tr>",
                            "<tr><td>Jesse Chavez</td><td>0</td></tr>",
                            "<tr><td>Michael Chavis</td><td>18</td></tr>",
                            "<tr><td>Robinson Chirinos</td><td>17</td></tr>",
                            "<tr><td>Ji-Man Choi</td><td>19</td></tr>",
                            "<tr><td>Shin-Soo Choo</td><td>24</td></tr>",
                            "<tr><td>Nick Ciuffo</td><td>0</td></tr>",
                            "<tr><td>Taylor Clarke</td><td>1</td></tr>",
                            "<tr><td>Zack Collins</td><td>3</td></tr>",
                            "<tr><td>Christian Colon</td><td>0</td></tr>",
                            "<tr><td>Michael Conforto</td><td>33</td></tr>",
                            "<tr><td>Willson Contreras</td><td>24</td></tr>",
                            "<tr><td>Garrett Cooper</td><td>15</td></tr>",
                            "<tr><td>Patrick Corbin</td><td>0</td></tr>",
                            "<tr><td>Ryan Cordell</td><td>7</td></tr>",
                            "<tr><td>Franchy Cordero</td><td>0</td></tr>",
                            "<tr><td>Carlos Correa</td><td>21</td></tr>",
                            "<tr><td>Ryan Court</td><td>1</td></tr>",
                            "<tr><td>Kaleb Cowart</td><td>0</td></tr>",
                            "<tr><td>Zack Cozart</td><td>0</td></tr>",
                            "<tr><td>Brandon Crawford</td><td>11</td></tr>",
                            "<tr><td>J.P. Crawford</td><td>7</td></tr>",
                            "<tr><td>C.J. Cron</td><td>25</td></tr>",
                            "<tr><td>Kevin Cron</td><td>6</td></tr>",
                            "<tr><td>Nelson Cruz</td><td>41</td></tr>",
                            "<tr><td>Charlie Culberson</td><td>5</td></tr>",
                            "<tr><td>Cheslor Cuthbert</td><td>9</td></tr>",
                            "<tr><td>Travis d&#39;Arnaud</td><td>16</td></tr>",
                            "<tr><td>David Dahl</td><td>15</td></tr>",
                            "<tr><td>Yu Darvish</td><td>0</td></tr>",
                            "<tr><td>Zach Davies</td><td>0</td></tr>",
                            "<tr><td>Chris Davis</td><td>12</td></tr>",
                            "<tr><td>J.D. Davis</td><td>22</td></tr>",
                            "<tr><td>Jaylin Davis</td><td>1</td></tr>",
                            "<tr><td>Johnny Davis</td><td>0</td></tr>",
                            "<tr><td>Jonathan Davis</td><td>2</td></tr>",
                            "<tr><td>Khris Davis</td><td>23</td></tr>",
                            "<tr><td>Rajai Davis</td><td>1</td></tr>",
                            "<tr><td>Taylor Davis</td><td>1</td></tr>",
                            "<tr><td>Yonathan Daza</td><td>0</td></tr>",
                            "<tr><td>Austin Dean</td><td>6</td></tr>",
                            "<tr><td>Jacob deGrom</td><td>2</td></tr>",
                            "<tr><td>Paul DeJong</td><td>30</td></tr>",
                            "<tr><td>Nicky Delmonico</td><td>1</td></tr>",
                            "<tr><td>Travis Demeritte</td><td>3</td></tr>",
                            "<tr><td>Daniel Descalso</td><td>2</td></tr>",
                            "<tr><td>Anthony DeSclafani</td><td>0</td></tr>",
                            "<tr><td>Delino DeShields</td><td>4</td></tr>",
                            "<tr><td>Ian Desmond</td><td>20</td></tr>",
                            "<tr><td>Rafael Devers</td><td>32</td></tr>",
                            "<tr><td>Aledmys Díaz</td><td>9</td></tr>",
                            "<tr><td>Elias Diaz</td><td>2</td></tr>",
                            "<tr><td>Isan Diaz</td><td>5</td></tr>",
                            "<tr><td>Yandy Díaz</td><td>14</td></tr>",
                            "<tr><td>Alex Dickerson</td><td>6</td></tr>",
                            "<tr><td>Corey Dickerson</td><td>8</td></tr>",
                            "<tr><td>Derek Dietrich</td><td>19</td></tr>",
                            "<tr><td>Wilmer Difo</td><td>2</td></tr>",
                            "<tr><td>Nick Dini</td><td>2</td></tr>",
                            "<tr><td>Brandon Dixon</td><td>15</td></tr>",
                            "<tr><td>Josh Donaldson</td><td>37</td></tr>",
                            "<tr><td>Brian Dozier</td><td>20</td></tr>",
                            "<tr><td>Hunter Dozier</td><td>26</td></tr>",
                            "<tr><td>Oliver Drake</td><td>0</td></tr>",
                            "<tr><td>Brandon Drury</td><td>15</td></tr>",
                            "<tr><td>Mauricio Dubon</td><td>4</td></tr>",
                            "<tr><td>Lucas Duda</td><td>4</td></tr>",
                            "<tr><td>Danny Duffy</td><td>0</td></tr>",
                            "<tr><td>Matt Duffy</td><td>1</td></tr>",
                            "<tr><td>Steven Duggar</td><td>4</td></tr>",
                            "<tr><td>Jon Duplantier</td><td>0</td></tr>",
                            "<tr><td>Montana DuRapau</td><td>0</td></tr>",
                            "<tr><td>Adam Duvall</td><td>10</td></tr>",
                            "<tr><td>Jarrod Dyson</td><td>7</td></tr>",
                            "<tr><td>Adam Eaton</td><td>15</td></tr>",
                            "<tr><td>Tommy Edman</td><td>11</td></tr>",
                            "<tr><td>Zach Eflin</td><td>0</td></tr>",
                            "<tr><td>Jake Elmore</td><td>0</td></tr>",
                            "<tr><td>Edwin Encarnacion</td><td>21</td></tr>",
                            "<tr><td>Adam Engel</td><td>6</td></tr>",
                            "<tr><td>Phil Ervin</td><td>7</td></tr>",
                            "<tr><td>Eduardo Escobar</td><td>35</td></tr>",
                            "<tr><td>Thairo Estrada</td><td>3</td></tr>",
                            "<tr><td>Kyle Farmer</td><td>9</td></tr>",
                            "<tr><td>Erick Fedde</td><td>0</td></tr>",
                            "<tr><td>Tim Federowicz</td><td>4</td></tr>",
                            "<tr><td>Caleb Ferguson</td><td>0</td></tr>",
                            "<tr><td>Derek Fisher</td><td>6</td></tr>",
                            "<tr><td>Jack Flaherty</td><td>0</td></tr>",
                            "<tr><td>Ryan Flaherty</td><td>0</td></tr>",
                            "<tr><td>David Fletcher</td><td>6</td></tr>",
                            "<tr><td>Chris Flexen</td><td>0</td></tr>",
                            "<tr><td>Wilmer Flores</td><td>9</td></tr>",
                            "<tr><td>Tyler Flowers</td><td>11</td></tr>",
                            "<tr><td>Mike Foltynewicz</td><td>0</td></tr>",
                            "<tr><td>Wilmer Font</td><td>0</td></tr>",
                            "<tr><td>Mike Ford</td><td>12</td></tr>",
                            "<tr><td>Logan Forsythe</td><td>7</td></tr>",
                            "<tr><td>Dexter Fowler</td><td>19</td></tr>",
                            "<tr><td>Jake Fraley</td><td>0</td></tr>",
                            "<tr><td>Ty France</td><td>7</td></tr>",
                            "<tr><td>Maikel Franco</td><td>17</td></tr>",
                            "<tr><td>Adam Frazier</td><td>10</td></tr>",
                            "<tr><td>Clint Frazier</td><td>12</td></tr>",
                            "<tr><td>Todd Frazier</td><td>21</td></tr>",
                            "<tr><td>Kyle Freeland</td><td>0</td></tr>",
                            "<tr><td>Freddie Freeman</td><td>38</td></tr>",
                            "<tr><td>Mike Freeman</td><td>4</td></tr>",
                            "<tr><td>David Freese</td><td>11</td></tr>",
                            "<tr><td>David Freitas</td><td>0</td></tr>",
                            "<tr><td>Max Fried</td><td>0</td></tr>",
                            "<tr><td>Josh Fuentes</td><td>3</td></tr>",
                            "<tr><td>Drew Gagnon</td><td>0</td></tr>",
                            "<tr><td>Rocky Gale</td><td>0</td></tr>",
                            "<tr><td>Cam Gallagher</td><td>3</td></tr>",
                            "<tr><td>Zac Gallen</td><td>0</td></tr>",
                            "<tr><td>Joey Gallo</td><td>22</td></tr>",
                            "<tr><td>Isaac Galloway</td><td>0</td></tr>",
                            "<tr><td>Freddy Galvis</td><td>18</td></tr>",
                            "<tr><td>Ben Gamel</td><td>7</td></tr>",
                            "<tr><td>Aramis Garcia</td><td>2</td></tr>",
                            "<tr><td>Avisail Garcia</td><td>20</td></tr>",
                            "<tr><td>Greg Garcia</td><td>4</td></tr>",
                            "<tr><td>Leury Garcia</td><td>8</td></tr>",
                            "<tr><td>Robel Garcia</td><td>5</td></tr>",
                            "<tr><td>Brett Gardner</td><td>28</td></tr>",
                            "<tr><td>Kyle Garlick</td><td>3</td></tr>",
                            "<tr><td>Dustin Garneau</td><td>2</td></tr>",
                            "<tr><td>Mitch Garver</td><td>31</td></tr>",
                            "<tr><td>Kevin Gausman</td><td>0</td></tr>",
                            "<tr><td>Scooter Gennett</td><td>2</td></tr>",
                            "<tr><td>Mike Gerber</td><td>0</td></tr>",
                            "<tr><td>Lucas Giolito</td><td>0</td></tr>",
                            "<tr><td>Zack Godley</td><td>0</td></tr>",
                            "<tr><td>Ryan Goins</td><td>2</td></tr>",
                            "<tr><td>Paul Goldschmidt</td><td>34</td></tr>",
                            "<tr><td>Yan Gomes</td><td>12</td></tr>",
                            "<tr><td>Carlos Gomez</td><td>3</td></tr>",
                            "<tr><td>Tony Gonsolin</td><td>0</td></tr>",
                            "<tr><td>Marco Gonzales</td><td>0</td></tr>",
                            "<tr><td>Carlos Gonzalez</td><td>2</td></tr>",
                            "<tr><td>Chi Chi Gonzalez</td><td>0</td></tr>",
                            "<tr><td>Erik Gonzalez</td><td>1</td></tr>",
                            "<tr><td>Gio Gonzalez</td><td>0</td></tr>",
                            "<tr><td>Marwin Gonzalez</td><td>15</td></tr>",
                            "<tr><td>Niko Goodrum</td><td>12</td></tr>",
                            "<tr><td>Brian Goodwin</td><td>17</td></tr>",
                            "<tr><td>Alex Gordon</td><td>13</td></tr>",
                            "<tr><td>Dee Gordon</td><td>3</td></tr>",
                            "<tr><td>Terrance Gore</td><td>0</td></tr>",
                            "<tr><td>Phil Gosselin</td><td>0</td></tr>",
                            "<tr><td>Yasmani Grandal</td><td>28</td></tr>",
                            "<tr><td>Curtis Granderson</td><td>12</td></tr>",
                            "<tr><td>Juan Graterol</td><td>0</td></tr>",
                            "<tr><td>Jon Gray</td><td>0</td></tr>",
                            "<tr><td>Sonny Gray</td><td>0</td></tr>",
                            "<tr><td>Zach Green</td><td>0</td></tr>",
                            "<tr><td>Didi Gregorius</td><td>16</td></tr>",
                            "<tr><td>Grayson Greiner</td><td>5</td></tr>",
                            "<tr><td>Zack Greinke</td><td>3</td></tr>",
                            "<tr><td>Randal Grichuk</td><td>31</td></tr>",
                            "<tr><td>Trent Grisham</td><td>6</td></tr>",
                            "<tr><td>Robbie Grossman</td><td>6</td></tr>",
                            "<tr><td>Deivy Grullon</td><td>0</td></tr>",
                            "<tr><td>Junior Guerra</td><td>0</td></tr>",
                            "<tr><td>Vladimir Guerrero Jr.</td><td>15</td></tr>",
                            "<tr><td>Luis Guillorme</td><td>1</td></tr>",
                            "<tr><td>Lourdes Gurriel Jr.</td><td>20</td></tr>",
                            "<tr><td>Yuli Gurriel</td><td>31</td></tr>",
                            "<tr><td>Kelvin Gutierrez</td><td>1</td></tr>",
                            "<tr><td>Ronald Guzman</td><td>10</td></tr>",
                            "<tr><td>Jedd Gyorko</td><td>2</td></tr>",
                            "<tr><td>Eric Haase</td><td>1</td></tr>",
                            "<tr><td>Cole Hamels</td><td>0</td></tr>",
                            "<tr><td>Billy Hamilton</td><td>0</td></tr>",
                            "<tr><td>Garrett Hampson</td><td>8</td></tr>",
                            "<tr><td>Mitch Haniger</td><td>15</td></tr>",
                            "<tr><td>Alen Hanson</td><td>0</td></tr>",
                            "<tr><td>Ian Happ</td><td>11</td></tr>",
                            "<tr><td>Bryce Harper</td><td>35</td></tr>",
                            "<tr><td>Josh Harrison</td><td>1</td></tr>",
                            "<tr><td>Adam Haseley</td><td>5</td></tr>",
                            "<tr><td>Austin Hays</td><td>4</td></tr>",
                            "<tr><td>Ryon Healy</td><td>7</td></tr>",
                            "<tr><td>Adeiny Hechavarria</td><td>5</td></tr>",
                            "<tr><td>Austin Hedges</td><td>11</td></tr>",
                            "<tr><td>Scott Heineman</td><td>2</td></tr>",
                            "<tr><td>Tyler Heineman</td><td>1</td></tr>",
                            "<tr><td>Jeremy Hellickson</td><td>0</td></tr>",
                            "<tr><td>Ryan Helsley</td><td>0</td></tr>",
                            "<tr><td>Kyle Hendricks</td><td>0</td></tr>",
                            "<tr><td>Guillermo Heredia</td><td>5</td></tr>",
                            "<tr><td>Michael Hermosillo</td><td>0</td></tr>",
                            "<tr><td>Cesar Hernandez</td><td>14</td></tr>",
                            "<tr><td>Elieser Hernandez</td><td>0</td></tr>",
                            "<tr><td>Enrique Hernandez</td><td>17</td></tr>",
                            "<tr><td>Gorkys Hernandez</td><td>0</td></tr>",
                            "<tr><td>Marco Hernandez</td><td>2</td></tr>",
                            "<tr><td>Teoscar Hernandez</td><td>26</td></tr>",
                            "<tr><td>Odubel Herrera</td><td>1</td></tr>",
                            "<tr><td>Rosell Herrera</td><td>2</td></tr>",
                            "<tr><td>Chris Herrmann</td><td>1</td></tr>",
                            "<tr><td>Jason Heyward</td><td>21</td></tr>",
                            "<tr><td>Aaron Hicks</td><td>12</td></tr>",
                            "<tr><td>John Hicks</td><td>13</td></tr>",
                            "<tr><td>Kyle Higashioka</td><td>3</td></tr>",
                            "<tr><td>Rich Hill</td><td>0</td></tr>",
                            "<tr><td>Sam Hilliard</td><td>7</td></tr>",
                            "<tr><td>Keston Hiura</td><td>19</td></tr>",
                            "<tr><td>Nico Hoerner</td><td>3</td></tr>",
                            "<tr><td>Jeff Hoffman</td><td>0</td></tr>",
                            "<tr><td>Bryan Holaday</td><td>4</td></tr>",
                            "<tr><td>Derek Holland</td><td>0</td></tr>",
                            "<tr><td>Brock Holt</td><td>3</td></tr>",
                            "<tr><td>Rhys Hoskins</td><td>29</td></tr>",
                            "<tr><td>Eric Hosmer</td><td>22</td></tr>",
                            "<tr><td>Adrian Houser</td><td>0</td></tr>",
                            "<tr><td>Dakota Hudson</td><td>0</td></tr>",
                            "<tr><td>Nick Hundley</td><td>2</td></tr>",
                            "<tr><td>Chris Iannetta</td><td>6</td></tr>",
                            "<tr><td>José Iglesias</td><td>11</td></tr>",
                            "<tr><td>Ender Inciarte</td><td>5</td></tr>",
                            "<tr><td>Cole Irvin</td><td>0</td></tr>",
                            "<tr><td>Travis Jankowski</td><td>0</td></tr>",
                            "<tr><td>Danny Jansen</td><td>13</td></tr>",
                            "<tr><td>Jon Jay</td><td>0</td></tr>",
                            "<tr><td>Eloy Jimenez</td><td>31</td></tr>",
                            "<tr><td>Connor Joe</td><td>0</td></tr>",
                            "<tr><td>Adam Jones</td><td>16</td></tr>",
                            "<tr><td>JaCoby Jones</td><td>11</td></tr>",
                            "<tr><td>Caleb Joseph</td><td>0</td></tr>",
                            "<tr><td>Corban Joseph</td><td>1</td></tr>",
                            "<tr><td>Matthew Joyce</td><td>7</td></tr>",
                            "<tr><td>Aaron Judge</td><td>27</td></tr>",
                            "<tr><td>Jung Ho Kang</td><td>10</td></tr>",
                            "<tr><td>Brad Keller</td><td>0</td></tr>",
                            "<tr><td>Carson Kelly</td><td>18</td></tr>",
                            "<tr><td>Merrill Kelly</td><td>0</td></tr>",
                            "<tr><td>Matt Kemp</td><td>1</td></tr>",
                            "<tr><td>Tony Kemp</td><td>7</td></tr>",
                            "<tr><td>Howie Kendrick</td><td>17</td></tr>",
                            "<tr><td>Max Kepler</td><td>36</td></tr>",
                            "<tr><td>Clayton Kershaw</td><td>0</td></tr>",
                            "<tr><td>Dallas Keuchel</td><td>0</td></tr>",
                            "<tr><td>Carter Kieboom</td><td>2</td></tr>",
                            "<tr><td>Kevin Kiermaier</td><td>14</td></tr>",
                            "<tr><td>Isiah Kiner-Falefa</td><td>1</td></tr>",
                            "<tr><td>Scott Kingery</td><td>19</td></tr>",
                            "<tr><td>Ian Kinsler</td><td>9</td></tr>",
                            "<tr><td>Jason Kipnis</td><td>17</td></tr>",
                            "<tr><td>Andrew Knapp</td><td>2</td></tr>",
                            "<tr><td>Andrew Knizner</td><td>2</td></tr>",
                            "<tr><td>Kevin Kramer</td><td>0</td></tr>",
                            "<tr><td>Erik Kratz</td><td>1</td></tr>",
                            "<tr><td>Tommy La Stella</td><td>16</td></tr>",
                            "<tr><td>Juan Lagares</td><td>5</td></tr>",
                            "<tr><td>Ryan LaMarre</td><td>2</td></tr>",
                            "<tr><td>Jake Lamb</td><td>6</td></tr>",
                            "<tr><td>Peter Lambert</td><td>0</td></tr>",
                            "<tr><td>Dinelson Lamet</td><td>0</td></tr>",
                            "<tr><td>Eric Lauer</td><td>0</td></tr>",
                            "<tr><td>Ramon Laureano</td><td>24</td></tr>",
                            "<tr><td>Ryan Lavarnway</td><td>2</td></tr>",
                            "<tr><td>Mike Leake</td><td>0</td></tr>",
                            "<tr><td>DJ LeMahieu</td><td>26</td></tr>",
                            "<tr><td>Sandy Leon</td><td>5</td></tr>",
                            "<tr><td>Jon Lester</td><td>1</td></tr>",
                            "<tr><td>Kyle Lewis</td><td>6</td></tr>",
                            "<tr><td>Domingo Leyba</td><td>0</td></tr>",
                            "<tr><td>Tzu-Wei Lin</td><td>0</td></tr>",
                            "<tr><td>Francisco Lindor</td><td>32</td></tr>",
                            "<tr><td>Francisco Liriano</td><td>0</td></tr>",
                            "<tr><td>Tim Locastro</td><td>1</td></tr>",
                            "<tr><td>Walker Lockett</td><td>0</td></tr>",
                            "<tr><td>Shed Long</td><td>5</td></tr>",
                            "<tr><td>Evan Longoria</td><td>20</td></tr>",
                            "<tr><td>Tim Lopes</td><td>1</td></tr>",
                            "<tr><td>Nicky Lopez</td><td>2</td></tr>",
                            "<tr><td>Pablo Lopez</td><td>0</td></tr>",
                            "<tr><td>Michael Lorenzen</td><td>1</td></tr>",
                            "<tr><td>Brandon Lowe</td><td>17</td></tr>",
                            "<tr><td>Nate Lowe</td><td>7</td></tr>",
                            "<tr><td>Joey Lucchesi</td><td>0</td></tr>",
                            "<tr><td>Jonathan Lucroy</td><td>7</td></tr>",
                            "<tr><td>Dawel Lugo</td><td>6</td></tr>",
                            "<tr><td>Seth Lugo</td><td>0</td></tr>",
                            "<tr><td>Jordan Luplow</td><td>15</td></tr>",
                            "<tr><td>Gavin Lux</td><td>2</td></tr>",
                            "<tr><td>Jordan Lyles</td><td>0</td></tr>",
                            "<tr><td>Manny Machado</td><td>32</td></tr>",
                            "<tr><td>Kenta Maeda</td><td>0</td></tr>",
                            "<tr><td>Tyler Mahle</td><td>0</td></tr>",
                            "<tr><td>Luke Maile</td><td>2</td></tr>",
                            "<tr><td>Martin Maldonado</td><td>6</td></tr>",
                            "<tr><td>Trey Mancini</td><td>35</td></tr>",
                            "<tr><td>Nick Margevicius</td><td>0</td></tr>",
                            "<tr><td>Manuel Margot</td><td>12</td></tr>",
                            "<tr><td>Jake Marisnick</td><td>10</td></tr>",
                            "<tr><td>Nick Markakis</td><td>9</td></tr>",
                            "<tr><td>German Marquez</td><td>0</td></tr>",
                            "<tr><td>Ketel Marte</td><td>32</td></tr>",
                            "<tr><td>Starling Marte</td><td>23</td></tr>",
                            "<tr><td>Jason Martin</td><td>0</td></tr>",
                            "<tr><td>Leonys Martín</td><td>9</td></tr>",
                            "<tr><td>Richie Martin</td><td>6</td></tr>",
                            "<tr><td>Russell Martin</td><td>6</td></tr>",
                            "<tr><td>J.D. Martinez</td><td>36</td></tr>",
                            "<tr><td>Jose Martinez</td><td>10</td></tr>",
                            "<tr><td>Nick Martini</td><td>1</td></tr>",
                            "<tr><td>Jeff Mathis</td><td>2</td></tr>",
                            "<tr><td>Phil Maton</td><td>0</td></tr>",
                            "<tr><td>Steven Matz</td><td>1</td></tr>",
                            "<tr><td>Dustin May</td><td>0</td></tr>",
                            "<tr><td>Cameron Maybin</td><td>11</td></tr>",
                            "<tr><td>Jack Mayfield</td><td>2</td></tr>",
                            "<tr><td>Nomar Mazara</td><td>19</td></tr>",
                            "<tr><td>Ryan McBroom</td><td>0</td></tr>",
                            "<tr><td>Brian McCann</td><td>12</td></tr>",
                            "<tr><td>James McCann</td><td>18</td></tr>",
                            "<tr><td>Andrew McCutchen</td><td>10</td></tr>",
                            "<tr><td>Kyle McGowin</td><td>0</td></tr>",
                            "<tr><td>Reese McGuire</td><td>5</td></tr>",
                            "<tr><td>Brendan McKay</td><td>1</td></tr>",
                            "<tr><td>Billy McKinney</td><td>12</td></tr>",
                            "<tr><td>Ryan McMahon</td><td>24</td></tr>",
                            "<tr><td>Jeff McNeil</td><td>23</td></tr>",
                            "<tr><td>Alex McRae</td><td>0</td></tr>",
                            "<tr><td>Austin Meadows</td><td>33</td></tr>",
                            "<tr><td>John Means</td><td>0</td></tr>",
                            "<tr><td>Erick Mejia</td><td>0</td></tr>",
                            "<tr><td>Francisco Mejia</td><td>8</td></tr>",
                            "<tr><td>Seth Mejias-Brean</td><td>2</td></tr>",
                            "<tr><td>Tim Melville</td><td>0</td></tr>",
                            "<tr><td>Danny Mendick</td><td>2</td></tr>",
                            "<tr><td>Oscar Mercado</td><td>15</td></tr>",
                            "<tr><td>Jordy Mercer</td><td>9</td></tr>",
                            "<tr><td>Whit Merrifield</td><td>16</td></tr>",
                            "<tr><td>Miles Mikolas</td><td>0</td></tr>",
                            "<tr><td>Brad Miller</td><td>12</td></tr>",
                            "<tr><td>Ian Miller</td><td>0</td></tr>",
                            "<tr><td>Alec Mills</td><td>0</td></tr>",
                            "<tr><td>Yadier Molina</td><td>10</td></tr>",
                            "<tr><td>Yoan Moncada</td><td>25</td></tr>",
                            "<tr><td>Adalberto Mondesi</td><td>9</td></tr>",
                            "<tr><td>Mike Montgomery</td><td>0</td></tr>",
                            "<tr><td>Dylan Moore</td><td>9</td></tr>",
                            "<tr><td>Kendrys Morales</td><td>1</td></tr>",
                            "<tr><td>Colin Moran</td><td>13</td></tr>",
                            "<tr><td>Mitch Moreland</td><td>19</td></tr>",
                            "<tr><td>Max Moroff</td><td>1</td></tr>",
                            "<tr><td>Logan Morrison</td><td>2</td></tr>",
                            "<tr><td>Mike Moustakas</td><td>35</td></tr>",
                            "<tr><td>Cedric Mullins</td><td>0</td></tr>",
                            "<tr><td>Max Muncy</td><td>35</td></tr>",
                            "<tr><td>Yairo Munoz</td><td>2</td></tr>",
                            "<tr><td>Daniel Murphy</td><td>13</td></tr>",
                            "<tr><td>John Ryan Murphy</td><td>4</td></tr>",
                            "<tr><td>Sean Murphy</td><td>4</td></tr>",
                            "<tr><td>Tom Murphy</td><td>18</td></tr>",
                            "<tr><td>Joe Musgrove</td><td>0</td></tr>",
                            "<tr><td>Wil Myers</td><td>18</td></tr>",
                            "<tr><td>Tyler Naquin</td><td>10</td></tr>",
                            "<tr><td>Omar Narvaez</td><td>22</td></tr>",
                            "<tr><td>Josh Naylor</td><td>8</td></tr>",
                            "<tr><td>Kristopher Negron</td><td>2</td></tr>",
                            "<tr><td>Sheldon Neuse</td><td>0</td></tr>",
                            "<tr><td>Kevin Newman</td><td>12</td></tr>",
                            "<tr><td>Tomas Nido</td><td>4</td></tr>",
                            "<tr><td>Brandon Nimmo</td><td>8</td></tr>",
                            "<tr><td>Hector Noesi</td><td>0</td></tr>",
                            "<tr><td>Aaron Nola</td><td>0</td></tr>",
                            "<tr><td>Austin Nola</td><td>10</td></tr>",
                            "<tr><td>Jake Noll</td><td>0</td></tr>",
                            "<tr><td>Daniel Norris</td><td>0</td></tr>",
                            "<tr><td>Jacob Nottingham</td><td>1</td></tr>",
                            "<tr><td>Dom Nunez</td><td>2</td></tr>",
                            "<tr><td>Eduardo Nunez</td><td>2</td></tr>",
                            "<tr><td>Renato Nunez</td><td>31</td></tr>",
                            "<tr><td>Peter O&#39;Brien</td><td>1</td></tr>",
                            "<tr><td>Brian O&#39;Grady</td><td>2</td></tr>",
                            "<tr><td>Ryan O&#39;Hearn</td><td>14</td></tr>",
                            "<tr><td>Tyler O&#39;Neill</td><td>5</td></tr>",
                            "<tr><td>Rougned Odor</td><td>30</td></tr>",
                            "<tr><td>Shohei Ohtani</td><td>18</td></tr>",
                            "<tr><td>Matt Olson</td><td>36</td></tr>",
                            "<tr><td>Rafael Ortega</td><td>2</td></tr>",
                            "<tr><td>Jose Osuna</td><td>10</td></tr>",
                            "<tr><td>Chris Owings</td><td>2</td></tr>",
                            "<tr><td>Marcell Ozuna</td><td>29</td></tr>",
                            "<tr><td>Chris Paddack</td><td>0</td></tr>",
                            "<tr><td>Daniel Palka</td><td>2</td></tr>",
                            "<tr><td>Joe Panik</td><td>3</td></tr>",
                            "<tr><td>Gerardo Parra</td><td>8</td></tr>",
                            "<tr><td>Steve Pearce</td><td>1</td></tr>",
                            "<tr><td>Joc Pederson</td><td>36</td></tr>",
                            "<tr><td>Dustin Pedroia</td><td>0</td></tr>",
                            "<tr><td>Hunter Pence</td><td>18</td></tr>",
                            "<tr><td>David Peralta</td><td>12</td></tr>",
                            "<tr><td>Freddy Peralta</td><td>0</td></tr>",
                            "<tr><td>Jose Peraza</td><td>6</td></tr>",
                            "<tr><td>Luis Perdomo</td><td>0</td></tr>",
                            "<tr><td>Hernan Perez</td><td>8</td></tr>",
                            "<tr><td>Michael Perez</td><td>0</td></tr>",
                            "<tr><td>Roberto Perez</td><td>24</td></tr>",
                            "<tr><td>Dustin Peterson</td><td>0</td></tr>",
                            "<tr><td>Jace Peterson</td><td>2</td></tr>",
                            "<tr><td>Tommy Pham</td><td>21</td></tr>",
                            "<tr><td>Josh Phegley</td><td>12</td></tr>",
                            "<tr><td>Brett Phillips</td><td>2</td></tr>",
                            "<tr><td>Kevin Pillar</td><td>21</td></tr>",
                            "<tr><td>Manny Pina</td><td>7</td></tr>",
                            "<tr><td>Chad Pinder</td><td>13</td></tr>",
                            "<tr><td>Jose Pirela</td><td>1</td></tr>",
                            "<tr><td>Stephen Piscotty</td><td>13</td></tr>",
                            "<tr><td>Nick Pivetta</td><td>0</td></tr>",
                            "<tr><td>Kevin Plawecki</td><td>3</td></tr>",
                            "<tr><td>Gregory Polanco</td><td>6</td></tr>",
                            "<tr><td>Jorge Polanco</td><td>22</td></tr>",
                            "<tr><td>A.J. Pollock</td><td>15</td></tr>",
                            "<tr><td>Buster Posey</td><td>7</td></tr>",
                            "<tr><td>Martin Prado</td><td>2</td></tr>",
                            "<tr><td>David Price</td><td>0</td></tr>",
                            "<tr><td>Jurickson Profar</td><td>20</td></tr>",
                            "<tr><td>Cesar Puello</td><td>3</td></tr>",
                            "<tr><td>Yasiel Puig</td><td>22</td></tr>",
                            "<tr><td>Albert Pujols</td><td>23</td></tr>",
                            "<tr><td>Cal Quantrill</td><td>0</td></tr>",
                            "<tr><td>Roman Quinn</td><td>4</td></tr>",
                            "<tr><td>Jose Quintana</td><td>0</td></tr>",
                            "<tr><td>Hanley Ramirez</td><td>2</td></tr>",
                            "<tr><td>Harold Ramirez</td><td>11</td></tr>",
                            "<tr><td>Jose Ramirez</td><td>23</td></tr>",
                            "<tr><td>Wilson Ramos</td><td>14</td></tr>",
                            "<tr><td>Rangel Ravelo</td><td>2</td></tr>",
                            "<tr><td>Robbie Ray</td><td>0</td></tr>",
                            "<tr><td>Raudy Read</td><td>0</td></tr>",
                            "<tr><td>J.T. Realmuto</td><td>25</td></tr>",
                            "<tr><td>Josh Reddick</td><td>14</td></tr>",
                            "<tr><td>AJ Reed</td><td>1</td></tr>",
                            "<tr><td>Anthony Rendon</td><td>34</td></tr>",
                            "<tr><td>Hunter Renfroe</td><td>33</td></tr>",
                            "<tr><td>Luis Rengifo</td><td>7</td></tr>",
                            "<tr><td>Franmil Reyes</td><td>27</td></tr>",
                            "<tr><td>Pablo Reyes</td><td>2</td></tr>",
                            "<tr><td>Victor Reyes</td><td>3</td></tr>",
                            "<tr><td>Bryan Reynolds</td><td>16</td></tr>",
                            "<tr><td>Mark Reynolds</td><td>4</td></tr>",
                            "<tr><td>Trevor Richards</td><td>0</td></tr>",
                            "<tr><td>Joey Rickard</td><td>2</td></tr>",
                            "<tr><td>JT Riddle</td><td>6</td></tr>",
                            "<tr><td>Austin Riley</td><td>18</td></tr>",
                            "<tr><td>Edwin Rios</td><td>4</td></tr>",
                            "<tr><td>Rene Rivera</td><td>1</td></tr>",
                            "<tr><td>Yadiel Rivera</td><td>0</td></tr>",
                            "<tr><td>Anthony Rizzo</td><td>27</td></tr>",
                            "<tr><td>Tanner Roark</td><td>1</td></tr>",
                            "<tr><td>Daniel Robertson</td><td>2</td></tr>",
                            "<tr><td>Drew Robinson</td><td>0</td></tr>",
                            "<tr><td>Victor Robles</td><td>17</td></tr>",
                            "<tr><td>Brendan Rodgers</td><td>0</td></tr>",
                            "<tr><td>Dereck Rodriguez</td><td>0</td></tr>",
                            "<tr><td>Ronny Rodriguez</td><td>14</td></tr>",
                            "<tr><td>Sean Rodriguez</td><td>4</td></tr>",
                            "<tr><td>Jake Rogers</td><td>4</td></tr>",
                            "<tr><td>Josh Rojas</td><td>2</td></tr>",
                            "<tr><td>Miguel Rojas</td><td>5</td></tr>",
                            "<tr><td>Austin Romine</td><td>8</td></tr>",
                            "<tr><td>Jose Rondon</td><td>3</td></tr>",
                            "<tr><td>Amed Rosario</td><td>15</td></tr>",
                            "<tr><td>Eddie Rosario</td><td>32</td></tr>",
                            "<tr><td>Joe Ross</td><td>0</td></tr>",
                            "<tr><td>Rio Ruiz</td><td>12</td></tr>",
                            "<tr><td>Addison Russell</td><td>9</td></tr>",
                            "<tr><td>Hyun-Jin Ryu</td><td>1</td></tr>",
                            "<tr><td>Tyler Saladino</td><td>2</td></tr>",
                            "<tr><td>Jeff Samardzija</td><td>0</td></tr>",
                            "<tr><td>Adrian Sanchez</td><td>0</td></tr>",
                            "<tr><td>Anibal Sanchez</td><td>0</td></tr>",
                            "<tr><td>Gary Sanchez</td><td>34</td></tr>",
                            "<tr><td>Yolmer Sanchez</td><td>2</td></tr>",
                            "<tr><td>Pablo Sandoval</td><td>14</td></tr>",
                            "<tr><td>Miguel Sano</td><td>34</td></tr>",
                            "<tr><td>Carlos Santana</td><td>34</td></tr>",
                            "<tr><td>Danny Santana</td><td>28</td></tr>",
                            "<tr><td>Dennis Santana</td><td>0</td></tr>",
                            "<tr><td>Domingo Santana</td><td>21</td></tr>",
                            "<tr><td>Anthony Santander</td><td>20</td></tr>",
                            "<tr><td>Scott Schebler</td><td>2</td></tr>",
                            "<tr><td>Max Scherzer</td><td>0</td></tr>",
                            "<tr><td>Jonathan Schoop</td><td>23</td></tr>",
                            "<tr><td>Kyle Schwarber</td><td>38</td></tr>",
                            "<tr><td>Frank Schwindel</td><td>0</td></tr>",
                            "<tr><td>Corey Seager</td><td>19</td></tr>",
                            "<tr><td>Kyle Seager</td><td>23</td></tr>",
                            "<tr><td>Jean Segura</td><td>12</td></tr>",
                            "<tr><td>Marcus Semien</td><td>33</td></tr>",
                            "<tr><td>Antonio Senzatela</td><td>0</td></tr>",
                            "<tr><td>Nick Senzel</td><td>12</td></tr>",
                            "<tr><td>Pedro Severino</td><td>13</td></tr>",
                            "<tr><td>Chris Shaw</td><td>0</td></tr>",
                            "<tr><td>Travis Shaw</td><td>7</td></tr>",
                            "<tr><td>JB Shuck</td><td>0</td></tr>",
                            "<tr><td>Magneuris Sierra</td><td>0</td></tr>",
                            "<tr><td>Andrelton Simmons</td><td>7</td></tr>",
                            "<tr><td>Lucas Sims</td><td>0</td></tr>",
                            "<tr><td>Chance Sisco</td><td>8</td></tr>",
                            "<tr><td>Matt Skole</td><td>0</td></tr>",
                            "<tr><td>Austin Slater</td><td>5</td></tr>",
                            "<tr><td>Caleb Smith</td><td>0</td></tr>",
                            "<tr><td>Dominic Smith</td><td>11</td></tr>",
                            "<tr><td>Dwight Smith Jr.</td><td>13</td></tr>",
                            "<tr><td>Kevan Smith</td><td>5</td></tr>",
                            "<tr><td>Mallex Smith</td><td>6</td></tr>",
                            "<tr><td>Will Smith</td><td>15</td></tr>",
                            "<tr><td>Justin Smoak</td><td>22</td></tr>",
                            "<tr><td>Eric Sogard</td><td>10</td></tr>",
                            "<tr><td>Nick Solak</td><td>5</td></tr>",
                            "<tr><td>Donovan Solano</td><td>4</td></tr>",
                            "<tr><td>Yangervis Solarte</td><td>1</td></tr>",
                            "<tr><td>Jorge Soler</td><td>48</td></tr>",
                            "<tr><td>Mike Soroka</td><td>0</td></tr>",
                            "<tr><td>Edmundo Sosa</td><td>0</td></tr>",
                            "<tr><td>Gregory Soto</td><td>0</td></tr>",
                            "<tr><td>Juan Soto</td><td>34</td></tr>",
                            "<tr><td>Cory Spangenberg</td><td>2</td></tr>",
                            "<tr><td>George Springer</td><td>39</td></tr>",
                            "<tr><td>Jacob Stallings</td><td>6</td></tr>",
                            "<tr><td>Eric Stamets</td><td>0</td></tr>",
                            "<tr><td>Giancarlo Stanton</td><td>3</td></tr>",
                            "<tr><td>Bubba Starling</td><td>4</td></tr>",
                            "<tr><td>Max Stassi</td><td>1</td></tr>",
                            "<tr><td>Andrew Stevenson</td><td>0</td></tr>",
                            "<tr><td>Brock Stewart</td><td>0</td></tr>",
                            "<tr><td>Christin Stewart</td><td>10</td></tr>",
                            "<tr><td>DJ Stewart</td><td>4</td></tr>",
                            "<tr><td>Trevor Story</td><td>35</td></tr>",
                            "<tr><td>Matt Strahm</td><td>0</td></tr>",
                            "<tr><td>Stephen Strasburg</td><td>1</td></tr>",
                            "<tr><td>Myles Straw</td><td>0</td></tr>",
                            "<tr><td>Ross Stripling</td><td>0</td></tr>",
                            "<tr><td>Marcus Stroman</td><td>0</td></tr>",
                            "<tr><td>Garrett Stubbs</td><td>0</td></tr>",
                            "<tr><td>Eugenio Suarez</td><td>49</td></tr>",
                            "<tr><td>Ranger Suarez</td><td>0</td></tr>",
                            "<tr><td>Jesus Sucre</td><td>0</td></tr>",
                            "<tr><td>Kurt Suzuki</td><td>17</td></tr>",
                            "<tr><td>Dansby Swanson</td><td>17</td></tr>",
                            "<tr><td>Blake Swihart</td><td>3</td></tr>",
                            "<tr><td>Noah Syndergaard</td><td>2</td></tr>",
                            "<tr><td>Jameson Taillon</td><td>0</td></tr>",
                            "<tr><td>Raimel Tapia</td><td>9</td></tr>",
                            "<tr><td>Fernando Tatis Jr.</td><td>22</td></tr>",
                            "<tr><td>Mike Tauchman</td><td>13</td></tr>",
                            "<tr><td>Beau Taylor</td><td>2</td></tr>",
                            "<tr><td>Chris Taylor</td><td>12</td></tr>",
                            "<tr><td>Michael A. Taylor</td><td>1</td></tr>",
                            "<tr><td>Tyrone Taylor</td><td>0</td></tr>",
                            "<tr><td>Julio Teheran</td><td>0</td></tr>",
                            "<tr><td>Rowdy Tellez</td><td>21</td></tr>",
                            "<tr><td>Matt Thaiss</td><td>8</td></tr>",
                            "<tr><td>Eric Thames</td><td>25</td></tr>",
                            "<tr><td>Lane Thomas</td><td>4</td></tr>",
                            "<tr><td>Trent Thornton</td><td>0</td></tr>",
                            "<tr><td>Charlie Tilson</td><td>1</td></tr>",
                            "<tr><td>Jesus Tinoco</td><td>0</td></tr>",
                            "<tr><td>Abraham Toro</td><td>2</td></tr>",
                            "<tr><td>Luis Torrens</td><td>0</td></tr>",
                            "<tr><td>Gleyber Torres</td><td>38</td></tr>",
                            "<tr><td>Ronald Torreyes</td><td>0</td></tr>",
                            "<tr><td>Wilfredo Tovar</td><td>0</td></tr>",
                            "<tr><td>Sam Travis</td><td>6</td></tr>",
                            "<tr><td>Jose Trevino</td><td>2</td></tr>",
                            "<tr><td>Mike Trout</td><td>45</td></tr>",
                            "<tr><td>Mark Trumbo</td><td>0</td></tr>",
                            "<tr><td>Cole Tucker</td><td>2</td></tr>",
                            "<tr><td>Kyle Tucker</td><td>4</td></tr>",
                            "<tr><td>Troy Tulowitzki</td><td>1</td></tr>",
                            "<tr><td>Justin Turner</td><td>27</td></tr>",
                            "<tr><td>Trea Turner</td><td>19</td></tr>",
                            "<tr><td>Justin Upton</td><td>12</td></tr>",
                            "<tr><td>Richard Urena</td><td>0</td></tr>",
                            "<tr><td>Julio Urias</td><td>0</td></tr>",
                            "<tr><td>Luis Urias</td><td>4</td></tr>",
                            "<tr><td>Gio Urshela</td><td>21</td></tr>",
                            "<tr><td>Pat Valaika</td><td>1</td></tr>",
                            "<tr><td>Breyvic Valera</td><td>1</td></tr>",
                            "<tr><td>Josh VanMeter</td><td>8</td></tr>",
                            "<tr><td>Ildemaro Vargas</td><td>6</td></tr>",
                            "<tr><td>Jason Vargas</td><td>0</td></tr>",
                            "<tr><td>Christian Vazquez</td><td>23</td></tr>",
                            "<tr><td>Vince Velasquez</td><td>1</td></tr>",
                            "<tr><td>Andrew Velazquez</td><td>0</td></tr>",
                            "<tr><td>Alex Verdugo</td><td>12</td></tr>",
                            "<tr><td>Jonathan Villar</td><td>24</td></tr>",
                            "<tr><td>Meibrys Viloria</td><td>1</td></tr>",
                            "<tr><td>Daniel Vogelbach</td><td>30</td></tr>",
                            "<tr><td>Stephen Vogt</td><td>10</td></tr>",
                            "<tr><td>Luke Voit</td><td>21</td></tr>",
                            "<tr><td>Austin Voth</td><td>0</td></tr>",
                            "<tr><td>Joey Votto</td><td>15</td></tr>",
                            "<tr><td>Michael Wacha</td><td>0</td></tr>",
                            "<tr><td>LaMonte Wade Jr</td><td>2</td></tr>",
                            "<tr><td>Tyler Wade</td><td>2</td></tr>",
                            "<tr><td>Adam Wainwright</td><td>0</td></tr>",
                            "<tr><td>Christian Walker</td><td>29</td></tr>",
                            "<tr><td>Neil Walker</td><td>8</td></tr>",
                            "<tr><td>Chad Wallach</td><td>1</td></tr>",
                            "<tr><td>Jared Walsh</td><td>1</td></tr>",
                            "<tr><td>Donovan Walton</td><td>0</td></tr>",
                            "<tr><td>Taylor Ward</td><td>1</td></tr>",
                            "<tr><td>Luke Weaver</td><td>1</td></tr>",
                            "<tr><td>Logan Webb</td><td>0</td></tr>",
                            "<tr><td>Joey Wendle</td><td>3</td></tr>",
                            "<tr><td>Zack Wheeler</td><td>1</td></tr>",
                            "<tr><td>Tyler White</td><td>3</td></tr>",
                            "<tr><td>Matt Wieters</td><td>11</td></tr>",
                            "<tr><td>Aaron Wilkerson</td><td>1</td></tr>",
                            "<tr><td>Stevie Wilkerson</td><td>10</td></tr>",
                            "<tr><td>Mason Williams</td><td>0</td></tr>",
                            "<tr><td>Nick Williams</td><td>2</td></tr>",
                            "<tr><td>Trevor Williams</td><td>0</td></tr>",
                            "<tr><td>Mac Williamson</td><td>3</td></tr>",
                            "<tr><td>Bobby Wilson</td><td>0</td></tr>",
                            "<tr><td>Bryse Wilson</td><td>0</td></tr>",
                            "<tr><td>Jesse Winker</td><td>16</td></tr>",
                            "<tr><td>Patrick Wisdom</td><td>0</td></tr>",
                            "<tr><td>Tony Wolters</td><td>1</td></tr>",
                            "<tr><td>Kean Wong</td><td>0</td></tr>",
                            "<tr><td>Kolten Wong</td><td>11</td></tr>",
                            "<tr><td>Alex Wood</td><td>0</td></tr>",
                            "<tr><td>Brandon Woodruff</td><td>0</td></tr>",
                            "<tr><td>Austin Wynns</td><td>1</td></tr>",
                            "<tr><td>Jordan Yamamoto</td><td>0</td></tr>",
                            "<tr><td>Mike Yastrzemski</td><td>21</td></tr>",
                            "<tr><td>Christian Yelich</td><td>44</td></tr>",
                            "<tr><td>Alex Young</td><td>0</td></tr>",
                            "<tr><td>Mark Zagunis</td><td>0</td></tr>",
                            "<tr><td>Seby Zavala</td><td>0</td></tr>",
                            "<tr><td>Ryan Zimmerman</td><td>6</td></tr>",
                            "<tr><td>Ben Zobrist</td><td>1</td></tr>",
                            "<tr><td>Mike Zunino</td><td>9</td></tr>",
                            "</table>"
                        ]
                    }
                }
            ],
            "execution_count": 9
        },
        {
            "cell_type": "code",
            "source": [
                "-- Show the average number of runs scored by players for each team:\n",
                "SELECT Team, AVG(Runs) AS AverageRuns\n",
                "FROM baseball\n",
                "GROUP BY Team;"
            ],
            "metadata": {
                "azdata_cell_guid": "6bf237e1-b455-4968-889e-10efe20f1ea0",
                "language": "sql"
            },
            "outputs": [
                {
                    "output_type": "display_data",
                    "data": {
                        "text/html": "(30 row(s) affected)"
                    },
                    "metadata": {}
                },
                {
                    "output_type": "display_data",
                    "data": {
                        "text/html": "Total execution time: 00:00:01.007"
                    },
                    "metadata": {}
                },
                {
                    "output_type": "execute_result",
                    "metadata": {},
                    "execution_count": 10,
                    "data": {
                        "application/vnd.dataresource+json": {
                            "schema": {
                                "fields": [
                                    {
                                        "name": "Team"
                                    },
                                    {
                                        "name": "AverageRuns"
                                    }
                                ]
                            },
                            "data": [
                                {
                                    "Team": "CHW",
                                    "AverageRuns": "30.7826"
                                },
                                {
                                    "Team": "ATL",
                                    "AverageRuns": "34.2000"
                                },
                                {
                                    "Team": "SFG",
                                    "AverageRuns": "17.8421"
                                },
                                {
                                    "Team": "TBR",
                                    "AverageRuns": "27.4643"
                                },
                                {
                                    "Team": "WSN",
                                    "AverageRuns": "30.1034"
                                },
                                {
                                    "Team": "MIN",
                                    "AverageRuns": "46.8500"
                                },
                                {
                                    "Team": "PIT",
                                    "AverageRuns": "22.9697"
                                },
                                {
                                    "Team": "MIL",
                                    "AverageRuns": "24.8065"
                                },
                                {
                                    "Team": "ARI",
                                    "AverageRuns": "27.1000"
                                },
                                {
                                    "Team": "CIN",
                                    "AverageRuns": "21.2424"
                                },
                                {
                                    "Team": "BAL",
                                    "AverageRuns": "31.6522"
                                },
                                {
                                    "Team": "MIA",
                                    "AverageRuns": "19.1875"
                                },
                                {
                                    "Team": "TOR",
                                    "AverageRuns": "30.2500"
                                },
                                {
                                    "Team": "SDP",
                                    "AverageRuns": "21.9677"
                                },
                                {
                                    "Team": "CLE",
                                    "AverageRuns": "29.5385"
                                },
                                {
                                    "Team": "CHC",
                                    "AverageRuns": "27.1333"
                                },
                                {
                                    "Team": "NYM",
                                    "AverageRuns": "24.6250"
                                },
                                {
                                    "Team": "COL",
                                    "AverageRuns": "27.8333"
                                },
                                {
                                    "Team": "PHI",
                                    "AverageRuns": "25.7667"
                                },
                                {
                                    "Team": "HOU",
                                    "AverageRuns": "41.7727"
                                },
                                {
                                    "Team": "OAK",
                                    "AverageRuns": "33.8000"
                                },
                                {
                                    "Team": "TEX",
                                    "AverageRuns": "40.5000"
                                },
                                {
                                    "Team": "NYY",
                                    "AverageRuns": "39.2500"
                                },
                                {
                                    "Team": "STL",
                                    "AverageRuns": "28.2963"
                                },
                                {
                                    "Team": "KCR",
                                    "AverageRuns": "26.5769"
                                },
                                {
                                    "Team": "LAD",
                                    "AverageRuns": "26.8485"
                                },
                                {
                                    "Team": "DET",
                                    "AverageRuns": "24.2083"
                                },
                                {
                                    "Team": "SEA",
                                    "AverageRuns": "29.1154"
                                },
                                {
                                    "Team": "LAA",
                                    "AverageRuns": "29.5000"
                                },
                                {
                                    "Team": "BOS",
                                    "AverageRuns": "40.8636"
                                }
                            ]
                        },
                        "text/html": [
                            "<table>",
                            "<tr><th>Team</th><th>AverageRuns</th></tr>",
                            "<tr><td>CHW</td><td>30.7826</td></tr>",
                            "<tr><td>ATL</td><td>34.2000</td></tr>",
                            "<tr><td>SFG</td><td>17.8421</td></tr>",
                            "<tr><td>TBR</td><td>27.4643</td></tr>",
                            "<tr><td>WSN</td><td>30.1034</td></tr>",
                            "<tr><td>MIN</td><td>46.8500</td></tr>",
                            "<tr><td>PIT</td><td>22.9697</td></tr>",
                            "<tr><td>MIL</td><td>24.8065</td></tr>",
                            "<tr><td>ARI</td><td>27.1000</td></tr>",
                            "<tr><td>CIN</td><td>21.2424</td></tr>",
                            "<tr><td>BAL</td><td>31.6522</td></tr>",
                            "<tr><td>MIA</td><td>19.1875</td></tr>",
                            "<tr><td>TOR</td><td>30.2500</td></tr>",
                            "<tr><td>SDP</td><td>21.9677</td></tr>",
                            "<tr><td>CLE</td><td>29.5385</td></tr>",
                            "<tr><td>CHC</td><td>27.1333</td></tr>",
                            "<tr><td>NYM</td><td>24.6250</td></tr>",
                            "<tr><td>COL</td><td>27.8333</td></tr>",
                            "<tr><td>PHI</td><td>25.7667</td></tr>",
                            "<tr><td>HOU</td><td>41.7727</td></tr>",
                            "<tr><td>OAK</td><td>33.8000</td></tr>",
                            "<tr><td>TEX</td><td>40.5000</td></tr>",
                            "<tr><td>NYY</td><td>39.2500</td></tr>",
                            "<tr><td>STL</td><td>28.2963</td></tr>",
                            "<tr><td>KCR</td><td>26.5769</td></tr>",
                            "<tr><td>LAD</td><td>26.8485</td></tr>",
                            "<tr><td>DET</td><td>24.2083</td></tr>",
                            "<tr><td>SEA</td><td>29.1154</td></tr>",
                            "<tr><td>LAA</td><td>29.5000</td></tr>",
                            "<tr><td>BOS</td><td>40.8636</td></tr>",
                            "</table>"
                        ]
                    }
                }
            ],
            "execution_count": 10
        },
        {
            "cell_type": "code",
            "source": [
                "-- Find the player with the maximum at-bats:\n",
                "SELECT Name, MAX(AtBats) AS MaxAtBats\n",
                "FROM baseball\n",
                "GROUP by Name;"
            ],
            "metadata": {
                "azdata_cell_guid": "f9b9dc3d-93b2-4131-b501-41554a1af977",
                "language": "sql"
            },
            "outputs": [
                {
                    "output_type": "display_data",
                    "data": {
                        "text/html": "(768 row(s) affected)"
                    },
                    "metadata": {}
                },
                {
                    "output_type": "display_data",
                    "data": {
                        "text/html": "Total execution time: 00:00:01.004"
                    },
                    "metadata": {}
                },
                {
                    "output_type": "execute_result",
                    "metadata": {},
                    "execution_count": 12,
                    "data": {
                        "application/vnd.dataresource+json": {
                            "schema": {
                                "fields": [
                                    {
                                        "name": "Name"
                                    },
                                    {
                                        "name": "MaxAtBats"
                                    }
                                ]
                            },
                            "data": [
                                {
                                    "Name": "José Abreu",
                                    "MaxAtBats": "634"
                                },
                                {
                                    "Name": "Ronald Acuna Jr.",
                                    "MaxAtBats": "626"
                                },
                                {
                                    "Name": "Cristhian Adames",
                                    "MaxAtBats": "22"
                                },
                                {
                                    "Name": "Willy Adames",
                                    "MaxAtBats": "531"
                                },
                                {
                                    "Name": "Matt Adams",
                                    "MaxAtBats": "310"
                                },
                                {
                                    "Name": "Ehire Adrianza",
                                    "MaxAtBats": "202"
                                },
                                {
                                    "Name": "Dario Agrazal",
                                    "MaxAtBats": "22"
                                },
                                {
                                    "Name": "Jesus Aguilar",
                                    "MaxAtBats": "222"
                                },
                                {
                                    "Name": "Nick Ahmed",
                                    "MaxAtBats": "556"
                                },
                                {
                                    "Name": "R.J. Alaniz",
                                    "MaxAtBats": "1"
                                },
                                {
                                    "Name": "Hanser Alberto",
                                    "MaxAtBats": "524"
                                },
                                {
                                    "Name": "Ozzie Albies",
                                    "MaxAtBats": "640"
                                },
                                {
                                    "Name": "Sandy Alcantara",
                                    "MaxAtBats": "58"
                                },
                                {
                                    "Name": "Jorge Alfaro",
                                    "MaxAtBats": "431"
                                },
                                {
                                    "Name": "Anthony Alford",
                                    "MaxAtBats": "28"
                                },
                                {
                                    "Name": "Austin Allen",
                                    "MaxAtBats": "65"
                                },
                                {
                                    "Name": "Greg Allen",
                                    "MaxAtBats": "231"
                                },
                                {
                                    "Name": "Logan Allen",
                                    "MaxAtBats": "4"
                                },
                                {
                                    "Name": "Abraham Almonte",
                                    "MaxAtBats": "31"
                                },
                                {
                                    "Name": "Albert Almora",
                                    "MaxAtBats": "339"
                                },
                                {
                                    "Name": "Pete Alonso",
                                    "MaxAtBats": "597"
                                },
                                {
                                    "Name": "Yonder Alonso",
                                    "MaxAtBats": "219"
                                },
                                {
                                    "Name": "Aaron Altherr",
                                    "MaxAtBats": "31"
                                },
                                {
                                    "Name": "Jose Altuve",
                                    "MaxAtBats": "500"
                                },
                                {
                                    "Name": "Yordan Álvarez",
                                    "MaxAtBats": "313"
                                },
                                {
                                    "Name": "Brett Anderson",
                                    "MaxAtBats": "8"
                                },
                                {
                                    "Name": "Brian Anderson",
                                    "MaxAtBats": "459"
                                },
                                {
                                    "Name": "Chase Anderson",
                                    "MaxAtBats": "40"
                                },
                                {
                                    "Name": "Shaun Anderson",
                                    "MaxAtBats": "25"
                                },
                                {
                                    "Name": "Tim Anderson",
                                    "MaxAtBats": "498"
                                },
                                {
                                    "Name": "Tyler Anderson",
                                    "MaxAtBats": "7"
                                },
                                {
                                    "Name": "Elvis Andrus",
                                    "MaxAtBats": "600"
                                },
                                {
                                    "Name": "Miguel Andujar",
                                    "MaxAtBats": "47"
                                },
                                {
                                    "Name": "Aristides Aquino",
                                    "MaxAtBats": "205"
                                },
                                {
                                    "Name": "Chris Archer",
                                    "MaxAtBats": "35"
                                },
                                {
                                    "Name": "Orlando Arcia",
                                    "MaxAtBats": "494"
                                },
                                {
                                    "Name": "Nolan Arenado",
                                    "MaxAtBats": "588"
                                },
                                {
                                    "Name": "Randy Arozarena",
                                    "MaxAtBats": "20"
                                },
                                {
                                    "Name": "Luis Arraez",
                                    "MaxAtBats": "326"
                                },
                                {
                                    "Name": "Jake Arrieta",
                                    "MaxAtBats": "45"
                                },
                                {
                                    "Name": "Christian Arroyo",
                                    "MaxAtBats": "50"
                                },
                                {
                                    "Name": "Humberto Arteaga",
                                    "MaxAtBats": "122"
                                },
                                {
                                    "Name": "Willians Astudillo",
                                    "MaxAtBats": "190"
                                },
                                {
                                    "Name": "Tyler Austin",
                                    "MaxAtBats": "130"
                                },
                                {
                                    "Name": "Abiatal Avelino",
                                    "MaxAtBats": "7"
                                },
                                {
                                    "Name": "Alex Avila",
                                    "MaxAtBats": "164"
                                },
                                {
                                    "Name": "Harrison Bader",
                                    "MaxAtBats": "347"
                                },
                                {
                                    "Name": "Javier Baez",
                                    "MaxAtBats": "531"
                                },
                                {
                                    "Name": "Homer Bailey",
                                    "MaxAtBats": "4"
                                },
                                {
                                    "Name": "Austin Barnes",
                                    "MaxAtBats": "212"
                                },
                                {
                                    "Name": "Tucker Barnhart",
                                    "MaxAtBats": "316"
                                },
                                {
                                    "Name": "Steven Baron",
                                    "MaxAtBats": "10"
                                },
                                {
                                    "Name": "Franklin Barreto",
                                    "MaxAtBats": "57"
                                },
                                {
                                    "Name": "Trevor Bauer",
                                    "MaxAtBats": "14"
                                },
                                {
                                    "Name": "Jake Bauers",
                                    "MaxAtBats": "372"
                                },
                                {
                                    "Name": "Matt Beaty",
                                    "MaxAtBats": "249"
                                },
                                {
                                    "Name": "Gordon Beckham",
                                    "MaxAtBats": "223"
                                },
                                {
                                    "Name": "Tim Beckham",
                                    "MaxAtBats": "304"
                                },
                                {
                                    "Name": "Tyler Beede",
                                    "MaxAtBats": "38"
                                },
                                {
                                    "Name": "Josh Bell",
                                    "MaxAtBats": "527"
                                },
                                {
                                    "Name": "Cody Bellinger",
                                    "MaxAtBats": "558"
                                },
                                {
                                    "Name": "Brandon Belt",
                                    "MaxAtBats": "526"
                                },
                                {
                                    "Name": "Anthony Bemboom",
                                    "MaxAtBats": "49"
                                },
                                {
                                    "Name": "Andrew Benintendi",
                                    "MaxAtBats": "541"
                                },
                                {
                                    "Name": "Jon Berti",
                                    "MaxAtBats": "256"
                                },
                                {
                                    "Name": "Mookie Betts",
                                    "MaxAtBats": "597"
                                },
                                {
                                    "Name": "Bo Bichette",
                                    "MaxAtBats": "196"
                                },
                                {
                                    "Name": "Cavan Biggio",
                                    "MaxAtBats": "354"
                                },
                                {
                                    "Name": "Greg Bird",
                                    "MaxAtBats": "35"
                                },
                                {
                                    "Name": "Braden Bishop",
                                    "MaxAtBats": "56"
                                },
                                {
                                    "Name": "Charlie Blackmon",
                                    "MaxAtBats": "580"
                                },
                                {
                                    "Name": "Alex Blandino",
                                    "MaxAtBats": "36"
                                },
                                {
                                    "Name": "Xander Bogaerts",
                                    "MaxAtBats": "614"
                                },
                                {
                                    "Name": "Skye Bolt",
                                    "MaxAtBats": "10"
                                },
                                {
                                    "Name": "Jorge Bonifacio",
                                    "MaxAtBats": "20"
                                },
                                {
                                    "Name": "David Bote",
                                    "MaxAtBats": "303"
                                },
                                {
                                    "Name": "Justin Bour",
                                    "MaxAtBats": "151"
                                },
                                {
                                    "Name": "Peter Bourjos",
                                    "MaxAtBats": "44"
                                },
                                {
                                    "Name": "Matthew Boyd",
                                    "MaxAtBats": "2"
                                },
                                {
                                    "Name": "Brad Brach",
                                    "MaxAtBats": "4"
                                },
                                {
                                    "Name": "Bobby Bradley",
                                    "MaxAtBats": "45"
                                },
                                {
                                    "Name": "Jackie Bradley Jr.",
                                    "MaxAtBats": "494"
                                },
                                {
                                    "Name": "Michael Brantley",
                                    "MaxAtBats": "575"
                                },
                                {
                                    "Name": "Steven Brault",
                                    "MaxAtBats": "42"
                                },
                                {
                                    "Name": "Ryan Braun",
                                    "MaxAtBats": "459"
                                },
                                {
                                    "Name": "John Brebbia",
                                    "MaxAtBats": "1"
                                },
                                {
                                    "Name": "Alex Bregman",
                                    "MaxAtBats": "554"
                                },
                                {
                                    "Name": "Lewis Brinson",
                                    "MaxAtBats": "226"
                                },
                                {
                                    "Name": "Socrates Brito",
                                    "MaxAtBats": "39"
                                },
                                {
                                    "Name": "Mike Brosseau",
                                    "MaxAtBats": "132"
                                },
                                {
                                    "Name": "Seth Brown",
                                    "MaxAtBats": "75"
                                },
                                {
                                    "Name": "Keon Broxton",
                                    "MaxAtBats": "103"
                                },
                                {
                                    "Name": "Jay Bruce",
                                    "MaxAtBats": "165"
                                },
                                {
                                    "Name": "Kris Bryant",
                                    "MaxAtBats": "543"
                                },
                                {
                                    "Name": "Walker Buehler",
                                    "MaxAtBats": "59"
                                },
                                {
                                    "Name": "Madison Bumgarner",
                                    "MaxAtBats": "63"
                                },
                                {
                                    "Name": "Corbin Burnes",
                                    "MaxAtBats": "7"
                                },
                                {
                                    "Name": "Drew Butera",
                                    "MaxAtBats": "43"
                                },
                                {
                                    "Name": "Byron Buxton",
                                    "MaxAtBats": "271"
                                },
                                {
                                    "Name": "Asdrubal Cabrera",
                                    "MaxAtBats": "323"
                                },
                                {
                                    "Name": "Melky Cabrera",
                                    "MaxAtBats": "378"
                                },
                                {
                                    "Name": "Miguel Cabrera",
                                    "MaxAtBats": "493"
                                },
                                {
                                    "Name": "Trevor Cahill",
                                    "MaxAtBats": "3"
                                },
                                {
                                    "Name": "Lorenzo Cain",
                                    "MaxAtBats": "562"
                                },
                                {
                                    "Name": "Kole Calhoun",
                                    "MaxAtBats": "552"
                                },
                                {
                                    "Name": "Willie Calhoun",
                                    "MaxAtBats": "309"
                                },
                                {
                                    "Name": "Johan Camargo",
                                    "MaxAtBats": "232"
                                },
                                {
                                    "Name": "Jeimer Candelario",
                                    "MaxAtBats": "335"
                                },
                                {
                                    "Name": "Mark Canha",
                                    "MaxAtBats": "410"
                                },
                                {
                                    "Name": "Robinson Cano",
                                    "MaxAtBats": "390"
                                },
                                {
                                    "Name": "Victor Caratini",
                                    "MaxAtBats": "244"
                                },
                                {
                                    "Name": "Matt Carpenter",
                                    "MaxAtBats": "416"
                                },
                                {
                                    "Name": "Curt Casali",
                                    "MaxAtBats": "207"
                                },
                                {
                                    "Name": "Nicholas Castellanos",
                                    "MaxAtBats": "403"
                                },
                                {
                                    "Name": "Luis Castillo",
                                    "MaxAtBats": "62"
                                },
                                {
                                    "Name": "Welington Castillo",
                                    "MaxAtBats": "230"
                                },
                                {
                                    "Name": "Wilkin Castillo",
                                    "MaxAtBats": "7"
                                },
                                {
                                    "Name": "Harold Castro",
                                    "MaxAtBats": "354"
                                },
                                {
                                    "Name": "Jason Castro",
                                    "MaxAtBats": "237"
                                },
                                {
                                    "Name": "Starlin Castro",
                                    "MaxAtBats": "636"
                                },
                                {
                                    "Name": "Willi Castro",
                                    "MaxAtBats": "100"
                                },
                                {
                                    "Name": "Jake Cave",
                                    "MaxAtBats": "198"
                                },
                                {
                                    "Name": "Juan Centeno",
                                    "MaxAtBats": "15"
                                },
                                {
                                    "Name": "Francisco Cervelli",
                                    "MaxAtBats": "109"
                                },
                                {
                                    "Name": "Jhoulys Chacin",
                                    "MaxAtBats": "24"
                                },
                                {
                                    "Name": "Yu Chang",
                                    "MaxAtBats": "73"
                                },
                                {
                                    "Name": "Matt Chapman",
                                    "MaxAtBats": "583"
                                },
                                {
                                    "Name": "Tyler Chatwood",
                                    "MaxAtBats": "18"
                                },
                                {
                                    "Name": "Jesse Chavez",
                                    "MaxAtBats": "2"
                                },
                                {
                                    "Name": "Michael Chavis",
                                    "MaxAtBats": "347"
                                },
                                {
                                    "Name": "Robinson Chirinos",
                                    "MaxAtBats": "366"
                                },
                                {
                                    "Name": "Ji-Man Choi",
                                    "MaxAtBats": "410"
                                },
                                {
                                    "Name": "Shin-Soo Choo",
                                    "MaxAtBats": "563"
                                },
                                {
                                    "Name": "Nick Ciuffo",
                                    "MaxAtBats": "6"
                                },
                                {
                                    "Name": "Taylor Clarke",
                                    "MaxAtBats": "24"
                                },
                                {
                                    "Name": "Zack Collins",
                                    "MaxAtBats": "86"
                                },
                                {
                                    "Name": "Christian Colon",
                                    "MaxAtBats": "6"
                                },
                                {
                                    "Name": "Michael Conforto",
                                    "MaxAtBats": "549"
                                },
                                {
                                    "Name": "Willson Contreras",
                                    "MaxAtBats": "360"
                                },
                                {
                                    "Name": "Garrett Cooper",
                                    "MaxAtBats": "381"
                                },
                                {
                                    "Name": "Patrick Corbin",
                                    "MaxAtBats": "65"
                                },
                                {
                                    "Name": "Ryan Cordell",
                                    "MaxAtBats": "217"
                                },
                                {
                                    "Name": "Franchy Cordero",
                                    "MaxAtBats": "15"
                                },
                                {
                                    "Name": "Carlos Correa",
                                    "MaxAtBats": "280"
                                },
                                {
                                    "Name": "Ryan Court",
                                    "MaxAtBats": "24"
                                },
                                {
                                    "Name": "Kaleb Cowart",
                                    "MaxAtBats": "25"
                                },
                                {
                                    "Name": "Zack Cozart",
                                    "MaxAtBats": "97"
                                },
                                {
                                    "Name": "Brandon Crawford",
                                    "MaxAtBats": "500"
                                },
                                {
                                    "Name": "J.P. Crawford",
                                    "MaxAtBats": "345"
                                },
                                {
                                    "Name": "C.J. Cron",
                                    "MaxAtBats": "458"
                                },
                                {
                                    "Name": "Kevin Cron",
                                    "MaxAtBats": "71"
                                },
                                {
                                    "Name": "Nelson Cruz",
                                    "MaxAtBats": "454"
                                },
                                {
                                    "Name": "Charlie Culberson",
                                    "MaxAtBats": "135"
                                },
                                {
                                    "Name": "Cheslor Cuthbert",
                                    "MaxAtBats": "309"
                                },
                                {
                                    "Name": "Travis d'Arnaud",
                                    "MaxAtBats": "327"
                                },
                                {
                                    "Name": "David Dahl",
                                    "MaxAtBats": "374"
                                },
                                {
                                    "Name": "Yu Darvish",
                                    "MaxAtBats": "56"
                                },
                                {
                                    "Name": "Zach Davies",
                                    "MaxAtBats": "52"
                                },
                                {
                                    "Name": "Chris Davis",
                                    "MaxAtBats": "307"
                                },
                                {
                                    "Name": "J.D. Davis",
                                    "MaxAtBats": "410"
                                },
                                {
                                    "Name": "Jaylin Davis",
                                    "MaxAtBats": "42"
                                },
                                {
                                    "Name": "Johnny Davis",
                                    "MaxAtBats": "4"
                                },
                                {
                                    "Name": "Jonathan Davis",
                                    "MaxAtBats": "83"
                                },
                                {
                                    "Name": "Khris Davis",
                                    "MaxAtBats": "481"
                                },
                                {
                                    "Name": "Rajai Davis",
                                    "MaxAtBats": "25"
                                },
                                {
                                    "Name": "Taylor Davis",
                                    "MaxAtBats": "18"
                                },
                                {
                                    "Name": "Yonathan Daza",
                                    "MaxAtBats": "97"
                                },
                                {
                                    "Name": "Austin Dean",
                                    "MaxAtBats": "178"
                                },
                                {
                                    "Name": "Jacob deGrom",
                                    "MaxAtBats": "65"
                                },
                                {
                                    "Name": "Paul DeJong",
                                    "MaxAtBats": "583"
                                },
                                {
                                    "Name": "Nicky Delmonico",
                                    "MaxAtBats": "63"
                                },
                                {
                                    "Name": "Travis Demeritte",
                                    "MaxAtBats": "169"
                                },
                                {
                                    "Name": "Daniel Descalso",
                                    "MaxAtBats": "168"
                                },
                                {
                                    "Name": "Anthony DeSclafani",
                                    "MaxAtBats": "55"
                                },
                                {
                                    "Name": "Delino DeShields",
                                    "MaxAtBats": "357"
                                },
                                {
                                    "Name": "Ian Desmond",
                                    "MaxAtBats": "443"
                                },
                                {
                                    "Name": "Rafael Devers",
                                    "MaxAtBats": "647"
                                },
                                {
                                    "Name": "Aledmys Díaz",
                                    "MaxAtBats": "210"
                                },
                                {
                                    "Name": "Elias Diaz",
                                    "MaxAtBats": "303"
                                },
                                {
                                    "Name": "Isan Diaz",
                                    "MaxAtBats": "179"
                                },
                                {
                                    "Name": "Yandy Díaz",
                                    "MaxAtBats": "307"
                                },
                                {
                                    "Name": "Alex Dickerson",
                                    "MaxAtBats": "155"
                                },
                                {
                                    "Name": "Corey Dickerson",
                                    "MaxAtBats": "133"
                                },
                                {
                                    "Name": "Derek Dietrich",
                                    "MaxAtBats": "251"
                                },
                                {
                                    "Name": "Wilmer Difo",
                                    "MaxAtBats": "131"
                                },
                                {
                                    "Name": "Nick Dini",
                                    "MaxAtBats": "56"
                                },
                                {
                                    "Name": "Brandon Dixon",
                                    "MaxAtBats": "391"
                                },
                                {
                                    "Name": "Josh Donaldson",
                                    "MaxAtBats": "549"
                                },
                                {
                                    "Name": "Brian Dozier",
                                    "MaxAtBats": "416"
                                },
                                {
                                    "Name": "Hunter Dozier",
                                    "MaxAtBats": "523"
                                },
                                {
                                    "Name": "Oliver Drake",
                                    "MaxAtBats": "1"
                                },
                                {
                                    "Name": "Brandon Drury",
                                    "MaxAtBats": "418"
                                },
                                {
                                    "Name": "Mauricio Dubon",
                                    "MaxAtBats": "104"
                                },
                                {
                                    "Name": "Lucas Duda",
                                    "MaxAtBats": "105"
                                },
                                {
                                    "Name": "Danny Duffy",
                                    "MaxAtBats": "4"
                                },
                                {
                                    "Name": "Matt Duffy",
                                    "MaxAtBats": "147"
                                },
                                {
                                    "Name": "Steven Duggar",
                                    "MaxAtBats": "261"
                                },
                                {
                                    "Name": "Jon Duplantier",
                                    "MaxAtBats": "8"
                                },
                                {
                                    "Name": "Montana DuRapau",
                                    "MaxAtBats": "4"
                                },
                                {
                                    "Name": "Adam Duvall",
                                    "MaxAtBats": "120"
                                },
                                {
                                    "Name": "Jarrod Dyson",
                                    "MaxAtBats": "400"
                                },
                                {
                                    "Name": "Adam Eaton",
                                    "MaxAtBats": "566"
                                },
                                {
                                    "Name": "Tommy Edman",
                                    "MaxAtBats": "326"
                                },
                                {
                                    "Name": "Zach Eflin",
                                    "MaxAtBats": "50"
                                },
                                {
                                    "Name": "Jake Elmore",
                                    "MaxAtBats": "47"
                                },
                                {
                                    "Name": "Edwin Encarnacion",
                                    "MaxAtBats": "241"
                                },
                                {
                                    "Name": "Adam Engel",
                                    "MaxAtBats": "227"
                                },
                                {
                                    "Name": "Phil Ervin",
                                    "MaxAtBats": "236"
                                },
                                {
                                    "Name": "Eduardo Escobar",
                                    "MaxAtBats": "636"
                                },
                                {
                                    "Name": "Thairo Estrada",
                                    "MaxAtBats": "64"
                                },
                                {
                                    "Name": "Kyle Farmer",
                                    "MaxAtBats": "183"
                                },
                                {
                                    "Name": "Erick Fedde",
                                    "MaxAtBats": "15"
                                },
                                {
                                    "Name": "Tim Federowicz",
                                    "MaxAtBats": "75"
                                },
                                {
                                    "Name": "Caleb Ferguson",
                                    "MaxAtBats": "2"
                                },
                                {
                                    "Name": "Derek Fisher",
                                    "MaxAtBats": "93"
                                },
                                {
                                    "Name": "Jack Flaherty",
                                    "MaxAtBats": "54"
                                },
                                {
                                    "Name": "Ryan Flaherty",
                                    "MaxAtBats": "21"
                                },
                                {
                                    "Name": "David Fletcher",
                                    "MaxAtBats": "596"
                                },
                                {
                                    "Name": "Chris Flexen",
                                    "MaxAtBats": "2"
                                },
                                {
                                    "Name": "Wilmer Flores",
                                    "MaxAtBats": "265"
                                },
                                {
                                    "Name": "Tyler Flowers",
                                    "MaxAtBats": "271"
                                },
                                {
                                    "Name": "Mike Foltynewicz",
                                    "MaxAtBats": "35"
                                },
                                {
                                    "Name": "Wilmer Font",
                                    "MaxAtBats": "3"
                                },
                                {
                                    "Name": "Mike Ford",
                                    "MaxAtBats": "143"
                                },
                                {
                                    "Name": "Logan Forsythe",
                                    "MaxAtBats": "317"
                                },
                                {
                                    "Name": "Dexter Fowler",
                                    "MaxAtBats": "487"
                                },
                                {
                                    "Name": "Jake Fraley",
                                    "MaxAtBats": "40"
                                },
                                {
                                    "Name": "Ty France",
                                    "MaxAtBats": "184"
                                },
                                {
                                    "Name": "Maikel Franco",
                                    "MaxAtBats": "389"
                                },
                                {
                                    "Name": "Adam Frazier",
                                    "MaxAtBats": "554"
                                },
                                {
                                    "Name": "Clint Frazier",
                                    "MaxAtBats": "225"
                                },
                                {
                                    "Name": "Todd Frazier",
                                    "MaxAtBats": "447"
                                },
                                {
                                    "Name": "Kyle Freeland",
                                    "MaxAtBats": "23"
                                },
                                {
                                    "Name": "Freddie Freeman",
                                    "MaxAtBats": "597"
                                },
                                {
                                    "Name": "Mike Freeman",
                                    "MaxAtBats": "177"
                                },
                                {
                                    "Name": "David Freese",
                                    "MaxAtBats": "162"
                                },
                                {
                                    "Name": "David Freitas",
                                    "MaxAtBats": "13"
                                },
                                {
                                    "Name": "Max Fried",
                                    "MaxAtBats": "56"
                                },
                                {
                                    "Name": "Josh Fuentes",
                                    "MaxAtBats": "55"
                                },
                                {
                                    "Name": "Drew Gagnon",
                                    "MaxAtBats": "3"
                                },
                                {
                                    "Name": "Rocky Gale",
                                    "MaxAtBats": "15"
                                },
                                {
                                    "Name": "Cam Gallagher",
                                    "MaxAtBats": "126"
                                },
                                {
                                    "Name": "Zac Gallen",
                                    "MaxAtBats": "10"
                                },
                                {
                                    "Name": "Joey Gallo",
                                    "MaxAtBats": "241"
                                },
                                {
                                    "Name": "Isaac Galloway",
                                    "MaxAtBats": "54"
                                },
                                {
                                    "Name": "Freddy Galvis",
                                    "MaxAtBats": "450"
                                },
                                {
                                    "Name": "Ben Gamel",
                                    "MaxAtBats": "311"
                                },
                                {
                                    "Name": "Aramis Garcia",
                                    "MaxAtBats": "42"
                                },
                                {
                                    "Name": "Avisail Garcia",
                                    "MaxAtBats": "489"
                                },
                                {
                                    "Name": "Greg Garcia",
                                    "MaxAtBats": "311"
                                },
                                {
                                    "Name": "Leury Garcia",
                                    "MaxAtBats": "577"
                                },
                                {
                                    "Name": "Robel Garcia",
                                    "MaxAtBats": "72"
                                },
                                {
                                    "Name": "Brett Gardner",
                                    "MaxAtBats": "491"
                                },
                                {
                                    "Name": "Kyle Garlick",
                                    "MaxAtBats": "48"
                                },
                                {
                                    "Name": "Dustin Garneau",
                                    "MaxAtBats": "69"
                                },
                                {
                                    "Name": "Mitch Garver",
                                    "MaxAtBats": "311"
                                },
                                {
                                    "Name": "Kevin Gausman",
                                    "MaxAtBats": "27"
                                },
                                {
                                    "Name": "Scooter Gennett",
                                    "MaxAtBats": "69"
                                },
                                {
                                    "Name": "Mike Gerber",
                                    "MaxAtBats": "24"
                                },
                                {
                                    "Name": "Lucas Giolito",
                                    "MaxAtBats": "4"
                                },
                                {
                                    "Name": "Zack Godley",
                                    "MaxAtBats": "18"
                                },
                                {
                                    "Name": "Ryan Goins",
                                    "MaxAtBats": "144"
                                },
                                {
                                    "Name": "Paul Goldschmidt",
                                    "MaxAtBats": "597"
                                },
                                {
                                    "Name": "Yan Gomes",
                                    "MaxAtBats": "314"
                                },
                                {
                                    "Name": "Carlos Gomez",
                                    "MaxAtBats": "86"
                                },
                                {
                                    "Name": "Tony Gonsolin",
                                    "MaxAtBats": "13"
                                },
                                {
                                    "Name": "Marco Gonzales",
                                    "MaxAtBats": "5"
                                },
                                {
                                    "Name": "Carlos Gonzalez",
                                    "MaxAtBats": "105"
                                },
                                {
                                    "Name": "Chi Chi Gonzalez",
                                    "MaxAtBats": "24"
                                },
                                {
                                    "Name": "Erik Gonzalez",
                                    "MaxAtBats": "142"
                                },
                                {
                                    "Name": "Gio Gonzalez",
                                    "MaxAtBats": "25"
                                },
                                {
                                    "Name": "Marwin Gonzalez",
                                    "MaxAtBats": "425"
                                },
                                {
                                    "Name": "Niko Goodrum",
                                    "MaxAtBats": "423"
                                },
                                {
                                    "Name": "Brian Goodwin",
                                    "MaxAtBats": "413"
                                },
                                {
                                    "Name": "Alex Gordon",
                                    "MaxAtBats": "556"
                                },
                                {
                                    "Name": "Dee Gordon",
                                    "MaxAtBats": "393"
                                },
                                {
                                    "Name": "Terrance Gore",
                                    "MaxAtBats": "51"
                                },
                                {
                                    "Name": "Phil Gosselin",
                                    "MaxAtBats": "65"
                                },
                                {
                                    "Name": "Yasmani Grandal",
                                    "MaxAtBats": "513"
                                },
                                {
                                    "Name": "Curtis Granderson",
                                    "MaxAtBats": "317"
                                },
                                {
                                    "Name": "Juan Graterol",
                                    "MaxAtBats": "18"
                                },
                                {
                                    "Name": "Jon Gray",
                                    "MaxAtBats": "47"
                                },
                                {
                                    "Name": "Sonny Gray",
                                    "MaxAtBats": "46"
                                },
                                {
                                    "Name": "Zach Green",
                                    "MaxAtBats": "14"
                                },
                                {
                                    "Name": "Didi Gregorius",
                                    "MaxAtBats": "324"
                                },
                                {
                                    "Name": "Grayson Greiner",
                                    "MaxAtBats": "208"
                                },
                                {
                                    "Name": "Zack Greinke",
                                    "MaxAtBats": "48"
                                },
                                {
                                    "Name": "Randal Grichuk",
                                    "MaxAtBats": "586"
                                },
                                {
                                    "Name": "Trent Grisham",
                                    "MaxAtBats": "156"
                                },
                                {
                                    "Name": "Robbie Grossman",
                                    "MaxAtBats": "420"
                                },
                                {
                                    "Name": "Deivy Grullon",
                                    "MaxAtBats": "9"
                                },
                                {
                                    "Name": "Junior Guerra",
                                    "MaxAtBats": "3"
                                },
                                {
                                    "Name": "Vladimir Guerrero Jr.",
                                    "MaxAtBats": "464"
                                },
                                {
                                    "Name": "Luis Guillorme",
                                    "MaxAtBats": "61"
                                },
                                {
                                    "Name": "Lourdes Gurriel Jr.",
                                    "MaxAtBats": "314"
                                },
                                {
                                    "Name": "Yuli Gurriel",
                                    "MaxAtBats": "564"
                                },
                                {
                                    "Name": "Kelvin Gutierrez",
                                    "MaxAtBats": "73"
                                },
                                {
                                    "Name": "Ronald Guzman",
                                    "MaxAtBats": "256"
                                },
                                {
                                    "Name": "Jedd Gyorko",
                                    "MaxAtBats": "56"
                                },
                                {
                                    "Name": "Eric Haase",
                                    "MaxAtBats": "16"
                                },
                                {
                                    "Name": "Cole Hamels",
                                    "MaxAtBats": "42"
                                },
                                {
                                    "Name": "Billy Hamilton",
                                    "MaxAtBats": "275"
                                },
                                {
                                    "Name": "Garrett Hampson",
                                    "MaxAtBats": "299"
                                },
                                {
                                    "Name": "Mitch Haniger",
                                    "MaxAtBats": "246"
                                },
                                {
                                    "Name": "Alen Hanson",
                                    "MaxAtBats": "43"
                                },
                                {
                                    "Name": "Ian Happ",
                                    "MaxAtBats": "140"
                                },
                                {
                                    "Name": "Bryce Harper",
                                    "MaxAtBats": "573"
                                },
                                {
                                    "Name": "Josh Harrison",
                                    "MaxAtBats": "137"
                                },
                                {
                                    "Name": "Adam Haseley",
                                    "MaxAtBats": "222"
                                },
                                {
                                    "Name": "Austin Hays",
                                    "MaxAtBats": "68"
                                },
                                {
                                    "Name": "Ryon Healy",
                                    "MaxAtBats": "169"
                                },
                                {
                                    "Name": "Adeiny Hechavarria",
                                    "MaxAtBats": "142"
                                },
                                {
                                    "Name": "Austin Hedges",
                                    "MaxAtBats": "312"
                                },
                                {
                                    "Name": "Scott Heineman",
                                    "MaxAtBats": "75"
                                },
                                {
                                    "Name": "Tyler Heineman",
                                    "MaxAtBats": "11"
                                },
                                {
                                    "Name": "Jeremy Hellickson",
                                    "MaxAtBats": "9"
                                },
                                {
                                    "Name": "Ryan Helsley",
                                    "MaxAtBats": "3"
                                },
                                {
                                    "Name": "Kyle Hendricks",
                                    "MaxAtBats": "54"
                                },
                                {
                                    "Name": "Guillermo Heredia",
                                    "MaxAtBats": "204"
                                },
                                {
                                    "Name": "Michael Hermosillo",
                                    "MaxAtBats": "36"
                                },
                                {
                                    "Name": "Cesar Hernandez",
                                    "MaxAtBats": "612"
                                },
                                {
                                    "Name": "Elieser Hernandez",
                                    "MaxAtBats": "19"
                                },
                                {
                                    "Name": "Enrique Hernandez",
                                    "MaxAtBats": "414"
                                },
                                {
                                    "Name": "Gorkys Hernandez",
                                    "MaxAtBats": "49"
                                },
                                {
                                    "Name": "Marco Hernandez",
                                    "MaxAtBats": "148"
                                },
                                {
                                    "Name": "Teoscar Hernandez",
                                    "MaxAtBats": "417"
                                },
                                {
                                    "Name": "Odubel Herrera",
                                    "MaxAtBats": "126"
                                },
                                {
                                    "Name": "Rosell Herrera",
                                    "MaxAtBats": "105"
                                },
                                {
                                    "Name": "Chris Herrmann",
                                    "MaxAtBats": "84"
                                },
                                {
                                    "Name": "Jason Heyward",
                                    "MaxAtBats": "513"
                                },
                                {
                                    "Name": "Aaron Hicks",
                                    "MaxAtBats": "221"
                                },
                                {
                                    "Name": "John Hicks",
                                    "MaxAtBats": "319"
                                },
                                {
                                    "Name": "Kyle Higashioka",
                                    "MaxAtBats": "56"
                                },
                                {
                                    "Name": "Rich Hill",
                                    "MaxAtBats": "18"
                                },
                                {
                                    "Name": "Sam Hilliard",
                                    "MaxAtBats": "77"
                                },
                                {
                                    "Name": "Keston Hiura",
                                    "MaxAtBats": "314"
                                },
                                {
                                    "Name": "Nico Hoerner",
                                    "MaxAtBats": "78"
                                },
                                {
                                    "Name": "Jeff Hoffman",
                                    "MaxAtBats": "21"
                                },
                                {
                                    "Name": "Bryan Holaday",
                                    "MaxAtBats": "115"
                                },
                                {
                                    "Name": "Derek Holland",
                                    "MaxAtBats": "12"
                                },
                                {
                                    "Name": "Brock Holt",
                                    "MaxAtBats": "259"
                                },
                                {
                                    "Name": "Rhys Hoskins",
                                    "MaxAtBats": "570"
                                },
                                {
                                    "Name": "Eric Hosmer",
                                    "MaxAtBats": "619"
                                },
                                {
                                    "Name": "Adrian Houser",
                                    "MaxAtBats": "22"
                                },
                                {
                                    "Name": "Dakota Hudson",
                                    "MaxAtBats": "51"
                                },
                                {
                                    "Name": "Nick Hundley",
                                    "MaxAtBats": "70"
                                },
                                {
                                    "Name": "Chris Iannetta",
                                    "MaxAtBats": "144"
                                },
                                {
                                    "Name": "José Iglesias",
                                    "MaxAtBats": "504"
                                },
                                {
                                    "Name": "Ender Inciarte",
                                    "MaxAtBats": "199"
                                },
                                {
                                    "Name": "Cole Irvin",
                                    "MaxAtBats": "6"
                                },
                                {
                                    "Name": "Travis Jankowski",
                                    "MaxAtBats": "22"
                                },
                                {
                                    "Name": "Danny Jansen",
                                    "MaxAtBats": "347"
                                },
                                {
                                    "Name": "Jon Jay",
                                    "MaxAtBats": "165"
                                },
                                {
                                    "Name": "Eloy Jimenez",
                                    "MaxAtBats": "468"
                                },
                                {
                                    "Name": "Connor Joe",
                                    "MaxAtBats": "15"
                                },
                                {
                                    "Name": "Adam Jones",
                                    "MaxAtBats": "485"
                                },
                                {
                                    "Name": "JaCoby Jones",
                                    "MaxAtBats": "298"
                                },
                                {
                                    "Name": "Caleb Joseph",
                                    "MaxAtBats": "38"
                                },
                                {
                                    "Name": "Corban Joseph",
                                    "MaxAtBats": "37"
                                },
                                {
                                    "Name": "Matthew Joyce",
                                    "MaxAtBats": "200"
                                },
                                {
                                    "Name": "Aaron Judge",
                                    "MaxAtBats": "378"
                                },
                                {
                                    "Name": "Jung Ho Kang",
                                    "MaxAtBats": "172"
                                },
                                {
                                    "Name": "Brad Keller",
                                    "MaxAtBats": "8"
                                },
                                {
                                    "Name": "Carson Kelly",
                                    "MaxAtBats": "314"
                                },
                                {
                                    "Name": "Merrill Kelly",
                                    "MaxAtBats": "52"
                                },
                                {
                                    "Name": "Matt Kemp",
                                    "MaxAtBats": "60"
                                },
                                {
                                    "Name": "Tony Kemp",
                                    "MaxAtBats": "163"
                                },
                                {
                                    "Name": "Howie Kendrick",
                                    "MaxAtBats": "334"
                                },
                                {
                                    "Name": "Max Kepler",
                                    "MaxAtBats": "524"
                                },
                                {
                                    "Name": "Clayton Kershaw",
                                    "MaxAtBats": "49"
                                },
                                {
                                    "Name": "Dallas Keuchel",
                                    "MaxAtBats": "38"
                                },
                                {
                                    "Name": "Carter Kieboom",
                                    "MaxAtBats": "39"
                                },
                                {
                                    "Name": "Kevin Kiermaier",
                                    "MaxAtBats": "447"
                                },
                                {
                                    "Name": "Isiah Kiner-Falefa",
                                    "MaxAtBats": "202"
                                },
                                {
                                    "Name": "Scott Kingery",
                                    "MaxAtBats": "458"
                                },
                                {
                                    "Name": "Ian Kinsler",
                                    "MaxAtBats": "258"
                                },
                                {
                                    "Name": "Jason Kipnis",
                                    "MaxAtBats": "458"
                                },
                                {
                                    "Name": "Andrew Knapp",
                                    "MaxAtBats": "136"
                                },
                                {
                                    "Name": "Andrew Knizner",
                                    "MaxAtBats": "53"
                                },
                                {
                                    "Name": "Kevin Kramer",
                                    "MaxAtBats": "42"
                                },
                                {
                                    "Name": "Erik Kratz",
                                    "MaxAtBats": "32"
                                },
                                {
                                    "Name": "Tommy La Stella",
                                    "MaxAtBats": "292"
                                },
                                {
                                    "Name": "Juan Lagares",
                                    "MaxAtBats": "258"
                                },
                                {
                                    "Name": "Ryan LaMarre",
                                    "MaxAtBats": "23"
                                },
                                {
                                    "Name": "Jake Lamb",
                                    "MaxAtBats": "187"
                                },
                                {
                                    "Name": "Peter Lambert",
                                    "MaxAtBats": "28"
                                },
                                {
                                    "Name": "Dinelson Lamet",
                                    "MaxAtBats": "21"
                                },
                                {
                                    "Name": "Eric Lauer",
                                    "MaxAtBats": "40"
                                },
                                {
                                    "Name": "Ramon Laureano",
                                    "MaxAtBats": "434"
                                },
                                {
                                    "Name": "Ryan Lavarnway",
                                    "MaxAtBats": "18"
                                },
                                {
                                    "Name": "Mike Leake",
                                    "MaxAtBats": "20"
                                },
                                {
                                    "Name": "DJ LeMahieu",
                                    "MaxAtBats": "602"
                                },
                                {
                                    "Name": "Sandy Leon",
                                    "MaxAtBats": "172"
                                },
                                {
                                    "Name": "Jon Lester",
                                    "MaxAtBats": "48"
                                },
                                {
                                    "Name": "Kyle Lewis",
                                    "MaxAtBats": "71"
                                },
                                {
                                    "Name": "Domingo Leyba",
                                    "MaxAtBats": "25"
                                },
                                {
                                    "Name": "Tzu-Wei Lin",
                                    "MaxAtBats": "20"
                                },
                                {
                                    "Name": "Francisco Lindor",
                                    "MaxAtBats": "598"
                                },
                                {
                                    "Name": "Francisco Liriano",
                                    "MaxAtBats": "1"
                                },
                                {
                                    "Name": "Tim Locastro",
                                    "MaxAtBats": "212"
                                },
                                {
                                    "Name": "Walker Lockett",
                                    "MaxAtBats": "6"
                                },
                                {
                                    "Name": "Shed Long",
                                    "MaxAtBats": "152"
                                },
                                {
                                    "Name": "Evan Longoria",
                                    "MaxAtBats": "453"
                                },
                                {
                                    "Name": "Tim Lopes",
                                    "MaxAtBats": "111"
                                },
                                {
                                    "Name": "Nicky Lopez",
                                    "MaxAtBats": "379"
                                },
                                {
                                    "Name": "Pablo Lopez",
                                    "MaxAtBats": "35"
                                },
                                {
                                    "Name": "Michael Lorenzen",
                                    "MaxAtBats": "48"
                                },
                                {
                                    "Name": "Brandon Lowe",
                                    "MaxAtBats": "296"
                                },
                                {
                                    "Name": "Nate Lowe",
                                    "MaxAtBats": "152"
                                },
                                {
                                    "Name": "Joey Lucchesi",
                                    "MaxAtBats": "48"
                                },
                                {
                                    "Name": "Jonathan Lucroy",
                                    "MaxAtBats": "240"
                                },
                                {
                                    "Name": "Dawel Lugo",
                                    "MaxAtBats": "273"
                                },
                                {
                                    "Name": "Seth Lugo",
                                    "MaxAtBats": "1"
                                },
                                {
                                    "Name": "Jordan Luplow",
                                    "MaxAtBats": "225"
                                },
                                {
                                    "Name": "Gavin Lux",
                                    "MaxAtBats": "75"
                                },
                                {
                                    "Name": "Jordan Lyles",
                                    "MaxAtBats": "25"
                                },
                                {
                                    "Name": "Manny Machado",
                                    "MaxAtBats": "587"
                                },
                                {
                                    "Name": "Kenta Maeda",
                                    "MaxAtBats": "48"
                                },
                                {
                                    "Name": "Tyler Mahle",
                                    "MaxAtBats": "34"
                                },
                                {
                                    "Name": "Luke Maile",
                                    "MaxAtBats": "119"
                                },
                                {
                                    "Name": "Martin Maldonado",
                                    "MaxAtBats": "238"
                                },
                                {
                                    "Name": "Trey Mancini",
                                    "MaxAtBats": "602"
                                },
                                {
                                    "Name": "Nick Margevicius",
                                    "MaxAtBats": "15"
                                },
                                {
                                    "Name": "Manuel Margot",
                                    "MaxAtBats": "398"
                                },
                                {
                                    "Name": "Jake Marisnick",
                                    "MaxAtBats": "292"
                                },
                                {
                                    "Name": "Nick Markakis",
                                    "MaxAtBats": "414"
                                },
                                {
                                    "Name": "German Marquez",
                                    "MaxAtBats": "48"
                                },
                                {
                                    "Name": "Ketel Marte",
                                    "MaxAtBats": "569"
                                },
                                {
                                    "Name": "Starling Marte",
                                    "MaxAtBats": "539"
                                },
                                {
                                    "Name": "Jason Martin",
                                    "MaxAtBats": "36"
                                },
                                {
                                    "Name": "Leonys Martín",
                                    "MaxAtBats": "236"
                                },
                                {
                                    "Name": "Richie Martin",
                                    "MaxAtBats": "283"
                                },
                                {
                                    "Name": "Russell Martin",
                                    "MaxAtBats": "209"
                                },
                                {
                                    "Name": "J.D. Martinez",
                                    "MaxAtBats": "575"
                                },
                                {
                                    "Name": "Jose Martinez",
                                    "MaxAtBats": "334"
                                },
                                {
                                    "Name": "Nick Martini",
                                    "MaxAtBats": "82"
                                },
                                {
                                    "Name": "Jeff Mathis",
                                    "MaxAtBats": "228"
                                },
                                {
                                    "Name": "Phil Maton",
                                    "MaxAtBats": "4"
                                },
                                {
                                    "Name": "Steven Matz",
                                    "MaxAtBats": "57"
                                },
                                {
                                    "Name": "Dustin May",
                                    "MaxAtBats": "11"
                                },
                                {
                                    "Name": "Cameron Maybin",
                                    "MaxAtBats": "239"
                                },
                                {
                                    "Name": "Jack Mayfield",
                                    "MaxAtBats": "64"
                                },
                                {
                                    "Name": "Nomar Mazara",
                                    "MaxAtBats": "429"
                                },
                                {
                                    "Name": "Ryan McBroom",
                                    "MaxAtBats": "75"
                                },
                                {
                                    "Name": "Brian McCann",
                                    "MaxAtBats": "277"
                                },
                                {
                                    "Name": "James McCann",
                                    "MaxAtBats": "439"
                                },
                                {
                                    "Name": "Andrew McCutchen",
                                    "MaxAtBats": "219"
                                },
                                {
                                    "Name": "Kyle McGowin",
                                    "MaxAtBats": "3"
                                },
                                {
                                    "Name": "Reese McGuire",
                                    "MaxAtBats": "97"
                                },
                                {
                                    "Name": "Brendan McKay",
                                    "MaxAtBats": "10"
                                },
                                {
                                    "Name": "Billy McKinney",
                                    "MaxAtBats": "251"
                                },
                                {
                                    "Name": "Ryan McMahon",
                                    "MaxAtBats": "480"
                                },
                                {
                                    "Name": "Jeff McNeil",
                                    "MaxAtBats": "510"
                                },
                                {
                                    "Name": "Alex McRae",
                                    "MaxAtBats": "6"
                                },
                                {
                                    "Name": "Austin Meadows",
                                    "MaxAtBats": "530"
                                },
                                {
                                    "Name": "John Means",
                                    "MaxAtBats": "1"
                                },
                                {
                                    "Name": "Erick Mejia",
                                    "MaxAtBats": "22"
                                },
                                {
                                    "Name": "Francisco Mejia",
                                    "MaxAtBats": "226"
                                },
                                {
                                    "Name": "Seth Mejias-Brean",
                                    "MaxAtBats": "30"
                                },
                                {
                                    "Name": "Tim Melville",
                                    "MaxAtBats": "8"
                                },
                                {
                                    "Name": "Danny Mendick",
                                    "MaxAtBats": "39"
                                },
                                {
                                    "Name": "Oscar Mercado",
                                    "MaxAtBats": "438"
                                },
                                {
                                    "Name": "Jordy Mercer",
                                    "MaxAtBats": "256"
                                },
                                {
                                    "Name": "Whit Merrifield",
                                    "MaxAtBats": "681"
                                },
                                {
                                    "Name": "Miles Mikolas",
                                    "MaxAtBats": "59"
                                },
                                {
                                    "Name": "Brad Miller",
                                    "MaxAtBats": "118"
                                },
                                {
                                    "Name": "Ian Miller",
                                    "MaxAtBats": "17"
                                },
                                {
                                    "Name": "Alec Mills",
                                    "MaxAtBats": "12"
                                },
                                {
                                    "Name": "Yadier Molina",
                                    "MaxAtBats": "419"
                                },
                                {
                                    "Name": "Yoan Moncada",
                                    "MaxAtBats": "511"
                                },
                                {
                                    "Name": "Adalberto Mondesi",
                                    "MaxAtBats": "415"
                                },
                                {
                                    "Name": "Mike Montgomery",
                                    "MaxAtBats": "5"
                                },
                                {
                                    "Name": "Dylan Moore",
                                    "MaxAtBats": "247"
                                },
                                {
                                    "Name": "Kendrys Morales",
                                    "MaxAtBats": "108"
                                },
                                {
                                    "Name": "Colin Moran",
                                    "MaxAtBats": "466"
                                },
                                {
                                    "Name": "Mitch Moreland",
                                    "MaxAtBats": "298"
                                },
                                {
                                    "Name": "Max Moroff",
                                    "MaxAtBats": "32"
                                },
                                {
                                    "Name": "Logan Morrison",
                                    "MaxAtBats": "35"
                                },
                                {
                                    "Name": "Mike Moustakas",
                                    "MaxAtBats": "523"
                                },
                                {
                                    "Name": "Cedric Mullins",
                                    "MaxAtBats": "64"
                                },
                                {
                                    "Name": "Max Muncy",
                                    "MaxAtBats": "487"
                                },
                                {
                                    "Name": "Yairo Munoz",
                                    "MaxAtBats": "172"
                                },
                                {
                                    "Name": "Daniel Murphy",
                                    "MaxAtBats": "438"
                                },
                                {
                                    "Name": "John Ryan Murphy",
                                    "MaxAtBats": "62"
                                },
                                {
                                    "Name": "Sean Murphy",
                                    "MaxAtBats": "53"
                                },
                                {
                                    "Name": "Tom Murphy",
                                    "MaxAtBats": "260"
                                },
                                {
                                    "Name": "Joe Musgrove",
                                    "MaxAtBats": "51"
                                },
                                {
                                    "Name": "Wil Myers",
                                    "MaxAtBats": "435"
                                },
                                {
                                    "Name": "Tyler Naquin",
                                    "MaxAtBats": "274"
                                },
                                {
                                    "Name": "Omar Narvaez",
                                    "MaxAtBats": "428"
                                },
                                {
                                    "Name": "Josh Naylor",
                                    "MaxAtBats": "253"
                                },
                                {
                                    "Name": "Kristopher Negron",
                                    "MaxAtBats": "54"
                                },
                                {
                                    "Name": "Sheldon Neuse",
                                    "MaxAtBats": "56"
                                },
                                {
                                    "Name": "Kevin Newman",
                                    "MaxAtBats": "493"
                                },
                                {
                                    "Name": "Tomas Nido",
                                    "MaxAtBats": "136"
                                },
                                {
                                    "Name": "Brandon Nimmo",
                                    "MaxAtBats": "199"
                                },
                                {
                                    "Name": "Hector Noesi",
                                    "MaxAtBats": "4"
                                },
                                {
                                    "Name": "Aaron Nola",
                                    "MaxAtBats": "59"
                                },
                                {
                                    "Name": "Austin Nola",
                                    "MaxAtBats": "238"
                                },
                                {
                                    "Name": "Jake Noll",
                                    "MaxAtBats": "12"
                                },
                                {
                                    "Name": "Daniel Norris",
                                    "MaxAtBats": "6"
                                },
                                {
                                    "Name": "Jacob Nottingham",
                                    "MaxAtBats": "6"
                                },
                                {
                                    "Name": "Dom Nunez",
                                    "MaxAtBats": "39"
                                },
                                {
                                    "Name": "Eduardo Nunez",
                                    "MaxAtBats": "167"
                                },
                                {
                                    "Name": "Renato Nunez",
                                    "MaxAtBats": "541"
                                },
                                {
                                    "Name": "Peter O'Brien",
                                    "MaxAtBats": "42"
                                },
                                {
                                    "Name": "Brian O'Grady",
                                    "MaxAtBats": "42"
                                },
                                {
                                    "Name": "Ryan O'Hearn",
                                    "MaxAtBats": "328"
                                },
                                {
                                    "Name": "Tyler O'Neill",
                                    "MaxAtBats": "141"
                                },
                                {
                                    "Name": "Rougned Odor",
                                    "MaxAtBats": "522"
                                },
                                {
                                    "Name": "Shohei Ohtani",
                                    "MaxAtBats": "384"
                                },
                                {
                                    "Name": "Matt Olson",
                                    "MaxAtBats": "483"
                                },
                                {
                                    "Name": "Rafael Ortega",
                                    "MaxAtBats": "88"
                                },
                                {
                                    "Name": "Jose Osuna",
                                    "MaxAtBats": "261"
                                },
                                {
                                    "Name": "Chris Owings",
                                    "MaxAtBats": "135"
                                },
                                {
                                    "Name": "Marcell Ozuna",
                                    "MaxAtBats": "485"
                                },
                                {
                                    "Name": "Chris Paddack",
                                    "MaxAtBats": "42"
                                },
                                {
                                    "Name": "Daniel Palka",
                                    "MaxAtBats": "84"
                                },
                                {
                                    "Name": "Joe Panik",
                                    "MaxAtBats": "344"
                                },
                                {
                                    "Name": "Gerardo Parra",
                                    "MaxAtBats": "188"
                                },
                                {
                                    "Name": "Steve Pearce",
                                    "MaxAtBats": "89"
                                },
                                {
                                    "Name": "Joc Pederson",
                                    "MaxAtBats": "450"
                                },
                                {
                                    "Name": "Dustin Pedroia",
                                    "MaxAtBats": "20"
                                },
                                {
                                    "Name": "Hunter Pence",
                                    "MaxAtBats": "286"
                                },
                                {
                                    "Name": "David Peralta",
                                    "MaxAtBats": "382"
                                },
                                {
                                    "Name": "Freddy Peralta",
                                    "MaxAtBats": "15"
                                },
                                {
                                    "Name": "Jose Peraza",
                                    "MaxAtBats": "376"
                                },
                                {
                                    "Name": "Luis Perdomo",
                                    "MaxAtBats": "7"
                                },
                                {
                                    "Name": "Hernan Perez",
                                    "MaxAtBats": "232"
                                },
                                {
                                    "Name": "Michael Perez",
                                    "MaxAtBats": "46"
                                },
                                {
                                    "Name": "Roberto Perez",
                                    "MaxAtBats": "389"
                                },
                                {
                                    "Name": "Dustin Peterson",
                                    "MaxAtBats": "44"
                                },
                                {
                                    "Name": "Jace Peterson",
                                    "MaxAtBats": "100"
                                },
                                {
                                    "Name": "Tommy Pham",
                                    "MaxAtBats": "567"
                                },
                                {
                                    "Name": "Josh Phegley",
                                    "MaxAtBats": "314"
                                },
                                {
                                    "Name": "Brett Phillips",
                                    "MaxAtBats": "65"
                                },
                                {
                                    "Name": "Kevin Pillar",
                                    "MaxAtBats": "595"
                                },
                                {
                                    "Name": "Manny Pina",
                                    "MaxAtBats": "158"
                                },
                                {
                                    "Name": "Chad Pinder",
                                    "MaxAtBats": "341"
                                },
                                {
                                    "Name": "Jose Pirela",
                                    "MaxAtBats": "17"
                                },
                                {
                                    "Name": "Stephen Piscotty",
                                    "MaxAtBats": "357"
                                },
                                {
                                    "Name": "Nick Pivetta",
                                    "MaxAtBats": "25"
                                },
                                {
                                    "Name": "Kevin Plawecki",
                                    "MaxAtBats": "158"
                                },
                                {
                                    "Name": "Gregory Polanco",
                                    "MaxAtBats": "153"
                                },
                                {
                                    "Name": "Jorge Polanco",
                                    "MaxAtBats": "631"
                                },
                                {
                                    "Name": "A.J. Pollock",
                                    "MaxAtBats": "308"
                                },
                                {
                                    "Name": "Buster Posey",
                                    "MaxAtBats": "405"
                                },
                                {
                                    "Name": "Martin Prado",
                                    "MaxAtBats": "245"
                                },
                                {
                                    "Name": "David Price",
                                    "MaxAtBats": "2"
                                },
                                {
                                    "Name": "Jurickson Profar",
                                    "MaxAtBats": "459"
                                },
                                {
                                    "Name": "Cesar Puello",
                                    "MaxAtBats": "84"
                                },
                                {
                                    "Name": "Yasiel Puig",
                                    "MaxAtBats": "373"
                                },
                                {
                                    "Name": "Albert Pujols",
                                    "MaxAtBats": "491"
                                },
                                {
                                    "Name": "Cal Quantrill",
                                    "MaxAtBats": "25"
                                },
                                {
                                    "Name": "Roman Quinn",
                                    "MaxAtBats": "108"
                                },
                                {
                                    "Name": "Jose Quintana",
                                    "MaxAtBats": "54"
                                },
                                {
                                    "Name": "Hanley Ramirez",
                                    "MaxAtBats": "49"
                                },
                                {
                                    "Name": "Harold Ramirez",
                                    "MaxAtBats": "421"
                                },
                                {
                                    "Name": "Jose Ramirez",
                                    "MaxAtBats": "482"
                                },
                                {
                                    "Name": "Wilson Ramos",
                                    "MaxAtBats": "473"
                                },
                                {
                                    "Name": "Rangel Ravelo",
                                    "MaxAtBats": "39"
                                },
                                {
                                    "Name": "Robbie Ray",
                                    "MaxAtBats": "55"
                                },
                                {
                                    "Name": "Raudy Read",
                                    "MaxAtBats": "11"
                                },
                                {
                                    "Name": "J.T. Realmuto",
                                    "MaxAtBats": "538"
                                },
                                {
                                    "Name": "Josh Reddick",
                                    "MaxAtBats": "501"
                                },
                                {
                                    "Name": "AJ Reed",
                                    "MaxAtBats": "44"
                                },
                                {
                                    "Name": "Anthony Rendon",
                                    "MaxAtBats": "545"
                                },
                                {
                                    "Name": "Hunter Renfroe",
                                    "MaxAtBats": "440"
                                },
                                {
                                    "Name": "Luis Rengifo",
                                    "MaxAtBats": "357"
                                },
                                {
                                    "Name": "Franmil Reyes",
                                    "MaxAtBats": "321"
                                },
                                {
                                    "Name": "Pablo Reyes",
                                    "MaxAtBats": "143"
                                },
                                {
                                    "Name": "Victor Reyes",
                                    "MaxAtBats": "276"
                                },
                                {
                                    "Name": "Bryan Reynolds",
                                    "MaxAtBats": "491"
                                },
                                {
                                    "Name": "Mark Reynolds",
                                    "MaxAtBats": "135"
                                },
                                {
                                    "Name": "Trevor Richards",
                                    "MaxAtBats": "30"
                                },
                                {
                                    "Name": "Joey Rickard",
                                    "MaxAtBats": "118"
                                },
                                {
                                    "Name": "JT Riddle",
                                    "MaxAtBats": "132"
                                },
                                {
                                    "Name": "Austin Riley",
                                    "MaxAtBats": "274"
                                },
                                {
                                    "Name": "Edwin Rios",
                                    "MaxAtBats": "47"
                                },
                                {
                                    "Name": "Rene Rivera",
                                    "MaxAtBats": "17"
                                },
                                {
                                    "Name": "Yadiel Rivera",
                                    "MaxAtBats": "60"
                                },
                                {
                                    "Name": "Anthony Rizzo",
                                    "MaxAtBats": "512"
                                },
                                {
                                    "Name": "Tanner Roark",
                                    "MaxAtBats": "33"
                                },
                                {
                                    "Name": "Daniel Robertson",
                                    "MaxAtBats": "207"
                                },
                                {
                                    "Name": "Drew Robinson",
                                    "MaxAtBats": "7"
                                },
                                {
                                    "Name": "Victor Robles",
                                    "MaxAtBats": "546"
                                },
                                {
                                    "Name": "Brendan Rodgers",
                                    "MaxAtBats": "76"
                                },
                                {
                                    "Name": "Dereck Rodriguez",
                                    "MaxAtBats": "29"
                                },
                                {
                                    "Name": "Ronny Rodriguez",
                                    "MaxAtBats": "276"
                                },
                                {
                                    "Name": "Sean Rodriguez",
                                    "MaxAtBats": "112"
                                },
                                {
                                    "Name": "Jake Rogers",
                                    "MaxAtBats": "112"
                                },
                                {
                                    "Name": "Josh Rojas",
                                    "MaxAtBats": "138"
                                },
                                {
                                    "Name": "Miguel Rojas",
                                    "MaxAtBats": "483"
                                },
                                {
                                    "Name": "Austin Romine",
                                    "MaxAtBats": "228"
                                },
                                {
                                    "Name": "Jose Rondon",
                                    "MaxAtBats": "142"
                                },
                                {
                                    "Name": "Amed Rosario",
                                    "MaxAtBats": "616"
                                },
                                {
                                    "Name": "Eddie Rosario",
                                    "MaxAtBats": "562"
                                },
                                {
                                    "Name": "Joe Ross",
                                    "MaxAtBats": "19"
                                },
                                {
                                    "Name": "Rio Ruiz",
                                    "MaxAtBats": "370"
                                },
                                {
                                    "Name": "Addison Russell",
                                    "MaxAtBats": "215"
                                },
                                {
                                    "Name": "Hyun-Jin Ryu",
                                    "MaxAtBats": "51"
                                },
                                {
                                    "Name": "Tyler Saladino",
                                    "MaxAtBats": "65"
                                },
                                {
                                    "Name": "Jeff Samardzija",
                                    "MaxAtBats": "50"
                                },
                                {
                                    "Name": "Adrian Sanchez",
                                    "MaxAtBats": "31"
                                },
                                {
                                    "Name": "Anibal Sanchez",
                                    "MaxAtBats": "52"
                                },
                                {
                                    "Name": "Gary Sanchez",
                                    "MaxAtBats": "396"
                                },
                                {
                                    "Name": "Yolmer Sanchez",
                                    "MaxAtBats": "496"
                                },
                                {
                                    "Name": "Pablo Sandoval",
                                    "MaxAtBats": "272"
                                },
                                {
                                    "Name": "Miguel Sano",
                                    "MaxAtBats": "380"
                                },
                                {
                                    "Name": "Carlos Santana",
                                    "MaxAtBats": "573"
                                },
                                {
                                    "Name": "Danny Santana",
                                    "MaxAtBats": "474"
                                },
                                {
                                    "Name": "Dennis Santana",
                                    "MaxAtBats": "2"
                                },
                                {
                                    "Name": "Domingo Santana",
                                    "MaxAtBats": "451"
                                },
                                {
                                    "Name": "Anthony Santander",
                                    "MaxAtBats": "380"
                                },
                                {
                                    "Name": "Scott Schebler",
                                    "MaxAtBats": "81"
                                },
                                {
                                    "Name": "Max Scherzer",
                                    "MaxAtBats": "55"
                                },
                                {
                                    "Name": "Jonathan Schoop",
                                    "MaxAtBats": "433"
                                },
                                {
                                    "Name": "Kyle Schwarber",
                                    "MaxAtBats": "529"
                                },
                                {
                                    "Name": "Frank Schwindel",
                                    "MaxAtBats": "15"
                                },
                                {
                                    "Name": "Corey Seager",
                                    "MaxAtBats": "489"
                                },
                                {
                                    "Name": "Kyle Seager",
                                    "MaxAtBats": "393"
                                },
                                {
                                    "Name": "Jean Segura",
                                    "MaxAtBats": "576"
                                },
                                {
                                    "Name": "Marcus Semien",
                                    "MaxAtBats": "657"
                                },
                                {
                                    "Name": "Antonio Senzatela",
                                    "MaxAtBats": "40"
                                },
                                {
                                    "Name": "Nick Senzel",
                                    "MaxAtBats": "375"
                                },
                                {
                                    "Name": "Pedro Severino",
                                    "MaxAtBats": "305"
                                },
                                {
                                    "Name": "Chris Shaw",
                                    "MaxAtBats": "18"
                                },
                                {
                                    "Name": "Travis Shaw",
                                    "MaxAtBats": "230"
                                },
                                {
                                    "Name": "JB Shuck",
                                    "MaxAtBats": "47"
                                },
                                {
                                    "Name": "Magneuris Sierra",
                                    "MaxAtBats": "40"
                                },
                                {
                                    "Name": "Andrelton Simmons",
                                    "MaxAtBats": "398"
                                },
                                {
                                    "Name": "Lucas Sims",
                                    "MaxAtBats": "8"
                                },
                                {
                                    "Name": "Chance Sisco",
                                    "MaxAtBats": "167"
                                },
                                {
                                    "Name": "Matt Skole",
                                    "MaxAtBats": "72"
                                },
                                {
                                    "Name": "Austin Slater",
                                    "MaxAtBats": "168"
                                },
                                {
                                    "Name": "Caleb Smith",
                                    "MaxAtBats": "43"
                                },
                                {
                                    "Name": "Dominic Smith",
                                    "MaxAtBats": "177"
                                },
                                {
                                    "Name": "Dwight Smith Jr.",
                                    "MaxAtBats": "357"
                                },
                                {
                                    "Name": "Kevan Smith",
                                    "MaxAtBats": "191"
                                },
                                {
                                    "Name": "Mallex Smith",
                                    "MaxAtBats": "510"
                                },
                                {
                                    "Name": "Will Smith",
                                    "MaxAtBats": "170"
                                },
                                {
                                    "Name": "Justin Smoak",
                                    "MaxAtBats": "414"
                                },
                                {
                                    "Name": "Eric Sogard",
                                    "MaxAtBats": "287"
                                },
                                {
                                    "Name": "Nick Solak",
                                    "MaxAtBats": "116"
                                },
                                {
                                    "Name": "Donovan Solano",
                                    "MaxAtBats": "215"
                                },
                                {
                                    "Name": "Yangervis Solarte",
                                    "MaxAtBats": "73"
                                },
                                {
                                    "Name": "Jorge Soler",
                                    "MaxAtBats": "589"
                                },
                                {
                                    "Name": "Mike Soroka",
                                    "MaxAtBats": "52"
                                },
                                {
                                    "Name": "Edmundo Sosa",
                                    "MaxAtBats": "8"
                                },
                                {
                                    "Name": "Gregory Soto",
                                    "MaxAtBats": "2"
                                },
                                {
                                    "Name": "Juan Soto",
                                    "MaxAtBats": "542"
                                },
                                {
                                    "Name": "Cory Spangenberg",
                                    "MaxAtBats": "95"
                                },
                                {
                                    "Name": "George Springer",
                                    "MaxAtBats": "479"
                                },
                                {
                                    "Name": "Jacob Stallings",
                                    "MaxAtBats": "191"
                                },
                                {
                                    "Name": "Eric Stamets",
                                    "MaxAtBats": "41"
                                },
                                {
                                    "Name": "Giancarlo Stanton",
                                    "MaxAtBats": "59"
                                },
                                {
                                    "Name": "Bubba Starling",
                                    "MaxAtBats": "186"
                                },
                                {
                                    "Name": "Max Stassi",
                                    "MaxAtBats": "90"
                                },
                                {
                                    "Name": "Andrew Stevenson",
                                    "MaxAtBats": "30"
                                },
                                {
                                    "Name": "Brock Stewart",
                                    "MaxAtBats": "3"
                                },
                                {
                                    "Name": "Christin Stewart",
                                    "MaxAtBats": "369"
                                },
                                {
                                    "Name": "DJ Stewart",
                                    "MaxAtBats": "126"
                                },
                                {
                                    "Name": "Trevor Story",
                                    "MaxAtBats": "588"
                                },
                                {
                                    "Name": "Matt Strahm",
                                    "MaxAtBats": "21"
                                },
                                {
                                    "Name": "Stephen Strasburg",
                                    "MaxAtBats": "72"
                                },
                                {
                                    "Name": "Myles Straw",
                                    "MaxAtBats": "108"
                                },
                                {
                                    "Name": "Ross Stripling",
                                    "MaxAtBats": "20"
                                },
                                {
                                    "Name": "Marcus Stroman",
                                    "MaxAtBats": "21"
                                },
                                {
                                    "Name": "Garrett Stubbs",
                                    "MaxAtBats": "35"
                                },
                                {
                                    "Name": "Eugenio Suarez",
                                    "MaxAtBats": "575"
                                },
                                {
                                    "Name": "Ranger Suarez",
                                    "MaxAtBats": "4"
                                },
                                {
                                    "Name": "Jesus Sucre",
                                    "MaxAtBats": "62"
                                },
                                {
                                    "Name": "Kurt Suzuki",
                                    "MaxAtBats": "280"
                                },
                                {
                                    "Name": "Dansby Swanson",
                                    "MaxAtBats": "483"
                                },
                                {
                                    "Name": "Blake Swihart",
                                    "MaxAtBats": "66"
                                },
                                {
                                    "Name": "Noah Syndergaard",
                                    "MaxAtBats": "65"
                                },
                                {
                                    "Name": "Jameson Taillon",
                                    "MaxAtBats": "8"
                                },
                                {
                                    "Name": "Raimel Tapia",
                                    "MaxAtBats": "426"
                                },
                                {
                                    "Name": "Fernando Tatis Jr.",
                                    "MaxAtBats": "334"
                                },
                                {
                                    "Name": "Mike Tauchman",
                                    "MaxAtBats": "260"
                                },
                                {
                                    "Name": "Beau Taylor",
                                    "MaxAtBats": "22"
                                },
                                {
                                    "Name": "Chris Taylor",
                                    "MaxAtBats": "366"
                                },
                                {
                                    "Name": "Michael A. Taylor",
                                    "MaxAtBats": "88"
                                },
                                {
                                    "Name": "Tyrone Taylor",
                                    "MaxAtBats": "10"
                                },
                                {
                                    "Name": "Julio Teheran",
                                    "MaxAtBats": "55"
                                },
                                {
                                    "Name": "Rowdy Tellez",
                                    "MaxAtBats": "370"
                                },
                                {
                                    "Name": "Matt Thaiss",
                                    "MaxAtBats": "147"
                                },
                                {
                                    "Name": "Eric Thames",
                                    "MaxAtBats": "396"
                                },
                                {
                                    "Name": "Lane Thomas",
                                    "MaxAtBats": "38"
                                },
                                {
                                    "Name": "Trent Thornton",
                                    "MaxAtBats": "3"
                                },
                                {
                                    "Name": "Charlie Tilson",
                                    "MaxAtBats": "144"
                                },
                                {
                                    "Name": "Jesus Tinoco",
                                    "MaxAtBats": "5"
                                },
                                {
                                    "Name": "Abraham Toro",
                                    "MaxAtBats": "78"
                                },
                                {
                                    "Name": "Luis Torrens",
                                    "MaxAtBats": "14"
                                },
                                {
                                    "Name": "Gleyber Torres",
                                    "MaxAtBats": "546"
                                },
                                {
                                    "Name": "Ronald Torreyes",
                                    "MaxAtBats": "16"
                                },
                                {
                                    "Name": "Wilfredo Tovar",
                                    "MaxAtBats": "83"
                                },
                                {
                                    "Name": "Sam Travis",
                                    "MaxAtBats": "144"
                                },
                                {
                                    "Name": "Jose Trevino",
                                    "MaxAtBats": "120"
                                },
                                {
                                    "Name": "Mike Trout",
                                    "MaxAtBats": "470"
                                },
                                {
                                    "Name": "Mark Trumbo",
                                    "MaxAtBats": "29"
                                },
                                {
                                    "Name": "Cole Tucker",
                                    "MaxAtBats": "147"
                                },
                                {
                                    "Name": "Kyle Tucker",
                                    "MaxAtBats": "67"
                                },
                                {
                                    "Name": "Troy Tulowitzki",
                                    "MaxAtBats": "11"
                                },
                                {
                                    "Name": "Justin Turner",
                                    "MaxAtBats": "479"
                                },
                                {
                                    "Name": "Trea Turner",
                                    "MaxAtBats": "521"
                                },
                                {
                                    "Name": "Justin Upton",
                                    "MaxAtBats": "219"
                                },
                                {
                                    "Name": "Richard Urena",
                                    "MaxAtBats": "74"
                                },
                                {
                                    "Name": "Julio Urias",
                                    "MaxAtBats": "12"
                                },
                                {
                                    "Name": "Luis Urias",
                                    "MaxAtBats": "215"
                                },
                                {
                                    "Name": "Gio Urshela",
                                    "MaxAtBats": "442"
                                },
                                {
                                    "Name": "Pat Valaika",
                                    "MaxAtBats": "79"
                                },
                                {
                                    "Name": "Breyvic Valera",
                                    "MaxAtBats": "32"
                                },
                                {
                                    "Name": "Josh VanMeter",
                                    "MaxAtBats": "228"
                                },
                                {
                                    "Name": "Ildemaro Vargas",
                                    "MaxAtBats": "201"
                                },
                                {
                                    "Name": "Jason Vargas",
                                    "MaxAtBats": "28"
                                },
                                {
                                    "Name": "Christian Vazquez",
                                    "MaxAtBats": "482"
                                },
                                {
                                    "Name": "Vince Velasquez",
                                    "MaxAtBats": "30"
                                },
                                {
                                    "Name": "Andrew Velazquez",
                                    "MaxAtBats": "12"
                                },
                                {
                                    "Name": "Alex Verdugo",
                                    "MaxAtBats": "343"
                                },
                                {
                                    "Name": "Jonathan Villar",
                                    "MaxAtBats": "642"
                                },
                                {
                                    "Name": "Meibrys Viloria",
                                    "MaxAtBats": "133"
                                },
                                {
                                    "Name": "Daniel Vogelbach",
                                    "MaxAtBats": "462"
                                },
                                {
                                    "Name": "Stephen Vogt",
                                    "MaxAtBats": "255"
                                },
                                {
                                    "Name": "Luke Voit",
                                    "MaxAtBats": "429"
                                },
                                {
                                    "Name": "Austin Voth",
                                    "MaxAtBats": "9"
                                },
                                {
                                    "Name": "Joey Votto",
                                    "MaxAtBats": "525"
                                },
                                {
                                    "Name": "Michael Wacha",
                                    "MaxAtBats": "36"
                                },
                                {
                                    "Name": "LaMonte Wade Jr",
                                    "MaxAtBats": "56"
                                },
                                {
                                    "Name": "Tyler Wade",
                                    "MaxAtBats": "94"
                                },
                                {
                                    "Name": "Adam Wainwright",
                                    "MaxAtBats": "50"
                                },
                                {
                                    "Name": "Christian Walker",
                                    "MaxAtBats": "529"
                                },
                                {
                                    "Name": "Neil Walker",
                                    "MaxAtBats": "337"
                                },
                                {
                                    "Name": "Chad Wallach",
                                    "MaxAtBats": "48"
                                },
                                {
                                    "Name": "Jared Walsh",
                                    "MaxAtBats": "79"
                                },
                                {
                                    "Name": "Donovan Walton",
                                    "MaxAtBats": "16"
                                },
                                {
                                    "Name": "Taylor Ward",
                                    "MaxAtBats": "42"
                                },
                                {
                                    "Name": "Luke Weaver",
                                    "MaxAtBats": "19"
                                },
                                {
                                    "Name": "Logan Webb",
                                    "MaxAtBats": "9"
                                },
                                {
                                    "Name": "Joey Wendle",
                                    "MaxAtBats": "238"
                                },
                                {
                                    "Name": "Zack Wheeler",
                                    "MaxAtBats": "57"
                                },
                                {
                                    "Name": "Tyler White",
                                    "MaxAtBats": "218"
                                },
                                {
                                    "Name": "Matt Wieters",
                                    "MaxAtBats": "168"
                                },
                                {
                                    "Name": "Aaron Wilkerson",
                                    "MaxAtBats": "3"
                                },
                                {
                                    "Name": "Stevie Wilkerson",
                                    "MaxAtBats": "329"
                                },
                                {
                                    "Name": "Mason Williams",
                                    "MaxAtBats": "30"
                                },
                                {
                                    "Name": "Nick Williams",
                                    "MaxAtBats": "106"
                                },
                                {
                                    "Name": "Trevor Williams",
                                    "MaxAtBats": "36"
                                },
                                {
                                    "Name": "Mac Williamson",
                                    "MaxAtBats": "77"
                                },
                                {
                                    "Name": "Bobby Wilson",
                                    "MaxAtBats": "44"
                                },
                                {
                                    "Name": "Bryse Wilson",
                                    "MaxAtBats": "9"
                                },
                                {
                                    "Name": "Jesse Winker",
                                    "MaxAtBats": "338"
                                },
                                {
                                    "Name": "Patrick Wisdom",
                                    "MaxAtBats": "26"
                                },
                                {
                                    "Name": "Tony Wolters",
                                    "MaxAtBats": "359"
                                },
                                {
                                    "Name": "Kean Wong",
                                    "MaxAtBats": "14"
                                },
                                {
                                    "Name": "Kolten Wong",
                                    "MaxAtBats": "478"
                                },
                                {
                                    "Name": "Alex Wood",
                                    "MaxAtBats": "9"
                                },
                                {
                                    "Name": "Brandon Woodruff",
                                    "MaxAtBats": "45"
                                },
                                {
                                    "Name": "Austin Wynns",
                                    "MaxAtBats": "70"
                                },
                                {
                                    "Name": "Jordan Yamamoto",
                                    "MaxAtBats": "21"
                                },
                                {
                                    "Name": "Mike Yastrzemski",
                                    "MaxAtBats": "371"
                                },
                                {
                                    "Name": "Christian Yelich",
                                    "MaxAtBats": "489"
                                },
                                {
                                    "Name": "Alex Young",
                                    "MaxAtBats": "25"
                                },
                                {
                                    "Name": "Mark Zagunis",
                                    "MaxAtBats": "36"
                                },
                                {
                                    "Name": "Seby Zavala",
                                    "MaxAtBats": "12"
                                },
                                {
                                    "Name": "Ryan Zimmerman",
                                    "MaxAtBats": "171"
                                },
                                {
                                    "Name": "Ben Zobrist",
                                    "MaxAtBats": "150"
                                },
                                {
                                    "Name": "Mike Zunino",
                                    "MaxAtBats": "266"
                                }
                            ]
                        },
                        "text/html": [
                            "<table>",
                            "<tr><th>Name</th><th>MaxAtBats</th></tr>",
                            "<tr><td>José Abreu</td><td>634</td></tr>",
                            "<tr><td>Ronald Acuna Jr.</td><td>626</td></tr>",
                            "<tr><td>Cristhian Adames</td><td>22</td></tr>",
                            "<tr><td>Willy Adames</td><td>531</td></tr>",
                            "<tr><td>Matt Adams</td><td>310</td></tr>",
                            "<tr><td>Ehire Adrianza</td><td>202</td></tr>",
                            "<tr><td>Dario Agrazal</td><td>22</td></tr>",
                            "<tr><td>Jesus Aguilar</td><td>222</td></tr>",
                            "<tr><td>Nick Ahmed</td><td>556</td></tr>",
                            "<tr><td>R.J. Alaniz</td><td>1</td></tr>",
                            "<tr><td>Hanser Alberto</td><td>524</td></tr>",
                            "<tr><td>Ozzie Albies</td><td>640</td></tr>",
                            "<tr><td>Sandy Alcantara</td><td>58</td></tr>",
                            "<tr><td>Jorge Alfaro</td><td>431</td></tr>",
                            "<tr><td>Anthony Alford</td><td>28</td></tr>",
                            "<tr><td>Austin Allen</td><td>65</td></tr>",
                            "<tr><td>Greg Allen</td><td>231</td></tr>",
                            "<tr><td>Logan Allen</td><td>4</td></tr>",
                            "<tr><td>Abraham Almonte</td><td>31</td></tr>",
                            "<tr><td>Albert Almora</td><td>339</td></tr>",
                            "<tr><td>Pete Alonso</td><td>597</td></tr>",
                            "<tr><td>Yonder Alonso</td><td>219</td></tr>",
                            "<tr><td>Aaron Altherr</td><td>31</td></tr>",
                            "<tr><td>Jose Altuve</td><td>500</td></tr>",
                            "<tr><td>Yordan Álvarez</td><td>313</td></tr>",
                            "<tr><td>Brett Anderson</td><td>8</td></tr>",
                            "<tr><td>Brian Anderson</td><td>459</td></tr>",
                            "<tr><td>Chase Anderson</td><td>40</td></tr>",
                            "<tr><td>Shaun Anderson</td><td>25</td></tr>",
                            "<tr><td>Tim Anderson</td><td>498</td></tr>",
                            "<tr><td>Tyler Anderson</td><td>7</td></tr>",
                            "<tr><td>Elvis Andrus</td><td>600</td></tr>",
                            "<tr><td>Miguel Andujar</td><td>47</td></tr>",
                            "<tr><td>Aristides Aquino</td><td>205</td></tr>",
                            "<tr><td>Chris Archer</td><td>35</td></tr>",
                            "<tr><td>Orlando Arcia</td><td>494</td></tr>",
                            "<tr><td>Nolan Arenado</td><td>588</td></tr>",
                            "<tr><td>Randy Arozarena</td><td>20</td></tr>",
                            "<tr><td>Luis Arraez</td><td>326</td></tr>",
                            "<tr><td>Jake Arrieta</td><td>45</td></tr>",
                            "<tr><td>Christian Arroyo</td><td>50</td></tr>",
                            "<tr><td>Humberto Arteaga</td><td>122</td></tr>",
                            "<tr><td>Willians Astudillo</td><td>190</td></tr>",
                            "<tr><td>Tyler Austin</td><td>130</td></tr>",
                            "<tr><td>Abiatal Avelino</td><td>7</td></tr>",
                            "<tr><td>Alex Avila</td><td>164</td></tr>",
                            "<tr><td>Harrison Bader</td><td>347</td></tr>",
                            "<tr><td>Javier Baez</td><td>531</td></tr>",
                            "<tr><td>Homer Bailey</td><td>4</td></tr>",
                            "<tr><td>Austin Barnes</td><td>212</td></tr>",
                            "<tr><td>Tucker Barnhart</td><td>316</td></tr>",
                            "<tr><td>Steven Baron</td><td>10</td></tr>",
                            "<tr><td>Franklin Barreto</td><td>57</td></tr>",
                            "<tr><td>Trevor Bauer</td><td>14</td></tr>",
                            "<tr><td>Jake Bauers</td><td>372</td></tr>",
                            "<tr><td>Matt Beaty</td><td>249</td></tr>",
                            "<tr><td>Gordon Beckham</td><td>223</td></tr>",
                            "<tr><td>Tim Beckham</td><td>304</td></tr>",
                            "<tr><td>Tyler Beede</td><td>38</td></tr>",
                            "<tr><td>Josh Bell</td><td>527</td></tr>",
                            "<tr><td>Cody Bellinger</td><td>558</td></tr>",
                            "<tr><td>Brandon Belt</td><td>526</td></tr>",
                            "<tr><td>Anthony Bemboom</td><td>49</td></tr>",
                            "<tr><td>Andrew Benintendi</td><td>541</td></tr>",
                            "<tr><td>Jon Berti</td><td>256</td></tr>",
                            "<tr><td>Mookie Betts</td><td>597</td></tr>",
                            "<tr><td>Bo Bichette</td><td>196</td></tr>",
                            "<tr><td>Cavan Biggio</td><td>354</td></tr>",
                            "<tr><td>Greg Bird</td><td>35</td></tr>",
                            "<tr><td>Braden Bishop</td><td>56</td></tr>",
                            "<tr><td>Charlie Blackmon</td><td>580</td></tr>",
                            "<tr><td>Alex Blandino</td><td>36</td></tr>",
                            "<tr><td>Xander Bogaerts</td><td>614</td></tr>",
                            "<tr><td>Skye Bolt</td><td>10</td></tr>",
                            "<tr><td>Jorge Bonifacio</td><td>20</td></tr>",
                            "<tr><td>David Bote</td><td>303</td></tr>",
                            "<tr><td>Justin Bour</td><td>151</td></tr>",
                            "<tr><td>Peter Bourjos</td><td>44</td></tr>",
                            "<tr><td>Matthew Boyd</td><td>2</td></tr>",
                            "<tr><td>Brad Brach</td><td>4</td></tr>",
                            "<tr><td>Bobby Bradley</td><td>45</td></tr>",
                            "<tr><td>Jackie Bradley Jr.</td><td>494</td></tr>",
                            "<tr><td>Michael Brantley</td><td>575</td></tr>",
                            "<tr><td>Steven Brault</td><td>42</td></tr>",
                            "<tr><td>Ryan Braun</td><td>459</td></tr>",
                            "<tr><td>John Brebbia</td><td>1</td></tr>",
                            "<tr><td>Alex Bregman</td><td>554</td></tr>",
                            "<tr><td>Lewis Brinson</td><td>226</td></tr>",
                            "<tr><td>Socrates Brito</td><td>39</td></tr>",
                            "<tr><td>Mike Brosseau</td><td>132</td></tr>",
                            "<tr><td>Seth Brown</td><td>75</td></tr>",
                            "<tr><td>Keon Broxton</td><td>103</td></tr>",
                            "<tr><td>Jay Bruce</td><td>165</td></tr>",
                            "<tr><td>Kris Bryant</td><td>543</td></tr>",
                            "<tr><td>Walker Buehler</td><td>59</td></tr>",
                            "<tr><td>Madison Bumgarner</td><td>63</td></tr>",
                            "<tr><td>Corbin Burnes</td><td>7</td></tr>",
                            "<tr><td>Drew Butera</td><td>43</td></tr>",
                            "<tr><td>Byron Buxton</td><td>271</td></tr>",
                            "<tr><td>Asdrubal Cabrera</td><td>323</td></tr>",
                            "<tr><td>Melky Cabrera</td><td>378</td></tr>",
                            "<tr><td>Miguel Cabrera</td><td>493</td></tr>",
                            "<tr><td>Trevor Cahill</td><td>3</td></tr>",
                            "<tr><td>Lorenzo Cain</td><td>562</td></tr>",
                            "<tr><td>Kole Calhoun</td><td>552</td></tr>",
                            "<tr><td>Willie Calhoun</td><td>309</td></tr>",
                            "<tr><td>Johan Camargo</td><td>232</td></tr>",
                            "<tr><td>Jeimer Candelario</td><td>335</td></tr>",
                            "<tr><td>Mark Canha</td><td>410</td></tr>",
                            "<tr><td>Robinson Cano</td><td>390</td></tr>",
                            "<tr><td>Victor Caratini</td><td>244</td></tr>",
                            "<tr><td>Matt Carpenter</td><td>416</td></tr>",
                            "<tr><td>Curt Casali</td><td>207</td></tr>",
                            "<tr><td>Nicholas Castellanos</td><td>403</td></tr>",
                            "<tr><td>Luis Castillo</td><td>62</td></tr>",
                            "<tr><td>Welington Castillo</td><td>230</td></tr>",
                            "<tr><td>Wilkin Castillo</td><td>7</td></tr>",
                            "<tr><td>Harold Castro</td><td>354</td></tr>",
                            "<tr><td>Jason Castro</td><td>237</td></tr>",
                            "<tr><td>Starlin Castro</td><td>636</td></tr>",
                            "<tr><td>Willi Castro</td><td>100</td></tr>",
                            "<tr><td>Jake Cave</td><td>198</td></tr>",
                            "<tr><td>Juan Centeno</td><td>15</td></tr>",
                            "<tr><td>Francisco Cervelli</td><td>109</td></tr>",
                            "<tr><td>Jhoulys Chacin</td><td>24</td></tr>",
                            "<tr><td>Yu Chang</td><td>73</td></tr>",
                            "<tr><td>Matt Chapman</td><td>583</td></tr>",
                            "<tr><td>Tyler Chatwood</td><td>18</td></tr>",
                            "<tr><td>Jesse Chavez</td><td>2</td></tr>",
                            "<tr><td>Michael Chavis</td><td>347</td></tr>",
                            "<tr><td>Robinson Chirinos</td><td>366</td></tr>",
                            "<tr><td>Ji-Man Choi</td><td>410</td></tr>",
                            "<tr><td>Shin-Soo Choo</td><td>563</td></tr>",
                            "<tr><td>Nick Ciuffo</td><td>6</td></tr>",
                            "<tr><td>Taylor Clarke</td><td>24</td></tr>",
                            "<tr><td>Zack Collins</td><td>86</td></tr>",
                            "<tr><td>Christian Colon</td><td>6</td></tr>",
                            "<tr><td>Michael Conforto</td><td>549</td></tr>",
                            "<tr><td>Willson Contreras</td><td>360</td></tr>",
                            "<tr><td>Garrett Cooper</td><td>381</td></tr>",
                            "<tr><td>Patrick Corbin</td><td>65</td></tr>",
                            "<tr><td>Ryan Cordell</td><td>217</td></tr>",
                            "<tr><td>Franchy Cordero</td><td>15</td></tr>",
                            "<tr><td>Carlos Correa</td><td>280</td></tr>",
                            "<tr><td>Ryan Court</td><td>24</td></tr>",
                            "<tr><td>Kaleb Cowart</td><td>25</td></tr>",
                            "<tr><td>Zack Cozart</td><td>97</td></tr>",
                            "<tr><td>Brandon Crawford</td><td>500</td></tr>",
                            "<tr><td>J.P. Crawford</td><td>345</td></tr>",
                            "<tr><td>C.J. Cron</td><td>458</td></tr>",
                            "<tr><td>Kevin Cron</td><td>71</td></tr>",
                            "<tr><td>Nelson Cruz</td><td>454</td></tr>",
                            "<tr><td>Charlie Culberson</td><td>135</td></tr>",
                            "<tr><td>Cheslor Cuthbert</td><td>309</td></tr>",
                            "<tr><td>Travis d&#39;Arnaud</td><td>327</td></tr>",
                            "<tr><td>David Dahl</td><td>374</td></tr>",
                            "<tr><td>Yu Darvish</td><td>56</td></tr>",
                            "<tr><td>Zach Davies</td><td>52</td></tr>",
                            "<tr><td>Chris Davis</td><td>307</td></tr>",
                            "<tr><td>J.D. Davis</td><td>410</td></tr>",
                            "<tr><td>Jaylin Davis</td><td>42</td></tr>",
                            "<tr><td>Johnny Davis</td><td>4</td></tr>",
                            "<tr><td>Jonathan Davis</td><td>83</td></tr>",
                            "<tr><td>Khris Davis</td><td>481</td></tr>",
                            "<tr><td>Rajai Davis</td><td>25</td></tr>",
                            "<tr><td>Taylor Davis</td><td>18</td></tr>",
                            "<tr><td>Yonathan Daza</td><td>97</td></tr>",
                            "<tr><td>Austin Dean</td><td>178</td></tr>",
                            "<tr><td>Jacob deGrom</td><td>65</td></tr>",
                            "<tr><td>Paul DeJong</td><td>583</td></tr>",
                            "<tr><td>Nicky Delmonico</td><td>63</td></tr>",
                            "<tr><td>Travis Demeritte</td><td>169</td></tr>",
                            "<tr><td>Daniel Descalso</td><td>168</td></tr>",
                            "<tr><td>Anthony DeSclafani</td><td>55</td></tr>",
                            "<tr><td>Delino DeShields</td><td>357</td></tr>",
                            "<tr><td>Ian Desmond</td><td>443</td></tr>",
                            "<tr><td>Rafael Devers</td><td>647</td></tr>",
                            "<tr><td>Aledmys Díaz</td><td>210</td></tr>",
                            "<tr><td>Elias Diaz</td><td>303</td></tr>",
                            "<tr><td>Isan Diaz</td><td>179</td></tr>",
                            "<tr><td>Yandy Díaz</td><td>307</td></tr>",
                            "<tr><td>Alex Dickerson</td><td>155</td></tr>",
                            "<tr><td>Corey Dickerson</td><td>133</td></tr>",
                            "<tr><td>Derek Dietrich</td><td>251</td></tr>",
                            "<tr><td>Wilmer Difo</td><td>131</td></tr>",
                            "<tr><td>Nick Dini</td><td>56</td></tr>",
                            "<tr><td>Brandon Dixon</td><td>391</td></tr>",
                            "<tr><td>Josh Donaldson</td><td>549</td></tr>",
                            "<tr><td>Brian Dozier</td><td>416</td></tr>",
                            "<tr><td>Hunter Dozier</td><td>523</td></tr>",
                            "<tr><td>Oliver Drake</td><td>1</td></tr>",
                            "<tr><td>Brandon Drury</td><td>418</td></tr>",
                            "<tr><td>Mauricio Dubon</td><td>104</td></tr>",
                            "<tr><td>Lucas Duda</td><td>105</td></tr>",
                            "<tr><td>Danny Duffy</td><td>4</td></tr>",
                            "<tr><td>Matt Duffy</td><td>147</td></tr>",
                            "<tr><td>Steven Duggar</td><td>261</td></tr>",
                            "<tr><td>Jon Duplantier</td><td>8</td></tr>",
                            "<tr><td>Montana DuRapau</td><td>4</td></tr>",
                            "<tr><td>Adam Duvall</td><td>120</td></tr>",
                            "<tr><td>Jarrod Dyson</td><td>400</td></tr>",
                            "<tr><td>Adam Eaton</td><td>566</td></tr>",
                            "<tr><td>Tommy Edman</td><td>326</td></tr>",
                            "<tr><td>Zach Eflin</td><td>50</td></tr>",
                            "<tr><td>Jake Elmore</td><td>47</td></tr>",
                            "<tr><td>Edwin Encarnacion</td><td>241</td></tr>",
                            "<tr><td>Adam Engel</td><td>227</td></tr>",
                            "<tr><td>Phil Ervin</td><td>236</td></tr>",
                            "<tr><td>Eduardo Escobar</td><td>636</td></tr>",
                            "<tr><td>Thairo Estrada</td><td>64</td></tr>",
                            "<tr><td>Kyle Farmer</td><td>183</td></tr>",
                            "<tr><td>Erick Fedde</td><td>15</td></tr>",
                            "<tr><td>Tim Federowicz</td><td>75</td></tr>",
                            "<tr><td>Caleb Ferguson</td><td>2</td></tr>",
                            "<tr><td>Derek Fisher</td><td>93</td></tr>",
                            "<tr><td>Jack Flaherty</td><td>54</td></tr>",
                            "<tr><td>Ryan Flaherty</td><td>21</td></tr>",
                            "<tr><td>David Fletcher</td><td>596</td></tr>",
                            "<tr><td>Chris Flexen</td><td>2</td></tr>",
                            "<tr><td>Wilmer Flores</td><td>265</td></tr>",
                            "<tr><td>Tyler Flowers</td><td>271</td></tr>",
                            "<tr><td>Mike Foltynewicz</td><td>35</td></tr>",
                            "<tr><td>Wilmer Font</td><td>3</td></tr>",
                            "<tr><td>Mike Ford</td><td>143</td></tr>",
                            "<tr><td>Logan Forsythe</td><td>317</td></tr>",
                            "<tr><td>Dexter Fowler</td><td>487</td></tr>",
                            "<tr><td>Jake Fraley</td><td>40</td></tr>",
                            "<tr><td>Ty France</td><td>184</td></tr>",
                            "<tr><td>Maikel Franco</td><td>389</td></tr>",
                            "<tr><td>Adam Frazier</td><td>554</td></tr>",
                            "<tr><td>Clint Frazier</td><td>225</td></tr>",
                            "<tr><td>Todd Frazier</td><td>447</td></tr>",
                            "<tr><td>Kyle Freeland</td><td>23</td></tr>",
                            "<tr><td>Freddie Freeman</td><td>597</td></tr>",
                            "<tr><td>Mike Freeman</td><td>177</td></tr>",
                            "<tr><td>David Freese</td><td>162</td></tr>",
                            "<tr><td>David Freitas</td><td>13</td></tr>",
                            "<tr><td>Max Fried</td><td>56</td></tr>",
                            "<tr><td>Josh Fuentes</td><td>55</td></tr>",
                            "<tr><td>Drew Gagnon</td><td>3</td></tr>",
                            "<tr><td>Rocky Gale</td><td>15</td></tr>",
                            "<tr><td>Cam Gallagher</td><td>126</td></tr>",
                            "<tr><td>Zac Gallen</td><td>10</td></tr>",
                            "<tr><td>Joey Gallo</td><td>241</td></tr>",
                            "<tr><td>Isaac Galloway</td><td>54</td></tr>",
                            "<tr><td>Freddy Galvis</td><td>450</td></tr>",
                            "<tr><td>Ben Gamel</td><td>311</td></tr>",
                            "<tr><td>Aramis Garcia</td><td>42</td></tr>",
                            "<tr><td>Avisail Garcia</td><td>489</td></tr>",
                            "<tr><td>Greg Garcia</td><td>311</td></tr>",
                            "<tr><td>Leury Garcia</td><td>577</td></tr>",
                            "<tr><td>Robel Garcia</td><td>72</td></tr>",
                            "<tr><td>Brett Gardner</td><td>491</td></tr>",
                            "<tr><td>Kyle Garlick</td><td>48</td></tr>",
                            "<tr><td>Dustin Garneau</td><td>69</td></tr>",
                            "<tr><td>Mitch Garver</td><td>311</td></tr>",
                            "<tr><td>Kevin Gausman</td><td>27</td></tr>",
                            "<tr><td>Scooter Gennett</td><td>69</td></tr>",
                            "<tr><td>Mike Gerber</td><td>24</td></tr>",
                            "<tr><td>Lucas Giolito</td><td>4</td></tr>",
                            "<tr><td>Zack Godley</td><td>18</td></tr>",
                            "<tr><td>Ryan Goins</td><td>144</td></tr>",
                            "<tr><td>Paul Goldschmidt</td><td>597</td></tr>",
                            "<tr><td>Yan Gomes</td><td>314</td></tr>",
                            "<tr><td>Carlos Gomez</td><td>86</td></tr>",
                            "<tr><td>Tony Gonsolin</td><td>13</td></tr>",
                            "<tr><td>Marco Gonzales</td><td>5</td></tr>",
                            "<tr><td>Carlos Gonzalez</td><td>105</td></tr>",
                            "<tr><td>Chi Chi Gonzalez</td><td>24</td></tr>",
                            "<tr><td>Erik Gonzalez</td><td>142</td></tr>",
                            "<tr><td>Gio Gonzalez</td><td>25</td></tr>",
                            "<tr><td>Marwin Gonzalez</td><td>425</td></tr>",
                            "<tr><td>Niko Goodrum</td><td>423</td></tr>",
                            "<tr><td>Brian Goodwin</td><td>413</td></tr>",
                            "<tr><td>Alex Gordon</td><td>556</td></tr>",
                            "<tr><td>Dee Gordon</td><td>393</td></tr>",
                            "<tr><td>Terrance Gore</td><td>51</td></tr>",
                            "<tr><td>Phil Gosselin</td><td>65</td></tr>",
                            "<tr><td>Yasmani Grandal</td><td>513</td></tr>",
                            "<tr><td>Curtis Granderson</td><td>317</td></tr>",
                            "<tr><td>Juan Graterol</td><td>18</td></tr>",
                            "<tr><td>Jon Gray</td><td>47</td></tr>",
                            "<tr><td>Sonny Gray</td><td>46</td></tr>",
                            "<tr><td>Zach Green</td><td>14</td></tr>",
                            "<tr><td>Didi Gregorius</td><td>324</td></tr>",
                            "<tr><td>Grayson Greiner</td><td>208</td></tr>",
                            "<tr><td>Zack Greinke</td><td>48</td></tr>",
                            "<tr><td>Randal Grichuk</td><td>586</td></tr>",
                            "<tr><td>Trent Grisham</td><td>156</td></tr>",
                            "<tr><td>Robbie Grossman</td><td>420</td></tr>",
                            "<tr><td>Deivy Grullon</td><td>9</td></tr>",
                            "<tr><td>Junior Guerra</td><td>3</td></tr>",
                            "<tr><td>Vladimir Guerrero Jr.</td><td>464</td></tr>",
                            "<tr><td>Luis Guillorme</td><td>61</td></tr>",
                            "<tr><td>Lourdes Gurriel Jr.</td><td>314</td></tr>",
                            "<tr><td>Yuli Gurriel</td><td>564</td></tr>",
                            "<tr><td>Kelvin Gutierrez</td><td>73</td></tr>",
                            "<tr><td>Ronald Guzman</td><td>256</td></tr>",
                            "<tr><td>Jedd Gyorko</td><td>56</td></tr>",
                            "<tr><td>Eric Haase</td><td>16</td></tr>",
                            "<tr><td>Cole Hamels</td><td>42</td></tr>",
                            "<tr><td>Billy Hamilton</td><td>275</td></tr>",
                            "<tr><td>Garrett Hampson</td><td>299</td></tr>",
                            "<tr><td>Mitch Haniger</td><td>246</td></tr>",
                            "<tr><td>Alen Hanson</td><td>43</td></tr>",
                            "<tr><td>Ian Happ</td><td>140</td></tr>",
                            "<tr><td>Bryce Harper</td><td>573</td></tr>",
                            "<tr><td>Josh Harrison</td><td>137</td></tr>",
                            "<tr><td>Adam Haseley</td><td>222</td></tr>",
                            "<tr><td>Austin Hays</td><td>68</td></tr>",
                            "<tr><td>Ryon Healy</td><td>169</td></tr>",
                            "<tr><td>Adeiny Hechavarria</td><td>142</td></tr>",
                            "<tr><td>Austin Hedges</td><td>312</td></tr>",
                            "<tr><td>Scott Heineman</td><td>75</td></tr>",
                            "<tr><td>Tyler Heineman</td><td>11</td></tr>",
                            "<tr><td>Jeremy Hellickson</td><td>9</td></tr>",
                            "<tr><td>Ryan Helsley</td><td>3</td></tr>",
                            "<tr><td>Kyle Hendricks</td><td>54</td></tr>",
                            "<tr><td>Guillermo Heredia</td><td>204</td></tr>",
                            "<tr><td>Michael Hermosillo</td><td>36</td></tr>",
                            "<tr><td>Cesar Hernandez</td><td>612</td></tr>",
                            "<tr><td>Elieser Hernandez</td><td>19</td></tr>",
                            "<tr><td>Enrique Hernandez</td><td>414</td></tr>",
                            "<tr><td>Gorkys Hernandez</td><td>49</td></tr>",
                            "<tr><td>Marco Hernandez</td><td>148</td></tr>",
                            "<tr><td>Teoscar Hernandez</td><td>417</td></tr>",
                            "<tr><td>Odubel Herrera</td><td>126</td></tr>",
                            "<tr><td>Rosell Herrera</td><td>105</td></tr>",
                            "<tr><td>Chris Herrmann</td><td>84</td></tr>",
                            "<tr><td>Jason Heyward</td><td>513</td></tr>",
                            "<tr><td>Aaron Hicks</td><td>221</td></tr>",
                            "<tr><td>John Hicks</td><td>319</td></tr>",
                            "<tr><td>Kyle Higashioka</td><td>56</td></tr>",
                            "<tr><td>Rich Hill</td><td>18</td></tr>",
                            "<tr><td>Sam Hilliard</td><td>77</td></tr>",
                            "<tr><td>Keston Hiura</td><td>314</td></tr>",
                            "<tr><td>Nico Hoerner</td><td>78</td></tr>",
                            "<tr><td>Jeff Hoffman</td><td>21</td></tr>",
                            "<tr><td>Bryan Holaday</td><td>115</td></tr>",
                            "<tr><td>Derek Holland</td><td>12</td></tr>",
                            "<tr><td>Brock Holt</td><td>259</td></tr>",
                            "<tr><td>Rhys Hoskins</td><td>570</td></tr>",
                            "<tr><td>Eric Hosmer</td><td>619</td></tr>",
                            "<tr><td>Adrian Houser</td><td>22</td></tr>",
                            "<tr><td>Dakota Hudson</td><td>51</td></tr>",
                            "<tr><td>Nick Hundley</td><td>70</td></tr>",
                            "<tr><td>Chris Iannetta</td><td>144</td></tr>",
                            "<tr><td>José Iglesias</td><td>504</td></tr>",
                            "<tr><td>Ender Inciarte</td><td>199</td></tr>",
                            "<tr><td>Cole Irvin</td><td>6</td></tr>",
                            "<tr><td>Travis Jankowski</td><td>22</td></tr>",
                            "<tr><td>Danny Jansen</td><td>347</td></tr>",
                            "<tr><td>Jon Jay</td><td>165</td></tr>",
                            "<tr><td>Eloy Jimenez</td><td>468</td></tr>",
                            "<tr><td>Connor Joe</td><td>15</td></tr>",
                            "<tr><td>Adam Jones</td><td>485</td></tr>",
                            "<tr><td>JaCoby Jones</td><td>298</td></tr>",
                            "<tr><td>Caleb Joseph</td><td>38</td></tr>",
                            "<tr><td>Corban Joseph</td><td>37</td></tr>",
                            "<tr><td>Matthew Joyce</td><td>200</td></tr>",
                            "<tr><td>Aaron Judge</td><td>378</td></tr>",
                            "<tr><td>Jung Ho Kang</td><td>172</td></tr>",
                            "<tr><td>Brad Keller</td><td>8</td></tr>",
                            "<tr><td>Carson Kelly</td><td>314</td></tr>",
                            "<tr><td>Merrill Kelly</td><td>52</td></tr>",
                            "<tr><td>Matt Kemp</td><td>60</td></tr>",
                            "<tr><td>Tony Kemp</td><td>163</td></tr>",
                            "<tr><td>Howie Kendrick</td><td>334</td></tr>",
                            "<tr><td>Max Kepler</td><td>524</td></tr>",
                            "<tr><td>Clayton Kershaw</td><td>49</td></tr>",
                            "<tr><td>Dallas Keuchel</td><td>38</td></tr>",
                            "<tr><td>Carter Kieboom</td><td>39</td></tr>",
                            "<tr><td>Kevin Kiermaier</td><td>447</td></tr>",
                            "<tr><td>Isiah Kiner-Falefa</td><td>202</td></tr>",
                            "<tr><td>Scott Kingery</td><td>458</td></tr>",
                            "<tr><td>Ian Kinsler</td><td>258</td></tr>",
                            "<tr><td>Jason Kipnis</td><td>458</td></tr>",
                            "<tr><td>Andrew Knapp</td><td>136</td></tr>",
                            "<tr><td>Andrew Knizner</td><td>53</td></tr>",
                            "<tr><td>Kevin Kramer</td><td>42</td></tr>",
                            "<tr><td>Erik Kratz</td><td>32</td></tr>",
                            "<tr><td>Tommy La Stella</td><td>292</td></tr>",
                            "<tr><td>Juan Lagares</td><td>258</td></tr>",
                            "<tr><td>Ryan LaMarre</td><td>23</td></tr>",
                            "<tr><td>Jake Lamb</td><td>187</td></tr>",
                            "<tr><td>Peter Lambert</td><td>28</td></tr>",
                            "<tr><td>Dinelson Lamet</td><td>21</td></tr>",
                            "<tr><td>Eric Lauer</td><td>40</td></tr>",
                            "<tr><td>Ramon Laureano</td><td>434</td></tr>",
                            "<tr><td>Ryan Lavarnway</td><td>18</td></tr>",
                            "<tr><td>Mike Leake</td><td>20</td></tr>",
                            "<tr><td>DJ LeMahieu</td><td>602</td></tr>",
                            "<tr><td>Sandy Leon</td><td>172</td></tr>",
                            "<tr><td>Jon Lester</td><td>48</td></tr>",
                            "<tr><td>Kyle Lewis</td><td>71</td></tr>",
                            "<tr><td>Domingo Leyba</td><td>25</td></tr>",
                            "<tr><td>Tzu-Wei Lin</td><td>20</td></tr>",
                            "<tr><td>Francisco Lindor</td><td>598</td></tr>",
                            "<tr><td>Francisco Liriano</td><td>1</td></tr>",
                            "<tr><td>Tim Locastro</td><td>212</td></tr>",
                            "<tr><td>Walker Lockett</td><td>6</td></tr>",
                            "<tr><td>Shed Long</td><td>152</td></tr>",
                            "<tr><td>Evan Longoria</td><td>453</td></tr>",
                            "<tr><td>Tim Lopes</td><td>111</td></tr>",
                            "<tr><td>Nicky Lopez</td><td>379</td></tr>",
                            "<tr><td>Pablo Lopez</td><td>35</td></tr>",
                            "<tr><td>Michael Lorenzen</td><td>48</td></tr>",
                            "<tr><td>Brandon Lowe</td><td>296</td></tr>",
                            "<tr><td>Nate Lowe</td><td>152</td></tr>",
                            "<tr><td>Joey Lucchesi</td><td>48</td></tr>",
                            "<tr><td>Jonathan Lucroy</td><td>240</td></tr>",
                            "<tr><td>Dawel Lugo</td><td>273</td></tr>",
                            "<tr><td>Seth Lugo</td><td>1</td></tr>",
                            "<tr><td>Jordan Luplow</td><td>225</td></tr>",
                            "<tr><td>Gavin Lux</td><td>75</td></tr>",
                            "<tr><td>Jordan Lyles</td><td>25</td></tr>",
                            "<tr><td>Manny Machado</td><td>587</td></tr>",
                            "<tr><td>Kenta Maeda</td><td>48</td></tr>",
                            "<tr><td>Tyler Mahle</td><td>34</td></tr>",
                            "<tr><td>Luke Maile</td><td>119</td></tr>",
                            "<tr><td>Martin Maldonado</td><td>238</td></tr>",
                            "<tr><td>Trey Mancini</td><td>602</td></tr>",
                            "<tr><td>Nick Margevicius</td><td>15</td></tr>",
                            "<tr><td>Manuel Margot</td><td>398</td></tr>",
                            "<tr><td>Jake Marisnick</td><td>292</td></tr>",
                            "<tr><td>Nick Markakis</td><td>414</td></tr>",
                            "<tr><td>German Marquez</td><td>48</td></tr>",
                            "<tr><td>Ketel Marte</td><td>569</td></tr>",
                            "<tr><td>Starling Marte</td><td>539</td></tr>",
                            "<tr><td>Jason Martin</td><td>36</td></tr>",
                            "<tr><td>Leonys Martín</td><td>236</td></tr>",
                            "<tr><td>Richie Martin</td><td>283</td></tr>",
                            "<tr><td>Russell Martin</td><td>209</td></tr>",
                            "<tr><td>J.D. Martinez</td><td>575</td></tr>",
                            "<tr><td>Jose Martinez</td><td>334</td></tr>",
                            "<tr><td>Nick Martini</td><td>82</td></tr>",
                            "<tr><td>Jeff Mathis</td><td>228</td></tr>",
                            "<tr><td>Phil Maton</td><td>4</td></tr>",
                            "<tr><td>Steven Matz</td><td>57</td></tr>",
                            "<tr><td>Dustin May</td><td>11</td></tr>",
                            "<tr><td>Cameron Maybin</td><td>239</td></tr>",
                            "<tr><td>Jack Mayfield</td><td>64</td></tr>",
                            "<tr><td>Nomar Mazara</td><td>429</td></tr>",
                            "<tr><td>Ryan McBroom</td><td>75</td></tr>",
                            "<tr><td>Brian McCann</td><td>277</td></tr>",
                            "<tr><td>James McCann</td><td>439</td></tr>",
                            "<tr><td>Andrew McCutchen</td><td>219</td></tr>",
                            "<tr><td>Kyle McGowin</td><td>3</td></tr>",
                            "<tr><td>Reese McGuire</td><td>97</td></tr>",
                            "<tr><td>Brendan McKay</td><td>10</td></tr>",
                            "<tr><td>Billy McKinney</td><td>251</td></tr>",
                            "<tr><td>Ryan McMahon</td><td>480</td></tr>",
                            "<tr><td>Jeff McNeil</td><td>510</td></tr>",
                            "<tr><td>Alex McRae</td><td>6</td></tr>",
                            "<tr><td>Austin Meadows</td><td>530</td></tr>",
                            "<tr><td>John Means</td><td>1</td></tr>",
                            "<tr><td>Erick Mejia</td><td>22</td></tr>",
                            "<tr><td>Francisco Mejia</td><td>226</td></tr>",
                            "<tr><td>Seth Mejias-Brean</td><td>30</td></tr>",
                            "<tr><td>Tim Melville</td><td>8</td></tr>",
                            "<tr><td>Danny Mendick</td><td>39</td></tr>",
                            "<tr><td>Oscar Mercado</td><td>438</td></tr>",
                            "<tr><td>Jordy Mercer</td><td>256</td></tr>",
                            "<tr><td>Whit Merrifield</td><td>681</td></tr>",
                            "<tr><td>Miles Mikolas</td><td>59</td></tr>",
                            "<tr><td>Brad Miller</td><td>118</td></tr>",
                            "<tr><td>Ian Miller</td><td>17</td></tr>",
                            "<tr><td>Alec Mills</td><td>12</td></tr>",
                            "<tr><td>Yadier Molina</td><td>419</td></tr>",
                            "<tr><td>Yoan Moncada</td><td>511</td></tr>",
                            "<tr><td>Adalberto Mondesi</td><td>415</td></tr>",
                            "<tr><td>Mike Montgomery</td><td>5</td></tr>",
                            "<tr><td>Dylan Moore</td><td>247</td></tr>",
                            "<tr><td>Kendrys Morales</td><td>108</td></tr>",
                            "<tr><td>Colin Moran</td><td>466</td></tr>",
                            "<tr><td>Mitch Moreland</td><td>298</td></tr>",
                            "<tr><td>Max Moroff</td><td>32</td></tr>",
                            "<tr><td>Logan Morrison</td><td>35</td></tr>",
                            "<tr><td>Mike Moustakas</td><td>523</td></tr>",
                            "<tr><td>Cedric Mullins</td><td>64</td></tr>",
                            "<tr><td>Max Muncy</td><td>487</td></tr>",
                            "<tr><td>Yairo Munoz</td><td>172</td></tr>",
                            "<tr><td>Daniel Murphy</td><td>438</td></tr>",
                            "<tr><td>John Ryan Murphy</td><td>62</td></tr>",
                            "<tr><td>Sean Murphy</td><td>53</td></tr>",
                            "<tr><td>Tom Murphy</td><td>260</td></tr>",
                            "<tr><td>Joe Musgrove</td><td>51</td></tr>",
                            "<tr><td>Wil Myers</td><td>435</td></tr>",
                            "<tr><td>Tyler Naquin</td><td>274</td></tr>",
                            "<tr><td>Omar Narvaez</td><td>428</td></tr>",
                            "<tr><td>Josh Naylor</td><td>253</td></tr>",
                            "<tr><td>Kristopher Negron</td><td>54</td></tr>",
                            "<tr><td>Sheldon Neuse</td><td>56</td></tr>",
                            "<tr><td>Kevin Newman</td><td>493</td></tr>",
                            "<tr><td>Tomas Nido</td><td>136</td></tr>",
                            "<tr><td>Brandon Nimmo</td><td>199</td></tr>",
                            "<tr><td>Hector Noesi</td><td>4</td></tr>",
                            "<tr><td>Aaron Nola</td><td>59</td></tr>",
                            "<tr><td>Austin Nola</td><td>238</td></tr>",
                            "<tr><td>Jake Noll</td><td>12</td></tr>",
                            "<tr><td>Daniel Norris</td><td>6</td></tr>",
                            "<tr><td>Jacob Nottingham</td><td>6</td></tr>",
                            "<tr><td>Dom Nunez</td><td>39</td></tr>",
                            "<tr><td>Eduardo Nunez</td><td>167</td></tr>",
                            "<tr><td>Renato Nunez</td><td>541</td></tr>",
                            "<tr><td>Peter O&#39;Brien</td><td>42</td></tr>",
                            "<tr><td>Brian O&#39;Grady</td><td>42</td></tr>",
                            "<tr><td>Ryan O&#39;Hearn</td><td>328</td></tr>",
                            "<tr><td>Tyler O&#39;Neill</td><td>141</td></tr>",
                            "<tr><td>Rougned Odor</td><td>522</td></tr>",
                            "<tr><td>Shohei Ohtani</td><td>384</td></tr>",
                            "<tr><td>Matt Olson</td><td>483</td></tr>",
                            "<tr><td>Rafael Ortega</td><td>88</td></tr>",
                            "<tr><td>Jose Osuna</td><td>261</td></tr>",
                            "<tr><td>Chris Owings</td><td>135</td></tr>",
                            "<tr><td>Marcell Ozuna</td><td>485</td></tr>",
                            "<tr><td>Chris Paddack</td><td>42</td></tr>",
                            "<tr><td>Daniel Palka</td><td>84</td></tr>",
                            "<tr><td>Joe Panik</td><td>344</td></tr>",
                            "<tr><td>Gerardo Parra</td><td>188</td></tr>",
                            "<tr><td>Steve Pearce</td><td>89</td></tr>",
                            "<tr><td>Joc Pederson</td><td>450</td></tr>",
                            "<tr><td>Dustin Pedroia</td><td>20</td></tr>",
                            "<tr><td>Hunter Pence</td><td>286</td></tr>",
                            "<tr><td>David Peralta</td><td>382</td></tr>",
                            "<tr><td>Freddy Peralta</td><td>15</td></tr>",
                            "<tr><td>Jose Peraza</td><td>376</td></tr>",
                            "<tr><td>Luis Perdomo</td><td>7</td></tr>",
                            "<tr><td>Hernan Perez</td><td>232</td></tr>",
                            "<tr><td>Michael Perez</td><td>46</td></tr>",
                            "<tr><td>Roberto Perez</td><td>389</td></tr>",
                            "<tr><td>Dustin Peterson</td><td>44</td></tr>",
                            "<tr><td>Jace Peterson</td><td>100</td></tr>",
                            "<tr><td>Tommy Pham</td><td>567</td></tr>",
                            "<tr><td>Josh Phegley</td><td>314</td></tr>",
                            "<tr><td>Brett Phillips</td><td>65</td></tr>",
                            "<tr><td>Kevin Pillar</td><td>595</td></tr>",
                            "<tr><td>Manny Pina</td><td>158</td></tr>",
                            "<tr><td>Chad Pinder</td><td>341</td></tr>",
                            "<tr><td>Jose Pirela</td><td>17</td></tr>",
                            "<tr><td>Stephen Piscotty</td><td>357</td></tr>",
                            "<tr><td>Nick Pivetta</td><td>25</td></tr>",
                            "<tr><td>Kevin Plawecki</td><td>158</td></tr>",
                            "<tr><td>Gregory Polanco</td><td>153</td></tr>",
                            "<tr><td>Jorge Polanco</td><td>631</td></tr>",
                            "<tr><td>A.J. Pollock</td><td>308</td></tr>",
                            "<tr><td>Buster Posey</td><td>405</td></tr>",
                            "<tr><td>Martin Prado</td><td>245</td></tr>",
                            "<tr><td>David Price</td><td>2</td></tr>",
                            "<tr><td>Jurickson Profar</td><td>459</td></tr>",
                            "<tr><td>Cesar Puello</td><td>84</td></tr>",
                            "<tr><td>Yasiel Puig</td><td>373</td></tr>",
                            "<tr><td>Albert Pujols</td><td>491</td></tr>",
                            "<tr><td>Cal Quantrill</td><td>25</td></tr>",
                            "<tr><td>Roman Quinn</td><td>108</td></tr>",
                            "<tr><td>Jose Quintana</td><td>54</td></tr>",
                            "<tr><td>Hanley Ramirez</td><td>49</td></tr>",
                            "<tr><td>Harold Ramirez</td><td>421</td></tr>",
                            "<tr><td>Jose Ramirez</td><td>482</td></tr>",
                            "<tr><td>Wilson Ramos</td><td>473</td></tr>",
                            "<tr><td>Rangel Ravelo</td><td>39</td></tr>",
                            "<tr><td>Robbie Ray</td><td>55</td></tr>",
                            "<tr><td>Raudy Read</td><td>11</td></tr>",
                            "<tr><td>J.T. Realmuto</td><td>538</td></tr>",
                            "<tr><td>Josh Reddick</td><td>501</td></tr>",
                            "<tr><td>AJ Reed</td><td>44</td></tr>",
                            "<tr><td>Anthony Rendon</td><td>545</td></tr>",
                            "<tr><td>Hunter Renfroe</td><td>440</td></tr>",
                            "<tr><td>Luis Rengifo</td><td>357</td></tr>",
                            "<tr><td>Franmil Reyes</td><td>321</td></tr>",
                            "<tr><td>Pablo Reyes</td><td>143</td></tr>",
                            "<tr><td>Victor Reyes</td><td>276</td></tr>",
                            "<tr><td>Bryan Reynolds</td><td>491</td></tr>",
                            "<tr><td>Mark Reynolds</td><td>135</td></tr>",
                            "<tr><td>Trevor Richards</td><td>30</td></tr>",
                            "<tr><td>Joey Rickard</td><td>118</td></tr>",
                            "<tr><td>JT Riddle</td><td>132</td></tr>",
                            "<tr><td>Austin Riley</td><td>274</td></tr>",
                            "<tr><td>Edwin Rios</td><td>47</td></tr>",
                            "<tr><td>Rene Rivera</td><td>17</td></tr>",
                            "<tr><td>Yadiel Rivera</td><td>60</td></tr>",
                            "<tr><td>Anthony Rizzo</td><td>512</td></tr>",
                            "<tr><td>Tanner Roark</td><td>33</td></tr>",
                            "<tr><td>Daniel Robertson</td><td>207</td></tr>",
                            "<tr><td>Drew Robinson</td><td>7</td></tr>",
                            "<tr><td>Victor Robles</td><td>546</td></tr>",
                            "<tr><td>Brendan Rodgers</td><td>76</td></tr>",
                            "<tr><td>Dereck Rodriguez</td><td>29</td></tr>",
                            "<tr><td>Ronny Rodriguez</td><td>276</td></tr>",
                            "<tr><td>Sean Rodriguez</td><td>112</td></tr>",
                            "<tr><td>Jake Rogers</td><td>112</td></tr>",
                            "<tr><td>Josh Rojas</td><td>138</td></tr>",
                            "<tr><td>Miguel Rojas</td><td>483</td></tr>",
                            "<tr><td>Austin Romine</td><td>228</td></tr>",
                            "<tr><td>Jose Rondon</td><td>142</td></tr>",
                            "<tr><td>Amed Rosario</td><td>616</td></tr>",
                            "<tr><td>Eddie Rosario</td><td>562</td></tr>",
                            "<tr><td>Joe Ross</td><td>19</td></tr>",
                            "<tr><td>Rio Ruiz</td><td>370</td></tr>",
                            "<tr><td>Addison Russell</td><td>215</td></tr>",
                            "<tr><td>Hyun-Jin Ryu</td><td>51</td></tr>",
                            "<tr><td>Tyler Saladino</td><td>65</td></tr>",
                            "<tr><td>Jeff Samardzija</td><td>50</td></tr>",
                            "<tr><td>Adrian Sanchez</td><td>31</td></tr>",
                            "<tr><td>Anibal Sanchez</td><td>52</td></tr>",
                            "<tr><td>Gary Sanchez</td><td>396</td></tr>",
                            "<tr><td>Yolmer Sanchez</td><td>496</td></tr>",
                            "<tr><td>Pablo Sandoval</td><td>272</td></tr>",
                            "<tr><td>Miguel Sano</td><td>380</td></tr>",
                            "<tr><td>Carlos Santana</td><td>573</td></tr>",
                            "<tr><td>Danny Santana</td><td>474</td></tr>",
                            "<tr><td>Dennis Santana</td><td>2</td></tr>",
                            "<tr><td>Domingo Santana</td><td>451</td></tr>",
                            "<tr><td>Anthony Santander</td><td>380</td></tr>",
                            "<tr><td>Scott Schebler</td><td>81</td></tr>",
                            "<tr><td>Max Scherzer</td><td>55</td></tr>",
                            "<tr><td>Jonathan Schoop</td><td>433</td></tr>",
                            "<tr><td>Kyle Schwarber</td><td>529</td></tr>",
                            "<tr><td>Frank Schwindel</td><td>15</td></tr>",
                            "<tr><td>Corey Seager</td><td>489</td></tr>",
                            "<tr><td>Kyle Seager</td><td>393</td></tr>",
                            "<tr><td>Jean Segura</td><td>576</td></tr>",
                            "<tr><td>Marcus Semien</td><td>657</td></tr>",
                            "<tr><td>Antonio Senzatela</td><td>40</td></tr>",
                            "<tr><td>Nick Senzel</td><td>375</td></tr>",
                            "<tr><td>Pedro Severino</td><td>305</td></tr>",
                            "<tr><td>Chris Shaw</td><td>18</td></tr>",
                            "<tr><td>Travis Shaw</td><td>230</td></tr>",
                            "<tr><td>JB Shuck</td><td>47</td></tr>",
                            "<tr><td>Magneuris Sierra</td><td>40</td></tr>",
                            "<tr><td>Andrelton Simmons</td><td>398</td></tr>",
                            "<tr><td>Lucas Sims</td><td>8</td></tr>",
                            "<tr><td>Chance Sisco</td><td>167</td></tr>",
                            "<tr><td>Matt Skole</td><td>72</td></tr>",
                            "<tr><td>Austin Slater</td><td>168</td></tr>",
                            "<tr><td>Caleb Smith</td><td>43</td></tr>",
                            "<tr><td>Dominic Smith</td><td>177</td></tr>",
                            "<tr><td>Dwight Smith Jr.</td><td>357</td></tr>",
                            "<tr><td>Kevan Smith</td><td>191</td></tr>",
                            "<tr><td>Mallex Smith</td><td>510</td></tr>",
                            "<tr><td>Will Smith</td><td>170</td></tr>",
                            "<tr><td>Justin Smoak</td><td>414</td></tr>",
                            "<tr><td>Eric Sogard</td><td>287</td></tr>",
                            "<tr><td>Nick Solak</td><td>116</td></tr>",
                            "<tr><td>Donovan Solano</td><td>215</td></tr>",
                            "<tr><td>Yangervis Solarte</td><td>73</td></tr>",
                            "<tr><td>Jorge Soler</td><td>589</td></tr>",
                            "<tr><td>Mike Soroka</td><td>52</td></tr>",
                            "<tr><td>Edmundo Sosa</td><td>8</td></tr>",
                            "<tr><td>Gregory Soto</td><td>2</td></tr>",
                            "<tr><td>Juan Soto</td><td>542</td></tr>",
                            "<tr><td>Cory Spangenberg</td><td>95</td></tr>",
                            "<tr><td>George Springer</td><td>479</td></tr>",
                            "<tr><td>Jacob Stallings</td><td>191</td></tr>",
                            "<tr><td>Eric Stamets</td><td>41</td></tr>",
                            "<tr><td>Giancarlo Stanton</td><td>59</td></tr>",
                            "<tr><td>Bubba Starling</td><td>186</td></tr>",
                            "<tr><td>Max Stassi</td><td>90</td></tr>",
                            "<tr><td>Andrew Stevenson</td><td>30</td></tr>",
                            "<tr><td>Brock Stewart</td><td>3</td></tr>",
                            "<tr><td>Christin Stewart</td><td>369</td></tr>",
                            "<tr><td>DJ Stewart</td><td>126</td></tr>",
                            "<tr><td>Trevor Story</td><td>588</td></tr>",
                            "<tr><td>Matt Strahm</td><td>21</td></tr>",
                            "<tr><td>Stephen Strasburg</td><td>72</td></tr>",
                            "<tr><td>Myles Straw</td><td>108</td></tr>",
                            "<tr><td>Ross Stripling</td><td>20</td></tr>",
                            "<tr><td>Marcus Stroman</td><td>21</td></tr>",
                            "<tr><td>Garrett Stubbs</td><td>35</td></tr>",
                            "<tr><td>Eugenio Suarez</td><td>575</td></tr>",
                            "<tr><td>Ranger Suarez</td><td>4</td></tr>",
                            "<tr><td>Jesus Sucre</td><td>62</td></tr>",
                            "<tr><td>Kurt Suzuki</td><td>280</td></tr>",
                            "<tr><td>Dansby Swanson</td><td>483</td></tr>",
                            "<tr><td>Blake Swihart</td><td>66</td></tr>",
                            "<tr><td>Noah Syndergaard</td><td>65</td></tr>",
                            "<tr><td>Jameson Taillon</td><td>8</td></tr>",
                            "<tr><td>Raimel Tapia</td><td>426</td></tr>",
                            "<tr><td>Fernando Tatis Jr.</td><td>334</td></tr>",
                            "<tr><td>Mike Tauchman</td><td>260</td></tr>",
                            "<tr><td>Beau Taylor</td><td>22</td></tr>",
                            "<tr><td>Chris Taylor</td><td>366</td></tr>",
                            "<tr><td>Michael A. Taylor</td><td>88</td></tr>",
                            "<tr><td>Tyrone Taylor</td><td>10</td></tr>",
                            "<tr><td>Julio Teheran</td><td>55</td></tr>",
                            "<tr><td>Rowdy Tellez</td><td>370</td></tr>",
                            "<tr><td>Matt Thaiss</td><td>147</td></tr>",
                            "<tr><td>Eric Thames</td><td>396</td></tr>",
                            "<tr><td>Lane Thomas</td><td>38</td></tr>",
                            "<tr><td>Trent Thornton</td><td>3</td></tr>",
                            "<tr><td>Charlie Tilson</td><td>144</td></tr>",
                            "<tr><td>Jesus Tinoco</td><td>5</td></tr>",
                            "<tr><td>Abraham Toro</td><td>78</td></tr>",
                            "<tr><td>Luis Torrens</td><td>14</td></tr>",
                            "<tr><td>Gleyber Torres</td><td>546</td></tr>",
                            "<tr><td>Ronald Torreyes</td><td>16</td></tr>",
                            "<tr><td>Wilfredo Tovar</td><td>83</td></tr>",
                            "<tr><td>Sam Travis</td><td>144</td></tr>",
                            "<tr><td>Jose Trevino</td><td>120</td></tr>",
                            "<tr><td>Mike Trout</td><td>470</td></tr>",
                            "<tr><td>Mark Trumbo</td><td>29</td></tr>",
                            "<tr><td>Cole Tucker</td><td>147</td></tr>",
                            "<tr><td>Kyle Tucker</td><td>67</td></tr>",
                            "<tr><td>Troy Tulowitzki</td><td>11</td></tr>",
                            "<tr><td>Justin Turner</td><td>479</td></tr>",
                            "<tr><td>Trea Turner</td><td>521</td></tr>",
                            "<tr><td>Justin Upton</td><td>219</td></tr>",
                            "<tr><td>Richard Urena</td><td>74</td></tr>",
                            "<tr><td>Julio Urias</td><td>12</td></tr>",
                            "<tr><td>Luis Urias</td><td>215</td></tr>",
                            "<tr><td>Gio Urshela</td><td>442</td></tr>",
                            "<tr><td>Pat Valaika</td><td>79</td></tr>",
                            "<tr><td>Breyvic Valera</td><td>32</td></tr>",
                            "<tr><td>Josh VanMeter</td><td>228</td></tr>",
                            "<tr><td>Ildemaro Vargas</td><td>201</td></tr>",
                            "<tr><td>Jason Vargas</td><td>28</td></tr>",
                            "<tr><td>Christian Vazquez</td><td>482</td></tr>",
                            "<tr><td>Vince Velasquez</td><td>30</td></tr>",
                            "<tr><td>Andrew Velazquez</td><td>12</td></tr>",
                            "<tr><td>Alex Verdugo</td><td>343</td></tr>",
                            "<tr><td>Jonathan Villar</td><td>642</td></tr>",
                            "<tr><td>Meibrys Viloria</td><td>133</td></tr>",
                            "<tr><td>Daniel Vogelbach</td><td>462</td></tr>",
                            "<tr><td>Stephen Vogt</td><td>255</td></tr>",
                            "<tr><td>Luke Voit</td><td>429</td></tr>",
                            "<tr><td>Austin Voth</td><td>9</td></tr>",
                            "<tr><td>Joey Votto</td><td>525</td></tr>",
                            "<tr><td>Michael Wacha</td><td>36</td></tr>",
                            "<tr><td>LaMonte Wade Jr</td><td>56</td></tr>",
                            "<tr><td>Tyler Wade</td><td>94</td></tr>",
                            "<tr><td>Adam Wainwright</td><td>50</td></tr>",
                            "<tr><td>Christian Walker</td><td>529</td></tr>",
                            "<tr><td>Neil Walker</td><td>337</td></tr>",
                            "<tr><td>Chad Wallach</td><td>48</td></tr>",
                            "<tr><td>Jared Walsh</td><td>79</td></tr>",
                            "<tr><td>Donovan Walton</td><td>16</td></tr>",
                            "<tr><td>Taylor Ward</td><td>42</td></tr>",
                            "<tr><td>Luke Weaver</td><td>19</td></tr>",
                            "<tr><td>Logan Webb</td><td>9</td></tr>",
                            "<tr><td>Joey Wendle</td><td>238</td></tr>",
                            "<tr><td>Zack Wheeler</td><td>57</td></tr>",
                            "<tr><td>Tyler White</td><td>218</td></tr>",
                            "<tr><td>Matt Wieters</td><td>168</td></tr>",
                            "<tr><td>Aaron Wilkerson</td><td>3</td></tr>",
                            "<tr><td>Stevie Wilkerson</td><td>329</td></tr>",
                            "<tr><td>Mason Williams</td><td>30</td></tr>",
                            "<tr><td>Nick Williams</td><td>106</td></tr>",
                            "<tr><td>Trevor Williams</td><td>36</td></tr>",
                            "<tr><td>Mac Williamson</td><td>77</td></tr>",
                            "<tr><td>Bobby Wilson</td><td>44</td></tr>",
                            "<tr><td>Bryse Wilson</td><td>9</td></tr>",
                            "<tr><td>Jesse Winker</td><td>338</td></tr>",
                            "<tr><td>Patrick Wisdom</td><td>26</td></tr>",
                            "<tr><td>Tony Wolters</td><td>359</td></tr>",
                            "<tr><td>Kean Wong</td><td>14</td></tr>",
                            "<tr><td>Kolten Wong</td><td>478</td></tr>",
                            "<tr><td>Alex Wood</td><td>9</td></tr>",
                            "<tr><td>Brandon Woodruff</td><td>45</td></tr>",
                            "<tr><td>Austin Wynns</td><td>70</td></tr>",
                            "<tr><td>Jordan Yamamoto</td><td>21</td></tr>",
                            "<tr><td>Mike Yastrzemski</td><td>371</td></tr>",
                            "<tr><td>Christian Yelich</td><td>489</td></tr>",
                            "<tr><td>Alex Young</td><td>25</td></tr>",
                            "<tr><td>Mark Zagunis</td><td>36</td></tr>",
                            "<tr><td>Seby Zavala</td><td>12</td></tr>",
                            "<tr><td>Ryan Zimmerman</td><td>171</td></tr>",
                            "<tr><td>Ben Zobrist</td><td>150</td></tr>",
                            "<tr><td>Mike Zunino</td><td>266</td></tr>",
                            "</table>"
                        ]
                    }
                }
            ],
            "execution_count": 12
        },
        {
            "cell_type": "code",
            "source": [
                "-- List the names of players with more than 30 doubles:\n",
                "SELECT Name\n",
                "FROM baseball\n",
                "WHERE Doubles > 30;"
            ],
            "metadata": {
                "azdata_cell_guid": "45474205-b62f-4559-bb3c-22be926d5136",
                "language": "sql"
            },
            "outputs": [
                {
                    "output_type": "display_data",
                    "data": {
                        "text/html": "(63 row(s) affected)"
                    },
                    "metadata": {}
                },
                {
                    "output_type": "display_data",
                    "data": {
                        "text/html": "Total execution time: 00:00:01.007"
                    },
                    "metadata": {}
                },
                {
                    "output_type": "execute_result",
                    "metadata": {},
                    "execution_count": 13,
                    "data": {
                        "application/vnd.dataresource+json": {
                            "schema": {
                                "fields": [
                                    {
                                        "name": "Name"
                                    }
                                ]
                            },
                            "data": [
                                {
                                    "Name": "José Abreu"
                                },
                                {
                                    "Name": "Nick Ahmed"
                                },
                                {
                                    "Name": "Ozzie Albies"
                                },
                                {
                                    "Name": "Brian Anderson"
                                },
                                {
                                    "Name": "Tim Anderson"
                                },
                                {
                                    "Name": "Nolan Arenado"
                                },
                                {
                                    "Name": "Javier Baez"
                                },
                                {
                                    "Name": "Josh Bell"
                                },
                                {
                                    "Name": "Cody Bellinger"
                                },
                                {
                                    "Name": "Brandon Belt"
                                },
                                {
                                    "Name": "Andrew Benintendi"
                                },
                                {
                                    "Name": "Mookie Betts"
                                },
                                {
                                    "Name": "Charlie Blackmon"
                                },
                                {
                                    "Name": "Xander Bogaerts"
                                },
                                {
                                    "Name": "Michael Brantley"
                                },
                                {
                                    "Name": "Ryan Braun"
                                },
                                {
                                    "Name": "Alex Bregman"
                                },
                                {
                                    "Name": "Kris Bryant"
                                },
                                {
                                    "Name": "Nicholas Castellanos"
                                },
                                {
                                    "Name": "Starlin Castro"
                                },
                                {
                                    "Name": "Matt Chapman"
                                },
                                {
                                    "Name": "Shin-Soo Choo"
                                },
                                {
                                    "Name": "Paul DeJong"
                                },
                                {
                                    "Name": "Ian Desmond"
                                },
                                {
                                    "Name": "Rafael Devers"
                                },
                                {
                                    "Name": "Josh Donaldson"
                                },
                                {
                                    "Name": "Adam Frazier"
                                },
                                {
                                    "Name": "Freddie Freeman"
                                },
                                {
                                    "Name": "Alex Gordon"
                                },
                                {
                                    "Name": "Yuli Gurriel"
                                },
                                {
                                    "Name": "Bryce Harper"
                                },
                                {
                                    "Name": "Cesar Hernandez"
                                },
                                {
                                    "Name": "Rhys Hoskins"
                                },
                                {
                                    "Name": "Max Kepler"
                                },
                                {
                                    "Name": "Scott Kingery"
                                },
                                {
                                    "Name": "DJ LeMahieu"
                                },
                                {
                                    "Name": "Francisco Lindor"
                                },
                                {
                                    "Name": "Trey Mancini"
                                },
                                {
                                    "Name": "Ketel Marte"
                                },
                                {
                                    "Name": "Starling Marte"
                                },
                                {
                                    "Name": "J.D. Martinez"
                                },
                                {
                                    "Name": "Jeff McNeil"
                                },
                                {
                                    "Name": "Whit Merrifield"
                                },
                                {
                                    "Name": "Yoan Moncada"
                                },
                                {
                                    "Name": "Daniel Murphy"
                                },
                                {
                                    "Name": "Tommy Pham"
                                },
                                {
                                    "Name": "Kevin Pillar"
                                },
                                {
                                    "Name": "Jorge Polanco"
                                },
                                {
                                    "Name": "Jose Ramirez"
                                },
                                {
                                    "Name": "J.T. Realmuto"
                                },
                                {
                                    "Name": "Anthony Rendon"
                                },
                                {
                                    "Name": "Bryan Reynolds"
                                },
                                {
                                    "Name": "Victor Robles"
                                },
                                {
                                    "Name": "Corey Seager"
                                },
                                {
                                    "Name": "Jean Segura"
                                },
                                {
                                    "Name": "Marcus Semien"
                                },
                                {
                                    "Name": "Jorge Soler"
                                },
                                {
                                    "Name": "Juan Soto"
                                },
                                {
                                    "Name": "Trevor Story"
                                },
                                {
                                    "Name": "Trea Turner"
                                },
                                {
                                    "Name": "Gio Urshela"
                                },
                                {
                                    "Name": "Jonathan Villar"
                                },
                                {
                                    "Name": "Joey Votto"
                                }
                            ]
                        },
                        "text/html": [
                            "<table>",
                            "<tr><th>Name</th></tr>",
                            "<tr><td>José Abreu</td></tr>",
                            "<tr><td>Nick Ahmed</td></tr>",
                            "<tr><td>Ozzie Albies</td></tr>",
                            "<tr><td>Brian Anderson</td></tr>",
                            "<tr><td>Tim Anderson</td></tr>",
                            "<tr><td>Nolan Arenado</td></tr>",
                            "<tr><td>Javier Baez</td></tr>",
                            "<tr><td>Josh Bell</td></tr>",
                            "<tr><td>Cody Bellinger</td></tr>",
                            "<tr><td>Brandon Belt</td></tr>",
                            "<tr><td>Andrew Benintendi</td></tr>",
                            "<tr><td>Mookie Betts</td></tr>",
                            "<tr><td>Charlie Blackmon</td></tr>",
                            "<tr><td>Xander Bogaerts</td></tr>",
                            "<tr><td>Michael Brantley</td></tr>",
                            "<tr><td>Ryan Braun</td></tr>",
                            "<tr><td>Alex Bregman</td></tr>",
                            "<tr><td>Kris Bryant</td></tr>",
                            "<tr><td>Nicholas Castellanos</td></tr>",
                            "<tr><td>Starlin Castro</td></tr>",
                            "<tr><td>Matt Chapman</td></tr>",
                            "<tr><td>Shin-Soo Choo</td></tr>",
                            "<tr><td>Paul DeJong</td></tr>",
                            "<tr><td>Ian Desmond</td></tr>",
                            "<tr><td>Rafael Devers</td></tr>",
                            "<tr><td>Josh Donaldson</td></tr>",
                            "<tr><td>Adam Frazier</td></tr>",
                            "<tr><td>Freddie Freeman</td></tr>",
                            "<tr><td>Alex Gordon</td></tr>",
                            "<tr><td>Yuli Gurriel</td></tr>",
                            "<tr><td>Bryce Harper</td></tr>",
                            "<tr><td>Cesar Hernandez</td></tr>",
                            "<tr><td>Rhys Hoskins</td></tr>",
                            "<tr><td>Max Kepler</td></tr>",
                            "<tr><td>Scott Kingery</td></tr>",
                            "<tr><td>DJ LeMahieu</td></tr>",
                            "<tr><td>Francisco Lindor</td></tr>",
                            "<tr><td>Trey Mancini</td></tr>",
                            "<tr><td>Ketel Marte</td></tr>",
                            "<tr><td>Starling Marte</td></tr>",
                            "<tr><td>J.D. Martinez</td></tr>",
                            "<tr><td>Jeff McNeil</td></tr>",
                            "<tr><td>Whit Merrifield</td></tr>",
                            "<tr><td>Yoan Moncada</td></tr>",
                            "<tr><td>Daniel Murphy</td></tr>",
                            "<tr><td>Tommy Pham</td></tr>",
                            "<tr><td>Kevin Pillar</td></tr>",
                            "<tr><td>Jorge Polanco</td></tr>",
                            "<tr><td>Jose Ramirez</td></tr>",
                            "<tr><td>J.T. Realmuto</td></tr>",
                            "<tr><td>Anthony Rendon</td></tr>",
                            "<tr><td>Bryan Reynolds</td></tr>",
                            "<tr><td>Victor Robles</td></tr>",
                            "<tr><td>Corey Seager</td></tr>",
                            "<tr><td>Jean Segura</td></tr>",
                            "<tr><td>Marcus Semien</td></tr>",
                            "<tr><td>Jorge Soler</td></tr>",
                            "<tr><td>Juan Soto</td></tr>",
                            "<tr><td>Trevor Story</td></tr>",
                            "<tr><td>Trea Turner</td></tr>",
                            "<tr><td>Gio Urshela</td></tr>",
                            "<tr><td>Jonathan Villar</td></tr>",
                            "<tr><td>Joey Votto</td></tr>",
                            "</table>"
                        ]
                    }
                }
            ],
            "execution_count": 13
        },
        {
            "cell_type": "code",
            "source": [
                "-- Show the player with the most triples:\n",
                "SELECT Name, MAX(Triples) AS MaxTriples\n",
                "FROM baseball\n",
                "GROUP by Name;"
            ],
            "metadata": {
                "azdata_cell_guid": "8c2dcd37-3cbb-4ab3-9758-e240c6c008b4",
                "language": "sql"
            },
            "outputs": [
{
    "output_type": "display_data",
    "data": {
        "text/html": "(768 row(s) affected)"
    },
    "metadata": {}
}, {
    "output_type": "display_data",
    "data": {
        "text/html": "Total execution time: 00:00:01.007"
    },
    "metadata": {}
}, {
    "output_type": "execute_result",
    "metadata": {},
    "execution_count": 14,
    "data": {
        "application/vnd.dataresource+json": {
            "schema": {
                "fields": [
                    {
                        "name": "Name"
                    },
                    {
                        "name": "MaxTriples"
                    }
                ]
            },
            "data": [
                {
                    "Name": "José Abreu",
                    "MaxTriples": "1"
                },
                {
                    "Name": "Ronald Acuna Jr.",
                    "MaxTriples": "2"
                },
                {
                    "Name": "Cristhian Adames",
                    "MaxTriples": "0"
                },
                {
                    "Name": "Willy Adames",
                    "MaxTriples": "1"
                },
                {
                    "Name": "Matt Adams",
                    "MaxTriples": "0"
                },
                {
                    "Name": "Ehire Adrianza",
                    "MaxTriples": "3"
                },
                {
                    "Name": "Dario Agrazal",
                    "MaxTriples": "0"
                },
                {
                    "Name": "Jesus Aguilar",
                    "MaxTriples": "0"
                },
                {
                    "Name": "Nick Ahmed",
                    "MaxTriples": "6"
                },
                {
                    "Name": "R.J. Alaniz",
                    "MaxTriples": "0"
                },
                {
                    "Name": "Hanser Alberto",
                    "MaxTriples": "2"
                },
                {
                    "Name": "Ozzie Albies",
                    "MaxTriples": "8"
                },
                {
                    "Name": "Sandy Alcantara",
                    "MaxTriples": "0"
                },
                {
                    "Name": "Jorge Alfaro",
                    "MaxTriples": "1"
                },
                {
                    "Name": "Anthony Alford",
                    "MaxTriples": "0"
                },
                {
                    "Name": "Austin Allen",
                    "MaxTriples": "0"
                },
                {
                    "Name": "Greg Allen",
                    "MaxTriples": "3"
                },
                {
                    "Name": "Logan Allen",
                    "MaxTriples": "0"
                },
                {
                    "Name": "Abraham Almonte",
                    "MaxTriples": "1"
                },
                {
                    "Name": "Albert Almora",
                    "MaxTriples": "1"
                },
                {
                    "Name": "Pete Alonso",
                    "MaxTriples": "2"
                },
                {
                    "Name": "Yonder Alonso",
                    "MaxTriples": "0"
                },
                {
                    "Name": "Aaron Altherr",
                    "MaxTriples": "0"
                },
                {
                    "Name": "Jose Altuve",
                    "MaxTriples": "3"
                },
                {
                    "Name": "Yordan Álvarez",
                    "MaxTriples": "0"
                },
                {
                    "Name": "Brett Anderson",
                    "MaxTriples": "0"
                },
                {
                    "Name": "Brian Anderson",
                    "MaxTriples": "1"
                },
                {
                    "Name": "Chase Anderson",
                    "MaxTriples": "0"
                },
                {
                    "Name": "Shaun Anderson",
                    "MaxTriples": "0"
                },
                {
                    "Name": "Tim Anderson",
                    "MaxTriples": "0"
                },
                {
                    "Name": "Tyler Anderson",
                    "MaxTriples": "0"
                },
                {
                    "Name": "Elvis Andrus",
                    "MaxTriples": "4"
                },
                {
                    "Name": "Miguel Andujar",
                    "MaxTriples": "0"
                },
                {
                    "Name": "Aristides Aquino",
                    "MaxTriples": "0"
                },
                {
                    "Name": "Chris Archer",
                    "MaxTriples": "0"
                },
                {
                    "Name": "Orlando Arcia",
                    "MaxTriples": "1"
                },
                {
                    "Name": "Nolan Arenado",
                    "MaxTriples": "2"
                },
                {
                    "Name": "Randy Arozarena",
                    "MaxTriples": "0"
                },
                {
                    "Name": "Luis Arraez",
                    "MaxTriples": "1"
                },
                {
                    "Name": "Jake Arrieta",
                    "MaxTriples": "0"
                },
                {
                    "Name": "Christian Arroyo",
                    "MaxTriples": "0"
                },
                {
                    "Name": "Humberto Arteaga",
                    "MaxTriples": "0"
                },
                {
                    "Name": "Willians Astudillo",
                    "MaxTriples": "0"
                },
                {
                    "Name": "Tyler Austin",
                    "MaxTriples": "1"
                },
                {
                    "Name": "Abiatal Avelino",
                    "MaxTriples": "0"
                },
                {
                    "Name": "Alex Avila",
                    "MaxTriples": "0"
                },
                {
                    "Name": "Harrison Bader",
                    "MaxTriples": "3"
                },
                {
                    "Name": "Javier Baez",
                    "MaxTriples": "4"
                },
                {
                    "Name": "Homer Bailey",
                    "MaxTriples": "0"
                },
                {
                    "Name": "Austin Barnes",
                    "MaxTriples": "1"
                },
                {
                    "Name": "Tucker Barnhart",
                    "MaxTriples": "0"
                },
                {
                    "Name": "Steven Baron",
                    "MaxTriples": "0"
                },
                {
                    "Name": "Franklin Barreto",
                    "MaxTriples": "0"
                },
                {
                    "Name": "Trevor Bauer",
                    "MaxTriples": "0"
                },
                {
                    "Name": "Jake Bauers",
                    "MaxTriples": "1"
                },
                {
                    "Name": "Matt Beaty",
                    "MaxTriples": "1"
                },
                {
                    "Name": "Gordon Beckham",
                    "MaxTriples": "2"
                },
                {
                    "Name": "Tim Beckham",
                    "MaxTriples": "1"
                },
                {
                    "Name": "Tyler Beede",
                    "MaxTriples": "0"
                },
                {
                    "Name": "Josh Bell",
                    "MaxTriples": "3"
                },
                {
                    "Name": "Cody Bellinger",
                    "MaxTriples": "3"
                },
                {
                    "Name": "Brandon Belt",
                    "MaxTriples": "3"
                },
                {
                    "Name": "Anthony Bemboom",
                    "MaxTriples": "0"
                },
                {
                    "Name": "Andrew Benintendi",
                    "MaxTriples": "5"
                },
                {
                    "Name": "Jon Berti",
                    "MaxTriples": "1"
                },
                {
                    "Name": "Mookie Betts",
                    "MaxTriples": "5"
                },
                {
                    "Name": "Bo Bichette",
                    "MaxTriples": "0"
                },
                {
                    "Name": "Cavan Biggio",
                    "MaxTriples": "2"
                },
                {
                    "Name": "Greg Bird",
                    "MaxTriples": "0"
                },
                {
                    "Name": "Braden Bishop",
                    "MaxTriples": "0"
                },
                {
                    "Name": "Charlie Blackmon",
                    "MaxTriples": "7"
                },
                {
                    "Name": "Alex Blandino",
                    "MaxTriples": "0"
                },
                {
                    "Name": "Xander Bogaerts",
                    "MaxTriples": "0"
                },
                {
                    "Name": "Skye Bolt",
                    "MaxTriples": "0"
                },
                {
                    "Name": "Jorge Bonifacio",
                    "MaxTriples": "0"
                },
                {
                    "Name": "David Bote",
                    "MaxTriples": "0"
                },
                {
                    "Name": "Justin Bour",
                    "MaxTriples": "0"
                },
                {
                    "Name": "Peter Bourjos",
                    "MaxTriples": "0"
                },
                {
                    "Name": "Matthew Boyd",
                    "MaxTriples": "0"
                },
                {
                    "Name": "Brad Brach",
                    "MaxTriples": "0"
                },
                {
                    "Name": "Bobby Bradley",
                    "MaxTriples": "0"
                },
                {
                    "Name": "Jackie Bradley Jr.",
                    "MaxTriples": "3"
                },
                {
                    "Name": "Michael Brantley",
                    "MaxTriples": "2"
                },
                {
                    "Name": "Steven Brault",
                    "MaxTriples": "0"
                },
                {
                    "Name": "Ryan Braun",
                    "MaxTriples": "2"
                },
                {
                    "Name": "John Brebbia",
                    "MaxTriples": "0"
                },
                {
                    "Name": "Alex Bregman",
                    "MaxTriples": "2"
                },
                {
                    "Name": "Lewis Brinson",
                    "MaxTriples": "1"
                },
                {
                    "Name": "Socrates Brito",
                    "MaxTriples": "1"
                },
                {
                    "Name": "Mike Brosseau",
                    "MaxTriples": "0"
                },
                {
                    "Name": "Seth Brown",
                    "MaxTriples": "2"
                },
                {
                    "Name": "Keon Broxton",
                    "MaxTriples": "0"
                },
                {
                    "Name": "Jay Bruce",
                    "MaxTriples": "0"
                },
                {
                    "Name": "Kris Bryant",
                    "MaxTriples": "1"
                },
                {
                    "Name": "Walker Buehler",
                    "MaxTriples": "0"
                },
                {
                    "Name": "Madison Bumgarner",
                    "MaxTriples": "0"
                },
                {
                    "Name": "Corbin Burnes",
                    "MaxTriples": "0"
                },
                {
                    "Name": "Drew Butera",
                    "MaxTriples": "0"
                },
                {
                    "Name": "Byron Buxton",
                    "MaxTriples": "4"
                },
                {
                    "Name": "Asdrubal Cabrera",
                    "MaxTriples": "1"
                },
                {
                    "Name": "Melky Cabrera",
                    "MaxTriples": "1"
                },
                {
                    "Name": "Miguel Cabrera",
                    "MaxTriples": "0"
                },
                {
                    "Name": "Trevor Cahill",
                    "MaxTriples": "0"
                },
                {
                    "Name": "Lorenzo Cain",
                    "MaxTriples": "0"
                },
                {
                    "Name": "Kole Calhoun",
                    "MaxTriples": "1"
                },
                {
                    "Name": "Willie Calhoun",
                    "MaxTriples": "1"
                },
                {
                    "Name": "Johan Camargo",
                    "MaxTriples": "1"
                },
                {
                    "Name": "Jeimer Candelario",
                    "MaxTriples": "2"
                },
                {
                    "Name": "Mark Canha",
                    "MaxTriples": "3"
                },
                {
                    "Name": "Robinson Cano",
                    "MaxTriples": "0"
                },
                {
                    "Name": "Victor Caratini",
                    "MaxTriples": "0"
                },
                {
                    "Name": "Matt Carpenter",
                    "MaxTriples": "2"
                },
                {
                    "Name": "Curt Casali",
                    "MaxTriples": "0"
                },
                {
                    "Name": "Nicholas Castellanos",
                    "MaxTriples": "3"
                },
                {
                    "Name": "Luis Castillo",
                    "MaxTriples": "0"
                },
                {
                    "Name": "Welington Castillo",
                    "MaxTriples": "0"
                },
                {
                    "Name": "Wilkin Castillo",
                    "MaxTriples": "0"
                },
                {
                    "Name": "Harold Castro",
                    "MaxTriples": "4"
                },
                {
                    "Name": "Jason Castro",
                    "MaxTriples": "0"
                },
                {
                    "Name": "Starlin Castro",
                    "MaxTriples": "4"
                },
                {
                    "Name": "Willi Castro",
                    "MaxTriples": "1"
                },
                {
                    "Name": "Jake Cave",
                    "MaxTriples": "2"
                },
                {
                    "Name": "Juan Centeno",
                    "MaxTriples": "0"
                },
                {
                    "Name": "Francisco Cervelli",
                    "MaxTriples": "1"
                },
                {
                    "Name": "Jhoulys Chacin",
                    "MaxTriples": "0"
                },
                {
                    "Name": "Yu Chang",
                    "MaxTriples": "1"
                },
                {
                    "Name": "Matt Chapman",
                    "MaxTriples": "3"
                },
                {
                    "Name": "Tyler Chatwood",
                    "MaxTriples": "0"
                },
                {
                    "Name": "Jesse Chavez",
                    "MaxTriples": "0"
                },
                {
                    "Name": "Michael Chavis",
                    "MaxTriples": "1"
                },
                {
                    "Name": "Robinson Chirinos",
                    "MaxTriples": "1"
                },
                {
                    "Name": "Ji-Man Choi",
                    "MaxTriples": "2"
                },
                {
                    "Name": "Shin-Soo Choo",
                    "MaxTriples": "2"
                },
                {
                    "Name": "Nick Ciuffo",
                    "MaxTriples": "0"
                },
                {
                    "Name": "Taylor Clarke",
                    "MaxTriples": "0"
                },
                {
                    "Name": "Zack Collins",
                    "MaxTriples": "1"
                },
                {
                    "Name": "Christian Colon",
                    "MaxTriples": "0"
                },
                {
                    "Name": "Michael Conforto",
                    "MaxTriples": "1"
                },
                {
                    "Name": "Willson Contreras",
                    "MaxTriples": "2"
                },
                {
                    "Name": "Garrett Cooper",
                    "MaxTriples": "1"
                },
                {
                    "Name": "Patrick Corbin",
                    "MaxTriples": "0"
                },
                {
                    "Name": "Ryan Cordell",
                    "MaxTriples": "0"
                },
                {
                    "Name": "Franchy Cordero",
                    "MaxTriples": "0"
                },
                {
                    "Name": "Carlos Correa",
                    "MaxTriples": "1"
                },
                {
                    "Name": "Ryan Court",
                    "MaxTriples": "0"
                },
                {
                    "Name": "Kaleb Cowart",
                    "MaxTriples": "0"
                },
                {
                    "Name": "Zack Cozart",
                    "MaxTriples": "0"
                },
                {
                    "Name": "Brandon Crawford",
                    "MaxTriples": "2"
                },
                {
                    "Name": "J.P. Crawford",
                    "MaxTriples": "4"
                },
                {
                    "Name": "C.J. Cron",
                    "MaxTriples": "0"
                },
                {
                    "Name": "Kevin Cron",
                    "MaxTriples": "0"
                },
                {
                    "Name": "Nelson Cruz",
                    "MaxTriples": "0"
                },
                {
                    "Name": "Charlie Culberson",
                    "MaxTriples": "2"
                },
                {
                    "Name": "Cheslor Cuthbert",
                    "MaxTriples": "0"
                },
                {
                    "Name": "Travis d'Arnaud",
                    "MaxTriples": "0"
                },
                {
                    "Name": "David Dahl",
                    "MaxTriples": "5"
                },
                {
                    "Name": "Yu Darvish",
                    "MaxTriples": "0"
                },
                {
                    "Name": "Zach Davies",
                    "MaxTriples": "0"
                },
                {
                    "Name": "Chris Davis",
                    "MaxTriples": "0"
                },
                {
                    "Name": "J.D. Davis",
                    "MaxTriples": "1"
                },
                {
                    "Name": "Jaylin Davis",
                    "MaxTriples": "0"
                },
                {
                    "Name": "Johnny Davis",
                    "MaxTriples": "1"
                },
                {
                    "Name": "Jonathan Davis",
                    "MaxTriples": "0"
                },
                {
                    "Name": "Khris Davis",
                    "MaxTriples": "0"
                },
                {
                    "Name": "Rajai Davis",
                    "MaxTriples": "0"
                },
                {
                    "Name": "Taylor Davis",
                    "MaxTriples": "0"
                },
                {
                    "Name": "Yonathan Daza",
                    "MaxTriples": "1"
                },
                {
                    "Name": "Austin Dean",
                    "MaxTriples": "0"
                },
                {
                    "Name": "Jacob deGrom",
                    "MaxTriples": "0"
                },
                {
                    "Name": "Paul DeJong",
                    "MaxTriples": "1"
                },
                {
                    "Name": "Nicky Delmonico",
                    "MaxTriples": "0"
                },
                {
                    "Name": "Travis Demeritte",
                    "MaxTriples": "2"
                },
                {
                    "Name": "Daniel Descalso",
                    "MaxTriples": "1"
                },
                {
                    "Name": "Anthony DeSclafani",
                    "MaxTriples": "0"
                },
                {
                    "Name": "Delino DeShields",
                    "MaxTriples": "4"
                },
                {
                    "Name": "Ian Desmond",
                    "MaxTriples": "4"
                },
                {
                    "Name": "Rafael Devers",
                    "MaxTriples": "4"
                },
                {
                    "Name": "Aledmys Díaz",
                    "MaxTriples": "1"
                },
                {
                    "Name": "Elias Diaz",
                    "MaxTriples": "0"
                },
                {
                    "Name": "Isan Diaz",
                    "MaxTriples": "2"
                },
                {
                    "Name": "Yandy Díaz",
                    "MaxTriples": "1"
                },
                {
                    "Name": "Alex Dickerson",
                    "MaxTriples": "3"
                },
                {
                    "Name": "Corey Dickerson",
                    "MaxTriples": "2"
                },
                {
                    "Name": "Derek Dietrich",
                    "MaxTriples": "2"
                },
                {
                    "Name": "Wilmer Difo",
                    "MaxTriples": "0"
                },
                {
                    "Name": "Nick Dini",
                    "MaxTriples": "0"
                },
                {
                    "Name": "Brandon Dixon",
                    "MaxTriples": "4"
                },
                {
                    "Name": "Josh Donaldson",
                    "MaxTriples": "0"
                },
                {
                    "Name": "Brian Dozier",
                    "MaxTriples": "0"
                },
                {
                    "Name": "Hunter Dozier",
                    "MaxTriples": "10"
                },
                {
                    "Name": "Oliver Drake",
                    "MaxTriples": "0"
                },
                {
                    "Name": "Brandon Drury",
                    "MaxTriples": "1"
                },
                {
                    "Name": "Mauricio Dubon",
                    "MaxTriples": "0"
                },
                {
                    "Name": "Lucas Duda",
                    "MaxTriples": "0"
                },
                {
                    "Name": "Danny Duffy",
                    "MaxTriples": "0"
                },
                {
                    "Name": "Matt Duffy",
                    "MaxTriples": "0"
                },
                {
                    "Name": "Steven Duggar",
                    "MaxTriples": "2"
                },
                {
                    "Name": "Jon Duplantier",
                    "MaxTriples": "0"
                },
                {
                    "Name": "Montana DuRapau",
                    "MaxTriples": "0"
                },
                {
                    "Name": "Adam Duvall",
                    "MaxTriples": "1"
                },
                {
                    "Name": "Jarrod Dyson",
                    "MaxTriples": "2"
                },
                {
                    "Name": "Adam Eaton",
                    "MaxTriples": "7"
                },
                {
                    "Name": "Tommy Edman",
                    "MaxTriples": "7"
                },
                {
                    "Name": "Zach Eflin",
                    "MaxTriples": "0"
                },
                {
                    "Name": "Jake Elmore",
                    "MaxTriples": "0"
                },
                {
                    "Name": "Edwin Encarnacion",
                    "MaxTriples": "0"
                },
                {
                    "Name": "Adam Engel",
                    "MaxTriples": "2"
                },
                {
                    "Name": "Phil Ervin",
                    "MaxTriples": "7"
                },
                {
                    "Name": "Eduardo Escobar",
                    "MaxTriples": "10"
                },
                {
                    "Name": "Thairo Estrada",
                    "MaxTriples": "0"
                },
                {
                    "Name": "Kyle Farmer",
                    "MaxTriples": "0"
                },
                {
                    "Name": "Erick Fedde",
                    "MaxTriples": "0"
                },
                {
                    "Name": "Tim Federowicz",
                    "MaxTriples": "0"
                },
                {
                    "Name": "Caleb Ferguson",
                    "MaxTriples": "0"
                },
                {
                    "Name": "Derek Fisher",
                    "MaxTriples": "1"
                },
                {
                    "Name": "Jack Flaherty",
                    "MaxTriples": "0"
                },
                {
                    "Name": "Ryan Flaherty",
                    "MaxTriples": "0"
                },
                {
                    "Name": "David Fletcher",
                    "MaxTriples": "4"
                },
                {
                    "Name": "Chris Flexen",
                    "MaxTriples": "0"
                },
                {
                    "Name": "Wilmer Flores",
                    "MaxTriples": "0"
                },
                {
                    "Name": "Tyler Flowers",
                    "MaxTriples": "3"
                },
                {
                    "Name": "Mike Foltynewicz",
                    "MaxTriples": "0"
                },
                {
                    "Name": "Wilmer Font",
                    "MaxTriples": "0"
                },
                {
                    "Name": "Mike Ford",
                    "MaxTriples": "0"
                },
                {
                    "Name": "Logan Forsythe",
                    "MaxTriples": "1"
                },
                {
                    "Name": "Dexter Fowler",
                    "MaxTriples": "1"
                },
                {
                    "Name": "Jake Fraley",
                    "MaxTriples": "0"
                },
                {
                    "Name": "Ty France",
                    "MaxTriples": "1"
                },
                {
                    "Name": "Maikel Franco",
                    "MaxTriples": "0"
                },
                {
                    "Name": "Adam Frazier",
                    "MaxTriples": "7"
                },
                {
                    "Name": "Clint Frazier",
                    "MaxTriples": "0"
                },
                {
                    "Name": "Todd Frazier",
                    "MaxTriples": "2"
                },
                {
                    "Name": "Kyle Freeland",
                    "MaxTriples": "0"
                },
                {
                    "Name": "Freddie Freeman",
                    "MaxTriples": "2"
                },
                {
                    "Name": "Mike Freeman",
                    "MaxTriples": "0"
                },
                {
                    "Name": "David Freese",
                    "MaxTriples": "0"
                },
                {
                    "Name": "David Freitas",
                    "MaxTriples": "0"
                },
                {
                    "Name": "Max Fried",
                    "MaxTriples": "0"
                },
                {
                    "Name": "Josh Fuentes",
                    "MaxTriples": "0"
                },
                {
                    "Name": "Drew Gagnon",
                    "MaxTriples": "0"
                },
                {
                    "Name": "Rocky Gale",
                    "MaxTriples": "0"
                },
                {
                    "Name": "Cam Gallagher",
                    "MaxTriples": "0"
                },
                {
                    "Name": "Zac Gallen",
                    "MaxTriples": "0"
                },
                {
                    "Name": "Joey Gallo",
                    "MaxTriples": "1"
                },
                {
                    "Name": "Isaac Galloway",
                    "MaxTriples": "0"
                },
                {
                    "Name": "Freddy Galvis",
                    "MaxTriples": "1"
                },
                {
                    "Name": "Ben Gamel",
                    "MaxTriples": "0"
                },
                {
                    "Name": "Aramis Garcia",
                    "MaxTriples": "0"
                },
                {
                    "Name": "Avisail Garcia",
                    "MaxTriples": "2"
                },
                {
                    "Name": "Greg Garcia",
                    "MaxTriples": "4"
                },
                {
                    "Name": "Leury Garcia",
                    "MaxTriples": "3"
                },
                {
                    "Name": "Robel Garcia",
                    "MaxTriples": "2"
                },
                {
                    "Name": "Brett Gardner",
                    "MaxTriples": "7"
                },
                {
                    "Name": "Kyle Garlick",
                    "MaxTriples": "0"
                },
                {
                    "Name": "Dustin Garneau",
                    "MaxTriples": "0"
                },
                {
                    "Name": "Mitch Garver",
                    "MaxTriples": "1"
                },
                {
                    "Name": "Kevin Gausman",
                    "MaxTriples": "0"
                },
                {
                    "Name": "Scooter Gennett",
                    "MaxTriples": "0"
                },
                {
                    "Name": "Mike Gerber",
                    "MaxTriples": "0"
                },
                {
                    "Name": "Lucas Giolito",
                    "MaxTriples": "0"
                },
                {
                    "Name": "Zack Godley",
                    "MaxTriples": "0"
                },
                {
                    "Name": "Ryan Goins",
                    "MaxTriples": "1"
                },
                {
                    "Name": "Paul Goldschmidt",
                    "MaxTriples": "1"
                },
                {
                    "Name": "Yan Gomes",
                    "MaxTriples": "0"
                },
                {
                    "Name": "Carlos Gomez",
                    "MaxTriples": "0"
                },
                {
                    "Name": "Tony Gonsolin",
                    "MaxTriples": "0"
                },
                {
                    "Name": "Marco Gonzales",
                    "MaxTriples": "0"
                },
                {
                    "Name": "Carlos Gonzalez",
                    "MaxTriples": "0"
                },
                {
                    "Name": "Chi Chi Gonzalez",
                    "MaxTriples": "0"
                },
                {
                    "Name": "Erik Gonzalez",
                    "MaxTriples": "1"
                },
                {
                    "Name": "Gio Gonzalez",
                    "MaxTriples": "0"
                },
                {
                    "Name": "Marwin Gonzalez",
                    "MaxTriples": "0"
                },
                {
                    "Name": "Niko Goodrum",
                    "MaxTriples": "5"
                },
                {
                    "Name": "Brian Goodwin",
                    "MaxTriples": "3"
                },
                {
                    "Name": "Alex Gordon",
                    "MaxTriples": "1"
                },
                {
                    "Name": "Dee Gordon",
                    "MaxTriples": "6"
                },
                {
                    "Name": "Terrance Gore",
                    "MaxTriples": "1"
                },
                {
                    "Name": "Phil Gosselin",
                    "MaxTriples": "0"
                },
                {
                    "Name": "Yasmani Grandal",
                    "MaxTriples": "2"
                },
                {
                    "Name": "Curtis Granderson",
                    "MaxTriples": "1"
                },
                {
                    "Name": "Juan Graterol",
                    "MaxTriples": "0"
                },
                {
                    "Name": "Jon Gray",
                    "MaxTriples": "0"
                },
                {
                    "Name": "Sonny Gray",
                    "MaxTriples": "1"
                },
                {
                    "Name": "Zach Green",
                    "MaxTriples": "0"
                },
                {
                    "Name": "Didi Gregorius",
                    "MaxTriples": "2"
                },
                {
                    "Name": "Grayson Greiner",
                    "MaxTriples": "1"
                },
                {
                    "Name": "Zack Greinke",
                    "MaxTriples": "1"
                },
                {
                    "Name": "Randal Grichuk",
                    "MaxTriples": "5"
                },
                {
                    "Name": "Trent Grisham",
                    "MaxTriples": "2"
                },
                {
                    "Name": "Robbie Grossman",
                    "MaxTriples": "3"
                },
                {
                    "Name": "Deivy Grullon",
                    "MaxTriples": "0"
                },
                {
                    "Name": "Junior Guerra",
                    "MaxTriples": "0"
                },
                {
                    "Name": "Vladimir Guerrero Jr.",
                    "MaxTriples": "2"
                },
                {
                    "Name": "Luis Guillorme",
                    "MaxTriples": "0"
                },
                {
                    "Name": "Lourdes Gurriel Jr.",
                    "MaxTriples": "2"
                },
                {
                    "Name": "Yuli Gurriel",
                    "MaxTriples": "2"
                },
                {
                    "Name": "Kelvin Gutierrez",
                    "MaxTriples": "1"
                },
                {
                    "Name": "Ronald Guzman",
                    "MaxTriples": "0"
                },
                {
                    "Name": "Jedd Gyorko",
                    "MaxTriples": "0"
                },
                {
                    "Name": "Eric Haase",
                    "MaxTriples": "0"
                },
                {
                    "Name": "Cole Hamels",
                    "MaxTriples": "0"
                },
                {
                    "Name": "Billy Hamilton",
                    "MaxTriples": "2"
                },
                {
                    "Name": "Garrett Hampson",
                    "MaxTriples": "4"
                },
                {
                    "Name": "Mitch Haniger",
                    "MaxTriples": "1"
                },
                {
                    "Name": "Alen Hanson",
                    "MaxTriples": "0"
                },
                {
                    "Name": "Ian Happ",
                    "MaxTriples": "1"
                },
                {
                    "Name": "Bryce Harper",
                    "MaxTriples": "1"
                },
                {
                    "Name": "Josh Harrison",
                    "MaxTriples": "1"
                },
                {
                    "Name": "Adam Haseley",
                    "MaxTriples": "0"
                },
                {
                    "Name": "Austin Hays",
                    "MaxTriples": "0"
                },
                {
                    "Name": "Ryon Healy",
                    "MaxTriples": "0"
                },
                {
                    "Name": "Adeiny Hechavarria",
                    "MaxTriples": "1"
                },
                {
                    "Name": "Austin Hedges",
                    "MaxTriples": "0"
                },
                {
                    "Name": "Scott Heineman",
                    "MaxTriples": "0"
                },
                {
                    "Name": "Tyler Heineman",
                    "MaxTriples": "0"
                },
                {
                    "Name": "Jeremy Hellickson",
                    "MaxTriples": "0"
                },
                {
                    "Name": "Ryan Helsley",
                    "MaxTriples": "0"
                },
                {
                    "Name": "Kyle Hendricks",
                    "MaxTriples": "0"
                },
                {
                    "Name": "Guillermo Heredia",
                    "MaxTriples": "0"
                },
                {
                    "Name": "Michael Hermosillo",
                    "MaxTriples": "1"
                },
                {
                    "Name": "Cesar Hernandez",
                    "MaxTriples": "3"
                },
                {
                    "Name": "Elieser Hernandez",
                    "MaxTriples": "0"
                },
                {
                    "Name": "Enrique Hernandez",
                    "MaxTriples": "1"
                },
                {
                    "Name": "Gorkys Hernandez",
                    "MaxTriples": "2"
                },
                {
                    "Name": "Marco Hernandez",
                    "MaxTriples": "0"
                },
                {
                    "Name": "Teoscar Hernandez",
                    "MaxTriples": "2"
                },
                {
                    "Name": "Odubel Herrera",
                    "MaxTriples": "1"
                },
                {
                    "Name": "Rosell Herrera",
                    "MaxTriples": "0"
                },
                {
                    "Name": "Chris Herrmann",
                    "MaxTriples": "0"
                },
                {
                    "Name": "Jason Heyward",
                    "MaxTriples": "4"
                },
                {
                    "Name": "Aaron Hicks",
                    "MaxTriples": "0"
                },
                {
                    "Name": "John Hicks",
                    "MaxTriples": "0"
                },
                {
                    "Name": "Kyle Higashioka",
                    "MaxTriples": "0"
                },
                {
                    "Name": "Rich Hill",
                    "MaxTriples": "0"
                },
                {
                    "Name": "Sam Hilliard",
                    "MaxTriples": "2"
                },
                {
                    "Name": "Keston Hiura",
                    "MaxTriples": "2"
                },
                {
                    "Name": "Nico Hoerner",
                    "MaxTriples": "1"
                },
                {
                    "Name": "Jeff Hoffman",
                    "MaxTriples": "0"
                },
                {
                    "Name": "Bryan Holaday",
                    "MaxTriples": "0"
                },
                {
                    "Name": "Derek Holland",
                    "MaxTriples": "0"
                },
                {
                    "Name": "Brock Holt",
                    "MaxTriples": "2"
                },
                {
                    "Name": "Rhys Hoskins",
                    "MaxTriples": "5"
                },
                {
                    "Name": "Eric Hosmer",
                    "MaxTriples": "2"
                },
                {
                    "Name": "Adrian Houser",
                    "MaxTriples": "0"
                },
                {
                    "Name": "Dakota Hudson",
                    "MaxTriples": "0"
                },
                {
                    "Name": "Nick Hundley",
                    "MaxTriples": "1"
                },
                {
                    "Name": "Chris Iannetta",
                    "MaxTriples": "0"
                },
                {
                    "Name": "José Iglesias",
                    "MaxTriples": "3"
                },
                {
                    "Name": "Ender Inciarte",
                    "MaxTriples": "2"
                },
                {
                    "Name": "Cole Irvin",
                    "MaxTriples": "0"
                },
                {
                    "Name": "Travis Jankowski",
                    "MaxTriples": "0"
                },
                {
                    "Name": "Danny Jansen",
                    "MaxTriples": "1"
                },
                {
                    "Name": "Jon Jay",
                    "MaxTriples": "0"
                },
                {
                    "Name": "Eloy Jimenez",
                    "MaxTriples": "2"
                },
                {
                    "Name": "Connor Joe",
                    "MaxTriples": "0"
                },
                {
                    "Name": "Adam Jones",
                    "MaxTriples": "1"
                },
                {
                    "Name": "JaCoby Jones",
                    "MaxTriples": "3"
                },
                {
                    "Name": "Caleb Joseph",
                    "MaxTriples": "0"
                },
                {
                    "Name": "Corban Joseph",
                    "MaxTriples": "0"
                },
                {
                    "Name": "Matthew Joyce",
                    "MaxTriples": "0"
                },
                {
                    "Name": "Aaron Judge",
                    "MaxTriples": "1"
                },
                {
                    "Name": "Jung Ho Kang",
                    "MaxTriples": "1"
                },
                {
                    "Name": "Brad Keller",
                    "MaxTriples": "0"
                },
                {
                    "Name": "Carson Kelly",
                    "MaxTriples": "0"
                },
                {
                    "Name": "Merrill Kelly",
                    "MaxTriples": "0"
                },
                {
                    "Name": "Matt Kemp",
                    "MaxTriples": "0"
                },
                {
                    "Name": "Tony Kemp",
                    "MaxTriples": "2"
                },
                {
                    "Name": "Howie Kendrick",
                    "MaxTriples": "1"
                },
                {
                    "Name": "Max Kepler",
                    "MaxTriples": "0"
                },
                {
                    "Name": "Clayton Kershaw",
                    "MaxTriples": "0"
                },
                {
                    "Name": "Dallas Keuchel",
                    "MaxTriples": "0"
                },
                {
                    "Name": "Carter Kieboom",
                    "MaxTriples": "0"
                },
                {
                    "Name": "Kevin Kiermaier",
                    "MaxTriples": "7"
                },
                {
                    "Name": "Isiah Kiner-Falefa",
                    "MaxTriples": "1"
                },
                {
                    "Name": "Scott Kingery",
                    "MaxTriples": "4"
                },
                {
                    "Name": "Ian Kinsler",
                    "MaxTriples": "0"
                },
                {
                    "Name": "Jason Kipnis",
                    "MaxTriples": "1"
                },
                {
                    "Name": "Andrew Knapp",
                    "MaxTriples": "0"
                },
                {
                    "Name": "Andrew Knizner",
                    "MaxTriples": "0"
                },
                {
                    "Name": "Kevin Kramer",
                    "MaxTriples": "0"
                },
                {
                    "Name": "Erik Kratz",
                    "MaxTriples": "0"
                },
                {
                    "Name": "Tommy La Stella",
                    "MaxTriples": "0"
                },
                {
                    "Name": "Juan Lagares",
                    "MaxTriples": "1"
                },
                {
                    "Name": "Ryan LaMarre",
                    "MaxTriples": "0"
                },
                {
                    "Name": "Jake Lamb",
                    "MaxTriples": "2"
                },
                {
                    "Name": "Peter Lambert",
                    "MaxTriples": "0"
                },
                {
                    "Name": "Dinelson Lamet",
                    "MaxTriples": "0"
                },
                {
                    "Name": "Eric Lauer",
                    "MaxTriples": "0"
                },
                {
                    "Name": "Ramon Laureano",
                    "MaxTriples": "0"
                },
                {
                    "Name": "Ryan Lavarnway",
                    "MaxTriples": "0"
                },
                {
                    "Name": "Mike Leake",
                    "MaxTriples": "0"
                },
                {
                    "Name": "DJ LeMahieu",
                    "MaxTriples": "2"
                },
                {
                    "Name": "Sandy Leon",
                    "MaxTriples": "0"
                },
                {
                    "Name": "Jon Lester",
                    "MaxTriples": "0"
                },
                {
                    "Name": "Kyle Lewis",
                    "MaxTriples": "0"
                },
                {
                    "Name": "Domingo Leyba",
                    "MaxTriples": "1"
                },
                {
                    "Name": "Tzu-Wei Lin",
                    "MaxTriples": "0"
                },
                {
                    "Name": "Francisco Lindor",
                    "MaxTriples": "2"
                },
                {
                    "Name": "Francisco Liriano",
                    "MaxTriples": "0"
                },
                {
                    "Name": "Tim Locastro",
                    "MaxTriples": "2"
                },
                {
                    "Name": "Walker Lockett",
                    "MaxTriples": "0"
                },
                {
                    "Name": "Shed Long",
                    "MaxTriples": "1"
                },
                {
                    "Name": "Evan Longoria",
                    "MaxTriples": "2"
                },
                {
                    "Name": "Tim Lopes",
                    "MaxTriples": "0"
                },
                {
                    "Name": "Nicky Lopez",
                    "MaxTriples": "2"
                },
                {
                    "Name": "Pablo Lopez",
                    "MaxTriples": "0"
                },
                {
                    "Name": "Michael Lorenzen",
                    "MaxTriples": "0"
                },
                {
                    "Name": "Brandon Lowe",
                    "MaxTriples": "2"
                },
                {
                    "Name": "Nate Lowe",
                    "MaxTriples": "0"
                },
                {
                    "Name": "Joey Lucchesi",
                    "MaxTriples": "0"
                },
                {
                    "Name": "Jonathan Lucroy",
                    "MaxTriples": "1"
                },
                {
                    "Name": "Dawel Lugo",
                    "MaxTriples": "4"
                },
                {
                    "Name": "Seth Lugo",
                    "MaxTriples": "0"
                },
                {
                    "Name": "Jordan Luplow",
                    "MaxTriples": "1"
                },
                {
                    "Name": "Gavin Lux",
                    "MaxTriples": "1"
                },
                {
                    "Name": "Jordan Lyles",
                    "MaxTriples": "0"
                },
                {
                    "Name": "Manny Machado",
                    "MaxTriples": "2"
                },
                {
                    "Name": "Kenta Maeda",
                    "MaxTriples": "0"
                },
                {
                    "Name": "Tyler Mahle",
                    "MaxTriples": "0"
                },
                {
                    "Name": "Luke Maile",
                    "MaxTriples": "1"
                },
                {
                    "Name": "Martin Maldonado",
                    "MaxTriples": "0"
                },
                {
                    "Name": "Trey Mancini",
                    "MaxTriples": "2"
                },
                {
                    "Name": "Nick Margevicius",
                    "MaxTriples": "0"
                },
                {
                    "Name": "Manuel Margot",
                    "MaxTriples": "3"
                },
                {
                    "Name": "Jake Marisnick",
                    "MaxTriples": "3"
                },
                {
                    "Name": "Nick Markakis",
                    "MaxTriples": "2"
                },
                {
                    "Name": "German Marquez",
                    "MaxTriples": "1"
                },
                {
                    "Name": "Ketel Marte",
                    "MaxTriples": "9"
                },
                {
                    "Name": "Starling Marte",
                    "MaxTriples": "6"
                },
                {
                    "Name": "Jason Martin",
                    "MaxTriples": "0"
                },
                {
                    "Name": "Leonys Martín",
                    "MaxTriples": "0"
                },
                {
                    "Name": "Richie Martin",
                    "MaxTriples": "3"
                },
                {
                    "Name": "Russell Martin",
                    "MaxTriples": "0"
                },
                {
                    "Name": "J.D. Martinez",
                    "MaxTriples": "2"
                },
                {
                    "Name": "Jose Martinez",
                    "MaxTriples": "2"
                },
                {
                    "Name": "Nick Martini",
                    "MaxTriples": "1"
                },
                {
                    "Name": "Jeff Mathis",
                    "MaxTriples": "0"
                },
                {
                    "Name": "Phil Maton",
                    "MaxTriples": "0"
                },
                {
                    "Name": "Steven Matz",
                    "MaxTriples": "0"
                },
                {
                    "Name": "Dustin May",
                    "MaxTriples": "0"
                },
                {
                    "Name": "Cameron Maybin",
                    "MaxTriples": "0"
                },
                {
                    "Name": "Jack Mayfield",
                    "MaxTriples": "0"
                },
                {
                    "Name": "Nomar Mazara",
                    "MaxTriples": "1"
                },
                {
                    "Name": "Ryan McBroom",
                    "MaxTriples": "0"
                },
                {
                    "Name": "Brian McCann",
                    "MaxTriples": "0"
                },
                {
                    "Name": "James McCann",
                    "MaxTriples": "1"
                },
                {
                    "Name": "Andrew McCutchen",
                    "MaxTriples": "1"
                },
                {
                    "Name": "Kyle McGowin",
                    "MaxTriples": "0"
                },
                {
                    "Name": "Reese McGuire",
                    "MaxTriples": "0"
                },
                {
                    "Name": "Brendan McKay",
                    "MaxTriples": "0"
                },
                {
                    "Name": "Billy McKinney",
                    "MaxTriples": "1"
                },
                {
                    "Name": "Ryan McMahon",
                    "MaxTriples": "1"
                },
                {
                    "Name": "Jeff McNeil",
                    "MaxTriples": "1"
                },
                {
                    "Name": "Alex McRae",
                    "MaxTriples": "0"
                },
                {
                    "Name": "Austin Meadows",
                    "MaxTriples": "7"
                },
                {
                    "Name": "John Means",
                    "MaxTriples": "0"
                },
                {
                    "Name": "Erick Mejia",
                    "MaxTriples": "0"
                },
                {
                    "Name": "Francisco Mejia",
                    "MaxTriples": "2"
                },
                {
                    "Name": "Seth Mejias-Brean",
                    "MaxTriples": "0"
                },
                {
                    "Name": "Tim Melville",
                    "MaxTriples": "0"
                },
                {
                    "Name": "Danny Mendick",
                    "MaxTriples": "0"
                },
                {
                    "Name": "Oscar Mercado",
                    "MaxTriples": "3"
                },
                {
                    "Name": "Jordy Mercer",
                    "MaxTriples": "0"
                },
                {
                    "Name": "Whit Merrifield",
                    "MaxTriples": "10"
                },
                {
                    "Name": "Miles Mikolas",
                    "MaxTriples": "0"
                },
                {
                    "Name": "Brad Miller",
                    "MaxTriples": "1"
                },
                {
                    "Name": "Ian Miller",
                    "MaxTriples": "0"
                },
                {
                    "Name": "Alec Mills",
                    "MaxTriples": "0"
                },
                {
                    "Name": "Yadier Molina",
                    "MaxTriples": "0"
                },
                {
                    "Name": "Yoan Moncada",
                    "MaxTriples": "5"
                },
                {
                    "Name": "Adalberto Mondesi",
                    "MaxTriples": "10"
                },
                {
                    "Name": "Mike Montgomery",
                    "MaxTriples": "0"
                },
                {
                    "Name": "Dylan Moore",
                    "MaxTriples": "2"
                },
                {
                    "Name": "Kendrys Morales",
                    "MaxTriples": "1"
                },
                {
                    "Name": "Colin Moran",
                    "MaxTriples": "1"
                },
                {
                    "Name": "Mitch Moreland",
                    "MaxTriples": "1"
                },
                {
                    "Name": "Max Moroff",
                    "MaxTriples": "0"
                },
                {
                    "Name": "Logan Morrison",
                    "MaxTriples": "0"
                },
                {
                    "Name": "Mike Moustakas",
                    "MaxTriples": "1"
                },
                {
                    "Name": "Cedric Mullins",
                    "MaxTriples": "2"
                },
                {
                    "Name": "Max Muncy",
                    "MaxTriples": "1"
                },
                {
                    "Name": "Yairo Munoz",
                    "MaxTriples": "1"
                },
                {
                    "Name": "Daniel Murphy",
                    "MaxTriples": "1"
                },
                {
                    "Name": "John Ryan Murphy",
                    "MaxTriples": "0"
                },
                {
                    "Name": "Sean Murphy",
                    "MaxTriples": "0"
                },
                {
                    "Name": "Tom Murphy",
                    "MaxTriples": "1"
                },
                {
                    "Name": "Joe Musgrove",
                    "MaxTriples": "1"
                },
                {
                    "Name": "Wil Myers",
                    "MaxTriples": "1"
                },
                {
                    "Name": "Tyler Naquin",
                    "MaxTriples": "0"
                },
                {
                    "Name": "Omar Narvaez",
                    "MaxTriples": "0"
                },
                {
                    "Name": "Josh Naylor",
                    "MaxTriples": "0"
                },
                {
                    "Name": "Kristopher Negron",
                    "MaxTriples": "0"
                },
                {
                    "Name": "Sheldon Neuse",
                    "MaxTriples": "0"
                },
                {
                    "Name": "Kevin Newman",
                    "MaxTriples": "6"
                },
                {
                    "Name": "Tomas Nido",
                    "MaxTriples": "0"
                },
                {
                    "Name": "Brandon Nimmo",
                    "MaxTriples": "1"
                },
                {
                    "Name": "Hector Noesi",
                    "MaxTriples": "0"
                },
                {
                    "Name": "Aaron Nola",
                    "MaxTriples": "0"
                },
                {
                    "Name": "Austin Nola",
                    "MaxTriples": "1"
                },
                {
                    "Name": "Jake Noll",
                    "MaxTriples": "0"
                },
                {
                    "Name": "Daniel Norris",
                    "MaxTriples": "0"
                },
                {
                    "Name": "Jacob Nottingham",
                    "MaxTriples": "0"
                },
                {
                    "Name": "Dom Nunez",
                    "MaxTriples": "0"
                },
                {
                    "Name": "Eduardo Nunez",
                    "MaxTriples": "0"
                },
                {
                    "Name": "Renato Nunez",
                    "MaxTriples": "0"
                },
                {
                    "Name": "Peter O'Brien",
                    "MaxTriples": "0"
                },
                {
                    "Name": "Brian O'Grady",
                    "MaxTriples": "1"
                },
                {
                    "Name": "Ryan O'Hearn",
                    "MaxTriples": "1"
                },
                {
                    "Name": "Tyler O'Neill",
                    "MaxTriples": "0"
                },
                {
                    "Name": "Rougned Odor",
                    "MaxTriples": "1"
                },
                {
                    "Name": "Shohei Ohtani",
                    "MaxTriples": "5"
                },
                {
                    "Name": "Matt Olson",
                    "MaxTriples": "0"
                },
                {
                    "Name": "Rafael Ortega",
                    "MaxTriples": "0"
                },
                {
                    "Name": "Jose Osuna",
                    "MaxTriples": "0"
                },
                {
                    "Name": "Chris Owings",
                    "MaxTriples": "1"
                },
                {
                    "Name": "Marcell Ozuna",
                    "MaxTriples": "1"
                },
                {
                    "Name": "Chris Paddack",
                    "MaxTriples": "0"
                },
                {
                    "Name": "Daniel Palka",
                    "MaxTriples": "0"
                },
                {
                    "Name": "Joe Panik",
                    "MaxTriples": "1"
                },
                {
                    "Name": "Gerardo Parra",
                    "MaxTriples": "1"
                },
                {
                    "Name": "Steve Pearce",
                    "MaxTriples": "0"
                },
                {
                    "Name": "Joc Pederson",
                    "MaxTriples": "3"
                },
                {
                    "Name": "Dustin Pedroia",
                    "MaxTriples": "0"
                },
                {
                    "Name": "Hunter Pence",
                    "MaxTriples": "1"
                },
                {
                    "Name": "David Peralta",
                    "MaxTriples": "3"
                },
                {
                    "Name": "Freddy Peralta",
                    "MaxTriples": "0"
                },
                {
                    "Name": "Jose Peraza",
                    "MaxTriples": "2"
                },
                {
                    "Name": "Luis Perdomo",
                    "MaxTriples": "0"
                },
                {
                    "Name": "Hernan Perez",
                    "MaxTriples": "0"
                },
                {
                    "Name": "Michael Perez",
                    "MaxTriples": "0"
                },
                {
                    "Name": "Roberto Perez",
                    "MaxTriples": "1"
                },
                {
                    "Name": "Dustin Peterson",
                    "MaxTriples": "0"
                },
                {
                    "Name": "Jace Peterson",
                    "MaxTriples": "1"
                },
                {
                    "Name": "Tommy Pham",
                    "MaxTriples": "2"
                },
                {
                    "Name": "Josh Phegley",
                    "MaxTriples": "0"
                },
                {
                    "Name": "Brett Phillips",
                    "MaxTriples": "0"
                },
                {
                    "Name": "Kevin Pillar",
                    "MaxTriples": "3"
                },
                {
                    "Name": "Manny Pina",
                    "MaxTriples": "0"
                },
                {
                    "Name": "Chad Pinder",
                    "MaxTriples": "0"
                },
                {
                    "Name": "Jose Pirela",
                    "MaxTriples": "0"
                },
                {
                    "Name": "Stephen Piscotty",
                    "MaxTriples": "1"
                },
                {
                    "Name": "Nick Pivetta",
                    "MaxTriples": "0"
                },
                {
                    "Name": "Kevin Plawecki",
                    "MaxTriples": "0"
                },
                {
                    "Name": "Gregory Polanco",
                    "MaxTriples": "1"
                },
                {
                    "Name": "Jorge Polanco",
                    "MaxTriples": "7"
                },
                {
                    "Name": "A.J. Pollock",
                    "MaxTriples": "1"
                },
                {
                    "Name": "Buster Posey",
                    "MaxTriples": "0"
                },
                {
                    "Name": "Martin Prado",
                    "MaxTriples": "0"
                },
                {
                    "Name": "David Price",
                    "MaxTriples": "0"
                },
                {
                    "Name": "Jurickson Profar",
                    "MaxTriples": "2"
                },
                {
                    "Name": "Cesar Puello",
                    "MaxTriples": "0"
                },
                {
                    "Name": "Yasiel Puig",
                    "MaxTriples": "1"
                },
                {
                    "Name": "Albert Pujols",
                    "MaxTriples": "0"
                },
                {
                    "Name": "Cal Quantrill",
                    "MaxTriples": "0"
                },
                {
                    "Name": "Roman Quinn",
                    "MaxTriples": "1"
                },
                {
                    "Name": "Jose Quintana",
                    "MaxTriples": "0"
                },
                {
                    "Name": "Hanley Ramirez",
                    "MaxTriples": "0"
                },
                {
                    "Name": "Harold Ramirez",
                    "MaxTriples": "3"
                },
                {
                    "Name": "Jose Ramirez",
                    "MaxTriples": "3"
                },
                {
                    "Name": "Wilson Ramos",
                    "MaxTriples": "0"
                },
                {
                    "Name": "Rangel Ravelo",
                    "MaxTriples": "0"
                },
                {
                    "Name": "Robbie Ray",
                    "MaxTriples": "0"
                },
                {
                    "Name": "Raudy Read",
                    "MaxTriples": "0"
                },
                {
                    "Name": "J.T. Realmuto",
                    "MaxTriples": "3"
                },
                {
                    "Name": "Josh Reddick",
                    "MaxTriples": "3"
                },
                {
                    "Name": "AJ Reed",
                    "MaxTriples": "0"
                },
                {
                    "Name": "Anthony Rendon",
                    "MaxTriples": "3"
                },
                {
                    "Name": "Hunter Renfroe",
                    "MaxTriples": "1"
                },
                {
                    "Name": "Luis Rengifo",
                    "MaxTriples": "3"
                },
                {
                    "Name": "Franmil Reyes",
                    "MaxTriples": "0"
                },
                {
                    "Name": "Pablo Reyes",
                    "MaxTriples": "2"
                },
                {
                    "Name": "Victor Reyes",
                    "MaxTriples": "5"
                },
                {
                    "Name": "Bryan Reynolds",
                    "MaxTriples": "4"
                },
                {
                    "Name": "Mark Reynolds",
                    "MaxTriples": "0"
                },
                {
                    "Name": "Trevor Richards",
                    "MaxTriples": "0"
                },
                {
                    "Name": "Joey Rickard",
                    "MaxTriples": "2"
                },
                {
                    "Name": "JT Riddle",
                    "MaxTriples": "0"
                },
                {
                    "Name": "Austin Riley",
                    "MaxTriples": "1"
                },
                {
                    "Name": "Edwin Rios",
                    "MaxTriples": "1"
                },
                {
                    "Name": "Rene Rivera",
                    "MaxTriples": "0"
                },
                {
                    "Name": "Yadiel Rivera",
                    "MaxTriples": "0"
                },
                {
                    "Name": "Anthony Rizzo",
                    "MaxTriples": "3"
                },
                {
                    "Name": "Tanner Roark",
                    "MaxTriples": "0"
                },
                {
                    "Name": "Daniel Robertson",
                    "MaxTriples": "1"
                },
                {
                    "Name": "Drew Robinson",
                    "MaxTriples": "0"
                },
                {
                    "Name": "Victor Robles",
                    "MaxTriples": "3"
                },
                {
                    "Name": "Brendan Rodgers",
                    "MaxTriples": "0"
                },
                {
                    "Name": "Dereck Rodriguez",
                    "MaxTriples": "0"
                },
                {
                    "Name": "Ronny Rodriguez",
                    "MaxTriples": "3"
                },
                {
                    "Name": "Sean Rodriguez",
                    "MaxTriples": "0"
                },
                {
                    "Name": "Jake Rogers",
                    "MaxTriples": "0"
                },
                {
                    "Name": "Josh Rojas",
                    "MaxTriples": "0"
                },
                {
                    "Name": "Miguel Rojas",
                    "MaxTriples": "1"
                },
                {
                    "Name": "Austin Romine",
                    "MaxTriples": "0"
                },
                {
                    "Name": "Jose Rondon",
                    "MaxTriples": "0"
                },
                {
                    "Name": "Amed Rosario",
                    "MaxTriples": "7"
                },
                {
                    "Name": "Eddie Rosario",
                    "MaxTriples": "1"
                },
                {
                    "Name": "Joe Ross",
                    "MaxTriples": "0"
                },
                {
                    "Name": "Rio Ruiz",
                    "MaxTriples": "2"
                },
                {
                    "Name": "Addison Russell",
                    "MaxTriples": "1"
                },
                {
                    "Name": "Hyun-Jin Ryu",
                    "MaxTriples": "0"
                },
                {
                    "Name": "Tyler Saladino",
                    "MaxTriples": "0"
                },
                {
                    "Name": "Jeff Samardzija",
                    "MaxTriples": "0"
                },
                {
                    "Name": "Adrian Sanchez",
                    "MaxTriples": "0"
                },
                {
                    "Name": "Anibal Sanchez",
                    "MaxTriples": "0"
                },
                {
                    "Name": "Gary Sanchez",
                    "MaxTriples": "1"
                },
                {
                    "Name": "Yolmer Sanchez",
                    "MaxTriples": "4"
                },
                {
                    "Name": "Pablo Sandoval",
                    "MaxTriples": "0"
                },
                {
                    "Name": "Miguel Sano",
                    "MaxTriples": "2"
                },
                {
                    "Name": "Carlos Santana",
                    "MaxTriples": "1"
                },
                {
                    "Name": "Danny Santana",
                    "MaxTriples": "6"
                },
                {
                    "Name": "Dennis Santana",
                    "MaxTriples": "0"
                },
                {
                    "Name": "Domingo Santana",
                    "MaxTriples": "1"
                },
                {
                    "Name": "Anthony Santander",
                    "MaxTriples": "1"
                },
                {
                    "Name": "Scott Schebler",
                    "MaxTriples": "0"
                },
                {
                    "Name": "Max Scherzer",
                    "MaxTriples": "0"
                },
                {
                    "Name": "Jonathan Schoop",
                    "MaxTriples": "1"
                },
                {
                    "Name": "Kyle Schwarber",
                    "MaxTriples": "3"
                },
                {
                    "Name": "Frank Schwindel",
                    "MaxTriples": "0"
                },
                {
                    "Name": "Corey Seager",
                    "MaxTriples": "1"
                },
                {
                    "Name": "Kyle Seager",
                    "MaxTriples": "1"
                },
                {
                    "Name": "Jean Segura",
                    "MaxTriples": "4"
                },
                {
                    "Name": "Marcus Semien",
                    "MaxTriples": "7"
                },
                {
                    "Name": "Antonio Senzatela",
                    "MaxTriples": "0"
                },
                {
                    "Name": "Nick Senzel",
                    "MaxTriples": "4"
                },
                {
                    "Name": "Pedro Severino",
                    "MaxTriples": "0"
                },
                {
                    "Name": "Chris Shaw",
                    "MaxTriples": "0"
                },
                {
                    "Name": "Travis Shaw",
                    "MaxTriples": "0"
                },
                {
                    "Name": "JB Shuck",
                    "MaxTriples": "1"
                },
                {
                    "Name": "Magneuris Sierra",
                    "MaxTriples": "1"
                },
                {
                    "Name": "Andrelton Simmons",
                    "MaxTriples": "0"
                },
                {
                    "Name": "Lucas Sims",
                    "MaxTriples": "0"
                },
                {
                    "Name": "Chance Sisco",
                    "MaxTriples": "0"
                },
                {
                    "Name": "Matt Skole",
                    "MaxTriples": "0"
                },
                {
                    "Name": "Austin Slater",
                    "MaxTriples": "3"
                },
                {
                    "Name": "Caleb Smith",
                    "MaxTriples": "0"
                },
                {
                    "Name": "Dominic Smith",
                    "MaxTriples": "0"
                },
                {
                    "Name": "Dwight Smith Jr.",
                    "MaxTriples": "3"
                },
                {
                    "Name": "Kevan Smith",
                    "MaxTriples": "0"
                },
                {
                    "Name": "Mallex Smith",
                    "MaxTriples": "9"
                },
                {
                    "Name": "Will Smith",
                    "MaxTriples": "0"
                },
                {
                    "Name": "Justin Smoak",
                    "MaxTriples": "0"
                },
                {
                    "Name": "Eric Sogard",
                    "MaxTriples": "2"
                },
                {
                    "Name": "Nick Solak",
                    "MaxTriples": "1"
                },
                {
                    "Name": "Donovan Solano",
                    "MaxTriples": "1"
                },
                {
                    "Name": "Yangervis Solarte",
                    "MaxTriples": "0"
                },
                {
                    "Name": "Jorge Soler",
                    "MaxTriples": "1"
                },
                {
                    "Name": "Mike Soroka",
                    "MaxTriples": "0"
                },
                {
                    "Name": "Edmundo Sosa",
                    "MaxTriples": "0"
                },
                {
                    "Name": "Gregory Soto",
                    "MaxTriples": "0"
                },
                {
                    "Name": "Juan Soto",
                    "MaxTriples": "5"
                },
                {
                    "Name": "Cory Spangenberg",
                    "MaxTriples": "2"
                },
                {
                    "Name": "George Springer",
                    "MaxTriples": "3"
                },
                {
                    "Name": "Jacob Stallings",
                    "MaxTriples": "0"
                },
                {
                    "Name": "Eric Stamets",
                    "MaxTriples": "0"
                },
                {
                    "Name": "Giancarlo Stanton",
                    "MaxTriples": "0"
                },
                {
                    "Name": "Bubba Starling",
                    "MaxTriples": "0"
                },
                {
                    "Name": "Max Stassi",
                    "MaxTriples": "0"
                },
                {
                    "Name": "Andrew Stevenson",
                    "MaxTriples": "1"
                },
                {
                    "Name": "Brock Stewart",
                    "MaxTriples": "0"
                },
                {
                    "Name": "Christin Stewart",
                    "MaxTriples": "1"
                },
                {
                    "Name": "DJ Stewart",
                    "MaxTriples": "0"
                },
                {
                    "Name": "Trevor Story",
                    "MaxTriples": "5"
                },
                {
                    "Name": "Matt Strahm",
                    "MaxTriples": "0"
                },
                {
                    "Name": "Stephen Strasburg",
                    "MaxTriples": "0"
                },
                {
                    "Name": "Myles Straw",
                    "MaxTriples": "2"
                },
                {
                    "Name": "Ross Stripling",
                    "MaxTriples": "0"
                },
                {
                    "Name": "Marcus Stroman",
                    "MaxTriples": "0"
                },
                {
                    "Name": "Garrett Stubbs",
                    "MaxTriples": "0"
                },
                {
                    "Name": "Eugenio Suarez",
                    "MaxTriples": "2"
                },
                {
                    "Name": "Ranger Suarez",
                    "MaxTriples": "0"
                },
                {
                    "Name": "Jesus Sucre",
                    "MaxTriples": "0"
                },
                {
                    "Name": "Kurt Suzuki",
                    "MaxTriples": "0"
                },
                {
                    "Name": "Dansby Swanson",
                    "MaxTriples": "3"
                },
                {
                    "Name": "Blake Swihart",
                    "MaxTriples": "0"
                },
                {
                    "Name": "Noah Syndergaard",
                    "MaxTriples": "0"
                },
                {
                    "Name": "Jameson Taillon",
                    "MaxTriples": "0"
                },
                {
                    "Name": "Raimel Tapia",
                    "MaxTriples": "5"
                },
                {
                    "Name": "Fernando Tatis Jr.",
                    "MaxTriples": "6"
                },
                {
                    "Name": "Mike Tauchman",
                    "MaxTriples": "1"
                },
                {
                    "Name": "Beau Taylor",
                    "MaxTriples": "0"
                },
                {
                    "Name": "Chris Taylor",
                    "MaxTriples": "4"
                },
                {
                    "Name": "Michael A. Taylor",
                    "MaxTriples": "0"
                },
                {
                    "Name": "Tyrone Taylor",
                    "MaxTriples": "0"
                },
                {
                    "Name": "Julio Teheran",
                    "MaxTriples": "0"
                },
                {
                    "Name": "Rowdy Tellez",
                    "MaxTriples": "0"
                },
                {
                    "Name": "Matt Thaiss",
                    "MaxTriples": "0"
                },
                {
                    "Name": "Eric Thames",
                    "MaxTriples": "2"
                },
                {
                    "Name": "Lane Thomas",
                    "MaxTriples": "1"
                },
                {
                    "Name": "Trent Thornton",
                    "MaxTriples": "0"
                },
                {
                    "Name": "Charlie Tilson",
                    "MaxTriples": "0"
                },
                {
                    "Name": "Jesus Tinoco",
                    "MaxTriples": "0"
                },
                {
                    "Name": "Abraham Toro",
                    "MaxTriples": "2"
                },
                {
                    "Name": "Luis Torrens",
                    "MaxTriples": "0"
                },
                {
                    "Name": "Gleyber Torres",
                    "MaxTriples": "0"
                },
                {
                    "Name": "Ronald Torreyes",
                    "MaxTriples": "0"
                },
                {
                    "Name": "Wilfredo Tovar",
                    "MaxTriples": "0"
                },
                {
                    "Name": "Sam Travis",
                    "MaxTriples": "1"
                },
                {
                    "Name": "Jose Trevino",
                    "MaxTriples": "0"
                },
                {
                    "Name": "Mike Trout",
                    "MaxTriples": "2"
                },
                {
                    "Name": "Mark Trumbo",
                    "MaxTriples": "0"
                },
                {
                    "Name": "Cole Tucker",
                    "MaxTriples": "3"
                },
                {
                    "Name": "Kyle Tucker",
                    "MaxTriples": "0"
                },
                {
                    "Name": "Troy Tulowitzki",
                    "MaxTriples": "0"
                },
                {
                    "Name": "Justin Turner",
                    "MaxTriples": "0"
                },
                {
                    "Name": "Trea Turner",
                    "MaxTriples": "5"
                },
                {
                    "Name": "Justin Upton",
                    "MaxTriples": "0"
                },
                {
                    "Name": "Richard Urena",
                    "MaxTriples": "0"
                },
                {
                    "Name": "Julio Urias",
                    "MaxTriples": "0"
                },
                {
                    "Name": "Luis Urias",
                    "MaxTriples": "1"
                },
                {
                    "Name": "Gio Urshela",
                    "MaxTriples": "0"
                },
                {
                    "Name": "Pat Valaika",
                    "MaxTriples": "1"
                },
                {
                    "Name": "Breyvic Valera",
                    "MaxTriples": "1"
                },
                {
                    "Name": "Josh VanMeter",
                    "MaxTriples": "1"
                },
                {
                    "Name": "Ildemaro Vargas",
                    "MaxTriples": "1"
                },
                {
                    "Name": "Jason Vargas",
                    "MaxTriples": "0"
                },
                {
                    "Name": "Christian Vazquez",
                    "MaxTriples": "1"
                },
                {
                    "Name": "Vince Velasquez",
                    "MaxTriples": "0"
                },
                {
                    "Name": "Andrew Velazquez",
                    "MaxTriples": "0"
                },
                {
                    "Name": "Alex Verdugo",
                    "MaxTriples": "2"
                },
                {
                    "Name": "Jonathan Villar",
                    "MaxTriples": "5"
                },
                {
                    "Name": "Meibrys Viloria",
                    "MaxTriples": "0"
                },
                {
                    "Name": "Daniel Vogelbach",
                    "MaxTriples": "0"
                },
                {
                    "Name": "Stephen Vogt",
                    "MaxTriples": "2"
                },
                {
                    "Name": "Luke Voit",
                    "MaxTriples": "1"
                },
                {
                    "Name": "Austin Voth",
                    "MaxTriples": "0"
                },
                {
                    "Name": "Joey Votto",
                    "MaxTriples": "1"
                },
                {
                    "Name": "Michael Wacha",
                    "MaxTriples": "0"
                },
                {
                    "Name": "LaMonte Wade Jr",
                    "MaxTriples": "1"
                },
                {
                    "Name": "Tyler Wade",
                    "MaxTriples": "1"
                },
                {
                    "Name": "Adam Wainwright",
                    "MaxTriples": "0"
                },
                {
                    "Name": "Christian Walker",
                    "MaxTriples": "1"
                },
                {
                    "Name": "Neil Walker",
                    "MaxTriples": "1"
                },
                {
                    "Name": "Chad Wallach",
                    "MaxTriples": "0"
                },
                {
                    "Name": "Jared Walsh",
                    "MaxTriples": "1"
                },
                {
                    "Name": "Donovan Walton",
                    "MaxTriples": "0"
                },
                {
                    "Name": "Taylor Ward",
                    "MaxTriples": "0"
                },
                {
                    "Name": "Luke Weaver",
                    "MaxTriples": "0"
                },
                {
                    "Name": "Logan Webb",
                    "MaxTriples": "0"
                },
                {
                    "Name": "Joey Wendle",
                    "MaxTriples": "2"
                },
                {
                    "Name": "Zack Wheeler",
                    "MaxTriples": "0"
                },
                {
                    "Name": "Tyler White",
                    "MaxTriples": "0"
                },
                {
                    "Name": "Matt Wieters",
                    "MaxTriples": "0"
                },
                {
                    "Name": "Aaron Wilkerson",
                    "MaxTriples": "0"
                },
                {
                    "Name": "Stevie Wilkerson",
                    "MaxTriples": "2"
                },
                {
                    "Name": "Mason Williams",
                    "MaxTriples": "0"
                },
                {
                    "Name": "Nick Williams",
                    "MaxTriples": "0"
                },
                {
                    "Name": "Trevor Williams",
                    "MaxTriples": "0"
                },
                {
                    "Name": "Mac Williamson",
                    "MaxTriples": "0"
                },
                {
                    "Name": "Bobby Wilson",
                    "MaxTriples": "0"
                },
                {
                    "Name": "Bryse Wilson",
                    "MaxTriples": "0"
                },
                {
                    "Name": "Jesse Winker",
                    "MaxTriples": "2"
                },
                {
                    "Name": "Patrick Wisdom",
                    "MaxTriples": "0"
                },
                {
                    "Name": "Tony Wolters",
                    "MaxTriples": "2"
                },
                {
                    "Name": "Kean Wong",
                    "MaxTriples": "0"
                },
                {
                    "Name": "Kolten Wong",
                    "MaxTriples": "4"
                },
                {
                    "Name": "Alex Wood",
                    "MaxTriples": "0"
                },
                {
                    "Name": "Brandon Woodruff",
                    "MaxTriples": "0"
                },
                {
                    "Name": "Austin Wynns",
                    "MaxTriples": "0"
                },
                {
                    "Name": "Jordan Yamamoto",
                    "MaxTriples": "0"
                },
                {
                    "Name": "Mike Yastrzemski",
                    "MaxTriples": "3"
                },
                {
                    "Name": "Christian Yelich",
                    "MaxTriples": "3"
                },
                {
                    "Name": "Alex Young",
                    "MaxTriples": "0"
                },
                {
                    "Name": "Mark Zagunis",
                    "MaxTriples": "0"
                },
                {
                    "Name": "Seby Zavala",
                    "MaxTriples": "0"
                },
                {
                    "Name": "Ryan Zimmerman",
                    "MaxTriples": "0"
                },
                {
                    "Name": "Ben Zobrist",
                    "MaxTriples": "0"
                },
                {
                    "Name": "Mike Zunino",
                    "MaxTriples": "1"
                }
            ]
        },
        "text/html": [
            "<table>",
            "<tr><th>Name</th><th>MaxTriples</th></tr>",
            "<tr><td>José Abreu</td><td>1</td></tr>",
            "<tr><td>Ronald Acuna Jr.</td><td>2</td></tr>",
            "<tr><td>Cristhian Adames</td><td>0</td></tr>",
            "<tr><td>Willy Adames</td><td>1</td></tr>",
            "<tr><td>Matt Adams</td><td>0</td></tr>",
            "<tr><td>Ehire Adrianza</td><td>3</td></tr>",
            "<tr><td>Dario Agrazal</td><td>0</td></tr>",
            "<tr><td>Jesus Aguilar</td><td>0</td></tr>",
            "<tr><td>Nick Ahmed</td><td>6</td></tr>",
            "<tr><td>R.J. Alaniz</td><td>0</td></tr>",
            "<tr><td>Hanser Alberto</td><td>2</td></tr>",
            "<tr><td>Ozzie Albies</td><td>8</td></tr>",
            "<tr><td>Sandy Alcantara</td><td>0</td></tr>",
            "<tr><td>Jorge Alfaro</td><td>1</td></tr>",
            "<tr><td>Anthony Alford</td><td>0</td></tr>",
            "<tr><td>Austin Allen</td><td>0</td></tr>",
            "<tr><td>Greg Allen</td><td>3</td></tr>",
            "<tr><td>Logan Allen</td><td>0</td></tr>",
            "<tr><td>Abraham Almonte</td><td>1</td></tr>",
            "<tr><td>Albert Almora</td><td>1</td></tr>",
            "<tr><td>Pete Alonso</td><td>2</td></tr>",
            "<tr><td>Yonder Alonso</td><td>0</td></tr>",
            "<tr><td>Aaron Altherr</td><td>0</td></tr>",
            "<tr><td>Jose Altuve</td><td>3</td></tr>",
            "<tr><td>Yordan Álvarez</td><td>0</td></tr>",
            "<tr><td>Brett Anderson</td><td>0</td></tr>",
            "<tr><td>Brian Anderson</td><td>1</td></tr>",
            "<tr><td>Chase Anderson</td><td>0</td></tr>",
            "<tr><td>Shaun Anderson</td><td>0</td></tr>",
            "<tr><td>Tim Anderson</td><td>0</td></tr>",
            "<tr><td>Tyler Anderson</td><td>0</td></tr>",
            "<tr><td>Elvis Andrus</td><td>4</td></tr>",
            "<tr><td>Miguel Andujar</td><td>0</td></tr>",
            "<tr><td>Aristides Aquino</td><td>0</td></tr>",
            "<tr><td>Chris Archer</td><td>0</td></tr>",
            "<tr><td>Orlando Arcia</td><td>1</td></tr>",
            "<tr><td>Nolan Arenado</td><td>2</td></tr>",
            "<tr><td>Randy Arozarena</td><td>0</td></tr>",
            "<tr><td>Luis Arraez</td><td>1</td></tr>",
            "<tr><td>Jake Arrieta</td><td>0</td></tr>",
            "<tr><td>Christian Arroyo</td><td>0</td></tr>",
            "<tr><td>Humberto Arteaga</td><td>0</td></tr>",
            "<tr><td>Willians Astudillo</td><td>0</td></tr>",
            "<tr><td>Tyler Austin</td><td>1</td></tr>",
            "<tr><td>Abiatal Avelino</td><td>0</td></tr>",
            "<tr><td>Alex Avila</td><td>0</td></tr>",
            "<tr><td>Harrison Bader</td><td>3</td></tr>",
            "<tr><td>Javier Baez</td><td>4</td></tr>",
            "<tr><td>Homer Bailey</td><td>0</td></tr>",
            "<tr><td>Austin Barnes</td><td>1</td></tr>",
            "<tr><td>Tucker Barnhart</td><td>0</td></tr>",
            "<tr><td>Steven Baron</td><td>0</td></tr>",
            "<tr><td>Franklin Barreto</td><td>0</td></tr>",
            "<tr><td>Trevor Bauer</td><td>0</td></tr>",
            "<tr><td>Jake Bauers</td><td>1</td></tr>",
            "<tr><td>Matt Beaty</td><td>1</td></tr>",
            "<tr><td>Gordon Beckham</td><td>2</td></tr>",
            "<tr><td>Tim Beckham</td><td>1</td></tr>",
            "<tr><td>Tyler Beede</td><td>0</td></tr>",
            "<tr><td>Josh Bell</td><td>3</td></tr>",
            "<tr><td>Cody Bellinger</td><td>3</td></tr>",
            "<tr><td>Brandon Belt</td><td>3</td></tr>",
            "<tr><td>Anthony Bemboom</td><td>0</td></tr>",
            "<tr><td>Andrew Benintendi</td><td>5</td></tr>",
            "<tr><td>Jon Berti</td><td>1</td></tr>",
            "<tr><td>Mookie Betts</td><td>5</td></tr>",
            "<tr><td>Bo Bichette</td><td>0</td></tr>",
            "<tr><td>Cavan Biggio</td><td>2</td></tr>",
            "<tr><td>Greg Bird</td><td>0</td></tr>",
            "<tr><td>Braden Bishop</td><td>0</td></tr>",
            "<tr><td>Charlie Blackmon</td><td>7</td></tr>",
            "<tr><td>Alex Blandino</td><td>0</td></tr>",
            "<tr><td>Xander Bogaerts</td><td>0</td></tr>",
            "<tr><td>Skye Bolt</td><td>0</td></tr>",
            "<tr><td>Jorge Bonifacio</td><td>0</td></tr>",
            "<tr><td>David Bote</td><td>0</td></tr>",
            "<tr><td>Justin Bour</td><td>0</td></tr>",
            "<tr><td>Peter Bourjos</td><td>0</td></tr>",
            "<tr><td>Matthew Boyd</td><td>0</td></tr>",
            "<tr><td>Brad Brach</td><td>0</td></tr>",
            "<tr><td>Bobby Bradley</td><td>0</td></tr>",
            "<tr><td>Jackie Bradley Jr.</td><td>3</td></tr>",
            "<tr><td>Michael Brantley</td><td>2</td></tr>",
            "<tr><td>Steven Brault</td><td>0</td></tr>",
            "<tr><td>Ryan Braun</td><td>2</td></tr>",
            "<tr><td>John Brebbia</td><td>0</td></tr>",
            "<tr><td>Alex Bregman</td><td>2</td></tr>",
            "<tr><td>Lewis Brinson</td><td>1</td></tr>",
            "<tr><td>Socrates Brito</td><td>1</td></tr>",
            "<tr><td>Mike Brosseau</td><td>0</td></tr>",
            "<tr><td>Seth Brown</td><td>2</td></tr>",
            "<tr><td>Keon Broxton</td><td>0</td></tr>",
            "<tr><td>Jay Bruce</td><td>0</td></tr>",
            "<tr><td>Kris Bryant</td><td>1</td></tr>",
            "<tr><td>Walker Buehler</td><td>0</td></tr>",
            "<tr><td>Madison Bumgarner</td><td>0</td></tr>",
            "<tr><td>Corbin Burnes</td><td>0</td></tr>",
            "<tr><td>Drew Butera</td><td>0</td></tr>",
            "<tr><td>Byron Buxton</td><td>4</td></tr>",
            "<tr><td>Asdrubal Cabrera</td><td>1</td></tr>",
            "<tr><td>Melky Cabrera</td><td>1</td></tr>",
            "<tr><td>Miguel Cabrera</td><td>0</td></tr>",
            "<tr><td>Trevor Cahill</td><td>0</td></tr>",
            "<tr><td>Lorenzo Cain</td><td>0</td></tr>",
            "<tr><td>Kole Calhoun</td><td>1</td></tr>",
            "<tr><td>Willie Calhoun</td><td>1</td></tr>",
            "<tr><td>Johan Camargo</td><td>1</td></tr>",
            "<tr><td>Jeimer Candelario</td><td>2</td></tr>",
            "<tr><td>Mark Canha</td><td>3</td></tr>",
            "<tr><td>Robinson Cano</td><td>0</td></tr>",
            "<tr><td>Victor Caratini</td><td>0</td></tr>",
            "<tr><td>Matt Carpenter</td><td>2</td></tr>",
            "<tr><td>Curt Casali</td><td>0</td></tr>",
            "<tr><td>Nicholas Castellanos</td><td>3</td></tr>",
            "<tr><td>Luis Castillo</td><td>0</td></tr>",
            "<tr><td>Welington Castillo</td><td>0</td></tr>",
            "<tr><td>Wilkin Castillo</td><td>0</td></tr>",
            "<tr><td>Harold Castro</td><td>4</td></tr>",
            "<tr><td>Jason Castro</td><td>0</td></tr>",
            "<tr><td>Starlin Castro</td><td>4</td></tr>",
            "<tr><td>Willi Castro</td><td>1</td></tr>",
            "<tr><td>Jake Cave</td><td>2</td></tr>",
            "<tr><td>Juan Centeno</td><td>0</td></tr>",
            "<tr><td>Francisco Cervelli</td><td>1</td></tr>",
            "<tr><td>Jhoulys Chacin</td><td>0</td></tr>",
            "<tr><td>Yu Chang</td><td>1</td></tr>",
            "<tr><td>Matt Chapman</td><td>3</td></tr>",
            "<tr><td>Tyler Chatwood</td><td>0</td></tr>",
            "<tr><td>Jesse Chavez</td><td>0</td></tr>",
            "<tr><td>Michael Chavis</td><td>1</td></tr>",
            "<tr><td>Robinson Chirinos</td><td>1</td></tr>",
            "<tr><td>Ji-Man Choi</td><td>2</td></tr>",
            "<tr><td>Shin-Soo Choo</td><td>2</td></tr>",
            "<tr><td>Nick Ciuffo</td><td>0</td></tr>",
            "<tr><td>Taylor Clarke</td><td>0</td></tr>",
            "<tr><td>Zack Collins</td><td>1</td></tr>",
            "<tr><td>Christian Colon</td><td>0</td></tr>",
            "<tr><td>Michael Conforto</td><td>1</td></tr>",
            "<tr><td>Willson Contreras</td><td>2</td></tr>",
            "<tr><td>Garrett Cooper</td><td>1</td></tr>",
            "<tr><td>Patrick Corbin</td><td>0</td></tr>",
            "<tr><td>Ryan Cordell</td><td>0</td></tr>",
            "<tr><td>Franchy Cordero</td><td>0</td></tr>",
            "<tr><td>Carlos Correa</td><td>1</td></tr>",
            "<tr><td>Ryan Court</td><td>0</td></tr>",
            "<tr><td>Kaleb Cowart</td><td>0</td></tr>",
            "<tr><td>Zack Cozart</td><td>0</td></tr>",
            "<tr><td>Brandon Crawford</td><td>2</td></tr>",
            "<tr><td>J.P. Crawford</td><td>4</td></tr>",
            "<tr><td>C.J. Cron</td><td>0</td></tr>",
            "<tr><td>Kevin Cron</td><td>0</td></tr>",
            "<tr><td>Nelson Cruz</td><td>0</td></tr>",
            "<tr><td>Charlie Culberson</td><td>2</td></tr>",
            "<tr><td>Cheslor Cuthbert</td><td>0</td></tr>",
            "<tr><td>Travis d&#39;Arnaud</td><td>0</td></tr>",
            "<tr><td>David Dahl</td><td>5</td></tr>",
            "<tr><td>Yu Darvish</td><td>0</td></tr>",
            "<tr><td>Zach Davies</td><td>0</td></tr>",
            "<tr><td>Chris Davis</td><td>0</td></tr>",
            "<tr><td>J.D. Davis</td><td>1</td></tr>",
            "<tr><td>Jaylin Davis</td><td>0</td></tr>",
            "<tr><td>Johnny Davis</td><td>1</td></tr>",
            "<tr><td>Jonathan Davis</td><td>0</td></tr>",
            "<tr><td>Khris Davis</td><td>0</td></tr>",
            "<tr><td>Rajai Davis</td><td>0</td></tr>",
            "<tr><td>Taylor Davis</td><td>0</td></tr>",
            "<tr><td>Yonathan Daza</td><td>1</td></tr>",
            "<tr><td>Austin Dean</td><td>0</td></tr>",
            "<tr><td>Jacob deGrom</td><td>0</td></tr>",
            "<tr><td>Paul DeJong</td><td>1</td></tr>",
            "<tr><td>Nicky Delmonico</td><td>0</td></tr>",
            "<tr><td>Travis Demeritte</td><td>2</td></tr>",
            "<tr><td>Daniel Descalso</td><td>1</td></tr>",
            "<tr><td>Anthony DeSclafani</td><td>0</td></tr>",
            "<tr><td>Delino DeShields</td><td>4</td></tr>",
            "<tr><td>Ian Desmond</td><td>4</td></tr>",
            "<tr><td>Rafael Devers</td><td>4</td></tr>",
            "<tr><td>Aledmys Díaz</td><td>1</td></tr>",
            "<tr><td>Elias Diaz</td><td>0</td></tr>",
            "<tr><td>Isan Diaz</td><td>2</td></tr>",
            "<tr><td>Yandy Díaz</td><td>1</td></tr>",
            "<tr><td>Alex Dickerson</td><td>3</td></tr>",
            "<tr><td>Corey Dickerson</td><td>2</td></tr>",
            "<tr><td>Derek Dietrich</td><td>2</td></tr>",
            "<tr><td>Wilmer Difo</td><td>0</td></tr>",
            "<tr><td>Nick Dini</td><td>0</td></tr>",
            "<tr><td>Brandon Dixon</td><td>4</td></tr>",
            "<tr><td>Josh Donaldson</td><td>0</td></tr>",
            "<tr><td>Brian Dozier</td><td>0</td></tr>",
            "<tr><td>Hunter Dozier</td><td>10</td></tr>",
            "<tr><td>Oliver Drake</td><td>0</td></tr>",
            "<tr><td>Brandon Drury</td><td>1</td></tr>",
            "<tr><td>Mauricio Dubon</td><td>0</td></tr>",
            "<tr><td>Lucas Duda</td><td>0</td></tr>",
            "<tr><td>Danny Duffy</td><td>0</td></tr>",
            "<tr><td>Matt Duffy</td><td>0</td></tr>",
            "<tr><td>Steven Duggar</td><td>2</td></tr>",
            "<tr><td>Jon Duplantier</td><td>0</td></tr>",
            "<tr><td>Montana DuRapau</td><td>0</td></tr>",
            "<tr><td>Adam Duvall</td><td>1</td></tr>",
            "<tr><td>Jarrod Dyson</td><td>2</td></tr>",
            "<tr><td>Adam Eaton</td><td>7</td></tr>",
            "<tr><td>Tommy Edman</td><td>7</td></tr>",
            "<tr><td>Zach Eflin</td><td>0</td></tr>",
            "<tr><td>Jake Elmore</td><td>0</td></tr>",
            "<tr><td>Edwin Encarnacion</td><td>0</td></tr>",
            "<tr><td>Adam Engel</td><td>2</td></tr>",
            "<tr><td>Phil Ervin</td><td>7</td></tr>",
            "<tr><td>Eduardo Escobar</td><td>10</td></tr>",
            "<tr><td>Thairo Estrada</td><td>0</td></tr>",
            "<tr><td>Kyle Farmer</td><td>0</td></tr>",
            "<tr><td>Erick Fedde</td><td>0</td></tr>",
            "<tr><td>Tim Federowicz</td><td>0</td></tr>",
            "<tr><td>Caleb Ferguson</td><td>0</td></tr>",
            "<tr><td>Derek Fisher</td><td>1</td></tr>",
            "<tr><td>Jack Flaherty</td><td>0</td></tr>",
            "<tr><td>Ryan Flaherty</td><td>0</td></tr>",
            "<tr><td>David Fletcher</td><td>4</td></tr>",
            "<tr><td>Chris Flexen</td><td>0</td></tr>",
            "<tr><td>Wilmer Flores</td><td>0</td></tr>",
            "<tr><td>Tyler Flowers</td><td>3</td></tr>",
            "<tr><td>Mike Foltynewicz</td><td>0</td></tr>",
            "<tr><td>Wilmer Font</td><td>0</td></tr>",
            "<tr><td>Mike Ford</td><td>0</td></tr>",
            "<tr><td>Logan Forsythe</td><td>1</td></tr>",
            "<tr><td>Dexter Fowler</td><td>1</td></tr>",
            "<tr><td>Jake Fraley</td><td>0</td></tr>",
            "<tr><td>Ty France</td><td>1</td></tr>",
            "<tr><td>Maikel Franco</td><td>0</td></tr>",
            "<tr><td>Adam Frazier</td><td>7</td></tr>",
            "<tr><td>Clint Frazier</td><td>0</td></tr>",
            "<tr><td>Todd Frazier</td><td>2</td></tr>",
            "<tr><td>Kyle Freeland</td><td>0</td></tr>",
            "<tr><td>Freddie Freeman</td><td>2</td></tr>",
            "<tr><td>Mike Freeman</td><td>0</td></tr>",
            "<tr><td>David Freese</td><td>0</td></tr>",
            "<tr><td>David Freitas</td><td>0</td></tr>",
            "<tr><td>Max Fried</td><td>0</td></tr>",
            "<tr><td>Josh Fuentes</td><td>0</td></tr>",
            "<tr><td>Drew Gagnon</td><td>0</td></tr>",
            "<tr><td>Rocky Gale</td><td>0</td></tr>",
            "<tr><td>Cam Gallagher</td><td>0</td></tr>",
            "<tr><td>Zac Gallen</td><td>0</td></tr>",
            "<tr><td>Joey Gallo</td><td>1</td></tr>",
            "<tr><td>Isaac Galloway</td><td>0</td></tr>",
            "<tr><td>Freddy Galvis</td><td>1</td></tr>",
            "<tr><td>Ben Gamel</td><td>0</td></tr>",
            "<tr><td>Aramis Garcia</td><td>0</td></tr>",
            "<tr><td>Avisail Garcia</td><td>2</td></tr>",
            "<tr><td>Greg Garcia</td><td>4</td></tr>",
            "<tr><td>Leury Garcia</td><td>3</td></tr>",
            "<tr><td>Robel Garcia</td><td>2</td></tr>",
            "<tr><td>Brett Gardner</td><td>7</td></tr>",
            "<tr><td>Kyle Garlick</td><td>0</td></tr>",
            "<tr><td>Dustin Garneau</td><td>0</td></tr>",
            "<tr><td>Mitch Garver</td><td>1</td></tr>",
            "<tr><td>Kevin Gausman</td><td>0</td></tr>",
            "<tr><td>Scooter Gennett</td><td>0</td></tr>",
            "<tr><td>Mike Gerber</td><td>0</td></tr>",
            "<tr><td>Lucas Giolito</td><td>0</td></tr>",
            "<tr><td>Zack Godley</td><td>0</td></tr>",
            "<tr><td>Ryan Goins</td><td>1</td></tr>",
            "<tr><td>Paul Goldschmidt</td><td>1</td></tr>",
            "<tr><td>Yan Gomes</td><td>0</td></tr>",
            "<tr><td>Carlos Gomez</td><td>0</td></tr>",
            "<tr><td>Tony Gonsolin</td><td>0</td></tr>",
            "<tr><td>Marco Gonzales</td><td>0</td></tr>",
            "<tr><td>Carlos Gonzalez</td><td>0</td></tr>",
            "<tr><td>Chi Chi Gonzalez</td><td>0</td></tr>",
            "<tr><td>Erik Gonzalez</td><td>1</td></tr>",
            "<tr><td>Gio Gonzalez</td><td>0</td></tr>",
            "<tr><td>Marwin Gonzalez</td><td>0</td></tr>",
            "<tr><td>Niko Goodrum</td><td>5</td></tr>",
            "<tr><td>Brian Goodwin</td><td>3</td></tr>",
            "<tr><td>Alex Gordon</td><td>1</td></tr>",
            "<tr><td>Dee Gordon</td><td>6</td></tr>",
            "<tr><td>Terrance Gore</td><td>1</td></tr>",
            "<tr><td>Phil Gosselin</td><td>0</td></tr>",
            "<tr><td>Yasmani Grandal</td><td>2</td></tr>",
            "<tr><td>Curtis Granderson</td><td>1</td></tr>",
            "<tr><td>Juan Graterol</td><td>0</td></tr>",
            "<tr><td>Jon Gray</td><td>0</td></tr>",
            "<tr><td>Sonny Gray</td><td>1</td></tr>",
            "<tr><td>Zach Green</td><td>0</td></tr>",
            "<tr><td>Didi Gregorius</td><td>2</td></tr>",
            "<tr><td>Grayson Greiner</td><td>1</td></tr>",
            "<tr><td>Zack Greinke</td><td>1</td></tr>",
            "<tr><td>Randal Grichuk</td><td>5</td></tr>",
            "<tr><td>Trent Grisham</td><td>2</td></tr>",
            "<tr><td>Robbie Grossman</td><td>3</td></tr>",
            "<tr><td>Deivy Grullon</td><td>0</td></tr>",
            "<tr><td>Junior Guerra</td><td>0</td></tr>",
            "<tr><td>Vladimir Guerrero Jr.</td><td>2</td></tr>",
            "<tr><td>Luis Guillorme</td><td>0</td></tr>",
            "<tr><td>Lourdes Gurriel Jr.</td><td>2</td></tr>",
            "<tr><td>Yuli Gurriel</td><td>2</td></tr>",
            "<tr><td>Kelvin Gutierrez</td><td>1</td></tr>",
            "<tr><td>Ronald Guzman</td><td>0</td></tr>",
            "<tr><td>Jedd Gyorko</td><td>0</td></tr>",
            "<tr><td>Eric Haase</td><td>0</td></tr>",
            "<tr><td>Cole Hamels</td><td>0</td></tr>",
            "<tr><td>Billy Hamilton</td><td>2</td></tr>",
            "<tr><td>Garrett Hampson</td><td>4</td></tr>",
            "<tr><td>Mitch Haniger</td><td>1</td></tr>",
            "<tr><td>Alen Hanson</td><td>0</td></tr>",
            "<tr><td>Ian Happ</td><td>1</td></tr>",
            "<tr><td>Bryce Harper</td><td>1</td></tr>",
            "<tr><td>Josh Harrison</td><td>1</td></tr>",
            "<tr><td>Adam Haseley</td><td>0</td></tr>",
            "<tr><td>Austin Hays</td><td>0</td></tr>",
            "<tr><td>Ryon Healy</td><td>0</td></tr>",
            "<tr><td>Adeiny Hechavarria</td><td>1</td></tr>",
            "<tr><td>Austin Hedges</td><td>0</td></tr>",
            "<tr><td>Scott Heineman</td><td>0</td></tr>",
            "<tr><td>Tyler Heineman</td><td>0</td></tr>",
            "<tr><td>Jeremy Hellickson</td><td>0</td></tr>",
            "<tr><td>Ryan Helsley</td><td>0</td></tr>",
            "<tr><td>Kyle Hendricks</td><td>0</td></tr>",
            "<tr><td>Guillermo Heredia</td><td>0</td></tr>",
            "<tr><td>Michael Hermosillo</td><td>1</td></tr>",
            "<tr><td>Cesar Hernandez</td><td>3</td></tr>",
            "<tr><td>Elieser Hernandez</td><td>0</td></tr>",
            "<tr><td>Enrique Hernandez</td><td>1</td></tr>",
            "<tr><td>Gorkys Hernandez</td><td>2</td></tr>",
            "<tr><td>Marco Hernandez</td><td>0</td></tr>",
            "<tr><td>Teoscar Hernandez</td><td>2</td></tr>",
            "<tr><td>Odubel Herrera</td><td>1</td></tr>",
            "<tr><td>Rosell Herrera</td><td>0</td></tr>",
            "<tr><td>Chris Herrmann</td><td>0</td></tr>",
            "<tr><td>Jason Heyward</td><td>4</td></tr>",
            "<tr><td>Aaron Hicks</td><td>0</td></tr>",
            "<tr><td>John Hicks</td><td>0</td></tr>",
            "<tr><td>Kyle Higashioka</td><td>0</td></tr>",
            "<tr><td>Rich Hill</td><td>0</td></tr>",
            "<tr><td>Sam Hilliard</td><td>2</td></tr>",
            "<tr><td>Keston Hiura</td><td>2</td></tr>",
            "<tr><td>Nico Hoerner</td><td>1</td></tr>",
            "<tr><td>Jeff Hoffman</td><td>0</td></tr>",
            "<tr><td>Bryan Holaday</td><td>0</td></tr>",
            "<tr><td>Derek Holland</td><td>0</td></tr>",
            "<tr><td>Brock Holt</td><td>2</td></tr>",
            "<tr><td>Rhys Hoskins</td><td>5</td></tr>",
            "<tr><td>Eric Hosmer</td><td>2</td></tr>",
            "<tr><td>Adrian Houser</td><td>0</td></tr>",
            "<tr><td>Dakota Hudson</td><td>0</td></tr>",
            "<tr><td>Nick Hundley</td><td>1</td></tr>",
            "<tr><td>Chris Iannetta</td><td>0</td></tr>",
            "<tr><td>José Iglesias</td><td>3</td></tr>",
            "<tr><td>Ender Inciarte</td><td>2</td></tr>",
            "<tr><td>Cole Irvin</td><td>0</td></tr>",
            "<tr><td>Travis Jankowski</td><td>0</td></tr>",
            "<tr><td>Danny Jansen</td><td>1</td></tr>",
            "<tr><td>Jon Jay</td><td>0</td></tr>",
            "<tr><td>Eloy Jimenez</td><td>2</td></tr>",
            "<tr><td>Connor Joe</td><td>0</td></tr>",
            "<tr><td>Adam Jones</td><td>1</td></tr>",
            "<tr><td>JaCoby Jones</td><td>3</td></tr>",
            "<tr><td>Caleb Joseph</td><td>0</td></tr>",
            "<tr><td>Corban Joseph</td><td>0</td></tr>",
            "<tr><td>Matthew Joyce</td><td>0</td></tr>",
            "<tr><td>Aaron Judge</td><td>1</td></tr>",
            "<tr><td>Jung Ho Kang</td><td>1</td></tr>",
            "<tr><td>Brad Keller</td><td>0</td></tr>",
            "<tr><td>Carson Kelly</td><td>0</td></tr>",
            "<tr><td>Merrill Kelly</td><td>0</td></tr>",
            "<tr><td>Matt Kemp</td><td>0</td></tr>",
            "<tr><td>Tony Kemp</td><td>2</td></tr>",
            "<tr><td>Howie Kendrick</td><td>1</td></tr>",
            "<tr><td>Max Kepler</td><td>0</td></tr>",
            "<tr><td>Clayton Kershaw</td><td>0</td></tr>",
            "<tr><td>Dallas Keuchel</td><td>0</td></tr>",
            "<tr><td>Carter Kieboom</td><td>0</td></tr>",
            "<tr><td>Kevin Kiermaier</td><td>7</td></tr>",
            "<tr><td>Isiah Kiner-Falefa</td><td>1</td></tr>",
            "<tr><td>Scott Kingery</td><td>4</td></tr>",
            "<tr><td>Ian Kinsler</td><td>0</td></tr>",
            "<tr><td>Jason Kipnis</td><td>1</td></tr>",
            "<tr><td>Andrew Knapp</td><td>0</td></tr>",
            "<tr><td>Andrew Knizner</td><td>0</td></tr>",
            "<tr><td>Kevin Kramer</td><td>0</td></tr>",
            "<tr><td>Erik Kratz</td><td>0</td></tr>",
            "<tr><td>Tommy La Stella</td><td>0</td></tr>",
            "<tr><td>Juan Lagares</td><td>1</td></tr>",
            "<tr><td>Ryan LaMarre</td><td>0</td></tr>",
            "<tr><td>Jake Lamb</td><td>2</td></tr>",
            "<tr><td>Peter Lambert</td><td>0</td></tr>",
            "<tr><td>Dinelson Lamet</td><td>0</td></tr>",
            "<tr><td>Eric Lauer</td><td>0</td></tr>",
            "<tr><td>Ramon Laureano</td><td>0</td></tr>",
            "<tr><td>Ryan Lavarnway</td><td>0</td></tr>",
            "<tr><td>Mike Leake</td><td>0</td></tr>",
            "<tr><td>DJ LeMahieu</td><td>2</td></tr>",
            "<tr><td>Sandy Leon</td><td>0</td></tr>",
            "<tr><td>Jon Lester</td><td>0</td></tr>",
            "<tr><td>Kyle Lewis</td><td>0</td></tr>",
            "<tr><td>Domingo Leyba</td><td>1</td></tr>",
            "<tr><td>Tzu-Wei Lin</td><td>0</td></tr>",
            "<tr><td>Francisco Lindor</td><td>2</td></tr>",
            "<tr><td>Francisco Liriano</td><td>0</td></tr>",
            "<tr><td>Tim Locastro</td><td>2</td></tr>",
            "<tr><td>Walker Lockett</td><td>0</td></tr>",
            "<tr><td>Shed Long</td><td>1</td></tr>",
            "<tr><td>Evan Longoria</td><td>2</td></tr>",
            "<tr><td>Tim Lopes</td><td>0</td></tr>",
            "<tr><td>Nicky Lopez</td><td>2</td></tr>",
            "<tr><td>Pablo Lopez</td><td>0</td></tr>",
            "<tr><td>Michael Lorenzen</td><td>0</td></tr>",
            "<tr><td>Brandon Lowe</td><td>2</td></tr>",
            "<tr><td>Nate Lowe</td><td>0</td></tr>",
            "<tr><td>Joey Lucchesi</td><td>0</td></tr>",
            "<tr><td>Jonathan Lucroy</td><td>1</td></tr>",
            "<tr><td>Dawel Lugo</td><td>4</td></tr>",
            "<tr><td>Seth Lugo</td><td>0</td></tr>",
            "<tr><td>Jordan Luplow</td><td>1</td></tr>",
            "<tr><td>Gavin Lux</td><td>1</td></tr>",
            "<tr><td>Jordan Lyles</td><td>0</td></tr>",
            "<tr><td>Manny Machado</td><td>2</td></tr>",
            "<tr><td>Kenta Maeda</td><td>0</td></tr>",
            "<tr><td>Tyler Mahle</td><td>0</td></tr>",
            "<tr><td>Luke Maile</td><td>1</td></tr>",
            "<tr><td>Martin Maldonado</td><td>0</td></tr>",
            "<tr><td>Trey Mancini</td><td>2</td></tr>",
            "<tr><td>Nick Margevicius</td><td>0</td></tr>",
            "<tr><td>Manuel Margot</td><td>3</td></tr>",
            "<tr><td>Jake Marisnick</td><td>3</td></tr>",
            "<tr><td>Nick Markakis</td><td>2</td></tr>",
            "<tr><td>German Marquez</td><td>1</td></tr>",
            "<tr><td>Ketel Marte</td><td>9</td></tr>",
            "<tr><td>Starling Marte</td><td>6</td></tr>",
            "<tr><td>Jason Martin</td><td>0</td></tr>",
            "<tr><td>Leonys Martín</td><td>0</td></tr>",
            "<tr><td>Richie Martin</td><td>3</td></tr>",
            "<tr><td>Russell Martin</td><td>0</td></tr>",
            "<tr><td>J.D. Martinez</td><td>2</td></tr>",
            "<tr><td>Jose Martinez</td><td>2</td></tr>",
            "<tr><td>Nick Martini</td><td>1</td></tr>",
            "<tr><td>Jeff Mathis</td><td>0</td></tr>",
            "<tr><td>Phil Maton</td><td>0</td></tr>",
            "<tr><td>Steven Matz</td><td>0</td></tr>",
            "<tr><td>Dustin May</td><td>0</td></tr>",
            "<tr><td>Cameron Maybin</td><td>0</td></tr>",
            "<tr><td>Jack Mayfield</td><td>0</td></tr>",
            "<tr><td>Nomar Mazara</td><td>1</td></tr>",
            "<tr><td>Ryan McBroom</td><td>0</td></tr>",
            "<tr><td>Brian McCann</td><td>0</td></tr>",
            "<tr><td>James McCann</td><td>1</td></tr>",
            "<tr><td>Andrew McCutchen</td><td>1</td></tr>",
            "<tr><td>Kyle McGowin</td><td>0</td></tr>",
            "<tr><td>Reese McGuire</td><td>0</td></tr>",
            "<tr><td>Brendan McKay</td><td>0</td></tr>",
            "<tr><td>Billy McKinney</td><td>1</td></tr>",
            "<tr><td>Ryan McMahon</td><td>1</td></tr>",
            "<tr><td>Jeff McNeil</td><td>1</td></tr>",
            "<tr><td>Alex McRae</td><td>0</td></tr>",
            "<tr><td>Austin Meadows</td><td>7</td></tr>",
            "<tr><td>John Means</td><td>0</td></tr>",
            "<tr><td>Erick Mejia</td><td>0</td></tr>",
            "<tr><td>Francisco Mejia</td><td>2</td></tr>",
            "<tr><td>Seth Mejias-Brean</td><td>0</td></tr>",
            "<tr><td>Tim Melville</td><td>0</td></tr>",
            "<tr><td>Danny Mendick</td><td>0</td></tr>",
            "<tr><td>Oscar Mercado</td><td>3</td></tr>",
            "<tr><td>Jordy Mercer</td><td>0</td></tr>",
            "<tr><td>Whit Merrifield</td><td>10</td></tr>",
            "<tr><td>Miles Mikolas</td><td>0</td></tr>",
            "<tr><td>Brad Miller</td><td>1</td></tr>",
            "<tr><td>Ian Miller</td><td>0</td></tr>",
            "<tr><td>Alec Mills</td><td>0</td></tr>",
            "<tr><td>Yadier Molina</td><td>0</td></tr>",
            "<tr><td>Yoan Moncada</td><td>5</td></tr>",
            "<tr><td>Adalberto Mondesi</td><td>10</td></tr>",
            "<tr><td>Mike Montgomery</td><td>0</td></tr>",
            "<tr><td>Dylan Moore</td><td>2</td></tr>",
            "<tr><td>Kendrys Morales</td><td>1</td></tr>",
            "<tr><td>Colin Moran</td><td>1</td></tr>",
            "<tr><td>Mitch Moreland</td><td>1</td></tr>",
            "<tr><td>Max Moroff</td><td>0</td></tr>",
            "<tr><td>Logan Morrison</td><td>0</td></tr>",
            "<tr><td>Mike Moustakas</td><td>1</td></tr>",
            "<tr><td>Cedric Mullins</td><td>2</td></tr>",
            "<tr><td>Max Muncy</td><td>1</td></tr>",
            "<tr><td>Yairo Munoz</td><td>1</td></tr>",
            "<tr><td>Daniel Murphy</td><td>1</td></tr>",
            "<tr><td>John Ryan Murphy</td><td>0</td></tr>",
            "<tr><td>Sean Murphy</td><td>0</td></tr>",
            "<tr><td>Tom Murphy</td><td>1</td></tr>",
            "<tr><td>Joe Musgrove</td><td>1</td></tr>",
            "<tr><td>Wil Myers</td><td>1</td></tr>",
            "<tr><td>Tyler Naquin</td><td>0</td></tr>",
            "<tr><td>Omar Narvaez</td><td>0</td></tr>",
            "<tr><td>Josh Naylor</td><td>0</td></tr>",
            "<tr><td>Kristopher Negron</td><td>0</td></tr>",
            "<tr><td>Sheldon Neuse</td><td>0</td></tr>",
            "<tr><td>Kevin Newman</td><td>6</td></tr>",
            "<tr><td>Tomas Nido</td><td>0</td></tr>",
            "<tr><td>Brandon Nimmo</td><td>1</td></tr>",
            "<tr><td>Hector Noesi</td><td>0</td></tr>",
            "<tr><td>Aaron Nola</td><td>0</td></tr>",
            "<tr><td>Austin Nola</td><td>1</td></tr>",
            "<tr><td>Jake Noll</td><td>0</td></tr>",
            "<tr><td>Daniel Norris</td><td>0</td></tr>",
            "<tr><td>Jacob Nottingham</td><td>0</td></tr>",
            "<tr><td>Dom Nunez</td><td>0</td></tr>",
            "<tr><td>Eduardo Nunez</td><td>0</td></tr>",
            "<tr><td>Renato Nunez</td><td>0</td></tr>",
            "<tr><td>Peter O&#39;Brien</td><td>0</td></tr>",
            "<tr><td>Brian O&#39;Grady</td><td>1</td></tr>",
            "<tr><td>Ryan O&#39;Hearn</td><td>1</td></tr>",
            "<tr><td>Tyler O&#39;Neill</td><td>0</td></tr>",
            "<tr><td>Rougned Odor</td><td>1</td></tr>",
            "<tr><td>Shohei Ohtani</td><td>5</td></tr>",
            "<tr><td>Matt Olson</td><td>0</td></tr>",
            "<tr><td>Rafael Ortega</td><td>0</td></tr>",
            "<tr><td>Jose Osuna</td><td>0</td></tr>",
            "<tr><td>Chris Owings</td><td>1</td></tr>",
            "<tr><td>Marcell Ozuna</td><td>1</td></tr>",
            "<tr><td>Chris Paddack</td><td>0</td></tr>",
            "<tr><td>Daniel Palka</td><td>0</td></tr>",
            "<tr><td>Joe Panik</td><td>1</td></tr>",
            "<tr><td>Gerardo Parra</td><td>1</td></tr>",
            "<tr><td>Steve Pearce</td><td>0</td></tr>",
            "<tr><td>Joc Pederson</td><td>3</td></tr>",
            "<tr><td>Dustin Pedroia</td><td>0</td></tr>",
            "<tr><td>Hunter Pence</td><td>1</td></tr>",
            "<tr><td>David Peralta</td><td>3</td></tr>",
            "<tr><td>Freddy Peralta</td><td>0</td></tr>",
            "<tr><td>Jose Peraza</td><td>2</td></tr>",
            "<tr><td>Luis Perdomo</td><td>0</td></tr>",
            "<tr><td>Hernan Perez</td><td>0</td></tr>",
            "<tr><td>Michael Perez</td><td>0</td></tr>",
            "<tr><td>Roberto Perez</td><td>1</td></tr>",
            "<tr><td>Dustin Peterson</td><td>0</td></tr>",
            "<tr><td>Jace Peterson</td><td>1</td></tr>",
            "<tr><td>Tommy Pham</td><td>2</td></tr>",
            "<tr><td>Josh Phegley</td><td>0</td></tr>",
            "<tr><td>Brett Phillips</td><td>0</td></tr>",
            "<tr><td>Kevin Pillar</td><td>3</td></tr>",
            "<tr><td>Manny Pina</td><td>0</td></tr>",
            "<tr><td>Chad Pinder</td><td>0</td></tr>",
            "<tr><td>Jose Pirela</td><td>0</td></tr>",
            "<tr><td>Stephen Piscotty</td><td>1</td></tr>",
            "<tr><td>Nick Pivetta</td><td>0</td></tr>",
            "<tr><td>Kevin Plawecki</td><td>0</td></tr>",
            "<tr><td>Gregory Polanco</td><td>1</td></tr>",
            "<tr><td>Jorge Polanco</td><td>7</td></tr>",
            "<tr><td>A.J. Pollock</td><td>1</td></tr>",
            "<tr><td>Buster Posey</td><td>0</td></tr>",
            "<tr><td>Martin Prado</td><td>0</td></tr>",
            "<tr><td>David Price</td><td>0</td></tr>",
            "<tr><td>Jurickson Profar</td><td>2</td></tr>",
            "<tr><td>Cesar Puello</td><td>0</td></tr>",
            "<tr><td>Yasiel Puig</td><td>1</td></tr>",
            "<tr><td>Albert Pujols</td><td>0</td></tr>",
            "<tr><td>Cal Quantrill</td><td>0</td></tr>",
            "<tr><td>Roman Quinn</td><td>1</td></tr>",
            "<tr><td>Jose Quintana</td><td>0</td></tr>",
            "<tr><td>Hanley Ramirez</td><td>0</td></tr>",
            "<tr><td>Harold Ramirez</td><td>3</td></tr>",
            "<tr><td>Jose Ramirez</td><td>3</td></tr>",
            "<tr><td>Wilson Ramos</td><td>0</td></tr>",
            "<tr><td>Rangel Ravelo</td><td>0</td></tr>",
            "<tr><td>Robbie Ray</td><td>0</td></tr>",
            "<tr><td>Raudy Read</td><td>0</td></tr>",
            "<tr><td>J.T. Realmuto</td><td>3</td></tr>",
            "<tr><td>Josh Reddick</td><td>3</td></tr>",
            "<tr><td>AJ Reed</td><td>0</td></tr>",
            "<tr><td>Anthony Rendon</td><td>3</td></tr>",
            "<tr><td>Hunter Renfroe</td><td>1</td></tr>",
            "<tr><td>Luis Rengifo</td><td>3</td></tr>",
            "<tr><td>Franmil Reyes</td><td>0</td></tr>",
            "<tr><td>Pablo Reyes</td><td>2</td></tr>",
            "<tr><td>Victor Reyes</td><td>5</td></tr>",
            "<tr><td>Bryan Reynolds</td><td>4</td></tr>",
            "<tr><td>Mark Reynolds</td><td>0</td></tr>",
            "<tr><td>Trevor Richards</td><td>0</td></tr>",
            "<tr><td>Joey Rickard</td><td>2</td></tr>",
            "<tr><td>JT Riddle</td><td>0</td></tr>",
            "<tr><td>Austin Riley</td><td>1</td></tr>",
            "<tr><td>Edwin Rios</td><td>1</td></tr>",
            "<tr><td>Rene Rivera</td><td>0</td></tr>",
            "<tr><td>Yadiel Rivera</td><td>0</td></tr>",
            "<tr><td>Anthony Rizzo</td><td>3</td></tr>",
            "<tr><td>Tanner Roark</td><td>0</td></tr>",
            "<tr><td>Daniel Robertson</td><td>1</td></tr>",
            "<tr><td>Drew Robinson</td><td>0</td></tr>",
            "<tr><td>Victor Robles</td><td>3</td></tr>",
            "<tr><td>Brendan Rodgers</td><td>0</td></tr>",
            "<tr><td>Dereck Rodriguez</td><td>0</td></tr>",
            "<tr><td>Ronny Rodriguez</td><td>3</td></tr>",
            "<tr><td>Sean Rodriguez</td><td>0</td></tr>",
            "<tr><td>Jake Rogers</td><td>0</td></tr>",
            "<tr><td>Josh Rojas</td><td>0</td></tr>",
            "<tr><td>Miguel Rojas</td><td>1</td></tr>",
            "<tr><td>Austin Romine</td><td>0</td></tr>",
            "<tr><td>Jose Rondon</td><td>0</td></tr>",
            "<tr><td>Amed Rosario</td><td>7</td></tr>",
            "<tr><td>Eddie Rosario</td><td>1</td></tr>",
            "<tr><td>Joe Ross</td><td>0</td></tr>",
            "<tr><td>Rio Ruiz</td><td>2</td></tr>",
            "<tr><td>Addison Russell</td><td>1</td></tr>",
            "<tr><td>Hyun-Jin Ryu</td><td>0</td></tr>",
            "<tr><td>Tyler Saladino</td><td>0</td></tr>",
            "<tr><td>Jeff Samardzija</td><td>0</td></tr>",
            "<tr><td>Adrian Sanchez</td><td>0</td></tr>",
            "<tr><td>Anibal Sanchez</td><td>0</td></tr>",
            "<tr><td>Gary Sanchez</td><td>1</td></tr>",
            "<tr><td>Yolmer Sanchez</td><td>4</td></tr>",
            "<tr><td>Pablo Sandoval</td><td>0</td></tr>",
            "<tr><td>Miguel Sano</td><td>2</td></tr>",
            "<tr><td>Carlos Santana</td><td>1</td></tr>",
            "<tr><td>Danny Santana</td><td>6</td></tr>",
            "<tr><td>Dennis Santana</td><td>0</td></tr>",
            "<tr><td>Domingo Santana</td><td>1</td></tr>",
            "<tr><td>Anthony Santander</td><td>1</td></tr>",
            "<tr><td>Scott Schebler</td><td>0</td></tr>",
            "<tr><td>Max Scherzer</td><td>0</td></tr>",
            "<tr><td>Jonathan Schoop</td><td>1</td></tr>",
            "<tr><td>Kyle Schwarber</td><td>3</td></tr>",
            "<tr><td>Frank Schwindel</td><td>0</td></tr>",
            "<tr><td>Corey Seager</td><td>1</td></tr>",
            "<tr><td>Kyle Seager</td><td>1</td></tr>",
            "<tr><td>Jean Segura</td><td>4</td></tr>",
            "<tr><td>Marcus Semien</td><td>7</td></tr>",
            "<tr><td>Antonio Senzatela</td><td>0</td></tr>",
            "<tr><td>Nick Senzel</td><td>4</td></tr>",
            "<tr><td>Pedro Severino</td><td>0</td></tr>",
            "<tr><td>Chris Shaw</td><td>0</td></tr>",
            "<tr><td>Travis Shaw</td><td>0</td></tr>",
            "<tr><td>JB Shuck</td><td>1</td></tr>",
            "<tr><td>Magneuris Sierra</td><td>1</td></tr>",
            "<tr><td>Andrelton Simmons</td><td>0</td></tr>",
            "<tr><td>Lucas Sims</td><td>0</td></tr>",
            "<tr><td>Chance Sisco</td><td>0</td></tr>",
            "<tr><td>Matt Skole</td><td>0</td></tr>",
            "<tr><td>Austin Slater</td><td>3</td></tr>",
            "<tr><td>Caleb Smith</td><td>0</td></tr>",
            "<tr><td>Dominic Smith</td><td>0</td></tr>",
            "<tr><td>Dwight Smith Jr.</td><td>3</td></tr>",
            "<tr><td>Kevan Smith</td><td>0</td></tr>",
            "<tr><td>Mallex Smith</td><td>9</td></tr>",
            "<tr><td>Will Smith</td><td>0</td></tr>",
            "<tr><td>Justin Smoak</td><td>0</td></tr>",
            "<tr><td>Eric Sogard</td><td>2</td></tr>",
            "<tr><td>Nick Solak</td><td>1</td></tr>",
            "<tr><td>Donovan Solano</td><td>1</td></tr>",
            "<tr><td>Yangervis Solarte</td><td>0</td></tr>",
            "<tr><td>Jorge Soler</td><td>1</td></tr>",
            "<tr><td>Mike Soroka</td><td>0</td></tr>",
            "<tr><td>Edmundo Sosa</td><td>0</td></tr>",
            "<tr><td>Gregory Soto</td><td>0</td></tr>",
            "<tr><td>Juan Soto</td><td>5</td></tr>",
            "<tr><td>Cory Spangenberg</td><td>2</td></tr>",
            "<tr><td>George Springer</td><td>3</td></tr>",
            "<tr><td>Jacob Stallings</td><td>0</td></tr>",
            "<tr><td>Eric Stamets</td><td>0</td></tr>",
            "<tr><td>Giancarlo Stanton</td><td>0</td></tr>",
            "<tr><td>Bubba Starling</td><td>0</td></tr>",
            "<tr><td>Max Stassi</td><td>0</td></tr>",
            "<tr><td>Andrew Stevenson</td><td>1</td></tr>",
            "<tr><td>Brock Stewart</td><td>0</td></tr>",
            "<tr><td>Christin Stewart</td><td>1</td></tr>",
            "<tr><td>DJ Stewart</td><td>0</td></tr>",
            "<tr><td>Trevor Story</td><td>5</td></tr>",
            "<tr><td>Matt Strahm</td><td>0</td></tr>",
            "<tr><td>Stephen Strasburg</td><td>0</td></tr>",
            "<tr><td>Myles Straw</td><td>2</td></tr>",
            "<tr><td>Ross Stripling</td><td>0</td></tr>",
            "<tr><td>Marcus Stroman</td><td>0</td></tr>",
            "<tr><td>Garrett Stubbs</td><td>0</td></tr>",
            "<tr><td>Eugenio Suarez</td><td>2</td></tr>",
            "<tr><td>Ranger Suarez</td><td>0</td></tr>",
            "<tr><td>Jesus Sucre</td><td>0</td></tr>",
            "<tr><td>Kurt Suzuki</td><td>0</td></tr>",
            "<tr><td>Dansby Swanson</td><td>3</td></tr>",
            "<tr><td>Blake Swihart</td><td>0</td></tr>",
            "<tr><td>Noah Syndergaard</td><td>0</td></tr>",
            "<tr><td>Jameson Taillon</td><td>0</td></tr>",
            "<tr><td>Raimel Tapia</td><td>5</td></tr>",
            "<tr><td>Fernando Tatis Jr.</td><td>6</td></tr>",
            "<tr><td>Mike Tauchman</td><td>1</td></tr>",
            "<tr><td>Beau Taylor</td><td>0</td></tr>",
            "<tr><td>Chris Taylor</td><td>4</td></tr>",
            "<tr><td>Michael A. Taylor</td><td>0</td></tr>",
            "<tr><td>Tyrone Taylor</td><td>0</td></tr>",
            "<tr><td>Julio Teheran</td><td>0</td></tr>",
            "<tr><td>Rowdy Tellez</td><td>0</td></tr>",
            "<tr><td>Matt Thaiss</td><td>0</td></tr>",
            "<tr><td>Eric Thames</td><td>2</td></tr>",
            "<tr><td>Lane Thomas</td><td>1</td></tr>",
            "<tr><td>Trent Thornton</td><td>0</td></tr>",
            "<tr><td>Charlie Tilson</td><td>0</td></tr>",
            "<tr><td>Jesus Tinoco</td><td>0</td></tr>",
            "<tr><td>Abraham Toro</td><td>2</td></tr>",
            "<tr><td>Luis Torrens</td><td>0</td></tr>",
            "<tr><td>Gleyber Torres</td><td>0</td></tr>",
            "<tr><td>Ronald Torreyes</td><td>0</td></tr>",
            "<tr><td>Wilfredo Tovar</td><td>0</td></tr>",
            "<tr><td>Sam Travis</td><td>1</td></tr>",
            "<tr><td>Jose Trevino</td><td>0</td></tr>",
            "<tr><td>Mike Trout</td><td>2</td></tr>",
            "<tr><td>Mark Trumbo</td><td>0</td></tr>",
            "<tr><td>Cole Tucker</td><td>3</td></tr>",
            "<tr><td>Kyle Tucker</td><td>0</td></tr>",
            "<tr><td>Troy Tulowitzki</td><td>0</td></tr>",
            "<tr><td>Justin Turner</td><td>0</td></tr>",
            "<tr><td>Trea Turner</td><td>5</td></tr>",
            "<tr><td>Justin Upton</td><td>0</td></tr>",
            "<tr><td>Richard Urena</td><td>0</td></tr>",
            "<tr><td>Julio Urias</td><td>0</td></tr>",
            "<tr><td>Luis Urias</td><td>1</td></tr>",
            "<tr><td>Gio Urshela</td><td>0</td></tr>",
            "<tr><td>Pat Valaika</td><td>1</td></tr>",
            "<tr><td>Breyvic Valera</td><td>1</td></tr>",
            "<tr><td>Josh VanMeter</td><td>1</td></tr>",
            "<tr><td>Ildemaro Vargas</td><td>1</td></tr>",
            "<tr><td>Jason Vargas</td><td>0</td></tr>",
            "<tr><td>Christian Vazquez</td><td>1</td></tr>",
            "<tr><td>Vince Velasquez</td><td>0</td></tr>",
            "<tr><td>Andrew Velazquez</td><td>0</td></tr>",
            "<tr><td>Alex Verdugo</td><td>2</td></tr>",
            "<tr><td>Jonathan Villar</td><td>5</td></tr>",
            "<tr><td>Meibrys Viloria</td><td>0</td></tr>",
            "<tr><td>Daniel Vogelbach</td><td>0</td></tr>",
            "<tr><td>Stephen Vogt</td><td>2</td></tr>",
            "<tr><td>Luke Voit</td><td>1</td></tr>",
            "<tr><td>Austin Voth</td><td>0</td></tr>",
            "<tr><td>Joey Votto</td><td>1</td></tr>",
            "<tr><td>Michael Wacha</td><td>0</td></tr>",
            "<tr><td>LaMonte Wade Jr</td><td>1</td></tr>",
            "<tr><td>Tyler Wade</td><td>1</td></tr>",
            "<tr><td>Adam Wainwright</td><td>0</td></tr>",
            "<tr><td>Christian Walker</td><td>1</td></tr>",
            "<tr><td>Neil Walker</td><td>1</td></tr>",
            "<tr><td>Chad Wallach</td><td>0</td></tr>",
            "<tr><td>Jared Walsh</td><td>1</td></tr>",
            "<tr><td>Donovan Walton</td><td>0</td></tr>",
            "<tr><td>Taylor Ward</td><td>0</td></tr>",
            "<tr><td>Luke Weaver</td><td>0</td></tr>",
            "<tr><td>Logan Webb</td><td>0</td></tr>",
            "<tr><td>Joey Wendle</td><td>2</td></tr>",
            "<tr><td>Zack Wheeler</td><td>0</td></tr>",
            "<tr><td>Tyler White</td><td>0</td></tr>",
            "<tr><td>Matt Wieters</td><td>0</td></tr>",
            "<tr><td>Aaron Wilkerson</td><td>0</td></tr>",
            "<tr><td>Stevie Wilkerson</td><td>2</td></tr>",
            "<tr><td>Mason Williams</td><td>0</td></tr>",
            "<tr><td>Nick Williams</td><td>0</td></tr>",
            "<tr><td>Trevor Williams</td><td>0</td></tr>",
            "<tr><td>Mac Williamson</td><td>0</td></tr>",
            "<tr><td>Bobby Wilson</td><td>0</td></tr>",
            "<tr><td>Bryse Wilson</td><td>0</td></tr>",
            "<tr><td>Jesse Winker</td><td>2</td></tr>",
            "<tr><td>Patrick Wisdom</td><td>0</td></tr>",
            "<tr><td>Tony Wolters</td><td>2</td></tr>",
            "<tr><td>Kean Wong</td><td>0</td></tr>",
            "<tr><td>Kolten Wong</td><td>4</td></tr>",
            "<tr><td>Alex Wood</td><td>0</td></tr>",
            "<tr><td>Brandon Woodruff</td><td>0</td></tr>",
            "<tr><td>Austin Wynns</td><td>0</td></tr>",
            "<tr><td>Jordan Yamamoto</td><td>0</td></tr>",
            "<tr><td>Mike Yastrzemski</td><td>3</td></tr>",
            "<tr><td>Christian Yelich</td><td>3</td></tr>",
            "<tr><td>Alex Young</td><td>0</td></tr>",
            "<tr><td>Mark Zagunis</td><td>0</td></tr>",
            "<tr><td>Seby Zavala</td><td>0</td></tr>",
            "<tr><td>Ryan Zimmerman</td><td>0</td></tr>",
            "<tr><td>Ben Zobrist</td><td>0</td></tr>",
            "<tr><td>Mike Zunino</td><td>1</td></tr>",
            "</table>"
        ]
    }
}
],
            "execution_count": 14
        }
    ]
}