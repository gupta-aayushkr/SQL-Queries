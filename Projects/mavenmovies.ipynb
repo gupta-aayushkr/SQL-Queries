{
    "metadata": {
        "kernelspec": {
            "name": "SQL",
            "display_name": "SQL",
            "language": "sql"
        },
        "language_info": {
            "name": "sql",
            "version": ""
        }
    },
    "nbformat_minor": 2,
    "nbformat": 4,
    "cells": [
        {
            "cell_type": "code",
            "source": [
                "use mavenmovies"
            ],
            "metadata": {
                "azdata_cell_guid": "f4737b3f-3efa-4f32-a5d7-8b9bd3b79f90",
                "language": "sql"
            },
            "outputs": [
                {
                    "output_type": "display_data",
                    "data": {
                        "text/html": "Commands completed successfully"
                    },
                    "metadata": {}
                },
                {
                    "output_type": "display_data",
                    "data": {
                        "text/html": "Total execution time: 00:00:00"
                    },
                    "metadata": {}
                }
            ],
            "execution_count": 1
        },
        {
            "cell_type": "code",
            "source": [
                "-- 1. Find the titles of movies except starting with a that have been rented more than 30 times, and sort them in desc order.\n",
                "select title, COUNT(rental.rental_id) as rental_count\n",
                "from film\n",
                "join inventory on inventory.film_id = film.film_id\n",
                "join rental on rental.inventory_id = inventory.inventory_id\n",
                "where title not like 'A%'\n",
                "group by title\n",
                "having rental_count > 30\n",
                "order by rental_count desc;"
            ],
            "metadata": {
                "azdata_cell_guid": "832da63d-5351-4810-ae2e-04bccdf78a89",
                "language": "sql"
            },
            "outputs": [
                {
                    "output_type": "display_data",
                    "data": {
                        "text/html": "(15 row(s) affected)"
                    },
                    "metadata": {}
                },
                {
                    "output_type": "display_data",
                    "data": {
                        "text/html": "Total execution time: 00:00:01.032"
                    },
                    "metadata": {}
                },
                {
                    "output_type": "execute_result",
                    "metadata": {},
                    "execution_count": 7,
                    "data": {
                        "application/vnd.dataresource+json": {
                            "schema": {
                                "fields": [
                                    {
                                        "name": "title"
                                    },
                                    {
                                        "name": "rental_count"
                                    }
                                ]
                            },
                            "data": [
                                {
                                    "title": "BUCKET BROTHERHOOD",
                                    "rental_count": "34"
                                },
                                {
                                    "title": "ROCKETEER MOTHER",
                                    "rental_count": "33"
                                },
                                {
                                    "title": "FORWARD TEMPLE",
                                    "rental_count": "32"
                                },
                                {
                                    "title": "GRIT CLOCKWORK",
                                    "rental_count": "32"
                                },
                                {
                                    "title": "JUGGLER HARDLY",
                                    "rental_count": "32"
                                },
                                {
                                    "title": "RIDGEMONT SUBMARINE",
                                    "rental_count": "32"
                                },
                                {
                                    "title": "SCALAWAG DUCK",
                                    "rental_count": "32"
                                },
                                {
                                    "title": "GOODFELLAS SALUTE",
                                    "rental_count": "31"
                                },
                                {
                                    "title": "HOBBIT ALIEN",
                                    "rental_count": "31"
                                },
                                {
                                    "title": "NETWORK PEAK",
                                    "rental_count": "31"
                                },
                                {
                                    "title": "ROBBERS JOON",
                                    "rental_count": "31"
                                },
                                {
                                    "title": "RUSH GOODFELLAS",
                                    "rental_count": "31"
                                },
                                {
                                    "title": "TIMBERLAND SKY",
                                    "rental_count": "31"
                                },
                                {
                                    "title": "WIFE TURN",
                                    "rental_count": "31"
                                },
                                {
                                    "title": "ZORRO ARK",
                                    "rental_count": "31"
                                }
                            ]
                        },
                        "text/html": [
                            "<table>",
                            "<tr><th>title</th><th>rental_count</th></tr>",
                            "<tr><td>BUCKET BROTHERHOOD</td><td>34</td></tr>",
                            "<tr><td>ROCKETEER MOTHER</td><td>33</td></tr>",
                            "<tr><td>FORWARD TEMPLE</td><td>32</td></tr>",
                            "<tr><td>GRIT CLOCKWORK</td><td>32</td></tr>",
                            "<tr><td>JUGGLER HARDLY</td><td>32</td></tr>",
                            "<tr><td>RIDGEMONT SUBMARINE</td><td>32</td></tr>",
                            "<tr><td>SCALAWAG DUCK</td><td>32</td></tr>",
                            "<tr><td>GOODFELLAS SALUTE</td><td>31</td></tr>",
                            "<tr><td>HOBBIT ALIEN</td><td>31</td></tr>",
                            "<tr><td>NETWORK PEAK</td><td>31</td></tr>",
                            "<tr><td>ROBBERS JOON</td><td>31</td></tr>",
                            "<tr><td>RUSH GOODFELLAS</td><td>31</td></tr>",
                            "<tr><td>TIMBERLAND SKY</td><td>31</td></tr>",
                            "<tr><td>WIFE TURN</td><td>31</td></tr>",
                            "<tr><td>ZORRO ARK</td><td>31</td></tr>",
                            "</table>"
                        ]
                    }
                }
            ],
            "execution_count": 7
        },
        {
            "cell_type": "code",
            "source": [
                "-- 2. Find the total revenue generated by store1.\n",
                "select store_id, sum(amount) as revenue from customer\n",
                "join payment on customer.customer_id = payment.customer_id\n",
                "where store_id = 1\n",
                "group by store_id"
            ],
            "metadata": {
                "azdata_cell_guid": "3b860e50-39ec-4dde-b4af-1b13d2dc0293",
                "language": "sql"
            },
            "outputs": [
                {
                    "output_type": "display_data",
                    "data": {
                        "text/html": "(1 row(s) affected)"
                    },
                    "metadata": {}
                },
                {
                    "output_type": "display_data",
                    "data": {
                        "text/html": "Total execution time: 00:00:01.019"
                    },
                    "metadata": {}
                },
                {
                    "output_type": "execute_result",
                    "metadata": {},
                    "execution_count": 8,
                    "data": {
                        "application/vnd.dataresource+json": {
                            "schema": {
                                "fields": [
                                    {
                                        "name": "store_id"
                                    },
                                    {
                                        "name": "revenue"
                                    }
                                ]
                            },
                            "data": [
                                {
                                    "store_id": "1",
                                    "revenue": "37001.52"
                                }
                            ]
                        },
                        "text/html": [
                            "<table>",
                            "<tr><th>store_id</th><th>revenue</th></tr>",
                            "<tr><td>1</td><td>37001.52</td></tr>",
                            "</table>"
                        ]
                    }
                }
            ],
            "execution_count": 8
        },
        {
            "cell_type": "code",
            "source": [
                "-- 3. Find the titles of movies in the 'horror' category and sort them based on the last character of the title\n",
                "select title from film\n",
                "join film_category on film.film_id = film_category.film_id\n",
                "join category on category.category_id = film_category.category_id\n",
                "where name = 'Horror'\n",
                "ORDER BY RIGHT(film.title, 1);"
            ],
            "metadata": {
                "azdata_cell_guid": "11afab40-35be-41a0-b61f-8ab37d9bfdf1",
                "language": "sql",
                "tags": []
            },
            "outputs": [
                {
                    "output_type": "display_data",
                    "data": {
                        "text/html": "(56 row(s) affected)"
                    },
                    "metadata": {}
                },
                {
                    "output_type": "display_data",
                    "data": {
                        "text/html": "Total execution time: 00:00:01.002"
                    },
                    "metadata": {}
                },
                {
                    "output_type": "execute_result",
                    "metadata": {},
                    "execution_count": 9,
                    "data": {
                        "application/vnd.dataresource+json": {
                            "schema": {
                                "fields": [
                                    {
                                        "name": "title"
                                    }
                                ]
                            },
                            "data": [
                                {
                                    "title": "ARABIA DOGMA"
                                },
                                {
                                    "title": "PANIC CLUB"
                                },
                                {
                                    "title": "TREASURE COMMAND"
                                },
                                {
                                    "title": "SWARM GOLD"
                                },
                                {
                                    "title": "PARIS WEEKEND"
                                },
                                {
                                    "title": "ZHIVAGO CORE"
                                },
                                {
                                    "title": "AFFAIR PREJUDICE"
                                },
                                {
                                    "title": "TARZAN VIDEOTAPE"
                                },
                                {
                                    "title": "REEF SALUTE"
                                },
                                {
                                    "title": "LADY STAGE"
                                },
                                {
                                    "title": "GASLIGHT CRUSADE"
                                },
                                {
                                    "title": "DRUMS DYNAMITE"
                                },
                                {
                                    "title": "ROLLERCOASTER BRINGING"
                                },
                                {
                                    "title": "MONTEREY LABYRINTH"
                                },
                                {
                                    "title": "ANYTHING SAVANNAH"
                                },
                                {
                                    "title": "CARRIE BUNCH"
                                },
                                {
                                    "title": "TRAIN BUNCH"
                                },
                                {
                                    "title": "TEXAS WATCH"
                                },
                                {
                                    "title": "SIMON NORTH"
                                },
                                {
                                    "title": "STRANGERS GRAFFITI"
                                },
                                {
                                    "title": "AIRPORT POLLOCK"
                                },
                                {
                                    "title": "FIDELITY DEVIL"
                                },
                                {
                                    "title": "ALABAMA DEVIL"
                                },
                                {
                                    "title": "REAP UNFAITHFUL"
                                },
                                {
                                    "title": "FREDDY STORM"
                                },
                                {
                                    "title": "ELEPHANT TROJAN"
                                },
                                {
                                    "title": "JAPANESE RUN"
                                },
                                {
                                    "title": "KARATE MOON"
                                },
                                {
                                    "title": "TEMPLE ATTRACTION"
                                },
                                {
                                    "title": "DESERT POSEIDON"
                                },
                                {
                                    "title": "RULES HUMAN"
                                },
                                {
                                    "title": "YENTL IDAHO"
                                },
                                {
                                    "title": "HIGH ENCINO"
                                },
                                {
                                    "title": "ACE GOLDFINGER"
                                },
                                {
                                    "title": "ARACHNOPHOBIA ROLLERCOASTER"
                                },
                                {
                                    "title": "ALI FOREVER"
                                },
                                {
                                    "title": "WATERSHIP FRONTIER"
                                },
                                {
                                    "title": "ANALYZE HOOSIERS"
                                },
                                {
                                    "title": "SINNERS ATLANTIS"
                                },
                                {
                                    "title": "SLEEPING SUSPECTS"
                                },
                                {
                                    "title": "SPIRIT FLINTSTONES"
                                },
                                {
                                    "title": "MOTIONS DETAILS"
                                },
                                {
                                    "title": "STREETCAR INTENTIONS"
                                },
                                {
                                    "title": "LOVE SUICIDES"
                                },
                                {
                                    "title": "BOWFINGER GABLES"
                                },
                                {
                                    "title": "UNDEFEATED DALMATIONS"
                                },
                                {
                                    "title": "WORLD LEATHERNECKS"
                                },
                                {
                                    "title": "EGYPT TENENBAUMS"
                                },
                                {
                                    "title": "COMMANDMENTS EXPRESS"
                                },
                                {
                                    "title": "ROCK INSTINCT"
                                },
                                {
                                    "title": "LOLA AGENT"
                                },
                                {
                                    "title": "KENTUCKIAN GIANT"
                                },
                                {
                                    "title": "FAMILY SWEET"
                                },
                                {
                                    "title": "PATTON INTERVIEW"
                                },
                                {
                                    "title": "PULP BEVERLY"
                                },
                                {
                                    "title": "BEHAVIOR RUNAWAY"
                                }
                            ]
                        },
                        "text/html": [
                            "<table>",
                            "<tr><th>title</th></tr>",
                            "<tr><td>ARABIA DOGMA</td></tr>",
                            "<tr><td>PANIC CLUB</td></tr>",
                            "<tr><td>TREASURE COMMAND</td></tr>",
                            "<tr><td>SWARM GOLD</td></tr>",
                            "<tr><td>PARIS WEEKEND</td></tr>",
                            "<tr><td>ZHIVAGO CORE</td></tr>",
                            "<tr><td>AFFAIR PREJUDICE</td></tr>",
                            "<tr><td>TARZAN VIDEOTAPE</td></tr>",
                            "<tr><td>REEF SALUTE</td></tr>",
                            "<tr><td>LADY STAGE</td></tr>",
                            "<tr><td>GASLIGHT CRUSADE</td></tr>",
                            "<tr><td>DRUMS DYNAMITE</td></tr>",
                            "<tr><td>ROLLERCOASTER BRINGING</td></tr>",
                            "<tr><td>MONTEREY LABYRINTH</td></tr>",
                            "<tr><td>ANYTHING SAVANNAH</td></tr>",
                            "<tr><td>CARRIE BUNCH</td></tr>",
                            "<tr><td>TRAIN BUNCH</td></tr>",
                            "<tr><td>TEXAS WATCH</td></tr>",
                            "<tr><td>SIMON NORTH</td></tr>",
                            "<tr><td>STRANGERS GRAFFITI</td></tr>",
                            "<tr><td>AIRPORT POLLOCK</td></tr>",
                            "<tr><td>FIDELITY DEVIL</td></tr>",
                            "<tr><td>ALABAMA DEVIL</td></tr>",
                            "<tr><td>REAP UNFAITHFUL</td></tr>",
                            "<tr><td>FREDDY STORM</td></tr>",
                            "<tr><td>ELEPHANT TROJAN</td></tr>",
                            "<tr><td>JAPANESE RUN</td></tr>",
                            "<tr><td>KARATE MOON</td></tr>",
                            "<tr><td>TEMPLE ATTRACTION</td></tr>",
                            "<tr><td>DESERT POSEIDON</td></tr>",
                            "<tr><td>RULES HUMAN</td></tr>",
                            "<tr><td>YENTL IDAHO</td></tr>",
                            "<tr><td>HIGH ENCINO</td></tr>",
                            "<tr><td>ACE GOLDFINGER</td></tr>",
                            "<tr><td>ARACHNOPHOBIA ROLLERCOASTER</td></tr>",
                            "<tr><td>ALI FOREVER</td></tr>",
                            "<tr><td>WATERSHIP FRONTIER</td></tr>",
                            "<tr><td>ANALYZE HOOSIERS</td></tr>",
                            "<tr><td>SINNERS ATLANTIS</td></tr>",
                            "<tr><td>SLEEPING SUSPECTS</td></tr>",
                            "<tr><td>SPIRIT FLINTSTONES</td></tr>",
                            "<tr><td>MOTIONS DETAILS</td></tr>",
                            "<tr><td>STREETCAR INTENTIONS</td></tr>",
                            "<tr><td>LOVE SUICIDES</td></tr>",
                            "<tr><td>BOWFINGER GABLES</td></tr>",
                            "<tr><td>UNDEFEATED DALMATIONS</td></tr>",
                            "<tr><td>WORLD LEATHERNECKS</td></tr>",
                            "<tr><td>EGYPT TENENBAUMS</td></tr>",
                            "<tr><td>COMMANDMENTS EXPRESS</td></tr>",
                            "<tr><td>ROCK INSTINCT</td></tr>",
                            "<tr><td>LOLA AGENT</td></tr>",
                            "<tr><td>KENTUCKIAN GIANT</td></tr>",
                            "<tr><td>FAMILY SWEET</td></tr>",
                            "<tr><td>PATTON INTERVIEW</td></tr>",
                            "<tr><td>PULP BEVERLY</td></tr>",
                            "<tr><td>BEHAVIOR RUNAWAY</td></tr>",
                            "</table>"
                        ]
                    }
                }
            ],
            "execution_count": 9
        },
        {
            "cell_type": "code",
            "source": [
                "-- 4. Retrieve the top 5 customers whose name starts with E and have made the highest number of rentals. Display their customer IDs and the total number of rentals they have made.\n",
                "select customer.customer_id, first_name, sum(amount) as total_rental, count(rental_id) as times_rented \n",
                "from customer\n",
                "join payment on payment.customer_id = customer.customer_id\n",
                "where first_name like 'E%'\n",
                "GROUP by customer.customer_id\n",
                "Order by times_rented desc\n",
                "limit 5;"
            ],
            "metadata": {
                "azdata_cell_guid": "a5728cc4-b9d1-4b2a-bacf-db8712d82c79",
                "language": "sql"
            },
            "outputs": [
                {
                    "output_type": "display_data",
                    "data": {
                        "text/html": "(5 row(s) affected)"
                    },
                    "metadata": {}
                },
                {
                    "output_type": "display_data",
                    "data": {
                        "text/html": "Total execution time: 00:00:01.007"
                    },
                    "metadata": {}
                },
                {
                    "output_type": "execute_result",
                    "metadata": {},
                    "execution_count": 10,
                    "data": {
                        "application/vnd.dataresource+json": {
                            "schema": {
                                "fields": [
                                    {
                                        "name": "customer_id"
                                    },
                                    {
                                        "name": "first_name"
                                    },
                                    {
                                        "name": "total_rental"
                                    },
                                    {
                                        "name": "times_rented"
                                    }
                                ]
                            },
                            "data": [
                                {
                                    "customer_id": "148",
                                    "first_name": "ELEANOR",
                                    "total_rental": "216.54",
                                    "times_rented": "46"
                                },
                                {
                                    "customer_id": "5",
                                    "first_name": "ELIZABETH",
                                    "total_rental": "144.62",
                                    "times_rented": "38"
                                },
                                {
                                    "customer_id": "198",
                                    "first_name": "ELSIE",
                                    "total_rental": "141.63",
                                    "times_rented": "37"
                                },
                                {
                                    "customer_id": "125",
                                    "first_name": "ETHEL",
                                    "total_rental": "135.68",
                                    "times_rented": "32"
                                },
                                {
                                    "customer_id": "210",
                                    "first_name": "ELLA",
                                    "total_rental": "137.69",
                                    "times_rented": "31"
                                }
                            ]
                        },
                        "text/html": [
                            "<table>",
                            "<tr><th>customer_id</th><th>first_name</th><th>total_rental</th><th>times_rented</th></tr>",
                            "<tr><td>148</td><td>ELEANOR</td><td>216.54</td><td>46</td></tr>",
                            "<tr><td>5</td><td>ELIZABETH</td><td>144.62</td><td>38</td></tr>",
                            "<tr><td>198</td><td>ELSIE</td><td>141.63</td><td>37</td></tr>",
                            "<tr><td>125</td><td>ETHEL</td><td>135.68</td><td>32</td></tr>",
                            "<tr><td>210</td><td>ELLA</td><td>137.69</td><td>31</td></tr>",
                            "</table>"
                        ]
                    }
                }
            ],
            "execution_count": 10
        },
        {
            "cell_type": "code",
            "source": [
                "-- 5. Find the total number of films available in each category, and list the categories in descending order of film count.\n",
                "select category.name, category.category_id, count(film_category.film_id) as film_count\n",
                "from film\n",
                "join film_category on film.film_id = film_category.film_id\n",
                "join category on category.category_id = film_category.category_id\n",
                "GROUP by category.category_id\n",
                "order by 3 desc"
            ],
            "metadata": {
                "azdata_cell_guid": "b796fa49-c221-478f-9a01-43b81eea090d",
                "language": "sql",
                "tags": []
            },
            "outputs": [
{
    "output_type": "display_data",
    "data": {
        "text/html": "(16 row(s) affected)"
    },
    "metadata": {}
}, {
    "output_type": "display_data",
    "data": {
        "text/html": "Total execution time: 00:00:01.005"
    },
    "metadata": {}
}, {
    "output_type": "execute_result",
    "metadata": {},
    "execution_count": 11,
    "data": {
        "application/vnd.dataresource+json": {
            "schema": {
                "fields": [
                    {
                        "name": "name"
                    },
                    {
                        "name": "category_id"
                    },
                    {
                        "name": "film_count"
                    }
                ]
            },
            "data": [
                {
                    "name": "Sports",
                    "category_id": "15",
                    "film_count": "74"
                },
                {
                    "name": "Foreign",
                    "category_id": "9",
                    "film_count": "73"
                },
                {
                    "name": "Family",
                    "category_id": "8",
                    "film_count": "69"
                },
                {
                    "name": "Documentary",
                    "category_id": "6",
                    "film_count": "68"
                },
                {
                    "name": "Animation",
                    "category_id": "2",
                    "film_count": "66"
                },
                {
                    "name": "Action",
                    "category_id": "1",
                    "film_count": "64"
                },
                {
                    "name": "New",
                    "category_id": "13",
                    "film_count": "63"
                },
                {
                    "name": "Drama",
                    "category_id": "7",
                    "film_count": "62"
                },
                {
                    "name": "Games",
                    "category_id": "10",
                    "film_count": "61"
                },
                {
                    "name": "Sci-Fi",
                    "category_id": "14",
                    "film_count": "61"
                },
                {
                    "name": "Children",
                    "category_id": "3",
                    "film_count": "60"
                },
                {
                    "name": "Comedy",
                    "category_id": "5",
                    "film_count": "58"
                },
                {
                    "name": "Classics",
                    "category_id": "4",
                    "film_count": "57"
                },
                {
                    "name": "Travel",
                    "category_id": "16",
                    "film_count": "57"
                },
                {
                    "name": "Horror",
                    "category_id": "11",
                    "film_count": "56"
                },
                {
                    "name": "Music",
                    "category_id": "12",
                    "film_count": "51"
                }
            ]
        },
        "text/html": [
            "<table>",
            "<tr><th>name</th><th>category_id</th><th>film_count</th></tr>",
            "<tr><td>Sports</td><td>15</td><td>74</td></tr>",
            "<tr><td>Foreign</td><td>9</td><td>73</td></tr>",
            "<tr><td>Family</td><td>8</td><td>69</td></tr>",
            "<tr><td>Documentary</td><td>6</td><td>68</td></tr>",
            "<tr><td>Animation</td><td>2</td><td>66</td></tr>",
            "<tr><td>Action</td><td>1</td><td>64</td></tr>",
            "<tr><td>New</td><td>13</td><td>63</td></tr>",
            "<tr><td>Drama</td><td>7</td><td>62</td></tr>",
            "<tr><td>Games</td><td>10</td><td>61</td></tr>",
            "<tr><td>Sci-Fi</td><td>14</td><td>61</td></tr>",
            "<tr><td>Children</td><td>3</td><td>60</td></tr>",
            "<tr><td>Comedy</td><td>5</td><td>58</td></tr>",
            "<tr><td>Classics</td><td>4</td><td>57</td></tr>",
            "<tr><td>Travel</td><td>16</td><td>57</td></tr>",
            "<tr><td>Horror</td><td>11</td><td>56</td></tr>",
            "<tr><td>Music</td><td>12</td><td>51</td></tr>",
            "</table>"
        ]
    }
}
],
            "execution_count": 11
        }
    ]
}