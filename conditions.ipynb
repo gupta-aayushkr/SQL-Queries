{
    "metadata": {
        "kernelspec": {
            "name": "SQL",
            "display_name": "SQL",
            "language": "sql"
        },
        "language_info": {
            "name": "sql",
            "version": ""
        }
    },
    "nbformat_minor": 2,
    "nbformat": 4,
    "cells": [
        {
            "cell_type": "code",
            "source": [
                "use sales"
            ],
            "metadata": {
                "azdata_cell_guid": "85fdc1a7-3507-49eb-a1fb-9cdc2dc5e386",
                "language": "sql"
            },
            "outputs": [
                {
                    "output_type": "display_data",
                    "data": {
                        "text/html": "Commands completed successfully"
                    },
                    "metadata": {}
                },
                {
                    "output_type": "display_data",
                    "data": {
                        "text/html": "Total execution time: 00:00:00"
                    },
                    "metadata": {}
                }
            ],
            "execution_count": 4
        },
        {
            "cell_type": "code",
            "source": [
                "select * from customers limit 5"
            ],
            "metadata": {
                "azdata_cell_guid": "3ea7e3c9-a98e-4eaa-b795-1c16d38c5938",
                "language": "sql"
            },
            "outputs": [
                {
                    "output_type": "display_data",
                    "data": {
                        "text/html": "(5 row(s) affected)"
                    },
                    "metadata": {}
                },
                {
                    "output_type": "display_data",
                    "data": {
                        "text/html": "Total execution time: 00:00:01.007"
                    },
                    "metadata": {}
                },
                {
                    "output_type": "execute_result",
                    "metadata": {},
                    "execution_count": 6,
                    "data": {
                        "application/vnd.dataresource+json": {
                            "schema": {
                                "fields": [
                                    {
                                        "name": "CID"
                                    },
                                    {
                                        "name": "FirstName"
                                    },
                                    {
                                        "name": "LastName"
                                    },
                                    {
                                        "name": "Address"
                                    },
                                    {
                                        "name": "City"
                                    },
                                    {
                                        "name": "State"
                                    },
                                    {
                                        "name": "Zip"
                                    },
                                    {
                                        "name": "email"
                                    },
                                    {
                                        "name": "phone"
                                    }
                                ]
                            },
                            "data": [
                                {
                                    "CID": "AB98",
                                    "FirstName": "Aiden",
                                    "LastName": "Berg",
                                    "Address": "11367 Maple Street",
                                    "City": "Delhi",
                                    "State": "CA",
                                    "Zip": "95315",
                                    "email": "Aiden.Berg@gmail.com",
                                    "phone": "123"
                                },
                                {
                                    "CID": "AC75",
                                    "FirstName": "Arianna",
                                    "LastName": "Cruz",
                                    "Address": "13944 Myrtle Avenue",
                                    "City": "Huntington",
                                    "State": "WV",
                                    "Zip": "25770",
                                    "email": "Arianna.Cruz@excite.com",
                                    "phone": "NULL"
                                },
                                {
                                    "CID": "AG28",
                                    "FirstName": "Alyssa",
                                    "LastName": "Gonzalez",
                                    "Address": "5062 3rd Street West",
                                    "City": "Knoxville",
                                    "State": "TN",
                                    "Zip": "37930",
                                    "email": "Alyssa.Gonzalez@excite.com",
                                    "phone": "NULL"
                                },
                                {
                                    "CID": "AG37",
                                    "FirstName": "Allison",
                                    "LastName": "Gordon",
                                    "Address": "5601 River Street",
                                    "City": "Flint",
                                    "State": "TX",
                                    "Zip": "75762",
                                    "email": "Allison.Gordon@excite.com",
                                    "phone": "NULL"
                                },
                                {
                                    "CID": "AG63",
                                    "FirstName": "Angel",
                                    "LastName": "Gay",
                                    "Address": "7114 Lake Street",
                                    "City": "Old Fort",
                                    "State": "TN",
                                    "Zip": "37362",
                                    "email": "Angel.Gay@gmail.com",
                                    "phone": "NULL"
                                }
                            ]
                        },
                        "text/html": [
                            "<table>",
                            "<tr><th>CID</th><th>FirstName</th><th>LastName</th><th>Address</th><th>City</th><th>State</th><th>Zip</th><th>email</th><th>phone</th></tr>",
                            "<tr><td>AB98</td><td>Aiden</td><td>Berg</td><td>11367 Maple Street</td><td>Delhi</td><td>CA</td><td>95315</td><td>Aiden.Berg@gmail.com</td><td>123</td></tr>",
                            "<tr><td>AC75</td><td>Arianna</td><td>Cruz</td><td>13944 Myrtle Avenue</td><td>Huntington</td><td>WV</td><td>25770</td><td>Arianna.Cruz@excite.com</td><td>NULL</td></tr>",
                            "<tr><td>AG28</td><td>Alyssa</td><td>Gonzalez</td><td>5062 3rd Street West</td><td>Knoxville</td><td>TN</td><td>37930</td><td>Alyssa.Gonzalez@excite.com</td><td>NULL</td></tr>",
                            "<tr><td>AG37</td><td>Allison</td><td>Gordon</td><td>5601 River Street</td><td>Flint</td><td>TX</td><td>75762</td><td>Allison.Gordon@excite.com</td><td>NULL</td></tr>",
                            "<tr><td>AG63</td><td>Angel</td><td>Gay</td><td>7114 Lake Street</td><td>Old Fort</td><td>TN</td><td>37362</td><td>Angel.Gay@gmail.com</td><td>NULL</td></tr>",
                            "</table>"
                        ]
                    }
                }
            ],
            "execution_count": 6
        },
        {
            "cell_type": "code",
            "source": [
                "select \n",
                "count(cid),\n",
                "state,\n",
                "if(count(cid)>=10, 'important', \"non-important\") as importance\n",
                "from customers \n",
                "group by State\n",
                "order by importance\n",
                "limit 10;"
            ],
            "metadata": {
                "azdata_cell_guid": "b25fd085-e06f-4858-be56-60129fd47d0c",
                "language": "sql"
            },
            "outputs": [
{
    "output_type": "display_data",
    "data": {
        "text/html": "Total execution time: 00:00:00.001"
    },
    "metadata": {}
}
],
            "execution_count": 55
        },
        {
            "cell_type": "code",
            "source": [
                "use sakila;"
            ],
            "metadata": {
                "azdata_cell_guid": "efd10e44-cb28-4c7e-afce-2b454f1e2ff4",
                "language": "sql"
            },
            "outputs": [
                {
                    "output_type": "display_data",
                    "data": {
                        "text/html": "Commands completed successfully"
                    },
                    "metadata": {}
                },
                {
                    "output_type": "display_data",
                    "data": {
                        "text/html": "Total execution time: 00:00:00"
                    },
                    "metadata": {}
                }
            ],
            "execution_count": 30
        },
        {
            "cell_type": "code",
            "source": [
                "show tables"
            ],
            "metadata": {
                "azdata_cell_guid": "f0f92532-1dfc-4118-bc23-fd613ee402d7",
                "language": "sql"
            },
            "outputs": [
                {
                    "output_type": "display_data",
                    "data": {
                        "text/html": "(10 row(s) affected)"
                    },
                    "metadata": {}
                },
                {
                    "output_type": "display_data",
                    "data": {
                        "text/html": "Total execution time: 00:00:01.004"
                    },
                    "metadata": {}
                },
                {
                    "output_type": "execute_result",
                    "metadata": {},
                    "execution_count": 32,
                    "data": {
                        "application/vnd.dataresource+json": {
                            "schema": {
                                "fields": [
                                    {
                                        "name": "Tables_in_sakila"
                                    }
                                ]
                            },
                            "data": [
                                {
                                    "Tables_in_sakila": "actor"
                                },
                                {
                                    "Tables_in_sakila": "address"
                                },
                                {
                                    "Tables_in_sakila": "category"
                                },
                                {
                                    "Tables_in_sakila": "city"
                                },
                                {
                                    "Tables_in_sakila": "country"
                                },
                                {
                                    "Tables_in_sakila": "customer"
                                },
                                {
                                    "Tables_in_sakila": "film"
                                },
                                {
                                    "Tables_in_sakila": "film_actor"
                                },
                                {
                                    "Tables_in_sakila": "film_category"
                                },
                                {
                                    "Tables_in_sakila": "film_text"
                                }
                            ]
                        },
                        "text/html": [
                            "<table>",
                            "<tr><th>Tables_in_sakila</th></tr>",
                            "<tr><td>actor</td></tr>",
                            "<tr><td>address</td></tr>",
                            "<tr><td>category</td></tr>",
                            "<tr><td>city</td></tr>",
                            "<tr><td>country</td></tr>",
                            "<tr><td>customer</td></tr>",
                            "<tr><td>film</td></tr>",
                            "<tr><td>film_actor</td></tr>",
                            "<tr><td>film_category</td></tr>",
                            "<tr><td>film_text</td></tr>",
                            "</table>"
                        ]
                    }
                }
            ],
            "execution_count": 32
        },
        {
            "cell_type": "markdown",
            "source": [
                "IF STATEMENT - if(conditions, true, false)"
            ],
            "metadata": {
                "language": "sql",
                "azdata_cell_guid": "4ca99c6b-4370-451c-b60d-2c814179cec9"
            },
            "attachments": {}
        },
        {
            "cell_type": "code",
            "source": [
                "select title, length,\n",
                "if (length>90, \"long\",\"short\") as category\n",
                "from film limit 10"
            ],
            "metadata": {
                "azdata_cell_guid": "91164eaf-63fc-4a81-864a-3741ca642450",
                "language": "sql"
            },
            "outputs": [
                {
                    "output_type": "display_data",
                    "data": {
                        "text/html": "(10 row(s) affected)"
                    },
                    "metadata": {}
                },
                {
                    "output_type": "display_data",
                    "data": {
                        "text/html": "Total execution time: 00:00:01.004"
                    },
                    "metadata": {}
                },
                {
                    "output_type": "execute_result",
                    "metadata": {},
                    "execution_count": 38,
                    "data": {
                        "application/vnd.dataresource+json": {
                            "schema": {
                                "fields": [
                                    {
                                        "name": "title"
                                    },
                                    {
                                        "name": "length"
                                    },
                                    {
                                        "name": "category"
                                    }
                                ]
                            },
                            "data": [
                                {
                                    "title": "ACADEMY DINOSAUR",
                                    "length": "86",
                                    "category": "short"
                                },
                                {
                                    "title": "ACE GOLDFINGER",
                                    "length": "48",
                                    "category": "short"
                                },
                                {
                                    "title": "ADAPTATION HOLES",
                                    "length": "50",
                                    "category": "short"
                                },
                                {
                                    "title": "AFFAIR PREJUDICE",
                                    "length": "117",
                                    "category": "long"
                                },
                                {
                                    "title": "AFRICAN EGG",
                                    "length": "130",
                                    "category": "long"
                                },
                                {
                                    "title": "AGENT TRUMAN",
                                    "length": "169",
                                    "category": "long"
                                },
                                {
                                    "title": "AIRPLANE SIERRA",
                                    "length": "62",
                                    "category": "short"
                                },
                                {
                                    "title": "AIRPORT POLLOCK",
                                    "length": "54",
                                    "category": "short"
                                },
                                {
                                    "title": "ALABAMA DEVIL",
                                    "length": "114",
                                    "category": "long"
                                },
                                {
                                    "title": "ALADDIN CALENDAR",
                                    "length": "63",
                                    "category": "short"
                                }
                            ]
                        },
                        "text/html": [
                            "<table>",
                            "<tr><th>title</th><th>length</th><th>category</th></tr>",
                            "<tr><td>ACADEMY DINOSAUR</td><td>86</td><td>short</td></tr>",
                            "<tr><td>ACE GOLDFINGER</td><td>48</td><td>short</td></tr>",
                            "<tr><td>ADAPTATION HOLES</td><td>50</td><td>short</td></tr>",
                            "<tr><td>AFFAIR PREJUDICE</td><td>117</td><td>long</td></tr>",
                            "<tr><td>AFRICAN EGG</td><td>130</td><td>long</td></tr>",
                            "<tr><td>AGENT TRUMAN</td><td>169</td><td>long</td></tr>",
                            "<tr><td>AIRPLANE SIERRA</td><td>62</td><td>short</td></tr>",
                            "<tr><td>AIRPORT POLLOCK</td><td>54</td><td>short</td></tr>",
                            "<tr><td>ALABAMA DEVIL</td><td>114</td><td>long</td></tr>",
                            "<tr><td>ALADDIN CALENDAR</td><td>63</td><td>short</td></tr>",
                            "</table>"
                        ]
                    }
                }
            ],
            "execution_count": 38
        },
        {
            "cell_type": "markdown",
            "source": [
                "### **WHEN STATEMENT**\n",
                "\n",
                "case\n",
                "\n",
                "when then\n",
                "\n",
                "when then \n",
                "\n",
                "end"
            ],
            "metadata": {
                "language": "sql",
                "azdata_cell_guid": "95d71301-bb41-4041-8b42-4dc8893967bd"
            },
            "attachments": {}
        },
        {
            "cell_type": "code",
            "source": [
                "select \n",
                "CASE\n",
                "when length <= 60 then 'short movie'\n",
                "when length <= 90 then 'normal movie'\n",
                "when length <= 120 then 'long movie'\n",
                "else 'extra long movie'\n",
                "END as movie_length,\n",
                "count(film_id) as no_of_movies\n",
                "from film\n",
                "GROUP by 1;"
            ],
            "metadata": {
                "azdata_cell_guid": "5f9a9bb9-39a0-49fc-afb1-727392c55a4d",
                "language": "sql",
                "tags": []
            },
            "outputs": [
                {
                    "output_type": "display_data",
                    "data": {
                        "text/html": "(4 row(s) affected)"
                    },
                    "metadata": {}
                },
                {
                    "output_type": "display_data",
                    "data": {
                        "text/html": "Total execution time: 00:00:01.006"
                    },
                    "metadata": {}
                },
                {
                    "output_type": "execute_result",
                    "metadata": {},
                    "execution_count": 54,
                    "data": {
                        "application/vnd.dataresource+json": {
                            "schema": {
                                "fields": [
                                    {
                                        "name": "movie_length"
                                    },
                                    {
                                        "name": "no_of_movies"
                                    }
                                ]
                            },
                            "data": [
                                {
                                    "movie_length": "normal movie",
                                    "no_of_movies": "221"
                                },
                                {
                                    "movie_length": "short movie",
                                    "no_of_movies": "104"
                                },
                                {
                                    "movie_length": "long movie",
                                    "no_of_movies": "218"
                                },
                                {
                                    "movie_length": "extra long movie",
                                    "no_of_movies": "457"
                                }
                            ]
                        },
                        "text/html": [
                            "<table>",
                            "<tr><th>movie_length</th><th>no_of_movies</th></tr>",
                            "<tr><td>normal movie</td><td>221</td></tr>",
                            "<tr><td>short movie</td><td>104</td></tr>",
                            "<tr><td>long movie</td><td>218</td></tr>",
                            "<tr><td>extra long movie</td><td>457</td></tr>",
                            "</table>"
                        ]
                    }
                }
            ],
            "execution_count": 54
        }
    ]
}